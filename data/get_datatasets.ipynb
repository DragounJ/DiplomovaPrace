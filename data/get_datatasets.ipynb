{
 "cells": [
  {
   "cell_type": "code",
   "execution_count": 1,
   "metadata": {},
   "outputs": [],
   "source": [
    "from datasets import load_dataset\n",
    "from torchvision import datasets\n",
    "import os"
   ]
  },
  {
   "cell_type": "code",
   "execution_count": 2,
   "metadata": {},
   "outputs": [
    {
     "name": "stdout",
     "output_type": "stream",
     "text": [
      "Downloading https://www.cs.toronto.edu/~kriz/cifar-10-python.tar.gz to /home/jovyan/data/10/cifar-10-python.tar.gz\n"
     ]
    },
    {
     "name": "stderr",
     "output_type": "stream",
     "text": [
      "100%|██████████| 170M/170M [00:06<00:00, 25.1MB/s] \n"
     ]
    },
    {
     "name": "stdout",
     "output_type": "stream",
     "text": [
      "Extracting /home/jovyan/data/10/cifar-10-python.tar.gz to /home/jovyan/data/10\n"
     ]
    },
    {
     "data": {
      "text/plain": [
       "Dataset CIFAR10\n",
       "    Number of datapoints: 50000\n",
       "    Root location: /home/jovyan/data/10\n",
       "    Split: Train"
      ]
     },
     "execution_count": 2,
     "metadata": {},
     "output_type": "execute_result"
    }
   ],
   "source": [
    "datasets.CIFAR10(root='~/data/10', download=True)"
   ]
  },
  {
   "cell_type": "code",
   "execution_count": 3,
   "metadata": {},
   "outputs": [
    {
     "name": "stdout",
     "output_type": "stream",
     "text": [
      "Downloading https://www.cs.toronto.edu/~kriz/cifar-100-python.tar.gz to /home/jovyan/data/100/cifar-100-python.tar.gz\n"
     ]
    },
    {
     "name": "stderr",
     "output_type": "stream",
     "text": [
      "100%|██████████| 169M/169M [00:06<00:00, 25.0MB/s] \n"
     ]
    },
    {
     "name": "stdout",
     "output_type": "stream",
     "text": [
      "Extracting /home/jovyan/data/100/cifar-100-python.tar.gz to /home/jovyan/data/100\n"
     ]
    },
    {
     "data": {
      "text/plain": [
       "Dataset CIFAR100\n",
       "    Number of datapoints: 50000\n",
       "    Root location: /home/jovyan/data/100\n",
       "    Split: Train"
      ]
     },
     "execution_count": 3,
     "metadata": {},
     "output_type": "execute_result"
    }
   ],
   "source": [
    "datasets.CIFAR100(root='~/data/100', download=True)"
   ]
  },
  {
   "cell_type": "code",
   "execution_count": 4,
   "metadata": {},
   "outputs": [
    {
     "data": {
      "application/vnd.jupyter.widget-view+json": {
       "model_id": "a1e64c9b300f4ec4978b14a0667e9918",
       "version_major": 2,
       "version_minor": 0
      },
      "text/plain": [
       "README.md:   0%|          | 0.00/5.27k [00:00<?, ?B/s]"
      ]
     },
     "metadata": {},
     "output_type": "display_data"
    },
    {
     "data": {
      "application/vnd.jupyter.widget-view+json": {
       "model_id": "2377b370318a41d6afe81cbd67dd3b11",
       "version_major": 2,
       "version_minor": 0
      },
      "text/plain": [
       "train-00000-of-00001.parquet:   0%|          | 0.00/3.11M [00:00<?, ?B/s]"
      ]
     },
     "metadata": {},
     "output_type": "display_data"
    },
    {
     "data": {
      "application/vnd.jupyter.widget-view+json": {
       "model_id": "6f54c023ec774c4d86b39113e1deec72",
       "version_major": 2,
       "version_minor": 0
      },
      "text/plain": [
       "validation-00000-of-00001.parquet:   0%|          | 0.00/72.8k [00:00<?, ?B/s]"
      ]
     },
     "metadata": {},
     "output_type": "display_data"
    },
    {
     "data": {
      "application/vnd.jupyter.widget-view+json": {
       "model_id": "dccf03d11d694b76b8431755f36c2ba1",
       "version_major": 2,
       "version_minor": 0
      },
      "text/plain": [
       "test-00000-of-00001.parquet:   0%|          | 0.00/148k [00:00<?, ?B/s]"
      ]
     },
     "metadata": {},
     "output_type": "display_data"
    },
    {
     "data": {
      "application/vnd.jupyter.widget-view+json": {
       "model_id": "5b8b712c5a9a4c00979c4559e89c4090",
       "version_major": 2,
       "version_minor": 0
      },
      "text/plain": [
       "Generating train split:   0%|          | 0/67349 [00:00<?, ? examples/s]"
      ]
     },
     "metadata": {},
     "output_type": "display_data"
    },
    {
     "data": {
      "application/vnd.jupyter.widget-view+json": {
       "model_id": "5cd75e2298814941a0e69e293d2568dc",
       "version_major": 2,
       "version_minor": 0
      },
      "text/plain": [
       "Generating validation split:   0%|          | 0/872 [00:00<?, ? examples/s]"
      ]
     },
     "metadata": {},
     "output_type": "display_data"
    },
    {
     "data": {
      "application/vnd.jupyter.widget-view+json": {
       "model_id": "5260ade0c8b24380a66a7ceb1a4ab300",
       "version_major": 2,
       "version_minor": 0
      },
      "text/plain": [
       "Generating test split:   0%|          | 0/1821 [00:00<?, ? examples/s]"
      ]
     },
     "metadata": {},
     "output_type": "display_data"
    }
   ],
   "source": [
    "sst2_train = load_dataset('stanfordnlp/sst2', split='train')\n",
    "sst2_eval = load_dataset('stanfordnlp/sst2', split='validation')\n",
    "sst2_test_blank = load_dataset('stanfordnlp/sst2', split='test')"
   ]
  },
  {
   "cell_type": "code",
   "execution_count": 5,
   "metadata": {},
   "outputs": [],
   "source": [
    "data = sst2_train.train_test_split(test_size=0.2, seed=42, stratify_by_column='label')"
   ]
  },
  {
   "cell_type": "code",
   "execution_count": 6,
   "metadata": {},
   "outputs": [],
   "source": [
    "sst2_train = data['train']\n",
    "sst2_test = data['test']"
   ]
  },
  {
   "cell_type": "code",
   "execution_count": 7,
   "metadata": {},
   "outputs": [
    {
     "data": {
      "application/vnd.jupyter.widget-view+json": {
       "model_id": "889ee9cd91974f4dbe0171956bd82374",
       "version_major": 2,
       "version_minor": 0
      },
      "text/plain": [
       "Saving the dataset (0/1 shards):   0%|          | 0/53879 [00:00<?, ? examples/s]"
      ]
     },
     "metadata": {},
     "output_type": "display_data"
    },
    {
     "data": {
      "application/vnd.jupyter.widget-view+json": {
       "model_id": "4b480f7ccf4145fe9459de267a43a1d7",
       "version_major": 2,
       "version_minor": 0
      },
      "text/plain": [
       "Saving the dataset (0/1 shards):   0%|          | 0/872 [00:00<?, ? examples/s]"
      ]
     },
     "metadata": {},
     "output_type": "display_data"
    },
    {
     "data": {
      "application/vnd.jupyter.widget-view+json": {
       "model_id": "4e61e0f6c17b42838893617aa63084de",
       "version_major": 2,
       "version_minor": 0
      },
      "text/plain": [
       "Saving the dataset (0/1 shards):   0%|          | 0/13470 [00:00<?, ? examples/s]"
      ]
     },
     "metadata": {},
     "output_type": "display_data"
    },
    {
     "data": {
      "application/vnd.jupyter.widget-view+json": {
       "model_id": "0a51e36808c242b694f6990002626f13",
       "version_major": 2,
       "version_minor": 0
      },
      "text/plain": [
       "Saving the dataset (0/1 shards):   0%|          | 0/1821 [00:00<?, ? examples/s]"
      ]
     },
     "metadata": {},
     "output_type": "display_data"
    }
   ],
   "source": [
    "sst2_train.save_to_disk(\"~/data/sst2/train\")\n",
    "sst2_eval.save_to_disk(\"~/data/sst2/eval\")\n",
    "sst2_test.save_to_disk(\"~/data/sst2/test\")\n",
    "\n",
    "sst2_test_blank.save_to_disk(\"~/data/sst2/test-blank\")"
   ]
  },
  {
   "cell_type": "code",
   "execution_count": 8,
   "metadata": {},
   "outputs": [
    {
     "data": {
      "application/vnd.jupyter.widget-view+json": {
       "model_id": "f4abb69786604ea6be3aef5f00a9149d",
       "version_major": 2,
       "version_minor": 0
      },
      "text/plain": [
       "README.md:   0%|          | 0.00/7.64k [00:00<?, ?B/s]"
      ]
     },
     "metadata": {},
     "output_type": "display_data"
    },
    {
     "data": {
      "application/vnd.jupyter.widget-view+json": {
       "model_id": "20e934fa5ce44e4080f2e8a3bff2408d",
       "version_major": 2,
       "version_minor": 0
      },
      "text/plain": [
       "train-00000-of-00001.parquet:   0%|          | 0.00/106M [00:00<?, ?B/s]"
      ]
     },
     "metadata": {},
     "output_type": "display_data"
    },
    {
     "data": {
      "application/vnd.jupyter.widget-view+json": {
       "model_id": "9b3c526d6eeb474691723c4fb37ab931",
       "version_major": 2,
       "version_minor": 0
      },
      "text/plain": [
       "test-00000-of-00001.parquet:   0%|          | 0.00/13.3M [00:00<?, ?B/s]"
      ]
     },
     "metadata": {},
     "output_type": "display_data"
    },
    {
     "data": {
      "application/vnd.jupyter.widget-view+json": {
       "model_id": "3d77abd3096c4847abf67dfd273755ad",
       "version_major": 2,
       "version_minor": 0
      },
      "text/plain": [
       "Generating train split:   0%|          | 0/560000 [00:00<?, ? examples/s]"
      ]
     },
     "metadata": {},
     "output_type": "display_data"
    },
    {
     "data": {
      "application/vnd.jupyter.widget-view+json": {
       "model_id": "9f835b652bfe4a9aabbde168037ac4ed",
       "version_major": 2,
       "version_minor": 0
      },
      "text/plain": [
       "Generating test split:   0%|          | 0/70000 [00:00<?, ? examples/s]"
      ]
     },
     "metadata": {},
     "output_type": "display_data"
    }
   ],
   "source": [
    "dbpedia_train = load_dataset(\"fancyzhx/dbpedia_14\", split='train')\n",
    "dbpedia_test = load_dataset(\"fancyzhx/dbpedia_14\", split='test') \n",
    "data = dbpedia_train.train_test_split(test_size=0.2, seed=42, stratify_by_column='label')"
   ]
  },
  {
   "cell_type": "code",
   "execution_count": 9,
   "metadata": {},
   "outputs": [],
   "source": [
    "dbpedia_train = data['train']\n",
    "dbpedia_eval = data['test']\n",
    "\n",
    "dbpedia_train = dbpedia_train.rename_column(\"content\", \"sentence\")\n",
    "dbpedia_train = dbpedia_train.remove_columns([\"title\"])\n",
    "\n",
    "dbpedia_eval = dbpedia_eval.rename_column(\"content\", \"sentence\")\n",
    "dbpedia_eval = dbpedia_eval.remove_columns([\"title\"])\n",
    "\n",
    "dbpedia_test = dbpedia_test.rename_column(\"content\", \"sentence\")\n",
    "dbpedia_test = dbpedia_test.remove_columns([\"title\"])"
   ]
  },
  {
   "cell_type": "code",
   "execution_count": 10,
   "metadata": {},
   "outputs": [
    {
     "data": {
      "application/vnd.jupyter.widget-view+json": {
       "model_id": "250b569550514c158e9495d1db91d74d",
       "version_major": 2,
       "version_minor": 0
      },
      "text/plain": [
       "Saving the dataset (0/1 shards):   0%|          | 0/448000 [00:00<?, ? examples/s]"
      ]
     },
     "metadata": {},
     "output_type": "display_data"
    },
    {
     "data": {
      "application/vnd.jupyter.widget-view+json": {
       "model_id": "74728e3ca45947f7a38f23fd4a9675db",
       "version_major": 2,
       "version_minor": 0
      },
      "text/plain": [
       "Saving the dataset (0/1 shards):   0%|          | 0/112000 [00:00<?, ? examples/s]"
      ]
     },
     "metadata": {},
     "output_type": "display_data"
    },
    {
     "data": {
      "application/vnd.jupyter.widget-view+json": {
       "model_id": "de4a4a8276fb412789251346362f50e3",
       "version_major": 2,
       "version_minor": 0
      },
      "text/plain": [
       "Saving the dataset (0/1 shards):   0%|          | 0/70000 [00:00<?, ? examples/s]"
      ]
     },
     "metadata": {},
     "output_type": "display_data"
    }
   ],
   "source": [
    "dbpedia_train.save_to_disk(\"~/data/dbpedia/train\")\n",
    "dbpedia_eval.save_to_disk(\"~/data/dbpedia/eval\")\n",
    "dbpedia_test.save_to_disk(\"~/data/dbpedia/test\")"
   ]
  },
  {
   "cell_type": "code",
   "execution_count": 11,
   "metadata": {},
   "outputs": [
    {
     "data": {
      "application/vnd.jupyter.widget-view+json": {
       "model_id": "7b7907f00e8a48cd98b5e288ee13ca74",
       "version_major": 2,
       "version_minor": 0
      },
      "text/plain": [
       "README.md:   0%|          | 0.00/10.6k [00:00<?, ?B/s]"
      ]
     },
     "metadata": {},
     "output_type": "display_data"
    },
    {
     "data": {
      "application/vnd.jupyter.widget-view+json": {
       "model_id": "e7810e45705d428692a0e8a83441bcf6",
       "version_major": 2,
       "version_minor": 0
      },
      "text/plain": [
       "trec.py:   0%|          | 0.00/5.09k [00:00<?, ?B/s]"
      ]
     },
     "metadata": {},
     "output_type": "display_data"
    },
    {
     "data": {
      "application/vnd.jupyter.widget-view+json": {
       "model_id": "7345322396ef4a07a7a7c575683d85c3",
       "version_major": 2,
       "version_minor": 0
      },
      "text/plain": [
       "Downloading data:   0%|          | 0.00/336k [00:00<?, ?B/s]"
      ]
     },
     "metadata": {},
     "output_type": "display_data"
    },
    {
     "data": {
      "application/vnd.jupyter.widget-view+json": {
       "model_id": "06abbc947a324fca83fa33b50cbaa62c",
       "version_major": 2,
       "version_minor": 0
      },
      "text/plain": [
       "Downloading data:   0%|          | 0.00/23.4k [00:00<?, ?B/s]"
      ]
     },
     "metadata": {},
     "output_type": "display_data"
    },
    {
     "data": {
      "application/vnd.jupyter.widget-view+json": {
       "model_id": "f505cabd72354382ba79ee86016dc7a8",
       "version_major": 2,
       "version_minor": 0
      },
      "text/plain": [
       "Generating train split:   0%|          | 0/5452 [00:00<?, ? examples/s]"
      ]
     },
     "metadata": {},
     "output_type": "display_data"
    },
    {
     "data": {
      "application/vnd.jupyter.widget-view+json": {
       "model_id": "88d32462cfdc4714936f6da975cec247",
       "version_major": 2,
       "version_minor": 0
      },
      "text/plain": [
       "Generating test split:   0%|          | 0/500 [00:00<?, ? examples/s]"
      ]
     },
     "metadata": {},
     "output_type": "display_data"
    }
   ],
   "source": [
    "trec_train_coarse = load_dataset(\"CogComp/trec\", split='train') \n",
    "trec_test_coarse = load_dataset(\"CogComp/trec\", split='test') \n",
    "\n",
    "data = trec_train_coarse.train_test_split(test_size=0.2, seed=42, stratify_by_column='coarse_label')"
   ]
  },
  {
   "cell_type": "code",
   "execution_count": 12,
   "metadata": {},
   "outputs": [],
   "source": [
    "trec_train_coarse = data['train']\n",
    "trec_eval_coarse = data['test']\n",
    "\n",
    "trec_train_coarse = trec_train_coarse.rename_column(\"text\", \"sentence\")\n",
    "trec_train_coarse = trec_train_coarse.rename_column(\"coarse_label\", \"label\")\n",
    "trec_train_coarse = trec_train_coarse.remove_columns([\"fine_label\"])\n",
    "\n",
    "trec_eval_coarse = trec_eval_coarse.rename_column(\"text\", \"sentence\")\n",
    "trec_eval_coarse = trec_eval_coarse.rename_column(\"coarse_label\", \"label\")\n",
    "trec_eval_coarse = trec_eval_coarse.remove_columns([\"fine_label\"])\n",
    "\n",
    "trec_test_coarse = trec_test_coarse.rename_column(\"text\", \"sentence\")\n",
    "trec_test_coarse = trec_test_coarse.rename_column(\"coarse_label\", \"label\")\n",
    "trec_test_coarse = trec_test_coarse.remove_columns([\"fine_label\"])"
   ]
  },
  {
   "cell_type": "code",
   "execution_count": 13,
   "metadata": {},
   "outputs": [
    {
     "data": {
      "application/vnd.jupyter.widget-view+json": {
       "model_id": "001313c64bd54f1c886150b93db52513",
       "version_major": 2,
       "version_minor": 0
      },
      "text/plain": [
       "Saving the dataset (0/1 shards):   0%|          | 0/4361 [00:00<?, ? examples/s]"
      ]
     },
     "metadata": {},
     "output_type": "display_data"
    },
    {
     "data": {
      "application/vnd.jupyter.widget-view+json": {
       "model_id": "8271ff35ddf64e56826efd1d38c46c62",
       "version_major": 2,
       "version_minor": 0
      },
      "text/plain": [
       "Saving the dataset (0/1 shards):   0%|          | 0/1091 [00:00<?, ? examples/s]"
      ]
     },
     "metadata": {},
     "output_type": "display_data"
    },
    {
     "data": {
      "application/vnd.jupyter.widget-view+json": {
       "model_id": "1ac40d3130b34d51bfb37f6001a9724b",
       "version_major": 2,
       "version_minor": 0
      },
      "text/plain": [
       "Saving the dataset (0/1 shards):   0%|          | 0/500 [00:00<?, ? examples/s]"
      ]
     },
     "metadata": {},
     "output_type": "display_data"
    }
   ],
   "source": [
    "trec_train_coarse.save_to_disk(\"~/data/trec/train_coarse\")\n",
    "trec_eval_coarse.save_to_disk(\"~/data/trec/eval_coarse\")\n",
    "trec_test_coarse.save_to_disk(\"~/data/trec/test_coarse\")"
   ]
  },
  {
   "cell_type": "code",
   "execution_count": 14,
   "metadata": {},
   "outputs": [],
   "source": [
    "trec_train_coarse = load_dataset(\"CogComp/trec\", split='train') \n",
    "trec_test_coarse = load_dataset(\"CogComp/trec\", split='test') \n",
    "\n",
    "data = trec_train_coarse.train_test_split(test_size=0.2, seed=42, stratify_by_column='fine_label')"
   ]
  },
  {
   "cell_type": "code",
   "execution_count": 15,
   "metadata": {},
   "outputs": [],
   "source": [
    "trec_train_coarse = data['train']\n",
    "trec_eval_coarse = data['test']\n",
    "\n",
    "trec_train_coarse = trec_train_coarse.rename_column(\"text\", \"sentence\")\n",
    "trec_train_coarse = trec_train_coarse.rename_column(\"fine_label\", \"label\")\n",
    "trec_train_coarse = trec_train_coarse.remove_columns([\"coarse_label\"])\n",
    "\n",
    "trec_eval_coarse = trec_eval_coarse.rename_column(\"text\", \"sentence\")\n",
    "trec_eval_coarse = trec_eval_coarse.rename_column(\"fine_label\", \"label\")\n",
    "trec_eval_coarse = trec_eval_coarse.remove_columns([\"coarse_label\"])\n",
    "\n",
    "trec_test_coarse = trec_test_coarse.rename_column(\"text\", \"sentence\")\n",
    "trec_test_coarse = trec_test_coarse.rename_column(\"fine_label\", \"label\")\n",
    "trec_test_coarse = trec_test_coarse.remove_columns([\"coarse_label\"])"
   ]
  },
  {
   "cell_type": "code",
   "execution_count": 16,
   "metadata": {},
   "outputs": [
    {
     "data": {
      "application/vnd.jupyter.widget-view+json": {
       "model_id": "1547da02696a4d0fa80abf4053885772",
       "version_major": 2,
       "version_minor": 0
      },
      "text/plain": [
       "Saving the dataset (0/1 shards):   0%|          | 0/4361 [00:00<?, ? examples/s]"
      ]
     },
     "metadata": {},
     "output_type": "display_data"
    },
    {
     "data": {
      "application/vnd.jupyter.widget-view+json": {
       "model_id": "048e5de8b6d345c6a2ecbad958713ff6",
       "version_major": 2,
       "version_minor": 0
      },
      "text/plain": [
       "Saving the dataset (0/1 shards):   0%|          | 0/1091 [00:00<?, ? examples/s]"
      ]
     },
     "metadata": {},
     "output_type": "display_data"
    },
    {
     "data": {
      "application/vnd.jupyter.widget-view+json": {
       "model_id": "c5919bdc6e80473299492f457d6e7633",
       "version_major": 2,
       "version_minor": 0
      },
      "text/plain": [
       "Saving the dataset (0/1 shards):   0%|          | 0/500 [00:00<?, ? examples/s]"
      ]
     },
     "metadata": {},
     "output_type": "display_data"
    }
   ],
   "source": [
    "trec_train_coarse.save_to_disk(\"~/data/trec/train_fine\")\n",
    "trec_eval_coarse.save_to_disk(\"~/data/trec/eval_fine\")\n",
    "trec_test_coarse.save_to_disk(\"~/data/trec/test_fine\")"
   ]
  },
  {
   "cell_type": "code",
   "execution_count": null,
   "metadata": {},
   "outputs": [],
   "source": [
    "try:\n",
    "    os.mkdir(f\"{os.path.expanduser('~')}/models\")\n",
    "    os.mkdir(f\"{os.path.expanduser('~')}/models/cifar10/\")\n",
    "    os.mkdir(f\"{os.path.expanduser('~')}/models/cifar100/\")\n",
    "    os.mkdir(f\"{os.path.expanduser('~')}/models/sst2/\")\n",
    "    os.mkdir(f\"{os.path.expanduser('~')}/models/dbpedia/\")\n",
    "    os.mkdir(f\"{os.path.expanduser('~')}/models/trec/\")\n",
    "except:\n",
    "    print(\"Folder structure has been already created!\")"
   ]
  },
  {
   "cell_type": "code",
   "execution_count": null,
   "metadata": {},
   "outputs": [],
   "source": [
    "try:\n",
    "    os.mkdir(f\"{os.path.expanduser('~')}/data/10-logits/\")\n",
    "    os.mkdir(f\"{os.path.expanduser('~')}/data/10-logits/cifar-10-batches-py/\")\n",
    "    os.mkdir(f\"{os.path.expanduser('~')}/data/100-logits/\")\n",
    "    os.mkdir(f\"{os.path.expanduser('~')}/data/100-logits/cifar-100-python/\")\n",
    "except:\n",
    "    print(\"Folder structure has been already created!\")"
   ]
  },
  {
   "cell_type": "code",
   "execution_count": null,
   "metadata": {},
   "outputs": [],
   "source": []
  }
 ],
 "metadata": {
  "kernelspec": {
   "display_name": "Python 3 (ipykernel)",
   "language": "python",
   "name": "python3"
  }
 },
 "nbformat": 4,
 "nbformat_minor": 2
}
