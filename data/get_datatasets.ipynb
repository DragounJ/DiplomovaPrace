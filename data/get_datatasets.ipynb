{
 "cells": [
  {
   "cell_type": "code",
   "execution_count": 1,
   "metadata": {},
   "outputs": [],
   "source": [
    "from datasets import load_dataset\n",
    "from torchvision import datasets\n",
    "import os"
   ]
  },
  {
   "cell_type": "code",
   "execution_count": 2,
   "metadata": {},
   "outputs": [
    {
     "name": "stdout",
     "output_type": "stream",
     "text": [
      "Downloading https://www.cs.toronto.edu/~kriz/cifar-10-python.tar.gz to /home/jovyan/data/10/cifar-10-python.tar.gz\n"
     ]
    },
    {
     "name": "stderr",
     "output_type": "stream",
     "text": [
      "100%|██████████| 170M/170M [00:06<00:00, 24.4MB/s] \n"
     ]
    },
    {
     "name": "stdout",
     "output_type": "stream",
     "text": [
      "Extracting /home/jovyan/data/10/cifar-10-python.tar.gz to /home/jovyan/data/10\n"
     ]
    },
    {
     "data": {
      "text/plain": [
       "Dataset CIFAR10\n",
       "    Number of datapoints: 50000\n",
       "    Root location: /home/jovyan/data/10\n",
       "    Split: Train"
      ]
     },
     "execution_count": 2,
     "metadata": {},
     "output_type": "execute_result"
    }
   ],
   "source": [
    "datasets.CIFAR10(root='~/data/10', download=True)"
   ]
  },
  {
   "cell_type": "code",
   "execution_count": 3,
   "metadata": {},
   "outputs": [
    {
     "name": "stdout",
     "output_type": "stream",
     "text": [
      "Downloading https://www.cs.toronto.edu/~kriz/cifar-100-python.tar.gz to /home/jovyan/data/100/cifar-100-python.tar.gz\n"
     ]
    },
    {
     "name": "stderr",
     "output_type": "stream",
     "text": [
      "100%|██████████| 169M/169M [00:07<00:00, 23.5MB/s] \n"
     ]
    },
    {
     "name": "stdout",
     "output_type": "stream",
     "text": [
      "Extracting /home/jovyan/data/100/cifar-100-python.tar.gz to /home/jovyan/data/100\n"
     ]
    },
    {
     "data": {
      "text/plain": [
       "Dataset CIFAR100\n",
       "    Number of datapoints: 50000\n",
       "    Root location: /home/jovyan/data/100\n",
       "    Split: Train"
      ]
     },
     "execution_count": 3,
     "metadata": {},
     "output_type": "execute_result"
    }
   ],
   "source": [
    "datasets.CIFAR100(root='~/data/100', download=True)"
   ]
  },
  {
   "cell_type": "code",
   "execution_count": 4,
   "metadata": {},
   "outputs": [
    {
     "data": {
      "application/vnd.jupyter.widget-view+json": {
       "model_id": "8bb32e320e874d9995878be6b0957a28",
       "version_major": 2,
       "version_minor": 0
      },
      "text/plain": [
       "README.md:   0%|          | 0.00/5.27k [00:00<?, ?B/s]"
      ]
     },
     "metadata": {},
     "output_type": "display_data"
    },
    {
     "data": {
      "application/vnd.jupyter.widget-view+json": {
       "model_id": "dbf3b32cadc84f65af61fc88450b5580",
       "version_major": 2,
       "version_minor": 0
      },
      "text/plain": [
       "train-00000-of-00001.parquet:   0%|          | 0.00/3.11M [00:00<?, ?B/s]"
      ]
     },
     "metadata": {},
     "output_type": "display_data"
    },
    {
     "data": {
      "application/vnd.jupyter.widget-view+json": {
       "model_id": "444a99e9d3414faeb5c9d9cdb00e45c4",
       "version_major": 2,
       "version_minor": 0
      },
      "text/plain": [
       "validation-00000-of-00001.parquet:   0%|          | 0.00/72.8k [00:00<?, ?B/s]"
      ]
     },
     "metadata": {},
     "output_type": "display_data"
    },
    {
     "data": {
      "application/vnd.jupyter.widget-view+json": {
       "model_id": "59f71e8118db44389c6ab02590c79b07",
       "version_major": 2,
       "version_minor": 0
      },
      "text/plain": [
       "test-00000-of-00001.parquet:   0%|          | 0.00/148k [00:00<?, ?B/s]"
      ]
     },
     "metadata": {},
     "output_type": "display_data"
    },
    {
     "data": {
      "application/vnd.jupyter.widget-view+json": {
       "model_id": "f539e228c4b94b648cbba16a307d8c45",
       "version_major": 2,
       "version_minor": 0
      },
      "text/plain": [
       "Generating train split:   0%|          | 0/67349 [00:00<?, ? examples/s]"
      ]
     },
     "metadata": {},
     "output_type": "display_data"
    },
    {
     "data": {
      "application/vnd.jupyter.widget-view+json": {
       "model_id": "29a5ee77f4ea4a0485e56f534fa71e43",
       "version_major": 2,
       "version_minor": 0
      },
      "text/plain": [
       "Generating validation split:   0%|          | 0/872 [00:00<?, ? examples/s]"
      ]
     },
     "metadata": {},
     "output_type": "display_data"
    },
    {
     "data": {
      "application/vnd.jupyter.widget-view+json": {
       "model_id": "5a216727b10246e7a4701a47b668311e",
       "version_major": 2,
       "version_minor": 0
      },
      "text/plain": [
       "Generating test split:   0%|          | 0/1821 [00:00<?, ? examples/s]"
      ]
     },
     "metadata": {},
     "output_type": "display_data"
    }
   ],
   "source": [
    "sst2_train = load_dataset('stanfordnlp/sst2', split='train')\n",
    "sst2_eval = load_dataset('stanfordnlp/sst2', split='validation')\n",
    "sst2_test_blank = load_dataset('stanfordnlp/sst2', split='test')"
   ]
  },
  {
   "cell_type": "code",
   "execution_count": 5,
   "metadata": {},
   "outputs": [],
   "source": [
    "data = sst2_train.train_test_split(test_size=0.2, seed=42, stratify_by_column='label')"
   ]
  },
  {
   "cell_type": "code",
   "execution_count": 6,
   "metadata": {},
   "outputs": [],
   "source": [
    "sst2_train = data['train']\n",
    "sst2_test = data['test']"
   ]
  },
  {
   "cell_type": "code",
   "execution_count": 7,
   "metadata": {},
   "outputs": [
    {
     "data": {
      "application/vnd.jupyter.widget-view+json": {
       "model_id": "28b03e00f25248e28f836ebf9df1745e",
       "version_major": 2,
       "version_minor": 0
      },
      "text/plain": [
       "Saving the dataset (0/1 shards):   0%|          | 0/53879 [00:00<?, ? examples/s]"
      ]
     },
     "metadata": {},
     "output_type": "display_data"
    },
    {
     "data": {
      "application/vnd.jupyter.widget-view+json": {
       "model_id": "e4f111f73e84493085a33a4061ed53e5",
       "version_major": 2,
       "version_minor": 0
      },
      "text/plain": [
       "Saving the dataset (0/1 shards):   0%|          | 0/872 [00:00<?, ? examples/s]"
      ]
     },
     "metadata": {},
     "output_type": "display_data"
    },
    {
     "data": {
      "application/vnd.jupyter.widget-view+json": {
       "model_id": "cca056e850a341808cb7b423213f0230",
       "version_major": 2,
       "version_minor": 0
      },
      "text/plain": [
       "Saving the dataset (0/1 shards):   0%|          | 0/13470 [00:00<?, ? examples/s]"
      ]
     },
     "metadata": {},
     "output_type": "display_data"
    },
    {
     "data": {
      "application/vnd.jupyter.widget-view+json": {
       "model_id": "f43a9e9ea4604cd484682559afbe554c",
       "version_major": 2,
       "version_minor": 0
      },
      "text/plain": [
       "Saving the dataset (0/1 shards):   0%|          | 0/1821 [00:00<?, ? examples/s]"
      ]
     },
     "metadata": {},
     "output_type": "display_data"
    }
   ],
   "source": [
    "sst2_train.save_to_disk(\"~/data/sst2/train\")\n",
    "sst2_eval.save_to_disk(\"~/data/sst2/eval\")\n",
    "sst2_test.save_to_disk(\"~/data/sst2/test\")\n",
    "\n",
    "sst2_test_blank.save_to_disk(\"~/data/sst2/test-blank\")"
   ]
  },
  {
   "cell_type": "code",
   "execution_count": 8,
   "metadata": {},
   "outputs": [
    {
     "data": {
      "application/vnd.jupyter.widget-view+json": {
       "model_id": "de3a467481a14371bce194ef7f162e88",
       "version_major": 2,
       "version_minor": 0
      },
      "text/plain": [
       "README.md:   0%|          | 0.00/7.64k [00:00<?, ?B/s]"
      ]
     },
     "metadata": {},
     "output_type": "display_data"
    },
    {
     "data": {
      "application/vnd.jupyter.widget-view+json": {
       "model_id": "eaccc5d441ef4358a19a77c02cf9754b",
       "version_major": 2,
       "version_minor": 0
      },
      "text/plain": [
       "train-00000-of-00001.parquet:   0%|          | 0.00/106M [00:00<?, ?B/s]"
      ]
     },
     "metadata": {},
     "output_type": "display_data"
    },
    {
     "data": {
      "application/vnd.jupyter.widget-view+json": {
       "model_id": "dcc11fcf84984844aa1639217229411a",
       "version_major": 2,
       "version_minor": 0
      },
      "text/plain": [
       "test-00000-of-00001.parquet:   0%|          | 0.00/13.3M [00:00<?, ?B/s]"
      ]
     },
     "metadata": {},
     "output_type": "display_data"
    },
    {
     "data": {
      "application/vnd.jupyter.widget-view+json": {
       "model_id": "b029b9dda14444b98bcf62e28213affd",
       "version_major": 2,
       "version_minor": 0
      },
      "text/plain": [
       "Generating train split:   0%|          | 0/560000 [00:00<?, ? examples/s]"
      ]
     },
     "metadata": {},
     "output_type": "display_data"
    },
    {
     "data": {
      "application/vnd.jupyter.widget-view+json": {
       "model_id": "fcc1ee8a6a5d435e9dc48424fc46389c",
       "version_major": 2,
       "version_minor": 0
      },
      "text/plain": [
       "Generating test split:   0%|          | 0/70000 [00:00<?, ? examples/s]"
      ]
     },
     "metadata": {},
     "output_type": "display_data"
    }
   ],
   "source": [
    "dbpedia_train = load_dataset(\"fancyzhx/dbpedia_14\", split='train')\n",
    "dbpedia_test = load_dataset(\"fancyzhx/dbpedia_14\", split='test') \n",
    "data = dbpedia_train.train_test_split(test_size=0.2, seed=42, stratify_by_column='label')"
   ]
  },
  {
   "cell_type": "code",
   "execution_count": 9,
   "metadata": {},
   "outputs": [],
   "source": [
    "dbpedia_train = data['train']\n",
    "dbpedia_eval = data['test']\n",
    "\n",
    "dbpedia_train = dbpedia_train.rename_column(\"content\", \"sentence\")\n",
    "dbpedia_train = dbpedia_train.remove_columns([\"title\"])\n",
    "\n",
    "dbpedia_eval = dbpedia_eval.rename_column(\"content\", \"sentence\")\n",
    "dbpedia_eval = dbpedia_eval.remove_columns([\"title\"])\n",
    "\n",
    "dbpedia_test = dbpedia_test.rename_column(\"content\", \"sentence\")\n",
    "dbpedia_test = dbpedia_test.remove_columns([\"title\"])"
   ]
  },
  {
   "cell_type": "code",
   "execution_count": 10,
   "metadata": {},
   "outputs": [
    {
     "data": {
      "application/vnd.jupyter.widget-view+json": {
       "model_id": "8db52f64b56a4eadab85e8bdb06604e8",
       "version_major": 2,
       "version_minor": 0
      },
      "text/plain": [
       "Saving the dataset (0/1 shards):   0%|          | 0/448000 [00:00<?, ? examples/s]"
      ]
     },
     "metadata": {},
     "output_type": "display_data"
    },
    {
     "data": {
      "application/vnd.jupyter.widget-view+json": {
       "model_id": "aadd262c214c4a29ba7c1dd3e49b2955",
       "version_major": 2,
       "version_minor": 0
      },
      "text/plain": [
       "Saving the dataset (0/1 shards):   0%|          | 0/112000 [00:00<?, ? examples/s]"
      ]
     },
     "metadata": {},
     "output_type": "display_data"
    },
    {
     "data": {
      "application/vnd.jupyter.widget-view+json": {
       "model_id": "d6d166e879ca480995081c71f41b620d",
       "version_major": 2,
       "version_minor": 0
      },
      "text/plain": [
       "Saving the dataset (0/1 shards):   0%|          | 0/70000 [00:00<?, ? examples/s]"
      ]
     },
     "metadata": {},
     "output_type": "display_data"
    }
   ],
   "source": [
    "dbpedia_train.save_to_disk(\"~/data/dbpedia/train\")\n",
    "dbpedia_eval.save_to_disk(\"~/data/dbpedia/eval\")\n",
    "dbpedia_test.save_to_disk(\"~/data/dbpedia/test\")"
   ]
  },
  {
   "cell_type": "code",
   "execution_count": 11,
   "metadata": {},
   "outputs": [
    {
     "data": {
      "application/vnd.jupyter.widget-view+json": {
       "model_id": "75acecd407be43fe919eefd73d6f9308",
       "version_major": 2,
       "version_minor": 0
      },
      "text/plain": [
       "README.md:   0%|          | 0.00/10.6k [00:00<?, ?B/s]"
      ]
     },
     "metadata": {},
     "output_type": "display_data"
    },
    {
     "data": {
      "application/vnd.jupyter.widget-view+json": {
       "model_id": "aceed07ea34a488688405e263b37bcdb",
       "version_major": 2,
       "version_minor": 0
      },
      "text/plain": [
       "trec.py:   0%|          | 0.00/5.09k [00:00<?, ?B/s]"
      ]
     },
     "metadata": {},
     "output_type": "display_data"
    },
    {
     "data": {
      "application/vnd.jupyter.widget-view+json": {
       "model_id": "c2efd8a09e5442ccb9155ea316c5cad2",
       "version_major": 2,
       "version_minor": 0
      },
      "text/plain": [
       "Downloading data:   0%|          | 0.00/336k [00:00<?, ?B/s]"
      ]
     },
     "metadata": {},
     "output_type": "display_data"
    },
    {
     "data": {
      "application/vnd.jupyter.widget-view+json": {
       "model_id": "e0d2a5d5a6e84877b1c5a965d105ff46",
       "version_major": 2,
       "version_minor": 0
      },
      "text/plain": [
       "Downloading data:   0%|          | 0.00/23.4k [00:00<?, ?B/s]"
      ]
     },
     "metadata": {},
     "output_type": "display_data"
    },
    {
     "data": {
      "application/vnd.jupyter.widget-view+json": {
       "model_id": "5d6795e88c764b56ab7cb6d55c25ffe5",
       "version_major": 2,
       "version_minor": 0
      },
      "text/plain": [
       "Generating train split:   0%|          | 0/5452 [00:00<?, ? examples/s]"
      ]
     },
     "metadata": {},
     "output_type": "display_data"
    },
    {
     "data": {
      "application/vnd.jupyter.widget-view+json": {
       "model_id": "c5a1b55a47dc4044a48ef5e4c1ac49a3",
       "version_major": 2,
       "version_minor": 0
      },
      "text/plain": [
       "Generating test split:   0%|          | 0/500 [00:00<?, ? examples/s]"
      ]
     },
     "metadata": {},
     "output_type": "display_data"
    }
   ],
   "source": [
    "trec_train_coarse = load_dataset(\"CogComp/trec\", split='train') \n",
    "trec_test_coarse = load_dataset(\"CogComp/trec\", split='test') \n",
    "\n",
    "data = trec_train_coarse.train_test_split(test_size=0.2, seed=42, stratify_by_column='coarse_label')"
   ]
  },
  {
   "cell_type": "code",
   "execution_count": 12,
   "metadata": {},
   "outputs": [],
   "source": [
    "trec_train_coarse = data['train']\n",
    "trec_eval_coarse = data['test']\n",
    "\n",
    "trec_train_coarse = trec_train_coarse.rename_column(\"text\", \"sentence\")\n",
    "trec_train_coarse = trec_train_coarse.rename_column(\"coarse_label\", \"label\")\n",
    "trec_train_coarse = trec_train_coarse.remove_columns([\"fine_label\"])\n",
    "\n",
    "trec_eval_coarse = trec_eval_coarse.rename_column(\"text\", \"sentence\")\n",
    "trec_eval_coarse = trec_eval_coarse.rename_column(\"coarse_label\", \"label\")\n",
    "trec_eval_coarse = trec_eval_coarse.remove_columns([\"fine_label\"])\n",
    "\n",
    "trec_test_coarse = trec_test_coarse.rename_column(\"text\", \"sentence\")\n",
    "trec_test_coarse = trec_test_coarse.rename_column(\"coarse_label\", \"label\")\n",
    "trec_test_coarse = trec_test_coarse.remove_columns([\"fine_label\"])"
   ]
  },
  {
   "cell_type": "code",
   "execution_count": 13,
   "metadata": {},
   "outputs": [
    {
     "data": {
      "application/vnd.jupyter.widget-view+json": {
       "model_id": "54190b23872742e8a4857e5dd2252ef2",
       "version_major": 2,
       "version_minor": 0
      },
      "text/plain": [
       "Saving the dataset (0/1 shards):   0%|          | 0/4361 [00:00<?, ? examples/s]"
      ]
     },
     "metadata": {},
     "output_type": "display_data"
    },
    {
     "data": {
      "application/vnd.jupyter.widget-view+json": {
       "model_id": "e0697b7b62fa4549bff062159b6661a3",
       "version_major": 2,
       "version_minor": 0
      },
      "text/plain": [
       "Saving the dataset (0/1 shards):   0%|          | 0/1091 [00:00<?, ? examples/s]"
      ]
     },
     "metadata": {},
     "output_type": "display_data"
    },
    {
     "data": {
      "application/vnd.jupyter.widget-view+json": {
       "model_id": "cac1a4ae75884092879ee36664f90b19",
       "version_major": 2,
       "version_minor": 0
      },
      "text/plain": [
       "Saving the dataset (0/1 shards):   0%|          | 0/500 [00:00<?, ? examples/s]"
      ]
     },
     "metadata": {},
     "output_type": "display_data"
    }
   ],
   "source": [
    "trec_train_coarse.save_to_disk(\"~/data/trec/train_coarse\")\n",
    "trec_eval_coarse.save_to_disk(\"~/data/trec/eval_coarse\")\n",
    "trec_test_coarse.save_to_disk(\"~/data/trec/test_coarse\")"
   ]
  },
  {
   "cell_type": "code",
   "execution_count": 14,
   "metadata": {},
   "outputs": [],
   "source": [
    "trec_train_coarse = load_dataset(\"CogComp/trec\", split='train') \n",
    "trec_test_coarse = load_dataset(\"CogComp/trec\", split='test') \n",
    "\n",
    "data = trec_train_coarse.train_test_split(test_size=0.2, seed=42, stratify_by_column='fine_label')"
   ]
  },
  {
   "cell_type": "code",
   "execution_count": 15,
   "metadata": {},
   "outputs": [],
   "source": [
    "trec_train_coarse = data['train']\n",
    "trec_eval_coarse = data['test']\n",
    "\n",
    "trec_train_coarse = trec_train_coarse.rename_column(\"text\", \"sentence\")\n",
    "trec_train_coarse = trec_train_coarse.rename_column(\"fine_label\", \"label\")\n",
    "trec_train_coarse = trec_train_coarse.remove_columns([\"coarse_label\"])\n",
    "\n",
    "trec_eval_coarse = trec_eval_coarse.rename_column(\"text\", \"sentence\")\n",
    "trec_eval_coarse = trec_eval_coarse.rename_column(\"fine_label\", \"label\")\n",
    "trec_eval_coarse = trec_eval_coarse.remove_columns([\"coarse_label\"])\n",
    "\n",
    "trec_test_coarse = trec_test_coarse.rename_column(\"text\", \"sentence\")\n",
    "trec_test_coarse = trec_test_coarse.rename_column(\"fine_label\", \"label\")\n",
    "trec_test_coarse = trec_test_coarse.remove_columns([\"coarse_label\"])"
   ]
  },
  {
   "cell_type": "code",
   "execution_count": 16,
   "metadata": {},
   "outputs": [
    {
     "data": {
      "application/vnd.jupyter.widget-view+json": {
       "model_id": "7ad4a227bca1408fa43afa08ca3d2d2a",
       "version_major": 2,
       "version_minor": 0
      },
      "text/plain": [
       "Saving the dataset (0/1 shards):   0%|          | 0/4361 [00:00<?, ? examples/s]"
      ]
     },
     "metadata": {},
     "output_type": "display_data"
    },
    {
     "data": {
      "application/vnd.jupyter.widget-view+json": {
       "model_id": "cb88d90e8f9545a792755520020d03cc",
       "version_major": 2,
       "version_minor": 0
      },
      "text/plain": [
       "Saving the dataset (0/1 shards):   0%|          | 0/1091 [00:00<?, ? examples/s]"
      ]
     },
     "metadata": {},
     "output_type": "display_data"
    },
    {
     "data": {
      "application/vnd.jupyter.widget-view+json": {
       "model_id": "f89da6c89ac24495935b819972c2e6fc",
       "version_major": 2,
       "version_minor": 0
      },
      "text/plain": [
       "Saving the dataset (0/1 shards):   0%|          | 0/500 [00:00<?, ? examples/s]"
      ]
     },
     "metadata": {},
     "output_type": "display_data"
    }
   ],
   "source": [
    "trec_train_coarse.save_to_disk(\"~/data/trec/train_fine\")\n",
    "trec_eval_coarse.save_to_disk(\"~/data/trec/eval_fine\")\n",
    "trec_test_coarse.save_to_disk(\"~/data/trec/test_fine\")"
   ]
  },
  {
   "cell_type": "code",
   "execution_count": null,
   "metadata": {},
   "outputs": [],
   "source": [
    "try:\n",
    "    os.mkdir(f\"{os.path.expanduser('~')}/models\")\n",
    "    os.mkdir(f\"{os.path.expanduser('~')}/models/cifar10/\")\n",
    "    os.mkdir(f\"{os.path.expanduser('~')}/models/cifar100/\")\n",
    "    os.mkdir(f\"{os.path.expanduser('~')}/models/sst2/\")\n",
    "    os.mkdir(f\"{os.path.expanduser('~')}/models/dbpedia/\")\n",
    "    os.mkdir(f\"{os.path.expanduser('~')}/models/trec/\")\n",
    "except:\n",
    "    print(\"Folder structure has been already created!\")"
   ]
  },
  {
   "cell_type": "code",
   "execution_count": 18,
   "metadata": {},
   "outputs": [],
   "source": [
    "try:\n",
    "    os.mkdir(f\"{os.path.expanduser('~')}/data/10-logits/\")\n",
    "    os.mkdir(f\"{os.path.expanduser('~')}/data/10-logits/cifar-10-batches-py/\")\n",
    "    os.mkdir(f\"{os.path.expanduser('~')}/data/100-logits/\")\n",
    "    os.mkdir(f\"{os.path.expanduser('~')}/data/100-logits/cifar-100-python/\")\n",
    "except:\n",
    "    print(\"Folder structure has been already created!\")"
   ]
  },
  {
   "cell_type": "code",
   "execution_count": null,
   "metadata": {},
   "outputs": [],
   "source": []
  }
 ],
 "metadata": {
  "kernelspec": {
   "display_name": "Python 3 (ipykernel)",
   "language": "python",
   "name": "python3"
  },
  "language_info": {
   "codemirror_mode": {
    "name": "ipython",
    "version": 3
   },
   "file_extension": ".py",
   "mimetype": "text/x-python",
   "name": "python",
   "nbconvert_exporter": "python",
   "pygments_lexer": "ipython3",
   "version": "3.10.12"
  }
 },
 "nbformat": 4,
 "nbformat_minor": 2
}
