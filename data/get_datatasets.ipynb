{
 "cells": [
  {
   "cell_type": "markdown",
   "metadata": {},
   "source": [
    "# Stažení datasetů využívaných v práci\n",
    "\n",
    "Tento notebook slouží ke stažení datasetů, které tato práce využívá. Zároveň jsou zde provedeny základní úpravy stažených datasetů: přidání validační části a přejmenování a odstranění sloupců. \n",
    "\n",
    "Textové datasety jsou stahovány skrze HuggingFace, obrázkové skrze torchvision."
   ]
  },
  {
   "cell_type": "code",
   "execution_count": 1,
   "metadata": {},
   "outputs": [],
   "source": [
    "from datasets import load_dataset\n",
    "from torchvision import datasets\n",
    "import os"
   ]
  },
  {
   "cell_type": "markdown",
   "metadata": {},
   "source": [
    "## Obrázkové datasety\n",
    "\n",
    "Stažení a uložení na disk."
   ]
  },
  {
   "cell_type": "code",
   "execution_count": 2,
   "metadata": {},
   "outputs": [
    {
     "name": "stdout",
     "output_type": "stream",
     "text": [
      "Files already downloaded and verified\n"
     ]
    },
    {
     "data": {
      "text/plain": [
       "Dataset CIFAR10\n",
       "    Number of datapoints: 50000\n",
       "    Root location: /home/jovyan/data/10\n",
       "    Split: Train"
      ]
     },
     "execution_count": 2,
     "metadata": {},
     "output_type": "execute_result"
    }
   ],
   "source": [
    "datasets.CIFAR10(root='~/data/10', download=True)"
   ]
  },
  {
   "cell_type": "code",
   "execution_count": 3,
   "metadata": {},
   "outputs": [
    {
     "name": "stdout",
     "output_type": "stream",
     "text": [
      "Files already downloaded and verified\n"
     ]
    },
    {
     "data": {
      "text/plain": [
       "Dataset CIFAR100\n",
       "    Number of datapoints: 50000\n",
       "    Root location: /home/jovyan/data/100\n",
       "    Split: Train"
      ]
     },
     "execution_count": 3,
     "metadata": {},
     "output_type": "execute_result"
    }
   ],
   "source": [
    "datasets.CIFAR100(root='~/data/100', download=True)"
   ]
  },
  {
   "cell_type": "markdown",
   "metadata": {},
   "source": [
    "## Textové datasety \n",
    "### SST2\n",
    "Stažení všech tří částí datasetu, které jsou na HuggingFace dostupné."
   ]
  },
  {
   "cell_type": "code",
   "execution_count": 4,
   "metadata": {},
   "outputs": [],
   "source": [
    "sst2_train = load_dataset('stanfordnlp/sst2', split='train')\n",
    "sst2_eval = load_dataset('stanfordnlp/sst2', split='validation')\n",
    "sst2_test_blank = load_dataset('stanfordnlp/sst2', split='test')"
   ]
  },
  {
   "cell_type": "markdown",
   "metadata": {},
   "source": [
    "Vytvoření umělé testovací části. Původní neobsahuje anotace správných klasifikací (pro ověření musí dojít k uploadu na GLUE Benchmark). Umělá testovací část je tvořena 20 % trénovací části a vzniká stratifikovaným rozdělením."
   ]
  },
  {
   "cell_type": "code",
   "execution_count": 5,
   "metadata": {},
   "outputs": [],
   "source": [
    "data = sst2_train.train_test_split(test_size=0.2, seed=42, stratify_by_column='label')"
   ]
  },
  {
   "cell_type": "code",
   "execution_count": null,
   "metadata": {},
   "outputs": [],
   "source": [
    "sst2_train = data['train']\n",
    "sst2_test = data['test']"
   ]
  },
  {
   "cell_type": "markdown",
   "metadata": {},
   "source": [
    "Uložení jednotlivých částí na disk."
   ]
  },
  {
   "cell_type": "code",
   "execution_count": 7,
   "metadata": {},
   "outputs": [
    {
     "data": {
      "application/vnd.jupyter.widget-view+json": {
       "model_id": "b88287115d7d447facdd7db212c9688d",
       "version_major": 2,
       "version_minor": 0
      },
      "text/plain": [
       "Saving the dataset (0/1 shards):   0%|          | 0/53879 [00:00<?, ? examples/s]"
      ]
     },
     "metadata": {},
     "output_type": "display_data"
    },
    {
     "data": {
      "application/vnd.jupyter.widget-view+json": {
       "model_id": "baf73751f7874b7f9ffae14826eb23fa",
       "version_major": 2,
       "version_minor": 0
      },
      "text/plain": [
       "Saving the dataset (0/1 shards):   0%|          | 0/872 [00:00<?, ? examples/s]"
      ]
     },
     "metadata": {},
     "output_type": "display_data"
    },
    {
     "data": {
      "application/vnd.jupyter.widget-view+json": {
       "model_id": "cf9bc9953faf4bf4bd26d368896312b9",
       "version_major": 2,
       "version_minor": 0
      },
      "text/plain": [
       "Saving the dataset (0/1 shards):   0%|          | 0/13470 [00:00<?, ? examples/s]"
      ]
     },
     "metadata": {},
     "output_type": "display_data"
    },
    {
     "data": {
      "application/vnd.jupyter.widget-view+json": {
       "model_id": "c4a65da94bc949f59db8389cc67d4cf0",
       "version_major": 2,
       "version_minor": 0
      },
      "text/plain": [
       "Saving the dataset (0/1 shards):   0%|          | 0/1821 [00:00<?, ? examples/s]"
      ]
     },
     "metadata": {},
     "output_type": "display_data"
    }
   ],
   "source": [
    "sst2_train.save_to_disk(\"~/data/sst2/train\")\n",
    "sst2_eval.save_to_disk(\"~/data/sst2/eval\")\n",
    "sst2_test.save_to_disk(\"~/data/sst2/test\")\n",
    "\n",
    "sst2_test_blank.save_to_disk(\"~/data/sst2/test-blank\")"
   ]
  },
  {
   "cell_type": "markdown",
   "metadata": {},
   "source": [
    "### DBpedia\n",
    "Stažení všech dostupných částí datasetu a vytvoření validační části z 20 % trénovacích záznamů."
   ]
  },
  {
   "cell_type": "code",
   "execution_count": 8,
   "metadata": {},
   "outputs": [],
   "source": [
    "dbpedia_train = load_dataset(\"fancyzhx/dbpedia_14\", split='train')\n",
    "dbpedia_test = load_dataset(\"fancyzhx/dbpedia_14\", split='test') \n",
    "data = dbpedia_train.train_test_split(test_size=0.2, seed=42, stratify_by_column='label')"
   ]
  },
  {
   "cell_type": "markdown",
   "metadata": {},
   "source": [
    "Přejmenování sloupců pro jednotnou práci s datasety napříč notebooky. Díky tomu lze jednotlivé notebooky efektivně přepoužívat. \n",
    "Odstranění nevyužívaného sloupce."
   ]
  },
  {
   "cell_type": "code",
   "execution_count": 9,
   "metadata": {},
   "outputs": [],
   "source": [
    "dbpedia_train = data['train']\n",
    "dbpedia_eval = data['test']\n",
    "\n",
    "dbpedia_train = dbpedia_train.rename_column(\"content\", \"sentence\")\n",
    "dbpedia_train = dbpedia_train.remove_columns([\"title\"])\n",
    "\n",
    "dbpedia_eval = dbpedia_eval.rename_column(\"content\", \"sentence\")\n",
    "dbpedia_eval = dbpedia_eval.remove_columns([\"title\"])\n",
    "\n",
    "dbpedia_test = dbpedia_test.rename_column(\"content\", \"sentence\")\n",
    "dbpedia_test = dbpedia_test.remove_columns([\"title\"])"
   ]
  },
  {
   "cell_type": "markdown",
   "metadata": {},
   "source": [
    "Uložení na disk."
   ]
  },
  {
   "cell_type": "code",
   "execution_count": 10,
   "metadata": {},
   "outputs": [
    {
     "data": {
      "application/vnd.jupyter.widget-view+json": {
       "model_id": "f68264cc017347bca8886d03c0e3cae4",
       "version_major": 2,
       "version_minor": 0
      },
      "text/plain": [
       "Saving the dataset (0/1 shards):   0%|          | 0/448000 [00:00<?, ? examples/s]"
      ]
     },
     "metadata": {},
     "output_type": "display_data"
    },
    {
     "data": {
      "application/vnd.jupyter.widget-view+json": {
       "model_id": "269e8de9f9f840f2830e6e1938f4afec",
       "version_major": 2,
       "version_minor": 0
      },
      "text/plain": [
       "Saving the dataset (0/1 shards):   0%|          | 0/112000 [00:00<?, ? examples/s]"
      ]
     },
     "metadata": {},
     "output_type": "display_data"
    },
    {
     "data": {
      "application/vnd.jupyter.widget-view+json": {
       "model_id": "ffaad578c4174d19ab5c29d34d4a678a",
       "version_major": 2,
       "version_minor": 0
      },
      "text/plain": [
       "Saving the dataset (0/1 shards):   0%|          | 0/70000 [00:00<?, ? examples/s]"
      ]
     },
     "metadata": {},
     "output_type": "display_data"
    }
   ],
   "source": [
    "dbpedia_train.save_to_disk(\"~/data/dbpedia/train\")\n",
    "dbpedia_eval.save_to_disk(\"~/data/dbpedia/eval\")\n",
    "dbpedia_test.save_to_disk(\"~/data/dbpedia/test\")"
   ]
  },
  {
   "cell_type": "markdown",
   "metadata": {},
   "source": [
    "### TREC\n",
    "Pro jednodušší práci je dataset stažen dvakrát. V každé z variant jsou poté ponechány pouze relevantní anotace. Díky tomu lze s datasetem pracovat stejně jako s ostatními.\n",
    "#### TREC (coarse)\n",
    "Stažení všech dostupných částí datasetu a vytvoření validační části z 20 % trénovacích záznamů."
   ]
  },
  {
   "cell_type": "code",
   "execution_count": 11,
   "metadata": {},
   "outputs": [],
   "source": [
    "trec_train_coarse = load_dataset(\"CogComp/trec\", split='train') \n",
    "trec_test_coarse = load_dataset(\"CogComp/trec\", split='test') \n",
    "\n",
    "data = trec_train_coarse.train_test_split(test_size=0.2, seed=42, stratify_by_column='coarse_label')"
   ]
  },
  {
   "cell_type": "markdown",
   "metadata": {},
   "source": [
    "Přejmenování sloupců pro jednotnou práci s datasety napříč notebooky. Díky tomu lze jednotlivé notebooky efektivně přepoužívat. \n",
    "Odstranění nevyužívaného sloupce."
   ]
  },
  {
   "cell_type": "code",
   "execution_count": 12,
   "metadata": {},
   "outputs": [],
   "source": [
    "trec_train_coarse = data['train']\n",
    "trec_eval_coarse = data['test']\n",
    "\n",
    "trec_train_coarse = trec_train_coarse.rename_column(\"text\", \"sentence\")\n",
    "trec_train_coarse = trec_train_coarse.rename_column(\"coarse_label\", \"label\")\n",
    "trec_train_coarse = trec_train_coarse.remove_columns([\"fine_label\"])\n",
    "\n",
    "trec_eval_coarse = trec_eval_coarse.rename_column(\"text\", \"sentence\")\n",
    "trec_eval_coarse = trec_eval_coarse.rename_column(\"coarse_label\", \"label\")\n",
    "trec_eval_coarse = trec_eval_coarse.remove_columns([\"fine_label\"])\n",
    "\n",
    "trec_test_coarse = trec_test_coarse.rename_column(\"text\", \"sentence\")\n",
    "trec_test_coarse = trec_test_coarse.rename_column(\"coarse_label\", \"label\")\n",
    "trec_test_coarse = trec_test_coarse.remove_columns([\"fine_label\"])"
   ]
  },
  {
   "cell_type": "markdown",
   "metadata": {},
   "source": [
    "Uložení na disk."
   ]
  },
  {
   "cell_type": "code",
   "execution_count": 13,
   "metadata": {},
   "outputs": [
    {
     "data": {
      "application/vnd.jupyter.widget-view+json": {
       "model_id": "02d7f386cdf145639f961643da3f7b3a",
       "version_major": 2,
       "version_minor": 0
      },
      "text/plain": [
       "Saving the dataset (0/1 shards):   0%|          | 0/4361 [00:00<?, ? examples/s]"
      ]
     },
     "metadata": {},
     "output_type": "display_data"
    },
    {
     "data": {
      "application/vnd.jupyter.widget-view+json": {
       "model_id": "7cae929ab71041a0b0031598ed30d259",
       "version_major": 2,
       "version_minor": 0
      },
      "text/plain": [
       "Saving the dataset (0/1 shards):   0%|          | 0/1091 [00:00<?, ? examples/s]"
      ]
     },
     "metadata": {},
     "output_type": "display_data"
    },
    {
     "data": {
      "application/vnd.jupyter.widget-view+json": {
       "model_id": "c50606c875f0434b9d21ae0e189d7d50",
       "version_major": 2,
       "version_minor": 0
      },
      "text/plain": [
       "Saving the dataset (0/1 shards):   0%|          | 0/500 [00:00<?, ? examples/s]"
      ]
     },
     "metadata": {},
     "output_type": "display_data"
    }
   ],
   "source": [
    "trec_train_coarse.save_to_disk(\"~/data/trec/train_coarse\")\n",
    "trec_eval_coarse.save_to_disk(\"~/data/trec/eval_coarse\")\n",
    "trec_test_coarse.save_to_disk(\"~/data/trec/test_coarse\")"
   ]
  },
  {
   "cell_type": "markdown",
   "metadata": {},
   "source": [
    "#### TREC (fine)\n",
    "Stažení všech dostupných částí datasetu a vytvoření validační části z 20 % trénovacích záznamů."
   ]
  },
  {
   "cell_type": "code",
   "execution_count": 14,
   "metadata": {},
   "outputs": [],
   "source": [
    "trec_train_coarse = load_dataset(\"CogComp/trec\", split='train') \n",
    "trec_test_coarse = load_dataset(\"CogComp/trec\", split='test') \n",
    "\n",
    "data = trec_train_coarse.train_test_split(test_size=0.2, seed=42, stratify_by_column='fine_label')"
   ]
  },
  {
   "cell_type": "markdown",
   "metadata": {},
   "source": [
    "Přejmenování sloupců pro jednotnou práci s datasety napříč notebooky. Díky tomu lze jednotlivé notebooky efektivně přepoužívat. \n",
    "Odstranění nevyužívaného sloupce."
   ]
  },
  {
   "cell_type": "code",
   "execution_count": 15,
   "metadata": {},
   "outputs": [],
   "source": [
    "trec_train_coarse = data['train']\n",
    "trec_eval_coarse = data['test']\n",
    "\n",
    "trec_train_coarse = trec_train_coarse.rename_column(\"text\", \"sentence\")\n",
    "trec_train_coarse = trec_train_coarse.rename_column(\"fine_label\", \"label\")\n",
    "trec_train_coarse = trec_train_coarse.remove_columns([\"coarse_label\"])\n",
    "\n",
    "trec_eval_coarse = trec_eval_coarse.rename_column(\"text\", \"sentence\")\n",
    "trec_eval_coarse = trec_eval_coarse.rename_column(\"fine_label\", \"label\")\n",
    "trec_eval_coarse = trec_eval_coarse.remove_columns([\"coarse_label\"])\n",
    "\n",
    "trec_test_coarse = trec_test_coarse.rename_column(\"text\", \"sentence\")\n",
    "trec_test_coarse = trec_test_coarse.rename_column(\"fine_label\", \"label\")\n",
    "trec_test_coarse = trec_test_coarse.remove_columns([\"coarse_label\"])"
   ]
  },
  {
   "cell_type": "markdown",
   "metadata": {},
   "source": [
    "Uložení na disk."
   ]
  },
  {
   "cell_type": "code",
   "execution_count": 16,
   "metadata": {},
   "outputs": [
    {
     "data": {
      "application/vnd.jupyter.widget-view+json": {
       "model_id": "5731219a76a54a728d41ab39b774a866",
       "version_major": 2,
       "version_minor": 0
      },
      "text/plain": [
       "Saving the dataset (0/1 shards):   0%|          | 0/4361 [00:00<?, ? examples/s]"
      ]
     },
     "metadata": {},
     "output_type": "display_data"
    },
    {
     "data": {
      "application/vnd.jupyter.widget-view+json": {
       "model_id": "2fd67f4654dd4121ac280eaa3a27191f",
       "version_major": 2,
       "version_minor": 0
      },
      "text/plain": [
       "Saving the dataset (0/1 shards):   0%|          | 0/1091 [00:00<?, ? examples/s]"
      ]
     },
     "metadata": {},
     "output_type": "display_data"
    },
    {
     "data": {
      "application/vnd.jupyter.widget-view+json": {
       "model_id": "d9477f07436046419d4856e2523b2aa6",
       "version_major": 2,
       "version_minor": 0
      },
      "text/plain": [
       "Saving the dataset (0/1 shards):   0%|          | 0/500 [00:00<?, ? examples/s]"
      ]
     },
     "metadata": {},
     "output_type": "display_data"
    }
   ],
   "source": [
    "trec_train_coarse.save_to_disk(\"~/data/trec/train_fine\")\n",
    "trec_eval_coarse.save_to_disk(\"~/data/trec/eval_fine\")\n",
    "trec_test_coarse.save_to_disk(\"~/data/trec/test_fine\")"
   ]
  },
  {
   "cell_type": "markdown",
   "metadata": {},
   "source": [
    "# Vytvoření adresářové struktury\n",
    "Práce předpokládá vytvoření struktury složek, do kterých jsou ukládána data."
   ]
  },
  {
   "cell_type": "code",
   "execution_count": 17,
   "metadata": {},
   "outputs": [
    {
     "name": "stdout",
     "output_type": "stream",
     "text": [
      "Folder structure has been already created!\n"
     ]
    }
   ],
   "source": [
    "try:\n",
    "    os.mkdir(f\"{os.path.expanduser('~')}/models\")\n",
    "    os.mkdir(f\"{os.path.expanduser('~')}/models/cifar10/\")\n",
    "    os.mkdir(f\"{os.path.expanduser('~')}/models/cifar100/\")\n",
    "    os.mkdir(f\"{os.path.expanduser('~')}/models/sst2/\")\n",
    "    os.mkdir(f\"{os.path.expanduser('~')}/models/dbpedia/\")\n",
    "    os.mkdir(f\"{os.path.expanduser('~')}/models/trec/\")\n",
    "except:\n",
    "    print(\"Folder structure has been already created!\")"
   ]
  },
  {
   "cell_type": "code",
   "execution_count": 18,
   "metadata": {},
   "outputs": [
    {
     "name": "stdout",
     "output_type": "stream",
     "text": [
      "Folder structure has been already created!\n"
     ]
    }
   ],
   "source": [
    "try:\n",
    "    os.mkdir(f\"{os.path.expanduser('~')}/data/10-logits/\")\n",
    "    os.mkdir(f\"{os.path.expanduser('~')}/data/10-logits/cifar-10-batches-py/\")\n",
    "    os.mkdir(f\"{os.path.expanduser('~')}/data/100-logits/\")\n",
    "    os.mkdir(f\"{os.path.expanduser('~')}/data/100-logits/cifar-100-python/\")\n",
    "except:\n",
    "    print(\"Folder structure has been already created!\")"
   ]
  }
 ],
 "metadata": {
  "kernelspec": {
   "display_name": "Python 3 (ipykernel)",
   "language": "python",
   "name": "python3"
  }
 },
 "nbformat": 4,
 "nbformat_minor": 2
}
