{
 "cells": [
  {
   "cell_type": "code",
   "execution_count": 6,
   "metadata": {},
   "outputs": [],
   "source": [
    "from datasets import load_dataset\n",
    "from torchvision import datasets"
   ]
  },
  {
   "cell_type": "code",
   "execution_count": 7,
   "metadata": {},
   "outputs": [
    {
     "name": "stdout",
     "output_type": "stream",
     "text": [
      "Files already downloaded and verified\n"
     ]
    },
    {
     "data": {
      "text/plain": [
       "Dataset CIFAR10\n",
       "    Number of datapoints: 50000\n",
       "    Root location: /home/jovyan/data/10\n",
       "    Split: Train"
      ]
     },
     "execution_count": 7,
     "metadata": {},
     "output_type": "execute_result"
    }
   ],
   "source": [
    "datasets.CIFAR10(root='~/data/10', download=True)"
   ]
  },
  {
   "cell_type": "code",
   "execution_count": 8,
   "metadata": {},
   "outputs": [
    {
     "name": "stdout",
     "output_type": "stream",
     "text": [
      "Files already downloaded and verified\n"
     ]
    },
    {
     "data": {
      "text/plain": [
       "Dataset CIFAR100\n",
       "    Number of datapoints: 50000\n",
       "    Root location: /home/jovyan/data/100\n",
       "    Split: Train"
      ]
     },
     "execution_count": 8,
     "metadata": {},
     "output_type": "execute_result"
    }
   ],
   "source": [
    "datasets.CIFAR100(root='~/data/100', download=True)"
   ]
  },
  {
   "cell_type": "code",
   "execution_count": 9,
   "metadata": {},
   "outputs": [],
   "source": [
    "sst2_train = load_dataset('stanfordnlp/sst2', split='train')\n",
    "sst2_eval = load_dataset('stanfordnlp/sst2', split='validation')\n",
    "sst2_test_blank = load_dataset('stanfordnlp/sst2', split='test')"
   ]
  },
  {
   "cell_type": "code",
   "execution_count": 10,
   "metadata": {},
   "outputs": [],
   "source": [
    "data = sst2_train.train_test_split(test_size=0.2, seed=42, stratify_by_column='label')"
   ]
  },
  {
   "cell_type": "code",
   "execution_count": 11,
   "metadata": {},
   "outputs": [],
   "source": [
    "sst2_train = data['train']\n",
    "sst2_test = data['test']"
   ]
  },
  {
   "cell_type": "code",
   "execution_count": 12,
   "metadata": {},
   "outputs": [
    {
     "data": {
      "application/vnd.jupyter.widget-view+json": {
       "model_id": "d91a3ddb99c4422ca9ed612a4f8ffb8d",
       "version_major": 2,
       "version_minor": 0
      },
      "text/plain": [
       "Saving the dataset (0/1 shards):   0%|          | 0/53879 [00:00<?, ? examples/s]"
      ]
     },
     "metadata": {},
     "output_type": "display_data"
    },
    {
     "data": {
      "application/vnd.jupyter.widget-view+json": {
       "model_id": "457fa39ff11f4851b8428cf7e7a159f0",
       "version_major": 2,
       "version_minor": 0
      },
      "text/plain": [
       "Saving the dataset (0/1 shards):   0%|          | 0/872 [00:00<?, ? examples/s]"
      ]
     },
     "metadata": {},
     "output_type": "display_data"
    },
    {
     "data": {
      "application/vnd.jupyter.widget-view+json": {
       "model_id": "8bec2599f5784b4ea4b18ceb71934b73",
       "version_major": 2,
       "version_minor": 0
      },
      "text/plain": [
       "Saving the dataset (0/1 shards):   0%|          | 0/13470 [00:00<?, ? examples/s]"
      ]
     },
     "metadata": {},
     "output_type": "display_data"
    },
    {
     "data": {
      "application/vnd.jupyter.widget-view+json": {
       "model_id": "25dfb53938d7410c9d479e6558887fee",
       "version_major": 2,
       "version_minor": 0
      },
      "text/plain": [
       "Saving the dataset (0/1 shards):   0%|          | 0/1821 [00:00<?, ? examples/s]"
      ]
     },
     "metadata": {},
     "output_type": "display_data"
    }
   ],
   "source": [
    "sst2_train.save_to_disk(\"~/data/sst2/train\")\n",
    "sst2_eval.save_to_disk(\"~/data/sst2/eval\")\n",
    "sst2_test.save_to_disk(\"~/data/sst2/test\")\n",
    "\n",
    "sst2_test_blank.save_to_disk(\"~/data/sst2/test-blank\")"
   ]
  },
  {
   "cell_type": "code",
   "execution_count": 13,
   "metadata": {},
   "outputs": [],
   "source": [
    "dbpedia_train = load_dataset(\"fancyzhx/dbpedia_14\", split='train')\n",
    "dbpedia_test = load_dataset(\"fancyzhx/dbpedia_14\", split='test') \n",
    "data = dbpedia_train.train_test_split(test_size=0.2, seed=42, stratify_by_column='label')"
   ]
  },
  {
   "cell_type": "code",
   "execution_count": 14,
   "metadata": {},
   "outputs": [],
   "source": [
    "dbpedia_train = data['train']\n",
    "dbpedia_eval = data['test']\n",
    "\n",
    "dbpedia_train = dbpedia_train.rename_column(\"content\", \"sentence\")\n",
    "dbpedia_train = dbpedia_train.remove_columns([\"title\"])\n",
    "\n",
    "dbpedia_eval = dbpedia_eval.rename_column(\"content\", \"sentence\")\n",
    "dbpedia_eval = dbpedia_eval.remove_columns([\"title\"])\n",
    "\n",
    "dbpedia_test = dbpedia_test.rename_column(\"content\", \"sentence\")\n",
    "dbpedia_test = dbpedia_test.remove_columns([\"title\"])"
   ]
  },
  {
   "cell_type": "code",
   "execution_count": 15,
   "metadata": {},
   "outputs": [
    {
     "data": {
      "application/vnd.jupyter.widget-view+json": {
       "model_id": "79c1217a94f54523a6d71e4e2eb0c9c6",
       "version_major": 2,
       "version_minor": 0
      },
      "text/plain": [
       "Saving the dataset (0/1 shards):   0%|          | 0/448000 [00:00<?, ? examples/s]"
      ]
     },
     "metadata": {},
     "output_type": "display_data"
    },
    {
     "data": {
      "application/vnd.jupyter.widget-view+json": {
       "model_id": "bc84196d74a64749a1546d3b00460ea7",
       "version_major": 2,
       "version_minor": 0
      },
      "text/plain": [
       "Saving the dataset (0/1 shards):   0%|          | 0/112000 [00:00<?, ? examples/s]"
      ]
     },
     "metadata": {},
     "output_type": "display_data"
    },
    {
     "data": {
      "application/vnd.jupyter.widget-view+json": {
       "model_id": "f628f6d412e84e58af51a4154ecc9fc1",
       "version_major": 2,
       "version_minor": 0
      },
      "text/plain": [
       "Saving the dataset (0/1 shards):   0%|          | 0/70000 [00:00<?, ? examples/s]"
      ]
     },
     "metadata": {},
     "output_type": "display_data"
    }
   ],
   "source": [
    "dbpedia_train.save_to_disk(\"~/data/dbpedia/train\")\n",
    "dbpedia_eval.save_to_disk(\"~/data/dbpedia/eval\")\n",
    "dbpedia_test.save_to_disk(\"~/data/dbpedia/test\")"
   ]
  },
  {
   "cell_type": "code",
   "execution_count": 16,
   "metadata": {},
   "outputs": [],
   "source": [
    "trec_train_coarse = load_dataset(\"CogComp/trec\", split='train') \n",
    "trec_test_coarse = load_dataset(\"CogComp/trec\", split='test') \n",
    "\n",
    "data = trec_train_coarse.train_test_split(test_size=0.2, seed=42, stratify_by_column='coarse_label')"
   ]
  },
  {
   "cell_type": "code",
   "execution_count": 17,
   "metadata": {},
   "outputs": [],
   "source": [
    "trec_train_coarse = data['train']\n",
    "trec_eval_coarse = data['test']\n",
    "\n",
    "trec_train_coarse = trec_train_coarse.rename_column(\"text\", \"sentence\")\n",
    "trec_train_coarse = trec_train_coarse.rename_column(\"coarse_label\", \"label\")\n",
    "trec_train_coarse = trec_train_coarse.remove_columns([\"fine_label\"])\n",
    "\n",
    "trec_eval_coarse = trec_eval_coarse.rename_column(\"text\", \"sentence\")\n",
    "trec_eval_coarse = trec_eval_coarse.rename_column(\"coarse_label\", \"label\")\n",
    "trec_eval_coarse = trec_eval_coarse.remove_columns([\"fine_label\"])\n",
    "\n",
    "trec_test_coarse = trec_test_coarse.rename_column(\"text\", \"sentence\")\n",
    "trec_test_coarse = trec_test_coarse.rename_column(\"coarse_label\", \"label\")\n",
    "trec_test_coarse = trec_test_coarse.remove_columns([\"fine_label\"])"
   ]
  },
  {
   "cell_type": "code",
   "execution_count": 19,
   "metadata": {},
   "outputs": [
    {
     "data": {
      "application/vnd.jupyter.widget-view+json": {
       "model_id": "60e0a18af4cf4b2fa93723f26ef53f7c",
       "version_major": 2,
       "version_minor": 0
      },
      "text/plain": [
       "Saving the dataset (0/1 shards):   0%|          | 0/4361 [00:00<?, ? examples/s]"
      ]
     },
     "metadata": {},
     "output_type": "display_data"
    },
    {
     "data": {
      "application/vnd.jupyter.widget-view+json": {
       "model_id": "1a2a65065374458ab44228291ffa01b5",
       "version_major": 2,
       "version_minor": 0
      },
      "text/plain": [
       "Saving the dataset (0/1 shards):   0%|          | 0/1091 [00:00<?, ? examples/s]"
      ]
     },
     "metadata": {},
     "output_type": "display_data"
    },
    {
     "data": {
      "application/vnd.jupyter.widget-view+json": {
       "model_id": "b9254a13f45c4071b421f300044178d4",
       "version_major": 2,
       "version_minor": 0
      },
      "text/plain": [
       "Saving the dataset (0/1 shards):   0%|          | 0/500 [00:00<?, ? examples/s]"
      ]
     },
     "metadata": {},
     "output_type": "display_data"
    }
   ],
   "source": [
    "trec_train_coarse.save_to_disk(\"~/data/trec/train_coarse\")\n",
    "trec_eval_coarse.save_to_disk(\"~/data/trec/eval_coarse\")\n",
    "trec_test_coarse.save_to_disk(\"~/data/trec/test_coarse\")"
   ]
  },
  {
   "cell_type": "code",
   "execution_count": 20,
   "metadata": {},
   "outputs": [],
   "source": [
    "trec_train_coarse = load_dataset(\"CogComp/trec\", split='train') \n",
    "trec_test_coarse = load_dataset(\"CogComp/trec\", split='test') \n",
    "\n",
    "data = trec_train_coarse.train_test_split(test_size=0.2, seed=42, stratify_by_column='fine_label')"
   ]
  },
  {
   "cell_type": "code",
   "execution_count": 21,
   "metadata": {},
   "outputs": [],
   "source": [
    "trec_train_coarse = data['train']\n",
    "trec_eval_coarse = data['test']\n",
    "\n",
    "trec_train_coarse = trec_train_coarse.rename_column(\"text\", \"sentence\")\n",
    "trec_train_coarse = trec_train_coarse.rename_column(\"fine_label\", \"label\")\n",
    "trec_train_coarse = trec_train_coarse.remove_columns([\"coarse_label\"])\n",
    "\n",
    "trec_eval_coarse = trec_eval_coarse.rename_column(\"text\", \"sentence\")\n",
    "trec_eval_coarse = trec_eval_coarse.rename_column(\"fine_label\", \"label\")\n",
    "trec_eval_coarse = trec_eval_coarse.remove_columns([\"coarse_label\"])\n",
    "\n",
    "trec_test_coarse = trec_test_coarse.rename_column(\"text\", \"sentence\")\n",
    "trec_test_coarse = trec_test_coarse.rename_column(\"fine_label\", \"label\")\n",
    "trec_test_coarse = trec_test_coarse.remove_columns([\"coarse_label\"])"
   ]
  },
  {
   "cell_type": "code",
   "execution_count": 22,
   "metadata": {},
   "outputs": [
    {
     "data": {
      "application/vnd.jupyter.widget-view+json": {
       "model_id": "370389a587d94402afa2895c557a830a",
       "version_major": 2,
       "version_minor": 0
      },
      "text/plain": [
       "Saving the dataset (0/1 shards):   0%|          | 0/4361 [00:00<?, ? examples/s]"
      ]
     },
     "metadata": {},
     "output_type": "display_data"
    },
    {
     "data": {
      "application/vnd.jupyter.widget-view+json": {
       "model_id": "bc6c1456f5934cb498f47cfdb93290d5",
       "version_major": 2,
       "version_minor": 0
      },
      "text/plain": [
       "Saving the dataset (0/1 shards):   0%|          | 0/1091 [00:00<?, ? examples/s]"
      ]
     },
     "metadata": {},
     "output_type": "display_data"
    },
    {
     "data": {
      "application/vnd.jupyter.widget-view+json": {
       "model_id": "d651248afbb84263b63f54d48dd155eb",
       "version_major": 2,
       "version_minor": 0
      },
      "text/plain": [
       "Saving the dataset (0/1 shards):   0%|          | 0/500 [00:00<?, ? examples/s]"
      ]
     },
     "metadata": {},
     "output_type": "display_data"
    }
   ],
   "source": [
    "trec_train_coarse.save_to_disk(\"~/data/trec/train_fine\")\n",
    "trec_eval_coarse.save_to_disk(\"~/data/trec/eval_fine\")\n",
    "trec_test_coarse.save_to_disk(\"~/data/trec/test_fine\")"
   ]
  }
 ],
 "metadata": {
  "kernelspec": {
   "display_name": "Python 3 (ipykernel)",
   "language": "python",
   "name": "python3"
  }
 },
 "nbformat": 4,
 "nbformat_minor": 2
}
