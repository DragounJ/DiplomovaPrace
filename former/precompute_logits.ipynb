{
 "cells": [
  {
   "cell_type": "markdown",
   "id": "1678c2d1-3533-4c3c-bd59-c2fec846ce8f",
   "metadata": {},
   "source": [
    "# Notebook pro předbězný výpočet logitů\n",
    "\n",
    "V tomto notebooku se provádí výpočet logitů \"učitelským\" modelem dopředu. Důvod je jednoduchý, při učení formou distilace by se opakovaně logity počítaly, a tím by se učení zbytečně prodlužovalo. Logity tedy napočítáme dopředu a uložíme je k datasetu.\n",
    "Nejprve doinstalujeme knihovny, které nejsou v základu v imagy pro pytorch s GPU podporou na metacentu jupyter hub serveru v základu k dispozici."
   ]
  },
  {
   "cell_type": "code",
   "execution_count": 1,
   "id": "cc597fe3-2d26-4174-bdf7-63b803352f2b",
   "metadata": {},
   "outputs": [
    {
     "name": "stdout",
     "output_type": "stream",
     "text": [
      "Looking in indexes: https://pypi.org/simple, https://pypi.ngc.nvidia.com\n",
      "Collecting datasets\n",
      "  Downloading datasets-3.2.0-py3-none-any.whl.metadata (20 kB)\n",
      "Collecting ipywidgets\n",
      "  Downloading ipywidgets-8.1.5-py3-none-any.whl.metadata (2.3 kB)\n",
      "Requirement already satisfied: tqdm in /usr/local/lib/python3.10/dist-packages (4.66.5)\n",
      "Collecting transformers[torch]\n",
      "  Downloading transformers-4.48.2-py3-none-any.whl.metadata (44 kB)\n",
      "Requirement already satisfied: filelock in /usr/local/lib/python3.10/dist-packages (from transformers[torch]) (3.16.1)\n",
      "Collecting huggingface-hub<1.0,>=0.24.0 (from transformers[torch])\n",
      "  Downloading huggingface_hub-0.28.1-py3-none-any.whl.metadata (13 kB)\n",
      "Requirement already satisfied: numpy>=1.17 in /usr/local/lib/python3.10/dist-packages (from transformers[torch]) (1.24.4)\n",
      "Requirement already satisfied: packaging>=20.0 in /usr/local/lib/python3.10/dist-packages (from transformers[torch]) (23.2)\n",
      "Requirement already satisfied: pyyaml>=5.1 in /usr/local/lib/python3.10/dist-packages (from transformers[torch]) (6.0.2)\n",
      "Requirement already satisfied: regex!=2019.12.17 in /usr/local/lib/python3.10/dist-packages (from transformers[torch]) (2024.9.11)\n",
      "Requirement already satisfied: requests in /usr/local/lib/python3.10/dist-packages (from transformers[torch]) (2.32.3)\n",
      "Collecting tokenizers<0.22,>=0.21 (from transformers[torch])\n",
      "  Downloading tokenizers-0.21.0-cp39-abi3-manylinux_2_17_x86_64.manylinux2014_x86_64.whl.metadata (6.7 kB)\n",
      "Requirement already satisfied: safetensors>=0.4.1 in /usr/local/lib/python3.10/dist-packages (from transformers[torch]) (0.4.5)\n",
      "Requirement already satisfied: torch>=2.0 in /usr/local/lib/python3.10/dist-packages (from transformers[torch]) (2.5.0a0+e000cf0ad9.nv24.10)\n",
      "Collecting accelerate>=0.26.0 (from transformers[torch])\n",
      "  Downloading accelerate-1.3.0-py3-none-any.whl.metadata (19 kB)\n",
      "Requirement already satisfied: pyarrow>=15.0.0 in /usr/local/lib/python3.10/dist-packages (from datasets) (16.1.0)\n",
      "Collecting dill<0.3.9,>=0.3.0 (from datasets)\n",
      "  Downloading dill-0.3.8-py3-none-any.whl.metadata (10 kB)\n",
      "Requirement already satisfied: pandas in /usr/local/lib/python3.10/dist-packages (from datasets) (2.2.2)\n",
      "Collecting xxhash (from datasets)\n",
      "  Downloading xxhash-3.5.0-cp310-cp310-manylinux_2_17_x86_64.manylinux2014_x86_64.whl.metadata (12 kB)\n",
      "Collecting multiprocess<0.70.17 (from datasets)\n",
      "  Downloading multiprocess-0.70.16-py310-none-any.whl.metadata (7.2 kB)\n",
      "Requirement already satisfied: fsspec<=2024.9.0,>=2023.1.0 in /usr/local/lib/python3.10/dist-packages (from fsspec[http]<=2024.9.0,>=2023.1.0->datasets) (2024.6.1)\n",
      "Requirement already satisfied: aiohttp in /usr/local/lib/python3.10/dist-packages (from datasets) (3.10.5)\n",
      "Requirement already satisfied: comm>=0.1.3 in /usr/local/lib/python3.10/dist-packages (from ipywidgets) (0.2.2)\n",
      "Requirement already satisfied: ipython>=6.1.0 in /usr/local/lib/python3.10/dist-packages (from ipywidgets) (8.28.0)\n",
      "Requirement already satisfied: traitlets>=4.3.1 in /usr/local/lib/python3.10/dist-packages (from ipywidgets) (5.14.3)\n",
      "Collecting widgetsnbextension~=4.0.12 (from ipywidgets)\n",
      "  Downloading widgetsnbextension-4.0.13-py3-none-any.whl.metadata (1.6 kB)\n",
      "Collecting jupyterlab-widgets~=3.0.12 (from ipywidgets)\n",
      "  Downloading jupyterlab_widgets-3.0.13-py3-none-any.whl.metadata (4.1 kB)\n",
      "Requirement already satisfied: psutil in /usr/local/lib/python3.10/dist-packages (from accelerate>=0.26.0->transformers[torch]) (6.0.0)\n",
      "Requirement already satisfied: aiohappyeyeballs>=2.3.0 in /usr/local/lib/python3.10/dist-packages (from aiohttp->datasets) (2.4.0)\n",
      "Requirement already satisfied: aiosignal>=1.1.2 in /usr/local/lib/python3.10/dist-packages (from aiohttp->datasets) (1.3.1)\n",
      "Requirement already satisfied: attrs>=17.3.0 in /usr/local/lib/python3.10/dist-packages (from aiohttp->datasets) (24.2.0)\n",
      "Requirement already satisfied: frozenlist>=1.1.1 in /usr/local/lib/python3.10/dist-packages (from aiohttp->datasets) (1.4.1)\n",
      "Requirement already satisfied: multidict<7.0,>=4.5 in /usr/local/lib/python3.10/dist-packages (from aiohttp->datasets) (6.0.5)\n",
      "Requirement already satisfied: yarl<2.0,>=1.0 in /usr/local/lib/python3.10/dist-packages (from aiohttp->datasets) (1.9.4)\n",
      "Requirement already satisfied: async-timeout<5.0,>=4.0 in /usr/local/lib/python3.10/dist-packages (from aiohttp->datasets) (4.0.3)\n",
      "Requirement already satisfied: typing-extensions>=3.7.4.3 in /usr/local/lib/python3.10/dist-packages (from huggingface-hub<1.0,>=0.24.0->transformers[torch]) (4.12.2)\n",
      "Requirement already satisfied: decorator in /usr/local/lib/python3.10/dist-packages (from ipython>=6.1.0->ipywidgets) (5.1.1)\n",
      "Requirement already satisfied: jedi>=0.16 in /usr/local/lib/python3.10/dist-packages (from ipython>=6.1.0->ipywidgets) (0.19.1)\n",
      "Requirement already satisfied: matplotlib-inline in /usr/local/lib/python3.10/dist-packages (from ipython>=6.1.0->ipywidgets) (0.1.7)\n",
      "Requirement already satisfied: prompt-toolkit<3.1.0,>=3.0.41 in /usr/local/lib/python3.10/dist-packages (from ipython>=6.1.0->ipywidgets) (3.0.48)\n",
      "Requirement already satisfied: pygments>=2.4.0 in /usr/local/lib/python3.10/dist-packages (from ipython>=6.1.0->ipywidgets) (2.18.0)\n",
      "Requirement already satisfied: stack-data in /usr/local/lib/python3.10/dist-packages (from ipython>=6.1.0->ipywidgets) (0.6.3)\n",
      "Requirement already satisfied: exceptiongroup in /usr/local/lib/python3.10/dist-packages (from ipython>=6.1.0->ipywidgets) (1.2.2)\n",
      "Requirement already satisfied: pexpect>4.3 in /usr/local/lib/python3.10/dist-packages (from ipython>=6.1.0->ipywidgets) (4.9.0)\n",
      "Requirement already satisfied: charset-normalizer<4,>=2 in /usr/local/lib/python3.10/dist-packages (from requests->transformers[torch]) (3.3.2)\n",
      "Requirement already satisfied: idna<4,>=2.5 in /usr/local/lib/python3.10/dist-packages (from requests->transformers[torch]) (3.7)\n",
      "Requirement already satisfied: urllib3<3,>=1.21.1 in /usr/local/lib/python3.10/dist-packages (from requests->transformers[torch]) (2.0.7)\n",
      "Requirement already satisfied: certifi>=2017.4.17 in /usr/local/lib/python3.10/dist-packages (from requests->transformers[torch]) (2024.8.30)\n",
      "Requirement already satisfied: networkx in /usr/local/lib/python3.10/dist-packages (from torch>=2.0->transformers[torch]) (3.3)\n",
      "Requirement already satisfied: jinja2 in /usr/local/lib/python3.10/dist-packages (from torch>=2.0->transformers[torch]) (3.1.4)\n",
      "Requirement already satisfied: sympy==1.13.1 in /usr/local/lib/python3.10/dist-packages (from torch>=2.0->transformers[torch]) (1.13.1)\n",
      "Requirement already satisfied: mpmath<1.4,>=1.1.0 in /usr/local/lib/python3.10/dist-packages (from sympy==1.13.1->torch>=2.0->transformers[torch]) (1.3.0)\n",
      "Requirement already satisfied: python-dateutil>=2.8.2 in /usr/local/lib/python3.10/dist-packages (from pandas->datasets) (2.9.0.post0)\n",
      "Requirement already satisfied: pytz>=2020.1 in /usr/local/lib/python3.10/dist-packages (from pandas->datasets) (2023.4)\n",
      "Requirement already satisfied: tzdata>=2022.7 in /usr/local/lib/python3.10/dist-packages (from pandas->datasets) (2024.1)\n",
      "Requirement already satisfied: parso<0.9.0,>=0.8.3 in /usr/local/lib/python3.10/dist-packages (from jedi>=0.16->ipython>=6.1.0->ipywidgets) (0.8.4)\n",
      "Requirement already satisfied: ptyprocess>=0.5 in /usr/local/lib/python3.10/dist-packages (from pexpect>4.3->ipython>=6.1.0->ipywidgets) (0.7.0)\n",
      "Requirement already satisfied: wcwidth in /usr/local/lib/python3.10/dist-packages (from prompt-toolkit<3.1.0,>=3.0.41->ipython>=6.1.0->ipywidgets) (0.2.13)\n",
      "Requirement already satisfied: six>=1.5 in /usr/local/lib/python3.10/dist-packages (from python-dateutil>=2.8.2->pandas->datasets) (1.16.0)\n",
      "Requirement already satisfied: MarkupSafe>=2.0 in /usr/local/lib/python3.10/dist-packages (from jinja2->torch>=2.0->transformers[torch]) (2.1.5)\n",
      "Requirement already satisfied: executing>=1.2.0 in /usr/local/lib/python3.10/dist-packages (from stack-data->ipython>=6.1.0->ipywidgets) (2.1.0)\n",
      "Requirement already satisfied: asttokens>=2.1.0 in /usr/local/lib/python3.10/dist-packages (from stack-data->ipython>=6.1.0->ipywidgets) (2.4.1)\n",
      "Requirement already satisfied: pure-eval in /usr/local/lib/python3.10/dist-packages (from stack-data->ipython>=6.1.0->ipywidgets) (0.2.3)\n",
      "Downloading datasets-3.2.0-py3-none-any.whl (480 kB)\n",
      "Downloading ipywidgets-8.1.5-py3-none-any.whl (139 kB)\n",
      "Downloading accelerate-1.3.0-py3-none-any.whl (336 kB)\n",
      "Downloading dill-0.3.8-py3-none-any.whl (116 kB)\n",
      "Downloading huggingface_hub-0.28.1-py3-none-any.whl (464 kB)\n",
      "Downloading jupyterlab_widgets-3.0.13-py3-none-any.whl (214 kB)\n",
      "Downloading multiprocess-0.70.16-py310-none-any.whl (134 kB)\n",
      "Downloading tokenizers-0.21.0-cp39-abi3-manylinux_2_17_x86_64.manylinux2014_x86_64.whl (3.0 MB)\n",
      "\u001b[2K   \u001b[90m━━━━━━━━━━━━━━━━━━━━━━━━━━━━━━━━━━━━━━━━\u001b[0m \u001b[32m3.0/3.0 MB\u001b[0m \u001b[31m140.3 MB/s\u001b[0m eta \u001b[36m0:00:00\u001b[0m\n",
      "\u001b[?25hDownloading widgetsnbextension-4.0.13-py3-none-any.whl (2.3 MB)\n",
      "\u001b[2K   \u001b[90m━━━━━━━━━━━━━━━━━━━━━━━━━━━━━━━━━━━━━━━━\u001b[0m \u001b[32m2.3/2.3 MB\u001b[0m \u001b[31m449.9 MB/s\u001b[0m eta \u001b[36m0:00:00\u001b[0m\n",
      "\u001b[?25hDownloading transformers-4.48.2-py3-none-any.whl (9.7 MB)\n",
      "\u001b[2K   \u001b[90m━━━━━━━━━━━━━━━━━━━━━━━━━━━━━━━━━━━━━━━━\u001b[0m \u001b[32m9.7/9.7 MB\u001b[0m \u001b[31m316.8 MB/s\u001b[0m eta \u001b[36m0:00:00\u001b[0m\n",
      "\u001b[?25hDownloading xxhash-3.5.0-cp310-cp310-manylinux_2_17_x86_64.manylinux2014_x86_64.whl (194 kB)\n",
      "Installing collected packages: xxhash, widgetsnbextension, jupyterlab-widgets, dill, multiprocess, huggingface-hub, tokenizers, accelerate, transformers, ipywidgets, datasets\n",
      "  Attempting uninstall: dill\n",
      "    Found existing installation: dill 0.3.9\n",
      "    Uninstalling dill-0.3.9:\n",
      "      Successfully uninstalled dill-0.3.9\n",
      "Successfully installed accelerate-1.3.0 datasets-3.2.0 dill-0.3.8 huggingface-hub-0.28.1 ipywidgets-8.1.5 jupyterlab-widgets-3.0.13 multiprocess-0.70.16 tokenizers-0.21.0 transformers-4.48.2 widgetsnbextension-4.0.13 xxhash-3.5.0\n",
      "\n",
      "\u001b[1m[\u001b[0m\u001b[34;49mnotice\u001b[0m\u001b[1;39;49m]\u001b[0m\u001b[39;49m A new release of pip is available: \u001b[0m\u001b[31;49m24.2\u001b[0m\u001b[39;49m -> \u001b[0m\u001b[32;49m25.0\u001b[0m\n",
      "\u001b[1m[\u001b[0m\u001b[34;49mnotice\u001b[0m\u001b[1;39;49m]\u001b[0m\u001b[39;49m To update, run: \u001b[0m\u001b[32;49mpython -m pip install --upgrade pip\u001b[0m\n",
      "Note: you may need to restart the kernel to use updated packages.\n"
     ]
    }
   ],
   "source": [
    "%pip install transformers[torch] datasets ipywidgets tqdm"
   ]
  },
  {
   "cell_type": "markdown",
   "id": "36c29cb6-d4c6-4107-8697-cfc7bfdc251f",
   "metadata": {},
   "source": [
    "Následuje import využívaných knihoven"
   ]
  },
  {
   "cell_type": "code",
   "execution_count": 1,
   "id": "440e43bc-677d-4fc6-90c4-4f9de936c8bc",
   "metadata": {},
   "outputs": [],
   "source": [
    "from transformers import AutoModelForImageClassification\n",
    "from torchvision.transforms import v2 as transformsv2\n",
    "from torch.utils.data import Dataset\n",
    "import numpy as np\n",
    "import pickle\n",
    "import random\n",
    "import torch\n",
    "import os\n",
    "from tqdm.notebook import tqdm\n",
    "from PIL import Image\n"
   ]
  },
  {
   "cell_type": "markdown",
   "id": "508bad51-d97f-4bb8-bfab-1a88bcb4b0ad",
   "metadata": {},
   "source": [
    "Třídy pro načtení datasetů \"ručně\" chceme totiž pracovat s datech v jednotlivých souborech, ne s datasetem jako takovým. \n",
    "\n",
    "Předpokládá se již stažení datasetů. Případně je možné datasety stáhnout pomocí:\n",
    "\n",
    "torchvision.dataset.CIFAR10(root='./data/train', train=True, download=True, transform=transform)\n",
    "\n",
    "Samozřejmě je třeba úprava parametrů dle požadavků."
   ]
  },
  {
   "cell_type": "code",
   "execution_count": 2,
   "id": "c50bed0b",
   "metadata": {},
   "outputs": [
    {
     "name": "stdout",
     "output_type": "stream",
     "text": [
      "GPU is available and will be used: NVIDIA A100 80GB PCIe MIG 1g.10gb\n"
     ]
    }
   ],
   "source": [
    "if torch.cuda.is_available():\n",
    "    device = torch.device(\"cuda\")\n",
    "    print(\"GPU is available and will be used:\", torch.cuda.get_device_name(0))\n",
    "else:\n",
    "    device = torch.device(\"cpu\")\n",
    "    print(\"GPU is not available, using CPU.\")"
   ]
  },
  {
   "cell_type": "code",
   "execution_count": 3,
   "id": "0707c2c1",
   "metadata": {},
   "outputs": [],
   "source": [
    "def reset_seed(seed=42):\n",
    "    torch.manual_seed(seed)\n",
    "    random.seed(seed)\n",
    "    np.random.seed(seed)\n",
    "    torch.cuda.manual_seed(seed)\n",
    "    torch.cuda.manual_seed_all(seed) \n",
    "    torch.backends.cudnn.deterministic = True\n",
    "    torch.backends.cudnn.benchmark = False\n",
    "    os.environ['PYTHONHASHSEED'] = str(seed)"
   ]
  },
  {
   "cell_type": "code",
   "execution_count": 4,
   "id": "aabc9ae5",
   "metadata": {},
   "outputs": [],
   "source": [
    "reset_seed(42)"
   ]
  },
  {
   "cell_type": "code",
   "execution_count": 5,
   "id": "2d2ad7b5-9d80-4e16-b3f2-c37a9d63ef18",
   "metadata": {},
   "outputs": [],
   "source": [
    "class CustomCIFAR10(Dataset):\n",
    "    def __init__(self, root, batch=None, train=True, transform=None, target_transform=None):\n",
    "        self.root = root\n",
    "        self.train = train\n",
    "        self.transform = transform\n",
    "        self.target_transform = target_transform\n",
    "        \n",
    "\n",
    "        if self.train:\n",
    "            self.data_file = os.path.join(self.root, 'cifar-10-batches-py', f'data_batch_{batch}')\n",
    "        else:\n",
    "            self.data_file = os.path.join(self.root, 'cifar-10-batches-py', 'test_batch')\n",
    "\n",
    "        with open(self.data_file, 'rb') as fo:\n",
    "            dict = pickle.load(fo, encoding='bytes')\n",
    "            self.data = dict[b'data']\n",
    "            self.labels = dict[b'labels']\n",
    "        reset_seed(42)\n",
    "\n",
    "    def __len__(self):\n",
    "        return len(self.data)\n",
    "\n",
    "    def __getitem__(self, index):\n",
    "        image = self.data[index].reshape(3, 32, 32).transpose(1, 2, 0)\n",
    "        label = torch.as_tensor(self.labels[index])\n",
    "        \n",
    "\n",
    "        image = Image.fromarray(image.astype('uint8'), 'RGB')\n",
    "        if self.transform:            \n",
    "            torch.manual_seed(index)\n",
    "            image = self.transform(image)\n",
    "\n",
    "        if self.target_transform:\n",
    "            target = self.target_transform(target)\n",
    "\n",
    "        return  image.to(device), label.to(device)"
   ]
  },
  {
   "cell_type": "code",
   "execution_count": 6,
   "id": "e8233aef-eb72-4898-9965-354c86dc3410",
   "metadata": {},
   "outputs": [],
   "source": [
    "class CustomCIFAR100(Dataset):\n",
    "    def __init__(self, root, train=True, transform=None):\n",
    "        self.root = root\n",
    "        self.train = train\n",
    "        self.transform = transform\n",
    "\n",
    "        if self.train:\n",
    "            self.data_file = os.path.join(self.root, 'cifar-100-python', 'train')\n",
    "        else:\n",
    "            self.data_file = os.path.join(self.root, 'cifar-100-python', 'test')\n",
    "\n",
    "        with open(self.data_file, 'rb') as fo:\n",
    "            dict = pickle.load(fo, encoding='bytes')\n",
    "            self.data = dict[b'data']\n",
    "            self.labels = dict[b'fine_labels']\n",
    "\n",
    "\n",
    "    def __len__(self):\n",
    "        return len(self.data)\n",
    "\n",
    "    def __getitem__(self, index):\n",
    "        image = self.data[index].reshape(3, 32, 32).transpose(1, 2, 0)\n",
    "        label = self.labels[index]\n",
    "        \n",
    "\n",
    "        image = Image.fromarray(image.astype('uint8'), 'RGB')\n",
    "        if self.transform:\n",
    "            image = self.transform(image)\n",
    "            \n",
    "        return  image.to(device), label.to(device)"
   ]
  },
  {
   "cell_type": "markdown",
   "id": "e22ad681-0ac0-4577-ba51-4839cc1a5742",
   "metadata": {},
   "source": [
    "Načtení datasetů a transformace do velikosti, na které byl učitelský, ale i studentský model naučen.\n",
    "\n",
    "Připraveno jak pro CIFAR10 i CIFAR100, stačí upravit komentáře. Stejné platí i pro dataloader, kde se train v případě CIFAR10 nevyužije (rozpad datasetu do několika souborů)."
   ]
  },
  {
   "cell_type": "code",
   "execution_count": 7,
   "id": "aaa4e970",
   "metadata": {},
   "outputs": [],
   "source": [
    "reset_seed(42)"
   ]
  },
  {
   "cell_type": "code",
   "execution_count": 8,
   "id": "8db49fc4-f155-4f8f-aaaf-f67063e0654b",
   "metadata": {},
   "outputs": [],
   "source": [
    "transform = transformsv2.Compose([\n",
    "    transformsv2.ToImage(),\n",
    "    transformsv2.ToDtype(torch.float32, scale=True),\n",
    "    transformsv2.Resize((224, 224), antialias=True),\n",
    "    transformsv2.Normalize(mean=[0.485, 0.456, 0.406], std=[0.229, 0.224, 0.225]),\n",
    "])\n",
    "\n",
    "augment_transform = transformsv2.Compose([ \n",
    "    transformsv2.ToImage(),\n",
    "    transformsv2.ToDtype(torch.float32, scale=True),\n",
    "    transformsv2.Resize(size=(224, 224), antialias=True),\n",
    "    transformsv2.RandomHorizontalFlip(),\n",
    "    transformsv2.RandomVerticalFlip(),\n",
    "    transformsv2.RandomRotation(15),\n",
    "    transformsv2.Normalize(mean=[0.485, 0.456, 0.406], std=[0.229, 0.224, 0.225]),\n",
    "])\n",
    "\n",
    "##Vybere se správný dataset\n",
    "train_10 = CustomCIFAR10(root='./data/10', train=True, batch=1, transform=augment_transform)\n",
    "test_10 = CustomCIFAR10(root='./data/10', train=False, transform=transform)\n",
    "test_100 = CustomCIFAR100(root='./data/100', train=False, transform=transform)\n",
    "train_100 = CustomCIFAR100(root='./data/100', train=True, transform=transform)"
   ]
  },
  {
   "cell_type": "code",
   "execution_count": 9,
   "id": "f1f5d8f2-adc7-46a1-97fd-b28d7fc54e45",
   "metadata": {},
   "outputs": [],
   "source": [
    "test_dataloader_10 = torch.utils.data.DataLoader(test_10, batch_size=128, shuffle=False)\n",
    "train_dataloader_100 = torch.utils.data.DataLoader(train_100, batch_size=128, shuffle=False)\n",
    "test_dataloader_100 = torch.utils.data.DataLoader(test_100, batch_size=128, shuffle=False)\n"
   ]
  },
  {
   "cell_type": "code",
   "execution_count": null,
   "id": "52bea588",
   "metadata": {},
   "outputs": [],
   "source": [
    "from sklearn.model_selection import train_test_split\n",
    "train_idx, validation_idx = train_test_split(np.arange(len(train_100)),\n",
    "                                             test_size=0.2,\n",
    "                                             random_state=42,\n",
    "                                             shuffle=True,\n",
    "                                             stratify=train_100.labels)"
   ]
  },
  {
   "cell_type": "code",
   "execution_count": null,
   "id": "5fbf7cc5",
   "metadata": {},
   "outputs": [],
   "source": [
    "from torch.utils.data import Dataset, Subset\n",
    "train_100 = Subset(train_100, train_idx)"
   ]
  },
  {
   "cell_type": "code",
   "execution_count": 10,
   "id": "6ea06e9a",
   "metadata": {},
   "outputs": [
    {
     "name": "stderr",
     "output_type": "stream",
     "text": [
      "Clipping input data to the valid range for imshow with RGB data ([0..1] for floats or [0..255] for integers). Got range [-2.117904..2.430849].\n"
     ]
    },
    {
     "data": {
      "text/plain": [
       "<matplotlib.image.AxesImage at 0x71ddbc1f36a0>"
      ]
     },
     "execution_count": 10,
     "metadata": {},
     "output_type": "execute_result"
    },
    {
     "data": {
      "image/png": "[encoded data removed]",
      "text/plain": [
       "<Figure size 640x480 with 1 Axes>"
      ]
     },
     "metadata": {},
     "output_type": "display_data"
    }
   ],
   "source": [
    "import matplotlib.pyplot as plt\n",
    "plt.imshow(train_10[50][0].cpu().permute(1, 2, 0))\n"
   ]
  },
  {
   "cell_type": "code",
   "execution_count": 11,
   "id": "42507186",
   "metadata": {},
   "outputs": [
    {
     "name": "stderr",
     "output_type": "stream",
     "text": [
      "Clipping input data to the valid range for imshow with RGB data ([0..1] for floats or [0..255] for integers). Got range [-2.117904..0.1351534].\n"
     ]
    },
    {
     "data": {
      "text/plain": [
       "<matplotlib.image.AxesImage at 0x71ddbc0eabc0>"
      ]
     },
     "execution_count": 11,
     "metadata": {},
     "output_type": "execute_result"
    },
    {
     "data": {
      "image/png": "[encoded data removed]",
      "text/plain": [
       "<Figure size 640x480 with 1 Axes>"
      ]
     },
     "metadata": {},
     "output_type": "display_data"
    }
   ],
   "source": [
    "plt.imshow(train_10[20][0].cpu().permute(1, 2, 0))"
   ]
  },
  {
   "cell_type": "markdown",
   "id": "533b02a4-61e8-4880-b456-44cc8c4e8a78",
   "metadata": {},
   "source": [
    "Nastevení a reset seedů pro replikovatelnost, zřejmě bude možné zredukovat ..."
   ]
  },
  {
   "cell_type": "code",
   "execution_count": 13,
   "id": "ed2285c0-7918-4483-98c2-2e3dfa75b6e0",
   "metadata": {},
   "outputs": [],
   "source": [
    "reset_seed(42)"
   ]
  },
  {
   "cell_type": "markdown",
   "id": "b33ed8fd-da8d-49ff-ae77-688550738545",
   "metadata": {},
   "source": [
    "Definice učitelského modelu a jeho přepnutí do eval mode (nechceme trénovat a upravovat váhy, chceme pouze výstup)"
   ]
  },
  {
   "cell_type": "code",
   "execution_count": 14,
   "id": "8d3e4213-e298-4a5f-ab42-fd5d51620d22",
   "metadata": {},
   "outputs": [
    {
     "data": {
      "text/plain": [
       "ViTForImageClassification(\n",
       "  (vit): ViTModel(\n",
       "    (embeddings): ViTEmbeddings(\n",
       "      (patch_embeddings): ViTPatchEmbeddings(\n",
       "        (projection): Conv2d(3, 768, kernel_size=(16, 16), stride=(16, 16))\n",
       "      )\n",
       "      (dropout): Dropout(p=0.0, inplace=False)\n",
       "    )\n",
       "    (encoder): ViTEncoder(\n",
       "      (layer): ModuleList(\n",
       "        (0-11): 12 x ViTLayer(\n",
       "          (attention): ViTSdpaAttention(\n",
       "            (attention): ViTSdpaSelfAttention(\n",
       "              (query): Linear(in_features=768, out_features=768, bias=True)\n",
       "              (key): Linear(in_features=768, out_features=768, bias=True)\n",
       "              (value): Linear(in_features=768, out_features=768, bias=True)\n",
       "              (dropout): Dropout(p=0.0, inplace=False)\n",
       "            )\n",
       "            (output): ViTSelfOutput(\n",
       "              (dense): Linear(in_features=768, out_features=768, bias=True)\n",
       "              (dropout): Dropout(p=0.0, inplace=False)\n",
       "            )\n",
       "          )\n",
       "          (intermediate): ViTIntermediate(\n",
       "            (dense): Linear(in_features=768, out_features=3072, bias=True)\n",
       "            (intermediate_act_fn): GELUActivation()\n",
       "          )\n",
       "          (output): ViTOutput(\n",
       "            (dense): Linear(in_features=3072, out_features=768, bias=True)\n",
       "            (dropout): Dropout(p=0.0, inplace=False)\n",
       "          )\n",
       "          (layernorm_before): LayerNorm((768,), eps=1e-12, elementwise_affine=True)\n",
       "          (layernorm_after): LayerNorm((768,), eps=1e-12, elementwise_affine=True)\n",
       "        )\n",
       "      )\n",
       "    )\n",
       "    (layernorm): LayerNorm((768,), eps=1e-12, elementwise_affine=True)\n",
       "  )\n",
       "  (classifier): Linear(in_features=768, out_features=10, bias=True)\n",
       ")"
      ]
     },
     "execution_count": 14,
     "metadata": {},
     "output_type": "execute_result"
    }
   ],
   "source": [
    "##Vybere se daný \"učitelský\" model pro výpočet logitů\n",
    "\n",
    "model = AutoModelForImageClassification.from_pretrained(\n",
    "    \"aaraki/vit-base-patch16-224-in21k-finetuned-cifar10\",\n",
    "    num_labels=10,\n",
    ")\n",
    "#model = AutoModelForImageClassification.from_pretrained(\n",
    "#    \"Ahmed9275/Vit-Cifar100\",\n",
    "#    num_labels=100,\n",
    "#)\n",
    "\n",
    "model.to(device)"
   ]
  },
  {
   "cell_type": "code",
   "execution_count": 15,
   "id": "ee826e26-b78d-40d2-a2d5-afdfe06b5318",
   "metadata": {},
   "outputs": [
    {
     "data": {
      "text/plain": [
       "ViTForImageClassification(\n",
       "  (vit): ViTModel(\n",
       "    (embeddings): ViTEmbeddings(\n",
       "      (patch_embeddings): ViTPatchEmbeddings(\n",
       "        (projection): Conv2d(3, 768, kernel_size=(16, 16), stride=(16, 16))\n",
       "      )\n",
       "      (dropout): Dropout(p=0.0, inplace=False)\n",
       "    )\n",
       "    (encoder): ViTEncoder(\n",
       "      (layer): ModuleList(\n",
       "        (0-11): 12 x ViTLayer(\n",
       "          (attention): ViTSdpaAttention(\n",
       "            (attention): ViTSdpaSelfAttention(\n",
       "              (query): Linear(in_features=768, out_features=768, bias=True)\n",
       "              (key): Linear(in_features=768, out_features=768, bias=True)\n",
       "              (value): Linear(in_features=768, out_features=768, bias=True)\n",
       "              (dropout): Dropout(p=0.0, inplace=False)\n",
       "            )\n",
       "            (output): ViTSelfOutput(\n",
       "              (dense): Linear(in_features=768, out_features=768, bias=True)\n",
       "              (dropout): Dropout(p=0.0, inplace=False)\n",
       "            )\n",
       "          )\n",
       "          (intermediate): ViTIntermediate(\n",
       "            (dense): Linear(in_features=768, out_features=3072, bias=True)\n",
       "            (intermediate_act_fn): GELUActivation()\n",
       "          )\n",
       "          (output): ViTOutput(\n",
       "            (dense): Linear(in_features=3072, out_features=768, bias=True)\n",
       "            (dropout): Dropout(p=0.0, inplace=False)\n",
       "          )\n",
       "          (layernorm_before): LayerNorm((768,), eps=1e-12, elementwise_affine=True)\n",
       "          (layernorm_after): LayerNorm((768,), eps=1e-12, elementwise_affine=True)\n",
       "        )\n",
       "      )\n",
       "    )\n",
       "    (layernorm): LayerNorm((768,), eps=1e-12, elementwise_affine=True)\n",
       "  )\n",
       "  (classifier): Linear(in_features=768, out_features=10, bias=True)\n",
       ")"
      ]
     },
     "execution_count": 15,
     "metadata": {},
     "output_type": "execute_result"
    }
   ],
   "source": [
    "model.eval()"
   ]
  },
  {
   "cell_type": "markdown",
   "id": "4740686f-ff89-4594-b023-d394ce0ab0de",
   "metadata": {},
   "source": [
    "### Metody pro načtení a uložení upravených souborů\n",
    "\n",
    "Následně se vybere soubor, se kterým se pracuje. V případě CIFAR100 lze train část provést stejně jako test (veškerá data jsou v jednom souboru)."
   ]
  },
  {
   "cell_type": "code",
   "execution_count": 16,
   "id": "bf3b9ed3-9aac-4597-8328-0f6e74ba08cb",
   "metadata": {},
   "outputs": [],
   "source": [
    "def unpickle(file):\n",
    "    with open(file, 'rb') as fo:\n",
    "        dict = pickle.load(fo, encoding='bytes')\n",
    "    return dict\n",
    "\n",
    "def pickle_up(file, contents):\n",
    "    with open(file, 'wb') as fo:\n",
    "        pickle.dump(contents, fo, protocol=pickle.HIGHEST_PROTOCOL)"
   ]
  },
  {
   "cell_type": "code",
   "execution_count": 144,
   "id": "c6bbd28f-a5b9-4706-91fa-221006acea61",
   "metadata": {
    "scrolled": true
   },
   "outputs": [],
   "source": [
    "##Vybere se daný soubor, se kterým se pracuje\n",
    "\n",
    "testing = unpickle(\"data/test/cifar-10-batches-py/test_batch\")\n",
    "#testing = unpickle(\"data/100-logits/cifar-100-python/test\")\n",
    "#testing = unpickle(\"data/100-logits/cifar-100-python/train\")"
   ]
  },
  {
   "cell_type": "code",
   "execution_count": 145,
   "id": "05e58de1-b940-4685-b28b-cde497d9ace6",
   "metadata": {},
   "outputs": [],
   "source": [
    "logits_arr = []"
   ]
  },
  {
   "cell_type": "code",
   "execution_count": 146,
   "id": "d4ebbc81-a60d-4206-8124-c93981dbafd0",
   "metadata": {},
   "outputs": [
    {
     "data": {
      "application/vnd.jupyter.widget-view+json": {
       "model_id": "017b8985ef9f4cf8b1f7582f8bfa065a",
       "version_major": 2,
       "version_minor": 0
      },
      "text/plain": [
       "  0%|          | 0/79 [00:00<?, ?it/s]"
      ]
     },
     "metadata": {},
     "output_type": "display_data"
    }
   ],
   "source": [
    "##Pro Cifar100 stačí pustit znovu pro train (není rozpadlý v souborech)\n",
    "\n",
    "#for batch in tqdm(train_dataloader):\n",
    "for batch in tqdm(test_dataloader):\n",
    "    pixel_values, labels = batch\n",
    "    with torch.no_grad():\n",
    "        outputs = model(pixel_values)\n",
    "        logits = outputs.logits\n",
    "    logits_arr.append(logits.cpu().numpy())"
   ]
  },
  {
   "cell_type": "code",
   "execution_count": 147,
   "id": "0533b6e2-8dfa-4a65-a69d-a87897b58e0a",
   "metadata": {},
   "outputs": [],
   "source": [
    "logits_arr_flat = []\n",
    "data_arr_flat = []"
   ]
  },
  {
   "cell_type": "code",
   "execution_count": 148,
   "id": "0bfcc27e-f03e-4eee-b260-786997e0459d",
   "metadata": {},
   "outputs": [],
   "source": [
    "for tensor in logits_arr:\n",
    "    logits_arr_flat.extend(tensor)\n"
   ]
  },
  {
   "cell_type": "code",
   "execution_count": 149,
   "id": "27a40aa0-3e22-445a-b0c0-7925d8247d75",
   "metadata": {},
   "outputs": [],
   "source": [
    "testing[b\"logits\"] = logits_arr_flat"
   ]
  },
  {
   "cell_type": "code",
   "execution_count": 150,
   "id": "96a46025-7ef2-41c0-9a95-fa18aaf06fc8",
   "metadata": {},
   "outputs": [],
   "source": [
    "##Vybere se daný soubor, kam se uloží logity\n",
    "\n",
    "pickle_up(\"data/10-logits/cifar-10-batches-py/test_batch\", testing) \n",
    "#pickle_up(\"data/100-logits/cifar-100-python/test\", testing) \n",
    "#pickle_up(\"data/100-logits/cifar-100-python/train\", testing) "
   ]
  },
  {
   "cell_type": "markdown",
   "id": "58edb03b-113c-45df-84ad-d4dfa624daf0",
   "metadata": {},
   "source": [
    "## CIFAR10 \n",
    "Loop pro CIFAR10, jelikož má rozpadnutou training část datasetu do separátních souborů."
   ]
  },
  {
   "cell_type": "code",
   "execution_count": 151,
   "id": "974c5e60-3b96-408b-87c2-eb58538f5078",
   "metadata": {},
   "outputs": [
    {
     "data": {
      "application/vnd.jupyter.widget-view+json": {
       "model_id": "072b65d96b3244d290f49bdc23e3dcef",
       "version_major": 2,
       "version_minor": 0
      },
      "text/plain": [
       "Progress for file 1.:   0%|          | 0/157 [00:00<?, ?it/s]"
      ]
     },
     "metadata": {},
     "output_type": "display_data"
    },
    {
     "data": {
      "application/vnd.jupyter.widget-view+json": {
       "model_id": "759df73838ad492fb4f85789e7a55452",
       "version_major": 2,
       "version_minor": 0
      },
      "text/plain": [
       "Progress for file 1 with augmentation.:   0%|          | 0/157 [00:00<?, ?it/s]"
      ]
     },
     "metadata": {},
     "output_type": "display_data"
    },
    {
     "data": {
      "application/vnd.jupyter.widget-view+json": {
       "model_id": "045a8d0e05234d1e98fca28a21c58242",
       "version_major": 2,
       "version_minor": 0
      },
      "text/plain": [
       "Progress for file 2.:   0%|          | 0/157 [00:00<?, ?it/s]"
      ]
     },
     "metadata": {},
     "output_type": "display_data"
    },
    {
     "data": {
      "application/vnd.jupyter.widget-view+json": {
       "model_id": "e5fa91dfdb1d4b45b98ba6f7184e8d86",
       "version_major": 2,
       "version_minor": 0
      },
      "text/plain": [
       "Progress for file 2 with augmentation.:   0%|          | 0/157 [00:00<?, ?it/s]"
      ]
     },
     "metadata": {},
     "output_type": "display_data"
    },
    {
     "data": {
      "application/vnd.jupyter.widget-view+json": {
       "model_id": "c8cb87e126b84614a25c4d0cdc016c7c",
       "version_major": 2,
       "version_minor": 0
      },
      "text/plain": [
       "Progress for file 3.:   0%|          | 0/157 [00:00<?, ?it/s]"
      ]
     },
     "metadata": {},
     "output_type": "display_data"
    },
    {
     "data": {
      "application/vnd.jupyter.widget-view+json": {
       "model_id": "5dfa675c9c3a457eb7b86f27a577a610",
       "version_major": 2,
       "version_minor": 0
      },
      "text/plain": [
       "Progress for file 3 with augmentation.:   0%|          | 0/157 [00:00<?, ?it/s]"
      ]
     },
     "metadata": {},
     "output_type": "display_data"
    },
    {
     "data": {
      "application/vnd.jupyter.widget-view+json": {
       "model_id": "4babe58ee3b24d13ba5aa2d7c7728a02",
       "version_major": 2,
       "version_minor": 0
      },
      "text/plain": [
       "Progress for file 4.:   0%|          | 0/157 [00:00<?, ?it/s]"
      ]
     },
     "metadata": {},
     "output_type": "display_data"
    },
    {
     "data": {
      "application/vnd.jupyter.widget-view+json": {
       "model_id": "0cded0c5e2594aa0be64bc0ae082e052",
       "version_major": 2,
       "version_minor": 0
      },
      "text/plain": [
       "Progress for file 4 with augmentation.:   0%|          | 0/157 [00:00<?, ?it/s]"
      ]
     },
     "metadata": {},
     "output_type": "display_data"
    }
   ],
   "source": [
    "#Pro Cifar10\n",
    "\n",
    "reset_seed(42)\n",
    "for index in range(1,5):\n",
    "\n",
    "    data = unpickle(f\"data/10/cifar-10-batches-py/data_batch_{index}\")\n",
    "\n",
    "    train = CustomCIFAR10(root='./data/10', batch=index, train=True, transform=transform)\n",
    "    train_augmented = CustomCIFAR10(root='./data/10', batch=index, train=True, transform=augment_transform)\n",
    "    train_dataloader = torch.utils.data.DataLoader(train, batch_size=64, shuffle=False)\n",
    "    train_dataloader_augmented = torch.utils.data.DataLoader(train_augmented, batch_size=64, shuffle=False)\n",
    "\n",
    "    logits_arr = []\n",
    "    logits_arr_aug = []\n",
    "\n",
    "    for batch in tqdm(train_dataloader, desc = f\"Progress for file {index}.\"): \n",
    "        pixel_values, labels = batch\n",
    "        with torch.no_grad():\n",
    "            outputs = model(pixel_values)\n",
    "            logits = outputs.logits\n",
    "        logits_arr.append(logits.cpu().numpy())\n",
    "\n",
    "    for batch in tqdm(train_dataloader_augmented, desc = f\"Progress for file {index} with augmentation.\"): \n",
    "        pixel_values, labels = batch\n",
    "        with torch.no_grad():\n",
    "            outputs = model(pixel_values)\n",
    "            logits = outputs.logits\n",
    "        logits_arr_aug.append(logits.cpu().numpy())\n",
    "\n",
    "    \n",
    "    logits_arr_flat = []\n",
    "    logits_arr_aug_flat = []\n",
    "\n",
    "    for tensor in logits_arr:\n",
    "        logits_arr_flat.extend(tensor)\n",
    "\n",
    "    for tensor in logits_arr_aug:\n",
    "        logits_arr_aug_flat.extend(tensor)\n",
    "\n",
    "    data[b\"logits\"] = logits_arr_flat\n",
    "    data[b\"logits_aug\"] = logits_arr_aug_flat\n",
    "    #pickle_up(f\"data/10-logits/cifar-10-batches-py/data_batch_{index}\",data)\n",
    "    pickle_up(f\"data/10-logits/cifar-10-batches-py/data_batch_{index}\",data)"
   ]
  },
  {
   "cell_type": "code",
   "execution_count": 17,
   "id": "baad0a92",
   "metadata": {},
   "outputs": [],
   "source": [
    "from transformers import Trainer, TrainingArguments, MobileNetV2Config, MobileNetV2ForImageClassification, EarlyStoppingCallback\n",
    "import evaluate\n",
    "from enum import Enum\n",
    "\n",
    "accuracy_metric = evaluate.load(\"accuracy\")\n",
    "precision_metric = evaluate.load(\"precision\")\n",
    "recall_metric = evaluate.load(\"recall\")\n",
    "f1_metric = evaluate.load(\"f1\")\n",
    "\n",
    "def compute_metrics(eval_pred):\n",
    "    pred, labels = eval_pred\n",
    "    predictions = np.argmax(pred, axis=1)\n",
    "    \n",
    "    accuracy = accuracy_metric.compute(predictions=predictions, references=labels)\n",
    "    precision = precision_metric.compute(predictions=predictions, references=labels, average='macro', zero_division = 0)\n",
    "    recall = recall_metric.compute(predictions=predictions, references=labels, average='macro', zero_division = 0)\n",
    "    f1 = f1_metric.compute(predictions=predictions, references=labels, average='macro')\n",
    "\n",
    "    return {\n",
    "        \"accuracy\": accuracy[\"accuracy\"],\n",
    "        \"precision\": precision[\"precision\"],\n",
    "        \"recall\": recall[\"recall\"],\n",
    "        \"f1\": f1[\"f1\"]\n",
    "    }"
   ]
  },
  {
   "cell_type": "code",
   "execution_count": 18,
   "id": "9f275c50",
   "metadata": {},
   "outputs": [],
   "source": [
    "class Custom_training_args(TrainingArguments):\n",
    "    def __init__(self, lambda_param, temperature, *args, **kwargs):\n",
    "        super().__init__(*args, **kwargs)    \n",
    "        self.lambda_param = lambda_param\n",
    "        self.temperature = temperature"
   ]
  },
  {
   "cell_type": "code",
   "execution_count": 19,
   "id": "8df67e31",
   "metadata": {},
   "outputs": [],
   "source": [
    "def get_training_args(output_dir, logging_dir, remove_unused_columns=True, lr=5e-5, epochs=5, weight_decay=0, lambda_param=.5, temp=5):\n",
    "    return (\n",
    "        Custom_training_args(\n",
    "        output_dir=output_dir,\n",
    "        eval_strategy=\"epoch\",\n",
    "        save_strategy=\"epoch\",\n",
    "        logging_strategy=\"epoch\",\n",
    "        learning_rate=lr, #Defaultní hodnota \n",
    "        per_device_train_batch_size=128,\n",
    "        per_device_eval_batch_size=128,\n",
    "        num_train_epochs=epochs,\n",
    "        weight_decay=weight_decay,\n",
    "        seed = 42,  #Defaultní hodnota \n",
    "        metric_for_best_model=\"f1\",\n",
    "        load_best_model_at_end = True,\n",
    "        fp16=True, \n",
    "        logging_dir=logging_dir,\n",
    "        remove_unused_columns=remove_unused_columns,\n",
    "        lambda_param = lambda_param, \n",
    "        temperature = temp\n",
    "    ))"
   ]
  },
  {
   "cell_type": "code",
   "execution_count": 20,
   "id": "49a790b9",
   "metadata": {},
   "outputs": [],
   "source": [
    "training_args = get_training_args(output_dir=\"./results/cifar10-random\", logging_dir='./logs/cifar10-random', lr=0.0005, weight_decay=0.008, epochs=20)"
   ]
  },
  {
   "cell_type": "code",
   "execution_count": 21,
   "id": "9793efa5",
   "metadata": {},
   "outputs": [],
   "source": [
    "dataset_part = Enum('dataset_part', [('TRAIN', 1), ('TEST', 2), ('EVAL', 3)])"
   ]
  },
  {
   "cell_type": "code",
   "execution_count": 78,
   "id": "16a9846e",
   "metadata": {},
   "outputs": [],
   "source": [
    "class CustomCIFAR10(Dataset):\n",
    "    def __init__(self, root, dataset_part = dataset_part.TRAIN, transform=None):\n",
    "        self.root = root\n",
    "        self.dataset_part = dataset_part\n",
    "        self.transform = transform\n",
    "        self.data = []\n",
    "        self.targets = []\n",
    "        self.logits = []\n",
    "        self.logits_aug = []\n",
    "\n",
    "        if self.dataset_part == dataset_part.TRAIN:\n",
    "             for i in range(1, 5):\n",
    "                 data_file = os.path.join(self.root, 'cifar-10-batches-py', f'data_batch_{i}')\n",
    "                 with open(data_file, 'rb') as fo:\n",
    "                     dict = pickle.load(fo, encoding='bytes')\n",
    "                     self.data.append(dict[b'data'])\n",
    "                     self.targets.extend(dict[b'labels'])\n",
    "                     self.logits.extend(dict[b'logits'])\n",
    "                     self.logits_aug.extend(dict[b'logits_aug'])   \n",
    "\n",
    "        elif self.dataset_part == dataset_part.TEST:\n",
    "            data_file = os.path.join(self.root, 'cifar-10-batches-py', 'test_batch')\n",
    "            with open(data_file, 'rb') as fo:\n",
    "                dict = pickle.load(fo, encoding='bytes')\n",
    "                self.data.append(dict[b'data'])\n",
    "                self.targets.extend(dict[b'labels'])\n",
    "                self.logits.extend(dict[b'logits'])\n",
    "        else:\n",
    "            data_file = os.path.join(self.root, 'cifar-10-batches-py', 'data_batch_5')\n",
    "            with open(data_file, \"rb\") as fo:\n",
    "                dict = pickle.load(fo, encoding='bytes')\n",
    "                self.data.append(dict[b'data'])\n",
    "                self.targets.extend(dict[b'labels'])\n",
    "                self.logits.extend(dict[b'logits'])  \n",
    "\n",
    "        self.data = np.concatenate(self.data, axis=0)\n",
    "        self.targets = np.array(self.targets)\n",
    "        self.logits = np.array(self.logits)\n",
    "        \n",
    "\n",
    "    def __len__(self):\n",
    "        return len(self.data)\n",
    "\n",
    "    def __getitem__(self, index):\n",
    "        image = self.data[index].reshape(3, 32, 32).transpose(1, 2, 0)\n",
    "        image = Image.fromarray(image.astype('uint8'), 'RGB')\n",
    "        label = self.targets[index]\n",
    "        #logit = self.logits[index]\n",
    "\n",
    "        if self.transform:\n",
    "            logit = self.logits[index] if len(self.transform.extra_repr()) < 300 else self.logits_aug[index]\n",
    "            torch.manual_seed(index%10000)\n",
    "            image = self.transform(image)\n",
    "\n",
    "        logit = torch.tensor(logit, dtype=torch.float)\n",
    "        \n",
    "            \n",
    "\n",
    "        return {\n",
    "            'pixel_values': image,\n",
    "            'labels': label,\n",
    "            'logits': logit,\n",
    "        }\n",
    "    \n",
    "    def remove_entries(self, remove_list):\n",
    "        self.data = np.delete(self.data, remove_list, axis=0)\n",
    "        self.targets = np.delete(self.targets, remove_list, axis=0)\n",
    "        self.logits = np.delete(self.logits, remove_list, axis=0)\n",
    "        self.logits_arr = np.delete(self.logits_aug, remove_list, axis=0)\n",
    "    \n",
    "    @property\n",
    "    def labels(self):\n",
    "        return self.targets\n"
   ]
  },
  {
   "cell_type": "code",
   "execution_count": 79,
   "id": "8896e667",
   "metadata": {},
   "outputs": [],
   "source": [
    "augment_transform = transformsv2.Compose([ \n",
    "    transformsv2.ToImage(),\n",
    "    transformsv2.ToDtype(torch.float32, scale=True),\n",
    "    transformsv2.Resize(size=(224, 224), antialias=True),\n",
    "    transformsv2.RandomHorizontalFlip(),\n",
    "    transformsv2.RandomVerticalFlip(),\n",
    "    transformsv2.RandomRotation(15),\n",
    "    transformsv2.Normalize(mean=[0.485, 0.456, 0.406], std=[0.229, 0.224, 0.225]),\n",
    "])\n",
    "\n",
    "\n",
    "train_aug = CustomCIFAR10(root='./data/10-logits', dataset_part=dataset_part.TRAIN, transform=augment_transform)\n",
    "train = CustomCIFAR10(root='./data/10-logits', dataset_part=dataset_part.TRAIN, transform=transform)\n"
   ]
  },
  {
   "cell_type": "code",
   "execution_count": 80,
   "id": "a6cea175",
   "metadata": {},
   "outputs": [
    {
     "data": {
      "text/plain": [
       "ViTForImageClassification(\n",
       "  (vit): ViTModel(\n",
       "    (embeddings): ViTEmbeddings(\n",
       "      (patch_embeddings): ViTPatchEmbeddings(\n",
       "        (projection): Conv2d(3, 768, kernel_size=(16, 16), stride=(16, 16))\n",
       "      )\n",
       "      (dropout): Dropout(p=0.0, inplace=False)\n",
       "    )\n",
       "    (encoder): ViTEncoder(\n",
       "      (layer): ModuleList(\n",
       "        (0-11): 12 x ViTLayer(\n",
       "          (attention): ViTSdpaAttention(\n",
       "            (attention): ViTSdpaSelfAttention(\n",
       "              (query): Linear(in_features=768, out_features=768, bias=True)\n",
       "              (key): Linear(in_features=768, out_features=768, bias=True)\n",
       "              (value): Linear(in_features=768, out_features=768, bias=True)\n",
       "              (dropout): Dropout(p=0.0, inplace=False)\n",
       "            )\n",
       "            (output): ViTSelfOutput(\n",
       "              (dense): Linear(in_features=768, out_features=768, bias=True)\n",
       "              (dropout): Dropout(p=0.0, inplace=False)\n",
       "            )\n",
       "          )\n",
       "          (intermediate): ViTIntermediate(\n",
       "            (dense): Linear(in_features=768, out_features=3072, bias=True)\n",
       "            (intermediate_act_fn): GELUActivation()\n",
       "          )\n",
       "          (output): ViTOutput(\n",
       "            (dense): Linear(in_features=3072, out_features=768, bias=True)\n",
       "            (dropout): Dropout(p=0.0, inplace=False)\n",
       "          )\n",
       "          (layernorm_before): LayerNorm((768,), eps=1e-12, elementwise_affine=True)\n",
       "          (layernorm_after): LayerNorm((768,), eps=1e-12, elementwise_affine=True)\n",
       "        )\n",
       "      )\n",
       "    )\n",
       "    (layernorm): LayerNorm((768,), eps=1e-12, elementwise_affine=True)\n",
       "  )\n",
       "  (classifier): Linear(in_features=768, out_features=10, bias=True)\n",
       ")"
      ]
     },
     "execution_count": 80,
     "metadata": {},
     "output_type": "execute_result"
    }
   ],
   "source": [
    "model.eval()"
   ]
  },
  {
   "cell_type": "code",
   "execution_count": 89,
   "id": "2d400b9a",
   "metadata": {},
   "outputs": [
    {
     "data": {
      "application/vnd.jupyter.widget-view+json": {
       "model_id": "7c1e0bc7a12f46fdb73cdc25a969a334",
       "version_major": 2,
       "version_minor": 0
      },
      "text/plain": [
       "Progress for base train set:   0%|          | 0/40000 [00:00<?, ?it/s]"
      ]
     },
     "metadata": {},
     "output_type": "display_data"
    },
    {
     "name": "stdout",
     "output_type": "stream",
     "text": [
      "Accuracy for base train set: 0.954925\n"
     ]
    }
   ],
   "source": [
    "corr = []\n",
    "for val in tqdm(train, desc = \"Progress for base train set\"):\n",
    "    if torch.topk(val[\"logits\"], k=1).indices.numpy()[0] == val[\"labels\"]:  corr.append(True)\n",
    "    \n",
    "print(f\"Accuracy for base train set: {len(corr)/len(train)}\")  \n"
   ]
  },
  {
   "cell_type": "code",
   "execution_count": 83,
   "id": "c36bc2a5",
   "metadata": {},
   "outputs": [
    {
     "data": {
      "application/vnd.jupyter.widget-view+json": {
       "model_id": "6452c0ce6757466e916b533cf43e0dd6",
       "version_major": 2,
       "version_minor": 0
      },
      "text/plain": [
       "Progress for augmented train set:   0%|          | 0/40000 [00:00<?, ?it/s]"
      ]
     },
     "metadata": {},
     "output_type": "display_data"
    },
    {
     "name": "stdout",
     "output_type": "stream",
     "text": [
      "Accuracy for base train set: 0.686\n"
     ]
    }
   ],
   "source": [
    "corr.clear()\n",
    "\n",
    "for val in tqdm(train_aug, desc = \"Progress for augmented train set\"):\n",
    "    if torch.topk(val[\"logits\"], k=1).indices.numpy()[0] == val[\"labels\"]:  corr.append(True)\n",
    "\n",
    "print(f\"Accuracy for base train set: {len(corr)/len(train_aug)}\")  "
   ]
  },
  {
   "cell_type": "code",
   "execution_count": 84,
   "id": "46768f1b",
   "metadata": {},
   "outputs": [
    {
     "data": {
      "application/vnd.jupyter.widget-view+json": {
       "model_id": "3b933135f9b641d4afc4fe5cc42e62b9",
       "version_major": 2,
       "version_minor": 0
      },
      "text/plain": [
       "Progress for basic combined train set:   0%|          | 0/80000 [00:00<?, ?it/s]"
      ]
     },
     "metadata": {},
     "output_type": "display_data"
    },
    {
     "name": "stdout",
     "output_type": "stream",
     "text": [
      "Accuracy for base train set: 0.8204625\n"
     ]
    }
   ],
   "source": [
    "train_combo = torch.utils.data.ConcatDataset([train, train_aug])\n",
    "corr.clear()\n",
    "\n",
    "for val in tqdm(train_combo, desc = \"Progress for basic combined train set\"):\n",
    "    if torch.topk(val[\"logits\"], k=1).indices.numpy()[0] == val[\"labels\"]:  corr.append(True)\n",
    "\n",
    "print(f\"Accuracy for base train set: {len(corr)/len(train_combo)}\")  "
   ]
  },
  {
   "cell_type": "code",
   "execution_count": 85,
   "id": "ec47bed8",
   "metadata": {},
   "outputs": [],
   "source": [
    "rem_ls = []\n",
    "\n",
    "for index, val in enumerate(train_aug):\n",
    "    target_alt = torch.topk(val[\"logits\"], k=1).indices.numpy()[0]\n",
    "    target_act = torch.topk(train[index][\"logits\"], k=1).indices.numpy()[0]\n",
    "    if target_alt != target_act:\n",
    "        rem_ls.append(index)"
   ]
  },
  {
   "cell_type": "code",
   "execution_count": 86,
   "id": "ff5a0cf8",
   "metadata": {},
   "outputs": [],
   "source": [
    "train_aug.remove_entries(rem_ls)"
   ]
  },
  {
   "cell_type": "code",
   "execution_count": 87,
   "id": "5024f2e0",
   "metadata": {},
   "outputs": [
    {
     "data": {
      "application/vnd.jupyter.widget-view+json": {
       "model_id": "9888ab7f1bf542f6b6bab1d796b0c54f",
       "version_major": 2,
       "version_minor": 0
      },
      "text/plain": [
       "Progress for filtered combined train set:   0%|          | 0/68176 [00:00<?, ?it/s]"
      ]
     },
     "metadata": {},
     "output_type": "display_data"
    },
    {
     "name": "stdout",
     "output_type": "stream",
     "text": [
      "Accuracy for filtered combined train set: 0.9576243839474302\n"
     ]
    }
   ],
   "source": [
    "train_combo = torch.utils.data.ConcatDataset([train, train_aug])\n",
    "corr.clear()\n",
    "\n",
    "for val in tqdm(train_combo, desc = \"Progress for filtered combined train set\"):\n",
    "    if torch.topk(val[\"logits\"], k=1).indices.numpy()[0] == val[\"labels\"]:  corr.append(True)\n",
    "\n",
    "print(f\"Accuracy for filtered combined train set: {len(corr)/len(train_combo)}\")  "
   ]
  },
  {
   "cell_type": "code",
   "execution_count": 90,
   "id": "bac2b8d6",
   "metadata": {},
   "outputs": [
    {
     "name": "stdout",
     "output_type": "stream",
     "text": [
      "{'pixel_values': Image([[[-1.1075, -1.1075, -1.1075,  ...,  0.4166,  0.4166,  0.4166],\n",
      "        [-1.1075, -1.1075, -1.1075,  ...,  0.4166,  0.4166,  0.4166],\n",
      "        [-1.1075, -1.1075, -1.1075,  ...,  0.4166,  0.4166,  0.4166],\n",
      "        ...,\n",
      "        [ 0.9132,  0.9132,  0.9132,  ..., -0.0116, -0.0116, -0.0116],\n",
      "        [ 0.9132,  0.9132,  0.9132,  ..., -0.0116, -0.0116, -0.0116],\n",
      "        [ 0.9132,  0.9132,  0.9132,  ..., -0.0116, -0.0116, -0.0116]],\n",
      "\n",
      "       [[-0.9503, -0.9503, -0.9503,  ...,  0.1352,  0.1352,  0.1352],\n",
      "        [-0.9503, -0.9503, -0.9503,  ...,  0.1352,  0.1352,  0.1352],\n",
      "        [-0.9503, -0.9503, -0.9503,  ...,  0.1352,  0.1352,  0.1352],\n",
      "        ...,\n",
      "        [ 0.4853,  0.4853,  0.4853,  ..., -0.4251, -0.4251, -0.4251],\n",
      "        [ 0.4853,  0.4853,  0.4853,  ..., -0.4251, -0.4251, -0.4251],\n",
      "        [ 0.4853,  0.4853,  0.4853,  ..., -0.4251, -0.4251, -0.4251]],\n",
      "\n",
      "       [[-0.7064, -0.7064, -0.7064,  ..., -0.0092, -0.0092, -0.0092],\n",
      "        [-0.7064, -0.7064, -0.7064,  ..., -0.0092, -0.0092, -0.0092],\n",
      "        [-0.7064, -0.7064, -0.7064,  ..., -0.0092, -0.0092, -0.0092],\n",
      "        ...,\n",
      "        [ 0.2173,  0.2173,  0.2173,  ..., -0.5495, -0.5495, -0.5495],\n",
      "        [ 0.2173,  0.2173,  0.2173,  ..., -0.5495, -0.5495, -0.5495],\n",
      "        [ 0.2173,  0.2173,  0.2173,  ..., -0.5495, -0.5495, -0.5495]]], ), 'labels': 6, 'logits': tensor([-0.6664, -0.7595,  0.2139,  0.4055, -0.1782,  0.0468,  2.8697, -0.6455,\n",
      "        -0.6608, -0.5771])}\n"
     ]
    }
   ],
   "source": [
    "print(train[0])"
   ]
  },
  {
   "cell_type": "code",
   "execution_count": 88,
   "id": "b1df5f1e",
   "metadata": {},
   "outputs": [
    {
     "data": {
      "application/vnd.jupyter.widget-view+json": {
       "model_id": "15a1cb80802641448c2de0044a40a1a0",
       "version_major": 2,
       "version_minor": 0
      },
      "text/plain": [
       "Progress for filtered augmented train set:   0%|          | 0/28176 [00:00<?, ?it/s]"
      ]
     },
     "metadata": {},
     "output_type": "display_data"
    },
    {
     "name": "stdout",
     "output_type": "stream",
     "text": [
      "Accuracy for filtered augmented train set: 0.9614565587734242\n"
     ]
    }
   ],
   "source": [
    "corr.clear()\n",
    "\n",
    "for val in tqdm(train_aug, desc = \"Progress for filtered augmented train set\"):\n",
    "    if torch.topk(val[\"logits\"], k=1).indices.numpy()[0] == val[\"labels\"]:  corr.append(True)\n",
    "\n",
    "print(f\"Accuracy for filtered augmented train set: {len(corr)/len(train_aug)}\")  "
   ]
  }
 ],
 "metadata": {
  "kernelspec": {
   "display_name": "Python 3 (ipykernel)",
   "language": "python",
   "name": "python3"
  },
  "language_info": {
   "codemirror_mode": {
    "name": "ipython",
    "version": 3
   },
   "file_extension": ".py",
   "mimetype": "text/x-python",
   "name": "python",
   "nbconvert_exporter": "python",
   "pygments_lexer": "ipython3",
   "version": "3.10.12"
  }
 },
 "nbformat": 4,
 "nbformat_minor": 5
}
