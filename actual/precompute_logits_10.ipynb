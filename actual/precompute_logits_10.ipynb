{
 "cells": [
  {
   "cell_type": "code",
   "execution_count": 1,
   "metadata": {},
   "outputs": [],
   "source": [
    "from transformers import AutoModelForImageClassification\n",
    "from torchvision.transforms import v2 as transformsv2\n",
    "from torch.utils.data import Dataset\n",
    "from tqdm.notebook import tqdm\n",
    "from enum import Enum\n",
    "from PIL import Image\n",
    "import numpy as np\n",
    "import pickle\n",
    "import random\n",
    "import torch\n",
    "import base\n",
    "import os"
   ]
  },
  {
   "cell_type": "code",
   "execution_count": 2,
   "metadata": {},
   "outputs": [
    {
     "name": "stdout",
     "output_type": "stream",
     "text": [
      "GPU is available and will be used: NVIDIA A100 80GB PCIe MIG 2g.20gb\n"
     ]
    }
   ],
   "source": [
    "if torch.cuda.is_available():\n",
    "    device = torch.device(\"cuda\")\n",
    "    print(\"GPU is available and will be used:\", torch.cuda.get_device_name(0))\n",
    "else:\n",
    "    device = torch.device(\"cpu\")\n",
    "    print(\"GPU is not available, using CPU.\")"
   ]
  },
  {
   "cell_type": "code",
   "execution_count": 3,
   "metadata": {},
   "outputs": [],
   "source": [
    "def reset_seed(seed=42):\n",
    "    torch.manual_seed(seed)\n",
    "    random.seed(seed)\n",
    "    np.random.seed(seed)\n",
    "    torch.cuda.manual_seed(seed)\n",
    "    torch.cuda.manual_seed_all(seed) \n",
    "    torch.backends.cudnn.deterministic = True\n",
    "    torch.backends.cudnn.benchmark = False\n",
    "    os.environ['PYTHONHASHSEED'] = str(seed)"
   ]
  },
  {
   "cell_type": "code",
   "execution_count": 4,
   "metadata": {},
   "outputs": [],
   "source": [
    "reset_seed(42)\n",
    "dataset_part = Enum('dataset_part', [('TRAIN', 1), ('TEST', 2), ('EVAL', 3)])"
   ]
  },
  {
   "cell_type": "code",
   "execution_count": 42,
   "metadata": {},
   "outputs": [],
   "source": [
    "class CustomCIFAR10(Dataset):\n",
    "    def __init__(self, root, batch=None, train=True, transform=None):\n",
    "        self.root = root\n",
    "        self.train = train\n",
    "        self.transform = transform\n",
    "        \n",
    "\n",
    "        if self.train:\n",
    "            self.data_file = os.path.join(self.root, 'cifar-10-batches-py', f'data_batch_{batch}')\n",
    "        else:\n",
    "            self.data_file = os.path.join(self.root, 'cifar-10-batches-py', 'test_batch')\n",
    "\n",
    "        with open(self.data_file, 'rb') as fo:\n",
    "            dict = pickle.load(fo, encoding='bytes')\n",
    "            self.data = dict[b'data']\n",
    "            self.labels = dict[b'labels']\n",
    "\n",
    "    def __len__(self):\n",
    "        return len(self.data)\n",
    "\n",
    "    def __getitem__(self, index):\n",
    "        image = self.data[index].reshape(3, 32, 32).transpose(1, 2, 0)\n",
    "        label = torch.as_tensor(self.labels[index])\n",
    "        image = Image.fromarray(image.astype('uint8'), 'RGB')\n",
    "        \n",
    "        if self.transform:            \n",
    "            torch.manual_seed(index)\n",
    "            image = self.transform(image)\n",
    "\n",
    "\n",
    "        return  image.to(device), label.to(device)"
   ]
  },
  {
   "cell_type": "code",
   "execution_count": 6,
   "metadata": {},
   "outputs": [],
   "source": [
    "reset_seed(42)"
   ]
  },
  {
   "cell_type": "code",
   "execution_count": 7,
   "metadata": {},
   "outputs": [],
   "source": [
    "transform = transformsv2.Compose([\n",
    "    transformsv2.ToImage(),\n",
    "    transformsv2.ToDtype(torch.float32, scale=True),\n",
    "    transformsv2.Resize((224, 224), antialias=True),\n",
    "    transformsv2.Normalize(mean=[0.485, 0.456, 0.406], std=[0.229, 0.224, 0.225]),\n",
    "])\n",
    "\n",
    "augment_transform = transformsv2.Compose([ \n",
    "    transformsv2.ToImage(),\n",
    "    transformsv2.ToDtype(torch.float32, scale=True),\n",
    "    transformsv2.Resize(size=(224, 224), antialias=True),\n",
    "    transformsv2.RandomHorizontalFlip(),\n",
    "    transformsv2.RandomVerticalFlip(),\n",
    "    transformsv2.RandomRotation(15),\n",
    "    transformsv2.Normalize(mean=[0.485, 0.456, 0.406], std=[0.229, 0.224, 0.225]),\n",
    "])"
   ]
  },
  {
   "cell_type": "code",
   "execution_count": 8,
   "metadata": {},
   "outputs": [],
   "source": [
    "reset_seed(42)"
   ]
  },
  {
   "cell_type": "code",
   "execution_count": 9,
   "metadata": {},
   "outputs": [
    {
     "data": {
      "text/plain": [
       "ViTForImageClassification(\n",
       "  (vit): ViTModel(\n",
       "    (embeddings): ViTEmbeddings(\n",
       "      (patch_embeddings): ViTPatchEmbeddings(\n",
       "        (projection): Conv2d(3, 768, kernel_size=(16, 16), stride=(16, 16))\n",
       "      )\n",
       "      (dropout): Dropout(p=0.0, inplace=False)\n",
       "    )\n",
       "    (encoder): ViTEncoder(\n",
       "      (layer): ModuleList(\n",
       "        (0-11): 12 x ViTLayer(\n",
       "          (attention): ViTSdpaAttention(\n",
       "            (attention): ViTSdpaSelfAttention(\n",
       "              (query): Linear(in_features=768, out_features=768, bias=True)\n",
       "              (key): Linear(in_features=768, out_features=768, bias=True)\n",
       "              (value): Linear(in_features=768, out_features=768, bias=True)\n",
       "              (dropout): Dropout(p=0.0, inplace=False)\n",
       "            )\n",
       "            (output): ViTSelfOutput(\n",
       "              (dense): Linear(in_features=768, out_features=768, bias=True)\n",
       "              (dropout): Dropout(p=0.0, inplace=False)\n",
       "            )\n",
       "          )\n",
       "          (intermediate): ViTIntermediate(\n",
       "            (dense): Linear(in_features=768, out_features=3072, bias=True)\n",
       "            (intermediate_act_fn): GELUActivation()\n",
       "          )\n",
       "          (output): ViTOutput(\n",
       "            (dense): Linear(in_features=3072, out_features=768, bias=True)\n",
       "            (dropout): Dropout(p=0.0, inplace=False)\n",
       "          )\n",
       "          (layernorm_before): LayerNorm((768,), eps=1e-12, elementwise_affine=True)\n",
       "          (layernorm_after): LayerNorm((768,), eps=1e-12, elementwise_affine=True)\n",
       "        )\n",
       "      )\n",
       "    )\n",
       "    (layernorm): LayerNorm((768,), eps=1e-12, elementwise_affine=True)\n",
       "  )\n",
       "  (classifier): Linear(in_features=768, out_features=10, bias=True)\n",
       ")"
      ]
     },
     "execution_count": 9,
     "metadata": {},
     "output_type": "execute_result"
    }
   ],
   "source": [
    "model = AutoModelForImageClassification.from_pretrained(\n",
    "    \"aaraki/vit-base-patch16-224-in21k-finetuned-cifar10\",\n",
    "    num_labels=10,\n",
    ")\n",
    "model.to(device)"
   ]
  },
  {
   "cell_type": "code",
   "execution_count": 10,
   "metadata": {},
   "outputs": [
    {
     "data": {
      "text/plain": [
       "ViTForImageClassification(\n",
       "  (vit): ViTModel(\n",
       "    (embeddings): ViTEmbeddings(\n",
       "      (patch_embeddings): ViTPatchEmbeddings(\n",
       "        (projection): Conv2d(3, 768, kernel_size=(16, 16), stride=(16, 16))\n",
       "      )\n",
       "      (dropout): Dropout(p=0.0, inplace=False)\n",
       "    )\n",
       "    (encoder): ViTEncoder(\n",
       "      (layer): ModuleList(\n",
       "        (0-11): 12 x ViTLayer(\n",
       "          (attention): ViTSdpaAttention(\n",
       "            (attention): ViTSdpaSelfAttention(\n",
       "              (query): Linear(in_features=768, out_features=768, bias=True)\n",
       "              (key): Linear(in_features=768, out_features=768, bias=True)\n",
       "              (value): Linear(in_features=768, out_features=768, bias=True)\n",
       "              (dropout): Dropout(p=0.0, inplace=False)\n",
       "            )\n",
       "            (output): ViTSelfOutput(\n",
       "              (dense): Linear(in_features=768, out_features=768, bias=True)\n",
       "              (dropout): Dropout(p=0.0, inplace=False)\n",
       "            )\n",
       "          )\n",
       "          (intermediate): ViTIntermediate(\n",
       "            (dense): Linear(in_features=768, out_features=3072, bias=True)\n",
       "            (intermediate_act_fn): GELUActivation()\n",
       "          )\n",
       "          (output): ViTOutput(\n",
       "            (dense): Linear(in_features=3072, out_features=768, bias=True)\n",
       "            (dropout): Dropout(p=0.0, inplace=False)\n",
       "          )\n",
       "          (layernorm_before): LayerNorm((768,), eps=1e-12, elementwise_affine=True)\n",
       "          (layernorm_after): LayerNorm((768,), eps=1e-12, elementwise_affine=True)\n",
       "        )\n",
       "      )\n",
       "    )\n",
       "    (layernorm): LayerNorm((768,), eps=1e-12, elementwise_affine=True)\n",
       "  )\n",
       "  (classifier): Linear(in_features=768, out_features=10, bias=True)\n",
       ")"
      ]
     },
     "execution_count": 10,
     "metadata": {},
     "output_type": "execute_result"
    }
   ],
   "source": [
    "model.eval()"
   ]
  },
  {
   "cell_type": "code",
   "execution_count": 11,
   "metadata": {},
   "outputs": [],
   "source": [
    "def unpickle(file):\n",
    "    with open(file, 'rb') as fo:\n",
    "        dict = pickle.load(fo, encoding='bytes')\n",
    "    return dict\n",
    "\n",
    "def pickle_up(file, contents):\n",
    "    with open(file, 'wb') as fo:\n",
    "        pickle.dump(contents, fo, protocol=pickle.HIGHEST_PROTOCOL)"
   ]
  },
  {
   "cell_type": "code",
   "execution_count": 38,
   "metadata": {},
   "outputs": [],
   "source": [
    "def generate_logits(dataloder):\n",
    "    logits_arr = []\n",
    "    for batch in tqdm(dataloder):\n",
    "        pixel_values, labels = batch\n",
    "        with torch.no_grad():\n",
    "            outputs = model(pixel_values)\n",
    "            logits = outputs.logits\n",
    "        logits_arr.append(logits.cpu().numpy())\n",
    "    return logits_arr"
   ]
  },
  {
   "cell_type": "code",
   "execution_count": 40,
   "metadata": {},
   "outputs": [],
   "source": [
    "def flatten_logits(logits_arr):\n",
    "    logits_arr_flat = []\n",
    "    for tensor in logits_arr:\n",
    "        logits_arr_flat.extend(tensor)\n",
    "    return logits_arr_flat"
   ]
  },
  {
   "cell_type": "code",
   "execution_count": 45,
   "metadata": {},
   "outputs": [
    {
     "data": {
      "application/vnd.jupyter.widget-view+json": {
       "model_id": "80b74f67cf94460e8e36fbcc04478168",
       "version_major": 2,
       "version_minor": 0
      },
      "text/plain": [
       "  0%|          | 0/79 [00:00<?, ?it/s]"
      ]
     },
     "metadata": {},
     "output_type": "display_data"
    },
    {
     "data": {
      "application/vnd.jupyter.widget-view+json": {
       "model_id": "b860a59e61e64e5da77758bb0a808755",
       "version_major": 2,
       "version_minor": 0
      },
      "text/plain": [
       "  0%|          | 0/79 [00:00<?, ?it/s]"
      ]
     },
     "metadata": {},
     "output_type": "display_data"
    }
   ],
   "source": [
    "testing = unpickle(\"data/10/cifar-10-batches-py/test_batch\")\n",
    "test_data = CustomCIFAR10(root='./data/10', train=False, transform=transform)\n",
    "test_dataloader = torch.utils.data.DataLoader(test_data, batch_size=128, shuffle=False)\n",
    "\n",
    "logits_test = generate_logits(test_dataloader)\n",
    "logits_test = flatten_logits(logits_test)\n",
    "testing[b\"logits\"] = logits_test\n",
    "pickle_up(\"data/10-logits/cifar-10-batches-py/test\", testing)\n",
    "\n",
    "\n",
    "\n",
    "evaluating = unpickle(\"data/10/cifar-10-batches-py/data_batch_5\")\n",
    "eval_data = CustomCIFAR10(root='./data/10', train=True, batch=5, transform=transform)\n",
    "eval_dataload = torch.utils.data.DataLoader(eval_data, batch_size=128, shuffle=False)\n",
    "\n",
    "logits_eval = generate_logits(eval_dataload)\n",
    "logits_eval = flatten_logits(logits_eval)\n",
    "evaluating[b\"logits\"] = logits_eval\n",
    "pickle_up(\"data/10-logits/cifar-10-batches-py/eval\", evaluating)"
   ]
  },
  {
   "cell_type": "code",
   "execution_count": 23,
   "metadata": {},
   "outputs": [
    {
     "data": {
      "application/vnd.jupyter.widget-view+json": {
       "model_id": "080d1478be1b4fcf9c6799c5b60aa31f",
       "version_major": 2,
       "version_minor": 0
      },
      "text/plain": [
       "Progress for file 1.:   0%|          | 0/157 [00:00<?, ?it/s]"
      ]
     },
     "metadata": {},
     "output_type": "display_data"
    },
    {
     "data": {
      "application/vnd.jupyter.widget-view+json": {
       "model_id": "2365957162404c91836108f618ab6f6e",
       "version_major": 2,
       "version_minor": 0
      },
      "text/plain": [
       "Progress for file 1 with augmentation.:   0%|          | 0/157 [00:00<?, ?it/s]"
      ]
     },
     "metadata": {},
     "output_type": "display_data"
    },
    {
     "data": {
      "application/vnd.jupyter.widget-view+json": {
       "model_id": "406f322485b5473092cfdf640d946824",
       "version_major": 2,
       "version_minor": 0
      },
      "text/plain": [
       "Progress for file 2.:   0%|          | 0/157 [00:00<?, ?it/s]"
      ]
     },
     "metadata": {},
     "output_type": "display_data"
    },
    {
     "data": {
      "application/vnd.jupyter.widget-view+json": {
       "model_id": "1af9552e205744e5813deff98cac0dc2",
       "version_major": 2,
       "version_minor": 0
      },
      "text/plain": [
       "Progress for file 2 with augmentation.:   0%|          | 0/157 [00:00<?, ?it/s]"
      ]
     },
     "metadata": {},
     "output_type": "display_data"
    },
    {
     "data": {
      "application/vnd.jupyter.widget-view+json": {
       "model_id": "16e179604c3b43f19dc33227efdc35ac",
       "version_major": 2,
       "version_minor": 0
      },
      "text/plain": [
       "Progress for file 3.:   0%|          | 0/157 [00:00<?, ?it/s]"
      ]
     },
     "metadata": {},
     "output_type": "display_data"
    },
    {
     "data": {
      "application/vnd.jupyter.widget-view+json": {
       "model_id": "b4e6f1b85b584d24b32d3e4212ff23e2",
       "version_major": 2,
       "version_minor": 0
      },
      "text/plain": [
       "Progress for file 3 with augmentation.:   0%|          | 0/157 [00:00<?, ?it/s]"
      ]
     },
     "metadata": {},
     "output_type": "display_data"
    },
    {
     "data": {
      "application/vnd.jupyter.widget-view+json": {
       "model_id": "b4881784ceee4c5d8c74645b31e7c99f",
       "version_major": 2,
       "version_minor": 0
      },
      "text/plain": [
       "Progress for file 4.:   0%|          | 0/157 [00:00<?, ?it/s]"
      ]
     },
     "metadata": {},
     "output_type": "display_data"
    },
    {
     "data": {
      "application/vnd.jupyter.widget-view+json": {
       "model_id": "5f1c0c4383104c9aa19760928f2b3830",
       "version_major": 2,
       "version_minor": 0
      },
      "text/plain": [
       "Progress for file 4 with augmentation.:   0%|          | 0/157 [00:00<?, ?it/s]"
      ]
     },
     "metadata": {},
     "output_type": "display_data"
    }
   ],
   "source": [
    "#Pro Cifar10\n",
    "\n",
    "reset_seed(42)\n",
    "for index in range(1,5):\n",
    "\n",
    "    data = unpickle(f\"data/10/cifar-10-batches-py/data_batch_{index}\")\n",
    "\n",
    "    train = CustomCIFAR10(root='./data/10', batch=index, train=True, transform=transform)\n",
    "    train_augmented = CustomCIFAR10(root='./data/10', batch=index, train=True, transform=augment_transform)\n",
    "    train_dataloader = torch.utils.data.DataLoader(train, batch_size=64, shuffle=False)\n",
    "    train_dataloader_augmented = torch.utils.data.DataLoader(train_augmented, batch_size=64, shuffle=False)\n",
    "\n",
    "    logits_arr = []\n",
    "    logits_arr_aug = []\n",
    "\n",
    "    for batch in tqdm(train_dataloader, desc = f\"Progress for file {index}.\"): \n",
    "        pixel_values, labels = batch\n",
    "        with torch.no_grad():\n",
    "            outputs = model(pixel_values)\n",
    "            logits = outputs.logits\n",
    "        logits_arr.append(logits.cpu().numpy())\n",
    "\n",
    "    for batch in tqdm(train_dataloader_augmented, desc = f\"Progress for file {index} with augmentation.\"): \n",
    "        pixel_values, labels = batch\n",
    "        with torch.no_grad():\n",
    "            outputs = model(pixel_values)\n",
    "            logits = outputs.logits\n",
    "        logits_arr_aug.append(logits.cpu().numpy())\n",
    "\n",
    "    \n",
    "    logits_arr_flat = []\n",
    "    logits_arr_aug_flat = []\n",
    "\n",
    "    for tensor in logits_arr:\n",
    "        logits_arr_flat.extend(tensor)\n",
    "\n",
    "    for tensor in logits_arr_aug:\n",
    "        logits_arr_aug_flat.extend(tensor)\n",
    "\n",
    "    data[b\"logits\"] = logits_arr_flat\n",
    "    data[b\"logits_aug\"] = logits_arr_aug_flat\n",
    "    pickle_up(f\"data/10-logits/cifar-10-batches-py/train_batch_{index}\",data)"
   ]
  },
  {
   "cell_type": "code",
   "execution_count": 30,
   "metadata": {},
   "outputs": [],
   "source": [
    "class CustomCIFAR10(Dataset):\n",
    "    def __init__(self, root, dataset_part = dataset_part.TRAIN, transform=None):\n",
    "        self.root = root\n",
    "        self.dataset_part = dataset_part\n",
    "        self.transform = transform\n",
    "        self.data = []\n",
    "        self.targets = []\n",
    "        self.logits = []\n",
    "        self.logits_aug = []\n",
    "\n",
    "        if self.dataset_part == dataset_part.TRAIN:\n",
    "            data_file = os.path.join(self.root, 'cifar-10-batches-py', 'train')\n",
    "            for i in range(1, 5):\n",
    "                 data_file = os.path.join(self.root, 'cifar-10-batches-py', f'train_batch_{i}')\n",
    "                 with open(data_file, 'rb') as fo:\n",
    "                     dict = pickle.load(fo, encoding='bytes')\n",
    "                     self.data.append(dict[b'data'])\n",
    "                     self.targets.extend(dict[b'labels'])\n",
    "                     self.logits.extend(dict[b'logits'])\n",
    "                     self.logits_aug.extend(dict[b'logits_aug'])   \n",
    "\n",
    "        elif self.dataset_part == dataset_part.TEST:\n",
    "            data_file = os.path.join(self.root, 'cifar-10-batches-py', 'test')\n",
    "            with open(data_file, 'rb') as fo:\n",
    "                dict = pickle.load(fo, encoding='bytes')\n",
    "                self.data.append(dict[b'data'])\n",
    "                self.targets.extend(dict[b'labels'])\n",
    "\n",
    "        \n",
    "        else:\n",
    "            data_file = os.path.join(self.root, 'cifar-10-batches-py', 'eval')\n",
    "            with open(data_file, 'rb') as fo:\n",
    "                dict = pickle.load(fo, encoding='bytes')\n",
    "                self.data.append(dict[b'data'])\n",
    "                self.targets.extend(dict[b'labels'])  \n",
    "        \n",
    "        self.data = np.concatenate(self.data, axis=0)\n",
    "\n",
    "    def __len__(self):\n",
    "        return len(self.data)\n",
    "\n",
    "    def __getitem__(self, index):\n",
    "        image = self.data[index].reshape(3, 32, 32).transpose(1, 2, 0)\n",
    "        image = Image.fromarray(image.astype('uint8'), 'RGB')\n",
    "        label = self.targets[index]\n",
    "        #logit = self.logits[index]\n",
    "\n",
    "        if self.transform:\n",
    "            logit = self.logits[index] if len(self.transform.extra_repr()) < 300 else self.logits_aug[index]\n",
    "            torch.manual_seed(index%10000)\n",
    "            image = self.transform(image)\n",
    "\n",
    "        logit = torch.tensor(logit, dtype=torch.float)\n",
    "        \n",
    "            \n",
    "\n",
    "        return {\n",
    "            'pixel_values': image,\n",
    "            'labels': label,\n",
    "            'logits': logit,\n",
    "        }\n",
    "    \n",
    "    def remove_entries(self, remove_list):\n",
    "        self.data = np.delete(self.data, remove_list, axis=0)\n",
    "        self.targets = np.delete(self.targets, remove_list, axis=0)\n",
    "        self.logits = np.delete(self.logits, remove_list, axis=0)\n",
    "        self.logits_aug = np.delete(self.logits_aug, remove_list, axis=0)\n",
    "    \n",
    "    @property\n",
    "    def labels(self):\n",
    "        return self.targets\n"
   ]
  },
  {
   "cell_type": "code",
   "execution_count": 31,
   "metadata": {},
   "outputs": [],
   "source": [
    "train_aug = CustomCIFAR10(root='./data/10-logits', dataset_part=dataset_part.TRAIN, transform=augment_transform)\n",
    "train = CustomCIFAR10(root='./data/10-logits', dataset_part=dataset_part.TRAIN, transform=transform)\n",
    "train_combo = torch.utils.data.ConcatDataset([train, train_aug])"
   ]
  },
  {
   "cell_type": "code",
   "execution_count": 32,
   "metadata": {},
   "outputs": [],
   "source": [
    "def check_acc(dataset):\n",
    "    corr = []\n",
    "    for val in tqdm(dataset, desc = \"Progress for base train set\"):\n",
    "        if torch.topk(val[\"logits\"], k=1).indices.numpy()[0] == val[\"labels\"]:  corr.append(True)\n",
    "    \n",
    "    return(f\"Accuracy for base train set: {len(corr)/len(dataset)}\")  "
   ]
  },
  {
   "cell_type": "code",
   "execution_count": 33,
   "metadata": {},
   "outputs": [
    {
     "data": {
      "application/vnd.jupyter.widget-view+json": {
       "model_id": "5d1de0d54ae143348ce5e7c5f0b41197",
       "version_major": 2,
       "version_minor": 0
      },
      "text/plain": [
       "Progress for base train set:   0%|          | 0/40000 [00:00<?, ?it/s]"
      ]
     },
     "metadata": {},
     "output_type": "display_data"
    },
    {
     "name": "stdout",
     "output_type": "stream",
     "text": [
      "Accuracy for base train set: 0.954925\n"
     ]
    },
    {
     "data": {
      "application/vnd.jupyter.widget-view+json": {
       "model_id": "94ecdc99b0334df6961a34eccd965473",
       "version_major": 2,
       "version_minor": 0
      },
      "text/plain": [
       "Progress for base train set:   0%|          | 0/40000 [00:00<?, ?it/s]"
      ]
     },
     "metadata": {},
     "output_type": "display_data"
    },
    {
     "name": "stdout",
     "output_type": "stream",
     "text": [
      "Accuracy for base train set: 0.686\n"
     ]
    },
    {
     "data": {
      "application/vnd.jupyter.widget-view+json": {
       "model_id": "6987e7f762f448cb8dc998a922e9e42f",
       "version_major": 2,
       "version_minor": 0
      },
      "text/plain": [
       "Progress for base train set:   0%|          | 0/80000 [00:00<?, ?it/s]"
      ]
     },
     "metadata": {},
     "output_type": "display_data"
    },
    {
     "name": "stdout",
     "output_type": "stream",
     "text": [
      "Accuracy for base train set: 0.8204625\n"
     ]
    }
   ],
   "source": [
    "print(check_acc(train))\n",
    "print(check_acc(train_aug))\n",
    "print(check_acc(train_combo))"
   ]
  },
  {
   "cell_type": "code",
   "execution_count": 34,
   "metadata": {},
   "outputs": [],
   "source": [
    "rem_ls = []\n",
    "\n",
    "for index, val in enumerate(train_aug):\n",
    "    target_alt = torch.topk(val[\"logits\"], k=1).indices.numpy()[0]\n",
    "    target_act = torch.topk(train[index][\"logits\"], k=1).indices.numpy()[0]\n",
    "    if target_alt != target_act:\n",
    "        rem_ls.append(index)"
   ]
  },
  {
   "cell_type": "code",
   "execution_count": 35,
   "metadata": {},
   "outputs": [],
   "source": [
    "train_aug.remove_entries(rem_ls)\n",
    "train_combo = torch.utils.data.ConcatDataset([train, train_aug])"
   ]
  },
  {
   "cell_type": "code",
   "execution_count": 36,
   "metadata": {},
   "outputs": [
    {
     "data": {
      "application/vnd.jupyter.widget-view+json": {
       "model_id": "d8b81be63f7c48cb81026e865a5b64e1",
       "version_major": 2,
       "version_minor": 0
      },
      "text/plain": [
       "Progress for base train set:   0%|          | 0/28176 [00:00<?, ?it/s]"
      ]
     },
     "metadata": {},
     "output_type": "display_data"
    },
    {
     "name": "stdout",
     "output_type": "stream",
     "text": [
      "Accuracy for base train set: 0.9614565587734242\n"
     ]
    },
    {
     "data": {
      "application/vnd.jupyter.widget-view+json": {
       "model_id": "5688ceb11f014961b71071f449c79e2e",
       "version_major": 2,
       "version_minor": 0
      },
      "text/plain": [
       "Progress for base train set:   0%|          | 0/68176 [00:00<?, ?it/s]"
      ]
     },
     "metadata": {},
     "output_type": "display_data"
    },
    {
     "name": "stdout",
     "output_type": "stream",
     "text": [
      "Accuracy for base train set: 0.9576243839474302\n"
     ]
    }
   ],
   "source": [
    "print(check_acc(train_aug))\n",
    "print(check_acc(train_combo))"
   ]
  }
 ],
 "metadata": {
  "kernelspec": {
   "display_name": "Python 3 (ipykernel)",
   "language": "python",
   "name": "python3"
  }
 },
 "nbformat": 4,
 "nbformat_minor": 2
}
