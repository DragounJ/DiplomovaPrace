{
 "cells": [
  {
   "cell_type": "code",
   "execution_count": 1,
   "metadata": {},
   "outputs": [
    {
     "name": "stderr",
     "output_type": "stream",
     "text": [
      "[nltk_data] Downloading package averaged_perceptron_tagger to\n",
      "[nltk_data]     /home/jovyan/nltk_data...\n",
      "[nltk_data]   Package averaged_perceptron_tagger is already up-to-\n",
      "[nltk_data]       date!\n",
      "[nltk_data] Downloading package punkt to /home/jovyan/nltk_data...\n",
      "[nltk_data]   Package punkt is already up-to-date!\n",
      "[nltk_data] Downloading package punkt_tab to /home/jovyan/nltk_data...\n",
      "[nltk_data]   Package punkt_tab is already up-to-date!\n",
      "[nltk_data] Downloading package averaged_perceptron_tagger_eng to\n",
      "[nltk_data]     /home/jovyan/nltk_data...\n",
      "[nltk_data]   Package averaged_perceptron_tagger_eng is already up-to-\n",
      "[nltk_data]       date!\n"
     ]
    }
   ],
   "source": [
    "from datasets import concatenate_datasets, load_from_disk\n",
    "from transformers import BasicTokenizer, Trainer, EarlyStoppingCallback\n",
    "import kagglehub\n",
    "import torch\n",
    "import base\n",
    "import os"
   ]
  },
  {
   "cell_type": "code",
   "execution_count": 2,
   "metadata": {},
   "outputs": [
    {
     "name": "stdout",
     "output_type": "stream",
     "text": [
      "/home/jovyan/.cache/kagglehub/datasets/thanakomsn/glove6b300dtxt/versions/1\n"
     ]
    }
   ],
   "source": [
    "my_glove = kagglehub.dataset_download(\"thanakomsn/glove6b300dtxt\")\n",
    "print(my_glove)"
   ]
  },
  {
   "cell_type": "code",
   "execution_count": 3,
   "metadata": {},
   "outputs": [],
   "source": [
    "GLOVE_FILE = f\"{my_glove}/glove.6B.300d.txt\"\n",
    "DATASET = \"trec\""
   ]
  },
  {
   "cell_type": "code",
   "execution_count": 4,
   "metadata": {},
   "outputs": [],
   "source": [
    "train_data = load_from_disk(f\"~/data/{DATASET}/train-logits_fine\")\n",
    "eval_data = load_from_disk(f\"~/data/{DATASET}/eval-logits_fine\")\n",
    "test_data = load_from_disk(f\"~/data/{DATASET}/test-logits_fine\")\n",
    "\n",
    "all_train_data = load_from_disk(f\"~/data/{DATASET}/train-logits-augmented_fine\")\n",
    "\n",
    "all_data = concatenate_datasets([load_from_disk(file) for file in [f\"~/data/{DATASET}/eval-logits_fine\", f\"~/data/{DATASET}/test-logits_fine\", f\"~/data/{DATASET}/train-logits-augmented_fine\"]])\n",
    "tokenizer = BasicTokenizer(do_lower_case=True)"
   ]
  },
  {
   "cell_type": "code",
   "execution_count": 5,
   "metadata": {},
   "outputs": [
    {
     "name": "stdout",
     "output_type": "stream",
     "text": [
      "GPU is available and will be used: NVIDIA H100 PCIe\n"
     ]
    }
   ],
   "source": [
    "if torch.cuda.is_available():\n",
    "    device = torch.device(\"cuda\")\n",
    "    print(\"GPU is available and will be used:\", torch.cuda.get_device_name(0))\n",
    "else:\n",
    "    device = torch.device(\"cpu\")\n",
    "    print(\"GPU is not available, using CPU.\")"
   ]
  },
  {
   "cell_type": "code",
   "execution_count": 6,
   "metadata": {},
   "outputs": [],
   "source": [
    "train_data_tokens = list(map(lambda e: tokenizer.tokenize(e[\"sentence\"]), train_data))\n",
    "eval_data_tokens = list(map(lambda e: tokenizer.tokenize(e[\"sentence\"]), eval_data))\n",
    "test_data_tokens = list(map(lambda e: tokenizer.tokenize(e[\"sentence\"]), test_data))\n",
    "\n",
    "all_train_data_tokens = list(map(lambda e: tokenizer.tokenize(e[\"sentence\"]), all_train_data))\n",
    "\n",
    "all_data_tokens = list(map(lambda e: tokenizer.tokenize(e[\"sentence\"]), all_data))"
   ]
  },
  {
   "cell_type": "code",
   "execution_count": 7,
   "metadata": {},
   "outputs": [],
   "source": [
    "vocab = base.get_vocab(all_data_tokens)"
   ]
  },
  {
   "cell_type": "code",
   "execution_count": 8,
   "metadata": {},
   "outputs": [],
   "source": [
    "word_index = dict(zip(vocab, range(len(vocab))))"
   ]
  },
  {
   "cell_type": "code",
   "execution_count": 9,
   "metadata": {},
   "outputs": [
    {
     "name": "stdout",
     "output_type": "stream",
     "text": [
      "Found 400000 word vectors.\n"
     ]
    }
   ],
   "source": [
    "embeddings_index = base.get_embeddings_indeces(GLOVE_FILE)"
   ]
  },
  {
   "cell_type": "code",
   "execution_count": 10,
   "metadata": {},
   "outputs": [
    {
     "name": "stdout",
     "output_type": "stream",
     "text": [
      "8766\n"
     ]
    }
   ],
   "source": [
    "print(len(vocab))\n",
    "num_tokens = len(vocab) + 2\n",
    "embedding_dim = 300"
   ]
  },
  {
   "cell_type": "code",
   "execution_count": 11,
   "metadata": {},
   "outputs": [
    {
     "name": "stdout",
     "output_type": "stream",
     "text": [
      "Converted 8551 words (215) misses\n"
     ]
    }
   ],
   "source": [
    "embedding_matrix = base.get_embedding_matrix(num_tokens, embedding_dim, word_index, embeddings_index)"
   ]
  },
  {
   "cell_type": "code",
   "execution_count": 12,
   "metadata": {},
   "outputs": [],
   "source": [
    "train_data_index = list(map(lambda x: list(map(lambda y: word_index[y], x)),train_data_tokens))\n",
    "eval_data_index = list(map(lambda x: list(map(lambda y: word_index[y], x)),eval_data_tokens))\n",
    "test_data_index = list(map(lambda x: list(map(lambda y: word_index[y], x)),test_data_tokens))\n",
    "\n",
    "all_train_data_index = list(map(lambda x: list(map(lambda y: word_index[y], x)),all_train_data_tokens))"
   ]
  },
  {
   "cell_type": "code",
   "execution_count": 13,
   "metadata": {},
   "outputs": [],
   "source": [
    "train_padded_data = list(map(lambda x: base.padd(x,60), train_data_index))\n",
    "eval_padded_data = list(map(lambda x: base.padd(x,60), eval_data_index))\n",
    "test_padded_data = list(map(lambda x: base.padd(x,60), test_data_index))\n",
    "\n",
    "all_train_padded_data = list(map(lambda x: base.padd(x,60), all_train_data_index))"
   ]
  },
  {
   "cell_type": "code",
   "execution_count": 14,
   "metadata": {},
   "outputs": [],
   "source": [
    "train_data = train_data.add_column(\"input_ids\", train_padded_data)\n",
    "eval_data = eval_data.add_column(\"input_ids\", eval_padded_data)\n",
    "test_data = test_data.add_column(\"input_ids\", test_padded_data)\n",
    "\n",
    "all_train_data = all_train_data.add_column(\"input_ids\", all_train_padded_data)"
   ]
  },
  {
   "cell_type": "code",
   "execution_count": 15,
   "metadata": {},
   "outputs": [],
   "source": [
    "model = base.BiLSTMClassifier(embedding_matrix=embedding_matrix, embedding_dim=embedding_dim, fc_dim=400, hidden_dim=300, output_dim=50, freeze_embed=False)"
   ]
  },
  {
   "cell_type": "code",
   "execution_count": 16,
   "metadata": {},
   "outputs": [
    {
     "name": "stdout",
     "output_type": "stream",
     "text": [
      "BiLSTMClassifier(\n",
      "  (embedding): Embedding(8768, 300)\n",
      "  (lstm): LSTM(300, 300, batch_first=True, bidirectional=True)\n",
      "  (fc1): Linear(in_features=600, out_features=400, bias=True)\n",
      "  (dropout): Dropout(p=0.2, inplace=False)\n",
      "  (fc2): Linear(in_features=400, out_features=50, bias=True)\n",
      ")\n"
     ]
    }
   ],
   "source": [
    "print(model)"
   ]
  },
  {
   "cell_type": "code",
   "execution_count": 18,
   "metadata": {},
   "outputs": [],
   "source": [
    "training_args = base.get_training_args(output_dir=f\"~/results/{DATASET}/bilstm-base_fine_embedd\", logging_dir=f\"~/logs/{DATASET}/bilstm-base_fine_embedd\", lr=.005, weight_decay=0.001, warmup_steps=2, epochs=20, batch_size=128)"
   ]
  },
  {
   "cell_type": "code",
   "execution_count": 19,
   "metadata": {},
   "outputs": [],
   "source": [
    "base.reset_seed()"
   ]
  },
  {
   "cell_type": "code",
   "execution_count": 20,
   "metadata": {},
   "outputs": [],
   "source": [
    "trainer = Trainer(\n",
    "    model=model,\n",
    "    args=training_args,\n",
    "    train_dataset=train_data,\n",
    "    eval_dataset=eval_data,\n",
    "    compute_metrics=base.compute_metrics,\n",
    "    callbacks = [EarlyStoppingCallback(early_stopping_patience = 3)]\n",
    ")"
   ]
  },
  {
   "cell_type": "code",
   "execution_count": 21,
   "metadata": {},
   "outputs": [
    {
     "data": {
      "text/html": [
       "\n",
       "    <div>\n",
       "      \n",
       "      <progress value='455' max='700' style='width:300px; height:20px; vertical-align: middle;'></progress>\n",
       "      [455/700 00:59 < 00:32, 7.63 it/s, Epoch 13/20]\n",
       "    </div>\n",
       "    <table border=\"1\" class=\"dataframe\">\n",
       "  <thead>\n",
       " <tr style=\"text-align: left;\">\n",
       "      <th>Epoch</th>\n",
       "      <th>Training Loss</th>\n",
       "      <th>Validation Loss</th>\n",
       "      <th>Accuracy</th>\n",
       "      <th>Precision</th>\n",
       "      <th>Recall</th>\n",
       "      <th>F1</th>\n",
       "    </tr>\n",
       "  </thead>\n",
       "  <tbody>\n",
       "    <tr>\n",
       "      <td>1</td>\n",
       "      <td>2.592600</td>\n",
       "      <td>1.848806</td>\n",
       "      <td>0.534372</td>\n",
       "      <td>0.189700</td>\n",
       "      <td>0.188172</td>\n",
       "      <td>0.169641</td>\n",
       "    </tr>\n",
       "    <tr>\n",
       "      <td>2</td>\n",
       "      <td>1.405800</td>\n",
       "      <td>1.276808</td>\n",
       "      <td>0.679193</td>\n",
       "      <td>0.319556</td>\n",
       "      <td>0.330704</td>\n",
       "      <td>0.314073</td>\n",
       "    </tr>\n",
       "    <tr>\n",
       "      <td>3</td>\n",
       "      <td>0.747600</td>\n",
       "      <td>1.100861</td>\n",
       "      <td>0.745188</td>\n",
       "      <td>0.520187</td>\n",
       "      <td>0.466819</td>\n",
       "      <td>0.472995</td>\n",
       "    </tr>\n",
       "    <tr>\n",
       "      <td>4</td>\n",
       "      <td>0.349600</td>\n",
       "      <td>1.160507</td>\n",
       "      <td>0.755270</td>\n",
       "      <td>0.617434</td>\n",
       "      <td>0.548593</td>\n",
       "      <td>0.558517</td>\n",
       "    </tr>\n",
       "    <tr>\n",
       "      <td>5</td>\n",
       "      <td>0.131400</td>\n",
       "      <td>1.296833</td>\n",
       "      <td>0.774519</td>\n",
       "      <td>0.653317</td>\n",
       "      <td>0.621190</td>\n",
       "      <td>0.620714</td>\n",
       "    </tr>\n",
       "    <tr>\n",
       "      <td>6</td>\n",
       "      <td>0.040600</td>\n",
       "      <td>1.399598</td>\n",
       "      <td>0.788268</td>\n",
       "      <td>0.688750</td>\n",
       "      <td>0.675803</td>\n",
       "      <td>0.669047</td>\n",
       "    </tr>\n",
       "    <tr>\n",
       "      <td>7</td>\n",
       "      <td>0.017400</td>\n",
       "      <td>1.482527</td>\n",
       "      <td>0.780018</td>\n",
       "      <td>0.700052</td>\n",
       "      <td>0.667438</td>\n",
       "      <td>0.661827</td>\n",
       "    </tr>\n",
       "    <tr>\n",
       "      <td>8</td>\n",
       "      <td>0.005600</td>\n",
       "      <td>1.487703</td>\n",
       "      <td>0.784601</td>\n",
       "      <td>0.712193</td>\n",
       "      <td>0.686995</td>\n",
       "      <td>0.678266</td>\n",
       "    </tr>\n",
       "    <tr>\n",
       "      <td>9</td>\n",
       "      <td>0.002800</td>\n",
       "      <td>1.505378</td>\n",
       "      <td>0.791934</td>\n",
       "      <td>0.725982</td>\n",
       "      <td>0.662900</td>\n",
       "      <td>0.677721</td>\n",
       "    </tr>\n",
       "    <tr>\n",
       "      <td>10</td>\n",
       "      <td>0.002200</td>\n",
       "      <td>1.539080</td>\n",
       "      <td>0.793767</td>\n",
       "      <td>0.729023</td>\n",
       "      <td>0.679810</td>\n",
       "      <td>0.685930</td>\n",
       "    </tr>\n",
       "    <tr>\n",
       "      <td>11</td>\n",
       "      <td>0.001000</td>\n",
       "      <td>1.559628</td>\n",
       "      <td>0.793767</td>\n",
       "      <td>0.709798</td>\n",
       "      <td>0.678096</td>\n",
       "      <td>0.679828</td>\n",
       "    </tr>\n",
       "    <tr>\n",
       "      <td>12</td>\n",
       "      <td>0.000800</td>\n",
       "      <td>1.569128</td>\n",
       "      <td>0.795600</td>\n",
       "      <td>0.702320</td>\n",
       "      <td>0.671843</td>\n",
       "      <td>0.673394</td>\n",
       "    </tr>\n",
       "    <tr>\n",
       "      <td>13</td>\n",
       "      <td>0.000500</td>\n",
       "      <td>1.592181</td>\n",
       "      <td>0.796517</td>\n",
       "      <td>0.712683</td>\n",
       "      <td>0.672025</td>\n",
       "      <td>0.677326</td>\n",
       "    </tr>\n",
       "  </tbody>\n",
       "</table><p>"
      ],
      "text/plain": [
       "<IPython.core.display.HTML object>"
      ]
     },
     "metadata": {},
     "output_type": "display_data"
    },
    {
     "data": {
      "text/plain": [
       "TrainOutput(global_step=455, training_loss=0.4075402093948899, metrics={'train_runtime': 60.9205, 'train_samples_per_second': 1431.702, 'train_steps_per_second': 11.49, 'total_flos': 0.0, 'train_loss': 0.4075402093948899, 'epoch': 13.0})"
      ]
     },
     "execution_count": 21,
     "metadata": {},
     "output_type": "execute_result"
    }
   ],
   "source": [
    "trainer.train()"
   ]
  },
  {
   "cell_type": "code",
   "execution_count": 22,
   "metadata": {},
   "outputs": [
    {
     "data": {
      "text/plain": [
       "BiLSTMClassifier(\n",
       "  (embedding): Embedding(8768, 300)\n",
       "  (lstm): LSTM(300, 300, batch_first=True, bidirectional=True)\n",
       "  (fc1): Linear(in_features=600, out_features=400, bias=True)\n",
       "  (dropout): Dropout(p=0.2, inplace=False)\n",
       "  (fc2): Linear(in_features=400, out_features=50, bias=True)\n",
       ")"
      ]
     },
     "execution_count": 22,
     "metadata": {},
     "output_type": "execute_result"
    }
   ],
   "source": [
    "model.eval()"
   ]
  },
  {
   "cell_type": "code",
   "execution_count": 23,
   "metadata": {},
   "outputs": [
    {
     "data": {
      "text/html": [
       "\n",
       "    <div>\n",
       "      \n",
       "      <progress value='4' max='4' style='width:300px; height:20px; vertical-align: middle;'></progress>\n",
       "      [4/4 00:00]\n",
       "    </div>\n",
       "    "
      ],
      "text/plain": [
       "<IPython.core.display.HTML object>"
      ]
     },
     "metadata": {},
     "output_type": "display_data"
    },
    {
     "data": {
      "text/plain": [
       "{'eval_loss': 1.3100125789642334,\n",
       " 'eval_accuracy': 0.81,\n",
       " 'eval_precision': 0.6784269701338591,\n",
       " 'eval_recall': 0.6670404908702179,\n",
       " 'eval_f1': 0.653112216645774,\n",
       " 'eval_runtime': 3.3063,\n",
       " 'eval_samples_per_second': 151.226,\n",
       " 'eval_steps_per_second': 1.21,\n",
       " 'epoch': 13.0}"
      ]
     },
     "execution_count": 23,
     "metadata": {},
     "output_type": "execute_result"
    }
   ],
   "source": [
    "trainer.evaluate(test_data)"
   ]
  },
  {
   "cell_type": "code",
   "execution_count": 24,
   "metadata": {},
   "outputs": [],
   "source": [
    "torch.save(model.state_dict(), f\"{os.path.expanduser('~')}/models/{DATASET}/bilstm-base_fine_embedd.pth\")"
   ]
  },
  {
   "cell_type": "code",
   "execution_count": 25,
   "metadata": {},
   "outputs": [],
   "source": [
    "student_model = base.BiLSTMClassifier(embedding_matrix=embedding_matrix, embedding_dim=embedding_dim, fc_dim=400, hidden_dim=300, output_dim=50, freeze_embed=False)"
   ]
  },
  {
   "cell_type": "code",
   "execution_count": 27,
   "metadata": {},
   "outputs": [],
   "source": [
    "training_args = base.get_training_args(output_dir=f\"~/results/{DATASET}/bilstm-distill_fine_embedd\", remove_unused_columns=False, logging_dir=f\"~/logs/{DATASET}/bilstm-distill_fine_embedd\", lr=.005, weight_decay = .008, epochs=20, batch_size=128, lambda_param=.5, temp=6.5)"
   ]
  },
  {
   "cell_type": "code",
   "execution_count": 28,
   "metadata": {},
   "outputs": [],
   "source": [
    "base.reset_seed()"
   ]
  },
  {
   "cell_type": "code",
   "execution_count": 29,
   "metadata": {},
   "outputs": [],
   "source": [
    "trainer = base.DistilTrainer(\n",
    "    student_model=student_model,\n",
    "    args=training_args,\n",
    "    train_dataset=train_data,\n",
    "    eval_dataset=eval_data,\n",
    "    compute_metrics=base.compute_metrics,\n",
    "    callbacks = [EarlyStoppingCallback(early_stopping_patience = 3)]\n",
    ")"
   ]
  },
  {
   "cell_type": "code",
   "execution_count": 30,
   "metadata": {},
   "outputs": [
    {
     "data": {
      "text/html": [
       "\n",
       "    <div>\n",
       "      \n",
       "      <progress value='560' max='700' style='width:300px; height:20px; vertical-align: middle;'></progress>\n",
       "      [560/700 01:11 < 00:18, 7.77 it/s, Epoch 16/20]\n",
       "    </div>\n",
       "    <table border=\"1\" class=\"dataframe\">\n",
       "  <thead>\n",
       " <tr style=\"text-align: left;\">\n",
       "      <th>Epoch</th>\n",
       "      <th>Training Loss</th>\n",
       "      <th>Validation Loss</th>\n",
       "      <th>Accuracy</th>\n",
       "      <th>Precision</th>\n",
       "      <th>Recall</th>\n",
       "      <th>F1</th>\n",
       "    </tr>\n",
       "  </thead>\n",
       "  <tbody>\n",
       "    <tr>\n",
       "      <td>1</td>\n",
       "      <td>1.586000</td>\n",
       "      <td>1.180131</td>\n",
       "      <td>0.569203</td>\n",
       "      <td>0.165335</td>\n",
       "      <td>0.186143</td>\n",
       "      <td>0.163274</td>\n",
       "    </tr>\n",
       "    <tr>\n",
       "      <td>2</td>\n",
       "      <td>0.935800</td>\n",
       "      <td>0.895880</td>\n",
       "      <td>0.673694</td>\n",
       "      <td>0.323790</td>\n",
       "      <td>0.303174</td>\n",
       "      <td>0.294209</td>\n",
       "    </tr>\n",
       "    <tr>\n",
       "      <td>3</td>\n",
       "      <td>0.586200</td>\n",
       "      <td>0.691576</td>\n",
       "      <td>0.758937</td>\n",
       "      <td>0.421281</td>\n",
       "      <td>0.418588</td>\n",
       "      <td>0.404726</td>\n",
       "    </tr>\n",
       "    <tr>\n",
       "      <td>4</td>\n",
       "      <td>0.353100</td>\n",
       "      <td>0.629786</td>\n",
       "      <td>0.767186</td>\n",
       "      <td>0.497468</td>\n",
       "      <td>0.458946</td>\n",
       "      <td>0.465979</td>\n",
       "    </tr>\n",
       "    <tr>\n",
       "      <td>5</td>\n",
       "      <td>0.223400</td>\n",
       "      <td>0.589186</td>\n",
       "      <td>0.791017</td>\n",
       "      <td>0.573570</td>\n",
       "      <td>0.536611</td>\n",
       "      <td>0.539320</td>\n",
       "    </tr>\n",
       "    <tr>\n",
       "      <td>6</td>\n",
       "      <td>0.155900</td>\n",
       "      <td>0.566985</td>\n",
       "      <td>0.802016</td>\n",
       "      <td>0.666566</td>\n",
       "      <td>0.610506</td>\n",
       "      <td>0.618351</td>\n",
       "    </tr>\n",
       "    <tr>\n",
       "      <td>7</td>\n",
       "      <td>0.110800</td>\n",
       "      <td>0.553171</td>\n",
       "      <td>0.808433</td>\n",
       "      <td>0.684647</td>\n",
       "      <td>0.630072</td>\n",
       "      <td>0.645062</td>\n",
       "    </tr>\n",
       "    <tr>\n",
       "      <td>8</td>\n",
       "      <td>0.092100</td>\n",
       "      <td>0.550189</td>\n",
       "      <td>0.810266</td>\n",
       "      <td>0.748492</td>\n",
       "      <td>0.656978</td>\n",
       "      <td>0.685277</td>\n",
       "    </tr>\n",
       "    <tr>\n",
       "      <td>9</td>\n",
       "      <td>0.079400</td>\n",
       "      <td>0.541531</td>\n",
       "      <td>0.807516</td>\n",
       "      <td>0.734982</td>\n",
       "      <td>0.662601</td>\n",
       "      <td>0.685340</td>\n",
       "    </tr>\n",
       "    <tr>\n",
       "      <td>10</td>\n",
       "      <td>0.072700</td>\n",
       "      <td>0.542373</td>\n",
       "      <td>0.812099</td>\n",
       "      <td>0.738007</td>\n",
       "      <td>0.670371</td>\n",
       "      <td>0.689537</td>\n",
       "    </tr>\n",
       "    <tr>\n",
       "      <td>11</td>\n",
       "      <td>0.068700</td>\n",
       "      <td>0.544090</td>\n",
       "      <td>0.810266</td>\n",
       "      <td>0.745759</td>\n",
       "      <td>0.664936</td>\n",
       "      <td>0.690772</td>\n",
       "    </tr>\n",
       "    <tr>\n",
       "      <td>12</td>\n",
       "      <td>0.067400</td>\n",
       "      <td>0.543959</td>\n",
       "      <td>0.807516</td>\n",
       "      <td>0.746097</td>\n",
       "      <td>0.663488</td>\n",
       "      <td>0.688006</td>\n",
       "    </tr>\n",
       "    <tr>\n",
       "      <td>13</td>\n",
       "      <td>0.065600</td>\n",
       "      <td>0.541238</td>\n",
       "      <td>0.807516</td>\n",
       "      <td>0.757747</td>\n",
       "      <td>0.682399</td>\n",
       "      <td>0.706989</td>\n",
       "    </tr>\n",
       "    <tr>\n",
       "      <td>14</td>\n",
       "      <td>0.063400</td>\n",
       "      <td>0.543800</td>\n",
       "      <td>0.808433</td>\n",
       "      <td>0.759919</td>\n",
       "      <td>0.684379</td>\n",
       "      <td>0.706074</td>\n",
       "    </tr>\n",
       "    <tr>\n",
       "      <td>15</td>\n",
       "      <td>0.061800</td>\n",
       "      <td>0.543304</td>\n",
       "      <td>0.807516</td>\n",
       "      <td>0.757350</td>\n",
       "      <td>0.683322</td>\n",
       "      <td>0.705759</td>\n",
       "    </tr>\n",
       "    <tr>\n",
       "      <td>16</td>\n",
       "      <td>0.061100</td>\n",
       "      <td>0.542427</td>\n",
       "      <td>0.808433</td>\n",
       "      <td>0.760950</td>\n",
       "      <td>0.684388</td>\n",
       "      <td>0.706733</td>\n",
       "    </tr>\n",
       "  </tbody>\n",
       "</table><p>"
      ],
      "text/plain": [
       "<IPython.core.display.HTML object>"
      ]
     },
     "metadata": {},
     "output_type": "display_data"
    },
    {
     "data": {
      "text/plain": [
       "TrainOutput(global_step=560, training_loss=0.2864444660288947, metrics={'train_runtime': 72.097, 'train_samples_per_second': 1209.759, 'train_steps_per_second': 9.709, 'total_flos': 0.0, 'train_loss': 0.2864444660288947, 'epoch': 16.0})"
      ]
     },
     "execution_count": 30,
     "metadata": {},
     "output_type": "execute_result"
    }
   ],
   "source": [
    "trainer.train()"
   ]
  },
  {
   "cell_type": "code",
   "execution_count": 31,
   "metadata": {},
   "outputs": [
    {
     "data": {
      "text/plain": [
       "BiLSTMClassifier(\n",
       "  (embedding): Embedding(8768, 300)\n",
       "  (lstm): LSTM(300, 300, batch_first=True, bidirectional=True)\n",
       "  (fc1): Linear(in_features=600, out_features=400, bias=True)\n",
       "  (dropout): Dropout(p=0.2, inplace=False)\n",
       "  (fc2): Linear(in_features=400, out_features=50, bias=True)\n",
       ")"
      ]
     },
     "execution_count": 31,
     "metadata": {},
     "output_type": "execute_result"
    }
   ],
   "source": [
    "student_model.eval()"
   ]
  },
  {
   "cell_type": "code",
   "execution_count": 32,
   "metadata": {},
   "outputs": [
    {
     "data": {
      "text/html": [
       "\n",
       "    <div>\n",
       "      \n",
       "      <progress value='4' max='4' style='width:300px; height:20px; vertical-align: middle;'></progress>\n",
       "      [4/4 00:00]\n",
       "    </div>\n",
       "    "
      ],
      "text/plain": [
       "<IPython.core.display.HTML object>"
      ]
     },
     "metadata": {},
     "output_type": "display_data"
    },
    {
     "data": {
      "text/plain": [
       "{'eval_loss': 0.49377110600471497,\n",
       " 'eval_accuracy': 0.842,\n",
       " 'eval_precision': 0.7307214920902012,\n",
       " 'eval_recall': 0.7151819267016707,\n",
       " 'eval_f1': 0.7106890772345754,\n",
       " 'eval_runtime': 3.3712,\n",
       " 'eval_samples_per_second': 148.315,\n",
       " 'eval_steps_per_second': 1.187,\n",
       " 'epoch': 16.0}"
      ]
     },
     "execution_count": 32,
     "metadata": {},
     "output_type": "execute_result"
    }
   ],
   "source": [
    "trainer.evaluate(test_data)"
   ]
  },
  {
   "cell_type": "code",
   "execution_count": 33,
   "metadata": {},
   "outputs": [],
   "source": [
    "torch.save(student_model.state_dict(), f\"{os.path.expanduser('~')}/models/{DATASET}/bilstm-distill_fine_embedd.pth\")"
   ]
  },
  {
   "cell_type": "code",
   "execution_count": 34,
   "metadata": {},
   "outputs": [],
   "source": [
    "model = base.BiLSTMClassifier(embedding_matrix=embedding_matrix, embedding_dim=embedding_dim, fc_dim=400, hidden_dim=300, output_dim=50, freeze_embed=False)"
   ]
  },
  {
   "cell_type": "code",
   "execution_count": 35,
   "metadata": {},
   "outputs": [],
   "source": [
    "training_args = base.get_training_args(output_dir=f\"~/results/{DATASET}/bilstm-base-aug_fine_embedd\", logging_dir=f\"~/logs/{DATASET}/bilstm-base-aug_fine_embedd\", lr=0.0035, weight_decay=0.003, warmup_steps=6, epochs=20, batch_size=128)"
   ]
  },
  {
   "cell_type": "code",
   "execution_count": 36,
   "metadata": {},
   "outputs": [],
   "source": [
    "base.reset_seed()"
   ]
  },
  {
   "cell_type": "code",
   "execution_count": 37,
   "metadata": {},
   "outputs": [],
   "source": [
    "trainer = Trainer(\n",
    "    model=model,\n",
    "    args=training_args,\n",
    "    train_dataset=all_train_data,\n",
    "    eval_dataset=eval_data,\n",
    "    compute_metrics=base.compute_metrics,\n",
    "    callbacks = [EarlyStoppingCallback(early_stopping_patience = 3)]\n",
    ")"
   ]
  },
  {
   "cell_type": "code",
   "execution_count": 38,
   "metadata": {},
   "outputs": [
    {
     "data": {
      "text/html": [
       "\n",
       "    <div>\n",
       "      \n",
       "      <progress value='4184' max='10460' style='width:300px; height:20px; vertical-align: middle;'></progress>\n",
       "      [ 4184/10460 01:54 < 02:52, 36.42 it/s, Epoch 8/20]\n",
       "    </div>\n",
       "    <table border=\"1\" class=\"dataframe\">\n",
       "  <thead>\n",
       " <tr style=\"text-align: left;\">\n",
       "      <th>Epoch</th>\n",
       "      <th>Training Loss</th>\n",
       "      <th>Validation Loss</th>\n",
       "      <th>Accuracy</th>\n",
       "      <th>Precision</th>\n",
       "      <th>Recall</th>\n",
       "      <th>F1</th>\n",
       "    </tr>\n",
       "  </thead>\n",
       "  <tbody>\n",
       "    <tr>\n",
       "      <td>1</td>\n",
       "      <td>0.504400</td>\n",
       "      <td>1.117437</td>\n",
       "      <td>0.807516</td>\n",
       "      <td>0.769121</td>\n",
       "      <td>0.709247</td>\n",
       "      <td>0.723681</td>\n",
       "    </tr>\n",
       "    <tr>\n",
       "      <td>2</td>\n",
       "      <td>0.021400</td>\n",
       "      <td>1.404991</td>\n",
       "      <td>0.802933</td>\n",
       "      <td>0.743122</td>\n",
       "      <td>0.744630</td>\n",
       "      <td>0.728021</td>\n",
       "    </tr>\n",
       "    <tr>\n",
       "      <td>3</td>\n",
       "      <td>0.014000</td>\n",
       "      <td>1.625707</td>\n",
       "      <td>0.798350</td>\n",
       "      <td>0.773361</td>\n",
       "      <td>0.720528</td>\n",
       "      <td>0.726245</td>\n",
       "    </tr>\n",
       "    <tr>\n",
       "      <td>4</td>\n",
       "      <td>0.013600</td>\n",
       "      <td>1.573713</td>\n",
       "      <td>0.811182</td>\n",
       "      <td>0.759771</td>\n",
       "      <td>0.707243</td>\n",
       "      <td>0.718495</td>\n",
       "    </tr>\n",
       "    <tr>\n",
       "      <td>5</td>\n",
       "      <td>0.006600</td>\n",
       "      <td>1.807786</td>\n",
       "      <td>0.813016</td>\n",
       "      <td>0.805168</td>\n",
       "      <td>0.752777</td>\n",
       "      <td>0.762375</td>\n",
       "    </tr>\n",
       "    <tr>\n",
       "      <td>6</td>\n",
       "      <td>0.007400</td>\n",
       "      <td>1.848962</td>\n",
       "      <td>0.815765</td>\n",
       "      <td>0.794529</td>\n",
       "      <td>0.751498</td>\n",
       "      <td>0.757117</td>\n",
       "    </tr>\n",
       "    <tr>\n",
       "      <td>7</td>\n",
       "      <td>0.004100</td>\n",
       "      <td>2.041687</td>\n",
       "      <td>0.812099</td>\n",
       "      <td>0.765724</td>\n",
       "      <td>0.728152</td>\n",
       "      <td>0.734704</td>\n",
       "    </tr>\n",
       "    <tr>\n",
       "      <td>8</td>\n",
       "      <td>0.006500</td>\n",
       "      <td>1.950236</td>\n",
       "      <td>0.806599</td>\n",
       "      <td>0.733352</td>\n",
       "      <td>0.713455</td>\n",
       "      <td>0.712038</td>\n",
       "    </tr>\n",
       "  </tbody>\n",
       "</table><p>"
      ],
      "text/plain": [
       "<IPython.core.display.HTML object>"
      ]
     },
     "metadata": {},
     "output_type": "display_data"
    },
    {
     "data": {
      "text/plain": [
       "TrainOutput(global_step=4184, training_loss=0.07225541932860935, metrics={'train_runtime': 115.0389, 'train_samples_per_second': 11624.592, 'train_steps_per_second': 90.926, 'total_flos': 0.0, 'train_loss': 0.07225541932860935, 'epoch': 8.0})"
      ]
     },
     "execution_count": 38,
     "metadata": {},
     "output_type": "execute_result"
    }
   ],
   "source": [
    "trainer.train()"
   ]
  },
  {
   "cell_type": "code",
   "execution_count": 39,
   "metadata": {},
   "outputs": [
    {
     "data": {
      "text/plain": [
       "BiLSTMClassifier(\n",
       "  (embedding): Embedding(8768, 300)\n",
       "  (lstm): LSTM(300, 300, batch_first=True, bidirectional=True)\n",
       "  (fc1): Linear(in_features=600, out_features=400, bias=True)\n",
       "  (dropout): Dropout(p=0.2, inplace=False)\n",
       "  (fc2): Linear(in_features=400, out_features=50, bias=True)\n",
       ")"
      ]
     },
     "execution_count": 39,
     "metadata": {},
     "output_type": "execute_result"
    }
   ],
   "source": [
    "model.eval()"
   ]
  },
  {
   "cell_type": "code",
   "execution_count": 40,
   "metadata": {},
   "outputs": [
    {
     "data": {
      "text/html": [
       "\n",
       "    <div>\n",
       "      \n",
       "      <progress value='4' max='4' style='width:300px; height:20px; vertical-align: middle;'></progress>\n",
       "      [4/4 00:00]\n",
       "    </div>\n",
       "    "
      ],
      "text/plain": [
       "<IPython.core.display.HTML object>"
      ]
     },
     "metadata": {},
     "output_type": "display_data"
    },
    {
     "data": {
      "text/plain": [
       "{'eval_loss': 1.6040947437286377,\n",
       " 'eval_accuracy': 0.838,\n",
       " 'eval_precision': 0.7170619750720718,\n",
       " 'eval_recall': 0.7312740111641489,\n",
       " 'eval_f1': 0.7027150612991261,\n",
       " 'eval_runtime': 3.4479,\n",
       " 'eval_samples_per_second': 145.017,\n",
       " 'eval_steps_per_second': 1.16,\n",
       " 'epoch': 8.0}"
      ]
     },
     "execution_count": 40,
     "metadata": {},
     "output_type": "execute_result"
    }
   ],
   "source": [
    "trainer.evaluate(test_data)"
   ]
  },
  {
   "cell_type": "code",
   "execution_count": 41,
   "metadata": {},
   "outputs": [],
   "source": [
    "torch.save(model.state_dict(), f\"{os.path.expanduser('~')}/models/{DATASET}/bilstm-base-aug_fine_embedd.pth\")"
   ]
  },
  {
   "cell_type": "code",
   "execution_count": 42,
   "metadata": {},
   "outputs": [],
   "source": [
    "student_model = base.BiLSTMClassifier(embedding_matrix=embedding_matrix, embedding_dim=embedding_dim, fc_dim=400, hidden_dim=300, output_dim=50, freeze_embed=False)"
   ]
  },
  {
   "cell_type": "code",
   "execution_count": 43,
   "metadata": {},
   "outputs": [],
   "source": [
    "training_args = base.get_training_args(output_dir=f\"~/results/{DATASET}/bilstm-distill-aug_fine_embedd\", remove_unused_columns=False, logging_dir=f\"~/logs/{DATASET}/bilstm-distill-aug_fine_embedd\", lr=0.0045, weight_decay=0.002, warmup_steps=49, epochs=20, batch_size=128, lambda_param=.9, temp=2)"
   ]
  },
  {
   "cell_type": "code",
   "execution_count": 44,
   "metadata": {},
   "outputs": [],
   "source": [
    "base.reset_seed()"
   ]
  },
  {
   "cell_type": "code",
   "execution_count": 45,
   "metadata": {},
   "outputs": [],
   "source": [
    "trainer = base.DistilTrainer(\n",
    "    student_model=student_model,\n",
    "    args=training_args,\n",
    "    train_dataset=all_train_data,\n",
    "    eval_dataset=eval_data,\n",
    "    compute_metrics=base.compute_metrics,\n",
    "    callbacks = [EarlyStoppingCallback(early_stopping_patience = 3)]\n",
    ")"
   ]
  },
  {
   "cell_type": "code",
   "execution_count": 46,
   "metadata": {},
   "outputs": [
    {
     "data": {
      "text/html": [
       "\n",
       "    <div>\n",
       "      \n",
       "      <progress value='6276' max='10460' style='width:300px; height:20px; vertical-align: middle;'></progress>\n",
       "      [ 6276/10460 03:04 < 02:03, 33.93 it/s, Epoch 12/20]\n",
       "    </div>\n",
       "    <table border=\"1\" class=\"dataframe\">\n",
       "  <thead>\n",
       " <tr style=\"text-align: left;\">\n",
       "      <th>Epoch</th>\n",
       "      <th>Training Loss</th>\n",
       "      <th>Validation Loss</th>\n",
       "      <th>Accuracy</th>\n",
       "      <th>Precision</th>\n",
       "      <th>Recall</th>\n",
       "      <th>F1</th>\n",
       "    </tr>\n",
       "  </thead>\n",
       "  <tbody>\n",
       "    <tr>\n",
       "      <td>1</td>\n",
       "      <td>0.462000</td>\n",
       "      <td>0.485102</td>\n",
       "      <td>0.813016</td>\n",
       "      <td>0.680918</td>\n",
       "      <td>0.612705</td>\n",
       "      <td>0.632058</td>\n",
       "    </tr>\n",
       "    <tr>\n",
       "      <td>2</td>\n",
       "      <td>0.087200</td>\n",
       "      <td>0.479440</td>\n",
       "      <td>0.825848</td>\n",
       "      <td>0.794887</td>\n",
       "      <td>0.670816</td>\n",
       "      <td>0.710328</td>\n",
       "    </tr>\n",
       "    <tr>\n",
       "      <td>3</td>\n",
       "      <td>0.072500</td>\n",
       "      <td>0.493578</td>\n",
       "      <td>0.819432</td>\n",
       "      <td>0.790792</td>\n",
       "      <td>0.713239</td>\n",
       "      <td>0.736147</td>\n",
       "    </tr>\n",
       "    <tr>\n",
       "      <td>4</td>\n",
       "      <td>0.065600</td>\n",
       "      <td>0.474859</td>\n",
       "      <td>0.826764</td>\n",
       "      <td>0.773054</td>\n",
       "      <td>0.690754</td>\n",
       "      <td>0.713957</td>\n",
       "    </tr>\n",
       "    <tr>\n",
       "      <td>5</td>\n",
       "      <td>0.061000</td>\n",
       "      <td>0.468091</td>\n",
       "      <td>0.826764</td>\n",
       "      <td>0.821256</td>\n",
       "      <td>0.732420</td>\n",
       "      <td>0.759780</td>\n",
       "    </tr>\n",
       "    <tr>\n",
       "      <td>6</td>\n",
       "      <td>0.057500</td>\n",
       "      <td>0.472743</td>\n",
       "      <td>0.832264</td>\n",
       "      <td>0.825034</td>\n",
       "      <td>0.744926</td>\n",
       "      <td>0.770607</td>\n",
       "    </tr>\n",
       "    <tr>\n",
       "      <td>7</td>\n",
       "      <td>0.054800</td>\n",
       "      <td>0.475578</td>\n",
       "      <td>0.829514</td>\n",
       "      <td>0.846457</td>\n",
       "      <td>0.743583</td>\n",
       "      <td>0.778712</td>\n",
       "    </tr>\n",
       "    <tr>\n",
       "      <td>8</td>\n",
       "      <td>0.053100</td>\n",
       "      <td>0.471309</td>\n",
       "      <td>0.833181</td>\n",
       "      <td>0.850078</td>\n",
       "      <td>0.740529</td>\n",
       "      <td>0.775706</td>\n",
       "    </tr>\n",
       "    <tr>\n",
       "      <td>9</td>\n",
       "      <td>0.050300</td>\n",
       "      <td>0.447396</td>\n",
       "      <td>0.835014</td>\n",
       "      <td>0.847293</td>\n",
       "      <td>0.747636</td>\n",
       "      <td>0.780225</td>\n",
       "    </tr>\n",
       "    <tr>\n",
       "      <td>10</td>\n",
       "      <td>0.048200</td>\n",
       "      <td>0.453210</td>\n",
       "      <td>0.831347</td>\n",
       "      <td>0.836824</td>\n",
       "      <td>0.747720</td>\n",
       "      <td>0.775548</td>\n",
       "    </tr>\n",
       "    <tr>\n",
       "      <td>11</td>\n",
       "      <td>0.046400</td>\n",
       "      <td>0.464460</td>\n",
       "      <td>0.832264</td>\n",
       "      <td>0.845826</td>\n",
       "      <td>0.740890</td>\n",
       "      <td>0.775532</td>\n",
       "    </tr>\n",
       "    <tr>\n",
       "      <td>12</td>\n",
       "      <td>0.044800</td>\n",
       "      <td>0.444260</td>\n",
       "      <td>0.835014</td>\n",
       "      <td>0.840122</td>\n",
       "      <td>0.738811</td>\n",
       "      <td>0.770962</td>\n",
       "    </tr>\n",
       "  </tbody>\n",
       "</table><p>"
      ],
      "text/plain": [
       "<IPython.core.display.HTML object>"
      ]
     },
     "metadata": {},
     "output_type": "display_data"
    },
    {
     "data": {
      "text/plain": [
       "TrainOutput(global_step=6276, training_loss=0.0919562218825934, metrics={'train_runtime': 185.1744, 'train_samples_per_second': 7221.734, 'train_steps_per_second': 56.487, 'total_flos': 0.0, 'train_loss': 0.0919562218825934, 'epoch': 12.0})"
      ]
     },
     "execution_count": 46,
     "metadata": {},
     "output_type": "execute_result"
    }
   ],
   "source": [
    "trainer.train()"
   ]
  },
  {
   "cell_type": "code",
   "execution_count": 47,
   "metadata": {},
   "outputs": [
    {
     "data": {
      "text/plain": [
       "BiLSTMClassifier(\n",
       "  (embedding): Embedding(8768, 300)\n",
       "  (lstm): LSTM(300, 300, batch_first=True, bidirectional=True)\n",
       "  (fc1): Linear(in_features=600, out_features=400, bias=True)\n",
       "  (dropout): Dropout(p=0.2, inplace=False)\n",
       "  (fc2): Linear(in_features=400, out_features=50, bias=True)\n",
       ")"
      ]
     },
     "execution_count": 47,
     "metadata": {},
     "output_type": "execute_result"
    }
   ],
   "source": [
    "student_model.eval()"
   ]
  },
  {
   "cell_type": "code",
   "execution_count": 48,
   "metadata": {},
   "outputs": [
    {
     "data": {
      "text/html": [
       "\n",
       "    <div>\n",
       "      \n",
       "      <progress value='4' max='4' style='width:300px; height:20px; vertical-align: middle;'></progress>\n",
       "      [4/4 00:00]\n",
       "    </div>\n",
       "    "
      ],
      "text/plain": [
       "<IPython.core.display.HTML object>"
      ]
     },
     "metadata": {},
     "output_type": "display_data"
    },
    {
     "data": {
      "text/plain": [
       "{'eval_loss': 0.31923750042915344,\n",
       " 'eval_accuracy': 0.838,\n",
       " 'eval_precision': 0.7880327087102402,\n",
       " 'eval_recall': 0.728432640970928,\n",
       " 'eval_f1': 0.7320033045657414,\n",
       " 'eval_runtime': 3.5403,\n",
       " 'eval_samples_per_second': 141.233,\n",
       " 'eval_steps_per_second': 1.13,\n",
       " 'epoch': 12.0}"
      ]
     },
     "execution_count": 48,
     "metadata": {},
     "output_type": "execute_result"
    }
   ],
   "source": [
    "trainer.evaluate(test_data)"
   ]
  },
  {
   "cell_type": "code",
   "execution_count": 49,
   "metadata": {},
   "outputs": [],
   "source": [
    "torch.save(model.state_dict(), f\"{os.path.expanduser('~')}/models/{DATASET}/bilstm-distill-aug_fine_embedd.pth\")"
   ]
  }
 ],
 "metadata": {
  "kernelspec": {
   "display_name": "Python 3 (ipykernel)",
   "language": "python",
   "name": "python3"
  },
  "language_info": {
   "codemirror_mode": {
    "name": "ipython",
    "version": 3
   },
   "file_extension": ".py",
   "mimetype": "text/x-python",
   "name": "python",
   "nbconvert_exporter": "python",
   "pygments_lexer": "ipython3",
   "version": "3.10.12"
  }
 },
 "nbformat": 4,
 "nbformat_minor": 2
}
