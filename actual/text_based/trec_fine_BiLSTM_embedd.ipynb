{
 "cells": [
  {
   "cell_type": "code",
   "execution_count": 2,
   "metadata": {},
   "outputs": [
    {
     "name": "stderr",
     "output_type": "stream",
     "text": [
      "[nltk_data] Downloading package averaged_perceptron_tagger to\n",
      "[nltk_data]     /home/jovyan/nltk_data...\n",
      "[nltk_data]   Package averaged_perceptron_tagger is already up-to-\n",
      "[nltk_data]       date!\n",
      "[nltk_data] Downloading package punkt to /home/jovyan/nltk_data...\n",
      "[nltk_data]   Package punkt is already up-to-date!\n",
      "[nltk_data] Downloading package punkt_tab to /home/jovyan/nltk_data...\n",
      "[nltk_data]   Package punkt_tab is already up-to-date!\n",
      "[nltk_data] Downloading package averaged_perceptron_tagger_eng to\n",
      "[nltk_data]     /home/jovyan/nltk_data...\n",
      "[nltk_data]   Package averaged_perceptron_tagger_eng is already up-to-\n",
      "[nltk_data]       date!\n"
     ]
    }
   ],
   "source": [
    "from datasets import concatenate_datasets, load_from_disk\n",
    "from transformers import BasicTokenizer, Trainer, EarlyStoppingCallback\n",
    "import kagglehub\n",
    "import torch\n",
    "import base\n",
    "import os"
   ]
  },
  {
   "cell_type": "code",
   "execution_count": 3,
   "metadata": {},
   "outputs": [
    {
     "name": "stdout",
     "output_type": "stream",
     "text": [
      "/home/jovyan/.cache/kagglehub/datasets/thanakomsn/glove6b300dtxt/versions/1\n"
     ]
    }
   ],
   "source": [
    "my_glove = kagglehub.dataset_download(\"thanakomsn/glove6b300dtxt\")\n",
    "print(my_glove)"
   ]
  },
  {
   "cell_type": "code",
   "execution_count": 4,
   "metadata": {},
   "outputs": [],
   "source": [
    "GLOVE_FILE = f\"{my_glove}/glove.6B.300d.txt\"\n",
    "DATASET = \"trec\""
   ]
  },
  {
   "cell_type": "code",
   "execution_count": 5,
   "metadata": {},
   "outputs": [],
   "source": [
    "train_data = load_from_disk(f\"~/data/{DATASET}/train-logits_fine\")\n",
    "eval_data = load_from_disk(f\"~/data/{DATASET}/eval-logits_fine\")\n",
    "test_data = load_from_disk(f\"~/data/{DATASET}/test-logits_fine\")\n",
    "\n",
    "all_train_data = load_from_disk(f\"~/data/{DATASET}/train-logits-augmented_fine\")\n",
    "\n",
    "all_data = concatenate_datasets([load_from_disk(file) for file in [f\"~/data/{DATASET}/eval-logits_fine\", f\"~/data/{DATASET}/test-logits_fine\", f\"~/data/{DATASET}/train-logits-augmented_fine\"]])\n",
    "tokenizer = BasicTokenizer(do_lower_case=True)"
   ]
  },
  {
   "cell_type": "code",
   "execution_count": 6,
   "metadata": {},
   "outputs": [
    {
     "name": "stdout",
     "output_type": "stream",
     "text": [
      "GPU is available and will be used: NVIDIA A100 80GB PCIe MIG 2g.20gb\n"
     ]
    }
   ],
   "source": [
    "if torch.cuda.is_available():\n",
    "    device = torch.device(\"cuda\")\n",
    "    print(\"GPU is available and will be used:\", torch.cuda.get_device_name(0))\n",
    "else:\n",
    "    device = torch.device(\"cpu\")\n",
    "    print(\"GPU is not available, using CPU.\")"
   ]
  },
  {
   "cell_type": "code",
   "execution_count": 7,
   "metadata": {},
   "outputs": [],
   "source": [
    "train_data_tokens = list(map(lambda e: tokenizer.tokenize(e[\"sentence\"]), train_data))\n",
    "eval_data_tokens = list(map(lambda e: tokenizer.tokenize(e[\"sentence\"]), eval_data))\n",
    "test_data_tokens = list(map(lambda e: tokenizer.tokenize(e[\"sentence\"]), test_data))\n",
    "\n",
    "all_train_data_tokens = list(map(lambda e: tokenizer.tokenize(e[\"sentence\"]), all_train_data))\n",
    "\n",
    "all_data_tokens = list(map(lambda e: tokenizer.tokenize(e[\"sentence\"]), all_data))"
   ]
  },
  {
   "cell_type": "code",
   "execution_count": 8,
   "metadata": {},
   "outputs": [],
   "source": [
    "vocab = base.get_vocab(all_data_tokens)"
   ]
  },
  {
   "cell_type": "code",
   "execution_count": 9,
   "metadata": {},
   "outputs": [],
   "source": [
    "word_index = dict(zip(vocab, range(len(vocab))))"
   ]
  },
  {
   "cell_type": "code",
   "execution_count": 10,
   "metadata": {},
   "outputs": [
    {
     "name": "stdout",
     "output_type": "stream",
     "text": [
      "Found 400000 word vectors.\n"
     ]
    }
   ],
   "source": [
    "embeddings_index = base.get_embeddings_indeces(GLOVE_FILE)"
   ]
  },
  {
   "cell_type": "code",
   "execution_count": 11,
   "metadata": {},
   "outputs": [
    {
     "name": "stdout",
     "output_type": "stream",
     "text": [
      "8766\n"
     ]
    }
   ],
   "source": [
    "print(len(vocab))\n",
    "num_tokens = len(vocab) + 2\n",
    "embedding_dim = 300"
   ]
  },
  {
   "cell_type": "code",
   "execution_count": 12,
   "metadata": {},
   "outputs": [
    {
     "name": "stdout",
     "output_type": "stream",
     "text": [
      "Converted 8551 words (215) misses\n"
     ]
    }
   ],
   "source": [
    "embedding_matrix = base.get_embedding_matrix(num_tokens, embedding_dim, word_index, embeddings_index)"
   ]
  },
  {
   "cell_type": "code",
   "execution_count": 13,
   "metadata": {},
   "outputs": [],
   "source": [
    "train_data_index = list(map(lambda x: list(map(lambda y: word_index[y], x)),train_data_tokens))\n",
    "eval_data_index = list(map(lambda x: list(map(lambda y: word_index[y], x)),eval_data_tokens))\n",
    "test_data_index = list(map(lambda x: list(map(lambda y: word_index[y], x)),test_data_tokens))\n",
    "\n",
    "all_train_data_index = list(map(lambda x: list(map(lambda y: word_index[y], x)),all_train_data_tokens))"
   ]
  },
  {
   "cell_type": "code",
   "execution_count": 14,
   "metadata": {},
   "outputs": [],
   "source": [
    "train_padded_data = list(map(lambda x: base.padd(x,60), train_data_index))\n",
    "eval_padded_data = list(map(lambda x: base.padd(x,60), eval_data_index))\n",
    "test_padded_data = list(map(lambda x: base.padd(x,60), test_data_index))\n",
    "\n",
    "all_train_padded_data = list(map(lambda x: base.padd(x,60), all_train_data_index))"
   ]
  },
  {
   "cell_type": "code",
   "execution_count": 15,
   "metadata": {},
   "outputs": [],
   "source": [
    "train_data = train_data.add_column(\"input_ids\", train_padded_data)\n",
    "eval_data = eval_data.add_column(\"input_ids\", eval_padded_data)\n",
    "test_data = test_data.add_column(\"input_ids\", test_padded_data)\n",
    "\n",
    "all_train_data = all_train_data.add_column(\"input_ids\", all_train_padded_data)"
   ]
  },
  {
   "cell_type": "code",
   "execution_count": 15,
   "metadata": {},
   "outputs": [],
   "source": [
    "model = base.BiLSTMClassifier(embedding_matrix=embedding_matrix, embedding_dim=embedding_dim, fc_dim=400, hidden_dim=300, output_dim=50, freeze_embed=False)"
   ]
  },
  {
   "cell_type": "code",
   "execution_count": 16,
   "metadata": {},
   "outputs": [
    {
     "name": "stdout",
     "output_type": "stream",
     "text": [
      "BiLSTMClassifier(\n",
      "  (embedding): Embedding(8768, 300)\n",
      "  (lstm): LSTM(300, 300, batch_first=True, bidirectional=True)\n",
      "  (fc1): Linear(in_features=600, out_features=400, bias=True)\n",
      "  (dropout): Dropout(p=0.2, inplace=False)\n",
      "  (fc2): Linear(in_features=400, out_features=50, bias=True)\n",
      ")\n"
     ]
    }
   ],
   "source": [
    "print(model)"
   ]
  },
  {
   "cell_type": "code",
   "execution_count": 17,
   "metadata": {},
   "outputs": [],
   "source": [
    "training_args = base.get_training_args(output_dir=f\"~/results/{DATASET}/bilstm-base_fine_embedd\", logging_dir=f\"~/logs/{DATASET}/bilstm-base_fine_embedd\", lr=.001,  epochs=10, batch_size=128)"
   ]
  },
  {
   "cell_type": "code",
   "execution_count": 18,
   "metadata": {},
   "outputs": [],
   "source": [
    "base.reset_seed()"
   ]
  },
  {
   "cell_type": "code",
   "execution_count": 19,
   "metadata": {},
   "outputs": [],
   "source": [
    "trainer = Trainer(\n",
    "    model=model,\n",
    "    args=training_args,\n",
    "    train_dataset=train_data,\n",
    "    eval_dataset=eval_data,\n",
    "    compute_metrics=base.compute_metrics,\n",
    "    callbacks = [EarlyStoppingCallback(early_stopping_patience = 3)]\n",
    ")"
   ]
  },
  {
   "cell_type": "code",
   "execution_count": 20,
   "metadata": {},
   "outputs": [
    {
     "data": {
      "text/html": [
       "\n",
       "    <div>\n",
       "      \n",
       "      <progress value='350' max='350' style='width:300px; height:20px; vertical-align: middle;'></progress>\n",
       "      [350/350 00:48, Epoch 10/10]\n",
       "    </div>\n",
       "    <table border=\"1\" class=\"dataframe\">\n",
       "  <thead>\n",
       " <tr style=\"text-align: left;\">\n",
       "      <th>Epoch</th>\n",
       "      <th>Training Loss</th>\n",
       "      <th>Validation Loss</th>\n",
       "      <th>Accuracy</th>\n",
       "      <th>Precision</th>\n",
       "      <th>Recall</th>\n",
       "      <th>F1</th>\n",
       "    </tr>\n",
       "  </thead>\n",
       "  <tbody>\n",
       "    <tr>\n",
       "      <td>1</td>\n",
       "      <td>3.056500</td>\n",
       "      <td>2.436181</td>\n",
       "      <td>0.423465</td>\n",
       "      <td>0.062694</td>\n",
       "      <td>0.095029</td>\n",
       "      <td>0.067000</td>\n",
       "    </tr>\n",
       "    <tr>\n",
       "      <td>2</td>\n",
       "      <td>2.093500</td>\n",
       "      <td>1.847499</td>\n",
       "      <td>0.545371</td>\n",
       "      <td>0.165677</td>\n",
       "      <td>0.158087</td>\n",
       "      <td>0.135725</td>\n",
       "    </tr>\n",
       "    <tr>\n",
       "      <td>3</td>\n",
       "      <td>1.617800</td>\n",
       "      <td>1.520944</td>\n",
       "      <td>0.617782</td>\n",
       "      <td>0.255894</td>\n",
       "      <td>0.223985</td>\n",
       "      <td>0.216745</td>\n",
       "    </tr>\n",
       "    <tr>\n",
       "      <td>4</td>\n",
       "      <td>1.210900</td>\n",
       "      <td>1.332834</td>\n",
       "      <td>0.656279</td>\n",
       "      <td>0.318186</td>\n",
       "      <td>0.274500</td>\n",
       "      <td>0.272810</td>\n",
       "    </tr>\n",
       "    <tr>\n",
       "      <td>5</td>\n",
       "      <td>0.926900</td>\n",
       "      <td>1.200623</td>\n",
       "      <td>0.688359</td>\n",
       "      <td>0.370112</td>\n",
       "      <td>0.325136</td>\n",
       "      <td>0.327787</td>\n",
       "    </tr>\n",
       "    <tr>\n",
       "      <td>6</td>\n",
       "      <td>0.697200</td>\n",
       "      <td>1.156946</td>\n",
       "      <td>0.705775</td>\n",
       "      <td>0.439980</td>\n",
       "      <td>0.388992</td>\n",
       "      <td>0.391736</td>\n",
       "    </tr>\n",
       "    <tr>\n",
       "      <td>7</td>\n",
       "      <td>0.533500</td>\n",
       "      <td>1.194040</td>\n",
       "      <td>0.703025</td>\n",
       "      <td>0.439554</td>\n",
       "      <td>0.379934</td>\n",
       "      <td>0.393342</td>\n",
       "    </tr>\n",
       "    <tr>\n",
       "      <td>8</td>\n",
       "      <td>0.425400</td>\n",
       "      <td>1.140950</td>\n",
       "      <td>0.714940</td>\n",
       "      <td>0.435646</td>\n",
       "      <td>0.435435</td>\n",
       "      <td>0.431190</td>\n",
       "    </tr>\n",
       "    <tr>\n",
       "      <td>9</td>\n",
       "      <td>0.347200</td>\n",
       "      <td>1.166825</td>\n",
       "      <td>0.719523</td>\n",
       "      <td>0.473302</td>\n",
       "      <td>0.445483</td>\n",
       "      <td>0.451222</td>\n",
       "    </tr>\n",
       "    <tr>\n",
       "      <td>10</td>\n",
       "      <td>0.285300</td>\n",
       "      <td>1.154827</td>\n",
       "      <td>0.717690</td>\n",
       "      <td>0.471534</td>\n",
       "      <td>0.440157</td>\n",
       "      <td>0.445367</td>\n",
       "    </tr>\n",
       "  </tbody>\n",
       "</table><p>"
      ],
      "text/plain": [
       "<IPython.core.display.HTML object>"
      ]
     },
     "metadata": {},
     "output_type": "display_data"
    },
    {
     "data": {
      "text/plain": [
       "TrainOutput(global_step=350, training_loss=1.1194278717041015, metrics={'train_runtime': 50.7084, 'train_samples_per_second': 860.016, 'train_steps_per_second': 6.902, 'total_flos': 0.0, 'train_loss': 1.1194278717041015, 'epoch': 10.0})"
      ]
     },
     "execution_count": 20,
     "metadata": {},
     "output_type": "execute_result"
    }
   ],
   "source": [
    "trainer.train()"
   ]
  },
  {
   "cell_type": "code",
   "execution_count": 21,
   "metadata": {},
   "outputs": [
    {
     "data": {
      "text/plain": [
       "BiLSTMClassifier(\n",
       "  (embedding): Embedding(8768, 300)\n",
       "  (lstm): LSTM(300, 300, batch_first=True, bidirectional=True)\n",
       "  (fc1): Linear(in_features=600, out_features=400, bias=True)\n",
       "  (dropout): Dropout(p=0.2, inplace=False)\n",
       "  (fc2): Linear(in_features=400, out_features=50, bias=True)\n",
       ")"
      ]
     },
     "execution_count": 21,
     "metadata": {},
     "output_type": "execute_result"
    }
   ],
   "source": [
    "model.eval()"
   ]
  },
  {
   "cell_type": "code",
   "execution_count": 22,
   "metadata": {},
   "outputs": [
    {
     "data": {
      "text/html": [
       "\n",
       "    <div>\n",
       "      \n",
       "      <progress value='4' max='4' style='width:300px; height:20px; vertical-align: middle;'></progress>\n",
       "      [4/4 00:00]\n",
       "    </div>\n",
       "    "
      ],
      "text/plain": [
       "<IPython.core.display.HTML object>"
      ]
     },
     "metadata": {},
     "output_type": "display_data"
    },
    {
     "data": {
      "text/plain": [
       "{'eval_loss': 1.1103469133377075,\n",
       " 'eval_accuracy': 0.728,\n",
       " 'eval_precision': 0.4749934121396973,\n",
       " 'eval_recall': 0.48748620936716064,\n",
       " 'eval_f1': 0.45324427900232056,\n",
       " 'eval_runtime': 3.1349,\n",
       " 'eval_samples_per_second': 159.497,\n",
       " 'eval_steps_per_second': 1.276,\n",
       " 'epoch': 10.0}"
      ]
     },
     "execution_count": 22,
     "metadata": {},
     "output_type": "execute_result"
    }
   ],
   "source": [
    "trainer.evaluate(test_data)"
   ]
  },
  {
   "cell_type": "code",
   "execution_count": 23,
   "metadata": {},
   "outputs": [],
   "source": [
    "torch.save(model.state_dict(), f\"{os.path.expanduser('~')}/models/{DATASET}/bilstm-base_fine_embedd.pth\")"
   ]
  },
  {
   "cell_type": "code",
   "execution_count": 24,
   "metadata": {},
   "outputs": [],
   "source": [
    "student_model = base.BiLSTMClassifier(embedding_matrix=embedding_matrix, embedding_dim=embedding_dim, fc_dim=400, hidden_dim=300, output_dim=50, freeze_embed=False)"
   ]
  },
  {
   "cell_type": "code",
   "execution_count": 25,
   "metadata": {},
   "outputs": [],
   "source": [
    "training_args = base.get_training_args(output_dir=f\"~/results/{DATASET}/bilstm-distill_fine_embedd\", remove_unused_columns=False, logging_dir=f\"~/logs/{DATASET}/bilstm-distill_fine_embedd\", lr=.001,  epochs=10, batch_size=128, lambda_param=.4, temp=2)"
   ]
  },
  {
   "cell_type": "code",
   "execution_count": 26,
   "metadata": {},
   "outputs": [],
   "source": [
    "base.reset_seed()"
   ]
  },
  {
   "cell_type": "code",
   "execution_count": 27,
   "metadata": {},
   "outputs": [],
   "source": [
    "trainer = base.DistilTrainer(\n",
    "    student_model=student_model,\n",
    "    args=training_args,\n",
    "    train_dataset=train_data,\n",
    "    eval_dataset=eval_data,\n",
    "    compute_metrics=base.compute_metrics,\n",
    "    callbacks = [EarlyStoppingCallback(early_stopping_patience = 3)]\n",
    ")"
   ]
  },
  {
   "cell_type": "code",
   "execution_count": 28,
   "metadata": {},
   "outputs": [
    {
     "data": {
      "text/html": [
       "\n",
       "    <div>\n",
       "      \n",
       "      <progress value='350' max='350' style='width:300px; height:20px; vertical-align: middle;'></progress>\n",
       "      [350/350 01:49, Epoch 10/10]\n",
       "    </div>\n",
       "    <table border=\"1\" class=\"dataframe\">\n",
       "  <thead>\n",
       " <tr style=\"text-align: left;\">\n",
       "      <th>Epoch</th>\n",
       "      <th>Training Loss</th>\n",
       "      <th>Validation Loss</th>\n",
       "      <th>Accuracy</th>\n",
       "      <th>Precision</th>\n",
       "      <th>Recall</th>\n",
       "      <th>F1</th>\n",
       "    </tr>\n",
       "  </thead>\n",
       "  <tbody>\n",
       "    <tr>\n",
       "      <td>1</td>\n",
       "      <td>2.743400</td>\n",
       "      <td>2.190063</td>\n",
       "      <td>0.374885</td>\n",
       "      <td>0.063283</td>\n",
       "      <td>0.078708</td>\n",
       "      <td>0.051833</td>\n",
       "    </tr>\n",
       "    <tr>\n",
       "      <td>2</td>\n",
       "      <td>1.888500</td>\n",
       "      <td>1.702260</td>\n",
       "      <td>0.492209</td>\n",
       "      <td>0.093788</td>\n",
       "      <td>0.126230</td>\n",
       "      <td>0.101897</td>\n",
       "    </tr>\n",
       "    <tr>\n",
       "      <td>3</td>\n",
       "      <td>1.521200</td>\n",
       "      <td>1.400560</td>\n",
       "      <td>0.585701</td>\n",
       "      <td>0.160858</td>\n",
       "      <td>0.181285</td>\n",
       "      <td>0.158776</td>\n",
       "    </tr>\n",
       "    <tr>\n",
       "      <td>4</td>\n",
       "      <td>1.211800</td>\n",
       "      <td>1.215174</td>\n",
       "      <td>0.647113</td>\n",
       "      <td>0.241764</td>\n",
       "      <td>0.233264</td>\n",
       "      <td>0.217399</td>\n",
       "    </tr>\n",
       "    <tr>\n",
       "      <td>5</td>\n",
       "      <td>0.988100</td>\n",
       "      <td>1.107085</td>\n",
       "      <td>0.680110</td>\n",
       "      <td>0.296947</td>\n",
       "      <td>0.294702</td>\n",
       "      <td>0.285310</td>\n",
       "    </tr>\n",
       "    <tr>\n",
       "      <td>6</td>\n",
       "      <td>0.813000</td>\n",
       "      <td>1.024184</td>\n",
       "      <td>0.703941</td>\n",
       "      <td>0.339447</td>\n",
       "      <td>0.324904</td>\n",
       "      <td>0.317369</td>\n",
       "    </tr>\n",
       "    <tr>\n",
       "      <td>7</td>\n",
       "      <td>0.685500</td>\n",
       "      <td>1.025453</td>\n",
       "      <td>0.704858</td>\n",
       "      <td>0.396733</td>\n",
       "      <td>0.329421</td>\n",
       "      <td>0.337294</td>\n",
       "    </tr>\n",
       "    <tr>\n",
       "      <td>8</td>\n",
       "      <td>0.608900</td>\n",
       "      <td>0.965684</td>\n",
       "      <td>0.722273</td>\n",
       "      <td>0.391613</td>\n",
       "      <td>0.351299</td>\n",
       "      <td>0.348777</td>\n",
       "    </tr>\n",
       "    <tr>\n",
       "      <td>9</td>\n",
       "      <td>0.532400</td>\n",
       "      <td>0.959173</td>\n",
       "      <td>0.721357</td>\n",
       "      <td>0.413331</td>\n",
       "      <td>0.365000</td>\n",
       "      <td>0.371822</td>\n",
       "    </tr>\n",
       "    <tr>\n",
       "      <td>10</td>\n",
       "      <td>0.492200</td>\n",
       "      <td>0.951961</td>\n",
       "      <td>0.721357</td>\n",
       "      <td>0.400930</td>\n",
       "      <td>0.363360</td>\n",
       "      <td>0.367079</td>\n",
       "    </tr>\n",
       "  </tbody>\n",
       "</table><p>"
      ],
      "text/plain": [
       "<IPython.core.display.HTML object>"
      ]
     },
     "metadata": {},
     "output_type": "display_data"
    },
    {
     "data": {
      "text/plain": [
       "TrainOutput(global_step=350, training_loss=1.1484937231881278, metrics={'train_runtime': 109.8886, 'train_samples_per_second': 396.856, 'train_steps_per_second': 3.185, 'total_flos': 0.0, 'train_loss': 1.1484937231881278, 'epoch': 10.0})"
      ]
     },
     "execution_count": 28,
     "metadata": {},
     "output_type": "execute_result"
    }
   ],
   "source": [
    "trainer.train()"
   ]
  },
  {
   "cell_type": "code",
   "execution_count": 29,
   "metadata": {},
   "outputs": [
    {
     "data": {
      "text/plain": [
       "BiLSTMClassifier(\n",
       "  (embedding): Embedding(8768, 300)\n",
       "  (lstm): LSTM(300, 300, batch_first=True, bidirectional=True)\n",
       "  (fc1): Linear(in_features=600, out_features=400, bias=True)\n",
       "  (dropout): Dropout(p=0.2, inplace=False)\n",
       "  (fc2): Linear(in_features=400, out_features=50, bias=True)\n",
       ")"
      ]
     },
     "execution_count": 29,
     "metadata": {},
     "output_type": "execute_result"
    }
   ],
   "source": [
    "student_model.eval()"
   ]
  },
  {
   "cell_type": "code",
   "execution_count": 30,
   "metadata": {},
   "outputs": [
    {
     "data": {
      "text/html": [
       "\n",
       "    <div>\n",
       "      \n",
       "      <progress value='4' max='4' style='width:300px; height:20px; vertical-align: middle;'></progress>\n",
       "      [4/4 00:00]\n",
       "    </div>\n",
       "    "
      ],
      "text/plain": [
       "<IPython.core.display.HTML object>"
      ]
     },
     "metadata": {},
     "output_type": "display_data"
    },
    {
     "data": {
      "text/plain": [
       "{'eval_loss': 0.9413951635360718,\n",
       " 'eval_accuracy': 0.722,\n",
       " 'eval_precision': 0.3996453701382308,\n",
       " 'eval_recall': 0.4473198892622083,\n",
       " 'eval_f1': 0.3991111870917891,\n",
       " 'eval_runtime': 4.6147,\n",
       " 'eval_samples_per_second': 108.351,\n",
       " 'eval_steps_per_second': 0.867,\n",
       " 'epoch': 10.0}"
      ]
     },
     "execution_count": 30,
     "metadata": {},
     "output_type": "execute_result"
    }
   ],
   "source": [
    "trainer.evaluate(test_data)"
   ]
  },
  {
   "cell_type": "code",
   "execution_count": 31,
   "metadata": {},
   "outputs": [],
   "source": [
    "torch.save(student_model.state_dict(), f\"{os.path.expanduser('~')}/models/{DATASET}/bilstm-distill_fine_embedd.pth\")"
   ]
  },
  {
   "cell_type": "code",
   "execution_count": 50,
   "metadata": {},
   "outputs": [],
   "source": [
    "model = base.BiLSTMClassifier(embedding_matrix=embedding_matrix, embedding_dim=embedding_dim, fc_dim=400, hidden_dim=300, output_dim=50, freeze_embed=False)"
   ]
  },
  {
   "cell_type": "code",
   "execution_count": null,
   "metadata": {},
   "outputs": [],
   "source": [
    "training_args = base.get_training_args(output_dir=f\"~/results/{DATASET}/bilstm-base-aug_fine_embedd\", logging_dir=f\"~/logs/{DATASET}/bilstm-base-aug_fine_embedd\", lr=0.0015, weight_decay=0.01, warmup_steps=45, adam_beta1=.95, epochs=30, batch_size=128)"
   ]
  },
  {
   "cell_type": "code",
   "execution_count": 52,
   "metadata": {},
   "outputs": [],
   "source": [
    "base.reset_seed()"
   ]
  },
  {
   "cell_type": "code",
   "execution_count": 53,
   "metadata": {},
   "outputs": [],
   "source": [
    "trainer = Trainer(\n",
    "    model=model,\n",
    "    args=training_args,\n",
    "    train_dataset=all_train_data,\n",
    "    eval_dataset=eval_data,\n",
    "    compute_metrics=base.compute_metrics,\n",
    "    callbacks = [EarlyStoppingCallback(early_stopping_patience = 5)]\n",
    ")"
   ]
  },
  {
   "cell_type": "code",
   "execution_count": 54,
   "metadata": {},
   "outputs": [
    {
     "data": {
      "text/html": [
       "\n",
       "    <div>\n",
       "      \n",
       "      <progress value='5250' max='15750' style='width:300px; height:20px; vertical-align: middle;'></progress>\n",
       "      [ 5250/15750 01:51 < 03:43, 47.01 it/s, Epoch 10/30]\n",
       "    </div>\n",
       "    <table border=\"1\" class=\"dataframe\">\n",
       "  <thead>\n",
       " <tr style=\"text-align: left;\">\n",
       "      <th>Epoch</th>\n",
       "      <th>Training Loss</th>\n",
       "      <th>Validation Loss</th>\n",
       "      <th>Accuracy</th>\n",
       "      <th>Precision</th>\n",
       "      <th>Recall</th>\n",
       "      <th>F1</th>\n",
       "    </tr>\n",
       "  </thead>\n",
       "  <tbody>\n",
       "    <tr>\n",
       "      <td>1</td>\n",
       "      <td>0.885500</td>\n",
       "      <td>1.169522</td>\n",
       "      <td>0.777269</td>\n",
       "      <td>0.643539</td>\n",
       "      <td>0.648662</td>\n",
       "      <td>0.629898</td>\n",
       "    </tr>\n",
       "    <tr>\n",
       "      <td>2</td>\n",
       "      <td>0.043600</td>\n",
       "      <td>1.269554</td>\n",
       "      <td>0.802016</td>\n",
       "      <td>0.746281</td>\n",
       "      <td>0.729575</td>\n",
       "      <td>0.719434</td>\n",
       "    </tr>\n",
       "    <tr>\n",
       "      <td>3</td>\n",
       "      <td>0.013300</td>\n",
       "      <td>1.378293</td>\n",
       "      <td>0.813016</td>\n",
       "      <td>0.757900</td>\n",
       "      <td>0.745359</td>\n",
       "      <td>0.732024</td>\n",
       "    </tr>\n",
       "    <tr>\n",
       "      <td>4</td>\n",
       "      <td>0.010300</td>\n",
       "      <td>1.447381</td>\n",
       "      <td>0.805683</td>\n",
       "      <td>0.739511</td>\n",
       "      <td>0.732891</td>\n",
       "      <td>0.725578</td>\n",
       "    </tr>\n",
       "    <tr>\n",
       "      <td>5</td>\n",
       "      <td>0.007200</td>\n",
       "      <td>1.450472</td>\n",
       "      <td>0.812099</td>\n",
       "      <td>0.767619</td>\n",
       "      <td>0.737152</td>\n",
       "      <td>0.738159</td>\n",
       "    </tr>\n",
       "    <tr>\n",
       "      <td>6</td>\n",
       "      <td>0.007700</td>\n",
       "      <td>1.698676</td>\n",
       "      <td>0.803850</td>\n",
       "      <td>0.743370</td>\n",
       "      <td>0.712370</td>\n",
       "      <td>0.714853</td>\n",
       "    </tr>\n",
       "    <tr>\n",
       "      <td>7</td>\n",
       "      <td>0.005100</td>\n",
       "      <td>1.635764</td>\n",
       "      <td>0.808433</td>\n",
       "      <td>0.719606</td>\n",
       "      <td>0.725810</td>\n",
       "      <td>0.710666</td>\n",
       "    </tr>\n",
       "    <tr>\n",
       "      <td>8</td>\n",
       "      <td>0.003200</td>\n",
       "      <td>1.694029</td>\n",
       "      <td>0.804766</td>\n",
       "      <td>0.772608</td>\n",
       "      <td>0.725948</td>\n",
       "      <td>0.729005</td>\n",
       "    </tr>\n",
       "    <tr>\n",
       "      <td>9</td>\n",
       "      <td>0.003900</td>\n",
       "      <td>1.722150</td>\n",
       "      <td>0.807516</td>\n",
       "      <td>0.743356</td>\n",
       "      <td>0.723619</td>\n",
       "      <td>0.717455</td>\n",
       "    </tr>\n",
       "    <tr>\n",
       "      <td>10</td>\n",
       "      <td>0.001600</td>\n",
       "      <td>1.673578</td>\n",
       "      <td>0.811182</td>\n",
       "      <td>0.745635</td>\n",
       "      <td>0.739458</td>\n",
       "      <td>0.730623</td>\n",
       "    </tr>\n",
       "  </tbody>\n",
       "</table><p>"
      ],
      "text/plain": [
       "<IPython.core.display.HTML object>"
      ]
     },
     "metadata": {},
     "output_type": "display_data"
    },
    {
     "data": {
      "text/plain": [
       "TrainOutput(global_step=5250, training_loss=0.09814934185573033, metrics={'train_runtime': 111.7299, 'train_samples_per_second': 18011.288, 'train_steps_per_second': 140.965, 'total_flos': 0.0, 'train_loss': 0.09814934185573033, 'epoch': 10.0})"
      ]
     },
     "execution_count": 54,
     "metadata": {},
     "output_type": "execute_result"
    }
   ],
   "source": [
    "trainer.train()"
   ]
  },
  {
   "cell_type": "code",
   "execution_count": 55,
   "metadata": {},
   "outputs": [
    {
     "data": {
      "text/plain": [
       "BiLSTMClassifier(\n",
       "  (embedding): Embedding(8768, 300)\n",
       "  (lstm): LSTM(300, 300, batch_first=True, bidirectional=True)\n",
       "  (fc1): Linear(in_features=600, out_features=400, bias=True)\n",
       "  (dropout): Dropout(p=0.2, inplace=False)\n",
       "  (fc2): Linear(in_features=400, out_features=50, bias=True)\n",
       ")"
      ]
     },
     "execution_count": 55,
     "metadata": {},
     "output_type": "execute_result"
    }
   ],
   "source": [
    "model.eval()"
   ]
  },
  {
   "cell_type": "code",
   "execution_count": 56,
   "metadata": {},
   "outputs": [
    {
     "data": {
      "text/html": [
       "\n",
       "    <div>\n",
       "      \n",
       "      <progress value='4' max='4' style='width:300px; height:20px; vertical-align: middle;'></progress>\n",
       "      [4/4 00:00]\n",
       "    </div>\n",
       "    "
      ],
      "text/plain": [
       "<IPython.core.display.HTML object>"
      ]
     },
     "metadata": {},
     "output_type": "display_data"
    },
    {
     "data": {
      "text/plain": [
       "{'eval_loss': 1.349766731262207,\n",
       " 'eval_accuracy': 0.802,\n",
       " 'eval_precision': 0.6860133764348323,\n",
       " 'eval_recall': 0.6866811753501773,\n",
       " 'eval_f1': 0.6607193638496234,\n",
       " 'eval_runtime': 4.1044,\n",
       " 'eval_samples_per_second': 121.822,\n",
       " 'eval_steps_per_second': 0.975,\n",
       " 'epoch': 10.0}"
      ]
     },
     "execution_count": 56,
     "metadata": {},
     "output_type": "execute_result"
    }
   ],
   "source": [
    "trainer.evaluate(test_data)"
   ]
  },
  {
   "cell_type": "code",
   "execution_count": 39,
   "metadata": {},
   "outputs": [],
   "source": [
    "torch.save(model.state_dict(), f\"{os.path.expanduser('~')}/models/{DATASET}/bilstm-base-aug_fine_embedd.pth\")"
   ]
  },
  {
   "cell_type": "code",
   "execution_count": 48,
   "metadata": {},
   "outputs": [],
   "source": [
    "student_model = base.BiLSTMClassifier(embedding_matrix=embedding_matrix, embedding_dim=embedding_dim, fc_dim=400, hidden_dim=300, output_dim=50, freeze_embed=False)"
   ]
  },
  {
   "cell_type": "code",
   "execution_count": 49,
   "metadata": {},
   "outputs": [],
   "source": [
    "training_args = base.get_training_args(output_dir=f\"~/results/{DATASET}/bilstm-distill-aug_fine_embedd\", remove_unused_columns=False, logging_dir=f\"~/logs/{DATASET}/bilstm-distill-aug_fine_embedd\", lr=0.0015, weight_decay=0.01, warmup_steps=45, adam_beta1=.95, epochs=30, batch_size=128, lambda_param=.9, temp=2)"
   ]
  },
  {
   "cell_type": "code",
   "execution_count": 50,
   "metadata": {},
   "outputs": [],
   "source": [
    "base.reset_seed()"
   ]
  },
  {
   "cell_type": "code",
   "execution_count": 51,
   "metadata": {},
   "outputs": [],
   "source": [
    "trainer = base.DistilTrainer(\n",
    "    student_model=student_model,\n",
    "    args=training_args,\n",
    "    train_dataset=all_train_data,\n",
    "    eval_dataset=eval_data,\n",
    "    compute_metrics=base.compute_metrics,\n",
    "    callbacks = [EarlyStoppingCallback(early_stopping_patience = 3)]\n",
    ")"
   ]
  },
  {
   "cell_type": "code",
   "execution_count": 52,
   "metadata": {},
   "outputs": [
    {
     "data": {
      "text/html": [
       "\n",
       "    <div>\n",
       "      \n",
       "      <progress value='12075' max='15750' style='width:300px; height:20px; vertical-align: middle;'></progress>\n",
       "      [12075/15750 05:07 < 01:33, 39.22 it/s, Epoch 23/30]\n",
       "    </div>\n",
       "    <table border=\"1\" class=\"dataframe\">\n",
       "  <thead>\n",
       " <tr style=\"text-align: left;\">\n",
       "      <th>Epoch</th>\n",
       "      <th>Training Loss</th>\n",
       "      <th>Validation Loss</th>\n",
       "      <th>Accuracy</th>\n",
       "      <th>Precision</th>\n",
       "      <th>Recall</th>\n",
       "      <th>F1</th>\n",
       "    </tr>\n",
       "  </thead>\n",
       "  <tbody>\n",
       "    <tr>\n",
       "      <td>1</td>\n",
       "      <td>0.707100</td>\n",
       "      <td>0.492144</td>\n",
       "      <td>0.787351</td>\n",
       "      <td>0.491361</td>\n",
       "      <td>0.474795</td>\n",
       "      <td>0.473572</td>\n",
       "    </tr>\n",
       "    <tr>\n",
       "      <td>2</td>\n",
       "      <td>0.109100</td>\n",
       "      <td>0.443025</td>\n",
       "      <td>0.820348</td>\n",
       "      <td>0.646857</td>\n",
       "      <td>0.604719</td>\n",
       "      <td>0.617351</td>\n",
       "    </tr>\n",
       "    <tr>\n",
       "      <td>3</td>\n",
       "      <td>0.075300</td>\n",
       "      <td>0.425821</td>\n",
       "      <td>0.824015</td>\n",
       "      <td>0.748452</td>\n",
       "      <td>0.672298</td>\n",
       "      <td>0.695759</td>\n",
       "    </tr>\n",
       "    <tr>\n",
       "      <td>4</td>\n",
       "      <td>0.066800</td>\n",
       "      <td>0.418902</td>\n",
       "      <td>0.827681</td>\n",
       "      <td>0.745506</td>\n",
       "      <td>0.676751</td>\n",
       "      <td>0.696104</td>\n",
       "    </tr>\n",
       "    <tr>\n",
       "      <td>5</td>\n",
       "      <td>0.061900</td>\n",
       "      <td>0.425407</td>\n",
       "      <td>0.821265</td>\n",
       "      <td>0.759629</td>\n",
       "      <td>0.676359</td>\n",
       "      <td>0.703837</td>\n",
       "    </tr>\n",
       "    <tr>\n",
       "      <td>6</td>\n",
       "      <td>0.058400</td>\n",
       "      <td>0.429843</td>\n",
       "      <td>0.824931</td>\n",
       "      <td>0.746868</td>\n",
       "      <td>0.684409</td>\n",
       "      <td>0.700482</td>\n",
       "    </tr>\n",
       "    <tr>\n",
       "      <td>7</td>\n",
       "      <td>0.055600</td>\n",
       "      <td>0.414237</td>\n",
       "      <td>0.833181</td>\n",
       "      <td>0.758684</td>\n",
       "      <td>0.702429</td>\n",
       "      <td>0.718426</td>\n",
       "    </tr>\n",
       "    <tr>\n",
       "      <td>8</td>\n",
       "      <td>0.054100</td>\n",
       "      <td>0.425570</td>\n",
       "      <td>0.831347</td>\n",
       "      <td>0.736853</td>\n",
       "      <td>0.682830</td>\n",
       "      <td>0.698321</td>\n",
       "    </tr>\n",
       "    <tr>\n",
       "      <td>9</td>\n",
       "      <td>0.052100</td>\n",
       "      <td>0.413955</td>\n",
       "      <td>0.828598</td>\n",
       "      <td>0.784349</td>\n",
       "      <td>0.694357</td>\n",
       "      <td>0.725718</td>\n",
       "    </tr>\n",
       "    <tr>\n",
       "      <td>10</td>\n",
       "      <td>0.050800</td>\n",
       "      <td>0.401972</td>\n",
       "      <td>0.841430</td>\n",
       "      <td>0.791208</td>\n",
       "      <td>0.709334</td>\n",
       "      <td>0.735189</td>\n",
       "    </tr>\n",
       "    <tr>\n",
       "      <td>11</td>\n",
       "      <td>0.048800</td>\n",
       "      <td>0.415457</td>\n",
       "      <td>0.834097</td>\n",
       "      <td>0.763828</td>\n",
       "      <td>0.693538</td>\n",
       "      <td>0.715394</td>\n",
       "    </tr>\n",
       "    <tr>\n",
       "      <td>12</td>\n",
       "      <td>0.047500</td>\n",
       "      <td>0.407705</td>\n",
       "      <td>0.841430</td>\n",
       "      <td>0.813384</td>\n",
       "      <td>0.714985</td>\n",
       "      <td>0.746614</td>\n",
       "    </tr>\n",
       "    <tr>\n",
       "      <td>13</td>\n",
       "      <td>0.046300</td>\n",
       "      <td>0.407043</td>\n",
       "      <td>0.835014</td>\n",
       "      <td>0.799070</td>\n",
       "      <td>0.701400</td>\n",
       "      <td>0.730230</td>\n",
       "    </tr>\n",
       "    <tr>\n",
       "      <td>14</td>\n",
       "      <td>0.045500</td>\n",
       "      <td>0.408172</td>\n",
       "      <td>0.833181</td>\n",
       "      <td>0.788072</td>\n",
       "      <td>0.703228</td>\n",
       "      <td>0.726885</td>\n",
       "    </tr>\n",
       "    <tr>\n",
       "      <td>15</td>\n",
       "      <td>0.044300</td>\n",
       "      <td>0.400452</td>\n",
       "      <td>0.838680</td>\n",
       "      <td>0.806151</td>\n",
       "      <td>0.720095</td>\n",
       "      <td>0.746722</td>\n",
       "    </tr>\n",
       "    <tr>\n",
       "      <td>16</td>\n",
       "      <td>0.043300</td>\n",
       "      <td>0.408880</td>\n",
       "      <td>0.830431</td>\n",
       "      <td>0.821452</td>\n",
       "      <td>0.707223</td>\n",
       "      <td>0.741205</td>\n",
       "    </tr>\n",
       "    <tr>\n",
       "      <td>17</td>\n",
       "      <td>0.042400</td>\n",
       "      <td>0.400632</td>\n",
       "      <td>0.840513</td>\n",
       "      <td>0.848526</td>\n",
       "      <td>0.739080</td>\n",
       "      <td>0.772059</td>\n",
       "    </tr>\n",
       "    <tr>\n",
       "      <td>18</td>\n",
       "      <td>0.041800</td>\n",
       "      <td>0.412740</td>\n",
       "      <td>0.829514</td>\n",
       "      <td>0.792996</td>\n",
       "      <td>0.700857</td>\n",
       "      <td>0.728762</td>\n",
       "    </tr>\n",
       "    <tr>\n",
       "      <td>19</td>\n",
       "      <td>0.041000</td>\n",
       "      <td>0.405501</td>\n",
       "      <td>0.835014</td>\n",
       "      <td>0.848005</td>\n",
       "      <td>0.731978</td>\n",
       "      <td>0.766862</td>\n",
       "    </tr>\n",
       "    <tr>\n",
       "      <td>20</td>\n",
       "      <td>0.040400</td>\n",
       "      <td>0.398336</td>\n",
       "      <td>0.839597</td>\n",
       "      <td>0.846096</td>\n",
       "      <td>0.742153</td>\n",
       "      <td>0.772982</td>\n",
       "    </tr>\n",
       "    <tr>\n",
       "      <td>21</td>\n",
       "      <td>0.039800</td>\n",
       "      <td>0.402932</td>\n",
       "      <td>0.835014</td>\n",
       "      <td>0.849040</td>\n",
       "      <td>0.738511</td>\n",
       "      <td>0.772841</td>\n",
       "    </tr>\n",
       "    <tr>\n",
       "      <td>22</td>\n",
       "      <td>0.039200</td>\n",
       "      <td>0.402235</td>\n",
       "      <td>0.838680</td>\n",
       "      <td>0.842038</td>\n",
       "      <td>0.738143</td>\n",
       "      <td>0.769552</td>\n",
       "    </tr>\n",
       "    <tr>\n",
       "      <td>23</td>\n",
       "      <td>0.038700</td>\n",
       "      <td>0.403141</td>\n",
       "      <td>0.834097</td>\n",
       "      <td>0.839770</td>\n",
       "      <td>0.730297</td>\n",
       "      <td>0.762816</td>\n",
       "    </tr>\n",
       "  </tbody>\n",
       "</table><p>"
      ],
      "text/plain": [
       "<IPython.core.display.HTML object>"
      ]
     },
     "metadata": {},
     "output_type": "display_data"
    },
    {
     "data": {
      "text/plain": [
       "TrainOutput(global_step=12075, training_loss=0.08045230920763984, metrics={'train_runtime': 307.9629, 'train_samples_per_second': 6534.554, 'train_steps_per_second': 51.143, 'total_flos': 0.0, 'train_loss': 0.08045230920763984, 'epoch': 23.0})"
      ]
     },
     "execution_count": 52,
     "metadata": {},
     "output_type": "execute_result"
    }
   ],
   "source": [
    "trainer.train()"
   ]
  },
  {
   "cell_type": "code",
   "execution_count": 54,
   "metadata": {},
   "outputs": [
    {
     "data": {
      "text/plain": [
       "BiLSTMClassifier(\n",
       "  (embedding): Embedding(8768, 300)\n",
       "  (lstm): LSTM(300, 300, batch_first=True, bidirectional=True)\n",
       "  (fc1): Linear(in_features=600, out_features=400, bias=True)\n",
       "  (dropout): Dropout(p=0.2, inplace=False)\n",
       "  (fc2): Linear(in_features=400, out_features=50, bias=True)\n",
       ")"
      ]
     },
     "execution_count": 54,
     "metadata": {},
     "output_type": "execute_result"
    }
   ],
   "source": [
    "student_model.eval()"
   ]
  },
  {
   "cell_type": "code",
   "execution_count": 55,
   "metadata": {},
   "outputs": [
    {
     "data": {
      "text/html": [
       "\n",
       "    <div>\n",
       "      \n",
       "      <progress value='4' max='4' style='width:300px; height:20px; vertical-align: middle;'></progress>\n",
       "      [4/4 00:00]\n",
       "    </div>\n",
       "    "
      ],
      "text/plain": [
       "<IPython.core.display.HTML object>"
      ]
     },
     "metadata": {},
     "output_type": "display_data"
    },
    {
     "data": {
      "text/plain": [
       "{'eval_loss': 0.30593571066856384,\n",
       " 'eval_accuracy': 0.846,\n",
       " 'eval_precision': 0.7545350981094542,\n",
       " 'eval_recall': 0.7052223789244695,\n",
       " 'eval_f1': 0.7065513632758179,\n",
       " 'eval_runtime': 16.4272,\n",
       " 'eval_samples_per_second': 30.437,\n",
       " 'eval_steps_per_second': 0.243,\n",
       " 'epoch': 23.0}"
      ]
     },
     "execution_count": 55,
     "metadata": {},
     "output_type": "execute_result"
    }
   ],
   "source": [
    "trainer.evaluate(test_data)"
   ]
  },
  {
   "cell_type": "code",
   "execution_count": 47,
   "metadata": {},
   "outputs": [],
   "source": [
    "torch.save(model.state_dict(), f\"{os.path.expanduser('~')}/models/{DATASET}/bilstm-distill-aug_fine_embedd.pth\")"
   ]
  },
  {
   "cell_type": "code",
   "execution_count": 25,
   "metadata": {},
   "outputs": [
    {
     "name": "stdout",
     "output_type": "stream",
     "text": [
      "model size: 16.539MB.\n",
      "Total Trainable Params: 4335650.\n",
      "Average Inference Time on GPU: 1.030 ms\n",
      "Average Inference Time on CPU: 9.659 ms\n"
     ]
    }
   ],
   "source": [
    "import time\n",
    "from torch.utils.data import  DataLoader\n",
    "\n",
    "base.count_parameters(model)\n",
    "torch.cuda.synchronize() \n",
    "starter, ender = torch.cuda.Event(enable_timing=True), torch.cuda.Event(enable_timing=True)\n",
    "device = \"cuda\"\n",
    "model.to(device)\n",
    "\n",
    "train_data.set_format(type=\"torch\", columns=[\"input_ids\"], device=\"cuda\")\n",
    "test_loader = DataLoader(train_data, batch_size=1, shuffle=False)\n",
    "\n",
    "timings = []\n",
    "\n",
    "\n",
    "\n",
    "for i, batch in enumerate(test_loader):\n",
    "    if i >= 1000:\n",
    "        break\n",
    "    torch.cuda.synchronize()\n",
    "    starter.record()\n",
    "    with torch.no_grad():\n",
    "        _ = model(**batch)\n",
    "    ender.record()\n",
    "    torch.cuda.synchronize()\n",
    "    timings.append(starter.elapsed_time(ender))\n",
    "\n",
    "print(f\"Average Inference Time on GPU: {sum(timings) / len(timings):.3f} ms\")\n",
    "\n",
    "\n",
    "\n",
    "\n",
    "\n",
    "timings = []\n",
    "device = \"cpu\"\n",
    "model.to(device)\n",
    "train_data.set_format(type=\"torch\", columns=[\"input_ids\"], device=\"cpu\")\n",
    "test_loader = DataLoader(train_data, batch_size=1, shuffle=False)\n",
    "for i, batch in enumerate(test_loader):\n",
    "    if i >= 1000:\n",
    "        break\n",
    "    start_time = time.perf_counter()\n",
    "    with torch.no_grad():\n",
    "        _ = model(**batch)\n",
    "    end_time = time.perf_counter()\n",
    "    timings.append((end_time - start_time)*1000)\n",
    "\n",
    "\n",
    "print(f\"Average Inference Time on CPU: {sum(timings) / len(timings):.3f} ms\")"
   ]
  }
 ],
 "metadata": {
  "kernelspec": {
   "display_name": "Python 3 (ipykernel)",
   "language": "python",
   "name": "python3"
  },
  "language_info": {
   "codemirror_mode": {
    "name": "ipython",
    "version": 3
   },
   "file_extension": ".py",
   "mimetype": "text/x-python",
   "name": "python",
   "nbconvert_exporter": "python",
   "pygments_lexer": "ipython3",
   "version": "3.10.12"
  }
 },
 "nbformat": 4,
 "nbformat_minor": 2
}
