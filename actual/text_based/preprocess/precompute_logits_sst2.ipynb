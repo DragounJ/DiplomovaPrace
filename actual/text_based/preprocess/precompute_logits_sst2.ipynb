{
 "cells": [
  {
   "cell_type": "code",
   "execution_count": 1,
   "metadata": {},
   "outputs": [
    {
     "name": "stderr",
     "output_type": "stream",
     "text": [
      "[nltk_data] Downloading package averaged_perceptron_tagger to\n",
      "[nltk_data]     /home/jovyan/nltk_data...\n",
      "[nltk_data]   Package averaged_perceptron_tagger is already up-to-\n",
      "[nltk_data]       date!\n",
      "[nltk_data] Downloading package punkt to /home/jovyan/nltk_data...\n",
      "[nltk_data]   Package punkt is already up-to-date!\n",
      "[nltk_data] Downloading package punkt_tab to /home/jovyan/nltk_data...\n",
      "[nltk_data]   Package punkt_tab is already up-to-date!\n",
      "[nltk_data] Downloading package averaged_perceptron_tagger_eng to\n",
      "[nltk_data]     /home/jovyan/nltk_data...\n",
      "[nltk_data]   Package averaged_perceptron_tagger_eng is already up-to-\n",
      "[nltk_data]       date!\n"
     ]
    }
   ],
   "source": [
    "from datasets import load_from_disk, Dataset, concatenate_datasets, ClassLabel, Features, Value, Sequence\n",
    "from transformers import BertTokenizer, BertForSequenceClassification, BasicTokenizer\n",
    "from torch.utils.data import  DataLoader\n",
    "from tqdm.notebook import tqdm\n",
    "import torch\n",
    "import base\n",
    "import os\n"
   ]
  },
  {
   "cell_type": "code",
   "execution_count": 2,
   "metadata": {},
   "outputs": [
    {
     "name": "stdout",
     "output_type": "stream",
     "text": [
      "GPU is available and will be used: NVIDIA H100 PCIe\n"
     ]
    }
   ],
   "source": [
    "if torch.cuda.is_available():\n",
    "    device = torch.device(\"cuda\")\n",
    "    print(\"GPU is available and will be used:\", torch.cuda.get_device_name(0))\n",
    "else:\n",
    "    device = torch.device(\"cpu\")\n",
    "    print(\"GPU is not available, using CPU.\")"
   ]
  },
  {
   "cell_type": "code",
   "execution_count": null,
   "metadata": {},
   "outputs": [],
   "source": [
    "augmentation_params = {\"n_iter\": 5, \"p_mask\":0.1, \"p_pos\": 0.3, \"p_ng\":0.2}"
   ]
  },
  {
   "cell_type": "code",
   "execution_count": null,
   "metadata": {},
   "outputs": [],
   "source": [
    "tokenizer = BasicTokenizer(do_lower_case=True)\n",
    "DATASET = \"sst2\""
   ]
  },
  {
   "cell_type": "code",
   "execution_count": 5,
   "metadata": {},
   "outputs": [],
   "source": [
    "train_data = load_from_disk(f\"~/data/{DATASET}/train\")\n",
    "sentences = list(map(lambda e: e[\"sentence\"], train_data))"
   ]
  },
  {
   "cell_type": "code",
   "execution_count": 6,
   "metadata": {},
   "outputs": [],
   "source": [
    "pos_tag_word_map_list = base.get_pos_tag_word_map(sentences, tokenizer=tokenizer)"
   ]
  },
  {
   "cell_type": "code",
   "execution_count": null,
   "metadata": {},
   "outputs": [],
   "source": [
    "base.reset_seed()"
   ]
  },
  {
   "cell_type": "code",
   "execution_count": 8,
   "metadata": {},
   "outputs": [],
   "source": [
    "augmented_datasets = base.get_augmented_dataset(augmentation_params, train_data, pos_tag_word_map_list, tokenizer=tokenizer)"
   ]
  },
  {
   "cell_type": "code",
   "execution_count": 9,
   "metadata": {},
   "outputs": [
    {
     "data": {
      "application/vnd.jupyter.widget-view+json": {
       "model_id": "d2eb4726f9f545f2bf211b2823bf41ec",
       "version_major": 2,
       "version_minor": 0
      },
      "text/plain": [
       "Casting the dataset:   0%|          | 0/53879 [00:00<?, ? examples/s]"
      ]
     },
     "metadata": {},
     "output_type": "display_data"
    },
    {
     "data": {
      "application/vnd.jupyter.widget-view+json": {
       "model_id": "de9d7229d5c241838155a5c13b1454b8",
       "version_major": 2,
       "version_minor": 0
      },
      "text/plain": [
       "Casting the dataset:   0%|          | 0/53879 [00:00<?, ? examples/s]"
      ]
     },
     "metadata": {},
     "output_type": "display_data"
    },
    {
     "data": {
      "application/vnd.jupyter.widget-view+json": {
       "model_id": "9ee58e43c2674c3d98316f57ef37511a",
       "version_major": 2,
       "version_minor": 0
      },
      "text/plain": [
       "Casting the dataset:   0%|          | 0/53879 [00:00<?, ? examples/s]"
      ]
     },
     "metadata": {},
     "output_type": "display_data"
    },
    {
     "data": {
      "application/vnd.jupyter.widget-view+json": {
       "model_id": "11c99aa5471b46bab6cc375e045eb68e",
       "version_major": 2,
       "version_minor": 0
      },
      "text/plain": [
       "Casting the dataset:   0%|          | 0/53879 [00:00<?, ? examples/s]"
      ]
     },
     "metadata": {},
     "output_type": "display_data"
    },
    {
     "data": {
      "application/vnd.jupyter.widget-view+json": {
       "model_id": "c38ba2b436a24c33bf4b010411b28800",
       "version_major": 2,
       "version_minor": 0
      },
      "text/plain": [
       "Casting the dataset:   0%|          | 0/53879 [00:00<?, ? examples/s]"
      ]
     },
     "metadata": {},
     "output_type": "display_data"
    }
   ],
   "source": [
    "aug_datasets_formated = []\n",
    "ds_schema = Features({\n",
    "    \"idx\": Value(\"int32\"),\n",
    "    \"sentence\": Value(\"string\"),\n",
    "    \"label\": ClassLabel(names=[\"negative\", \"positive\"])\n",
    "})\n",
    "\n",
    "for iter in augmented_datasets:\n",
    "    dataset = Dataset.from_dict(iter)\n",
    "    dataset = dataset.cast(ds_schema)\n",
    "    aug_datasets_formated.append(dataset)"
   ]
  },
  {
   "cell_type": "code",
   "execution_count": 10,
   "metadata": {},
   "outputs": [
    {
     "name": "stdout",
     "output_type": "stream",
     "text": [
      "{'idx': 6575, 'sentence': \"in reality it ' s [MASK] tough rock .\", 'label': 1}\n",
      "{'idx': 6575, 'sentence': \"in reality it 's one tough rock . \", 'label': 1}\n"
     ]
    }
   ],
   "source": [
    "print(aug_datasets_formated[4][70])\n",
    "print(train_data[70])"
   ]
  },
  {
   "cell_type": "code",
   "execution_count": 11,
   "metadata": {},
   "outputs": [
    {
     "data": {
      "application/vnd.jupyter.widget-view+json": {
       "model_id": "8d228601e54b47df8dd6d1db945005b7",
       "version_major": 2,
       "version_minor": 0
      },
      "text/plain": [
       "tokenizer_config.json:   0%|          | 0.00/320 [00:00<?, ?B/s]"
      ]
     },
     "metadata": {},
     "output_type": "display_data"
    },
    {
     "data": {
      "application/vnd.jupyter.widget-view+json": {
       "model_id": "048831d15dfb4f59a6dd79c295205846",
       "version_major": 2,
       "version_minor": 0
      },
      "text/plain": [
       "vocab.txt:   0%|          | 0.00/213k [00:00<?, ?B/s]"
      ]
     },
     "metadata": {},
     "output_type": "display_data"
    },
    {
     "data": {
      "application/vnd.jupyter.widget-view+json": {
       "model_id": "1ab8f9ffef544c7e94e249966a09492d",
       "version_major": 2,
       "version_minor": 0
      },
      "text/plain": [
       "special_tokens_map.json:   0%|          | 0.00/112 [00:00<?, ?B/s]"
      ]
     },
     "metadata": {},
     "output_type": "display_data"
    },
    {
     "data": {
      "application/vnd.jupyter.widget-view+json": {
       "model_id": "301e4278a83d45e285ec7414075b2ced",
       "version_major": 2,
       "version_minor": 0
      },
      "text/plain": [
       "tokenizer.json:   0%|          | 0.00/436k [00:00<?, ?B/s]"
      ]
     },
     "metadata": {},
     "output_type": "display_data"
    },
    {
     "data": {
      "application/vnd.jupyter.widget-view+json": {
       "model_id": "bd48398d1dd748ce903cf8cb48ead9b7",
       "version_major": 2,
       "version_minor": 0
      },
      "text/plain": [
       "config.json:   0%|          | 0.00/879 [00:00<?, ?B/s]"
      ]
     },
     "metadata": {},
     "output_type": "display_data"
    },
    {
     "data": {
      "application/vnd.jupyter.widget-view+json": {
       "model_id": "3e77716fd20d42d381633146c737cb48",
       "version_major": 2,
       "version_minor": 0
      },
      "text/plain": [
       "pytorch_model.bin:   0%|          | 0.00/433M [00:00<?, ?B/s]"
      ]
     },
     "metadata": {},
     "output_type": "display_data"
    },
    {
     "data": {
      "application/vnd.jupyter.widget-view+json": {
       "model_id": "b01316d656e647d2a33d27112120583f",
       "version_major": 2,
       "version_minor": 0
      },
      "text/plain": [
       "model.safetensors:   0%|          | 0.00/433M [00:00<?, ?B/s]"
      ]
     },
     "metadata": {},
     "output_type": "display_data"
    }
   ],
   "source": [
    "tokenizer = BertTokenizer.from_pretrained(\"gchhablani/bert-base-cased-finetuned-sst2\")\n",
    "model = BertForSequenceClassification.from_pretrained(\"gchhablani/bert-base-cased-finetuned-sst2\", num_labels=2)\n",
    "model.to(device)\n",
    "model.eval()\n",
    "\n",
    "torch.save(model.state_dict(), f\"{os.path.expanduser('~')}/models/{DATASET}/teacher.pth\")"
   ]
  },
  {
   "cell_type": "code",
   "execution_count": 12,
   "metadata": {},
   "outputs": [
    {
     "data": {
      "application/vnd.jupyter.widget-view+json": {
       "model_id": "d599b75014644b72af482bd21f13aaab",
       "version_major": 2,
       "version_minor": 0
      },
      "text/plain": [
       "Tokenizing the provided dataset:   0%|          | 0/53879 [00:00<?, ? examples/s]"
      ]
     },
     "metadata": {},
     "output_type": "display_data"
    },
    {
     "data": {
      "application/vnd.jupyter.widget-view+json": {
       "model_id": "3bbb688fc3a448439bf4bd2b40408194",
       "version_major": 2,
       "version_minor": 0
      },
      "text/plain": [
       "Generating logits for given dataset:   0%|          | 0/421 [00:00<?, ?it/s]"
      ]
     },
     "metadata": {},
     "output_type": "display_data"
    }
   ],
   "source": [
    "train_dataset = base.prepare_dataset(train_data, tokenizer)\n",
    "train_dataloader = DataLoader(train_dataset, batch_size=128, shuffle=False)\n",
    "train_logits = base.generate_logits(train_dataloader, model)\n",
    "train_dataset = train_dataset.add_column(\"logits\", train_logits)\n",
    "train_dataset = train_dataset.remove_columns([\"token_type_ids\", \"attention_mask\"])\n",
    "train_dataset.set_format(type=\"torch\", columns=[\"logits\", \"labels\"], device=\"cpu\")"
   ]
  },
  {
   "cell_type": "code",
   "execution_count": 13,
   "metadata": {},
   "outputs": [
    {
     "data": {
      "application/vnd.jupyter.widget-view+json": {
       "model_id": "987bbcc9166c41af8d5b925f394397b8",
       "version_major": 2,
       "version_minor": 0
      },
      "text/plain": [
       "Calculating accuracy based on the saved logits:   0%|          | 0/53879 [00:00<?, ?it/s]"
      ]
     },
     "metadata": {},
     "output_type": "display_data"
    },
    {
     "name": "stdout",
     "output_type": "stream",
     "text": [
      "Accuracy for base dataset:  0.9888268156424581\n"
     ]
    }
   ],
   "source": [
    "print(base.check_acc(train_dataset, \"Accuracy for base dataset: \"))"
   ]
  },
  {
   "cell_type": "code",
   "execution_count": 14,
   "metadata": {},
   "outputs": [
    {
     "data": {
      "application/vnd.jupyter.widget-view+json": {
       "model_id": "5c150c713b3a4dab9cefbf9c19d9aa8a",
       "version_major": 2,
       "version_minor": 0
      },
      "text/plain": [
       "Processing augmented datasets:   0%|          | 0/5 [00:00<?, ?it/s]"
      ]
     },
     "metadata": {},
     "output_type": "display_data"
    },
    {
     "data": {
      "application/vnd.jupyter.widget-view+json": {
       "model_id": "f92b9848508c4c8e849ab882e03b25f3",
       "version_major": 2,
       "version_minor": 0
      },
      "text/plain": [
       "Tokenizing the provided dataset:   0%|          | 0/53879 [00:00<?, ? examples/s]"
      ]
     },
     "metadata": {},
     "output_type": "display_data"
    },
    {
     "data": {
      "application/vnd.jupyter.widget-view+json": {
       "model_id": "7f863ce748c84fde89c9e4da19f8ceb0",
       "version_major": 2,
       "version_minor": 0
      },
      "text/plain": [
       "Generating logits for given dataset:   0%|          | 0/421 [00:00<?, ?it/s]"
      ]
     },
     "metadata": {},
     "output_type": "display_data"
    },
    {
     "data": {
      "application/vnd.jupyter.widget-view+json": {
       "model_id": "edbd346a4f164ca08504b30ec48aa10a",
       "version_major": 2,
       "version_minor": 0
      },
      "text/plain": [
       "Removing entries from augmented dataset that are different from the base one - based on saved logits:   0%|   …"
      ]
     },
     "metadata": {},
     "output_type": "display_data"
    },
    {
     "data": {
      "application/vnd.jupyter.widget-view+json": {
       "model_id": "2deae80b57c5408f96f7e16cce93e5a0",
       "version_major": 2,
       "version_minor": 0
      },
      "text/plain": [
       "Tokenizing the provided dataset:   0%|          | 0/53879 [00:00<?, ? examples/s]"
      ]
     },
     "metadata": {},
     "output_type": "display_data"
    },
    {
     "data": {
      "application/vnd.jupyter.widget-view+json": {
       "model_id": "db1c9fa8ad0c4f11b06dd556bdcbe5a5",
       "version_major": 2,
       "version_minor": 0
      },
      "text/plain": [
       "Generating logits for given dataset:   0%|          | 0/421 [00:00<?, ?it/s]"
      ]
     },
     "metadata": {},
     "output_type": "display_data"
    },
    {
     "data": {
      "application/vnd.jupyter.widget-view+json": {
       "model_id": "7c9392ba79c64515af54688eec3661c8",
       "version_major": 2,
       "version_minor": 0
      },
      "text/plain": [
       "Removing entries from augmented dataset that are different from the base one - based on saved logits:   0%|   …"
      ]
     },
     "metadata": {},
     "output_type": "display_data"
    },
    {
     "data": {
      "application/vnd.jupyter.widget-view+json": {
       "model_id": "709b2e5bf5434c979c7048fa1828cce4",
       "version_major": 2,
       "version_minor": 0
      },
      "text/plain": [
       "Tokenizing the provided dataset:   0%|          | 0/53879 [00:00<?, ? examples/s]"
      ]
     },
     "metadata": {},
     "output_type": "display_data"
    },
    {
     "data": {
      "application/vnd.jupyter.widget-view+json": {
       "model_id": "f6f6d434aa2b44bfa03acd76ae20b130",
       "version_major": 2,
       "version_minor": 0
      },
      "text/plain": [
       "Generating logits for given dataset:   0%|          | 0/421 [00:00<?, ?it/s]"
      ]
     },
     "metadata": {},
     "output_type": "display_data"
    },
    {
     "data": {
      "application/vnd.jupyter.widget-view+json": {
       "model_id": "fb5ce9e26b9e4ea58df6ce159b2341ba",
       "version_major": 2,
       "version_minor": 0
      },
      "text/plain": [
       "Removing entries from augmented dataset that are different from the base one - based on saved logits:   0%|   …"
      ]
     },
     "metadata": {},
     "output_type": "display_data"
    },
    {
     "data": {
      "application/vnd.jupyter.widget-view+json": {
       "model_id": "4803c2e8ec2e4af28feeb90fd68170b8",
       "version_major": 2,
       "version_minor": 0
      },
      "text/plain": [
       "Tokenizing the provided dataset:   0%|          | 0/53879 [00:00<?, ? examples/s]"
      ]
     },
     "metadata": {},
     "output_type": "display_data"
    },
    {
     "data": {
      "application/vnd.jupyter.widget-view+json": {
       "model_id": "6692eb97b7ca4d27808e7e86e6fe5969",
       "version_major": 2,
       "version_minor": 0
      },
      "text/plain": [
       "Generating logits for given dataset:   0%|          | 0/421 [00:00<?, ?it/s]"
      ]
     },
     "metadata": {},
     "output_type": "display_data"
    },
    {
     "data": {
      "application/vnd.jupyter.widget-view+json": {
       "model_id": "307c81ae8746453f9e79f6489f9b8086",
       "version_major": 2,
       "version_minor": 0
      },
      "text/plain": [
       "Removing entries from augmented dataset that are different from the base one - based on saved logits:   0%|   …"
      ]
     },
     "metadata": {},
     "output_type": "display_data"
    },
    {
     "data": {
      "application/vnd.jupyter.widget-view+json": {
       "model_id": "aaeef9a474c84619bc5eec264954c4ad",
       "version_major": 2,
       "version_minor": 0
      },
      "text/plain": [
       "Tokenizing the provided dataset:   0%|          | 0/53879 [00:00<?, ? examples/s]"
      ]
     },
     "metadata": {},
     "output_type": "display_data"
    },
    {
     "data": {
      "application/vnd.jupyter.widget-view+json": {
       "model_id": "d89f736631404c06bd26508270384c11",
       "version_major": 2,
       "version_minor": 0
      },
      "text/plain": [
       "Generating logits for given dataset:   0%|          | 0/421 [00:00<?, ?it/s]"
      ]
     },
     "metadata": {},
     "output_type": "display_data"
    },
    {
     "data": {
      "application/vnd.jupyter.widget-view+json": {
       "model_id": "c6039d7699624ad7a32f1ff643ef6ccb",
       "version_major": 2,
       "version_minor": 0
      },
      "text/plain": [
       "Removing entries from augmented dataset that are different from the base one - based on saved logits:   0%|   …"
      ]
     },
     "metadata": {},
     "output_type": "display_data"
    }
   ],
   "source": [
    "aug_clean_datasets = []\n",
    "for dataset in tqdm(aug_datasets_formated, total=(len(aug_datasets_formated)), desc=\"Processing augmented datasets: \"):\n",
    "    aug_train_dataset = base.prepare_dataset(dataset, tokenizer)\n",
    "    aug_train_dataloader = DataLoader(aug_train_dataset, batch_size=128, shuffle=False)\n",
    "    aug_train_logits = base.generate_logits(aug_train_dataloader, model)\n",
    "    aug_train_dataset = aug_train_dataset.add_column(\"logits\", aug_train_logits)\n",
    "    aug_train_dataset = aug_train_dataset.remove_columns([\"token_type_ids\", \"attention_mask\"])\n",
    "    aug_train_dataset.set_format(type=\"torch\", columns=[\"logits\", \"labels\"], device=\"cpu\")\n",
    "\n",
    "    aug_train_dataset = base.remove_diff_pred_class(train_dataset, aug_train_dataset, pytorch_dataset=False)\n",
    "    \n",
    "    aug_train_dataset.reset_format()\n",
    "    aug_clean_datasets.extend(aug_train_dataset)"
   ]
  },
  {
   "cell_type": "code",
   "execution_count": 15,
   "metadata": {},
   "outputs": [],
   "source": [
    "train_dataset.reset_format()"
   ]
  },
  {
   "cell_type": "code",
   "execution_count": 16,
   "metadata": {},
   "outputs": [
    {
     "name": "stdout",
     "output_type": "stream",
     "text": [
      "First iter check\n",
      "{'idx': 20217, 'sentence': 'will be literally worth your time .', 'labels': 1, 'input_ids': [101, 1209, 1129, 6290, 3869, 1240, 1159, 119, 102, 0, 0, 0, 0, 0, 0, 0, 0, 0, 0, 0, 0, 0, 0, 0, 0, 0, 0, 0, 0, 0, 0, 0, 0, 0, 0, 0, 0, 0, 0, 0, 0, 0, 0, 0, 0, 0, 0, 0, 0, 0, 0, 0, 0, 0, 0, 0, 0, 0, 0, 0], 'logits': [-4.896267414093018, 4.807925701141357]}\n"
     ]
    },
    {
     "data": {
      "application/vnd.jupyter.widget-view+json": {
       "model_id": "e9e0053432bc468b96de58ef2b48e50f",
       "version_major": 2,
       "version_minor": 0
      },
      "text/plain": [
       "Filter:   0%|          | 0/53879 [00:00<?, ? examples/s]"
      ]
     },
     "metadata": {},
     "output_type": "display_data"
    },
    {
     "name": "stdout",
     "output_type": "stream",
     "text": [
      "{'idx': 20217, 'sentence': 'will be well worth your time . ', 'labels': 1, 'input_ids': [101, 1209, 1129, 1218, 3869, 1240, 1159, 119, 102, 0, 0, 0, 0, 0, 0, 0, 0, 0, 0, 0, 0, 0, 0, 0, 0, 0, 0, 0, 0, 0, 0, 0, 0, 0, 0, 0, 0, 0, 0, 0, 0, 0, 0, 0, 0, 0, 0, 0, 0, 0, 0, 0, 0, 0, 0, 0, 0, 0, 0, 0], 'logits': [-4.8515143394470215, 4.748100280761719]}\n",
      "Second iter check\n",
      "{'idx': 34426, 'sentence': \"the intensity with which he ' s willing to express his convictions\", 'labels': 1, 'input_ids': [101, 1103, 7657, 1114, 1134, 1119, 112, 188, 4988, 1106, 6848, 1117, 22978, 102, 0, 0, 0, 0, 0, 0, 0, 0, 0, 0, 0, 0, 0, 0, 0, 0, 0, 0, 0, 0, 0, 0, 0, 0, 0, 0, 0, 0, 0, 0, 0, 0, 0, 0, 0, 0, 0, 0, 0, 0, 0, 0, 0, 0, 0, 0], 'logits': [-3.8095197677612305, 3.8810811042785645]}\n"
     ]
    },
    {
     "data": {
      "application/vnd.jupyter.widget-view+json": {
       "model_id": "5065c3edb174446f90373152ef353dc1",
       "version_major": 2,
       "version_minor": 0
      },
      "text/plain": [
       "Filter:   0%|          | 0/53879 [00:00<?, ? examples/s]"
      ]
     },
     "metadata": {},
     "output_type": "display_data"
    },
    {
     "name": "stdout",
     "output_type": "stream",
     "text": [
      "{'idx': 34426, 'sentence': \"the intensity with which he 's willing to express his convictions \", 'labels': 1, 'input_ids': [101, 1103, 7657, 1114, 1134, 1119, 112, 188, 4988, 1106, 6848, 1117, 22978, 102, 0, 0, 0, 0, 0, 0, 0, 0, 0, 0, 0, 0, 0, 0, 0, 0, 0, 0, 0, 0, 0, 0, 0, 0, 0, 0, 0, 0, 0, 0, 0, 0, 0, 0, 0, 0, 0, 0, 0, 0, 0, 0, 0, 0, 0, 0], 'logits': [-3.8095197677612305, 3.8810811042785645]}\n"
     ]
    }
   ],
   "source": [
    "print(\"First iter check\")\n",
    "print(aug_clean_datasets[1997])\n",
    "filtered_base = train_dataset.filter(lambda x: x[\"idx\"] == aug_clean_datasets[1997][\"idx\"])\n",
    "print(filtered_base[0])\n",
    "\n",
    "print(\"Second iter check\")\n",
    "print(aug_clean_datasets[66699])\n",
    "filtered_base = train_dataset.filter(lambda x: x[\"idx\"] == aug_clean_datasets[66699][\"idx\"])\n",
    "print(filtered_base[0])\n"
   ]
  },
  {
   "cell_type": "code",
   "execution_count": 17,
   "metadata": {},
   "outputs": [
    {
     "name": "stdout",
     "output_type": "stream",
     "text": [
      "{'idx': Value(dtype='int32', id=None), 'sentence': Value(dtype='string', id=None), 'labels': ClassLabel(names=['negative', 'positive'], id=None), 'input_ids': Sequence(feature=Value(dtype='int32', id=None), length=-1, id=None), 'logits': Sequence(feature=Value(dtype='float32', id=None), length=-1, id=None)}\n"
     ]
    }
   ],
   "source": [
    "print(train_dataset.features)"
   ]
  },
  {
   "cell_type": "code",
   "execution_count": 18,
   "metadata": {},
   "outputs": [
    {
     "data": {
      "application/vnd.jupyter.widget-view+json": {
       "model_id": "317fd15a8157422185aaaf9078bab344",
       "version_major": 2,
       "version_minor": 0
      },
      "text/plain": [
       "Casting the dataset:   0%|          | 0/239755 [00:00<?, ? examples/s]"
      ]
     },
     "metadata": {},
     "output_type": "display_data"
    }
   ],
   "source": [
    "ds_schema = Features({\n",
    "    \"idx\": Value(\"int32\"),\n",
    "    \"sentence\": Value(\"string\"),\n",
    "    \"labels\": ClassLabel(names=[\"negative\", \"positive\"]),\n",
    "    \"input_ids\": Sequence(feature=Value(dtype=\"int32\")),\n",
    "    \"logits\": Sequence(feature=Value(dtype=\"float32\")),\n",
    "})\n",
    "\n",
    "aug_dataset = Dataset.from_list(aug_clean_datasets)\n",
    "aug_dataset = aug_dataset.cast(ds_schema)\n"
   ]
  },
  {
   "cell_type": "code",
   "execution_count": 19,
   "metadata": {},
   "outputs": [],
   "source": [
    "aug_dataset.set_format(type=\"torch\", columns=[\"logits\", \"labels\"], device=\"cpu\")\n",
    "train_dataset.set_format(type=\"torch\", columns=[\"logits\", \"labels\"], device=\"cpu\")"
   ]
  },
  {
   "cell_type": "code",
   "execution_count": 20,
   "metadata": {},
   "outputs": [
    {
     "data": {
      "application/vnd.jupyter.widget-view+json": {
       "model_id": "10c0a69e956c49eca16acd71939d88ce",
       "version_major": 2,
       "version_minor": 0
      },
      "text/plain": [
       "Calculating accuracy based on the saved logits:   0%|          | 0/53879 [00:00<?, ?it/s]"
      ]
     },
     "metadata": {},
     "output_type": "display_data"
    },
    {
     "name": "stdout",
     "output_type": "stream",
     "text": [
      "Accuracy for base dataset:  0.9888268156424581\n"
     ]
    },
    {
     "data": {
      "application/vnd.jupyter.widget-view+json": {
       "model_id": "cadff69442e24df698307a712bcc4637",
       "version_major": 2,
       "version_minor": 0
      },
      "text/plain": [
       "Calculating accuracy based on the saved logits:   0%|          | 0/239755 [00:00<?, ?it/s]"
      ]
     },
     "metadata": {},
     "output_type": "display_data"
    },
    {
     "name": "stdout",
     "output_type": "stream",
     "text": [
      "Accuracy for augmented dataset:  0.9903151133448729\n"
     ]
    }
   ],
   "source": [
    "print(base.check_acc(train_dataset, \"Accuracy for base dataset: \"))\n",
    "print(base.check_acc(aug_dataset, \"Accuracy for augmented dataset: \"))"
   ]
  },
  {
   "cell_type": "code",
   "execution_count": 21,
   "metadata": {},
   "outputs": [],
   "source": [
    "train_all_data = concatenate_datasets([train_dataset, aug_dataset])\n",
    "train_all_data.set_format(type=\"torch\", columns=[\"logits\", \"labels\"], device=\"cpu\")"
   ]
  },
  {
   "cell_type": "code",
   "execution_count": 22,
   "metadata": {},
   "outputs": [
    {
     "data": {
      "application/vnd.jupyter.widget-view+json": {
       "model_id": "64c64d892aaf4be08f64016f5c78b8bc",
       "version_major": 2,
       "version_minor": 0
      },
      "text/plain": [
       "Calculating accuracy based on the saved logits:   0%|          | 0/293634 [00:00<?, ?it/s]"
      ]
     },
     "metadata": {},
     "output_type": "display_data"
    },
    {
     "name": "stdout",
     "output_type": "stream",
     "text": [
      "Accuracy for combined dataset:  0.9900420251060844\n"
     ]
    }
   ],
   "source": [
    "print(base.check_acc(train_all_data, \"Accuracy for combined dataset: \"))"
   ]
  },
  {
   "cell_type": "code",
   "execution_count": 23,
   "metadata": {},
   "outputs": [
    {
     "name": "stdout",
     "output_type": "stream",
     "text": [
      "['idx', 'sentence', 'labels', 'input_ids', 'logits']\n"
     ]
    }
   ],
   "source": [
    "print(train_all_data.column_names)"
   ]
  },
  {
   "cell_type": "code",
   "execution_count": 24,
   "metadata": {},
   "outputs": [],
   "source": [
    "train_all_data.reset_format()\n",
    "train_all_data = train_all_data.remove_columns([\"idx\", \"input_ids\"])"
   ]
  },
  {
   "cell_type": "code",
   "execution_count": 25,
   "metadata": {},
   "outputs": [
    {
     "data": {
      "application/vnd.jupyter.widget-view+json": {
       "model_id": "3f19ef85ff1246a1b9c8dcf285d8657b",
       "version_major": 2,
       "version_minor": 0
      },
      "text/plain": [
       "Saving the dataset (0/1 shards):   0%|          | 0/293634 [00:00<?, ? examples/s]"
      ]
     },
     "metadata": {},
     "output_type": "display_data"
    }
   ],
   "source": [
    "train_all_data.save_to_disk(f\"~/data/{DATASET}/train-logits-augmented\")"
   ]
  },
  {
   "cell_type": "code",
   "execution_count": 26,
   "metadata": {},
   "outputs": [
    {
     "data": {
      "application/vnd.jupyter.widget-view+json": {
       "model_id": "510cbe5c98a14acd82ecc258a179d2da",
       "version_major": 2,
       "version_minor": 0
      },
      "text/plain": [
       "Saving the dataset (0/1 shards):   0%|          | 0/53879 [00:00<?, ? examples/s]"
      ]
     },
     "metadata": {},
     "output_type": "display_data"
    }
   ],
   "source": [
    "train_dataset.reset_format()\n",
    "train_dataset = train_dataset.remove_columns([\"idx\", \"input_ids\"])\n",
    "train_dataset.save_to_disk(f\"~/data/{DATASET}/train-logits\")"
   ]
  },
  {
   "cell_type": "code",
   "execution_count": 27,
   "metadata": {},
   "outputs": [
    {
     "data": {
      "application/vnd.jupyter.widget-view+json": {
       "model_id": "5e32b8f5d4d94942bd321f30e2b3644f",
       "version_major": 2,
       "version_minor": 0
      },
      "text/plain": [
       "Tokenizing the provided dataset:   0%|          | 0/872 [00:00<?, ? examples/s]"
      ]
     },
     "metadata": {},
     "output_type": "display_data"
    }
   ],
   "source": [
    "eval_data = load_from_disk(f\"~/data/{DATASET}/eval\")\n",
    "eval_dataset = base.prepare_dataset(eval_data, tokenizer)\n",
    "eval_dataloader = DataLoader(eval_dataset, batch_size=128, shuffle=False)"
   ]
  },
  {
   "cell_type": "code",
   "execution_count": 28,
   "metadata": {},
   "outputs": [
    {
     "data": {
      "application/vnd.jupyter.widget-view+json": {
       "model_id": "0e2998aab95e413889891691a448e901",
       "version_major": 2,
       "version_minor": 0
      },
      "text/plain": [
       "Tokenizing the provided dataset:   0%|          | 0/13470 [00:00<?, ? examples/s]"
      ]
     },
     "metadata": {},
     "output_type": "display_data"
    }
   ],
   "source": [
    "test_data = load_from_disk(f\"~/data/{DATASET}/test\")\n",
    "test_dataset = base.prepare_dataset(test_data, tokenizer)\n",
    "test_dataloader = DataLoader(test_dataset, batch_size=128, shuffle=False)"
   ]
  },
  {
   "cell_type": "code",
   "execution_count": 29,
   "metadata": {},
   "outputs": [
    {
     "data": {
      "application/vnd.jupyter.widget-view+json": {
       "model_id": "1c1a87fa99454d3a8f0015abb52a9c41",
       "version_major": 2,
       "version_minor": 0
      },
      "text/plain": [
       "Tokenizing the provided dataset:   0%|          | 0/1821 [00:00<?, ? examples/s]"
      ]
     },
     "metadata": {},
     "output_type": "display_data"
    }
   ],
   "source": [
    "test_blank_data = load_from_disk(f\"~/data/{DATASET}/test-blank\")\n",
    "test_blank_dataset = base.prepare_dataset(test_blank_data, tokenizer)\n",
    "test_blank_dataloader = DataLoader(test_blank_dataset, batch_size=128, shuffle=False)"
   ]
  },
  {
   "cell_type": "code",
   "execution_count": 30,
   "metadata": {},
   "outputs": [
    {
     "data": {
      "application/vnd.jupyter.widget-view+json": {
       "model_id": "8b9333e66b534c259c6049c9358f502e",
       "version_major": 2,
       "version_minor": 0
      },
      "text/plain": [
       "Generating logits for given dataset:   0%|          | 0/7 [00:00<?, ?it/s]"
      ]
     },
     "metadata": {},
     "output_type": "display_data"
    },
    {
     "data": {
      "application/vnd.jupyter.widget-view+json": {
       "model_id": "80756d89134446eea7e7ff063262dc57",
       "version_major": 2,
       "version_minor": 0
      },
      "text/plain": [
       "Generating logits for given dataset:   0%|          | 0/106 [00:00<?, ?it/s]"
      ]
     },
     "metadata": {},
     "output_type": "display_data"
    },
    {
     "data": {
      "application/vnd.jupyter.widget-view+json": {
       "model_id": "343de423547d4d3784d7ca7ce8ec99bf",
       "version_major": 2,
       "version_minor": 0
      },
      "text/plain": [
       "Generating logits for given dataset:   0%|          | 0/15 [00:00<?, ?it/s]"
      ]
     },
     "metadata": {},
     "output_type": "display_data"
    }
   ],
   "source": [
    "eval_logits = base.generate_logits(eval_dataloader, model)\n",
    "test_logits = base.generate_logits(test_dataloader, model)\n",
    "test_blank_logits = base.generate_logits(test_blank_dataloader, model)"
   ]
  },
  {
   "cell_type": "code",
   "execution_count": 31,
   "metadata": {},
   "outputs": [],
   "source": [
    "eval_dataset.reset_format()\n",
    "eval_dataset = eval_dataset.add_column(\"logits\", eval_logits)\n",
    "eval_dataset = eval_dataset.remove_columns([\"idx\", \"token_type_ids\", \"input_ids\", \"attention_mask\"])"
   ]
  },
  {
   "cell_type": "code",
   "execution_count": 32,
   "metadata": {},
   "outputs": [],
   "source": [
    "test_dataset.reset_format()\n",
    "test_dataset = test_dataset.add_column(\"logits\", test_logits)\n",
    "test_dataset = test_dataset.remove_columns([\"idx\", \"token_type_ids\", \"input_ids\", \"attention_mask\"])"
   ]
  },
  {
   "cell_type": "code",
   "execution_count": 33,
   "metadata": {},
   "outputs": [],
   "source": [
    "test_blank_dataset.reset_format()\n",
    "test_blank_dataset = test_blank_dataset.add_column(\"logits\", test_blank_logits)\n",
    "test_blank_dataset = test_blank_dataset.remove_columns([\"idx\", \"token_type_ids\", \"input_ids\", \"attention_mask\"])"
   ]
  },
  {
   "cell_type": "code",
   "execution_count": 34,
   "metadata": {},
   "outputs": [
    {
     "data": {
      "application/vnd.jupyter.widget-view+json": {
       "model_id": "3e78d95a525b44ac8c180dba8d04aad4",
       "version_major": 2,
       "version_minor": 0
      },
      "text/plain": [
       "Saving the dataset (0/1 shards):   0%|          | 0/872 [00:00<?, ? examples/s]"
      ]
     },
     "metadata": {},
     "output_type": "display_data"
    },
    {
     "data": {
      "application/vnd.jupyter.widget-view+json": {
       "model_id": "59ad648a370841a887a444fcc92cafb2",
       "version_major": 2,
       "version_minor": 0
      },
      "text/plain": [
       "Saving the dataset (0/1 shards):   0%|          | 0/13470 [00:00<?, ? examples/s]"
      ]
     },
     "metadata": {},
     "output_type": "display_data"
    },
    {
     "data": {
      "application/vnd.jupyter.widget-view+json": {
       "model_id": "0ea2ed26dcb04db0a5d92b22dea3b1ca",
       "version_major": 2,
       "version_minor": 0
      },
      "text/plain": [
       "Saving the dataset (0/1 shards):   0%|          | 0/1821 [00:00<?, ? examples/s]"
      ]
     },
     "metadata": {},
     "output_type": "display_data"
    }
   ],
   "source": [
    "eval_dataset.save_to_disk(f\"~/data/{DATASET}/eval-logits\")\n",
    "test_dataset.save_to_disk(f\"~/data/{DATASET}/test-logits\")\n",
    "test_blank_dataset.save_to_disk(f\"~/data/{DATASET}/test-blank-logits\")"
   ]
  },
  {
   "cell_type": "code",
   "execution_count": 35,
   "metadata": {},
   "outputs": [
    {
     "data": {
      "application/vnd.jupyter.widget-view+json": {
       "model_id": "d5c77b62710b49c08ae0564713815c36",
       "version_major": 2,
       "version_minor": 0
      },
      "text/plain": [
       "Calculating accuracy based on the saved logits:   0%|          | 0/872 [00:00<?, ?it/s]"
      ]
     },
     "metadata": {},
     "output_type": "display_data"
    },
    {
     "name": "stdout",
     "output_type": "stream",
     "text": [
      "Accuracy for base eval dataset:  0.9231651376146789\n"
     ]
    },
    {
     "data": {
      "application/vnd.jupyter.widget-view+json": {
       "model_id": "d2defbd8552546baace0168f93ff24f0",
       "version_major": 2,
       "version_minor": 0
      },
      "text/plain": [
       "Calculating accuracy based on the saved logits:   0%|          | 0/13470 [00:00<?, ?it/s]"
      ]
     },
     "metadata": {},
     "output_type": "display_data"
    },
    {
     "name": "stdout",
     "output_type": "stream",
     "text": [
      "Accuracy for base test dataset:  0.9896807720861173\n"
     ]
    }
   ],
   "source": [
    "eval_data = load_from_disk(f\"~/data/{DATASET}/eval-logits\")\n",
    "test_data = load_from_disk(f\"~/data/{DATASET}/test-logits\")\n",
    "\n",
    "eval_data.set_format(type=\"torch\", columns=[\"logits\", \"labels\"], device=\"cpu\")\n",
    "test_data.set_format(type=\"torch\", columns=[\"logits\", \"labels\"], device=\"cpu\")\n",
    "\n",
    "print(base.check_acc(eval_data, \"Accuracy for base eval dataset: \"))\n",
    "print(base.check_acc(test_data, \"Accuracy for base test dataset: \"))"
   ]
  },
  {
   "cell_type": "code",
   "execution_count": null,
   "metadata": {},
   "outputs": [],
   "source": []
  }
 ],
 "metadata": {
  "kernelspec": {
   "display_name": "Python 3 (ipykernel)",
   "language": "python",
   "name": "python3"
  },
  "language_info": {
   "codemirror_mode": {
    "name": "ipython",
    "version": 3
   },
   "file_extension": ".py",
   "mimetype": "text/x-python",
   "name": "python",
   "nbconvert_exporter": "python",
   "pygments_lexer": "ipython3",
   "version": "3.10.12"
  }
 },
 "nbformat": 4,
 "nbformat_minor": 2
}
