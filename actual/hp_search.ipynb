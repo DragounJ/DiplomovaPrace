{
 "cells": [
  {
   "cell_type": "markdown",
   "id": "b80e8fe1",
   "metadata": {},
   "source": [
    "# Notebook pro trénink s destilací nad datasetem CIFAR10\n",
    "V tomto notebooku je trénován MobileNetV2 nad datasetem CIFAR10, jako učitelsý model je využíván finetunued ViT nad stejným datasetem. \n",
    "\n",
    "MobileNetV2 je používán s náhodnou inicializací, tréninkem pouze klasifikační hlavy inicializovaného (předtrénovaného nad ImageNetem) MobileNetuV2 a trénink celého modelu, taktéž inicializovaného. Tyto tři úlohy jsou trénovány bězným způsobem a také s pomocí destilace výše zmíněného modelu.  \n",
    "\n",
    "Při destilaci je využíváno předpočítaných logitů ze sešitu precompute_logits."
   ]
  },
  {
   "cell_type": "code",
   "execution_count": 1,
   "id": "3efcfa7e-c869-43c9-955f-0678e717c4cf",
   "metadata": {
    "editable": true,
    "scrolled": true,
    "slideshow": {
     "slide_type": ""
    },
    "tags": []
   },
   "outputs": [
    {
     "name": "stdout",
     "output_type": "stream",
     "text": [
      "Looking in indexes: https://pypi.org/simple, https://pypi.ngc.nvidia.com\n",
      "Requirement already satisfied: huggingface_hub in /usr/local/lib/python3.10/dist-packages (0.27.0)\n",
      "Requirement already satisfied: datasets in /usr/local/lib/python3.10/dist-packages (3.2.0)\n",
      "Requirement already satisfied: evaluate in /usr/local/lib/python3.10/dist-packages (0.4.3)\n",
      "Requirement already satisfied: torchvision in /usr/local/lib/python3.10/dist-packages (0.20.0a0)\n",
      "Requirement already satisfied: optuna in /usr/local/lib/python3.10/dist-packages (4.1.0)\n",
      "Requirement already satisfied: transformers[torch] in /usr/local/lib/python3.10/dist-packages (4.45.2)\n",
      "Requirement already satisfied: filelock in /usr/local/lib/python3.10/dist-packages (from transformers[torch]) (3.16.1)\n",
      "Requirement already satisfied: numpy>=1.17 in /usr/local/lib/python3.10/dist-packages (from transformers[torch]) (1.24.4)\n",
      "Requirement already satisfied: packaging>=20.0 in /usr/local/lib/python3.10/dist-packages (from transformers[torch]) (23.2)\n",
      "Requirement already satisfied: pyyaml>=5.1 in /usr/local/lib/python3.10/dist-packages (from transformers[torch]) (6.0.2)\n",
      "Requirement already satisfied: regex!=2019.12.17 in /usr/local/lib/python3.10/dist-packages (from transformers[torch]) (2024.9.11)\n",
      "Requirement already satisfied: requests in /usr/local/lib/python3.10/dist-packages (from transformers[torch]) (2.32.3)\n",
      "Requirement already satisfied: safetensors>=0.4.1 in /usr/local/lib/python3.10/dist-packages (from transformers[torch]) (0.4.5)\n",
      "Requirement already satisfied: tokenizers<0.21,>=0.20 in /usr/local/lib/python3.10/dist-packages (from transformers[torch]) (0.20.3)\n",
      "Requirement already satisfied: tqdm>=4.27 in /usr/local/lib/python3.10/dist-packages (from transformers[torch]) (4.66.5)\n",
      "Requirement already satisfied: accelerate>=0.26.0 in /usr/local/lib/python3.10/dist-packages (from transformers[torch]) (1.2.1)\n",
      "Requirement already satisfied: torch in /usr/local/lib/python3.10/dist-packages (from transformers[torch]) (2.5.0a0+e000cf0ad9.nv24.10)\n",
      "Requirement already satisfied: fsspec>=2023.5.0 in /usr/local/lib/python3.10/dist-packages (from huggingface_hub) (2024.6.1)\n",
      "Requirement already satisfied: typing-extensions>=3.7.4.3 in /usr/local/lib/python3.10/dist-packages (from huggingface_hub) (4.12.2)\n",
      "Requirement already satisfied: pyarrow>=15.0.0 in /usr/local/lib/python3.10/dist-packages (from datasets) (16.1.0)\n",
      "Requirement already satisfied: dill<0.3.9,>=0.3.0 in /usr/local/lib/python3.10/dist-packages (from datasets) (0.3.8)\n",
      "Requirement already satisfied: pandas in /usr/local/lib/python3.10/dist-packages (from datasets) (2.2.2)\n",
      "Requirement already satisfied: xxhash in /usr/local/lib/python3.10/dist-packages (from datasets) (3.5.0)\n",
      "Requirement already satisfied: multiprocess<0.70.17 in /usr/local/lib/python3.10/dist-packages (from datasets) (0.70.16)\n",
      "Requirement already satisfied: aiohttp in /usr/local/lib/python3.10/dist-packages (from datasets) (3.10.5)\n",
      "Requirement already satisfied: pillow!=8.3.*,>=5.3.0 in /usr/local/lib/python3.10/dist-packages (from torchvision) (10.4.0)\n",
      "Requirement already satisfied: networkx in /usr/local/lib/python3.10/dist-packages (from torch->transformers[torch]) (3.3)\n",
      "Requirement already satisfied: jinja2 in /usr/local/lib/python3.10/dist-packages (from torch->transformers[torch]) (3.1.4)\n",
      "Requirement already satisfied: sympy==1.13.1 in /usr/local/lib/python3.10/dist-packages (from torch->transformers[torch]) (1.13.1)\n",
      "Requirement already satisfied: mpmath<1.4,>=1.1.0 in /usr/local/lib/python3.10/dist-packages (from sympy==1.13.1->torch->transformers[torch]) (1.3.0)\n",
      "Requirement already satisfied: alembic>=1.5.0 in /usr/local/lib/python3.10/dist-packages (from optuna) (1.14.0)\n",
      "Requirement already satisfied: colorlog in /usr/local/lib/python3.10/dist-packages (from optuna) (6.9.0)\n",
      "Requirement already satisfied: sqlalchemy>=1.4.2 in /usr/local/lib/python3.10/dist-packages (from optuna) (2.0.36)\n",
      "Requirement already satisfied: psutil in /usr/local/lib/python3.10/dist-packages (from accelerate>=0.26.0->transformers[torch]) (6.0.0)\n",
      "Requirement already satisfied: Mako in /usr/local/lib/python3.10/dist-packages (from alembic>=1.5.0->optuna) (1.3.6)\n",
      "Requirement already satisfied: aiohappyeyeballs>=2.3.0 in /usr/local/lib/python3.10/dist-packages (from aiohttp->datasets) (2.4.0)\n",
      "Requirement already satisfied: aiosignal>=1.1.2 in /usr/local/lib/python3.10/dist-packages (from aiohttp->datasets) (1.3.1)\n",
      "Requirement already satisfied: attrs>=17.3.0 in /usr/local/lib/python3.10/dist-packages (from aiohttp->datasets) (24.2.0)\n",
      "Requirement already satisfied: frozenlist>=1.1.1 in /usr/local/lib/python3.10/dist-packages (from aiohttp->datasets) (1.4.1)\n",
      "Requirement already satisfied: multidict<7.0,>=4.5 in /usr/local/lib/python3.10/dist-packages (from aiohttp->datasets) (6.0.5)\n",
      "Requirement already satisfied: yarl<2.0,>=1.0 in /usr/local/lib/python3.10/dist-packages (from aiohttp->datasets) (1.9.4)\n",
      "Requirement already satisfied: async-timeout<5.0,>=4.0 in /usr/local/lib/python3.10/dist-packages (from aiohttp->datasets) (4.0.3)\n",
      "Requirement already satisfied: charset-normalizer<4,>=2 in /usr/local/lib/python3.10/dist-packages (from requests->transformers[torch]) (3.3.2)\n",
      "Requirement already satisfied: idna<4,>=2.5 in /usr/local/lib/python3.10/dist-packages (from requests->transformers[torch]) (3.7)\n",
      "Requirement already satisfied: urllib3<3,>=1.21.1 in /usr/local/lib/python3.10/dist-packages (from requests->transformers[torch]) (2.0.7)\n",
      "Requirement already satisfied: certifi>=2017.4.17 in /usr/local/lib/python3.10/dist-packages (from requests->transformers[torch]) (2024.8.30)\n",
      "Requirement already satisfied: greenlet!=0.4.17 in /usr/local/lib/python3.10/dist-packages (from sqlalchemy>=1.4.2->optuna) (3.1.1)\n",
      "Requirement already satisfied: python-dateutil>=2.8.2 in /usr/local/lib/python3.10/dist-packages (from pandas->datasets) (2.9.0.post0)\n",
      "Requirement already satisfied: pytz>=2020.1 in /usr/local/lib/python3.10/dist-packages (from pandas->datasets) (2023.4)\n",
      "Requirement already satisfied: tzdata>=2022.7 in /usr/local/lib/python3.10/dist-packages (from pandas->datasets) (2024.1)\n",
      "Requirement already satisfied: six>=1.5 in /usr/local/lib/python3.10/dist-packages (from python-dateutil>=2.8.2->pandas->datasets) (1.16.0)\n",
      "Requirement already satisfied: MarkupSafe>=2.0 in /usr/local/lib/python3.10/dist-packages (from jinja2->torch->transformers[torch]) (2.1.5)\n",
      "\n",
      "\u001b[1m[\u001b[0m\u001b[34;49mnotice\u001b[0m\u001b[1;39;49m]\u001b[0m\u001b[39;49m A new release of pip is available: \u001b[0m\u001b[31;49m24.2\u001b[0m\u001b[39;49m -> \u001b[0m\u001b[32;49m24.3.1\u001b[0m\n",
      "\u001b[1m[\u001b[0m\u001b[34;49mnotice\u001b[0m\u001b[1;39;49m]\u001b[0m\u001b[39;49m To update, run: \u001b[0m\u001b[32;49mpython -m pip install --upgrade pip\u001b[0m\n",
      "Note: you may need to restart the kernel to use updated packages.\n"
     ]
    }
   ],
   "source": [
    "%pip install transformers[torch] huggingface_hub datasets evaluate torchvision optuna"
   ]
  },
  {
   "cell_type": "markdown",
   "id": "54d1c726",
   "metadata": {},
   "source": [
    "## Import knihoven a definice metod"
   ]
  },
  {
   "cell_type": "code",
   "execution_count": 2,
   "id": "f7e7a26f-aa1f-4645-b3b3-4643ca8be2a4",
   "metadata": {},
   "outputs": [],
   "source": [
    "from transformers import Trainer, TrainingArguments, MobileNetV2Config, MobileNetV2ForImageClassification, EarlyStoppingCallback\n",
    "from torchvision import transforms\n",
    "from torch.utils.data import Dataset\n",
    "import torch.nn.functional as F\n",
    "from PIL import Image\n",
    "import torch.nn as nn\n",
    "import numpy as np\n",
    "import evaluate\n",
    "import random\n",
    "import pickle\n",
    "import optuna\n",
    "import torch\n",
    "import os "
   ]
  },
  {
   "cell_type": "markdown",
   "id": "4cf6897a",
   "metadata": {},
   "source": [
    "Resetování náhodného seedu pro replikovatelnost výsledků.\n",
    "Zřejmě je možné části odebrat.\n",
    "\n",
    "TODO: Odebrat zbytečná nastavení."
   ]
  },
  {
   "cell_type": "code",
   "execution_count": 3,
   "id": "bd53a434",
   "metadata": {},
   "outputs": [],
   "source": [
    "def reset_seed(seed=42):\n",
    "    torch.manual_seed(seed)\n",
    "    random.seed(seed)\n",
    "    np.random.seed(seed)\n",
    "    torch.cuda.manual_seed(seed)\n",
    "    torch.cuda.manual_seed_all(seed) \n",
    "    torch.backends.cudnn.deterministic = True\n",
    "    torch.backends.cudnn.benchmark = False\n",
    "    os.environ['PYTHONHASHSEED'] = str(seed)"
   ]
  },
  {
   "cell_type": "markdown",
   "id": "964a9fbe",
   "metadata": {},
   "source": [
    "Nový wrapper, který pracuje přímo se soubory staženého a upraveného datasetu CIFAR10.\n",
    "Využití načtení pomocí metody jako dříve není možné kvůli jiné checksum. \n",
    "\n",
    "Zároveň se již dotahují logity přímo z datasetu."
   ]
  },
  {
   "cell_type": "code",
   "execution_count": 4,
   "id": "947263ba-fa42-4861-9f45-9fa1a89b2795",
   "metadata": {},
   "outputs": [],
   "source": [
    "class CustomCIFAR10(Dataset):\n",
    "    def __init__(self, root, train=True, transform=None, target_transform=None):\n",
    "        self.root = root\n",
    "        self.train = train\n",
    "        self.transform = transform\n",
    "        self.target_transform = target_transform\n",
    "\n",
    "        self.data = []\n",
    "        self.targets = []\n",
    "        self.logits = []\n",
    "        \n",
    "        if self.train:\n",
    "             for i in range(1, 6):\n",
    "                 data_file = os.path.join(self.root, 'cifar-10-batches-py', f'data_batch_{i}')\n",
    "                 with open(data_file, 'rb') as fo:\n",
    "                     dict = pickle.load(fo, encoding='bytes')\n",
    "                     self.data.append(dict[b'data'])\n",
    "                     self.targets.extend(dict[b'labels'])\n",
    "                     self.logits.extend(dict[b'logits'])  \n",
    "        else:\n",
    "            data_file = os.path.join(self.root, 'cifar-10-batches-py', 'test_batch')\n",
    "            with open(data_file, 'rb') as fo:\n",
    "                dict = pickle.load(fo, encoding='bytes')\n",
    "                self.data.append(dict[b'data'])\n",
    "                self.targets.extend(dict[b'labels'])\n",
    "                self.logits.extend(dict[b'logits'])  \n",
    "\n",
    "        self.data = np.concatenate(self.data, axis=0)\n",
    "        self.targets = np.array(self.targets)\n",
    "        self.logits = np.array(self.logits)\n",
    "\n",
    "\n",
    "    def __len__(self):\n",
    "        return len(self.data)\n",
    "\n",
    "    def __getitem__(self, index):\n",
    "        image = self.data[index].reshape(3, 32, 32).transpose(1, 2, 0)\n",
    "        label = self.targets[index]\n",
    "        logit = self.logits[index]\n",
    "        \n",
    "        image = Image.fromarray(image.astype('uint8'), 'RGB')\n",
    "        logit = torch.tensor(logit, dtype=torch.float)\n",
    "        if self.transform:\n",
    "            image = self.transform(image)\n",
    "\n",
    "        if self.target_transform:\n",
    "            target = self.target_transform(target)\n",
    "            \n",
    "        return {\n",
    "            'pixel_values': image,\n",
    "            'labels': label,\n",
    "            'logits': logit\n",
    "        }\n"
   ]
  },
  {
   "cell_type": "markdown",
   "id": "05df404b",
   "metadata": {},
   "source": [
    "Definice accuracy metriky pro trénování modelu."
   ]
  },
  {
   "cell_type": "code",
   "execution_count": 5,
   "id": "5d06b726",
   "metadata": {},
   "outputs": [],
   "source": [
    "accuracy_metric = evaluate.load(\"accuracy\")\n",
    "precision_metric = evaluate.load(\"precision\")\n",
    "recall_metric = evaluate.load(\"recall\")\n",
    "f1_metric = evaluate.load(\"f1\")\n",
    "\n",
    "def compute_metrics(eval_pred):\n",
    "    predictions, labels = eval_pred\n",
    "    \n",
    "    accuracy = accuracy_metric.compute(predictions=np.argmax(predictions, axis=1), references=labels)\n",
    "    precision = precision_metric.compute(predictions=np.argmax(predictions, axis=1), references=labels, average='macro')\n",
    "    recall = recall_metric.compute(predictions=np.argmax(predictions, axis=1), references=labels, average='macro')\n",
    "    f1 = f1_metric.compute(predictions=np.argmax(predictions, axis=1), references=labels, average='macro')\n",
    "\n",
    "    return {\n",
    "        \"accuracy\": accuracy[\"accuracy\"],\n",
    "        \"precision\": precision[\"precision\"],\n",
    "        \"recall\": recall[\"recall\"],\n",
    "        \"f1\": f1[\"f1\"]\n",
    "    }"
   ]
  },
  {
   "cell_type": "markdown",
   "id": "a279ff0b",
   "metadata": {},
   "source": [
    "Trénovací argumenty pro trainer. "
   ]
  },
  {
   "cell_type": "code",
   "execution_count": 6,
   "id": "daf5d4fb",
   "metadata": {},
   "outputs": [],
   "source": [
    "class Custom_training_args(TrainingArguments):\n",
    "    def __init__(self, lambda_param, temperature, *args, **kwargs):\n",
    "        super().__init__(*args, **kwargs)    \n",
    "        self.lambda_param = lambda_param\n",
    "        self.temperature = temperature"
   ]
  },
  {
   "cell_type": "code",
   "execution_count": 7,
   "id": "90a40292",
   "metadata": {},
   "outputs": [],
   "source": [
    "def get_training_args(output_dir:str, logging_dir:str, remove_unused_columns:bool):\n",
    "    return (\n",
    "        Custom_training_args(\n",
    "        output_dir=output_dir,\n",
    "        eval_strategy=\"epoch\",\n",
    "        save_strategy=\"epoch\",\n",
    "        learning_rate=5e-5, #Defaultní hodnota \n",
    "        per_device_train_batch_size=64,\n",
    "        per_device_eval_batch_size=64,\n",
    "        num_train_epochs=20,\n",
    "        weight_decay=0.01,\n",
    "        seed = 42,  #Defaultní hodnota \n",
    "        metric_for_best_model=\"f1\",\n",
    "        load_best_model_at_end=True,\n",
    "        fp16=False, \n",
    "        logging_dir=logging_dir,\n",
    "        remove_unused_columns=remove_unused_columns,\n",
    "        lambda_param = 0.5, \n",
    "        temperature = 5\n",
    "    ))"
   ]
  },
  {
   "cell_type": "markdown",
   "id": "1451b922",
   "metadata": {},
   "source": [
    "Náhodně inicializovaný MobileNetV2."
   ]
  },
  {
   "cell_type": "code",
   "execution_count": 8,
   "id": "cf11f33f-4501-48ac-a926-80839c32080f",
   "metadata": {},
   "outputs": [],
   "source": [
    "def get_random_init_mobilenet():\n",
    "    reset_seed(42)\n",
    "    student_config = MobileNetV2Config()\n",
    "    student_config.num_labels = 10\n",
    "    return MobileNetV2ForImageClassification(student_config)"
   ]
  },
  {
   "cell_type": "code",
   "execution_count": 9,
   "id": "ad6208b0",
   "metadata": {},
   "outputs": [],
   "source": [
    "reset_seed(42)"
   ]
  },
  {
   "cell_type": "code",
   "execution_count": 10,
   "id": "29b9ceef",
   "metadata": {},
   "outputs": [
    {
     "name": "stdout",
     "output_type": "stream",
     "text": [
      "GPU is available and will be used: NVIDIA A100 80GB PCIe MIG 2g.20gb\n"
     ]
    }
   ],
   "source": [
    "if torch.cuda.is_available():\n",
    "    device = torch.device(\"cuda\")\n",
    "    print(\"GPU is available and will be used:\", torch.cuda.get_device_name(0))\n",
    "else:\n",
    "    device = torch.device(\"cpu\")\n",
    "    print(\"GPU is not available, using CPU.\")"
   ]
  },
  {
   "cell_type": "markdown",
   "id": "59eb90dc",
   "metadata": {},
   "source": [
    "Provedení transformací nad datasetem."
   ]
  },
  {
   "cell_type": "code",
   "execution_count": 11,
   "id": "8b74ce88",
   "metadata": {},
   "outputs": [],
   "source": [
    "transform = transforms.Compose([\n",
    "    transforms.Resize((224, 224)), \n",
    "    transforms.ToTensor(),\n",
    "    transforms.Normalize((0.5, 0.5, 0.5), (0.5, 0.5, 0.5)),\n",
    "])\n",
    "\n",
    "test = CustomCIFAR10(root='../data/10-logits', train=False, transform=transform)\n",
    "train = CustomCIFAR10(root='../data/10-logits', train=True, transform=transform)"
   ]
  },
  {
   "cell_type": "markdown",
   "id": "c6a85914",
   "metadata": {},
   "source": [
    "### Standardní trénink náhodně inicializovaného modelu. "
   ]
  },
  {
   "cell_type": "code",
   "execution_count": 12,
   "id": "15c07c5d",
   "metadata": {},
   "outputs": [],
   "source": [
    "training_args = get_training_args(\"./results/cifar10-random\", './logs/cifar10-random', True)"
   ]
  },
  {
   "cell_type": "code",
   "execution_count": 13,
   "id": "db0bcd7c",
   "metadata": {},
   "outputs": [],
   "source": [
    "def hp_space(trial):\n",
    "    return {\n",
    "        \"learning_rate\": trial.suggest_float(\"learning_rate\", 1e-6, 5e-4, log=True),\n",
    "        \"per_device_train_batch_size\": trial.suggest_categorical(\"per_device_train_batch_size\", [16, 32, 64]),\n",
    "        \"weight_decay\": trial.suggest_float(\"weight_decay\", 0, 1e-2, step=1e-3)\n",
    "    }"
   ]
  },
  {
   "cell_type": "code",
   "execution_count": 14,
   "id": "174fff53",
   "metadata": {},
   "outputs": [
    {
     "name": "stderr",
     "output_type": "stream",
     "text": [
      "/usr/local/lib/python3.10/dist-packages/optuna/_experimental.py:31: ExperimentalWarning: Argument ``multivariate`` is an experimental feature. The interface can change in the future.\n",
      "  warnings.warn(\n"
     ]
    }
   ],
   "source": [
    "pruner = optuna.pruners.HyperbandPruner(min_resource=5, reduction_factor=4)\n",
    "sampler = optuna.samplers.TPESampler(seed=42, multivariate=True)"
   ]
  },
  {
   "cell_type": "code",
   "execution_count": 15,
   "id": "dc752b97-d843-4919-a0fc-066d192e037b",
   "metadata": {},
   "outputs": [],
   "source": [
    "trainer = Trainer(\n",
    "    args=training_args,\n",
    "    train_dataset=train,\n",
    "    eval_dataset=test,\n",
    "    compute_metrics=compute_metrics,\n",
    "    model_init=get_random_init_mobilenet,\n",
    "    callbacks = [EarlyStoppingCallback(early_stopping_patience=3)]\n",
    ")"
   ]
  },
  {
   "cell_type": "code",
   "execution_count": 16,
   "id": "97855619-93d5-4fc2-93d2-fee24c61b8ae",
   "metadata": {},
   "outputs": [
    {
     "name": "stderr",
     "output_type": "stream",
     "text": [
      "[I 2025-01-01 23:59:01,142] A new study created in memory with name: no-name-7c8c698d-acf7-4823-8e1e-c939c40ae55e\n"
     ]
    },
    {
     "data": {
      "text/html": [
       "\n",
       "    <div>\n",
       "      \n",
       "      <progress value='46875' max='62500' style='width:300px; height:20px; vertical-align: middle;'></progress>\n",
       "      [46875/62500 48:56 < 16:18, 15.96 it/s, Epoch 15/20]\n",
       "    </div>\n",
       "    <table border=\"1\" class=\"dataframe\">\n",
       "  <thead>\n",
       " <tr style=\"text-align: left;\">\n",
       "      <th>Epoch</th>\n",
       "      <th>Training Loss</th>\n",
       "      <th>Validation Loss</th>\n",
       "      <th>Accuracy</th>\n",
       "      <th>Precision</th>\n",
       "      <th>Recall</th>\n",
       "      <th>F1</th>\n",
       "    </tr>\n",
       "  </thead>\n",
       "  <tbody>\n",
       "    <tr>\n",
       "      <td>1</td>\n",
       "      <td>1.870100</td>\n",
       "      <td>1.732741</td>\n",
       "      <td>0.367800</td>\n",
       "      <td>0.372398</td>\n",
       "      <td>0.367800</td>\n",
       "      <td>0.344483</td>\n",
       "    </tr>\n",
       "    <tr>\n",
       "      <td>2</td>\n",
       "      <td>1.686700</td>\n",
       "      <td>1.530936</td>\n",
       "      <td>0.436400</td>\n",
       "      <td>0.462839</td>\n",
       "      <td>0.436400</td>\n",
       "      <td>0.436615</td>\n",
       "    </tr>\n",
       "    <tr>\n",
       "      <td>3</td>\n",
       "      <td>1.518200</td>\n",
       "      <td>1.405519</td>\n",
       "      <td>0.490700</td>\n",
       "      <td>0.496632</td>\n",
       "      <td>0.490700</td>\n",
       "      <td>0.483040</td>\n",
       "    </tr>\n",
       "    <tr>\n",
       "      <td>4</td>\n",
       "      <td>1.398600</td>\n",
       "      <td>1.321123</td>\n",
       "      <td>0.524700</td>\n",
       "      <td>0.526839</td>\n",
       "      <td>0.524700</td>\n",
       "      <td>0.514257</td>\n",
       "    </tr>\n",
       "    <tr>\n",
       "      <td>5</td>\n",
       "      <td>1.309000</td>\n",
       "      <td>1.367839</td>\n",
       "      <td>0.518300</td>\n",
       "      <td>0.582725</td>\n",
       "      <td>0.518300</td>\n",
       "      <td>0.525557</td>\n",
       "    </tr>\n",
       "    <tr>\n",
       "      <td>6</td>\n",
       "      <td>1.255500</td>\n",
       "      <td>1.170599</td>\n",
       "      <td>0.587500</td>\n",
       "      <td>0.578888</td>\n",
       "      <td>0.587500</td>\n",
       "      <td>0.576408</td>\n",
       "    </tr>\n",
       "    <tr>\n",
       "      <td>7</td>\n",
       "      <td>1.187700</td>\n",
       "      <td>1.262417</td>\n",
       "      <td>0.564600</td>\n",
       "      <td>0.591695</td>\n",
       "      <td>0.564600</td>\n",
       "      <td>0.553731</td>\n",
       "    </tr>\n",
       "    <tr>\n",
       "      <td>8</td>\n",
       "      <td>1.126400</td>\n",
       "      <td>1.838385</td>\n",
       "      <td>0.483700</td>\n",
       "      <td>0.560011</td>\n",
       "      <td>0.483700</td>\n",
       "      <td>0.464588</td>\n",
       "    </tr>\n",
       "    <tr>\n",
       "      <td>9</td>\n",
       "      <td>1.055700</td>\n",
       "      <td>1.095330</td>\n",
       "      <td>0.614900</td>\n",
       "      <td>0.646942</td>\n",
       "      <td>0.614900</td>\n",
       "      <td>0.607511</td>\n",
       "    </tr>\n",
       "    <tr>\n",
       "      <td>10</td>\n",
       "      <td>1.002800</td>\n",
       "      <td>0.970768</td>\n",
       "      <td>0.657500</td>\n",
       "      <td>0.669641</td>\n",
       "      <td>0.657500</td>\n",
       "      <td>0.659654</td>\n",
       "    </tr>\n",
       "    <tr>\n",
       "      <td>11</td>\n",
       "      <td>0.948600</td>\n",
       "      <td>1.011822</td>\n",
       "      <td>0.651600</td>\n",
       "      <td>0.657993</td>\n",
       "      <td>0.651600</td>\n",
       "      <td>0.645614</td>\n",
       "    </tr>\n",
       "    <tr>\n",
       "      <td>12</td>\n",
       "      <td>0.896300</td>\n",
       "      <td>0.958601</td>\n",
       "      <td>0.662400</td>\n",
       "      <td>0.678619</td>\n",
       "      <td>0.662400</td>\n",
       "      <td>0.664724</td>\n",
       "    </tr>\n",
       "    <tr>\n",
       "      <td>13</td>\n",
       "      <td>0.918700</td>\n",
       "      <td>1.043230</td>\n",
       "      <td>0.644500</td>\n",
       "      <td>0.673367</td>\n",
       "      <td>0.644500</td>\n",
       "      <td>0.649508</td>\n",
       "    </tr>\n",
       "    <tr>\n",
       "      <td>14</td>\n",
       "      <td>0.864800</td>\n",
       "      <td>0.969512</td>\n",
       "      <td>0.663500</td>\n",
       "      <td>0.685563</td>\n",
       "      <td>0.663500</td>\n",
       "      <td>0.659087</td>\n",
       "    </tr>\n",
       "    <tr>\n",
       "      <td>15</td>\n",
       "      <td>0.844700</td>\n",
       "      <td>1.175463</td>\n",
       "      <td>0.623100</td>\n",
       "      <td>0.648031</td>\n",
       "      <td>0.623100</td>\n",
       "      <td>0.616639</td>\n",
       "    </tr>\n",
       "  </tbody>\n",
       "</table><p>"
      ],
      "text/plain": [
       "<IPython.core.display.HTML object>"
      ]
     },
     "metadata": {},
     "output_type": "display_data"
    },
    {
     "name": "stderr",
     "output_type": "stream",
     "text": [
      "[I 2025-01-02 00:47:58,443] Trial 0 finished with value: 0.6166393892685925 and parameters: {'learning_rate': 1.0253509690168497e-05, 'per_device_train_batch_size': 16, 'weight_decay': 0.001}. Best is trial 0 with value: 0.6166393892685925.\n"
     ]
    },
    {
     "data": {
      "text/html": [
       "\n",
       "    <div>\n",
       "      \n",
       "      <progress value='31260' max='31260' style='width:300px; height:20px; vertical-align: middle;'></progress>\n",
       "      [31260/31260 1:01:22, Epoch 20/20]\n",
       "    </div>\n",
       "    <table border=\"1\" class=\"dataframe\">\n",
       "  <thead>\n",
       " <tr style=\"text-align: left;\">\n",
       "      <th>Epoch</th>\n",
       "      <th>Training Loss</th>\n",
       "      <th>Validation Loss</th>\n",
       "      <th>Accuracy</th>\n",
       "      <th>Precision</th>\n",
       "      <th>Recall</th>\n",
       "      <th>F1</th>\n",
       "    </tr>\n",
       "  </thead>\n",
       "  <tbody>\n",
       "    <tr>\n",
       "      <td>1</td>\n",
       "      <td>2.368300</td>\n",
       "      <td>2.179152</td>\n",
       "      <td>0.199900</td>\n",
       "      <td>0.191525</td>\n",
       "      <td>0.199900</td>\n",
       "      <td>0.160997</td>\n",
       "    </tr>\n",
       "    <tr>\n",
       "      <td>2</td>\n",
       "      <td>2.101700</td>\n",
       "      <td>1.920544</td>\n",
       "      <td>0.272100</td>\n",
       "      <td>0.279815</td>\n",
       "      <td>0.272100</td>\n",
       "      <td>0.243458</td>\n",
       "    </tr>\n",
       "    <tr>\n",
       "      <td>3</td>\n",
       "      <td>1.980100</td>\n",
       "      <td>1.825716</td>\n",
       "      <td>0.304000</td>\n",
       "      <td>0.306483</td>\n",
       "      <td>0.304000</td>\n",
       "      <td>0.292905</td>\n",
       "    </tr>\n",
       "    <tr>\n",
       "      <td>4</td>\n",
       "      <td>1.915600</td>\n",
       "      <td>1.773887</td>\n",
       "      <td>0.331800</td>\n",
       "      <td>0.329674</td>\n",
       "      <td>0.331800</td>\n",
       "      <td>0.317815</td>\n",
       "    </tr>\n",
       "    <tr>\n",
       "      <td>5</td>\n",
       "      <td>1.871700</td>\n",
       "      <td>1.732130</td>\n",
       "      <td>0.345000</td>\n",
       "      <td>0.362109</td>\n",
       "      <td>0.345000</td>\n",
       "      <td>0.336211</td>\n",
       "    </tr>\n",
       "    <tr>\n",
       "      <td>6</td>\n",
       "      <td>1.822400</td>\n",
       "      <td>1.681978</td>\n",
       "      <td>0.366800</td>\n",
       "      <td>0.372624</td>\n",
       "      <td>0.366800</td>\n",
       "      <td>0.357031</td>\n",
       "    </tr>\n",
       "    <tr>\n",
       "      <td>7</td>\n",
       "      <td>1.783100</td>\n",
       "      <td>1.726380</td>\n",
       "      <td>0.351800</td>\n",
       "      <td>0.357473</td>\n",
       "      <td>0.351800</td>\n",
       "      <td>0.341093</td>\n",
       "    </tr>\n",
       "    <tr>\n",
       "      <td>8</td>\n",
       "      <td>1.740400</td>\n",
       "      <td>2.282531</td>\n",
       "      <td>0.276800</td>\n",
       "      <td>0.327437</td>\n",
       "      <td>0.276800</td>\n",
       "      <td>0.247815</td>\n",
       "    </tr>\n",
       "    <tr>\n",
       "      <td>9</td>\n",
       "      <td>1.720700</td>\n",
       "      <td>1.607467</td>\n",
       "      <td>0.402300</td>\n",
       "      <td>0.418300</td>\n",
       "      <td>0.402300</td>\n",
       "      <td>0.383987</td>\n",
       "    </tr>\n",
       "    <tr>\n",
       "      <td>10</td>\n",
       "      <td>1.696300</td>\n",
       "      <td>1.560524</td>\n",
       "      <td>0.417400</td>\n",
       "      <td>0.425994</td>\n",
       "      <td>0.417400</td>\n",
       "      <td>0.413825</td>\n",
       "    </tr>\n",
       "    <tr>\n",
       "      <td>11</td>\n",
       "      <td>1.671900</td>\n",
       "      <td>1.677282</td>\n",
       "      <td>0.401000</td>\n",
       "      <td>0.417428</td>\n",
       "      <td>0.401000</td>\n",
       "      <td>0.383619</td>\n",
       "    </tr>\n",
       "    <tr>\n",
       "      <td>12</td>\n",
       "      <td>1.645800</td>\n",
       "      <td>1.618764</td>\n",
       "      <td>0.408200</td>\n",
       "      <td>0.434407</td>\n",
       "      <td>0.408200</td>\n",
       "      <td>0.408388</td>\n",
       "    </tr>\n",
       "    <tr>\n",
       "      <td>13</td>\n",
       "      <td>1.632700</td>\n",
       "      <td>1.579853</td>\n",
       "      <td>0.415800</td>\n",
       "      <td>0.436447</td>\n",
       "      <td>0.415800</td>\n",
       "      <td>0.418640</td>\n",
       "    </tr>\n",
       "    <tr>\n",
       "      <td>14</td>\n",
       "      <td>1.624000</td>\n",
       "      <td>1.526236</td>\n",
       "      <td>0.436000</td>\n",
       "      <td>0.445957</td>\n",
       "      <td>0.436000</td>\n",
       "      <td>0.427199</td>\n",
       "    </tr>\n",
       "    <tr>\n",
       "      <td>15</td>\n",
       "      <td>1.606900</td>\n",
       "      <td>1.696211</td>\n",
       "      <td>0.404500</td>\n",
       "      <td>0.412731</td>\n",
       "      <td>0.404500</td>\n",
       "      <td>0.381018</td>\n",
       "    </tr>\n",
       "    <tr>\n",
       "      <td>16</td>\n",
       "      <td>1.589700</td>\n",
       "      <td>1.580042</td>\n",
       "      <td>0.415000</td>\n",
       "      <td>0.432113</td>\n",
       "      <td>0.415000</td>\n",
       "      <td>0.404403</td>\n",
       "    </tr>\n",
       "    <tr>\n",
       "      <td>17</td>\n",
       "      <td>1.600200</td>\n",
       "      <td>1.472750</td>\n",
       "      <td>0.456800</td>\n",
       "      <td>0.454969</td>\n",
       "      <td>0.456800</td>\n",
       "      <td>0.446324</td>\n",
       "    </tr>\n",
       "    <tr>\n",
       "      <td>18</td>\n",
       "      <td>1.577600</td>\n",
       "      <td>1.521339</td>\n",
       "      <td>0.438700</td>\n",
       "      <td>0.447017</td>\n",
       "      <td>0.438700</td>\n",
       "      <td>0.425907</td>\n",
       "    </tr>\n",
       "    <tr>\n",
       "      <td>19</td>\n",
       "      <td>1.587900</td>\n",
       "      <td>1.725281</td>\n",
       "      <td>0.399600</td>\n",
       "      <td>0.412181</td>\n",
       "      <td>0.399600</td>\n",
       "      <td>0.374998</td>\n",
       "    </tr>\n",
       "    <tr>\n",
       "      <td>20</td>\n",
       "      <td>1.572000</td>\n",
       "      <td>1.477359</td>\n",
       "      <td>0.453300</td>\n",
       "      <td>0.455123</td>\n",
       "      <td>0.453300</td>\n",
       "      <td>0.445233</td>\n",
       "    </tr>\n",
       "  </tbody>\n",
       "</table><p>"
      ],
      "text/plain": [
       "<IPython.core.display.HTML object>"
      ]
     },
     "metadata": {},
     "output_type": "display_data"
    },
    {
     "name": "stderr",
     "output_type": "stream",
     "text": [
      "[I 2025-01-02 01:49:21,289] Trial 1 finished with value: 0.44523251373587086 and parameters: {'learning_rate': 2.6364803038431666e-06, 'per_device_train_batch_size': 32, 'weight_decay': 0.007}. Best is trial 0 with value: 0.6166393892685925.\n"
     ]
    },
    {
     "data": {
      "text/html": [
       "\n",
       "    <div>\n",
       "      \n",
       "      <progress value='3125' max='62500' style='width:300px; height:20px; vertical-align: middle;'></progress>\n",
       "      [ 3125/62500 03:16 < 1:02:19, 15.88 it/s, Epoch 1/20]\n",
       "    </div>\n",
       "    <table border=\"1\" class=\"dataframe\">\n",
       "  <thead>\n",
       " <tr style=\"text-align: left;\">\n",
       "      <th>Epoch</th>\n",
       "      <th>Training Loss</th>\n",
       "      <th>Validation Loss</th>\n",
       "      <th>Accuracy</th>\n",
       "      <th>Precision</th>\n",
       "      <th>Recall</th>\n",
       "      <th>F1</th>\n",
       "    </tr>\n",
       "  </thead>\n",
       "  <tbody>\n",
       "    <tr>\n",
       "      <td>1</td>\n",
       "      <td>2.395300</td>\n",
       "      <td>2.261401</td>\n",
       "      <td>0.166100</td>\n",
       "      <td>0.170477</td>\n",
       "      <td>0.166100</td>\n",
       "      <td>0.117911</td>\n",
       "    </tr>\n",
       "  </tbody>\n",
       "</table><p>"
      ],
      "text/plain": [
       "<IPython.core.display.HTML object>"
      ]
     },
     "metadata": {},
     "output_type": "display_data"
    },
    {
     "name": "stderr",
     "output_type": "stream",
     "text": [
      "/usr/local/lib/python3.10/dist-packages/sklearn/metrics/_classification.py:1531: UndefinedMetricWarning: Precision is ill-defined and being set to 0.0 in labels with no predicted samples. Use `zero_division` parameter to control this behavior.\n",
      "  _warn_prf(average, modifier, f\"{metric.capitalize()} is\", len(result))\n",
      "[I 2025-01-02 01:52:38,380] Trial 2 pruned. \n"
     ]
    },
    {
     "data": {
      "text/html": [
       "\n",
       "    <div>\n",
       "      \n",
       "      <progress value='20319' max='31260' style='width:300px; height:20px; vertical-align: middle;'></progress>\n",
       "      [20319/31260 39:52 < 21:28, 8.49 it/s, Epoch 13/20]\n",
       "    </div>\n",
       "    <table border=\"1\" class=\"dataframe\">\n",
       "  <thead>\n",
       " <tr style=\"text-align: left;\">\n",
       "      <th>Epoch</th>\n",
       "      <th>Training Loss</th>\n",
       "      <th>Validation Loss</th>\n",
       "      <th>Accuracy</th>\n",
       "      <th>Precision</th>\n",
       "      <th>Recall</th>\n",
       "      <th>F1</th>\n",
       "    </tr>\n",
       "  </thead>\n",
       "  <tbody>\n",
       "    <tr>\n",
       "      <td>1</td>\n",
       "      <td>2.333900</td>\n",
       "      <td>2.119989</td>\n",
       "      <td>0.222400</td>\n",
       "      <td>0.217168</td>\n",
       "      <td>0.222400</td>\n",
       "      <td>0.188756</td>\n",
       "    </tr>\n",
       "    <tr>\n",
       "      <td>2</td>\n",
       "      <td>2.035400</td>\n",
       "      <td>1.868605</td>\n",
       "      <td>0.292900</td>\n",
       "      <td>0.296512</td>\n",
       "      <td>0.292900</td>\n",
       "      <td>0.276800</td>\n",
       "    </tr>\n",
       "    <tr>\n",
       "      <td>3</td>\n",
       "      <td>1.930300</td>\n",
       "      <td>1.785219</td>\n",
       "      <td>0.323000</td>\n",
       "      <td>0.329949</td>\n",
       "      <td>0.323000</td>\n",
       "      <td>0.309395</td>\n",
       "    </tr>\n",
       "    <tr>\n",
       "      <td>4</td>\n",
       "      <td>1.868700</td>\n",
       "      <td>1.713480</td>\n",
       "      <td>0.352800</td>\n",
       "      <td>0.358296</td>\n",
       "      <td>0.352800</td>\n",
       "      <td>0.341369</td>\n",
       "    </tr>\n",
       "    <tr>\n",
       "      <td>5</td>\n",
       "      <td>1.817200</td>\n",
       "      <td>1.713547</td>\n",
       "      <td>0.360600</td>\n",
       "      <td>0.383036</td>\n",
       "      <td>0.360600</td>\n",
       "      <td>0.352160</td>\n",
       "    </tr>\n",
       "    <tr>\n",
       "      <td>6</td>\n",
       "      <td>1.766100</td>\n",
       "      <td>1.621587</td>\n",
       "      <td>0.386800</td>\n",
       "      <td>0.390573</td>\n",
       "      <td>0.386800</td>\n",
       "      <td>0.374108</td>\n",
       "    </tr>\n",
       "    <tr>\n",
       "      <td>7</td>\n",
       "      <td>1.723100</td>\n",
       "      <td>1.703216</td>\n",
       "      <td>0.378000</td>\n",
       "      <td>0.392654</td>\n",
       "      <td>0.378000</td>\n",
       "      <td>0.367826</td>\n",
       "    </tr>\n",
       "    <tr>\n",
       "      <td>8</td>\n",
       "      <td>1.680900</td>\n",
       "      <td>2.144433</td>\n",
       "      <td>0.302300</td>\n",
       "      <td>0.350604</td>\n",
       "      <td>0.302300</td>\n",
       "      <td>0.270876</td>\n",
       "    </tr>\n",
       "    <tr>\n",
       "      <td>9</td>\n",
       "      <td>1.652900</td>\n",
       "      <td>1.565638</td>\n",
       "      <td>0.421300</td>\n",
       "      <td>0.442707</td>\n",
       "      <td>0.421300</td>\n",
       "      <td>0.401052</td>\n",
       "    </tr>\n",
       "    <tr>\n",
       "      <td>10</td>\n",
       "      <td>1.629000</td>\n",
       "      <td>1.499206</td>\n",
       "      <td>0.444300</td>\n",
       "      <td>0.452705</td>\n",
       "      <td>0.444300</td>\n",
       "      <td>0.441679</td>\n",
       "    </tr>\n",
       "    <tr>\n",
       "      <td>11</td>\n",
       "      <td>1.607200</td>\n",
       "      <td>1.611948</td>\n",
       "      <td>0.424100</td>\n",
       "      <td>0.443918</td>\n",
       "      <td>0.424100</td>\n",
       "      <td>0.405355</td>\n",
       "    </tr>\n",
       "    <tr>\n",
       "      <td>12</td>\n",
       "      <td>1.587600</td>\n",
       "      <td>1.549385</td>\n",
       "      <td>0.430000</td>\n",
       "      <td>0.457918</td>\n",
       "      <td>0.430000</td>\n",
       "      <td>0.432346</td>\n",
       "    </tr>\n",
       "    <tr>\n",
       "      <td>13</td>\n",
       "      <td>1.566200</td>\n",
       "      <td>1.558402</td>\n",
       "      <td>0.428100</td>\n",
       "      <td>0.460143</td>\n",
       "      <td>0.428100</td>\n",
       "      <td>0.433859</td>\n",
       "    </tr>\n",
       "  </tbody>\n",
       "</table><p>"
      ],
      "text/plain": [
       "<IPython.core.display.HTML object>"
      ]
     },
     "metadata": {},
     "output_type": "display_data"
    },
    {
     "name": "stderr",
     "output_type": "stream",
     "text": [
      "[I 2025-01-02 02:32:31,646] Trial 3 finished with value: 0.4338594876433339 and parameters: {'learning_rate': 3.1261029103110603e-06, 'per_device_train_batch_size': 32, 'weight_decay': 0.003}. Best is trial 0 with value: 0.6166393892685925.\n"
     ]
    },
    {
     "data": {
      "text/html": [
       "\n",
       "    <div>\n",
       "      \n",
       "      <progress value='10166' max='15640' style='width:300px; height:20px; vertical-align: middle;'></progress>\n",
       "      [10166/15640 39:46 < 21:25, 4.26 it/s, Epoch 13/20]\n",
       "    </div>\n",
       "    <table border=\"1\" class=\"dataframe\">\n",
       "  <thead>\n",
       " <tr style=\"text-align: left;\">\n",
       "      <th>Epoch</th>\n",
       "      <th>Training Loss</th>\n",
       "      <th>Validation Loss</th>\n",
       "      <th>Accuracy</th>\n",
       "      <th>Precision</th>\n",
       "      <th>Recall</th>\n",
       "      <th>F1</th>\n",
       "    </tr>\n",
       "  </thead>\n",
       "  <tbody>\n",
       "    <tr>\n",
       "      <td>1</td>\n",
       "      <td>2.008400</td>\n",
       "      <td>1.504491</td>\n",
       "      <td>0.446800</td>\n",
       "      <td>0.468078</td>\n",
       "      <td>0.446800</td>\n",
       "      <td>0.437246</td>\n",
       "    </tr>\n",
       "    <tr>\n",
       "      <td>2</td>\n",
       "      <td>1.380200</td>\n",
       "      <td>1.259138</td>\n",
       "      <td>0.552300</td>\n",
       "      <td>0.584425</td>\n",
       "      <td>0.552300</td>\n",
       "      <td>0.555834</td>\n",
       "    </tr>\n",
       "    <tr>\n",
       "      <td>3</td>\n",
       "      <td>1.189200</td>\n",
       "      <td>1.074039</td>\n",
       "      <td>0.620400</td>\n",
       "      <td>0.634809</td>\n",
       "      <td>0.620400</td>\n",
       "      <td>0.617809</td>\n",
       "    </tr>\n",
       "    <tr>\n",
       "      <td>4</td>\n",
       "      <td>0.947300</td>\n",
       "      <td>1.004617</td>\n",
       "      <td>0.663700</td>\n",
       "      <td>0.671333</td>\n",
       "      <td>0.663700</td>\n",
       "      <td>0.656792</td>\n",
       "    </tr>\n",
       "    <tr>\n",
       "      <td>5</td>\n",
       "      <td>0.833600</td>\n",
       "      <td>1.035498</td>\n",
       "      <td>0.647500</td>\n",
       "      <td>0.707577</td>\n",
       "      <td>0.647500</td>\n",
       "      <td>0.658204</td>\n",
       "    </tr>\n",
       "    <tr>\n",
       "      <td>6</td>\n",
       "      <td>0.694900</td>\n",
       "      <td>0.976839</td>\n",
       "      <td>0.688900</td>\n",
       "      <td>0.707067</td>\n",
       "      <td>0.688900</td>\n",
       "      <td>0.678144</td>\n",
       "    </tr>\n",
       "    <tr>\n",
       "      <td>7</td>\n",
       "      <td>0.637800</td>\n",
       "      <td>1.067553</td>\n",
       "      <td>0.673900</td>\n",
       "      <td>0.705155</td>\n",
       "      <td>0.673900</td>\n",
       "      <td>0.665933</td>\n",
       "    </tr>\n",
       "    <tr>\n",
       "      <td>8</td>\n",
       "      <td>0.507600</td>\n",
       "      <td>1.385730</td>\n",
       "      <td>0.630700</td>\n",
       "      <td>0.676386</td>\n",
       "      <td>0.630700</td>\n",
       "      <td>0.619246</td>\n",
       "    </tr>\n",
       "    <tr>\n",
       "      <td>9</td>\n",
       "      <td>0.431200</td>\n",
       "      <td>0.978333</td>\n",
       "      <td>0.707800</td>\n",
       "      <td>0.747607</td>\n",
       "      <td>0.707800</td>\n",
       "      <td>0.704496</td>\n",
       "    </tr>\n",
       "    <tr>\n",
       "      <td>10</td>\n",
       "      <td>0.360300</td>\n",
       "      <td>0.855144</td>\n",
       "      <td>0.735800</td>\n",
       "      <td>0.752542</td>\n",
       "      <td>0.735800</td>\n",
       "      <td>0.738398</td>\n",
       "    </tr>\n",
       "    <tr>\n",
       "      <td>11</td>\n",
       "      <td>0.292400</td>\n",
       "      <td>0.938092</td>\n",
       "      <td>0.723000</td>\n",
       "      <td>0.738511</td>\n",
       "      <td>0.723000</td>\n",
       "      <td>0.719782</td>\n",
       "    </tr>\n",
       "    <tr>\n",
       "      <td>12</td>\n",
       "      <td>0.247000</td>\n",
       "      <td>0.905681</td>\n",
       "      <td>0.733800</td>\n",
       "      <td>0.749598</td>\n",
       "      <td>0.733800</td>\n",
       "      <td>0.737070</td>\n",
       "    </tr>\n",
       "    <tr>\n",
       "      <td>13</td>\n",
       "      <td>0.186500</td>\n",
       "      <td>1.142693</td>\n",
       "      <td>0.707300</td>\n",
       "      <td>0.736782</td>\n",
       "      <td>0.707300</td>\n",
       "      <td>0.705161</td>\n",
       "    </tr>\n",
       "  </tbody>\n",
       "</table><p>"
      ],
      "text/plain": [
       "<IPython.core.display.HTML object>"
      ]
     },
     "metadata": {},
     "output_type": "display_data"
    },
    {
     "name": "stderr",
     "output_type": "stream",
     "text": [
      "[I 2025-01-02 03:12:18,564] Trial 4 finished with value: 0.7051612455436723 and parameters: {'learning_rate': 4.480975918214949e-05, 'per_device_train_batch_size': 64, 'weight_decay': 0.005}. Best is trial 4 with value: 0.7051612455436723.\n"
     ]
    },
    {
     "data": {
      "text/html": [
       "\n",
       "    <div>\n",
       "      \n",
       "      <progress value='11730' max='15640' style='width:300px; height:20px; vertical-align: middle;'></progress>\n",
       "      [11730/15640 43:58 < 14:39, 4.44 it/s, Epoch 15/20]\n",
       "    </div>\n",
       "    <table border=\"1\" class=\"dataframe\">\n",
       "  <thead>\n",
       " <tr style=\"text-align: left;\">\n",
       "      <th>Epoch</th>\n",
       "      <th>Training Loss</th>\n",
       "      <th>Validation Loss</th>\n",
       "      <th>Accuracy</th>\n",
       "      <th>Precision</th>\n",
       "      <th>Recall</th>\n",
       "      <th>F1</th>\n",
       "    </tr>\n",
       "  </thead>\n",
       "  <tbody>\n",
       "    <tr>\n",
       "      <td>1</td>\n",
       "      <td>1.767400</td>\n",
       "      <td>1.187583</td>\n",
       "      <td>0.574400</td>\n",
       "      <td>0.587323</td>\n",
       "      <td>0.574400</td>\n",
       "      <td>0.566282</td>\n",
       "    </tr>\n",
       "    <tr>\n",
       "      <td>2</td>\n",
       "      <td>0.955300</td>\n",
       "      <td>0.897048</td>\n",
       "      <td>0.690200</td>\n",
       "      <td>0.724477</td>\n",
       "      <td>0.690200</td>\n",
       "      <td>0.693114</td>\n",
       "    </tr>\n",
       "    <tr>\n",
       "      <td>3</td>\n",
       "      <td>0.755900</td>\n",
       "      <td>0.683947</td>\n",
       "      <td>0.762000</td>\n",
       "      <td>0.774543</td>\n",
       "      <td>0.762000</td>\n",
       "      <td>0.761134</td>\n",
       "    </tr>\n",
       "    <tr>\n",
       "      <td>4</td>\n",
       "      <td>0.555100</td>\n",
       "      <td>0.645303</td>\n",
       "      <td>0.786800</td>\n",
       "      <td>0.787565</td>\n",
       "      <td>0.786800</td>\n",
       "      <td>0.782396</td>\n",
       "    </tr>\n",
       "    <tr>\n",
       "      <td>5</td>\n",
       "      <td>0.462800</td>\n",
       "      <td>0.728655</td>\n",
       "      <td>0.766200</td>\n",
       "      <td>0.803764</td>\n",
       "      <td>0.766200</td>\n",
       "      <td>0.773938</td>\n",
       "    </tr>\n",
       "    <tr>\n",
       "      <td>6</td>\n",
       "      <td>0.338300</td>\n",
       "      <td>0.675208</td>\n",
       "      <td>0.793300</td>\n",
       "      <td>0.815355</td>\n",
       "      <td>0.793300</td>\n",
       "      <td>0.787776</td>\n",
       "    </tr>\n",
       "    <tr>\n",
       "      <td>7</td>\n",
       "      <td>0.291000</td>\n",
       "      <td>0.853146</td>\n",
       "      <td>0.771400</td>\n",
       "      <td>0.796303</td>\n",
       "      <td>0.771400</td>\n",
       "      <td>0.767210</td>\n",
       "    </tr>\n",
       "    <tr>\n",
       "      <td>8</td>\n",
       "      <td>0.186500</td>\n",
       "      <td>1.035169</td>\n",
       "      <td>0.750200</td>\n",
       "      <td>0.770742</td>\n",
       "      <td>0.750200</td>\n",
       "      <td>0.736520</td>\n",
       "    </tr>\n",
       "    <tr>\n",
       "      <td>9</td>\n",
       "      <td>0.142100</td>\n",
       "      <td>0.839619</td>\n",
       "      <td>0.790900</td>\n",
       "      <td>0.822381</td>\n",
       "      <td>0.790900</td>\n",
       "      <td>0.789790</td>\n",
       "    </tr>\n",
       "    <tr>\n",
       "      <td>10</td>\n",
       "      <td>0.100100</td>\n",
       "      <td>0.679991</td>\n",
       "      <td>0.819500</td>\n",
       "      <td>0.825433</td>\n",
       "      <td>0.819500</td>\n",
       "      <td>0.820145</td>\n",
       "    </tr>\n",
       "    <tr>\n",
       "      <td>11</td>\n",
       "      <td>0.074300</td>\n",
       "      <td>0.818900</td>\n",
       "      <td>0.810600</td>\n",
       "      <td>0.831578</td>\n",
       "      <td>0.810600</td>\n",
       "      <td>0.811112</td>\n",
       "    </tr>\n",
       "    <tr>\n",
       "      <td>12</td>\n",
       "      <td>0.056800</td>\n",
       "      <td>0.735966</td>\n",
       "      <td>0.829300</td>\n",
       "      <td>0.836103</td>\n",
       "      <td>0.829300</td>\n",
       "      <td>0.830137</td>\n",
       "    </tr>\n",
       "    <tr>\n",
       "      <td>13</td>\n",
       "      <td>0.040900</td>\n",
       "      <td>0.843698</td>\n",
       "      <td>0.818300</td>\n",
       "      <td>0.825833</td>\n",
       "      <td>0.818300</td>\n",
       "      <td>0.816115</td>\n",
       "    </tr>\n",
       "    <tr>\n",
       "      <td>14</td>\n",
       "      <td>0.032200</td>\n",
       "      <td>0.906656</td>\n",
       "      <td>0.817400</td>\n",
       "      <td>0.832141</td>\n",
       "      <td>0.817400</td>\n",
       "      <td>0.817969</td>\n",
       "    </tr>\n",
       "    <tr>\n",
       "      <td>15</td>\n",
       "      <td>0.019900</td>\n",
       "      <td>1.071747</td>\n",
       "      <td>0.788700</td>\n",
       "      <td>0.807839</td>\n",
       "      <td>0.788700</td>\n",
       "      <td>0.786550</td>\n",
       "    </tr>\n",
       "  </tbody>\n",
       "</table><p>"
      ],
      "text/plain": [
       "<IPython.core.display.HTML object>"
      ]
     },
     "metadata": {},
     "output_type": "display_data"
    },
    {
     "name": "stderr",
     "output_type": "stream",
     "text": [
      "[I 2025-01-02 03:56:17,622] Trial 5 finished with value: 0.7865497806697535 and parameters: {'learning_rate': 0.00013157287601765647, 'per_device_train_batch_size': 64, 'weight_decay': 0.0}. Best is trial 5 with value: 0.7865497806697535.\n"
     ]
    },
    {
     "data": {
      "text/html": [
       "\n",
       "    <div>\n",
       "      \n",
       "      <progress value='782' max='15640' style='width:300px; height:20px; vertical-align: middle;'></progress>\n",
       "      [  782/15640 02:55 < 55:35, 4.45 it/s, Epoch 1/20]\n",
       "    </div>\n",
       "    <table border=\"1\" class=\"dataframe\">\n",
       "  <thead>\n",
       " <tr style=\"text-align: left;\">\n",
       "      <th>Epoch</th>\n",
       "      <th>Training Loss</th>\n",
       "      <th>Validation Loss</th>\n",
       "      <th>Accuracy</th>\n",
       "      <th>Precision</th>\n",
       "      <th>Recall</th>\n",
       "      <th>F1</th>\n",
       "    </tr>\n",
       "  </thead>\n",
       "  <tbody>\n",
       "    <tr>\n",
       "      <td>1</td>\n",
       "      <td>2.007000</td>\n",
       "      <td>1.587795</td>\n",
       "      <td>0.422300</td>\n",
       "      <td>0.451711</td>\n",
       "      <td>0.422300</td>\n",
       "      <td>0.399987</td>\n",
       "    </tr>\n",
       "  </tbody>\n",
       "</table><p>"
      ],
      "text/plain": [
       "<IPython.core.display.HTML object>"
      ]
     },
     "metadata": {},
     "output_type": "display_data"
    },
    {
     "name": "stderr",
     "output_type": "stream",
     "text": [
      "[I 2025-01-02 03:59:13,300] Trial 6 pruned. \n"
     ]
    },
    {
     "data": {
      "text/html": [
       "\n",
       "    <div>\n",
       "      \n",
       "      <progress value='1564' max='15640' style='width:300px; height:20px; vertical-align: middle;'></progress>\n",
       "      [ 1564/15640 06:06 < 55:03, 4.26 it/s, Epoch 2/20]\n",
       "    </div>\n",
       "    <table border=\"1\" class=\"dataframe\">\n",
       "  <thead>\n",
       " <tr style=\"text-align: left;\">\n",
       "      <th>Epoch</th>\n",
       "      <th>Training Loss</th>\n",
       "      <th>Validation Loss</th>\n",
       "      <th>Accuracy</th>\n",
       "      <th>Precision</th>\n",
       "      <th>Recall</th>\n",
       "      <th>F1</th>\n",
       "    </tr>\n",
       "  </thead>\n",
       "  <tbody>\n",
       "    <tr>\n",
       "      <td>1</td>\n",
       "      <td>1.735800</td>\n",
       "      <td>1.168352</td>\n",
       "      <td>0.585100</td>\n",
       "      <td>0.617776</td>\n",
       "      <td>0.585100</td>\n",
       "      <td>0.577250</td>\n",
       "    </tr>\n",
       "    <tr>\n",
       "      <td>2</td>\n",
       "      <td>0.934600</td>\n",
       "      <td>0.935845</td>\n",
       "      <td>0.678100</td>\n",
       "      <td>0.730667</td>\n",
       "      <td>0.678100</td>\n",
       "      <td>0.681333</td>\n",
       "    </tr>\n",
       "  </tbody>\n",
       "</table><p>"
      ],
      "text/plain": [
       "<IPython.core.display.HTML object>"
      ]
     },
     "metadata": {},
     "output_type": "display_data"
    },
    {
     "name": "stderr",
     "output_type": "stream",
     "text": [
      "[I 2025-01-02 04:05:20,539] Trial 7 pruned. \n"
     ]
    },
    {
     "data": {
      "text/html": [
       "\n",
       "    <div>\n",
       "      \n",
       "      <progress value='782' max='15640' style='width:300px; height:20px; vertical-align: middle;'></progress>\n",
       "      [  782/15640 03:02 < 58:01, 4.27 it/s, Epoch 1/20]\n",
       "    </div>\n",
       "    <table border=\"1\" class=\"dataframe\">\n",
       "  <thead>\n",
       " <tr style=\"text-align: left;\">\n",
       "      <th>Epoch</th>\n",
       "      <th>Training Loss</th>\n",
       "      <th>Validation Loss</th>\n",
       "      <th>Accuracy</th>\n",
       "      <th>Precision</th>\n",
       "      <th>Recall</th>\n",
       "      <th>F1</th>\n",
       "    </tr>\n",
       "  </thead>\n",
       "  <tbody>\n",
       "    <tr>\n",
       "      <td>1</td>\n",
       "      <td>2.451000</td>\n",
       "      <td>2.249390</td>\n",
       "      <td>0.172300</td>\n",
       "      <td>0.137835</td>\n",
       "      <td>0.172300</td>\n",
       "      <td>0.121726</td>\n",
       "    </tr>\n",
       "  </tbody>\n",
       "</table><p>"
      ],
      "text/plain": [
       "<IPython.core.display.HTML object>"
      ]
     },
     "metadata": {},
     "output_type": "display_data"
    },
    {
     "name": "stderr",
     "output_type": "stream",
     "text": [
      "[I 2025-01-02 04:08:23,907] Trial 8 pruned. \n"
     ]
    },
    {
     "data": {
      "text/html": [
       "\n",
       "    <div>\n",
       "      \n",
       "      <progress value='10166' max='15640' style='width:300px; height:20px; vertical-align: middle;'></progress>\n",
       "      [10166/15640 39:44 < 21:24, 4.26 it/s, Epoch 13/20]\n",
       "    </div>\n",
       "    <table border=\"1\" class=\"dataframe\">\n",
       "  <thead>\n",
       " <tr style=\"text-align: left;\">\n",
       "      <th>Epoch</th>\n",
       "      <th>Training Loss</th>\n",
       "      <th>Validation Loss</th>\n",
       "      <th>Accuracy</th>\n",
       "      <th>Precision</th>\n",
       "      <th>Recall</th>\n",
       "      <th>F1</th>\n",
       "    </tr>\n",
       "  </thead>\n",
       "  <tbody>\n",
       "    <tr>\n",
       "      <td>1</td>\n",
       "      <td>1.933400</td>\n",
       "      <td>1.562255</td>\n",
       "      <td>0.444900</td>\n",
       "      <td>0.456515</td>\n",
       "      <td>0.444900</td>\n",
       "      <td>0.429148</td>\n",
       "    </tr>\n",
       "    <tr>\n",
       "      <td>2</td>\n",
       "      <td>1.269700</td>\n",
       "      <td>1.142043</td>\n",
       "      <td>0.593600</td>\n",
       "      <td>0.625074</td>\n",
       "      <td>0.593600</td>\n",
       "      <td>0.596526</td>\n",
       "    </tr>\n",
       "    <tr>\n",
       "      <td>3</td>\n",
       "      <td>1.074500</td>\n",
       "      <td>0.925571</td>\n",
       "      <td>0.677700</td>\n",
       "      <td>0.677464</td>\n",
       "      <td>0.677700</td>\n",
       "      <td>0.671984</td>\n",
       "    </tr>\n",
       "    <tr>\n",
       "      <td>4</td>\n",
       "      <td>0.815000</td>\n",
       "      <td>0.886320</td>\n",
       "      <td>0.710000</td>\n",
       "      <td>0.712231</td>\n",
       "      <td>0.710000</td>\n",
       "      <td>0.703260</td>\n",
       "    </tr>\n",
       "    <tr>\n",
       "      <td>5</td>\n",
       "      <td>0.702100</td>\n",
       "      <td>0.873201</td>\n",
       "      <td>0.700600</td>\n",
       "      <td>0.748855</td>\n",
       "      <td>0.700600</td>\n",
       "      <td>0.708819</td>\n",
       "    </tr>\n",
       "    <tr>\n",
       "      <td>6</td>\n",
       "      <td>0.539000</td>\n",
       "      <td>0.803430</td>\n",
       "      <td>0.736900</td>\n",
       "      <td>0.747884</td>\n",
       "      <td>0.736900</td>\n",
       "      <td>0.729680</td>\n",
       "    </tr>\n",
       "    <tr>\n",
       "      <td>7</td>\n",
       "      <td>0.477100</td>\n",
       "      <td>1.062685</td>\n",
       "      <td>0.694800</td>\n",
       "      <td>0.734492</td>\n",
       "      <td>0.694800</td>\n",
       "      <td>0.686168</td>\n",
       "    </tr>\n",
       "    <tr>\n",
       "      <td>8</td>\n",
       "      <td>0.342300</td>\n",
       "      <td>1.435754</td>\n",
       "      <td>0.644900</td>\n",
       "      <td>0.689787</td>\n",
       "      <td>0.644900</td>\n",
       "      <td>0.621531</td>\n",
       "    </tr>\n",
       "    <tr>\n",
       "      <td>9</td>\n",
       "      <td>0.270500</td>\n",
       "      <td>0.893126</td>\n",
       "      <td>0.743000</td>\n",
       "      <td>0.772763</td>\n",
       "      <td>0.743000</td>\n",
       "      <td>0.739122</td>\n",
       "    </tr>\n",
       "    <tr>\n",
       "      <td>10</td>\n",
       "      <td>0.206400</td>\n",
       "      <td>0.838018</td>\n",
       "      <td>0.764300</td>\n",
       "      <td>0.787154</td>\n",
       "      <td>0.764300</td>\n",
       "      <td>0.768363</td>\n",
       "    </tr>\n",
       "    <tr>\n",
       "      <td>11</td>\n",
       "      <td>0.151700</td>\n",
       "      <td>0.876023</td>\n",
       "      <td>0.765300</td>\n",
       "      <td>0.777680</td>\n",
       "      <td>0.765300</td>\n",
       "      <td>0.761745</td>\n",
       "    </tr>\n",
       "    <tr>\n",
       "      <td>12</td>\n",
       "      <td>0.116900</td>\n",
       "      <td>0.891462</td>\n",
       "      <td>0.766400</td>\n",
       "      <td>0.781373</td>\n",
       "      <td>0.766400</td>\n",
       "      <td>0.767838</td>\n",
       "    </tr>\n",
       "    <tr>\n",
       "      <td>13</td>\n",
       "      <td>0.084900</td>\n",
       "      <td>1.022743</td>\n",
       "      <td>0.758700</td>\n",
       "      <td>0.781759</td>\n",
       "      <td>0.758700</td>\n",
       "      <td>0.757150</td>\n",
       "    </tr>\n",
       "  </tbody>\n",
       "</table><p>"
      ],
      "text/plain": [
       "<IPython.core.display.HTML object>"
      ]
     },
     "metadata": {},
     "output_type": "display_data"
    },
    {
     "name": "stderr",
     "output_type": "stream",
     "text": [
      "[I 2025-01-02 04:48:09,440] Trial 9 finished with value: 0.7571503808239928 and parameters: {'learning_rate': 6.139426050898147e-05, 'per_device_train_batch_size': 64, 'weight_decay': 0.002}. Best is trial 5 with value: 0.7865497806697535.\n"
     ]
    },
    {
     "data": {
      "text/html": [
       "\n",
       "    <div>\n",
       "      \n",
       "      <progress value='3125' max='62500' style='width:300px; height:20px; vertical-align: middle;'></progress>\n",
       "      [ 3125/62500 03:16 < 1:02:10, 15.92 it/s, Epoch 1/20]\n",
       "    </div>\n",
       "    <table border=\"1\" class=\"dataframe\">\n",
       "  <thead>\n",
       " <tr style=\"text-align: left;\">\n",
       "      <th>Epoch</th>\n",
       "      <th>Training Loss</th>\n",
       "      <th>Validation Loss</th>\n",
       "      <th>Accuracy</th>\n",
       "      <th>Precision</th>\n",
       "      <th>Recall</th>\n",
       "      <th>F1</th>\n",
       "    </tr>\n",
       "  </thead>\n",
       "  <tbody>\n",
       "    <tr>\n",
       "      <td>1</td>\n",
       "      <td>1.413700</td>\n",
       "      <td>1.248540</td>\n",
       "      <td>0.547000</td>\n",
       "      <td>0.568961</td>\n",
       "      <td>0.547000</td>\n",
       "      <td>0.535213</td>\n",
       "    </tr>\n",
       "  </tbody>\n",
       "</table><p>"
      ],
      "text/plain": [
       "<IPython.core.display.HTML object>"
      ]
     },
     "metadata": {},
     "output_type": "display_data"
    },
    {
     "name": "stderr",
     "output_type": "stream",
     "text": [
      "[I 2025-01-02 04:51:26,472] Trial 10 pruned. \n"
     ]
    },
    {
     "data": {
      "text/html": [
       "\n",
       "    <div>\n",
       "      \n",
       "      <progress value='782' max='15640' style='width:300px; height:20px; vertical-align: middle;'></progress>\n",
       "      [  782/15640 03:03 < 58:06, 4.26 it/s, Epoch 1/20]\n",
       "    </div>\n",
       "    <table border=\"1\" class=\"dataframe\">\n",
       "  <thead>\n",
       " <tr style=\"text-align: left;\">\n",
       "      <th>Epoch</th>\n",
       "      <th>Training Loss</th>\n",
       "      <th>Validation Loss</th>\n",
       "      <th>Accuracy</th>\n",
       "      <th>Precision</th>\n",
       "      <th>Recall</th>\n",
       "      <th>F1</th>\n",
       "    </tr>\n",
       "  </thead>\n",
       "  <tbody>\n",
       "    <tr>\n",
       "      <td>1</td>\n",
       "      <td>1.971000</td>\n",
       "      <td>1.530671</td>\n",
       "      <td>0.449400</td>\n",
       "      <td>0.471789</td>\n",
       "      <td>0.449400</td>\n",
       "      <td>0.428965</td>\n",
       "    </tr>\n",
       "  </tbody>\n",
       "</table><p>"
      ],
      "text/plain": [
       "<IPython.core.display.HTML object>"
      ]
     },
     "metadata": {},
     "output_type": "display_data"
    },
    {
     "name": "stderr",
     "output_type": "stream",
     "text": [
      "[I 2025-01-02 04:54:30,037] Trial 11 pruned. \n"
     ]
    },
    {
     "data": {
      "text/html": [
       "\n",
       "    <div>\n",
       "      \n",
       "      <progress value='23445' max='31260' style='width:300px; height:20px; vertical-align: middle;'></progress>\n",
       "      [23445/31260 46:13 < 15:24, 8.45 it/s, Epoch 15/20]\n",
       "    </div>\n",
       "    <table border=\"1\" class=\"dataframe\">\n",
       "  <thead>\n",
       " <tr style=\"text-align: left;\">\n",
       "      <th>Epoch</th>\n",
       "      <th>Training Loss</th>\n",
       "      <th>Validation Loss</th>\n",
       "      <th>Accuracy</th>\n",
       "      <th>Precision</th>\n",
       "      <th>Recall</th>\n",
       "      <th>F1</th>\n",
       "    </tr>\n",
       "  </thead>\n",
       "  <tbody>\n",
       "    <tr>\n",
       "      <td>1</td>\n",
       "      <td>1.191500</td>\n",
       "      <td>1.070803</td>\n",
       "      <td>0.616400</td>\n",
       "      <td>0.626575</td>\n",
       "      <td>0.616400</td>\n",
       "      <td>0.608866</td>\n",
       "    </tr>\n",
       "    <tr>\n",
       "      <td>2</td>\n",
       "      <td>0.863000</td>\n",
       "      <td>0.776705</td>\n",
       "      <td>0.727200</td>\n",
       "      <td>0.743918</td>\n",
       "      <td>0.727200</td>\n",
       "      <td>0.728822</td>\n",
       "    </tr>\n",
       "    <tr>\n",
       "      <td>3</td>\n",
       "      <td>0.673700</td>\n",
       "      <td>0.687962</td>\n",
       "      <td>0.765200</td>\n",
       "      <td>0.775329</td>\n",
       "      <td>0.765200</td>\n",
       "      <td>0.762128</td>\n",
       "    </tr>\n",
       "    <tr>\n",
       "      <td>4</td>\n",
       "      <td>0.542700</td>\n",
       "      <td>0.619863</td>\n",
       "      <td>0.794900</td>\n",
       "      <td>0.802723</td>\n",
       "      <td>0.794900</td>\n",
       "      <td>0.791474</td>\n",
       "    </tr>\n",
       "    <tr>\n",
       "      <td>5</td>\n",
       "      <td>0.465600</td>\n",
       "      <td>0.750789</td>\n",
       "      <td>0.763900</td>\n",
       "      <td>0.812754</td>\n",
       "      <td>0.763900</td>\n",
       "      <td>0.771767</td>\n",
       "    </tr>\n",
       "    <tr>\n",
       "      <td>6</td>\n",
       "      <td>0.380400</td>\n",
       "      <td>0.618239</td>\n",
       "      <td>0.811400</td>\n",
       "      <td>0.825079</td>\n",
       "      <td>0.811400</td>\n",
       "      <td>0.809961</td>\n",
       "    </tr>\n",
       "    <tr>\n",
       "      <td>7</td>\n",
       "      <td>0.303400</td>\n",
       "      <td>0.670298</td>\n",
       "      <td>0.810000</td>\n",
       "      <td>0.822979</td>\n",
       "      <td>0.810000</td>\n",
       "      <td>0.808273</td>\n",
       "    </tr>\n",
       "    <tr>\n",
       "      <td>8</td>\n",
       "      <td>0.238800</td>\n",
       "      <td>1.072393</td>\n",
       "      <td>0.745600</td>\n",
       "      <td>0.769450</td>\n",
       "      <td>0.745600</td>\n",
       "      <td>0.730947</td>\n",
       "    </tr>\n",
       "    <tr>\n",
       "      <td>9</td>\n",
       "      <td>0.180000</td>\n",
       "      <td>0.740629</td>\n",
       "      <td>0.813400</td>\n",
       "      <td>0.830662</td>\n",
       "      <td>0.813400</td>\n",
       "      <td>0.813216</td>\n",
       "    </tr>\n",
       "    <tr>\n",
       "      <td>10</td>\n",
       "      <td>0.141900</td>\n",
       "      <td>0.655372</td>\n",
       "      <td>0.835300</td>\n",
       "      <td>0.843014</td>\n",
       "      <td>0.835300</td>\n",
       "      <td>0.836418</td>\n",
       "    </tr>\n",
       "    <tr>\n",
       "      <td>11</td>\n",
       "      <td>0.099500</td>\n",
       "      <td>0.674063</td>\n",
       "      <td>0.840900</td>\n",
       "      <td>0.848216</td>\n",
       "      <td>0.840900</td>\n",
       "      <td>0.839990</td>\n",
       "    </tr>\n",
       "    <tr>\n",
       "      <td>12</td>\n",
       "      <td>0.081800</td>\n",
       "      <td>0.637226</td>\n",
       "      <td>0.845300</td>\n",
       "      <td>0.847608</td>\n",
       "      <td>0.845300</td>\n",
       "      <td>0.844839</td>\n",
       "    </tr>\n",
       "    <tr>\n",
       "      <td>13</td>\n",
       "      <td>0.052800</td>\n",
       "      <td>0.735781</td>\n",
       "      <td>0.836000</td>\n",
       "      <td>0.841217</td>\n",
       "      <td>0.836000</td>\n",
       "      <td>0.835371</td>\n",
       "    </tr>\n",
       "    <tr>\n",
       "      <td>14</td>\n",
       "      <td>0.036500</td>\n",
       "      <td>0.775097</td>\n",
       "      <td>0.833300</td>\n",
       "      <td>0.845717</td>\n",
       "      <td>0.833300</td>\n",
       "      <td>0.833293</td>\n",
       "    </tr>\n",
       "    <tr>\n",
       "      <td>15</td>\n",
       "      <td>0.026200</td>\n",
       "      <td>0.922917</td>\n",
       "      <td>0.820400</td>\n",
       "      <td>0.831646</td>\n",
       "      <td>0.820400</td>\n",
       "      <td>0.818455</td>\n",
       "    </tr>\n",
       "  </tbody>\n",
       "</table><p>"
      ],
      "text/plain": [
       "<IPython.core.display.HTML object>"
      ]
     },
     "metadata": {},
     "output_type": "display_data"
    },
    {
     "name": "stderr",
     "output_type": "stream",
     "text": [
      "[I 2025-01-02 05:40:43,970] Trial 12 finished with value: 0.8184546045653107 and parameters: {'learning_rate': 0.000135907004719098, 'per_device_train_batch_size': 32, 'weight_decay': 0.002}. Best is trial 12 with value: 0.8184546045653107.\n"
     ]
    },
    {
     "data": {
      "text/html": [
       "\n",
       "    <div>\n",
       "      \n",
       "      <progress value='1563' max='31260' style='width:300px; height:20px; vertical-align: middle;'></progress>\n",
       "      [ 1563/31260 03:05 < 58:43, 8.43 it/s, Epoch 1/20]\n",
       "    </div>\n",
       "    <table border=\"1\" class=\"dataframe\">\n",
       "  <thead>\n",
       " <tr style=\"text-align: left;\">\n",
       "      <th>Epoch</th>\n",
       "      <th>Training Loss</th>\n",
       "      <th>Validation Loss</th>\n",
       "      <th>Accuracy</th>\n",
       "      <th>Precision</th>\n",
       "      <th>Recall</th>\n",
       "      <th>F1</th>\n",
       "    </tr>\n",
       "  </thead>\n",
       "  <tbody>\n",
       "    <tr>\n",
       "      <td>1</td>\n",
       "      <td>1.286800</td>\n",
       "      <td>1.157032</td>\n",
       "      <td>0.583100</td>\n",
       "      <td>0.591586</td>\n",
       "      <td>0.583100</td>\n",
       "      <td>0.570268</td>\n",
       "    </tr>\n",
       "  </tbody>\n",
       "</table><p>"
      ],
      "text/plain": [
       "<IPython.core.display.HTML object>"
      ]
     },
     "metadata": {},
     "output_type": "display_data"
    },
    {
     "name": "stderr",
     "output_type": "stream",
     "text": [
      "[I 2025-01-02 05:43:49,606] Trial 13 pruned. \n"
     ]
    },
    {
     "data": {
      "text/html": [
       "\n",
       "    <div>\n",
       "      \n",
       "      <progress value='1563' max='31260' style='width:300px; height:20px; vertical-align: middle;'></progress>\n",
       "      [ 1563/31260 03:03 < 58:19, 8.48 it/s, Epoch 1/20]\n",
       "    </div>\n",
       "    <table border=\"1\" class=\"dataframe\">\n",
       "  <thead>\n",
       " <tr style=\"text-align: left;\">\n",
       "      <th>Epoch</th>\n",
       "      <th>Training Loss</th>\n",
       "      <th>Validation Loss</th>\n",
       "      <th>Accuracy</th>\n",
       "      <th>Precision</th>\n",
       "      <th>Recall</th>\n",
       "      <th>F1</th>\n",
       "    </tr>\n",
       "  </thead>\n",
       "  <tbody>\n",
       "    <tr>\n",
       "      <td>1</td>\n",
       "      <td>1.157700</td>\n",
       "      <td>1.048958</td>\n",
       "      <td>0.631300</td>\n",
       "      <td>0.635528</td>\n",
       "      <td>0.631300</td>\n",
       "      <td>0.621107</td>\n",
       "    </tr>\n",
       "  </tbody>\n",
       "</table><p>"
      ],
      "text/plain": [
       "<IPython.core.display.HTML object>"
      ]
     },
     "metadata": {},
     "output_type": "display_data"
    },
    {
     "name": "stderr",
     "output_type": "stream",
     "text": [
      "[I 2025-01-02 05:46:53,991] Trial 14 pruned. \n"
     ]
    },
    {
     "data": {
      "text/html": [
       "\n",
       "    <div>\n",
       "      \n",
       "      <progress value='782' max='15640' style='width:300px; height:20px; vertical-align: middle;'></progress>\n",
       "      [  782/15640 03:02 < 58:05, 4.26 it/s, Epoch 1/20]\n",
       "    </div>\n",
       "    <table border=\"1\" class=\"dataframe\">\n",
       "  <thead>\n",
       " <tr style=\"text-align: left;\">\n",
       "      <th>Epoch</th>\n",
       "      <th>Training Loss</th>\n",
       "      <th>Validation Loss</th>\n",
       "      <th>Accuracy</th>\n",
       "      <th>Precision</th>\n",
       "      <th>Recall</th>\n",
       "      <th>F1</th>\n",
       "    </tr>\n",
       "  </thead>\n",
       "  <tbody>\n",
       "    <tr>\n",
       "      <td>1</td>\n",
       "      <td>1.607500</td>\n",
       "      <td>1.109848</td>\n",
       "      <td>0.613200</td>\n",
       "      <td>0.619436</td>\n",
       "      <td>0.613200</td>\n",
       "      <td>0.601243</td>\n",
       "    </tr>\n",
       "  </tbody>\n",
       "</table><p>"
      ],
      "text/plain": [
       "<IPython.core.display.HTML object>"
      ]
     },
     "metadata": {},
     "output_type": "display_data"
    },
    {
     "name": "stderr",
     "output_type": "stream",
     "text": [
      "[I 2025-01-02 05:49:57,496] Trial 15 pruned. \n"
     ]
    },
    {
     "data": {
      "text/html": [
       "\n",
       "    <div>\n",
       "      \n",
       "      <progress value='1563' max='31260' style='width:300px; height:20px; vertical-align: middle;'></progress>\n",
       "      [ 1563/31260 03:04 < 58:30, 8.46 it/s, Epoch 1/20]\n",
       "    </div>\n",
       "    <table border=\"1\" class=\"dataframe\">\n",
       "  <thead>\n",
       " <tr style=\"text-align: left;\">\n",
       "      <th>Epoch</th>\n",
       "      <th>Training Loss</th>\n",
       "      <th>Validation Loss</th>\n",
       "      <th>Accuracy</th>\n",
       "      <th>Precision</th>\n",
       "      <th>Recall</th>\n",
       "      <th>F1</th>\n",
       "    </tr>\n",
       "  </thead>\n",
       "  <tbody>\n",
       "    <tr>\n",
       "      <td>1</td>\n",
       "      <td>1.660500</td>\n",
       "      <td>1.546782</td>\n",
       "      <td>0.434100</td>\n",
       "      <td>0.456560</td>\n",
       "      <td>0.434100</td>\n",
       "      <td>0.412766</td>\n",
       "    </tr>\n",
       "  </tbody>\n",
       "</table><p>"
      ],
      "text/plain": [
       "<IPython.core.display.HTML object>"
      ]
     },
     "metadata": {},
     "output_type": "display_data"
    },
    {
     "name": "stderr",
     "output_type": "stream",
     "text": [
      "[I 2025-01-02 05:53:02,528] Trial 16 pruned. \n"
     ]
    },
    {
     "data": {
      "text/html": [
       "\n",
       "    <div>\n",
       "      \n",
       "      <progress value='782' max='15640' style='width:300px; height:20px; vertical-align: middle;'></progress>\n",
       "      [  782/15640 03:01 < 57:41, 4.29 it/s, Epoch 1/20]\n",
       "    </div>\n",
       "    <table border=\"1\" class=\"dataframe\">\n",
       "  <thead>\n",
       " <tr style=\"text-align: left;\">\n",
       "      <th>Epoch</th>\n",
       "      <th>Training Loss</th>\n",
       "      <th>Validation Loss</th>\n",
       "      <th>Accuracy</th>\n",
       "      <th>Precision</th>\n",
       "      <th>Recall</th>\n",
       "      <th>F1</th>\n",
       "    </tr>\n",
       "  </thead>\n",
       "  <tbody>\n",
       "    <tr>\n",
       "      <td>1</td>\n",
       "      <td>2.447200</td>\n",
       "      <td>2.242061</td>\n",
       "      <td>0.180700</td>\n",
       "      <td>0.143483</td>\n",
       "      <td>0.180700</td>\n",
       "      <td>0.128761</td>\n",
       "    </tr>\n",
       "  </tbody>\n",
       "</table><p>"
      ],
      "text/plain": [
       "<IPython.core.display.HTML object>"
      ]
     },
     "metadata": {},
     "output_type": "display_data"
    },
    {
     "name": "stderr",
     "output_type": "stream",
     "text": [
      "[I 2025-01-02 05:56:04,832] Trial 17 pruned. \n"
     ]
    },
    {
     "data": {
      "text/html": [
       "\n",
       "    <div>\n",
       "      \n",
       "      <progress value='1563' max='31260' style='width:300px; height:20px; vertical-align: middle;'></progress>\n",
       "      [ 1563/31260 03:03 < 58:16, 8.49 it/s, Epoch 1/20]\n",
       "    </div>\n",
       "    <table border=\"1\" class=\"dataframe\">\n",
       "  <thead>\n",
       " <tr style=\"text-align: left;\">\n",
       "      <th>Epoch</th>\n",
       "      <th>Training Loss</th>\n",
       "      <th>Validation Loss</th>\n",
       "      <th>Accuracy</th>\n",
       "      <th>Precision</th>\n",
       "      <th>Recall</th>\n",
       "      <th>F1</th>\n",
       "    </tr>\n",
       "  </thead>\n",
       "  <tbody>\n",
       "    <tr>\n",
       "      <td>1</td>\n",
       "      <td>1.536200</td>\n",
       "      <td>1.409183</td>\n",
       "      <td>0.482800</td>\n",
       "      <td>0.500590</td>\n",
       "      <td>0.482800</td>\n",
       "      <td>0.466408</td>\n",
       "    </tr>\n",
       "  </tbody>\n",
       "</table><p>"
      ],
      "text/plain": [
       "<IPython.core.display.HTML object>"
      ]
     },
     "metadata": {},
     "output_type": "display_data"
    },
    {
     "name": "stderr",
     "output_type": "stream",
     "text": [
      "[I 2025-01-02 05:59:09,114] Trial 18 pruned. \n"
     ]
    },
    {
     "data": {
      "text/html": [
       "\n",
       "    <div>\n",
       "      \n",
       "      <progress value='3125' max='62500' style='width:300px; height:20px; vertical-align: middle;'></progress>\n",
       "      [ 3125/62500 03:15 < 1:01:59, 15.96 it/s, Epoch 1/20]\n",
       "    </div>\n",
       "    <table border=\"1\" class=\"dataframe\">\n",
       "  <thead>\n",
       " <tr style=\"text-align: left;\">\n",
       "      <th>Epoch</th>\n",
       "      <th>Training Loss</th>\n",
       "      <th>Validation Loss</th>\n",
       "      <th>Accuracy</th>\n",
       "      <th>Precision</th>\n",
       "      <th>Recall</th>\n",
       "      <th>F1</th>\n",
       "    </tr>\n",
       "  </thead>\n",
       "  <tbody>\n",
       "    <tr>\n",
       "      <td>1</td>\n",
       "      <td>1.213000</td>\n",
       "      <td>1.052210</td>\n",
       "      <td>0.619100</td>\n",
       "      <td>0.629933</td>\n",
       "      <td>0.619100</td>\n",
       "      <td>0.608866</td>\n",
       "    </tr>\n",
       "  </tbody>\n",
       "</table><p>"
      ],
      "text/plain": [
       "<IPython.core.display.HTML object>"
      ]
     },
     "metadata": {},
     "output_type": "display_data"
    },
    {
     "name": "stderr",
     "output_type": "stream",
     "text": [
      "[I 2025-01-02 06:02:25,142] Trial 19 pruned. \n"
     ]
    },
    {
     "data": {
      "text/html": [
       "\n",
       "    <div>\n",
       "      \n",
       "      <progress value='3125' max='62500' style='width:300px; height:20px; vertical-align: middle;'></progress>\n",
       "      [ 3125/62500 03:16 < 1:02:19, 15.88 it/s, Epoch 1/20]\n",
       "    </div>\n",
       "    <table border=\"1\" class=\"dataframe\">\n",
       "  <thead>\n",
       " <tr style=\"text-align: left;\">\n",
       "      <th>Epoch</th>\n",
       "      <th>Training Loss</th>\n",
       "      <th>Validation Loss</th>\n",
       "      <th>Accuracy</th>\n",
       "      <th>Precision</th>\n",
       "      <th>Recall</th>\n",
       "      <th>F1</th>\n",
       "    </tr>\n",
       "  </thead>\n",
       "  <tbody>\n",
       "    <tr>\n",
       "      <td>1</td>\n",
       "      <td>1.206600</td>\n",
       "      <td>1.063382</td>\n",
       "      <td>0.619800</td>\n",
       "      <td>0.637609</td>\n",
       "      <td>0.619800</td>\n",
       "      <td>0.614094</td>\n",
       "    </tr>\n",
       "  </tbody>\n",
       "</table><p>"
      ],
      "text/plain": [
       "<IPython.core.display.HTML object>"
      ]
     },
     "metadata": {},
     "output_type": "display_data"
    },
    {
     "name": "stderr",
     "output_type": "stream",
     "text": [
      "[I 2025-01-02 06:05:42,234] Trial 20 pruned. \n"
     ]
    },
    {
     "data": {
      "text/html": [
       "\n",
       "    <div>\n",
       "      \n",
       "      <progress value='782' max='15640' style='width:300px; height:20px; vertical-align: middle;'></progress>\n",
       "      [  782/15640 03:03 < 58:21, 4.24 it/s, Epoch 1/20]\n",
       "    </div>\n",
       "    <table border=\"1\" class=\"dataframe\">\n",
       "  <thead>\n",
       " <tr style=\"text-align: left;\">\n",
       "      <th>Epoch</th>\n",
       "      <th>Training Loss</th>\n",
       "      <th>Validation Loss</th>\n",
       "      <th>Accuracy</th>\n",
       "      <th>Precision</th>\n",
       "      <th>Recall</th>\n",
       "      <th>F1</th>\n",
       "    </tr>\n",
       "  </thead>\n",
       "  <tbody>\n",
       "    <tr>\n",
       "      <td>1</td>\n",
       "      <td>1.942400</td>\n",
       "      <td>1.514701</td>\n",
       "      <td>0.454100</td>\n",
       "      <td>0.475718</td>\n",
       "      <td>0.454100</td>\n",
       "      <td>0.433605</td>\n",
       "    </tr>\n",
       "  </tbody>\n",
       "</table><p>"
      ],
      "text/plain": [
       "<IPython.core.display.HTML object>"
      ]
     },
     "metadata": {},
     "output_type": "display_data"
    },
    {
     "name": "stderr",
     "output_type": "stream",
     "text": [
      "[I 2025-01-02 06:08:46,622] Trial 21 pruned. \n"
     ]
    },
    {
     "data": {
      "text/html": [
       "\n",
       "    <div>\n",
       "      \n",
       "      <progress value='1563' max='31260' style='width:300px; height:20px; vertical-align: middle;'></progress>\n",
       "      [ 1563/31260 03:02 < 58:00, 8.53 it/s, Epoch 1/20]\n",
       "    </div>\n",
       "    <table border=\"1\" class=\"dataframe\">\n",
       "  <thead>\n",
       " <tr style=\"text-align: left;\">\n",
       "      <th>Epoch</th>\n",
       "      <th>Training Loss</th>\n",
       "      <th>Validation Loss</th>\n",
       "      <th>Accuracy</th>\n",
       "      <th>Precision</th>\n",
       "      <th>Recall</th>\n",
       "      <th>F1</th>\n",
       "    </tr>\n",
       "  </thead>\n",
       "  <tbody>\n",
       "    <tr>\n",
       "      <td>1</td>\n",
       "      <td>1.461600</td>\n",
       "      <td>1.388304</td>\n",
       "      <td>0.499400</td>\n",
       "      <td>0.517712</td>\n",
       "      <td>0.499400</td>\n",
       "      <td>0.476002</td>\n",
       "    </tr>\n",
       "  </tbody>\n",
       "</table><p>"
      ],
      "text/plain": [
       "<IPython.core.display.HTML object>"
      ]
     },
     "metadata": {},
     "output_type": "display_data"
    },
    {
     "name": "stderr",
     "output_type": "stream",
     "text": [
      "[I 2025-01-02 06:11:50,027] Trial 22 pruned. \n"
     ]
    },
    {
     "data": {
      "text/html": [
       "\n",
       "    <div>\n",
       "      \n",
       "      <progress value='3125' max='62500' style='width:300px; height:20px; vertical-align: middle;'></progress>\n",
       "      [ 3125/62500 03:16 < 1:02:07, 15.93 it/s, Epoch 1/20]\n",
       "    </div>\n",
       "    <table border=\"1\" class=\"dataframe\">\n",
       "  <thead>\n",
       " <tr style=\"text-align: left;\">\n",
       "      <th>Epoch</th>\n",
       "      <th>Training Loss</th>\n",
       "      <th>Validation Loss</th>\n",
       "      <th>Accuracy</th>\n",
       "      <th>Precision</th>\n",
       "      <th>Recall</th>\n",
       "      <th>F1</th>\n",
       "    </tr>\n",
       "  </thead>\n",
       "  <tbody>\n",
       "    <tr>\n",
       "      <td>1</td>\n",
       "      <td>1.833800</td>\n",
       "      <td>1.752831</td>\n",
       "      <td>0.364400</td>\n",
       "      <td>0.374820</td>\n",
       "      <td>0.364400</td>\n",
       "      <td>0.338871</td>\n",
       "    </tr>\n",
       "  </tbody>\n",
       "</table><p>"
      ],
      "text/plain": [
       "<IPython.core.display.HTML object>"
      ]
     },
     "metadata": {},
     "output_type": "display_data"
    },
    {
     "name": "stderr",
     "output_type": "stream",
     "text": [
      "[I 2025-01-02 06:15:06,442] Trial 23 pruned. \n"
     ]
    },
    {
     "data": {
      "text/html": [
       "\n",
       "    <div>\n",
       "      \n",
       "      <progress value='3125' max='62500' style='width:300px; height:20px; vertical-align: middle;'></progress>\n",
       "      [ 3125/62500 03:16 < 1:02:17, 15.89 it/s, Epoch 1/20]\n",
       "    </div>\n",
       "    <table border=\"1\" class=\"dataframe\">\n",
       "  <thead>\n",
       " <tr style=\"text-align: left;\">\n",
       "      <th>Epoch</th>\n",
       "      <th>Training Loss</th>\n",
       "      <th>Validation Loss</th>\n",
       "      <th>Accuracy</th>\n",
       "      <th>Precision</th>\n",
       "      <th>Recall</th>\n",
       "      <th>F1</th>\n",
       "    </tr>\n",
       "  </thead>\n",
       "  <tbody>\n",
       "    <tr>\n",
       "      <td>1</td>\n",
       "      <td>1.520300</td>\n",
       "      <td>1.530983</td>\n",
       "      <td>0.451500</td>\n",
       "      <td>0.497126</td>\n",
       "      <td>0.451500</td>\n",
       "      <td>0.431207</td>\n",
       "    </tr>\n",
       "  </tbody>\n",
       "</table><p>"
      ],
      "text/plain": [
       "<IPython.core.display.HTML object>"
      ]
     },
     "metadata": {},
     "output_type": "display_data"
    },
    {
     "name": "stderr",
     "output_type": "stream",
     "text": [
      "[I 2025-01-02 06:18:23,354] Trial 24 pruned. \n"
     ]
    },
    {
     "data": {
      "text/html": [
       "\n",
       "    <div>\n",
       "      \n",
       "      <progress value='1563' max='31260' style='width:300px; height:20px; vertical-align: middle;'></progress>\n",
       "      [ 1563/31260 03:03 < 58:13, 8.50 it/s, Epoch 1/20]\n",
       "    </div>\n",
       "    <table border=\"1\" class=\"dataframe\">\n",
       "  <thead>\n",
       " <tr style=\"text-align: left;\">\n",
       "      <th>Epoch</th>\n",
       "      <th>Training Loss</th>\n",
       "      <th>Validation Loss</th>\n",
       "      <th>Accuracy</th>\n",
       "      <th>Precision</th>\n",
       "      <th>Recall</th>\n",
       "      <th>F1</th>\n",
       "    </tr>\n",
       "  </thead>\n",
       "  <tbody>\n",
       "    <tr>\n",
       "      <td>1</td>\n",
       "      <td>1.323900</td>\n",
       "      <td>1.236328</td>\n",
       "      <td>0.562400</td>\n",
       "      <td>0.582380</td>\n",
       "      <td>0.562400</td>\n",
       "      <td>0.544056</td>\n",
       "    </tr>\n",
       "  </tbody>\n",
       "</table><p>"
      ],
      "text/plain": [
       "<IPython.core.display.HTML object>"
      ]
     },
     "metadata": {},
     "output_type": "display_data"
    },
    {
     "name": "stderr",
     "output_type": "stream",
     "text": [
      "[I 2025-01-02 06:21:27,399] Trial 25 pruned. \n"
     ]
    },
    {
     "data": {
      "text/html": [
       "\n",
       "    <div>\n",
       "      \n",
       "      <progress value='782' max='15640' style='width:300px; height:20px; vertical-align: middle;'></progress>\n",
       "      [  782/15640 03:01 < 57:44, 4.29 it/s, Epoch 1/20]\n",
       "    </div>\n",
       "    <table border=\"1\" class=\"dataframe\">\n",
       "  <thead>\n",
       " <tr style=\"text-align: left;\">\n",
       "      <th>Epoch</th>\n",
       "      <th>Training Loss</th>\n",
       "      <th>Validation Loss</th>\n",
       "      <th>Accuracy</th>\n",
       "      <th>Precision</th>\n",
       "      <th>Recall</th>\n",
       "      <th>F1</th>\n",
       "    </tr>\n",
       "  </thead>\n",
       "  <tbody>\n",
       "    <tr>\n",
       "      <td>1</td>\n",
       "      <td>2.296900</td>\n",
       "      <td>1.852785</td>\n",
       "      <td>0.309300</td>\n",
       "      <td>0.315926</td>\n",
       "      <td>0.309300</td>\n",
       "      <td>0.284555</td>\n",
       "    </tr>\n",
       "  </tbody>\n",
       "</table><p>"
      ],
      "text/plain": [
       "<IPython.core.display.HTML object>"
      ]
     },
     "metadata": {},
     "output_type": "display_data"
    },
    {
     "name": "stderr",
     "output_type": "stream",
     "text": [
      "[I 2025-01-02 06:24:29,835] Trial 26 pruned. \n"
     ]
    },
    {
     "data": {
      "text/html": [
       "\n",
       "    <div>\n",
       "      \n",
       "      <progress value='1563' max='31260' style='width:300px; height:20px; vertical-align: middle;'></progress>\n",
       "      [ 1563/31260 03:02 < 58:01, 8.53 it/s, Epoch 1/20]\n",
       "    </div>\n",
       "    <table border=\"1\" class=\"dataframe\">\n",
       "  <thead>\n",
       " <tr style=\"text-align: left;\">\n",
       "      <th>Epoch</th>\n",
       "      <th>Training Loss</th>\n",
       "      <th>Validation Loss</th>\n",
       "      <th>Accuracy</th>\n",
       "      <th>Precision</th>\n",
       "      <th>Recall</th>\n",
       "      <th>F1</th>\n",
       "    </tr>\n",
       "  </thead>\n",
       "  <tbody>\n",
       "    <tr>\n",
       "      <td>1</td>\n",
       "      <td>1.570800</td>\n",
       "      <td>1.500128</td>\n",
       "      <td>0.463600</td>\n",
       "      <td>0.486704</td>\n",
       "      <td>0.463600</td>\n",
       "      <td>0.444188</td>\n",
       "    </tr>\n",
       "  </tbody>\n",
       "</table><p>"
      ],
      "text/plain": [
       "<IPython.core.display.HTML object>"
      ]
     },
     "metadata": {},
     "output_type": "display_data"
    },
    {
     "name": "stderr",
     "output_type": "stream",
     "text": [
      "[I 2025-01-02 06:27:33,292] Trial 27 pruned. \n"
     ]
    },
    {
     "data": {
      "text/html": [
       "\n",
       "    <div>\n",
       "      \n",
       "      <progress value='782' max='15640' style='width:300px; height:20px; vertical-align: middle;'></progress>\n",
       "      [  782/15640 03:01 < 57:39, 4.29 it/s, Epoch 1/20]\n",
       "    </div>\n",
       "    <table border=\"1\" class=\"dataframe\">\n",
       "  <thead>\n",
       " <tr style=\"text-align: left;\">\n",
       "      <th>Epoch</th>\n",
       "      <th>Training Loss</th>\n",
       "      <th>Validation Loss</th>\n",
       "      <th>Accuracy</th>\n",
       "      <th>Precision</th>\n",
       "      <th>Recall</th>\n",
       "      <th>F1</th>\n",
       "    </tr>\n",
       "  </thead>\n",
       "  <tbody>\n",
       "    <tr>\n",
       "      <td>1</td>\n",
       "      <td>1.633100</td>\n",
       "      <td>1.057979</td>\n",
       "      <td>0.624500</td>\n",
       "      <td>0.642431</td>\n",
       "      <td>0.624500</td>\n",
       "      <td>0.616596</td>\n",
       "    </tr>\n",
       "  </tbody>\n",
       "</table><p>"
      ],
      "text/plain": [
       "<IPython.core.display.HTML object>"
      ]
     },
     "metadata": {},
     "output_type": "display_data"
    },
    {
     "name": "stderr",
     "output_type": "stream",
     "text": [
      "[I 2025-01-02 06:30:35,482] Trial 28 pruned. \n"
     ]
    },
    {
     "data": {
      "text/html": [
       "\n",
       "    <div>\n",
       "      \n",
       "      <progress value='782' max='15640' style='width:300px; height:20px; vertical-align: middle;'></progress>\n",
       "      [  782/15640 03:01 < 57:36, 4.30 it/s, Epoch 1/20]\n",
       "    </div>\n",
       "    <table border=\"1\" class=\"dataframe\">\n",
       "  <thead>\n",
       " <tr style=\"text-align: left;\">\n",
       "      <th>Epoch</th>\n",
       "      <th>Training Loss</th>\n",
       "      <th>Validation Loss</th>\n",
       "      <th>Accuracy</th>\n",
       "      <th>Precision</th>\n",
       "      <th>Recall</th>\n",
       "      <th>F1</th>\n",
       "    </tr>\n",
       "  </thead>\n",
       "  <tbody>\n",
       "    <tr>\n",
       "      <td>1</td>\n",
       "      <td>1.851900</td>\n",
       "      <td>1.302542</td>\n",
       "      <td>0.522500</td>\n",
       "      <td>0.527300</td>\n",
       "      <td>0.522500</td>\n",
       "      <td>0.506887</td>\n",
       "    </tr>\n",
       "  </tbody>\n",
       "</table><p>"
      ],
      "text/plain": [
       "<IPython.core.display.HTML object>"
      ]
     },
     "metadata": {},
     "output_type": "display_data"
    },
    {
     "name": "stderr",
     "output_type": "stream",
     "text": [
      "[I 2025-01-02 06:33:37,522] Trial 29 pruned. \n"
     ]
    },
    {
     "data": {
      "text/html": [
       "\n",
       "    <div>\n",
       "      \n",
       "      <progress value='3125' max='62500' style='width:300px; height:20px; vertical-align: middle;'></progress>\n",
       "      [ 3125/62500 03:16 < 1:02:08, 15.92 it/s, Epoch 1/20]\n",
       "    </div>\n",
       "    <table border=\"1\" class=\"dataframe\">\n",
       "  <thead>\n",
       " <tr style=\"text-align: left;\">\n",
       "      <th>Epoch</th>\n",
       "      <th>Training Loss</th>\n",
       "      <th>Validation Loss</th>\n",
       "      <th>Accuracy</th>\n",
       "      <th>Precision</th>\n",
       "      <th>Recall</th>\n",
       "      <th>F1</th>\n",
       "    </tr>\n",
       "  </thead>\n",
       "  <tbody>\n",
       "    <tr>\n",
       "      <td>1</td>\n",
       "      <td>1.919300</td>\n",
       "      <td>1.799984</td>\n",
       "      <td>0.345700</td>\n",
       "      <td>0.345477</td>\n",
       "      <td>0.345700</td>\n",
       "      <td>0.322155</td>\n",
       "    </tr>\n",
       "  </tbody>\n",
       "</table><p>"
      ],
      "text/plain": [
       "<IPython.core.display.HTML object>"
      ]
     },
     "metadata": {},
     "output_type": "display_data"
    },
    {
     "name": "stderr",
     "output_type": "stream",
     "text": [
      "[I 2025-01-02 06:36:54,066] Trial 30 pruned. \n"
     ]
    },
    {
     "data": {
      "text/html": [
       "\n",
       "    <div>\n",
       "      \n",
       "      <progress value='782' max='15640' style='width:300px; height:20px; vertical-align: middle;'></progress>\n",
       "      [  782/15640 03:01 < 57:43, 4.29 it/s, Epoch 1/20]\n",
       "    </div>\n",
       "    <table border=\"1\" class=\"dataframe\">\n",
       "  <thead>\n",
       " <tr style=\"text-align: left;\">\n",
       "      <th>Epoch</th>\n",
       "      <th>Training Loss</th>\n",
       "      <th>Validation Loss</th>\n",
       "      <th>Accuracy</th>\n",
       "      <th>Precision</th>\n",
       "      <th>Recall</th>\n",
       "      <th>F1</th>\n",
       "    </tr>\n",
       "  </thead>\n",
       "  <tbody>\n",
       "    <tr>\n",
       "      <td>1</td>\n",
       "      <td>1.865400</td>\n",
       "      <td>1.397234</td>\n",
       "      <td>0.489200</td>\n",
       "      <td>0.517728</td>\n",
       "      <td>0.489200</td>\n",
       "      <td>0.476481</td>\n",
       "    </tr>\n",
       "  </tbody>\n",
       "</table><p>"
      ],
      "text/plain": [
       "<IPython.core.display.HTML object>"
      ]
     },
     "metadata": {},
     "output_type": "display_data"
    },
    {
     "name": "stderr",
     "output_type": "stream",
     "text": [
      "[I 2025-01-02 06:39:56,441] Trial 31 pruned. \n"
     ]
    },
    {
     "data": {
      "text/html": [
       "\n",
       "    <div>\n",
       "      \n",
       "      <progress value='782' max='15640' style='width:300px; height:20px; vertical-align: middle;'></progress>\n",
       "      [  782/15640 03:01 < 57:43, 4.29 it/s, Epoch 1/20]\n",
       "    </div>\n",
       "    <table border=\"1\" class=\"dataframe\">\n",
       "  <thead>\n",
       " <tr style=\"text-align: left;\">\n",
       "      <th>Epoch</th>\n",
       "      <th>Training Loss</th>\n",
       "      <th>Validation Loss</th>\n",
       "      <th>Accuracy</th>\n",
       "      <th>Precision</th>\n",
       "      <th>Recall</th>\n",
       "      <th>F1</th>\n",
       "    </tr>\n",
       "  </thead>\n",
       "  <tbody>\n",
       "    <tr>\n",
       "      <td>1</td>\n",
       "      <td>2.316400</td>\n",
       "      <td>1.858459</td>\n",
       "      <td>0.308300</td>\n",
       "      <td>0.312438</td>\n",
       "      <td>0.308300</td>\n",
       "      <td>0.286179</td>\n",
       "    </tr>\n",
       "  </tbody>\n",
       "</table><p>"
      ],
      "text/plain": [
       "<IPython.core.display.HTML object>"
      ]
     },
     "metadata": {},
     "output_type": "display_data"
    },
    {
     "name": "stderr",
     "output_type": "stream",
     "text": [
      "[I 2025-01-02 06:42:58,831] Trial 32 pruned. \n"
     ]
    },
    {
     "data": {
      "text/html": [
       "\n",
       "    <div>\n",
       "      \n",
       "      <progress value='3125' max='62500' style='width:300px; height:20px; vertical-align: middle;'></progress>\n",
       "      [ 3125/62500 03:17 < 1:02:34, 15.81 it/s, Epoch 1/20]\n",
       "    </div>\n",
       "    <table border=\"1\" class=\"dataframe\">\n",
       "  <thead>\n",
       " <tr style=\"text-align: left;\">\n",
       "      <th>Epoch</th>\n",
       "      <th>Training Loss</th>\n",
       "      <th>Validation Loss</th>\n",
       "      <th>Accuracy</th>\n",
       "      <th>Precision</th>\n",
       "      <th>Recall</th>\n",
       "      <th>F1</th>\n",
       "    </tr>\n",
       "  </thead>\n",
       "  <tbody>\n",
       "    <tr>\n",
       "      <td>1</td>\n",
       "      <td>1.396500</td>\n",
       "      <td>1.291039</td>\n",
       "      <td>0.531100</td>\n",
       "      <td>0.553568</td>\n",
       "      <td>0.531100</td>\n",
       "      <td>0.516085</td>\n",
       "    </tr>\n",
       "  </tbody>\n",
       "</table><p>"
      ],
      "text/plain": [
       "<IPython.core.display.HTML object>"
      ]
     },
     "metadata": {},
     "output_type": "display_data"
    },
    {
     "name": "stderr",
     "output_type": "stream",
     "text": [
      "[I 2025-01-02 06:46:16,712] Trial 33 pruned. \n"
     ]
    },
    {
     "data": {
      "text/html": [
       "\n",
       "    <div>\n",
       "      \n",
       "      <progress value='782' max='15640' style='width:300px; height:20px; vertical-align: middle;'></progress>\n",
       "      [  782/15640 03:03 < 58:07, 4.26 it/s, Epoch 1/20]\n",
       "    </div>\n",
       "    <table border=\"1\" class=\"dataframe\">\n",
       "  <thead>\n",
       " <tr style=\"text-align: left;\">\n",
       "      <th>Epoch</th>\n",
       "      <th>Training Loss</th>\n",
       "      <th>Validation Loss</th>\n",
       "      <th>Accuracy</th>\n",
       "      <th>Precision</th>\n",
       "      <th>Recall</th>\n",
       "      <th>F1</th>\n",
       "    </tr>\n",
       "  </thead>\n",
       "  <tbody>\n",
       "    <tr>\n",
       "      <td>1</td>\n",
       "      <td>2.057100</td>\n",
       "      <td>1.595298</td>\n",
       "      <td>0.410200</td>\n",
       "      <td>0.435216</td>\n",
       "      <td>0.410200</td>\n",
       "      <td>0.395932</td>\n",
       "    </tr>\n",
       "  </tbody>\n",
       "</table><p>"
      ],
      "text/plain": [
       "<IPython.core.display.HTML object>"
      ]
     },
     "metadata": {},
     "output_type": "display_data"
    },
    {
     "name": "stderr",
     "output_type": "stream",
     "text": [
      "[I 2025-01-02 06:49:20,341] Trial 34 pruned. \n"
     ]
    },
    {
     "data": {
      "text/html": [
       "\n",
       "    <div>\n",
       "      \n",
       "      <progress value='782' max='15640' style='width:300px; height:20px; vertical-align: middle;'></progress>\n",
       "      [  782/15640 03:01 < 57:32, 4.30 it/s, Epoch 1/20]\n",
       "    </div>\n",
       "    <table border=\"1\" class=\"dataframe\">\n",
       "  <thead>\n",
       " <tr style=\"text-align: left;\">\n",
       "      <th>Epoch</th>\n",
       "      <th>Training Loss</th>\n",
       "      <th>Validation Loss</th>\n",
       "      <th>Accuracy</th>\n",
       "      <th>Precision</th>\n",
       "      <th>Recall</th>\n",
       "      <th>F1</th>\n",
       "    </tr>\n",
       "  </thead>\n",
       "  <tbody>\n",
       "    <tr>\n",
       "      <td>1</td>\n",
       "      <td>2.057900</td>\n",
       "      <td>1.595669</td>\n",
       "      <td>0.416800</td>\n",
       "      <td>0.426818</td>\n",
       "      <td>0.416800</td>\n",
       "      <td>0.399479</td>\n",
       "    </tr>\n",
       "  </tbody>\n",
       "</table><p>"
      ],
      "text/plain": [
       "<IPython.core.display.HTML object>"
      ]
     },
     "metadata": {},
     "output_type": "display_data"
    },
    {
     "name": "stderr",
     "output_type": "stream",
     "text": [
      "[I 2025-01-02 06:52:22,171] Trial 35 pruned. \n"
     ]
    },
    {
     "data": {
      "text/html": [
       "\n",
       "    <div>\n",
       "      \n",
       "      <progress value='1563' max='31260' style='width:300px; height:20px; vertical-align: middle;'></progress>\n",
       "      [ 1563/31260 03:03 < 58:12, 8.50 it/s, Epoch 1/20]\n",
       "    </div>\n",
       "    <table border=\"1\" class=\"dataframe\">\n",
       "  <thead>\n",
       " <tr style=\"text-align: left;\">\n",
       "      <th>Epoch</th>\n",
       "      <th>Training Loss</th>\n",
       "      <th>Validation Loss</th>\n",
       "      <th>Accuracy</th>\n",
       "      <th>Precision</th>\n",
       "      <th>Recall</th>\n",
       "      <th>F1</th>\n",
       "    </tr>\n",
       "  </thead>\n",
       "  <tbody>\n",
       "    <tr>\n",
       "      <td>1</td>\n",
       "      <td>1.185800</td>\n",
       "      <td>1.082619</td>\n",
       "      <td>0.610600</td>\n",
       "      <td>0.618222</td>\n",
       "      <td>0.610600</td>\n",
       "      <td>0.604473</td>\n",
       "    </tr>\n",
       "  </tbody>\n",
       "</table><p>"
      ],
      "text/plain": [
       "<IPython.core.display.HTML object>"
      ]
     },
     "metadata": {},
     "output_type": "display_data"
    },
    {
     "name": "stderr",
     "output_type": "stream",
     "text": [
      "[I 2025-01-02 06:55:26,192] Trial 36 pruned. \n"
     ]
    },
    {
     "data": {
      "text/html": [
       "\n",
       "    <div>\n",
       "      \n",
       "      <progress value='782' max='15640' style='width:300px; height:20px; vertical-align: middle;'></progress>\n",
       "      [  782/15640 03:04 < 58:32, 4.23 it/s, Epoch 1/20]\n",
       "    </div>\n",
       "    <table border=\"1\" class=\"dataframe\">\n",
       "  <thead>\n",
       " <tr style=\"text-align: left;\">\n",
       "      <th>Epoch</th>\n",
       "      <th>Training Loss</th>\n",
       "      <th>Validation Loss</th>\n",
       "      <th>Accuracy</th>\n",
       "      <th>Precision</th>\n",
       "      <th>Recall</th>\n",
       "      <th>F1</th>\n",
       "    </tr>\n",
       "  </thead>\n",
       "  <tbody>\n",
       "    <tr>\n",
       "      <td>1</td>\n",
       "      <td>1.697700</td>\n",
       "      <td>1.131158</td>\n",
       "      <td>0.591100</td>\n",
       "      <td>0.620521</td>\n",
       "      <td>0.591100</td>\n",
       "      <td>0.585297</td>\n",
       "    </tr>\n",
       "  </tbody>\n",
       "</table><p>"
      ],
      "text/plain": [
       "<IPython.core.display.HTML object>"
      ]
     },
     "metadata": {},
     "output_type": "display_data"
    },
    {
     "name": "stderr",
     "output_type": "stream",
     "text": [
      "[I 2025-01-02 06:58:31,145] Trial 37 pruned. \n"
     ]
    },
    {
     "data": {
      "text/html": [
       "\n",
       "    <div>\n",
       "      \n",
       "      <progress value='782' max='15640' style='width:300px; height:20px; vertical-align: middle;'></progress>\n",
       "      [  782/15640 03:02 < 57:57, 4.27 it/s, Epoch 1/20]\n",
       "    </div>\n",
       "    <table border=\"1\" class=\"dataframe\">\n",
       "  <thead>\n",
       " <tr style=\"text-align: left;\">\n",
       "      <th>Epoch</th>\n",
       "      <th>Training Loss</th>\n",
       "      <th>Validation Loss</th>\n",
       "      <th>Accuracy</th>\n",
       "      <th>Precision</th>\n",
       "      <th>Recall</th>\n",
       "      <th>F1</th>\n",
       "    </tr>\n",
       "  </thead>\n",
       "  <tbody>\n",
       "    <tr>\n",
       "      <td>1</td>\n",
       "      <td>1.922500</td>\n",
       "      <td>1.490484</td>\n",
       "      <td>0.448300</td>\n",
       "      <td>0.485375</td>\n",
       "      <td>0.448300</td>\n",
       "      <td>0.436142</td>\n",
       "    </tr>\n",
       "  </tbody>\n",
       "</table><p>"
      ],
      "text/plain": [
       "<IPython.core.display.HTML object>"
      ]
     },
     "metadata": {},
     "output_type": "display_data"
    },
    {
     "name": "stderr",
     "output_type": "stream",
     "text": [
      "[I 2025-01-02 07:01:34,324] Trial 38 pruned. \n"
     ]
    },
    {
     "data": {
      "text/html": [
       "\n",
       "    <div>\n",
       "      \n",
       "      <progress value='1563' max='31260' style='width:300px; height:20px; vertical-align: middle;'></progress>\n",
       "      [ 1563/31260 03:06 < 59:01, 8.39 it/s, Epoch 1/20]\n",
       "    </div>\n",
       "    <table border=\"1\" class=\"dataframe\">\n",
       "  <thead>\n",
       " <tr style=\"text-align: left;\">\n",
       "      <th>Epoch</th>\n",
       "      <th>Training Loss</th>\n",
       "      <th>Validation Loss</th>\n",
       "      <th>Accuracy</th>\n",
       "      <th>Precision</th>\n",
       "      <th>Recall</th>\n",
       "      <th>F1</th>\n",
       "    </tr>\n",
       "  </thead>\n",
       "  <tbody>\n",
       "    <tr>\n",
       "      <td>1</td>\n",
       "      <td>2.176400</td>\n",
       "      <td>1.956935</td>\n",
       "      <td>0.272800</td>\n",
       "      <td>0.266753</td>\n",
       "      <td>0.272800</td>\n",
       "      <td>0.246739</td>\n",
       "    </tr>\n",
       "  </tbody>\n",
       "</table><p>"
      ],
      "text/plain": [
       "<IPython.core.display.HTML object>"
      ]
     },
     "metadata": {},
     "output_type": "display_data"
    },
    {
     "name": "stderr",
     "output_type": "stream",
     "text": [
      "[I 2025-01-02 07:04:40,958] Trial 39 pruned. \n"
     ]
    },
    {
     "data": {
      "text/html": [
       "\n",
       "    <div>\n",
       "      \n",
       "      <progress value='1563' max='31260' style='width:300px; height:20px; vertical-align: middle;'></progress>\n",
       "      [ 1563/31260 03:05 < 58:56, 8.40 it/s, Epoch 1/20]\n",
       "    </div>\n",
       "    <table border=\"1\" class=\"dataframe\">\n",
       "  <thead>\n",
       " <tr style=\"text-align: left;\">\n",
       "      <th>Epoch</th>\n",
       "      <th>Training Loss</th>\n",
       "      <th>Validation Loss</th>\n",
       "      <th>Accuracy</th>\n",
       "      <th>Precision</th>\n",
       "      <th>Recall</th>\n",
       "      <th>F1</th>\n",
       "    </tr>\n",
       "  </thead>\n",
       "  <tbody>\n",
       "    <tr>\n",
       "      <td>1</td>\n",
       "      <td>2.059600</td>\n",
       "      <td>1.858400</td>\n",
       "      <td>0.299900</td>\n",
       "      <td>0.294364</td>\n",
       "      <td>0.299900</td>\n",
       "      <td>0.273723</td>\n",
       "    </tr>\n",
       "  </tbody>\n",
       "</table><p>"
      ],
      "text/plain": [
       "<IPython.core.display.HTML object>"
      ]
     },
     "metadata": {},
     "output_type": "display_data"
    },
    {
     "name": "stderr",
     "output_type": "stream",
     "text": [
      "[I 2025-01-02 07:07:47,247] Trial 40 pruned. \n"
     ]
    },
    {
     "data": {
      "text/html": [
       "\n",
       "    <div>\n",
       "      \n",
       "      <progress value='3125' max='62500' style='width:300px; height:20px; vertical-align: middle;'></progress>\n",
       "      [ 3125/62500 03:15 < 1:01:54, 15.98 it/s, Epoch 1/20]\n",
       "    </div>\n",
       "    <table border=\"1\" class=\"dataframe\">\n",
       "  <thead>\n",
       " <tr style=\"text-align: left;\">\n",
       "      <th>Epoch</th>\n",
       "      <th>Training Loss</th>\n",
       "      <th>Validation Loss</th>\n",
       "      <th>Accuracy</th>\n",
       "      <th>Precision</th>\n",
       "      <th>Recall</th>\n",
       "      <th>F1</th>\n",
       "    </tr>\n",
       "  </thead>\n",
       "  <tbody>\n",
       "    <tr>\n",
       "      <td>1</td>\n",
       "      <td>1.975600</td>\n",
       "      <td>1.837129</td>\n",
       "      <td>0.322500</td>\n",
       "      <td>0.320707</td>\n",
       "      <td>0.322500</td>\n",
       "      <td>0.300023</td>\n",
       "    </tr>\n",
       "  </tbody>\n",
       "</table><p>"
      ],
      "text/plain": [
       "<IPython.core.display.HTML object>"
      ]
     },
     "metadata": {},
     "output_type": "display_data"
    },
    {
     "name": "stderr",
     "output_type": "stream",
     "text": [
      "[I 2025-01-02 07:11:02,995] Trial 41 pruned. \n"
     ]
    },
    {
     "data": {
      "text/html": [
       "\n",
       "    <div>\n",
       "      \n",
       "      <progress value='3125' max='62500' style='width:300px; height:20px; vertical-align: middle;'></progress>\n",
       "      [ 3125/62500 03:15 < 1:01:55, 15.98 it/s, Epoch 1/20]\n",
       "    </div>\n",
       "    <table border=\"1\" class=\"dataframe\">\n",
       "  <thead>\n",
       " <tr style=\"text-align: left;\">\n",
       "      <th>Epoch</th>\n",
       "      <th>Training Loss</th>\n",
       "      <th>Validation Loss</th>\n",
       "      <th>Accuracy</th>\n",
       "      <th>Precision</th>\n",
       "      <th>Recall</th>\n",
       "      <th>F1</th>\n",
       "    </tr>\n",
       "  </thead>\n",
       "  <tbody>\n",
       "    <tr>\n",
       "      <td>1</td>\n",
       "      <td>1.796500</td>\n",
       "      <td>1.727597</td>\n",
       "      <td>0.372700</td>\n",
       "      <td>0.393913</td>\n",
       "      <td>0.372700</td>\n",
       "      <td>0.345369</td>\n",
       "    </tr>\n",
       "  </tbody>\n",
       "</table><p>"
      ],
      "text/plain": [
       "<IPython.core.display.HTML object>"
      ]
     },
     "metadata": {},
     "output_type": "display_data"
    },
    {
     "name": "stderr",
     "output_type": "stream",
     "text": [
      "[I 2025-01-02 07:14:18,762] Trial 42 pruned. \n"
     ]
    },
    {
     "data": {
      "text/html": [
       "\n",
       "    <div>\n",
       "      \n",
       "      <progress value='3125' max='62500' style='width:300px; height:20px; vertical-align: middle;'></progress>\n",
       "      [ 3125/62500 03:18 < 1:02:51, 15.74 it/s, Epoch 1/20]\n",
       "    </div>\n",
       "    <table border=\"1\" class=\"dataframe\">\n",
       "  <thead>\n",
       " <tr style=\"text-align: left;\">\n",
       "      <th>Epoch</th>\n",
       "      <th>Training Loss</th>\n",
       "      <th>Validation Loss</th>\n",
       "      <th>Accuracy</th>\n",
       "      <th>Precision</th>\n",
       "      <th>Recall</th>\n",
       "      <th>F1</th>\n",
       "    </tr>\n",
       "  </thead>\n",
       "  <tbody>\n",
       "    <tr>\n",
       "      <td>1</td>\n",
       "      <td>2.200300</td>\n",
       "      <td>2.015417</td>\n",
       "      <td>0.257600</td>\n",
       "      <td>0.248484</td>\n",
       "      <td>0.257600</td>\n",
       "      <td>0.230786</td>\n",
       "    </tr>\n",
       "  </tbody>\n",
       "</table><p>"
      ],
      "text/plain": [
       "<IPython.core.display.HTML object>"
      ]
     },
     "metadata": {},
     "output_type": "display_data"
    },
    {
     "name": "stderr",
     "output_type": "stream",
     "text": [
      "[I 2025-01-02 07:17:37,480] Trial 43 pruned. \n"
     ]
    },
    {
     "data": {
      "text/html": [
       "\n",
       "    <div>\n",
       "      \n",
       "      <progress value='31260' max='31260' style='width:300px; height:20px; vertical-align: middle;'></progress>\n",
       "      [31260/31260 1:02:09, Epoch 20/20]\n",
       "    </div>\n",
       "    <table border=\"1\" class=\"dataframe\">\n",
       "  <thead>\n",
       " <tr style=\"text-align: left;\">\n",
       "      <th>Epoch</th>\n",
       "      <th>Training Loss</th>\n",
       "      <th>Validation Loss</th>\n",
       "      <th>Accuracy</th>\n",
       "      <th>Precision</th>\n",
       "      <th>Recall</th>\n",
       "      <th>F1</th>\n",
       "    </tr>\n",
       "  </thead>\n",
       "  <tbody>\n",
       "    <tr>\n",
       "      <td>1</td>\n",
       "      <td>1.159100</td>\n",
       "      <td>1.063461</td>\n",
       "      <td>0.620600</td>\n",
       "      <td>0.642919</td>\n",
       "      <td>0.620600</td>\n",
       "      <td>0.610323</td>\n",
       "    </tr>\n",
       "    <tr>\n",
       "      <td>2</td>\n",
       "      <td>0.850700</td>\n",
       "      <td>0.867755</td>\n",
       "      <td>0.698400</td>\n",
       "      <td>0.743373</td>\n",
       "      <td>0.698400</td>\n",
       "      <td>0.700888</td>\n",
       "    </tr>\n",
       "    <tr>\n",
       "      <td>3</td>\n",
       "      <td>0.665500</td>\n",
       "      <td>0.659845</td>\n",
       "      <td>0.774600</td>\n",
       "      <td>0.784872</td>\n",
       "      <td>0.774600</td>\n",
       "      <td>0.773920</td>\n",
       "    </tr>\n",
       "    <tr>\n",
       "      <td>4</td>\n",
       "      <td>0.540600</td>\n",
       "      <td>0.588791</td>\n",
       "      <td>0.805100</td>\n",
       "      <td>0.808632</td>\n",
       "      <td>0.805100</td>\n",
       "      <td>0.802679</td>\n",
       "    </tr>\n",
       "    <tr>\n",
       "      <td>5</td>\n",
       "      <td>0.465800</td>\n",
       "      <td>0.657078</td>\n",
       "      <td>0.784600</td>\n",
       "      <td>0.818442</td>\n",
       "      <td>0.784600</td>\n",
       "      <td>0.788793</td>\n",
       "    </tr>\n",
       "    <tr>\n",
       "      <td>6</td>\n",
       "      <td>0.383700</td>\n",
       "      <td>0.588223</td>\n",
       "      <td>0.812400</td>\n",
       "      <td>0.833557</td>\n",
       "      <td>0.812400</td>\n",
       "      <td>0.811818</td>\n",
       "    </tr>\n",
       "    <tr>\n",
       "      <td>7</td>\n",
       "      <td>0.310500</td>\n",
       "      <td>0.669038</td>\n",
       "      <td>0.799400</td>\n",
       "      <td>0.816719</td>\n",
       "      <td>0.799400</td>\n",
       "      <td>0.798017</td>\n",
       "    </tr>\n",
       "    <tr>\n",
       "      <td>8</td>\n",
       "      <td>0.244900</td>\n",
       "      <td>1.023750</td>\n",
       "      <td>0.764000</td>\n",
       "      <td>0.784828</td>\n",
       "      <td>0.764000</td>\n",
       "      <td>0.749109</td>\n",
       "    </tr>\n",
       "    <tr>\n",
       "      <td>9</td>\n",
       "      <td>0.197000</td>\n",
       "      <td>0.643717</td>\n",
       "      <td>0.826400</td>\n",
       "      <td>0.839120</td>\n",
       "      <td>0.826400</td>\n",
       "      <td>0.826530</td>\n",
       "    </tr>\n",
       "    <tr>\n",
       "      <td>10</td>\n",
       "      <td>0.151500</td>\n",
       "      <td>0.644903</td>\n",
       "      <td>0.837600</td>\n",
       "      <td>0.845637</td>\n",
       "      <td>0.837600</td>\n",
       "      <td>0.836981</td>\n",
       "    </tr>\n",
       "    <tr>\n",
       "      <td>11</td>\n",
       "      <td>0.115600</td>\n",
       "      <td>0.657633</td>\n",
       "      <td>0.840300</td>\n",
       "      <td>0.854369</td>\n",
       "      <td>0.840300</td>\n",
       "      <td>0.840142</td>\n",
       "    </tr>\n",
       "    <tr>\n",
       "      <td>12</td>\n",
       "      <td>0.089300</td>\n",
       "      <td>0.678851</td>\n",
       "      <td>0.842300</td>\n",
       "      <td>0.846205</td>\n",
       "      <td>0.842300</td>\n",
       "      <td>0.841894</td>\n",
       "    </tr>\n",
       "    <tr>\n",
       "      <td>13</td>\n",
       "      <td>0.055300</td>\n",
       "      <td>0.741413</td>\n",
       "      <td>0.834800</td>\n",
       "      <td>0.841865</td>\n",
       "      <td>0.834800</td>\n",
       "      <td>0.832099</td>\n",
       "    </tr>\n",
       "    <tr>\n",
       "      <td>14</td>\n",
       "      <td>0.041800</td>\n",
       "      <td>0.714085</td>\n",
       "      <td>0.842000</td>\n",
       "      <td>0.852166</td>\n",
       "      <td>0.842000</td>\n",
       "      <td>0.842269</td>\n",
       "    </tr>\n",
       "    <tr>\n",
       "      <td>15</td>\n",
       "      <td>0.027500</td>\n",
       "      <td>0.843191</td>\n",
       "      <td>0.840000</td>\n",
       "      <td>0.847212</td>\n",
       "      <td>0.840000</td>\n",
       "      <td>0.837779</td>\n",
       "    </tr>\n",
       "    <tr>\n",
       "      <td>16</td>\n",
       "      <td>0.017700</td>\n",
       "      <td>0.983657</td>\n",
       "      <td>0.834300</td>\n",
       "      <td>0.854677</td>\n",
       "      <td>0.834300</td>\n",
       "      <td>0.836623</td>\n",
       "    </tr>\n",
       "    <tr>\n",
       "      <td>17</td>\n",
       "      <td>0.011500</td>\n",
       "      <td>0.695095</td>\n",
       "      <td>0.862600</td>\n",
       "      <td>0.864354</td>\n",
       "      <td>0.862600</td>\n",
       "      <td>0.860131</td>\n",
       "    </tr>\n",
       "    <tr>\n",
       "      <td>18</td>\n",
       "      <td>0.007200</td>\n",
       "      <td>0.872955</td>\n",
       "      <td>0.850300</td>\n",
       "      <td>0.859367</td>\n",
       "      <td>0.850300</td>\n",
       "      <td>0.851034</td>\n",
       "    </tr>\n",
       "    <tr>\n",
       "      <td>19</td>\n",
       "      <td>0.003400</td>\n",
       "      <td>0.839862</td>\n",
       "      <td>0.853400</td>\n",
       "      <td>0.857767</td>\n",
       "      <td>0.853400</td>\n",
       "      <td>0.850385</td>\n",
       "    </tr>\n",
       "    <tr>\n",
       "      <td>20</td>\n",
       "      <td>0.002300</td>\n",
       "      <td>0.685168</td>\n",
       "      <td>0.867000</td>\n",
       "      <td>0.869008</td>\n",
       "      <td>0.867000</td>\n",
       "      <td>0.865794</td>\n",
       "    </tr>\n",
       "  </tbody>\n",
       "</table><p>"
      ],
      "text/plain": [
       "<IPython.core.display.HTML object>"
      ]
     },
     "metadata": {},
     "output_type": "display_data"
    },
    {
     "name": "stderr",
     "output_type": "stream",
     "text": [
      "[I 2025-01-02 08:19:46,996] Trial 44 finished with value: 0.8657942234681372 and parameters: {'learning_rate': 0.0001691374604609239, 'per_device_train_batch_size': 32, 'weight_decay': 0.002}. Best is trial 44 with value: 0.8657942234681372.\n"
     ]
    },
    {
     "data": {
      "text/html": [
       "\n",
       "    <div>\n",
       "      \n",
       "      <progress value='1563' max='31260' style='width:300px; height:20px; vertical-align: middle;'></progress>\n",
       "      [ 1563/31260 03:06 < 59:01, 8.39 it/s, Epoch 1/20]\n",
       "    </div>\n",
       "    <table border=\"1\" class=\"dataframe\">\n",
       "  <thead>\n",
       " <tr style=\"text-align: left;\">\n",
       "      <th>Epoch</th>\n",
       "      <th>Training Loss</th>\n",
       "      <th>Validation Loss</th>\n",
       "      <th>Accuracy</th>\n",
       "      <th>Precision</th>\n",
       "      <th>Recall</th>\n",
       "      <th>F1</th>\n",
       "    </tr>\n",
       "  </thead>\n",
       "  <tbody>\n",
       "    <tr>\n",
       "      <td>1</td>\n",
       "      <td>1.173200</td>\n",
       "      <td>1.029646</td>\n",
       "      <td>0.630400</td>\n",
       "      <td>0.647527</td>\n",
       "      <td>0.630400</td>\n",
       "      <td>0.629093</td>\n",
       "    </tr>\n",
       "  </tbody>\n",
       "</table><p>"
      ],
      "text/plain": [
       "<IPython.core.display.HTML object>"
      ]
     },
     "metadata": {},
     "output_type": "display_data"
    },
    {
     "name": "stderr",
     "output_type": "stream",
     "text": [
      "[I 2025-01-02 08:22:53,583] Trial 45 pruned. \n"
     ]
    },
    {
     "data": {
      "text/html": [
       "\n",
       "    <div>\n",
       "      \n",
       "      <progress value='1563' max='31260' style='width:300px; height:20px; vertical-align: middle;'></progress>\n",
       "      [ 1563/31260 03:04 < 58:20, 8.48 it/s, Epoch 1/20]\n",
       "    </div>\n",
       "    <table border=\"1\" class=\"dataframe\">\n",
       "  <thead>\n",
       " <tr style=\"text-align: left;\">\n",
       "      <th>Epoch</th>\n",
       "      <th>Training Loss</th>\n",
       "      <th>Validation Loss</th>\n",
       "      <th>Accuracy</th>\n",
       "      <th>Precision</th>\n",
       "      <th>Recall</th>\n",
       "      <th>F1</th>\n",
       "    </tr>\n",
       "  </thead>\n",
       "  <tbody>\n",
       "    <tr>\n",
       "      <td>1</td>\n",
       "      <td>1.162900</td>\n",
       "      <td>1.015507</td>\n",
       "      <td>0.637200</td>\n",
       "      <td>0.651568</td>\n",
       "      <td>0.637200</td>\n",
       "      <td>0.633206</td>\n",
       "    </tr>\n",
       "  </tbody>\n",
       "</table><p>"
      ],
      "text/plain": [
       "<IPython.core.display.HTML object>"
      ]
     },
     "metadata": {},
     "output_type": "display_data"
    },
    {
     "name": "stderr",
     "output_type": "stream",
     "text": [
      "[I 2025-01-02 08:25:58,063] Trial 46 pruned. \n"
     ]
    },
    {
     "data": {
      "text/html": [
       "\n",
       "    <div>\n",
       "      \n",
       "      <progress value='1563' max='31260' style='width:300px; height:20px; vertical-align: middle;'></progress>\n",
       "      [ 1563/31260 03:03 < 58:10, 8.51 it/s, Epoch 1/20]\n",
       "    </div>\n",
       "    <table border=\"1\" class=\"dataframe\">\n",
       "  <thead>\n",
       " <tr style=\"text-align: left;\">\n",
       "      <th>Epoch</th>\n",
       "      <th>Training Loss</th>\n",
       "      <th>Validation Loss</th>\n",
       "      <th>Accuracy</th>\n",
       "      <th>Precision</th>\n",
       "      <th>Recall</th>\n",
       "      <th>F1</th>\n",
       "    </tr>\n",
       "  </thead>\n",
       "  <tbody>\n",
       "    <tr>\n",
       "      <td>1</td>\n",
       "      <td>1.228600</td>\n",
       "      <td>1.071035</td>\n",
       "      <td>0.614400</td>\n",
       "      <td>0.635883</td>\n",
       "      <td>0.614400</td>\n",
       "      <td>0.607010</td>\n",
       "    </tr>\n",
       "  </tbody>\n",
       "</table><p>"
      ],
      "text/plain": [
       "<IPython.core.display.HTML object>"
      ]
     },
     "metadata": {},
     "output_type": "display_data"
    },
    {
     "name": "stderr",
     "output_type": "stream",
     "text": [
      "[I 2025-01-02 08:29:02,011] Trial 47 pruned. \n"
     ]
    },
    {
     "data": {
      "text/html": [
       "\n",
       "    <div>\n",
       "      \n",
       "      <progress value='782' max='15640' style='width:300px; height:20px; vertical-align: middle;'></progress>\n",
       "      [  782/15640 03:01 < 57:37, 4.30 it/s, Epoch 1/20]\n",
       "    </div>\n",
       "    <table border=\"1\" class=\"dataframe\">\n",
       "  <thead>\n",
       " <tr style=\"text-align: left;\">\n",
       "      <th>Epoch</th>\n",
       "      <th>Training Loss</th>\n",
       "      <th>Validation Loss</th>\n",
       "      <th>Accuracy</th>\n",
       "      <th>Precision</th>\n",
       "      <th>Recall</th>\n",
       "      <th>F1</th>\n",
       "    </tr>\n",
       "  </thead>\n",
       "  <tbody>\n",
       "    <tr>\n",
       "      <td>1</td>\n",
       "      <td>1.823400</td>\n",
       "      <td>1.325684</td>\n",
       "      <td>0.513900</td>\n",
       "      <td>0.548655</td>\n",
       "      <td>0.513900</td>\n",
       "      <td>0.508766</td>\n",
       "    </tr>\n",
       "  </tbody>\n",
       "</table><p>"
      ],
      "text/plain": [
       "<IPython.core.display.HTML object>"
      ]
     },
     "metadata": {},
     "output_type": "display_data"
    },
    {
     "name": "stderr",
     "output_type": "stream",
     "text": [
      "[I 2025-01-02 08:32:04,108] Trial 48 pruned. \n"
     ]
    },
    {
     "data": {
      "text/html": [
       "\n",
       "    <div>\n",
       "      \n",
       "      <progress value='1563' max='31260' style='width:300px; height:20px; vertical-align: middle;'></progress>\n",
       "      [ 1563/31260 03:05 < 58:50, 8.41 it/s, Epoch 1/20]\n",
       "    </div>\n",
       "    <table border=\"1\" class=\"dataframe\">\n",
       "  <thead>\n",
       " <tr style=\"text-align: left;\">\n",
       "      <th>Epoch</th>\n",
       "      <th>Training Loss</th>\n",
       "      <th>Validation Loss</th>\n",
       "      <th>Accuracy</th>\n",
       "      <th>Precision</th>\n",
       "      <th>Recall</th>\n",
       "      <th>F1</th>\n",
       "    </tr>\n",
       "  </thead>\n",
       "  <tbody>\n",
       "    <tr>\n",
       "      <td>1</td>\n",
       "      <td>1.491300</td>\n",
       "      <td>1.360590</td>\n",
       "      <td>0.505000</td>\n",
       "      <td>0.529291</td>\n",
       "      <td>0.505000</td>\n",
       "      <td>0.490918</td>\n",
       "    </tr>\n",
       "  </tbody>\n",
       "</table><p>"
      ],
      "text/plain": [
       "<IPython.core.display.HTML object>"
      ]
     },
     "metadata": {},
     "output_type": "display_data"
    },
    {
     "name": "stderr",
     "output_type": "stream",
     "text": [
      "[I 2025-01-02 08:35:10,181] Trial 49 pruned. \n"
     ]
    },
    {
     "data": {
      "text/html": [
       "\n",
       "    <div>\n",
       "      \n",
       "      <progress value='782' max='15640' style='width:300px; height:20px; vertical-align: middle;'></progress>\n",
       "      [  782/15640 02:55 < 55:38, 4.45 it/s, Epoch 1/20]\n",
       "    </div>\n",
       "    <table border=\"1\" class=\"dataframe\">\n",
       "  <thead>\n",
       " <tr style=\"text-align: left;\">\n",
       "      <th>Epoch</th>\n",
       "      <th>Training Loss</th>\n",
       "      <th>Validation Loss</th>\n",
       "      <th>Accuracy</th>\n",
       "      <th>Precision</th>\n",
       "      <th>Recall</th>\n",
       "      <th>F1</th>\n",
       "    </tr>\n",
       "  </thead>\n",
       "  <tbody>\n",
       "    <tr>\n",
       "      <td>1</td>\n",
       "      <td>1.629300</td>\n",
       "      <td>1.063810</td>\n",
       "      <td>0.623100</td>\n",
       "      <td>0.627216</td>\n",
       "      <td>0.623100</td>\n",
       "      <td>0.618750</td>\n",
       "    </tr>\n",
       "  </tbody>\n",
       "</table><p>"
      ],
      "text/plain": [
       "<IPython.core.display.HTML object>"
      ]
     },
     "metadata": {},
     "output_type": "display_data"
    },
    {
     "name": "stderr",
     "output_type": "stream",
     "text": [
      "[I 2025-01-02 08:38:06,034] Trial 50 pruned. \n"
     ]
    },
    {
     "data": {
      "text/html": [
       "\n",
       "    <div>\n",
       "      \n",
       "      <progress value='782' max='15640' style='width:300px; height:20px; vertical-align: middle;'></progress>\n",
       "      [  782/15640 03:01 < 57:43, 4.29 it/s, Epoch 1/20]\n",
       "    </div>\n",
       "    <table border=\"1\" class=\"dataframe\">\n",
       "  <thead>\n",
       " <tr style=\"text-align: left;\">\n",
       "      <th>Epoch</th>\n",
       "      <th>Training Loss</th>\n",
       "      <th>Validation Loss</th>\n",
       "      <th>Accuracy</th>\n",
       "      <th>Precision</th>\n",
       "      <th>Recall</th>\n",
       "      <th>F1</th>\n",
       "    </tr>\n",
       "  </thead>\n",
       "  <tbody>\n",
       "    <tr>\n",
       "      <td>1</td>\n",
       "      <td>2.136500</td>\n",
       "      <td>1.693558</td>\n",
       "      <td>0.372900</td>\n",
       "      <td>0.386415</td>\n",
       "      <td>0.372900</td>\n",
       "      <td>0.352934</td>\n",
       "    </tr>\n",
       "  </tbody>\n",
       "</table><p>"
      ],
      "text/plain": [
       "<IPython.core.display.HTML object>"
      ]
     },
     "metadata": {},
     "output_type": "display_data"
    },
    {
     "name": "stderr",
     "output_type": "stream",
     "text": [
      "[I 2025-01-02 08:41:08,479] Trial 51 pruned. \n"
     ]
    },
    {
     "data": {
      "text/html": [
       "\n",
       "    <div>\n",
       "      \n",
       "      <progress value='3125' max='62500' style='width:300px; height:20px; vertical-align: middle;'></progress>\n",
       "      [ 3125/62500 03:15 < 1:02:03, 15.95 it/s, Epoch 1/20]\n",
       "    </div>\n",
       "    <table border=\"1\" class=\"dataframe\">\n",
       "  <thead>\n",
       " <tr style=\"text-align: left;\">\n",
       "      <th>Epoch</th>\n",
       "      <th>Training Loss</th>\n",
       "      <th>Validation Loss</th>\n",
       "      <th>Accuracy</th>\n",
       "      <th>Precision</th>\n",
       "      <th>Recall</th>\n",
       "      <th>F1</th>\n",
       "    </tr>\n",
       "  </thead>\n",
       "  <tbody>\n",
       "    <tr>\n",
       "      <td>1</td>\n",
       "      <td>2.385200</td>\n",
       "      <td>2.249013</td>\n",
       "      <td>0.174800</td>\n",
       "      <td>0.193869</td>\n",
       "      <td>0.174800</td>\n",
       "      <td>0.128068</td>\n",
       "    </tr>\n",
       "  </tbody>\n",
       "</table><p>"
      ],
      "text/plain": [
       "<IPython.core.display.HTML object>"
      ]
     },
     "metadata": {},
     "output_type": "display_data"
    },
    {
     "name": "stderr",
     "output_type": "stream",
     "text": [
      "[I 2025-01-02 08:44:24,733] Trial 52 pruned. \n"
     ]
    },
    {
     "data": {
      "text/html": [
       "\n",
       "    <div>\n",
       "      \n",
       "      <progress value='3125' max='62500' style='width:300px; height:20px; vertical-align: middle;'></progress>\n",
       "      [ 3125/62500 03:17 < 1:02:39, 15.79 it/s, Epoch 1/20]\n",
       "    </div>\n",
       "    <table border=\"1\" class=\"dataframe\">\n",
       "  <thead>\n",
       " <tr style=\"text-align: left;\">\n",
       "      <th>Epoch</th>\n",
       "      <th>Training Loss</th>\n",
       "      <th>Validation Loss</th>\n",
       "      <th>Accuracy</th>\n",
       "      <th>Precision</th>\n",
       "      <th>Recall</th>\n",
       "      <th>F1</th>\n",
       "    </tr>\n",
       "  </thead>\n",
       "  <tbody>\n",
       "    <tr>\n",
       "      <td>1</td>\n",
       "      <td>1.149600</td>\n",
       "      <td>0.971220</td>\n",
       "      <td>0.653700</td>\n",
       "      <td>0.665939</td>\n",
       "      <td>0.653700</td>\n",
       "      <td>0.647727</td>\n",
       "    </tr>\n",
       "  </tbody>\n",
       "</table><p>"
      ],
      "text/plain": [
       "<IPython.core.display.HTML object>"
      ]
     },
     "metadata": {},
     "output_type": "display_data"
    },
    {
     "name": "stderr",
     "output_type": "stream",
     "text": [
      "[I 2025-01-02 08:47:42,806] Trial 53 pruned. \n"
     ]
    },
    {
     "data": {
      "text/html": [
       "\n",
       "    <div>\n",
       "      \n",
       "      <progress value='1563' max='31260' style='width:300px; height:20px; vertical-align: middle;'></progress>\n",
       "      [ 1563/31260 03:05 < 58:47, 8.42 it/s, Epoch 1/20]\n",
       "    </div>\n",
       "    <table border=\"1\" class=\"dataframe\">\n",
       "  <thead>\n",
       " <tr style=\"text-align: left;\">\n",
       "      <th>Epoch</th>\n",
       "      <th>Training Loss</th>\n",
       "      <th>Validation Loss</th>\n",
       "      <th>Accuracy</th>\n",
       "      <th>Precision</th>\n",
       "      <th>Recall</th>\n",
       "      <th>F1</th>\n",
       "    </tr>\n",
       "  </thead>\n",
       "  <tbody>\n",
       "    <tr>\n",
       "      <td>1</td>\n",
       "      <td>1.275400</td>\n",
       "      <td>1.163602</td>\n",
       "      <td>0.588600</td>\n",
       "      <td>0.601674</td>\n",
       "      <td>0.588600</td>\n",
       "      <td>0.572500</td>\n",
       "    </tr>\n",
       "  </tbody>\n",
       "</table><p>"
      ],
      "text/plain": [
       "<IPython.core.display.HTML object>"
      ]
     },
     "metadata": {},
     "output_type": "display_data"
    },
    {
     "name": "stderr",
     "output_type": "stream",
     "text": [
      "[I 2025-01-02 08:50:48,666] Trial 54 pruned. \n"
     ]
    },
    {
     "data": {
      "text/html": [
       "\n",
       "    <div>\n",
       "      \n",
       "      <progress value='3125' max='62500' style='width:300px; height:20px; vertical-align: middle;'></progress>\n",
       "      [ 3125/62500 03:16 < 1:02:12, 15.91 it/s, Epoch 1/20]\n",
       "    </div>\n",
       "    <table border=\"1\" class=\"dataframe\">\n",
       "  <thead>\n",
       " <tr style=\"text-align: left;\">\n",
       "      <th>Epoch</th>\n",
       "      <th>Training Loss</th>\n",
       "      <th>Validation Loss</th>\n",
       "      <th>Accuracy</th>\n",
       "      <th>Precision</th>\n",
       "      <th>Recall</th>\n",
       "      <th>F1</th>\n",
       "    </tr>\n",
       "  </thead>\n",
       "  <tbody>\n",
       "    <tr>\n",
       "      <td>1</td>\n",
       "      <td>1.890800</td>\n",
       "      <td>1.778811</td>\n",
       "      <td>0.348200</td>\n",
       "      <td>0.349138</td>\n",
       "      <td>0.348200</td>\n",
       "      <td>0.324418</td>\n",
       "    </tr>\n",
       "  </tbody>\n",
       "</table><p>"
      ],
      "text/plain": [
       "<IPython.core.display.HTML object>"
      ]
     },
     "metadata": {},
     "output_type": "display_data"
    },
    {
     "name": "stderr",
     "output_type": "stream",
     "text": [
      "[I 2025-01-02 08:54:05,329] Trial 55 pruned. \n"
     ]
    },
    {
     "data": {
      "text/html": [
       "\n",
       "    <div>\n",
       "      \n",
       "      <progress value='1563' max='31260' style='width:300px; height:20px; vertical-align: middle;'></progress>\n",
       "      [ 1563/31260 03:04 < 58:38, 8.44 it/s, Epoch 1/20]\n",
       "    </div>\n",
       "    <table border=\"1\" class=\"dataframe\">\n",
       "  <thead>\n",
       " <tr style=\"text-align: left;\">\n",
       "      <th>Epoch</th>\n",
       "      <th>Training Loss</th>\n",
       "      <th>Validation Loss</th>\n",
       "      <th>Accuracy</th>\n",
       "      <th>Precision</th>\n",
       "      <th>Recall</th>\n",
       "      <th>F1</th>\n",
       "    </tr>\n",
       "  </thead>\n",
       "  <tbody>\n",
       "    <tr>\n",
       "      <td>1</td>\n",
       "      <td>1.284500</td>\n",
       "      <td>1.158400</td>\n",
       "      <td>0.586200</td>\n",
       "      <td>0.611901</td>\n",
       "      <td>0.586200</td>\n",
       "      <td>0.578416</td>\n",
       "    </tr>\n",
       "  </tbody>\n",
       "</table><p>"
      ],
      "text/plain": [
       "<IPython.core.display.HTML object>"
      ]
     },
     "metadata": {},
     "output_type": "display_data"
    },
    {
     "name": "stderr",
     "output_type": "stream",
     "text": [
      "[I 2025-01-02 08:57:10,666] Trial 56 pruned. \n"
     ]
    },
    {
     "data": {
      "text/html": [
       "\n",
       "    <div>\n",
       "      \n",
       "      <progress value='1563' max='31260' style='width:300px; height:20px; vertical-align: middle;'></progress>\n",
       "      [ 1563/31260 03:05 < 58:41, 8.43 it/s, Epoch 1/20]\n",
       "    </div>\n",
       "    <table border=\"1\" class=\"dataframe\">\n",
       "  <thead>\n",
       " <tr style=\"text-align: left;\">\n",
       "      <th>Epoch</th>\n",
       "      <th>Training Loss</th>\n",
       "      <th>Validation Loss</th>\n",
       "      <th>Accuracy</th>\n",
       "      <th>Precision</th>\n",
       "      <th>Recall</th>\n",
       "      <th>F1</th>\n",
       "    </tr>\n",
       "  </thead>\n",
       "  <tbody>\n",
       "    <tr>\n",
       "      <td>1</td>\n",
       "      <td>2.435000</td>\n",
       "      <td>2.272146</td>\n",
       "      <td>0.147700</td>\n",
       "      <td>0.110085</td>\n",
       "      <td>0.147700</td>\n",
       "      <td>0.096591</td>\n",
       "    </tr>\n",
       "  </tbody>\n",
       "</table><p>"
      ],
      "text/plain": [
       "<IPython.core.display.HTML object>"
      ]
     },
     "metadata": {},
     "output_type": "display_data"
    },
    {
     "name": "stderr",
     "output_type": "stream",
     "text": [
      "/usr/local/lib/python3.10/dist-packages/sklearn/metrics/_classification.py:1531: UndefinedMetricWarning: Precision is ill-defined and being set to 0.0 in labels with no predicted samples. Use `zero_division` parameter to control this behavior.\n",
      "  _warn_prf(average, modifier, f\"{metric.capitalize()} is\", len(result))\n",
      "[I 2025-01-02 09:00:16,171] Trial 57 pruned. \n"
     ]
    },
    {
     "data": {
      "text/html": [
       "\n",
       "    <div>\n",
       "      \n",
       "      <progress value='7038' max='15640' style='width:300px; height:20px; vertical-align: middle;'></progress>\n",
       "      [ 7038/15640 27:19 < 33:24, 4.29 it/s, Epoch 9/20]\n",
       "    </div>\n",
       "    <table border=\"1\" class=\"dataframe\">\n",
       "  <thead>\n",
       " <tr style=\"text-align: left;\">\n",
       "      <th>Epoch</th>\n",
       "      <th>Training Loss</th>\n",
       "      <th>Validation Loss</th>\n",
       "      <th>Accuracy</th>\n",
       "      <th>Precision</th>\n",
       "      <th>Recall</th>\n",
       "      <th>F1</th>\n",
       "    </tr>\n",
       "  </thead>\n",
       "  <tbody>\n",
       "    <tr>\n",
       "      <td>1</td>\n",
       "      <td>1.756200</td>\n",
       "      <td>1.186995</td>\n",
       "      <td>0.571300</td>\n",
       "      <td>0.588868</td>\n",
       "      <td>0.571300</td>\n",
       "      <td>0.561500</td>\n",
       "    </tr>\n",
       "    <tr>\n",
       "      <td>2</td>\n",
       "      <td>0.946600</td>\n",
       "      <td>0.873025</td>\n",
       "      <td>0.697600</td>\n",
       "      <td>0.723813</td>\n",
       "      <td>0.697600</td>\n",
       "      <td>0.700866</td>\n",
       "    </tr>\n",
       "    <tr>\n",
       "      <td>3</td>\n",
       "      <td>0.744000</td>\n",
       "      <td>0.703449</td>\n",
       "      <td>0.754200</td>\n",
       "      <td>0.772017</td>\n",
       "      <td>0.754200</td>\n",
       "      <td>0.753986</td>\n",
       "    </tr>\n",
       "    <tr>\n",
       "      <td>4</td>\n",
       "      <td>0.546100</td>\n",
       "      <td>0.641315</td>\n",
       "      <td>0.791200</td>\n",
       "      <td>0.794859</td>\n",
       "      <td>0.791200</td>\n",
       "      <td>0.787486</td>\n",
       "    </tr>\n",
       "    <tr>\n",
       "      <td>5</td>\n",
       "      <td>0.452600</td>\n",
       "      <td>0.721466</td>\n",
       "      <td>0.766300</td>\n",
       "      <td>0.805936</td>\n",
       "      <td>0.766300</td>\n",
       "      <td>0.773413</td>\n",
       "    </tr>\n",
       "    <tr>\n",
       "      <td>6</td>\n",
       "      <td>0.328100</td>\n",
       "      <td>0.627953</td>\n",
       "      <td>0.800900</td>\n",
       "      <td>0.819969</td>\n",
       "      <td>0.800900</td>\n",
       "      <td>0.798314</td>\n",
       "    </tr>\n",
       "    <tr>\n",
       "      <td>7</td>\n",
       "      <td>0.275900</td>\n",
       "      <td>0.903049</td>\n",
       "      <td>0.756000</td>\n",
       "      <td>0.796154</td>\n",
       "      <td>0.756000</td>\n",
       "      <td>0.755129</td>\n",
       "    </tr>\n",
       "    <tr>\n",
       "      <td>8</td>\n",
       "      <td>0.174900</td>\n",
       "      <td>1.175558</td>\n",
       "      <td>0.728800</td>\n",
       "      <td>0.757436</td>\n",
       "      <td>0.728800</td>\n",
       "      <td>0.716713</td>\n",
       "    </tr>\n",
       "    <tr>\n",
       "      <td>9</td>\n",
       "      <td>0.134500</td>\n",
       "      <td>0.849059</td>\n",
       "      <td>0.790000</td>\n",
       "      <td>0.816473</td>\n",
       "      <td>0.790000</td>\n",
       "      <td>0.789817</td>\n",
       "    </tr>\n",
       "  </tbody>\n",
       "</table><p>"
      ],
      "text/plain": [
       "<IPython.core.display.HTML object>"
      ]
     },
     "metadata": {},
     "output_type": "display_data"
    },
    {
     "name": "stderr",
     "output_type": "stream",
     "text": [
      "[I 2025-01-02 09:27:36,252] Trial 58 finished with value: 0.7898174905543811 and parameters: {'learning_rate': 0.00013938335495096915, 'per_device_train_batch_size': 64, 'weight_decay': 0.003}. Best is trial 44 with value: 0.8657942234681372.\n"
     ]
    },
    {
     "data": {
      "text/html": [
       "\n",
       "    <div>\n",
       "      \n",
       "      <progress value='782' max='15640' style='width:300px; height:20px; vertical-align: middle;'></progress>\n",
       "      [  782/15640 02:54 < 55:18, 4.48 it/s, Epoch 1/20]\n",
       "    </div>\n",
       "    <table border=\"1\" class=\"dataframe\">\n",
       "  <thead>\n",
       " <tr style=\"text-align: left;\">\n",
       "      <th>Epoch</th>\n",
       "      <th>Training Loss</th>\n",
       "      <th>Validation Loss</th>\n",
       "      <th>Accuracy</th>\n",
       "      <th>Precision</th>\n",
       "      <th>Recall</th>\n",
       "      <th>F1</th>\n",
       "    </tr>\n",
       "  </thead>\n",
       "  <tbody>\n",
       "    <tr>\n",
       "      <td>1</td>\n",
       "      <td>1.794900</td>\n",
       "      <td>1.307226</td>\n",
       "      <td>0.528100</td>\n",
       "      <td>0.558497</td>\n",
       "      <td>0.528100</td>\n",
       "      <td>0.514258</td>\n",
       "    </tr>\n",
       "  </tbody>\n",
       "</table><p>"
      ],
      "text/plain": [
       "<IPython.core.display.HTML object>"
      ]
     },
     "metadata": {},
     "output_type": "display_data"
    },
    {
     "name": "stderr",
     "output_type": "stream",
     "text": [
      "[I 2025-01-02 09:30:31,061] Trial 59 pruned. \n"
     ]
    },
    {
     "data": {
      "text/html": [
       "\n",
       "    <div>\n",
       "      \n",
       "      <progress value='782' max='15640' style='width:300px; height:20px; vertical-align: middle;'></progress>\n",
       "      [  782/15640 03:01 < 57:39, 4.29 it/s, Epoch 1/20]\n",
       "    </div>\n",
       "    <table border=\"1\" class=\"dataframe\">\n",
       "  <thead>\n",
       " <tr style=\"text-align: left;\">\n",
       "      <th>Epoch</th>\n",
       "      <th>Training Loss</th>\n",
       "      <th>Validation Loss</th>\n",
       "      <th>Accuracy</th>\n",
       "      <th>Precision</th>\n",
       "      <th>Recall</th>\n",
       "      <th>F1</th>\n",
       "    </tr>\n",
       "  </thead>\n",
       "  <tbody>\n",
       "    <tr>\n",
       "      <td>1</td>\n",
       "      <td>1.768200</td>\n",
       "      <td>1.201812</td>\n",
       "      <td>0.571300</td>\n",
       "      <td>0.594202</td>\n",
       "      <td>0.571300</td>\n",
       "      <td>0.560891</td>\n",
       "    </tr>\n",
       "  </tbody>\n",
       "</table><p>"
      ],
      "text/plain": [
       "<IPython.core.display.HTML object>"
      ]
     },
     "metadata": {},
     "output_type": "display_data"
    },
    {
     "name": "stderr",
     "output_type": "stream",
     "text": [
      "[I 2025-01-02 09:33:33,309] Trial 60 pruned. \n"
     ]
    },
    {
     "data": {
      "text/html": [
       "\n",
       "    <div>\n",
       "      \n",
       "      <progress value='782' max='15640' style='width:300px; height:20px; vertical-align: middle;'></progress>\n",
       "      [  782/15640 03:01 < 57:45, 4.29 it/s, Epoch 1/20]\n",
       "    </div>\n",
       "    <table border=\"1\" class=\"dataframe\">\n",
       "  <thead>\n",
       " <tr style=\"text-align: left;\">\n",
       "      <th>Epoch</th>\n",
       "      <th>Training Loss</th>\n",
       "      <th>Validation Loss</th>\n",
       "      <th>Accuracy</th>\n",
       "      <th>Precision</th>\n",
       "      <th>Recall</th>\n",
       "      <th>F1</th>\n",
       "    </tr>\n",
       "  </thead>\n",
       "  <tbody>\n",
       "    <tr>\n",
       "      <td>1</td>\n",
       "      <td>1.628200</td>\n",
       "      <td>1.081370</td>\n",
       "      <td>0.614300</td>\n",
       "      <td>0.628155</td>\n",
       "      <td>0.614300</td>\n",
       "      <td>0.606234</td>\n",
       "    </tr>\n",
       "  </tbody>\n",
       "</table><p>"
      ],
      "text/plain": [
       "<IPython.core.display.HTML object>"
      ]
     },
     "metadata": {},
     "output_type": "display_data"
    },
    {
     "name": "stderr",
     "output_type": "stream",
     "text": [
      "[I 2025-01-02 09:36:35,829] Trial 61 pruned. \n"
     ]
    },
    {
     "data": {
      "text/html": [
       "\n",
       "    <div>\n",
       "      \n",
       "      <progress value='782' max='15640' style='width:300px; height:20px; vertical-align: middle;'></progress>\n",
       "      [  782/15640 03:01 < 57:36, 4.30 it/s, Epoch 1/20]\n",
       "    </div>\n",
       "    <table border=\"1\" class=\"dataframe\">\n",
       "  <thead>\n",
       " <tr style=\"text-align: left;\">\n",
       "      <th>Epoch</th>\n",
       "      <th>Training Loss</th>\n",
       "      <th>Validation Loss</th>\n",
       "      <th>Accuracy</th>\n",
       "      <th>Precision</th>\n",
       "      <th>Recall</th>\n",
       "      <th>F1</th>\n",
       "    </tr>\n",
       "  </thead>\n",
       "  <tbody>\n",
       "    <tr>\n",
       "      <td>1</td>\n",
       "      <td>1.599200</td>\n",
       "      <td>1.057122</td>\n",
       "      <td>0.626500</td>\n",
       "      <td>0.634650</td>\n",
       "      <td>0.626500</td>\n",
       "      <td>0.617968</td>\n",
       "    </tr>\n",
       "  </tbody>\n",
       "</table><p>"
      ],
      "text/plain": [
       "<IPython.core.display.HTML object>"
      ]
     },
     "metadata": {},
     "output_type": "display_data"
    },
    {
     "name": "stderr",
     "output_type": "stream",
     "text": [
      "[I 2025-01-02 09:39:37,900] Trial 62 pruned. \n"
     ]
    },
    {
     "data": {
      "text/html": [
       "\n",
       "    <div>\n",
       "      \n",
       "      <progress value='782' max='15640' style='width:300px; height:20px; vertical-align: middle;'></progress>\n",
       "      [  782/15640 02:54 < 55:18, 4.48 it/s, Epoch 1/20]\n",
       "    </div>\n",
       "    <table border=\"1\" class=\"dataframe\">\n",
       "  <thead>\n",
       " <tr style=\"text-align: left;\">\n",
       "      <th>Epoch</th>\n",
       "      <th>Training Loss</th>\n",
       "      <th>Validation Loss</th>\n",
       "      <th>Accuracy</th>\n",
       "      <th>Precision</th>\n",
       "      <th>Recall</th>\n",
       "      <th>F1</th>\n",
       "    </tr>\n",
       "  </thead>\n",
       "  <tbody>\n",
       "    <tr>\n",
       "      <td>1</td>\n",
       "      <td>1.921900</td>\n",
       "      <td>1.466374</td>\n",
       "      <td>0.465000</td>\n",
       "      <td>0.492591</td>\n",
       "      <td>0.465000</td>\n",
       "      <td>0.447282</td>\n",
       "    </tr>\n",
       "  </tbody>\n",
       "</table><p>"
      ],
      "text/plain": [
       "<IPython.core.display.HTML object>"
      ]
     },
     "metadata": {},
     "output_type": "display_data"
    },
    {
     "name": "stderr",
     "output_type": "stream",
     "text": [
      "[I 2025-01-02 09:42:32,688] Trial 63 pruned. \n"
     ]
    },
    {
     "data": {
      "text/html": [
       "\n",
       "    <div>\n",
       "      \n",
       "      <progress value='1563' max='31260' style='width:300px; height:20px; vertical-align: middle;'></progress>\n",
       "      [ 1563/31260 03:04 < 58:33, 8.45 it/s, Epoch 1/20]\n",
       "    </div>\n",
       "    <table border=\"1\" class=\"dataframe\">\n",
       "  <thead>\n",
       " <tr style=\"text-align: left;\">\n",
       "      <th>Epoch</th>\n",
       "      <th>Training Loss</th>\n",
       "      <th>Validation Loss</th>\n",
       "      <th>Accuracy</th>\n",
       "      <th>Precision</th>\n",
       "      <th>Recall</th>\n",
       "      <th>F1</th>\n",
       "    </tr>\n",
       "  </thead>\n",
       "  <tbody>\n",
       "    <tr>\n",
       "      <td>1</td>\n",
       "      <td>1.151700</td>\n",
       "      <td>1.025239</td>\n",
       "      <td>0.644400</td>\n",
       "      <td>0.656923</td>\n",
       "      <td>0.644400</td>\n",
       "      <td>0.643589</td>\n",
       "    </tr>\n",
       "  </tbody>\n",
       "</table><p>"
      ],
      "text/plain": [
       "<IPython.core.display.HTML object>"
      ]
     },
     "metadata": {},
     "output_type": "display_data"
    },
    {
     "name": "stderr",
     "output_type": "stream",
     "text": [
      "[I 2025-01-02 09:45:37,800] Trial 64 pruned. \n"
     ]
    },
    {
     "data": {
      "text/html": [
       "\n",
       "    <div>\n",
       "      \n",
       "      <progress value='1563' max='31260' style='width:300px; height:20px; vertical-align: middle;'></progress>\n",
       "      [ 1563/31260 03:04 < 58:37, 8.44 it/s, Epoch 1/20]\n",
       "    </div>\n",
       "    <table border=\"1\" class=\"dataframe\">\n",
       "  <thead>\n",
       " <tr style=\"text-align: left;\">\n",
       "      <th>Epoch</th>\n",
       "      <th>Training Loss</th>\n",
       "      <th>Validation Loss</th>\n",
       "      <th>Accuracy</th>\n",
       "      <th>Precision</th>\n",
       "      <th>Recall</th>\n",
       "      <th>F1</th>\n",
       "    </tr>\n",
       "  </thead>\n",
       "  <tbody>\n",
       "    <tr>\n",
       "      <td>1</td>\n",
       "      <td>1.850300</td>\n",
       "      <td>1.716463</td>\n",
       "      <td>0.378400</td>\n",
       "      <td>0.381629</td>\n",
       "      <td>0.378400</td>\n",
       "      <td>0.353788</td>\n",
       "    </tr>\n",
       "  </tbody>\n",
       "</table><p>"
      ],
      "text/plain": [
       "<IPython.core.display.HTML object>"
      ]
     },
     "metadata": {},
     "output_type": "display_data"
    },
    {
     "name": "stderr",
     "output_type": "stream",
     "text": [
      "[I 2025-01-02 09:48:43,123] Trial 65 pruned. \n"
     ]
    },
    {
     "data": {
      "text/html": [
       "\n",
       "    <div>\n",
       "      \n",
       "      <progress value='3125' max='62500' style='width:300px; height:20px; vertical-align: middle;'></progress>\n",
       "      [ 3125/62500 03:16 < 1:02:13, 15.91 it/s, Epoch 1/20]\n",
       "    </div>\n",
       "    <table border=\"1\" class=\"dataframe\">\n",
       "  <thead>\n",
       " <tr style=\"text-align: left;\">\n",
       "      <th>Epoch</th>\n",
       "      <th>Training Loss</th>\n",
       "      <th>Validation Loss</th>\n",
       "      <th>Accuracy</th>\n",
       "      <th>Precision</th>\n",
       "      <th>Recall</th>\n",
       "      <th>F1</th>\n",
       "    </tr>\n",
       "  </thead>\n",
       "  <tbody>\n",
       "    <tr>\n",
       "      <td>1</td>\n",
       "      <td>1.895300</td>\n",
       "      <td>1.697678</td>\n",
       "      <td>0.363300</td>\n",
       "      <td>0.356916</td>\n",
       "      <td>0.363300</td>\n",
       "      <td>0.346378</td>\n",
       "    </tr>\n",
       "  </tbody>\n",
       "</table><p>"
      ],
      "text/plain": [
       "<IPython.core.display.HTML object>"
      ]
     },
     "metadata": {},
     "output_type": "display_data"
    },
    {
     "name": "stderr",
     "output_type": "stream",
     "text": [
      "[I 2025-01-02 09:51:59,834] Trial 66 pruned. \n"
     ]
    },
    {
     "data": {
      "text/html": [
       "\n",
       "    <div>\n",
       "      \n",
       "      <progress value='1563' max='31260' style='width:300px; height:20px; vertical-align: middle;'></progress>\n",
       "      [ 1563/31260 03:06 < 59:03, 8.38 it/s, Epoch 1/20]\n",
       "    </div>\n",
       "    <table border=\"1\" class=\"dataframe\">\n",
       "  <thead>\n",
       " <tr style=\"text-align: left;\">\n",
       "      <th>Epoch</th>\n",
       "      <th>Training Loss</th>\n",
       "      <th>Validation Loss</th>\n",
       "      <th>Accuracy</th>\n",
       "      <th>Precision</th>\n",
       "      <th>Recall</th>\n",
       "      <th>F1</th>\n",
       "    </tr>\n",
       "  </thead>\n",
       "  <tbody>\n",
       "    <tr>\n",
       "      <td>1</td>\n",
       "      <td>1.188200</td>\n",
       "      <td>1.067581</td>\n",
       "      <td>0.620100</td>\n",
       "      <td>0.634565</td>\n",
       "      <td>0.620100</td>\n",
       "      <td>0.613788</td>\n",
       "    </tr>\n",
       "  </tbody>\n",
       "</table><p>"
      ],
      "text/plain": [
       "<IPython.core.display.HTML object>"
      ]
     },
     "metadata": {},
     "output_type": "display_data"
    },
    {
     "name": "stderr",
     "output_type": "stream",
     "text": [
      "[I 2025-01-02 09:55:06,496] Trial 67 pruned. \n"
     ]
    },
    {
     "data": {
      "text/html": [
       "\n",
       "    <div>\n",
       "      \n",
       "      <progress value='782' max='15640' style='width:300px; height:20px; vertical-align: middle;'></progress>\n",
       "      [  782/15640 03:01 < 57:42, 4.29 it/s, Epoch 1/20]\n",
       "    </div>\n",
       "    <table border=\"1\" class=\"dataframe\">\n",
       "  <thead>\n",
       " <tr style=\"text-align: left;\">\n",
       "      <th>Epoch</th>\n",
       "      <th>Training Loss</th>\n",
       "      <th>Validation Loss</th>\n",
       "      <th>Accuracy</th>\n",
       "      <th>Precision</th>\n",
       "      <th>Recall</th>\n",
       "      <th>F1</th>\n",
       "    </tr>\n",
       "  </thead>\n",
       "  <tbody>\n",
       "    <tr>\n",
       "      <td>1</td>\n",
       "      <td>1.891300</td>\n",
       "      <td>1.376721</td>\n",
       "      <td>0.500300</td>\n",
       "      <td>0.505400</td>\n",
       "      <td>0.500300</td>\n",
       "      <td>0.482058</td>\n",
       "    </tr>\n",
       "  </tbody>\n",
       "</table><p>"
      ],
      "text/plain": [
       "<IPython.core.display.HTML object>"
      ]
     },
     "metadata": {},
     "output_type": "display_data"
    },
    {
     "name": "stderr",
     "output_type": "stream",
     "text": [
      "[I 2025-01-02 09:58:08,805] Trial 68 pruned. \n"
     ]
    },
    {
     "data": {
      "text/html": [
       "\n",
       "    <div>\n",
       "      \n",
       "      <progress value='782' max='15640' style='width:300px; height:20px; vertical-align: middle;'></progress>\n",
       "      [  782/15640 03:01 < 57:45, 4.29 it/s, Epoch 1/20]\n",
       "    </div>\n",
       "    <table border=\"1\" class=\"dataframe\">\n",
       "  <thead>\n",
       " <tr style=\"text-align: left;\">\n",
       "      <th>Epoch</th>\n",
       "      <th>Training Loss</th>\n",
       "      <th>Validation Loss</th>\n",
       "      <th>Accuracy</th>\n",
       "      <th>Precision</th>\n",
       "      <th>Recall</th>\n",
       "      <th>F1</th>\n",
       "    </tr>\n",
       "  </thead>\n",
       "  <tbody>\n",
       "    <tr>\n",
       "      <td>1</td>\n",
       "      <td>1.972200</td>\n",
       "      <td>1.504391</td>\n",
       "      <td>0.442200</td>\n",
       "      <td>0.459842</td>\n",
       "      <td>0.442200</td>\n",
       "      <td>0.422996</td>\n",
       "    </tr>\n",
       "  </tbody>\n",
       "</table><p>"
      ],
      "text/plain": [
       "<IPython.core.display.HTML object>"
      ]
     },
     "metadata": {},
     "output_type": "display_data"
    },
    {
     "name": "stderr",
     "output_type": "stream",
     "text": [
      "[I 2025-01-02 10:01:11,313] Trial 69 pruned. \n"
     ]
    },
    {
     "data": {
      "text/html": [
       "\n",
       "    <div>\n",
       "      \n",
       "      <progress value='782' max='15640' style='width:300px; height:20px; vertical-align: middle;'></progress>\n",
       "      [  782/15640 03:01 < 57:39, 4.30 it/s, Epoch 1/20]\n",
       "    </div>\n",
       "    <table border=\"1\" class=\"dataframe\">\n",
       "  <thead>\n",
       " <tr style=\"text-align: left;\">\n",
       "      <th>Epoch</th>\n",
       "      <th>Training Loss</th>\n",
       "      <th>Validation Loss</th>\n",
       "      <th>Accuracy</th>\n",
       "      <th>Precision</th>\n",
       "      <th>Recall</th>\n",
       "      <th>F1</th>\n",
       "    </tr>\n",
       "  </thead>\n",
       "  <tbody>\n",
       "    <tr>\n",
       "      <td>1</td>\n",
       "      <td>1.736500</td>\n",
       "      <td>1.190998</td>\n",
       "      <td>0.578900</td>\n",
       "      <td>0.600939</td>\n",
       "      <td>0.578900</td>\n",
       "      <td>0.570389</td>\n",
       "    </tr>\n",
       "  </tbody>\n",
       "</table><p>"
      ],
      "text/plain": [
       "<IPython.core.display.HTML object>"
      ]
     },
     "metadata": {},
     "output_type": "display_data"
    },
    {
     "name": "stderr",
     "output_type": "stream",
     "text": [
      "[I 2025-01-02 10:04:13,516] Trial 70 pruned. \n"
     ]
    },
    {
     "data": {
      "text/html": [
       "\n",
       "    <div>\n",
       "      \n",
       "      <progress value='1563' max='31260' style='width:300px; height:20px; vertical-align: middle;'></progress>\n",
       "      [ 1563/31260 03:03 < 58:17, 8.49 it/s, Epoch 1/20]\n",
       "    </div>\n",
       "    <table border=\"1\" class=\"dataframe\">\n",
       "  <thead>\n",
       " <tr style=\"text-align: left;\">\n",
       "      <th>Epoch</th>\n",
       "      <th>Training Loss</th>\n",
       "      <th>Validation Loss</th>\n",
       "      <th>Accuracy</th>\n",
       "      <th>Precision</th>\n",
       "      <th>Recall</th>\n",
       "      <th>F1</th>\n",
       "    </tr>\n",
       "  </thead>\n",
       "  <tbody>\n",
       "    <tr>\n",
       "      <td>1</td>\n",
       "      <td>2.409800</td>\n",
       "      <td>2.241018</td>\n",
       "      <td>0.176400</td>\n",
       "      <td>0.158579</td>\n",
       "      <td>0.176400</td>\n",
       "      <td>0.126092</td>\n",
       "    </tr>\n",
       "  </tbody>\n",
       "</table><p>"
      ],
      "text/plain": [
       "<IPython.core.display.HTML object>"
      ]
     },
     "metadata": {},
     "output_type": "display_data"
    },
    {
     "name": "stderr",
     "output_type": "stream",
     "text": [
      "/usr/local/lib/python3.10/dist-packages/sklearn/metrics/_classification.py:1531: UndefinedMetricWarning: Precision is ill-defined and being set to 0.0 in labels with no predicted samples. Use `zero_division` parameter to control this behavior.\n",
      "  _warn_prf(average, modifier, f\"{metric.capitalize()} is\", len(result))\n",
      "[I 2025-01-02 10:07:17,857] Trial 71 pruned. \n"
     ]
    },
    {
     "data": {
      "text/html": [
       "\n",
       "    <div>\n",
       "      \n",
       "      <progress value='1563' max='31260' style='width:300px; height:20px; vertical-align: middle;'></progress>\n",
       "      [ 1563/31260 03:04 < 58:21, 8.48 it/s, Epoch 1/20]\n",
       "    </div>\n",
       "    <table border=\"1\" class=\"dataframe\">\n",
       "  <thead>\n",
       " <tr style=\"text-align: left;\">\n",
       "      <th>Epoch</th>\n",
       "      <th>Training Loss</th>\n",
       "      <th>Validation Loss</th>\n",
       "      <th>Accuracy</th>\n",
       "      <th>Precision</th>\n",
       "      <th>Recall</th>\n",
       "      <th>F1</th>\n",
       "    </tr>\n",
       "  </thead>\n",
       "  <tbody>\n",
       "    <tr>\n",
       "      <td>1</td>\n",
       "      <td>2.191700</td>\n",
       "      <td>1.968132</td>\n",
       "      <td>0.267500</td>\n",
       "      <td>0.258725</td>\n",
       "      <td>0.267500</td>\n",
       "      <td>0.243569</td>\n",
       "    </tr>\n",
       "  </tbody>\n",
       "</table><p>"
      ],
      "text/plain": [
       "<IPython.core.display.HTML object>"
      ]
     },
     "metadata": {},
     "output_type": "display_data"
    },
    {
     "name": "stderr",
     "output_type": "stream",
     "text": [
      "[I 2025-01-02 10:10:22,321] Trial 72 pruned. \n"
     ]
    },
    {
     "data": {
      "text/html": [
       "\n",
       "    <div>\n",
       "      \n",
       "      <progress value='782' max='15640' style='width:300px; height:20px; vertical-align: middle;'></progress>\n",
       "      [  782/15640 03:01 < 57:41, 4.29 it/s, Epoch 1/20]\n",
       "    </div>\n",
       "    <table border=\"1\" class=\"dataframe\">\n",
       "  <thead>\n",
       " <tr style=\"text-align: left;\">\n",
       "      <th>Epoch</th>\n",
       "      <th>Training Loss</th>\n",
       "      <th>Validation Loss</th>\n",
       "      <th>Accuracy</th>\n",
       "      <th>Precision</th>\n",
       "      <th>Recall</th>\n",
       "      <th>F1</th>\n",
       "    </tr>\n",
       "  </thead>\n",
       "  <tbody>\n",
       "    <tr>\n",
       "      <td>1</td>\n",
       "      <td>2.165100</td>\n",
       "      <td>1.730219</td>\n",
       "      <td>0.370400</td>\n",
       "      <td>0.374917</td>\n",
       "      <td>0.370400</td>\n",
       "      <td>0.348944</td>\n",
       "    </tr>\n",
       "  </tbody>\n",
       "</table><p>"
      ],
      "text/plain": [
       "<IPython.core.display.HTML object>"
      ]
     },
     "metadata": {},
     "output_type": "display_data"
    },
    {
     "name": "stderr",
     "output_type": "stream",
     "text": [
      "[I 2025-01-02 10:13:24,602] Trial 73 pruned. \n"
     ]
    },
    {
     "data": {
      "text/html": [
       "\n",
       "    <div>\n",
       "      \n",
       "      <progress value='782' max='15640' style='width:300px; height:20px; vertical-align: middle;'></progress>\n",
       "      [  782/15640 03:01 < 57:32, 4.30 it/s, Epoch 1/20]\n",
       "    </div>\n",
       "    <table border=\"1\" class=\"dataframe\">\n",
       "  <thead>\n",
       " <tr style=\"text-align: left;\">\n",
       "      <th>Epoch</th>\n",
       "      <th>Training Loss</th>\n",
       "      <th>Validation Loss</th>\n",
       "      <th>Accuracy</th>\n",
       "      <th>Precision</th>\n",
       "      <th>Recall</th>\n",
       "      <th>F1</th>\n",
       "    </tr>\n",
       "  </thead>\n",
       "  <tbody>\n",
       "    <tr>\n",
       "      <td>1</td>\n",
       "      <td>2.461200</td>\n",
       "      <td>2.278863</td>\n",
       "      <td>0.134000</td>\n",
       "      <td>0.111617</td>\n",
       "      <td>0.134000</td>\n",
       "      <td>0.080842</td>\n",
       "    </tr>\n",
       "  </tbody>\n",
       "</table><p>"
      ],
      "text/plain": [
       "<IPython.core.display.HTML object>"
      ]
     },
     "metadata": {},
     "output_type": "display_data"
    },
    {
     "name": "stderr",
     "output_type": "stream",
     "text": [
      "/usr/local/lib/python3.10/dist-packages/sklearn/metrics/_classification.py:1531: UndefinedMetricWarning: Precision is ill-defined and being set to 0.0 in labels with no predicted samples. Use `zero_division` parameter to control this behavior.\n",
      "  _warn_prf(average, modifier, f\"{metric.capitalize()} is\", len(result))\n",
      "[I 2025-01-02 10:16:26,450] Trial 74 pruned. \n"
     ]
    },
    {
     "data": {
      "text/html": [
       "\n",
       "    <div>\n",
       "      \n",
       "      <progress value='1563' max='31260' style='width:300px; height:20px; vertical-align: middle;'></progress>\n",
       "      [ 1563/31260 03:03 < 58:16, 8.49 it/s, Epoch 1/20]\n",
       "    </div>\n",
       "    <table border=\"1\" class=\"dataframe\">\n",
       "  <thead>\n",
       " <tr style=\"text-align: left;\">\n",
       "      <th>Epoch</th>\n",
       "      <th>Training Loss</th>\n",
       "      <th>Validation Loss</th>\n",
       "      <th>Accuracy</th>\n",
       "      <th>Precision</th>\n",
       "      <th>Recall</th>\n",
       "      <th>F1</th>\n",
       "    </tr>\n",
       "  </thead>\n",
       "  <tbody>\n",
       "    <tr>\n",
       "      <td>1</td>\n",
       "      <td>2.384500</td>\n",
       "      <td>2.205562</td>\n",
       "      <td>0.190100</td>\n",
       "      <td>0.205238</td>\n",
       "      <td>0.190100</td>\n",
       "      <td>0.147229</td>\n",
       "    </tr>\n",
       "  </tbody>\n",
       "</table><p>"
      ],
      "text/plain": [
       "<IPython.core.display.HTML object>"
      ]
     },
     "metadata": {},
     "output_type": "display_data"
    },
    {
     "name": "stderr",
     "output_type": "stream",
     "text": [
      "[I 2025-01-02 10:19:30,701] Trial 75 pruned. \n"
     ]
    },
    {
     "data": {
      "text/html": [
       "\n",
       "    <div>\n",
       "      \n",
       "      <progress value='3125' max='62500' style='width:300px; height:20px; vertical-align: middle;'></progress>\n",
       "      [ 3125/62500 03:15 < 1:02:02, 15.95 it/s, Epoch 1/20]\n",
       "    </div>\n",
       "    <table border=\"1\" class=\"dataframe\">\n",
       "  <thead>\n",
       " <tr style=\"text-align: left;\">\n",
       "      <th>Epoch</th>\n",
       "      <th>Training Loss</th>\n",
       "      <th>Validation Loss</th>\n",
       "      <th>Accuracy</th>\n",
       "      <th>Precision</th>\n",
       "      <th>Recall</th>\n",
       "      <th>F1</th>\n",
       "    </tr>\n",
       "  </thead>\n",
       "  <tbody>\n",
       "    <tr>\n",
       "      <td>1</td>\n",
       "      <td>1.713100</td>\n",
       "      <td>1.561944</td>\n",
       "      <td>0.422700</td>\n",
       "      <td>0.432257</td>\n",
       "      <td>0.422700</td>\n",
       "      <td>0.400689</td>\n",
       "    </tr>\n",
       "  </tbody>\n",
       "</table><p>"
      ],
      "text/plain": [
       "<IPython.core.display.HTML object>"
      ]
     },
     "metadata": {},
     "output_type": "display_data"
    },
    {
     "name": "stderr",
     "output_type": "stream",
     "text": [
      "[I 2025-01-02 10:22:46,830] Trial 76 pruned. \n"
     ]
    },
    {
     "data": {
      "text/html": [
       "\n",
       "    <div>\n",
       "      \n",
       "      <progress value='782' max='15640' style='width:300px; height:20px; vertical-align: middle;'></progress>\n",
       "      [  782/15640 03:01 < 57:32, 4.30 it/s, Epoch 1/20]\n",
       "    </div>\n",
       "    <table border=\"1\" class=\"dataframe\">\n",
       "  <thead>\n",
       " <tr style=\"text-align: left;\">\n",
       "      <th>Epoch</th>\n",
       "      <th>Training Loss</th>\n",
       "      <th>Validation Loss</th>\n",
       "      <th>Accuracy</th>\n",
       "      <th>Precision</th>\n",
       "      <th>Recall</th>\n",
       "      <th>F1</th>\n",
       "    </tr>\n",
       "  </thead>\n",
       "  <tbody>\n",
       "    <tr>\n",
       "      <td>1</td>\n",
       "      <td>1.797100</td>\n",
       "      <td>1.191304</td>\n",
       "      <td>0.578000</td>\n",
       "      <td>0.590367</td>\n",
       "      <td>0.578000</td>\n",
       "      <td>0.571984</td>\n",
       "    </tr>\n",
       "  </tbody>\n",
       "</table><p>"
      ],
      "text/plain": [
       "<IPython.core.display.HTML object>"
      ]
     },
     "metadata": {},
     "output_type": "display_data"
    },
    {
     "name": "stderr",
     "output_type": "stream",
     "text": [
      "[I 2025-01-02 10:25:49,006] Trial 77 pruned. \n"
     ]
    },
    {
     "data": {
      "text/html": [
       "\n",
       "    <div>\n",
       "      \n",
       "      <progress value='782' max='15640' style='width:300px; height:20px; vertical-align: middle;'></progress>\n",
       "      [  782/15640 03:02 < 57:55, 4.27 it/s, Epoch 1/20]\n",
       "    </div>\n",
       "    <table border=\"1\" class=\"dataframe\">\n",
       "  <thead>\n",
       " <tr style=\"text-align: left;\">\n",
       "      <th>Epoch</th>\n",
       "      <th>Training Loss</th>\n",
       "      <th>Validation Loss</th>\n",
       "      <th>Accuracy</th>\n",
       "      <th>Precision</th>\n",
       "      <th>Recall</th>\n",
       "      <th>F1</th>\n",
       "    </tr>\n",
       "  </thead>\n",
       "  <tbody>\n",
       "    <tr>\n",
       "      <td>1</td>\n",
       "      <td>2.446200</td>\n",
       "      <td>2.238760</td>\n",
       "      <td>0.177500</td>\n",
       "      <td>0.156460</td>\n",
       "      <td>0.177500</td>\n",
       "      <td>0.125903</td>\n",
       "    </tr>\n",
       "  </tbody>\n",
       "</table><p>"
      ],
      "text/plain": [
       "<IPython.core.display.HTML object>"
      ]
     },
     "metadata": {},
     "output_type": "display_data"
    },
    {
     "name": "stderr",
     "output_type": "stream",
     "text": [
      "/usr/local/lib/python3.10/dist-packages/sklearn/metrics/_classification.py:1531: UndefinedMetricWarning: Precision is ill-defined and being set to 0.0 in labels with no predicted samples. Use `zero_division` parameter to control this behavior.\n",
      "  _warn_prf(average, modifier, f\"{metric.capitalize()} is\", len(result))\n",
      "[I 2025-01-02 10:28:52,219] Trial 78 pruned. \n"
     ]
    },
    {
     "data": {
      "text/html": [
       "\n",
       "    <div>\n",
       "      \n",
       "      <progress value='1563' max='31260' style='width:300px; height:20px; vertical-align: middle;'></progress>\n",
       "      [ 1563/31260 03:05 < 58:47, 8.42 it/s, Epoch 1/20]\n",
       "    </div>\n",
       "    <table border=\"1\" class=\"dataframe\">\n",
       "  <thead>\n",
       " <tr style=\"text-align: left;\">\n",
       "      <th>Epoch</th>\n",
       "      <th>Training Loss</th>\n",
       "      <th>Validation Loss</th>\n",
       "      <th>Accuracy</th>\n",
       "      <th>Precision</th>\n",
       "      <th>Recall</th>\n",
       "      <th>F1</th>\n",
       "    </tr>\n",
       "  </thead>\n",
       "  <tbody>\n",
       "    <tr>\n",
       "      <td>1</td>\n",
       "      <td>1.398200</td>\n",
       "      <td>1.267022</td>\n",
       "      <td>0.539300</td>\n",
       "      <td>0.552113</td>\n",
       "      <td>0.539300</td>\n",
       "      <td>0.525163</td>\n",
       "    </tr>\n",
       "  </tbody>\n",
       "</table><p>"
      ],
      "text/plain": [
       "<IPython.core.display.HTML object>"
      ]
     },
     "metadata": {},
     "output_type": "display_data"
    },
    {
     "name": "stderr",
     "output_type": "stream",
     "text": [
      "[I 2025-01-02 10:31:58,127] Trial 79 pruned. \n"
     ]
    }
   ],
   "source": [
    "best_trial = trainer.hyperparameter_search(\n",
    "    direction=\"maximize\",\n",
    "    backend=\"optuna\",\n",
    "    hp_space=hp_space,\n",
    "    compute_objective=lambda metrics: metrics[\"eval_f1\"],\n",
    "    pruner=pruner,\n",
    "    sampler=sampler,\n",
    "    n_trials=80\n",
    ")"
   ]
  },
  {
   "cell_type": "markdown",
   "id": "87594fbb",
   "metadata": {},
   "source": [
    "## Definice destilačního tréninku\n",
    "\n",
    "Třída, která upravuje hugging face trenéra pro destilaci znalostí. Nově pracuje s logity uloženými v datasetu."
   ]
  },
  {
   "cell_type": "code",
   "execution_count": 17,
   "id": "cc8c9348-c31e-49af-b26c-f9e2ab599bf0",
   "metadata": {},
   "outputs": [],
   "source": [
    "class ImageDistilTrainer(Trainer):\n",
    "    def __init__(self, model_init, *args, **kwargs):\n",
    "        self.model_init = model_init\n",
    "        self.loss_function = nn.KLDivLoss(reduction=\"batchmean\")\n",
    "       \n",
    "        super().__init__(model_init=model_init, *args, **kwargs)\n",
    "        \n",
    "        self.student = self.model_init()\n",
    "        self.temperature = self.args.temperature\n",
    "        self.lambda_param = self.args.lambda_param\n",
    "\n",
    "        device = torch.device('cuda' if torch.cuda.is_available() else 'cpu')\n",
    "        self.student.to(device)\n",
    "\n",
    "\n",
    "    def compute_loss(self, model, inputs, return_outputs=False):\n",
    "        logits = inputs.pop(\"logits\")\n",
    "\n",
    "        student_output = model(**inputs)\n",
    "        self.lambda_param = self.args.lambda_param\n",
    "        self.temperature = self.args.temperature\n",
    "        \n",
    "        soft_teacher = F.softmax(logits / self.temperature, dim=-1)\n",
    "        soft_student = F.log_softmax(student_output.logits / self.temperature, dim=-1)\n",
    "\n",
    "        distillation_loss = self.loss_function(soft_student, soft_teacher) * (self.temperature ** 2)\n",
    "\n",
    "        student_target_loss = student_output.loss\n",
    "\n",
    "        loss = ((1. - self.lambda_param) * student_target_loss + self.lambda_param * distillation_loss)\n",
    "        return (loss, student_output) if return_outputs else loss"
   ]
  },
  {
   "cell_type": "markdown",
   "id": "3fd84cda",
   "metadata": {},
   "source": [
    "### Trénink náhodně inicializovaného modelu s pomocí destilace znalostí"
   ]
  },
  {
   "cell_type": "code",
   "execution_count": 18,
   "id": "24f990e8-d259-44c7-b85b-cca2f4f97a8e",
   "metadata": {},
   "outputs": [],
   "source": [
    "reset_seed(42)"
   ]
  },
  {
   "cell_type": "code",
   "execution_count": 19,
   "id": "aad7fa0f-f432-4e99-bb07-31951b7858f1",
   "metadata": {},
   "outputs": [],
   "source": [
    "training_args = get_training_args(\"./results/cifar10-random-KD\", './logs/cifar10-random-KD', False)"
   ]
  },
  {
   "cell_type": "code",
   "execution_count": 20,
   "id": "912fc08a",
   "metadata": {},
   "outputs": [],
   "source": [
    "def hp_space(trial):\n",
    "    return {\n",
    "        \"learning_rate\": trial.suggest_float(\"learning_rate\", 1e-6, 5e-4, log=True),\n",
    "        \"per_device_train_batch_size\": trial.suggest_categorical(\"per_device_train_batch_size\", [16, 32, 64]),\n",
    "        \"weight_decay\": trial.suggest_float(\"weight_decay\", 0, 1e-2, step=1e-3),\n",
    "        \"lambda_param\": trial.suggest_float(\"lambda_param\",0,1,step=.1),\n",
    "        \"temperature\": trial.suggest_float(\"temperature\", 2,7, step=.5)\n",
    "    }"
   ]
  },
  {
   "cell_type": "code",
   "execution_count": 21,
   "id": "43af926a-dba5-468f-9a48-c4c581e97893",
   "metadata": {},
   "outputs": [],
   "source": [
    "trainer = ImageDistilTrainer(\n",
    "    args=training_args,\n",
    "    train_dataset=train,\n",
    "    eval_dataset=test,\n",
    "    compute_metrics=compute_metrics,\n",
    "    model_init=get_random_init_mobilenet,\n",
    "    callbacks = [EarlyStoppingCallback(early_stopping_patience=3)]\n",
    ")"
   ]
  },
  {
   "cell_type": "code",
   "execution_count": 22,
   "id": "5a260de3",
   "metadata": {},
   "outputs": [
    {
     "name": "stderr",
     "output_type": "stream",
     "text": [
      "/usr/local/lib/python3.10/dist-packages/optuna/_experimental.py:31: ExperimentalWarning: Argument ``multivariate`` is an experimental feature. The interface can change in the future.\n",
      "  warnings.warn(\n"
     ]
    }
   ],
   "source": [
    "pruner = optuna.pruners.HyperbandPruner(min_resource=1, reduction_factor=4)\n",
    "sampler = optuna.samplers.TPESampler(seed=42, multivariate=True)"
   ]
  },
  {
   "cell_type": "code",
   "execution_count": 23,
   "id": "301cc3b0",
   "metadata": {},
   "outputs": [
    {
     "name": "stderr",
     "output_type": "stream",
     "text": [
      "[I 2025-01-02 10:31:58,319] A new study created in memory with name: no-name-c949043e-bbe5-4784-8e94-3711ffa24f5e\n"
     ]
    },
    {
     "data": {
      "text/html": [
       "\n",
       "    <div>\n",
       "      \n",
       "      <progress value='40625' max='62500' style='width:300px; height:20px; vertical-align: middle;'></progress>\n",
       "      [40625/62500 42:37 < 22:57, 15.88 it/s, Epoch 13/20]\n",
       "    </div>\n",
       "    <table border=\"1\" class=\"dataframe\">\n",
       "  <thead>\n",
       " <tr style=\"text-align: left;\">\n",
       "      <th>Epoch</th>\n",
       "      <th>Training Loss</th>\n",
       "      <th>Validation Loss</th>\n",
       "      <th>Accuracy</th>\n",
       "      <th>Precision</th>\n",
       "      <th>Recall</th>\n",
       "      <th>F1</th>\n",
       "    </tr>\n",
       "  </thead>\n",
       "  <tbody>\n",
       "    <tr>\n",
       "      <td>1</td>\n",
       "      <td>1.826100</td>\n",
       "      <td>1.794448</td>\n",
       "      <td>0.356200</td>\n",
       "      <td>0.363023</td>\n",
       "      <td>0.356200</td>\n",
       "      <td>0.332477</td>\n",
       "    </tr>\n",
       "    <tr>\n",
       "      <td>2</td>\n",
       "      <td>1.663900</td>\n",
       "      <td>1.638281</td>\n",
       "      <td>0.429000</td>\n",
       "      <td>0.451496</td>\n",
       "      <td>0.429000</td>\n",
       "      <td>0.430032</td>\n",
       "    </tr>\n",
       "    <tr>\n",
       "      <td>3</td>\n",
       "      <td>1.506000</td>\n",
       "      <td>1.536666</td>\n",
       "      <td>0.490100</td>\n",
       "      <td>0.496502</td>\n",
       "      <td>0.490100</td>\n",
       "      <td>0.486227</td>\n",
       "    </tr>\n",
       "    <tr>\n",
       "      <td>4</td>\n",
       "      <td>1.396100</td>\n",
       "      <td>1.514397</td>\n",
       "      <td>0.516500</td>\n",
       "      <td>0.521185</td>\n",
       "      <td>0.516500</td>\n",
       "      <td>0.506952</td>\n",
       "    </tr>\n",
       "    <tr>\n",
       "      <td>5</td>\n",
       "      <td>1.311700</td>\n",
       "      <td>1.508902</td>\n",
       "      <td>0.527800</td>\n",
       "      <td>0.575985</td>\n",
       "      <td>0.527800</td>\n",
       "      <td>0.532914</td>\n",
       "    </tr>\n",
       "    <tr>\n",
       "      <td>6</td>\n",
       "      <td>1.262200</td>\n",
       "      <td>1.367924</td>\n",
       "      <td>0.586400</td>\n",
       "      <td>0.578568</td>\n",
       "      <td>0.586400</td>\n",
       "      <td>0.576121</td>\n",
       "    </tr>\n",
       "    <tr>\n",
       "      <td>7</td>\n",
       "      <td>1.198600</td>\n",
       "      <td>1.423449</td>\n",
       "      <td>0.576800</td>\n",
       "      <td>0.601245</td>\n",
       "      <td>0.576800</td>\n",
       "      <td>0.572559</td>\n",
       "    </tr>\n",
       "    <tr>\n",
       "      <td>8</td>\n",
       "      <td>1.125700</td>\n",
       "      <td>1.765431</td>\n",
       "      <td>0.509900</td>\n",
       "      <td>0.563286</td>\n",
       "      <td>0.509900</td>\n",
       "      <td>0.494695</td>\n",
       "    </tr>\n",
       "    <tr>\n",
       "      <td>9</td>\n",
       "      <td>1.058500</td>\n",
       "      <td>1.310685</td>\n",
       "      <td>0.626400</td>\n",
       "      <td>0.646086</td>\n",
       "      <td>0.626400</td>\n",
       "      <td>0.620627</td>\n",
       "    </tr>\n",
       "    <tr>\n",
       "      <td>10</td>\n",
       "      <td>1.029100</td>\n",
       "      <td>1.226045</td>\n",
       "      <td>0.662000</td>\n",
       "      <td>0.674270</td>\n",
       "      <td>0.662000</td>\n",
       "      <td>0.660745</td>\n",
       "    </tr>\n",
       "    <tr>\n",
       "      <td>11</td>\n",
       "      <td>0.966900</td>\n",
       "      <td>1.269712</td>\n",
       "      <td>0.662300</td>\n",
       "      <td>0.663619</td>\n",
       "      <td>0.662300</td>\n",
       "      <td>0.657457</td>\n",
       "    </tr>\n",
       "    <tr>\n",
       "      <td>12</td>\n",
       "      <td>0.932300</td>\n",
       "      <td>1.227484</td>\n",
       "      <td>0.660400</td>\n",
       "      <td>0.673596</td>\n",
       "      <td>0.660400</td>\n",
       "      <td>0.659932</td>\n",
       "    </tr>\n",
       "    <tr>\n",
       "      <td>13</td>\n",
       "      <td>0.930400</td>\n",
       "      <td>1.289063</td>\n",
       "      <td>0.647100</td>\n",
       "      <td>0.674628</td>\n",
       "      <td>0.647100</td>\n",
       "      <td>0.649383</td>\n",
       "    </tr>\n",
       "  </tbody>\n",
       "</table><p>"
      ],
      "text/plain": [
       "<IPython.core.display.HTML object>"
      ]
     },
     "metadata": {},
     "output_type": "display_data"
    },
    {
     "name": "stderr",
     "output_type": "stream",
     "text": [
      "[I 2025-01-02 11:14:36,692] Trial 0 finished with value: 0.6493830756403727 and parameters: {'learning_rate': 1.0253509690168497e-05, 'per_device_train_batch_size': 16, 'weight_decay': 0.001, 'lambda_param': 0.1, 'temperature': 2.0}. Best is trial 0 with value: 0.6493830756403727.\n"
     ]
    },
    {
     "data": {
      "text/html": [
       "\n",
       "    <div>\n",
       "      \n",
       "      <progress value='26571' max='31260' style='width:300px; height:20px; vertical-align: middle;'></progress>\n",
       "      [26571/31260 52:11 < 09:12, 8.49 it/s, Epoch 17/20]\n",
       "    </div>\n",
       "    <table border=\"1\" class=\"dataframe\">\n",
       "  <thead>\n",
       " <tr style=\"text-align: left;\">\n",
       "      <th>Epoch</th>\n",
       "      <th>Training Loss</th>\n",
       "      <th>Validation Loss</th>\n",
       "      <th>Accuracy</th>\n",
       "      <th>Precision</th>\n",
       "      <th>Recall</th>\n",
       "      <th>F1</th>\n",
       "    </tr>\n",
       "  </thead>\n",
       "  <tbody>\n",
       "    <tr>\n",
       "      <td>1</td>\n",
       "      <td>0.650800</td>\n",
       "      <td>1.645658</td>\n",
       "      <td>0.641600</td>\n",
       "      <td>0.651808</td>\n",
       "      <td>0.641600</td>\n",
       "      <td>0.630255</td>\n",
       "    </tr>\n",
       "    <tr>\n",
       "      <td>2</td>\n",
       "      <td>0.467800</td>\n",
       "      <td>1.807167</td>\n",
       "      <td>0.725200</td>\n",
       "      <td>0.751262</td>\n",
       "      <td>0.725200</td>\n",
       "      <td>0.725268</td>\n",
       "    </tr>\n",
       "    <tr>\n",
       "      <td>3</td>\n",
       "      <td>0.372000</td>\n",
       "      <td>1.774964</td>\n",
       "      <td>0.796000</td>\n",
       "      <td>0.797620</td>\n",
       "      <td>0.796000</td>\n",
       "      <td>0.793375</td>\n",
       "    </tr>\n",
       "    <tr>\n",
       "      <td>4</td>\n",
       "      <td>0.311600</td>\n",
       "      <td>1.782879</td>\n",
       "      <td>0.820700</td>\n",
       "      <td>0.821734</td>\n",
       "      <td>0.820700</td>\n",
       "      <td>0.819950</td>\n",
       "    </tr>\n",
       "    <tr>\n",
       "      <td>5</td>\n",
       "      <td>0.266400</td>\n",
       "      <td>1.785201</td>\n",
       "      <td>0.801300</td>\n",
       "      <td>0.828130</td>\n",
       "      <td>0.801300</td>\n",
       "      <td>0.804786</td>\n",
       "    </tr>\n",
       "    <tr>\n",
       "      <td>6</td>\n",
       "      <td>0.232700</td>\n",
       "      <td>1.714340</td>\n",
       "      <td>0.823700</td>\n",
       "      <td>0.833181</td>\n",
       "      <td>0.823700</td>\n",
       "      <td>0.820774</td>\n",
       "    </tr>\n",
       "    <tr>\n",
       "      <td>7</td>\n",
       "      <td>0.202900</td>\n",
       "      <td>1.730780</td>\n",
       "      <td>0.816000</td>\n",
       "      <td>0.830533</td>\n",
       "      <td>0.816000</td>\n",
       "      <td>0.814600</td>\n",
       "    </tr>\n",
       "    <tr>\n",
       "      <td>8</td>\n",
       "      <td>0.177800</td>\n",
       "      <td>1.671794</td>\n",
       "      <td>0.767400</td>\n",
       "      <td>0.791711</td>\n",
       "      <td>0.767400</td>\n",
       "      <td>0.761982</td>\n",
       "    </tr>\n",
       "    <tr>\n",
       "      <td>9</td>\n",
       "      <td>0.154400</td>\n",
       "      <td>1.754976</td>\n",
       "      <td>0.850000</td>\n",
       "      <td>0.855467</td>\n",
       "      <td>0.850000</td>\n",
       "      <td>0.849485</td>\n",
       "    </tr>\n",
       "    <tr>\n",
       "      <td>10</td>\n",
       "      <td>0.136000</td>\n",
       "      <td>1.758484</td>\n",
       "      <td>0.853400</td>\n",
       "      <td>0.860455</td>\n",
       "      <td>0.853400</td>\n",
       "      <td>0.854400</td>\n",
       "    </tr>\n",
       "    <tr>\n",
       "      <td>11</td>\n",
       "      <td>0.120800</td>\n",
       "      <td>1.785510</td>\n",
       "      <td>0.867200</td>\n",
       "      <td>0.870903</td>\n",
       "      <td>0.867200</td>\n",
       "      <td>0.867197</td>\n",
       "    </tr>\n",
       "    <tr>\n",
       "      <td>12</td>\n",
       "      <td>0.107200</td>\n",
       "      <td>1.794703</td>\n",
       "      <td>0.870000</td>\n",
       "      <td>0.871191</td>\n",
       "      <td>0.870000</td>\n",
       "      <td>0.869807</td>\n",
       "    </tr>\n",
       "    <tr>\n",
       "      <td>13</td>\n",
       "      <td>0.096000</td>\n",
       "      <td>1.742941</td>\n",
       "      <td>0.865300</td>\n",
       "      <td>0.867479</td>\n",
       "      <td>0.865300</td>\n",
       "      <td>0.864797</td>\n",
       "    </tr>\n",
       "    <tr>\n",
       "      <td>14</td>\n",
       "      <td>0.086200</td>\n",
       "      <td>1.735989</td>\n",
       "      <td>0.878400</td>\n",
       "      <td>0.879140</td>\n",
       "      <td>0.878400</td>\n",
       "      <td>0.878203</td>\n",
       "    </tr>\n",
       "    <tr>\n",
       "      <td>15</td>\n",
       "      <td>0.081800</td>\n",
       "      <td>1.770028</td>\n",
       "      <td>0.862400</td>\n",
       "      <td>0.865088</td>\n",
       "      <td>0.862400</td>\n",
       "      <td>0.861676</td>\n",
       "    </tr>\n",
       "    <tr>\n",
       "      <td>16</td>\n",
       "      <td>0.077400</td>\n",
       "      <td>1.750195</td>\n",
       "      <td>0.863400</td>\n",
       "      <td>0.870270</td>\n",
       "      <td>0.863400</td>\n",
       "      <td>0.864474</td>\n",
       "    </tr>\n",
       "    <tr>\n",
       "      <td>17</td>\n",
       "      <td>0.072600</td>\n",
       "      <td>1.740715</td>\n",
       "      <td>0.878100</td>\n",
       "      <td>0.879550</td>\n",
       "      <td>0.878100</td>\n",
       "      <td>0.877507</td>\n",
       "    </tr>\n",
       "  </tbody>\n",
       "</table><p>"
      ],
      "text/plain": [
       "<IPython.core.display.HTML object>"
      ]
     },
     "metadata": {},
     "output_type": "display_data"
    },
    {
     "name": "stderr",
     "output_type": "stream",
     "text": [
      "[I 2025-01-02 12:06:48,211] Trial 1 finished with value: 0.8775070142695549 and parameters: {'learning_rate': 0.00021766241123453658, 'per_device_train_batch_size': 32, 'weight_decay': 0.01, 'lambda_param': 0.9, 'temperature': 3.0}. Best is trial 1 with value: 0.8775070142695549.\n"
     ]
    },
    {
     "data": {
      "text/html": [
       "\n",
       "    <div>\n",
       "      \n",
       "      <progress value='782' max='15640' style='width:300px; height:20px; vertical-align: middle;'></progress>\n",
       "      [  782/15640 03:01 < 57:39, 4.29 it/s, Epoch 1/20]\n",
       "    </div>\n",
       "    <table border=\"1\" class=\"dataframe\">\n",
       "  <thead>\n",
       " <tr style=\"text-align: left;\">\n",
       "      <th>Epoch</th>\n",
       "      <th>Training Loss</th>\n",
       "      <th>Validation Loss</th>\n",
       "      <th>Accuracy</th>\n",
       "      <th>Precision</th>\n",
       "      <th>Recall</th>\n",
       "      <th>F1</th>\n",
       "    </tr>\n",
       "  </thead>\n",
       "  <tbody>\n",
       "    <tr>\n",
       "      <td>1</td>\n",
       "      <td>2.026600</td>\n",
       "      <td>1.838740</td>\n",
       "      <td>0.192600</td>\n",
       "      <td>0.190376</td>\n",
       "      <td>0.192600</td>\n",
       "      <td>0.143647</td>\n",
       "    </tr>\n",
       "  </tbody>\n",
       "</table><p>"
      ],
      "text/plain": [
       "<IPython.core.display.HTML object>"
      ]
     },
     "metadata": {},
     "output_type": "display_data"
    },
    {
     "name": "stderr",
     "output_type": "stream",
     "text": [
      "[I 2025-01-02 12:09:50,409] Trial 2 pruned. \n"
     ]
    },
    {
     "data": {
      "text/html": [
       "\n",
       "    <div>\n",
       "      \n",
       "      <progress value='15640' max='15640' style='width:300px; height:20px; vertical-align: middle;'></progress>\n",
       "      [15640/15640 1:00:54, Epoch 20/20]\n",
       "    </div>\n",
       "    <table border=\"1\" class=\"dataframe\">\n",
       "  <thead>\n",
       " <tr style=\"text-align: left;\">\n",
       "      <th>Epoch</th>\n",
       "      <th>Training Loss</th>\n",
       "      <th>Validation Loss</th>\n",
       "      <th>Accuracy</th>\n",
       "      <th>Precision</th>\n",
       "      <th>Recall</th>\n",
       "      <th>F1</th>\n",
       "    </tr>\n",
       "  </thead>\n",
       "  <tbody>\n",
       "    <tr>\n",
       "      <td>1</td>\n",
       "      <td>2.186600</td>\n",
       "      <td>2.000362</td>\n",
       "      <td>0.174200</td>\n",
       "      <td>0.134926</td>\n",
       "      <td>0.174200</td>\n",
       "      <td>0.122639</td>\n",
       "    </tr>\n",
       "    <tr>\n",
       "      <td>2</td>\n",
       "      <td>2.072700</td>\n",
       "      <td>1.905863</td>\n",
       "      <td>0.221900</td>\n",
       "      <td>0.216746</td>\n",
       "      <td>0.221900</td>\n",
       "      <td>0.173206</td>\n",
       "    </tr>\n",
       "    <tr>\n",
       "      <td>3</td>\n",
       "      <td>1.972300</td>\n",
       "      <td>1.817852</td>\n",
       "      <td>0.272000</td>\n",
       "      <td>0.263115</td>\n",
       "      <td>0.272000</td>\n",
       "      <td>0.250650</td>\n",
       "    </tr>\n",
       "    <tr>\n",
       "      <td>4</td>\n",
       "      <td>1.845200</td>\n",
       "      <td>1.777897</td>\n",
       "      <td>0.294900</td>\n",
       "      <td>0.285927</td>\n",
       "      <td>0.294900</td>\n",
       "      <td>0.278934</td>\n",
       "    </tr>\n",
       "    <tr>\n",
       "      <td>5</td>\n",
       "      <td>1.818400</td>\n",
       "      <td>1.783804</td>\n",
       "      <td>0.304500</td>\n",
       "      <td>0.331433</td>\n",
       "      <td>0.304500</td>\n",
       "      <td>0.292158</td>\n",
       "    </tr>\n",
       "    <tr>\n",
       "      <td>6</td>\n",
       "      <td>1.773000</td>\n",
       "      <td>1.753153</td>\n",
       "      <td>0.322900</td>\n",
       "      <td>0.330373</td>\n",
       "      <td>0.322900</td>\n",
       "      <td>0.307589</td>\n",
       "    </tr>\n",
       "    <tr>\n",
       "      <td>7</td>\n",
       "      <td>1.753700</td>\n",
       "      <td>1.781673</td>\n",
       "      <td>0.310500</td>\n",
       "      <td>0.309499</td>\n",
       "      <td>0.310500</td>\n",
       "      <td>0.294976</td>\n",
       "    </tr>\n",
       "    <tr>\n",
       "      <td>8</td>\n",
       "      <td>1.720800</td>\n",
       "      <td>2.030673</td>\n",
       "      <td>0.261000</td>\n",
       "      <td>0.288998</td>\n",
       "      <td>0.261000</td>\n",
       "      <td>0.224095</td>\n",
       "    </tr>\n",
       "    <tr>\n",
       "      <td>9</td>\n",
       "      <td>1.692700</td>\n",
       "      <td>1.684682</td>\n",
       "      <td>0.366300</td>\n",
       "      <td>0.370945</td>\n",
       "      <td>0.366300</td>\n",
       "      <td>0.352001</td>\n",
       "    </tr>\n",
       "    <tr>\n",
       "      <td>10</td>\n",
       "      <td>1.689500</td>\n",
       "      <td>1.673737</td>\n",
       "      <td>0.374700</td>\n",
       "      <td>0.377942</td>\n",
       "      <td>0.374700</td>\n",
       "      <td>0.369316</td>\n",
       "    </tr>\n",
       "    <tr>\n",
       "      <td>11</td>\n",
       "      <td>1.668500</td>\n",
       "      <td>1.832062</td>\n",
       "      <td>0.346900</td>\n",
       "      <td>0.364301</td>\n",
       "      <td>0.346900</td>\n",
       "      <td>0.330050</td>\n",
       "    </tr>\n",
       "    <tr>\n",
       "      <td>12</td>\n",
       "      <td>1.656300</td>\n",
       "      <td>1.696780</td>\n",
       "      <td>0.371200</td>\n",
       "      <td>0.389942</td>\n",
       "      <td>0.371200</td>\n",
       "      <td>0.369064</td>\n",
       "    </tr>\n",
       "    <tr>\n",
       "      <td>13</td>\n",
       "      <td>1.638500</td>\n",
       "      <td>1.687110</td>\n",
       "      <td>0.377400</td>\n",
       "      <td>0.391273</td>\n",
       "      <td>0.377400</td>\n",
       "      <td>0.375408</td>\n",
       "    </tr>\n",
       "    <tr>\n",
       "      <td>14</td>\n",
       "      <td>1.632400</td>\n",
       "      <td>1.665759</td>\n",
       "      <td>0.384600</td>\n",
       "      <td>0.395054</td>\n",
       "      <td>0.384600</td>\n",
       "      <td>0.375779</td>\n",
       "    </tr>\n",
       "    <tr>\n",
       "      <td>15</td>\n",
       "      <td>1.618700</td>\n",
       "      <td>1.797540</td>\n",
       "      <td>0.351200</td>\n",
       "      <td>0.360603</td>\n",
       "      <td>0.351200</td>\n",
       "      <td>0.325358</td>\n",
       "    </tr>\n",
       "    <tr>\n",
       "      <td>16</td>\n",
       "      <td>1.615000</td>\n",
       "      <td>1.694944</td>\n",
       "      <td>0.366600</td>\n",
       "      <td>0.386833</td>\n",
       "      <td>0.366600</td>\n",
       "      <td>0.351397</td>\n",
       "    </tr>\n",
       "    <tr>\n",
       "      <td>17</td>\n",
       "      <td>1.604100</td>\n",
       "      <td>1.642222</td>\n",
       "      <td>0.405300</td>\n",
       "      <td>0.404699</td>\n",
       "      <td>0.405300</td>\n",
       "      <td>0.394432</td>\n",
       "    </tr>\n",
       "    <tr>\n",
       "      <td>18</td>\n",
       "      <td>1.598600</td>\n",
       "      <td>1.686571</td>\n",
       "      <td>0.384900</td>\n",
       "      <td>0.396879</td>\n",
       "      <td>0.384900</td>\n",
       "      <td>0.365389</td>\n",
       "    </tr>\n",
       "    <tr>\n",
       "      <td>19</td>\n",
       "      <td>1.602600</td>\n",
       "      <td>1.837530</td>\n",
       "      <td>0.350000</td>\n",
       "      <td>0.357141</td>\n",
       "      <td>0.350000</td>\n",
       "      <td>0.324428</td>\n",
       "    </tr>\n",
       "    <tr>\n",
       "      <td>20</td>\n",
       "      <td>1.597900</td>\n",
       "      <td>1.646969</td>\n",
       "      <td>0.404500</td>\n",
       "      <td>0.406585</td>\n",
       "      <td>0.404500</td>\n",
       "      <td>0.390222</td>\n",
       "    </tr>\n",
       "  </tbody>\n",
       "</table><p>"
      ],
      "text/plain": [
       "<IPython.core.display.HTML object>"
      ]
     },
     "metadata": {},
     "output_type": "display_data"
    },
    {
     "name": "stderr",
     "output_type": "stream",
     "text": [
      "[I 2025-01-02 13:10:45,151] Trial 3 finished with value: 0.39022170376656556 and parameters: {'learning_rate': 2.379522116387725e-06, 'per_device_train_batch_size': 64, 'weight_decay': 0.008, 'lambda_param': 0.2, 'temperature': 4.5}. Best is trial 1 with value: 0.8775070142695549.\n"
     ]
    },
    {
     "data": {
      "text/html": [
       "\n",
       "    <div>\n",
       "      \n",
       "      <progress value='1563' max='31260' style='width:300px; height:20px; vertical-align: middle;'></progress>\n",
       "      [ 1563/31260 03:04 < 58:34, 8.45 it/s, Epoch 1/20]\n",
       "    </div>\n",
       "    <table border=\"1\" class=\"dataframe\">\n",
       "  <thead>\n",
       " <tr style=\"text-align: left;\">\n",
       "      <th>Epoch</th>\n",
       "      <th>Training Loss</th>\n",
       "      <th>Validation Loss</th>\n",
       "      <th>Accuracy</th>\n",
       "      <th>Precision</th>\n",
       "      <th>Recall</th>\n",
       "      <th>F1</th>\n",
       "    </tr>\n",
       "  </thead>\n",
       "  <tbody>\n",
       "    <tr>\n",
       "      <td>1</td>\n",
       "      <td>0.664800</td>\n",
       "      <td>1.092367</td>\n",
       "      <td>0.422700</td>\n",
       "      <td>0.459306</td>\n",
       "      <td>0.422700</td>\n",
       "      <td>0.390251</td>\n",
       "    </tr>\n",
       "  </tbody>\n",
       "</table><p>"
      ],
      "text/plain": [
       "<IPython.core.display.HTML object>"
      ]
     },
     "metadata": {},
     "output_type": "display_data"
    },
    {
     "name": "stderr",
     "output_type": "stream",
     "text": [
      "[I 2025-01-02 13:13:50,371] Trial 4 pruned. \n"
     ]
    },
    {
     "data": {
      "text/html": [
       "\n",
       "    <div>\n",
       "      \n",
       "      <progress value='782' max='15640' style='width:300px; height:20px; vertical-align: middle;'></progress>\n",
       "      [  782/15640 03:02 < 58:03, 4.26 it/s, Epoch 1/20]\n",
       "    </div>\n",
       "    <table border=\"1\" class=\"dataframe\">\n",
       "  <thead>\n",
       " <tr style=\"text-align: left;\">\n",
       "      <th>Epoch</th>\n",
       "      <th>Training Loss</th>\n",
       "      <th>Validation Loss</th>\n",
       "      <th>Accuracy</th>\n",
       "      <th>Precision</th>\n",
       "      <th>Recall</th>\n",
       "      <th>F1</th>\n",
       "    </tr>\n",
       "  </thead>\n",
       "  <tbody>\n",
       "    <tr>\n",
       "      <td>1</td>\n",
       "      <td>1.685900</td>\n",
       "      <td>1.289853</td>\n",
       "      <td>0.599900</td>\n",
       "      <td>0.617377</td>\n",
       "      <td>0.599900</td>\n",
       "      <td>0.590284</td>\n",
       "    </tr>\n",
       "  </tbody>\n",
       "</table><p>"
      ],
      "text/plain": [
       "<IPython.core.display.HTML object>"
      ]
     },
     "metadata": {},
     "output_type": "display_data"
    },
    {
     "name": "stderr",
     "output_type": "stream",
     "text": [
      "[I 2025-01-02 13:16:53,827] Trial 5 pruned. \n"
     ]
    },
    {
     "data": {
      "text/html": [
       "\n",
       "    <div>\n",
       "      \n",
       "      <progress value='3125' max='62500' style='width:300px; height:20px; vertical-align: middle;'></progress>\n",
       "      [ 3125/62500 03:16 < 1:02:23, 15.86 it/s, Epoch 1/20]\n",
       "    </div>\n",
       "    <table border=\"1\" class=\"dataframe\">\n",
       "  <thead>\n",
       " <tr style=\"text-align: left;\">\n",
       "      <th>Epoch</th>\n",
       "      <th>Training Loss</th>\n",
       "      <th>Validation Loss</th>\n",
       "      <th>Accuracy</th>\n",
       "      <th>Precision</th>\n",
       "      <th>Recall</th>\n",
       "      <th>F1</th>\n",
       "    </tr>\n",
       "  </thead>\n",
       "  <tbody>\n",
       "    <tr>\n",
       "      <td>1</td>\n",
       "      <td>1.711600</td>\n",
       "      <td>1.602961</td>\n",
       "      <td>0.175300</td>\n",
       "      <td>0.142933</td>\n",
       "      <td>0.175300</td>\n",
       "      <td>0.130146</td>\n",
       "    </tr>\n",
       "  </tbody>\n",
       "</table><p>"
      ],
      "text/plain": [
       "<IPython.core.display.HTML object>"
      ]
     },
     "metadata": {},
     "output_type": "display_data"
    },
    {
     "name": "stderr",
     "output_type": "stream",
     "text": [
      "[I 2025-01-02 13:20:11,131] Trial 6 pruned. \n"
     ]
    },
    {
     "data": {
      "text/html": [
       "\n",
       "    <div>\n",
       "      \n",
       "      <progress value='3125' max='62500' style='width:300px; height:20px; vertical-align: middle;'></progress>\n",
       "      [ 3125/62500 03:17 < 1:02:29, 15.83 it/s, Epoch 1/20]\n",
       "    </div>\n",
       "    <table border=\"1\" class=\"dataframe\">\n",
       "  <thead>\n",
       " <tr style=\"text-align: left;\">\n",
       "      <th>Epoch</th>\n",
       "      <th>Training Loss</th>\n",
       "      <th>Validation Loss</th>\n",
       "      <th>Accuracy</th>\n",
       "      <th>Precision</th>\n",
       "      <th>Recall</th>\n",
       "      <th>F1</th>\n",
       "    </tr>\n",
       "  </thead>\n",
       "  <tbody>\n",
       "    <tr>\n",
       "      <td>1</td>\n",
       "      <td>1.426700</td>\n",
       "      <td>1.416727</td>\n",
       "      <td>0.252800</td>\n",
       "      <td>0.251181</td>\n",
       "      <td>0.252800</td>\n",
       "      <td>0.229749</td>\n",
       "    </tr>\n",
       "  </tbody>\n",
       "</table><p>"
      ],
      "text/plain": [
       "<IPython.core.display.HTML object>"
      ]
     },
     "metadata": {},
     "output_type": "display_data"
    },
    {
     "name": "stderr",
     "output_type": "stream",
     "text": [
      "[I 2025-01-02 13:23:28,723] Trial 7 pruned. \n"
     ]
    },
    {
     "data": {
      "text/html": [
       "\n",
       "    <div>\n",
       "      \n",
       "      <progress value='782' max='15640' style='width:300px; height:20px; vertical-align: middle;'></progress>\n",
       "      [  782/15640 03:02 < 57:59, 4.27 it/s, Epoch 1/20]\n",
       "    </div>\n",
       "    <table border=\"1\" class=\"dataframe\">\n",
       "  <thead>\n",
       " <tr style=\"text-align: left;\">\n",
       "      <th>Epoch</th>\n",
       "      <th>Training Loss</th>\n",
       "      <th>Validation Loss</th>\n",
       "      <th>Accuracy</th>\n",
       "      <th>Precision</th>\n",
       "      <th>Recall</th>\n",
       "      <th>F1</th>\n",
       "    </tr>\n",
       "  </thead>\n",
       "  <tbody>\n",
       "    <tr>\n",
       "      <td>1</td>\n",
       "      <td>2.171400</td>\n",
       "      <td>1.999753</td>\n",
       "      <td>0.143200</td>\n",
       "      <td>0.110177</td>\n",
       "      <td>0.143200</td>\n",
       "      <td>0.092197</td>\n",
       "    </tr>\n",
       "  </tbody>\n",
       "</table><p>"
      ],
      "text/plain": [
       "<IPython.core.display.HTML object>"
      ]
     },
     "metadata": {},
     "output_type": "display_data"
    },
    {
     "name": "stderr",
     "output_type": "stream",
     "text": [
      "/usr/local/lib/python3.10/dist-packages/sklearn/metrics/_classification.py:1531: UndefinedMetricWarning: Precision is ill-defined and being set to 0.0 in labels with no predicted samples. Use `zero_division` parameter to control this behavior.\n",
      "  _warn_prf(average, modifier, f\"{metric.capitalize()} is\", len(result))\n",
      "[I 2025-01-02 13:26:31,907] Trial 8 pruned. \n"
     ]
    },
    {
     "data": {
      "text/html": [
       "\n",
       "    <div>\n",
       "      \n",
       "      <progress value='1563' max='31260' style='width:300px; height:20px; vertical-align: middle;'></progress>\n",
       "      [ 1563/31260 03:04 < 58:27, 8.47 it/s, Epoch 1/20]\n",
       "    </div>\n",
       "    <table border=\"1\" class=\"dataframe\">\n",
       "  <thead>\n",
       " <tr style=\"text-align: left;\">\n",
       "      <th>Epoch</th>\n",
       "      <th>Training Loss</th>\n",
       "      <th>Validation Loss</th>\n",
       "      <th>Accuracy</th>\n",
       "      <th>Precision</th>\n",
       "      <th>Recall</th>\n",
       "      <th>F1</th>\n",
       "    </tr>\n",
       "  </thead>\n",
       "  <tbody>\n",
       "    <tr>\n",
       "      <td>1</td>\n",
       "      <td>1.974300</td>\n",
       "      <td>1.836920</td>\n",
       "      <td>0.320100</td>\n",
       "      <td>0.313600</td>\n",
       "      <td>0.320100</td>\n",
       "      <td>0.298563</td>\n",
       "    </tr>\n",
       "  </tbody>\n",
       "</table><p>"
      ],
      "text/plain": [
       "<IPython.core.display.HTML object>"
      ]
     },
     "metadata": {},
     "output_type": "display_data"
    },
    {
     "name": "stderr",
     "output_type": "stream",
     "text": [
      "[I 2025-01-02 13:29:36,746] Trial 9 pruned. \n"
     ]
    },
    {
     "data": {
      "text/html": [
       "\n",
       "    <div>\n",
       "      \n",
       "      <progress value='4689' max='31260' style='width:300px; height:20px; vertical-align: middle;'></progress>\n",
       "      [ 4689/31260 09:08 < 51:48, 8.55 it/s, Epoch 3/20]\n",
       "    </div>\n",
       "    <table border=\"1\" class=\"dataframe\">\n",
       "  <thead>\n",
       " <tr style=\"text-align: left;\">\n",
       "      <th>Epoch</th>\n",
       "      <th>Training Loss</th>\n",
       "      <th>Validation Loss</th>\n",
       "      <th>Accuracy</th>\n",
       "      <th>Precision</th>\n",
       "      <th>Recall</th>\n",
       "      <th>F1</th>\n",
       "    </tr>\n",
       "  </thead>\n",
       "  <tbody>\n",
       "    <tr>\n",
       "      <td>1</td>\n",
       "      <td>0.641500</td>\n",
       "      <td>1.609443</td>\n",
       "      <td>0.655500</td>\n",
       "      <td>0.670329</td>\n",
       "      <td>0.655500</td>\n",
       "      <td>0.649023</td>\n",
       "    </tr>\n",
       "    <tr>\n",
       "      <td>2</td>\n",
       "      <td>0.467700</td>\n",
       "      <td>1.665924</td>\n",
       "      <td>0.713400</td>\n",
       "      <td>0.749679</td>\n",
       "      <td>0.713400</td>\n",
       "      <td>0.716010</td>\n",
       "    </tr>\n",
       "    <tr>\n",
       "      <td>3</td>\n",
       "      <td>0.378900</td>\n",
       "      <td>1.665458</td>\n",
       "      <td>0.783700</td>\n",
       "      <td>0.793046</td>\n",
       "      <td>0.783700</td>\n",
       "      <td>0.782119</td>\n",
       "    </tr>\n",
       "  </tbody>\n",
       "</table><p>"
      ],
      "text/plain": [
       "<IPython.core.display.HTML object>"
      ]
     },
     "metadata": {},
     "output_type": "display_data"
    },
    {
     "name": "stderr",
     "output_type": "stream",
     "text": [
      "[I 2025-01-02 13:38:45,576] Trial 10 pruned. \n"
     ]
    },
    {
     "data": {
      "text/html": [
       "\n",
       "    <div>\n",
       "      \n",
       "      <progress value='3125' max='62500' style='width:300px; height:20px; vertical-align: middle;'></progress>\n",
       "      [ 3125/62500 03:15 < 1:01:50, 16.00 it/s, Epoch 1/20]\n",
       "    </div>\n",
       "    <table border=\"1\" class=\"dataframe\">\n",
       "  <thead>\n",
       " <tr style=\"text-align: left;\">\n",
       "      <th>Epoch</th>\n",
       "      <th>Training Loss</th>\n",
       "      <th>Validation Loss</th>\n",
       "      <th>Accuracy</th>\n",
       "      <th>Precision</th>\n",
       "      <th>Recall</th>\n",
       "      <th>F1</th>\n",
       "    </tr>\n",
       "  </thead>\n",
       "  <tbody>\n",
       "    <tr>\n",
       "      <td>1</td>\n",
       "      <td>1.539700</td>\n",
       "      <td>1.723430</td>\n",
       "      <td>0.454200</td>\n",
       "      <td>0.473658</td>\n",
       "      <td>0.454200</td>\n",
       "      <td>0.431718</td>\n",
       "    </tr>\n",
       "  </tbody>\n",
       "</table><p>"
      ],
      "text/plain": [
       "<IPython.core.display.HTML object>"
      ]
     },
     "metadata": {},
     "output_type": "display_data"
    },
    {
     "name": "stderr",
     "output_type": "stream",
     "text": [
      "[I 2025-01-02 13:42:01,117] Trial 11 pruned. \n"
     ]
    },
    {
     "data": {
      "text/html": [
       "\n",
       "    <div>\n",
       "      \n",
       "      <progress value='3125' max='62500' style='width:300px; height:20px; vertical-align: middle;'></progress>\n",
       "      [ 3125/62500 03:14 < 1:01:44, 16.03 it/s, Epoch 1/20]\n",
       "    </div>\n",
       "    <table border=\"1\" class=\"dataframe\">\n",
       "  <thead>\n",
       " <tr style=\"text-align: left;\">\n",
       "      <th>Epoch</th>\n",
       "      <th>Training Loss</th>\n",
       "      <th>Validation Loss</th>\n",
       "      <th>Accuracy</th>\n",
       "      <th>Precision</th>\n",
       "      <th>Recall</th>\n",
       "      <th>F1</th>\n",
       "    </tr>\n",
       "  </thead>\n",
       "  <tbody>\n",
       "    <tr>\n",
       "      <td>1</td>\n",
       "      <td>2.041600</td>\n",
       "      <td>1.937631</td>\n",
       "      <td>0.221300</td>\n",
       "      <td>0.216447</td>\n",
       "      <td>0.221300</td>\n",
       "      <td>0.190800</td>\n",
       "    </tr>\n",
       "  </tbody>\n",
       "</table><p>"
      ],
      "text/plain": [
       "<IPython.core.display.HTML object>"
      ]
     },
     "metadata": {},
     "output_type": "display_data"
    },
    {
     "name": "stderr",
     "output_type": "stream",
     "text": [
      "[I 2025-01-02 13:45:16,357] Trial 12 pruned. \n"
     ]
    },
    {
     "data": {
      "text/html": [
       "\n",
       "    <div>\n",
       "      \n",
       "      <progress value='62500' max='62500' style='width:300px; height:20px; vertical-align: middle;'></progress>\n",
       "      [62500/62500 1:05:48, Epoch 20/20]\n",
       "    </div>\n",
       "    <table border=\"1\" class=\"dataframe\">\n",
       "  <thead>\n",
       " <tr style=\"text-align: left;\">\n",
       "      <th>Epoch</th>\n",
       "      <th>Training Loss</th>\n",
       "      <th>Validation Loss</th>\n",
       "      <th>Accuracy</th>\n",
       "      <th>Precision</th>\n",
       "      <th>Recall</th>\n",
       "      <th>F1</th>\n",
       "    </tr>\n",
       "  </thead>\n",
       "  <tbody>\n",
       "    <tr>\n",
       "      <td>1</td>\n",
       "      <td>0.807300</td>\n",
       "      <td>1.686657</td>\n",
       "      <td>0.635300</td>\n",
       "      <td>0.649883</td>\n",
       "      <td>0.635300</td>\n",
       "      <td>0.627057</td>\n",
       "    </tr>\n",
       "    <tr>\n",
       "      <td>2</td>\n",
       "      <td>0.596100</td>\n",
       "      <td>1.635921</td>\n",
       "      <td>0.730200</td>\n",
       "      <td>0.764407</td>\n",
       "      <td>0.730200</td>\n",
       "      <td>0.733458</td>\n",
       "    </tr>\n",
       "    <tr>\n",
       "      <td>3</td>\n",
       "      <td>0.477300</td>\n",
       "      <td>1.564477</td>\n",
       "      <td>0.789700</td>\n",
       "      <td>0.796995</td>\n",
       "      <td>0.789700</td>\n",
       "      <td>0.786955</td>\n",
       "    </tr>\n",
       "    <tr>\n",
       "      <td>4</td>\n",
       "      <td>0.401200</td>\n",
       "      <td>1.509111</td>\n",
       "      <td>0.815300</td>\n",
       "      <td>0.816522</td>\n",
       "      <td>0.815300</td>\n",
       "      <td>0.814655</td>\n",
       "    </tr>\n",
       "    <tr>\n",
       "      <td>5</td>\n",
       "      <td>0.359200</td>\n",
       "      <td>1.624529</td>\n",
       "      <td>0.806000</td>\n",
       "      <td>0.831573</td>\n",
       "      <td>0.806000</td>\n",
       "      <td>0.810094</td>\n",
       "    </tr>\n",
       "    <tr>\n",
       "      <td>6</td>\n",
       "      <td>0.315700</td>\n",
       "      <td>1.573290</td>\n",
       "      <td>0.828700</td>\n",
       "      <td>0.841215</td>\n",
       "      <td>0.828700</td>\n",
       "      <td>0.828446</td>\n",
       "    </tr>\n",
       "    <tr>\n",
       "      <td>7</td>\n",
       "      <td>0.273500</td>\n",
       "      <td>1.636031</td>\n",
       "      <td>0.829000</td>\n",
       "      <td>0.839301</td>\n",
       "      <td>0.829000</td>\n",
       "      <td>0.827579</td>\n",
       "    </tr>\n",
       "    <tr>\n",
       "      <td>8</td>\n",
       "      <td>0.244400</td>\n",
       "      <td>1.514421</td>\n",
       "      <td>0.811200</td>\n",
       "      <td>0.824120</td>\n",
       "      <td>0.811200</td>\n",
       "      <td>0.808960</td>\n",
       "    </tr>\n",
       "    <tr>\n",
       "      <td>9</td>\n",
       "      <td>0.212900</td>\n",
       "      <td>1.593595</td>\n",
       "      <td>0.851300</td>\n",
       "      <td>0.856352</td>\n",
       "      <td>0.851300</td>\n",
       "      <td>0.850958</td>\n",
       "    </tr>\n",
       "    <tr>\n",
       "      <td>10</td>\n",
       "      <td>0.186300</td>\n",
       "      <td>1.598731</td>\n",
       "      <td>0.864200</td>\n",
       "      <td>0.867108</td>\n",
       "      <td>0.864200</td>\n",
       "      <td>0.864882</td>\n",
       "    </tr>\n",
       "    <tr>\n",
       "      <td>11</td>\n",
       "      <td>0.170000</td>\n",
       "      <td>1.575837</td>\n",
       "      <td>0.862100</td>\n",
       "      <td>0.870141</td>\n",
       "      <td>0.862100</td>\n",
       "      <td>0.862966</td>\n",
       "    </tr>\n",
       "    <tr>\n",
       "      <td>12</td>\n",
       "      <td>0.150500</td>\n",
       "      <td>1.568328</td>\n",
       "      <td>0.867500</td>\n",
       "      <td>0.869600</td>\n",
       "      <td>0.867500</td>\n",
       "      <td>0.867765</td>\n",
       "    </tr>\n",
       "    <tr>\n",
       "      <td>13</td>\n",
       "      <td>0.143200</td>\n",
       "      <td>1.557691</td>\n",
       "      <td>0.862400</td>\n",
       "      <td>0.864792</td>\n",
       "      <td>0.862400</td>\n",
       "      <td>0.862687</td>\n",
       "    </tr>\n",
       "    <tr>\n",
       "      <td>14</td>\n",
       "      <td>0.129300</td>\n",
       "      <td>1.550078</td>\n",
       "      <td>0.869200</td>\n",
       "      <td>0.870995</td>\n",
       "      <td>0.869200</td>\n",
       "      <td>0.868501</td>\n",
       "    </tr>\n",
       "    <tr>\n",
       "      <td>15</td>\n",
       "      <td>0.122700</td>\n",
       "      <td>1.510093</td>\n",
       "      <td>0.869400</td>\n",
       "      <td>0.870215</td>\n",
       "      <td>0.869400</td>\n",
       "      <td>0.868786</td>\n",
       "    </tr>\n",
       "    <tr>\n",
       "      <td>16</td>\n",
       "      <td>0.116200</td>\n",
       "      <td>1.525406</td>\n",
       "      <td>0.870100</td>\n",
       "      <td>0.872552</td>\n",
       "      <td>0.870100</td>\n",
       "      <td>0.870103</td>\n",
       "    </tr>\n",
       "    <tr>\n",
       "      <td>17</td>\n",
       "      <td>0.111100</td>\n",
       "      <td>1.512608</td>\n",
       "      <td>0.879200</td>\n",
       "      <td>0.879995</td>\n",
       "      <td>0.879200</td>\n",
       "      <td>0.878978</td>\n",
       "    </tr>\n",
       "    <tr>\n",
       "      <td>18</td>\n",
       "      <td>0.107900</td>\n",
       "      <td>1.545495</td>\n",
       "      <td>0.873000</td>\n",
       "      <td>0.874206</td>\n",
       "      <td>0.873000</td>\n",
       "      <td>0.872983</td>\n",
       "    </tr>\n",
       "    <tr>\n",
       "      <td>19</td>\n",
       "      <td>0.104700</td>\n",
       "      <td>1.540563</td>\n",
       "      <td>0.875900</td>\n",
       "      <td>0.876692</td>\n",
       "      <td>0.875900</td>\n",
       "      <td>0.875315</td>\n",
       "    </tr>\n",
       "    <tr>\n",
       "      <td>20</td>\n",
       "      <td>0.101100</td>\n",
       "      <td>1.550112</td>\n",
       "      <td>0.877800</td>\n",
       "      <td>0.878888</td>\n",
       "      <td>0.877800</td>\n",
       "      <td>0.877514</td>\n",
       "    </tr>\n",
       "  </tbody>\n",
       "</table><p>"
      ],
      "text/plain": [
       "<IPython.core.display.HTML object>"
      ]
     },
     "metadata": {},
     "output_type": "display_data"
    },
    {
     "name": "stderr",
     "output_type": "stream",
     "text": [
      "[I 2025-01-02 14:51:05,124] Trial 13 finished with value: 0.8775142231826768 and parameters: {'learning_rate': 0.00010562422487867538, 'per_device_train_batch_size': 16, 'weight_decay': 0.006, 'lambda_param': 0.7000000000000001, 'temperature': 3.0}. Best is trial 13 with value: 0.8775142231826768.\n"
     ]
    },
    {
     "data": {
      "text/html": [
       "\n",
       "    <div>\n",
       "      \n",
       "      <progress value='43750' max='62500' style='width:300px; height:20px; vertical-align: middle;'></progress>\n",
       "      [43750/62500 45:52 < 19:39, 15.90 it/s, Epoch 14/20]\n",
       "    </div>\n",
       "    <table border=\"1\" class=\"dataframe\">\n",
       "  <thead>\n",
       " <tr style=\"text-align: left;\">\n",
       "      <th>Epoch</th>\n",
       "      <th>Training Loss</th>\n",
       "      <th>Validation Loss</th>\n",
       "      <th>Accuracy</th>\n",
       "      <th>Precision</th>\n",
       "      <th>Recall</th>\n",
       "      <th>F1</th>\n",
       "    </tr>\n",
       "  </thead>\n",
       "  <tbody>\n",
       "    <tr>\n",
       "      <td>1</td>\n",
       "      <td>0.863600</td>\n",
       "      <td>1.897928</td>\n",
       "      <td>0.511800</td>\n",
       "      <td>0.516317</td>\n",
       "      <td>0.511800</td>\n",
       "      <td>0.485337</td>\n",
       "    </tr>\n",
       "    <tr>\n",
       "      <td>2</td>\n",
       "      <td>0.641000</td>\n",
       "      <td>2.023914</td>\n",
       "      <td>0.665700</td>\n",
       "      <td>0.698177</td>\n",
       "      <td>0.665700</td>\n",
       "      <td>0.669410</td>\n",
       "    </tr>\n",
       "    <tr>\n",
       "      <td>3</td>\n",
       "      <td>0.499200</td>\n",
       "      <td>1.995993</td>\n",
       "      <td>0.733400</td>\n",
       "      <td>0.740914</td>\n",
       "      <td>0.733400</td>\n",
       "      <td>0.727995</td>\n",
       "    </tr>\n",
       "    <tr>\n",
       "      <td>4</td>\n",
       "      <td>0.406300</td>\n",
       "      <td>2.107063</td>\n",
       "      <td>0.781000</td>\n",
       "      <td>0.782289</td>\n",
       "      <td>0.781000</td>\n",
       "      <td>0.777834</td>\n",
       "    </tr>\n",
       "    <tr>\n",
       "      <td>5</td>\n",
       "      <td>0.342400</td>\n",
       "      <td>2.191655</td>\n",
       "      <td>0.747800</td>\n",
       "      <td>0.795487</td>\n",
       "      <td>0.747800</td>\n",
       "      <td>0.754354</td>\n",
       "    </tr>\n",
       "    <tr>\n",
       "      <td>6</td>\n",
       "      <td>0.299200</td>\n",
       "      <td>2.152781</td>\n",
       "      <td>0.800300</td>\n",
       "      <td>0.812695</td>\n",
       "      <td>0.800300</td>\n",
       "      <td>0.797772</td>\n",
       "    </tr>\n",
       "    <tr>\n",
       "      <td>7</td>\n",
       "      <td>0.256900</td>\n",
       "      <td>2.111333</td>\n",
       "      <td>0.790300</td>\n",
       "      <td>0.806940</td>\n",
       "      <td>0.790300</td>\n",
       "      <td>0.788578</td>\n",
       "    </tr>\n",
       "    <tr>\n",
       "      <td>8</td>\n",
       "      <td>0.221200</td>\n",
       "      <td>2.132159</td>\n",
       "      <td>0.769900</td>\n",
       "      <td>0.788331</td>\n",
       "      <td>0.769900</td>\n",
       "      <td>0.764204</td>\n",
       "    </tr>\n",
       "    <tr>\n",
       "      <td>9</td>\n",
       "      <td>0.186800</td>\n",
       "      <td>2.192748</td>\n",
       "      <td>0.819700</td>\n",
       "      <td>0.834518</td>\n",
       "      <td>0.819700</td>\n",
       "      <td>0.818955</td>\n",
       "    </tr>\n",
       "    <tr>\n",
       "      <td>10</td>\n",
       "      <td>0.156600</td>\n",
       "      <td>2.109633</td>\n",
       "      <td>0.845400</td>\n",
       "      <td>0.847213</td>\n",
       "      <td>0.845400</td>\n",
       "      <td>0.845268</td>\n",
       "    </tr>\n",
       "    <tr>\n",
       "      <td>11</td>\n",
       "      <td>0.130900</td>\n",
       "      <td>2.141793</td>\n",
       "      <td>0.848400</td>\n",
       "      <td>0.850803</td>\n",
       "      <td>0.848400</td>\n",
       "      <td>0.848902</td>\n",
       "    </tr>\n",
       "    <tr>\n",
       "      <td>12</td>\n",
       "      <td>0.114100</td>\n",
       "      <td>2.160713</td>\n",
       "      <td>0.837700</td>\n",
       "      <td>0.837313</td>\n",
       "      <td>0.837700</td>\n",
       "      <td>0.835986</td>\n",
       "    </tr>\n",
       "    <tr>\n",
       "      <td>13</td>\n",
       "      <td>0.105600</td>\n",
       "      <td>2.119925</td>\n",
       "      <td>0.838300</td>\n",
       "      <td>0.839574</td>\n",
       "      <td>0.838300</td>\n",
       "      <td>0.837643</td>\n",
       "    </tr>\n",
       "    <tr>\n",
       "      <td>14</td>\n",
       "      <td>0.086700</td>\n",
       "      <td>2.107563</td>\n",
       "      <td>0.840400</td>\n",
       "      <td>0.844293</td>\n",
       "      <td>0.840400</td>\n",
       "      <td>0.839377</td>\n",
       "    </tr>\n",
       "  </tbody>\n",
       "</table><p>"
      ],
      "text/plain": [
       "<IPython.core.display.HTML object>"
      ]
     },
     "metadata": {},
     "output_type": "display_data"
    },
    {
     "name": "stderr",
     "output_type": "stream",
     "text": [
      "[I 2025-01-02 15:36:57,665] Trial 14 finished with value: 0.8393768114963797 and parameters: {'learning_rate': 5.070319408723441e-05, 'per_device_train_batch_size': 16, 'weight_decay': 0.006, 'lambda_param': 1.0, 'temperature': 2.5}. Best is trial 13 with value: 0.8775142231826768.\n"
     ]
    },
    {
     "data": {
      "text/html": [
       "\n",
       "    <div>\n",
       "      \n",
       "      <progress value='1563' max='31260' style='width:300px; height:20px; vertical-align: middle;'></progress>\n",
       "      [ 1563/31260 03:04 < 58:25, 8.47 it/s, Epoch 1/20]\n",
       "    </div>\n",
       "    <table border=\"1\" class=\"dataframe\">\n",
       "  <thead>\n",
       " <tr style=\"text-align: left;\">\n",
       "      <th>Epoch</th>\n",
       "      <th>Training Loss</th>\n",
       "      <th>Validation Loss</th>\n",
       "      <th>Accuracy</th>\n",
       "      <th>Precision</th>\n",
       "      <th>Recall</th>\n",
       "      <th>F1</th>\n",
       "    </tr>\n",
       "  </thead>\n",
       "  <tbody>\n",
       "    <tr>\n",
       "      <td>1</td>\n",
       "      <td>0.917300</td>\n",
       "      <td>1.454623</td>\n",
       "      <td>0.655700</td>\n",
       "      <td>0.663914</td>\n",
       "      <td>0.655700</td>\n",
       "      <td>0.648298</td>\n",
       "    </tr>\n",
       "  </tbody>\n",
       "</table><p>"
      ],
      "text/plain": [
       "<IPython.core.display.HTML object>"
      ]
     },
     "metadata": {},
     "output_type": "display_data"
    },
    {
     "name": "stderr",
     "output_type": "stream",
     "text": [
      "[I 2025-01-02 15:40:02,363] Trial 15 pruned. \n"
     ]
    },
    {
     "data": {
      "text/html": [
       "\n",
       "    <div>\n",
       "      \n",
       "      <progress value='6250' max='62500' style='width:300px; height:20px; vertical-align: middle;'></progress>\n",
       "      [ 6250/62500 06:31 < 58:45, 15.96 it/s, Epoch 2/20]\n",
       "    </div>\n",
       "    <table border=\"1\" class=\"dataframe\">\n",
       "  <thead>\n",
       " <tr style=\"text-align: left;\">\n",
       "      <th>Epoch</th>\n",
       "      <th>Training Loss</th>\n",
       "      <th>Validation Loss</th>\n",
       "      <th>Accuracy</th>\n",
       "      <th>Precision</th>\n",
       "      <th>Recall</th>\n",
       "      <th>F1</th>\n",
       "    </tr>\n",
       "  </thead>\n",
       "  <tbody>\n",
       "    <tr>\n",
       "      <td>1</td>\n",
       "      <td>1.064200</td>\n",
       "      <td>1.465229</td>\n",
       "      <td>0.668600</td>\n",
       "      <td>0.681861</td>\n",
       "      <td>0.668600</td>\n",
       "      <td>0.668477</td>\n",
       "    </tr>\n",
       "    <tr>\n",
       "      <td>2</td>\n",
       "      <td>0.816500</td>\n",
       "      <td>1.360149</td>\n",
       "      <td>0.742100</td>\n",
       "      <td>0.761589</td>\n",
       "      <td>0.742100</td>\n",
       "      <td>0.743705</td>\n",
       "    </tr>\n",
       "  </tbody>\n",
       "</table><p>"
      ],
      "text/plain": [
       "<IPython.core.display.HTML object>"
      ]
     },
     "metadata": {},
     "output_type": "display_data"
    },
    {
     "name": "stderr",
     "output_type": "stream",
     "text": [
      "[I 2025-01-02 15:46:34,346] Trial 16 pruned. \n"
     ]
    },
    {
     "data": {
      "text/html": [
       "\n",
       "    <div>\n",
       "      \n",
       "      <progress value='782' max='15640' style='width:300px; height:20px; vertical-align: middle;'></progress>\n",
       "      [  782/15640 03:01 < 57:30, 4.31 it/s, Epoch 1/20]\n",
       "    </div>\n",
       "    <table border=\"1\" class=\"dataframe\">\n",
       "  <thead>\n",
       " <tr style=\"text-align: left;\">\n",
       "      <th>Epoch</th>\n",
       "      <th>Training Loss</th>\n",
       "      <th>Validation Loss</th>\n",
       "      <th>Accuracy</th>\n",
       "      <th>Precision</th>\n",
       "      <th>Recall</th>\n",
       "      <th>F1</th>\n",
       "    </tr>\n",
       "  </thead>\n",
       "  <tbody>\n",
       "    <tr>\n",
       "      <td>1</td>\n",
       "      <td>1.112600</td>\n",
       "      <td>1.311957</td>\n",
       "      <td>0.441800</td>\n",
       "      <td>0.479723</td>\n",
       "      <td>0.441800</td>\n",
       "      <td>0.408810</td>\n",
       "    </tr>\n",
       "  </tbody>\n",
       "</table><p>"
      ],
      "text/plain": [
       "<IPython.core.display.HTML object>"
      ]
     },
     "metadata": {},
     "output_type": "display_data"
    },
    {
     "name": "stderr",
     "output_type": "stream",
     "text": [
      "[I 2025-01-02 15:49:36,026] Trial 17 pruned. \n"
     ]
    },
    {
     "data": {
      "text/html": [
       "\n",
       "    <div>\n",
       "      \n",
       "      <progress value='782' max='15640' style='width:300px; height:20px; vertical-align: middle;'></progress>\n",
       "      [  782/15640 03:01 < 57:31, 4.30 it/s, Epoch 1/20]\n",
       "    </div>\n",
       "    <table border=\"1\" class=\"dataframe\">\n",
       "  <thead>\n",
       " <tr style=\"text-align: left;\">\n",
       "      <th>Epoch</th>\n",
       "      <th>Training Loss</th>\n",
       "      <th>Validation Loss</th>\n",
       "      <th>Accuracy</th>\n",
       "      <th>Precision</th>\n",
       "      <th>Recall</th>\n",
       "      <th>F1</th>\n",
       "    </tr>\n",
       "  </thead>\n",
       "  <tbody>\n",
       "    <tr>\n",
       "      <td>1</td>\n",
       "      <td>1.525600</td>\n",
       "      <td>1.792656</td>\n",
       "      <td>0.415500</td>\n",
       "      <td>0.425195</td>\n",
       "      <td>0.415500</td>\n",
       "      <td>0.392690</td>\n",
       "    </tr>\n",
       "  </tbody>\n",
       "</table><p>"
      ],
      "text/plain": [
       "<IPython.core.display.HTML object>"
      ]
     },
     "metadata": {},
     "output_type": "display_data"
    },
    {
     "name": "stderr",
     "output_type": "stream",
     "text": [
      "[I 2025-01-02 15:52:38,130] Trial 18 pruned. \n"
     ]
    },
    {
     "data": {
      "text/html": [
       "\n",
       "    <div>\n",
       "      \n",
       "      <progress value='1563' max='31260' style='width:300px; height:20px; vertical-align: middle;'></progress>\n",
       "      [ 1563/31260 03:03 < 58:03, 8.53 it/s, Epoch 1/20]\n",
       "    </div>\n",
       "    <table border=\"1\" class=\"dataframe\">\n",
       "  <thead>\n",
       " <tr style=\"text-align: left;\">\n",
       "      <th>Epoch</th>\n",
       "      <th>Training Loss</th>\n",
       "      <th>Validation Loss</th>\n",
       "      <th>Accuracy</th>\n",
       "      <th>Precision</th>\n",
       "      <th>Recall</th>\n",
       "      <th>F1</th>\n",
       "    </tr>\n",
       "  </thead>\n",
       "  <tbody>\n",
       "    <tr>\n",
       "      <td>1</td>\n",
       "      <td>0.953100</td>\n",
       "      <td>1.179795</td>\n",
       "      <td>0.342500</td>\n",
       "      <td>0.347448</td>\n",
       "      <td>0.342500</td>\n",
       "      <td>0.322543</td>\n",
       "    </tr>\n",
       "  </tbody>\n",
       "</table><p>"
      ],
      "text/plain": [
       "<IPython.core.display.HTML object>"
      ]
     },
     "metadata": {},
     "output_type": "display_data"
    },
    {
     "name": "stderr",
     "output_type": "stream",
     "text": [
      "[I 2025-01-02 15:55:41,693] Trial 19 pruned. \n"
     ]
    },
    {
     "data": {
      "text/html": [
       "\n",
       "    <div>\n",
       "      \n",
       "      <progress value='3125' max='62500' style='width:300px; height:20px; vertical-align: middle;'></progress>\n",
       "      [ 3125/62500 03:15 < 1:02:03, 15.94 it/s, Epoch 1/20]\n",
       "    </div>\n",
       "    <table border=\"1\" class=\"dataframe\">\n",
       "  <thead>\n",
       " <tr style=\"text-align: left;\">\n",
       "      <th>Epoch</th>\n",
       "      <th>Training Loss</th>\n",
       "      <th>Validation Loss</th>\n",
       "      <th>Accuracy</th>\n",
       "      <th>Precision</th>\n",
       "      <th>Recall</th>\n",
       "      <th>F1</th>\n",
       "    </tr>\n",
       "  </thead>\n",
       "  <tbody>\n",
       "    <tr>\n",
       "      <td>1</td>\n",
       "      <td>0.992700</td>\n",
       "      <td>1.475629</td>\n",
       "      <td>0.555800</td>\n",
       "      <td>0.570293</td>\n",
       "      <td>0.555800</td>\n",
       "      <td>0.536550</td>\n",
       "    </tr>\n",
       "  </tbody>\n",
       "</table><p>"
      ],
      "text/plain": [
       "<IPython.core.display.HTML object>"
      ]
     },
     "metadata": {},
     "output_type": "display_data"
    },
    {
     "name": "stderr",
     "output_type": "stream",
     "text": [
      "[I 2025-01-02 15:58:57,928] Trial 20 pruned. \n"
     ]
    },
    {
     "data": {
      "text/html": [
       "\n",
       "    <div>\n",
       "      \n",
       "      <progress value='3125' max='62500' style='width:300px; height:20px; vertical-align: middle;'></progress>\n",
       "      [ 3125/62500 03:16 < 1:02:08, 15.92 it/s, Epoch 1/20]\n",
       "    </div>\n",
       "    <table border=\"1\" class=\"dataframe\">\n",
       "  <thead>\n",
       " <tr style=\"text-align: left;\">\n",
       "      <th>Epoch</th>\n",
       "      <th>Training Loss</th>\n",
       "      <th>Validation Loss</th>\n",
       "      <th>Accuracy</th>\n",
       "      <th>Precision</th>\n",
       "      <th>Recall</th>\n",
       "      <th>F1</th>\n",
       "    </tr>\n",
       "  </thead>\n",
       "  <tbody>\n",
       "    <tr>\n",
       "      <td>1</td>\n",
       "      <td>0.921500</td>\n",
       "      <td>1.833634</td>\n",
       "      <td>0.545100</td>\n",
       "      <td>0.562580</td>\n",
       "      <td>0.545100</td>\n",
       "      <td>0.526838</td>\n",
       "    </tr>\n",
       "  </tbody>\n",
       "</table><p>"
      ],
      "text/plain": [
       "<IPython.core.display.HTML object>"
      ]
     },
     "metadata": {},
     "output_type": "display_data"
    },
    {
     "name": "stderr",
     "output_type": "stream",
     "text": [
      "[I 2025-01-02 16:02:14,403] Trial 21 pruned. \n"
     ]
    },
    {
     "data": {
      "text/html": [
       "\n",
       "    <div>\n",
       "      \n",
       "      <progress value='3125' max='62500' style='width:300px; height:20px; vertical-align: middle;'></progress>\n",
       "      [ 3125/62500 03:16 < 1:02:12, 15.91 it/s, Epoch 1/20]\n",
       "    </div>\n",
       "    <table border=\"1\" class=\"dataframe\">\n",
       "  <thead>\n",
       " <tr style=\"text-align: left;\">\n",
       "      <th>Epoch</th>\n",
       "      <th>Training Loss</th>\n",
       "      <th>Validation Loss</th>\n",
       "      <th>Accuracy</th>\n",
       "      <th>Precision</th>\n",
       "      <th>Recall</th>\n",
       "      <th>F1</th>\n",
       "    </tr>\n",
       "  </thead>\n",
       "  <tbody>\n",
       "    <tr>\n",
       "      <td>1</td>\n",
       "      <td>1.221200</td>\n",
       "      <td>1.650682</td>\n",
       "      <td>0.340300</td>\n",
       "      <td>0.346941</td>\n",
       "      <td>0.340300</td>\n",
       "      <td>0.318851</td>\n",
       "    </tr>\n",
       "  </tbody>\n",
       "</table><p>"
      ],
      "text/plain": [
       "<IPython.core.display.HTML object>"
      ]
     },
     "metadata": {},
     "output_type": "display_data"
    },
    {
     "name": "stderr",
     "output_type": "stream",
     "text": [
      "[I 2025-01-02 16:05:31,073] Trial 22 pruned. \n"
     ]
    },
    {
     "data": {
      "text/html": [
       "\n",
       "    <div>\n",
       "      \n",
       "      <progress value='3125' max='62500' style='width:300px; height:20px; vertical-align: middle;'></progress>\n",
       "      [ 3125/62500 03:15 < 1:02:02, 15.95 it/s, Epoch 1/20]\n",
       "    </div>\n",
       "    <table border=\"1\" class=\"dataframe\">\n",
       "  <thead>\n",
       " <tr style=\"text-align: left;\">\n",
       "      <th>Epoch</th>\n",
       "      <th>Training Loss</th>\n",
       "      <th>Validation Loss</th>\n",
       "      <th>Accuracy</th>\n",
       "      <th>Precision</th>\n",
       "      <th>Recall</th>\n",
       "      <th>F1</th>\n",
       "    </tr>\n",
       "  </thead>\n",
       "  <tbody>\n",
       "    <tr>\n",
       "      <td>1</td>\n",
       "      <td>0.734000</td>\n",
       "      <td>2.036732</td>\n",
       "      <td>0.639300</td>\n",
       "      <td>0.663486</td>\n",
       "      <td>0.639300</td>\n",
       "      <td>0.633929</td>\n",
       "    </tr>\n",
       "  </tbody>\n",
       "</table><p>"
      ],
      "text/plain": [
       "<IPython.core.display.HTML object>"
      ]
     },
     "metadata": {},
     "output_type": "display_data"
    },
    {
     "name": "stderr",
     "output_type": "stream",
     "text": [
      "[I 2025-01-02 16:08:47,252] Trial 23 pruned. \n"
     ]
    },
    {
     "data": {
      "text/html": [
       "\n",
       "    <div>\n",
       "      \n",
       "      <progress value='1563' max='31260' style='width:300px; height:20px; vertical-align: middle;'></progress>\n",
       "      [ 1563/31260 03:04 < 58:21, 8.48 it/s, Epoch 1/20]\n",
       "    </div>\n",
       "    <table border=\"1\" class=\"dataframe\">\n",
       "  <thead>\n",
       " <tr style=\"text-align: left;\">\n",
       "      <th>Epoch</th>\n",
       "      <th>Training Loss</th>\n",
       "      <th>Validation Loss</th>\n",
       "      <th>Accuracy</th>\n",
       "      <th>Precision</th>\n",
       "      <th>Recall</th>\n",
       "      <th>F1</th>\n",
       "    </tr>\n",
       "  </thead>\n",
       "  <tbody>\n",
       "    <tr>\n",
       "      <td>1</td>\n",
       "      <td>0.594000</td>\n",
       "      <td>1.468202</td>\n",
       "      <td>0.634600</td>\n",
       "      <td>0.659192</td>\n",
       "      <td>0.634600</td>\n",
       "      <td>0.629873</td>\n",
       "    </tr>\n",
       "  </tbody>\n",
       "</table><p>"
      ],
      "text/plain": [
       "<IPython.core.display.HTML object>"
      ]
     },
     "metadata": {},
     "output_type": "display_data"
    },
    {
     "name": "stderr",
     "output_type": "stream",
     "text": [
      "[I 2025-01-02 16:11:51,706] Trial 24 pruned. \n"
     ]
    },
    {
     "data": {
      "text/html": [
       "\n",
       "    <div>\n",
       "      \n",
       "      <progress value='1563' max='31260' style='width:300px; height:20px; vertical-align: middle;'></progress>\n",
       "      [ 1563/31260 03:03 < 58:14, 8.50 it/s, Epoch 1/20]\n",
       "    </div>\n",
       "    <table border=\"1\" class=\"dataframe\">\n",
       "  <thead>\n",
       " <tr style=\"text-align: left;\">\n",
       "      <th>Epoch</th>\n",
       "      <th>Training Loss</th>\n",
       "      <th>Validation Loss</th>\n",
       "      <th>Accuracy</th>\n",
       "      <th>Precision</th>\n",
       "      <th>Recall</th>\n",
       "      <th>F1</th>\n",
       "    </tr>\n",
       "  </thead>\n",
       "  <tbody>\n",
       "    <tr>\n",
       "      <td>1</td>\n",
       "      <td>0.679800</td>\n",
       "      <td>1.906213</td>\n",
       "      <td>0.641400</td>\n",
       "      <td>0.660885</td>\n",
       "      <td>0.641400</td>\n",
       "      <td>0.632942</td>\n",
       "    </tr>\n",
       "  </tbody>\n",
       "</table><p>"
      ],
      "text/plain": [
       "<IPython.core.display.HTML object>"
      ]
     },
     "metadata": {},
     "output_type": "display_data"
    },
    {
     "name": "stderr",
     "output_type": "stream",
     "text": [
      "[I 2025-01-02 16:14:55,823] Trial 25 pruned. \n"
     ]
    },
    {
     "data": {
      "text/html": [
       "\n",
       "    <div>\n",
       "      \n",
       "      <progress value='3125' max='62500' style='width:300px; height:20px; vertical-align: middle;'></progress>\n",
       "      [ 3125/62500 03:16 < 1:02:06, 15.93 it/s, Epoch 1/20]\n",
       "    </div>\n",
       "    <table border=\"1\" class=\"dataframe\">\n",
       "  <thead>\n",
       " <tr style=\"text-align: left;\">\n",
       "      <th>Epoch</th>\n",
       "      <th>Training Loss</th>\n",
       "      <th>Validation Loss</th>\n",
       "      <th>Accuracy</th>\n",
       "      <th>Precision</th>\n",
       "      <th>Recall</th>\n",
       "      <th>F1</th>\n",
       "    </tr>\n",
       "  </thead>\n",
       "  <tbody>\n",
       "    <tr>\n",
       "      <td>1</td>\n",
       "      <td>0.719400</td>\n",
       "      <td>1.694801</td>\n",
       "      <td>0.647300</td>\n",
       "      <td>0.662804</td>\n",
       "      <td>0.647300</td>\n",
       "      <td>0.640999</td>\n",
       "    </tr>\n",
       "  </tbody>\n",
       "</table><p>"
      ],
      "text/plain": [
       "<IPython.core.display.HTML object>"
      ]
     },
     "metadata": {},
     "output_type": "display_data"
    },
    {
     "name": "stderr",
     "output_type": "stream",
     "text": [
      "[I 2025-01-02 16:18:12,209] Trial 26 pruned. \n"
     ]
    },
    {
     "data": {
      "text/html": [
       "\n",
       "    <div>\n",
       "      \n",
       "      <progress value='782' max='15640' style='width:300px; height:20px; vertical-align: middle;'></progress>\n",
       "      [  782/15640 03:03 < 58:11, 4.26 it/s, Epoch 1/20]\n",
       "    </div>\n",
       "    <table border=\"1\" class=\"dataframe\">\n",
       "  <thead>\n",
       " <tr style=\"text-align: left;\">\n",
       "      <th>Epoch</th>\n",
       "      <th>Training Loss</th>\n",
       "      <th>Validation Loss</th>\n",
       "      <th>Accuracy</th>\n",
       "      <th>Precision</th>\n",
       "      <th>Recall</th>\n",
       "      <th>F1</th>\n",
       "    </tr>\n",
       "  </thead>\n",
       "  <tbody>\n",
       "    <tr>\n",
       "      <td>1</td>\n",
       "      <td>0.931300</td>\n",
       "      <td>1.908035</td>\n",
       "      <td>0.629800</td>\n",
       "      <td>0.645091</td>\n",
       "      <td>0.629800</td>\n",
       "      <td>0.622301</td>\n",
       "    </tr>\n",
       "  </tbody>\n",
       "</table><p>"
      ],
      "text/plain": [
       "<IPython.core.display.HTML object>"
      ]
     },
     "metadata": {},
     "output_type": "display_data"
    },
    {
     "name": "stderr",
     "output_type": "stream",
     "text": [
      "[I 2025-01-02 16:21:16,050] Trial 27 pruned. \n"
     ]
    },
    {
     "data": {
      "text/html": [
       "\n",
       "    <div>\n",
       "      \n",
       "      <progress value='3125' max='62500' style='width:300px; height:20px; vertical-align: middle;'></progress>\n",
       "      [ 3125/62500 03:15 < 1:02:03, 15.95 it/s, Epoch 1/20]\n",
       "    </div>\n",
       "    <table border=\"1\" class=\"dataframe\">\n",
       "  <thead>\n",
       " <tr style=\"text-align: left;\">\n",
       "      <th>Epoch</th>\n",
       "      <th>Training Loss</th>\n",
       "      <th>Validation Loss</th>\n",
       "      <th>Accuracy</th>\n",
       "      <th>Precision</th>\n",
       "      <th>Recall</th>\n",
       "      <th>F1</th>\n",
       "    </tr>\n",
       "  </thead>\n",
       "  <tbody>\n",
       "    <tr>\n",
       "      <td>1</td>\n",
       "      <td>0.937900</td>\n",
       "      <td>1.426069</td>\n",
       "      <td>0.563000</td>\n",
       "      <td>0.575587</td>\n",
       "      <td>0.563000</td>\n",
       "      <td>0.540515</td>\n",
       "    </tr>\n",
       "  </tbody>\n",
       "</table><p>"
      ],
      "text/plain": [
       "<IPython.core.display.HTML object>"
      ]
     },
     "metadata": {},
     "output_type": "display_data"
    },
    {
     "name": "stderr",
     "output_type": "stream",
     "text": [
      "[I 2025-01-02 16:24:32,325] Trial 28 pruned. \n"
     ]
    },
    {
     "data": {
      "text/html": [
       "\n",
       "    <div>\n",
       "      \n",
       "      <progress value='3125' max='62500' style='width:300px; height:20px; vertical-align: middle;'></progress>\n",
       "      [ 3125/62500 03:15 < 1:01:57, 15.97 it/s, Epoch 1/20]\n",
       "    </div>\n",
       "    <table border=\"1\" class=\"dataframe\">\n",
       "  <thead>\n",
       " <tr style=\"text-align: left;\">\n",
       "      <th>Epoch</th>\n",
       "      <th>Training Loss</th>\n",
       "      <th>Validation Loss</th>\n",
       "      <th>Accuracy</th>\n",
       "      <th>Precision</th>\n",
       "      <th>Recall</th>\n",
       "      <th>F1</th>\n",
       "    </tr>\n",
       "  </thead>\n",
       "  <tbody>\n",
       "    <tr>\n",
       "      <td>1</td>\n",
       "      <td>0.922700</td>\n",
       "      <td>1.432718</td>\n",
       "      <td>0.613600</td>\n",
       "      <td>0.619687</td>\n",
       "      <td>0.613600</td>\n",
       "      <td>0.595488</td>\n",
       "    </tr>\n",
       "  </tbody>\n",
       "</table><p>"
      ],
      "text/plain": [
       "<IPython.core.display.HTML object>"
      ]
     },
     "metadata": {},
     "output_type": "display_data"
    },
    {
     "name": "stderr",
     "output_type": "stream",
     "text": [
      "[I 2025-01-02 16:27:48,218] Trial 29 pruned. \n"
     ]
    },
    {
     "data": {
      "text/html": [
       "\n",
       "    <div>\n",
       "      \n",
       "      <progress value='1563' max='31260' style='width:300px; height:20px; vertical-align: middle;'></progress>\n",
       "      [ 1563/31260 03:05 < 58:49, 8.41 it/s, Epoch 1/20]\n",
       "    </div>\n",
       "    <table border=\"1\" class=\"dataframe\">\n",
       "  <thead>\n",
       " <tr style=\"text-align: left;\">\n",
       "      <th>Epoch</th>\n",
       "      <th>Training Loss</th>\n",
       "      <th>Validation Loss</th>\n",
       "      <th>Accuracy</th>\n",
       "      <th>Precision</th>\n",
       "      <th>Recall</th>\n",
       "      <th>F1</th>\n",
       "    </tr>\n",
       "  </thead>\n",
       "  <tbody>\n",
       "    <tr>\n",
       "      <td>1</td>\n",
       "      <td>1.197500</td>\n",
       "      <td>1.556503</td>\n",
       "      <td>0.427400</td>\n",
       "      <td>0.450959</td>\n",
       "      <td>0.427400</td>\n",
       "      <td>0.409366</td>\n",
       "    </tr>\n",
       "  </tbody>\n",
       "</table><p>"
      ],
      "text/plain": [
       "<IPython.core.display.HTML object>"
      ]
     },
     "metadata": {},
     "output_type": "display_data"
    },
    {
     "name": "stderr",
     "output_type": "stream",
     "text": [
      "[I 2025-01-02 16:30:54,160] Trial 30 pruned. \n"
     ]
    },
    {
     "data": {
      "text/html": [
       "\n",
       "    <div>\n",
       "      \n",
       "      <progress value='782' max='15640' style='width:300px; height:20px; vertical-align: middle;'></progress>\n",
       "      [  782/15640 03:02 < 57:54, 4.28 it/s, Epoch 1/20]\n",
       "    </div>\n",
       "    <table border=\"1\" class=\"dataframe\">\n",
       "  <thead>\n",
       " <tr style=\"text-align: left;\">\n",
       "      <th>Epoch</th>\n",
       "      <th>Training Loss</th>\n",
       "      <th>Validation Loss</th>\n",
       "      <th>Accuracy</th>\n",
       "      <th>Precision</th>\n",
       "      <th>Recall</th>\n",
       "      <th>F1</th>\n",
       "    </tr>\n",
       "  </thead>\n",
       "  <tbody>\n",
       "    <tr>\n",
       "      <td>1</td>\n",
       "      <td>2.300100</td>\n",
       "      <td>1.957914</td>\n",
       "      <td>0.256200</td>\n",
       "      <td>0.253120</td>\n",
       "      <td>0.256200</td>\n",
       "      <td>0.227429</td>\n",
       "    </tr>\n",
       "  </tbody>\n",
       "</table><p>"
      ],
      "text/plain": [
       "<IPython.core.display.HTML object>"
      ]
     },
     "metadata": {},
     "output_type": "display_data"
    },
    {
     "name": "stderr",
     "output_type": "stream",
     "text": [
      "[I 2025-01-02 16:33:57,126] Trial 31 pruned. \n"
     ]
    },
    {
     "data": {
      "text/html": [
       "\n",
       "    <div>\n",
       "      \n",
       "      <progress value='3125' max='62500' style='width:300px; height:20px; vertical-align: middle;'></progress>\n",
       "      [ 3125/62500 03:16 < 1:02:13, 15.90 it/s, Epoch 1/20]\n",
       "    </div>\n",
       "    <table border=\"1\" class=\"dataframe\">\n",
       "  <thead>\n",
       " <tr style=\"text-align: left;\">\n",
       "      <th>Epoch</th>\n",
       "      <th>Training Loss</th>\n",
       "      <th>Validation Loss</th>\n",
       "      <th>Accuracy</th>\n",
       "      <th>Precision</th>\n",
       "      <th>Recall</th>\n",
       "      <th>F1</th>\n",
       "    </tr>\n",
       "  </thead>\n",
       "  <tbody>\n",
       "    <tr>\n",
       "      <td>1</td>\n",
       "      <td>2.284300</td>\n",
       "      <td>2.159734</td>\n",
       "      <td>0.178000</td>\n",
       "      <td>0.170701</td>\n",
       "      <td>0.178000</td>\n",
       "      <td>0.130561</td>\n",
       "    </tr>\n",
       "  </tbody>\n",
       "</table><p>"
      ],
      "text/plain": [
       "<IPython.core.display.HTML object>"
      ]
     },
     "metadata": {},
     "output_type": "display_data"
    },
    {
     "name": "stderr",
     "output_type": "stream",
     "text": [
      "[I 2025-01-02 16:37:13,903] Trial 32 pruned. \n"
     ]
    },
    {
     "data": {
      "text/html": [
       "\n",
       "    <div>\n",
       "      \n",
       "      <progress value='1563' max='31260' style='width:300px; height:20px; vertical-align: middle;'></progress>\n",
       "      [ 1563/31260 03:03 < 58:15, 8.50 it/s, Epoch 1/20]\n",
       "    </div>\n",
       "    <table border=\"1\" class=\"dataframe\">\n",
       "  <thead>\n",
       " <tr style=\"text-align: left;\">\n",
       "      <th>Epoch</th>\n",
       "      <th>Training Loss</th>\n",
       "      <th>Validation Loss</th>\n",
       "      <th>Accuracy</th>\n",
       "      <th>Precision</th>\n",
       "      <th>Recall</th>\n",
       "      <th>F1</th>\n",
       "    </tr>\n",
       "  </thead>\n",
       "  <tbody>\n",
       "    <tr>\n",
       "      <td>1</td>\n",
       "      <td>1.915100</td>\n",
       "      <td>1.848692</td>\n",
       "      <td>0.327900</td>\n",
       "      <td>0.325475</td>\n",
       "      <td>0.327900</td>\n",
       "      <td>0.306867</td>\n",
       "    </tr>\n",
       "  </tbody>\n",
       "</table><p>"
      ],
      "text/plain": [
       "<IPython.core.display.HTML object>"
      ]
     },
     "metadata": {},
     "output_type": "display_data"
    },
    {
     "name": "stderr",
     "output_type": "stream",
     "text": [
      "[I 2025-01-02 16:40:18,042] Trial 33 pruned. \n"
     ]
    },
    {
     "data": {
      "text/html": [
       "\n",
       "    <div>\n",
       "      \n",
       "      <progress value='3125' max='62500' style='width:300px; height:20px; vertical-align: middle;'></progress>\n",
       "      [ 3125/62500 03:16 < 1:02:23, 15.86 it/s, Epoch 1/20]\n",
       "    </div>\n",
       "    <table border=\"1\" class=\"dataframe\">\n",
       "  <thead>\n",
       " <tr style=\"text-align: left;\">\n",
       "      <th>Epoch</th>\n",
       "      <th>Training Loss</th>\n",
       "      <th>Validation Loss</th>\n",
       "      <th>Accuracy</th>\n",
       "      <th>Precision</th>\n",
       "      <th>Recall</th>\n",
       "      <th>F1</th>\n",
       "    </tr>\n",
       "  </thead>\n",
       "  <tbody>\n",
       "    <tr>\n",
       "      <td>1</td>\n",
       "      <td>0.744600</td>\n",
       "      <td>1.533749</td>\n",
       "      <td>0.515600</td>\n",
       "      <td>0.537144</td>\n",
       "      <td>0.515600</td>\n",
       "      <td>0.492623</td>\n",
       "    </tr>\n",
       "  </tbody>\n",
       "</table><p>"
      ],
      "text/plain": [
       "<IPython.core.display.HTML object>"
      ]
     },
     "metadata": {},
     "output_type": "display_data"
    },
    {
     "name": "stderr",
     "output_type": "stream",
     "text": [
      "[I 2025-01-02 16:43:35,296] Trial 34 pruned. \n"
     ]
    },
    {
     "data": {
      "text/html": [
       "\n",
       "    <div>\n",
       "      \n",
       "      <progress value='3125' max='62500' style='width:300px; height:20px; vertical-align: middle;'></progress>\n",
       "      [ 3125/62500 03:16 < 1:02:18, 15.88 it/s, Epoch 1/20]\n",
       "    </div>\n",
       "    <table border=\"1\" class=\"dataframe\">\n",
       "  <thead>\n",
       " <tr style=\"text-align: left;\">\n",
       "      <th>Epoch</th>\n",
       "      <th>Training Loss</th>\n",
       "      <th>Validation Loss</th>\n",
       "      <th>Accuracy</th>\n",
       "      <th>Precision</th>\n",
       "      <th>Recall</th>\n",
       "      <th>F1</th>\n",
       "    </tr>\n",
       "  </thead>\n",
       "  <tbody>\n",
       "    <tr>\n",
       "      <td>1</td>\n",
       "      <td>1.671800</td>\n",
       "      <td>1.563451</td>\n",
       "      <td>0.427500</td>\n",
       "      <td>0.465244</td>\n",
       "      <td>0.427500</td>\n",
       "      <td>0.411582</td>\n",
       "    </tr>\n",
       "  </tbody>\n",
       "</table><p>"
      ],
      "text/plain": [
       "<IPython.core.display.HTML object>"
      ]
     },
     "metadata": {},
     "output_type": "display_data"
    },
    {
     "name": "stderr",
     "output_type": "stream",
     "text": [
      "[I 2025-01-02 16:46:52,288] Trial 35 pruned. \n"
     ]
    },
    {
     "data": {
      "text/html": [
       "\n",
       "    <div>\n",
       "      \n",
       "      <progress value='3125' max='62500' style='width:300px; height:20px; vertical-align: middle;'></progress>\n",
       "      [ 3125/62500 03:16 < 1:02:19, 15.88 it/s, Epoch 1/20]\n",
       "    </div>\n",
       "    <table border=\"1\" class=\"dataframe\">\n",
       "  <thead>\n",
       " <tr style=\"text-align: left;\">\n",
       "      <th>Epoch</th>\n",
       "      <th>Training Loss</th>\n",
       "      <th>Validation Loss</th>\n",
       "      <th>Accuracy</th>\n",
       "      <th>Precision</th>\n",
       "      <th>Recall</th>\n",
       "      <th>F1</th>\n",
       "    </tr>\n",
       "  </thead>\n",
       "  <tbody>\n",
       "    <tr>\n",
       "      <td>1</td>\n",
       "      <td>1.795000</td>\n",
       "      <td>1.661769</td>\n",
       "      <td>0.388000</td>\n",
       "      <td>0.401225</td>\n",
       "      <td>0.388000</td>\n",
       "      <td>0.364767</td>\n",
       "    </tr>\n",
       "  </tbody>\n",
       "</table><p>"
      ],
      "text/plain": [
       "<IPython.core.display.HTML object>"
      ]
     },
     "metadata": {},
     "output_type": "display_data"
    },
    {
     "name": "stderr",
     "output_type": "stream",
     "text": [
      "[I 2025-01-02 16:50:09,319] Trial 36 pruned. \n"
     ]
    },
    {
     "data": {
      "text/html": [
       "\n",
       "    <div>\n",
       "      \n",
       "      <progress value='782' max='15640' style='width:300px; height:20px; vertical-align: middle;'></progress>\n",
       "      [  782/15640 03:02 < 57:50, 4.28 it/s, Epoch 1/20]\n",
       "    </div>\n",
       "    <table border=\"1\" class=\"dataframe\">\n",
       "  <thead>\n",
       " <tr style=\"text-align: left;\">\n",
       "      <th>Epoch</th>\n",
       "      <th>Training Loss</th>\n",
       "      <th>Validation Loss</th>\n",
       "      <th>Accuracy</th>\n",
       "      <th>Precision</th>\n",
       "      <th>Recall</th>\n",
       "      <th>F1</th>\n",
       "    </tr>\n",
       "  </thead>\n",
       "  <tbody>\n",
       "    <tr>\n",
       "      <td>1</td>\n",
       "      <td>1.105000</td>\n",
       "      <td>1.519232</td>\n",
       "      <td>0.590700</td>\n",
       "      <td>0.600787</td>\n",
       "      <td>0.590700</td>\n",
       "      <td>0.576703</td>\n",
       "    </tr>\n",
       "  </tbody>\n",
       "</table><p>"
      ],
      "text/plain": [
       "<IPython.core.display.HTML object>"
      ]
     },
     "metadata": {},
     "output_type": "display_data"
    },
    {
     "name": "stderr",
     "output_type": "stream",
     "text": [
      "[I 2025-01-02 16:53:12,069] Trial 37 pruned. \n"
     ]
    },
    {
     "data": {
      "text/html": [
       "\n",
       "    <div>\n",
       "      \n",
       "      <progress value='782' max='15640' style='width:300px; height:20px; vertical-align: middle;'></progress>\n",
       "      [  782/15640 03:02 < 57:53, 4.28 it/s, Epoch 1/20]\n",
       "    </div>\n",
       "    <table border=\"1\" class=\"dataframe\">\n",
       "  <thead>\n",
       " <tr style=\"text-align: left;\">\n",
       "      <th>Epoch</th>\n",
       "      <th>Training Loss</th>\n",
       "      <th>Validation Loss</th>\n",
       "      <th>Accuracy</th>\n",
       "      <th>Precision</th>\n",
       "      <th>Recall</th>\n",
       "      <th>F1</th>\n",
       "    </tr>\n",
       "  </thead>\n",
       "  <tbody>\n",
       "    <tr>\n",
       "      <td>1</td>\n",
       "      <td>1.751300</td>\n",
       "      <td>1.651152</td>\n",
       "      <td>0.247300</td>\n",
       "      <td>0.243097</td>\n",
       "      <td>0.247300</td>\n",
       "      <td>0.223189</td>\n",
       "    </tr>\n",
       "  </tbody>\n",
       "</table><p>"
      ],
      "text/plain": [
       "<IPython.core.display.HTML object>"
      ]
     },
     "metadata": {},
     "output_type": "display_data"
    },
    {
     "name": "stderr",
     "output_type": "stream",
     "text": [
      "[I 2025-01-02 16:56:15,048] Trial 38 pruned. \n"
     ]
    },
    {
     "data": {
      "text/html": [
       "\n",
       "    <div>\n",
       "      \n",
       "      <progress value='3125' max='62500' style='width:300px; height:20px; vertical-align: middle;'></progress>\n",
       "      [ 3125/62500 03:16 < 1:02:18, 15.88 it/s, Epoch 1/20]\n",
       "    </div>\n",
       "    <table border=\"1\" class=\"dataframe\">\n",
       "  <thead>\n",
       " <tr style=\"text-align: left;\">\n",
       "      <th>Epoch</th>\n",
       "      <th>Training Loss</th>\n",
       "      <th>Validation Loss</th>\n",
       "      <th>Accuracy</th>\n",
       "      <th>Precision</th>\n",
       "      <th>Recall</th>\n",
       "      <th>F1</th>\n",
       "    </tr>\n",
       "  </thead>\n",
       "  <tbody>\n",
       "    <tr>\n",
       "      <td>1</td>\n",
       "      <td>0.992600</td>\n",
       "      <td>1.823636</td>\n",
       "      <td>0.574300</td>\n",
       "      <td>0.597146</td>\n",
       "      <td>0.574300</td>\n",
       "      <td>0.563294</td>\n",
       "    </tr>\n",
       "  </tbody>\n",
       "</table><p>"
      ],
      "text/plain": [
       "<IPython.core.display.HTML object>"
      ]
     },
     "metadata": {},
     "output_type": "display_data"
    },
    {
     "name": "stderr",
     "output_type": "stream",
     "text": [
      "[I 2025-01-02 16:59:32,107] Trial 39 pruned. \n"
     ]
    },
    {
     "data": {
      "text/html": [
       "\n",
       "    <div>\n",
       "      \n",
       "      <progress value='782' max='15640' style='width:300px; height:20px; vertical-align: middle;'></progress>\n",
       "      [  782/15640 03:02 < 58:01, 4.27 it/s, Epoch 1/20]\n",
       "    </div>\n",
       "    <table border=\"1\" class=\"dataframe\">\n",
       "  <thead>\n",
       " <tr style=\"text-align: left;\">\n",
       "      <th>Epoch</th>\n",
       "      <th>Training Loss</th>\n",
       "      <th>Validation Loss</th>\n",
       "      <th>Accuracy</th>\n",
       "      <th>Precision</th>\n",
       "      <th>Recall</th>\n",
       "      <th>F1</th>\n",
       "    </tr>\n",
       "  </thead>\n",
       "  <tbody>\n",
       "    <tr>\n",
       "      <td>1</td>\n",
       "      <td>1.336900</td>\n",
       "      <td>1.677657</td>\n",
       "      <td>0.360000</td>\n",
       "      <td>0.373771</td>\n",
       "      <td>0.360000</td>\n",
       "      <td>0.341022</td>\n",
       "    </tr>\n",
       "  </tbody>\n",
       "</table><p>"
      ],
      "text/plain": [
       "<IPython.core.display.HTML object>"
      ]
     },
     "metadata": {},
     "output_type": "display_data"
    },
    {
     "name": "stderr",
     "output_type": "stream",
     "text": [
      "[I 2025-01-02 17:02:35,414] Trial 40 pruned. \n"
     ]
    },
    {
     "data": {
      "text/html": [
       "\n",
       "    <div>\n",
       "      \n",
       "      <progress value='782' max='15640' style='width:300px; height:20px; vertical-align: middle;'></progress>\n",
       "      [  782/15640 03:02 < 57:50, 4.28 it/s, Epoch 1/20]\n",
       "    </div>\n",
       "    <table border=\"1\" class=\"dataframe\">\n",
       "  <thead>\n",
       " <tr style=\"text-align: left;\">\n",
       "      <th>Epoch</th>\n",
       "      <th>Training Loss</th>\n",
       "      <th>Validation Loss</th>\n",
       "      <th>Accuracy</th>\n",
       "      <th>Precision</th>\n",
       "      <th>Recall</th>\n",
       "      <th>F1</th>\n",
       "    </tr>\n",
       "  </thead>\n",
       "  <tbody>\n",
       "    <tr>\n",
       "      <td>1</td>\n",
       "      <td>2.329000</td>\n",
       "      <td>2.152216</td>\n",
       "      <td>0.138200</td>\n",
       "      <td>0.116866</td>\n",
       "      <td>0.138200</td>\n",
       "      <td>0.084491</td>\n",
       "    </tr>\n",
       "  </tbody>\n",
       "</table><p>"
      ],
      "text/plain": [
       "<IPython.core.display.HTML object>"
      ]
     },
     "metadata": {},
     "output_type": "display_data"
    },
    {
     "name": "stderr",
     "output_type": "stream",
     "text": [
      "/usr/local/lib/python3.10/dist-packages/sklearn/metrics/_classification.py:1531: UndefinedMetricWarning: Precision is ill-defined and being set to 0.0 in labels with no predicted samples. Use `zero_division` parameter to control this behavior.\n",
      "  _warn_prf(average, modifier, f\"{metric.capitalize()} is\", len(result))\n",
      "[I 2025-01-02 17:05:38,226] Trial 41 pruned. \n"
     ]
    },
    {
     "data": {
      "text/html": [
       "\n",
       "    <div>\n",
       "      \n",
       "      <progress value='782' max='15640' style='width:300px; height:20px; vertical-align: middle;'></progress>\n",
       "      [  782/15640 03:02 < 57:48, 4.28 it/s, Epoch 1/20]\n",
       "    </div>\n",
       "    <table border=\"1\" class=\"dataframe\">\n",
       "  <thead>\n",
       " <tr style=\"text-align: left;\">\n",
       "      <th>Epoch</th>\n",
       "      <th>Training Loss</th>\n",
       "      <th>Validation Loss</th>\n",
       "      <th>Accuracy</th>\n",
       "      <th>Precision</th>\n",
       "      <th>Recall</th>\n",
       "      <th>F1</th>\n",
       "    </tr>\n",
       "  </thead>\n",
       "  <tbody>\n",
       "    <tr>\n",
       "      <td>1</td>\n",
       "      <td>1.913900</td>\n",
       "      <td>1.728208</td>\n",
       "      <td>0.206900</td>\n",
       "      <td>0.199192</td>\n",
       "      <td>0.206900</td>\n",
       "      <td>0.164699</td>\n",
       "    </tr>\n",
       "  </tbody>\n",
       "</table><p>"
      ],
      "text/plain": [
       "<IPython.core.display.HTML object>"
      ]
     },
     "metadata": {},
     "output_type": "display_data"
    },
    {
     "name": "stderr",
     "output_type": "stream",
     "text": [
      "[I 2025-01-02 17:08:40,898] Trial 42 pruned. \n"
     ]
    },
    {
     "data": {
      "text/html": [
       "\n",
       "    <div>\n",
       "      \n",
       "      <progress value='782' max='15640' style='width:300px; height:20px; vertical-align: middle;'></progress>\n",
       "      [  782/15640 03:01 < 57:38, 4.30 it/s, Epoch 1/20]\n",
       "    </div>\n",
       "    <table border=\"1\" class=\"dataframe\">\n",
       "  <thead>\n",
       " <tr style=\"text-align: left;\">\n",
       "      <th>Epoch</th>\n",
       "      <th>Training Loss</th>\n",
       "      <th>Validation Loss</th>\n",
       "      <th>Accuracy</th>\n",
       "      <th>Precision</th>\n",
       "      <th>Recall</th>\n",
       "      <th>F1</th>\n",
       "    </tr>\n",
       "  </thead>\n",
       "  <tbody>\n",
       "    <tr>\n",
       "      <td>1</td>\n",
       "      <td>2.247500</td>\n",
       "      <td>1.888100</td>\n",
       "      <td>0.271600</td>\n",
       "      <td>0.270982</td>\n",
       "      <td>0.271600</td>\n",
       "      <td>0.244194</td>\n",
       "    </tr>\n",
       "  </tbody>\n",
       "</table><p>"
      ],
      "text/plain": [
       "<IPython.core.display.HTML object>"
      ]
     },
     "metadata": {},
     "output_type": "display_data"
    },
    {
     "name": "stderr",
     "output_type": "stream",
     "text": [
      "[I 2025-01-02 17:11:43,044] Trial 43 pruned. \n"
     ]
    },
    {
     "data": {
      "text/html": [
       "\n",
       "    <div>\n",
       "      \n",
       "      <progress value='3125' max='62500' style='width:300px; height:20px; vertical-align: middle;'></progress>\n",
       "      [ 3125/62500 03:16 < 1:02:21, 15.87 it/s, Epoch 1/20]\n",
       "    </div>\n",
       "    <table border=\"1\" class=\"dataframe\">\n",
       "  <thead>\n",
       " <tr style=\"text-align: left;\">\n",
       "      <th>Epoch</th>\n",
       "      <th>Training Loss</th>\n",
       "      <th>Validation Loss</th>\n",
       "      <th>Accuracy</th>\n",
       "      <th>Precision</th>\n",
       "      <th>Recall</th>\n",
       "      <th>F1</th>\n",
       "    </tr>\n",
       "  </thead>\n",
       "  <tbody>\n",
       "    <tr>\n",
       "      <td>1</td>\n",
       "      <td>1.433900</td>\n",
       "      <td>1.587345</td>\n",
       "      <td>0.403200</td>\n",
       "      <td>0.426729</td>\n",
       "      <td>0.403200</td>\n",
       "      <td>0.373247</td>\n",
       "    </tr>\n",
       "  </tbody>\n",
       "</table><p>"
      ],
      "text/plain": [
       "<IPython.core.display.HTML object>"
      ]
     },
     "metadata": {},
     "output_type": "display_data"
    },
    {
     "name": "stderr",
     "output_type": "stream",
     "text": [
      "[I 2025-01-02 17:15:00,289] Trial 44 pruned. \n"
     ]
    },
    {
     "data": {
      "text/html": [
       "\n",
       "    <div>\n",
       "      \n",
       "      <progress value='1563' max='31260' style='width:300px; height:20px; vertical-align: middle;'></progress>\n",
       "      [ 1563/31260 03:04 < 58:22, 8.48 it/s, Epoch 1/20]\n",
       "    </div>\n",
       "    <table border=\"1\" class=\"dataframe\">\n",
       "  <thead>\n",
       " <tr style=\"text-align: left;\">\n",
       "      <th>Epoch</th>\n",
       "      <th>Training Loss</th>\n",
       "      <th>Validation Loss</th>\n",
       "      <th>Accuracy</th>\n",
       "      <th>Precision</th>\n",
       "      <th>Recall</th>\n",
       "      <th>F1</th>\n",
       "    </tr>\n",
       "  </thead>\n",
       "  <tbody>\n",
       "    <tr>\n",
       "      <td>1</td>\n",
       "      <td>0.929400</td>\n",
       "      <td>1.715594</td>\n",
       "      <td>0.617700</td>\n",
       "      <td>0.636102</td>\n",
       "      <td>0.617700</td>\n",
       "      <td>0.604075</td>\n",
       "    </tr>\n",
       "  </tbody>\n",
       "</table><p>"
      ],
      "text/plain": [
       "<IPython.core.display.HTML object>"
      ]
     },
     "metadata": {},
     "output_type": "display_data"
    },
    {
     "name": "stderr",
     "output_type": "stream",
     "text": [
      "[I 2025-01-02 17:18:04,823] Trial 45 pruned. \n"
     ]
    },
    {
     "data": {
      "text/html": [
       "\n",
       "    <div>\n",
       "      \n",
       "      <progress value='1563' max='31260' style='width:300px; height:20px; vertical-align: middle;'></progress>\n",
       "      [ 1563/31260 03:02 < 57:59, 8.53 it/s, Epoch 1/20]\n",
       "    </div>\n",
       "    <table border=\"1\" class=\"dataframe\">\n",
       "  <thead>\n",
       " <tr style=\"text-align: left;\">\n",
       "      <th>Epoch</th>\n",
       "      <th>Training Loss</th>\n",
       "      <th>Validation Loss</th>\n",
       "      <th>Accuracy</th>\n",
       "      <th>Precision</th>\n",
       "      <th>Recall</th>\n",
       "      <th>F1</th>\n",
       "    </tr>\n",
       "  </thead>\n",
       "  <tbody>\n",
       "    <tr>\n",
       "      <td>1</td>\n",
       "      <td>1.958300</td>\n",
       "      <td>1.835287</td>\n",
       "      <td>0.305400</td>\n",
       "      <td>0.295889</td>\n",
       "      <td>0.305400</td>\n",
       "      <td>0.279486</td>\n",
       "    </tr>\n",
       "  </tbody>\n",
       "</table><p>"
      ],
      "text/plain": [
       "<IPython.core.display.HTML object>"
      ]
     },
     "metadata": {},
     "output_type": "display_data"
    },
    {
     "name": "stderr",
     "output_type": "stream",
     "text": [
      "[I 2025-01-02 17:21:08,155] Trial 46 pruned. \n"
     ]
    },
    {
     "data": {
      "text/html": [
       "\n",
       "    <div>\n",
       "      \n",
       "      <progress value='1563' max='31260' style='width:300px; height:20px; vertical-align: middle;'></progress>\n",
       "      [ 1563/31260 03:03 < 58:11, 8.51 it/s, Epoch 1/20]\n",
       "    </div>\n",
       "    <table border=\"1\" class=\"dataframe\">\n",
       "  <thead>\n",
       " <tr style=\"text-align: left;\">\n",
       "      <th>Epoch</th>\n",
       "      <th>Training Loss</th>\n",
       "      <th>Validation Loss</th>\n",
       "      <th>Accuracy</th>\n",
       "      <th>Precision</th>\n",
       "      <th>Recall</th>\n",
       "      <th>F1</th>\n",
       "    </tr>\n",
       "  </thead>\n",
       "  <tbody>\n",
       "    <tr>\n",
       "      <td>1</td>\n",
       "      <td>0.716500</td>\n",
       "      <td>1.402947</td>\n",
       "      <td>0.623400</td>\n",
       "      <td>0.636480</td>\n",
       "      <td>0.623400</td>\n",
       "      <td>0.611129</td>\n",
       "    </tr>\n",
       "  </tbody>\n",
       "</table><p>"
      ],
      "text/plain": [
       "<IPython.core.display.HTML object>"
      ]
     },
     "metadata": {},
     "output_type": "display_data"
    },
    {
     "name": "stderr",
     "output_type": "stream",
     "text": [
      "[I 2025-01-02 17:24:12,097] Trial 47 pruned. \n"
     ]
    },
    {
     "data": {
      "text/html": [
       "\n",
       "    <div>\n",
       "      \n",
       "      <progress value='3125' max='62500' style='width:300px; height:20px; vertical-align: middle;'></progress>\n",
       "      [ 3125/62500 03:16 < 1:02:10, 15.91 it/s, Epoch 1/20]\n",
       "    </div>\n",
       "    <table border=\"1\" class=\"dataframe\">\n",
       "  <thead>\n",
       " <tr style=\"text-align: left;\">\n",
       "      <th>Epoch</th>\n",
       "      <th>Training Loss</th>\n",
       "      <th>Validation Loss</th>\n",
       "      <th>Accuracy</th>\n",
       "      <th>Precision</th>\n",
       "      <th>Recall</th>\n",
       "      <th>F1</th>\n",
       "    </tr>\n",
       "  </thead>\n",
       "  <tbody>\n",
       "    <tr>\n",
       "      <td>1</td>\n",
       "      <td>0.920000</td>\n",
       "      <td>1.839371</td>\n",
       "      <td>0.504900</td>\n",
       "      <td>0.525058</td>\n",
       "      <td>0.504900</td>\n",
       "      <td>0.484643</td>\n",
       "    </tr>\n",
       "  </tbody>\n",
       "</table><p>"
      ],
      "text/plain": [
       "<IPython.core.display.HTML object>"
      ]
     },
     "metadata": {},
     "output_type": "display_data"
    },
    {
     "name": "stderr",
     "output_type": "stream",
     "text": [
      "[I 2025-01-02 17:27:28,696] Trial 48 pruned. \n"
     ]
    },
    {
     "data": {
      "text/html": [
       "\n",
       "    <div>\n",
       "      \n",
       "      <progress value='3125' max='62500' style='width:300px; height:20px; vertical-align: middle;'></progress>\n",
       "      [ 3125/62500 03:16 < 1:02:08, 15.92 it/s, Epoch 1/20]\n",
       "    </div>\n",
       "    <table border=\"1\" class=\"dataframe\">\n",
       "  <thead>\n",
       " <tr style=\"text-align: left;\">\n",
       "      <th>Epoch</th>\n",
       "      <th>Training Loss</th>\n",
       "      <th>Validation Loss</th>\n",
       "      <th>Accuracy</th>\n",
       "      <th>Precision</th>\n",
       "      <th>Recall</th>\n",
       "      <th>F1</th>\n",
       "    </tr>\n",
       "  </thead>\n",
       "  <tbody>\n",
       "    <tr>\n",
       "      <td>1</td>\n",
       "      <td>1.665600</td>\n",
       "      <td>1.776729</td>\n",
       "      <td>0.345700</td>\n",
       "      <td>0.360688</td>\n",
       "      <td>0.345700</td>\n",
       "      <td>0.317261</td>\n",
       "    </tr>\n",
       "  </tbody>\n",
       "</table><p>"
      ],
      "text/plain": [
       "<IPython.core.display.HTML object>"
      ]
     },
     "metadata": {},
     "output_type": "display_data"
    },
    {
     "name": "stderr",
     "output_type": "stream",
     "text": [
      "[I 2025-01-02 17:30:45,151] Trial 49 pruned. \n"
     ]
    },
    {
     "data": {
      "text/html": [
       "\n",
       "    <div>\n",
       "      \n",
       "      <progress value='1563' max='31260' style='width:300px; height:20px; vertical-align: middle;'></progress>\n",
       "      [ 1563/31260 03:03 < 58:18, 8.49 it/s, Epoch 1/20]\n",
       "    </div>\n",
       "    <table border=\"1\" class=\"dataframe\">\n",
       "  <thead>\n",
       " <tr style=\"text-align: left;\">\n",
       "      <th>Epoch</th>\n",
       "      <th>Training Loss</th>\n",
       "      <th>Validation Loss</th>\n",
       "      <th>Accuracy</th>\n",
       "      <th>Precision</th>\n",
       "      <th>Recall</th>\n",
       "      <th>F1</th>\n",
       "    </tr>\n",
       "  </thead>\n",
       "  <tbody>\n",
       "    <tr>\n",
       "      <td>1</td>\n",
       "      <td>0.623500</td>\n",
       "      <td>1.582114</td>\n",
       "      <td>0.619100</td>\n",
       "      <td>0.617891</td>\n",
       "      <td>0.619100</td>\n",
       "      <td>0.597189</td>\n",
       "    </tr>\n",
       "  </tbody>\n",
       "</table><p>"
      ],
      "text/plain": [
       "<IPython.core.display.HTML object>"
      ]
     },
     "metadata": {},
     "output_type": "display_data"
    },
    {
     "name": "stderr",
     "output_type": "stream",
     "text": [
      "[I 2025-01-02 17:33:49,449] Trial 50 pruned. \n"
     ]
    },
    {
     "data": {
      "text/html": [
       "\n",
       "    <div>\n",
       "      \n",
       "      <progress value='3125' max='62500' style='width:300px; height:20px; vertical-align: middle;'></progress>\n",
       "      [ 3125/62500 03:16 < 1:02:11, 15.91 it/s, Epoch 1/20]\n",
       "    </div>\n",
       "    <table border=\"1\" class=\"dataframe\">\n",
       "  <thead>\n",
       " <tr style=\"text-align: left;\">\n",
       "      <th>Epoch</th>\n",
       "      <th>Training Loss</th>\n",
       "      <th>Validation Loss</th>\n",
       "      <th>Accuracy</th>\n",
       "      <th>Precision</th>\n",
       "      <th>Recall</th>\n",
       "      <th>F1</th>\n",
       "    </tr>\n",
       "  </thead>\n",
       "  <tbody>\n",
       "    <tr>\n",
       "      <td>1</td>\n",
       "      <td>1.097700</td>\n",
       "      <td>1.372472</td>\n",
       "      <td>0.651200</td>\n",
       "      <td>0.667586</td>\n",
       "      <td>0.651200</td>\n",
       "      <td>0.646812</td>\n",
       "    </tr>\n",
       "  </tbody>\n",
       "</table><p>"
      ],
      "text/plain": [
       "<IPython.core.display.HTML object>"
      ]
     },
     "metadata": {},
     "output_type": "display_data"
    },
    {
     "name": "stderr",
     "output_type": "stream",
     "text": [
      "[I 2025-01-02 17:37:06,060] Trial 51 pruned. \n"
     ]
    },
    {
     "data": {
      "text/html": [
       "\n",
       "    <div>\n",
       "      \n",
       "      <progress value='782' max='15640' style='width:300px; height:20px; vertical-align: middle;'></progress>\n",
       "      [  782/15640 03:02 < 57:54, 4.28 it/s, Epoch 1/20]\n",
       "    </div>\n",
       "    <table border=\"1\" class=\"dataframe\">\n",
       "  <thead>\n",
       " <tr style=\"text-align: left;\">\n",
       "      <th>Epoch</th>\n",
       "      <th>Training Loss</th>\n",
       "      <th>Validation Loss</th>\n",
       "      <th>Accuracy</th>\n",
       "      <th>Precision</th>\n",
       "      <th>Recall</th>\n",
       "      <th>F1</th>\n",
       "    </tr>\n",
       "  </thead>\n",
       "  <tbody>\n",
       "    <tr>\n",
       "      <td>1</td>\n",
       "      <td>1.764900</td>\n",
       "      <td>1.179881</td>\n",
       "      <td>0.571800</td>\n",
       "      <td>0.583125</td>\n",
       "      <td>0.571800</td>\n",
       "      <td>0.560764</td>\n",
       "    </tr>\n",
       "  </tbody>\n",
       "</table><p>"
      ],
      "text/plain": [
       "<IPython.core.display.HTML object>"
      ]
     },
     "metadata": {},
     "output_type": "display_data"
    },
    {
     "name": "stderr",
     "output_type": "stream",
     "text": [
      "[I 2025-01-02 17:40:09,002] Trial 52 pruned. \n"
     ]
    },
    {
     "data": {
      "text/html": [
       "\n",
       "    <div>\n",
       "      \n",
       "      <progress value='3125' max='62500' style='width:300px; height:20px; vertical-align: middle;'></progress>\n",
       "      [ 3125/62500 03:17 < 1:02:40, 15.79 it/s, Epoch 1/20]\n",
       "    </div>\n",
       "    <table border=\"1\" class=\"dataframe\">\n",
       "  <thead>\n",
       " <tr style=\"text-align: left;\">\n",
       "      <th>Epoch</th>\n",
       "      <th>Training Loss</th>\n",
       "      <th>Validation Loss</th>\n",
       "      <th>Accuracy</th>\n",
       "      <th>Precision</th>\n",
       "      <th>Recall</th>\n",
       "      <th>F1</th>\n",
       "    </tr>\n",
       "  </thead>\n",
       "  <tbody>\n",
       "    <tr>\n",
       "      <td>1</td>\n",
       "      <td>1.051200</td>\n",
       "      <td>1.703946</td>\n",
       "      <td>0.587700</td>\n",
       "      <td>0.610459</td>\n",
       "      <td>0.587700</td>\n",
       "      <td>0.572156</td>\n",
       "    </tr>\n",
       "  </tbody>\n",
       "</table><p>"
      ],
      "text/plain": [
       "<IPython.core.display.HTML object>"
      ]
     },
     "metadata": {},
     "output_type": "display_data"
    },
    {
     "name": "stderr",
     "output_type": "stream",
     "text": [
      "[I 2025-01-02 17:43:27,231] Trial 53 pruned. \n"
     ]
    },
    {
     "data": {
      "text/html": [
       "\n",
       "    <div>\n",
       "      \n",
       "      <progress value='782' max='15640' style='width:300px; height:20px; vertical-align: middle;'></progress>\n",
       "      [  782/15640 03:02 < 58:03, 4.27 it/s, Epoch 1/20]\n",
       "    </div>\n",
       "    <table border=\"1\" class=\"dataframe\">\n",
       "  <thead>\n",
       " <tr style=\"text-align: left;\">\n",
       "      <th>Epoch</th>\n",
       "      <th>Training Loss</th>\n",
       "      <th>Validation Loss</th>\n",
       "      <th>Accuracy</th>\n",
       "      <th>Precision</th>\n",
       "      <th>Recall</th>\n",
       "      <th>F1</th>\n",
       "    </tr>\n",
       "  </thead>\n",
       "  <tbody>\n",
       "    <tr>\n",
       "      <td>1</td>\n",
       "      <td>1.009600</td>\n",
       "      <td>0.895696</td>\n",
       "      <td>0.220500</td>\n",
       "      <td>0.215084</td>\n",
       "      <td>0.220500</td>\n",
       "      <td>0.186628</td>\n",
       "    </tr>\n",
       "  </tbody>\n",
       "</table><p>"
      ],
      "text/plain": [
       "<IPython.core.display.HTML object>"
      ]
     },
     "metadata": {},
     "output_type": "display_data"
    },
    {
     "name": "stderr",
     "output_type": "stream",
     "text": [
      "[I 2025-01-02 17:46:30,657] Trial 54 pruned. \n"
     ]
    },
    {
     "data": {
      "text/html": [
       "\n",
       "    <div>\n",
       "      \n",
       "      <progress value='3125' max='62500' style='width:300px; height:20px; vertical-align: middle;'></progress>\n",
       "      [ 3125/62500 03:16 < 1:02:15, 15.90 it/s, Epoch 1/20]\n",
       "    </div>\n",
       "    <table border=\"1\" class=\"dataframe\">\n",
       "  <thead>\n",
       " <tr style=\"text-align: left;\">\n",
       "      <th>Epoch</th>\n",
       "      <th>Training Loss</th>\n",
       "      <th>Validation Loss</th>\n",
       "      <th>Accuracy</th>\n",
       "      <th>Precision</th>\n",
       "      <th>Recall</th>\n",
       "      <th>F1</th>\n",
       "    </tr>\n",
       "  </thead>\n",
       "  <tbody>\n",
       "    <tr>\n",
       "      <td>1</td>\n",
       "      <td>1.123800</td>\n",
       "      <td>1.408782</td>\n",
       "      <td>0.641600</td>\n",
       "      <td>0.655330</td>\n",
       "      <td>0.641600</td>\n",
       "      <td>0.638465</td>\n",
       "    </tr>\n",
       "  </tbody>\n",
       "</table><p>"
      ],
      "text/plain": [
       "<IPython.core.display.HTML object>"
      ]
     },
     "metadata": {},
     "output_type": "display_data"
    },
    {
     "name": "stderr",
     "output_type": "stream",
     "text": [
      "[I 2025-01-02 17:49:47,553] Trial 55 pruned. \n"
     ]
    },
    {
     "data": {
      "text/html": [
       "\n",
       "    <div>\n",
       "      \n",
       "      <progress value='1563' max='31260' style='width:300px; height:20px; vertical-align: middle;'></progress>\n",
       "      [ 1563/31260 03:04 < 58:20, 8.48 it/s, Epoch 1/20]\n",
       "    </div>\n",
       "    <table border=\"1\" class=\"dataframe\">\n",
       "  <thead>\n",
       " <tr style=\"text-align: left;\">\n",
       "      <th>Epoch</th>\n",
       "      <th>Training Loss</th>\n",
       "      <th>Validation Loss</th>\n",
       "      <th>Accuracy</th>\n",
       "      <th>Precision</th>\n",
       "      <th>Recall</th>\n",
       "      <th>F1</th>\n",
       "    </tr>\n",
       "  </thead>\n",
       "  <tbody>\n",
       "    <tr>\n",
       "      <td>1</td>\n",
       "      <td>1.024700</td>\n",
       "      <td>1.767879</td>\n",
       "      <td>0.453900</td>\n",
       "      <td>0.473591</td>\n",
       "      <td>0.453900</td>\n",
       "      <td>0.430663</td>\n",
       "    </tr>\n",
       "  </tbody>\n",
       "</table><p>"
      ],
      "text/plain": [
       "<IPython.core.display.HTML object>"
      ]
     },
     "metadata": {},
     "output_type": "display_data"
    },
    {
     "name": "stderr",
     "output_type": "stream",
     "text": [
      "[I 2025-01-02 17:52:51,986] Trial 56 pruned. \n"
     ]
    },
    {
     "data": {
      "text/html": [
       "\n",
       "    <div>\n",
       "      \n",
       "      <progress value='3125' max='62500' style='width:300px; height:20px; vertical-align: middle;'></progress>\n",
       "      [ 3125/62500 03:16 < 1:02:25, 15.85 it/s, Epoch 1/20]\n",
       "    </div>\n",
       "    <table border=\"1\" class=\"dataframe\">\n",
       "  <thead>\n",
       " <tr style=\"text-align: left;\">\n",
       "      <th>Epoch</th>\n",
       "      <th>Training Loss</th>\n",
       "      <th>Validation Loss</th>\n",
       "      <th>Accuracy</th>\n",
       "      <th>Precision</th>\n",
       "      <th>Recall</th>\n",
       "      <th>F1</th>\n",
       "    </tr>\n",
       "  </thead>\n",
       "  <tbody>\n",
       "    <tr>\n",
       "      <td>1</td>\n",
       "      <td>1.705400</td>\n",
       "      <td>1.701337</td>\n",
       "      <td>0.386400</td>\n",
       "      <td>0.410349</td>\n",
       "      <td>0.386400</td>\n",
       "      <td>0.363824</td>\n",
       "    </tr>\n",
       "  </tbody>\n",
       "</table><p>"
      ],
      "text/plain": [
       "<IPython.core.display.HTML object>"
      ]
     },
     "metadata": {},
     "output_type": "display_data"
    },
    {
     "name": "stderr",
     "output_type": "stream",
     "text": [
      "[I 2025-01-02 17:56:09,362] Trial 57 pruned. \n"
     ]
    },
    {
     "data": {
      "text/html": [
       "\n",
       "    <div>\n",
       "      \n",
       "      <progress value='782' max='15640' style='width:300px; height:20px; vertical-align: middle;'></progress>\n",
       "      [  782/15640 03:01 < 57:42, 4.29 it/s, Epoch 1/20]\n",
       "    </div>\n",
       "    <table border=\"1\" class=\"dataframe\">\n",
       "  <thead>\n",
       " <tr style=\"text-align: left;\">\n",
       "      <th>Epoch</th>\n",
       "      <th>Training Loss</th>\n",
       "      <th>Validation Loss</th>\n",
       "      <th>Accuracy</th>\n",
       "      <th>Precision</th>\n",
       "      <th>Recall</th>\n",
       "      <th>F1</th>\n",
       "    </tr>\n",
       "  </thead>\n",
       "  <tbody>\n",
       "    <tr>\n",
       "      <td>1</td>\n",
       "      <td>1.937700</td>\n",
       "      <td>1.742919</td>\n",
       "      <td>0.257700</td>\n",
       "      <td>0.248751</td>\n",
       "      <td>0.257700</td>\n",
       "      <td>0.226796</td>\n",
       "    </tr>\n",
       "  </tbody>\n",
       "</table><p>"
      ],
      "text/plain": [
       "<IPython.core.display.HTML object>"
      ]
     },
     "metadata": {},
     "output_type": "display_data"
    },
    {
     "name": "stderr",
     "output_type": "stream",
     "text": [
      "[I 2025-01-02 17:59:11,668] Trial 58 pruned. \n"
     ]
    },
    {
     "data": {
      "text/html": [
       "\n",
       "    <div>\n",
       "      \n",
       "      <progress value='3125' max='62500' style='width:300px; height:20px; vertical-align: middle;'></progress>\n",
       "      [ 3125/62500 03:16 < 1:02:15, 15.89 it/s, Epoch 1/20]\n",
       "    </div>\n",
       "    <table border=\"1\" class=\"dataframe\">\n",
       "  <thead>\n",
       " <tr style=\"text-align: left;\">\n",
       "      <th>Epoch</th>\n",
       "      <th>Training Loss</th>\n",
       "      <th>Validation Loss</th>\n",
       "      <th>Accuracy</th>\n",
       "      <th>Precision</th>\n",
       "      <th>Recall</th>\n",
       "      <th>F1</th>\n",
       "    </tr>\n",
       "  </thead>\n",
       "  <tbody>\n",
       "    <tr>\n",
       "      <td>1</td>\n",
       "      <td>1.292100</td>\n",
       "      <td>1.788777</td>\n",
       "      <td>0.465600</td>\n",
       "      <td>0.496162</td>\n",
       "      <td>0.465600</td>\n",
       "      <td>0.440067</td>\n",
       "    </tr>\n",
       "  </tbody>\n",
       "</table><p>"
      ],
      "text/plain": [
       "<IPython.core.display.HTML object>"
      ]
     },
     "metadata": {},
     "output_type": "display_data"
    },
    {
     "name": "stderr",
     "output_type": "stream",
     "text": [
      "[I 2025-01-02 18:02:28,588] Trial 59 pruned. \n"
     ]
    },
    {
     "data": {
      "text/html": [
       "\n",
       "    <div>\n",
       "      \n",
       "      <progress value='3125' max='62500' style='width:300px; height:20px; vertical-align: middle;'></progress>\n",
       "      [ 3125/62500 03:17 < 1:02:40, 15.79 it/s, Epoch 1/20]\n",
       "    </div>\n",
       "    <table border=\"1\" class=\"dataframe\">\n",
       "  <thead>\n",
       " <tr style=\"text-align: left;\">\n",
       "      <th>Epoch</th>\n",
       "      <th>Training Loss</th>\n",
       "      <th>Validation Loss</th>\n",
       "      <th>Accuracy</th>\n",
       "      <th>Precision</th>\n",
       "      <th>Recall</th>\n",
       "      <th>F1</th>\n",
       "    </tr>\n",
       "  </thead>\n",
       "  <tbody>\n",
       "    <tr>\n",
       "      <td>1</td>\n",
       "      <td>1.265800</td>\n",
       "      <td>1.626632</td>\n",
       "      <td>0.302100</td>\n",
       "      <td>0.321277</td>\n",
       "      <td>0.302100</td>\n",
       "      <td>0.279703</td>\n",
       "    </tr>\n",
       "  </tbody>\n",
       "</table><p>"
      ],
      "text/plain": [
       "<IPython.core.display.HTML object>"
      ]
     },
     "metadata": {},
     "output_type": "display_data"
    },
    {
     "name": "stderr",
     "output_type": "stream",
     "text": [
      "[I 2025-01-02 18:05:46,758] Trial 60 pruned. \n"
     ]
    },
    {
     "data": {
      "text/html": [
       "\n",
       "    <div>\n",
       "      \n",
       "      <progress value='1563' max='31260' style='width:300px; height:20px; vertical-align: middle;'></progress>\n",
       "      [ 1563/31260 03:04 < 58:35, 8.45 it/s, Epoch 1/20]\n",
       "    </div>\n",
       "    <table border=\"1\" class=\"dataframe\">\n",
       "  <thead>\n",
       " <tr style=\"text-align: left;\">\n",
       "      <th>Epoch</th>\n",
       "      <th>Training Loss</th>\n",
       "      <th>Validation Loss</th>\n",
       "      <th>Accuracy</th>\n",
       "      <th>Precision</th>\n",
       "      <th>Recall</th>\n",
       "      <th>F1</th>\n",
       "    </tr>\n",
       "  </thead>\n",
       "  <tbody>\n",
       "    <tr>\n",
       "      <td>1</td>\n",
       "      <td>0.714000</td>\n",
       "      <td>1.625750</td>\n",
       "      <td>0.649500</td>\n",
       "      <td>0.666292</td>\n",
       "      <td>0.649500</td>\n",
       "      <td>0.641938</td>\n",
       "    </tr>\n",
       "  </tbody>\n",
       "</table><p>"
      ],
      "text/plain": [
       "<IPython.core.display.HTML object>"
      ]
     },
     "metadata": {},
     "output_type": "display_data"
    },
    {
     "name": "stderr",
     "output_type": "stream",
     "text": [
      "[I 2025-01-02 18:08:52,208] Trial 61 pruned. \n"
     ]
    },
    {
     "data": {
      "text/html": [
       "\n",
       "    <div>\n",
       "      \n",
       "      <progress value='782' max='15640' style='width:300px; height:20px; vertical-align: middle;'></progress>\n",
       "      [  782/15640 03:01 < 57:40, 4.29 it/s, Epoch 1/20]\n",
       "    </div>\n",
       "    <table border=\"1\" class=\"dataframe\">\n",
       "  <thead>\n",
       " <tr style=\"text-align: left;\">\n",
       "      <th>Epoch</th>\n",
       "      <th>Training Loss</th>\n",
       "      <th>Validation Loss</th>\n",
       "      <th>Accuracy</th>\n",
       "      <th>Precision</th>\n",
       "      <th>Recall</th>\n",
       "      <th>F1</th>\n",
       "    </tr>\n",
       "  </thead>\n",
       "  <tbody>\n",
       "    <tr>\n",
       "      <td>1</td>\n",
       "      <td>1.194200</td>\n",
       "      <td>1.513356</td>\n",
       "      <td>0.626200</td>\n",
       "      <td>0.653919</td>\n",
       "      <td>0.626200</td>\n",
       "      <td>0.623126</td>\n",
       "    </tr>\n",
       "  </tbody>\n",
       "</table><p>"
      ],
      "text/plain": [
       "<IPython.core.display.HTML object>"
      ]
     },
     "metadata": {},
     "output_type": "display_data"
    },
    {
     "name": "stderr",
     "output_type": "stream",
     "text": [
      "[I 2025-01-02 18:11:54,478] Trial 62 pruned. \n"
     ]
    },
    {
     "data": {
      "text/html": [
       "\n",
       "    <div>\n",
       "      \n",
       "      <progress value='1563' max='31260' style='width:300px; height:20px; vertical-align: middle;'></progress>\n",
       "      [ 1563/31260 03:03 < 58:03, 8.52 it/s, Epoch 1/20]\n",
       "    </div>\n",
       "    <table border=\"1\" class=\"dataframe\">\n",
       "  <thead>\n",
       " <tr style=\"text-align: left;\">\n",
       "      <th>Epoch</th>\n",
       "      <th>Training Loss</th>\n",
       "      <th>Validation Loss</th>\n",
       "      <th>Accuracy</th>\n",
       "      <th>Precision</th>\n",
       "      <th>Recall</th>\n",
       "      <th>F1</th>\n",
       "    </tr>\n",
       "  </thead>\n",
       "  <tbody>\n",
       "    <tr>\n",
       "      <td>1</td>\n",
       "      <td>1.122500</td>\n",
       "      <td>1.419581</td>\n",
       "      <td>0.639800</td>\n",
       "      <td>0.658429</td>\n",
       "      <td>0.639800</td>\n",
       "      <td>0.638277</td>\n",
       "    </tr>\n",
       "  </tbody>\n",
       "</table><p>"
      ],
      "text/plain": [
       "<IPython.core.display.HTML object>"
      ]
     },
     "metadata": {},
     "output_type": "display_data"
    },
    {
     "name": "stderr",
     "output_type": "stream",
     "text": [
      "[I 2025-01-02 18:14:58,139] Trial 63 pruned. \n"
     ]
    },
    {
     "data": {
      "text/html": [
       "\n",
       "    <div>\n",
       "      \n",
       "      <progress value='3125' max='62500' style='width:300px; height:20px; vertical-align: middle;'></progress>\n",
       "      [ 3125/62500 03:16 < 1:02:09, 15.92 it/s, Epoch 1/20]\n",
       "    </div>\n",
       "    <table border=\"1\" class=\"dataframe\">\n",
       "  <thead>\n",
       " <tr style=\"text-align: left;\">\n",
       "      <th>Epoch</th>\n",
       "      <th>Training Loss</th>\n",
       "      <th>Validation Loss</th>\n",
       "      <th>Accuracy</th>\n",
       "      <th>Precision</th>\n",
       "      <th>Recall</th>\n",
       "      <th>F1</th>\n",
       "    </tr>\n",
       "  </thead>\n",
       "  <tbody>\n",
       "    <tr>\n",
       "      <td>1</td>\n",
       "      <td>1.848400</td>\n",
       "      <td>1.764161</td>\n",
       "      <td>0.248600</td>\n",
       "      <td>0.247470</td>\n",
       "      <td>0.248600</td>\n",
       "      <td>0.227665</td>\n",
       "    </tr>\n",
       "  </tbody>\n",
       "</table><p>"
      ],
      "text/plain": [
       "<IPython.core.display.HTML object>"
      ]
     },
     "metadata": {},
     "output_type": "display_data"
    },
    {
     "name": "stderr",
     "output_type": "stream",
     "text": [
      "[I 2025-01-02 18:18:14,721] Trial 64 pruned. \n"
     ]
    },
    {
     "data": {
      "text/html": [
       "\n",
       "    <div>\n",
       "      \n",
       "      <progress value='782' max='15640' style='width:300px; height:20px; vertical-align: middle;'></progress>\n",
       "      [  782/15640 03:01 < 57:40, 4.29 it/s, Epoch 1/20]\n",
       "    </div>\n",
       "    <table border=\"1\" class=\"dataframe\">\n",
       "  <thead>\n",
       " <tr style=\"text-align: left;\">\n",
       "      <th>Epoch</th>\n",
       "      <th>Training Loss</th>\n",
       "      <th>Validation Loss</th>\n",
       "      <th>Accuracy</th>\n",
       "      <th>Precision</th>\n",
       "      <th>Recall</th>\n",
       "      <th>F1</th>\n",
       "    </tr>\n",
       "  </thead>\n",
       "  <tbody>\n",
       "    <tr>\n",
       "      <td>1</td>\n",
       "      <td>1.905200</td>\n",
       "      <td>1.743548</td>\n",
       "      <td>0.145600</td>\n",
       "      <td>0.129052</td>\n",
       "      <td>0.145600</td>\n",
       "      <td>0.096428</td>\n",
       "    </tr>\n",
       "  </tbody>\n",
       "</table><p>"
      ],
      "text/plain": [
       "<IPython.core.display.HTML object>"
      ]
     },
     "metadata": {},
     "output_type": "display_data"
    },
    {
     "name": "stderr",
     "output_type": "stream",
     "text": [
      "/usr/local/lib/python3.10/dist-packages/sklearn/metrics/_classification.py:1531: UndefinedMetricWarning: Precision is ill-defined and being set to 0.0 in labels with no predicted samples. Use `zero_division` parameter to control this behavior.\n",
      "  _warn_prf(average, modifier, f\"{metric.capitalize()} is\", len(result))\n",
      "[I 2025-01-02 18:21:16,968] Trial 65 pruned. \n"
     ]
    },
    {
     "data": {
      "text/html": [
       "\n",
       "    <div>\n",
       "      \n",
       "      <progress value='12504' max='31260' style='width:300px; height:20px; vertical-align: middle;'></progress>\n",
       "      [12504/31260 24:36 < 36:54, 8.47 it/s, Epoch 8/20]\n",
       "    </div>\n",
       "    <table border=\"1\" class=\"dataframe\">\n",
       "  <thead>\n",
       " <tr style=\"text-align: left;\">\n",
       "      <th>Epoch</th>\n",
       "      <th>Training Loss</th>\n",
       "      <th>Validation Loss</th>\n",
       "      <th>Accuracy</th>\n",
       "      <th>Precision</th>\n",
       "      <th>Recall</th>\n",
       "      <th>F1</th>\n",
       "    </tr>\n",
       "  </thead>\n",
       "  <tbody>\n",
       "    <tr>\n",
       "      <td>1</td>\n",
       "      <td>1.216600</td>\n",
       "      <td>1.072678</td>\n",
       "      <td>0.614000</td>\n",
       "      <td>0.631255</td>\n",
       "      <td>0.614000</td>\n",
       "      <td>0.603854</td>\n",
       "    </tr>\n",
       "    <tr>\n",
       "      <td>2</td>\n",
       "      <td>0.937300</td>\n",
       "      <td>0.988015</td>\n",
       "      <td>0.657000</td>\n",
       "      <td>0.698383</td>\n",
       "      <td>0.657000</td>\n",
       "      <td>0.660612</td>\n",
       "    </tr>\n",
       "    <tr>\n",
       "      <td>3</td>\n",
       "      <td>0.762200</td>\n",
       "      <td>0.743426</td>\n",
       "      <td>0.749300</td>\n",
       "      <td>0.761935</td>\n",
       "      <td>0.749300</td>\n",
       "      <td>0.747534</td>\n",
       "    </tr>\n",
       "    <tr>\n",
       "      <td>4</td>\n",
       "      <td>0.645300</td>\n",
       "      <td>0.711066</td>\n",
       "      <td>0.770700</td>\n",
       "      <td>0.777858</td>\n",
       "      <td>0.770700</td>\n",
       "      <td>0.768524</td>\n",
       "    </tr>\n",
       "    <tr>\n",
       "      <td>5</td>\n",
       "      <td>0.582700</td>\n",
       "      <td>0.633615</td>\n",
       "      <td>0.779300</td>\n",
       "      <td>0.807959</td>\n",
       "      <td>0.779300</td>\n",
       "      <td>0.783624</td>\n",
       "    </tr>\n",
       "    <tr>\n",
       "      <td>6</td>\n",
       "      <td>0.500000</td>\n",
       "      <td>0.722539</td>\n",
       "      <td>0.780100</td>\n",
       "      <td>0.801005</td>\n",
       "      <td>0.780100</td>\n",
       "      <td>0.773408</td>\n",
       "    </tr>\n",
       "    <tr>\n",
       "      <td>7</td>\n",
       "      <td>0.441300</td>\n",
       "      <td>0.743682</td>\n",
       "      <td>0.784000</td>\n",
       "      <td>0.804393</td>\n",
       "      <td>0.784000</td>\n",
       "      <td>0.783129</td>\n",
       "    </tr>\n",
       "    <tr>\n",
       "      <td>8</td>\n",
       "      <td>0.367800</td>\n",
       "      <td>1.221466</td>\n",
       "      <td>0.724300</td>\n",
       "      <td>0.751061</td>\n",
       "      <td>0.724300</td>\n",
       "      <td>0.710855</td>\n",
       "    </tr>\n",
       "  </tbody>\n",
       "</table><p>"
      ],
      "text/plain": [
       "<IPython.core.display.HTML object>"
      ]
     },
     "metadata": {},
     "output_type": "display_data"
    },
    {
     "name": "stderr",
     "output_type": "stream",
     "text": [
      "[I 2025-01-02 18:45:53,795] Trial 66 finished with value: 0.7108547303462907 and parameters: {'learning_rate': 0.0004192037404572582, 'per_device_train_batch_size': 32, 'weight_decay': 0.003, 'lambda_param': 0.0, 'temperature': 7.0}. Best is trial 13 with value: 0.8775142231826768.\n"
     ]
    },
    {
     "data": {
      "text/html": [
       "\n",
       "    <div>\n",
       "      \n",
       "      <progress value='1563' max='31260' style='width:300px; height:20px; vertical-align: middle;'></progress>\n",
       "      [ 1563/31260 03:03 < 58:04, 8.52 it/s, Epoch 1/20]\n",
       "    </div>\n",
       "    <table border=\"1\" class=\"dataframe\">\n",
       "  <thead>\n",
       " <tr style=\"text-align: left;\">\n",
       "      <th>Epoch</th>\n",
       "      <th>Training Loss</th>\n",
       "      <th>Validation Loss</th>\n",
       "      <th>Accuracy</th>\n",
       "      <th>Precision</th>\n",
       "      <th>Recall</th>\n",
       "      <th>F1</th>\n",
       "    </tr>\n",
       "  </thead>\n",
       "  <tbody>\n",
       "    <tr>\n",
       "      <td>1</td>\n",
       "      <td>1.190100</td>\n",
       "      <td>1.213143</td>\n",
       "      <td>0.613300</td>\n",
       "      <td>0.631634</td>\n",
       "      <td>0.613300</td>\n",
       "      <td>0.599124</td>\n",
       "    </tr>\n",
       "  </tbody>\n",
       "</table><p>"
      ],
      "text/plain": [
       "<IPython.core.display.HTML object>"
      ]
     },
     "metadata": {},
     "output_type": "display_data"
    },
    {
     "name": "stderr",
     "output_type": "stream",
     "text": [
      "[I 2025-01-02 18:48:57,411] Trial 67 pruned. \n"
     ]
    },
    {
     "data": {
      "text/html": [
       "\n",
       "    <div>\n",
       "      \n",
       "      <progress value='3125' max='62500' style='width:300px; height:20px; vertical-align: middle;'></progress>\n",
       "      [ 3125/62500 03:16 < 1:02:11, 15.91 it/s, Epoch 1/20]\n",
       "    </div>\n",
       "    <table border=\"1\" class=\"dataframe\">\n",
       "  <thead>\n",
       " <tr style=\"text-align: left;\">\n",
       "      <th>Epoch</th>\n",
       "      <th>Training Loss</th>\n",
       "      <th>Validation Loss</th>\n",
       "      <th>Accuracy</th>\n",
       "      <th>Precision</th>\n",
       "      <th>Recall</th>\n",
       "      <th>F1</th>\n",
       "    </tr>\n",
       "  </thead>\n",
       "  <tbody>\n",
       "    <tr>\n",
       "      <td>1</td>\n",
       "      <td>1.241000</td>\n",
       "      <td>1.092313</td>\n",
       "      <td>0.604300</td>\n",
       "      <td>0.620280</td>\n",
       "      <td>0.604300</td>\n",
       "      <td>0.594696</td>\n",
       "    </tr>\n",
       "  </tbody>\n",
       "</table><p>"
      ],
      "text/plain": [
       "<IPython.core.display.HTML object>"
      ]
     },
     "metadata": {},
     "output_type": "display_data"
    },
    {
     "name": "stderr",
     "output_type": "stream",
     "text": [
      "[I 2025-01-02 18:52:14,084] Trial 68 pruned. \n"
     ]
    },
    {
     "data": {
      "text/html": [
       "\n",
       "    <div>\n",
       "      \n",
       "      <progress value='3125' max='62500' style='width:300px; height:20px; vertical-align: middle;'></progress>\n",
       "      [ 3125/62500 03:17 < 1:02:32, 15.82 it/s, Epoch 1/20]\n",
       "    </div>\n",
       "    <table border=\"1\" class=\"dataframe\">\n",
       "  <thead>\n",
       " <tr style=\"text-align: left;\">\n",
       "      <th>Epoch</th>\n",
       "      <th>Training Loss</th>\n",
       "      <th>Validation Loss</th>\n",
       "      <th>Accuracy</th>\n",
       "      <th>Precision</th>\n",
       "      <th>Recall</th>\n",
       "      <th>F1</th>\n",
       "    </tr>\n",
       "  </thead>\n",
       "  <tbody>\n",
       "    <tr>\n",
       "      <td>1</td>\n",
       "      <td>1.318000</td>\n",
       "      <td>1.321736</td>\n",
       "      <td>0.560100</td>\n",
       "      <td>0.578742</td>\n",
       "      <td>0.560100</td>\n",
       "      <td>0.534668</td>\n",
       "    </tr>\n",
       "  </tbody>\n",
       "</table><p>"
      ],
      "text/plain": [
       "<IPython.core.display.HTML object>"
      ]
     },
     "metadata": {},
     "output_type": "display_data"
    },
    {
     "name": "stderr",
     "output_type": "stream",
     "text": [
      "[I 2025-01-02 18:55:31,834] Trial 69 pruned. \n"
     ]
    },
    {
     "data": {
      "text/html": [
       "\n",
       "    <div>\n",
       "      \n",
       "      <progress value='1563' max='31260' style='width:300px; height:20px; vertical-align: middle;'></progress>\n",
       "      [ 1563/31260 03:03 < 58:13, 8.50 it/s, Epoch 1/20]\n",
       "    </div>\n",
       "    <table border=\"1\" class=\"dataframe\">\n",
       "  <thead>\n",
       " <tr style=\"text-align: left;\">\n",
       "      <th>Epoch</th>\n",
       "      <th>Training Loss</th>\n",
       "      <th>Validation Loss</th>\n",
       "      <th>Accuracy</th>\n",
       "      <th>Precision</th>\n",
       "      <th>Recall</th>\n",
       "      <th>F1</th>\n",
       "    </tr>\n",
       "  </thead>\n",
       "  <tbody>\n",
       "    <tr>\n",
       "      <td>1</td>\n",
       "      <td>1.198400</td>\n",
       "      <td>1.200755</td>\n",
       "      <td>0.619800</td>\n",
       "      <td>0.640503</td>\n",
       "      <td>0.619800</td>\n",
       "      <td>0.608948</td>\n",
       "    </tr>\n",
       "  </tbody>\n",
       "</table><p>"
      ],
      "text/plain": [
       "<IPython.core.display.HTML object>"
      ]
     },
     "metadata": {},
     "output_type": "display_data"
    },
    {
     "name": "stderr",
     "output_type": "stream",
     "text": [
      "[I 2025-01-02 18:58:35,890] Trial 70 pruned. \n"
     ]
    },
    {
     "data": {
      "text/html": [
       "\n",
       "    <div>\n",
       "      \n",
       "      <progress value='1563' max='31260' style='width:300px; height:20px; vertical-align: middle;'></progress>\n",
       "      [ 1563/31260 03:03 < 58:10, 8.51 it/s, Epoch 1/20]\n",
       "    </div>\n",
       "    <table border=\"1\" class=\"dataframe\">\n",
       "  <thead>\n",
       " <tr style=\"text-align: left;\">\n",
       "      <th>Epoch</th>\n",
       "      <th>Training Loss</th>\n",
       "      <th>Validation Loss</th>\n",
       "      <th>Accuracy</th>\n",
       "      <th>Precision</th>\n",
       "      <th>Recall</th>\n",
       "      <th>F1</th>\n",
       "    </tr>\n",
       "  </thead>\n",
       "  <tbody>\n",
       "    <tr>\n",
       "      <td>1</td>\n",
       "      <td>1.197900</td>\n",
       "      <td>1.085242</td>\n",
       "      <td>0.614900</td>\n",
       "      <td>0.634268</td>\n",
       "      <td>0.614900</td>\n",
       "      <td>0.604737</td>\n",
       "    </tr>\n",
       "  </tbody>\n",
       "</table><p>"
      ],
      "text/plain": [
       "<IPython.core.display.HTML object>"
      ]
     },
     "metadata": {},
     "output_type": "display_data"
    },
    {
     "name": "stderr",
     "output_type": "stream",
     "text": [
      "[I 2025-01-02 19:01:39,791] Trial 71 pruned. \n"
     ]
    },
    {
     "data": {
      "text/html": [
       "\n",
       "    <div>\n",
       "      \n",
       "      <progress value='782' max='15640' style='width:300px; height:20px; vertical-align: middle;'></progress>\n",
       "      [  782/15640 03:01 < 57:41, 4.29 it/s, Epoch 1/20]\n",
       "    </div>\n",
       "    <table border=\"1\" class=\"dataframe\">\n",
       "  <thead>\n",
       " <tr style=\"text-align: left;\">\n",
       "      <th>Epoch</th>\n",
       "      <th>Training Loss</th>\n",
       "      <th>Validation Loss</th>\n",
       "      <th>Accuracy</th>\n",
       "      <th>Precision</th>\n",
       "      <th>Recall</th>\n",
       "      <th>F1</th>\n",
       "    </tr>\n",
       "  </thead>\n",
       "  <tbody>\n",
       "    <tr>\n",
       "      <td>1</td>\n",
       "      <td>2.328900</td>\n",
       "      <td>2.153829</td>\n",
       "      <td>0.137700</td>\n",
       "      <td>0.113611</td>\n",
       "      <td>0.137700</td>\n",
       "      <td>0.085904</td>\n",
       "    </tr>\n",
       "  </tbody>\n",
       "</table><p>"
      ],
      "text/plain": [
       "<IPython.core.display.HTML object>"
      ]
     },
     "metadata": {},
     "output_type": "display_data"
    },
    {
     "name": "stderr",
     "output_type": "stream",
     "text": [
      "/usr/local/lib/python3.10/dist-packages/sklearn/metrics/_classification.py:1531: UndefinedMetricWarning: Precision is ill-defined and being set to 0.0 in labels with no predicted samples. Use `zero_division` parameter to control this behavior.\n",
      "  _warn_prf(average, modifier, f\"{metric.capitalize()} is\", len(result))\n",
      "[I 2025-01-02 19:04:42,067] Trial 72 pruned. \n"
     ]
    },
    {
     "data": {
      "text/html": [
       "\n",
       "    <div>\n",
       "      \n",
       "      <progress value='3125' max='62500' style='width:300px; height:20px; vertical-align: middle;'></progress>\n",
       "      [ 3125/62500 03:17 < 1:02:29, 15.83 it/s, Epoch 1/20]\n",
       "    </div>\n",
       "    <table border=\"1\" class=\"dataframe\">\n",
       "  <thead>\n",
       " <tr style=\"text-align: left;\">\n",
       "      <th>Epoch</th>\n",
       "      <th>Training Loss</th>\n",
       "      <th>Validation Loss</th>\n",
       "      <th>Accuracy</th>\n",
       "      <th>Precision</th>\n",
       "      <th>Recall</th>\n",
       "      <th>F1</th>\n",
       "    </tr>\n",
       "  </thead>\n",
       "  <tbody>\n",
       "    <tr>\n",
       "      <td>1</td>\n",
       "      <td>1.752800</td>\n",
       "      <td>1.753912</td>\n",
       "      <td>0.376400</td>\n",
       "      <td>0.382832</td>\n",
       "      <td>0.376400</td>\n",
       "      <td>0.353604</td>\n",
       "    </tr>\n",
       "  </tbody>\n",
       "</table><p>"
      ],
      "text/plain": [
       "<IPython.core.display.HTML object>"
      ]
     },
     "metadata": {},
     "output_type": "display_data"
    },
    {
     "name": "stderr",
     "output_type": "stream",
     "text": [
      "[I 2025-01-02 19:07:59,703] Trial 73 pruned. \n"
     ]
    },
    {
     "data": {
      "text/html": [
       "\n",
       "    <div>\n",
       "      \n",
       "      <progress value='1563' max='31260' style='width:300px; height:20px; vertical-align: middle;'></progress>\n",
       "      [ 1563/31260 03:05 < 58:41, 8.43 it/s, Epoch 1/20]\n",
       "    </div>\n",
       "    <table border=\"1\" class=\"dataframe\">\n",
       "  <thead>\n",
       " <tr style=\"text-align: left;\">\n",
       "      <th>Epoch</th>\n",
       "      <th>Training Loss</th>\n",
       "      <th>Validation Loss</th>\n",
       "      <th>Accuracy</th>\n",
       "      <th>Precision</th>\n",
       "      <th>Recall</th>\n",
       "      <th>F1</th>\n",
       "    </tr>\n",
       "  </thead>\n",
       "  <tbody>\n",
       "    <tr>\n",
       "      <td>1</td>\n",
       "      <td>1.231600</td>\n",
       "      <td>1.519022</td>\n",
       "      <td>0.347500</td>\n",
       "      <td>0.357001</td>\n",
       "      <td>0.347500</td>\n",
       "      <td>0.322437</td>\n",
       "    </tr>\n",
       "  </tbody>\n",
       "</table><p>"
      ],
      "text/plain": [
       "<IPython.core.display.HTML object>"
      ]
     },
     "metadata": {},
     "output_type": "display_data"
    },
    {
     "name": "stderr",
     "output_type": "stream",
     "text": [
      "[I 2025-01-02 19:11:05,193] Trial 74 pruned. \n"
     ]
    },
    {
     "data": {
      "text/html": [
       "\n",
       "    <div>\n",
       "      \n",
       "      <progress value='1563' max='31260' style='width:300px; height:20px; vertical-align: middle;'></progress>\n",
       "      [ 1563/31260 03:02 < 57:56, 8.54 it/s, Epoch 1/20]\n",
       "    </div>\n",
       "    <table border=\"1\" class=\"dataframe\">\n",
       "  <thead>\n",
       " <tr style=\"text-align: left;\">\n",
       "      <th>Epoch</th>\n",
       "      <th>Training Loss</th>\n",
       "      <th>Validation Loss</th>\n",
       "      <th>Accuracy</th>\n",
       "      <th>Precision</th>\n",
       "      <th>Recall</th>\n",
       "      <th>F1</th>\n",
       "    </tr>\n",
       "  </thead>\n",
       "  <tbody>\n",
       "    <tr>\n",
       "      <td>1</td>\n",
       "      <td>0.665300</td>\n",
       "      <td>1.486519</td>\n",
       "      <td>0.576200</td>\n",
       "      <td>0.590446</td>\n",
       "      <td>0.576200</td>\n",
       "      <td>0.561158</td>\n",
       "    </tr>\n",
       "  </tbody>\n",
       "</table><p>"
      ],
      "text/plain": [
       "<IPython.core.display.HTML object>"
      ]
     },
     "metadata": {},
     "output_type": "display_data"
    },
    {
     "name": "stderr",
     "output_type": "stream",
     "text": [
      "[I 2025-01-02 19:14:08,355] Trial 75 pruned. \n"
     ]
    },
    {
     "data": {
      "text/html": [
       "\n",
       "    <div>\n",
       "      \n",
       "      <progress value='1563' max='31260' style='width:300px; height:20px; vertical-align: middle;'></progress>\n",
       "      [ 1563/31260 03:02 < 57:44, 8.57 it/s, Epoch 1/20]\n",
       "    </div>\n",
       "    <table border=\"1\" class=\"dataframe\">\n",
       "  <thead>\n",
       " <tr style=\"text-align: left;\">\n",
       "      <th>Epoch</th>\n",
       "      <th>Training Loss</th>\n",
       "      <th>Validation Loss</th>\n",
       "      <th>Accuracy</th>\n",
       "      <th>Precision</th>\n",
       "      <th>Recall</th>\n",
       "      <th>F1</th>\n",
       "    </tr>\n",
       "  </thead>\n",
       "  <tbody>\n",
       "    <tr>\n",
       "      <td>1</td>\n",
       "      <td>0.670200</td>\n",
       "      <td>1.912372</td>\n",
       "      <td>0.630300</td>\n",
       "      <td>0.640771</td>\n",
       "      <td>0.630300</td>\n",
       "      <td>0.620805</td>\n",
       "    </tr>\n",
       "  </tbody>\n",
       "</table><p>"
      ],
      "text/plain": [
       "<IPython.core.display.HTML object>"
      ]
     },
     "metadata": {},
     "output_type": "display_data"
    },
    {
     "name": "stderr",
     "output_type": "stream",
     "text": [
      "[I 2025-01-02 19:17:10,884] Trial 76 pruned. \n"
     ]
    },
    {
     "data": {
      "text/html": [
       "\n",
       "    <div>\n",
       "      \n",
       "      <progress value='3125' max='62500' style='width:300px; height:20px; vertical-align: middle;'></progress>\n",
       "      [ 3125/62500 03:16 < 1:02:10, 15.92 it/s, Epoch 1/20]\n",
       "    </div>\n",
       "    <table border=\"1\" class=\"dataframe\">\n",
       "  <thead>\n",
       " <tr style=\"text-align: left;\">\n",
       "      <th>Epoch</th>\n",
       "      <th>Training Loss</th>\n",
       "      <th>Validation Loss</th>\n",
       "      <th>Accuracy</th>\n",
       "      <th>Precision</th>\n",
       "      <th>Recall</th>\n",
       "      <th>F1</th>\n",
       "    </tr>\n",
       "  </thead>\n",
       "  <tbody>\n",
       "    <tr>\n",
       "      <td>1</td>\n",
       "      <td>1.241600</td>\n",
       "      <td>1.490284</td>\n",
       "      <td>0.553300</td>\n",
       "      <td>0.572340</td>\n",
       "      <td>0.553300</td>\n",
       "      <td>0.541789</td>\n",
       "    </tr>\n",
       "  </tbody>\n",
       "</table><p>"
      ],
      "text/plain": [
       "<IPython.core.display.HTML object>"
      ]
     },
     "metadata": {},
     "output_type": "display_data"
    },
    {
     "name": "stderr",
     "output_type": "stream",
     "text": [
      "[I 2025-01-02 19:20:27,459] Trial 77 pruned. \n"
     ]
    },
    {
     "data": {
      "text/html": [
       "\n",
       "    <div>\n",
       "      \n",
       "      <progress value='782' max='15640' style='width:300px; height:20px; vertical-align: middle;'></progress>\n",
       "      [  782/15640 03:02 < 57:50, 4.28 it/s, Epoch 1/20]\n",
       "    </div>\n",
       "    <table border=\"1\" class=\"dataframe\">\n",
       "  <thead>\n",
       " <tr style=\"text-align: left;\">\n",
       "      <th>Epoch</th>\n",
       "      <th>Training Loss</th>\n",
       "      <th>Validation Loss</th>\n",
       "      <th>Accuracy</th>\n",
       "      <th>Precision</th>\n",
       "      <th>Recall</th>\n",
       "      <th>F1</th>\n",
       "    </tr>\n",
       "  </thead>\n",
       "  <tbody>\n",
       "    <tr>\n",
       "      <td>1</td>\n",
       "      <td>1.594300</td>\n",
       "      <td>1.438909</td>\n",
       "      <td>0.170700</td>\n",
       "      <td>0.148205</td>\n",
       "      <td>0.170700</td>\n",
       "      <td>0.118925</td>\n",
       "    </tr>\n",
       "  </tbody>\n",
       "</table><p>"
      ],
      "text/plain": [
       "<IPython.core.display.HTML object>"
      ]
     },
     "metadata": {},
     "output_type": "display_data"
    },
    {
     "name": "stderr",
     "output_type": "stream",
     "text": [
      "[I 2025-01-02 19:23:30,635] Trial 78 pruned. \n"
     ]
    },
    {
     "data": {
      "text/html": [
       "\n",
       "    <div>\n",
       "      \n",
       "      <progress value='3125' max='62500' style='width:300px; height:20px; vertical-align: middle;'></progress>\n",
       "      [ 3125/62500 03:16 < 1:02:09, 15.92 it/s, Epoch 1/20]\n",
       "    </div>\n",
       "    <table border=\"1\" class=\"dataframe\">\n",
       "  <thead>\n",
       " <tr style=\"text-align: left;\">\n",
       "      <th>Epoch</th>\n",
       "      <th>Training Loss</th>\n",
       "      <th>Validation Loss</th>\n",
       "      <th>Accuracy</th>\n",
       "      <th>Precision</th>\n",
       "      <th>Recall</th>\n",
       "      <th>F1</th>\n",
       "    </tr>\n",
       "  </thead>\n",
       "  <tbody>\n",
       "    <tr>\n",
       "      <td>1</td>\n",
       "      <td>0.609300</td>\n",
       "      <td>1.698447</td>\n",
       "      <td>0.615400</td>\n",
       "      <td>0.631447</td>\n",
       "      <td>0.615400</td>\n",
       "      <td>0.606751</td>\n",
       "    </tr>\n",
       "  </tbody>\n",
       "</table><p>"
      ],
      "text/plain": [
       "<IPython.core.display.HTML object>"
      ]
     },
     "metadata": {},
     "output_type": "display_data"
    },
    {
     "name": "stderr",
     "output_type": "stream",
     "text": [
      "[I 2025-01-02 19:26:47,257] Trial 79 pruned. \n"
     ]
    }
   ],
   "source": [
    "best_trial = trainer.hyperparameter_search(\n",
    "    direction=\"maximize\",\n",
    "    backend=\"optuna\",\n",
    "    hp_space=hp_space,\n",
    "    compute_objective=lambda metrics: metrics[\"eval_f1\"],\n",
    "    pruner=pruner,\n",
    "    sampler=sampler,\n",
    "    n_trials=80\n",
    ")"
   ]
  },
  {
   "cell_type": "code",
   "execution_count": null,
   "id": "2d784b52-92ec-4685-8f07-81ac7551fc30",
   "metadata": {},
   "outputs": [],
   "source": []
  }
 ],
 "metadata": {
  "kernelspec": {
   "display_name": "Python 3 (ipykernel)",
   "language": "python",
   "name": "python3"
  },
  "language_info": {
   "codemirror_mode": {
    "name": "ipython",
    "version": 3
   },
   "file_extension": ".py",
   "mimetype": "text/x-python",
   "name": "python",
   "nbconvert_exporter": "python",
   "pygments_lexer": "ipython3",
   "version": "3.10.12"
  }
 },
 "nbformat": 4,
 "nbformat_minor": 5
}
