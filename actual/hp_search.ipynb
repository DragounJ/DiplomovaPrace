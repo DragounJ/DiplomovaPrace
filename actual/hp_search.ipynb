{
 "cells": [
  {
   "cell_type": "markdown",
   "id": "b80e8fe1",
   "metadata": {},
   "source": [
    "# Notebook pro hledání hyperparametrů - kostra\n",
    "\n",
    "Několik pokusných běhů již proběhlo, každý ovšem následovala další úprava parametrů hledání. Výsledky budou nahrány až doběhnou. \n",
    "\n",
    "Zároveň bude zřejmě vhodné hledání rozšířit i na další variace v notebocích CIFAR10 a CIFAR100.\n",
    "Momentálně se prohledávání provádí pouze nad datasetem CIFAR10 a náhodně inicializovaným mobilenetem s destilací a bez. Využíváno je předpočítaných logitů ze sešitu precompute_logits."
   ]
  },
  {
   "cell_type": "code",
   "execution_count": 1,
   "id": "3efcfa7e-c869-43c9-955f-0678e717c4cf",
   "metadata": {
    "editable": true,
    "scrolled": true,
    "slideshow": {
     "slide_type": ""
    },
    "tags": []
   },
   "outputs": [
    {
     "name": "stdout",
     "output_type": "stream",
     "text": [
      "Looking in indexes: https://pypi.org/simple, https://pypi.ngc.nvidia.com\n",
      "Requirement already satisfied: huggingface_hub in /usr/local/lib/python3.10/dist-packages (0.27.0)\n",
      "Requirement already satisfied: datasets in /usr/local/lib/python3.10/dist-packages (3.2.0)\n",
      "Requirement already satisfied: evaluate in /usr/local/lib/python3.10/dist-packages (0.4.3)\n",
      "Requirement already satisfied: torchvision in /usr/local/lib/python3.10/dist-packages (0.20.0a0)\n",
      "Requirement already satisfied: transformers[torch] in /usr/local/lib/python3.10/dist-packages (4.45.2)\n",
      "Requirement already satisfied: filelock in /usr/local/lib/python3.10/dist-packages (from transformers[torch]) (3.16.1)\n",
      "Requirement already satisfied: numpy>=1.17 in /usr/local/lib/python3.10/dist-packages (from transformers[torch]) (1.24.4)\n",
      "Requirement already satisfied: packaging>=20.0 in /usr/local/lib/python3.10/dist-packages (from transformers[torch]) (23.2)\n",
      "Requirement already satisfied: pyyaml>=5.1 in /usr/local/lib/python3.10/dist-packages (from transformers[torch]) (6.0.2)\n",
      "Requirement already satisfied: regex!=2019.12.17 in /usr/local/lib/python3.10/dist-packages (from transformers[torch]) (2024.9.11)\n",
      "Requirement already satisfied: requests in /usr/local/lib/python3.10/dist-packages (from transformers[torch]) (2.32.3)\n",
      "Requirement already satisfied: safetensors>=0.4.1 in /usr/local/lib/python3.10/dist-packages (from transformers[torch]) (0.4.5)\n",
      "Requirement already satisfied: tokenizers<0.21,>=0.20 in /usr/local/lib/python3.10/dist-packages (from transformers[torch]) (0.20.3)\n",
      "Requirement already satisfied: tqdm>=4.27 in /usr/local/lib/python3.10/dist-packages (from transformers[torch]) (4.66.5)\n",
      "Requirement already satisfied: accelerate>=0.26.0 in /usr/local/lib/python3.10/dist-packages (from transformers[torch]) (1.2.1)\n",
      "Requirement already satisfied: torch in /usr/local/lib/python3.10/dist-packages (from transformers[torch]) (2.5.0a0+e000cf0ad9.nv24.10)\n",
      "Requirement already satisfied: fsspec>=2023.5.0 in /usr/local/lib/python3.10/dist-packages (from huggingface_hub) (2024.6.1)\n",
      "Requirement already satisfied: typing-extensions>=3.7.4.3 in /usr/local/lib/python3.10/dist-packages (from huggingface_hub) (4.12.2)\n",
      "Requirement already satisfied: pyarrow>=15.0.0 in /usr/local/lib/python3.10/dist-packages (from datasets) (16.1.0)\n",
      "Requirement already satisfied: dill<0.3.9,>=0.3.0 in /usr/local/lib/python3.10/dist-packages (from datasets) (0.3.8)\n",
      "Requirement already satisfied: pandas in /usr/local/lib/python3.10/dist-packages (from datasets) (2.2.2)\n",
      "Requirement already satisfied: xxhash in /usr/local/lib/python3.10/dist-packages (from datasets) (3.5.0)\n",
      "Requirement already satisfied: multiprocess<0.70.17 in /usr/local/lib/python3.10/dist-packages (from datasets) (0.70.16)\n",
      "Requirement already satisfied: aiohttp in /usr/local/lib/python3.10/dist-packages (from datasets) (3.10.5)\n",
      "Requirement already satisfied: pillow!=8.3.*,>=5.3.0 in /usr/local/lib/python3.10/dist-packages (from torchvision) (10.4.0)\n",
      "Requirement already satisfied: networkx in /usr/local/lib/python3.10/dist-packages (from torch->transformers[torch]) (3.3)\n",
      "Requirement already satisfied: jinja2 in /usr/local/lib/python3.10/dist-packages (from torch->transformers[torch]) (3.1.4)\n",
      "Requirement already satisfied: sympy==1.13.1 in /usr/local/lib/python3.10/dist-packages (from torch->transformers[torch]) (1.13.1)\n",
      "Requirement already satisfied: mpmath<1.4,>=1.1.0 in /usr/local/lib/python3.10/dist-packages (from sympy==1.13.1->torch->transformers[torch]) (1.3.0)\n",
      "Requirement already satisfied: psutil in /usr/local/lib/python3.10/dist-packages (from accelerate>=0.26.0->transformers[torch]) (6.0.0)\n",
      "Requirement already satisfied: aiohappyeyeballs>=2.3.0 in /usr/local/lib/python3.10/dist-packages (from aiohttp->datasets) (2.4.0)\n",
      "Requirement already satisfied: aiosignal>=1.1.2 in /usr/local/lib/python3.10/dist-packages (from aiohttp->datasets) (1.3.1)\n",
      "Requirement already satisfied: attrs>=17.3.0 in /usr/local/lib/python3.10/dist-packages (from aiohttp->datasets) (24.2.0)\n",
      "Requirement already satisfied: frozenlist>=1.1.1 in /usr/local/lib/python3.10/dist-packages (from aiohttp->datasets) (1.4.1)\n",
      "Requirement already satisfied: multidict<7.0,>=4.5 in /usr/local/lib/python3.10/dist-packages (from aiohttp->datasets) (6.0.5)\n",
      "Requirement already satisfied: yarl<2.0,>=1.0 in /usr/local/lib/python3.10/dist-packages (from aiohttp->datasets) (1.9.4)\n",
      "Requirement already satisfied: async-timeout<5.0,>=4.0 in /usr/local/lib/python3.10/dist-packages (from aiohttp->datasets) (4.0.3)\n",
      "Requirement already satisfied: charset-normalizer<4,>=2 in /usr/local/lib/python3.10/dist-packages (from requests->transformers[torch]) (3.3.2)\n",
      "Requirement already satisfied: idna<4,>=2.5 in /usr/local/lib/python3.10/dist-packages (from requests->transformers[torch]) (3.7)\n",
      "Requirement already satisfied: urllib3<3,>=1.21.1 in /usr/local/lib/python3.10/dist-packages (from requests->transformers[torch]) (2.0.7)\n",
      "Requirement already satisfied: certifi>=2017.4.17 in /usr/local/lib/python3.10/dist-packages (from requests->transformers[torch]) (2024.8.30)\n",
      "Requirement already satisfied: python-dateutil>=2.8.2 in /usr/local/lib/python3.10/dist-packages (from pandas->datasets) (2.9.0.post0)\n",
      "Requirement already satisfied: pytz>=2020.1 in /usr/local/lib/python3.10/dist-packages (from pandas->datasets) (2023.4)\n",
      "Requirement already satisfied: tzdata>=2022.7 in /usr/local/lib/python3.10/dist-packages (from pandas->datasets) (2024.1)\n",
      "Requirement already satisfied: six>=1.5 in /usr/local/lib/python3.10/dist-packages (from python-dateutil>=2.8.2->pandas->datasets) (1.16.0)\n",
      "Requirement already satisfied: MarkupSafe>=2.0 in /usr/local/lib/python3.10/dist-packages (from jinja2->torch->transformers[torch]) (2.1.5)\n",
      "\n",
      "\u001b[1m[\u001b[0m\u001b[34;49mnotice\u001b[0m\u001b[1;39;49m]\u001b[0m\u001b[39;49m A new release of pip is available: \u001b[0m\u001b[31;49m24.2\u001b[0m\u001b[39;49m -> \u001b[0m\u001b[32;49m24.3.1\u001b[0m\n",
      "\u001b[1m[\u001b[0m\u001b[34;49mnotice\u001b[0m\u001b[1;39;49m]\u001b[0m\u001b[39;49m To update, run: \u001b[0m\u001b[32;49mpython -m pip install --upgrade pip\u001b[0m\n",
      "Note: you may need to restart the kernel to use updated packages.\n"
     ]
    }
   ],
   "source": [
    "%pip install transformers[torch] huggingface_hub datasets evaluate torchvision optuna"
   ]
  },
  {
   "cell_type": "markdown",
   "id": "54d1c726",
   "metadata": {},
   "source": [
    "## Import knihoven a definice metod"
   ]
  },
  {
   "cell_type": "code",
   "execution_count": 2,
   "id": "f7e7a26f-aa1f-4645-b3b3-4643ca8be2a4",
   "metadata": {},
   "outputs": [],
   "source": [
    "from transformers import Trainer, TrainingArguments, MobileNetV2Config, MobileNetV2ForImageClassification, EarlyStoppingCallback\n",
    "from torchvision import transforms\n",
    "from torch.utils.data import Dataset\n",
    "import torch.nn.functional as F\n",
    "from PIL import Image\n",
    "import torch.nn as nn\n",
    "import numpy as np\n",
    "import evaluate\n",
    "import random\n",
    "import pickle\n",
    "import optuna\n",
    "import torch\n",
    "import os "
   ]
  },
  {
   "cell_type": "markdown",
   "id": "4cf6897a",
   "metadata": {},
   "source": [
    "Resetování náhodného seedu pro replikovatelnost výsledků.\n",
    "Zřejmě je možné části odebrat.\n",
    "\n",
    "TODO: Odebrat zbytečná nastavení."
   ]
  },
  {
   "cell_type": "code",
   "execution_count": 3,
   "id": "bd53a434",
   "metadata": {},
   "outputs": [],
   "source": [
    "def reset_seed(seed=42):\n",
    "    torch.manual_seed(seed)\n",
    "    random.seed(seed)\n",
    "    np.random.seed(seed)\n",
    "    torch.cuda.manual_seed(seed)\n",
    "    torch.cuda.manual_seed_all(seed) \n",
    "    torch.backends.cudnn.deterministic = True\n",
    "    torch.backends.cudnn.benchmark = False\n",
    "    os.environ['PYTHONHASHSEED'] = str(seed)"
   ]
  },
  {
   "cell_type": "markdown",
   "id": "964a9fbe",
   "metadata": {},
   "source": [
    "Nový wrapper, který pracuje přímo se soubory staženého a upraveného datasetu CIFAR10.\n",
    "Využití načtení pomocí metody jako dříve není možné kvůli jiné checksum. \n",
    "\n",
    "Zároveň se již dotahují logity přímo z datasetu."
   ]
  },
  {
   "cell_type": "code",
   "execution_count": 4,
   "id": "947263ba-fa42-4861-9f45-9fa1a89b2795",
   "metadata": {},
   "outputs": [],
   "source": [
    "class CustomCIFAR10(Dataset):\n",
    "    def __init__(self, root, train=True, transform=None, target_transform=None):\n",
    "        self.root = root\n",
    "        self.train = train\n",
    "        self.transform = transform\n",
    "        self.target_transform = target_transform\n",
    "\n",
    "        self.data = []\n",
    "        self.targets = []\n",
    "        self.logits = []\n",
    "        \n",
    "        if self.train:\n",
    "             for i in range(1, 6):\n",
    "                 data_file = os.path.join(self.root, 'cifar-10-batches-py', f'data_batch_{i}')\n",
    "                 with open(data_file, 'rb') as fo:\n",
    "                     dict = pickle.load(fo, encoding='bytes')\n",
    "                     self.data.append(dict[b'data'])\n",
    "                     self.targets.extend(dict[b'labels'])\n",
    "                     self.logits.extend(dict[b'logits'])  \n",
    "        else:\n",
    "            data_file = os.path.join(self.root, 'cifar-10-batches-py', 'test_batch')\n",
    "            with open(data_file, 'rb') as fo:\n",
    "                dict = pickle.load(fo, encoding='bytes')\n",
    "                self.data.append(dict[b'data'])\n",
    "                self.targets.extend(dict[b'labels'])\n",
    "                self.logits.extend(dict[b'logits'])  \n",
    "\n",
    "        self.data = np.concatenate(self.data, axis=0)\n",
    "        self.targets = np.array(self.targets)\n",
    "        self.logits = np.array(self.logits)\n",
    "\n",
    "\n",
    "    def __len__(self):\n",
    "        return len(self.data)\n",
    "\n",
    "    def __getitem__(self, index):\n",
    "        image = self.data[index].reshape(3, 32, 32).transpose(1, 2, 0)\n",
    "        label = self.targets[index]\n",
    "        logit = self.logits[index]\n",
    "        \n",
    "        image = Image.fromarray(image.astype('uint8'), 'RGB')\n",
    "        logit = torch.tensor(logit, dtype=torch.float)\n",
    "        if self.transform:\n",
    "            image = self.transform(image)\n",
    "\n",
    "        if self.target_transform:\n",
    "            target = self.target_transform(target)\n",
    "            \n",
    "        return {\n",
    "            'pixel_values': image,\n",
    "            'labels': label,\n",
    "            'logits': logit\n",
    "        }\n"
   ]
  },
  {
   "cell_type": "markdown",
   "id": "05df404b",
   "metadata": {},
   "source": [
    "Definice performance metrik."
   ]
  },
  {
   "cell_type": "code",
   "execution_count": 5,
   "id": "5d06b726",
   "metadata": {},
   "outputs": [],
   "source": [
    "accuracy_metric = evaluate.load(\"accuracy\")\n",
    "precision_metric = evaluate.load(\"precision\")\n",
    "recall_metric = evaluate.load(\"recall\")\n",
    "f1_metric = evaluate.load(\"f1\")\n",
    "\n",
    "def compute_metrics(eval_pred):\n",
    "    predictions, labels = eval_pred\n",
    "    \n",
    "    accuracy = accuracy_metric.compute(predictions=np.argmax(predictions, axis=1), references=labels)\n",
    "    precision = precision_metric.compute(predictions=np.argmax(predictions, axis=1), references=labels, average='macro')\n",
    "    recall = recall_metric.compute(predictions=np.argmax(predictions, axis=1), references=labels, average='macro')\n",
    "    f1 = f1_metric.compute(predictions=np.argmax(predictions, axis=1), references=labels, average='macro')\n",
    "\n",
    "    return {\n",
    "        \"accuracy\": accuracy[\"accuracy\"],\n",
    "        \"precision\": precision[\"precision\"],\n",
    "        \"recall\": recall[\"recall\"],\n",
    "        \"f1\": f1[\"f1\"]\n",
    "    }"
   ]
  },
  {
   "cell_type": "markdown",
   "id": "a279ff0b",
   "metadata": {},
   "source": [
    "Trénovací argumenty pro trainer. Třída rozšířena aby pojmula přímo temperature a parametr lambda. \n",
    "\n",
    "Tyto parametry tedy jsou přesunuty z traineru přímo do trénovacích parametrů, kde dávají větší smysl."
   ]
  },
  {
   "cell_type": "code",
   "execution_count": null,
   "id": "daf5d4fb",
   "metadata": {},
   "outputs": [],
   "source": [
    "class Custom_training_args(TrainingArguments):\n",
    "    def __init__(self, lambda_param, temperature, *args, **kwargs):\n",
    "        super().__init__(*args, **kwargs)    \n",
    "        self.lambda_param = lambda_param\n",
    "        self.temperature = temperature"
   ]
  },
  {
   "cell_type": "code",
   "execution_count": 6,
   "id": "90a40292",
   "metadata": {},
   "outputs": [],
   "source": [
    "def get_training_args(output_dir:str, logging_dir:str, remove_unused_columns:bool):\n",
    "    return (\n",
    "        Custom_training_args(\n",
    "        output_dir=output_dir,\n",
    "        eval_strategy=\"epoch\",\n",
    "        save_strategy=\"epoch\",\n",
    "        learning_rate=5e-5, #Defaultní hodnota \n",
    "        per_device_train_batch_size=64,\n",
    "        per_device_eval_batch_size=64,\n",
    "        num_train_epochs=20,\n",
    "        weight_decay=0.01,\n",
    "        seed = 42,  #Defaultní hodnota \n",
    "        metric_for_best_model=\"f1\",\n",
    "        load_best_model_at_end=True,\n",
    "        fp16=False, \n",
    "        logging_dir=logging_dir,\n",
    "        remove_unused_columns=remove_unused_columns,\n",
    "        lambda_param = 0.5, \n",
    "        temperature = 5\n",
    "    ))"
   ]
  },
  {
   "cell_type": "markdown",
   "id": "1451b922",
   "metadata": {},
   "source": [
    "Náhodně inicializovaný MobileNetV2."
   ]
  },
  {
   "cell_type": "code",
   "execution_count": 7,
   "id": "cf11f33f-4501-48ac-a926-80839c32080f",
   "metadata": {},
   "outputs": [],
   "source": [
    "def get_random_init_mobilenet():\n",
    "    reset_seed(42)\n",
    "    student_config = MobileNetV2Config()\n",
    "    student_config.num_labels = 10\n",
    "    return MobileNetV2ForImageClassification(student_config)"
   ]
  },
  {
   "cell_type": "code",
   "execution_count": 10,
   "id": "ad6208b0",
   "metadata": {},
   "outputs": [],
   "source": [
    "reset_seed(42)"
   ]
  },
  {
   "cell_type": "code",
   "execution_count": 11,
   "id": "29b9ceef",
   "metadata": {},
   "outputs": [
    {
     "name": "stdout",
     "output_type": "stream",
     "text": [
      "GPU is available and will be used: NVIDIA A100 80GB PCIe MIG 2g.20gb\n"
     ]
    }
   ],
   "source": [
    "if torch.cuda.is_available():\n",
    "    device = torch.device(\"cuda\")\n",
    "    print(\"GPU is available and will be used:\", torch.cuda.get_device_name(0))\n",
    "else:\n",
    "    device = torch.device(\"cpu\")\n",
    "    print(\"GPU is not available, using CPU.\")"
   ]
  },
  {
   "cell_type": "markdown",
   "id": "59eb90dc",
   "metadata": {},
   "source": [
    "Provedení transformací nad datasetem."
   ]
  },
  {
   "cell_type": "code",
   "execution_count": 12,
   "id": "8b74ce88",
   "metadata": {},
   "outputs": [],
   "source": [
    "transform = transforms.Compose([\n",
    "    transforms.Resize((224, 224)), \n",
    "    transforms.ToTensor(),\n",
    "    transforms.Normalize((0.5, 0.5, 0.5), (0.5, 0.5, 0.5)),\n",
    "])\n",
    "\n",
    "test = CustomCIFAR10(root='../data/10-logits', train=False, transform=transform)\n",
    "train = CustomCIFAR10(root='../data/10-logits', train=True, transform=transform)"
   ]
  },
  {
   "cell_type": "markdown",
   "id": "c6a85914",
   "metadata": {},
   "source": [
    "### Hledání hyper parametrů náhodně inicializovaného modelu. "
   ]
  },
  {
   "cell_type": "code",
   "execution_count": 13,
   "id": "15c07c5d",
   "metadata": {},
   "outputs": [],
   "source": [
    "training_args = get_training_args(\"./results/cifar10-random-search\", './logs/cifar10-random-search', True)"
   ]
  },
  {
   "cell_type": "markdown",
   "id": "27fcc317",
   "metadata": {},
   "source": [
    "Prozatím hledáme learning rate, batch size a weight decay.  "
   ]
  },
  {
   "cell_type": "code",
   "execution_count": null,
   "id": "db0bcd7c",
   "metadata": {},
   "outputs": [],
   "source": [
    "def hp_space(trial):\n",
    "    return {\n",
    "        \"learning_rate\": trial.suggest_float(\"learning_rate\", 1e-6, 5e-4, log=True),\n",
    "        \"per_device_train_batch_size\": trial.suggest_categorical(\"per_device_train_batch_size\", [16, 32, 64]),\n",
    "        \"weight_decay\": trial.suggest_float(\"weight_decay\", 0, 1e-2, step=1e-3)\n",
    "    }"
   ]
  },
  {
   "cell_type": "markdown",
   "id": "57b91205",
   "metadata": {},
   "source": [
    "Pro hledání je využito knihovny optuna, která má integraci s huggingface trainerem. Jako algoritmus je využit hyperband s doporučeným samplerem. \n",
    "\n",
    "Stále ještě dochází k ladění vhodné konfigurace ..."
   ]
  },
  {
   "cell_type": "code",
   "execution_count": null,
   "id": "174fff53",
   "metadata": {},
   "outputs": [],
   "source": [
    "pruner = optuna.pruners.HyperbandPruner(min_resource=5, reduction_factor=4)\n",
    "sampler = optuna.samplers.TPESampler(seed=42, multivariate=True)"
   ]
  },
  {
   "cell_type": "markdown",
   "id": "6943baab",
   "metadata": {},
   "source": [
    "Do traineru přidám callback s EarlyStoppingem ..."
   ]
  },
  {
   "cell_type": "code",
   "execution_count": 14,
   "id": "dc752b97-d843-4919-a0fc-066d192e037b",
   "metadata": {},
   "outputs": [],
   "source": [
    "trainer = Trainer(\n",
    "    args=training_args,\n",
    "    train_dataset=train,\n",
    "    eval_dataset=test,\n",
    "    compute_metrics=compute_metrics,\n",
    "    model_init=get_random_init_mobilenet,\n",
    "    callbacks = [EarlyStoppingCallback(early_stopping_patience=3)]\n",
    ")"
   ]
  },
  {
   "cell_type": "markdown",
   "id": "6136a86c",
   "metadata": {},
   "source": [
    "Hledáme na základě nejlepší metriky f1 score. V případě normálního (non-distilled) modelu by bylo možné využít i eval_loss. V případě distilled tréninku je ovšem jeho využití nevhodné, s rostoucím lambda parametrem bude \"uměle\" eval loss růst a tím pádem tyto konfigurace nebudou preferovány. \n",
    "\n",
    "Pro zachování jednoduchosti zvoleno v obou případech shodné nastavení na maximalizaci f1 score."
   ]
  },
  {
   "cell_type": "code",
   "execution_count": 15,
   "id": "97855619-93d5-4fc2-93d2-fee24c61b8ae",
   "metadata": {},
   "outputs": [
    {
     "data": {
      "text/html": [
       "\n",
       "    <div>\n",
       "      \n",
       "      <progress value='15640' max='15640' style='width:300px; height:20px; vertical-align: middle;'></progress>\n",
       "      [15640/15640 1:28:59, Epoch 20/20]\n",
       "    </div>\n",
       "    <table border=\"1\" class=\"dataframe\">\n",
       "  <thead>\n",
       " <tr style=\"text-align: left;\">\n",
       "      <th>Epoch</th>\n",
       "      <th>Training Loss</th>\n",
       "      <th>Validation Loss</th>\n",
       "      <th>Accuracy</th>\n",
       "    </tr>\n",
       "  </thead>\n",
       "  <tbody>\n",
       "    <tr>\n",
       "      <td>1</td>\n",
       "      <td>1.999400</td>\n",
       "      <td>1.465344</td>\n",
       "      <td>0.461900</td>\n",
       "    </tr>\n",
       "    <tr>\n",
       "      <td>2</td>\n",
       "      <td>1.338000</td>\n",
       "      <td>1.238446</td>\n",
       "      <td>0.563300</td>\n",
       "    </tr>\n",
       "    <tr>\n",
       "      <td>3</td>\n",
       "      <td>1.135700</td>\n",
       "      <td>1.040728</td>\n",
       "      <td>0.626200</td>\n",
       "    </tr>\n",
       "    <tr>\n",
       "      <td>4</td>\n",
       "      <td>0.888400</td>\n",
       "      <td>0.949196</td>\n",
       "      <td>0.677800</td>\n",
       "    </tr>\n",
       "    <tr>\n",
       "      <td>5</td>\n",
       "      <td>0.773600</td>\n",
       "      <td>0.940272</td>\n",
       "      <td>0.678500</td>\n",
       "    </tr>\n",
       "    <tr>\n",
       "      <td>6</td>\n",
       "      <td>0.618400</td>\n",
       "      <td>0.835595</td>\n",
       "      <td>0.726800</td>\n",
       "    </tr>\n",
       "    <tr>\n",
       "      <td>7</td>\n",
       "      <td>0.558500</td>\n",
       "      <td>1.199692</td>\n",
       "      <td>0.655300</td>\n",
       "    </tr>\n",
       "    <tr>\n",
       "      <td>8</td>\n",
       "      <td>0.431500</td>\n",
       "      <td>1.572898</td>\n",
       "      <td>0.602600</td>\n",
       "    </tr>\n",
       "    <tr>\n",
       "      <td>9</td>\n",
       "      <td>0.356000</td>\n",
       "      <td>0.850076</td>\n",
       "      <td>0.743500</td>\n",
       "    </tr>\n",
       "    <tr>\n",
       "      <td>10</td>\n",
       "      <td>0.288900</td>\n",
       "      <td>0.897842</td>\n",
       "      <td>0.753100</td>\n",
       "    </tr>\n",
       "    <tr>\n",
       "      <td>11</td>\n",
       "      <td>0.226100</td>\n",
       "      <td>0.894091</td>\n",
       "      <td>0.745800</td>\n",
       "    </tr>\n",
       "    <tr>\n",
       "      <td>12</td>\n",
       "      <td>0.179300</td>\n",
       "      <td>0.875034</td>\n",
       "      <td>0.756000</td>\n",
       "    </tr>\n",
       "    <tr>\n",
       "      <td>13</td>\n",
       "      <td>0.130700</td>\n",
       "      <td>0.988246</td>\n",
       "      <td>0.743100</td>\n",
       "    </tr>\n",
       "    <tr>\n",
       "      <td>14</td>\n",
       "      <td>0.114000</td>\n",
       "      <td>1.000262</td>\n",
       "      <td>0.746200</td>\n",
       "    </tr>\n",
       "    <tr>\n",
       "      <td>15</td>\n",
       "      <td>0.076400</td>\n",
       "      <td>1.223135</td>\n",
       "      <td>0.704900</td>\n",
       "    </tr>\n",
       "    <tr>\n",
       "      <td>16</td>\n",
       "      <td>0.058400</td>\n",
       "      <td>1.365532</td>\n",
       "      <td>0.705600</td>\n",
       "    </tr>\n",
       "    <tr>\n",
       "      <td>17</td>\n",
       "      <td>0.049500</td>\n",
       "      <td>1.214481</td>\n",
       "      <td>0.736500</td>\n",
       "    </tr>\n",
       "    <tr>\n",
       "      <td>18</td>\n",
       "      <td>0.038300</td>\n",
       "      <td>1.277312</td>\n",
       "      <td>0.726100</td>\n",
       "    </tr>\n",
       "    <tr>\n",
       "      <td>19</td>\n",
       "      <td>0.031800</td>\n",
       "      <td>1.180509</td>\n",
       "      <td>0.745600</td>\n",
       "    </tr>\n",
       "    <tr>\n",
       "      <td>20</td>\n",
       "      <td>0.024800</td>\n",
       "      <td>1.064180</td>\n",
       "      <td>0.750900</td>\n",
       "    </tr>\n",
       "  </tbody>\n",
       "</table><p>"
      ],
      "text/plain": [
       "<IPython.core.display.HTML object>"
      ]
     },
     "metadata": {},
     "output_type": "display_data"
    },
    {
     "data": {
      "text/plain": [
       "TrainOutput(global_step=15640, training_loss=0.45282880482466326, metrics={'train_runtime': 5340.8309, 'train_samples_per_second': 187.237, 'train_steps_per_second': 2.928, 'total_flos': 2.020099608576e+18, 'train_loss': 0.45282880482466326, 'epoch': 20.0})"
      ]
     },
     "execution_count": 15,
     "metadata": {},
     "output_type": "execute_result"
    }
   ],
   "source": [
    "best_trial = trainer.hyperparameter_search(\n",
    "    direction=\"maximize\",\n",
    "    backend=\"optuna\",\n",
    "    hp_space=hp_space,\n",
    "    compute_objective=lambda metrics: metrics[\"eval_f1\"],\n",
    "    pruner=pruner,\n",
    "    sampler=sampler,\n",
    "    n_trials=80\n",
    ")"
   ]
  },
  {
   "cell_type": "markdown",
   "id": "87594fbb",
   "metadata": {},
   "source": [
    "## Definice destilačního tréninku\n",
    "\n",
    "Třída, která upravuje hugging face trenéra pro destilaci znalostí. Nově pracuje s logity uloženými v datasetu.\n",
    "\n",
    "Dále došlo k úpravě s přijmáním model_init parametru a dotahováním nových hodnot temperature a lambda v případě hledání. Tato varianta zatím není kompatibilní s normálním tréninkem.\n",
    "\n",
    "\n",
    "TODO: Doplnit IFs pro využitelnost i v normálním tréninku (model=not none, init_model = none)."
   ]
  },
  {
   "cell_type": "code",
   "execution_count": 18,
   "id": "cc8c9348-c31e-49af-b26c-f9e2ab599bf0",
   "metadata": {},
   "outputs": [],
   "source": [
    "class ImageDistilTrainer(Trainer):\n",
    "    def __init__(self, model_init, *args, **kwargs):\n",
    "        self.model_init = model_init\n",
    "        self.loss_function = nn.KLDivLoss(reduction=\"batchmean\")\n",
    "       \n",
    "        super().__init__(model_init=model_init, *args, **kwargs)\n",
    "        \n",
    "        self.student = self.model_init()\n",
    "        self.temperature = self.args.temperature\n",
    "        self.lambda_param = self.args.lambda_param\n",
    "\n",
    "        device = torch.device('cuda' if torch.cuda.is_available() else 'cpu')\n",
    "        self.student.to(device)\n",
    "\n",
    "\n",
    "    def compute_loss(self, model, inputs, return_outputs=False):\n",
    "        logits = inputs.pop(\"logits\")\n",
    "\n",
    "        student_output = model(**inputs)\n",
    "        self.lambda_param = self.args.lambda_param\n",
    "        self.temperature = self.args.temperature\n",
    "        \n",
    "        soft_teacher = F.softmax(logits / self.temperature, dim=-1)\n",
    "        soft_student = F.log_softmax(student_output.logits / self.temperature, dim=-1)\n",
    "\n",
    "        distillation_loss = self.loss_function(soft_student, soft_teacher) * (self.temperature ** 2)\n",
    "\n",
    "        student_target_loss = student_output.loss\n",
    "\n",
    "        loss = ((1. - self.lambda_param) * student_target_loss + self.lambda_param * distillation_loss)\n",
    "        return (loss, student_output) if return_outputs else loss"
   ]
  },
  {
   "cell_type": "markdown",
   "id": "3fd84cda",
   "metadata": {},
   "source": [
    "### Hledání hyper parametrů náhodně inicializovaného modelu s pomocí destilace znalostí \n",
    "\n",
    "Přidáno hledání nastavení temperature a lamda parametrů.\n",
    "\n",
    "Teoreticky lze vyzkoušet hledání pouze temperature a lambda na základě výsledků předchozího hledání ..."
   ]
  },
  {
   "cell_type": "code",
   "execution_count": 19,
   "id": "24f990e8-d259-44c7-b85b-cca2f4f97a8e",
   "metadata": {},
   "outputs": [],
   "source": [
    "reset_seed(42)"
   ]
  },
  {
   "cell_type": "code",
   "execution_count": 21,
   "id": "aad7fa0f-f432-4e99-bb07-31951b7858f1",
   "metadata": {},
   "outputs": [],
   "source": [
    "training_args = get_training_args(\"./results/cifar10-random-KD\", './logs/cifar10-random-KD', False)"
   ]
  },
  {
   "cell_type": "code",
   "execution_count": null,
   "id": "912fc08a",
   "metadata": {},
   "outputs": [],
   "source": [
    "def hp_space(trial):\n",
    "    return {\n",
    "        \"learning_rate\": trial.suggest_float(\"learning_rate\", 1e-6, 5e-4, log=True),\n",
    "        \"per_device_train_batch_size\": trial.suggest_categorical(\"per_device_train_batch_size\", [16, 32, 64]),\n",
    "        \"weight_decay\": trial.suggest_float(\"weight_decay\", 0, 1e-2, step=1e-3),\n",
    "        \"lambda_param\": trial.suggest_float(\"lambda_param\",0,1,step=.1),\n",
    "        \"temperature\": trial.suggest_float(\"temperature\", 2,7, step=.5)\n",
    "    }"
   ]
  },
  {
   "cell_type": "code",
   "execution_count": 22,
   "id": "43af926a-dba5-468f-9a48-c4c581e97893",
   "metadata": {},
   "outputs": [],
   "source": [
    "trainer = ImageDistilTrainer(\n",
    "    args=training_args,\n",
    "    train_dataset=train,\n",
    "    eval_dataset=test,\n",
    "    compute_metrics=compute_metrics,\n",
    "    model_init=get_random_init_mobilenet,\n",
    "    callbacks = [EarlyStoppingCallback(early_stopping_patience=3)]\n",
    ")"
   ]
  },
  {
   "cell_type": "code",
   "execution_count": null,
   "id": "5a260de3",
   "metadata": {},
   "outputs": [],
   "source": [
    "pruner = optuna.pruners.HyperbandPruner(min_resource=1, reduction_factor=4)\n",
    "sampler = optuna.samplers.TPESampler(seed=42, multivariate=True)"
   ]
  },
  {
   "cell_type": "code",
   "execution_count": null,
   "id": "301cc3b0",
   "metadata": {},
   "outputs": [],
   "source": [
    "best_trial = trainer.hyperparameter_search(\n",
    "    direction=\"maximize\",\n",
    "    backend=\"optuna\",\n",
    "    hp_space=hp_space,\n",
    "    compute_objective=lambda metrics: metrics[\"eval_f1\"],\n",
    "    pruner=pruner,\n",
    "    sampler=sampler,\n",
    "    n_trials=80\n",
    ")"
   ]
  }
 ],
 "metadata": {
  "kernelspec": {
   "display_name": "Python 3 (ipykernel)",
   "language": "python",
   "name": "python3"
  },
  "language_info": {
   "codemirror_mode": {
    "name": "ipython",
    "version": 3
   },
   "file_extension": ".py",
   "mimetype": "text/x-python",
   "name": "python",
   "nbconvert_exporter": "python",
   "pygments_lexer": "ipython3",
   "version": "3.10.12"
  }
 },
 "nbformat": 4,
 "nbformat_minor": 5
}
