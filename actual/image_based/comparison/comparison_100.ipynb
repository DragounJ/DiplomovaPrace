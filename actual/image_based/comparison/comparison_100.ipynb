{
 "cells": [
  {
   "cell_type": "markdown",
   "id": "b80e8fe1",
   "metadata": {},
   "source": [
    "# Porovnání předpočítání logitů a inference logitů během tréninku pro CIFAR100\n",
    "\n",
    "Tento notebook slouží k porovnání obou přístupů nad datasetem CIFAR100. V rámci notebooku jsou ověřeny všechny varianty datasetu (augmentovaný, výchozí) nad oběma studentskými modely (MobileNetV2 a TinyViT).  \n",
    "\n",
    "Trénink ja nastaven na 5 epoch s výchozími hyperparametry, klíčová je jeho délka."
   ]
  },
  {
   "cell_type": "markdown",
   "id": "54d1c726",
   "metadata": {},
   "source": [
    "## Import knihoven"
   ]
  },
  {
   "cell_type": "code",
   "execution_count": null,
   "id": "f7e7a26f-aa1f-4645-b3b3-4643ca8be2a4",
   "metadata": {},
   "outputs": [
    {
     "name": "stderr",
     "output_type": "stream",
     "text": [
      "[nltk_data] Downloading package averaged_perceptron_tagger to\n",
      "[nltk_data]     /home/jovyan/nltk_data...\n",
      "[nltk_data]   Package averaged_perceptron_tagger is already up-to-\n",
      "[nltk_data]       date!\n",
      "[nltk_data] Downloading package punkt to /home/jovyan/nltk_data...\n",
      "[nltk_data]   Package punkt is already up-to-date!\n",
      "[nltk_data] Downloading package punkt_tab to /home/jovyan/nltk_data...\n",
      "[nltk_data]   Package punkt_tab is already up-to-date!\n",
      "[nltk_data] Downloading package averaged_perceptron_tagger_eng to\n",
      "[nltk_data]     /home/jovyan/nltk_data...\n",
      "[nltk_data]   Package averaged_perceptron_tagger_eng is already up-to-\n",
      "[nltk_data]       date!\n"
     ]
    }
   ],
   "source": [
    "from transformers import AutoModelForImageClassification\n",
    "from torch.utils.data import ConcatDataset\n",
    "import torch\n",
    "import base\n",
    "import os"
   ]
  },
  {
   "cell_type": "code",
   "execution_count": 2,
   "id": "5ce29a44",
   "metadata": {},
   "outputs": [],
   "source": [
    "dataset_part = base.get_dataset_part()"
   ]
  },
  {
   "cell_type": "markdown",
   "id": "4cf6897a",
   "metadata": {},
   "source": [
    "Resetování náhodného seedu pro replikovatelnost výsledků."
   ]
  },
  {
   "cell_type": "code",
   "execution_count": 3,
   "id": "bd53a434",
   "metadata": {},
   "outputs": [],
   "source": [
    "base.reset_seed()"
   ]
  },
  {
   "cell_type": "code",
   "execution_count": 4,
   "id": "29b9ceef",
   "metadata": {},
   "outputs": [
    {
     "name": "stdout",
     "output_type": "stream",
     "text": [
      "GPU is available and will be used: NVIDIA A100 80GB PCIe MIG 2g.20gb\n"
     ]
    }
   ],
   "source": [
    "if torch.cuda.is_available():\n",
    "    device = torch.device(\"cuda\")\n",
    "    print(\"GPU is available and will be used:\", torch.cuda.get_device_name(0))\n",
    "else:\n",
    "    device = torch.device(\"cpu\")\n",
    "    print(\"GPU is not available, using CPU.\")"
   ]
  },
  {
   "cell_type": "markdown",
   "id": "59eb90dc",
   "metadata": {},
   "source": [
    "Načtení datasetu a aplikace transformací."
   ]
  },
  {
   "cell_type": "code",
   "execution_count": 5,
   "id": "ec5b1934",
   "metadata": {},
   "outputs": [],
   "source": [
    "DATASET = \"cifar100\""
   ]
  },
  {
   "cell_type": "code",
   "execution_count": null,
   "id": "8b74ce88",
   "metadata": {},
   "outputs": [],
   "source": [
    "transform = base.base_transforms()\n",
    "\n",
    "test = base.CustomCIFAR100L(root=f\"{os.path.expanduser('~')}/data/100-logits\", dataset_part=dataset_part.TEST, transform=transform)\n",
    "train = base.CustomCIFAR100L(root=f\"{os.path.expanduser('~')}/data/100-logits\", dataset_part=dataset_part.TRAIN, transform=transform)\n",
    "eval = base.CustomCIFAR100L(root=f\"{os.path.expanduser('~')}/data/100-logits\", dataset_part=dataset_part.EVAL, transform=transform)"
   ]
  },
  {
   "cell_type": "code",
   "execution_count": 7,
   "id": "8576db25",
   "metadata": {},
   "outputs": [],
   "source": [
    "augment_transform = base.aug_transforms()\n",
    "train_aug = base.CustomCIFAR100L(root=f\"{os.path.expanduser('~')}/data/100-logits\", dataset_part=dataset_part.TRAIN, transform=augment_transform)"
   ]
  },
  {
   "cell_type": "code",
   "execution_count": 8,
   "id": "3defef72",
   "metadata": {},
   "outputs": [
    {
     "data": {
      "application/vnd.jupyter.widget-view+json": {
       "model_id": "c2a90f40771f4bd4b9cd3b4abb272fd6",
       "version_major": 2,
       "version_minor": 0
      },
      "text/plain": [
       "Removing entries from augmented dataset that are different from the base one - based on saved logits:   0%|   …"
      ]
     },
     "metadata": {},
     "output_type": "display_data"
    }
   ],
   "source": [
    "train_aug = base.remove_diff_pred_class(train, train_aug, pytorch_dataset=True)\n",
    "train_combo = ConcatDataset([train, train_aug])"
   ]
  },
  {
   "cell_type": "markdown",
   "id": "c6a85914",
   "metadata": {},
   "source": [
    "## MobileNetV2 \n",
    "### Neaugmentovaný dataset\n",
    "#### Předpočítané logity\n",
    "\n"
   ]
  },
  {
   "cell_type": "markdown",
   "id": "8ab94c2f",
   "metadata": {},
   "source": [
    "Získání studentského modelu."
   ]
  },
  {
   "cell_type": "code",
   "execution_count": 11,
   "id": "7e7fe79f",
   "metadata": {},
   "outputs": [],
   "source": [
    "student_model = base.get_mobilenet(100)"
   ]
  },
  {
   "cell_type": "markdown",
   "id": "c4f06961",
   "metadata": {},
   "source": [
    "Definice tréninku."
   ]
  },
  {
   "cell_type": "code",
   "execution_count": null,
   "id": "15c07c5d",
   "metadata": {},
   "outputs": [],
   "source": [
    "training_args = base.get_training_args(output_dir=f\"~/results/{DATASET}/comp-mbn-distill\", logging_dir=f\"~/logs/{DATASET}/comp-mbn-distill\", remove_unused_columns=False)"
   ]
  },
  {
   "cell_type": "code",
   "execution_count": 13,
   "id": "ac2d2c07",
   "metadata": {},
   "outputs": [],
   "source": [
    "base.reset_seed()"
   ]
  },
  {
   "cell_type": "code",
   "execution_count": 14,
   "id": "dc752b97-d843-4919-a0fc-066d192e037b",
   "metadata": {},
   "outputs": [],
   "source": [
    "trainer = base.DistilTrainer(\n",
    "    student_model=student_model,\n",
    "    args=training_args,\n",
    "    train_dataset=train,\n",
    "    eval_dataset=eval,\n",
    "    compute_metrics=base.compute_metrics,\n",
    ")"
   ]
  },
  {
   "cell_type": "code",
   "execution_count": 15,
   "id": "97855619-93d5-4fc2-93d2-fee24c61b8ae",
   "metadata": {},
   "outputs": [
    {
     "data": {
      "text/html": [
       "\n",
       "    <div>\n",
       "      \n",
       "      <progress value='1565' max='1565' style='width:300px; height:20px; vertical-align: middle;'></progress>\n",
       "      [1565/1565 06:16, Epoch 5/5]\n",
       "    </div>\n",
       "    <table border=\"1\" class=\"dataframe\">\n",
       "  <thead>\n",
       " <tr style=\"text-align: left;\">\n",
       "      <th>Epoch</th>\n",
       "      <th>Training Loss</th>\n",
       "      <th>Validation Loss</th>\n",
       "      <th>Accuracy</th>\n",
       "      <th>Precision</th>\n",
       "      <th>Recall</th>\n",
       "      <th>F1</th>\n",
       "    </tr>\n",
       "  </thead>\n",
       "  <tbody>\n",
       "    <tr>\n",
       "      <td>1</td>\n",
       "      <td>3.147300</td>\n",
       "      <td>2.204412</td>\n",
       "      <td>0.505700</td>\n",
       "      <td>0.538717</td>\n",
       "      <td>0.505700</td>\n",
       "      <td>0.487075</td>\n",
       "    </tr>\n",
       "    <tr>\n",
       "      <td>2</td>\n",
       "      <td>1.813000</td>\n",
       "      <td>1.614076</td>\n",
       "      <td>0.615300</td>\n",
       "      <td>0.630102</td>\n",
       "      <td>0.615300</td>\n",
       "      <td>0.608206</td>\n",
       "    </tr>\n",
       "    <tr>\n",
       "      <td>3</td>\n",
       "      <td>1.397400</td>\n",
       "      <td>1.405575</td>\n",
       "      <td>0.653400</td>\n",
       "      <td>0.658984</td>\n",
       "      <td>0.653400</td>\n",
       "      <td>0.647178</td>\n",
       "    </tr>\n",
       "    <tr>\n",
       "      <td>4</td>\n",
       "      <td>1.214100</td>\n",
       "      <td>1.407125</td>\n",
       "      <td>0.641500</td>\n",
       "      <td>0.663386</td>\n",
       "      <td>0.641500</td>\n",
       "      <td>0.639384</td>\n",
       "    </tr>\n",
       "    <tr>\n",
       "      <td>5</td>\n",
       "      <td>1.133000</td>\n",
       "      <td>1.281165</td>\n",
       "      <td>0.676500</td>\n",
       "      <td>0.681558</td>\n",
       "      <td>0.676500</td>\n",
       "      <td>0.670228</td>\n",
       "    </tr>\n",
       "  </tbody>\n",
       "</table><p>"
      ],
      "text/plain": [
       "<IPython.core.display.HTML object>"
      ]
     },
     "metadata": {},
     "output_type": "display_data"
    },
    {
     "data": {
      "text/plain": [
       "TrainOutput(global_step=1565, training_loss=1.7409627408646167, metrics={'train_runtime': 379.7494, 'train_samples_per_second': 526.663, 'train_steps_per_second': 4.121, 'total_flos': 4.248451694592e+17, 'train_loss': 1.7409627408646167, 'epoch': 5.0})"
      ]
     },
     "execution_count": 15,
     "metadata": {},
     "output_type": "execute_result"
    }
   ],
   "source": [
    "trainer.train()"
   ]
  },
  {
   "cell_type": "code",
   "execution_count": 16,
   "id": "24f990e8-d259-44c7-b85b-cca2f4f97a8e",
   "metadata": {},
   "outputs": [],
   "source": [
    "base.reset_seed()"
   ]
  },
  {
   "cell_type": "markdown",
   "id": "69e4f61c",
   "metadata": {},
   "source": [
    "#### Logity získané inferencí"
   ]
  },
  {
   "cell_type": "markdown",
   "id": "0ed73bd9",
   "metadata": {},
   "source": [
    "Získání učitelského modelu pro inferenci logitů za běhu tréninku."
   ]
  },
  {
   "cell_type": "code",
   "execution_count": 17,
   "id": "8360e003-3a19-4bb3-8ce8-b40df5b2115c",
   "metadata": {},
   "outputs": [
    {
     "data": {
      "text/plain": [
       "ViTForImageClassification(\n",
       "  (vit): ViTModel(\n",
       "    (embeddings): ViTEmbeddings(\n",
       "      (patch_embeddings): ViTPatchEmbeddings(\n",
       "        (projection): Conv2d(3, 768, kernel_size=(16, 16), stride=(16, 16))\n",
       "      )\n",
       "      (dropout): Dropout(p=0.0, inplace=False)\n",
       "    )\n",
       "    (encoder): ViTEncoder(\n",
       "      (layer): ModuleList(\n",
       "        (0-11): 12 x ViTLayer(\n",
       "          (attention): ViTSdpaAttention(\n",
       "            (attention): ViTSdpaSelfAttention(\n",
       "              (query): Linear(in_features=768, out_features=768, bias=True)\n",
       "              (key): Linear(in_features=768, out_features=768, bias=True)\n",
       "              (value): Linear(in_features=768, out_features=768, bias=True)\n",
       "              (dropout): Dropout(p=0.0, inplace=False)\n",
       "            )\n",
       "            (output): ViTSelfOutput(\n",
       "              (dense): Linear(in_features=768, out_features=768, bias=True)\n",
       "              (dropout): Dropout(p=0.0, inplace=False)\n",
       "            )\n",
       "          )\n",
       "          (intermediate): ViTIntermediate(\n",
       "            (dense): Linear(in_features=768, out_features=3072, bias=True)\n",
       "            (intermediate_act_fn): GELUActivation()\n",
       "          )\n",
       "          (output): ViTOutput(\n",
       "            (dense): Linear(in_features=3072, out_features=768, bias=True)\n",
       "            (dropout): Dropout(p=0.0, inplace=False)\n",
       "          )\n",
       "          (layernorm_before): LayerNorm((768,), eps=1e-12, elementwise_affine=True)\n",
       "          (layernorm_after): LayerNorm((768,), eps=1e-12, elementwise_affine=True)\n",
       "        )\n",
       "      )\n",
       "    )\n",
       "    (layernorm): LayerNorm((768,), eps=1e-12, elementwise_affine=True)\n",
       "  )\n",
       "  (classifier): Linear(in_features=768, out_features=100, bias=True)\n",
       ")"
      ]
     },
     "execution_count": 17,
     "metadata": {},
     "output_type": "execute_result"
    }
   ],
   "source": [
    "student_model = base.get_mobilenet(100)\n",
    "teacher_model = AutoModelForImageClassification.from_pretrained(\n",
    "    \"Ahmed9275/Vit-Cifar100\",\n",
    "    num_labels=100,\n",
    ")\n",
    "teacher_model.eval()\n",
    "teacher_model.to(device)"
   ]
  },
  {
   "cell_type": "markdown",
   "id": "e5cd155d",
   "metadata": {},
   "source": [
    "Definice tréninku."
   ]
  },
  {
   "cell_type": "code",
   "execution_count": null,
   "id": "aad7fa0f-f432-4e99-bb07-31951b7858f1",
   "metadata": {},
   "outputs": [],
   "source": [
    "training_args = base.get_training_args(output_dir=f\"~/results/{DATASET}/comp-mbn-distill_infer\", logging_dir=f\"~/logs/{DATASET}/comp-mbn-distill_infer\", remove_unused_columns=False)"
   ]
  },
  {
   "cell_type": "code",
   "execution_count": 19,
   "id": "7a825a53",
   "metadata": {},
   "outputs": [],
   "source": [
    "base.reset_seed()"
   ]
  },
  {
   "cell_type": "code",
   "execution_count": 20,
   "id": "43af926a-dba5-468f-9a48-c4c581e97893",
   "metadata": {},
   "outputs": [],
   "source": [
    "trainer = base.DistilTrainerInfer(\n",
    "    student_model=student_model,\n",
    "    teacher_model=teacher_model,\n",
    "    args=training_args,\n",
    "    train_dataset=train,\n",
    "    eval_dataset=eval,\n",
    "    compute_metrics=base.compute_metrics\n",
    ")"
   ]
  },
  {
   "cell_type": "code",
   "execution_count": 21,
   "id": "22a2fa47-1cf3-465c-aa7f-9b41b66846d9",
   "metadata": {},
   "outputs": [
    {
     "data": {
      "text/html": [
       "\n",
       "    <div>\n",
       "      \n",
       "      <progress value='1565' max='1565' style='width:300px; height:20px; vertical-align: middle;'></progress>\n",
       "      [1565/1565 13:36, Epoch 5/5]\n",
       "    </div>\n",
       "    <table border=\"1\" class=\"dataframe\">\n",
       "  <thead>\n",
       " <tr style=\"text-align: left;\">\n",
       "      <th>Epoch</th>\n",
       "      <th>Training Loss</th>\n",
       "      <th>Validation Loss</th>\n",
       "      <th>Accuracy</th>\n",
       "      <th>Precision</th>\n",
       "      <th>Recall</th>\n",
       "      <th>F1</th>\n",
       "    </tr>\n",
       "  </thead>\n",
       "  <tbody>\n",
       "    <tr>\n",
       "      <td>1</td>\n",
       "      <td>3.106800</td>\n",
       "      <td>2.150495</td>\n",
       "      <td>0.518400</td>\n",
       "      <td>0.557492</td>\n",
       "      <td>0.518400</td>\n",
       "      <td>0.504905</td>\n",
       "    </tr>\n",
       "    <tr>\n",
       "      <td>2</td>\n",
       "      <td>1.775600</td>\n",
       "      <td>1.608173</td>\n",
       "      <td>0.613700</td>\n",
       "      <td>0.634833</td>\n",
       "      <td>0.613700</td>\n",
       "      <td>0.608372</td>\n",
       "    </tr>\n",
       "    <tr>\n",
       "      <td>3</td>\n",
       "      <td>1.379700</td>\n",
       "      <td>1.400802</td>\n",
       "      <td>0.652200</td>\n",
       "      <td>0.659143</td>\n",
       "      <td>0.652200</td>\n",
       "      <td>0.646228</td>\n",
       "    </tr>\n",
       "    <tr>\n",
       "      <td>4</td>\n",
       "      <td>1.198400</td>\n",
       "      <td>1.384205</td>\n",
       "      <td>0.646500</td>\n",
       "      <td>0.666467</td>\n",
       "      <td>0.646500</td>\n",
       "      <td>0.645163</td>\n",
       "    </tr>\n",
       "    <tr>\n",
       "      <td>5</td>\n",
       "      <td>1.115300</td>\n",
       "      <td>1.272863</td>\n",
       "      <td>0.684400</td>\n",
       "      <td>0.689867</td>\n",
       "      <td>0.684400</td>\n",
       "      <td>0.678011</td>\n",
       "    </tr>\n",
       "  </tbody>\n",
       "</table><p>"
      ],
      "text/plain": [
       "<IPython.core.display.HTML object>"
      ]
     },
     "metadata": {},
     "output_type": "display_data"
    },
    {
     "data": {
      "text/plain": [
       "TrainOutput(global_step=1565, training_loss=1.7151414962622304, metrics={'train_runtime': 817.9248, 'train_samples_per_second': 244.521, 'train_steps_per_second': 1.913, 'total_flos': 4.248451694592e+17, 'train_loss': 1.7151414962622304, 'epoch': 5.0})"
      ]
     },
     "execution_count": 21,
     "metadata": {},
     "output_type": "execute_result"
    }
   ],
   "source": [
    "trainer.train()"
   ]
  },
  {
   "cell_type": "markdown",
   "id": "8055bd23",
   "metadata": {},
   "source": [
    "### Augmentovaný dataset\n",
    "#### Předpočítané logity"
   ]
  },
  {
   "cell_type": "markdown",
   "id": "68837a86",
   "metadata": {},
   "source": [
    "Získání studentského modelu."
   ]
  },
  {
   "cell_type": "code",
   "execution_count": 22,
   "id": "d60dfbcf",
   "metadata": {},
   "outputs": [],
   "source": [
    "student_model = base.get_mobilenet(100)"
   ]
  },
  {
   "cell_type": "markdown",
   "id": "7ddedb80",
   "metadata": {},
   "source": [
    "Definice tréninku."
   ]
  },
  {
   "cell_type": "code",
   "execution_count": null,
   "id": "e464402a",
   "metadata": {},
   "outputs": [],
   "source": [
    "training_args = base.get_training_args(output_dir=f\"~/results/{DATASET}/comp-mbn-distill_aug\", logging_dir=f\"~/logs/{DATASET}/comp-mbn-distill_aug\", remove_unused_columns=False)"
   ]
  },
  {
   "cell_type": "code",
   "execution_count": 24,
   "id": "0800ce6f",
   "metadata": {},
   "outputs": [],
   "source": [
    "base.reset_seed()"
   ]
  },
  {
   "cell_type": "code",
   "execution_count": 25,
   "id": "c8693764",
   "metadata": {},
   "outputs": [],
   "source": [
    "trainer = base.DistilTrainer(\n",
    "    student_model=student_model,\n",
    "    args=training_args,\n",
    "    train_dataset=train_combo,\n",
    "    eval_dataset=eval,\n",
    "    compute_metrics=base.compute_metrics,\n",
    ")"
   ]
  },
  {
   "cell_type": "code",
   "execution_count": 26,
   "id": "ab8c0608",
   "metadata": {},
   "outputs": [
    {
     "data": {
      "text/html": [
       "\n",
       "    <div>\n",
       "      \n",
       "      <progress value='2575' max='2575' style='width:300px; height:20px; vertical-align: middle;'></progress>\n",
       "      [2575/2575 09:29, Epoch 5/5]\n",
       "    </div>\n",
       "    <table border=\"1\" class=\"dataframe\">\n",
       "  <thead>\n",
       " <tr style=\"text-align: left;\">\n",
       "      <th>Epoch</th>\n",
       "      <th>Training Loss</th>\n",
       "      <th>Validation Loss</th>\n",
       "      <th>Accuracy</th>\n",
       "      <th>Precision</th>\n",
       "      <th>Recall</th>\n",
       "      <th>F1</th>\n",
       "    </tr>\n",
       "  </thead>\n",
       "  <tbody>\n",
       "    <tr>\n",
       "      <td>1</td>\n",
       "      <td>2.751600</td>\n",
       "      <td>1.764950</td>\n",
       "      <td>0.588800</td>\n",
       "      <td>0.595461</td>\n",
       "      <td>0.588800</td>\n",
       "      <td>0.577706</td>\n",
       "    </tr>\n",
       "    <tr>\n",
       "      <td>2</td>\n",
       "      <td>1.511500</td>\n",
       "      <td>1.315853</td>\n",
       "      <td>0.669800</td>\n",
       "      <td>0.673487</td>\n",
       "      <td>0.669800</td>\n",
       "      <td>0.663694</td>\n",
       "    </tr>\n",
       "    <tr>\n",
       "      <td>3</td>\n",
       "      <td>1.194500</td>\n",
       "      <td>1.174958</td>\n",
       "      <td>0.702100</td>\n",
       "      <td>0.704691</td>\n",
       "      <td>0.702100</td>\n",
       "      <td>0.697374</td>\n",
       "    </tr>\n",
       "    <tr>\n",
       "      <td>4</td>\n",
       "      <td>1.047200</td>\n",
       "      <td>1.123964</td>\n",
       "      <td>0.710200</td>\n",
       "      <td>0.716218</td>\n",
       "      <td>0.710200</td>\n",
       "      <td>0.708246</td>\n",
       "    </tr>\n",
       "    <tr>\n",
       "      <td>5</td>\n",
       "      <td>0.975300</td>\n",
       "      <td>1.095964</td>\n",
       "      <td>0.714300</td>\n",
       "      <td>0.717620</td>\n",
       "      <td>0.714300</td>\n",
       "      <td>0.711574</td>\n",
       "    </tr>\n",
       "  </tbody>\n",
       "</table><p>"
      ],
      "text/plain": [
       "<IPython.core.display.HTML object>"
      ]
     },
     "metadata": {},
     "output_type": "display_data"
    },
    {
     "data": {
      "text/plain": [
       "TrainOutput(global_step=2575, training_loss=1.4960278201797634, metrics={'train_runtime': 570.9148, 'train_samples_per_second': 577.249, 'train_steps_per_second': 4.51, 'total_flos': 7.000598702348698e+17, 'train_loss': 1.4960278201797634, 'epoch': 5.0})"
      ]
     },
     "execution_count": 26,
     "metadata": {},
     "output_type": "execute_result"
    }
   ],
   "source": [
    "trainer.train()"
   ]
  },
  {
   "cell_type": "code",
   "execution_count": 27,
   "id": "8c8d2435",
   "metadata": {},
   "outputs": [],
   "source": [
    "base.reset_seed()"
   ]
  },
  {
   "cell_type": "markdown",
   "id": "3874f90f",
   "metadata": {},
   "source": [
    "#### Logity získané inferencí"
   ]
  },
  {
   "cell_type": "markdown",
   "id": "6faa22a4",
   "metadata": {},
   "source": [
    "Získání studentského modelu."
   ]
  },
  {
   "cell_type": "code",
   "execution_count": 28,
   "id": "15b74c52",
   "metadata": {},
   "outputs": [],
   "source": [
    "student_model = base.get_mobilenet(100)"
   ]
  },
  {
   "cell_type": "markdown",
   "id": "4f46f297",
   "metadata": {},
   "source": [
    "Definice tréninku."
   ]
  },
  {
   "cell_type": "code",
   "execution_count": null,
   "id": "a1741dbf",
   "metadata": {},
   "outputs": [],
   "source": [
    "training_args = base.get_training_args(output_dir=f\"~/results/{DATASET}/comp-mbn-distill_aug_infer\", logging_dir=f\"~/logs/{DATASET}/comp-mbn-distill_aug_infer\", remove_unused_columns=False)"
   ]
  },
  {
   "cell_type": "code",
   "execution_count": 30,
   "id": "80bb7947",
   "metadata": {},
   "outputs": [],
   "source": [
    "base.reset_seed()"
   ]
  },
  {
   "cell_type": "code",
   "execution_count": 31,
   "id": "b6c16cdf",
   "metadata": {},
   "outputs": [],
   "source": [
    "trainer = base.DistilTrainerInfer(\n",
    "    student_model=student_model,\n",
    "    teacher_model=teacher_model,\n",
    "    args=training_args,\n",
    "    train_dataset=train_combo,\n",
    "    eval_dataset=eval,\n",
    "    compute_metrics=base.compute_metrics\n",
    ")"
   ]
  },
  {
   "cell_type": "code",
   "execution_count": 32,
   "id": "c8ff86d1",
   "metadata": {},
   "outputs": [
    {
     "data": {
      "text/html": [
       "\n",
       "    <div>\n",
       "      \n",
       "      <progress value='2575' max='2575' style='width:300px; height:20px; vertical-align: middle;'></progress>\n",
       "      [2575/2575 20:49, Epoch 5/5]\n",
       "    </div>\n",
       "    <table border=\"1\" class=\"dataframe\">\n",
       "  <thead>\n",
       " <tr style=\"text-align: left;\">\n",
       "      <th>Epoch</th>\n",
       "      <th>Training Loss</th>\n",
       "      <th>Validation Loss</th>\n",
       "      <th>Accuracy</th>\n",
       "      <th>Precision</th>\n",
       "      <th>Recall</th>\n",
       "      <th>F1</th>\n",
       "    </tr>\n",
       "  </thead>\n",
       "  <tbody>\n",
       "    <tr>\n",
       "      <td>1</td>\n",
       "      <td>2.648500</td>\n",
       "      <td>1.737405</td>\n",
       "      <td>0.596500</td>\n",
       "      <td>0.607579</td>\n",
       "      <td>0.596500</td>\n",
       "      <td>0.586606</td>\n",
       "    </tr>\n",
       "    <tr>\n",
       "      <td>2</td>\n",
       "      <td>1.442000</td>\n",
       "      <td>1.282101</td>\n",
       "      <td>0.680400</td>\n",
       "      <td>0.684411</td>\n",
       "      <td>0.680400</td>\n",
       "      <td>0.675516</td>\n",
       "    </tr>\n",
       "    <tr>\n",
       "      <td>3</td>\n",
       "      <td>1.139700</td>\n",
       "      <td>1.147731</td>\n",
       "      <td>0.704100</td>\n",
       "      <td>0.709171</td>\n",
       "      <td>0.704100</td>\n",
       "      <td>0.700798</td>\n",
       "    </tr>\n",
       "    <tr>\n",
       "      <td>4</td>\n",
       "      <td>1.000400</td>\n",
       "      <td>1.091868</td>\n",
       "      <td>0.721100</td>\n",
       "      <td>0.727370</td>\n",
       "      <td>0.721100</td>\n",
       "      <td>0.719718</td>\n",
       "    </tr>\n",
       "    <tr>\n",
       "      <td>5</td>\n",
       "      <td>0.932500</td>\n",
       "      <td>1.064466</td>\n",
       "      <td>0.725900</td>\n",
       "      <td>0.729126</td>\n",
       "      <td>0.725900</td>\n",
       "      <td>0.723699</td>\n",
       "    </tr>\n",
       "  </tbody>\n",
       "</table><p>"
      ],
      "text/plain": [
       "<IPython.core.display.HTML object>"
      ]
     },
     "metadata": {},
     "output_type": "display_data"
    },
    {
     "data": {
      "text/plain": [
       "TrainOutput(global_step=2575, training_loss=1.4326189059655643, metrics={'train_runtime': 1251.452, 'train_samples_per_second': 263.342, 'train_steps_per_second': 2.058, 'total_flos': 7.000598702348698e+17, 'train_loss': 1.4326189059655643, 'epoch': 5.0})"
      ]
     },
     "execution_count": 32,
     "metadata": {},
     "output_type": "execute_result"
    }
   ],
   "source": [
    "trainer.train()"
   ]
  },
  {
   "cell_type": "markdown",
   "id": "878098b9",
   "metadata": {},
   "source": [
    "## TinyViT\n",
    "### Neaugmentovaný dataset\n",
    "#### Předpočítané logity"
   ]
  },
  {
   "cell_type": "markdown",
   "id": "a174646b",
   "metadata": {},
   "source": [
    "Získání studentského modelu."
   ]
  },
  {
   "cell_type": "code",
   "execution_count": 38,
   "id": "a29e761c",
   "metadata": {},
   "outputs": [
    {
     "name": "stderr",
     "output_type": "stream",
     "text": [
      "Some weights of TimmWrapperForImageClassification were not initialized from the model checkpoint at timm/tiny_vit_5m_224.in1k and are newly initialized because the shapes did not match:\n",
      "- head.fc.bias: found shape torch.Size([1000]) in the checkpoint and torch.Size([100]) in the model instantiated\n",
      "- head.fc.weight: found shape torch.Size([1000, 320]) in the checkpoint and torch.Size([100, 320]) in the model instantiated\n",
      "You should probably TRAIN this model on a down-stream task to be able to use it for predictions and inference.\n"
     ]
    }
   ],
   "source": [
    "student_model = AutoModelForImageClassification.from_pretrained(\"timm/tiny_vit_5m_224.in1k\", num_labels=100, ignore_mismatched_sizes=True)"
   ]
  },
  {
   "cell_type": "markdown",
   "id": "297f351c",
   "metadata": {},
   "source": [
    "Definice tréninku."
   ]
  },
  {
   "cell_type": "code",
   "execution_count": null,
   "id": "6e26dc2a",
   "metadata": {},
   "outputs": [],
   "source": [
    "training_args = base.get_training_args(output_dir=f\"~/results/{DATASET}/comp-tinyvit-distill\", logging_dir=f\"~/logs/{DATASET}/comp-tinyvit-distill\", remove_unused_columns=False)"
   ]
  },
  {
   "cell_type": "code",
   "execution_count": 40,
   "id": "fb394199",
   "metadata": {},
   "outputs": [],
   "source": [
    "base.reset_seed()"
   ]
  },
  {
   "cell_type": "code",
   "execution_count": 41,
   "id": "475e5f8b",
   "metadata": {},
   "outputs": [],
   "source": [
    "trainer = base.DistilTrainer(\n",
    "    student_model=student_model,\n",
    "    args=training_args,\n",
    "    train_dataset=train,\n",
    "    eval_dataset=eval,\n",
    "    compute_metrics=base.compute_metrics,\n",
    ")"
   ]
  },
  {
   "cell_type": "code",
   "execution_count": 42,
   "id": "9a6b5b6b",
   "metadata": {},
   "outputs": [
    {
     "data": {
      "text/html": [
       "\n",
       "    <div>\n",
       "      \n",
       "      <progress value='1565' max='1565' style='width:300px; height:20px; vertical-align: middle;'></progress>\n",
       "      [1565/1565 06:56, Epoch 5/5]\n",
       "    </div>\n",
       "    <table border=\"1\" class=\"dataframe\">\n",
       "  <thead>\n",
       " <tr style=\"text-align: left;\">\n",
       "      <th>Epoch</th>\n",
       "      <th>Training Loss</th>\n",
       "      <th>Validation Loss</th>\n",
       "      <th>Accuracy</th>\n",
       "      <th>Precision</th>\n",
       "      <th>Recall</th>\n",
       "      <th>F1</th>\n",
       "    </tr>\n",
       "  </thead>\n",
       "  <tbody>\n",
       "    <tr>\n",
       "      <td>1</td>\n",
       "      <td>2.903900</td>\n",
       "      <td>1.798962</td>\n",
       "      <td>0.664100</td>\n",
       "      <td>0.678632</td>\n",
       "      <td>0.664100</td>\n",
       "      <td>0.652051</td>\n",
       "    </tr>\n",
       "    <tr>\n",
       "      <td>2</td>\n",
       "      <td>1.388900</td>\n",
       "      <td>1.188195</td>\n",
       "      <td>0.761600</td>\n",
       "      <td>0.764834</td>\n",
       "      <td>0.761600</td>\n",
       "      <td>0.758666</td>\n",
       "    </tr>\n",
       "    <tr>\n",
       "      <td>3</td>\n",
       "      <td>0.964000</td>\n",
       "      <td>0.973595</td>\n",
       "      <td>0.790700</td>\n",
       "      <td>0.792471</td>\n",
       "      <td>0.790700</td>\n",
       "      <td>0.789026</td>\n",
       "    </tr>\n",
       "    <tr>\n",
       "      <td>4</td>\n",
       "      <td>0.766100</td>\n",
       "      <td>0.881513</td>\n",
       "      <td>0.801100</td>\n",
       "      <td>0.802506</td>\n",
       "      <td>0.801100</td>\n",
       "      <td>0.800094</td>\n",
       "    </tr>\n",
       "    <tr>\n",
       "      <td>5</td>\n",
       "      <td>0.671200</td>\n",
       "      <td>0.850280</td>\n",
       "      <td>0.806600</td>\n",
       "      <td>0.807335</td>\n",
       "      <td>0.806600</td>\n",
       "      <td>0.805465</td>\n",
       "    </tr>\n",
       "  </tbody>\n",
       "</table><p>"
      ],
      "text/plain": [
       "<IPython.core.display.HTML object>"
      ]
     },
     "metadata": {},
     "output_type": "display_data"
    },
    {
     "data": {
      "text/plain": [
       "TrainOutput(global_step=1565, training_loss=1.3388394389289637, metrics={'train_runtime': 417.9989, 'train_samples_per_second': 478.47, 'train_steps_per_second': 3.744, 'total_flos': 9.219293282304e+17, 'train_loss': 1.3388394389289637, 'epoch': 5.0})"
      ]
     },
     "execution_count": 42,
     "metadata": {},
     "output_type": "execute_result"
    }
   ],
   "source": [
    "trainer.train()"
   ]
  },
  {
   "cell_type": "code",
   "execution_count": 43,
   "id": "cbb026a8",
   "metadata": {},
   "outputs": [],
   "source": [
    "base.reset_seed()"
   ]
  },
  {
   "cell_type": "markdown",
   "id": "e0afcea9",
   "metadata": {},
   "source": [
    "#### Logity získané inferencí\n",
    "Získání studentského modelu."
   ]
  },
  {
   "cell_type": "code",
   "execution_count": 44,
   "id": "714bb802",
   "metadata": {},
   "outputs": [
    {
     "name": "stderr",
     "output_type": "stream",
     "text": [
      "Some weights of TimmWrapperForImageClassification were not initialized from the model checkpoint at timm/tiny_vit_5m_224.in1k and are newly initialized because the shapes did not match:\n",
      "- head.fc.bias: found shape torch.Size([1000]) in the checkpoint and torch.Size([100]) in the model instantiated\n",
      "- head.fc.weight: found shape torch.Size([1000, 320]) in the checkpoint and torch.Size([100, 320]) in the model instantiated\n",
      "You should probably TRAIN this model on a down-stream task to be able to use it for predictions and inference.\n"
     ]
    }
   ],
   "source": [
    "student_model = AutoModelForImageClassification.from_pretrained(\"timm/tiny_vit_5m_224.in1k\", num_labels=100, ignore_mismatched_sizes=True)"
   ]
  },
  {
   "cell_type": "markdown",
   "id": "39244f4d",
   "metadata": {},
   "source": [
    "Definice tréninku."
   ]
  },
  {
   "cell_type": "code",
   "execution_count": null,
   "id": "10080167",
   "metadata": {},
   "outputs": [],
   "source": [
    "training_args = base.get_training_args(output_dir=f\"~/results/{DATASET}/comp-tinyvit-distill_infer\", logging_dir=f\"~/logs/{DATASET}/comp-tinyvit-distill_infer\", remove_unused_columns=False)"
   ]
  },
  {
   "cell_type": "code",
   "execution_count": 46,
   "id": "324c3a12",
   "metadata": {},
   "outputs": [],
   "source": [
    "base.reset_seed()"
   ]
  },
  {
   "cell_type": "code",
   "execution_count": 47,
   "id": "d981ccaa",
   "metadata": {},
   "outputs": [],
   "source": [
    "trainer = base.DistilTrainerInfer(\n",
    "    student_model=student_model,\n",
    "    teacher_model=teacher_model,\n",
    "    args=training_args,\n",
    "    train_dataset=train,\n",
    "    eval_dataset=eval,\n",
    "    compute_metrics=base.compute_metrics\n",
    ")"
   ]
  },
  {
   "cell_type": "code",
   "execution_count": 48,
   "id": "3edc4205",
   "metadata": {},
   "outputs": [
    {
     "data": {
      "text/html": [
       "\n",
       "    <div>\n",
       "      \n",
       "      <progress value='1565' max='1565' style='width:300px; height:20px; vertical-align: middle;'></progress>\n",
       "      [1565/1565 14:23, Epoch 5/5]\n",
       "    </div>\n",
       "    <table border=\"1\" class=\"dataframe\">\n",
       "  <thead>\n",
       " <tr style=\"text-align: left;\">\n",
       "      <th>Epoch</th>\n",
       "      <th>Training Loss</th>\n",
       "      <th>Validation Loss</th>\n",
       "      <th>Accuracy</th>\n",
       "      <th>Precision</th>\n",
       "      <th>Recall</th>\n",
       "      <th>F1</th>\n",
       "    </tr>\n",
       "  </thead>\n",
       "  <tbody>\n",
       "    <tr>\n",
       "      <td>1</td>\n",
       "      <td>2.967300</td>\n",
       "      <td>1.950313</td>\n",
       "      <td>0.632900</td>\n",
       "      <td>0.647448</td>\n",
       "      <td>0.632900</td>\n",
       "      <td>0.619488</td>\n",
       "    </tr>\n",
       "    <tr>\n",
       "      <td>2</td>\n",
       "      <td>1.523700</td>\n",
       "      <td>1.287865</td>\n",
       "      <td>0.743100</td>\n",
       "      <td>0.744981</td>\n",
       "      <td>0.743100</td>\n",
       "      <td>0.740344</td>\n",
       "    </tr>\n",
       "    <tr>\n",
       "      <td>3</td>\n",
       "      <td>1.059700</td>\n",
       "      <td>1.045320</td>\n",
       "      <td>0.780000</td>\n",
       "      <td>0.780772</td>\n",
       "      <td>0.780000</td>\n",
       "      <td>0.777969</td>\n",
       "    </tr>\n",
       "    <tr>\n",
       "      <td>4</td>\n",
       "      <td>0.843900</td>\n",
       "      <td>0.937034</td>\n",
       "      <td>0.793200</td>\n",
       "      <td>0.793578</td>\n",
       "      <td>0.793200</td>\n",
       "      <td>0.791511</td>\n",
       "    </tr>\n",
       "    <tr>\n",
       "      <td>5</td>\n",
       "      <td>0.745100</td>\n",
       "      <td>0.905840</td>\n",
       "      <td>0.798900</td>\n",
       "      <td>0.799038</td>\n",
       "      <td>0.798900</td>\n",
       "      <td>0.797425</td>\n",
       "    </tr>\n",
       "  </tbody>\n",
       "</table><p>"
      ],
      "text/plain": [
       "<IPython.core.display.HTML object>"
      ]
     },
     "metadata": {},
     "output_type": "display_data"
    },
    {
     "data": {
      "text/plain": [
       "TrainOutput(global_step=1565, training_loss=1.427964621839432, metrics={'train_runtime': 865.1506, 'train_samples_per_second': 231.174, 'train_steps_per_second': 1.809, 'total_flos': 9.219293282304e+17, 'train_loss': 1.427964621839432, 'epoch': 5.0})"
      ]
     },
     "execution_count": 48,
     "metadata": {},
     "output_type": "execute_result"
    }
   ],
   "source": [
    "trainer.train()"
   ]
  },
  {
   "cell_type": "markdown",
   "id": "0994e97b",
   "metadata": {},
   "source": [
    "### Augmentovaný dataset\n",
    "#### Předpočítané logity\n",
    "Získání studentského modelu."
   ]
  },
  {
   "cell_type": "code",
   "execution_count": 49,
   "id": "7c2f89ea",
   "metadata": {},
   "outputs": [
    {
     "name": "stderr",
     "output_type": "stream",
     "text": [
      "Some weights of TimmWrapperForImageClassification were not initialized from the model checkpoint at timm/tiny_vit_5m_224.in1k and are newly initialized because the shapes did not match:\n",
      "- head.fc.bias: found shape torch.Size([1000]) in the checkpoint and torch.Size([100]) in the model instantiated\n",
      "- head.fc.weight: found shape torch.Size([1000, 320]) in the checkpoint and torch.Size([100, 320]) in the model instantiated\n",
      "You should probably TRAIN this model on a down-stream task to be able to use it for predictions and inference.\n"
     ]
    }
   ],
   "source": [
    "student_model = AutoModelForImageClassification.from_pretrained(\"timm/tiny_vit_5m_224.in1k\", num_labels=100, ignore_mismatched_sizes=True)"
   ]
  },
  {
   "cell_type": "markdown",
   "id": "eb4ddfbb",
   "metadata": {},
   "source": [
    "Definice tréninku."
   ]
  },
  {
   "cell_type": "code",
   "execution_count": null,
   "id": "1cef7827",
   "metadata": {},
   "outputs": [],
   "source": [
    "training_args = base.get_training_args(output_dir=f\"~/results/{DATASET}/comp-tinyvit-distill_aug\", logging_dir=f\"~/logs/{DATASET}/comp-tinyvit-distill_aug\", remove_unused_columns=False)"
   ]
  },
  {
   "cell_type": "code",
   "execution_count": 51,
   "id": "d564a91d",
   "metadata": {},
   "outputs": [],
   "source": [
    "base.reset_seed()"
   ]
  },
  {
   "cell_type": "code",
   "execution_count": 52,
   "id": "4dd1a5b5",
   "metadata": {},
   "outputs": [],
   "source": [
    "trainer = base.DistilTrainer(\n",
    "    student_model=student_model,\n",
    "    args=training_args,\n",
    "    train_dataset=train_combo,\n",
    "    eval_dataset=eval,\n",
    "    compute_metrics=base.compute_metrics,\n",
    ")"
   ]
  },
  {
   "cell_type": "code",
   "execution_count": 53,
   "id": "8ff11d0d",
   "metadata": {},
   "outputs": [
    {
     "data": {
      "text/html": [
       "\n",
       "    <div>\n",
       "      \n",
       "      <progress value='2575' max='2575' style='width:300px; height:20px; vertical-align: middle;'></progress>\n",
       "      [2575/2575 10:40, Epoch 5/5]\n",
       "    </div>\n",
       "    <table border=\"1\" class=\"dataframe\">\n",
       "  <thead>\n",
       " <tr style=\"text-align: left;\">\n",
       "      <th>Epoch</th>\n",
       "      <th>Training Loss</th>\n",
       "      <th>Validation Loss</th>\n",
       "      <th>Accuracy</th>\n",
       "      <th>Precision</th>\n",
       "      <th>Recall</th>\n",
       "      <th>F1</th>\n",
       "    </tr>\n",
       "  </thead>\n",
       "  <tbody>\n",
       "    <tr>\n",
       "      <td>1</td>\n",
       "      <td>2.432500</td>\n",
       "      <td>1.450343</td>\n",
       "      <td>0.707400</td>\n",
       "      <td>0.711554</td>\n",
       "      <td>0.707400</td>\n",
       "      <td>0.701835</td>\n",
       "    </tr>\n",
       "    <tr>\n",
       "      <td>2</td>\n",
       "      <td>1.074000</td>\n",
       "      <td>0.965786</td>\n",
       "      <td>0.779700</td>\n",
       "      <td>0.781598</td>\n",
       "      <td>0.779700</td>\n",
       "      <td>0.778404</td>\n",
       "    </tr>\n",
       "    <tr>\n",
       "      <td>3</td>\n",
       "      <td>0.730800</td>\n",
       "      <td>0.794486</td>\n",
       "      <td>0.805100</td>\n",
       "      <td>0.806699</td>\n",
       "      <td>0.805100</td>\n",
       "      <td>0.803591</td>\n",
       "    </tr>\n",
       "    <tr>\n",
       "      <td>4</td>\n",
       "      <td>0.571300</td>\n",
       "      <td>0.728414</td>\n",
       "      <td>0.817500</td>\n",
       "      <td>0.820518</td>\n",
       "      <td>0.817500</td>\n",
       "      <td>0.817077</td>\n",
       "    </tr>\n",
       "    <tr>\n",
       "      <td>5</td>\n",
       "      <td>0.492900</td>\n",
       "      <td>0.708025</td>\n",
       "      <td>0.819000</td>\n",
       "      <td>0.820449</td>\n",
       "      <td>0.819000</td>\n",
       "      <td>0.818538</td>\n",
       "    </tr>\n",
       "  </tbody>\n",
       "</table><p>"
      ],
      "text/plain": [
       "<IPython.core.display.HTML object>"
      ]
     },
     "metadata": {},
     "output_type": "display_data"
    },
    {
     "data": {
      "text/plain": [
       "TrainOutput(global_step=2575, training_loss=1.0602800269265777, metrics={'train_runtime': 641.612, 'train_samples_per_second': 513.644, 'train_steps_per_second': 4.013, 'total_flos': 1.519155147058053e+18, 'train_loss': 1.0602800269265777, 'epoch': 5.0})"
      ]
     },
     "execution_count": 53,
     "metadata": {},
     "output_type": "execute_result"
    }
   ],
   "source": [
    "trainer.train()"
   ]
  },
  {
   "cell_type": "code",
   "execution_count": 54,
   "id": "9e9eebd3",
   "metadata": {},
   "outputs": [],
   "source": [
    "base.reset_seed()"
   ]
  },
  {
   "cell_type": "markdown",
   "id": "65a1b5b5",
   "metadata": {},
   "source": [
    "#### Logity získané inferencí \n",
    "Získání studenstkého modelu."
   ]
  },
  {
   "cell_type": "code",
   "execution_count": 55,
   "id": "004e04ad",
   "metadata": {},
   "outputs": [
    {
     "name": "stderr",
     "output_type": "stream",
     "text": [
      "Some weights of TimmWrapperForImageClassification were not initialized from the model checkpoint at timm/tiny_vit_5m_224.in1k and are newly initialized because the shapes did not match:\n",
      "- head.fc.bias: found shape torch.Size([1000]) in the checkpoint and torch.Size([100]) in the model instantiated\n",
      "- head.fc.weight: found shape torch.Size([1000, 320]) in the checkpoint and torch.Size([100, 320]) in the model instantiated\n",
      "You should probably TRAIN this model on a down-stream task to be able to use it for predictions and inference.\n"
     ]
    }
   ],
   "source": [
    "student_model = AutoModelForImageClassification.from_pretrained(\"timm/tiny_vit_5m_224.in1k\", num_labels=100, ignore_mismatched_sizes=True)"
   ]
  },
  {
   "cell_type": "markdown",
   "id": "7baf5154",
   "metadata": {},
   "source": [
    "Definice tréninku."
   ]
  },
  {
   "cell_type": "code",
   "execution_count": null,
   "id": "96268ce9",
   "metadata": {},
   "outputs": [],
   "source": [
    "training_args = base.get_training_args(output_dir=f\"~/results/{DATASET}/comp-tinyvit-distill_aug_infer\", logging_dir=f\"~/logs/{DATASET}/comp-tinyvit-distill_aug_infer\", remove_unused_columns=False)"
   ]
  },
  {
   "cell_type": "code",
   "execution_count": 57,
   "id": "b0a8ad75",
   "metadata": {},
   "outputs": [],
   "source": [
    "base.reset_seed()"
   ]
  },
  {
   "cell_type": "code",
   "execution_count": 58,
   "id": "3b4ed0ff",
   "metadata": {},
   "outputs": [],
   "source": [
    "trainer = base.DistilTrainerInfer(\n",
    "    student_model=student_model,\n",
    "    teacher_model=teacher_model,\n",
    "    args=training_args,\n",
    "    train_dataset=train_combo,\n",
    "    eval_dataset=eval,\n",
    "    compute_metrics=base.compute_metrics\n",
    ")"
   ]
  },
  {
   "cell_type": "code",
   "execution_count": 59,
   "id": "c4bfc2f7",
   "metadata": {},
   "outputs": [
    {
     "data": {
      "text/html": [
       "\n",
       "    <div>\n",
       "      \n",
       "      <progress value='2575' max='2575' style='width:300px; height:20px; vertical-align: middle;'></progress>\n",
       "      [2575/2575 22:06, Epoch 5/5]\n",
       "    </div>\n",
       "    <table border=\"1\" class=\"dataframe\">\n",
       "  <thead>\n",
       " <tr style=\"text-align: left;\">\n",
       "      <th>Epoch</th>\n",
       "      <th>Training Loss</th>\n",
       "      <th>Validation Loss</th>\n",
       "      <th>Accuracy</th>\n",
       "      <th>Precision</th>\n",
       "      <th>Recall</th>\n",
       "      <th>F1</th>\n",
       "    </tr>\n",
       "  </thead>\n",
       "  <tbody>\n",
       "    <tr>\n",
       "      <td>1</td>\n",
       "      <td>2.312000</td>\n",
       "      <td>1.370719</td>\n",
       "      <td>0.728600</td>\n",
       "      <td>0.732267</td>\n",
       "      <td>0.728600</td>\n",
       "      <td>0.724716</td>\n",
       "    </tr>\n",
       "    <tr>\n",
       "      <td>2</td>\n",
       "      <td>1.012000</td>\n",
       "      <td>0.920162</td>\n",
       "      <td>0.798600</td>\n",
       "      <td>0.801360</td>\n",
       "      <td>0.798600</td>\n",
       "      <td>0.797943</td>\n",
       "    </tr>\n",
       "    <tr>\n",
       "      <td>3</td>\n",
       "      <td>0.704000</td>\n",
       "      <td>0.766804</td>\n",
       "      <td>0.814200</td>\n",
       "      <td>0.815280</td>\n",
       "      <td>0.814200</td>\n",
       "      <td>0.812885</td>\n",
       "    </tr>\n",
       "    <tr>\n",
       "      <td>4</td>\n",
       "      <td>0.566500</td>\n",
       "      <td>0.704982</td>\n",
       "      <td>0.825500</td>\n",
       "      <td>0.827208</td>\n",
       "      <td>0.825500</td>\n",
       "      <td>0.824798</td>\n",
       "    </tr>\n",
       "    <tr>\n",
       "      <td>5</td>\n",
       "      <td>0.497600</td>\n",
       "      <td>0.684593</td>\n",
       "      <td>0.830200</td>\n",
       "      <td>0.831809</td>\n",
       "      <td>0.830200</td>\n",
       "      <td>0.829788</td>\n",
       "    </tr>\n",
       "  </tbody>\n",
       "</table><p>"
      ],
      "text/plain": [
       "<IPython.core.display.HTML object>"
      ]
     },
     "metadata": {},
     "output_type": "display_data"
    },
    {
     "data": {
      "text/plain": [
       "TrainOutput(global_step=2575, training_loss=1.0184253522261832, metrics={'train_runtime': 1327.8856, 'train_samples_per_second': 248.184, 'train_steps_per_second': 1.939, 'total_flos': 1.519155147058053e+18, 'train_loss': 1.0184253522261832, 'epoch': 5.0})"
      ]
     },
     "execution_count": 59,
     "metadata": {},
     "output_type": "execute_result"
    }
   ],
   "source": [
    "trainer.train()"
   ]
  }
 ],
 "metadata": {
  "kernelspec": {
   "display_name": "Python 3 (ipykernel)",
   "language": "python",
   "name": "python3"
  },
  "language_info": {
   "codemirror_mode": {
    "name": "ipython",
    "version": 3
   },
   "file_extension": ".py",
   "mimetype": "text/x-python",
   "name": "python",
   "nbconvert_exporter": "python",
   "pygments_lexer": "ipython3",
   "version": "3.10.12"
  }
 },
 "nbformat": 4,
 "nbformat_minor": 5
}
