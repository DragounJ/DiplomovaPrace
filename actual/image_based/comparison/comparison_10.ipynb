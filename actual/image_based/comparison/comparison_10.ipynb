{
 "cells": [
  {
   "cell_type": "markdown",
   "id": "b80e8fe1",
   "metadata": {},
   "source": [
    "# Notebook pro trénink s destilací nad datasetem CIFAR10\n",
    "V tomto notebooku je trénován MobileNetV2 nad datasetem CIFAR10, jako učitelsý model je využíván finetunued ViT nad stejným datasetem. \n",
    "\n",
    "MobileNetV2 je používán s náhodnou inicializací, tréninkem pouze klasifikační hlavy inicializovaného (předtrénovaného nad ImageNetem) MobileNetuV2 a trénink celého modelu, taktéž inicializovaného. Tyto tři úlohy jsou trénovány bězným způsobem a také s pomocí destilace výše zmíněného modelu.  \n",
    "\n",
    "Při destilaci je využíváno předpočítaných logitů ze sešitu precompute_logits."
   ]
  },
  {
   "cell_type": "markdown",
   "id": "54d1c726",
   "metadata": {},
   "source": [
    "## Import knihoven a definice metod"
   ]
  },
  {
   "cell_type": "code",
   "execution_count": 2,
   "id": "f7e7a26f-aa1f-4645-b3b3-4643ca8be2a4",
   "metadata": {},
   "outputs": [],
   "source": [
    "from transformers import AutoModelForImageClassification\n",
    "from torch.utils.data import ConcatDataset\n",
    "import pandas as pd\n",
    "import torch\n",
    "import base\n",
    "import os"
   ]
  },
  {
   "cell_type": "code",
   "execution_count": 3,
   "id": "5ce29a44",
   "metadata": {},
   "outputs": [],
   "source": [
    "dataset_part = base.get_dataset_part()"
   ]
  },
  {
   "cell_type": "markdown",
   "id": "4cf6897a",
   "metadata": {},
   "source": [
    "Resetování náhodného seedu pro replikovatelnost výsledků."
   ]
  },
  {
   "cell_type": "code",
   "execution_count": 4,
   "id": "bd53a434",
   "metadata": {},
   "outputs": [],
   "source": [
    "base.reset_seed()"
   ]
  },
  {
   "cell_type": "code",
   "execution_count": 5,
   "id": "29b9ceef",
   "metadata": {},
   "outputs": [
    {
     "name": "stdout",
     "output_type": "stream",
     "text": [
      "GPU is available and will be used: NVIDIA A100 80GB PCIe MIG 2g.20gb\n"
     ]
    }
   ],
   "source": [
    "if torch.cuda.is_available():\n",
    "    device = torch.device(\"cuda\")\n",
    "    print(\"GPU is available and will be used:\", torch.cuda.get_device_name(0))\n",
    "else:\n",
    "    device = torch.device(\"cpu\")\n",
    "    print(\"GPU is not available, using CPU.\")"
   ]
  },
  {
   "cell_type": "markdown",
   "id": "59eb90dc",
   "metadata": {},
   "source": [
    "Provedení transformací nad datasetem."
   ]
  },
  {
   "cell_type": "code",
   "execution_count": 6,
   "id": "ec5b1934",
   "metadata": {},
   "outputs": [],
   "source": [
    "DATASET = \"cifar10\""
   ]
  },
  {
   "cell_type": "code",
   "execution_count": 7,
   "id": "8b74ce88",
   "metadata": {},
   "outputs": [],
   "source": [
    "transform = base.base_transforms()\n",
    "\n",
    "#Poslední train batch použijeme jako eval část...\n",
    "test = base.CustomCIFAR10L(root=f\"{os.path.expanduser('~')}/data/10-logits\", dataset_part=dataset_part.TEST, transform=transform)\n",
    "train = base.CustomCIFAR10L(root=f\"{os.path.expanduser('~')}/data/10-logits\", dataset_part=dataset_part.TRAIN, transform=transform)\n",
    "eval = base.CustomCIFAR10L(root=f\"{os.path.expanduser('~')}/data/10-logits\", dataset_part=dataset_part.EVAL, transform=transform)"
   ]
  },
  {
   "cell_type": "code",
   "execution_count": 8,
   "id": "8576db25",
   "metadata": {},
   "outputs": [],
   "source": [
    "augment_transform = base.aug_transforms()\n",
    "train_aug = base.CustomCIFAR10L(root=f\"{os.path.expanduser('~')}/data/10-logits\", dataset_part=dataset_part.TRAIN, transform=augment_transform)"
   ]
  },
  {
   "cell_type": "code",
   "execution_count": 9,
   "id": "3defef72",
   "metadata": {},
   "outputs": [
    {
     "data": {
      "application/vnd.jupyter.widget-view+json": {
       "model_id": "ecf51d9e792c4c02bd7ef9c577890faf",
       "version_major": 2,
       "version_minor": 0
      },
      "text/plain": [
       "Removing entries from augmented dataset that are different from the base one - based on saved logits:   0%|   …"
      ]
     },
     "metadata": {},
     "output_type": "display_data"
    }
   ],
   "source": [
    "train_aug = base.remove_diff_pred_class(train, train_aug, pytorch_dataset=True)\n",
    "train_combo = ConcatDataset([train, train_aug])"
   ]
  },
  {
   "cell_type": "code",
   "execution_count": 10,
   "id": "c6271f30",
   "metadata": {},
   "outputs": [
    {
     "data": {
      "text/plain": [
       "tensor(6)"
      ]
     },
     "execution_count": 10,
     "metadata": {},
     "output_type": "execute_result"
    }
   ],
   "source": [
    "train[0][\"labels\"]"
   ]
  },
  {
   "cell_type": "code",
   "execution_count": 11,
   "id": "b36ab156",
   "metadata": {},
   "outputs": [
    {
     "name": "stdout",
     "output_type": "stream",
     "text": [
      "0\n",
      "5    1025\n",
      "9    1022\n",
      "3    1016\n",
      "0    1014\n",
      "1    1014\n",
      "8    1003\n",
      "4     997\n",
      "6     980\n",
      "7     977\n",
      "2     952\n",
      "Name: count, dtype: int64\n"
     ]
    }
   ],
   "source": [
    "# Test rozložení --> Good Enough\n",
    "df = pd.DataFrame(eval.labels)\n",
    "print(df.value_counts())"
   ]
  },
  {
   "cell_type": "markdown",
   "id": "c6a85914",
   "metadata": {},
   "source": [
    "### Standardní trénink náhodně inicializovaného modelu. "
   ]
  },
  {
   "cell_type": "code",
   "execution_count": 56,
   "id": "7e7fe79f",
   "metadata": {},
   "outputs": [],
   "source": [
    "student_model = base.get_mobilenet(10)"
   ]
  },
  {
   "cell_type": "code",
   "execution_count": 57,
   "id": "15c07c5d",
   "metadata": {},
   "outputs": [],
   "source": [
    "training_args = base.get_training_args(output_dir=f\"~/results/{DATASET}/cifar10-random\", logging_dir=f\"~/logs/{DATASET}/cifar10-random\", remove_unused_columns=False)"
   ]
  },
  {
   "cell_type": "code",
   "execution_count": 58,
   "id": "ac2d2c07",
   "metadata": {},
   "outputs": [],
   "source": [
    "base.reset_seed()"
   ]
  },
  {
   "cell_type": "code",
   "execution_count": 59,
   "id": "dc752b97-d843-4919-a0fc-066d192e037b",
   "metadata": {},
   "outputs": [],
   "source": [
    "trainer = base.DistilTrainer(\n",
    "    student_model=student_model,\n",
    "    args=training_args,\n",
    "    train_dataset=train,\n",
    "    eval_dataset=eval,\n",
    "    compute_metrics=base.compute_metrics,\n",
    ")"
   ]
  },
  {
   "cell_type": "code",
   "execution_count": 60,
   "id": "97855619-93d5-4fc2-93d2-fee24c61b8ae",
   "metadata": {},
   "outputs": [
    {
     "data": {
      "text/html": [
       "\n",
       "    <div>\n",
       "      \n",
       "      <progress value='1565' max='1565' style='width:300px; height:20px; vertical-align: middle;'></progress>\n",
       "      [1565/1565 06:17, Epoch 5/5]\n",
       "    </div>\n",
       "    <table border=\"1\" class=\"dataframe\">\n",
       "  <thead>\n",
       " <tr style=\"text-align: left;\">\n",
       "      <th>Epoch</th>\n",
       "      <th>Training Loss</th>\n",
       "      <th>Validation Loss</th>\n",
       "      <th>Accuracy</th>\n",
       "      <th>Precision</th>\n",
       "      <th>Recall</th>\n",
       "      <th>F1</th>\n",
       "    </tr>\n",
       "  </thead>\n",
       "  <tbody>\n",
       "    <tr>\n",
       "      <td>1</td>\n",
       "      <td>0.561900</td>\n",
       "      <td>0.340989</td>\n",
       "      <td>0.882200</td>\n",
       "      <td>0.887258</td>\n",
       "      <td>0.882247</td>\n",
       "      <td>0.881975</td>\n",
       "    </tr>\n",
       "    <tr>\n",
       "      <td>2</td>\n",
       "      <td>0.281400</td>\n",
       "      <td>0.294031</td>\n",
       "      <td>0.908900</td>\n",
       "      <td>0.913302</td>\n",
       "      <td>0.908771</td>\n",
       "      <td>0.909540</td>\n",
       "    </tr>\n",
       "    <tr>\n",
       "      <td>3</td>\n",
       "      <td>0.227400</td>\n",
       "      <td>0.274416</td>\n",
       "      <td>0.910800</td>\n",
       "      <td>0.912861</td>\n",
       "      <td>0.910830</td>\n",
       "      <td>0.910804</td>\n",
       "    </tr>\n",
       "    <tr>\n",
       "      <td>4</td>\n",
       "      <td>0.202500</td>\n",
       "      <td>0.248416</td>\n",
       "      <td>0.922600</td>\n",
       "      <td>0.924363</td>\n",
       "      <td>0.922807</td>\n",
       "      <td>0.922700</td>\n",
       "    </tr>\n",
       "    <tr>\n",
       "      <td>5</td>\n",
       "      <td>0.188100</td>\n",
       "      <td>0.251953</td>\n",
       "      <td>0.921500</td>\n",
       "      <td>0.922356</td>\n",
       "      <td>0.921818</td>\n",
       "      <td>0.921473</td>\n",
       "    </tr>\n",
       "  </tbody>\n",
       "</table><p>"
      ],
      "text/plain": [
       "<IPython.core.display.HTML object>"
      ]
     },
     "metadata": {},
     "output_type": "display_data"
    },
    {
     "data": {
      "text/plain": [
       "TrainOutput(global_step=1565, training_loss=0.2922747042232428, metrics={'train_runtime': 378.4098, 'train_samples_per_second': 528.527, 'train_steps_per_second': 4.136, 'total_flos': 4.040199217152e+17, 'train_loss': 0.2922747042232428, 'epoch': 5.0})"
      ]
     },
     "execution_count": 60,
     "metadata": {},
     "output_type": "execute_result"
    }
   ],
   "source": [
    "trainer.train()"
   ]
  },
  {
   "cell_type": "code",
   "execution_count": 61,
   "id": "24f990e8-d259-44c7-b85b-cca2f4f97a8e",
   "metadata": {},
   "outputs": [],
   "source": [
    "base.reset_seed()"
   ]
  },
  {
   "cell_type": "code",
   "execution_count": 62,
   "id": "8360e003-3a19-4bb3-8ce8-b40df5b2115c",
   "metadata": {},
   "outputs": [
    {
     "data": {
      "text/plain": [
       "ViTForImageClassification(\n",
       "  (vit): ViTModel(\n",
       "    (embeddings): ViTEmbeddings(\n",
       "      (patch_embeddings): ViTPatchEmbeddings(\n",
       "        (projection): Conv2d(3, 768, kernel_size=(16, 16), stride=(16, 16))\n",
       "      )\n",
       "      (dropout): Dropout(p=0.0, inplace=False)\n",
       "    )\n",
       "    (encoder): ViTEncoder(\n",
       "      (layer): ModuleList(\n",
       "        (0-11): 12 x ViTLayer(\n",
       "          (attention): ViTSdpaAttention(\n",
       "            (attention): ViTSdpaSelfAttention(\n",
       "              (query): Linear(in_features=768, out_features=768, bias=True)\n",
       "              (key): Linear(in_features=768, out_features=768, bias=True)\n",
       "              (value): Linear(in_features=768, out_features=768, bias=True)\n",
       "              (dropout): Dropout(p=0.0, inplace=False)\n",
       "            )\n",
       "            (output): ViTSelfOutput(\n",
       "              (dense): Linear(in_features=768, out_features=768, bias=True)\n",
       "              (dropout): Dropout(p=0.0, inplace=False)\n",
       "            )\n",
       "          )\n",
       "          (intermediate): ViTIntermediate(\n",
       "            (dense): Linear(in_features=768, out_features=3072, bias=True)\n",
       "            (intermediate_act_fn): GELUActivation()\n",
       "          )\n",
       "          (output): ViTOutput(\n",
       "            (dense): Linear(in_features=3072, out_features=768, bias=True)\n",
       "            (dropout): Dropout(p=0.0, inplace=False)\n",
       "          )\n",
       "          (layernorm_before): LayerNorm((768,), eps=1e-12, elementwise_affine=True)\n",
       "          (layernorm_after): LayerNorm((768,), eps=1e-12, elementwise_affine=True)\n",
       "        )\n",
       "      )\n",
       "    )\n",
       "    (layernorm): LayerNorm((768,), eps=1e-12, elementwise_affine=True)\n",
       "  )\n",
       "  (classifier): Linear(in_features=768, out_features=10, bias=True)\n",
       ")"
      ]
     },
     "execution_count": 62,
     "metadata": {},
     "output_type": "execute_result"
    }
   ],
   "source": [
    "student_model = base.get_mobilenet(10)\n",
    "teacher_model = AutoModelForImageClassification.from_pretrained(\n",
    "    \"aaraki/vit-base-patch16-224-in21k-finetuned-cifar10\",\n",
    "    num_labels=10,\n",
    ")\n",
    "teacher_model.eval()\n",
    "teacher_model.to(device)"
   ]
  },
  {
   "cell_type": "code",
   "execution_count": 19,
   "id": "aad7fa0f-f432-4e99-bb07-31951b7858f1",
   "metadata": {},
   "outputs": [],
   "source": [
    "training_args = base.get_training_args(output_dir=f\"~/results/{DATASET}/cifar10-random-KD\", logging_dir=f\"~/logs/{DATASET}/cifar10-random-KD\", remove_unused_columns=False)"
   ]
  },
  {
   "cell_type": "code",
   "execution_count": 20,
   "id": "7a825a53",
   "metadata": {},
   "outputs": [],
   "source": [
    "base.reset_seed()"
   ]
  },
  {
   "cell_type": "code",
   "execution_count": 21,
   "id": "43af926a-dba5-468f-9a48-c4c581e97893",
   "metadata": {},
   "outputs": [],
   "source": [
    "trainer = base.DistilTrainerInfer(\n",
    "    student_model=student_model,\n",
    "    teacher_model=teacher_model,\n",
    "    args=training_args,\n",
    "    train_dataset=train,\n",
    "    eval_dataset=eval,\n",
    "    compute_metrics=base.compute_metrics\n",
    ")"
   ]
  },
  {
   "cell_type": "code",
   "execution_count": 22,
   "id": "22a2fa47-1cf3-465c-aa7f-9b41b66846d9",
   "metadata": {},
   "outputs": [
    {
     "data": {
      "text/html": [
       "\n",
       "    <div>\n",
       "      \n",
       "      <progress value='1565' max='1565' style='width:300px; height:20px; vertical-align: middle;'></progress>\n",
       "      [1565/1565 13:39, Epoch 5/5]\n",
       "    </div>\n",
       "    <table border=\"1\" class=\"dataframe\">\n",
       "  <thead>\n",
       " <tr style=\"text-align: left;\">\n",
       "      <th>Epoch</th>\n",
       "      <th>Training Loss</th>\n",
       "      <th>Validation Loss</th>\n",
       "      <th>Accuracy</th>\n",
       "      <th>Precision</th>\n",
       "      <th>Recall</th>\n",
       "      <th>F1</th>\n",
       "    </tr>\n",
       "  </thead>\n",
       "  <tbody>\n",
       "    <tr>\n",
       "      <td>1</td>\n",
       "      <td>0.563100</td>\n",
       "      <td>0.344030</td>\n",
       "      <td>0.878200</td>\n",
       "      <td>0.885102</td>\n",
       "      <td>0.878158</td>\n",
       "      <td>0.878197</td>\n",
       "    </tr>\n",
       "    <tr>\n",
       "      <td>2</td>\n",
       "      <td>0.280600</td>\n",
       "      <td>0.286562</td>\n",
       "      <td>0.908800</td>\n",
       "      <td>0.912392</td>\n",
       "      <td>0.908664</td>\n",
       "      <td>0.909394</td>\n",
       "    </tr>\n",
       "    <tr>\n",
       "      <td>3</td>\n",
       "      <td>0.227000</td>\n",
       "      <td>0.271677</td>\n",
       "      <td>0.914300</td>\n",
       "      <td>0.916050</td>\n",
       "      <td>0.914327</td>\n",
       "      <td>0.914416</td>\n",
       "    </tr>\n",
       "    <tr>\n",
       "      <td>4</td>\n",
       "      <td>0.201200</td>\n",
       "      <td>0.249703</td>\n",
       "      <td>0.919800</td>\n",
       "      <td>0.921998</td>\n",
       "      <td>0.920010</td>\n",
       "      <td>0.919921</td>\n",
       "    </tr>\n",
       "    <tr>\n",
       "      <td>5</td>\n",
       "      <td>0.187300</td>\n",
       "      <td>0.251812</td>\n",
       "      <td>0.919100</td>\n",
       "      <td>0.920426</td>\n",
       "      <td>0.919408</td>\n",
       "      <td>0.919206</td>\n",
       "    </tr>\n",
       "  </tbody>\n",
       "</table><p>"
      ],
      "text/plain": [
       "<IPython.core.display.HTML object>"
      ]
     },
     "metadata": {},
     "output_type": "display_data"
    },
    {
     "data": {
      "text/plain": [
       "TrainOutput(global_step=1565, training_loss=0.29186008928682855, metrics={'train_runtime': 820.5936, 'train_samples_per_second': 243.726, 'train_steps_per_second': 1.907, 'total_flos': 4.040199217152e+17, 'train_loss': 0.29186008928682855, 'epoch': 5.0})"
      ]
     },
     "execution_count": 22,
     "metadata": {},
     "output_type": "execute_result"
    }
   ],
   "source": [
    "trainer.train()"
   ]
  },
  {
   "cell_type": "code",
   "execution_count": 23,
   "id": "d60dfbcf",
   "metadata": {},
   "outputs": [],
   "source": [
    "student_model = base.get_mobilenet(10)"
   ]
  },
  {
   "cell_type": "code",
   "execution_count": 24,
   "id": "e464402a",
   "metadata": {},
   "outputs": [],
   "source": [
    "training_args = base.get_training_args(output_dir=f\"~/results/{DATASET}/cifar10-random\", logging_dir=f\"~/logs/{DATASET}/cifar10-random\", remove_unused_columns=False)"
   ]
  },
  {
   "cell_type": "code",
   "execution_count": 25,
   "id": "0800ce6f",
   "metadata": {},
   "outputs": [],
   "source": [
    "base.reset_seed()"
   ]
  },
  {
   "cell_type": "code",
   "execution_count": 26,
   "id": "c8693764",
   "metadata": {},
   "outputs": [],
   "source": [
    "trainer = base.DistilTrainer(\n",
    "    student_model=student_model,\n",
    "    args=training_args,\n",
    "    train_dataset=train_combo,\n",
    "    eval_dataset=eval,\n",
    "    compute_metrics=base.compute_metrics,\n",
    ")"
   ]
  },
  {
   "cell_type": "code",
   "execution_count": 27,
   "id": "ab8c0608",
   "metadata": {},
   "outputs": [
    {
     "data": {
      "text/html": [
       "\n",
       "    <div>\n",
       "      \n",
       "      <progress value='2665' max='2665' style='width:300px; height:20px; vertical-align: middle;'></progress>\n",
       "      [2665/2665 09:47, Epoch 5/5]\n",
       "    </div>\n",
       "    <table border=\"1\" class=\"dataframe\">\n",
       "  <thead>\n",
       " <tr style=\"text-align: left;\">\n",
       "      <th>Epoch</th>\n",
       "      <th>Training Loss</th>\n",
       "      <th>Validation Loss</th>\n",
       "      <th>Accuracy</th>\n",
       "      <th>Precision</th>\n",
       "      <th>Recall</th>\n",
       "      <th>F1</th>\n",
       "    </tr>\n",
       "  </thead>\n",
       "  <tbody>\n",
       "    <tr>\n",
       "      <td>1</td>\n",
       "      <td>0.547900</td>\n",
       "      <td>0.304709</td>\n",
       "      <td>0.897400</td>\n",
       "      <td>0.899663</td>\n",
       "      <td>0.897617</td>\n",
       "      <td>0.897191</td>\n",
       "    </tr>\n",
       "    <tr>\n",
       "      <td>2</td>\n",
       "      <td>0.312500</td>\n",
       "      <td>0.249679</td>\n",
       "      <td>0.924100</td>\n",
       "      <td>0.925305</td>\n",
       "      <td>0.924307</td>\n",
       "      <td>0.924212</td>\n",
       "    </tr>\n",
       "    <tr>\n",
       "      <td>3</td>\n",
       "      <td>0.259700</td>\n",
       "      <td>0.244111</td>\n",
       "      <td>0.926500</td>\n",
       "      <td>0.927182</td>\n",
       "      <td>0.926955</td>\n",
       "      <td>0.926168</td>\n",
       "    </tr>\n",
       "    <tr>\n",
       "      <td>4</td>\n",
       "      <td>0.231800</td>\n",
       "      <td>0.237831</td>\n",
       "      <td>0.928500</td>\n",
       "      <td>0.930272</td>\n",
       "      <td>0.928582</td>\n",
       "      <td>0.928577</td>\n",
       "    </tr>\n",
       "    <tr>\n",
       "      <td>5</td>\n",
       "      <td>0.216600</td>\n",
       "      <td>0.226526</td>\n",
       "      <td>0.931300</td>\n",
       "      <td>0.932195</td>\n",
       "      <td>0.931433</td>\n",
       "      <td>0.931362</td>\n",
       "    </tr>\n",
       "  </tbody>\n",
       "</table><p>"
      ],
      "text/plain": [
       "<IPython.core.display.HTML object>"
      ]
     },
     "metadata": {},
     "output_type": "display_data"
    },
    {
     "data": {
      "text/plain": [
       "TrainOutput(global_step=2665, training_loss=0.3136786598649302, metrics={'train_runtime': 588.8747, 'train_samples_per_second': 578.867, 'train_steps_per_second': 4.526, 'total_flos': 6.886115545713869e+17, 'train_loss': 0.3136786598649302, 'epoch': 5.0})"
      ]
     },
     "execution_count": 27,
     "metadata": {},
     "output_type": "execute_result"
    }
   ],
   "source": [
    "trainer.train()"
   ]
  },
  {
   "cell_type": "code",
   "execution_count": 28,
   "id": "8c8d2435",
   "metadata": {},
   "outputs": [],
   "source": [
    "base.reset_seed()"
   ]
  },
  {
   "cell_type": "code",
   "execution_count": 29,
   "id": "15b74c52",
   "metadata": {},
   "outputs": [],
   "source": [
    "student_model = base.get_mobilenet(10)"
   ]
  },
  {
   "cell_type": "code",
   "execution_count": 30,
   "id": "a1741dbf",
   "metadata": {},
   "outputs": [],
   "source": [
    "training_args = base.get_training_args(output_dir=f\"~/results/{DATASET}/cifar10-random-KD\", logging_dir=f\"~/logs/{DATASET}/cifar10-random-KD\", remove_unused_columns=False)"
   ]
  },
  {
   "cell_type": "code",
   "execution_count": 31,
   "id": "80bb7947",
   "metadata": {},
   "outputs": [],
   "source": [
    "base.reset_seed()"
   ]
  },
  {
   "cell_type": "code",
   "execution_count": 32,
   "id": "b6c16cdf",
   "metadata": {},
   "outputs": [],
   "source": [
    "trainer = base.DistilTrainerInfer(\n",
    "    student_model=student_model,\n",
    "    teacher_model=teacher_model,\n",
    "    args=training_args,\n",
    "    train_dataset=train_combo,\n",
    "    eval_dataset=eval,\n",
    "    compute_metrics=base.compute_metrics\n",
    ")"
   ]
  },
  {
   "cell_type": "code",
   "execution_count": 33,
   "id": "c8ff86d1",
   "metadata": {},
   "outputs": [
    {
     "data": {
      "text/html": [
       "\n",
       "    <div>\n",
       "      \n",
       "      <progress value='2665' max='2665' style='width:300px; height:20px; vertical-align: middle;'></progress>\n",
       "      [2665/2665 21:40, Epoch 5/5]\n",
       "    </div>\n",
       "    <table border=\"1\" class=\"dataframe\">\n",
       "  <thead>\n",
       " <tr style=\"text-align: left;\">\n",
       "      <th>Epoch</th>\n",
       "      <th>Training Loss</th>\n",
       "      <th>Validation Loss</th>\n",
       "      <th>Accuracy</th>\n",
       "      <th>Precision</th>\n",
       "      <th>Recall</th>\n",
       "      <th>F1</th>\n",
       "    </tr>\n",
       "  </thead>\n",
       "  <tbody>\n",
       "    <tr>\n",
       "      <td>1</td>\n",
       "      <td>0.545100</td>\n",
       "      <td>0.298021</td>\n",
       "      <td>0.899800</td>\n",
       "      <td>0.901568</td>\n",
       "      <td>0.899982</td>\n",
       "      <td>0.899661</td>\n",
       "    </tr>\n",
       "    <tr>\n",
       "      <td>2</td>\n",
       "      <td>0.318700</td>\n",
       "      <td>0.243472</td>\n",
       "      <td>0.925500</td>\n",
       "      <td>0.926705</td>\n",
       "      <td>0.925721</td>\n",
       "      <td>0.925600</td>\n",
       "    </tr>\n",
       "    <tr>\n",
       "      <td>3</td>\n",
       "      <td>0.270400</td>\n",
       "      <td>0.236763</td>\n",
       "      <td>0.928200</td>\n",
       "      <td>0.928749</td>\n",
       "      <td>0.928695</td>\n",
       "      <td>0.927802</td>\n",
       "    </tr>\n",
       "    <tr>\n",
       "      <td>4</td>\n",
       "      <td>0.245400</td>\n",
       "      <td>0.231667</td>\n",
       "      <td>0.927800</td>\n",
       "      <td>0.929820</td>\n",
       "      <td>0.927939</td>\n",
       "      <td>0.927953</td>\n",
       "    </tr>\n",
       "    <tr>\n",
       "      <td>5</td>\n",
       "      <td>0.231600</td>\n",
       "      <td>0.221609</td>\n",
       "      <td>0.934500</td>\n",
       "      <td>0.935290</td>\n",
       "      <td>0.934651</td>\n",
       "      <td>0.934527</td>\n",
       "    </tr>\n",
       "  </tbody>\n",
       "</table><p>"
      ],
      "text/plain": [
       "<IPython.core.display.HTML object>"
      ]
     },
     "metadata": {},
     "output_type": "display_data"
    },
    {
     "data": {
      "text/plain": [
       "TrainOutput(global_step=2665, training_loss=0.32222727476767704, metrics={'train_runtime': 1302.0067, 'train_samples_per_second': 261.811, 'train_steps_per_second': 2.047, 'total_flos': 6.886115545713869e+17, 'train_loss': 0.32222727476767704, 'epoch': 5.0})"
      ]
     },
     "execution_count": 33,
     "metadata": {},
     "output_type": "execute_result"
    }
   ],
   "source": [
    "trainer.train()"
   ]
  },
  {
   "cell_type": "markdown",
   "id": "878098b9",
   "metadata": {},
   "source": []
  },
  {
   "cell_type": "code",
   "execution_count": 34,
   "id": "a29e761c",
   "metadata": {},
   "outputs": [
    {
     "name": "stderr",
     "output_type": "stream",
     "text": [
      "Some weights of TimmWrapperForImageClassification were not initialized from the model checkpoint at timm/tiny_vit_5m_224.in1k and are newly initialized because the shapes did not match:\n",
      "- head.fc.bias: found shape torch.Size([1000]) in the checkpoint and torch.Size([10]) in the model instantiated\n",
      "- head.fc.weight: found shape torch.Size([1000, 320]) in the checkpoint and torch.Size([10, 320]) in the model instantiated\n",
      "You should probably TRAIN this model on a down-stream task to be able to use it for predictions and inference.\n"
     ]
    }
   ],
   "source": [
    "student_model = AutoModelForImageClassification.from_pretrained(\"timm/tiny_vit_5m_224.in1k\", num_labels=10, ignore_mismatched_sizes=True)"
   ]
  },
  {
   "cell_type": "code",
   "execution_count": 35,
   "id": "6e26dc2a",
   "metadata": {},
   "outputs": [],
   "source": [
    "training_args = base.get_training_args(output_dir=f\"~/results/{DATASET}/cifar10-random\", logging_dir=f\"~/logs/{DATASET}/cifar10-random\", remove_unused_columns=False)"
   ]
  },
  {
   "cell_type": "code",
   "execution_count": 36,
   "id": "fb394199",
   "metadata": {},
   "outputs": [],
   "source": [
    "base.reset_seed()"
   ]
  },
  {
   "cell_type": "code",
   "execution_count": 37,
   "id": "475e5f8b",
   "metadata": {},
   "outputs": [],
   "source": [
    "trainer = base.DistilTrainer(\n",
    "    student_model=student_model,\n",
    "    args=training_args,\n",
    "    train_dataset=train,\n",
    "    eval_dataset=eval,\n",
    "    compute_metrics=base.compute_metrics,\n",
    ")"
   ]
  },
  {
   "cell_type": "code",
   "execution_count": 38,
   "id": "9a6b5b6b",
   "metadata": {},
   "outputs": [
    {
     "data": {
      "text/html": [
       "\n",
       "    <div>\n",
       "      \n",
       "      <progress value='1565' max='1565' style='width:300px; height:20px; vertical-align: middle;'></progress>\n",
       "      [1565/1565 07:01, Epoch 5/5]\n",
       "    </div>\n",
       "    <table border=\"1\" class=\"dataframe\">\n",
       "  <thead>\n",
       " <tr style=\"text-align: left;\">\n",
       "      <th>Epoch</th>\n",
       "      <th>Training Loss</th>\n",
       "      <th>Validation Loss</th>\n",
       "      <th>Accuracy</th>\n",
       "      <th>Precision</th>\n",
       "      <th>Recall</th>\n",
       "      <th>F1</th>\n",
       "    </tr>\n",
       "  </thead>\n",
       "  <tbody>\n",
       "    <tr>\n",
       "      <td>1</td>\n",
       "      <td>0.417400</td>\n",
       "      <td>0.189456</td>\n",
       "      <td>0.950900</td>\n",
       "      <td>0.952940</td>\n",
       "      <td>0.950900</td>\n",
       "      <td>0.951353</td>\n",
       "    </tr>\n",
       "    <tr>\n",
       "      <td>2</td>\n",
       "      <td>0.156700</td>\n",
       "      <td>0.163709</td>\n",
       "      <td>0.962900</td>\n",
       "      <td>0.963876</td>\n",
       "      <td>0.963040</td>\n",
       "      <td>0.963123</td>\n",
       "    </tr>\n",
       "    <tr>\n",
       "      <td>3</td>\n",
       "      <td>0.130300</td>\n",
       "      <td>0.155766</td>\n",
       "      <td>0.965400</td>\n",
       "      <td>0.965561</td>\n",
       "      <td>0.965510</td>\n",
       "      <td>0.965500</td>\n",
       "    </tr>\n",
       "    <tr>\n",
       "      <td>4</td>\n",
       "      <td>0.119200</td>\n",
       "      <td>0.150646</td>\n",
       "      <td>0.968500</td>\n",
       "      <td>0.968681</td>\n",
       "      <td>0.968635</td>\n",
       "      <td>0.968623</td>\n",
       "    </tr>\n",
       "    <tr>\n",
       "      <td>5</td>\n",
       "      <td>0.114500</td>\n",
       "      <td>0.149010</td>\n",
       "      <td>0.969400</td>\n",
       "      <td>0.969656</td>\n",
       "      <td>0.969563</td>\n",
       "      <td>0.969531</td>\n",
       "    </tr>\n",
       "  </tbody>\n",
       "</table><p>"
      ],
      "text/plain": [
       "<IPython.core.display.HTML object>"
      ]
     },
     "metadata": {},
     "output_type": "display_data"
    },
    {
     "data": {
      "text/plain": [
       "TrainOutput(global_step=1565, training_loss=0.18759201829806685, metrics={'train_runtime': 422.6402, 'train_samples_per_second': 473.216, 'train_steps_per_second': 3.703, 'total_flos': 9.167108235264e+17, 'train_loss': 0.18759201829806685, 'epoch': 5.0})"
      ]
     },
     "execution_count": 38,
     "metadata": {},
     "output_type": "execute_result"
    }
   ],
   "source": [
    "trainer.train()"
   ]
  },
  {
   "cell_type": "code",
   "execution_count": 39,
   "id": "cbb026a8",
   "metadata": {},
   "outputs": [],
   "source": [
    "base.reset_seed()"
   ]
  },
  {
   "cell_type": "code",
   "execution_count": 40,
   "id": "714bb802",
   "metadata": {},
   "outputs": [
    {
     "name": "stderr",
     "output_type": "stream",
     "text": [
      "Some weights of TimmWrapperForImageClassification were not initialized from the model checkpoint at timm/tiny_vit_5m_224.in1k and are newly initialized because the shapes did not match:\n",
      "- head.fc.bias: found shape torch.Size([1000]) in the checkpoint and torch.Size([10]) in the model instantiated\n",
      "- head.fc.weight: found shape torch.Size([1000, 320]) in the checkpoint and torch.Size([10, 320]) in the model instantiated\n",
      "You should probably TRAIN this model on a down-stream task to be able to use it for predictions and inference.\n"
     ]
    }
   ],
   "source": [
    "student_model = AutoModelForImageClassification.from_pretrained(\"timm/tiny_vit_5m_224.in1k\", num_labels=10, ignore_mismatched_sizes=True)"
   ]
  },
  {
   "cell_type": "code",
   "execution_count": 41,
   "id": "10080167",
   "metadata": {},
   "outputs": [],
   "source": [
    "training_args = base.get_training_args(output_dir=f\"~/results/{DATASET}/cifar10-random-KD\", logging_dir=f\"~/logs/{DATASET}/cifar10-random-KD\", remove_unused_columns=False)"
   ]
  },
  {
   "cell_type": "code",
   "execution_count": 42,
   "id": "324c3a12",
   "metadata": {},
   "outputs": [],
   "source": [
    "base.reset_seed()"
   ]
  },
  {
   "cell_type": "code",
   "execution_count": 43,
   "id": "d981ccaa",
   "metadata": {},
   "outputs": [],
   "source": [
    "trainer = base.DistilTrainerInfer(\n",
    "    student_model=student_model,\n",
    "    teacher_model=teacher_model,\n",
    "    args=training_args,\n",
    "    train_dataset=train,\n",
    "    eval_dataset=eval,\n",
    "    compute_metrics=base.compute_metrics\n",
    ")"
   ]
  },
  {
   "cell_type": "code",
   "execution_count": 44,
   "id": "3edc4205",
   "metadata": {},
   "outputs": [
    {
     "data": {
      "text/html": [
       "\n",
       "    <div>\n",
       "      \n",
       "      <progress value='1565' max='1565' style='width:300px; height:20px; vertical-align: middle;'></progress>\n",
       "      [1565/1565 14:30, Epoch 5/5]\n",
       "    </div>\n",
       "    <table border=\"1\" class=\"dataframe\">\n",
       "  <thead>\n",
       " <tr style=\"text-align: left;\">\n",
       "      <th>Epoch</th>\n",
       "      <th>Training Loss</th>\n",
       "      <th>Validation Loss</th>\n",
       "      <th>Accuracy</th>\n",
       "      <th>Precision</th>\n",
       "      <th>Recall</th>\n",
       "      <th>F1</th>\n",
       "    </tr>\n",
       "  </thead>\n",
       "  <tbody>\n",
       "    <tr>\n",
       "      <td>1</td>\n",
       "      <td>0.401800</td>\n",
       "      <td>0.188737</td>\n",
       "      <td>0.948300</td>\n",
       "      <td>0.949496</td>\n",
       "      <td>0.948419</td>\n",
       "      <td>0.948627</td>\n",
       "    </tr>\n",
       "    <tr>\n",
       "      <td>2</td>\n",
       "      <td>0.156300</td>\n",
       "      <td>0.161348</td>\n",
       "      <td>0.960900</td>\n",
       "      <td>0.961397</td>\n",
       "      <td>0.961062</td>\n",
       "      <td>0.961114</td>\n",
       "    </tr>\n",
       "    <tr>\n",
       "      <td>3</td>\n",
       "      <td>0.130100</td>\n",
       "      <td>0.156382</td>\n",
       "      <td>0.964400</td>\n",
       "      <td>0.964838</td>\n",
       "      <td>0.964578</td>\n",
       "      <td>0.964591</td>\n",
       "    </tr>\n",
       "    <tr>\n",
       "      <td>4</td>\n",
       "      <td>0.119000</td>\n",
       "      <td>0.153967</td>\n",
       "      <td>0.965800</td>\n",
       "      <td>0.966014</td>\n",
       "      <td>0.965989</td>\n",
       "      <td>0.965932</td>\n",
       "    </tr>\n",
       "    <tr>\n",
       "      <td>5</td>\n",
       "      <td>0.114500</td>\n",
       "      <td>0.152464</td>\n",
       "      <td>0.966500</td>\n",
       "      <td>0.966777</td>\n",
       "      <td>0.966693</td>\n",
       "      <td>0.966662</td>\n",
       "    </tr>\n",
       "  </tbody>\n",
       "</table><p>"
      ],
      "text/plain": [
       "<IPython.core.display.HTML object>"
      ]
     },
     "metadata": {},
     "output_type": "display_data"
    },
    {
     "data": {
      "text/plain": [
       "TrainOutput(global_step=1565, training_loss=0.18433443989616613, metrics={'train_runtime': 872.1228, 'train_samples_per_second': 229.326, 'train_steps_per_second': 1.794, 'total_flos': 9.167108235264e+17, 'train_loss': 0.18433443989616613, 'epoch': 5.0})"
      ]
     },
     "execution_count": 44,
     "metadata": {},
     "output_type": "execute_result"
    }
   ],
   "source": [
    "trainer.train()"
   ]
  },
  {
   "cell_type": "code",
   "execution_count": 45,
   "id": "7c2f89ea",
   "metadata": {},
   "outputs": [
    {
     "name": "stderr",
     "output_type": "stream",
     "text": [
      "Some weights of TimmWrapperForImageClassification were not initialized from the model checkpoint at timm/tiny_vit_5m_224.in1k and are newly initialized because the shapes did not match:\n",
      "- head.fc.bias: found shape torch.Size([1000]) in the checkpoint and torch.Size([10]) in the model instantiated\n",
      "- head.fc.weight: found shape torch.Size([1000, 320]) in the checkpoint and torch.Size([10, 320]) in the model instantiated\n",
      "You should probably TRAIN this model on a down-stream task to be able to use it for predictions and inference.\n"
     ]
    }
   ],
   "source": [
    "student_model = AutoModelForImageClassification.from_pretrained(\"timm/tiny_vit_5m_224.in1k\", num_labels=10, ignore_mismatched_sizes=True)"
   ]
  },
  {
   "cell_type": "code",
   "execution_count": 46,
   "id": "1cef7827",
   "metadata": {},
   "outputs": [],
   "source": [
    "training_args = base.get_training_args(output_dir=f\"~/results/{DATASET}/cifar10-random\", logging_dir=f\"~/logs/{DATASET}/cifar10-random\", remove_unused_columns=False)"
   ]
  },
  {
   "cell_type": "code",
   "execution_count": 47,
   "id": "d564a91d",
   "metadata": {},
   "outputs": [],
   "source": [
    "base.reset_seed()"
   ]
  },
  {
   "cell_type": "code",
   "execution_count": 48,
   "id": "4dd1a5b5",
   "metadata": {},
   "outputs": [],
   "source": [
    "trainer = base.DistilTrainer(\n",
    "    student_model=student_model,\n",
    "    args=training_args,\n",
    "    train_dataset=train_combo,\n",
    "    eval_dataset=eval,\n",
    "    compute_metrics=base.compute_metrics,\n",
    ")"
   ]
  },
  {
   "cell_type": "code",
   "execution_count": 49,
   "id": "8ff11d0d",
   "metadata": {},
   "outputs": [
    {
     "data": {
      "text/html": [
       "\n",
       "    <div>\n",
       "      \n",
       "      <progress value='2665' max='2665' style='width:300px; height:20px; vertical-align: middle;'></progress>\n",
       "      [2665/2665 11:01, Epoch 5/5]\n",
       "    </div>\n",
       "    <table border=\"1\" class=\"dataframe\">\n",
       "  <thead>\n",
       " <tr style=\"text-align: left;\">\n",
       "      <th>Epoch</th>\n",
       "      <th>Training Loss</th>\n",
       "      <th>Validation Loss</th>\n",
       "      <th>Accuracy</th>\n",
       "      <th>Precision</th>\n",
       "      <th>Recall</th>\n",
       "      <th>F1</th>\n",
       "    </tr>\n",
       "  </thead>\n",
       "  <tbody>\n",
       "    <tr>\n",
       "      <td>1</td>\n",
       "      <td>0.370200</td>\n",
       "      <td>0.173078</td>\n",
       "      <td>0.958400</td>\n",
       "      <td>0.958540</td>\n",
       "      <td>0.958553</td>\n",
       "      <td>0.958462</td>\n",
       "    </tr>\n",
       "    <tr>\n",
       "      <td>2</td>\n",
       "      <td>0.174100</td>\n",
       "      <td>0.158141</td>\n",
       "      <td>0.963500</td>\n",
       "      <td>0.963699</td>\n",
       "      <td>0.963729</td>\n",
       "      <td>0.963606</td>\n",
       "    </tr>\n",
       "    <tr>\n",
       "      <td>3</td>\n",
       "      <td>0.148500</td>\n",
       "      <td>0.152017</td>\n",
       "      <td>0.968600</td>\n",
       "      <td>0.968772</td>\n",
       "      <td>0.968753</td>\n",
       "      <td>0.968724</td>\n",
       "    </tr>\n",
       "    <tr>\n",
       "      <td>4</td>\n",
       "      <td>0.138200</td>\n",
       "      <td>0.149792</td>\n",
       "      <td>0.970300</td>\n",
       "      <td>0.970588</td>\n",
       "      <td>0.970429</td>\n",
       "      <td>0.970433</td>\n",
       "    </tr>\n",
       "    <tr>\n",
       "      <td>5</td>\n",
       "      <td>0.133500</td>\n",
       "      <td>0.149073</td>\n",
       "      <td>0.969500</td>\n",
       "      <td>0.969806</td>\n",
       "      <td>0.969610</td>\n",
       "      <td>0.969647</td>\n",
       "    </tr>\n",
       "  </tbody>\n",
       "</table><p>"
      ],
      "text/plain": [
       "<IPython.core.display.HTML object>"
      ]
     },
     "metadata": {},
     "output_type": "display_data"
    },
    {
     "data": {
      "text/plain": [
       "TrainOutput(global_step=2665, training_loss=0.19291731957870398, metrics={'train_runtime': 662.5422, 'train_samples_per_second': 514.503, 'train_steps_per_second': 4.022, 'total_flos': 1.5624419276183962e+18, 'train_loss': 0.19291731957870398, 'epoch': 5.0})"
      ]
     },
     "execution_count": 49,
     "metadata": {},
     "output_type": "execute_result"
    }
   ],
   "source": [
    "trainer.train()"
   ]
  },
  {
   "cell_type": "code",
   "execution_count": 50,
   "id": "9e9eebd3",
   "metadata": {},
   "outputs": [],
   "source": [
    "base.reset_seed()"
   ]
  },
  {
   "cell_type": "code",
   "execution_count": 51,
   "id": "004e04ad",
   "metadata": {},
   "outputs": [
    {
     "name": "stderr",
     "output_type": "stream",
     "text": [
      "Some weights of TimmWrapperForImageClassification were not initialized from the model checkpoint at timm/tiny_vit_5m_224.in1k and are newly initialized because the shapes did not match:\n",
      "- head.fc.bias: found shape torch.Size([1000]) in the checkpoint and torch.Size([10]) in the model instantiated\n",
      "- head.fc.weight: found shape torch.Size([1000, 320]) in the checkpoint and torch.Size([10, 320]) in the model instantiated\n",
      "You should probably TRAIN this model on a down-stream task to be able to use it for predictions and inference.\n"
     ]
    }
   ],
   "source": [
    "student_model = AutoModelForImageClassification.from_pretrained(\"timm/tiny_vit_5m_224.in1k\", num_labels=10, ignore_mismatched_sizes=True)"
   ]
  },
  {
   "cell_type": "code",
   "execution_count": 52,
   "id": "96268ce9",
   "metadata": {},
   "outputs": [],
   "source": [
    "training_args = base.get_training_args(output_dir=f\"~/results/{DATASET}/cifar10-random-KD\", logging_dir=f\"~/logs/{DATASET}/cifar10-random-KD\", remove_unused_columns=False)"
   ]
  },
  {
   "cell_type": "code",
   "execution_count": 53,
   "id": "b0a8ad75",
   "metadata": {},
   "outputs": [],
   "source": [
    "base.reset_seed()"
   ]
  },
  {
   "cell_type": "code",
   "execution_count": 54,
   "id": "3b4ed0ff",
   "metadata": {},
   "outputs": [],
   "source": [
    "trainer = base.DistilTrainerInfer(\n",
    "    student_model=student_model,\n",
    "    teacher_model=teacher_model,\n",
    "    args=training_args,\n",
    "    train_dataset=train_combo,\n",
    "    eval_dataset=eval,\n",
    "    compute_metrics=base.compute_metrics\n",
    ")"
   ]
  },
  {
   "cell_type": "code",
   "execution_count": 55,
   "id": "c4bfc2f7",
   "metadata": {},
   "outputs": [
    {
     "data": {
      "text/html": [
       "\n",
       "    <div>\n",
       "      \n",
       "      <progress value='2665' max='2665' style='width:300px; height:20px; vertical-align: middle;'></progress>\n",
       "      [2665/2665 22:49, Epoch 5/5]\n",
       "    </div>\n",
       "    <table border=\"1\" class=\"dataframe\">\n",
       "  <thead>\n",
       " <tr style=\"text-align: left;\">\n",
       "      <th>Epoch</th>\n",
       "      <th>Training Loss</th>\n",
       "      <th>Validation Loss</th>\n",
       "      <th>Accuracy</th>\n",
       "      <th>Precision</th>\n",
       "      <th>Recall</th>\n",
       "      <th>F1</th>\n",
       "    </tr>\n",
       "  </thead>\n",
       "  <tbody>\n",
       "    <tr>\n",
       "      <td>1</td>\n",
       "      <td>0.376500</td>\n",
       "      <td>0.168763</td>\n",
       "      <td>0.958600</td>\n",
       "      <td>0.958967</td>\n",
       "      <td>0.958820</td>\n",
       "      <td>0.958730</td>\n",
       "    </tr>\n",
       "    <tr>\n",
       "      <td>2</td>\n",
       "      <td>0.193600</td>\n",
       "      <td>0.154750</td>\n",
       "      <td>0.965300</td>\n",
       "      <td>0.965452</td>\n",
       "      <td>0.965497</td>\n",
       "      <td>0.965386</td>\n",
       "    </tr>\n",
       "    <tr>\n",
       "      <td>3</td>\n",
       "      <td>0.170800</td>\n",
       "      <td>0.149874</td>\n",
       "      <td>0.969400</td>\n",
       "      <td>0.969623</td>\n",
       "      <td>0.969548</td>\n",
       "      <td>0.969538</td>\n",
       "    </tr>\n",
       "    <tr>\n",
       "      <td>4</td>\n",
       "      <td>0.160600</td>\n",
       "      <td>0.145816</td>\n",
       "      <td>0.971500</td>\n",
       "      <td>0.971699</td>\n",
       "      <td>0.971625</td>\n",
       "      <td>0.971635</td>\n",
       "    </tr>\n",
       "    <tr>\n",
       "      <td>5</td>\n",
       "      <td>0.156100</td>\n",
       "      <td>0.145137</td>\n",
       "      <td>0.970900</td>\n",
       "      <td>0.971132</td>\n",
       "      <td>0.971039</td>\n",
       "      <td>0.971059</td>\n",
       "    </tr>\n",
       "  </tbody>\n",
       "</table><p>"
      ],
      "text/plain": [
       "<IPython.core.display.HTML object>"
      ]
     },
     "metadata": {},
     "output_type": "display_data"
    },
    {
     "data": {
      "text/plain": [
       "TrainOutput(global_step=2665, training_loss=0.21153791187851784, metrics={'train_runtime': 1370.9898, 'train_samples_per_second': 248.638, 'train_steps_per_second': 1.944, 'total_flos': 1.5624419276183962e+18, 'train_loss': 0.21153791187851784, 'epoch': 5.0})"
      ]
     },
     "execution_count": 55,
     "metadata": {},
     "output_type": "execute_result"
    }
   ],
   "source": [
    "trainer.train()"
   ]
  }
 ],
 "metadata": {
  "kernelspec": {
   "display_name": "Python 3 (ipykernel)",
   "language": "python",
   "name": "python3"
  }
 },
 "nbformat": 4,
 "nbformat_minor": 5
}
