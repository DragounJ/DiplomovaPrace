{
 "cells": [
  {
   "cell_type": "markdown",
   "id": "b80e8fe1",
   "metadata": {},
   "source": [
    "# Notebook pro trénink s destilací nad datasetem CIFAR10\n",
    "V tomto notebooku je trénován MobileNetV2 nad datasetem CIFAR10, jako učitelsý model je využíván finetunued ViT nad stejným datasetem. \n",
    "\n",
    "MobileNetV2 je používán s náhodnou inicializací, tréninkem pouze klasifikační hlavy inicializovaného (předtrénovaného nad ImageNetem) MobileNetuV2 a trénink celého modelu, taktéž inicializovaného. Tyto tři úlohy jsou trénovány bězným způsobem a také s pomocí destilace výše zmíněného modelu.  \n",
    "\n",
    "Při destilaci je využíváno předpočítaných logitů ze sešitu precompute_logits."
   ]
  },
  {
   "cell_type": "markdown",
   "id": "54d1c726",
   "metadata": {},
   "source": [
    "## Import knihoven a definice metod"
   ]
  },
  {
   "cell_type": "code",
   "execution_count": 1,
   "id": "f7e7a26f-aa1f-4645-b3b3-4643ca8be2a4",
   "metadata": {},
   "outputs": [
    {
     "name": "stderr",
     "output_type": "stream",
     "text": [
      "[nltk_data] Downloading package averaged_perceptron_tagger to\n",
      "[nltk_data]     /home/jovyan/nltk_data...\n",
      "[nltk_data]   Package averaged_perceptron_tagger is already up-to-\n",
      "[nltk_data]       date!\n",
      "[nltk_data] Downloading package punkt to /home/jovyan/nltk_data...\n",
      "[nltk_data]   Package punkt is already up-to-date!\n",
      "[nltk_data] Downloading package punkt_tab to /home/jovyan/nltk_data...\n",
      "[nltk_data]   Package punkt_tab is already up-to-date!\n",
      "[nltk_data] Downloading package averaged_perceptron_tagger_eng to\n",
      "[nltk_data]     /home/jovyan/nltk_data...\n",
      "[nltk_data]   Package averaged_perceptron_tagger_eng is already up-to-\n",
      "[nltk_data]       date!\n"
     ]
    }
   ],
   "source": [
    "from transformers import Trainer, EarlyStoppingCallback, AutoModelForImageClassification\n",
    "from torch.utils.data import DataLoader, ConcatDataset\n",
    "import pandas as pd\n",
    "import optuna\n",
    "import torch\n",
    "import math\n",
    "import base\n",
    "import os"
   ]
  },
  {
   "cell_type": "code",
   "execution_count": null,
   "id": "5ce29a44",
   "metadata": {},
   "outputs": [],
   "source": [
    "dataset_part = base.get_dataset_part()"
   ]
  },
  {
   "cell_type": "markdown",
   "id": "4cf6897a",
   "metadata": {},
   "source": [
    "Resetování náhodného seedu pro replikovatelnost výsledků."
   ]
  },
  {
   "cell_type": "code",
   "execution_count": null,
   "id": "bd53a434",
   "metadata": {},
   "outputs": [],
   "source": [
    "base.reset_seed()"
   ]
  },
  {
   "cell_type": "code",
   "execution_count": 4,
   "id": "29b9ceef",
   "metadata": {},
   "outputs": [
    {
     "name": "stdout",
     "output_type": "stream",
     "text": [
      "GPU is available and will be used: NVIDIA A100 80GB PCIe MIG 2g.20gb\n"
     ]
    }
   ],
   "source": [
    "if torch.cuda.is_available():\n",
    "    device = torch.device(\"cuda\")\n",
    "    print(\"GPU is available and will be used:\", torch.cuda.get_device_name(0))\n",
    "else:\n",
    "    device = torch.device(\"cpu\")\n",
    "    print(\"GPU is not available, using CPU.\")"
   ]
  },
  {
   "cell_type": "markdown",
   "id": "59eb90dc",
   "metadata": {},
   "source": [
    "Provedení transformací nad datasetem."
   ]
  },
  {
   "cell_type": "code",
   "execution_count": 5,
   "id": "ec5b1934",
   "metadata": {},
   "outputs": [],
   "source": [
    "DATASET = \"cifar10\""
   ]
  },
  {
   "cell_type": "code",
   "execution_count": 6,
   "id": "8b74ce88",
   "metadata": {},
   "outputs": [],
   "source": [
    "transform = base.base_transforms()\n",
    "\n",
    "#Poslední train batch použijeme jako eval část...\n",
    "test = base.CustomCIFAR10L(root=f\"{os.path.expanduser('~')}/data/10-logits\", dataset_part=dataset_part.TEST, transform=transform)\n",
    "train = base.CustomCIFAR10L(root=f\"{os.path.expanduser('~')}/data/10-logits\", dataset_part=dataset_part.TRAIN, transform=transform)\n",
    "eval = base.CustomCIFAR10L(root=f\"{os.path.expanduser('~')}/data/10-logits\", dataset_part=dataset_part.EVAL, transform=transform)"
   ]
  },
  {
   "cell_type": "code",
   "execution_count": 7,
   "id": "d5f20702",
   "metadata": {},
   "outputs": [],
   "source": [
    "augment_transform = base.aug_transforms()\n",
    "train_aug = base.CustomCIFAR10L(root=f\"{os.path.expanduser('~')}/data/10-logits\", dataset_part=dataset_part.TRAIN, transform=augment_transform)"
   ]
  },
  {
   "cell_type": "code",
   "execution_count": 8,
   "id": "8892fc30",
   "metadata": {},
   "outputs": [
    {
     "data": {
      "application/vnd.jupyter.widget-view+json": {
       "model_id": "7f2438073cd247f79fbef0850b0cb3ac",
       "version_major": 2,
       "version_minor": 0
      },
      "text/plain": [
       "Removing entries from augmented dataset that are different from the base one - based on saved logits:   0%|   …"
      ]
     },
     "metadata": {},
     "output_type": "display_data"
    }
   ],
   "source": [
    "train_aug = base.remove_diff_pred_class(train, train_aug, pytorch_dataset=True)\n",
    "train_combo = ConcatDataset([train, train_aug])"
   ]
  },
  {
   "cell_type": "code",
   "execution_count": null,
   "id": "b36ab156",
   "metadata": {},
   "outputs": [
    {
     "name": "stdout",
     "output_type": "stream",
     "text": [
      "0\n",
      "5    1025\n",
      "9    1022\n",
      "3    1016\n",
      "0    1014\n",
      "1    1014\n",
      "8    1003\n",
      "4     997\n",
      "6     980\n",
      "7     977\n",
      "2     952\n",
      "Name: count, dtype: int64\n"
     ]
    }
   ],
   "source": [
    "# Test rozložení --> Good Enough\n",
    "df = pd.DataFrame(eval.labels)\n",
    "print(df.value_counts())"
   ]
  },
  {
   "cell_type": "markdown",
   "id": "c6a85914",
   "metadata": {},
   "source": [
    "### Standardní trénink náhodně inicializovaného modelu. "
   ]
  },
  {
   "cell_type": "code",
   "execution_count": null,
   "id": "fa456108",
   "metadata": {},
   "outputs": [],
   "source": [
    "num_epochs = 7\n",
    "batch_size = 128"
   ]
  },
  {
   "cell_type": "code",
   "execution_count": null,
   "id": "71481756",
   "metadata": {},
   "outputs": [],
   "source": [
    "#Nápočet epoch na steps\n",
    "data_length = len(train)\n",
    "min_r = math.ceil(data_length/batch_size)*2\n",
    "max_r = math.ceil(data_length/batch_size)*num_epochs\n",
    "warm_up = math.ceil(data_length/batch_size/10)"
   ]
  },
  {
   "cell_type": "code",
   "execution_count": 12,
   "id": "1b1cf201",
   "metadata": {},
   "outputs": [],
   "source": [
    "def hp_space(trial):\n",
    "    params =  {\n",
    "        \"learning_rate\": trial.suggest_float(\"learning_rate\", 5e-5, 5e-3, log=True),\n",
    "        \"weight_decay\": trial.suggest_float(\"weight_decay\", 0, 1e-2, step=1e-3),\n",
    "        \"warmup_steps\" : trial.suggest_int(\"warmup_steps\", 0, warm_up)\n",
    "    }   \n",
    "    print(f\"Trial {trial.number} with params: {params}\")\n",
    "    return params"
   ]
  },
  {
   "cell_type": "code",
   "execution_count": null,
   "id": "10b540bf",
   "metadata": {},
   "outputs": [
    {
     "name": "stderr",
     "output_type": "stream",
     "text": [
      "/usr/local/lib/python3.10/dist-packages/optuna/_experimental.py:31: ExperimentalWarning: Argument ``multivariate`` is an experimental feature. The interface can change in the future.\n",
      "  warnings.warn(\n"
     ]
    }
   ],
   "source": [
    "pruner = optuna.pruners.HyperbandPruner(min_resource=min_r, max_resource=max_r, reduction_factor=2, bootstrap_count=2)\n",
    "sampler = optuna.samplers.TPESampler(seed=42, multivariate=True)"
   ]
  },
  {
   "cell_type": "code",
   "execution_count": null,
   "id": "bfdd0c66",
   "metadata": {},
   "outputs": [],
   "source": [
    "base.reset_seed()"
   ]
  },
  {
   "cell_type": "code",
   "execution_count": 15,
   "id": "15c07c5d",
   "metadata": {},
   "outputs": [],
   "source": [
    "training_args = base.get_training_args(output_dir=f\"~/results/{DATASET}/_hp-search\", logging_dir=f\"~/logs/{DATASET}/_hp-search\", epochs=num_epochs, batch_size=batch_size)"
   ]
  },
  {
   "cell_type": "code",
   "execution_count": null,
   "id": "035b3241",
   "metadata": {},
   "outputs": [],
   "source": [
    "def get_model():\n",
    "    return AutoModelForImageClassification.from_pretrained(\"timm/tiny_vit_5m_224.in1k\", num_labels=10, ignore_mismatched_sizes=True)"
   ]
  },
  {
   "cell_type": "code",
   "execution_count": 17,
   "id": "8cc2f65a",
   "metadata": {},
   "outputs": [
    {
     "name": "stderr",
     "output_type": "stream",
     "text": [
      "Some weights of TimmWrapperForImageClassification were not initialized from the model checkpoint at timm/tiny_vit_5m_224.in1k and are newly initialized because the shapes did not match:\n",
      "- head.fc.bias: found shape torch.Size([1000]) in the checkpoint and torch.Size([10]) in the model instantiated\n",
      "- head.fc.weight: found shape torch.Size([1000, 320]) in the checkpoint and torch.Size([10, 320]) in the model instantiated\n",
      "You should probably TRAIN this model on a down-stream task to be able to use it for predictions and inference.\n"
     ]
    }
   ],
   "source": [
    "trainer = Trainer(\n",
    "    args=training_args,\n",
    "    train_dataset=train,\n",
    "    eval_dataset=eval,\n",
    "    compute_metrics=base.compute_metrics,\n",
    "    model_init = lambda: get_model()\n",
    ")\n",
    "  "
   ]
  },
  {
   "cell_type": "code",
   "execution_count": 18,
   "id": "9524e916",
   "metadata": {},
   "outputs": [
    {
     "name": "stderr",
     "output_type": "stream",
     "text": [
      "[I 2025-03-29 16:18:44,733] A new study created in memory with name: Base\n"
     ]
    },
    {
     "name": "stdout",
     "output_type": "stream",
     "text": [
      "Trial 0 with params: {'learning_rate': 0.0002805758207667253, 'weight_decay': 0.01, 'warmup_steps': 24}\n"
     ]
    },
    {
     "name": "stderr",
     "output_type": "stream",
     "text": [
      "Some weights of TimmWrapperForImageClassification were not initialized from the model checkpoint at timm/tiny_vit_5m_224.in1k and are newly initialized because the shapes did not match:\n",
      "- head.fc.bias: found shape torch.Size([1000]) in the checkpoint and torch.Size([10]) in the model instantiated\n",
      "- head.fc.weight: found shape torch.Size([1000, 320]) in the checkpoint and torch.Size([10, 320]) in the model instantiated\n",
      "You should probably TRAIN this model on a down-stream task to be able to use it for predictions and inference.\n"
     ]
    },
    {
     "data": {
      "text/html": [
       "\n",
       "    <div>\n",
       "      \n",
       "      <progress value='1252' max='2191' style='width:300px; height:20px; vertical-align: middle;'></progress>\n",
       "      [1252/2191 10:40 < 08:01, 1.95 it/s, Epoch 4/7]\n",
       "    </div>\n",
       "    <table border=\"1\" class=\"dataframe\">\n",
       "  <thead>\n",
       " <tr style=\"text-align: left;\">\n",
       "      <th>Epoch</th>\n",
       "      <th>Training Loss</th>\n",
       "      <th>Validation Loss</th>\n",
       "      <th>Accuracy</th>\n",
       "      <th>Precision</th>\n",
       "      <th>Recall</th>\n",
       "      <th>F1</th>\n",
       "    </tr>\n",
       "  </thead>\n",
       "  <tbody>\n",
       "    <tr>\n",
       "      <td>1</td>\n",
       "      <td>0.442700</td>\n",
       "      <td>0.264957</td>\n",
       "      <td>0.911700</td>\n",
       "      <td>0.919823</td>\n",
       "      <td>0.911798</td>\n",
       "      <td>0.911894</td>\n",
       "    </tr>\n",
       "    <tr>\n",
       "      <td>2</td>\n",
       "      <td>0.138400</td>\n",
       "      <td>0.190786</td>\n",
       "      <td>0.937400</td>\n",
       "      <td>0.939950</td>\n",
       "      <td>0.937880</td>\n",
       "      <td>0.937399</td>\n",
       "    </tr>\n",
       "    <tr>\n",
       "      <td>3</td>\n",
       "      <td>0.074700</td>\n",
       "      <td>0.146533</td>\n",
       "      <td>0.955900</td>\n",
       "      <td>0.956957</td>\n",
       "      <td>0.955881</td>\n",
       "      <td>0.956239</td>\n",
       "    </tr>\n",
       "    <tr>\n",
       "      <td>4</td>\n",
       "      <td>0.042500</td>\n",
       "      <td>0.150831</td>\n",
       "      <td>0.958400</td>\n",
       "      <td>0.958616</td>\n",
       "      <td>0.958541</td>\n",
       "      <td>0.958336</td>\n",
       "    </tr>\n",
       "  </tbody>\n",
       "</table><p>"
      ],
      "text/plain": [
       "<IPython.core.display.HTML object>"
      ]
     },
     "metadata": {},
     "output_type": "display_data"
    },
    {
     "name": "stderr",
     "output_type": "stream",
     "text": [
      "[I 2025-03-29 16:29:31,752] Trial 0 pruned. \n"
     ]
    },
    {
     "name": "stdout",
     "output_type": "stream",
     "text": [
      "Trial 1 with params: {'learning_rate': 0.0007875660249889869, 'weight_decay': 0.001, 'warmup_steps': 5}\n"
     ]
    },
    {
     "name": "stderr",
     "output_type": "stream",
     "text": [
      "Some weights of TimmWrapperForImageClassification were not initialized from the model checkpoint at timm/tiny_vit_5m_224.in1k and are newly initialized because the shapes did not match:\n",
      "- head.fc.bias: found shape torch.Size([1000]) in the checkpoint and torch.Size([10]) in the model instantiated\n",
      "- head.fc.weight: found shape torch.Size([1000, 320]) in the checkpoint and torch.Size([10, 320]) in the model instantiated\n",
      "You should probably TRAIN this model on a down-stream task to be able to use it for predictions and inference.\n"
     ]
    },
    {
     "data": {
      "text/html": [
       "\n",
       "    <div>\n",
       "      \n",
       "      <progress value='626' max='2191' style='width:300px; height:20px; vertical-align: middle;'></progress>\n",
       "      [ 626/2191 05:17 < 13:16, 1.97 it/s, Epoch 2/7]\n",
       "    </div>\n",
       "    <table border=\"1\" class=\"dataframe\">\n",
       "  <thead>\n",
       " <tr style=\"text-align: left;\">\n",
       "      <th>Epoch</th>\n",
       "      <th>Training Loss</th>\n",
       "      <th>Validation Loss</th>\n",
       "      <th>Accuracy</th>\n",
       "      <th>Precision</th>\n",
       "      <th>Recall</th>\n",
       "      <th>F1</th>\n",
       "    </tr>\n",
       "  </thead>\n",
       "  <tbody>\n",
       "    <tr>\n",
       "      <td>1</td>\n",
       "      <td>0.551400</td>\n",
       "      <td>0.417730</td>\n",
       "      <td>0.855700</td>\n",
       "      <td>0.882328</td>\n",
       "      <td>0.856370</td>\n",
       "      <td>0.855427</td>\n",
       "    </tr>\n",
       "    <tr>\n",
       "      <td>2</td>\n",
       "      <td>0.278400</td>\n",
       "      <td>0.339531</td>\n",
       "      <td>0.881900</td>\n",
       "      <td>0.892951</td>\n",
       "      <td>0.882365</td>\n",
       "      <td>0.880033</td>\n",
       "    </tr>\n",
       "  </tbody>\n",
       "</table><p>"
      ],
      "text/plain": [
       "<IPython.core.display.HTML object>"
      ]
     },
     "metadata": {},
     "output_type": "display_data"
    },
    {
     "name": "stderr",
     "output_type": "stream",
     "text": [
      "[I 2025-03-29 16:34:52,224] Trial 1 pruned. \n"
     ]
    },
    {
     "name": "stdout",
     "output_type": "stream",
     "text": [
      "Trial 2 with params: {'learning_rate': 6.533369619026643e-05, 'weight_decay': 0.009000000000000001, 'warmup_steps': 19}\n"
     ]
    },
    {
     "name": "stderr",
     "output_type": "stream",
     "text": [
      "Some weights of TimmWrapperForImageClassification were not initialized from the model checkpoint at timm/tiny_vit_5m_224.in1k and are newly initialized because the shapes did not match:\n",
      "- head.fc.bias: found shape torch.Size([1000]) in the checkpoint and torch.Size([10]) in the model instantiated\n",
      "- head.fc.weight: found shape torch.Size([1000, 320]) in the checkpoint and torch.Size([10, 320]) in the model instantiated\n",
      "You should probably TRAIN this model on a down-stream task to be able to use it for predictions and inference.\n"
     ]
    },
    {
     "data": {
      "text/html": [
       "\n",
       "    <div>\n",
       "      \n",
       "      <progress value='1252' max='2191' style='width:300px; height:20px; vertical-align: middle;'></progress>\n",
       "      [1252/2191 10:42 < 08:02, 1.95 it/s, Epoch 4/7]\n",
       "    </div>\n",
       "    <table border=\"1\" class=\"dataframe\">\n",
       "  <thead>\n",
       " <tr style=\"text-align: left;\">\n",
       "      <th>Epoch</th>\n",
       "      <th>Training Loss</th>\n",
       "      <th>Validation Loss</th>\n",
       "      <th>Accuracy</th>\n",
       "      <th>Precision</th>\n",
       "      <th>Recall</th>\n",
       "      <th>F1</th>\n",
       "    </tr>\n",
       "  </thead>\n",
       "  <tbody>\n",
       "    <tr>\n",
       "      <td>1</td>\n",
       "      <td>0.526600</td>\n",
       "      <td>0.174688</td>\n",
       "      <td>0.945100</td>\n",
       "      <td>0.947232</td>\n",
       "      <td>0.945241</td>\n",
       "      <td>0.945465</td>\n",
       "    </tr>\n",
       "    <tr>\n",
       "      <td>2</td>\n",
       "      <td>0.092200</td>\n",
       "      <td>0.130627</td>\n",
       "      <td>0.956200</td>\n",
       "      <td>0.956605</td>\n",
       "      <td>0.956430</td>\n",
       "      <td>0.956280</td>\n",
       "    </tr>\n",
       "    <tr>\n",
       "      <td>3</td>\n",
       "      <td>0.039600</td>\n",
       "      <td>0.123040</td>\n",
       "      <td>0.961800</td>\n",
       "      <td>0.961901</td>\n",
       "      <td>0.962067</td>\n",
       "      <td>0.961894</td>\n",
       "    </tr>\n",
       "    <tr>\n",
       "      <td>4</td>\n",
       "      <td>0.016100</td>\n",
       "      <td>0.121924</td>\n",
       "      <td>0.969600</td>\n",
       "      <td>0.969720</td>\n",
       "      <td>0.969756</td>\n",
       "      <td>0.969725</td>\n",
       "    </tr>\n",
       "  </tbody>\n",
       "</table><p>"
      ],
      "text/plain": [
       "<IPython.core.display.HTML object>"
      ]
     },
     "metadata": {},
     "output_type": "display_data"
    },
    {
     "name": "stderr",
     "output_type": "stream",
     "text": [
      "[I 2025-03-29 16:45:37,164] Trial 2 pruned. \n"
     ]
    },
    {
     "name": "stdout",
     "output_type": "stream",
     "text": [
      "Trial 3 with params: {'learning_rate': 0.0013035123791853842, 'weight_decay': 0.0, 'warmup_steps': 32}\n"
     ]
    },
    {
     "name": "stderr",
     "output_type": "stream",
     "text": [
      "Some weights of TimmWrapperForImageClassification were not initialized from the model checkpoint at timm/tiny_vit_5m_224.in1k and are newly initialized because the shapes did not match:\n",
      "- head.fc.bias: found shape torch.Size([1000]) in the checkpoint and torch.Size([10]) in the model instantiated\n",
      "- head.fc.weight: found shape torch.Size([1000, 320]) in the checkpoint and torch.Size([10, 320]) in the model instantiated\n",
      "You should probably TRAIN this model on a down-stream task to be able to use it for predictions and inference.\n"
     ]
    },
    {
     "data": {
      "text/html": [
       "\n",
       "    <div>\n",
       "      \n",
       "      <progress value='626' max='2191' style='width:300px; height:20px; vertical-align: middle;'></progress>\n",
       "      [ 626/2191 05:19 < 13:21, 1.95 it/s, Epoch 2/7]\n",
       "    </div>\n",
       "    <table border=\"1\" class=\"dataframe\">\n",
       "  <thead>\n",
       " <tr style=\"text-align: left;\">\n",
       "      <th>Epoch</th>\n",
       "      <th>Training Loss</th>\n",
       "      <th>Validation Loss</th>\n",
       "      <th>Accuracy</th>\n",
       "      <th>Precision</th>\n",
       "      <th>Recall</th>\n",
       "      <th>F1</th>\n",
       "    </tr>\n",
       "  </thead>\n",
       "  <tbody>\n",
       "    <tr>\n",
       "      <td>1</td>\n",
       "      <td>0.816200</td>\n",
       "      <td>0.680534</td>\n",
       "      <td>0.768200</td>\n",
       "      <td>0.795655</td>\n",
       "      <td>0.768655</td>\n",
       "      <td>0.766107</td>\n",
       "    </tr>\n",
       "    <tr>\n",
       "      <td>2</td>\n",
       "      <td>0.459400</td>\n",
       "      <td>0.387826</td>\n",
       "      <td>0.865900</td>\n",
       "      <td>0.870784</td>\n",
       "      <td>0.866465</td>\n",
       "      <td>0.865212</td>\n",
       "    </tr>\n",
       "  </tbody>\n",
       "</table><p>"
      ],
      "text/plain": [
       "<IPython.core.display.HTML object>"
      ]
     },
     "metadata": {},
     "output_type": "display_data"
    },
    {
     "name": "stderr",
     "output_type": "stream",
     "text": [
      "[I 2025-03-29 16:50:59,362] Trial 3 pruned. \n"
     ]
    },
    {
     "name": "stdout",
     "output_type": "stream",
     "text": [
      "Trial 4 with params: {'learning_rate': 0.002311294500510415, 'weight_decay': 0.002, 'warmup_steps': 6}\n"
     ]
    },
    {
     "name": "stderr",
     "output_type": "stream",
     "text": [
      "Some weights of TimmWrapperForImageClassification were not initialized from the model checkpoint at timm/tiny_vit_5m_224.in1k and are newly initialized because the shapes did not match:\n",
      "- head.fc.bias: found shape torch.Size([1000]) in the checkpoint and torch.Size([10]) in the model instantiated\n",
      "- head.fc.weight: found shape torch.Size([1000, 320]) in the checkpoint and torch.Size([10, 320]) in the model instantiated\n",
      "You should probably TRAIN this model on a down-stream task to be able to use it for predictions and inference.\n"
     ]
    },
    {
     "data": {
      "text/html": [
       "\n",
       "    <div>\n",
       "      \n",
       "      <progress value='1252' max='2191' style='width:300px; height:20px; vertical-align: middle;'></progress>\n",
       "      [1252/2191 10:44 < 08:04, 1.94 it/s, Epoch 4/7]\n",
       "    </div>\n",
       "    <table border=\"1\" class=\"dataframe\">\n",
       "  <thead>\n",
       " <tr style=\"text-align: left;\">\n",
       "      <th>Epoch</th>\n",
       "      <th>Training Loss</th>\n",
       "      <th>Validation Loss</th>\n",
       "      <th>Accuracy</th>\n",
       "      <th>Precision</th>\n",
       "      <th>Recall</th>\n",
       "      <th>F1</th>\n",
       "    </tr>\n",
       "  </thead>\n",
       "  <tbody>\n",
       "    <tr>\n",
       "      <td>1</td>\n",
       "      <td>1.352800</td>\n",
       "      <td>1.407308</td>\n",
       "      <td>0.522800</td>\n",
       "      <td>0.576865</td>\n",
       "      <td>0.523670</td>\n",
       "      <td>0.493646</td>\n",
       "    </tr>\n",
       "    <tr>\n",
       "      <td>2</td>\n",
       "      <td>0.999400</td>\n",
       "      <td>1.008663</td>\n",
       "      <td>0.655800</td>\n",
       "      <td>0.681690</td>\n",
       "      <td>0.657148</td>\n",
       "      <td>0.643225</td>\n",
       "    </tr>\n",
       "    <tr>\n",
       "      <td>3</td>\n",
       "      <td>0.778700</td>\n",
       "      <td>0.749806</td>\n",
       "      <td>0.749100</td>\n",
       "      <td>0.763195</td>\n",
       "      <td>0.749192</td>\n",
       "      <td>0.747998</td>\n",
       "    </tr>\n",
       "    <tr>\n",
       "      <td>4</td>\n",
       "      <td>0.615900</td>\n",
       "      <td>0.661946</td>\n",
       "      <td>0.771600</td>\n",
       "      <td>0.795378</td>\n",
       "      <td>0.771904</td>\n",
       "      <td>0.773470</td>\n",
       "    </tr>\n",
       "  </tbody>\n",
       "</table><p>"
      ],
      "text/plain": [
       "<IPython.core.display.HTML object>"
      ]
     },
     "metadata": {},
     "output_type": "display_data"
    },
    {
     "name": "stderr",
     "output_type": "stream",
     "text": [
      "[I 2025-03-29 17:01:46,736] Trial 4 pruned. \n"
     ]
    },
    {
     "name": "stdout",
     "output_type": "stream",
     "text": [
      "Trial 5 with params: {'learning_rate': 0.00011635338541918901, 'weight_decay': 0.003, 'warmup_steps': 17}\n"
     ]
    },
    {
     "name": "stderr",
     "output_type": "stream",
     "text": [
      "Some weights of TimmWrapperForImageClassification were not initialized from the model checkpoint at timm/tiny_vit_5m_224.in1k and are newly initialized because the shapes did not match:\n",
      "- head.fc.bias: found shape torch.Size([1000]) in the checkpoint and torch.Size([10]) in the model instantiated\n",
      "- head.fc.weight: found shape torch.Size([1000, 320]) in the checkpoint and torch.Size([10, 320]) in the model instantiated\n",
      "You should probably TRAIN this model on a down-stream task to be able to use it for predictions and inference.\n"
     ]
    },
    {
     "data": {
      "text/html": [
       "\n",
       "    <div>\n",
       "      \n",
       "      <progress value='1252' max='2191' style='width:300px; height:20px; vertical-align: middle;'></progress>\n",
       "      [1252/2191 10:40 < 08:00, 1.95 it/s, Epoch 4/7]\n",
       "    </div>\n",
       "    <table border=\"1\" class=\"dataframe\">\n",
       "  <thead>\n",
       " <tr style=\"text-align: left;\">\n",
       "      <th>Epoch</th>\n",
       "      <th>Training Loss</th>\n",
       "      <th>Validation Loss</th>\n",
       "      <th>Accuracy</th>\n",
       "      <th>Precision</th>\n",
       "      <th>Recall</th>\n",
       "      <th>F1</th>\n",
       "    </tr>\n",
       "  </thead>\n",
       "  <tbody>\n",
       "    <tr>\n",
       "      <td>1</td>\n",
       "      <td>0.440300</td>\n",
       "      <td>0.168277</td>\n",
       "      <td>0.946800</td>\n",
       "      <td>0.948930</td>\n",
       "      <td>0.946834</td>\n",
       "      <td>0.947092</td>\n",
       "    </tr>\n",
       "    <tr>\n",
       "      <td>2</td>\n",
       "      <td>0.088000</td>\n",
       "      <td>0.123281</td>\n",
       "      <td>0.961200</td>\n",
       "      <td>0.961262</td>\n",
       "      <td>0.961493</td>\n",
       "      <td>0.961186</td>\n",
       "    </tr>\n",
       "    <tr>\n",
       "      <td>3</td>\n",
       "      <td>0.041100</td>\n",
       "      <td>0.120905</td>\n",
       "      <td>0.964700</td>\n",
       "      <td>0.965272</td>\n",
       "      <td>0.964700</td>\n",
       "      <td>0.964859</td>\n",
       "    </tr>\n",
       "    <tr>\n",
       "      <td>4</td>\n",
       "      <td>0.017500</td>\n",
       "      <td>0.132797</td>\n",
       "      <td>0.967900</td>\n",
       "      <td>0.968150</td>\n",
       "      <td>0.968049</td>\n",
       "      <td>0.968094</td>\n",
       "    </tr>\n",
       "  </tbody>\n",
       "</table><p>"
      ],
      "text/plain": [
       "<IPython.core.display.HTML object>"
      ]
     },
     "metadata": {},
     "output_type": "display_data"
    },
    {
     "name": "stderr",
     "output_type": "stream",
     "text": [
      "[I 2025-03-29 17:12:29,708] Trial 5 pruned. \n"
     ]
    },
    {
     "name": "stdout",
     "output_type": "stream",
     "text": [
      "Trial 6 with params: {'learning_rate': 0.0003654769917956456, 'weight_decay': 0.003, 'warmup_steps': 20}\n"
     ]
    },
    {
     "name": "stderr",
     "output_type": "stream",
     "text": [
      "Some weights of TimmWrapperForImageClassification were not initialized from the model checkpoint at timm/tiny_vit_5m_224.in1k and are newly initialized because the shapes did not match:\n",
      "- head.fc.bias: found shape torch.Size([1000]) in the checkpoint and torch.Size([10]) in the model instantiated\n",
      "- head.fc.weight: found shape torch.Size([1000, 320]) in the checkpoint and torch.Size([10, 320]) in the model instantiated\n",
      "You should probably TRAIN this model on a down-stream task to be able to use it for predictions and inference.\n"
     ]
    },
    {
     "data": {
      "text/html": [
       "\n",
       "    <div>\n",
       "      \n",
       "      <progress value='1252' max='2191' style='width:300px; height:20px; vertical-align: middle;'></progress>\n",
       "      [1252/2191 10:41 < 08:01, 1.95 it/s, Epoch 4/7]\n",
       "    </div>\n",
       "    <table border=\"1\" class=\"dataframe\">\n",
       "  <thead>\n",
       " <tr style=\"text-align: left;\">\n",
       "      <th>Epoch</th>\n",
       "      <th>Training Loss</th>\n",
       "      <th>Validation Loss</th>\n",
       "      <th>Accuracy</th>\n",
       "      <th>Precision</th>\n",
       "      <th>Recall</th>\n",
       "      <th>F1</th>\n",
       "    </tr>\n",
       "  </thead>\n",
       "  <tbody>\n",
       "    <tr>\n",
       "      <td>1</td>\n",
       "      <td>0.451000</td>\n",
       "      <td>0.227819</td>\n",
       "      <td>0.922900</td>\n",
       "      <td>0.926144</td>\n",
       "      <td>0.923448</td>\n",
       "      <td>0.923253</td>\n",
       "    </tr>\n",
       "    <tr>\n",
       "      <td>2</td>\n",
       "      <td>0.157800</td>\n",
       "      <td>0.209714</td>\n",
       "      <td>0.930100</td>\n",
       "      <td>0.937129</td>\n",
       "      <td>0.930442</td>\n",
       "      <td>0.930244</td>\n",
       "    </tr>\n",
       "    <tr>\n",
       "      <td>3</td>\n",
       "      <td>0.097100</td>\n",
       "      <td>0.160412</td>\n",
       "      <td>0.950200</td>\n",
       "      <td>0.950742</td>\n",
       "      <td>0.950349</td>\n",
       "      <td>0.950313</td>\n",
       "    </tr>\n",
       "    <tr>\n",
       "      <td>4</td>\n",
       "      <td>0.055300</td>\n",
       "      <td>0.151367</td>\n",
       "      <td>0.957300</td>\n",
       "      <td>0.958074</td>\n",
       "      <td>0.957273</td>\n",
       "      <td>0.957539</td>\n",
       "    </tr>\n",
       "  </tbody>\n",
       "</table><p>"
      ],
      "text/plain": [
       "<IPython.core.display.HTML object>"
      ]
     },
     "metadata": {},
     "output_type": "display_data"
    },
    {
     "name": "stderr",
     "output_type": "stream",
     "text": [
      "[I 2025-03-29 17:23:13,998] Trial 6 pruned. \n"
     ]
    },
    {
     "name": "stdout",
     "output_type": "stream",
     "text": [
      "Trial 7 with params: {'learning_rate': 9.505122659935192e-05, 'weight_decay': 0.003, 'warmup_steps': 12}\n"
     ]
    },
    {
     "name": "stderr",
     "output_type": "stream",
     "text": [
      "Some weights of TimmWrapperForImageClassification were not initialized from the model checkpoint at timm/tiny_vit_5m_224.in1k and are newly initialized because the shapes did not match:\n",
      "- head.fc.bias: found shape torch.Size([1000]) in the checkpoint and torch.Size([10]) in the model instantiated\n",
      "- head.fc.weight: found shape torch.Size([1000, 320]) in the checkpoint and torch.Size([10, 320]) in the model instantiated\n",
      "You should probably TRAIN this model on a down-stream task to be able to use it for predictions and inference.\n"
     ]
    },
    {
     "data": {
      "text/html": [
       "\n",
       "    <div>\n",
       "      \n",
       "      <progress value='1252' max='2191' style='width:300px; height:20px; vertical-align: middle;'></progress>\n",
       "      [1252/2191 10:43 < 08:03, 1.94 it/s, Epoch 4/7]\n",
       "    </div>\n",
       "    <table border=\"1\" class=\"dataframe\">\n",
       "  <thead>\n",
       " <tr style=\"text-align: left;\">\n",
       "      <th>Epoch</th>\n",
       "      <th>Training Loss</th>\n",
       "      <th>Validation Loss</th>\n",
       "      <th>Accuracy</th>\n",
       "      <th>Precision</th>\n",
       "      <th>Recall</th>\n",
       "      <th>F1</th>\n",
       "    </tr>\n",
       "  </thead>\n",
       "  <tbody>\n",
       "    <tr>\n",
       "      <td>1</td>\n",
       "      <td>0.449500</td>\n",
       "      <td>0.168017</td>\n",
       "      <td>0.944200</td>\n",
       "      <td>0.947011</td>\n",
       "      <td>0.944150</td>\n",
       "      <td>0.944740</td>\n",
       "    </tr>\n",
       "    <tr>\n",
       "      <td>2</td>\n",
       "      <td>0.087700</td>\n",
       "      <td>0.130934</td>\n",
       "      <td>0.956500</td>\n",
       "      <td>0.957313</td>\n",
       "      <td>0.956724</td>\n",
       "      <td>0.956609</td>\n",
       "    </tr>\n",
       "    <tr>\n",
       "      <td>3</td>\n",
       "      <td>0.038200</td>\n",
       "      <td>0.115613</td>\n",
       "      <td>0.965300</td>\n",
       "      <td>0.965487</td>\n",
       "      <td>0.965489</td>\n",
       "      <td>0.965436</td>\n",
       "    </tr>\n",
       "    <tr>\n",
       "      <td>4</td>\n",
       "      <td>0.014600</td>\n",
       "      <td>0.132549</td>\n",
       "      <td>0.966200</td>\n",
       "      <td>0.966456</td>\n",
       "      <td>0.966369</td>\n",
       "      <td>0.966374</td>\n",
       "    </tr>\n",
       "  </tbody>\n",
       "</table><p>"
      ],
      "text/plain": [
       "<IPython.core.display.HTML object>"
      ]
     },
     "metadata": {},
     "output_type": "display_data"
    },
    {
     "name": "stderr",
     "output_type": "stream",
     "text": [
      "[I 2025-03-29 17:33:59,659] Trial 7 pruned. \n"
     ]
    },
    {
     "name": "stdout",
     "output_type": "stream",
     "text": [
      "Trial 8 with params: {'learning_rate': 0.00040842279473800845, 'weight_decay': 0.008, 'warmup_steps': 6}\n"
     ]
    },
    {
     "name": "stderr",
     "output_type": "stream",
     "text": [
      "Some weights of TimmWrapperForImageClassification were not initialized from the model checkpoint at timm/tiny_vit_5m_224.in1k and are newly initialized because the shapes did not match:\n",
      "- head.fc.bias: found shape torch.Size([1000]) in the checkpoint and torch.Size([10]) in the model instantiated\n",
      "- head.fc.weight: found shape torch.Size([1000, 320]) in the checkpoint and torch.Size([10, 320]) in the model instantiated\n",
      "You should probably TRAIN this model on a down-stream task to be able to use it for predictions and inference.\n"
     ]
    },
    {
     "data": {
      "text/html": [
       "\n",
       "    <div>\n",
       "      \n",
       "      <progress value='626' max='2191' style='width:300px; height:20px; vertical-align: middle;'></progress>\n",
       "      [ 626/2191 03:35 < 08:59, 2.90 it/s, Epoch 2/7]\n",
       "    </div>\n",
       "    <table border=\"1\" class=\"dataframe\">\n",
       "  <thead>\n",
       " <tr style=\"text-align: left;\">\n",
       "      <th>Epoch</th>\n",
       "      <th>Training Loss</th>\n",
       "      <th>Validation Loss</th>\n",
       "      <th>Accuracy</th>\n",
       "      <th>Precision</th>\n",
       "      <th>Recall</th>\n",
       "      <th>F1</th>\n",
       "    </tr>\n",
       "  </thead>\n",
       "  <tbody>\n",
       "    <tr>\n",
       "      <td>1</td>\n",
       "      <td>0.425000</td>\n",
       "      <td>0.386194</td>\n",
       "      <td>0.875500</td>\n",
       "      <td>0.890119</td>\n",
       "      <td>0.876550</td>\n",
       "      <td>0.875440</td>\n",
       "    </tr>\n",
       "    <tr>\n",
       "      <td>2</td>\n",
       "      <td>0.167500</td>\n",
       "      <td>0.201339</td>\n",
       "      <td>0.932800</td>\n",
       "      <td>0.934603</td>\n",
       "      <td>0.933255</td>\n",
       "      <td>0.931989</td>\n",
       "    </tr>\n",
       "  </tbody>\n",
       "</table><p>"
      ],
      "text/plain": [
       "<IPython.core.display.HTML object>"
      ]
     },
     "metadata": {},
     "output_type": "display_data"
    },
    {
     "name": "stderr",
     "output_type": "stream",
     "text": [
      "[I 2025-03-29 17:37:38,428] Trial 8 pruned. \n"
     ]
    },
    {
     "name": "stdout",
     "output_type": "stream",
     "text": [
      "Trial 9 with params: {'learning_rate': 0.0005338741354740678, 'weight_decay': 0.006, 'warmup_steps': 1}\n"
     ]
    },
    {
     "name": "stderr",
     "output_type": "stream",
     "text": [
      "Some weights of TimmWrapperForImageClassification were not initialized from the model checkpoint at timm/tiny_vit_5m_224.in1k and are newly initialized because the shapes did not match:\n",
      "- head.fc.bias: found shape torch.Size([1000]) in the checkpoint and torch.Size([10]) in the model instantiated\n",
      "- head.fc.weight: found shape torch.Size([1000, 320]) in the checkpoint and torch.Size([10, 320]) in the model instantiated\n",
      "You should probably TRAIN this model on a down-stream task to be able to use it for predictions and inference.\n"
     ]
    },
    {
     "data": {
      "text/html": [
       "\n",
       "    <div>\n",
       "      \n",
       "      <progress value='1252' max='2191' style='width:300px; height:20px; vertical-align: middle;'></progress>\n",
       "      [1252/2191 05:31 < 04:09, 3.77 it/s, Epoch 4/7]\n",
       "    </div>\n",
       "    <table border=\"1\" class=\"dataframe\">\n",
       "  <thead>\n",
       " <tr style=\"text-align: left;\">\n",
       "      <th>Epoch</th>\n",
       "      <th>Training Loss</th>\n",
       "      <th>Validation Loss</th>\n",
       "      <th>Accuracy</th>\n",
       "      <th>Precision</th>\n",
       "      <th>Recall</th>\n",
       "      <th>F1</th>\n",
       "    </tr>\n",
       "  </thead>\n",
       "  <tbody>\n",
       "    <tr>\n",
       "      <td>1</td>\n",
       "      <td>0.461800</td>\n",
       "      <td>0.286336</td>\n",
       "      <td>0.906200</td>\n",
       "      <td>0.910548</td>\n",
       "      <td>0.906179</td>\n",
       "      <td>0.906465</td>\n",
       "    </tr>\n",
       "    <tr>\n",
       "      <td>2</td>\n",
       "      <td>0.208500</td>\n",
       "      <td>0.270973</td>\n",
       "      <td>0.909000</td>\n",
       "      <td>0.918543</td>\n",
       "      <td>0.909560</td>\n",
       "      <td>0.908993</td>\n",
       "    </tr>\n",
       "    <tr>\n",
       "      <td>3</td>\n",
       "      <td>0.129100</td>\n",
       "      <td>0.193552</td>\n",
       "      <td>0.934800</td>\n",
       "      <td>0.936477</td>\n",
       "      <td>0.934689</td>\n",
       "      <td>0.935144</td>\n",
       "    </tr>\n",
       "    <tr>\n",
       "      <td>4</td>\n",
       "      <td>0.073700</td>\n",
       "      <td>0.173231</td>\n",
       "      <td>0.946600</td>\n",
       "      <td>0.947142</td>\n",
       "      <td>0.946908</td>\n",
       "      <td>0.946483</td>\n",
       "    </tr>\n",
       "  </tbody>\n",
       "</table><p>"
      ],
      "text/plain": [
       "<IPython.core.display.HTML object>"
      ]
     },
     "metadata": {},
     "output_type": "display_data"
    },
    {
     "name": "stderr",
     "output_type": "stream",
     "text": [
      "[I 2025-03-29 17:43:12,242] Trial 9 pruned. \n"
     ]
    },
    {
     "name": "stdout",
     "output_type": "stream",
     "text": [
      "Trial 10 with params: {'learning_rate': 6.533528818763353e-05, 'weight_decay': 0.01, 'warmup_steps': 13}\n"
     ]
    },
    {
     "name": "stderr",
     "output_type": "stream",
     "text": [
      "Some weights of TimmWrapperForImageClassification were not initialized from the model checkpoint at timm/tiny_vit_5m_224.in1k and are newly initialized because the shapes did not match:\n",
      "- head.fc.bias: found shape torch.Size([1000]) in the checkpoint and torch.Size([10]) in the model instantiated\n",
      "- head.fc.weight: found shape torch.Size([1000, 320]) in the checkpoint and torch.Size([10, 320]) in the model instantiated\n",
      "You should probably TRAIN this model on a down-stream task to be able to use it for predictions and inference.\n"
     ]
    },
    {
     "data": {
      "text/html": [
       "\n",
       "    <div>\n",
       "      \n",
       "      <progress value='1252' max='2191' style='width:300px; height:20px; vertical-align: middle;'></progress>\n",
       "      [1252/2191 05:32 < 04:09, 3.76 it/s, Epoch 4/7]\n",
       "    </div>\n",
       "    <table border=\"1\" class=\"dataframe\">\n",
       "  <thead>\n",
       " <tr style=\"text-align: left;\">\n",
       "      <th>Epoch</th>\n",
       "      <th>Training Loss</th>\n",
       "      <th>Validation Loss</th>\n",
       "      <th>Accuracy</th>\n",
       "      <th>Precision</th>\n",
       "      <th>Recall</th>\n",
       "      <th>F1</th>\n",
       "    </tr>\n",
       "  </thead>\n",
       "  <tbody>\n",
       "    <tr>\n",
       "      <td>1</td>\n",
       "      <td>0.503700</td>\n",
       "      <td>0.158559</td>\n",
       "      <td>0.949400</td>\n",
       "      <td>0.950632</td>\n",
       "      <td>0.949494</td>\n",
       "      <td>0.949650</td>\n",
       "    </tr>\n",
       "    <tr>\n",
       "      <td>2</td>\n",
       "      <td>0.086900</td>\n",
       "      <td>0.132052</td>\n",
       "      <td>0.955200</td>\n",
       "      <td>0.956138</td>\n",
       "      <td>0.955405</td>\n",
       "      <td>0.955445</td>\n",
       "    </tr>\n",
       "    <tr>\n",
       "      <td>3</td>\n",
       "      <td>0.036600</td>\n",
       "      <td>0.127167</td>\n",
       "      <td>0.962800</td>\n",
       "      <td>0.963155</td>\n",
       "      <td>0.962956</td>\n",
       "      <td>0.962980</td>\n",
       "    </tr>\n",
       "    <tr>\n",
       "      <td>4</td>\n",
       "      <td>0.014100</td>\n",
       "      <td>0.141551</td>\n",
       "      <td>0.965800</td>\n",
       "      <td>0.966127</td>\n",
       "      <td>0.965927</td>\n",
       "      <td>0.965906</td>\n",
       "    </tr>\n",
       "  </tbody>\n",
       "</table><p>"
      ],
      "text/plain": [
       "<IPython.core.display.HTML object>"
      ]
     },
     "metadata": {},
     "output_type": "display_data"
    },
    {
     "name": "stderr",
     "output_type": "stream",
     "text": [
      "[I 2025-03-29 17:48:46,552] Trial 10 pruned. \n"
     ]
    },
    {
     "name": "stdout",
     "output_type": "stream",
     "text": [
      "Trial 11 with params: {'learning_rate': 7.708968913466938e-05, 'weight_decay': 0.006, 'warmup_steps': 26}\n"
     ]
    },
    {
     "name": "stderr",
     "output_type": "stream",
     "text": [
      "Some weights of TimmWrapperForImageClassification were not initialized from the model checkpoint at timm/tiny_vit_5m_224.in1k and are newly initialized because the shapes did not match:\n",
      "- head.fc.bias: found shape torch.Size([1000]) in the checkpoint and torch.Size([10]) in the model instantiated\n",
      "- head.fc.weight: found shape torch.Size([1000, 320]) in the checkpoint and torch.Size([10, 320]) in the model instantiated\n",
      "You should probably TRAIN this model on a down-stream task to be able to use it for predictions and inference.\n"
     ]
    },
    {
     "data": {
      "text/html": [
       "\n",
       "    <div>\n",
       "      \n",
       "      <progress value='2191' max='2191' style='width:300px; height:20px; vertical-align: middle;'></progress>\n",
       "      [2191/2191 09:44, Epoch 7/7]\n",
       "    </div>\n",
       "    <table border=\"1\" class=\"dataframe\">\n",
       "  <thead>\n",
       " <tr style=\"text-align: left;\">\n",
       "      <th>Epoch</th>\n",
       "      <th>Training Loss</th>\n",
       "      <th>Validation Loss</th>\n",
       "      <th>Accuracy</th>\n",
       "      <th>Precision</th>\n",
       "      <th>Recall</th>\n",
       "      <th>F1</th>\n",
       "    </tr>\n",
       "  </thead>\n",
       "  <tbody>\n",
       "    <tr>\n",
       "      <td>1</td>\n",
       "      <td>0.506600</td>\n",
       "      <td>0.160335</td>\n",
       "      <td>0.947600</td>\n",
       "      <td>0.949904</td>\n",
       "      <td>0.947825</td>\n",
       "      <td>0.947975</td>\n",
       "    </tr>\n",
       "    <tr>\n",
       "      <td>2</td>\n",
       "      <td>0.091400</td>\n",
       "      <td>0.118880</td>\n",
       "      <td>0.961000</td>\n",
       "      <td>0.961458</td>\n",
       "      <td>0.961057</td>\n",
       "      <td>0.961126</td>\n",
       "    </tr>\n",
       "    <tr>\n",
       "      <td>3</td>\n",
       "      <td>0.038000</td>\n",
       "      <td>0.118747</td>\n",
       "      <td>0.965500</td>\n",
       "      <td>0.965752</td>\n",
       "      <td>0.965588</td>\n",
       "      <td>0.965642</td>\n",
       "    </tr>\n",
       "    <tr>\n",
       "      <td>4</td>\n",
       "      <td>0.016300</td>\n",
       "      <td>0.133683</td>\n",
       "      <td>0.966800</td>\n",
       "      <td>0.966980</td>\n",
       "      <td>0.966940</td>\n",
       "      <td>0.966915</td>\n",
       "    </tr>\n",
       "    <tr>\n",
       "      <td>5</td>\n",
       "      <td>0.005200</td>\n",
       "      <td>0.130086</td>\n",
       "      <td>0.968400</td>\n",
       "      <td>0.968645</td>\n",
       "      <td>0.968529</td>\n",
       "      <td>0.968522</td>\n",
       "    </tr>\n",
       "    <tr>\n",
       "      <td>6</td>\n",
       "      <td>0.001200</td>\n",
       "      <td>0.132783</td>\n",
       "      <td>0.970800</td>\n",
       "      <td>0.970980</td>\n",
       "      <td>0.970872</td>\n",
       "      <td>0.970903</td>\n",
       "    </tr>\n",
       "    <tr>\n",
       "      <td>7</td>\n",
       "      <td>0.000500</td>\n",
       "      <td>0.133448</td>\n",
       "      <td>0.971100</td>\n",
       "      <td>0.971246</td>\n",
       "      <td>0.971205</td>\n",
       "      <td>0.971205</td>\n",
       "    </tr>\n",
       "  </tbody>\n",
       "</table><p>"
      ],
      "text/plain": [
       "<IPython.core.display.HTML object>"
      ]
     },
     "metadata": {},
     "output_type": "display_data"
    },
    {
     "name": "stderr",
     "output_type": "stream",
     "text": [
      "[I 2025-03-29 17:58:34,457] Trial 11 finished with value: 0.9712048758910423 and parameters: {'learning_rate': 7.708968913466938e-05, 'weight_decay': 0.006, 'warmup_steps': 26}. Best is trial 11 with value: 0.9712048758910423.\n"
     ]
    },
    {
     "name": "stdout",
     "output_type": "stream",
     "text": [
      "Trial 12 with params: {'learning_rate': 5.217026363807214e-05, 'weight_decay': 0.004, 'warmup_steps': 32}\n"
     ]
    },
    {
     "name": "stderr",
     "output_type": "stream",
     "text": [
      "Some weights of TimmWrapperForImageClassification were not initialized from the model checkpoint at timm/tiny_vit_5m_224.in1k and are newly initialized because the shapes did not match:\n",
      "- head.fc.bias: found shape torch.Size([1000]) in the checkpoint and torch.Size([10]) in the model instantiated\n",
      "- head.fc.weight: found shape torch.Size([1000, 320]) in the checkpoint and torch.Size([10, 320]) in the model instantiated\n",
      "You should probably TRAIN this model on a down-stream task to be able to use it for predictions and inference.\n"
     ]
    },
    {
     "data": {
      "text/html": [
       "\n",
       "    <div>\n",
       "      \n",
       "      <progress value='1252' max='2191' style='width:300px; height:20px; vertical-align: middle;'></progress>\n",
       "      [1252/2191 05:31 < 04:08, 3.77 it/s, Epoch 4/7]\n",
       "    </div>\n",
       "    <table border=\"1\" class=\"dataframe\">\n",
       "  <thead>\n",
       " <tr style=\"text-align: left;\">\n",
       "      <th>Epoch</th>\n",
       "      <th>Training Loss</th>\n",
       "      <th>Validation Loss</th>\n",
       "      <th>Accuracy</th>\n",
       "      <th>Precision</th>\n",
       "      <th>Recall</th>\n",
       "      <th>F1</th>\n",
       "    </tr>\n",
       "  </thead>\n",
       "  <tbody>\n",
       "    <tr>\n",
       "      <td>1</td>\n",
       "      <td>0.631300</td>\n",
       "      <td>0.180836</td>\n",
       "      <td>0.942300</td>\n",
       "      <td>0.943680</td>\n",
       "      <td>0.942567</td>\n",
       "      <td>0.942575</td>\n",
       "    </tr>\n",
       "    <tr>\n",
       "      <td>2</td>\n",
       "      <td>0.105600</td>\n",
       "      <td>0.120743</td>\n",
       "      <td>0.961600</td>\n",
       "      <td>0.962072</td>\n",
       "      <td>0.961704</td>\n",
       "      <td>0.961793</td>\n",
       "    </tr>\n",
       "    <tr>\n",
       "      <td>3</td>\n",
       "      <td>0.044200</td>\n",
       "      <td>0.116826</td>\n",
       "      <td>0.966000</td>\n",
       "      <td>0.966138</td>\n",
       "      <td>0.966118</td>\n",
       "      <td>0.966074</td>\n",
       "    </tr>\n",
       "    <tr>\n",
       "      <td>4</td>\n",
       "      <td>0.014300</td>\n",
       "      <td>0.138144</td>\n",
       "      <td>0.965100</td>\n",
       "      <td>0.965260</td>\n",
       "      <td>0.965298</td>\n",
       "      <td>0.965200</td>\n",
       "    </tr>\n",
       "  </tbody>\n",
       "</table><p>"
      ],
      "text/plain": [
       "<IPython.core.display.HTML object>"
      ]
     },
     "metadata": {},
     "output_type": "display_data"
    },
    {
     "name": "stderr",
     "output_type": "stream",
     "text": [
      "[I 2025-03-29 18:04:07,758] Trial 12 pruned. \n"
     ]
    },
    {
     "name": "stdout",
     "output_type": "stream",
     "text": [
      "Trial 13 with params: {'learning_rate': 5.226430585490316e-05, 'weight_decay': 0.007, 'warmup_steps': 26}\n"
     ]
    },
    {
     "name": "stderr",
     "output_type": "stream",
     "text": [
      "Some weights of TimmWrapperForImageClassification were not initialized from the model checkpoint at timm/tiny_vit_5m_224.in1k and are newly initialized because the shapes did not match:\n",
      "- head.fc.bias: found shape torch.Size([1000]) in the checkpoint and torch.Size([10]) in the model instantiated\n",
      "- head.fc.weight: found shape torch.Size([1000, 320]) in the checkpoint and torch.Size([10, 320]) in the model instantiated\n",
      "You should probably TRAIN this model on a down-stream task to be able to use it for predictions and inference.\n"
     ]
    },
    {
     "data": {
      "text/html": [
       "\n",
       "    <div>\n",
       "      \n",
       "      <progress value='2191' max='2191' style='width:300px; height:20px; vertical-align: middle;'></progress>\n",
       "      [2191/2191 09:41, Epoch 7/7]\n",
       "    </div>\n",
       "    <table border=\"1\" class=\"dataframe\">\n",
       "  <thead>\n",
       " <tr style=\"text-align: left;\">\n",
       "      <th>Epoch</th>\n",
       "      <th>Training Loss</th>\n",
       "      <th>Validation Loss</th>\n",
       "      <th>Accuracy</th>\n",
       "      <th>Precision</th>\n",
       "      <th>Recall</th>\n",
       "      <th>F1</th>\n",
       "    </tr>\n",
       "  </thead>\n",
       "  <tbody>\n",
       "    <tr>\n",
       "      <td>1</td>\n",
       "      <td>0.622900</td>\n",
       "      <td>0.162117</td>\n",
       "      <td>0.948000</td>\n",
       "      <td>0.949867</td>\n",
       "      <td>0.948113</td>\n",
       "      <td>0.948362</td>\n",
       "    </tr>\n",
       "    <tr>\n",
       "      <td>2</td>\n",
       "      <td>0.093700</td>\n",
       "      <td>0.119216</td>\n",
       "      <td>0.962300</td>\n",
       "      <td>0.962655</td>\n",
       "      <td>0.962396</td>\n",
       "      <td>0.962444</td>\n",
       "    </tr>\n",
       "    <tr>\n",
       "      <td>3</td>\n",
       "      <td>0.040000</td>\n",
       "      <td>0.117780</td>\n",
       "      <td>0.963500</td>\n",
       "      <td>0.963617</td>\n",
       "      <td>0.963599</td>\n",
       "      <td>0.963547</td>\n",
       "    </tr>\n",
       "    <tr>\n",
       "      <td>4</td>\n",
       "      <td>0.015900</td>\n",
       "      <td>0.135057</td>\n",
       "      <td>0.964600</td>\n",
       "      <td>0.964619</td>\n",
       "      <td>0.964764</td>\n",
       "      <td>0.964605</td>\n",
       "    </tr>\n",
       "    <tr>\n",
       "      <td>5</td>\n",
       "      <td>0.004500</td>\n",
       "      <td>0.143058</td>\n",
       "      <td>0.966300</td>\n",
       "      <td>0.966513</td>\n",
       "      <td>0.966370</td>\n",
       "      <td>0.966393</td>\n",
       "    </tr>\n",
       "    <tr>\n",
       "      <td>6</td>\n",
       "      <td>0.002300</td>\n",
       "      <td>0.143602</td>\n",
       "      <td>0.969000</td>\n",
       "      <td>0.969161</td>\n",
       "      <td>0.969100</td>\n",
       "      <td>0.969122</td>\n",
       "    </tr>\n",
       "    <tr>\n",
       "      <td>7</td>\n",
       "      <td>0.001000</td>\n",
       "      <td>0.144122</td>\n",
       "      <td>0.968500</td>\n",
       "      <td>0.968610</td>\n",
       "      <td>0.968627</td>\n",
       "      <td>0.968602</td>\n",
       "    </tr>\n",
       "  </tbody>\n",
       "</table><p>"
      ],
      "text/plain": [
       "<IPython.core.display.HTML object>"
      ]
     },
     "metadata": {},
     "output_type": "display_data"
    },
    {
     "name": "stderr",
     "output_type": "stream",
     "text": [
      "[I 2025-03-29 18:13:52,622] Trial 13 finished with value: 0.9686021568730794 and parameters: {'learning_rate': 5.226430585490316e-05, 'weight_decay': 0.007, 'warmup_steps': 26}. Best is trial 11 with value: 0.9712048758910423.\n"
     ]
    },
    {
     "name": "stdout",
     "output_type": "stream",
     "text": [
      "Trial 14 with params: {'learning_rate': 9.95605435141112e-05, 'weight_decay': 0.007, 'warmup_steps': 28}\n"
     ]
    },
    {
     "name": "stderr",
     "output_type": "stream",
     "text": [
      "Some weights of TimmWrapperForImageClassification were not initialized from the model checkpoint at timm/tiny_vit_5m_224.in1k and are newly initialized because the shapes did not match:\n",
      "- head.fc.bias: found shape torch.Size([1000]) in the checkpoint and torch.Size([10]) in the model instantiated\n",
      "- head.fc.weight: found shape torch.Size([1000, 320]) in the checkpoint and torch.Size([10, 320]) in the model instantiated\n",
      "You should probably TRAIN this model on a down-stream task to be able to use it for predictions and inference.\n"
     ]
    },
    {
     "data": {
      "text/html": [
       "\n",
       "    <div>\n",
       "      \n",
       "      <progress value='2191' max='2191' style='width:300px; height:20px; vertical-align: middle;'></progress>\n",
       "      [2191/2191 09:39, Epoch 7/7]\n",
       "    </div>\n",
       "    <table border=\"1\" class=\"dataframe\">\n",
       "  <thead>\n",
       " <tr style=\"text-align: left;\">\n",
       "      <th>Epoch</th>\n",
       "      <th>Training Loss</th>\n",
       "      <th>Validation Loss</th>\n",
       "      <th>Accuracy</th>\n",
       "      <th>Precision</th>\n",
       "      <th>Recall</th>\n",
       "      <th>F1</th>\n",
       "    </tr>\n",
       "  </thead>\n",
       "  <tbody>\n",
       "    <tr>\n",
       "      <td>1</td>\n",
       "      <td>0.488000</td>\n",
       "      <td>0.186999</td>\n",
       "      <td>0.939300</td>\n",
       "      <td>0.944452</td>\n",
       "      <td>0.939422</td>\n",
       "      <td>0.939996</td>\n",
       "    </tr>\n",
       "    <tr>\n",
       "      <td>2</td>\n",
       "      <td>0.090500</td>\n",
       "      <td>0.122951</td>\n",
       "      <td>0.959300</td>\n",
       "      <td>0.959491</td>\n",
       "      <td>0.959471</td>\n",
       "      <td>0.959415</td>\n",
       "    </tr>\n",
       "    <tr>\n",
       "      <td>3</td>\n",
       "      <td>0.041200</td>\n",
       "      <td>0.117226</td>\n",
       "      <td>0.965300</td>\n",
       "      <td>0.965525</td>\n",
       "      <td>0.965482</td>\n",
       "      <td>0.965473</td>\n",
       "    </tr>\n",
       "    <tr>\n",
       "      <td>4</td>\n",
       "      <td>0.016900</td>\n",
       "      <td>0.122421</td>\n",
       "      <td>0.968600</td>\n",
       "      <td>0.968717</td>\n",
       "      <td>0.968783</td>\n",
       "      <td>0.968669</td>\n",
       "    </tr>\n",
       "    <tr>\n",
       "      <td>5</td>\n",
       "      <td>0.006000</td>\n",
       "      <td>0.123625</td>\n",
       "      <td>0.970900</td>\n",
       "      <td>0.971367</td>\n",
       "      <td>0.971008</td>\n",
       "      <td>0.971096</td>\n",
       "    </tr>\n",
       "    <tr>\n",
       "      <td>6</td>\n",
       "      <td>0.001600</td>\n",
       "      <td>0.126107</td>\n",
       "      <td>0.972000</td>\n",
       "      <td>0.972076</td>\n",
       "      <td>0.972148</td>\n",
       "      <td>0.972095</td>\n",
       "    </tr>\n",
       "    <tr>\n",
       "      <td>7</td>\n",
       "      <td>0.000700</td>\n",
       "      <td>0.125646</td>\n",
       "      <td>0.972900</td>\n",
       "      <td>0.973052</td>\n",
       "      <td>0.973021</td>\n",
       "      <td>0.973024</td>\n",
       "    </tr>\n",
       "  </tbody>\n",
       "</table><p>"
      ],
      "text/plain": [
       "<IPython.core.display.HTML object>"
      ]
     },
     "metadata": {},
     "output_type": "display_data"
    },
    {
     "name": "stderr",
     "output_type": "stream",
     "text": [
      "[I 2025-03-29 18:23:34,906] Trial 14 finished with value: 0.9730240184701999 and parameters: {'learning_rate': 9.95605435141112e-05, 'weight_decay': 0.007, 'warmup_steps': 28}. Best is trial 14 with value: 0.9730240184701999.\n"
     ]
    },
    {
     "name": "stdout",
     "output_type": "stream",
     "text": [
      "Trial 15 with params: {'learning_rate': 0.0003662169232204062, 'weight_decay': 0.006, 'warmup_steps': 32}\n"
     ]
    },
    {
     "name": "stderr",
     "output_type": "stream",
     "text": [
      "Some weights of TimmWrapperForImageClassification were not initialized from the model checkpoint at timm/tiny_vit_5m_224.in1k and are newly initialized because the shapes did not match:\n",
      "- head.fc.bias: found shape torch.Size([1000]) in the checkpoint and torch.Size([10]) in the model instantiated\n",
      "- head.fc.weight: found shape torch.Size([1000, 320]) in the checkpoint and torch.Size([10, 320]) in the model instantiated\n",
      "You should probably TRAIN this model on a down-stream task to be able to use it for predictions and inference.\n"
     ]
    },
    {
     "data": {
      "text/html": [
       "\n",
       "    <div>\n",
       "      \n",
       "      <progress value='1252' max='2191' style='width:300px; height:20px; vertical-align: middle;'></progress>\n",
       "      [1252/2191 05:28 < 04:06, 3.81 it/s, Epoch 4/7]\n",
       "    </div>\n",
       "    <table border=\"1\" class=\"dataframe\">\n",
       "  <thead>\n",
       " <tr style=\"text-align: left;\">\n",
       "      <th>Epoch</th>\n",
       "      <th>Training Loss</th>\n",
       "      <th>Validation Loss</th>\n",
       "      <th>Accuracy</th>\n",
       "      <th>Precision</th>\n",
       "      <th>Recall</th>\n",
       "      <th>F1</th>\n",
       "    </tr>\n",
       "  </thead>\n",
       "  <tbody>\n",
       "    <tr>\n",
       "      <td>1</td>\n",
       "      <td>0.485100</td>\n",
       "      <td>0.252533</td>\n",
       "      <td>0.918900</td>\n",
       "      <td>0.922387</td>\n",
       "      <td>0.919356</td>\n",
       "      <td>0.919473</td>\n",
       "    </tr>\n",
       "    <tr>\n",
       "      <td>2</td>\n",
       "      <td>0.163600</td>\n",
       "      <td>0.192220</td>\n",
       "      <td>0.934900</td>\n",
       "      <td>0.937273</td>\n",
       "      <td>0.935188</td>\n",
       "      <td>0.934952</td>\n",
       "    </tr>\n",
       "    <tr>\n",
       "      <td>3</td>\n",
       "      <td>0.092800</td>\n",
       "      <td>0.162120</td>\n",
       "      <td>0.947800</td>\n",
       "      <td>0.948848</td>\n",
       "      <td>0.948042</td>\n",
       "      <td>0.948096</td>\n",
       "    </tr>\n",
       "    <tr>\n",
       "      <td>4</td>\n",
       "      <td>0.054000</td>\n",
       "      <td>0.162263</td>\n",
       "      <td>0.953400</td>\n",
       "      <td>0.953965</td>\n",
       "      <td>0.953588</td>\n",
       "      <td>0.953452</td>\n",
       "    </tr>\n",
       "  </tbody>\n",
       "</table><p>"
      ],
      "text/plain": [
       "<IPython.core.display.HTML object>"
      ]
     },
     "metadata": {},
     "output_type": "display_data"
    },
    {
     "name": "stderr",
     "output_type": "stream",
     "text": [
      "[I 2025-03-29 18:29:04,981] Trial 15 pruned. \n"
     ]
    },
    {
     "name": "stdout",
     "output_type": "stream",
     "text": [
      "Trial 16 with params: {'learning_rate': 0.00038309918336020546, 'weight_decay': 0.007, 'warmup_steps': 19}\n"
     ]
    },
    {
     "name": "stderr",
     "output_type": "stream",
     "text": [
      "Some weights of TimmWrapperForImageClassification were not initialized from the model checkpoint at timm/tiny_vit_5m_224.in1k and are newly initialized because the shapes did not match:\n",
      "- head.fc.bias: found shape torch.Size([1000]) in the checkpoint and torch.Size([10]) in the model instantiated\n",
      "- head.fc.weight: found shape torch.Size([1000, 320]) in the checkpoint and torch.Size([10, 320]) in the model instantiated\n",
      "You should probably TRAIN this model on a down-stream task to be able to use it for predictions and inference.\n"
     ]
    },
    {
     "data": {
      "text/html": [
       "\n",
       "    <div>\n",
       "      \n",
       "      <progress value='626' max='2191' style='width:300px; height:20px; vertical-align: middle;'></progress>\n",
       "      [ 626/2191 02:44 < 06:52, 3.79 it/s, Epoch 2/7]\n",
       "    </div>\n",
       "    <table border=\"1\" class=\"dataframe\">\n",
       "  <thead>\n",
       " <tr style=\"text-align: left;\">\n",
       "      <th>Epoch</th>\n",
       "      <th>Training Loss</th>\n",
       "      <th>Validation Loss</th>\n",
       "      <th>Accuracy</th>\n",
       "      <th>Precision</th>\n",
       "      <th>Recall</th>\n",
       "      <th>F1</th>\n",
       "    </tr>\n",
       "  </thead>\n",
       "  <tbody>\n",
       "    <tr>\n",
       "      <td>1</td>\n",
       "      <td>0.450800</td>\n",
       "      <td>0.286934</td>\n",
       "      <td>0.905700</td>\n",
       "      <td>0.912826</td>\n",
       "      <td>0.906158</td>\n",
       "      <td>0.906662</td>\n",
       "    </tr>\n",
       "    <tr>\n",
       "      <td>2</td>\n",
       "      <td>0.162700</td>\n",
       "      <td>0.206656</td>\n",
       "      <td>0.930100</td>\n",
       "      <td>0.931591</td>\n",
       "      <td>0.930497</td>\n",
       "      <td>0.929844</td>\n",
       "    </tr>\n",
       "  </tbody>\n",
       "</table><p>"
      ],
      "text/plain": [
       "<IPython.core.display.HTML object>"
      ]
     },
     "metadata": {},
     "output_type": "display_data"
    },
    {
     "name": "stderr",
     "output_type": "stream",
     "text": [
      "[I 2025-03-29 18:31:51,745] Trial 16 pruned. \n"
     ]
    },
    {
     "name": "stdout",
     "output_type": "stream",
     "text": [
      "Trial 17 with params: {'learning_rate': 0.0020085822314002493, 'weight_decay': 0.008, 'warmup_steps': 26}\n"
     ]
    },
    {
     "name": "stderr",
     "output_type": "stream",
     "text": [
      "Some weights of TimmWrapperForImageClassification were not initialized from the model checkpoint at timm/tiny_vit_5m_224.in1k and are newly initialized because the shapes did not match:\n",
      "- head.fc.bias: found shape torch.Size([1000]) in the checkpoint and torch.Size([10]) in the model instantiated\n",
      "- head.fc.weight: found shape torch.Size([1000, 320]) in the checkpoint and torch.Size([10, 320]) in the model instantiated\n",
      "You should probably TRAIN this model on a down-stream task to be able to use it for predictions and inference.\n"
     ]
    },
    {
     "data": {
      "text/html": [
       "\n",
       "    <div>\n",
       "      \n",
       "      <progress value='1252' max='2191' style='width:300px; height:20px; vertical-align: middle;'></progress>\n",
       "      [1252/2191 05:29 < 04:07, 3.80 it/s, Epoch 4/7]\n",
       "    </div>\n",
       "    <table border=\"1\" class=\"dataframe\">\n",
       "  <thead>\n",
       " <tr style=\"text-align: left;\">\n",
       "      <th>Epoch</th>\n",
       "      <th>Training Loss</th>\n",
       "      <th>Validation Loss</th>\n",
       "      <th>Accuracy</th>\n",
       "      <th>Precision</th>\n",
       "      <th>Recall</th>\n",
       "      <th>F1</th>\n",
       "    </tr>\n",
       "  </thead>\n",
       "  <tbody>\n",
       "    <tr>\n",
       "      <td>1</td>\n",
       "      <td>1.127800</td>\n",
       "      <td>1.028901</td>\n",
       "      <td>0.651600</td>\n",
       "      <td>0.689256</td>\n",
       "      <td>0.652173</td>\n",
       "      <td>0.651455</td>\n",
       "    </tr>\n",
       "    <tr>\n",
       "      <td>2</td>\n",
       "      <td>0.724700</td>\n",
       "      <td>0.781852</td>\n",
       "      <td>0.738600</td>\n",
       "      <td>0.775961</td>\n",
       "      <td>0.738718</td>\n",
       "      <td>0.738930</td>\n",
       "    </tr>\n",
       "    <tr>\n",
       "      <td>3</td>\n",
       "      <td>0.504100</td>\n",
       "      <td>0.593590</td>\n",
       "      <td>0.797600</td>\n",
       "      <td>0.811637</td>\n",
       "      <td>0.798066</td>\n",
       "      <td>0.792535</td>\n",
       "    </tr>\n",
       "    <tr>\n",
       "      <td>4</td>\n",
       "      <td>0.369100</td>\n",
       "      <td>0.406194</td>\n",
       "      <td>0.868600</td>\n",
       "      <td>0.883081</td>\n",
       "      <td>0.868396</td>\n",
       "      <td>0.871252</td>\n",
       "    </tr>\n",
       "  </tbody>\n",
       "</table><p>"
      ],
      "text/plain": [
       "<IPython.core.display.HTML object>"
      ]
     },
     "metadata": {},
     "output_type": "display_data"
    },
    {
     "name": "stderr",
     "output_type": "stream",
     "text": [
      "[I 2025-03-29 18:37:22,966] Trial 17 pruned. \n"
     ]
    },
    {
     "name": "stdout",
     "output_type": "stream",
     "text": [
      "Trial 18 with params: {'learning_rate': 0.0026868566033176914, 'weight_decay': 0.01, 'warmup_steps': 11}\n"
     ]
    },
    {
     "name": "stderr",
     "output_type": "stream",
     "text": [
      "Some weights of TimmWrapperForImageClassification were not initialized from the model checkpoint at timm/tiny_vit_5m_224.in1k and are newly initialized because the shapes did not match:\n",
      "- head.fc.bias: found shape torch.Size([1000]) in the checkpoint and torch.Size([10]) in the model instantiated\n",
      "- head.fc.weight: found shape torch.Size([1000, 320]) in the checkpoint and torch.Size([10, 320]) in the model instantiated\n",
      "You should probably TRAIN this model on a down-stream task to be able to use it for predictions and inference.\n"
     ]
    },
    {
     "data": {
      "text/html": [
       "\n",
       "    <div>\n",
       "      \n",
       "      <progress value='1252' max='2191' style='width:300px; height:20px; vertical-align: middle;'></progress>\n",
       "      [1252/2191 05:29 < 04:07, 3.79 it/s, Epoch 4/7]\n",
       "    </div>\n",
       "    <table border=\"1\" class=\"dataframe\">\n",
       "  <thead>\n",
       " <tr style=\"text-align: left;\">\n",
       "      <th>Epoch</th>\n",
       "      <th>Training Loss</th>\n",
       "      <th>Validation Loss</th>\n",
       "      <th>Accuracy</th>\n",
       "      <th>Precision</th>\n",
       "      <th>Recall</th>\n",
       "      <th>F1</th>\n",
       "    </tr>\n",
       "  </thead>\n",
       "  <tbody>\n",
       "    <tr>\n",
       "      <td>1</td>\n",
       "      <td>1.885900</td>\n",
       "      <td>2.314781</td>\n",
       "      <td>0.141700</td>\n",
       "      <td>0.171584</td>\n",
       "      <td>0.140837</td>\n",
       "      <td>0.092388</td>\n",
       "    </tr>\n",
       "    <tr>\n",
       "      <td>2</td>\n",
       "      <td>2.107600</td>\n",
       "      <td>2.089234</td>\n",
       "      <td>0.211900</td>\n",
       "      <td>0.192986</td>\n",
       "      <td>0.211480</td>\n",
       "      <td>0.188983</td>\n",
       "    </tr>\n",
       "    <tr>\n",
       "      <td>3</td>\n",
       "      <td>2.057800</td>\n",
       "      <td>2.083014</td>\n",
       "      <td>0.207300</td>\n",
       "      <td>0.213258</td>\n",
       "      <td>0.205387</td>\n",
       "      <td>0.162042</td>\n",
       "    </tr>\n",
       "    <tr>\n",
       "      <td>4</td>\n",
       "      <td>2.079300</td>\n",
       "      <td>2.016677</td>\n",
       "      <td>0.243300</td>\n",
       "      <td>0.223367</td>\n",
       "      <td>0.241827</td>\n",
       "      <td>0.212747</td>\n",
       "    </tr>\n",
       "  </tbody>\n",
       "</table><p>"
      ],
      "text/plain": [
       "<IPython.core.display.HTML object>"
      ]
     },
     "metadata": {},
     "output_type": "display_data"
    },
    {
     "name": "stderr",
     "output_type": "stream",
     "text": [
      "[I 2025-03-29 18:42:54,846] Trial 18 pruned. \n"
     ]
    },
    {
     "name": "stdout",
     "output_type": "stream",
     "text": [
      "Trial 19 with params: {'learning_rate': 0.00015627747538495373, 'weight_decay': 0.007, 'warmup_steps': 24}\n"
     ]
    },
    {
     "name": "stderr",
     "output_type": "stream",
     "text": [
      "Some weights of TimmWrapperForImageClassification were not initialized from the model checkpoint at timm/tiny_vit_5m_224.in1k and are newly initialized because the shapes did not match:\n",
      "- head.fc.bias: found shape torch.Size([1000]) in the checkpoint and torch.Size([10]) in the model instantiated\n",
      "- head.fc.weight: found shape torch.Size([1000, 320]) in the checkpoint and torch.Size([10, 320]) in the model instantiated\n",
      "You should probably TRAIN this model on a down-stream task to be able to use it for predictions and inference.\n"
     ]
    },
    {
     "data": {
      "text/html": [
       "\n",
       "    <div>\n",
       "      \n",
       "      <progress value='626' max='2191' style='width:300px; height:20px; vertical-align: middle;'></progress>\n",
       "      [ 626/2191 02:44 < 06:51, 3.80 it/s, Epoch 2/7]\n",
       "    </div>\n",
       "    <table border=\"1\" class=\"dataframe\">\n",
       "  <thead>\n",
       " <tr style=\"text-align: left;\">\n",
       "      <th>Epoch</th>\n",
       "      <th>Training Loss</th>\n",
       "      <th>Validation Loss</th>\n",
       "      <th>Accuracy</th>\n",
       "      <th>Precision</th>\n",
       "      <th>Recall</th>\n",
       "      <th>F1</th>\n",
       "    </tr>\n",
       "  </thead>\n",
       "  <tbody>\n",
       "    <tr>\n",
       "      <td>1</td>\n",
       "      <td>0.443200</td>\n",
       "      <td>0.166431</td>\n",
       "      <td>0.947700</td>\n",
       "      <td>0.949691</td>\n",
       "      <td>0.947830</td>\n",
       "      <td>0.948009</td>\n",
       "    </tr>\n",
       "    <tr>\n",
       "      <td>2</td>\n",
       "      <td>0.098700</td>\n",
       "      <td>0.140477</td>\n",
       "      <td>0.954400</td>\n",
       "      <td>0.955254</td>\n",
       "      <td>0.954645</td>\n",
       "      <td>0.954550</td>\n",
       "    </tr>\n",
       "  </tbody>\n",
       "</table><p>"
      ],
      "text/plain": [
       "<IPython.core.display.HTML object>"
      ]
     },
     "metadata": {},
     "output_type": "display_data"
    },
    {
     "name": "stderr",
     "output_type": "stream",
     "text": [
      "[I 2025-03-29 18:45:41,106] Trial 19 pruned. \n"
     ]
    },
    {
     "name": "stdout",
     "output_type": "stream",
     "text": [
      "Trial 20 with params: {'learning_rate': 7.639542885278315e-05, 'weight_decay': 0.009000000000000001, 'warmup_steps': 32}\n"
     ]
    },
    {
     "name": "stderr",
     "output_type": "stream",
     "text": [
      "Some weights of TimmWrapperForImageClassification were not initialized from the model checkpoint at timm/tiny_vit_5m_224.in1k and are newly initialized because the shapes did not match:\n",
      "- head.fc.bias: found shape torch.Size([1000]) in the checkpoint and torch.Size([10]) in the model instantiated\n",
      "- head.fc.weight: found shape torch.Size([1000, 320]) in the checkpoint and torch.Size([10, 320]) in the model instantiated\n",
      "You should probably TRAIN this model on a down-stream task to be able to use it for predictions and inference.\n"
     ]
    },
    {
     "data": {
      "text/html": [
       "\n",
       "    <div>\n",
       "      \n",
       "      <progress value='2191' max='2191' style='width:300px; height:20px; vertical-align: middle;'></progress>\n",
       "      [2191/2191 09:38, Epoch 7/7]\n",
       "    </div>\n",
       "    <table border=\"1\" class=\"dataframe\">\n",
       "  <thead>\n",
       " <tr style=\"text-align: left;\">\n",
       "      <th>Epoch</th>\n",
       "      <th>Training Loss</th>\n",
       "      <th>Validation Loss</th>\n",
       "      <th>Accuracy</th>\n",
       "      <th>Precision</th>\n",
       "      <th>Recall</th>\n",
       "      <th>F1</th>\n",
       "    </tr>\n",
       "  </thead>\n",
       "  <tbody>\n",
       "    <tr>\n",
       "      <td>1</td>\n",
       "      <td>0.533200</td>\n",
       "      <td>0.152277</td>\n",
       "      <td>0.952500</td>\n",
       "      <td>0.953275</td>\n",
       "      <td>0.952709</td>\n",
       "      <td>0.952691</td>\n",
       "    </tr>\n",
       "    <tr>\n",
       "      <td>2</td>\n",
       "      <td>0.090000</td>\n",
       "      <td>0.119022</td>\n",
       "      <td>0.960100</td>\n",
       "      <td>0.960693</td>\n",
       "      <td>0.960234</td>\n",
       "      <td>0.960347</td>\n",
       "    </tr>\n",
       "    <tr>\n",
       "      <td>3</td>\n",
       "      <td>0.039100</td>\n",
       "      <td>0.131622</td>\n",
       "      <td>0.961700</td>\n",
       "      <td>0.961712</td>\n",
       "      <td>0.961984</td>\n",
       "      <td>0.961659</td>\n",
       "    </tr>\n",
       "    <tr>\n",
       "      <td>4</td>\n",
       "      <td>0.015200</td>\n",
       "      <td>0.138279</td>\n",
       "      <td>0.966000</td>\n",
       "      <td>0.966798</td>\n",
       "      <td>0.966095</td>\n",
       "      <td>0.966205</td>\n",
       "    </tr>\n",
       "    <tr>\n",
       "      <td>5</td>\n",
       "      <td>0.004700</td>\n",
       "      <td>0.137755</td>\n",
       "      <td>0.969200</td>\n",
       "      <td>0.969378</td>\n",
       "      <td>0.969317</td>\n",
       "      <td>0.969342</td>\n",
       "    </tr>\n",
       "    <tr>\n",
       "      <td>6</td>\n",
       "      <td>0.001400</td>\n",
       "      <td>0.142714</td>\n",
       "      <td>0.970500</td>\n",
       "      <td>0.970670</td>\n",
       "      <td>0.970633</td>\n",
       "      <td>0.970647</td>\n",
       "    </tr>\n",
       "    <tr>\n",
       "      <td>7</td>\n",
       "      <td>0.000500</td>\n",
       "      <td>0.142881</td>\n",
       "      <td>0.971000</td>\n",
       "      <td>0.971137</td>\n",
       "      <td>0.971157</td>\n",
       "      <td>0.971140</td>\n",
       "    </tr>\n",
       "  </tbody>\n",
       "</table><p>"
      ],
      "text/plain": [
       "<IPython.core.display.HTML object>"
      ]
     },
     "metadata": {},
     "output_type": "display_data"
    },
    {
     "name": "stderr",
     "output_type": "stream",
     "text": [
      "[I 2025-03-29 18:55:22,884] Trial 20 finished with value: 0.9711397392439892 and parameters: {'learning_rate': 7.639542885278315e-05, 'weight_decay': 0.009000000000000001, 'warmup_steps': 32}. Best is trial 14 with value: 0.9730240184701999.\n"
     ]
    },
    {
     "name": "stdout",
     "output_type": "stream",
     "text": [
      "Trial 21 with params: {'learning_rate': 6.804198974992601e-05, 'weight_decay': 0.008, 'warmup_steps': 32}\n"
     ]
    },
    {
     "name": "stderr",
     "output_type": "stream",
     "text": [
      "Some weights of TimmWrapperForImageClassification were not initialized from the model checkpoint at timm/tiny_vit_5m_224.in1k and are newly initialized because the shapes did not match:\n",
      "- head.fc.bias: found shape torch.Size([1000]) in the checkpoint and torch.Size([10]) in the model instantiated\n",
      "- head.fc.weight: found shape torch.Size([1000, 320]) in the checkpoint and torch.Size([10, 320]) in the model instantiated\n",
      "You should probably TRAIN this model on a down-stream task to be able to use it for predictions and inference.\n"
     ]
    },
    {
     "data": {
      "text/html": [
       "\n",
       "    <div>\n",
       "      \n",
       "      <progress value='2191' max='2191' style='width:300px; height:20px; vertical-align: middle;'></progress>\n",
       "      [2191/2191 09:39, Epoch 7/7]\n",
       "    </div>\n",
       "    <table border=\"1\" class=\"dataframe\">\n",
       "  <thead>\n",
       " <tr style=\"text-align: left;\">\n",
       "      <th>Epoch</th>\n",
       "      <th>Training Loss</th>\n",
       "      <th>Validation Loss</th>\n",
       "      <th>Accuracy</th>\n",
       "      <th>Precision</th>\n",
       "      <th>Recall</th>\n",
       "      <th>F1</th>\n",
       "    </tr>\n",
       "  </thead>\n",
       "  <tbody>\n",
       "    <tr>\n",
       "      <td>1</td>\n",
       "      <td>0.552200</td>\n",
       "      <td>0.184256</td>\n",
       "      <td>0.941700</td>\n",
       "      <td>0.944640</td>\n",
       "      <td>0.941812</td>\n",
       "      <td>0.942290</td>\n",
       "    </tr>\n",
       "    <tr>\n",
       "      <td>2</td>\n",
       "      <td>0.095400</td>\n",
       "      <td>0.120527</td>\n",
       "      <td>0.960600</td>\n",
       "      <td>0.960914</td>\n",
       "      <td>0.960722</td>\n",
       "      <td>0.960676</td>\n",
       "    </tr>\n",
       "    <tr>\n",
       "      <td>3</td>\n",
       "      <td>0.038700</td>\n",
       "      <td>0.115763</td>\n",
       "      <td>0.967100</td>\n",
       "      <td>0.967535</td>\n",
       "      <td>0.967227</td>\n",
       "      <td>0.967206</td>\n",
       "    </tr>\n",
       "    <tr>\n",
       "      <td>4</td>\n",
       "      <td>0.014300</td>\n",
       "      <td>0.133903</td>\n",
       "      <td>0.967800</td>\n",
       "      <td>0.967836</td>\n",
       "      <td>0.968005</td>\n",
       "      <td>0.967823</td>\n",
       "    </tr>\n",
       "    <tr>\n",
       "      <td>5</td>\n",
       "      <td>0.005100</td>\n",
       "      <td>0.141145</td>\n",
       "      <td>0.970600</td>\n",
       "      <td>0.971114</td>\n",
       "      <td>0.970654</td>\n",
       "      <td>0.970745</td>\n",
       "    </tr>\n",
       "    <tr>\n",
       "      <td>6</td>\n",
       "      <td>0.001700</td>\n",
       "      <td>0.137425</td>\n",
       "      <td>0.969700</td>\n",
       "      <td>0.969858</td>\n",
       "      <td>0.969800</td>\n",
       "      <td>0.969814</td>\n",
       "    </tr>\n",
       "    <tr>\n",
       "      <td>7</td>\n",
       "      <td>0.000700</td>\n",
       "      <td>0.138980</td>\n",
       "      <td>0.970900</td>\n",
       "      <td>0.970967</td>\n",
       "      <td>0.971030</td>\n",
       "      <td>0.970987</td>\n",
       "    </tr>\n",
       "  </tbody>\n",
       "</table><p>"
      ],
      "text/plain": [
       "<IPython.core.display.HTML object>"
      ]
     },
     "metadata": {},
     "output_type": "display_data"
    },
    {
     "name": "stderr",
     "output_type": "stream",
     "text": [
      "[I 2025-03-29 19:05:04,917] Trial 21 finished with value: 0.970986506707678 and parameters: {'learning_rate': 6.804198974992601e-05, 'weight_decay': 0.008, 'warmup_steps': 32}. Best is trial 14 with value: 0.9730240184701999.\n"
     ]
    },
    {
     "name": "stdout",
     "output_type": "stream",
     "text": [
      "Trial 22 with params: {'learning_rate': 0.00019913817180425286, 'weight_decay': 0.008, 'warmup_steps': 30}\n"
     ]
    },
    {
     "name": "stderr",
     "output_type": "stream",
     "text": [
      "Some weights of TimmWrapperForImageClassification were not initialized from the model checkpoint at timm/tiny_vit_5m_224.in1k and are newly initialized because the shapes did not match:\n",
      "- head.fc.bias: found shape torch.Size([1000]) in the checkpoint and torch.Size([10]) in the model instantiated\n",
      "- head.fc.weight: found shape torch.Size([1000, 320]) in the checkpoint and torch.Size([10, 320]) in the model instantiated\n",
      "You should probably TRAIN this model on a down-stream task to be able to use it for predictions and inference.\n"
     ]
    },
    {
     "data": {
      "text/html": [
       "\n",
       "    <div>\n",
       "      \n",
       "      <progress value='2191' max='2191' style='width:300px; height:20px; vertical-align: middle;'></progress>\n",
       "      [2191/2191 09:38, Epoch 7/7]\n",
       "    </div>\n",
       "    <table border=\"1\" class=\"dataframe\">\n",
       "  <thead>\n",
       " <tr style=\"text-align: left;\">\n",
       "      <th>Epoch</th>\n",
       "      <th>Training Loss</th>\n",
       "      <th>Validation Loss</th>\n",
       "      <th>Accuracy</th>\n",
       "      <th>Precision</th>\n",
       "      <th>Recall</th>\n",
       "      <th>F1</th>\n",
       "    </tr>\n",
       "  </thead>\n",
       "  <tbody>\n",
       "    <tr>\n",
       "      <td>1</td>\n",
       "      <td>0.451600</td>\n",
       "      <td>0.215778</td>\n",
       "      <td>0.926500</td>\n",
       "      <td>0.931213</td>\n",
       "      <td>0.926719</td>\n",
       "      <td>0.926925</td>\n",
       "    </tr>\n",
       "    <tr>\n",
       "      <td>2</td>\n",
       "      <td>0.115900</td>\n",
       "      <td>0.159373</td>\n",
       "      <td>0.947300</td>\n",
       "      <td>0.949858</td>\n",
       "      <td>0.947442</td>\n",
       "      <td>0.947750</td>\n",
       "    </tr>\n",
       "    <tr>\n",
       "      <td>3</td>\n",
       "      <td>0.061000</td>\n",
       "      <td>0.120467</td>\n",
       "      <td>0.962000</td>\n",
       "      <td>0.962484</td>\n",
       "      <td>0.962111</td>\n",
       "      <td>0.962203</td>\n",
       "    </tr>\n",
       "    <tr>\n",
       "      <td>4</td>\n",
       "      <td>0.028600</td>\n",
       "      <td>0.131587</td>\n",
       "      <td>0.963600</td>\n",
       "      <td>0.963788</td>\n",
       "      <td>0.963698</td>\n",
       "      <td>0.963716</td>\n",
       "    </tr>\n",
       "    <tr>\n",
       "      <td>5</td>\n",
       "      <td>0.011200</td>\n",
       "      <td>0.132403</td>\n",
       "      <td>0.968000</td>\n",
       "      <td>0.968147</td>\n",
       "      <td>0.968156</td>\n",
       "      <td>0.968126</td>\n",
       "    </tr>\n",
       "    <tr>\n",
       "      <td>6</td>\n",
       "      <td>0.003600</td>\n",
       "      <td>0.129192</td>\n",
       "      <td>0.971400</td>\n",
       "      <td>0.971634</td>\n",
       "      <td>0.971510</td>\n",
       "      <td>0.971546</td>\n",
       "    </tr>\n",
       "    <tr>\n",
       "      <td>7</td>\n",
       "      <td>0.000800</td>\n",
       "      <td>0.128850</td>\n",
       "      <td>0.973300</td>\n",
       "      <td>0.973376</td>\n",
       "      <td>0.973434</td>\n",
       "      <td>0.973383</td>\n",
       "    </tr>\n",
       "  </tbody>\n",
       "</table><p>"
      ],
      "text/plain": [
       "<IPython.core.display.HTML object>"
      ]
     },
     "metadata": {},
     "output_type": "display_data"
    },
    {
     "name": "stderr",
     "output_type": "stream",
     "text": [
      "[I 2025-03-29 19:14:46,002] Trial 22 finished with value: 0.9733827228355143 and parameters: {'learning_rate': 0.00019913817180425286, 'weight_decay': 0.008, 'warmup_steps': 30}. Best is trial 22 with value: 0.9733827228355143.\n"
     ]
    },
    {
     "name": "stdout",
     "output_type": "stream",
     "text": [
      "Trial 23 with params: {'learning_rate': 9.496688021669307e-05, 'weight_decay': 0.005, 'warmup_steps': 24}\n"
     ]
    },
    {
     "name": "stderr",
     "output_type": "stream",
     "text": [
      "Some weights of TimmWrapperForImageClassification were not initialized from the model checkpoint at timm/tiny_vit_5m_224.in1k and are newly initialized because the shapes did not match:\n",
      "- head.fc.bias: found shape torch.Size([1000]) in the checkpoint and torch.Size([10]) in the model instantiated\n",
      "- head.fc.weight: found shape torch.Size([1000, 320]) in the checkpoint and torch.Size([10, 320]) in the model instantiated\n",
      "You should probably TRAIN this model on a down-stream task to be able to use it for predictions and inference.\n"
     ]
    },
    {
     "data": {
      "text/html": [
       "\n",
       "    <div>\n",
       "      \n",
       "      <progress value='1252' max='2191' style='width:300px; height:20px; vertical-align: middle;'></progress>\n",
       "      [1252/2191 05:30 < 04:08, 3.78 it/s, Epoch 4/7]\n",
       "    </div>\n",
       "    <table border=\"1\" class=\"dataframe\">\n",
       "  <thead>\n",
       " <tr style=\"text-align: left;\">\n",
       "      <th>Epoch</th>\n",
       "      <th>Training Loss</th>\n",
       "      <th>Validation Loss</th>\n",
       "      <th>Accuracy</th>\n",
       "      <th>Precision</th>\n",
       "      <th>Recall</th>\n",
       "      <th>F1</th>\n",
       "    </tr>\n",
       "  </thead>\n",
       "  <tbody>\n",
       "    <tr>\n",
       "      <td>1</td>\n",
       "      <td>0.481400</td>\n",
       "      <td>0.195403</td>\n",
       "      <td>0.935000</td>\n",
       "      <td>0.944111</td>\n",
       "      <td>0.935220</td>\n",
       "      <td>0.936601</td>\n",
       "    </tr>\n",
       "    <tr>\n",
       "      <td>2</td>\n",
       "      <td>0.091400</td>\n",
       "      <td>0.127305</td>\n",
       "      <td>0.958400</td>\n",
       "      <td>0.958982</td>\n",
       "      <td>0.958643</td>\n",
       "      <td>0.958548</td>\n",
       "    </tr>\n",
       "    <tr>\n",
       "      <td>3</td>\n",
       "      <td>0.040600</td>\n",
       "      <td>0.117421</td>\n",
       "      <td>0.964000</td>\n",
       "      <td>0.964429</td>\n",
       "      <td>0.964130</td>\n",
       "      <td>0.964192</td>\n",
       "    </tr>\n",
       "    <tr>\n",
       "      <td>4</td>\n",
       "      <td>0.017300</td>\n",
       "      <td>0.136321</td>\n",
       "      <td>0.966800</td>\n",
       "      <td>0.967283</td>\n",
       "      <td>0.966960</td>\n",
       "      <td>0.966996</td>\n",
       "    </tr>\n",
       "  </tbody>\n",
       "</table><p>"
      ],
      "text/plain": [
       "<IPython.core.display.HTML object>"
      ]
     },
     "metadata": {},
     "output_type": "display_data"
    },
    {
     "name": "stderr",
     "output_type": "stream",
     "text": [
      "[I 2025-03-29 19:20:18,460] Trial 23 pruned. \n"
     ]
    },
    {
     "name": "stdout",
     "output_type": "stream",
     "text": [
      "Trial 24 with params: {'learning_rate': 0.00011865097794262479, 'weight_decay': 0.006, 'warmup_steps': 27}\n"
     ]
    },
    {
     "name": "stderr",
     "output_type": "stream",
     "text": [
      "Some weights of TimmWrapperForImageClassification were not initialized from the model checkpoint at timm/tiny_vit_5m_224.in1k and are newly initialized because the shapes did not match:\n",
      "- head.fc.bias: found shape torch.Size([1000]) in the checkpoint and torch.Size([10]) in the model instantiated\n",
      "- head.fc.weight: found shape torch.Size([1000, 320]) in the checkpoint and torch.Size([10, 320]) in the model instantiated\n",
      "You should probably TRAIN this model on a down-stream task to be able to use it for predictions and inference.\n"
     ]
    },
    {
     "data": {
      "text/html": [
       "\n",
       "    <div>\n",
       "      \n",
       "      <progress value='2191' max='2191' style='width:300px; height:20px; vertical-align: middle;'></progress>\n",
       "      [2191/2191 09:38, Epoch 7/7]\n",
       "    </div>\n",
       "    <table border=\"1\" class=\"dataframe\">\n",
       "  <thead>\n",
       " <tr style=\"text-align: left;\">\n",
       "      <th>Epoch</th>\n",
       "      <th>Training Loss</th>\n",
       "      <th>Validation Loss</th>\n",
       "      <th>Accuracy</th>\n",
       "      <th>Precision</th>\n",
       "      <th>Recall</th>\n",
       "      <th>F1</th>\n",
       "    </tr>\n",
       "  </thead>\n",
       "  <tbody>\n",
       "    <tr>\n",
       "      <td>1</td>\n",
       "      <td>0.476000</td>\n",
       "      <td>0.160698</td>\n",
       "      <td>0.946600</td>\n",
       "      <td>0.948305</td>\n",
       "      <td>0.946541</td>\n",
       "      <td>0.946851</td>\n",
       "    </tr>\n",
       "    <tr>\n",
       "      <td>2</td>\n",
       "      <td>0.096000</td>\n",
       "      <td>0.127472</td>\n",
       "      <td>0.956500</td>\n",
       "      <td>0.957121</td>\n",
       "      <td>0.956624</td>\n",
       "      <td>0.956618</td>\n",
       "    </tr>\n",
       "    <tr>\n",
       "      <td>3</td>\n",
       "      <td>0.043500</td>\n",
       "      <td>0.127944</td>\n",
       "      <td>0.963800</td>\n",
       "      <td>0.964849</td>\n",
       "      <td>0.963890</td>\n",
       "      <td>0.964029</td>\n",
       "    </tr>\n",
       "    <tr>\n",
       "      <td>4</td>\n",
       "      <td>0.019700</td>\n",
       "      <td>0.128134</td>\n",
       "      <td>0.967400</td>\n",
       "      <td>0.968073</td>\n",
       "      <td>0.967510</td>\n",
       "      <td>0.967614</td>\n",
       "    </tr>\n",
       "    <tr>\n",
       "      <td>5</td>\n",
       "      <td>0.006000</td>\n",
       "      <td>0.135274</td>\n",
       "      <td>0.969800</td>\n",
       "      <td>0.970111</td>\n",
       "      <td>0.969916</td>\n",
       "      <td>0.969965</td>\n",
       "    </tr>\n",
       "    <tr>\n",
       "      <td>6</td>\n",
       "      <td>0.001800</td>\n",
       "      <td>0.128943</td>\n",
       "      <td>0.973200</td>\n",
       "      <td>0.973455</td>\n",
       "      <td>0.973298</td>\n",
       "      <td>0.973361</td>\n",
       "    </tr>\n",
       "    <tr>\n",
       "      <td>7</td>\n",
       "      <td>0.000700</td>\n",
       "      <td>0.130094</td>\n",
       "      <td>0.973100</td>\n",
       "      <td>0.973254</td>\n",
       "      <td>0.973226</td>\n",
       "      <td>0.973229</td>\n",
       "    </tr>\n",
       "  </tbody>\n",
       "</table><p>"
      ],
      "text/plain": [
       "<IPython.core.display.HTML object>"
      ]
     },
     "metadata": {},
     "output_type": "display_data"
    },
    {
     "name": "stderr",
     "output_type": "stream",
     "text": [
      "[I 2025-03-29 19:29:59,931] Trial 24 finished with value: 0.9732291600489491 and parameters: {'learning_rate': 0.00011865097794262479, 'weight_decay': 0.006, 'warmup_steps': 27}. Best is trial 22 with value: 0.9733827228355143.\n"
     ]
    },
    {
     "name": "stdout",
     "output_type": "stream",
     "text": [
      "Trial 25 with params: {'learning_rate': 0.00020601407276034348, 'weight_decay': 0.003, 'warmup_steps': 30}\n"
     ]
    },
    {
     "name": "stderr",
     "output_type": "stream",
     "text": [
      "Some weights of TimmWrapperForImageClassification were not initialized from the model checkpoint at timm/tiny_vit_5m_224.in1k and are newly initialized because the shapes did not match:\n",
      "- head.fc.bias: found shape torch.Size([1000]) in the checkpoint and torch.Size([10]) in the model instantiated\n",
      "- head.fc.weight: found shape torch.Size([1000, 320]) in the checkpoint and torch.Size([10, 320]) in the model instantiated\n",
      "You should probably TRAIN this model on a down-stream task to be able to use it for predictions and inference.\n"
     ]
    },
    {
     "data": {
      "text/html": [
       "\n",
       "    <div>\n",
       "      \n",
       "      <progress value='626' max='2191' style='width:300px; height:20px; vertical-align: middle;'></progress>\n",
       "      [ 626/2191 02:45 < 06:53, 3.78 it/s, Epoch 2/7]\n",
       "    </div>\n",
       "    <table border=\"1\" class=\"dataframe\">\n",
       "  <thead>\n",
       " <tr style=\"text-align: left;\">\n",
       "      <th>Epoch</th>\n",
       "      <th>Training Loss</th>\n",
       "      <th>Validation Loss</th>\n",
       "      <th>Accuracy</th>\n",
       "      <th>Precision</th>\n",
       "      <th>Recall</th>\n",
       "      <th>F1</th>\n",
       "    </tr>\n",
       "  </thead>\n",
       "  <tbody>\n",
       "    <tr>\n",
       "      <td>1</td>\n",
       "      <td>0.452900</td>\n",
       "      <td>0.220150</td>\n",
       "      <td>0.926500</td>\n",
       "      <td>0.929263</td>\n",
       "      <td>0.926812</td>\n",
       "      <td>0.926729</td>\n",
       "    </tr>\n",
       "    <tr>\n",
       "      <td>2</td>\n",
       "      <td>0.110500</td>\n",
       "      <td>0.160777</td>\n",
       "      <td>0.948400</td>\n",
       "      <td>0.949656</td>\n",
       "      <td>0.948564</td>\n",
       "      <td>0.948669</td>\n",
       "    </tr>\n",
       "  </tbody>\n",
       "</table><p>"
      ],
      "text/plain": [
       "<IPython.core.display.HTML object>"
      ]
     },
     "metadata": {},
     "output_type": "display_data"
    },
    {
     "name": "stderr",
     "output_type": "stream",
     "text": [
      "[I 2025-03-29 19:32:46,753] Trial 25 pruned. \n"
     ]
    },
    {
     "name": "stdout",
     "output_type": "stream",
     "text": [
      "Trial 26 with params: {'learning_rate': 0.00024009854177757173, 'weight_decay': 0.009000000000000001, 'warmup_steps': 28}\n"
     ]
    },
    {
     "name": "stderr",
     "output_type": "stream",
     "text": [
      "Some weights of TimmWrapperForImageClassification were not initialized from the model checkpoint at timm/tiny_vit_5m_224.in1k and are newly initialized because the shapes did not match:\n",
      "- head.fc.bias: found shape torch.Size([1000]) in the checkpoint and torch.Size([10]) in the model instantiated\n",
      "- head.fc.weight: found shape torch.Size([1000, 320]) in the checkpoint and torch.Size([10, 320]) in the model instantiated\n",
      "You should probably TRAIN this model on a down-stream task to be able to use it for predictions and inference.\n"
     ]
    },
    {
     "data": {
      "text/html": [
       "\n",
       "    <div>\n",
       "      \n",
       "      <progress value='2191' max='2191' style='width:300px; height:20px; vertical-align: middle;'></progress>\n",
       "      [2191/2191 09:39, Epoch 7/7]\n",
       "    </div>\n",
       "    <table border=\"1\" class=\"dataframe\">\n",
       "  <thead>\n",
       " <tr style=\"text-align: left;\">\n",
       "      <th>Epoch</th>\n",
       "      <th>Training Loss</th>\n",
       "      <th>Validation Loss</th>\n",
       "      <th>Accuracy</th>\n",
       "      <th>Precision</th>\n",
       "      <th>Recall</th>\n",
       "      <th>F1</th>\n",
       "    </tr>\n",
       "  </thead>\n",
       "  <tbody>\n",
       "    <tr>\n",
       "      <td>1</td>\n",
       "      <td>0.443000</td>\n",
       "      <td>0.239708</td>\n",
       "      <td>0.921100</td>\n",
       "      <td>0.924993</td>\n",
       "      <td>0.921206</td>\n",
       "      <td>0.921138</td>\n",
       "    </tr>\n",
       "    <tr>\n",
       "      <td>2</td>\n",
       "      <td>0.125800</td>\n",
       "      <td>0.146923</td>\n",
       "      <td>0.949500</td>\n",
       "      <td>0.950336</td>\n",
       "      <td>0.949771</td>\n",
       "      <td>0.949617</td>\n",
       "    </tr>\n",
       "    <tr>\n",
       "      <td>3</td>\n",
       "      <td>0.065500</td>\n",
       "      <td>0.127077</td>\n",
       "      <td>0.960700</td>\n",
       "      <td>0.961614</td>\n",
       "      <td>0.960873</td>\n",
       "      <td>0.960989</td>\n",
       "    </tr>\n",
       "    <tr>\n",
       "      <td>4</td>\n",
       "      <td>0.033800</td>\n",
       "      <td>0.134583</td>\n",
       "      <td>0.964600</td>\n",
       "      <td>0.965048</td>\n",
       "      <td>0.964578</td>\n",
       "      <td>0.964718</td>\n",
       "    </tr>\n",
       "    <tr>\n",
       "      <td>5</td>\n",
       "      <td>0.015300</td>\n",
       "      <td>0.142064</td>\n",
       "      <td>0.965200</td>\n",
       "      <td>0.965690</td>\n",
       "      <td>0.965229</td>\n",
       "      <td>0.965309</td>\n",
       "    </tr>\n",
       "    <tr>\n",
       "      <td>6</td>\n",
       "      <td>0.003500</td>\n",
       "      <td>0.126390</td>\n",
       "      <td>0.971700</td>\n",
       "      <td>0.971953</td>\n",
       "      <td>0.971812</td>\n",
       "      <td>0.971860</td>\n",
       "    </tr>\n",
       "    <tr>\n",
       "      <td>7</td>\n",
       "      <td>0.001200</td>\n",
       "      <td>0.125383</td>\n",
       "      <td>0.972100</td>\n",
       "      <td>0.972385</td>\n",
       "      <td>0.972205</td>\n",
       "      <td>0.972276</td>\n",
       "    </tr>\n",
       "  </tbody>\n",
       "</table><p>"
      ],
      "text/plain": [
       "<IPython.core.display.HTML object>"
      ]
     },
     "metadata": {},
     "output_type": "display_data"
    },
    {
     "name": "stderr",
     "output_type": "stream",
     "text": [
      "[I 2025-03-29 19:42:28,614] Trial 26 finished with value: 0.9722758907507199 and parameters: {'learning_rate': 0.00024009854177757173, 'weight_decay': 0.009000000000000001, 'warmup_steps': 28}. Best is trial 22 with value: 0.9733827228355143.\n"
     ]
    },
    {
     "name": "stdout",
     "output_type": "stream",
     "text": [
      "Trial 27 with params: {'learning_rate': 0.0002467077135460003, 'weight_decay': 0.006, 'warmup_steps': 32}\n"
     ]
    },
    {
     "name": "stderr",
     "output_type": "stream",
     "text": [
      "Some weights of TimmWrapperForImageClassification were not initialized from the model checkpoint at timm/tiny_vit_5m_224.in1k and are newly initialized because the shapes did not match:\n",
      "- head.fc.bias: found shape torch.Size([1000]) in the checkpoint and torch.Size([10]) in the model instantiated\n",
      "- head.fc.weight: found shape torch.Size([1000, 320]) in the checkpoint and torch.Size([10, 320]) in the model instantiated\n",
      "You should probably TRAIN this model on a down-stream task to be able to use it for predictions and inference.\n"
     ]
    },
    {
     "data": {
      "text/html": [
       "\n",
       "    <div>\n",
       "      \n",
       "      <progress value='626' max='2191' style='width:300px; height:20px; vertical-align: middle;'></progress>\n",
       "      [ 626/2191 02:44 < 06:52, 3.79 it/s, Epoch 2/7]\n",
       "    </div>\n",
       "    <table border=\"1\" class=\"dataframe\">\n",
       "  <thead>\n",
       " <tr style=\"text-align: left;\">\n",
       "      <th>Epoch</th>\n",
       "      <th>Training Loss</th>\n",
       "      <th>Validation Loss</th>\n",
       "      <th>Accuracy</th>\n",
       "      <th>Precision</th>\n",
       "      <th>Recall</th>\n",
       "      <th>F1</th>\n",
       "    </tr>\n",
       "  </thead>\n",
       "  <tbody>\n",
       "    <tr>\n",
       "      <td>1</td>\n",
       "      <td>0.462000</td>\n",
       "      <td>0.229358</td>\n",
       "      <td>0.922900</td>\n",
       "      <td>0.930496</td>\n",
       "      <td>0.922725</td>\n",
       "      <td>0.924326</td>\n",
       "    </tr>\n",
       "    <tr>\n",
       "      <td>2</td>\n",
       "      <td>0.122700</td>\n",
       "      <td>0.148176</td>\n",
       "      <td>0.949700</td>\n",
       "      <td>0.950960</td>\n",
       "      <td>0.949809</td>\n",
       "      <td>0.949961</td>\n",
       "    </tr>\n",
       "  </tbody>\n",
       "</table><p>"
      ],
      "text/plain": [
       "<IPython.core.display.HTML object>"
      ]
     },
     "metadata": {},
     "output_type": "display_data"
    },
    {
     "name": "stderr",
     "output_type": "stream",
     "text": [
      "[I 2025-03-29 19:45:14,970] Trial 27 pruned. \n"
     ]
    },
    {
     "name": "stdout",
     "output_type": "stream",
     "text": [
      "Trial 28 with params: {'learning_rate': 0.002953666986018182, 'weight_decay': 0.002, 'warmup_steps': 23}\n"
     ]
    },
    {
     "name": "stderr",
     "output_type": "stream",
     "text": [
      "Some weights of TimmWrapperForImageClassification were not initialized from the model checkpoint at timm/tiny_vit_5m_224.in1k and are newly initialized because the shapes did not match:\n",
      "- head.fc.bias: found shape torch.Size([1000]) in the checkpoint and torch.Size([10]) in the model instantiated\n",
      "- head.fc.weight: found shape torch.Size([1000, 320]) in the checkpoint and torch.Size([10, 320]) in the model instantiated\n",
      "You should probably TRAIN this model on a down-stream task to be able to use it for predictions and inference.\n"
     ]
    },
    {
     "data": {
      "text/html": [
       "\n",
       "    <div>\n",
       "      \n",
       "      <progress value='626' max='2191' style='width:300px; height:20px; vertical-align: middle;'></progress>\n",
       "      [ 626/2191 02:44 < 06:51, 3.80 it/s, Epoch 2/7]\n",
       "    </div>\n",
       "    <table border=\"1\" class=\"dataframe\">\n",
       "  <thead>\n",
       " <tr style=\"text-align: left;\">\n",
       "      <th>Epoch</th>\n",
       "      <th>Training Loss</th>\n",
       "      <th>Validation Loss</th>\n",
       "      <th>Accuracy</th>\n",
       "      <th>Precision</th>\n",
       "      <th>Recall</th>\n",
       "      <th>F1</th>\n",
       "    </tr>\n",
       "  </thead>\n",
       "  <tbody>\n",
       "    <tr>\n",
       "      <td>1</td>\n",
       "      <td>1.989900</td>\n",
       "      <td>2.270544</td>\n",
       "      <td>0.175200</td>\n",
       "      <td>0.120661</td>\n",
       "      <td>0.173074</td>\n",
       "      <td>0.125013</td>\n",
       "    </tr>\n",
       "    <tr>\n",
       "      <td>2</td>\n",
       "      <td>2.167500</td>\n",
       "      <td>2.218947</td>\n",
       "      <td>0.180800</td>\n",
       "      <td>0.170645</td>\n",
       "      <td>0.180350</td>\n",
       "      <td>0.144290</td>\n",
       "    </tr>\n",
       "  </tbody>\n",
       "</table><p>"
      ],
      "text/plain": [
       "<IPython.core.display.HTML object>"
      ]
     },
     "metadata": {},
     "output_type": "display_data"
    },
    {
     "name": "stderr",
     "output_type": "stream",
     "text": [
      "[I 2025-03-29 19:48:01,025] Trial 28 pruned. \n"
     ]
    },
    {
     "name": "stdout",
     "output_type": "stream",
     "text": [
      "Trial 29 with params: {'learning_rate': 0.00011735172641973649, 'weight_decay': 0.003, 'warmup_steps': 0}\n"
     ]
    },
    {
     "name": "stderr",
     "output_type": "stream",
     "text": [
      "Some weights of TimmWrapperForImageClassification were not initialized from the model checkpoint at timm/tiny_vit_5m_224.in1k and are newly initialized because the shapes did not match:\n",
      "- head.fc.bias: found shape torch.Size([1000]) in the checkpoint and torch.Size([10]) in the model instantiated\n",
      "- head.fc.weight: found shape torch.Size([1000, 320]) in the checkpoint and torch.Size([10, 320]) in the model instantiated\n",
      "You should probably TRAIN this model on a down-stream task to be able to use it for predictions and inference.\n"
     ]
    },
    {
     "data": {
      "text/html": [
       "\n",
       "    <div>\n",
       "      \n",
       "      <progress value='2191' max='2191' style='width:300px; height:20px; vertical-align: middle;'></progress>\n",
       "      [2191/2191 09:37, Epoch 7/7]\n",
       "    </div>\n",
       "    <table border=\"1\" class=\"dataframe\">\n",
       "  <thead>\n",
       " <tr style=\"text-align: left;\">\n",
       "      <th>Epoch</th>\n",
       "      <th>Training Loss</th>\n",
       "      <th>Validation Loss</th>\n",
       "      <th>Accuracy</th>\n",
       "      <th>Precision</th>\n",
       "      <th>Recall</th>\n",
       "      <th>F1</th>\n",
       "    </tr>\n",
       "  </thead>\n",
       "  <tbody>\n",
       "    <tr>\n",
       "      <td>1</td>\n",
       "      <td>0.392200</td>\n",
       "      <td>0.171859</td>\n",
       "      <td>0.944800</td>\n",
       "      <td>0.948764</td>\n",
       "      <td>0.945024</td>\n",
       "      <td>0.945414</td>\n",
       "    </tr>\n",
       "    <tr>\n",
       "      <td>2</td>\n",
       "      <td>0.086600</td>\n",
       "      <td>0.110174</td>\n",
       "      <td>0.963100</td>\n",
       "      <td>0.963302</td>\n",
       "      <td>0.963305</td>\n",
       "      <td>0.963241</td>\n",
       "    </tr>\n",
       "    <tr>\n",
       "      <td>3</td>\n",
       "      <td>0.040800</td>\n",
       "      <td>0.123265</td>\n",
       "      <td>0.963300</td>\n",
       "      <td>0.964440</td>\n",
       "      <td>0.963430</td>\n",
       "      <td>0.963679</td>\n",
       "    </tr>\n",
       "    <tr>\n",
       "      <td>4</td>\n",
       "      <td>0.017700</td>\n",
       "      <td>0.122345</td>\n",
       "      <td>0.968200</td>\n",
       "      <td>0.968252</td>\n",
       "      <td>0.968392</td>\n",
       "      <td>0.968251</td>\n",
       "    </tr>\n",
       "    <tr>\n",
       "      <td>5</td>\n",
       "      <td>0.005600</td>\n",
       "      <td>0.141341</td>\n",
       "      <td>0.969000</td>\n",
       "      <td>0.969390</td>\n",
       "      <td>0.969073</td>\n",
       "      <td>0.969177</td>\n",
       "    </tr>\n",
       "    <tr>\n",
       "      <td>6</td>\n",
       "      <td>0.001600</td>\n",
       "      <td>0.138268</td>\n",
       "      <td>0.970300</td>\n",
       "      <td>0.970583</td>\n",
       "      <td>0.970407</td>\n",
       "      <td>0.970469</td>\n",
       "    </tr>\n",
       "    <tr>\n",
       "      <td>7</td>\n",
       "      <td>0.000400</td>\n",
       "      <td>0.136750</td>\n",
       "      <td>0.970600</td>\n",
       "      <td>0.970681</td>\n",
       "      <td>0.970753</td>\n",
       "      <td>0.970708</td>\n",
       "    </tr>\n",
       "  </tbody>\n",
       "</table><p>"
      ],
      "text/plain": [
       "<IPython.core.display.HTML object>"
      ]
     },
     "metadata": {},
     "output_type": "display_data"
    },
    {
     "name": "stderr",
     "output_type": "stream",
     "text": [
      "[I 2025-03-29 19:57:41,137] Trial 29 finished with value: 0.970708143786813 and parameters: {'learning_rate': 0.00011735172641973649, 'weight_decay': 0.003, 'warmup_steps': 0}. Best is trial 22 with value: 0.9733827228355143.\n"
     ]
    },
    {
     "name": "stdout",
     "output_type": "stream",
     "text": [
      "Trial 30 with params: {'learning_rate': 0.00028100291767653175, 'weight_decay': 0.007, 'warmup_steps': 23}\n"
     ]
    },
    {
     "name": "stderr",
     "output_type": "stream",
     "text": [
      "Some weights of TimmWrapperForImageClassification were not initialized from the model checkpoint at timm/tiny_vit_5m_224.in1k and are newly initialized because the shapes did not match:\n",
      "- head.fc.bias: found shape torch.Size([1000]) in the checkpoint and torch.Size([10]) in the model instantiated\n",
      "- head.fc.weight: found shape torch.Size([1000, 320]) in the checkpoint and torch.Size([10, 320]) in the model instantiated\n",
      "You should probably TRAIN this model on a down-stream task to be able to use it for predictions and inference.\n"
     ]
    },
    {
     "data": {
      "text/html": [
       "\n",
       "    <div>\n",
       "      \n",
       "      <progress value='1252' max='2191' style='width:300px; height:20px; vertical-align: middle;'></progress>\n",
       "      [1252/2191 05:29 < 04:07, 3.80 it/s, Epoch 4/7]\n",
       "    </div>\n",
       "    <table border=\"1\" class=\"dataframe\">\n",
       "  <thead>\n",
       " <tr style=\"text-align: left;\">\n",
       "      <th>Epoch</th>\n",
       "      <th>Training Loss</th>\n",
       "      <th>Validation Loss</th>\n",
       "      <th>Accuracy</th>\n",
       "      <th>Precision</th>\n",
       "      <th>Recall</th>\n",
       "      <th>F1</th>\n",
       "    </tr>\n",
       "  </thead>\n",
       "  <tbody>\n",
       "    <tr>\n",
       "      <td>1</td>\n",
       "      <td>0.439600</td>\n",
       "      <td>0.263432</td>\n",
       "      <td>0.911000</td>\n",
       "      <td>0.917949</td>\n",
       "      <td>0.911041</td>\n",
       "      <td>0.911214</td>\n",
       "    </tr>\n",
       "    <tr>\n",
       "      <td>2</td>\n",
       "      <td>0.137900</td>\n",
       "      <td>0.180815</td>\n",
       "      <td>0.940500</td>\n",
       "      <td>0.942103</td>\n",
       "      <td>0.940826</td>\n",
       "      <td>0.940662</td>\n",
       "    </tr>\n",
       "    <tr>\n",
       "      <td>3</td>\n",
       "      <td>0.075200</td>\n",
       "      <td>0.151090</td>\n",
       "      <td>0.952700</td>\n",
       "      <td>0.954112</td>\n",
       "      <td>0.952643</td>\n",
       "      <td>0.953095</td>\n",
       "    </tr>\n",
       "    <tr>\n",
       "      <td>4</td>\n",
       "      <td>0.041800</td>\n",
       "      <td>0.146234</td>\n",
       "      <td>0.959800</td>\n",
       "      <td>0.959802</td>\n",
       "      <td>0.960000</td>\n",
       "      <td>0.959856</td>\n",
       "    </tr>\n",
       "  </tbody>\n",
       "</table><p>"
      ],
      "text/plain": [
       "<IPython.core.display.HTML object>"
      ]
     },
     "metadata": {},
     "output_type": "display_data"
    },
    {
     "name": "stderr",
     "output_type": "stream",
     "text": [
      "[I 2025-03-29 20:03:12,372] Trial 30 pruned. \n"
     ]
    },
    {
     "name": "stdout",
     "output_type": "stream",
     "text": [
      "Trial 31 with params: {'learning_rate': 0.0003282029820771861, 'weight_decay': 0.01, 'warmup_steps': 26}\n"
     ]
    },
    {
     "name": "stderr",
     "output_type": "stream",
     "text": [
      "Some weights of TimmWrapperForImageClassification were not initialized from the model checkpoint at timm/tiny_vit_5m_224.in1k and are newly initialized because the shapes did not match:\n",
      "- head.fc.bias: found shape torch.Size([1000]) in the checkpoint and torch.Size([10]) in the model instantiated\n",
      "- head.fc.weight: found shape torch.Size([1000, 320]) in the checkpoint and torch.Size([10, 320]) in the model instantiated\n",
      "You should probably TRAIN this model on a down-stream task to be able to use it for predictions and inference.\n"
     ]
    },
    {
     "data": {
      "text/html": [
       "\n",
       "    <div>\n",
       "      \n",
       "      <progress value='626' max='2191' style='width:300px; height:20px; vertical-align: middle;'></progress>\n",
       "      [ 626/2191 02:44 < 06:52, 3.80 it/s, Epoch 2/7]\n",
       "    </div>\n",
       "    <table border=\"1\" class=\"dataframe\">\n",
       "  <thead>\n",
       " <tr style=\"text-align: left;\">\n",
       "      <th>Epoch</th>\n",
       "      <th>Training Loss</th>\n",
       "      <th>Validation Loss</th>\n",
       "      <th>Accuracy</th>\n",
       "      <th>Precision</th>\n",
       "      <th>Recall</th>\n",
       "      <th>F1</th>\n",
       "    </tr>\n",
       "  </thead>\n",
       "  <tbody>\n",
       "    <tr>\n",
       "      <td>1</td>\n",
       "      <td>0.460600</td>\n",
       "      <td>0.284063</td>\n",
       "      <td>0.908100</td>\n",
       "      <td>0.913485</td>\n",
       "      <td>0.908336</td>\n",
       "      <td>0.908256</td>\n",
       "    </tr>\n",
       "    <tr>\n",
       "      <td>2</td>\n",
       "      <td>0.146800</td>\n",
       "      <td>0.176599</td>\n",
       "      <td>0.940600</td>\n",
       "      <td>0.942442</td>\n",
       "      <td>0.940695</td>\n",
       "      <td>0.940876</td>\n",
       "    </tr>\n",
       "  </tbody>\n",
       "</table><p>"
      ],
      "text/plain": [
       "<IPython.core.display.HTML object>"
      ]
     },
     "metadata": {},
     "output_type": "display_data"
    },
    {
     "name": "stderr",
     "output_type": "stream",
     "text": [
      "[I 2025-03-29 20:05:58,996] Trial 31 pruned. \n"
     ]
    },
    {
     "name": "stdout",
     "output_type": "stream",
     "text": [
      "Trial 32 with params: {'learning_rate': 0.0002644965932082481, 'weight_decay': 0.009000000000000001, 'warmup_steps': 32}\n"
     ]
    },
    {
     "name": "stderr",
     "output_type": "stream",
     "text": [
      "Some weights of TimmWrapperForImageClassification were not initialized from the model checkpoint at timm/tiny_vit_5m_224.in1k and are newly initialized because the shapes did not match:\n",
      "- head.fc.bias: found shape torch.Size([1000]) in the checkpoint and torch.Size([10]) in the model instantiated\n",
      "- head.fc.weight: found shape torch.Size([1000, 320]) in the checkpoint and torch.Size([10, 320]) in the model instantiated\n",
      "You should probably TRAIN this model on a down-stream task to be able to use it for predictions and inference.\n"
     ]
    },
    {
     "data": {
      "text/html": [
       "\n",
       "    <div>\n",
       "      \n",
       "      <progress value='1252' max='2191' style='width:300px; height:20px; vertical-align: middle;'></progress>\n",
       "      [1252/2191 05:29 < 04:07, 3.80 it/s, Epoch 4/7]\n",
       "    </div>\n",
       "    <table border=\"1\" class=\"dataframe\">\n",
       "  <thead>\n",
       " <tr style=\"text-align: left;\">\n",
       "      <th>Epoch</th>\n",
       "      <th>Training Loss</th>\n",
       "      <th>Validation Loss</th>\n",
       "      <th>Accuracy</th>\n",
       "      <th>Precision</th>\n",
       "      <th>Recall</th>\n",
       "      <th>F1</th>\n",
       "    </tr>\n",
       "  </thead>\n",
       "  <tbody>\n",
       "    <tr>\n",
       "      <td>1</td>\n",
       "      <td>0.466100</td>\n",
       "      <td>0.252513</td>\n",
       "      <td>0.917800</td>\n",
       "      <td>0.922497</td>\n",
       "      <td>0.917815</td>\n",
       "      <td>0.918037</td>\n",
       "    </tr>\n",
       "    <tr>\n",
       "      <td>2</td>\n",
       "      <td>0.132000</td>\n",
       "      <td>0.185334</td>\n",
       "      <td>0.938900</td>\n",
       "      <td>0.942004</td>\n",
       "      <td>0.939248</td>\n",
       "      <td>0.938791</td>\n",
       "    </tr>\n",
       "    <tr>\n",
       "      <td>3</td>\n",
       "      <td>0.078600</td>\n",
       "      <td>0.144427</td>\n",
       "      <td>0.955600</td>\n",
       "      <td>0.956549</td>\n",
       "      <td>0.955725</td>\n",
       "      <td>0.955870</td>\n",
       "    </tr>\n",
       "    <tr>\n",
       "      <td>4</td>\n",
       "      <td>0.039400</td>\n",
       "      <td>0.126335</td>\n",
       "      <td>0.961900</td>\n",
       "      <td>0.962133</td>\n",
       "      <td>0.962028</td>\n",
       "      <td>0.962043</td>\n",
       "    </tr>\n",
       "  </tbody>\n",
       "</table><p>"
      ],
      "text/plain": [
       "<IPython.core.display.HTML object>"
      ]
     },
     "metadata": {},
     "output_type": "display_data"
    },
    {
     "name": "stderr",
     "output_type": "stream",
     "text": [
      "[I 2025-03-29 20:11:29,842] Trial 32 pruned. \n"
     ]
    },
    {
     "name": "stdout",
     "output_type": "stream",
     "text": [
      "Trial 33 with params: {'learning_rate': 0.0004211137487642013, 'weight_decay': 0.008, 'warmup_steps': 28}\n"
     ]
    },
    {
     "name": "stderr",
     "output_type": "stream",
     "text": [
      "Some weights of TimmWrapperForImageClassification were not initialized from the model checkpoint at timm/tiny_vit_5m_224.in1k and are newly initialized because the shapes did not match:\n",
      "- head.fc.bias: found shape torch.Size([1000]) in the checkpoint and torch.Size([10]) in the model instantiated\n",
      "- head.fc.weight: found shape torch.Size([1000, 320]) in the checkpoint and torch.Size([10, 320]) in the model instantiated\n",
      "You should probably TRAIN this model on a down-stream task to be able to use it for predictions and inference.\n"
     ]
    },
    {
     "data": {
      "text/html": [
       "\n",
       "    <div>\n",
       "      \n",
       "      <progress value='626' max='2191' style='width:300px; height:20px; vertical-align: middle;'></progress>\n",
       "      [ 626/2191 02:43 < 06:50, 3.81 it/s, Epoch 2/7]\n",
       "    </div>\n",
       "    <table border=\"1\" class=\"dataframe\">\n",
       "  <thead>\n",
       " <tr style=\"text-align: left;\">\n",
       "      <th>Epoch</th>\n",
       "      <th>Training Loss</th>\n",
       "      <th>Validation Loss</th>\n",
       "      <th>Accuracy</th>\n",
       "      <th>Precision</th>\n",
       "      <th>Recall</th>\n",
       "      <th>F1</th>\n",
       "    </tr>\n",
       "  </thead>\n",
       "  <tbody>\n",
       "    <tr>\n",
       "      <td>1</td>\n",
       "      <td>0.490900</td>\n",
       "      <td>0.258089</td>\n",
       "      <td>0.914300</td>\n",
       "      <td>0.916936</td>\n",
       "      <td>0.914541</td>\n",
       "      <td>0.914683</td>\n",
       "    </tr>\n",
       "    <tr>\n",
       "      <td>2</td>\n",
       "      <td>0.182900</td>\n",
       "      <td>0.199585</td>\n",
       "      <td>0.930800</td>\n",
       "      <td>0.932218</td>\n",
       "      <td>0.930988</td>\n",
       "      <td>0.931096</td>\n",
       "    </tr>\n",
       "  </tbody>\n",
       "</table><p>"
      ],
      "text/plain": [
       "<IPython.core.display.HTML object>"
      ]
     },
     "metadata": {},
     "output_type": "display_data"
    },
    {
     "name": "stderr",
     "output_type": "stream",
     "text": [
      "[I 2025-03-29 20:14:15,801] Trial 33 pruned. \n"
     ]
    },
    {
     "name": "stdout",
     "output_type": "stream",
     "text": [
      "Trial 34 with params: {'learning_rate': 0.00019066411536696978, 'weight_decay': 0.009000000000000001, 'warmup_steps': 26}\n"
     ]
    },
    {
     "name": "stderr",
     "output_type": "stream",
     "text": [
      "Some weights of TimmWrapperForImageClassification were not initialized from the model checkpoint at timm/tiny_vit_5m_224.in1k and are newly initialized because the shapes did not match:\n",
      "- head.fc.bias: found shape torch.Size([1000]) in the checkpoint and torch.Size([10]) in the model instantiated\n",
      "- head.fc.weight: found shape torch.Size([1000, 320]) in the checkpoint and torch.Size([10, 320]) in the model instantiated\n",
      "You should probably TRAIN this model on a down-stream task to be able to use it for predictions and inference.\n"
     ]
    },
    {
     "data": {
      "text/html": [
       "\n",
       "    <div>\n",
       "      \n",
       "      <progress value='2191' max='2191' style='width:300px; height:20px; vertical-align: middle;'></progress>\n",
       "      [2191/2191 09:39, Epoch 7/7]\n",
       "    </div>\n",
       "    <table border=\"1\" class=\"dataframe\">\n",
       "  <thead>\n",
       " <tr style=\"text-align: left;\">\n",
       "      <th>Epoch</th>\n",
       "      <th>Training Loss</th>\n",
       "      <th>Validation Loss</th>\n",
       "      <th>Accuracy</th>\n",
       "      <th>Precision</th>\n",
       "      <th>Recall</th>\n",
       "      <th>F1</th>\n",
       "    </tr>\n",
       "  </thead>\n",
       "  <tbody>\n",
       "    <tr>\n",
       "      <td>1</td>\n",
       "      <td>0.445500</td>\n",
       "      <td>0.268575</td>\n",
       "      <td>0.911800</td>\n",
       "      <td>0.922968</td>\n",
       "      <td>0.912035</td>\n",
       "      <td>0.913265</td>\n",
       "    </tr>\n",
       "    <tr>\n",
       "      <td>2</td>\n",
       "      <td>0.113100</td>\n",
       "      <td>0.126300</td>\n",
       "      <td>0.958600</td>\n",
       "      <td>0.958792</td>\n",
       "      <td>0.958775</td>\n",
       "      <td>0.958678</td>\n",
       "    </tr>\n",
       "    <tr>\n",
       "      <td>3</td>\n",
       "      <td>0.058200</td>\n",
       "      <td>0.131439</td>\n",
       "      <td>0.958600</td>\n",
       "      <td>0.959712</td>\n",
       "      <td>0.958708</td>\n",
       "      <td>0.958863</td>\n",
       "    </tr>\n",
       "    <tr>\n",
       "      <td>4</td>\n",
       "      <td>0.025500</td>\n",
       "      <td>0.138647</td>\n",
       "      <td>0.962300</td>\n",
       "      <td>0.962984</td>\n",
       "      <td>0.962367</td>\n",
       "      <td>0.962557</td>\n",
       "    </tr>\n",
       "    <tr>\n",
       "      <td>5</td>\n",
       "      <td>0.013200</td>\n",
       "      <td>0.131235</td>\n",
       "      <td>0.967800</td>\n",
       "      <td>0.968373</td>\n",
       "      <td>0.967896</td>\n",
       "      <td>0.968002</td>\n",
       "    </tr>\n",
       "    <tr>\n",
       "      <td>6</td>\n",
       "      <td>0.002800</td>\n",
       "      <td>0.131631</td>\n",
       "      <td>0.971900</td>\n",
       "      <td>0.972222</td>\n",
       "      <td>0.971980</td>\n",
       "      <td>0.972065</td>\n",
       "    </tr>\n",
       "    <tr>\n",
       "      <td>7</td>\n",
       "      <td>0.000700</td>\n",
       "      <td>0.130106</td>\n",
       "      <td>0.971200</td>\n",
       "      <td>0.971347</td>\n",
       "      <td>0.971334</td>\n",
       "      <td>0.971322</td>\n",
       "    </tr>\n",
       "  </tbody>\n",
       "</table><p>"
      ],
      "text/plain": [
       "<IPython.core.display.HTML object>"
      ]
     },
     "metadata": {},
     "output_type": "display_data"
    },
    {
     "name": "stderr",
     "output_type": "stream",
     "text": [
      "[I 2025-03-29 20:23:57,846] Trial 34 finished with value: 0.9713224748941587 and parameters: {'learning_rate': 0.00019066411536696978, 'weight_decay': 0.009000000000000001, 'warmup_steps': 26}. Best is trial 22 with value: 0.9733827228355143.\n"
     ]
    },
    {
     "name": "stdout",
     "output_type": "stream",
     "text": [
      "Trial 35 with params: {'learning_rate': 0.00017057009867124738, 'weight_decay': 0.007, 'warmup_steps': 27}\n"
     ]
    },
    {
     "name": "stderr",
     "output_type": "stream",
     "text": [
      "Some weights of TimmWrapperForImageClassification were not initialized from the model checkpoint at timm/tiny_vit_5m_224.in1k and are newly initialized because the shapes did not match:\n",
      "- head.fc.bias: found shape torch.Size([1000]) in the checkpoint and torch.Size([10]) in the model instantiated\n",
      "- head.fc.weight: found shape torch.Size([1000, 320]) in the checkpoint and torch.Size([10, 320]) in the model instantiated\n",
      "You should probably TRAIN this model on a down-stream task to be able to use it for predictions and inference.\n"
     ]
    },
    {
     "data": {
      "text/html": [
       "\n",
       "    <div>\n",
       "      \n",
       "      <progress value='1252' max='2191' style='width:300px; height:20px; vertical-align: middle;'></progress>\n",
       "      [1252/2191 05:31 < 04:09, 3.77 it/s, Epoch 4/7]\n",
       "    </div>\n",
       "    <table border=\"1\" class=\"dataframe\">\n",
       "  <thead>\n",
       " <tr style=\"text-align: left;\">\n",
       "      <th>Epoch</th>\n",
       "      <th>Training Loss</th>\n",
       "      <th>Validation Loss</th>\n",
       "      <th>Accuracy</th>\n",
       "      <th>Precision</th>\n",
       "      <th>Recall</th>\n",
       "      <th>F1</th>\n",
       "    </tr>\n",
       "  </thead>\n",
       "  <tbody>\n",
       "    <tr>\n",
       "      <td>1</td>\n",
       "      <td>0.448100</td>\n",
       "      <td>0.228622</td>\n",
       "      <td>0.926100</td>\n",
       "      <td>0.933495</td>\n",
       "      <td>0.926568</td>\n",
       "      <td>0.926627</td>\n",
       "    </tr>\n",
       "    <tr>\n",
       "      <td>2</td>\n",
       "      <td>0.103100</td>\n",
       "      <td>0.146528</td>\n",
       "      <td>0.951800</td>\n",
       "      <td>0.952248</td>\n",
       "      <td>0.952089</td>\n",
       "      <td>0.951710</td>\n",
       "    </tr>\n",
       "    <tr>\n",
       "      <td>3</td>\n",
       "      <td>0.054200</td>\n",
       "      <td>0.136457</td>\n",
       "      <td>0.958900</td>\n",
       "      <td>0.959592</td>\n",
       "      <td>0.959110</td>\n",
       "      <td>0.959087</td>\n",
       "    </tr>\n",
       "    <tr>\n",
       "      <td>4</td>\n",
       "      <td>0.026800</td>\n",
       "      <td>0.137977</td>\n",
       "      <td>0.961100</td>\n",
       "      <td>0.961338</td>\n",
       "      <td>0.961399</td>\n",
       "      <td>0.961165</td>\n",
       "    </tr>\n",
       "  </tbody>\n",
       "</table><p>"
      ],
      "text/plain": [
       "<IPython.core.display.HTML object>"
      ]
     },
     "metadata": {},
     "output_type": "display_data"
    },
    {
     "name": "stderr",
     "output_type": "stream",
     "text": [
      "[I 2025-03-29 20:29:31,614] Trial 35 pruned. \n"
     ]
    },
    {
     "name": "stdout",
     "output_type": "stream",
     "text": [
      "Trial 36 with params: {'learning_rate': 0.004049761177508626, 'weight_decay': 0.006, 'warmup_steps': 3}\n"
     ]
    },
    {
     "name": "stderr",
     "output_type": "stream",
     "text": [
      "Some weights of TimmWrapperForImageClassification were not initialized from the model checkpoint at timm/tiny_vit_5m_224.in1k and are newly initialized because the shapes did not match:\n",
      "- head.fc.bias: found shape torch.Size([1000]) in the checkpoint and torch.Size([10]) in the model instantiated\n",
      "- head.fc.weight: found shape torch.Size([1000, 320]) in the checkpoint and torch.Size([10, 320]) in the model instantiated\n",
      "You should probably TRAIN this model on a down-stream task to be able to use it for predictions and inference.\n"
     ]
    },
    {
     "data": {
      "text/html": [
       "\n",
       "    <div>\n",
       "      \n",
       "      <progress value='1252' max='2191' style='width:300px; height:20px; vertical-align: middle;'></progress>\n",
       "      [1252/2191 05:30 < 04:08, 3.79 it/s, Epoch 4/7]\n",
       "    </div>\n",
       "    <table border=\"1\" class=\"dataframe\">\n",
       "  <thead>\n",
       " <tr style=\"text-align: left;\">\n",
       "      <th>Epoch</th>\n",
       "      <th>Training Loss</th>\n",
       "      <th>Validation Loss</th>\n",
       "      <th>Accuracy</th>\n",
       "      <th>Precision</th>\n",
       "      <th>Recall</th>\n",
       "      <th>F1</th>\n",
       "    </tr>\n",
       "  </thead>\n",
       "  <tbody>\n",
       "    <tr>\n",
       "      <td>1</td>\n",
       "      <td>2.311900</td>\n",
       "      <td>2.435007</td>\n",
       "      <td>0.159900</td>\n",
       "      <td>0.053823</td>\n",
       "      <td>0.158469</td>\n",
       "      <td>0.061093</td>\n",
       "    </tr>\n",
       "    <tr>\n",
       "      <td>2</td>\n",
       "      <td>2.317600</td>\n",
       "      <td>2.315834</td>\n",
       "      <td>0.090500</td>\n",
       "      <td>0.033091</td>\n",
       "      <td>0.090894</td>\n",
       "      <td>0.042763</td>\n",
       "    </tr>\n",
       "    <tr>\n",
       "      <td>3</td>\n",
       "      <td>2.299000</td>\n",
       "      <td>2.309910</td>\n",
       "      <td>0.101200</td>\n",
       "      <td>0.083057</td>\n",
       "      <td>0.101630</td>\n",
       "      <td>0.068120</td>\n",
       "    </tr>\n",
       "    <tr>\n",
       "      <td>4</td>\n",
       "      <td>2.332400</td>\n",
       "      <td>2.322517</td>\n",
       "      <td>0.097900</td>\n",
       "      <td>0.019637</td>\n",
       "      <td>0.098441</td>\n",
       "      <td>0.032539</td>\n",
       "    </tr>\n",
       "  </tbody>\n",
       "</table><p>"
      ],
      "text/plain": [
       "<IPython.core.display.HTML object>"
      ]
     },
     "metadata": {},
     "output_type": "display_data"
    },
    {
     "name": "stderr",
     "output_type": "stream",
     "text": [
      "[I 2025-03-29 20:35:03,961] Trial 36 pruned. \n"
     ]
    },
    {
     "name": "stdout",
     "output_type": "stream",
     "text": [
      "Trial 37 with params: {'learning_rate': 9.286230673587775e-05, 'weight_decay': 0.01, 'warmup_steps': 23}\n"
     ]
    },
    {
     "name": "stderr",
     "output_type": "stream",
     "text": [
      "Some weights of TimmWrapperForImageClassification were not initialized from the model checkpoint at timm/tiny_vit_5m_224.in1k and are newly initialized because the shapes did not match:\n",
      "- head.fc.bias: found shape torch.Size([1000]) in the checkpoint and torch.Size([10]) in the model instantiated\n",
      "- head.fc.weight: found shape torch.Size([1000, 320]) in the checkpoint and torch.Size([10, 320]) in the model instantiated\n",
      "You should probably TRAIN this model on a down-stream task to be able to use it for predictions and inference.\n"
     ]
    },
    {
     "data": {
      "text/html": [
       "\n",
       "    <div>\n",
       "      \n",
       "      <progress value='1252' max='2191' style='width:300px; height:20px; vertical-align: middle;'></progress>\n",
       "      [1252/2191 05:29 < 04:07, 3.79 it/s, Epoch 4/7]\n",
       "    </div>\n",
       "    <table border=\"1\" class=\"dataframe\">\n",
       "  <thead>\n",
       " <tr style=\"text-align: left;\">\n",
       "      <th>Epoch</th>\n",
       "      <th>Training Loss</th>\n",
       "      <th>Validation Loss</th>\n",
       "      <th>Accuracy</th>\n",
       "      <th>Precision</th>\n",
       "      <th>Recall</th>\n",
       "      <th>F1</th>\n",
       "    </tr>\n",
       "  </thead>\n",
       "  <tbody>\n",
       "    <tr>\n",
       "      <td>1</td>\n",
       "      <td>0.478700</td>\n",
       "      <td>0.195805</td>\n",
       "      <td>0.934300</td>\n",
       "      <td>0.941442</td>\n",
       "      <td>0.934547</td>\n",
       "      <td>0.934903</td>\n",
       "    </tr>\n",
       "    <tr>\n",
       "      <td>2</td>\n",
       "      <td>0.095000</td>\n",
       "      <td>0.127605</td>\n",
       "      <td>0.959000</td>\n",
       "      <td>0.959750</td>\n",
       "      <td>0.959150</td>\n",
       "      <td>0.959204</td>\n",
       "    </tr>\n",
       "    <tr>\n",
       "      <td>3</td>\n",
       "      <td>0.041600</td>\n",
       "      <td>0.133220</td>\n",
       "      <td>0.961500</td>\n",
       "      <td>0.963116</td>\n",
       "      <td>0.961612</td>\n",
       "      <td>0.961845</td>\n",
       "    </tr>\n",
       "    <tr>\n",
       "      <td>4</td>\n",
       "      <td>0.016700</td>\n",
       "      <td>0.134030</td>\n",
       "      <td>0.966800</td>\n",
       "      <td>0.967241</td>\n",
       "      <td>0.966971</td>\n",
       "      <td>0.966983</td>\n",
       "    </tr>\n",
       "  </tbody>\n",
       "</table><p>"
      ],
      "text/plain": [
       "<IPython.core.display.HTML object>"
      ]
     },
     "metadata": {},
     "output_type": "display_data"
    },
    {
     "name": "stderr",
     "output_type": "stream",
     "text": [
      "[I 2025-03-29 20:40:35,724] Trial 37 pruned. \n"
     ]
    },
    {
     "name": "stdout",
     "output_type": "stream",
     "text": [
      "Trial 38 with params: {'learning_rate': 0.00018692749398230822, 'weight_decay': 0.007, 'warmup_steps': 31}\n"
     ]
    },
    {
     "name": "stderr",
     "output_type": "stream",
     "text": [
      "Some weights of TimmWrapperForImageClassification were not initialized from the model checkpoint at timm/tiny_vit_5m_224.in1k and are newly initialized because the shapes did not match:\n",
      "- head.fc.bias: found shape torch.Size([1000]) in the checkpoint and torch.Size([10]) in the model instantiated\n",
      "- head.fc.weight: found shape torch.Size([1000, 320]) in the checkpoint and torch.Size([10, 320]) in the model instantiated\n",
      "You should probably TRAIN this model on a down-stream task to be able to use it for predictions and inference.\n"
     ]
    },
    {
     "data": {
      "text/html": [
       "\n",
       "    <div>\n",
       "      \n",
       "      <progress value='1252' max='2191' style='width:300px; height:20px; vertical-align: middle;'></progress>\n",
       "      [1252/2191 05:28 < 04:07, 3.80 it/s, Epoch 4/7]\n",
       "    </div>\n",
       "    <table border=\"1\" class=\"dataframe\">\n",
       "  <thead>\n",
       " <tr style=\"text-align: left;\">\n",
       "      <th>Epoch</th>\n",
       "      <th>Training Loss</th>\n",
       "      <th>Validation Loss</th>\n",
       "      <th>Accuracy</th>\n",
       "      <th>Precision</th>\n",
       "      <th>Recall</th>\n",
       "      <th>F1</th>\n",
       "    </tr>\n",
       "  </thead>\n",
       "  <tbody>\n",
       "    <tr>\n",
       "      <td>1</td>\n",
       "      <td>0.453300</td>\n",
       "      <td>0.222554</td>\n",
       "      <td>0.925300</td>\n",
       "      <td>0.935490</td>\n",
       "      <td>0.925648</td>\n",
       "      <td>0.926935</td>\n",
       "    </tr>\n",
       "    <tr>\n",
       "      <td>2</td>\n",
       "      <td>0.109800</td>\n",
       "      <td>0.140472</td>\n",
       "      <td>0.953500</td>\n",
       "      <td>0.954715</td>\n",
       "      <td>0.953717</td>\n",
       "      <td>0.953560</td>\n",
       "    </tr>\n",
       "    <tr>\n",
       "      <td>3</td>\n",
       "      <td>0.050300</td>\n",
       "      <td>0.125461</td>\n",
       "      <td>0.963600</td>\n",
       "      <td>0.963826</td>\n",
       "      <td>0.963718</td>\n",
       "      <td>0.963694</td>\n",
       "    </tr>\n",
       "    <tr>\n",
       "      <td>4</td>\n",
       "      <td>0.025800</td>\n",
       "      <td>0.136012</td>\n",
       "      <td>0.966100</td>\n",
       "      <td>0.966550</td>\n",
       "      <td>0.966363</td>\n",
       "      <td>0.966162</td>\n",
       "    </tr>\n",
       "  </tbody>\n",
       "</table><p>"
      ],
      "text/plain": [
       "<IPython.core.display.HTML object>"
      ]
     },
     "metadata": {},
     "output_type": "display_data"
    },
    {
     "name": "stderr",
     "output_type": "stream",
     "text": [
      "[I 2025-03-29 20:46:06,977] Trial 38 pruned. \n"
     ]
    },
    {
     "name": "stdout",
     "output_type": "stream",
     "text": [
      "Trial 39 with params: {'learning_rate': 0.0010475348879951107, 'weight_decay': 0.009000000000000001, 'warmup_steps': 32}\n"
     ]
    },
    {
     "name": "stderr",
     "output_type": "stream",
     "text": [
      "Some weights of TimmWrapperForImageClassification were not initialized from the model checkpoint at timm/tiny_vit_5m_224.in1k and are newly initialized because the shapes did not match:\n",
      "- head.fc.bias: found shape torch.Size([1000]) in the checkpoint and torch.Size([10]) in the model instantiated\n",
      "- head.fc.weight: found shape torch.Size([1000, 320]) in the checkpoint and torch.Size([10, 320]) in the model instantiated\n",
      "You should probably TRAIN this model on a down-stream task to be able to use it for predictions and inference.\n"
     ]
    },
    {
     "data": {
      "text/html": [
       "\n",
       "    <div>\n",
       "      \n",
       "      <progress value='1252' max='2191' style='width:300px; height:20px; vertical-align: middle;'></progress>\n",
       "      [1252/2191 05:30 < 04:08, 3.78 it/s, Epoch 4/7]\n",
       "    </div>\n",
       "    <table border=\"1\" class=\"dataframe\">\n",
       "  <thead>\n",
       " <tr style=\"text-align: left;\">\n",
       "      <th>Epoch</th>\n",
       "      <th>Training Loss</th>\n",
       "      <th>Validation Loss</th>\n",
       "      <th>Accuracy</th>\n",
       "      <th>Precision</th>\n",
       "      <th>Recall</th>\n",
       "      <th>F1</th>\n",
       "    </tr>\n",
       "  </thead>\n",
       "  <tbody>\n",
       "    <tr>\n",
       "      <td>1</td>\n",
       "      <td>0.707700</td>\n",
       "      <td>0.494804</td>\n",
       "      <td>0.837100</td>\n",
       "      <td>0.848305</td>\n",
       "      <td>0.837999</td>\n",
       "      <td>0.836959</td>\n",
       "    </tr>\n",
       "    <tr>\n",
       "      <td>2</td>\n",
       "      <td>0.360000</td>\n",
       "      <td>0.373679</td>\n",
       "      <td>0.871600</td>\n",
       "      <td>0.880331</td>\n",
       "      <td>0.871831</td>\n",
       "      <td>0.870768</td>\n",
       "    </tr>\n",
       "    <tr>\n",
       "      <td>3</td>\n",
       "      <td>0.249100</td>\n",
       "      <td>0.346505</td>\n",
       "      <td>0.884200</td>\n",
       "      <td>0.894850</td>\n",
       "      <td>0.883587</td>\n",
       "      <td>0.884876</td>\n",
       "    </tr>\n",
       "    <tr>\n",
       "      <td>4</td>\n",
       "      <td>0.156000</td>\n",
       "      <td>0.219374</td>\n",
       "      <td>0.929900</td>\n",
       "      <td>0.930334</td>\n",
       "      <td>0.930147</td>\n",
       "      <td>0.930064</td>\n",
       "    </tr>\n",
       "  </tbody>\n",
       "</table><p>"
      ],
      "text/plain": [
       "<IPython.core.display.HTML object>"
      ]
     },
     "metadata": {},
     "output_type": "display_data"
    },
    {
     "name": "stderr",
     "output_type": "stream",
     "text": [
      "[I 2025-03-29 20:51:39,469] Trial 39 pruned. \n"
     ]
    },
    {
     "name": "stdout",
     "output_type": "stream",
     "text": [
      "Trial 40 with params: {'learning_rate': 0.0003364737045777045, 'weight_decay': 0.01, 'warmup_steps': 18}\n"
     ]
    },
    {
     "name": "stderr",
     "output_type": "stream",
     "text": [
      "Some weights of TimmWrapperForImageClassification were not initialized from the model checkpoint at timm/tiny_vit_5m_224.in1k and are newly initialized because the shapes did not match:\n",
      "- head.fc.bias: found shape torch.Size([1000]) in the checkpoint and torch.Size([10]) in the model instantiated\n",
      "- head.fc.weight: found shape torch.Size([1000, 320]) in the checkpoint and torch.Size([10, 320]) in the model instantiated\n",
      "You should probably TRAIN this model on a down-stream task to be able to use it for predictions and inference.\n"
     ]
    },
    {
     "data": {
      "text/html": [
       "\n",
       "    <div>\n",
       "      \n",
       "      <progress value='626' max='2191' style='width:300px; height:20px; vertical-align: middle;'></progress>\n",
       "      [ 626/2191 02:44 < 06:52, 3.79 it/s, Epoch 2/7]\n",
       "    </div>\n",
       "    <table border=\"1\" class=\"dataframe\">\n",
       "  <thead>\n",
       " <tr style=\"text-align: left;\">\n",
       "      <th>Epoch</th>\n",
       "      <th>Training Loss</th>\n",
       "      <th>Validation Loss</th>\n",
       "      <th>Accuracy</th>\n",
       "      <th>Precision</th>\n",
       "      <th>Recall</th>\n",
       "      <th>F1</th>\n",
       "    </tr>\n",
       "  </thead>\n",
       "  <tbody>\n",
       "    <tr>\n",
       "      <td>1</td>\n",
       "      <td>0.437000</td>\n",
       "      <td>0.288007</td>\n",
       "      <td>0.902800</td>\n",
       "      <td>0.909155</td>\n",
       "      <td>0.903288</td>\n",
       "      <td>0.902647</td>\n",
       "    </tr>\n",
       "    <tr>\n",
       "      <td>2</td>\n",
       "      <td>0.153600</td>\n",
       "      <td>0.189819</td>\n",
       "      <td>0.935700</td>\n",
       "      <td>0.937956</td>\n",
       "      <td>0.935900</td>\n",
       "      <td>0.935996</td>\n",
       "    </tr>\n",
       "  </tbody>\n",
       "</table><p>"
      ],
      "text/plain": [
       "<IPython.core.display.HTML object>"
      ]
     },
     "metadata": {},
     "output_type": "display_data"
    },
    {
     "name": "stderr",
     "output_type": "stream",
     "text": [
      "[I 2025-03-29 20:54:26,308] Trial 40 pruned. \n"
     ]
    },
    {
     "name": "stdout",
     "output_type": "stream",
     "text": [
      "Trial 41 with params: {'learning_rate': 0.0001456647286080767, 'weight_decay': 0.009000000000000001, 'warmup_steps': 26}\n"
     ]
    },
    {
     "name": "stderr",
     "output_type": "stream",
     "text": [
      "Some weights of TimmWrapperForImageClassification were not initialized from the model checkpoint at timm/tiny_vit_5m_224.in1k and are newly initialized because the shapes did not match:\n",
      "- head.fc.bias: found shape torch.Size([1000]) in the checkpoint and torch.Size([10]) in the model instantiated\n",
      "- head.fc.weight: found shape torch.Size([1000, 320]) in the checkpoint and torch.Size([10, 320]) in the model instantiated\n",
      "You should probably TRAIN this model on a down-stream task to be able to use it for predictions and inference.\n"
     ]
    },
    {
     "data": {
      "text/html": [
       "\n",
       "    <div>\n",
       "      \n",
       "      <progress value='2191' max='2191' style='width:300px; height:20px; vertical-align: middle;'></progress>\n",
       "      [2191/2191 09:42, Epoch 7/7]\n",
       "    </div>\n",
       "    <table border=\"1\" class=\"dataframe\">\n",
       "  <thead>\n",
       " <tr style=\"text-align: left;\">\n",
       "      <th>Epoch</th>\n",
       "      <th>Training Loss</th>\n",
       "      <th>Validation Loss</th>\n",
       "      <th>Accuracy</th>\n",
       "      <th>Precision</th>\n",
       "      <th>Recall</th>\n",
       "      <th>F1</th>\n",
       "    </tr>\n",
       "  </thead>\n",
       "  <tbody>\n",
       "    <tr>\n",
       "      <td>1</td>\n",
       "      <td>0.440800</td>\n",
       "      <td>0.186801</td>\n",
       "      <td>0.938900</td>\n",
       "      <td>0.944080</td>\n",
       "      <td>0.939042</td>\n",
       "      <td>0.939524</td>\n",
       "    </tr>\n",
       "    <tr>\n",
       "      <td>2</td>\n",
       "      <td>0.099300</td>\n",
       "      <td>0.142152</td>\n",
       "      <td>0.951700</td>\n",
       "      <td>0.952740</td>\n",
       "      <td>0.952018</td>\n",
       "      <td>0.951638</td>\n",
       "    </tr>\n",
       "    <tr>\n",
       "      <td>3</td>\n",
       "      <td>0.046700</td>\n",
       "      <td>0.118045</td>\n",
       "      <td>0.964100</td>\n",
       "      <td>0.964396</td>\n",
       "      <td>0.964277</td>\n",
       "      <td>0.964232</td>\n",
       "    </tr>\n",
       "    <tr>\n",
       "      <td>4</td>\n",
       "      <td>0.023800</td>\n",
       "      <td>0.136592</td>\n",
       "      <td>0.964800</td>\n",
       "      <td>0.965133</td>\n",
       "      <td>0.964942</td>\n",
       "      <td>0.964923</td>\n",
       "    </tr>\n",
       "    <tr>\n",
       "      <td>5</td>\n",
       "      <td>0.009300</td>\n",
       "      <td>0.150167</td>\n",
       "      <td>0.967900</td>\n",
       "      <td>0.968492</td>\n",
       "      <td>0.968142</td>\n",
       "      <td>0.968083</td>\n",
       "    </tr>\n",
       "    <tr>\n",
       "      <td>6</td>\n",
       "      <td>0.002000</td>\n",
       "      <td>0.129746</td>\n",
       "      <td>0.972000</td>\n",
       "      <td>0.972164</td>\n",
       "      <td>0.972223</td>\n",
       "      <td>0.972152</td>\n",
       "    </tr>\n",
       "    <tr>\n",
       "      <td>7</td>\n",
       "      <td>0.000500</td>\n",
       "      <td>0.130666</td>\n",
       "      <td>0.972600</td>\n",
       "      <td>0.972690</td>\n",
       "      <td>0.972788</td>\n",
       "      <td>0.972727</td>\n",
       "    </tr>\n",
       "  </tbody>\n",
       "</table><p>"
      ],
      "text/plain": [
       "<IPython.core.display.HTML object>"
      ]
     },
     "metadata": {},
     "output_type": "display_data"
    },
    {
     "name": "stderr",
     "output_type": "stream",
     "text": [
      "[I 2025-03-29 21:04:11,230] Trial 41 finished with value: 0.9727269225527291 and parameters: {'learning_rate': 0.0001456647286080767, 'weight_decay': 0.009000000000000001, 'warmup_steps': 26}. Best is trial 22 with value: 0.9733827228355143.\n"
     ]
    },
    {
     "name": "stdout",
     "output_type": "stream",
     "text": [
      "Trial 42 with params: {'learning_rate': 0.0001818125580572801, 'weight_decay': 0.01, 'warmup_steps': 31}\n"
     ]
    },
    {
     "name": "stderr",
     "output_type": "stream",
     "text": [
      "Some weights of TimmWrapperForImageClassification were not initialized from the model checkpoint at timm/tiny_vit_5m_224.in1k and are newly initialized because the shapes did not match:\n",
      "- head.fc.bias: found shape torch.Size([1000]) in the checkpoint and torch.Size([10]) in the model instantiated\n",
      "- head.fc.weight: found shape torch.Size([1000, 320]) in the checkpoint and torch.Size([10, 320]) in the model instantiated\n",
      "You should probably TRAIN this model on a down-stream task to be able to use it for predictions and inference.\n"
     ]
    },
    {
     "data": {
      "text/html": [
       "\n",
       "    <div>\n",
       "      \n",
       "      <progress value='626' max='2191' style='width:300px; height:20px; vertical-align: middle;'></progress>\n",
       "      [ 626/2191 02:45 < 06:54, 3.78 it/s, Epoch 2/7]\n",
       "    </div>\n",
       "    <table border=\"1\" class=\"dataframe\">\n",
       "  <thead>\n",
       " <tr style=\"text-align: left;\">\n",
       "      <th>Epoch</th>\n",
       "      <th>Training Loss</th>\n",
       "      <th>Validation Loss</th>\n",
       "      <th>Accuracy</th>\n",
       "      <th>Precision</th>\n",
       "      <th>Recall</th>\n",
       "      <th>F1</th>\n",
       "    </tr>\n",
       "  </thead>\n",
       "  <tbody>\n",
       "    <tr>\n",
       "      <td>1</td>\n",
       "      <td>0.462100</td>\n",
       "      <td>0.215622</td>\n",
       "      <td>0.929500</td>\n",
       "      <td>0.933378</td>\n",
       "      <td>0.929449</td>\n",
       "      <td>0.929614</td>\n",
       "    </tr>\n",
       "    <tr>\n",
       "      <td>2</td>\n",
       "      <td>0.109400</td>\n",
       "      <td>0.159993</td>\n",
       "      <td>0.946600</td>\n",
       "      <td>0.949075</td>\n",
       "      <td>0.946963</td>\n",
       "      <td>0.946631</td>\n",
       "    </tr>\n",
       "  </tbody>\n",
       "</table><p>"
      ],
      "text/plain": [
       "<IPython.core.display.HTML object>"
      ]
     },
     "metadata": {},
     "output_type": "display_data"
    },
    {
     "name": "stderr",
     "output_type": "stream",
     "text": [
      "[I 2025-03-29 21:06:58,337] Trial 42 pruned. \n"
     ]
    },
    {
     "name": "stdout",
     "output_type": "stream",
     "text": [
      "Trial 43 with params: {'learning_rate': 0.00017882142807170676, 'weight_decay': 0.008, 'warmup_steps': 23}\n"
     ]
    },
    {
     "name": "stderr",
     "output_type": "stream",
     "text": [
      "Some weights of TimmWrapperForImageClassification were not initialized from the model checkpoint at timm/tiny_vit_5m_224.in1k and are newly initialized because the shapes did not match:\n",
      "- head.fc.bias: found shape torch.Size([1000]) in the checkpoint and torch.Size([10]) in the model instantiated\n",
      "- head.fc.weight: found shape torch.Size([1000, 320]) in the checkpoint and torch.Size([10, 320]) in the model instantiated\n",
      "You should probably TRAIN this model on a down-stream task to be able to use it for predictions and inference.\n"
     ]
    },
    {
     "data": {
      "text/html": [
       "\n",
       "    <div>\n",
       "      \n",
       "      <progress value='2191' max='2191' style='width:300px; height:20px; vertical-align: middle;'></progress>\n",
       "      [2191/2191 09:39, Epoch 7/7]\n",
       "    </div>\n",
       "    <table border=\"1\" class=\"dataframe\">\n",
       "  <thead>\n",
       " <tr style=\"text-align: left;\">\n",
       "      <th>Epoch</th>\n",
       "      <th>Training Loss</th>\n",
       "      <th>Validation Loss</th>\n",
       "      <th>Accuracy</th>\n",
       "      <th>Precision</th>\n",
       "      <th>Recall</th>\n",
       "      <th>F1</th>\n",
       "    </tr>\n",
       "  </thead>\n",
       "  <tbody>\n",
       "    <tr>\n",
       "      <td>1</td>\n",
       "      <td>0.452700</td>\n",
       "      <td>0.183903</td>\n",
       "      <td>0.939800</td>\n",
       "      <td>0.942148</td>\n",
       "      <td>0.940063</td>\n",
       "      <td>0.940083</td>\n",
       "    </tr>\n",
       "    <tr>\n",
       "      <td>2</td>\n",
       "      <td>0.107700</td>\n",
       "      <td>0.140467</td>\n",
       "      <td>0.953500</td>\n",
       "      <td>0.954359</td>\n",
       "      <td>0.953651</td>\n",
       "      <td>0.953654</td>\n",
       "    </tr>\n",
       "    <tr>\n",
       "      <td>3</td>\n",
       "      <td>0.050500</td>\n",
       "      <td>0.130678</td>\n",
       "      <td>0.961300</td>\n",
       "      <td>0.962081</td>\n",
       "      <td>0.961326</td>\n",
       "      <td>0.961575</td>\n",
       "    </tr>\n",
       "    <tr>\n",
       "      <td>4</td>\n",
       "      <td>0.026400</td>\n",
       "      <td>0.124600</td>\n",
       "      <td>0.964900</td>\n",
       "      <td>0.965076</td>\n",
       "      <td>0.965132</td>\n",
       "      <td>0.965038</td>\n",
       "    </tr>\n",
       "    <tr>\n",
       "      <td>5</td>\n",
       "      <td>0.011100</td>\n",
       "      <td>0.117063</td>\n",
       "      <td>0.970700</td>\n",
       "      <td>0.971177</td>\n",
       "      <td>0.970829</td>\n",
       "      <td>0.970923</td>\n",
       "    </tr>\n",
       "    <tr>\n",
       "      <td>6</td>\n",
       "      <td>0.002500</td>\n",
       "      <td>0.122644</td>\n",
       "      <td>0.973200</td>\n",
       "      <td>0.973555</td>\n",
       "      <td>0.973341</td>\n",
       "      <td>0.973361</td>\n",
       "    </tr>\n",
       "    <tr>\n",
       "      <td>7</td>\n",
       "      <td>0.000600</td>\n",
       "      <td>0.119076</td>\n",
       "      <td>0.973400</td>\n",
       "      <td>0.973597</td>\n",
       "      <td>0.973533</td>\n",
       "      <td>0.973544</td>\n",
       "    </tr>\n",
       "  </tbody>\n",
       "</table><p>"
      ],
      "text/plain": [
       "<IPython.core.display.HTML object>"
      ]
     },
     "metadata": {},
     "output_type": "display_data"
    },
    {
     "name": "stderr",
     "output_type": "stream",
     "text": [
      "[I 2025-03-29 21:16:40,809] Trial 43 finished with value: 0.9735436774258494 and parameters: {'learning_rate': 0.00017882142807170676, 'weight_decay': 0.008, 'warmup_steps': 23}. Best is trial 43 with value: 0.9735436774258494.\n"
     ]
    },
    {
     "name": "stdout",
     "output_type": "stream",
     "text": [
      "Trial 44 with params: {'learning_rate': 7.012112975444019e-05, 'weight_decay': 0.0, 'warmup_steps': 24}\n"
     ]
    },
    {
     "name": "stderr",
     "output_type": "stream",
     "text": [
      "Some weights of TimmWrapperForImageClassification were not initialized from the model checkpoint at timm/tiny_vit_5m_224.in1k and are newly initialized because the shapes did not match:\n",
      "- head.fc.bias: found shape torch.Size([1000]) in the checkpoint and torch.Size([10]) in the model instantiated\n",
      "- head.fc.weight: found shape torch.Size([1000, 320]) in the checkpoint and torch.Size([10, 320]) in the model instantiated\n",
      "You should probably TRAIN this model on a down-stream task to be able to use it for predictions and inference.\n"
     ]
    },
    {
     "data": {
      "text/html": [
       "\n",
       "    <div>\n",
       "      \n",
       "      <progress value='2191' max='2191' style='width:300px; height:20px; vertical-align: middle;'></progress>\n",
       "      [2191/2191 09:45, Epoch 7/7]\n",
       "    </div>\n",
       "    <table border=\"1\" class=\"dataframe\">\n",
       "  <thead>\n",
       " <tr style=\"text-align: left;\">\n",
       "      <th>Epoch</th>\n",
       "      <th>Training Loss</th>\n",
       "      <th>Validation Loss</th>\n",
       "      <th>Accuracy</th>\n",
       "      <th>Precision</th>\n",
       "      <th>Recall</th>\n",
       "      <th>F1</th>\n",
       "    </tr>\n",
       "  </thead>\n",
       "  <tbody>\n",
       "    <tr>\n",
       "      <td>1</td>\n",
       "      <td>0.531400</td>\n",
       "      <td>0.190051</td>\n",
       "      <td>0.938800</td>\n",
       "      <td>0.943309</td>\n",
       "      <td>0.938922</td>\n",
       "      <td>0.939424</td>\n",
       "    </tr>\n",
       "    <tr>\n",
       "      <td>2</td>\n",
       "      <td>0.092100</td>\n",
       "      <td>0.115931</td>\n",
       "      <td>0.961800</td>\n",
       "      <td>0.962005</td>\n",
       "      <td>0.961981</td>\n",
       "      <td>0.961850</td>\n",
       "    </tr>\n",
       "    <tr>\n",
       "      <td>3</td>\n",
       "      <td>0.039200</td>\n",
       "      <td>0.110456</td>\n",
       "      <td>0.965900</td>\n",
       "      <td>0.966239</td>\n",
       "      <td>0.966034</td>\n",
       "      <td>0.966107</td>\n",
       "    </tr>\n",
       "    <tr>\n",
       "      <td>4</td>\n",
       "      <td>0.017400</td>\n",
       "      <td>0.120500</td>\n",
       "      <td>0.967800</td>\n",
       "      <td>0.967948</td>\n",
       "      <td>0.967883</td>\n",
       "      <td>0.967902</td>\n",
       "    </tr>\n",
       "    <tr>\n",
       "      <td>5</td>\n",
       "      <td>0.006200</td>\n",
       "      <td>0.139446</td>\n",
       "      <td>0.968000</td>\n",
       "      <td>0.968288</td>\n",
       "      <td>0.968169</td>\n",
       "      <td>0.968151</td>\n",
       "    </tr>\n",
       "    <tr>\n",
       "      <td>6</td>\n",
       "      <td>0.001700</td>\n",
       "      <td>0.135429</td>\n",
       "      <td>0.969000</td>\n",
       "      <td>0.969226</td>\n",
       "      <td>0.969125</td>\n",
       "      <td>0.969148</td>\n",
       "    </tr>\n",
       "    <tr>\n",
       "      <td>7</td>\n",
       "      <td>0.000700</td>\n",
       "      <td>0.135128</td>\n",
       "      <td>0.969300</td>\n",
       "      <td>0.969410</td>\n",
       "      <td>0.969458</td>\n",
       "      <td>0.969428</td>\n",
       "    </tr>\n",
       "  </tbody>\n",
       "</table><p>"
      ],
      "text/plain": [
       "<IPython.core.display.HTML object>"
      ]
     },
     "metadata": {},
     "output_type": "display_data"
    },
    {
     "name": "stderr",
     "output_type": "stream",
     "text": [
      "[I 2025-03-29 21:26:28,760] Trial 44 finished with value: 0.9694279207563451 and parameters: {'learning_rate': 7.012112975444019e-05, 'weight_decay': 0.0, 'warmup_steps': 24}. Best is trial 43 with value: 0.9735436774258494.\n"
     ]
    },
    {
     "name": "stdout",
     "output_type": "stream",
     "text": [
      "Trial 45 with params: {'learning_rate': 0.00013563560676260026, 'weight_decay': 0.008, 'warmup_steps': 25}\n"
     ]
    },
    {
     "name": "stderr",
     "output_type": "stream",
     "text": [
      "Some weights of TimmWrapperForImageClassification were not initialized from the model checkpoint at timm/tiny_vit_5m_224.in1k and are newly initialized because the shapes did not match:\n",
      "- head.fc.bias: found shape torch.Size([1000]) in the checkpoint and torch.Size([10]) in the model instantiated\n",
      "- head.fc.weight: found shape torch.Size([1000, 320]) in the checkpoint and torch.Size([10, 320]) in the model instantiated\n",
      "You should probably TRAIN this model on a down-stream task to be able to use it for predictions and inference.\n"
     ]
    },
    {
     "data": {
      "text/html": [
       "\n",
       "    <div>\n",
       "      \n",
       "      <progress value='2191' max='2191' style='width:300px; height:20px; vertical-align: middle;'></progress>\n",
       "      [2191/2191 09:45, Epoch 7/7]\n",
       "    </div>\n",
       "    <table border=\"1\" class=\"dataframe\">\n",
       "  <thead>\n",
       " <tr style=\"text-align: left;\">\n",
       "      <th>Epoch</th>\n",
       "      <th>Training Loss</th>\n",
       "      <th>Validation Loss</th>\n",
       "      <th>Accuracy</th>\n",
       "      <th>Precision</th>\n",
       "      <th>Recall</th>\n",
       "      <th>F1</th>\n",
       "    </tr>\n",
       "  </thead>\n",
       "  <tbody>\n",
       "    <tr>\n",
       "      <td>1</td>\n",
       "      <td>0.472500</td>\n",
       "      <td>0.155023</td>\n",
       "      <td>0.951000</td>\n",
       "      <td>0.951477</td>\n",
       "      <td>0.951083</td>\n",
       "      <td>0.951150</td>\n",
       "    </tr>\n",
       "    <tr>\n",
       "      <td>2</td>\n",
       "      <td>0.095600</td>\n",
       "      <td>0.133900</td>\n",
       "      <td>0.956800</td>\n",
       "      <td>0.957150</td>\n",
       "      <td>0.957034</td>\n",
       "      <td>0.956867</td>\n",
       "    </tr>\n",
       "    <tr>\n",
       "      <td>3</td>\n",
       "      <td>0.047100</td>\n",
       "      <td>0.136746</td>\n",
       "      <td>0.959900</td>\n",
       "      <td>0.961421</td>\n",
       "      <td>0.960020</td>\n",
       "      <td>0.960337</td>\n",
       "    </tr>\n",
       "    <tr>\n",
       "      <td>4</td>\n",
       "      <td>0.023700</td>\n",
       "      <td>0.126859</td>\n",
       "      <td>0.966300</td>\n",
       "      <td>0.966381</td>\n",
       "      <td>0.966458</td>\n",
       "      <td>0.966373</td>\n",
       "    </tr>\n",
       "    <tr>\n",
       "      <td>5</td>\n",
       "      <td>0.008000</td>\n",
       "      <td>0.136413</td>\n",
       "      <td>0.968500</td>\n",
       "      <td>0.968650</td>\n",
       "      <td>0.968603</td>\n",
       "      <td>0.968615</td>\n",
       "    </tr>\n",
       "    <tr>\n",
       "      <td>6</td>\n",
       "      <td>0.002700</td>\n",
       "      <td>0.134947</td>\n",
       "      <td>0.970000</td>\n",
       "      <td>0.970251</td>\n",
       "      <td>0.970129</td>\n",
       "      <td>0.970160</td>\n",
       "    </tr>\n",
       "    <tr>\n",
       "      <td>7</td>\n",
       "      <td>0.000700</td>\n",
       "      <td>0.133567</td>\n",
       "      <td>0.971000</td>\n",
       "      <td>0.971120</td>\n",
       "      <td>0.971163</td>\n",
       "      <td>0.971127</td>\n",
       "    </tr>\n",
       "  </tbody>\n",
       "</table><p>"
      ],
      "text/plain": [
       "<IPython.core.display.HTML object>"
      ]
     },
     "metadata": {},
     "output_type": "display_data"
    },
    {
     "name": "stderr",
     "output_type": "stream",
     "text": [
      "[I 2025-03-29 21:36:17,079] Trial 45 finished with value: 0.9711269670216645 and parameters: {'learning_rate': 0.00013563560676260026, 'weight_decay': 0.008, 'warmup_steps': 25}. Best is trial 43 with value: 0.9735436774258494.\n"
     ]
    },
    {
     "name": "stdout",
     "output_type": "stream",
     "text": [
      "Trial 46 with params: {'learning_rate': 0.00010750244532497942, 'weight_decay': 0.007, 'warmup_steps': 19}\n"
     ]
    },
    {
     "name": "stderr",
     "output_type": "stream",
     "text": [
      "Some weights of TimmWrapperForImageClassification were not initialized from the model checkpoint at timm/tiny_vit_5m_224.in1k and are newly initialized because the shapes did not match:\n",
      "- head.fc.bias: found shape torch.Size([1000]) in the checkpoint and torch.Size([10]) in the model instantiated\n",
      "- head.fc.weight: found shape torch.Size([1000, 320]) in the checkpoint and torch.Size([10, 320]) in the model instantiated\n",
      "You should probably TRAIN this model on a down-stream task to be able to use it for predictions and inference.\n"
     ]
    },
    {
     "data": {
      "text/html": [
       "\n",
       "    <div>\n",
       "      \n",
       "      <progress value='1252' max='2191' style='width:300px; height:20px; vertical-align: middle;'></progress>\n",
       "      [1252/2191 05:30 < 04:08, 3.78 it/s, Epoch 4/7]\n",
       "    </div>\n",
       "    <table border=\"1\" class=\"dataframe\">\n",
       "  <thead>\n",
       " <tr style=\"text-align: left;\">\n",
       "      <th>Epoch</th>\n",
       "      <th>Training Loss</th>\n",
       "      <th>Validation Loss</th>\n",
       "      <th>Accuracy</th>\n",
       "      <th>Precision</th>\n",
       "      <th>Recall</th>\n",
       "      <th>F1</th>\n",
       "    </tr>\n",
       "  </thead>\n",
       "  <tbody>\n",
       "    <tr>\n",
       "      <td>1</td>\n",
       "      <td>0.460200</td>\n",
       "      <td>0.168979</td>\n",
       "      <td>0.943800</td>\n",
       "      <td>0.945788</td>\n",
       "      <td>0.943889</td>\n",
       "      <td>0.943957</td>\n",
       "    </tr>\n",
       "    <tr>\n",
       "      <td>2</td>\n",
       "      <td>0.089500</td>\n",
       "      <td>0.123324</td>\n",
       "      <td>0.961000</td>\n",
       "      <td>0.961120</td>\n",
       "      <td>0.961155</td>\n",
       "      <td>0.961055</td>\n",
       "    </tr>\n",
       "    <tr>\n",
       "      <td>3</td>\n",
       "      <td>0.040800</td>\n",
       "      <td>0.116944</td>\n",
       "      <td>0.965300</td>\n",
       "      <td>0.966106</td>\n",
       "      <td>0.965374</td>\n",
       "      <td>0.965560</td>\n",
       "    </tr>\n",
       "    <tr>\n",
       "      <td>4</td>\n",
       "      <td>0.018200</td>\n",
       "      <td>0.136171</td>\n",
       "      <td>0.965400</td>\n",
       "      <td>0.965523</td>\n",
       "      <td>0.965564</td>\n",
       "      <td>0.965494</td>\n",
       "    </tr>\n",
       "  </tbody>\n",
       "</table><p>"
      ],
      "text/plain": [
       "<IPython.core.display.HTML object>"
      ]
     },
     "metadata": {},
     "output_type": "display_data"
    },
    {
     "name": "stderr",
     "output_type": "stream",
     "text": [
      "[I 2025-03-29 21:41:49,589] Trial 46 pruned. \n"
     ]
    },
    {
     "name": "stdout",
     "output_type": "stream",
     "text": [
      "Trial 47 with params: {'learning_rate': 0.00010887451629772067, 'weight_decay': 0.005, 'warmup_steps': 27}\n"
     ]
    },
    {
     "name": "stderr",
     "output_type": "stream",
     "text": [
      "Some weights of TimmWrapperForImageClassification were not initialized from the model checkpoint at timm/tiny_vit_5m_224.in1k and are newly initialized because the shapes did not match:\n",
      "- head.fc.bias: found shape torch.Size([1000]) in the checkpoint and torch.Size([10]) in the model instantiated\n",
      "- head.fc.weight: found shape torch.Size([1000, 320]) in the checkpoint and torch.Size([10, 320]) in the model instantiated\n",
      "You should probably TRAIN this model on a down-stream task to be able to use it for predictions and inference.\n"
     ]
    },
    {
     "data": {
      "text/html": [
       "\n",
       "    <div>\n",
       "      \n",
       "      <progress value='2191' max='2191' style='width:300px; height:20px; vertical-align: middle;'></progress>\n",
       "      [2191/2191 10:06, Epoch 7/7]\n",
       "    </div>\n",
       "    <table border=\"1\" class=\"dataframe\">\n",
       "  <thead>\n",
       " <tr style=\"text-align: left;\">\n",
       "      <th>Epoch</th>\n",
       "      <th>Training Loss</th>\n",
       "      <th>Validation Loss</th>\n",
       "      <th>Accuracy</th>\n",
       "      <th>Precision</th>\n",
       "      <th>Recall</th>\n",
       "      <th>F1</th>\n",
       "    </tr>\n",
       "  </thead>\n",
       "  <tbody>\n",
       "    <tr>\n",
       "      <td>1</td>\n",
       "      <td>0.473000</td>\n",
       "      <td>0.209213</td>\n",
       "      <td>0.928500</td>\n",
       "      <td>0.935446</td>\n",
       "      <td>0.928765</td>\n",
       "      <td>0.928972</td>\n",
       "    </tr>\n",
       "    <tr>\n",
       "      <td>2</td>\n",
       "      <td>0.092800</td>\n",
       "      <td>0.126340</td>\n",
       "      <td>0.959000</td>\n",
       "      <td>0.959661</td>\n",
       "      <td>0.959130</td>\n",
       "      <td>0.959288</td>\n",
       "    </tr>\n",
       "    <tr>\n",
       "      <td>3</td>\n",
       "      <td>0.044400</td>\n",
       "      <td>0.113840</td>\n",
       "      <td>0.966200</td>\n",
       "      <td>0.966276</td>\n",
       "      <td>0.966380</td>\n",
       "      <td>0.966264</td>\n",
       "    </tr>\n",
       "    <tr>\n",
       "      <td>4</td>\n",
       "      <td>0.017500</td>\n",
       "      <td>0.121459</td>\n",
       "      <td>0.968000</td>\n",
       "      <td>0.968048</td>\n",
       "      <td>0.968188</td>\n",
       "      <td>0.968096</td>\n",
       "    </tr>\n",
       "    <tr>\n",
       "      <td>5</td>\n",
       "      <td>0.006800</td>\n",
       "      <td>0.125410</td>\n",
       "      <td>0.971300</td>\n",
       "      <td>0.971410</td>\n",
       "      <td>0.971463</td>\n",
       "      <td>0.971386</td>\n",
       "    </tr>\n",
       "    <tr>\n",
       "      <td>6</td>\n",
       "      <td>0.001600</td>\n",
       "      <td>0.128498</td>\n",
       "      <td>0.972600</td>\n",
       "      <td>0.972798</td>\n",
       "      <td>0.972677</td>\n",
       "      <td>0.972704</td>\n",
       "    </tr>\n",
       "    <tr>\n",
       "      <td>7</td>\n",
       "      <td>0.000500</td>\n",
       "      <td>0.126973</td>\n",
       "      <td>0.972200</td>\n",
       "      <td>0.972323</td>\n",
       "      <td>0.972319</td>\n",
       "      <td>0.972316</td>\n",
       "    </tr>\n",
       "  </tbody>\n",
       "</table><p>"
      ],
      "text/plain": [
       "<IPython.core.display.HTML object>"
      ]
     },
     "metadata": {},
     "output_type": "display_data"
    },
    {
     "name": "stderr",
     "output_type": "stream",
     "text": [
      "[I 2025-03-29 21:51:59,083] Trial 47 finished with value: 0.9723158718719297 and parameters: {'learning_rate': 0.00010887451629772067, 'weight_decay': 0.005, 'warmup_steps': 27}. Best is trial 43 with value: 0.9735436774258494.\n"
     ]
    },
    {
     "name": "stdout",
     "output_type": "stream",
     "text": [
      "Trial 48 with params: {'learning_rate': 0.00012147190692302132, 'weight_decay': 0.007, 'warmup_steps': 24}\n"
     ]
    },
    {
     "name": "stderr",
     "output_type": "stream",
     "text": [
      "Some weights of TimmWrapperForImageClassification were not initialized from the model checkpoint at timm/tiny_vit_5m_224.in1k and are newly initialized because the shapes did not match:\n",
      "- head.fc.bias: found shape torch.Size([1000]) in the checkpoint and torch.Size([10]) in the model instantiated\n",
      "- head.fc.weight: found shape torch.Size([1000, 320]) in the checkpoint and torch.Size([10, 320]) in the model instantiated\n",
      "You should probably TRAIN this model on a down-stream task to be able to use it for predictions and inference.\n"
     ]
    },
    {
     "data": {
      "text/html": [
       "\n",
       "    <div>\n",
       "      \n",
       "      <progress value='2191' max='2191' style='width:300px; height:20px; vertical-align: middle;'></progress>\n",
       "      [2191/2191 09:39, Epoch 7/7]\n",
       "    </div>\n",
       "    <table border=\"1\" class=\"dataframe\">\n",
       "  <thead>\n",
       " <tr style=\"text-align: left;\">\n",
       "      <th>Epoch</th>\n",
       "      <th>Training Loss</th>\n",
       "      <th>Validation Loss</th>\n",
       "      <th>Accuracy</th>\n",
       "      <th>Precision</th>\n",
       "      <th>Recall</th>\n",
       "      <th>F1</th>\n",
       "    </tr>\n",
       "  </thead>\n",
       "  <tbody>\n",
       "    <tr>\n",
       "      <td>1</td>\n",
       "      <td>0.469600</td>\n",
       "      <td>0.194579</td>\n",
       "      <td>0.933500</td>\n",
       "      <td>0.939963</td>\n",
       "      <td>0.933958</td>\n",
       "      <td>0.934283</td>\n",
       "    </tr>\n",
       "    <tr>\n",
       "      <td>2</td>\n",
       "      <td>0.099100</td>\n",
       "      <td>0.116843</td>\n",
       "      <td>0.962500</td>\n",
       "      <td>0.963129</td>\n",
       "      <td>0.962608</td>\n",
       "      <td>0.962688</td>\n",
       "    </tr>\n",
       "    <tr>\n",
       "      <td>3</td>\n",
       "      <td>0.046200</td>\n",
       "      <td>0.125989</td>\n",
       "      <td>0.961900</td>\n",
       "      <td>0.963254</td>\n",
       "      <td>0.962109</td>\n",
       "      <td>0.962094</td>\n",
       "    </tr>\n",
       "    <tr>\n",
       "      <td>4</td>\n",
       "      <td>0.018600</td>\n",
       "      <td>0.123807</td>\n",
       "      <td>0.969400</td>\n",
       "      <td>0.969666</td>\n",
       "      <td>0.969547</td>\n",
       "      <td>0.969552</td>\n",
       "    </tr>\n",
       "    <tr>\n",
       "      <td>5</td>\n",
       "      <td>0.007000</td>\n",
       "      <td>0.137423</td>\n",
       "      <td>0.968000</td>\n",
       "      <td>0.968142</td>\n",
       "      <td>0.968143</td>\n",
       "      <td>0.968116</td>\n",
       "    </tr>\n",
       "    <tr>\n",
       "      <td>6</td>\n",
       "      <td>0.001800</td>\n",
       "      <td>0.142694</td>\n",
       "      <td>0.970900</td>\n",
       "      <td>0.971183</td>\n",
       "      <td>0.970996</td>\n",
       "      <td>0.971051</td>\n",
       "    </tr>\n",
       "    <tr>\n",
       "      <td>7</td>\n",
       "      <td>0.000500</td>\n",
       "      <td>0.137763</td>\n",
       "      <td>0.970300</td>\n",
       "      <td>0.970454</td>\n",
       "      <td>0.970454</td>\n",
       "      <td>0.970445</td>\n",
       "    </tr>\n",
       "  </tbody>\n",
       "</table><p>"
      ],
      "text/plain": [
       "<IPython.core.display.HTML object>"
      ]
     },
     "metadata": {},
     "output_type": "display_data"
    },
    {
     "name": "stderr",
     "output_type": "stream",
     "text": [
      "[I 2025-03-29 22:01:41,232] Trial 48 finished with value: 0.9704449399761612 and parameters: {'learning_rate': 0.00012147190692302132, 'weight_decay': 0.007, 'warmup_steps': 24}. Best is trial 43 with value: 0.9735436774258494.\n"
     ]
    },
    {
     "name": "stdout",
     "output_type": "stream",
     "text": [
      "Trial 49 with params: {'learning_rate': 0.00020338031147463888, 'weight_decay': 0.009000000000000001, 'warmup_steps': 19}\n"
     ]
    },
    {
     "name": "stderr",
     "output_type": "stream",
     "text": [
      "Some weights of TimmWrapperForImageClassification were not initialized from the model checkpoint at timm/tiny_vit_5m_224.in1k and are newly initialized because the shapes did not match:\n",
      "- head.fc.bias: found shape torch.Size([1000]) in the checkpoint and torch.Size([10]) in the model instantiated\n",
      "- head.fc.weight: found shape torch.Size([1000, 320]) in the checkpoint and torch.Size([10, 320]) in the model instantiated\n",
      "You should probably TRAIN this model on a down-stream task to be able to use it for predictions and inference.\n"
     ]
    },
    {
     "data": {
      "text/html": [
       "\n",
       "    <div>\n",
       "      \n",
       "      <progress value='626' max='2191' style='width:300px; height:20px; vertical-align: middle;'></progress>\n",
       "      [ 626/2191 02:43 < 06:49, 3.82 it/s, Epoch 2/7]\n",
       "    </div>\n",
       "    <table border=\"1\" class=\"dataframe\">\n",
       "  <thead>\n",
       " <tr style=\"text-align: left;\">\n",
       "      <th>Epoch</th>\n",
       "      <th>Training Loss</th>\n",
       "      <th>Validation Loss</th>\n",
       "      <th>Accuracy</th>\n",
       "      <th>Precision</th>\n",
       "      <th>Recall</th>\n",
       "      <th>F1</th>\n",
       "    </tr>\n",
       "  </thead>\n",
       "  <tbody>\n",
       "    <tr>\n",
       "      <td>1</td>\n",
       "      <td>0.425200</td>\n",
       "      <td>0.193183</td>\n",
       "      <td>0.937800</td>\n",
       "      <td>0.941039</td>\n",
       "      <td>0.937924</td>\n",
       "      <td>0.938353</td>\n",
       "    </tr>\n",
       "    <tr>\n",
       "      <td>2</td>\n",
       "      <td>0.110000</td>\n",
       "      <td>0.145897</td>\n",
       "      <td>0.950200</td>\n",
       "      <td>0.951443</td>\n",
       "      <td>0.950415</td>\n",
       "      <td>0.950370</td>\n",
       "    </tr>\n",
       "  </tbody>\n",
       "</table><p>"
      ],
      "text/plain": [
       "<IPython.core.display.HTML object>"
      ]
     },
     "metadata": {},
     "output_type": "display_data"
    },
    {
     "name": "stderr",
     "output_type": "stream",
     "text": [
      "[I 2025-03-29 22:04:26,329] Trial 49 pruned. \n"
     ]
    },
    {
     "name": "stdout",
     "output_type": "stream",
     "text": [
      "Trial 50 with params: {'learning_rate': 0.0027800474932883233, 'weight_decay': 0.0, 'warmup_steps': 12}\n"
     ]
    },
    {
     "name": "stderr",
     "output_type": "stream",
     "text": [
      "Some weights of TimmWrapperForImageClassification were not initialized from the model checkpoint at timm/tiny_vit_5m_224.in1k and are newly initialized because the shapes did not match:\n",
      "- head.fc.bias: found shape torch.Size([1000]) in the checkpoint and torch.Size([10]) in the model instantiated\n",
      "- head.fc.weight: found shape torch.Size([1000, 320]) in the checkpoint and torch.Size([10, 320]) in the model instantiated\n",
      "You should probably TRAIN this model on a down-stream task to be able to use it for predictions and inference.\n"
     ]
    },
    {
     "data": {
      "text/html": [
       "\n",
       "    <div>\n",
       "      \n",
       "      <progress value='626' max='2191' style='width:300px; height:20px; vertical-align: middle;'></progress>\n",
       "      [ 626/2191 02:44 < 06:52, 3.79 it/s, Epoch 2/7]\n",
       "    </div>\n",
       "    <table border=\"1\" class=\"dataframe\">\n",
       "  <thead>\n",
       " <tr style=\"text-align: left;\">\n",
       "      <th>Epoch</th>\n",
       "      <th>Training Loss</th>\n",
       "      <th>Validation Loss</th>\n",
       "      <th>Accuracy</th>\n",
       "      <th>Precision</th>\n",
       "      <th>Recall</th>\n",
       "      <th>F1</th>\n",
       "    </tr>\n",
       "  </thead>\n",
       "  <tbody>\n",
       "    <tr>\n",
       "      <td>1</td>\n",
       "      <td>1.872500</td>\n",
       "      <td>2.200063</td>\n",
       "      <td>0.188600</td>\n",
       "      <td>0.220976</td>\n",
       "      <td>0.187333</td>\n",
       "      <td>0.151398</td>\n",
       "    </tr>\n",
       "    <tr>\n",
       "      <td>2</td>\n",
       "      <td>2.076100</td>\n",
       "      <td>2.243609</td>\n",
       "      <td>0.151800</td>\n",
       "      <td>0.180142</td>\n",
       "      <td>0.151297</td>\n",
       "      <td>0.111972</td>\n",
       "    </tr>\n",
       "  </tbody>\n",
       "</table><p>"
      ],
      "text/plain": [
       "<IPython.core.display.HTML object>"
      ]
     },
     "metadata": {},
     "output_type": "display_data"
    },
    {
     "name": "stderr",
     "output_type": "stream",
     "text": [
      "[I 2025-03-29 22:07:12,889] Trial 50 pruned. \n"
     ]
    },
    {
     "name": "stdout",
     "output_type": "stream",
     "text": [
      "Trial 51 with params: {'learning_rate': 0.0002326906365354164, 'weight_decay': 0.005, 'warmup_steps': 23}\n"
     ]
    },
    {
     "name": "stderr",
     "output_type": "stream",
     "text": [
      "Some weights of TimmWrapperForImageClassification were not initialized from the model checkpoint at timm/tiny_vit_5m_224.in1k and are newly initialized because the shapes did not match:\n",
      "- head.fc.bias: found shape torch.Size([1000]) in the checkpoint and torch.Size([10]) in the model instantiated\n",
      "- head.fc.weight: found shape torch.Size([1000, 320]) in the checkpoint and torch.Size([10, 320]) in the model instantiated\n",
      "You should probably TRAIN this model on a down-stream task to be able to use it for predictions and inference.\n"
     ]
    },
    {
     "data": {
      "text/html": [
       "\n",
       "    <div>\n",
       "      \n",
       "      <progress value='1252' max='2191' style='width:300px; height:20px; vertical-align: middle;'></progress>\n",
       "      [1252/2191 05:29 < 04:07, 3.79 it/s, Epoch 4/7]\n",
       "    </div>\n",
       "    <table border=\"1\" class=\"dataframe\">\n",
       "  <thead>\n",
       " <tr style=\"text-align: left;\">\n",
       "      <th>Epoch</th>\n",
       "      <th>Training Loss</th>\n",
       "      <th>Validation Loss</th>\n",
       "      <th>Accuracy</th>\n",
       "      <th>Precision</th>\n",
       "      <th>Recall</th>\n",
       "      <th>F1</th>\n",
       "    </tr>\n",
       "  </thead>\n",
       "  <tbody>\n",
       "    <tr>\n",
       "      <td>1</td>\n",
       "      <td>0.443400</td>\n",
       "      <td>0.208238</td>\n",
       "      <td>0.932900</td>\n",
       "      <td>0.937489</td>\n",
       "      <td>0.932971</td>\n",
       "      <td>0.933748</td>\n",
       "    </tr>\n",
       "    <tr>\n",
       "      <td>2</td>\n",
       "      <td>0.122900</td>\n",
       "      <td>0.156702</td>\n",
       "      <td>0.949300</td>\n",
       "      <td>0.951350</td>\n",
       "      <td>0.949670</td>\n",
       "      <td>0.949365</td>\n",
       "    </tr>\n",
       "    <tr>\n",
       "      <td>3</td>\n",
       "      <td>0.061900</td>\n",
       "      <td>0.132097</td>\n",
       "      <td>0.960600</td>\n",
       "      <td>0.960954</td>\n",
       "      <td>0.960639</td>\n",
       "      <td>0.960720</td>\n",
       "    </tr>\n",
       "    <tr>\n",
       "      <td>4</td>\n",
       "      <td>0.033600</td>\n",
       "      <td>0.129805</td>\n",
       "      <td>0.963100</td>\n",
       "      <td>0.963476</td>\n",
       "      <td>0.963283</td>\n",
       "      <td>0.963316</td>\n",
       "    </tr>\n",
       "  </tbody>\n",
       "</table><p>"
      ],
      "text/plain": [
       "<IPython.core.display.HTML object>"
      ]
     },
     "metadata": {},
     "output_type": "display_data"
    },
    {
     "name": "stderr",
     "output_type": "stream",
     "text": [
      "[I 2025-03-29 22:12:44,343] Trial 51 pruned. \n"
     ]
    },
    {
     "name": "stdout",
     "output_type": "stream",
     "text": [
      "Trial 52 with params: {'learning_rate': 6.1005881023266626e-05, 'weight_decay': 0.007, 'warmup_steps': 7}\n"
     ]
    },
    {
     "name": "stderr",
     "output_type": "stream",
     "text": [
      "Some weights of TimmWrapperForImageClassification were not initialized from the model checkpoint at timm/tiny_vit_5m_224.in1k and are newly initialized because the shapes did not match:\n",
      "- head.fc.bias: found shape torch.Size([1000]) in the checkpoint and torch.Size([10]) in the model instantiated\n",
      "- head.fc.weight: found shape torch.Size([1000, 320]) in the checkpoint and torch.Size([10, 320]) in the model instantiated\n",
      "You should probably TRAIN this model on a down-stream task to be able to use it for predictions and inference.\n"
     ]
    },
    {
     "data": {
      "text/html": [
       "\n",
       "    <div>\n",
       "      \n",
       "      <progress value='1252' max='2191' style='width:300px; height:20px; vertical-align: middle;'></progress>\n",
       "      [1252/2191 05:30 < 04:08, 3.78 it/s, Epoch 4/7]\n",
       "    </div>\n",
       "    <table border=\"1\" class=\"dataframe\">\n",
       "  <thead>\n",
       " <tr style=\"text-align: left;\">\n",
       "      <th>Epoch</th>\n",
       "      <th>Training Loss</th>\n",
       "      <th>Validation Loss</th>\n",
       "      <th>Accuracy</th>\n",
       "      <th>Precision</th>\n",
       "      <th>Recall</th>\n",
       "      <th>F1</th>\n",
       "    </tr>\n",
       "  </thead>\n",
       "  <tbody>\n",
       "    <tr>\n",
       "      <td>1</td>\n",
       "      <td>0.516800</td>\n",
       "      <td>0.164689</td>\n",
       "      <td>0.948300</td>\n",
       "      <td>0.949997</td>\n",
       "      <td>0.948293</td>\n",
       "      <td>0.948674</td>\n",
       "    </tr>\n",
       "    <tr>\n",
       "      <td>2</td>\n",
       "      <td>0.095700</td>\n",
       "      <td>0.125215</td>\n",
       "      <td>0.959200</td>\n",
       "      <td>0.959670</td>\n",
       "      <td>0.959413</td>\n",
       "      <td>0.959368</td>\n",
       "    </tr>\n",
       "    <tr>\n",
       "      <td>3</td>\n",
       "      <td>0.037000</td>\n",
       "      <td>0.128637</td>\n",
       "      <td>0.962900</td>\n",
       "      <td>0.962982</td>\n",
       "      <td>0.963079</td>\n",
       "      <td>0.962942</td>\n",
       "    </tr>\n",
       "    <tr>\n",
       "      <td>4</td>\n",
       "      <td>0.015700</td>\n",
       "      <td>0.139914</td>\n",
       "      <td>0.965100</td>\n",
       "      <td>0.965234</td>\n",
       "      <td>0.965256</td>\n",
       "      <td>0.965230</td>\n",
       "    </tr>\n",
       "  </tbody>\n",
       "</table><p>"
      ],
      "text/plain": [
       "<IPython.core.display.HTML object>"
      ]
     },
     "metadata": {},
     "output_type": "display_data"
    },
    {
     "name": "stderr",
     "output_type": "stream",
     "text": [
      "[I 2025-03-29 22:18:17,269] Trial 52 pruned. \n"
     ]
    },
    {
     "name": "stdout",
     "output_type": "stream",
     "text": [
      "Trial 53 with params: {'learning_rate': 9.335977849844236e-05, 'weight_decay': 0.006, 'warmup_steps': 30}\n"
     ]
    },
    {
     "name": "stderr",
     "output_type": "stream",
     "text": [
      "Some weights of TimmWrapperForImageClassification were not initialized from the model checkpoint at timm/tiny_vit_5m_224.in1k and are newly initialized because the shapes did not match:\n",
      "- head.fc.bias: found shape torch.Size([1000]) in the checkpoint and torch.Size([10]) in the model instantiated\n",
      "- head.fc.weight: found shape torch.Size([1000, 320]) in the checkpoint and torch.Size([10, 320]) in the model instantiated\n",
      "You should probably TRAIN this model on a down-stream task to be able to use it for predictions and inference.\n"
     ]
    },
    {
     "data": {
      "text/html": [
       "\n",
       "    <div>\n",
       "      \n",
       "      <progress value='2191' max='2191' style='width:300px; height:20px; vertical-align: middle;'></progress>\n",
       "      [2191/2191 09:40, Epoch 7/7]\n",
       "    </div>\n",
       "    <table border=\"1\" class=\"dataframe\">\n",
       "  <thead>\n",
       " <tr style=\"text-align: left;\">\n",
       "      <th>Epoch</th>\n",
       "      <th>Training Loss</th>\n",
       "      <th>Validation Loss</th>\n",
       "      <th>Accuracy</th>\n",
       "      <th>Precision</th>\n",
       "      <th>Recall</th>\n",
       "      <th>F1</th>\n",
       "    </tr>\n",
       "  </thead>\n",
       "  <tbody>\n",
       "    <tr>\n",
       "      <td>1</td>\n",
       "      <td>0.515600</td>\n",
       "      <td>0.164909</td>\n",
       "      <td>0.945600</td>\n",
       "      <td>0.947876</td>\n",
       "      <td>0.945861</td>\n",
       "      <td>0.945872</td>\n",
       "    </tr>\n",
       "    <tr>\n",
       "      <td>2</td>\n",
       "      <td>0.095100</td>\n",
       "      <td>0.123180</td>\n",
       "      <td>0.959200</td>\n",
       "      <td>0.959896</td>\n",
       "      <td>0.959250</td>\n",
       "      <td>0.959379</td>\n",
       "    </tr>\n",
       "    <tr>\n",
       "      <td>3</td>\n",
       "      <td>0.041100</td>\n",
       "      <td>0.124694</td>\n",
       "      <td>0.963500</td>\n",
       "      <td>0.963677</td>\n",
       "      <td>0.963621</td>\n",
       "      <td>0.963585</td>\n",
       "    </tr>\n",
       "    <tr>\n",
       "      <td>4</td>\n",
       "      <td>0.018200</td>\n",
       "      <td>0.128578</td>\n",
       "      <td>0.968100</td>\n",
       "      <td>0.968284</td>\n",
       "      <td>0.968204</td>\n",
       "      <td>0.968160</td>\n",
       "    </tr>\n",
       "    <tr>\n",
       "      <td>5</td>\n",
       "      <td>0.005200</td>\n",
       "      <td>0.140075</td>\n",
       "      <td>0.969200</td>\n",
       "      <td>0.969279</td>\n",
       "      <td>0.969306</td>\n",
       "      <td>0.969253</td>\n",
       "    </tr>\n",
       "    <tr>\n",
       "      <td>6</td>\n",
       "      <td>0.001600</td>\n",
       "      <td>0.140276</td>\n",
       "      <td>0.970500</td>\n",
       "      <td>0.970659</td>\n",
       "      <td>0.970568</td>\n",
       "      <td>0.970605</td>\n",
       "    </tr>\n",
       "    <tr>\n",
       "      <td>7</td>\n",
       "      <td>0.000500</td>\n",
       "      <td>0.139486</td>\n",
       "      <td>0.971100</td>\n",
       "      <td>0.971168</td>\n",
       "      <td>0.971163</td>\n",
       "      <td>0.971161</td>\n",
       "    </tr>\n",
       "  </tbody>\n",
       "</table><p>"
      ],
      "text/plain": [
       "<IPython.core.display.HTML object>"
      ]
     },
     "metadata": {},
     "output_type": "display_data"
    },
    {
     "name": "stderr",
     "output_type": "stream",
     "text": [
      "[I 2025-03-29 22:28:00,649] Trial 53 finished with value: 0.971161361651063 and parameters: {'learning_rate': 9.335977849844236e-05, 'weight_decay': 0.006, 'warmup_steps': 30}. Best is trial 43 with value: 0.9735436774258494.\n"
     ]
    },
    {
     "name": "stdout",
     "output_type": "stream",
     "text": [
      "Trial 54 with params: {'learning_rate': 0.000403916017640712, 'weight_decay': 0.0, 'warmup_steps': 23}\n"
     ]
    },
    {
     "name": "stderr",
     "output_type": "stream",
     "text": [
      "Some weights of TimmWrapperForImageClassification were not initialized from the model checkpoint at timm/tiny_vit_5m_224.in1k and are newly initialized because the shapes did not match:\n",
      "- head.fc.bias: found shape torch.Size([1000]) in the checkpoint and torch.Size([10]) in the model instantiated\n",
      "- head.fc.weight: found shape torch.Size([1000, 320]) in the checkpoint and torch.Size([10, 320]) in the model instantiated\n",
      "You should probably TRAIN this model on a down-stream task to be able to use it for predictions and inference.\n"
     ]
    },
    {
     "data": {
      "text/html": [
       "\n",
       "    <div>\n",
       "      \n",
       "      <progress value='626' max='2191' style='width:300px; height:20px; vertical-align: middle;'></progress>\n",
       "      [ 626/2191 02:44 < 06:52, 3.79 it/s, Epoch 2/7]\n",
       "    </div>\n",
       "    <table border=\"1\" class=\"dataframe\">\n",
       "  <thead>\n",
       " <tr style=\"text-align: left;\">\n",
       "      <th>Epoch</th>\n",
       "      <th>Training Loss</th>\n",
       "      <th>Validation Loss</th>\n",
       "      <th>Accuracy</th>\n",
       "      <th>Precision</th>\n",
       "      <th>Recall</th>\n",
       "      <th>F1</th>\n",
       "    </tr>\n",
       "  </thead>\n",
       "  <tbody>\n",
       "    <tr>\n",
       "      <td>1</td>\n",
       "      <td>0.470700</td>\n",
       "      <td>0.291617</td>\n",
       "      <td>0.904300</td>\n",
       "      <td>0.910795</td>\n",
       "      <td>0.904971</td>\n",
       "      <td>0.904341</td>\n",
       "    </tr>\n",
       "    <tr>\n",
       "      <td>2</td>\n",
       "      <td>0.164900</td>\n",
       "      <td>0.218964</td>\n",
       "      <td>0.926800</td>\n",
       "      <td>0.928785</td>\n",
       "      <td>0.927255</td>\n",
       "      <td>0.926721</td>\n",
       "    </tr>\n",
       "  </tbody>\n",
       "</table><p>"
      ],
      "text/plain": [
       "<IPython.core.display.HTML object>"
      ]
     },
     "metadata": {},
     "output_type": "display_data"
    },
    {
     "name": "stderr",
     "output_type": "stream",
     "text": [
      "[I 2025-03-29 22:30:46,989] Trial 54 pruned. \n"
     ]
    },
    {
     "name": "stdout",
     "output_type": "stream",
     "text": [
      "Trial 55 with params: {'learning_rate': 0.0002606336830980987, 'weight_decay': 0.0, 'warmup_steps': 6}\n"
     ]
    },
    {
     "name": "stderr",
     "output_type": "stream",
     "text": [
      "Some weights of TimmWrapperForImageClassification were not initialized from the model checkpoint at timm/tiny_vit_5m_224.in1k and are newly initialized because the shapes did not match:\n",
      "- head.fc.bias: found shape torch.Size([1000]) in the checkpoint and torch.Size([10]) in the model instantiated\n",
      "- head.fc.weight: found shape torch.Size([1000, 320]) in the checkpoint and torch.Size([10, 320]) in the model instantiated\n",
      "You should probably TRAIN this model on a down-stream task to be able to use it for predictions and inference.\n"
     ]
    },
    {
     "data": {
      "text/html": [
       "\n",
       "    <div>\n",
       "      \n",
       "      <progress value='1252' max='2191' style='width:300px; height:20px; vertical-align: middle;'></progress>\n",
       "      [1252/2191 05:29 < 04:07, 3.79 it/s, Epoch 4/7]\n",
       "    </div>\n",
       "    <table border=\"1\" class=\"dataframe\">\n",
       "  <thead>\n",
       " <tr style=\"text-align: left;\">\n",
       "      <th>Epoch</th>\n",
       "      <th>Training Loss</th>\n",
       "      <th>Validation Loss</th>\n",
       "      <th>Accuracy</th>\n",
       "      <th>Precision</th>\n",
       "      <th>Recall</th>\n",
       "      <th>F1</th>\n",
       "    </tr>\n",
       "  </thead>\n",
       "  <tbody>\n",
       "    <tr>\n",
       "      <td>1</td>\n",
       "      <td>0.394100</td>\n",
       "      <td>0.257073</td>\n",
       "      <td>0.913100</td>\n",
       "      <td>0.921715</td>\n",
       "      <td>0.913562</td>\n",
       "      <td>0.913187</td>\n",
       "    </tr>\n",
       "    <tr>\n",
       "      <td>2</td>\n",
       "      <td>0.126400</td>\n",
       "      <td>0.147241</td>\n",
       "      <td>0.952200</td>\n",
       "      <td>0.952736</td>\n",
       "      <td>0.952555</td>\n",
       "      <td>0.952348</td>\n",
       "    </tr>\n",
       "    <tr>\n",
       "      <td>3</td>\n",
       "      <td>0.067400</td>\n",
       "      <td>0.154349</td>\n",
       "      <td>0.954400</td>\n",
       "      <td>0.955422</td>\n",
       "      <td>0.954847</td>\n",
       "      <td>0.954531</td>\n",
       "    </tr>\n",
       "    <tr>\n",
       "      <td>4</td>\n",
       "      <td>0.037300</td>\n",
       "      <td>0.140770</td>\n",
       "      <td>0.960500</td>\n",
       "      <td>0.960801</td>\n",
       "      <td>0.960808</td>\n",
       "      <td>0.960574</td>\n",
       "    </tr>\n",
       "  </tbody>\n",
       "</table><p>"
      ],
      "text/plain": [
       "<IPython.core.display.HTML object>"
      ]
     },
     "metadata": {},
     "output_type": "display_data"
    },
    {
     "name": "stderr",
     "output_type": "stream",
     "text": [
      "[I 2025-03-29 22:36:18,400] Trial 55 pruned. \n"
     ]
    },
    {
     "name": "stdout",
     "output_type": "stream",
     "text": [
      "Trial 56 with params: {'learning_rate': 6.358026237171493e-05, 'weight_decay': 0.005, 'warmup_steps': 26}\n"
     ]
    },
    {
     "name": "stderr",
     "output_type": "stream",
     "text": [
      "Some weights of TimmWrapperForImageClassification were not initialized from the model checkpoint at timm/tiny_vit_5m_224.in1k and are newly initialized because the shapes did not match:\n",
      "- head.fc.bias: found shape torch.Size([1000]) in the checkpoint and torch.Size([10]) in the model instantiated\n",
      "- head.fc.weight: found shape torch.Size([1000, 320]) in the checkpoint and torch.Size([10, 320]) in the model instantiated\n",
      "You should probably TRAIN this model on a down-stream task to be able to use it for predictions and inference.\n"
     ]
    },
    {
     "data": {
      "text/html": [
       "\n",
       "    <div>\n",
       "      \n",
       "      <progress value='2191' max='2191' style='width:300px; height:20px; vertical-align: middle;'></progress>\n",
       "      [2191/2191 09:40, Epoch 7/7]\n",
       "    </div>\n",
       "    <table border=\"1\" class=\"dataframe\">\n",
       "  <thead>\n",
       " <tr style=\"text-align: left;\">\n",
       "      <th>Epoch</th>\n",
       "      <th>Training Loss</th>\n",
       "      <th>Validation Loss</th>\n",
       "      <th>Accuracy</th>\n",
       "      <th>Precision</th>\n",
       "      <th>Recall</th>\n",
       "      <th>F1</th>\n",
       "    </tr>\n",
       "  </thead>\n",
       "  <tbody>\n",
       "    <tr>\n",
       "      <td>1</td>\n",
       "      <td>0.565700</td>\n",
       "      <td>0.175585</td>\n",
       "      <td>0.942900</td>\n",
       "      <td>0.945054</td>\n",
       "      <td>0.943064</td>\n",
       "      <td>0.943401</td>\n",
       "    </tr>\n",
       "    <tr>\n",
       "      <td>2</td>\n",
       "      <td>0.097700</td>\n",
       "      <td>0.122658</td>\n",
       "      <td>0.961800</td>\n",
       "      <td>0.962183</td>\n",
       "      <td>0.961959</td>\n",
       "      <td>0.961962</td>\n",
       "    </tr>\n",
       "    <tr>\n",
       "      <td>3</td>\n",
       "      <td>0.042700</td>\n",
       "      <td>0.119655</td>\n",
       "      <td>0.966200</td>\n",
       "      <td>0.966514</td>\n",
       "      <td>0.966362</td>\n",
       "      <td>0.966287</td>\n",
       "    </tr>\n",
       "    <tr>\n",
       "      <td>4</td>\n",
       "      <td>0.014800</td>\n",
       "      <td>0.130585</td>\n",
       "      <td>0.967000</td>\n",
       "      <td>0.967152</td>\n",
       "      <td>0.967165</td>\n",
       "      <td>0.967099</td>\n",
       "    </tr>\n",
       "    <tr>\n",
       "      <td>5</td>\n",
       "      <td>0.004800</td>\n",
       "      <td>0.135921</td>\n",
       "      <td>0.969400</td>\n",
       "      <td>0.969590</td>\n",
       "      <td>0.969537</td>\n",
       "      <td>0.969544</td>\n",
       "    </tr>\n",
       "    <tr>\n",
       "      <td>6</td>\n",
       "      <td>0.001300</td>\n",
       "      <td>0.140654</td>\n",
       "      <td>0.969000</td>\n",
       "      <td>0.969291</td>\n",
       "      <td>0.969089</td>\n",
       "      <td>0.969161</td>\n",
       "    </tr>\n",
       "    <tr>\n",
       "      <td>7</td>\n",
       "      <td>0.000700</td>\n",
       "      <td>0.140930</td>\n",
       "      <td>0.968800</td>\n",
       "      <td>0.968911</td>\n",
       "      <td>0.968939</td>\n",
       "      <td>0.968910</td>\n",
       "    </tr>\n",
       "  </tbody>\n",
       "</table><p>"
      ],
      "text/plain": [
       "<IPython.core.display.HTML object>"
      ]
     },
     "metadata": {},
     "output_type": "display_data"
    },
    {
     "name": "stderr",
     "output_type": "stream",
     "text": [
      "[I 2025-03-29 22:46:01,518] Trial 56 finished with value: 0.968909508253556 and parameters: {'learning_rate': 6.358026237171493e-05, 'weight_decay': 0.005, 'warmup_steps': 26}. Best is trial 43 with value: 0.9735436774258494.\n"
     ]
    },
    {
     "name": "stdout",
     "output_type": "stream",
     "text": [
      "Trial 57 with params: {'learning_rate': 0.00011887515276957258, 'weight_decay': 0.008, 'warmup_steps': 25}\n"
     ]
    },
    {
     "name": "stderr",
     "output_type": "stream",
     "text": [
      "Some weights of TimmWrapperForImageClassification were not initialized from the model checkpoint at timm/tiny_vit_5m_224.in1k and are newly initialized because the shapes did not match:\n",
      "- head.fc.bias: found shape torch.Size([1000]) in the checkpoint and torch.Size([10]) in the model instantiated\n",
      "- head.fc.weight: found shape torch.Size([1000, 320]) in the checkpoint and torch.Size([10, 320]) in the model instantiated\n",
      "You should probably TRAIN this model on a down-stream task to be able to use it for predictions and inference.\n"
     ]
    },
    {
     "data": {
      "text/html": [
       "\n",
       "    <div>\n",
       "      \n",
       "      <progress value='2191' max='2191' style='width:300px; height:20px; vertical-align: middle;'></progress>\n",
       "      [2191/2191 09:38, Epoch 7/7]\n",
       "    </div>\n",
       "    <table border=\"1\" class=\"dataframe\">\n",
       "  <thead>\n",
       " <tr style=\"text-align: left;\">\n",
       "      <th>Epoch</th>\n",
       "      <th>Training Loss</th>\n",
       "      <th>Validation Loss</th>\n",
       "      <th>Accuracy</th>\n",
       "      <th>Precision</th>\n",
       "      <th>Recall</th>\n",
       "      <th>F1</th>\n",
       "    </tr>\n",
       "  </thead>\n",
       "  <tbody>\n",
       "    <tr>\n",
       "      <td>1</td>\n",
       "      <td>0.475600</td>\n",
       "      <td>0.175363</td>\n",
       "      <td>0.941800</td>\n",
       "      <td>0.945091</td>\n",
       "      <td>0.942009</td>\n",
       "      <td>0.942290</td>\n",
       "    </tr>\n",
       "    <tr>\n",
       "      <td>2</td>\n",
       "      <td>0.091100</td>\n",
       "      <td>0.114684</td>\n",
       "      <td>0.961500</td>\n",
       "      <td>0.961794</td>\n",
       "      <td>0.961750</td>\n",
       "      <td>0.961617</td>\n",
       "    </tr>\n",
       "    <tr>\n",
       "      <td>3</td>\n",
       "      <td>0.041400</td>\n",
       "      <td>0.118665</td>\n",
       "      <td>0.963800</td>\n",
       "      <td>0.963768</td>\n",
       "      <td>0.964035</td>\n",
       "      <td>0.963815</td>\n",
       "    </tr>\n",
       "    <tr>\n",
       "      <td>4</td>\n",
       "      <td>0.018100</td>\n",
       "      <td>0.119333</td>\n",
       "      <td>0.967800</td>\n",
       "      <td>0.968153</td>\n",
       "      <td>0.967963</td>\n",
       "      <td>0.967923</td>\n",
       "    </tr>\n",
       "    <tr>\n",
       "      <td>5</td>\n",
       "      <td>0.006600</td>\n",
       "      <td>0.124018</td>\n",
       "      <td>0.971000</td>\n",
       "      <td>0.971074</td>\n",
       "      <td>0.971121</td>\n",
       "      <td>0.971055</td>\n",
       "    </tr>\n",
       "    <tr>\n",
       "      <td>6</td>\n",
       "      <td>0.001400</td>\n",
       "      <td>0.128777</td>\n",
       "      <td>0.971800</td>\n",
       "      <td>0.971978</td>\n",
       "      <td>0.971863</td>\n",
       "      <td>0.971896</td>\n",
       "    </tr>\n",
       "    <tr>\n",
       "      <td>7</td>\n",
       "      <td>0.000400</td>\n",
       "      <td>0.124060</td>\n",
       "      <td>0.973900</td>\n",
       "      <td>0.973988</td>\n",
       "      <td>0.973991</td>\n",
       "      <td>0.973977</td>\n",
       "    </tr>\n",
       "  </tbody>\n",
       "</table><p>"
      ],
      "text/plain": [
       "<IPython.core.display.HTML object>"
      ]
     },
     "metadata": {},
     "output_type": "display_data"
    },
    {
     "name": "stderr",
     "output_type": "stream",
     "text": [
      "[I 2025-03-29 22:55:42,088] Trial 57 finished with value: 0.9739767587933696 and parameters: {'learning_rate': 0.00011887515276957258, 'weight_decay': 0.008, 'warmup_steps': 25}. Best is trial 57 with value: 0.9739767587933696.\n"
     ]
    },
    {
     "name": "stdout",
     "output_type": "stream",
     "text": [
      "Trial 58 with params: {'learning_rate': 7.081459585768469e-05, 'weight_decay': 0.009000000000000001, 'warmup_steps': 22}\n"
     ]
    },
    {
     "name": "stderr",
     "output_type": "stream",
     "text": [
      "Some weights of TimmWrapperForImageClassification were not initialized from the model checkpoint at timm/tiny_vit_5m_224.in1k and are newly initialized because the shapes did not match:\n",
      "- head.fc.bias: found shape torch.Size([1000]) in the checkpoint and torch.Size([10]) in the model instantiated\n",
      "- head.fc.weight: found shape torch.Size([1000, 320]) in the checkpoint and torch.Size([10, 320]) in the model instantiated\n",
      "You should probably TRAIN this model on a down-stream task to be able to use it for predictions and inference.\n"
     ]
    },
    {
     "data": {
      "text/html": [
       "\n",
       "    <div>\n",
       "      \n",
       "      <progress value='2191' max='2191' style='width:300px; height:20px; vertical-align: middle;'></progress>\n",
       "      [2191/2191 09:37, Epoch 7/7]\n",
       "    </div>\n",
       "    <table border=\"1\" class=\"dataframe\">\n",
       "  <thead>\n",
       " <tr style=\"text-align: left;\">\n",
       "      <th>Epoch</th>\n",
       "      <th>Training Loss</th>\n",
       "      <th>Validation Loss</th>\n",
       "      <th>Accuracy</th>\n",
       "      <th>Precision</th>\n",
       "      <th>Recall</th>\n",
       "      <th>F1</th>\n",
       "    </tr>\n",
       "  </thead>\n",
       "  <tbody>\n",
       "    <tr>\n",
       "      <td>1</td>\n",
       "      <td>0.516600</td>\n",
       "      <td>0.157713</td>\n",
       "      <td>0.948400</td>\n",
       "      <td>0.949999</td>\n",
       "      <td>0.948519</td>\n",
       "      <td>0.948801</td>\n",
       "    </tr>\n",
       "    <tr>\n",
       "      <td>2</td>\n",
       "      <td>0.089600</td>\n",
       "      <td>0.135183</td>\n",
       "      <td>0.954300</td>\n",
       "      <td>0.955158</td>\n",
       "      <td>0.954508</td>\n",
       "      <td>0.954464</td>\n",
       "    </tr>\n",
       "    <tr>\n",
       "      <td>3</td>\n",
       "      <td>0.038700</td>\n",
       "      <td>0.119601</td>\n",
       "      <td>0.963400</td>\n",
       "      <td>0.963434</td>\n",
       "      <td>0.963620</td>\n",
       "      <td>0.963460</td>\n",
       "    </tr>\n",
       "    <tr>\n",
       "      <td>4</td>\n",
       "      <td>0.014200</td>\n",
       "      <td>0.142310</td>\n",
       "      <td>0.967400</td>\n",
       "      <td>0.967523</td>\n",
       "      <td>0.967569</td>\n",
       "      <td>0.967505</td>\n",
       "    </tr>\n",
       "    <tr>\n",
       "      <td>5</td>\n",
       "      <td>0.004500</td>\n",
       "      <td>0.136179</td>\n",
       "      <td>0.971000</td>\n",
       "      <td>0.971363</td>\n",
       "      <td>0.971103</td>\n",
       "      <td>0.971162</td>\n",
       "    </tr>\n",
       "    <tr>\n",
       "      <td>6</td>\n",
       "      <td>0.001700</td>\n",
       "      <td>0.142174</td>\n",
       "      <td>0.970400</td>\n",
       "      <td>0.970628</td>\n",
       "      <td>0.970506</td>\n",
       "      <td>0.970554</td>\n",
       "    </tr>\n",
       "    <tr>\n",
       "      <td>7</td>\n",
       "      <td>0.000600</td>\n",
       "      <td>0.140919</td>\n",
       "      <td>0.970300</td>\n",
       "      <td>0.970452</td>\n",
       "      <td>0.970437</td>\n",
       "      <td>0.970436</td>\n",
       "    </tr>\n",
       "  </tbody>\n",
       "</table><p>"
      ],
      "text/plain": [
       "<IPython.core.display.HTML object>"
      ]
     },
     "metadata": {},
     "output_type": "display_data"
    },
    {
     "name": "stderr",
     "output_type": "stream",
     "text": [
      "[I 2025-03-29 23:05:22,242] Trial 58 finished with value: 0.970435554108661 and parameters: {'learning_rate': 7.081459585768469e-05, 'weight_decay': 0.009000000000000001, 'warmup_steps': 22}. Best is trial 57 with value: 0.9739767587933696.\n"
     ]
    },
    {
     "name": "stdout",
     "output_type": "stream",
     "text": [
      "Trial 59 with params: {'learning_rate': 0.00012028135740743376, 'weight_decay': 0.008, 'warmup_steps': 29}\n"
     ]
    },
    {
     "name": "stderr",
     "output_type": "stream",
     "text": [
      "Some weights of TimmWrapperForImageClassification were not initialized from the model checkpoint at timm/tiny_vit_5m_224.in1k and are newly initialized because the shapes did not match:\n",
      "- head.fc.bias: found shape torch.Size([1000]) in the checkpoint and torch.Size([10]) in the model instantiated\n",
      "- head.fc.weight: found shape torch.Size([1000, 320]) in the checkpoint and torch.Size([10, 320]) in the model instantiated\n",
      "You should probably TRAIN this model on a down-stream task to be able to use it for predictions and inference.\n"
     ]
    },
    {
     "data": {
      "text/html": [
       "\n",
       "    <div>\n",
       "      \n",
       "      <progress value='1252' max='2191' style='width:300px; height:20px; vertical-align: middle;'></progress>\n",
       "      [1252/2191 05:30 < 04:07, 3.79 it/s, Epoch 4/7]\n",
       "    </div>\n",
       "    <table border=\"1\" class=\"dataframe\">\n",
       "  <thead>\n",
       " <tr style=\"text-align: left;\">\n",
       "      <th>Epoch</th>\n",
       "      <th>Training Loss</th>\n",
       "      <th>Validation Loss</th>\n",
       "      <th>Accuracy</th>\n",
       "      <th>Precision</th>\n",
       "      <th>Recall</th>\n",
       "      <th>F1</th>\n",
       "    </tr>\n",
       "  </thead>\n",
       "  <tbody>\n",
       "    <tr>\n",
       "      <td>1</td>\n",
       "      <td>0.466600</td>\n",
       "      <td>0.172004</td>\n",
       "      <td>0.942200</td>\n",
       "      <td>0.944974</td>\n",
       "      <td>0.942428</td>\n",
       "      <td>0.942612</td>\n",
       "    </tr>\n",
       "    <tr>\n",
       "      <td>2</td>\n",
       "      <td>0.091800</td>\n",
       "      <td>0.123715</td>\n",
       "      <td>0.959400</td>\n",
       "      <td>0.959770</td>\n",
       "      <td>0.959560</td>\n",
       "      <td>0.959529</td>\n",
       "    </tr>\n",
       "    <tr>\n",
       "      <td>3</td>\n",
       "      <td>0.045800</td>\n",
       "      <td>0.114339</td>\n",
       "      <td>0.967000</td>\n",
       "      <td>0.967412</td>\n",
       "      <td>0.967211</td>\n",
       "      <td>0.967137</td>\n",
       "    </tr>\n",
       "    <tr>\n",
       "      <td>4</td>\n",
       "      <td>0.019800</td>\n",
       "      <td>0.130145</td>\n",
       "      <td>0.966000</td>\n",
       "      <td>0.966401</td>\n",
       "      <td>0.966112</td>\n",
       "      <td>0.966088</td>\n",
       "    </tr>\n",
       "  </tbody>\n",
       "</table><p>"
      ],
      "text/plain": [
       "<IPython.core.display.HTML object>"
      ]
     },
     "metadata": {},
     "output_type": "display_data"
    },
    {
     "name": "stderr",
     "output_type": "stream",
     "text": [
      "[I 2025-03-29 23:10:54,268] Trial 59 pruned. \n"
     ]
    },
    {
     "name": "stdout",
     "output_type": "stream",
     "text": [
      "Trial 60 with params: {'learning_rate': 0.0011700191952905836, 'weight_decay': 0.003, 'warmup_steps': 32}\n"
     ]
    },
    {
     "name": "stderr",
     "output_type": "stream",
     "text": [
      "Some weights of TimmWrapperForImageClassification were not initialized from the model checkpoint at timm/tiny_vit_5m_224.in1k and are newly initialized because the shapes did not match:\n",
      "- head.fc.bias: found shape torch.Size([1000]) in the checkpoint and torch.Size([10]) in the model instantiated\n",
      "- head.fc.weight: found shape torch.Size([1000, 320]) in the checkpoint and torch.Size([10, 320]) in the model instantiated\n",
      "You should probably TRAIN this model on a down-stream task to be able to use it for predictions and inference.\n"
     ]
    },
    {
     "data": {
      "text/html": [
       "\n",
       "    <div>\n",
       "      \n",
       "      <progress value='1252' max='2191' style='width:300px; height:20px; vertical-align: middle;'></progress>\n",
       "      [1252/2191 05:30 < 04:07, 3.79 it/s, Epoch 4/7]\n",
       "    </div>\n",
       "    <table border=\"1\" class=\"dataframe\">\n",
       "  <thead>\n",
       " <tr style=\"text-align: left;\">\n",
       "      <th>Epoch</th>\n",
       "      <th>Training Loss</th>\n",
       "      <th>Validation Loss</th>\n",
       "      <th>Accuracy</th>\n",
       "      <th>Precision</th>\n",
       "      <th>Recall</th>\n",
       "      <th>F1</th>\n",
       "    </tr>\n",
       "  </thead>\n",
       "  <tbody>\n",
       "    <tr>\n",
       "      <td>1</td>\n",
       "      <td>0.784400</td>\n",
       "      <td>0.606262</td>\n",
       "      <td>0.797800</td>\n",
       "      <td>0.814055</td>\n",
       "      <td>0.798145</td>\n",
       "      <td>0.798925</td>\n",
       "    </tr>\n",
       "    <tr>\n",
       "      <td>2</td>\n",
       "      <td>0.427800</td>\n",
       "      <td>0.394319</td>\n",
       "      <td>0.868600</td>\n",
       "      <td>0.875057</td>\n",
       "      <td>0.868988</td>\n",
       "      <td>0.868295</td>\n",
       "    </tr>\n",
       "    <tr>\n",
       "      <td>3</td>\n",
       "      <td>0.283200</td>\n",
       "      <td>0.370960</td>\n",
       "      <td>0.878300</td>\n",
       "      <td>0.883766</td>\n",
       "      <td>0.878477</td>\n",
       "      <td>0.877122</td>\n",
       "    </tr>\n",
       "    <tr>\n",
       "      <td>4</td>\n",
       "      <td>0.183800</td>\n",
       "      <td>0.248200</td>\n",
       "      <td>0.919800</td>\n",
       "      <td>0.922083</td>\n",
       "      <td>0.919851</td>\n",
       "      <td>0.920471</td>\n",
       "    </tr>\n",
       "  </tbody>\n",
       "</table><p>"
      ],
      "text/plain": [
       "<IPython.core.display.HTML object>"
      ]
     },
     "metadata": {},
     "output_type": "display_data"
    },
    {
     "name": "stderr",
     "output_type": "stream",
     "text": [
      "[I 2025-03-29 23:16:26,335] Trial 60 pruned. \n"
     ]
    },
    {
     "name": "stdout",
     "output_type": "stream",
     "text": [
      "Trial 61 with params: {'learning_rate': 0.00015444204635882978, 'weight_decay': 0.005, 'warmup_steps': 30}\n"
     ]
    },
    {
     "name": "stderr",
     "output_type": "stream",
     "text": [
      "Some weights of TimmWrapperForImageClassification were not initialized from the model checkpoint at timm/tiny_vit_5m_224.in1k and are newly initialized because the shapes did not match:\n",
      "- head.fc.bias: found shape torch.Size([1000]) in the checkpoint and torch.Size([10]) in the model instantiated\n",
      "- head.fc.weight: found shape torch.Size([1000, 320]) in the checkpoint and torch.Size([10, 320]) in the model instantiated\n",
      "You should probably TRAIN this model on a down-stream task to be able to use it for predictions and inference.\n"
     ]
    },
    {
     "data": {
      "text/html": [
       "\n",
       "    <div>\n",
       "      \n",
       "      <progress value='2191' max='2191' style='width:300px; height:20px; vertical-align: middle;'></progress>\n",
       "      [2191/2191 09:54, Epoch 7/7]\n",
       "    </div>\n",
       "    <table border=\"1\" class=\"dataframe\">\n",
       "  <thead>\n",
       " <tr style=\"text-align: left;\">\n",
       "      <th>Epoch</th>\n",
       "      <th>Training Loss</th>\n",
       "      <th>Validation Loss</th>\n",
       "      <th>Accuracy</th>\n",
       "      <th>Precision</th>\n",
       "      <th>Recall</th>\n",
       "      <th>F1</th>\n",
       "    </tr>\n",
       "  </thead>\n",
       "  <tbody>\n",
       "    <tr>\n",
       "      <td>1</td>\n",
       "      <td>0.457800</td>\n",
       "      <td>0.185739</td>\n",
       "      <td>0.938200</td>\n",
       "      <td>0.940062</td>\n",
       "      <td>0.938438</td>\n",
       "      <td>0.938308</td>\n",
       "    </tr>\n",
       "    <tr>\n",
       "      <td>2</td>\n",
       "      <td>0.103800</td>\n",
       "      <td>0.137587</td>\n",
       "      <td>0.955300</td>\n",
       "      <td>0.955526</td>\n",
       "      <td>0.955515</td>\n",
       "      <td>0.955384</td>\n",
       "    </tr>\n",
       "    <tr>\n",
       "      <td>3</td>\n",
       "      <td>0.052500</td>\n",
       "      <td>0.131201</td>\n",
       "      <td>0.961600</td>\n",
       "      <td>0.961605</td>\n",
       "      <td>0.961799</td>\n",
       "      <td>0.961626</td>\n",
       "    </tr>\n",
       "    <tr>\n",
       "      <td>4</td>\n",
       "      <td>0.024800</td>\n",
       "      <td>0.119548</td>\n",
       "      <td>0.967700</td>\n",
       "      <td>0.967785</td>\n",
       "      <td>0.967862</td>\n",
       "      <td>0.967810</td>\n",
       "    </tr>\n",
       "    <tr>\n",
       "      <td>5</td>\n",
       "      <td>0.010400</td>\n",
       "      <td>0.122705</td>\n",
       "      <td>0.969200</td>\n",
       "      <td>0.969304</td>\n",
       "      <td>0.969377</td>\n",
       "      <td>0.969314</td>\n",
       "    </tr>\n",
       "    <tr>\n",
       "      <td>6</td>\n",
       "      <td>0.002500</td>\n",
       "      <td>0.121753</td>\n",
       "      <td>0.973200</td>\n",
       "      <td>0.973276</td>\n",
       "      <td>0.973361</td>\n",
       "      <td>0.973302</td>\n",
       "    </tr>\n",
       "    <tr>\n",
       "      <td>7</td>\n",
       "      <td>0.000700</td>\n",
       "      <td>0.120950</td>\n",
       "      <td>0.971900</td>\n",
       "      <td>0.971907</td>\n",
       "      <td>0.972101</td>\n",
       "      <td>0.971982</td>\n",
       "    </tr>\n",
       "  </tbody>\n",
       "</table><p>"
      ],
      "text/plain": [
       "<IPython.core.display.HTML object>"
      ]
     },
     "metadata": {},
     "output_type": "display_data"
    },
    {
     "name": "stderr",
     "output_type": "stream",
     "text": [
      "[I 2025-03-29 23:26:23,149] Trial 61 finished with value: 0.9719819824160216 and parameters: {'learning_rate': 0.00015444204635882978, 'weight_decay': 0.005, 'warmup_steps': 30}. Best is trial 57 with value: 0.9739767587933696.\n"
     ]
    },
    {
     "name": "stdout",
     "output_type": "stream",
     "text": [
      "Trial 62 with params: {'learning_rate': 0.00012570938701673154, 'weight_decay': 0.007, 'warmup_steps': 23}\n"
     ]
    },
    {
     "name": "stderr",
     "output_type": "stream",
     "text": [
      "Some weights of TimmWrapperForImageClassification were not initialized from the model checkpoint at timm/tiny_vit_5m_224.in1k and are newly initialized because the shapes did not match:\n",
      "- head.fc.bias: found shape torch.Size([1000]) in the checkpoint and torch.Size([10]) in the model instantiated\n",
      "- head.fc.weight: found shape torch.Size([1000, 320]) in the checkpoint and torch.Size([10, 320]) in the model instantiated\n",
      "You should probably TRAIN this model on a down-stream task to be able to use it for predictions and inference.\n"
     ]
    },
    {
     "data": {
      "text/html": [
       "\n",
       "    <div>\n",
       "      \n",
       "      <progress value='2191' max='2191' style='width:300px; height:20px; vertical-align: middle;'></progress>\n",
       "      [2191/2191 10:10, Epoch 7/7]\n",
       "    </div>\n",
       "    <table border=\"1\" class=\"dataframe\">\n",
       "  <thead>\n",
       " <tr style=\"text-align: left;\">\n",
       "      <th>Epoch</th>\n",
       "      <th>Training Loss</th>\n",
       "      <th>Validation Loss</th>\n",
       "      <th>Accuracy</th>\n",
       "      <th>Precision</th>\n",
       "      <th>Recall</th>\n",
       "      <th>F1</th>\n",
       "    </tr>\n",
       "  </thead>\n",
       "  <tbody>\n",
       "    <tr>\n",
       "      <td>1</td>\n",
       "      <td>0.450200</td>\n",
       "      <td>0.174311</td>\n",
       "      <td>0.942300</td>\n",
       "      <td>0.946110</td>\n",
       "      <td>0.942293</td>\n",
       "      <td>0.942867</td>\n",
       "    </tr>\n",
       "    <tr>\n",
       "      <td>2</td>\n",
       "      <td>0.091400</td>\n",
       "      <td>0.152564</td>\n",
       "      <td>0.951200</td>\n",
       "      <td>0.953606</td>\n",
       "      <td>0.951410</td>\n",
       "      <td>0.951516</td>\n",
       "    </tr>\n",
       "    <tr>\n",
       "      <td>3</td>\n",
       "      <td>0.042400</td>\n",
       "      <td>0.127247</td>\n",
       "      <td>0.962900</td>\n",
       "      <td>0.963182</td>\n",
       "      <td>0.963154</td>\n",
       "      <td>0.963019</td>\n",
       "    </tr>\n",
       "    <tr>\n",
       "      <td>4</td>\n",
       "      <td>0.018200</td>\n",
       "      <td>0.119976</td>\n",
       "      <td>0.967900</td>\n",
       "      <td>0.968110</td>\n",
       "      <td>0.968050</td>\n",
       "      <td>0.968056</td>\n",
       "    </tr>\n",
       "    <tr>\n",
       "      <td>5</td>\n",
       "      <td>0.007200</td>\n",
       "      <td>0.125787</td>\n",
       "      <td>0.970700</td>\n",
       "      <td>0.970815</td>\n",
       "      <td>0.970829</td>\n",
       "      <td>0.970797</td>\n",
       "    </tr>\n",
       "    <tr>\n",
       "      <td>6</td>\n",
       "      <td>0.001900</td>\n",
       "      <td>0.123235</td>\n",
       "      <td>0.973300</td>\n",
       "      <td>0.973433</td>\n",
       "      <td>0.973430</td>\n",
       "      <td>0.973416</td>\n",
       "    </tr>\n",
       "    <tr>\n",
       "      <td>7</td>\n",
       "      <td>0.000500</td>\n",
       "      <td>0.122741</td>\n",
       "      <td>0.973200</td>\n",
       "      <td>0.973319</td>\n",
       "      <td>0.973316</td>\n",
       "      <td>0.973314</td>\n",
       "    </tr>\n",
       "  </tbody>\n",
       "</table><p>"
      ],
      "text/plain": [
       "<IPython.core.display.HTML object>"
      ]
     },
     "metadata": {},
     "output_type": "display_data"
    },
    {
     "name": "stderr",
     "output_type": "stream",
     "text": [
      "[I 2025-03-29 23:36:36,046] Trial 62 finished with value: 0.9733137782981413 and parameters: {'learning_rate': 0.00012570938701673154, 'weight_decay': 0.007, 'warmup_steps': 23}. Best is trial 57 with value: 0.9739767587933696.\n"
     ]
    },
    {
     "name": "stdout",
     "output_type": "stream",
     "text": [
      "Trial 63 with params: {'learning_rate': 8.738951618852924e-05, 'weight_decay': 0.007, 'warmup_steps': 22}\n"
     ]
    },
    {
     "name": "stderr",
     "output_type": "stream",
     "text": [
      "Some weights of TimmWrapperForImageClassification were not initialized from the model checkpoint at timm/tiny_vit_5m_224.in1k and are newly initialized because the shapes did not match:\n",
      "- head.fc.bias: found shape torch.Size([1000]) in the checkpoint and torch.Size([10]) in the model instantiated\n",
      "- head.fc.weight: found shape torch.Size([1000, 320]) in the checkpoint and torch.Size([10, 320]) in the model instantiated\n",
      "You should probably TRAIN this model on a down-stream task to be able to use it for predictions and inference.\n"
     ]
    },
    {
     "data": {
      "text/html": [
       "\n",
       "    <div>\n",
       "      \n",
       "      <progress value='1252' max='2191' style='width:300px; height:20px; vertical-align: middle;'></progress>\n",
       "      [1252/2191 05:43 < 04:18, 3.64 it/s, Epoch 4/7]\n",
       "    </div>\n",
       "    <table border=\"1\" class=\"dataframe\">\n",
       "  <thead>\n",
       " <tr style=\"text-align: left;\">\n",
       "      <th>Epoch</th>\n",
       "      <th>Training Loss</th>\n",
       "      <th>Validation Loss</th>\n",
       "      <th>Accuracy</th>\n",
       "      <th>Precision</th>\n",
       "      <th>Recall</th>\n",
       "      <th>F1</th>\n",
       "    </tr>\n",
       "  </thead>\n",
       "  <tbody>\n",
       "    <tr>\n",
       "      <td>1</td>\n",
       "      <td>0.490100</td>\n",
       "      <td>0.158500</td>\n",
       "      <td>0.946900</td>\n",
       "      <td>0.949671</td>\n",
       "      <td>0.947015</td>\n",
       "      <td>0.947436</td>\n",
       "    </tr>\n",
       "    <tr>\n",
       "      <td>2</td>\n",
       "      <td>0.091900</td>\n",
       "      <td>0.134571</td>\n",
       "      <td>0.955400</td>\n",
       "      <td>0.956417</td>\n",
       "      <td>0.955640</td>\n",
       "      <td>0.955632</td>\n",
       "    </tr>\n",
       "    <tr>\n",
       "      <td>3</td>\n",
       "      <td>0.040600</td>\n",
       "      <td>0.126198</td>\n",
       "      <td>0.962800</td>\n",
       "      <td>0.963202</td>\n",
       "      <td>0.962866</td>\n",
       "      <td>0.962961</td>\n",
       "    </tr>\n",
       "    <tr>\n",
       "      <td>4</td>\n",
       "      <td>0.016100</td>\n",
       "      <td>0.131945</td>\n",
       "      <td>0.965500</td>\n",
       "      <td>0.965770</td>\n",
       "      <td>0.965672</td>\n",
       "      <td>0.965625</td>\n",
       "    </tr>\n",
       "  </tbody>\n",
       "</table><p>"
      ],
      "text/plain": [
       "<IPython.core.display.HTML object>"
      ]
     },
     "metadata": {},
     "output_type": "display_data"
    },
    {
     "name": "stderr",
     "output_type": "stream",
     "text": [
      "[I 2025-03-29 23:42:21,340] Trial 63 pruned. \n"
     ]
    },
    {
     "name": "stdout",
     "output_type": "stream",
     "text": [
      "Trial 64 with params: {'learning_rate': 0.0014740970021661379, 'weight_decay': 0.005, 'warmup_steps': 13}\n"
     ]
    },
    {
     "name": "stderr",
     "output_type": "stream",
     "text": [
      "Some weights of TimmWrapperForImageClassification were not initialized from the model checkpoint at timm/tiny_vit_5m_224.in1k and are newly initialized because the shapes did not match:\n",
      "- head.fc.bias: found shape torch.Size([1000]) in the checkpoint and torch.Size([10]) in the model instantiated\n",
      "- head.fc.weight: found shape torch.Size([1000, 320]) in the checkpoint and torch.Size([10, 320]) in the model instantiated\n",
      "You should probably TRAIN this model on a down-stream task to be able to use it for predictions and inference.\n"
     ]
    },
    {
     "data": {
      "text/html": [
       "\n",
       "    <div>\n",
       "      \n",
       "      <progress value='1252' max='2191' style='width:300px; height:20px; vertical-align: middle;'></progress>\n",
       "      [1252/2191 05:32 < 04:09, 3.76 it/s, Epoch 4/7]\n",
       "    </div>\n",
       "    <table border=\"1\" class=\"dataframe\">\n",
       "  <thead>\n",
       " <tr style=\"text-align: left;\">\n",
       "      <th>Epoch</th>\n",
       "      <th>Training Loss</th>\n",
       "      <th>Validation Loss</th>\n",
       "      <th>Accuracy</th>\n",
       "      <th>Precision</th>\n",
       "      <th>Recall</th>\n",
       "      <th>F1</th>\n",
       "    </tr>\n",
       "  </thead>\n",
       "  <tbody>\n",
       "    <tr>\n",
       "      <td>1</td>\n",
       "      <td>0.853800</td>\n",
       "      <td>0.722874</td>\n",
       "      <td>0.760600</td>\n",
       "      <td>0.775777</td>\n",
       "      <td>0.761405</td>\n",
       "      <td>0.757537</td>\n",
       "    </tr>\n",
       "    <tr>\n",
       "      <td>2</td>\n",
       "      <td>0.514200</td>\n",
       "      <td>0.415468</td>\n",
       "      <td>0.856600</td>\n",
       "      <td>0.867940</td>\n",
       "      <td>0.856551</td>\n",
       "      <td>0.858756</td>\n",
       "    </tr>\n",
       "    <tr>\n",
       "      <td>3</td>\n",
       "      <td>0.346100</td>\n",
       "      <td>0.413751</td>\n",
       "      <td>0.858100</td>\n",
       "      <td>0.870598</td>\n",
       "      <td>0.858578</td>\n",
       "      <td>0.857625</td>\n",
       "    </tr>\n",
       "    <tr>\n",
       "      <td>4</td>\n",
       "      <td>0.233900</td>\n",
       "      <td>0.270610</td>\n",
       "      <td>0.908900</td>\n",
       "      <td>0.915556</td>\n",
       "      <td>0.908956</td>\n",
       "      <td>0.910306</td>\n",
       "    </tr>\n",
       "  </tbody>\n",
       "</table><p>"
      ],
      "text/plain": [
       "<IPython.core.display.HTML object>"
      ]
     },
     "metadata": {},
     "output_type": "display_data"
    },
    {
     "name": "stderr",
     "output_type": "stream",
     "text": [
      "[I 2025-03-29 23:47:55,783] Trial 64 pruned. \n"
     ]
    },
    {
     "name": "stdout",
     "output_type": "stream",
     "text": [
      "Trial 65 with params: {'learning_rate': 0.0003061126129336506, 'weight_decay': 0.004, 'warmup_steps': 10}\n"
     ]
    },
    {
     "name": "stderr",
     "output_type": "stream",
     "text": [
      "Some weights of TimmWrapperForImageClassification were not initialized from the model checkpoint at timm/tiny_vit_5m_224.in1k and are newly initialized because the shapes did not match:\n",
      "- head.fc.bias: found shape torch.Size([1000]) in the checkpoint and torch.Size([10]) in the model instantiated\n",
      "- head.fc.weight: found shape torch.Size([1000, 320]) in the checkpoint and torch.Size([10, 320]) in the model instantiated\n",
      "You should probably TRAIN this model on a down-stream task to be able to use it for predictions and inference.\n"
     ]
    },
    {
     "data": {
      "text/html": [
       "\n",
       "    <div>\n",
       "      \n",
       "      <progress value='626' max='2191' style='width:300px; height:20px; vertical-align: middle;'></progress>\n",
       "      [ 626/2191 02:45 < 06:54, 3.77 it/s, Epoch 2/7]\n",
       "    </div>\n",
       "    <table border=\"1\" class=\"dataframe\">\n",
       "  <thead>\n",
       " <tr style=\"text-align: left;\">\n",
       "      <th>Epoch</th>\n",
       "      <th>Training Loss</th>\n",
       "      <th>Validation Loss</th>\n",
       "      <th>Accuracy</th>\n",
       "      <th>Precision</th>\n",
       "      <th>Recall</th>\n",
       "      <th>F1</th>\n",
       "    </tr>\n",
       "  </thead>\n",
       "  <tbody>\n",
       "    <tr>\n",
       "      <td>1</td>\n",
       "      <td>0.407700</td>\n",
       "      <td>0.237446</td>\n",
       "      <td>0.923000</td>\n",
       "      <td>0.927004</td>\n",
       "      <td>0.923444</td>\n",
       "      <td>0.923557</td>\n",
       "    </tr>\n",
       "    <tr>\n",
       "      <td>2</td>\n",
       "      <td>0.139000</td>\n",
       "      <td>0.192619</td>\n",
       "      <td>0.942300</td>\n",
       "      <td>0.946188</td>\n",
       "      <td>0.942542</td>\n",
       "      <td>0.942608</td>\n",
       "    </tr>\n",
       "  </tbody>\n",
       "</table><p>"
      ],
      "text/plain": [
       "<IPython.core.display.HTML object>"
      ]
     },
     "metadata": {},
     "output_type": "display_data"
    },
    {
     "name": "stderr",
     "output_type": "stream",
     "text": [
      "[I 2025-03-29 23:50:43,302] Trial 65 pruned. \n"
     ]
    },
    {
     "name": "stdout",
     "output_type": "stream",
     "text": [
      "Trial 66 with params: {'learning_rate': 0.00019251840253040213, 'weight_decay': 0.007, 'warmup_steps': 15}\n"
     ]
    },
    {
     "name": "stderr",
     "output_type": "stream",
     "text": [
      "Some weights of TimmWrapperForImageClassification were not initialized from the model checkpoint at timm/tiny_vit_5m_224.in1k and are newly initialized because the shapes did not match:\n",
      "- head.fc.bias: found shape torch.Size([1000]) in the checkpoint and torch.Size([10]) in the model instantiated\n",
      "- head.fc.weight: found shape torch.Size([1000, 320]) in the checkpoint and torch.Size([10, 320]) in the model instantiated\n",
      "You should probably TRAIN this model on a down-stream task to be able to use it for predictions and inference.\n"
     ]
    },
    {
     "data": {
      "text/html": [
       "\n",
       "    <div>\n",
       "      \n",
       "      <progress value='1252' max='2191' style='width:300px; height:20px; vertical-align: middle;'></progress>\n",
       "      [1252/2191 06:02 < 04:32, 3.45 it/s, Epoch 4/7]\n",
       "    </div>\n",
       "    <table border=\"1\" class=\"dataframe\">\n",
       "  <thead>\n",
       " <tr style=\"text-align: left;\">\n",
       "      <th>Epoch</th>\n",
       "      <th>Training Loss</th>\n",
       "      <th>Validation Loss</th>\n",
       "      <th>Accuracy</th>\n",
       "      <th>Precision</th>\n",
       "      <th>Recall</th>\n",
       "      <th>F1</th>\n",
       "    </tr>\n",
       "  </thead>\n",
       "  <tbody>\n",
       "    <tr>\n",
       "      <td>1</td>\n",
       "      <td>0.414500</td>\n",
       "      <td>0.211831</td>\n",
       "      <td>0.930600</td>\n",
       "      <td>0.935297</td>\n",
       "      <td>0.930927</td>\n",
       "      <td>0.931150</td>\n",
       "    </tr>\n",
       "    <tr>\n",
       "      <td>2</td>\n",
       "      <td>0.106600</td>\n",
       "      <td>0.149509</td>\n",
       "      <td>0.950400</td>\n",
       "      <td>0.951337</td>\n",
       "      <td>0.950650</td>\n",
       "      <td>0.950608</td>\n",
       "    </tr>\n",
       "    <tr>\n",
       "      <td>3</td>\n",
       "      <td>0.053400</td>\n",
       "      <td>0.133214</td>\n",
       "      <td>0.960500</td>\n",
       "      <td>0.961084</td>\n",
       "      <td>0.960595</td>\n",
       "      <td>0.960703</td>\n",
       "    </tr>\n",
       "    <tr>\n",
       "      <td>4</td>\n",
       "      <td>0.026800</td>\n",
       "      <td>0.143382</td>\n",
       "      <td>0.962000</td>\n",
       "      <td>0.962287</td>\n",
       "      <td>0.962153</td>\n",
       "      <td>0.962158</td>\n",
       "    </tr>\n",
       "  </tbody>\n",
       "</table><p>"
      ],
      "text/plain": [
       "<IPython.core.display.HTML object>"
      ]
     },
     "metadata": {},
     "output_type": "display_data"
    },
    {
     "name": "stderr",
     "output_type": "stream",
     "text": [
      "[I 2025-03-29 23:56:48,051] Trial 66 pruned. \n"
     ]
    },
    {
     "name": "stdout",
     "output_type": "stream",
     "text": [
      "Trial 67 with params: {'learning_rate': 9.777098843358782e-05, 'weight_decay': 0.007, 'warmup_steps': 24}\n"
     ]
    },
    {
     "name": "stderr",
     "output_type": "stream",
     "text": [
      "Some weights of TimmWrapperForImageClassification were not initialized from the model checkpoint at timm/tiny_vit_5m_224.in1k and are newly initialized because the shapes did not match:\n",
      "- head.fc.bias: found shape torch.Size([1000]) in the checkpoint and torch.Size([10]) in the model instantiated\n",
      "- head.fc.weight: found shape torch.Size([1000, 320]) in the checkpoint and torch.Size([10, 320]) in the model instantiated\n",
      "You should probably TRAIN this model on a down-stream task to be able to use it for predictions and inference.\n"
     ]
    },
    {
     "data": {
      "text/html": [
       "\n",
       "    <div>\n",
       "      \n",
       "      <progress value='2191' max='2191' style='width:300px; height:20px; vertical-align: middle;'></progress>\n",
       "      [2191/2191 09:46, Epoch 7/7]\n",
       "    </div>\n",
       "    <table border=\"1\" class=\"dataframe\">\n",
       "  <thead>\n",
       " <tr style=\"text-align: left;\">\n",
       "      <th>Epoch</th>\n",
       "      <th>Training Loss</th>\n",
       "      <th>Validation Loss</th>\n",
       "      <th>Accuracy</th>\n",
       "      <th>Precision</th>\n",
       "      <th>Recall</th>\n",
       "      <th>F1</th>\n",
       "    </tr>\n",
       "  </thead>\n",
       "  <tbody>\n",
       "    <tr>\n",
       "      <td>1</td>\n",
       "      <td>0.484000</td>\n",
       "      <td>0.180630</td>\n",
       "      <td>0.939300</td>\n",
       "      <td>0.942906</td>\n",
       "      <td>0.939729</td>\n",
       "      <td>0.939600</td>\n",
       "    </tr>\n",
       "    <tr>\n",
       "      <td>2</td>\n",
       "      <td>0.088700</td>\n",
       "      <td>0.113693</td>\n",
       "      <td>0.961600</td>\n",
       "      <td>0.961775</td>\n",
       "      <td>0.961758</td>\n",
       "      <td>0.961648</td>\n",
       "    </tr>\n",
       "    <tr>\n",
       "      <td>3</td>\n",
       "      <td>0.038800</td>\n",
       "      <td>0.115217</td>\n",
       "      <td>0.965700</td>\n",
       "      <td>0.965841</td>\n",
       "      <td>0.965846</td>\n",
       "      <td>0.965788</td>\n",
       "    </tr>\n",
       "    <tr>\n",
       "      <td>4</td>\n",
       "      <td>0.016900</td>\n",
       "      <td>0.122903</td>\n",
       "      <td>0.969800</td>\n",
       "      <td>0.970278</td>\n",
       "      <td>0.969851</td>\n",
       "      <td>0.969986</td>\n",
       "    </tr>\n",
       "    <tr>\n",
       "      <td>5</td>\n",
       "      <td>0.005200</td>\n",
       "      <td>0.123374</td>\n",
       "      <td>0.971900</td>\n",
       "      <td>0.972085</td>\n",
       "      <td>0.972034</td>\n",
       "      <td>0.972037</td>\n",
       "    </tr>\n",
       "    <tr>\n",
       "      <td>6</td>\n",
       "      <td>0.001800</td>\n",
       "      <td>0.125322</td>\n",
       "      <td>0.973900</td>\n",
       "      <td>0.974106</td>\n",
       "      <td>0.974027</td>\n",
       "      <td>0.974044</td>\n",
       "    </tr>\n",
       "    <tr>\n",
       "      <td>7</td>\n",
       "      <td>0.000600</td>\n",
       "      <td>0.125152</td>\n",
       "      <td>0.974500</td>\n",
       "      <td>0.974653</td>\n",
       "      <td>0.974612</td>\n",
       "      <td>0.974629</td>\n",
       "    </tr>\n",
       "  </tbody>\n",
       "</table><p>"
      ],
      "text/plain": [
       "<IPython.core.display.HTML object>"
      ]
     },
     "metadata": {},
     "output_type": "display_data"
    },
    {
     "name": "stderr",
     "output_type": "stream",
     "text": [
      "[I 2025-03-30 00:06:37,997] Trial 67 finished with value: 0.9746290627725797 and parameters: {'learning_rate': 9.777098843358782e-05, 'weight_decay': 0.007, 'warmup_steps': 24}. Best is trial 67 with value: 0.9746290627725797.\n"
     ]
    },
    {
     "name": "stdout",
     "output_type": "stream",
     "text": [
      "Trial 68 with params: {'learning_rate': 0.00011106805870942286, 'weight_decay': 0.006, 'warmup_steps': 23}\n"
     ]
    },
    {
     "name": "stderr",
     "output_type": "stream",
     "text": [
      "Some weights of TimmWrapperForImageClassification were not initialized from the model checkpoint at timm/tiny_vit_5m_224.in1k and are newly initialized because the shapes did not match:\n",
      "- head.fc.bias: found shape torch.Size([1000]) in the checkpoint and torch.Size([10]) in the model instantiated\n",
      "- head.fc.weight: found shape torch.Size([1000, 320]) in the checkpoint and torch.Size([10, 320]) in the model instantiated\n",
      "You should probably TRAIN this model on a down-stream task to be able to use it for predictions and inference.\n"
     ]
    },
    {
     "data": {
      "text/html": [
       "\n",
       "    <div>\n",
       "      \n",
       "      <progress value='626' max='2191' style='width:300px; height:20px; vertical-align: middle;'></progress>\n",
       "      [ 626/2191 02:44 < 06:52, 3.79 it/s, Epoch 2/7]\n",
       "    </div>\n",
       "    <table border=\"1\" class=\"dataframe\">\n",
       "  <thead>\n",
       " <tr style=\"text-align: left;\">\n",
       "      <th>Epoch</th>\n",
       "      <th>Training Loss</th>\n",
       "      <th>Validation Loss</th>\n",
       "      <th>Accuracy</th>\n",
       "      <th>Precision</th>\n",
       "      <th>Recall</th>\n",
       "      <th>F1</th>\n",
       "    </tr>\n",
       "  </thead>\n",
       "  <tbody>\n",
       "    <tr>\n",
       "      <td>1</td>\n",
       "      <td>0.462400</td>\n",
       "      <td>0.169977</td>\n",
       "      <td>0.944700</td>\n",
       "      <td>0.946935</td>\n",
       "      <td>0.944822</td>\n",
       "      <td>0.945205</td>\n",
       "    </tr>\n",
       "    <tr>\n",
       "      <td>2</td>\n",
       "      <td>0.095900</td>\n",
       "      <td>0.143071</td>\n",
       "      <td>0.952600</td>\n",
       "      <td>0.954060</td>\n",
       "      <td>0.952775</td>\n",
       "      <td>0.952890</td>\n",
       "    </tr>\n",
       "  </tbody>\n",
       "</table><p>"
      ],
      "text/plain": [
       "<IPython.core.display.HTML object>"
      ]
     },
     "metadata": {},
     "output_type": "display_data"
    },
    {
     "name": "stderr",
     "output_type": "stream",
     "text": [
      "[I 2025-03-30 00:09:24,500] Trial 68 pruned. \n"
     ]
    },
    {
     "name": "stdout",
     "output_type": "stream",
     "text": [
      "Trial 69 with params: {'learning_rate': 0.00026379078208589916, 'weight_decay': 0.007, 'warmup_steps': 24}\n"
     ]
    },
    {
     "name": "stderr",
     "output_type": "stream",
     "text": [
      "Some weights of TimmWrapperForImageClassification were not initialized from the model checkpoint at timm/tiny_vit_5m_224.in1k and are newly initialized because the shapes did not match:\n",
      "- head.fc.bias: found shape torch.Size([1000]) in the checkpoint and torch.Size([10]) in the model instantiated\n",
      "- head.fc.weight: found shape torch.Size([1000, 320]) in the checkpoint and torch.Size([10, 320]) in the model instantiated\n",
      "You should probably TRAIN this model on a down-stream task to be able to use it for predictions and inference.\n"
     ]
    },
    {
     "data": {
      "text/html": [
       "\n",
       "    <div>\n",
       "      \n",
       "      <progress value='1252' max='2191' style='width:300px; height:20px; vertical-align: middle;'></progress>\n",
       "      [1252/2191 05:32 < 04:10, 3.75 it/s, Epoch 4/7]\n",
       "    </div>\n",
       "    <table border=\"1\" class=\"dataframe\">\n",
       "  <thead>\n",
       " <tr style=\"text-align: left;\">\n",
       "      <th>Epoch</th>\n",
       "      <th>Training Loss</th>\n",
       "      <th>Validation Loss</th>\n",
       "      <th>Accuracy</th>\n",
       "      <th>Precision</th>\n",
       "      <th>Recall</th>\n",
       "      <th>F1</th>\n",
       "    </tr>\n",
       "  </thead>\n",
       "  <tbody>\n",
       "    <tr>\n",
       "      <td>1</td>\n",
       "      <td>0.444100</td>\n",
       "      <td>0.222593</td>\n",
       "      <td>0.926500</td>\n",
       "      <td>0.928663</td>\n",
       "      <td>0.927032</td>\n",
       "      <td>0.926341</td>\n",
       "    </tr>\n",
       "    <tr>\n",
       "      <td>2</td>\n",
       "      <td>0.133400</td>\n",
       "      <td>0.159377</td>\n",
       "      <td>0.948100</td>\n",
       "      <td>0.948861</td>\n",
       "      <td>0.948333</td>\n",
       "      <td>0.948255</td>\n",
       "    </tr>\n",
       "    <tr>\n",
       "      <td>3</td>\n",
       "      <td>0.073600</td>\n",
       "      <td>0.130405</td>\n",
       "      <td>0.959400</td>\n",
       "      <td>0.959929</td>\n",
       "      <td>0.959591</td>\n",
       "      <td>0.959609</td>\n",
       "    </tr>\n",
       "    <tr>\n",
       "      <td>4</td>\n",
       "      <td>0.038500</td>\n",
       "      <td>0.128816</td>\n",
       "      <td>0.963500</td>\n",
       "      <td>0.963646</td>\n",
       "      <td>0.963622</td>\n",
       "      <td>0.963592</td>\n",
       "    </tr>\n",
       "  </tbody>\n",
       "</table><p>"
      ],
      "text/plain": [
       "<IPython.core.display.HTML object>"
      ]
     },
     "metadata": {},
     "output_type": "display_data"
    },
    {
     "name": "stderr",
     "output_type": "stream",
     "text": [
      "[I 2025-03-30 00:14:59,569] Trial 69 pruned. \n"
     ]
    },
    {
     "name": "stdout",
     "output_type": "stream",
     "text": [
      "Trial 70 with params: {'learning_rate': 5.1939313310282055e-05, 'weight_decay': 0.008, 'warmup_steps': 25}\n"
     ]
    },
    {
     "name": "stderr",
     "output_type": "stream",
     "text": [
      "Some weights of TimmWrapperForImageClassification were not initialized from the model checkpoint at timm/tiny_vit_5m_224.in1k and are newly initialized because the shapes did not match:\n",
      "- head.fc.bias: found shape torch.Size([1000]) in the checkpoint and torch.Size([10]) in the model instantiated\n",
      "- head.fc.weight: found shape torch.Size([1000, 320]) in the checkpoint and torch.Size([10, 320]) in the model instantiated\n",
      "You should probably TRAIN this model on a down-stream task to be able to use it for predictions and inference.\n"
     ]
    },
    {
     "data": {
      "text/html": [
       "\n",
       "    <div>\n",
       "      \n",
       "      <progress value='2191' max='2191' style='width:300px; height:20px; vertical-align: middle;'></progress>\n",
       "      [2191/2191 09:40, Epoch 7/7]\n",
       "    </div>\n",
       "    <table border=\"1\" class=\"dataframe\">\n",
       "  <thead>\n",
       " <tr style=\"text-align: left;\">\n",
       "      <th>Epoch</th>\n",
       "      <th>Training Loss</th>\n",
       "      <th>Validation Loss</th>\n",
       "      <th>Accuracy</th>\n",
       "      <th>Precision</th>\n",
       "      <th>Recall</th>\n",
       "      <th>F1</th>\n",
       "    </tr>\n",
       "  </thead>\n",
       "  <tbody>\n",
       "    <tr>\n",
       "      <td>1</td>\n",
       "      <td>0.593300</td>\n",
       "      <td>0.170069</td>\n",
       "      <td>0.947500</td>\n",
       "      <td>0.948246</td>\n",
       "      <td>0.947505</td>\n",
       "      <td>0.947741</td>\n",
       "    </tr>\n",
       "    <tr>\n",
       "      <td>2</td>\n",
       "      <td>0.102500</td>\n",
       "      <td>0.130518</td>\n",
       "      <td>0.958600</td>\n",
       "      <td>0.958863</td>\n",
       "      <td>0.958806</td>\n",
       "      <td>0.958685</td>\n",
       "    </tr>\n",
       "    <tr>\n",
       "      <td>3</td>\n",
       "      <td>0.044000</td>\n",
       "      <td>0.131537</td>\n",
       "      <td>0.961000</td>\n",
       "      <td>0.961754</td>\n",
       "      <td>0.961118</td>\n",
       "      <td>0.961203</td>\n",
       "    </tr>\n",
       "    <tr>\n",
       "      <td>4</td>\n",
       "      <td>0.017200</td>\n",
       "      <td>0.138142</td>\n",
       "      <td>0.963800</td>\n",
       "      <td>0.963960</td>\n",
       "      <td>0.963907</td>\n",
       "      <td>0.963899</td>\n",
       "    </tr>\n",
       "    <tr>\n",
       "      <td>5</td>\n",
       "      <td>0.005900</td>\n",
       "      <td>0.142225</td>\n",
       "      <td>0.966600</td>\n",
       "      <td>0.966770</td>\n",
       "      <td>0.966693</td>\n",
       "      <td>0.966708</td>\n",
       "    </tr>\n",
       "    <tr>\n",
       "      <td>6</td>\n",
       "      <td>0.001900</td>\n",
       "      <td>0.154488</td>\n",
       "      <td>0.965700</td>\n",
       "      <td>0.965878</td>\n",
       "      <td>0.965794</td>\n",
       "      <td>0.965821</td>\n",
       "    </tr>\n",
       "    <tr>\n",
       "      <td>7</td>\n",
       "      <td>0.000900</td>\n",
       "      <td>0.157517</td>\n",
       "      <td>0.967100</td>\n",
       "      <td>0.967139</td>\n",
       "      <td>0.967213</td>\n",
       "      <td>0.967152</td>\n",
       "    </tr>\n",
       "  </tbody>\n",
       "</table><p>"
      ],
      "text/plain": [
       "<IPython.core.display.HTML object>"
      ]
     },
     "metadata": {},
     "output_type": "display_data"
    },
    {
     "name": "stderr",
     "output_type": "stream",
     "text": [
      "[I 2025-03-30 00:24:43,523] Trial 70 finished with value: 0.9671521366228003 and parameters: {'learning_rate': 5.1939313310282055e-05, 'weight_decay': 0.008, 'warmup_steps': 25}. Best is trial 67 with value: 0.9746290627725797.\n"
     ]
    },
    {
     "name": "stdout",
     "output_type": "stream",
     "text": [
      "Trial 71 with params: {'learning_rate': 0.00014524706562936044, 'weight_decay': 0.008, 'warmup_steps': 26}\n"
     ]
    },
    {
     "name": "stderr",
     "output_type": "stream",
     "text": [
      "Some weights of TimmWrapperForImageClassification were not initialized from the model checkpoint at timm/tiny_vit_5m_224.in1k and are newly initialized because the shapes did not match:\n",
      "- head.fc.bias: found shape torch.Size([1000]) in the checkpoint and torch.Size([10]) in the model instantiated\n",
      "- head.fc.weight: found shape torch.Size([1000, 320]) in the checkpoint and torch.Size([10, 320]) in the model instantiated\n",
      "You should probably TRAIN this model on a down-stream task to be able to use it for predictions and inference.\n"
     ]
    },
    {
     "data": {
      "text/html": [
       "\n",
       "    <div>\n",
       "      \n",
       "      <progress value='2191' max='2191' style='width:300px; height:20px; vertical-align: middle;'></progress>\n",
       "      [2191/2191 09:50, Epoch 7/7]\n",
       "    </div>\n",
       "    <table border=\"1\" class=\"dataframe\">\n",
       "  <thead>\n",
       " <tr style=\"text-align: left;\">\n",
       "      <th>Epoch</th>\n",
       "      <th>Training Loss</th>\n",
       "      <th>Validation Loss</th>\n",
       "      <th>Accuracy</th>\n",
       "      <th>Precision</th>\n",
       "      <th>Recall</th>\n",
       "      <th>F1</th>\n",
       "    </tr>\n",
       "  </thead>\n",
       "  <tbody>\n",
       "    <tr>\n",
       "      <td>1</td>\n",
       "      <td>0.447200</td>\n",
       "      <td>0.193107</td>\n",
       "      <td>0.937100</td>\n",
       "      <td>0.943006</td>\n",
       "      <td>0.937234</td>\n",
       "      <td>0.937835</td>\n",
       "    </tr>\n",
       "    <tr>\n",
       "      <td>2</td>\n",
       "      <td>0.098500</td>\n",
       "      <td>0.129569</td>\n",
       "      <td>0.956900</td>\n",
       "      <td>0.957309</td>\n",
       "      <td>0.957132</td>\n",
       "      <td>0.957059</td>\n",
       "    </tr>\n",
       "    <tr>\n",
       "      <td>3</td>\n",
       "      <td>0.046900</td>\n",
       "      <td>0.120871</td>\n",
       "      <td>0.964500</td>\n",
       "      <td>0.964820</td>\n",
       "      <td>0.964678</td>\n",
       "      <td>0.964671</td>\n",
       "    </tr>\n",
       "    <tr>\n",
       "      <td>4</td>\n",
       "      <td>0.021400</td>\n",
       "      <td>0.127811</td>\n",
       "      <td>0.967300</td>\n",
       "      <td>0.967792</td>\n",
       "      <td>0.967473</td>\n",
       "      <td>0.967487</td>\n",
       "    </tr>\n",
       "    <tr>\n",
       "      <td>5</td>\n",
       "      <td>0.007800</td>\n",
       "      <td>0.141804</td>\n",
       "      <td>0.968300</td>\n",
       "      <td>0.968597</td>\n",
       "      <td>0.968436</td>\n",
       "      <td>0.968397</td>\n",
       "    </tr>\n",
       "    <tr>\n",
       "      <td>6</td>\n",
       "      <td>0.001700</td>\n",
       "      <td>0.126927</td>\n",
       "      <td>0.972800</td>\n",
       "      <td>0.972941</td>\n",
       "      <td>0.972900</td>\n",
       "      <td>0.972906</td>\n",
       "    </tr>\n",
       "    <tr>\n",
       "      <td>7</td>\n",
       "      <td>0.000600</td>\n",
       "      <td>0.128563</td>\n",
       "      <td>0.972200</td>\n",
       "      <td>0.972338</td>\n",
       "      <td>0.972329</td>\n",
       "      <td>0.972319</td>\n",
       "    </tr>\n",
       "  </tbody>\n",
       "</table><p>"
      ],
      "text/plain": [
       "<IPython.core.display.HTML object>"
      ]
     },
     "metadata": {},
     "output_type": "display_data"
    },
    {
     "name": "stderr",
     "output_type": "stream",
     "text": [
      "[I 2025-03-30 00:34:37,383] Trial 71 finished with value: 0.9723193002334269 and parameters: {'learning_rate': 0.00014524706562936044, 'weight_decay': 0.008, 'warmup_steps': 26}. Best is trial 67 with value: 0.9746290627725797.\n"
     ]
    },
    {
     "name": "stdout",
     "output_type": "stream",
     "text": [
      "Trial 72 with params: {'learning_rate': 5.507864621388507e-05, 'weight_decay': 0.006, 'warmup_steps': 17}\n"
     ]
    },
    {
     "name": "stderr",
     "output_type": "stream",
     "text": [
      "Some weights of TimmWrapperForImageClassification were not initialized from the model checkpoint at timm/tiny_vit_5m_224.in1k and are newly initialized because the shapes did not match:\n",
      "- head.fc.bias: found shape torch.Size([1000]) in the checkpoint and torch.Size([10]) in the model instantiated\n",
      "- head.fc.weight: found shape torch.Size([1000, 320]) in the checkpoint and torch.Size([10, 320]) in the model instantiated\n",
      "You should probably TRAIN this model on a down-stream task to be able to use it for predictions and inference.\n"
     ]
    },
    {
     "data": {
      "text/html": [
       "\n",
       "    <div>\n",
       "      \n",
       "      <progress value='2191' max='2191' style='width:300px; height:20px; vertical-align: middle;'></progress>\n",
       "      [2191/2191 09:42, Epoch 7/7]\n",
       "    </div>\n",
       "    <table border=\"1\" class=\"dataframe\">\n",
       "  <thead>\n",
       " <tr style=\"text-align: left;\">\n",
       "      <th>Epoch</th>\n",
       "      <th>Training Loss</th>\n",
       "      <th>Validation Loss</th>\n",
       "      <th>Accuracy</th>\n",
       "      <th>Precision</th>\n",
       "      <th>Recall</th>\n",
       "      <th>F1</th>\n",
       "    </tr>\n",
       "  </thead>\n",
       "  <tbody>\n",
       "    <tr>\n",
       "      <td>1</td>\n",
       "      <td>0.567700</td>\n",
       "      <td>0.165092</td>\n",
       "      <td>0.947900</td>\n",
       "      <td>0.948916</td>\n",
       "      <td>0.948123</td>\n",
       "      <td>0.947962</td>\n",
       "    </tr>\n",
       "    <tr>\n",
       "      <td>2</td>\n",
       "      <td>0.098900</td>\n",
       "      <td>0.121365</td>\n",
       "      <td>0.960200</td>\n",
       "      <td>0.960538</td>\n",
       "      <td>0.960330</td>\n",
       "      <td>0.960381</td>\n",
       "    </tr>\n",
       "    <tr>\n",
       "      <td>3</td>\n",
       "      <td>0.039200</td>\n",
       "      <td>0.126578</td>\n",
       "      <td>0.963800</td>\n",
       "      <td>0.964132</td>\n",
       "      <td>0.963942</td>\n",
       "      <td>0.963888</td>\n",
       "    </tr>\n",
       "    <tr>\n",
       "      <td>4</td>\n",
       "      <td>0.014100</td>\n",
       "      <td>0.133393</td>\n",
       "      <td>0.966500</td>\n",
       "      <td>0.966559</td>\n",
       "      <td>0.966659</td>\n",
       "      <td>0.966587</td>\n",
       "    </tr>\n",
       "    <tr>\n",
       "      <td>5</td>\n",
       "      <td>0.005500</td>\n",
       "      <td>0.139647</td>\n",
       "      <td>0.968500</td>\n",
       "      <td>0.968777</td>\n",
       "      <td>0.968597</td>\n",
       "      <td>0.968638</td>\n",
       "    </tr>\n",
       "    <tr>\n",
       "      <td>6</td>\n",
       "      <td>0.001800</td>\n",
       "      <td>0.142426</td>\n",
       "      <td>0.969200</td>\n",
       "      <td>0.969382</td>\n",
       "      <td>0.969321</td>\n",
       "      <td>0.969346</td>\n",
       "    </tr>\n",
       "    <tr>\n",
       "      <td>7</td>\n",
       "      <td>0.000900</td>\n",
       "      <td>0.143794</td>\n",
       "      <td>0.970200</td>\n",
       "      <td>0.970323</td>\n",
       "      <td>0.970353</td>\n",
       "      <td>0.970325</td>\n",
       "    </tr>\n",
       "  </tbody>\n",
       "</table><p>"
      ],
      "text/plain": [
       "<IPython.core.display.HTML object>"
      ]
     },
     "metadata": {},
     "output_type": "display_data"
    },
    {
     "name": "stderr",
     "output_type": "stream",
     "text": [
      "[I 2025-03-30 00:44:32,600] Trial 72 finished with value: 0.9703253748951186 and parameters: {'learning_rate': 5.507864621388507e-05, 'weight_decay': 0.006, 'warmup_steps': 17}. Best is trial 67 with value: 0.9746290627725797.\n"
     ]
    },
    {
     "name": "stdout",
     "output_type": "stream",
     "text": [
      "Trial 73 with params: {'learning_rate': 0.00016046280027725454, 'weight_decay': 0.008, 'warmup_steps': 20}\n"
     ]
    },
    {
     "name": "stderr",
     "output_type": "stream",
     "text": [
      "Some weights of TimmWrapperForImageClassification were not initialized from the model checkpoint at timm/tiny_vit_5m_224.in1k and are newly initialized because the shapes did not match:\n",
      "- head.fc.bias: found shape torch.Size([1000]) in the checkpoint and torch.Size([10]) in the model instantiated\n",
      "- head.fc.weight: found shape torch.Size([1000, 320]) in the checkpoint and torch.Size([10, 320]) in the model instantiated\n",
      "You should probably TRAIN this model on a down-stream task to be able to use it for predictions and inference.\n"
     ]
    },
    {
     "data": {
      "text/html": [
       "\n",
       "    <div>\n",
       "      \n",
       "      <progress value='626' max='2191' style='width:300px; height:20px; vertical-align: middle;'></progress>\n",
       "      [ 626/2191 02:45 < 06:54, 3.77 it/s, Epoch 2/7]\n",
       "    </div>\n",
       "    <table border=\"1\" class=\"dataframe\">\n",
       "  <thead>\n",
       " <tr style=\"text-align: left;\">\n",
       "      <th>Epoch</th>\n",
       "      <th>Training Loss</th>\n",
       "      <th>Validation Loss</th>\n",
       "      <th>Accuracy</th>\n",
       "      <th>Precision</th>\n",
       "      <th>Recall</th>\n",
       "      <th>F1</th>\n",
       "    </tr>\n",
       "  </thead>\n",
       "  <tbody>\n",
       "    <tr>\n",
       "      <td>1</td>\n",
       "      <td>0.435100</td>\n",
       "      <td>0.212210</td>\n",
       "      <td>0.928900</td>\n",
       "      <td>0.934863</td>\n",
       "      <td>0.929134</td>\n",
       "      <td>0.929615</td>\n",
       "    </tr>\n",
       "    <tr>\n",
       "      <td>2</td>\n",
       "      <td>0.101100</td>\n",
       "      <td>0.142241</td>\n",
       "      <td>0.950700</td>\n",
       "      <td>0.952456</td>\n",
       "      <td>0.950950</td>\n",
       "      <td>0.950924</td>\n",
       "    </tr>\n",
       "  </tbody>\n",
       "</table><p>"
      ],
      "text/plain": [
       "<IPython.core.display.HTML object>"
      ]
     },
     "metadata": {},
     "output_type": "display_data"
    },
    {
     "name": "stderr",
     "output_type": "stream",
     "text": [
      "[I 2025-03-30 00:47:20,179] Trial 73 pruned. \n"
     ]
    },
    {
     "name": "stdout",
     "output_type": "stream",
     "text": [
      "Trial 74 with params: {'learning_rate': 9.37652748553604e-05, 'weight_decay': 0.008, 'warmup_steps': 26}\n"
     ]
    },
    {
     "name": "stderr",
     "output_type": "stream",
     "text": [
      "Some weights of TimmWrapperForImageClassification were not initialized from the model checkpoint at timm/tiny_vit_5m_224.in1k and are newly initialized because the shapes did not match:\n",
      "- head.fc.bias: found shape torch.Size([1000]) in the checkpoint and torch.Size([10]) in the model instantiated\n",
      "- head.fc.weight: found shape torch.Size([1000, 320]) in the checkpoint and torch.Size([10, 320]) in the model instantiated\n",
      "You should probably TRAIN this model on a down-stream task to be able to use it for predictions and inference.\n"
     ]
    },
    {
     "data": {
      "text/html": [
       "\n",
       "    <div>\n",
       "      \n",
       "      <progress value='2191' max='2191' style='width:300px; height:20px; vertical-align: middle;'></progress>\n",
       "      [2191/2191 09:44, Epoch 7/7]\n",
       "    </div>\n",
       "    <table border=\"1\" class=\"dataframe\">\n",
       "  <thead>\n",
       " <tr style=\"text-align: left;\">\n",
       "      <th>Epoch</th>\n",
       "      <th>Training Loss</th>\n",
       "      <th>Validation Loss</th>\n",
       "      <th>Accuracy</th>\n",
       "      <th>Precision</th>\n",
       "      <th>Recall</th>\n",
       "      <th>F1</th>\n",
       "    </tr>\n",
       "  </thead>\n",
       "  <tbody>\n",
       "    <tr>\n",
       "      <td>1</td>\n",
       "      <td>0.491900</td>\n",
       "      <td>0.160033</td>\n",
       "      <td>0.949900</td>\n",
       "      <td>0.951871</td>\n",
       "      <td>0.950038</td>\n",
       "      <td>0.950202</td>\n",
       "    </tr>\n",
       "    <tr>\n",
       "      <td>2</td>\n",
       "      <td>0.091200</td>\n",
       "      <td>0.114528</td>\n",
       "      <td>0.962300</td>\n",
       "      <td>0.963014</td>\n",
       "      <td>0.962444</td>\n",
       "      <td>0.962569</td>\n",
       "    </tr>\n",
       "    <tr>\n",
       "      <td>3</td>\n",
       "      <td>0.039600</td>\n",
       "      <td>0.124348</td>\n",
       "      <td>0.963900</td>\n",
       "      <td>0.964135</td>\n",
       "      <td>0.964013</td>\n",
       "      <td>0.964050</td>\n",
       "    </tr>\n",
       "    <tr>\n",
       "      <td>4</td>\n",
       "      <td>0.017200</td>\n",
       "      <td>0.138689</td>\n",
       "      <td>0.965600</td>\n",
       "      <td>0.965844</td>\n",
       "      <td>0.965663</td>\n",
       "      <td>0.965732</td>\n",
       "    </tr>\n",
       "    <tr>\n",
       "      <td>5</td>\n",
       "      <td>0.006200</td>\n",
       "      <td>0.148131</td>\n",
       "      <td>0.967700</td>\n",
       "      <td>0.967890</td>\n",
       "      <td>0.967817</td>\n",
       "      <td>0.967806</td>\n",
       "    </tr>\n",
       "    <tr>\n",
       "      <td>6</td>\n",
       "      <td>0.001700</td>\n",
       "      <td>0.143545</td>\n",
       "      <td>0.968600</td>\n",
       "      <td>0.968725</td>\n",
       "      <td>0.968748</td>\n",
       "      <td>0.968729</td>\n",
       "    </tr>\n",
       "    <tr>\n",
       "      <td>7</td>\n",
       "      <td>0.000500</td>\n",
       "      <td>0.143692</td>\n",
       "      <td>0.970500</td>\n",
       "      <td>0.970645</td>\n",
       "      <td>0.970633</td>\n",
       "      <td>0.970633</td>\n",
       "    </tr>\n",
       "  </tbody>\n",
       "</table><p>"
      ],
      "text/plain": [
       "<IPython.core.display.HTML object>"
      ]
     },
     "metadata": {},
     "output_type": "display_data"
    },
    {
     "name": "stderr",
     "output_type": "stream",
     "text": [
      "[I 2025-03-30 00:57:09,320] Trial 74 finished with value: 0.9706326901919524 and parameters: {'learning_rate': 9.37652748553604e-05, 'weight_decay': 0.008, 'warmup_steps': 26}. Best is trial 67 with value: 0.9746290627725797.\n"
     ]
    },
    {
     "name": "stdout",
     "output_type": "stream",
     "text": [
      "Trial 75 with params: {'learning_rate': 0.0001248004164266306, 'weight_decay': 0.007, 'warmup_steps': 28}\n"
     ]
    },
    {
     "name": "stderr",
     "output_type": "stream",
     "text": [
      "Some weights of TimmWrapperForImageClassification were not initialized from the model checkpoint at timm/tiny_vit_5m_224.in1k and are newly initialized because the shapes did not match:\n",
      "- head.fc.bias: found shape torch.Size([1000]) in the checkpoint and torch.Size([10]) in the model instantiated\n",
      "- head.fc.weight: found shape torch.Size([1000, 320]) in the checkpoint and torch.Size([10, 320]) in the model instantiated\n",
      "You should probably TRAIN this model on a down-stream task to be able to use it for predictions and inference.\n"
     ]
    },
    {
     "data": {
      "text/html": [
       "\n",
       "    <div>\n",
       "      \n",
       "      <progress value='2191' max='2191' style='width:300px; height:20px; vertical-align: middle;'></progress>\n",
       "      [2191/2191 09:44, Epoch 7/7]\n",
       "    </div>\n",
       "    <table border=\"1\" class=\"dataframe\">\n",
       "  <thead>\n",
       " <tr style=\"text-align: left;\">\n",
       "      <th>Epoch</th>\n",
       "      <th>Training Loss</th>\n",
       "      <th>Validation Loss</th>\n",
       "      <th>Accuracy</th>\n",
       "      <th>Precision</th>\n",
       "      <th>Recall</th>\n",
       "      <th>F1</th>\n",
       "    </tr>\n",
       "  </thead>\n",
       "  <tbody>\n",
       "    <tr>\n",
       "      <td>1</td>\n",
       "      <td>0.482300</td>\n",
       "      <td>0.173416</td>\n",
       "      <td>0.945300</td>\n",
       "      <td>0.947302</td>\n",
       "      <td>0.945634</td>\n",
       "      <td>0.945508</td>\n",
       "    </tr>\n",
       "    <tr>\n",
       "      <td>2</td>\n",
       "      <td>0.106900</td>\n",
       "      <td>0.133538</td>\n",
       "      <td>0.955500</td>\n",
       "      <td>0.956817</td>\n",
       "      <td>0.955664</td>\n",
       "      <td>0.955781</td>\n",
       "    </tr>\n",
       "    <tr>\n",
       "      <td>3</td>\n",
       "      <td>0.048400</td>\n",
       "      <td>0.126762</td>\n",
       "      <td>0.960600</td>\n",
       "      <td>0.961098</td>\n",
       "      <td>0.960756</td>\n",
       "      <td>0.960817</td>\n",
       "    </tr>\n",
       "    <tr>\n",
       "      <td>4</td>\n",
       "      <td>0.022400</td>\n",
       "      <td>0.126711</td>\n",
       "      <td>0.967100</td>\n",
       "      <td>0.967185</td>\n",
       "      <td>0.967207</td>\n",
       "      <td>0.967142</td>\n",
       "    </tr>\n",
       "    <tr>\n",
       "      <td>5</td>\n",
       "      <td>0.007300</td>\n",
       "      <td>0.122350</td>\n",
       "      <td>0.971300</td>\n",
       "      <td>0.971565</td>\n",
       "      <td>0.971462</td>\n",
       "      <td>0.971426</td>\n",
       "    </tr>\n",
       "    <tr>\n",
       "      <td>6</td>\n",
       "      <td>0.001400</td>\n",
       "      <td>0.124575</td>\n",
       "      <td>0.973800</td>\n",
       "      <td>0.973994</td>\n",
       "      <td>0.973922</td>\n",
       "      <td>0.973939</td>\n",
       "    </tr>\n",
       "    <tr>\n",
       "      <td>7</td>\n",
       "      <td>0.000600</td>\n",
       "      <td>0.125869</td>\n",
       "      <td>0.973900</td>\n",
       "      <td>0.973992</td>\n",
       "      <td>0.974063</td>\n",
       "      <td>0.974013</td>\n",
       "    </tr>\n",
       "  </tbody>\n",
       "</table><p>"
      ],
      "text/plain": [
       "<IPython.core.display.HTML object>"
      ]
     },
     "metadata": {},
     "output_type": "display_data"
    },
    {
     "name": "stderr",
     "output_type": "stream",
     "text": [
      "[I 2025-03-30 01:06:56,130] Trial 75 finished with value: 0.9740127201248043 and parameters: {'learning_rate': 0.0001248004164266306, 'weight_decay': 0.007, 'warmup_steps': 28}. Best is trial 67 with value: 0.9746290627725797.\n"
     ]
    },
    {
     "name": "stdout",
     "output_type": "stream",
     "text": [
      "Trial 76 with params: {'learning_rate': 0.0001696458210351118, 'weight_decay': 0.007, 'warmup_steps': 29}\n"
     ]
    },
    {
     "name": "stderr",
     "output_type": "stream",
     "text": [
      "Some weights of TimmWrapperForImageClassification were not initialized from the model checkpoint at timm/tiny_vit_5m_224.in1k and are newly initialized because the shapes did not match:\n",
      "- head.fc.bias: found shape torch.Size([1000]) in the checkpoint and torch.Size([10]) in the model instantiated\n",
      "- head.fc.weight: found shape torch.Size([1000, 320]) in the checkpoint and torch.Size([10, 320]) in the model instantiated\n",
      "You should probably TRAIN this model on a down-stream task to be able to use it for predictions and inference.\n"
     ]
    },
    {
     "data": {
      "text/html": [
       "\n",
       "    <div>\n",
       "      \n",
       "      <progress value='2191' max='2191' style='width:300px; height:20px; vertical-align: middle;'></progress>\n",
       "      [2191/2191 09:57, Epoch 7/7]\n",
       "    </div>\n",
       "    <table border=\"1\" class=\"dataframe\">\n",
       "  <thead>\n",
       " <tr style=\"text-align: left;\">\n",
       "      <th>Epoch</th>\n",
       "      <th>Training Loss</th>\n",
       "      <th>Validation Loss</th>\n",
       "      <th>Accuracy</th>\n",
       "      <th>Precision</th>\n",
       "      <th>Recall</th>\n",
       "      <th>F1</th>\n",
       "    </tr>\n",
       "  </thead>\n",
       "  <tbody>\n",
       "    <tr>\n",
       "      <td>1</td>\n",
       "      <td>0.450500</td>\n",
       "      <td>0.165953</td>\n",
       "      <td>0.947600</td>\n",
       "      <td>0.949679</td>\n",
       "      <td>0.947445</td>\n",
       "      <td>0.947733</td>\n",
       "    </tr>\n",
       "    <tr>\n",
       "      <td>2</td>\n",
       "      <td>0.104600</td>\n",
       "      <td>0.149689</td>\n",
       "      <td>0.951100</td>\n",
       "      <td>0.952606</td>\n",
       "      <td>0.951242</td>\n",
       "      <td>0.951238</td>\n",
       "    </tr>\n",
       "    <tr>\n",
       "      <td>3</td>\n",
       "      <td>0.053500</td>\n",
       "      <td>0.137503</td>\n",
       "      <td>0.957100</td>\n",
       "      <td>0.957555</td>\n",
       "      <td>0.957189</td>\n",
       "      <td>0.957243</td>\n",
       "    </tr>\n",
       "    <tr>\n",
       "      <td>4</td>\n",
       "      <td>0.024000</td>\n",
       "      <td>0.135038</td>\n",
       "      <td>0.964600</td>\n",
       "      <td>0.965266</td>\n",
       "      <td>0.964684</td>\n",
       "      <td>0.964856</td>\n",
       "    </tr>\n",
       "    <tr>\n",
       "      <td>5</td>\n",
       "      <td>0.011300</td>\n",
       "      <td>0.132872</td>\n",
       "      <td>0.970000</td>\n",
       "      <td>0.970516</td>\n",
       "      <td>0.970166</td>\n",
       "      <td>0.970199</td>\n",
       "    </tr>\n",
       "    <tr>\n",
       "      <td>6</td>\n",
       "      <td>0.002700</td>\n",
       "      <td>0.125815</td>\n",
       "      <td>0.970500</td>\n",
       "      <td>0.970777</td>\n",
       "      <td>0.970603</td>\n",
       "      <td>0.970653</td>\n",
       "    </tr>\n",
       "    <tr>\n",
       "      <td>7</td>\n",
       "      <td>0.000600</td>\n",
       "      <td>0.121762</td>\n",
       "      <td>0.970800</td>\n",
       "      <td>0.971060</td>\n",
       "      <td>0.970909</td>\n",
       "      <td>0.970953</td>\n",
       "    </tr>\n",
       "  </tbody>\n",
       "</table><p>"
      ],
      "text/plain": [
       "<IPython.core.display.HTML object>"
      ]
     },
     "metadata": {},
     "output_type": "display_data"
    },
    {
     "name": "stderr",
     "output_type": "stream",
     "text": [
      "[I 2025-03-30 01:16:56,980] Trial 76 finished with value: 0.9709527966468403 and parameters: {'learning_rate': 0.0001696458210351118, 'weight_decay': 0.007, 'warmup_steps': 29}. Best is trial 67 with value: 0.9746290627725797.\n"
     ]
    },
    {
     "name": "stdout",
     "output_type": "stream",
     "text": [
      "Trial 77 with params: {'learning_rate': 0.00014335654906866193, 'weight_decay': 0.006, 'warmup_steps': 26}\n"
     ]
    },
    {
     "name": "stderr",
     "output_type": "stream",
     "text": [
      "Some weights of TimmWrapperForImageClassification were not initialized from the model checkpoint at timm/tiny_vit_5m_224.in1k and are newly initialized because the shapes did not match:\n",
      "- head.fc.bias: found shape torch.Size([1000]) in the checkpoint and torch.Size([10]) in the model instantiated\n",
      "- head.fc.weight: found shape torch.Size([1000, 320]) in the checkpoint and torch.Size([10, 320]) in the model instantiated\n",
      "You should probably TRAIN this model on a down-stream task to be able to use it for predictions and inference.\n"
     ]
    },
    {
     "data": {
      "text/html": [
       "\n",
       "    <div>\n",
       "      \n",
       "      <progress value='1252' max='2191' style='width:300px; height:20px; vertical-align: middle;'></progress>\n",
       "      [1252/2191 05:31 < 04:08, 3.77 it/s, Epoch 4/7]\n",
       "    </div>\n",
       "    <table border=\"1\" class=\"dataframe\">\n",
       "  <thead>\n",
       " <tr style=\"text-align: left;\">\n",
       "      <th>Epoch</th>\n",
       "      <th>Training Loss</th>\n",
       "      <th>Validation Loss</th>\n",
       "      <th>Accuracy</th>\n",
       "      <th>Precision</th>\n",
       "      <th>Recall</th>\n",
       "      <th>F1</th>\n",
       "    </tr>\n",
       "  </thead>\n",
       "  <tbody>\n",
       "    <tr>\n",
       "      <td>1</td>\n",
       "      <td>0.461200</td>\n",
       "      <td>0.170037</td>\n",
       "      <td>0.943200</td>\n",
       "      <td>0.946720</td>\n",
       "      <td>0.943460</td>\n",
       "      <td>0.943869</td>\n",
       "    </tr>\n",
       "    <tr>\n",
       "      <td>2</td>\n",
       "      <td>0.096900</td>\n",
       "      <td>0.128120</td>\n",
       "      <td>0.957500</td>\n",
       "      <td>0.958406</td>\n",
       "      <td>0.957669</td>\n",
       "      <td>0.957737</td>\n",
       "    </tr>\n",
       "    <tr>\n",
       "      <td>3</td>\n",
       "      <td>0.044600</td>\n",
       "      <td>0.132042</td>\n",
       "      <td>0.962300</td>\n",
       "      <td>0.963247</td>\n",
       "      <td>0.962293</td>\n",
       "      <td>0.962631</td>\n",
       "    </tr>\n",
       "    <tr>\n",
       "      <td>4</td>\n",
       "      <td>0.023200</td>\n",
       "      <td>0.127355</td>\n",
       "      <td>0.965800</td>\n",
       "      <td>0.966171</td>\n",
       "      <td>0.965945</td>\n",
       "      <td>0.965984</td>\n",
       "    </tr>\n",
       "  </tbody>\n",
       "</table><p>"
      ],
      "text/plain": [
       "<IPython.core.display.HTML object>"
      ]
     },
     "metadata": {},
     "output_type": "display_data"
    },
    {
     "name": "stderr",
     "output_type": "stream",
     "text": [
      "[I 2025-03-30 01:22:30,368] Trial 77 pruned. \n"
     ]
    },
    {
     "name": "stdout",
     "output_type": "stream",
     "text": [
      "Trial 78 with params: {'learning_rate': 0.00010454672389277825, 'weight_decay': 0.007, 'warmup_steps': 25}\n"
     ]
    },
    {
     "name": "stderr",
     "output_type": "stream",
     "text": [
      "Some weights of TimmWrapperForImageClassification were not initialized from the model checkpoint at timm/tiny_vit_5m_224.in1k and are newly initialized because the shapes did not match:\n",
      "- head.fc.bias: found shape torch.Size([1000]) in the checkpoint and torch.Size([10]) in the model instantiated\n",
      "- head.fc.weight: found shape torch.Size([1000, 320]) in the checkpoint and torch.Size([10, 320]) in the model instantiated\n",
      "You should probably TRAIN this model on a down-stream task to be able to use it for predictions and inference.\n"
     ]
    },
    {
     "data": {
      "text/html": [
       "\n",
       "    <div>\n",
       "      \n",
       "      <progress value='2191' max='2191' style='width:300px; height:20px; vertical-align: middle;'></progress>\n",
       "      [2191/2191 09:42, Epoch 7/7]\n",
       "    </div>\n",
       "    <table border=\"1\" class=\"dataframe\">\n",
       "  <thead>\n",
       " <tr style=\"text-align: left;\">\n",
       "      <th>Epoch</th>\n",
       "      <th>Training Loss</th>\n",
       "      <th>Validation Loss</th>\n",
       "      <th>Accuracy</th>\n",
       "      <th>Precision</th>\n",
       "      <th>Recall</th>\n",
       "      <th>F1</th>\n",
       "    </tr>\n",
       "  </thead>\n",
       "  <tbody>\n",
       "    <tr>\n",
       "      <td>1</td>\n",
       "      <td>0.469300</td>\n",
       "      <td>0.162285</td>\n",
       "      <td>0.946500</td>\n",
       "      <td>0.948813</td>\n",
       "      <td>0.946548</td>\n",
       "      <td>0.946716</td>\n",
       "    </tr>\n",
       "    <tr>\n",
       "      <td>2</td>\n",
       "      <td>0.088000</td>\n",
       "      <td>0.126648</td>\n",
       "      <td>0.958100</td>\n",
       "      <td>0.958615</td>\n",
       "      <td>0.958342</td>\n",
       "      <td>0.958189</td>\n",
       "    </tr>\n",
       "    <tr>\n",
       "      <td>3</td>\n",
       "      <td>0.041200</td>\n",
       "      <td>0.124470</td>\n",
       "      <td>0.962400</td>\n",
       "      <td>0.962739</td>\n",
       "      <td>0.962549</td>\n",
       "      <td>0.962576</td>\n",
       "    </tr>\n",
       "    <tr>\n",
       "      <td>4</td>\n",
       "      <td>0.017800</td>\n",
       "      <td>0.119486</td>\n",
       "      <td>0.969200</td>\n",
       "      <td>0.969359</td>\n",
       "      <td>0.969421</td>\n",
       "      <td>0.969336</td>\n",
       "    </tr>\n",
       "    <tr>\n",
       "      <td>5</td>\n",
       "      <td>0.006600</td>\n",
       "      <td>0.126724</td>\n",
       "      <td>0.970900</td>\n",
       "      <td>0.971115</td>\n",
       "      <td>0.971057</td>\n",
       "      <td>0.971008</td>\n",
       "    </tr>\n",
       "    <tr>\n",
       "      <td>6</td>\n",
       "      <td>0.001600</td>\n",
       "      <td>0.123238</td>\n",
       "      <td>0.973100</td>\n",
       "      <td>0.973200</td>\n",
       "      <td>0.973232</td>\n",
       "      <td>0.973203</td>\n",
       "    </tr>\n",
       "    <tr>\n",
       "      <td>7</td>\n",
       "      <td>0.000600</td>\n",
       "      <td>0.122065</td>\n",
       "      <td>0.973500</td>\n",
       "      <td>0.973557</td>\n",
       "      <td>0.973628</td>\n",
       "      <td>0.973585</td>\n",
       "    </tr>\n",
       "  </tbody>\n",
       "</table><p>"
      ],
      "text/plain": [
       "<IPython.core.display.HTML object>"
      ]
     },
     "metadata": {},
     "output_type": "display_data"
    },
    {
     "name": "stderr",
     "output_type": "stream",
     "text": [
      "[I 2025-03-30 01:32:16,511] Trial 78 finished with value: 0.9735846964699236 and parameters: {'learning_rate': 0.00010454672389277825, 'weight_decay': 0.007, 'warmup_steps': 25}. Best is trial 67 with value: 0.9746290627725797.\n"
     ]
    },
    {
     "name": "stdout",
     "output_type": "stream",
     "text": [
      "Trial 79 with params: {'learning_rate': 0.0002079601235835947, 'weight_decay': 0.006, 'warmup_steps': 21}\n"
     ]
    },
    {
     "name": "stderr",
     "output_type": "stream",
     "text": [
      "Some weights of TimmWrapperForImageClassification were not initialized from the model checkpoint at timm/tiny_vit_5m_224.in1k and are newly initialized because the shapes did not match:\n",
      "- head.fc.bias: found shape torch.Size([1000]) in the checkpoint and torch.Size([10]) in the model instantiated\n",
      "- head.fc.weight: found shape torch.Size([1000, 320]) in the checkpoint and torch.Size([10, 320]) in the model instantiated\n",
      "You should probably TRAIN this model on a down-stream task to be able to use it for predictions and inference.\n"
     ]
    },
    {
     "data": {
      "text/html": [
       "\n",
       "    <div>\n",
       "      \n",
       "      <progress value='1252' max='2191' style='width:300px; height:20px; vertical-align: middle;'></progress>\n",
       "      [1252/2191 05:32 < 04:10, 3.75 it/s, Epoch 4/7]\n",
       "    </div>\n",
       "    <table border=\"1\" class=\"dataframe\">\n",
       "  <thead>\n",
       " <tr style=\"text-align: left;\">\n",
       "      <th>Epoch</th>\n",
       "      <th>Training Loss</th>\n",
       "      <th>Validation Loss</th>\n",
       "      <th>Accuracy</th>\n",
       "      <th>Precision</th>\n",
       "      <th>Recall</th>\n",
       "      <th>F1</th>\n",
       "    </tr>\n",
       "  </thead>\n",
       "  <tbody>\n",
       "    <tr>\n",
       "      <td>1</td>\n",
       "      <td>0.431000</td>\n",
       "      <td>0.192682</td>\n",
       "      <td>0.934900</td>\n",
       "      <td>0.937382</td>\n",
       "      <td>0.934886</td>\n",
       "      <td>0.935424</td>\n",
       "    </tr>\n",
       "    <tr>\n",
       "      <td>2</td>\n",
       "      <td>0.111600</td>\n",
       "      <td>0.156186</td>\n",
       "      <td>0.948500</td>\n",
       "      <td>0.949829</td>\n",
       "      <td>0.948703</td>\n",
       "      <td>0.948384</td>\n",
       "    </tr>\n",
       "    <tr>\n",
       "      <td>3</td>\n",
       "      <td>0.060100</td>\n",
       "      <td>0.125112</td>\n",
       "      <td>0.961400</td>\n",
       "      <td>0.961804</td>\n",
       "      <td>0.961419</td>\n",
       "      <td>0.961531</td>\n",
       "    </tr>\n",
       "    <tr>\n",
       "      <td>4</td>\n",
       "      <td>0.030000</td>\n",
       "      <td>0.130207</td>\n",
       "      <td>0.963500</td>\n",
       "      <td>0.963900</td>\n",
       "      <td>0.963670</td>\n",
       "      <td>0.963682</td>\n",
       "    </tr>\n",
       "  </tbody>\n",
       "</table><p>"
      ],
      "text/plain": [
       "<IPython.core.display.HTML object>"
      ]
     },
     "metadata": {},
     "output_type": "display_data"
    },
    {
     "name": "stderr",
     "output_type": "stream",
     "text": [
      "[I 2025-03-30 01:37:51,349] Trial 79 pruned. \n"
     ]
    },
    {
     "name": "stdout",
     "output_type": "stream",
     "text": [
      "Trial 80 with params: {'learning_rate': 8.27169910109526e-05, 'weight_decay': 0.007, 'warmup_steps': 21}\n"
     ]
    },
    {
     "name": "stderr",
     "output_type": "stream",
     "text": [
      "Some weights of TimmWrapperForImageClassification were not initialized from the model checkpoint at timm/tiny_vit_5m_224.in1k and are newly initialized because the shapes did not match:\n",
      "- head.fc.bias: found shape torch.Size([1000]) in the checkpoint and torch.Size([10]) in the model instantiated\n",
      "- head.fc.weight: found shape torch.Size([1000, 320]) in the checkpoint and torch.Size([10, 320]) in the model instantiated\n",
      "You should probably TRAIN this model on a down-stream task to be able to use it for predictions and inference.\n"
     ]
    },
    {
     "data": {
      "text/html": [
       "\n",
       "    <div>\n",
       "      \n",
       "      <progress value='1252' max='2191' style='width:300px; height:20px; vertical-align: middle;'></progress>\n",
       "      [1252/2191 05:30 < 04:08, 3.78 it/s, Epoch 4/7]\n",
       "    </div>\n",
       "    <table border=\"1\" class=\"dataframe\">\n",
       "  <thead>\n",
       " <tr style=\"text-align: left;\">\n",
       "      <th>Epoch</th>\n",
       "      <th>Training Loss</th>\n",
       "      <th>Validation Loss</th>\n",
       "      <th>Accuracy</th>\n",
       "      <th>Precision</th>\n",
       "      <th>Recall</th>\n",
       "      <th>F1</th>\n",
       "    </tr>\n",
       "  </thead>\n",
       "  <tbody>\n",
       "    <tr>\n",
       "      <td>1</td>\n",
       "      <td>0.495700</td>\n",
       "      <td>0.165876</td>\n",
       "      <td>0.945500</td>\n",
       "      <td>0.947117</td>\n",
       "      <td>0.945629</td>\n",
       "      <td>0.945811</td>\n",
       "    </tr>\n",
       "    <tr>\n",
       "      <td>2</td>\n",
       "      <td>0.089500</td>\n",
       "      <td>0.128600</td>\n",
       "      <td>0.959600</td>\n",
       "      <td>0.960093</td>\n",
       "      <td>0.959769</td>\n",
       "      <td>0.959731</td>\n",
       "    </tr>\n",
       "    <tr>\n",
       "      <td>3</td>\n",
       "      <td>0.036500</td>\n",
       "      <td>0.119121</td>\n",
       "      <td>0.964500</td>\n",
       "      <td>0.964592</td>\n",
       "      <td>0.964664</td>\n",
       "      <td>0.964571</td>\n",
       "    </tr>\n",
       "    <tr>\n",
       "      <td>4</td>\n",
       "      <td>0.015400</td>\n",
       "      <td>0.132444</td>\n",
       "      <td>0.965600</td>\n",
       "      <td>0.965782</td>\n",
       "      <td>0.965809</td>\n",
       "      <td>0.965715</td>\n",
       "    </tr>\n",
       "  </tbody>\n",
       "</table><p>"
      ],
      "text/plain": [
       "<IPython.core.display.HTML object>"
      ]
     },
     "metadata": {},
     "output_type": "display_data"
    },
    {
     "name": "stderr",
     "output_type": "stream",
     "text": [
      "[I 2025-03-30 01:43:23,766] Trial 80 pruned. \n"
     ]
    },
    {
     "name": "stdout",
     "output_type": "stream",
     "text": [
      "Trial 81 with params: {'learning_rate': 8.194846030220038e-05, 'weight_decay': 0.007, 'warmup_steps': 30}\n"
     ]
    },
    {
     "name": "stderr",
     "output_type": "stream",
     "text": [
      "Some weights of TimmWrapperForImageClassification were not initialized from the model checkpoint at timm/tiny_vit_5m_224.in1k and are newly initialized because the shapes did not match:\n",
      "- head.fc.bias: found shape torch.Size([1000]) in the checkpoint and torch.Size([10]) in the model instantiated\n",
      "- head.fc.weight: found shape torch.Size([1000, 320]) in the checkpoint and torch.Size([10, 320]) in the model instantiated\n",
      "You should probably TRAIN this model on a down-stream task to be able to use it for predictions and inference.\n"
     ]
    },
    {
     "data": {
      "text/html": [
       "\n",
       "    <div>\n",
       "      \n",
       "      <progress value='2191' max='2191' style='width:300px; height:20px; vertical-align: middle;'></progress>\n",
       "      [2191/2191 10:02, Epoch 7/7]\n",
       "    </div>\n",
       "    <table border=\"1\" class=\"dataframe\">\n",
       "  <thead>\n",
       " <tr style=\"text-align: left;\">\n",
       "      <th>Epoch</th>\n",
       "      <th>Training Loss</th>\n",
       "      <th>Validation Loss</th>\n",
       "      <th>Accuracy</th>\n",
       "      <th>Precision</th>\n",
       "      <th>Recall</th>\n",
       "      <th>F1</th>\n",
       "    </tr>\n",
       "  </thead>\n",
       "  <tbody>\n",
       "    <tr>\n",
       "      <td>1</td>\n",
       "      <td>0.523800</td>\n",
       "      <td>0.172659</td>\n",
       "      <td>0.943200</td>\n",
       "      <td>0.945275</td>\n",
       "      <td>0.943411</td>\n",
       "      <td>0.943322</td>\n",
       "    </tr>\n",
       "    <tr>\n",
       "      <td>2</td>\n",
       "      <td>0.090100</td>\n",
       "      <td>0.124284</td>\n",
       "      <td>0.959600</td>\n",
       "      <td>0.960043</td>\n",
       "      <td>0.959880</td>\n",
       "      <td>0.959702</td>\n",
       "    </tr>\n",
       "    <tr>\n",
       "      <td>3</td>\n",
       "      <td>0.038700</td>\n",
       "      <td>0.121594</td>\n",
       "      <td>0.964100</td>\n",
       "      <td>0.964388</td>\n",
       "      <td>0.964264</td>\n",
       "      <td>0.964217</td>\n",
       "    </tr>\n",
       "    <tr>\n",
       "      <td>4</td>\n",
       "      <td>0.015700</td>\n",
       "      <td>0.130117</td>\n",
       "      <td>0.967400</td>\n",
       "      <td>0.967553</td>\n",
       "      <td>0.967521</td>\n",
       "      <td>0.967515</td>\n",
       "    </tr>\n",
       "    <tr>\n",
       "      <td>5</td>\n",
       "      <td>0.005100</td>\n",
       "      <td>0.139408</td>\n",
       "      <td>0.968200</td>\n",
       "      <td>0.968445</td>\n",
       "      <td>0.968262</td>\n",
       "      <td>0.968287</td>\n",
       "    </tr>\n",
       "    <tr>\n",
       "      <td>6</td>\n",
       "      <td>0.001700</td>\n",
       "      <td>0.139534</td>\n",
       "      <td>0.970700</td>\n",
       "      <td>0.970852</td>\n",
       "      <td>0.970789</td>\n",
       "      <td>0.970795</td>\n",
       "    </tr>\n",
       "    <tr>\n",
       "      <td>7</td>\n",
       "      <td>0.000700</td>\n",
       "      <td>0.138082</td>\n",
       "      <td>0.970500</td>\n",
       "      <td>0.970617</td>\n",
       "      <td>0.970608</td>\n",
       "      <td>0.970588</td>\n",
       "    </tr>\n",
       "  </tbody>\n",
       "</table><p>"
      ],
      "text/plain": [
       "<IPython.core.display.HTML object>"
      ]
     },
     "metadata": {},
     "output_type": "display_data"
    },
    {
     "name": "stderr",
     "output_type": "stream",
     "text": [
      "[I 2025-03-30 01:53:29,830] Trial 81 finished with value: 0.970587624728708 and parameters: {'learning_rate': 8.194846030220038e-05, 'weight_decay': 0.007, 'warmup_steps': 30}. Best is trial 67 with value: 0.9746290627725797.\n"
     ]
    },
    {
     "name": "stdout",
     "output_type": "stream",
     "text": [
      "Trial 82 with params: {'learning_rate': 0.0001986188637046071, 'weight_decay': 0.007, 'warmup_steps': 25}\n"
     ]
    },
    {
     "name": "stderr",
     "output_type": "stream",
     "text": [
      "Some weights of TimmWrapperForImageClassification were not initialized from the model checkpoint at timm/tiny_vit_5m_224.in1k and are newly initialized because the shapes did not match:\n",
      "- head.fc.bias: found shape torch.Size([1000]) in the checkpoint and torch.Size([10]) in the model instantiated\n",
      "- head.fc.weight: found shape torch.Size([1000, 320]) in the checkpoint and torch.Size([10, 320]) in the model instantiated\n",
      "You should probably TRAIN this model on a down-stream task to be able to use it for predictions and inference.\n"
     ]
    },
    {
     "data": {
      "text/html": [
       "\n",
       "    <div>\n",
       "      \n",
       "      <progress value='626' max='2191' style='width:300px; height:20px; vertical-align: middle;'></progress>\n",
       "      [ 626/2191 02:45 < 06:56, 3.76 it/s, Epoch 2/7]\n",
       "    </div>\n",
       "    <table border=\"1\" class=\"dataframe\">\n",
       "  <thead>\n",
       " <tr style=\"text-align: left;\">\n",
       "      <th>Epoch</th>\n",
       "      <th>Training Loss</th>\n",
       "      <th>Validation Loss</th>\n",
       "      <th>Accuracy</th>\n",
       "      <th>Precision</th>\n",
       "      <th>Recall</th>\n",
       "      <th>F1</th>\n",
       "    </tr>\n",
       "  </thead>\n",
       "  <tbody>\n",
       "    <tr>\n",
       "      <td>1</td>\n",
       "      <td>0.442700</td>\n",
       "      <td>0.210421</td>\n",
       "      <td>0.929800</td>\n",
       "      <td>0.934271</td>\n",
       "      <td>0.929868</td>\n",
       "      <td>0.930368</td>\n",
       "    </tr>\n",
       "    <tr>\n",
       "      <td>2</td>\n",
       "      <td>0.107100</td>\n",
       "      <td>0.151278</td>\n",
       "      <td>0.948800</td>\n",
       "      <td>0.951315</td>\n",
       "      <td>0.949032</td>\n",
       "      <td>0.949219</td>\n",
       "    </tr>\n",
       "  </tbody>\n",
       "</table><p>"
      ],
      "text/plain": [
       "<IPython.core.display.HTML object>"
      ]
     },
     "metadata": {},
     "output_type": "display_data"
    },
    {
     "name": "stderr",
     "output_type": "stream",
     "text": [
      "[I 2025-03-30 01:56:17,738] Trial 82 pruned. \n"
     ]
    },
    {
     "name": "stdout",
     "output_type": "stream",
     "text": [
      "Trial 83 with params: {'learning_rate': 5.380559807793641e-05, 'weight_decay': 0.007, 'warmup_steps': 26}\n"
     ]
    },
    {
     "name": "stderr",
     "output_type": "stream",
     "text": [
      "Some weights of TimmWrapperForImageClassification were not initialized from the model checkpoint at timm/tiny_vit_5m_224.in1k and are newly initialized because the shapes did not match:\n",
      "- head.fc.bias: found shape torch.Size([1000]) in the checkpoint and torch.Size([10]) in the model instantiated\n",
      "- head.fc.weight: found shape torch.Size([1000, 320]) in the checkpoint and torch.Size([10, 320]) in the model instantiated\n",
      "You should probably TRAIN this model on a down-stream task to be able to use it for predictions and inference.\n"
     ]
    },
    {
     "data": {
      "text/html": [
       "\n",
       "    <div>\n",
       "      \n",
       "      <progress value='2191' max='2191' style='width:300px; height:20px; vertical-align: middle;'></progress>\n",
       "      [2191/2191 09:44, Epoch 7/7]\n",
       "    </div>\n",
       "    <table border=\"1\" class=\"dataframe\">\n",
       "  <thead>\n",
       " <tr style=\"text-align: left;\">\n",
       "      <th>Epoch</th>\n",
       "      <th>Training Loss</th>\n",
       "      <th>Validation Loss</th>\n",
       "      <th>Accuracy</th>\n",
       "      <th>Precision</th>\n",
       "      <th>Recall</th>\n",
       "      <th>F1</th>\n",
       "    </tr>\n",
       "  </thead>\n",
       "  <tbody>\n",
       "    <tr>\n",
       "      <td>1</td>\n",
       "      <td>0.594900</td>\n",
       "      <td>0.183758</td>\n",
       "      <td>0.940900</td>\n",
       "      <td>0.943337</td>\n",
       "      <td>0.941075</td>\n",
       "      <td>0.941179</td>\n",
       "    </tr>\n",
       "    <tr>\n",
       "      <td>2</td>\n",
       "      <td>0.105100</td>\n",
       "      <td>0.122399</td>\n",
       "      <td>0.958700</td>\n",
       "      <td>0.959288</td>\n",
       "      <td>0.958904</td>\n",
       "      <td>0.958895</td>\n",
       "    </tr>\n",
       "    <tr>\n",
       "      <td>3</td>\n",
       "      <td>0.042600</td>\n",
       "      <td>0.123192</td>\n",
       "      <td>0.963100</td>\n",
       "      <td>0.963355</td>\n",
       "      <td>0.963218</td>\n",
       "      <td>0.963267</td>\n",
       "    </tr>\n",
       "    <tr>\n",
       "      <td>4</td>\n",
       "      <td>0.015000</td>\n",
       "      <td>0.133967</td>\n",
       "      <td>0.965200</td>\n",
       "      <td>0.965336</td>\n",
       "      <td>0.965435</td>\n",
       "      <td>0.965267</td>\n",
       "    </tr>\n",
       "    <tr>\n",
       "      <td>5</td>\n",
       "      <td>0.005600</td>\n",
       "      <td>0.135403</td>\n",
       "      <td>0.968600</td>\n",
       "      <td>0.968714</td>\n",
       "      <td>0.968770</td>\n",
       "      <td>0.968685</td>\n",
       "    </tr>\n",
       "    <tr>\n",
       "      <td>6</td>\n",
       "      <td>0.001800</td>\n",
       "      <td>0.138660</td>\n",
       "      <td>0.970600</td>\n",
       "      <td>0.970894</td>\n",
       "      <td>0.970696</td>\n",
       "      <td>0.970768</td>\n",
       "    </tr>\n",
       "    <tr>\n",
       "      <td>7</td>\n",
       "      <td>0.000600</td>\n",
       "      <td>0.138683</td>\n",
       "      <td>0.969900</td>\n",
       "      <td>0.970049</td>\n",
       "      <td>0.970040</td>\n",
       "      <td>0.970034</td>\n",
       "    </tr>\n",
       "  </tbody>\n",
       "</table><p>"
      ],
      "text/plain": [
       "<IPython.core.display.HTML object>"
      ]
     },
     "metadata": {},
     "output_type": "display_data"
    },
    {
     "name": "stderr",
     "output_type": "stream",
     "text": [
      "[I 2025-03-30 03:06:05,544] Trial 83 finished with value: 0.9700344276167805 and parameters: {'learning_rate': 5.380559807793641e-05, 'weight_decay': 0.007, 'warmup_steps': 26}. Best is trial 67 with value: 0.9746290627725797.\n"
     ]
    },
    {
     "name": "stdout",
     "output_type": "stream",
     "text": [
      "Trial 84 with params: {'learning_rate': 0.00017677589724360998, 'weight_decay': 0.007, 'warmup_steps': 29}\n"
     ]
    },
    {
     "name": "stderr",
     "output_type": "stream",
     "text": [
      "Some weights of TimmWrapperForImageClassification were not initialized from the model checkpoint at timm/tiny_vit_5m_224.in1k and are newly initialized because the shapes did not match:\n",
      "- head.fc.bias: found shape torch.Size([1000]) in the checkpoint and torch.Size([10]) in the model instantiated\n",
      "- head.fc.weight: found shape torch.Size([1000, 320]) in the checkpoint and torch.Size([10, 320]) in the model instantiated\n",
      "You should probably TRAIN this model on a down-stream task to be able to use it for predictions and inference.\n"
     ]
    },
    {
     "data": {
      "text/html": [
       "\n",
       "    <div>\n",
       "      \n",
       "      <progress value='626' max='2191' style='width:300px; height:20px; vertical-align: middle;'></progress>\n",
       "      [ 626/2191 02:45 < 06:55, 3.77 it/s, Epoch 2/7]\n",
       "    </div>\n",
       "    <table border=\"1\" class=\"dataframe\">\n",
       "  <thead>\n",
       " <tr style=\"text-align: left;\">\n",
       "      <th>Epoch</th>\n",
       "      <th>Training Loss</th>\n",
       "      <th>Validation Loss</th>\n",
       "      <th>Accuracy</th>\n",
       "      <th>Precision</th>\n",
       "      <th>Recall</th>\n",
       "      <th>F1</th>\n",
       "    </tr>\n",
       "  </thead>\n",
       "  <tbody>\n",
       "    <tr>\n",
       "      <td>1</td>\n",
       "      <td>0.445300</td>\n",
       "      <td>0.203578</td>\n",
       "      <td>0.933300</td>\n",
       "      <td>0.939881</td>\n",
       "      <td>0.933280</td>\n",
       "      <td>0.934452</td>\n",
       "    </tr>\n",
       "    <tr>\n",
       "      <td>2</td>\n",
       "      <td>0.105300</td>\n",
       "      <td>0.155676</td>\n",
       "      <td>0.949400</td>\n",
       "      <td>0.949931</td>\n",
       "      <td>0.949671</td>\n",
       "      <td>0.949516</td>\n",
       "    </tr>\n",
       "  </tbody>\n",
       "</table><p>"
      ],
      "text/plain": [
       "<IPython.core.display.HTML object>"
      ]
     },
     "metadata": {},
     "output_type": "display_data"
    },
    {
     "name": "stderr",
     "output_type": "stream",
     "text": [
      "[I 2025-03-30 03:08:53,037] Trial 84 pruned. \n"
     ]
    },
    {
     "name": "stdout",
     "output_type": "stream",
     "text": [
      "Trial 85 with params: {'learning_rate': 0.00011839895364819732, 'weight_decay': 0.008, 'warmup_steps': 25}\n"
     ]
    },
    {
     "name": "stderr",
     "output_type": "stream",
     "text": [
      "Some weights of TimmWrapperForImageClassification were not initialized from the model checkpoint at timm/tiny_vit_5m_224.in1k and are newly initialized because the shapes did not match:\n",
      "- head.fc.bias: found shape torch.Size([1000]) in the checkpoint and torch.Size([10]) in the model instantiated\n",
      "- head.fc.weight: found shape torch.Size([1000, 320]) in the checkpoint and torch.Size([10, 320]) in the model instantiated\n",
      "You should probably TRAIN this model on a down-stream task to be able to use it for predictions and inference.\n"
     ]
    },
    {
     "data": {
      "text/html": [
       "\n",
       "    <div>\n",
       "      \n",
       "      <progress value='2191' max='2191' style='width:300px; height:20px; vertical-align: middle;'></progress>\n",
       "      [2191/2191 09:47, Epoch 7/7]\n",
       "    </div>\n",
       "    <table border=\"1\" class=\"dataframe\">\n",
       "  <thead>\n",
       " <tr style=\"text-align: left;\">\n",
       "      <th>Epoch</th>\n",
       "      <th>Training Loss</th>\n",
       "      <th>Validation Loss</th>\n",
       "      <th>Accuracy</th>\n",
       "      <th>Precision</th>\n",
       "      <th>Recall</th>\n",
       "      <th>F1</th>\n",
       "    </tr>\n",
       "  </thead>\n",
       "  <tbody>\n",
       "    <tr>\n",
       "      <td>1</td>\n",
       "      <td>0.466900</td>\n",
       "      <td>0.182481</td>\n",
       "      <td>0.941400</td>\n",
       "      <td>0.944823</td>\n",
       "      <td>0.941621</td>\n",
       "      <td>0.941970</td>\n",
       "    </tr>\n",
       "    <tr>\n",
       "      <td>2</td>\n",
       "      <td>0.089400</td>\n",
       "      <td>0.135924</td>\n",
       "      <td>0.957100</td>\n",
       "      <td>0.957336</td>\n",
       "      <td>0.957382</td>\n",
       "      <td>0.957001</td>\n",
       "    </tr>\n",
       "    <tr>\n",
       "      <td>3</td>\n",
       "      <td>0.041400</td>\n",
       "      <td>0.114988</td>\n",
       "      <td>0.965600</td>\n",
       "      <td>0.965838</td>\n",
       "      <td>0.965772</td>\n",
       "      <td>0.965780</td>\n",
       "    </tr>\n",
       "    <tr>\n",
       "      <td>4</td>\n",
       "      <td>0.018700</td>\n",
       "      <td>0.122173</td>\n",
       "      <td>0.968700</td>\n",
       "      <td>0.968832</td>\n",
       "      <td>0.968860</td>\n",
       "      <td>0.968821</td>\n",
       "    </tr>\n",
       "    <tr>\n",
       "      <td>5</td>\n",
       "      <td>0.006500</td>\n",
       "      <td>0.129170</td>\n",
       "      <td>0.970100</td>\n",
       "      <td>0.970231</td>\n",
       "      <td>0.970276</td>\n",
       "      <td>0.970194</td>\n",
       "    </tr>\n",
       "    <tr>\n",
       "      <td>6</td>\n",
       "      <td>0.001800</td>\n",
       "      <td>0.126243</td>\n",
       "      <td>0.970900</td>\n",
       "      <td>0.971052</td>\n",
       "      <td>0.971007</td>\n",
       "      <td>0.971012</td>\n",
       "    </tr>\n",
       "    <tr>\n",
       "      <td>7</td>\n",
       "      <td>0.000700</td>\n",
       "      <td>0.124432</td>\n",
       "      <td>0.972000</td>\n",
       "      <td>0.972103</td>\n",
       "      <td>0.972158</td>\n",
       "      <td>0.972116</td>\n",
       "    </tr>\n",
       "  </tbody>\n",
       "</table><p>"
      ],
      "text/plain": [
       "<IPython.core.display.HTML object>"
      ]
     },
     "metadata": {},
     "output_type": "display_data"
    },
    {
     "name": "stderr",
     "output_type": "stream",
     "text": [
      "[I 2025-03-30 03:18:43,788] Trial 85 finished with value: 0.9721158721004268 and parameters: {'learning_rate': 0.00011839895364819732, 'weight_decay': 0.008, 'warmup_steps': 25}. Best is trial 67 with value: 0.9746290627725797.\n"
     ]
    },
    {
     "name": "stdout",
     "output_type": "stream",
     "text": [
      "Trial 86 with params: {'learning_rate': 0.0002597113179487162, 'weight_decay': 0.01, 'warmup_steps': 6}\n"
     ]
    },
    {
     "name": "stderr",
     "output_type": "stream",
     "text": [
      "Some weights of TimmWrapperForImageClassification were not initialized from the model checkpoint at timm/tiny_vit_5m_224.in1k and are newly initialized because the shapes did not match:\n",
      "- head.fc.bias: found shape torch.Size([1000]) in the checkpoint and torch.Size([10]) in the model instantiated\n",
      "- head.fc.weight: found shape torch.Size([1000, 320]) in the checkpoint and torch.Size([10, 320]) in the model instantiated\n",
      "You should probably TRAIN this model on a down-stream task to be able to use it for predictions and inference.\n"
     ]
    },
    {
     "data": {
      "text/html": [
       "\n",
       "    <div>\n",
       "      \n",
       "      <progress value='626' max='2191' style='width:300px; height:20px; vertical-align: middle;'></progress>\n",
       "      [ 626/2191 02:44 < 06:53, 3.79 it/s, Epoch 2/7]\n",
       "    </div>\n",
       "    <table border=\"1\" class=\"dataframe\">\n",
       "  <thead>\n",
       " <tr style=\"text-align: left;\">\n",
       "      <th>Epoch</th>\n",
       "      <th>Training Loss</th>\n",
       "      <th>Validation Loss</th>\n",
       "      <th>Accuracy</th>\n",
       "      <th>Precision</th>\n",
       "      <th>Recall</th>\n",
       "      <th>F1</th>\n",
       "    </tr>\n",
       "  </thead>\n",
       "  <tbody>\n",
       "    <tr>\n",
       "      <td>1</td>\n",
       "      <td>0.386100</td>\n",
       "      <td>0.255988</td>\n",
       "      <td>0.918300</td>\n",
       "      <td>0.924961</td>\n",
       "      <td>0.918852</td>\n",
       "      <td>0.918700</td>\n",
       "    </tr>\n",
       "    <tr>\n",
       "      <td>2</td>\n",
       "      <td>0.128100</td>\n",
       "      <td>0.153887</td>\n",
       "      <td>0.945900</td>\n",
       "      <td>0.948216</td>\n",
       "      <td>0.946154</td>\n",
       "      <td>0.946101</td>\n",
       "    </tr>\n",
       "  </tbody>\n",
       "</table><p>"
      ],
      "text/plain": [
       "<IPython.core.display.HTML object>"
      ]
     },
     "metadata": {},
     "output_type": "display_data"
    },
    {
     "name": "stderr",
     "output_type": "stream",
     "text": [
      "[I 2025-03-30 03:21:30,384] Trial 86 pruned. \n"
     ]
    },
    {
     "name": "stdout",
     "output_type": "stream",
     "text": [
      "Trial 87 with params: {'learning_rate': 8.810867924200206e-05, 'weight_decay': 0.006, 'warmup_steps': 26}\n"
     ]
    },
    {
     "name": "stderr",
     "output_type": "stream",
     "text": [
      "Some weights of TimmWrapperForImageClassification were not initialized from the model checkpoint at timm/tiny_vit_5m_224.in1k and are newly initialized because the shapes did not match:\n",
      "- head.fc.bias: found shape torch.Size([1000]) in the checkpoint and torch.Size([10]) in the model instantiated\n",
      "- head.fc.weight: found shape torch.Size([1000, 320]) in the checkpoint and torch.Size([10, 320]) in the model instantiated\n",
      "You should probably TRAIN this model on a down-stream task to be able to use it for predictions and inference.\n"
     ]
    },
    {
     "data": {
      "text/html": [
       "\n",
       "    <div>\n",
       "      \n",
       "      <progress value='2191' max='2191' style='width:300px; height:20px; vertical-align: middle;'></progress>\n",
       "      [2191/2191 09:39, Epoch 7/7]\n",
       "    </div>\n",
       "    <table border=\"1\" class=\"dataframe\">\n",
       "  <thead>\n",
       " <tr style=\"text-align: left;\">\n",
       "      <th>Epoch</th>\n",
       "      <th>Training Loss</th>\n",
       "      <th>Validation Loss</th>\n",
       "      <th>Accuracy</th>\n",
       "      <th>Precision</th>\n",
       "      <th>Recall</th>\n",
       "      <th>F1</th>\n",
       "    </tr>\n",
       "  </thead>\n",
       "  <tbody>\n",
       "    <tr>\n",
       "      <td>1</td>\n",
       "      <td>0.504600</td>\n",
       "      <td>0.158865</td>\n",
       "      <td>0.947100</td>\n",
       "      <td>0.948808</td>\n",
       "      <td>0.947287</td>\n",
       "      <td>0.947466</td>\n",
       "    </tr>\n",
       "    <tr>\n",
       "      <td>2</td>\n",
       "      <td>0.089400</td>\n",
       "      <td>0.115137</td>\n",
       "      <td>0.963300</td>\n",
       "      <td>0.963811</td>\n",
       "      <td>0.963436</td>\n",
       "      <td>0.963496</td>\n",
       "    </tr>\n",
       "    <tr>\n",
       "      <td>3</td>\n",
       "      <td>0.039900</td>\n",
       "      <td>0.124236</td>\n",
       "      <td>0.964100</td>\n",
       "      <td>0.965033</td>\n",
       "      <td>0.964235</td>\n",
       "      <td>0.964280</td>\n",
       "    </tr>\n",
       "    <tr>\n",
       "      <td>4</td>\n",
       "      <td>0.016500</td>\n",
       "      <td>0.119988</td>\n",
       "      <td>0.969700</td>\n",
       "      <td>0.969858</td>\n",
       "      <td>0.969838</td>\n",
       "      <td>0.969794</td>\n",
       "    </tr>\n",
       "    <tr>\n",
       "      <td>5</td>\n",
       "      <td>0.005200</td>\n",
       "      <td>0.133180</td>\n",
       "      <td>0.970600</td>\n",
       "      <td>0.970870</td>\n",
       "      <td>0.970734</td>\n",
       "      <td>0.970732</td>\n",
       "    </tr>\n",
       "    <tr>\n",
       "      <td>6</td>\n",
       "      <td>0.001400</td>\n",
       "      <td>0.130003</td>\n",
       "      <td>0.973200</td>\n",
       "      <td>0.973439</td>\n",
       "      <td>0.973266</td>\n",
       "      <td>0.973339</td>\n",
       "    </tr>\n",
       "    <tr>\n",
       "      <td>7</td>\n",
       "      <td>0.000500</td>\n",
       "      <td>0.132448</td>\n",
       "      <td>0.973000</td>\n",
       "      <td>0.973143</td>\n",
       "      <td>0.973104</td>\n",
       "      <td>0.973117</td>\n",
       "    </tr>\n",
       "  </tbody>\n",
       "</table><p>"
      ],
      "text/plain": [
       "<IPython.core.display.HTML object>"
      ]
     },
     "metadata": {},
     "output_type": "display_data"
    },
    {
     "name": "stderr",
     "output_type": "stream",
     "text": [
      "[I 2025-03-30 03:31:12,459] Trial 87 finished with value: 0.9731167875703608 and parameters: {'learning_rate': 8.810867924200206e-05, 'weight_decay': 0.006, 'warmup_steps': 26}. Best is trial 67 with value: 0.9746290627725797.\n"
     ]
    },
    {
     "name": "stdout",
     "output_type": "stream",
     "text": [
      "Trial 88 with params: {'learning_rate': 0.00010532808384570563, 'weight_decay': 0.003, 'warmup_steps': 18}\n"
     ]
    },
    {
     "name": "stderr",
     "output_type": "stream",
     "text": [
      "Some weights of TimmWrapperForImageClassification were not initialized from the model checkpoint at timm/tiny_vit_5m_224.in1k and are newly initialized because the shapes did not match:\n",
      "- head.fc.bias: found shape torch.Size([1000]) in the checkpoint and torch.Size([10]) in the model instantiated\n",
      "- head.fc.weight: found shape torch.Size([1000, 320]) in the checkpoint and torch.Size([10, 320]) in the model instantiated\n",
      "You should probably TRAIN this model on a down-stream task to be able to use it for predictions and inference.\n"
     ]
    },
    {
     "data": {
      "text/html": [
       "\n",
       "    <div>\n",
       "      \n",
       "      <progress value='2191' max='2191' style='width:300px; height:20px; vertical-align: middle;'></progress>\n",
       "      [2191/2191 10:09, Epoch 7/7]\n",
       "    </div>\n",
       "    <table border=\"1\" class=\"dataframe\">\n",
       "  <thead>\n",
       " <tr style=\"text-align: left;\">\n",
       "      <th>Epoch</th>\n",
       "      <th>Training Loss</th>\n",
       "      <th>Validation Loss</th>\n",
       "      <th>Accuracy</th>\n",
       "      <th>Precision</th>\n",
       "      <th>Recall</th>\n",
       "      <th>F1</th>\n",
       "    </tr>\n",
       "  </thead>\n",
       "  <tbody>\n",
       "    <tr>\n",
       "      <td>1</td>\n",
       "      <td>0.453700</td>\n",
       "      <td>0.161396</td>\n",
       "      <td>0.947800</td>\n",
       "      <td>0.950757</td>\n",
       "      <td>0.947878</td>\n",
       "      <td>0.948341</td>\n",
       "    </tr>\n",
       "    <tr>\n",
       "      <td>2</td>\n",
       "      <td>0.090400</td>\n",
       "      <td>0.116728</td>\n",
       "      <td>0.961300</td>\n",
       "      <td>0.961792</td>\n",
       "      <td>0.961423</td>\n",
       "      <td>0.961526</td>\n",
       "    </tr>\n",
       "    <tr>\n",
       "      <td>3</td>\n",
       "      <td>0.039400</td>\n",
       "      <td>0.117158</td>\n",
       "      <td>0.965300</td>\n",
       "      <td>0.965646</td>\n",
       "      <td>0.965448</td>\n",
       "      <td>0.965382</td>\n",
       "    </tr>\n",
       "    <tr>\n",
       "      <td>4</td>\n",
       "      <td>0.017100</td>\n",
       "      <td>0.125920</td>\n",
       "      <td>0.968200</td>\n",
       "      <td>0.968345</td>\n",
       "      <td>0.968421</td>\n",
       "      <td>0.968288</td>\n",
       "    </tr>\n",
       "    <tr>\n",
       "      <td>5</td>\n",
       "      <td>0.006600</td>\n",
       "      <td>0.128168</td>\n",
       "      <td>0.968500</td>\n",
       "      <td>0.968847</td>\n",
       "      <td>0.968590</td>\n",
       "      <td>0.968684</td>\n",
       "    </tr>\n",
       "    <tr>\n",
       "      <td>6</td>\n",
       "      <td>0.001800</td>\n",
       "      <td>0.126169</td>\n",
       "      <td>0.971600</td>\n",
       "      <td>0.971886</td>\n",
       "      <td>0.971687</td>\n",
       "      <td>0.971749</td>\n",
       "    </tr>\n",
       "    <tr>\n",
       "      <td>7</td>\n",
       "      <td>0.000700</td>\n",
       "      <td>0.124042</td>\n",
       "      <td>0.972400</td>\n",
       "      <td>0.972574</td>\n",
       "      <td>0.972520</td>\n",
       "      <td>0.972522</td>\n",
       "    </tr>\n",
       "  </tbody>\n",
       "</table><p>"
      ],
      "text/plain": [
       "<IPython.core.display.HTML object>"
      ]
     },
     "metadata": {},
     "output_type": "display_data"
    },
    {
     "name": "stderr",
     "output_type": "stream",
     "text": [
      "[I 2025-03-30 03:41:24,416] Trial 88 finished with value: 0.9725216660618647 and parameters: {'learning_rate': 0.00010532808384570563, 'weight_decay': 0.003, 'warmup_steps': 18}. Best is trial 67 with value: 0.9746290627725797.\n"
     ]
    },
    {
     "name": "stdout",
     "output_type": "stream",
     "text": [
      "Trial 89 with params: {'learning_rate': 9.02154822352379e-05, 'weight_decay': 0.006, 'warmup_steps': 24}\n"
     ]
    },
    {
     "name": "stderr",
     "output_type": "stream",
     "text": [
      "Some weights of TimmWrapperForImageClassification were not initialized from the model checkpoint at timm/tiny_vit_5m_224.in1k and are newly initialized because the shapes did not match:\n",
      "- head.fc.bias: found shape torch.Size([1000]) in the checkpoint and torch.Size([10]) in the model instantiated\n",
      "- head.fc.weight: found shape torch.Size([1000, 320]) in the checkpoint and torch.Size([10, 320]) in the model instantiated\n",
      "You should probably TRAIN this model on a down-stream task to be able to use it for predictions and inference.\n"
     ]
    },
    {
     "data": {
      "text/html": [
       "\n",
       "    <div>\n",
       "      \n",
       "      <progress value='2191' max='2191' style='width:300px; height:20px; vertical-align: middle;'></progress>\n",
       "      [2191/2191 09:39, Epoch 7/7]\n",
       "    </div>\n",
       "    <table border=\"1\" class=\"dataframe\">\n",
       "  <thead>\n",
       " <tr style=\"text-align: left;\">\n",
       "      <th>Epoch</th>\n",
       "      <th>Training Loss</th>\n",
       "      <th>Validation Loss</th>\n",
       "      <th>Accuracy</th>\n",
       "      <th>Precision</th>\n",
       "      <th>Recall</th>\n",
       "      <th>F1</th>\n",
       "    </tr>\n",
       "  </thead>\n",
       "  <tbody>\n",
       "    <tr>\n",
       "      <td>1</td>\n",
       "      <td>0.495900</td>\n",
       "      <td>0.152440</td>\n",
       "      <td>0.949700</td>\n",
       "      <td>0.951645</td>\n",
       "      <td>0.949748</td>\n",
       "      <td>0.950114</td>\n",
       "    </tr>\n",
       "    <tr>\n",
       "      <td>2</td>\n",
       "      <td>0.094000</td>\n",
       "      <td>0.120436</td>\n",
       "      <td>0.960800</td>\n",
       "      <td>0.961247</td>\n",
       "      <td>0.960891</td>\n",
       "      <td>0.960993</td>\n",
       "    </tr>\n",
       "    <tr>\n",
       "      <td>3</td>\n",
       "      <td>0.043200</td>\n",
       "      <td>0.123506</td>\n",
       "      <td>0.965900</td>\n",
       "      <td>0.966203</td>\n",
       "      <td>0.966028</td>\n",
       "      <td>0.966023</td>\n",
       "    </tr>\n",
       "    <tr>\n",
       "      <td>4</td>\n",
       "      <td>0.018200</td>\n",
       "      <td>0.129197</td>\n",
       "      <td>0.967100</td>\n",
       "      <td>0.967468</td>\n",
       "      <td>0.967270</td>\n",
       "      <td>0.967214</td>\n",
       "    </tr>\n",
       "    <tr>\n",
       "      <td>5</td>\n",
       "      <td>0.006200</td>\n",
       "      <td>0.136298</td>\n",
       "      <td>0.967900</td>\n",
       "      <td>0.968166</td>\n",
       "      <td>0.968022</td>\n",
       "      <td>0.968022</td>\n",
       "    </tr>\n",
       "    <tr>\n",
       "      <td>6</td>\n",
       "      <td>0.001400</td>\n",
       "      <td>0.130983</td>\n",
       "      <td>0.971500</td>\n",
       "      <td>0.971690</td>\n",
       "      <td>0.971674</td>\n",
       "      <td>0.971654</td>\n",
       "    </tr>\n",
       "    <tr>\n",
       "      <td>7</td>\n",
       "      <td>0.000500</td>\n",
       "      <td>0.128676</td>\n",
       "      <td>0.970900</td>\n",
       "      <td>0.971079</td>\n",
       "      <td>0.971025</td>\n",
       "      <td>0.971044</td>\n",
       "    </tr>\n",
       "  </tbody>\n",
       "</table><p>"
      ],
      "text/plain": [
       "<IPython.core.display.HTML object>"
      ]
     },
     "metadata": {},
     "output_type": "display_data"
    },
    {
     "name": "stderr",
     "output_type": "stream",
     "text": [
      "[I 2025-03-30 03:51:06,458] Trial 89 finished with value: 0.9710441023231715 and parameters: {'learning_rate': 9.02154822352379e-05, 'weight_decay': 0.006, 'warmup_steps': 24}. Best is trial 67 with value: 0.9746290627725797.\n"
     ]
    },
    {
     "name": "stdout",
     "output_type": "stream",
     "text": [
      "Trial 90 with params: {'learning_rate': 0.0005558154008655438, 'weight_decay': 0.006, 'warmup_steps': 25}\n"
     ]
    },
    {
     "name": "stderr",
     "output_type": "stream",
     "text": [
      "Some weights of TimmWrapperForImageClassification were not initialized from the model checkpoint at timm/tiny_vit_5m_224.in1k and are newly initialized because the shapes did not match:\n",
      "- head.fc.bias: found shape torch.Size([1000]) in the checkpoint and torch.Size([10]) in the model instantiated\n",
      "- head.fc.weight: found shape torch.Size([1000, 320]) in the checkpoint and torch.Size([10, 320]) in the model instantiated\n",
      "You should probably TRAIN this model on a down-stream task to be able to use it for predictions and inference.\n"
     ]
    },
    {
     "data": {
      "text/html": [
       "\n",
       "    <div>\n",
       "      \n",
       "      <progress value='626' max='2191' style='width:300px; height:20px; vertical-align: middle;'></progress>\n",
       "      [ 626/2191 02:44 < 06:51, 3.80 it/s, Epoch 2/7]\n",
       "    </div>\n",
       "    <table border=\"1\" class=\"dataframe\">\n",
       "  <thead>\n",
       " <tr style=\"text-align: left;\">\n",
       "      <th>Epoch</th>\n",
       "      <th>Training Loss</th>\n",
       "      <th>Validation Loss</th>\n",
       "      <th>Accuracy</th>\n",
       "      <th>Precision</th>\n",
       "      <th>Recall</th>\n",
       "      <th>F1</th>\n",
       "    </tr>\n",
       "  </thead>\n",
       "  <tbody>\n",
       "    <tr>\n",
       "      <td>1</td>\n",
       "      <td>0.520200</td>\n",
       "      <td>0.316410</td>\n",
       "      <td>0.895600</td>\n",
       "      <td>0.908271</td>\n",
       "      <td>0.895688</td>\n",
       "      <td>0.896819</td>\n",
       "    </tr>\n",
       "    <tr>\n",
       "      <td>2</td>\n",
       "      <td>0.214800</td>\n",
       "      <td>0.236014</td>\n",
       "      <td>0.919200</td>\n",
       "      <td>0.921985</td>\n",
       "      <td>0.919682</td>\n",
       "      <td>0.918001</td>\n",
       "    </tr>\n",
       "  </tbody>\n",
       "</table><p>"
      ],
      "text/plain": [
       "<IPython.core.display.HTML object>"
      ]
     },
     "metadata": {},
     "output_type": "display_data"
    },
    {
     "name": "stderr",
     "output_type": "stream",
     "text": [
      "[I 2025-03-30 03:53:52,329] Trial 90 pruned. \n"
     ]
    },
    {
     "name": "stdout",
     "output_type": "stream",
     "text": [
      "Trial 91 with params: {'learning_rate': 0.00010109337133292047, 'weight_decay': 0.006, 'warmup_steps': 26}\n"
     ]
    },
    {
     "name": "stderr",
     "output_type": "stream",
     "text": [
      "Some weights of TimmWrapperForImageClassification were not initialized from the model checkpoint at timm/tiny_vit_5m_224.in1k and are newly initialized because the shapes did not match:\n",
      "- head.fc.bias: found shape torch.Size([1000]) in the checkpoint and torch.Size([10]) in the model instantiated\n",
      "- head.fc.weight: found shape torch.Size([1000, 320]) in the checkpoint and torch.Size([10, 320]) in the model instantiated\n",
      "You should probably TRAIN this model on a down-stream task to be able to use it for predictions and inference.\n"
     ]
    },
    {
     "data": {
      "text/html": [
       "\n",
       "    <div>\n",
       "      \n",
       "      <progress value='2191' max='2191' style='width:300px; height:20px; vertical-align: middle;'></progress>\n",
       "      [2191/2191 09:40, Epoch 7/7]\n",
       "    </div>\n",
       "    <table border=\"1\" class=\"dataframe\">\n",
       "  <thead>\n",
       " <tr style=\"text-align: left;\">\n",
       "      <th>Epoch</th>\n",
       "      <th>Training Loss</th>\n",
       "      <th>Validation Loss</th>\n",
       "      <th>Accuracy</th>\n",
       "      <th>Precision</th>\n",
       "      <th>Recall</th>\n",
       "      <th>F1</th>\n",
       "    </tr>\n",
       "  </thead>\n",
       "  <tbody>\n",
       "    <tr>\n",
       "      <td>1</td>\n",
       "      <td>0.469300</td>\n",
       "      <td>0.181072</td>\n",
       "      <td>0.937900</td>\n",
       "      <td>0.943620</td>\n",
       "      <td>0.937973</td>\n",
       "      <td>0.938952</td>\n",
       "    </tr>\n",
       "    <tr>\n",
       "      <td>2</td>\n",
       "      <td>0.088200</td>\n",
       "      <td>0.136194</td>\n",
       "      <td>0.956800</td>\n",
       "      <td>0.957225</td>\n",
       "      <td>0.957060</td>\n",
       "      <td>0.956862</td>\n",
       "    </tr>\n",
       "    <tr>\n",
       "      <td>3</td>\n",
       "      <td>0.040000</td>\n",
       "      <td>0.116333</td>\n",
       "      <td>0.964000</td>\n",
       "      <td>0.964330</td>\n",
       "      <td>0.964152</td>\n",
       "      <td>0.964192</td>\n",
       "    </tr>\n",
       "    <tr>\n",
       "      <td>4</td>\n",
       "      <td>0.015500</td>\n",
       "      <td>0.126719</td>\n",
       "      <td>0.967800</td>\n",
       "      <td>0.967956</td>\n",
       "      <td>0.967943</td>\n",
       "      <td>0.967907</td>\n",
       "    </tr>\n",
       "    <tr>\n",
       "      <td>5</td>\n",
       "      <td>0.005800</td>\n",
       "      <td>0.133262</td>\n",
       "      <td>0.969400</td>\n",
       "      <td>0.969698</td>\n",
       "      <td>0.969508</td>\n",
       "      <td>0.969534</td>\n",
       "    </tr>\n",
       "    <tr>\n",
       "      <td>6</td>\n",
       "      <td>0.001600</td>\n",
       "      <td>0.129357</td>\n",
       "      <td>0.971400</td>\n",
       "      <td>0.971797</td>\n",
       "      <td>0.971458</td>\n",
       "      <td>0.971572</td>\n",
       "    </tr>\n",
       "    <tr>\n",
       "      <td>7</td>\n",
       "      <td>0.000500</td>\n",
       "      <td>0.128628</td>\n",
       "      <td>0.972800</td>\n",
       "      <td>0.972969</td>\n",
       "      <td>0.972927</td>\n",
       "      <td>0.972935</td>\n",
       "    </tr>\n",
       "  </tbody>\n",
       "</table><p>"
      ],
      "text/plain": [
       "<IPython.core.display.HTML object>"
      ]
     },
     "metadata": {},
     "output_type": "display_data"
    },
    {
     "name": "stderr",
     "output_type": "stream",
     "text": [
      "[I 2025-03-30 04:03:36,367] Trial 91 finished with value: 0.9729347451315938 and parameters: {'learning_rate': 0.00010109337133292047, 'weight_decay': 0.006, 'warmup_steps': 26}. Best is trial 67 with value: 0.9746290627725797.\n"
     ]
    },
    {
     "name": "stdout",
     "output_type": "stream",
     "text": [
      "Trial 92 with params: {'learning_rate': 6.965676100182774e-05, 'weight_decay': 0.006, 'warmup_steps': 29}\n"
     ]
    },
    {
     "name": "stderr",
     "output_type": "stream",
     "text": [
      "Some weights of TimmWrapperForImageClassification were not initialized from the model checkpoint at timm/tiny_vit_5m_224.in1k and are newly initialized because the shapes did not match:\n",
      "- head.fc.bias: found shape torch.Size([1000]) in the checkpoint and torch.Size([10]) in the model instantiated\n",
      "- head.fc.weight: found shape torch.Size([1000, 320]) in the checkpoint and torch.Size([10, 320]) in the model instantiated\n",
      "You should probably TRAIN this model on a down-stream task to be able to use it for predictions and inference.\n"
     ]
    },
    {
     "data": {
      "text/html": [
       "\n",
       "    <div>\n",
       "      \n",
       "      <progress value='2191' max='2191' style='width:300px; height:20px; vertical-align: middle;'></progress>\n",
       "      [2191/2191 09:42, Epoch 7/7]\n",
       "    </div>\n",
       "    <table border=\"1\" class=\"dataframe\">\n",
       "  <thead>\n",
       " <tr style=\"text-align: left;\">\n",
       "      <th>Epoch</th>\n",
       "      <th>Training Loss</th>\n",
       "      <th>Validation Loss</th>\n",
       "      <th>Accuracy</th>\n",
       "      <th>Precision</th>\n",
       "      <th>Recall</th>\n",
       "      <th>F1</th>\n",
       "    </tr>\n",
       "  </thead>\n",
       "  <tbody>\n",
       "    <tr>\n",
       "      <td>1</td>\n",
       "      <td>0.539400</td>\n",
       "      <td>0.155437</td>\n",
       "      <td>0.950000</td>\n",
       "      <td>0.951823</td>\n",
       "      <td>0.950035</td>\n",
       "      <td>0.950433</td>\n",
       "    </tr>\n",
       "    <tr>\n",
       "      <td>2</td>\n",
       "      <td>0.093100</td>\n",
       "      <td>0.119745</td>\n",
       "      <td>0.961500</td>\n",
       "      <td>0.961880</td>\n",
       "      <td>0.961575</td>\n",
       "      <td>0.961651</td>\n",
       "    </tr>\n",
       "    <tr>\n",
       "      <td>3</td>\n",
       "      <td>0.042200</td>\n",
       "      <td>0.113075</td>\n",
       "      <td>0.966500</td>\n",
       "      <td>0.966632</td>\n",
       "      <td>0.966612</td>\n",
       "      <td>0.966589</td>\n",
       "    </tr>\n",
       "    <tr>\n",
       "      <td>4</td>\n",
       "      <td>0.016300</td>\n",
       "      <td>0.131795</td>\n",
       "      <td>0.967200</td>\n",
       "      <td>0.967514</td>\n",
       "      <td>0.967297</td>\n",
       "      <td>0.967366</td>\n",
       "    </tr>\n",
       "    <tr>\n",
       "      <td>5</td>\n",
       "      <td>0.006300</td>\n",
       "      <td>0.141808</td>\n",
       "      <td>0.969800</td>\n",
       "      <td>0.969959</td>\n",
       "      <td>0.969887</td>\n",
       "      <td>0.969885</td>\n",
       "    </tr>\n",
       "    <tr>\n",
       "      <td>6</td>\n",
       "      <td>0.002400</td>\n",
       "      <td>0.140139</td>\n",
       "      <td>0.970500</td>\n",
       "      <td>0.970658</td>\n",
       "      <td>0.970597</td>\n",
       "      <td>0.970617</td>\n",
       "    </tr>\n",
       "    <tr>\n",
       "      <td>7</td>\n",
       "      <td>0.000800</td>\n",
       "      <td>0.142113</td>\n",
       "      <td>0.969700</td>\n",
       "      <td>0.969754</td>\n",
       "      <td>0.969819</td>\n",
       "      <td>0.969762</td>\n",
       "    </tr>\n",
       "  </tbody>\n",
       "</table><p>"
      ],
      "text/plain": [
       "<IPython.core.display.HTML object>"
      ]
     },
     "metadata": {},
     "output_type": "display_data"
    },
    {
     "name": "stderr",
     "output_type": "stream",
     "text": [
      "[I 2025-03-30 04:13:21,778] Trial 92 finished with value: 0.9697620985698204 and parameters: {'learning_rate': 6.965676100182774e-05, 'weight_decay': 0.006, 'warmup_steps': 29}. Best is trial 67 with value: 0.9746290627725797.\n"
     ]
    },
    {
     "name": "stdout",
     "output_type": "stream",
     "text": [
      "Trial 93 with params: {'learning_rate': 0.00014386945094024955, 'weight_decay': 0.007, 'warmup_steps': 22}\n"
     ]
    },
    {
     "name": "stderr",
     "output_type": "stream",
     "text": [
      "Some weights of TimmWrapperForImageClassification were not initialized from the model checkpoint at timm/tiny_vit_5m_224.in1k and are newly initialized because the shapes did not match:\n",
      "- head.fc.bias: found shape torch.Size([1000]) in the checkpoint and torch.Size([10]) in the model instantiated\n",
      "- head.fc.weight: found shape torch.Size([1000, 320]) in the checkpoint and torch.Size([10, 320]) in the model instantiated\n",
      "You should probably TRAIN this model on a down-stream task to be able to use it for predictions and inference.\n"
     ]
    },
    {
     "data": {
      "text/html": [
       "\n",
       "    <div>\n",
       "      \n",
       "      <progress value='1252' max='2191' style='width:300px; height:20px; vertical-align: middle;'></progress>\n",
       "      [1252/2191 05:31 < 04:08, 3.78 it/s, Epoch 4/7]\n",
       "    </div>\n",
       "    <table border=\"1\" class=\"dataframe\">\n",
       "  <thead>\n",
       " <tr style=\"text-align: left;\">\n",
       "      <th>Epoch</th>\n",
       "      <th>Training Loss</th>\n",
       "      <th>Validation Loss</th>\n",
       "      <th>Accuracy</th>\n",
       "      <th>Precision</th>\n",
       "      <th>Recall</th>\n",
       "      <th>F1</th>\n",
       "    </tr>\n",
       "  </thead>\n",
       "  <tbody>\n",
       "    <tr>\n",
       "      <td>1</td>\n",
       "      <td>0.438400</td>\n",
       "      <td>0.196651</td>\n",
       "      <td>0.934700</td>\n",
       "      <td>0.939447</td>\n",
       "      <td>0.934881</td>\n",
       "      <td>0.935347</td>\n",
       "    </tr>\n",
       "    <tr>\n",
       "      <td>2</td>\n",
       "      <td>0.099600</td>\n",
       "      <td>0.143961</td>\n",
       "      <td>0.952900</td>\n",
       "      <td>0.954151</td>\n",
       "      <td>0.952991</td>\n",
       "      <td>0.953088</td>\n",
       "    </tr>\n",
       "    <tr>\n",
       "      <td>3</td>\n",
       "      <td>0.045600</td>\n",
       "      <td>0.120739</td>\n",
       "      <td>0.964800</td>\n",
       "      <td>0.964979</td>\n",
       "      <td>0.965020</td>\n",
       "      <td>0.964954</td>\n",
       "    </tr>\n",
       "    <tr>\n",
       "      <td>4</td>\n",
       "      <td>0.021200</td>\n",
       "      <td>0.137572</td>\n",
       "      <td>0.964700</td>\n",
       "      <td>0.965468</td>\n",
       "      <td>0.964909</td>\n",
       "      <td>0.964779</td>\n",
       "    </tr>\n",
       "  </tbody>\n",
       "</table><p>"
      ],
      "text/plain": [
       "<IPython.core.display.HTML object>"
      ]
     },
     "metadata": {},
     "output_type": "display_data"
    },
    {
     "name": "stderr",
     "output_type": "stream",
     "text": [
      "[I 2025-03-30 04:18:54,750] Trial 93 pruned. \n"
     ]
    },
    {
     "name": "stdout",
     "output_type": "stream",
     "text": [
      "Trial 94 with params: {'learning_rate': 0.0002009904356943865, 'weight_decay': 0.008, 'warmup_steps': 32}\n"
     ]
    },
    {
     "name": "stderr",
     "output_type": "stream",
     "text": [
      "Some weights of TimmWrapperForImageClassification were not initialized from the model checkpoint at timm/tiny_vit_5m_224.in1k and are newly initialized because the shapes did not match:\n",
      "- head.fc.bias: found shape torch.Size([1000]) in the checkpoint and torch.Size([10]) in the model instantiated\n",
      "- head.fc.weight: found shape torch.Size([1000, 320]) in the checkpoint and torch.Size([10, 320]) in the model instantiated\n",
      "You should probably TRAIN this model on a down-stream task to be able to use it for predictions and inference.\n"
     ]
    },
    {
     "data": {
      "text/html": [
       "\n",
       "    <div>\n",
       "      \n",
       "      <progress value='626' max='2191' style='width:300px; height:20px; vertical-align: middle;'></progress>\n",
       "      [ 626/2191 02:54 < 07:18, 3.57 it/s, Epoch 2/7]\n",
       "    </div>\n",
       "    <table border=\"1\" class=\"dataframe\">\n",
       "  <thead>\n",
       " <tr style=\"text-align: left;\">\n",
       "      <th>Epoch</th>\n",
       "      <th>Training Loss</th>\n",
       "      <th>Validation Loss</th>\n",
       "      <th>Accuracy</th>\n",
       "      <th>Precision</th>\n",
       "      <th>Recall</th>\n",
       "      <th>F1</th>\n",
       "    </tr>\n",
       "  </thead>\n",
       "  <tbody>\n",
       "    <tr>\n",
       "      <td>1</td>\n",
       "      <td>0.463500</td>\n",
       "      <td>0.192116</td>\n",
       "      <td>0.937800</td>\n",
       "      <td>0.940142</td>\n",
       "      <td>0.937821</td>\n",
       "      <td>0.938123</td>\n",
       "    </tr>\n",
       "    <tr>\n",
       "      <td>2</td>\n",
       "      <td>0.111200</td>\n",
       "      <td>0.168058</td>\n",
       "      <td>0.944200</td>\n",
       "      <td>0.945296</td>\n",
       "      <td>0.944647</td>\n",
       "      <td>0.943987</td>\n",
       "    </tr>\n",
       "  </tbody>\n",
       "</table><p>"
      ],
      "text/plain": [
       "<IPython.core.display.HTML object>"
      ]
     },
     "metadata": {},
     "output_type": "display_data"
    },
    {
     "name": "stderr",
     "output_type": "stream",
     "text": [
      "[I 2025-03-30 04:21:51,830] Trial 94 pruned. \n"
     ]
    },
    {
     "name": "stdout",
     "output_type": "stream",
     "text": [
      "Trial 95 with params: {'learning_rate': 8.952659244058166e-05, 'weight_decay': 0.007, 'warmup_steps': 27}\n"
     ]
    },
    {
     "name": "stderr",
     "output_type": "stream",
     "text": [
      "Some weights of TimmWrapperForImageClassification were not initialized from the model checkpoint at timm/tiny_vit_5m_224.in1k and are newly initialized because the shapes did not match:\n",
      "- head.fc.bias: found shape torch.Size([1000]) in the checkpoint and torch.Size([10]) in the model instantiated\n",
      "- head.fc.weight: found shape torch.Size([1000, 320]) in the checkpoint and torch.Size([10, 320]) in the model instantiated\n",
      "You should probably TRAIN this model on a down-stream task to be able to use it for predictions and inference.\n"
     ]
    },
    {
     "data": {
      "text/html": [
       "\n",
       "    <div>\n",
       "      \n",
       "      <progress value='2191' max='2191' style='width:300px; height:20px; vertical-align: middle;'></progress>\n",
       "      [2191/2191 09:50, Epoch 7/7]\n",
       "    </div>\n",
       "    <table border=\"1\" class=\"dataframe\">\n",
       "  <thead>\n",
       " <tr style=\"text-align: left;\">\n",
       "      <th>Epoch</th>\n",
       "      <th>Training Loss</th>\n",
       "      <th>Validation Loss</th>\n",
       "      <th>Accuracy</th>\n",
       "      <th>Precision</th>\n",
       "      <th>Recall</th>\n",
       "      <th>F1</th>\n",
       "    </tr>\n",
       "  </thead>\n",
       "  <tbody>\n",
       "    <tr>\n",
       "      <td>1</td>\n",
       "      <td>0.498800</td>\n",
       "      <td>0.154680</td>\n",
       "      <td>0.948600</td>\n",
       "      <td>0.951116</td>\n",
       "      <td>0.948765</td>\n",
       "      <td>0.948983</td>\n",
       "    </tr>\n",
       "    <tr>\n",
       "      <td>2</td>\n",
       "      <td>0.089500</td>\n",
       "      <td>0.131008</td>\n",
       "      <td>0.956900</td>\n",
       "      <td>0.957209</td>\n",
       "      <td>0.957039</td>\n",
       "      <td>0.956910</td>\n",
       "    </tr>\n",
       "    <tr>\n",
       "      <td>3</td>\n",
       "      <td>0.039300</td>\n",
       "      <td>0.126802</td>\n",
       "      <td>0.963900</td>\n",
       "      <td>0.964696</td>\n",
       "      <td>0.964150</td>\n",
       "      <td>0.964102</td>\n",
       "    </tr>\n",
       "    <tr>\n",
       "      <td>4</td>\n",
       "      <td>0.016300</td>\n",
       "      <td>0.139509</td>\n",
       "      <td>0.965600</td>\n",
       "      <td>0.966161</td>\n",
       "      <td>0.965605</td>\n",
       "      <td>0.965766</td>\n",
       "    </tr>\n",
       "    <tr>\n",
       "      <td>5</td>\n",
       "      <td>0.006200</td>\n",
       "      <td>0.136443</td>\n",
       "      <td>0.969800</td>\n",
       "      <td>0.969988</td>\n",
       "      <td>0.969870</td>\n",
       "      <td>0.969883</td>\n",
       "    </tr>\n",
       "    <tr>\n",
       "      <td>6</td>\n",
       "      <td>0.001800</td>\n",
       "      <td>0.131995</td>\n",
       "      <td>0.972900</td>\n",
       "      <td>0.973196</td>\n",
       "      <td>0.972970</td>\n",
       "      <td>0.973059</td>\n",
       "    </tr>\n",
       "    <tr>\n",
       "      <td>7</td>\n",
       "      <td>0.000500</td>\n",
       "      <td>0.135058</td>\n",
       "      <td>0.972000</td>\n",
       "      <td>0.972105</td>\n",
       "      <td>0.972107</td>\n",
       "      <td>0.972097</td>\n",
       "    </tr>\n",
       "  </tbody>\n",
       "</table><p>"
      ],
      "text/plain": [
       "<IPython.core.display.HTML object>"
      ]
     },
     "metadata": {},
     "output_type": "display_data"
    },
    {
     "name": "stderr",
     "output_type": "stream",
     "text": [
      "[I 2025-03-30 04:31:45,530] Trial 95 finished with value: 0.9720970570488252 and parameters: {'learning_rate': 8.952659244058166e-05, 'weight_decay': 0.007, 'warmup_steps': 27}. Best is trial 67 with value: 0.9746290627725797.\n"
     ]
    },
    {
     "name": "stdout",
     "output_type": "stream",
     "text": [
      "Trial 96 with params: {'learning_rate': 0.0001758223185828369, 'weight_decay': 0.009000000000000001, 'warmup_steps': 22}\n"
     ]
    },
    {
     "name": "stderr",
     "output_type": "stream",
     "text": [
      "Some weights of TimmWrapperForImageClassification were not initialized from the model checkpoint at timm/tiny_vit_5m_224.in1k and are newly initialized because the shapes did not match:\n",
      "- head.fc.bias: found shape torch.Size([1000]) in the checkpoint and torch.Size([10]) in the model instantiated\n",
      "- head.fc.weight: found shape torch.Size([1000, 320]) in the checkpoint and torch.Size([10, 320]) in the model instantiated\n",
      "You should probably TRAIN this model on a down-stream task to be able to use it for predictions and inference.\n"
     ]
    },
    {
     "data": {
      "text/html": [
       "\n",
       "    <div>\n",
       "      \n",
       "      <progress value='1252' max='2191' style='width:300px; height:20px; vertical-align: middle;'></progress>\n",
       "      [1252/2191 05:31 < 04:08, 3.77 it/s, Epoch 4/7]\n",
       "    </div>\n",
       "    <table border=\"1\" class=\"dataframe\">\n",
       "  <thead>\n",
       " <tr style=\"text-align: left;\">\n",
       "      <th>Epoch</th>\n",
       "      <th>Training Loss</th>\n",
       "      <th>Validation Loss</th>\n",
       "      <th>Accuracy</th>\n",
       "      <th>Precision</th>\n",
       "      <th>Recall</th>\n",
       "      <th>F1</th>\n",
       "    </tr>\n",
       "  </thead>\n",
       "  <tbody>\n",
       "    <tr>\n",
       "      <td>1</td>\n",
       "      <td>0.436000</td>\n",
       "      <td>0.195483</td>\n",
       "      <td>0.934500</td>\n",
       "      <td>0.936979</td>\n",
       "      <td>0.934772</td>\n",
       "      <td>0.934788</td>\n",
       "    </tr>\n",
       "    <tr>\n",
       "      <td>2</td>\n",
       "      <td>0.104500</td>\n",
       "      <td>0.123900</td>\n",
       "      <td>0.956500</td>\n",
       "      <td>0.957509</td>\n",
       "      <td>0.956571</td>\n",
       "      <td>0.956833</td>\n",
       "    </tr>\n",
       "    <tr>\n",
       "      <td>3</td>\n",
       "      <td>0.053500</td>\n",
       "      <td>0.116707</td>\n",
       "      <td>0.963700</td>\n",
       "      <td>0.963962</td>\n",
       "      <td>0.963817</td>\n",
       "      <td>0.963854</td>\n",
       "    </tr>\n",
       "    <tr>\n",
       "      <td>4</td>\n",
       "      <td>0.028400</td>\n",
       "      <td>0.133380</td>\n",
       "      <td>0.962800</td>\n",
       "      <td>0.963219</td>\n",
       "      <td>0.962982</td>\n",
       "      <td>0.962993</td>\n",
       "    </tr>\n",
       "  </tbody>\n",
       "</table><p>"
      ],
      "text/plain": [
       "<IPython.core.display.HTML object>"
      ]
     },
     "metadata": {},
     "output_type": "display_data"
    },
    {
     "name": "stderr",
     "output_type": "stream",
     "text": [
      "[I 2025-03-30 04:37:18,639] Trial 96 pruned. \n"
     ]
    },
    {
     "name": "stdout",
     "output_type": "stream",
     "text": [
      "Trial 97 with params: {'learning_rate': 0.00014435651061544283, 'weight_decay': 0.004, 'warmup_steps': 27}\n"
     ]
    },
    {
     "name": "stderr",
     "output_type": "stream",
     "text": [
      "Some weights of TimmWrapperForImageClassification were not initialized from the model checkpoint at timm/tiny_vit_5m_224.in1k and are newly initialized because the shapes did not match:\n",
      "- head.fc.bias: found shape torch.Size([1000]) in the checkpoint and torch.Size([10]) in the model instantiated\n",
      "- head.fc.weight: found shape torch.Size([1000, 320]) in the checkpoint and torch.Size([10, 320]) in the model instantiated\n",
      "You should probably TRAIN this model on a down-stream task to be able to use it for predictions and inference.\n"
     ]
    },
    {
     "data": {
      "text/html": [
       "\n",
       "    <div>\n",
       "      \n",
       "      <progress value='2191' max='2191' style='width:300px; height:20px; vertical-align: middle;'></progress>\n",
       "      [2191/2191 09:51, Epoch 7/7]\n",
       "    </div>\n",
       "    <table border=\"1\" class=\"dataframe\">\n",
       "  <thead>\n",
       " <tr style=\"text-align: left;\">\n",
       "      <th>Epoch</th>\n",
       "      <th>Training Loss</th>\n",
       "      <th>Validation Loss</th>\n",
       "      <th>Accuracy</th>\n",
       "      <th>Precision</th>\n",
       "      <th>Recall</th>\n",
       "      <th>F1</th>\n",
       "    </tr>\n",
       "  </thead>\n",
       "  <tbody>\n",
       "    <tr>\n",
       "      <td>1</td>\n",
       "      <td>0.454700</td>\n",
       "      <td>0.151858</td>\n",
       "      <td>0.950500</td>\n",
       "      <td>0.951100</td>\n",
       "      <td>0.950742</td>\n",
       "      <td>0.950577</td>\n",
       "    </tr>\n",
       "    <tr>\n",
       "      <td>2</td>\n",
       "      <td>0.096000</td>\n",
       "      <td>0.143365</td>\n",
       "      <td>0.953300</td>\n",
       "      <td>0.954292</td>\n",
       "      <td>0.953537</td>\n",
       "      <td>0.953421</td>\n",
       "    </tr>\n",
       "    <tr>\n",
       "      <td>3</td>\n",
       "      <td>0.047300</td>\n",
       "      <td>0.137357</td>\n",
       "      <td>0.956400</td>\n",
       "      <td>0.956996</td>\n",
       "      <td>0.956528</td>\n",
       "      <td>0.956590</td>\n",
       "    </tr>\n",
       "    <tr>\n",
       "      <td>4</td>\n",
       "      <td>0.020800</td>\n",
       "      <td>0.134886</td>\n",
       "      <td>0.965400</td>\n",
       "      <td>0.965703</td>\n",
       "      <td>0.965533</td>\n",
       "      <td>0.965535</td>\n",
       "    </tr>\n",
       "    <tr>\n",
       "      <td>5</td>\n",
       "      <td>0.008500</td>\n",
       "      <td>0.124345</td>\n",
       "      <td>0.969800</td>\n",
       "      <td>0.969993</td>\n",
       "      <td>0.969932</td>\n",
       "      <td>0.969928</td>\n",
       "    </tr>\n",
       "    <tr>\n",
       "      <td>6</td>\n",
       "      <td>0.001600</td>\n",
       "      <td>0.129113</td>\n",
       "      <td>0.972000</td>\n",
       "      <td>0.972136</td>\n",
       "      <td>0.972115</td>\n",
       "      <td>0.972087</td>\n",
       "    </tr>\n",
       "    <tr>\n",
       "      <td>7</td>\n",
       "      <td>0.000400</td>\n",
       "      <td>0.125463</td>\n",
       "      <td>0.972200</td>\n",
       "      <td>0.972279</td>\n",
       "      <td>0.972338</td>\n",
       "      <td>0.972292</td>\n",
       "    </tr>\n",
       "  </tbody>\n",
       "</table><p>"
      ],
      "text/plain": [
       "<IPython.core.display.HTML object>"
      ]
     },
     "metadata": {},
     "output_type": "display_data"
    },
    {
     "name": "stderr",
     "output_type": "stream",
     "text": [
      "[I 2025-03-30 04:47:13,028] Trial 97 finished with value: 0.9722917827979171 and parameters: {'learning_rate': 0.00014435651061544283, 'weight_decay': 0.004, 'warmup_steps': 27}. Best is trial 67 with value: 0.9746290627725797.\n"
     ]
    },
    {
     "name": "stdout",
     "output_type": "stream",
     "text": [
      "Trial 98 with params: {'learning_rate': 0.0035054904723296637, 'weight_decay': 0.009000000000000001, 'warmup_steps': 0}\n"
     ]
    },
    {
     "name": "stderr",
     "output_type": "stream",
     "text": [
      "Some weights of TimmWrapperForImageClassification were not initialized from the model checkpoint at timm/tiny_vit_5m_224.in1k and are newly initialized because the shapes did not match:\n",
      "- head.fc.bias: found shape torch.Size([1000]) in the checkpoint and torch.Size([10]) in the model instantiated\n",
      "- head.fc.weight: found shape torch.Size([1000, 320]) in the checkpoint and torch.Size([10, 320]) in the model instantiated\n",
      "You should probably TRAIN this model on a down-stream task to be able to use it for predictions and inference.\n"
     ]
    },
    {
     "data": {
      "text/html": [
       "\n",
       "    <div>\n",
       "      \n",
       "      <progress value='1252' max='2191' style='width:300px; height:20px; vertical-align: middle;'></progress>\n",
       "      [1252/2191 05:30 < 04:08, 3.78 it/s, Epoch 4/7]\n",
       "    </div>\n",
       "    <table border=\"1\" class=\"dataframe\">\n",
       "  <thead>\n",
       " <tr style=\"text-align: left;\">\n",
       "      <th>Epoch</th>\n",
       "      <th>Training Loss</th>\n",
       "      <th>Validation Loss</th>\n",
       "      <th>Accuracy</th>\n",
       "      <th>Precision</th>\n",
       "      <th>Recall</th>\n",
       "      <th>F1</th>\n",
       "    </tr>\n",
       "  </thead>\n",
       "  <tbody>\n",
       "    <tr>\n",
       "      <td>1</td>\n",
       "      <td>2.441100</td>\n",
       "      <td>2.315875</td>\n",
       "      <td>0.101600</td>\n",
       "      <td>0.010160</td>\n",
       "      <td>0.100000</td>\n",
       "      <td>0.018446</td>\n",
       "    </tr>\n",
       "    <tr>\n",
       "      <td>2</td>\n",
       "      <td>2.335800</td>\n",
       "      <td>2.307172</td>\n",
       "      <td>0.097700</td>\n",
       "      <td>0.009770</td>\n",
       "      <td>0.100000</td>\n",
       "      <td>0.017801</td>\n",
       "    </tr>\n",
       "    <tr>\n",
       "      <td>3</td>\n",
       "      <td>2.306500</td>\n",
       "      <td>2.307979</td>\n",
       "      <td>0.099700</td>\n",
       "      <td>0.009970</td>\n",
       "      <td>0.100000</td>\n",
       "      <td>0.018132</td>\n",
       "    </tr>\n",
       "    <tr>\n",
       "      <td>4</td>\n",
       "      <td>2.306000</td>\n",
       "      <td>2.303693</td>\n",
       "      <td>0.102200</td>\n",
       "      <td>0.010220</td>\n",
       "      <td>0.100000</td>\n",
       "      <td>0.018545</td>\n",
       "    </tr>\n",
       "  </tbody>\n",
       "</table><p>"
      ],
      "text/plain": [
       "<IPython.core.display.HTML object>"
      ]
     },
     "metadata": {},
     "output_type": "display_data"
    },
    {
     "name": "stderr",
     "output_type": "stream",
     "text": [
      "[I 2025-03-30 04:52:45,391] Trial 98 pruned. \n"
     ]
    },
    {
     "name": "stdout",
     "output_type": "stream",
     "text": [
      "Trial 99 with params: {'learning_rate': 8.090843589470582e-05, 'weight_decay': 0.009000000000000001, 'warmup_steps': 30}\n"
     ]
    },
    {
     "name": "stderr",
     "output_type": "stream",
     "text": [
      "Some weights of TimmWrapperForImageClassification were not initialized from the model checkpoint at timm/tiny_vit_5m_224.in1k and are newly initialized because the shapes did not match:\n",
      "- head.fc.bias: found shape torch.Size([1000]) in the checkpoint and torch.Size([10]) in the model instantiated\n",
      "- head.fc.weight: found shape torch.Size([1000, 320]) in the checkpoint and torch.Size([10, 320]) in the model instantiated\n",
      "You should probably TRAIN this model on a down-stream task to be able to use it for predictions and inference.\n"
     ]
    },
    {
     "data": {
      "text/html": [
       "\n",
       "    <div>\n",
       "      \n",
       "      <progress value='2191' max='2191' style='width:300px; height:20px; vertical-align: middle;'></progress>\n",
       "      [2191/2191 09:39, Epoch 7/7]\n",
       "    </div>\n",
       "    <table border=\"1\" class=\"dataframe\">\n",
       "  <thead>\n",
       " <tr style=\"text-align: left;\">\n",
       "      <th>Epoch</th>\n",
       "      <th>Training Loss</th>\n",
       "      <th>Validation Loss</th>\n",
       "      <th>Accuracy</th>\n",
       "      <th>Precision</th>\n",
       "      <th>Recall</th>\n",
       "      <th>F1</th>\n",
       "    </tr>\n",
       "  </thead>\n",
       "  <tbody>\n",
       "    <tr>\n",
       "      <td>1</td>\n",
       "      <td>0.519200</td>\n",
       "      <td>0.191693</td>\n",
       "      <td>0.935700</td>\n",
       "      <td>0.942236</td>\n",
       "      <td>0.935953</td>\n",
       "      <td>0.936642</td>\n",
       "    </tr>\n",
       "    <tr>\n",
       "      <td>2</td>\n",
       "      <td>0.093900</td>\n",
       "      <td>0.125641</td>\n",
       "      <td>0.958600</td>\n",
       "      <td>0.959039</td>\n",
       "      <td>0.958773</td>\n",
       "      <td>0.958664</td>\n",
       "    </tr>\n",
       "    <tr>\n",
       "      <td>3</td>\n",
       "      <td>0.041200</td>\n",
       "      <td>0.112248</td>\n",
       "      <td>0.965900</td>\n",
       "      <td>0.966181</td>\n",
       "      <td>0.965993</td>\n",
       "      <td>0.966046</td>\n",
       "    </tr>\n",
       "    <tr>\n",
       "      <td>4</td>\n",
       "      <td>0.016000</td>\n",
       "      <td>0.123390</td>\n",
       "      <td>0.967200</td>\n",
       "      <td>0.967253</td>\n",
       "      <td>0.967396</td>\n",
       "      <td>0.967268</td>\n",
       "    </tr>\n",
       "    <tr>\n",
       "      <td>5</td>\n",
       "      <td>0.005000</td>\n",
       "      <td>0.136233</td>\n",
       "      <td>0.969100</td>\n",
       "      <td>0.969222</td>\n",
       "      <td>0.969218</td>\n",
       "      <td>0.969190</td>\n",
       "    </tr>\n",
       "    <tr>\n",
       "      <td>6</td>\n",
       "      <td>0.002000</td>\n",
       "      <td>0.133604</td>\n",
       "      <td>0.971600</td>\n",
       "      <td>0.971717</td>\n",
       "      <td>0.971696</td>\n",
       "      <td>0.971701</td>\n",
       "    </tr>\n",
       "    <tr>\n",
       "      <td>7</td>\n",
       "      <td>0.000700</td>\n",
       "      <td>0.134227</td>\n",
       "      <td>0.971600</td>\n",
       "      <td>0.971691</td>\n",
       "      <td>0.971725</td>\n",
       "      <td>0.971703</td>\n",
       "    </tr>\n",
       "  </tbody>\n",
       "</table><p>"
      ],
      "text/plain": [
       "<IPython.core.display.HTML object>"
      ]
     },
     "metadata": {},
     "output_type": "display_data"
    },
    {
     "name": "stderr",
     "output_type": "stream",
     "text": [
      "[I 2025-03-30 05:02:28,186] Trial 99 finished with value: 0.9717032287019307 and parameters: {'learning_rate': 8.090843589470582e-05, 'weight_decay': 0.009000000000000001, 'warmup_steps': 30}. Best is trial 67 with value: 0.9746290627725797.\n"
     ]
    },
    {
     "name": "stdout",
     "output_type": "stream",
     "text": [
      "Trial 100 with params: {'learning_rate': 0.00013333557567672514, 'weight_decay': 0.006, 'warmup_steps': 32}\n"
     ]
    },
    {
     "name": "stderr",
     "output_type": "stream",
     "text": [
      "Some weights of TimmWrapperForImageClassification were not initialized from the model checkpoint at timm/tiny_vit_5m_224.in1k and are newly initialized because the shapes did not match:\n",
      "- head.fc.bias: found shape torch.Size([1000]) in the checkpoint and torch.Size([10]) in the model instantiated\n",
      "- head.fc.weight: found shape torch.Size([1000, 320]) in the checkpoint and torch.Size([10, 320]) in the model instantiated\n",
      "You should probably TRAIN this model on a down-stream task to be able to use it for predictions and inference.\n"
     ]
    },
    {
     "data": {
      "text/html": [
       "\n",
       "    <div>\n",
       "      \n",
       "      <progress value='2191' max='2191' style='width:300px; height:20px; vertical-align: middle;'></progress>\n",
       "      [2191/2191 09:39, Epoch 7/7]\n",
       "    </div>\n",
       "    <table border=\"1\" class=\"dataframe\">\n",
       "  <thead>\n",
       " <tr style=\"text-align: left;\">\n",
       "      <th>Epoch</th>\n",
       "      <th>Training Loss</th>\n",
       "      <th>Validation Loss</th>\n",
       "      <th>Accuracy</th>\n",
       "      <th>Precision</th>\n",
       "      <th>Recall</th>\n",
       "      <th>F1</th>\n",
       "    </tr>\n",
       "  </thead>\n",
       "  <tbody>\n",
       "    <tr>\n",
       "      <td>1</td>\n",
       "      <td>0.470300</td>\n",
       "      <td>0.184463</td>\n",
       "      <td>0.938000</td>\n",
       "      <td>0.942025</td>\n",
       "      <td>0.938115</td>\n",
       "      <td>0.938742</td>\n",
       "    </tr>\n",
       "    <tr>\n",
       "      <td>2</td>\n",
       "      <td>0.091500</td>\n",
       "      <td>0.127593</td>\n",
       "      <td>0.956600</td>\n",
       "      <td>0.956952</td>\n",
       "      <td>0.956817</td>\n",
       "      <td>0.956721</td>\n",
       "    </tr>\n",
       "    <tr>\n",
       "      <td>3</td>\n",
       "      <td>0.044900</td>\n",
       "      <td>0.117571</td>\n",
       "      <td>0.963900</td>\n",
       "      <td>0.964046</td>\n",
       "      <td>0.964087</td>\n",
       "      <td>0.964040</td>\n",
       "    </tr>\n",
       "    <tr>\n",
       "      <td>4</td>\n",
       "      <td>0.020800</td>\n",
       "      <td>0.133898</td>\n",
       "      <td>0.965100</td>\n",
       "      <td>0.965296</td>\n",
       "      <td>0.965317</td>\n",
       "      <td>0.965217</td>\n",
       "    </tr>\n",
       "    <tr>\n",
       "      <td>5</td>\n",
       "      <td>0.008300</td>\n",
       "      <td>0.135006</td>\n",
       "      <td>0.968900</td>\n",
       "      <td>0.969183</td>\n",
       "      <td>0.969024</td>\n",
       "      <td>0.969036</td>\n",
       "    </tr>\n",
       "    <tr>\n",
       "      <td>6</td>\n",
       "      <td>0.002300</td>\n",
       "      <td>0.127831</td>\n",
       "      <td>0.971200</td>\n",
       "      <td>0.971395</td>\n",
       "      <td>0.971355</td>\n",
       "      <td>0.971371</td>\n",
       "    </tr>\n",
       "    <tr>\n",
       "      <td>7</td>\n",
       "      <td>0.000600</td>\n",
       "      <td>0.130229</td>\n",
       "      <td>0.972000</td>\n",
       "      <td>0.972134</td>\n",
       "      <td>0.972161</td>\n",
       "      <td>0.972144</td>\n",
       "    </tr>\n",
       "  </tbody>\n",
       "</table><p>"
      ],
      "text/plain": [
       "<IPython.core.display.HTML object>"
      ]
     },
     "metadata": {},
     "output_type": "display_data"
    },
    {
     "name": "stderr",
     "output_type": "stream",
     "text": [
      "[I 2025-03-30 05:12:10,361] Trial 100 finished with value: 0.9721438763030031 and parameters: {'learning_rate': 0.00013333557567672514, 'weight_decay': 0.006, 'warmup_steps': 32}. Best is trial 67 with value: 0.9746290627725797.\n"
     ]
    },
    {
     "name": "stdout",
     "output_type": "stream",
     "text": [
      "Trial 101 with params: {'learning_rate': 8.457343840273425e-05, 'weight_decay': 0.005, 'warmup_steps': 23}\n"
     ]
    },
    {
     "name": "stderr",
     "output_type": "stream",
     "text": [
      "Some weights of TimmWrapperForImageClassification were not initialized from the model checkpoint at timm/tiny_vit_5m_224.in1k and are newly initialized because the shapes did not match:\n",
      "- head.fc.bias: found shape torch.Size([1000]) in the checkpoint and torch.Size([10]) in the model instantiated\n",
      "- head.fc.weight: found shape torch.Size([1000, 320]) in the checkpoint and torch.Size([10, 320]) in the model instantiated\n",
      "You should probably TRAIN this model on a down-stream task to be able to use it for predictions and inference.\n"
     ]
    },
    {
     "data": {
      "text/html": [
       "\n",
       "    <div>\n",
       "      \n",
       "      <progress value='2191' max='2191' style='width:300px; height:20px; vertical-align: middle;'></progress>\n",
       "      [2191/2191 09:39, Epoch 7/7]\n",
       "    </div>\n",
       "    <table border=\"1\" class=\"dataframe\">\n",
       "  <thead>\n",
       " <tr style=\"text-align: left;\">\n",
       "      <th>Epoch</th>\n",
       "      <th>Training Loss</th>\n",
       "      <th>Validation Loss</th>\n",
       "      <th>Accuracy</th>\n",
       "      <th>Precision</th>\n",
       "      <th>Recall</th>\n",
       "      <th>F1</th>\n",
       "    </tr>\n",
       "  </thead>\n",
       "  <tbody>\n",
       "    <tr>\n",
       "      <td>1</td>\n",
       "      <td>0.522700</td>\n",
       "      <td>0.175287</td>\n",
       "      <td>0.941800</td>\n",
       "      <td>0.944126</td>\n",
       "      <td>0.942023</td>\n",
       "      <td>0.942248</td>\n",
       "    </tr>\n",
       "    <tr>\n",
       "      <td>2</td>\n",
       "      <td>0.093000</td>\n",
       "      <td>0.130851</td>\n",
       "      <td>0.957500</td>\n",
       "      <td>0.958486</td>\n",
       "      <td>0.957633</td>\n",
       "      <td>0.957711</td>\n",
       "    </tr>\n",
       "    <tr>\n",
       "      <td>3</td>\n",
       "      <td>0.036100</td>\n",
       "      <td>0.122858</td>\n",
       "      <td>0.964300</td>\n",
       "      <td>0.964424</td>\n",
       "      <td>0.964432</td>\n",
       "      <td>0.964398</td>\n",
       "    </tr>\n",
       "    <tr>\n",
       "      <td>4</td>\n",
       "      <td>0.015700</td>\n",
       "      <td>0.130294</td>\n",
       "      <td>0.967100</td>\n",
       "      <td>0.967277</td>\n",
       "      <td>0.967275</td>\n",
       "      <td>0.967196</td>\n",
       "    </tr>\n",
       "    <tr>\n",
       "      <td>5</td>\n",
       "      <td>0.004900</td>\n",
       "      <td>0.138564</td>\n",
       "      <td>0.968900</td>\n",
       "      <td>0.968933</td>\n",
       "      <td>0.969025</td>\n",
       "      <td>0.968957</td>\n",
       "    </tr>\n",
       "    <tr>\n",
       "      <td>6</td>\n",
       "      <td>0.001800</td>\n",
       "      <td>0.137228</td>\n",
       "      <td>0.972100</td>\n",
       "      <td>0.972346</td>\n",
       "      <td>0.972232</td>\n",
       "      <td>0.972235</td>\n",
       "    </tr>\n",
       "    <tr>\n",
       "      <td>7</td>\n",
       "      <td>0.000600</td>\n",
       "      <td>0.134674</td>\n",
       "      <td>0.971400</td>\n",
       "      <td>0.971514</td>\n",
       "      <td>0.971532</td>\n",
       "      <td>0.971508</td>\n",
       "    </tr>\n",
       "  </tbody>\n",
       "</table><p>"
      ],
      "text/plain": [
       "<IPython.core.display.HTML object>"
      ]
     },
     "metadata": {},
     "output_type": "display_data"
    },
    {
     "name": "stderr",
     "output_type": "stream",
     "text": [
      "[I 2025-03-30 05:21:52,790] Trial 101 finished with value: 0.971507647241191 and parameters: {'learning_rate': 8.457343840273425e-05, 'weight_decay': 0.005, 'warmup_steps': 23}. Best is trial 67 with value: 0.9746290627725797.\n"
     ]
    },
    {
     "name": "stdout",
     "output_type": "stream",
     "text": [
      "Trial 102 with params: {'learning_rate': 0.00013450126417323204, 'weight_decay': 0.007, 'warmup_steps': 25}\n"
     ]
    },
    {
     "name": "stderr",
     "output_type": "stream",
     "text": [
      "Some weights of TimmWrapperForImageClassification were not initialized from the model checkpoint at timm/tiny_vit_5m_224.in1k and are newly initialized because the shapes did not match:\n",
      "- head.fc.bias: found shape torch.Size([1000]) in the checkpoint and torch.Size([10]) in the model instantiated\n",
      "- head.fc.weight: found shape torch.Size([1000, 320]) in the checkpoint and torch.Size([10, 320]) in the model instantiated\n",
      "You should probably TRAIN this model on a down-stream task to be able to use it for predictions and inference.\n"
     ]
    },
    {
     "data": {
      "text/html": [
       "\n",
       "    <div>\n",
       "      \n",
       "      <progress value='2191' max='2191' style='width:300px; height:20px; vertical-align: middle;'></progress>\n",
       "      [2191/2191 09:42, Epoch 7/7]\n",
       "    </div>\n",
       "    <table border=\"1\" class=\"dataframe\">\n",
       "  <thead>\n",
       " <tr style=\"text-align: left;\">\n",
       "      <th>Epoch</th>\n",
       "      <th>Training Loss</th>\n",
       "      <th>Validation Loss</th>\n",
       "      <th>Accuracy</th>\n",
       "      <th>Precision</th>\n",
       "      <th>Recall</th>\n",
       "      <th>F1</th>\n",
       "    </tr>\n",
       "  </thead>\n",
       "  <tbody>\n",
       "    <tr>\n",
       "      <td>1</td>\n",
       "      <td>0.452300</td>\n",
       "      <td>0.166758</td>\n",
       "      <td>0.947100</td>\n",
       "      <td>0.949957</td>\n",
       "      <td>0.947201</td>\n",
       "      <td>0.947506</td>\n",
       "    </tr>\n",
       "    <tr>\n",
       "      <td>2</td>\n",
       "      <td>0.095100</td>\n",
       "      <td>0.142674</td>\n",
       "      <td>0.954000</td>\n",
       "      <td>0.955368</td>\n",
       "      <td>0.954203</td>\n",
       "      <td>0.954179</td>\n",
       "    </tr>\n",
       "    <tr>\n",
       "      <td>3</td>\n",
       "      <td>0.047100</td>\n",
       "      <td>0.134535</td>\n",
       "      <td>0.959800</td>\n",
       "      <td>0.960467</td>\n",
       "      <td>0.959977</td>\n",
       "      <td>0.960046</td>\n",
       "    </tr>\n",
       "    <tr>\n",
       "      <td>4</td>\n",
       "      <td>0.021300</td>\n",
       "      <td>0.134079</td>\n",
       "      <td>0.966000</td>\n",
       "      <td>0.966386</td>\n",
       "      <td>0.966117</td>\n",
       "      <td>0.966203</td>\n",
       "    </tr>\n",
       "    <tr>\n",
       "      <td>5</td>\n",
       "      <td>0.007400</td>\n",
       "      <td>0.132766</td>\n",
       "      <td>0.969600</td>\n",
       "      <td>0.969850</td>\n",
       "      <td>0.969751</td>\n",
       "      <td>0.969736</td>\n",
       "    </tr>\n",
       "    <tr>\n",
       "      <td>6</td>\n",
       "      <td>0.002000</td>\n",
       "      <td>0.128227</td>\n",
       "      <td>0.971200</td>\n",
       "      <td>0.971467</td>\n",
       "      <td>0.971268</td>\n",
       "      <td>0.971343</td>\n",
       "    </tr>\n",
       "    <tr>\n",
       "      <td>7</td>\n",
       "      <td>0.000700</td>\n",
       "      <td>0.125296</td>\n",
       "      <td>0.973300</td>\n",
       "      <td>0.973404</td>\n",
       "      <td>0.973452</td>\n",
       "      <td>0.973418</td>\n",
       "    </tr>\n",
       "  </tbody>\n",
       "</table><p>"
      ],
      "text/plain": [
       "<IPython.core.display.HTML object>"
      ]
     },
     "metadata": {},
     "output_type": "display_data"
    },
    {
     "name": "stderr",
     "output_type": "stream",
     "text": [
      "[I 2025-03-30 05:31:38,637] Trial 102 finished with value: 0.9734180083133032 and parameters: {'learning_rate': 0.00013450126417323204, 'weight_decay': 0.007, 'warmup_steps': 25}. Best is trial 67 with value: 0.9746290627725797.\n"
     ]
    },
    {
     "name": "stdout",
     "output_type": "stream",
     "text": [
      "Trial 103 with params: {'learning_rate': 0.0001191596467352941, 'weight_decay': 0.007, 'warmup_steps': 23}\n"
     ]
    },
    {
     "name": "stderr",
     "output_type": "stream",
     "text": [
      "Some weights of TimmWrapperForImageClassification were not initialized from the model checkpoint at timm/tiny_vit_5m_224.in1k and are newly initialized because the shapes did not match:\n",
      "- head.fc.bias: found shape torch.Size([1000]) in the checkpoint and torch.Size([10]) in the model instantiated\n",
      "- head.fc.weight: found shape torch.Size([1000, 320]) in the checkpoint and torch.Size([10, 320]) in the model instantiated\n",
      "You should probably TRAIN this model on a down-stream task to be able to use it for predictions and inference.\n"
     ]
    },
    {
     "data": {
      "text/html": [
       "\n",
       "    <div>\n",
       "      \n",
       "      <progress value='1252' max='2191' style='width:300px; height:20px; vertical-align: middle;'></progress>\n",
       "      [1252/2191 05:32 < 04:09, 3.76 it/s, Epoch 4/7]\n",
       "    </div>\n",
       "    <table border=\"1\" class=\"dataframe\">\n",
       "  <thead>\n",
       " <tr style=\"text-align: left;\">\n",
       "      <th>Epoch</th>\n",
       "      <th>Training Loss</th>\n",
       "      <th>Validation Loss</th>\n",
       "      <th>Accuracy</th>\n",
       "      <th>Precision</th>\n",
       "      <th>Recall</th>\n",
       "      <th>F1</th>\n",
       "    </tr>\n",
       "  </thead>\n",
       "  <tbody>\n",
       "    <tr>\n",
       "      <td>1</td>\n",
       "      <td>0.452800</td>\n",
       "      <td>0.188721</td>\n",
       "      <td>0.936500</td>\n",
       "      <td>0.941793</td>\n",
       "      <td>0.936635</td>\n",
       "      <td>0.937069</td>\n",
       "    </tr>\n",
       "    <tr>\n",
       "      <td>2</td>\n",
       "      <td>0.096000</td>\n",
       "      <td>0.129955</td>\n",
       "      <td>0.956300</td>\n",
       "      <td>0.956817</td>\n",
       "      <td>0.956492</td>\n",
       "      <td>0.956451</td>\n",
       "    </tr>\n",
       "    <tr>\n",
       "      <td>3</td>\n",
       "      <td>0.043800</td>\n",
       "      <td>0.121136</td>\n",
       "      <td>0.964100</td>\n",
       "      <td>0.964253</td>\n",
       "      <td>0.964271</td>\n",
       "      <td>0.964136</td>\n",
       "    </tr>\n",
       "    <tr>\n",
       "      <td>4</td>\n",
       "      <td>0.018700</td>\n",
       "      <td>0.131935</td>\n",
       "      <td>0.966200</td>\n",
       "      <td>0.966400</td>\n",
       "      <td>0.966365</td>\n",
       "      <td>0.966346</td>\n",
       "    </tr>\n",
       "  </tbody>\n",
       "</table><p>"
      ],
      "text/plain": [
       "<IPython.core.display.HTML object>"
      ]
     },
     "metadata": {},
     "output_type": "display_data"
    },
    {
     "name": "stderr",
     "output_type": "stream",
     "text": [
      "[I 2025-03-30 05:37:13,158] Trial 103 pruned. \n"
     ]
    },
    {
     "name": "stdout",
     "output_type": "stream",
     "text": [
      "Trial 104 with params: {'learning_rate': 0.00020340932723015692, 'weight_decay': 0.008, 'warmup_steps': 25}\n"
     ]
    },
    {
     "name": "stderr",
     "output_type": "stream",
     "text": [
      "Some weights of TimmWrapperForImageClassification were not initialized from the model checkpoint at timm/tiny_vit_5m_224.in1k and are newly initialized because the shapes did not match:\n",
      "- head.fc.bias: found shape torch.Size([1000]) in the checkpoint and torch.Size([10]) in the model instantiated\n",
      "- head.fc.weight: found shape torch.Size([1000, 320]) in the checkpoint and torch.Size([10, 320]) in the model instantiated\n",
      "You should probably TRAIN this model on a down-stream task to be able to use it for predictions and inference.\n"
     ]
    },
    {
     "data": {
      "text/html": [
       "\n",
       "    <div>\n",
       "      \n",
       "      <progress value='1252' max='2191' style='width:300px; height:20px; vertical-align: middle;'></progress>\n",
       "      [1252/2191 05:30 < 04:08, 3.78 it/s, Epoch 4/7]\n",
       "    </div>\n",
       "    <table border=\"1\" class=\"dataframe\">\n",
       "  <thead>\n",
       " <tr style=\"text-align: left;\">\n",
       "      <th>Epoch</th>\n",
       "      <th>Training Loss</th>\n",
       "      <th>Validation Loss</th>\n",
       "      <th>Accuracy</th>\n",
       "      <th>Precision</th>\n",
       "      <th>Recall</th>\n",
       "      <th>F1</th>\n",
       "    </tr>\n",
       "  </thead>\n",
       "  <tbody>\n",
       "    <tr>\n",
       "      <td>1</td>\n",
       "      <td>0.443400</td>\n",
       "      <td>0.182599</td>\n",
       "      <td>0.940400</td>\n",
       "      <td>0.943583</td>\n",
       "      <td>0.940435</td>\n",
       "      <td>0.940956</td>\n",
       "    </tr>\n",
       "    <tr>\n",
       "      <td>2</td>\n",
       "      <td>0.111400</td>\n",
       "      <td>0.165758</td>\n",
       "      <td>0.945800</td>\n",
       "      <td>0.946534</td>\n",
       "      <td>0.946161</td>\n",
       "      <td>0.945917</td>\n",
       "    </tr>\n",
       "    <tr>\n",
       "      <td>3</td>\n",
       "      <td>0.058300</td>\n",
       "      <td>0.128684</td>\n",
       "      <td>0.960000</td>\n",
       "      <td>0.960493</td>\n",
       "      <td>0.960175</td>\n",
       "      <td>0.960226</td>\n",
       "    </tr>\n",
       "    <tr>\n",
       "      <td>4</td>\n",
       "      <td>0.030100</td>\n",
       "      <td>0.132907</td>\n",
       "      <td>0.962700</td>\n",
       "      <td>0.962767</td>\n",
       "      <td>0.962881</td>\n",
       "      <td>0.962718</td>\n",
       "    </tr>\n",
       "  </tbody>\n",
       "</table><p>"
      ],
      "text/plain": [
       "<IPython.core.display.HTML object>"
      ]
     },
     "metadata": {},
     "output_type": "display_data"
    },
    {
     "name": "stderr",
     "output_type": "stream",
     "text": [
      "[I 2025-03-30 05:42:45,754] Trial 104 pruned. \n"
     ]
    },
    {
     "name": "stdout",
     "output_type": "stream",
     "text": [
      "Trial 105 with params: {'learning_rate': 0.00013280021760138654, 'weight_decay': 0.007, 'warmup_steps': 23}\n"
     ]
    },
    {
     "name": "stderr",
     "output_type": "stream",
     "text": [
      "Some weights of TimmWrapperForImageClassification were not initialized from the model checkpoint at timm/tiny_vit_5m_224.in1k and are newly initialized because the shapes did not match:\n",
      "- head.fc.bias: found shape torch.Size([1000]) in the checkpoint and torch.Size([10]) in the model instantiated\n",
      "- head.fc.weight: found shape torch.Size([1000, 320]) in the checkpoint and torch.Size([10, 320]) in the model instantiated\n",
      "You should probably TRAIN this model on a down-stream task to be able to use it for predictions and inference.\n"
     ]
    },
    {
     "data": {
      "text/html": [
       "\n",
       "    <div>\n",
       "      \n",
       "      <progress value='2191' max='2191' style='width:300px; height:20px; vertical-align: middle;'></progress>\n",
       "      [2191/2191 09:43, Epoch 7/7]\n",
       "    </div>\n",
       "    <table border=\"1\" class=\"dataframe\">\n",
       "  <thead>\n",
       " <tr style=\"text-align: left;\">\n",
       "      <th>Epoch</th>\n",
       "      <th>Training Loss</th>\n",
       "      <th>Validation Loss</th>\n",
       "      <th>Accuracy</th>\n",
       "      <th>Precision</th>\n",
       "      <th>Recall</th>\n",
       "      <th>F1</th>\n",
       "    </tr>\n",
       "  </thead>\n",
       "  <tbody>\n",
       "    <tr>\n",
       "      <td>1</td>\n",
       "      <td>0.445500</td>\n",
       "      <td>0.166273</td>\n",
       "      <td>0.945400</td>\n",
       "      <td>0.947371</td>\n",
       "      <td>0.945513</td>\n",
       "      <td>0.945864</td>\n",
       "    </tr>\n",
       "    <tr>\n",
       "      <td>2</td>\n",
       "      <td>0.096900</td>\n",
       "      <td>0.113096</td>\n",
       "      <td>0.961100</td>\n",
       "      <td>0.961483</td>\n",
       "      <td>0.961291</td>\n",
       "      <td>0.961246</td>\n",
       "    </tr>\n",
       "    <tr>\n",
       "      <td>3</td>\n",
       "      <td>0.047700</td>\n",
       "      <td>0.120004</td>\n",
       "      <td>0.963100</td>\n",
       "      <td>0.963520</td>\n",
       "      <td>0.963244</td>\n",
       "      <td>0.963337</td>\n",
       "    </tr>\n",
       "    <tr>\n",
       "      <td>4</td>\n",
       "      <td>0.019000</td>\n",
       "      <td>0.127062</td>\n",
       "      <td>0.967800</td>\n",
       "      <td>0.967960</td>\n",
       "      <td>0.967998</td>\n",
       "      <td>0.967915</td>\n",
       "    </tr>\n",
       "    <tr>\n",
       "      <td>5</td>\n",
       "      <td>0.008300</td>\n",
       "      <td>0.129998</td>\n",
       "      <td>0.969000</td>\n",
       "      <td>0.969066</td>\n",
       "      <td>0.969209</td>\n",
       "      <td>0.969096</td>\n",
       "    </tr>\n",
       "    <tr>\n",
       "      <td>6</td>\n",
       "      <td>0.002500</td>\n",
       "      <td>0.125647</td>\n",
       "      <td>0.970800</td>\n",
       "      <td>0.970977</td>\n",
       "      <td>0.970969</td>\n",
       "      <td>0.970964</td>\n",
       "    </tr>\n",
       "    <tr>\n",
       "      <td>7</td>\n",
       "      <td>0.000500</td>\n",
       "      <td>0.123952</td>\n",
       "      <td>0.972600</td>\n",
       "      <td>0.972624</td>\n",
       "      <td>0.972792</td>\n",
       "      <td>0.972698</td>\n",
       "    </tr>\n",
       "  </tbody>\n",
       "</table><p>"
      ],
      "text/plain": [
       "<IPython.core.display.HTML object>"
      ]
     },
     "metadata": {},
     "output_type": "display_data"
    },
    {
     "name": "stderr",
     "output_type": "stream",
     "text": [
      "[I 2025-03-30 05:52:32,530] Trial 105 finished with value: 0.9726977797037911 and parameters: {'learning_rate': 0.00013280021760138654, 'weight_decay': 0.007, 'warmup_steps': 23}. Best is trial 67 with value: 0.9746290627725797.\n"
     ]
    },
    {
     "name": "stdout",
     "output_type": "stream",
     "text": [
      "Trial 106 with params: {'learning_rate': 0.0001829983417738769, 'weight_decay': 0.006, 'warmup_steps': 27}\n"
     ]
    },
    {
     "name": "stderr",
     "output_type": "stream",
     "text": [
      "Some weights of TimmWrapperForImageClassification were not initialized from the model checkpoint at timm/tiny_vit_5m_224.in1k and are newly initialized because the shapes did not match:\n",
      "- head.fc.bias: found shape torch.Size([1000]) in the checkpoint and torch.Size([10]) in the model instantiated\n",
      "- head.fc.weight: found shape torch.Size([1000, 320]) in the checkpoint and torch.Size([10, 320]) in the model instantiated\n",
      "You should probably TRAIN this model on a down-stream task to be able to use it for predictions and inference.\n"
     ]
    },
    {
     "data": {
      "text/html": [
       "\n",
       "    <div>\n",
       "      \n",
       "      <progress value='1252' max='2191' style='width:300px; height:20px; vertical-align: middle;'></progress>\n",
       "      [1252/2191 05:32 < 04:09, 3.76 it/s, Epoch 4/7]\n",
       "    </div>\n",
       "    <table border=\"1\" class=\"dataframe\">\n",
       "  <thead>\n",
       " <tr style=\"text-align: left;\">\n",
       "      <th>Epoch</th>\n",
       "      <th>Training Loss</th>\n",
       "      <th>Validation Loss</th>\n",
       "      <th>Accuracy</th>\n",
       "      <th>Precision</th>\n",
       "      <th>Recall</th>\n",
       "      <th>F1</th>\n",
       "    </tr>\n",
       "  </thead>\n",
       "  <tbody>\n",
       "    <tr>\n",
       "      <td>1</td>\n",
       "      <td>0.445400</td>\n",
       "      <td>0.204333</td>\n",
       "      <td>0.931600</td>\n",
       "      <td>0.936346</td>\n",
       "      <td>0.931646</td>\n",
       "      <td>0.932153</td>\n",
       "    </tr>\n",
       "    <tr>\n",
       "      <td>2</td>\n",
       "      <td>0.106600</td>\n",
       "      <td>0.147652</td>\n",
       "      <td>0.950500</td>\n",
       "      <td>0.951349</td>\n",
       "      <td>0.950818</td>\n",
       "      <td>0.950712</td>\n",
       "    </tr>\n",
       "    <tr>\n",
       "      <td>3</td>\n",
       "      <td>0.056400</td>\n",
       "      <td>0.129770</td>\n",
       "      <td>0.961700</td>\n",
       "      <td>0.962244</td>\n",
       "      <td>0.961869</td>\n",
       "      <td>0.961952</td>\n",
       "    </tr>\n",
       "    <tr>\n",
       "      <td>4</td>\n",
       "      <td>0.028700</td>\n",
       "      <td>0.135011</td>\n",
       "      <td>0.963900</td>\n",
       "      <td>0.964518</td>\n",
       "      <td>0.964003</td>\n",
       "      <td>0.964168</td>\n",
       "    </tr>\n",
       "  </tbody>\n",
       "</table><p>"
      ],
      "text/plain": [
       "<IPython.core.display.HTML object>"
      ]
     },
     "metadata": {},
     "output_type": "display_data"
    },
    {
     "name": "stderr",
     "output_type": "stream",
     "text": [
      "[I 2025-03-30 05:58:06,958] Trial 106 pruned. \n"
     ]
    },
    {
     "name": "stdout",
     "output_type": "stream",
     "text": [
      "Trial 107 with params: {'learning_rate': 0.00013656273349393398, 'weight_decay': 0.008, 'warmup_steps': 25}\n"
     ]
    },
    {
     "name": "stderr",
     "output_type": "stream",
     "text": [
      "Some weights of TimmWrapperForImageClassification were not initialized from the model checkpoint at timm/tiny_vit_5m_224.in1k and are newly initialized because the shapes did not match:\n",
      "- head.fc.bias: found shape torch.Size([1000]) in the checkpoint and torch.Size([10]) in the model instantiated\n",
      "- head.fc.weight: found shape torch.Size([1000, 320]) in the checkpoint and torch.Size([10, 320]) in the model instantiated\n",
      "You should probably TRAIN this model on a down-stream task to be able to use it for predictions and inference.\n"
     ]
    },
    {
     "data": {
      "text/html": [
       "\n",
       "    <div>\n",
       "      \n",
       "      <progress value='1252' max='2191' style='width:300px; height:20px; vertical-align: middle;'></progress>\n",
       "      [1252/2191 05:30 < 04:08, 3.78 it/s, Epoch 4/7]\n",
       "    </div>\n",
       "    <table border=\"1\" class=\"dataframe\">\n",
       "  <thead>\n",
       " <tr style=\"text-align: left;\">\n",
       "      <th>Epoch</th>\n",
       "      <th>Training Loss</th>\n",
       "      <th>Validation Loss</th>\n",
       "      <th>Accuracy</th>\n",
       "      <th>Precision</th>\n",
       "      <th>Recall</th>\n",
       "      <th>F1</th>\n",
       "    </tr>\n",
       "  </thead>\n",
       "  <tbody>\n",
       "    <tr>\n",
       "      <td>1</td>\n",
       "      <td>0.464300</td>\n",
       "      <td>0.184143</td>\n",
       "      <td>0.937800</td>\n",
       "      <td>0.940551</td>\n",
       "      <td>0.937881</td>\n",
       "      <td>0.938058</td>\n",
       "    </tr>\n",
       "    <tr>\n",
       "      <td>2</td>\n",
       "      <td>0.101800</td>\n",
       "      <td>0.122665</td>\n",
       "      <td>0.959800</td>\n",
       "      <td>0.960125</td>\n",
       "      <td>0.960015</td>\n",
       "      <td>0.959929</td>\n",
       "    </tr>\n",
       "    <tr>\n",
       "      <td>3</td>\n",
       "      <td>0.046000</td>\n",
       "      <td>0.118513</td>\n",
       "      <td>0.964000</td>\n",
       "      <td>0.964471</td>\n",
       "      <td>0.964185</td>\n",
       "      <td>0.964242</td>\n",
       "    </tr>\n",
       "    <tr>\n",
       "      <td>4</td>\n",
       "      <td>0.020200</td>\n",
       "      <td>0.126552</td>\n",
       "      <td>0.966700</td>\n",
       "      <td>0.966969</td>\n",
       "      <td>0.966898</td>\n",
       "      <td>0.966850</td>\n",
       "    </tr>\n",
       "  </tbody>\n",
       "</table><p>"
      ],
      "text/plain": [
       "<IPython.core.display.HTML object>"
      ]
     },
     "metadata": {},
     "output_type": "display_data"
    },
    {
     "name": "stderr",
     "output_type": "stream",
     "text": [
      "[I 2025-03-30 06:03:39,936] Trial 107 pruned. \n"
     ]
    },
    {
     "name": "stdout",
     "output_type": "stream",
     "text": [
      "Trial 108 with params: {'learning_rate': 0.00035245706866971816, 'weight_decay': 0.008, 'warmup_steps': 23}\n"
     ]
    },
    {
     "name": "stderr",
     "output_type": "stream",
     "text": [
      "Some weights of TimmWrapperForImageClassification were not initialized from the model checkpoint at timm/tiny_vit_5m_224.in1k and are newly initialized because the shapes did not match:\n",
      "- head.fc.bias: found shape torch.Size([1000]) in the checkpoint and torch.Size([10]) in the model instantiated\n",
      "- head.fc.weight: found shape torch.Size([1000, 320]) in the checkpoint and torch.Size([10, 320]) in the model instantiated\n",
      "You should probably TRAIN this model on a down-stream task to be able to use it for predictions and inference.\n"
     ]
    },
    {
     "data": {
      "text/html": [
       "\n",
       "    <div>\n",
       "      \n",
       "      <progress value='626' max='2191' style='width:300px; height:20px; vertical-align: middle;'></progress>\n",
       "      [ 626/2191 02:44 < 06:51, 3.80 it/s, Epoch 2/7]\n",
       "    </div>\n",
       "    <table border=\"1\" class=\"dataframe\">\n",
       "  <thead>\n",
       " <tr style=\"text-align: left;\">\n",
       "      <th>Epoch</th>\n",
       "      <th>Training Loss</th>\n",
       "      <th>Validation Loss</th>\n",
       "      <th>Accuracy</th>\n",
       "      <th>Precision</th>\n",
       "      <th>Recall</th>\n",
       "      <th>F1</th>\n",
       "    </tr>\n",
       "  </thead>\n",
       "  <tbody>\n",
       "    <tr>\n",
       "      <td>1</td>\n",
       "      <td>0.461100</td>\n",
       "      <td>0.260278</td>\n",
       "      <td>0.909300</td>\n",
       "      <td>0.919522</td>\n",
       "      <td>0.909054</td>\n",
       "      <td>0.910429</td>\n",
       "    </tr>\n",
       "    <tr>\n",
       "      <td>2</td>\n",
       "      <td>0.161000</td>\n",
       "      <td>0.213905</td>\n",
       "      <td>0.927300</td>\n",
       "      <td>0.929813</td>\n",
       "      <td>0.927883</td>\n",
       "      <td>0.927233</td>\n",
       "    </tr>\n",
       "  </tbody>\n",
       "</table><p>"
      ],
      "text/plain": [
       "<IPython.core.display.HTML object>"
      ]
     },
     "metadata": {},
     "output_type": "display_data"
    },
    {
     "name": "stderr",
     "output_type": "stream",
     "text": [
      "[I 2025-03-30 06:06:26,330] Trial 108 pruned. \n"
     ]
    },
    {
     "name": "stdout",
     "output_type": "stream",
     "text": [
      "Trial 109 with params: {'learning_rate': 8.967758113070001e-05, 'weight_decay': 0.007, 'warmup_steps': 25}\n"
     ]
    },
    {
     "name": "stderr",
     "output_type": "stream",
     "text": [
      "Some weights of TimmWrapperForImageClassification were not initialized from the model checkpoint at timm/tiny_vit_5m_224.in1k and are newly initialized because the shapes did not match:\n",
      "- head.fc.bias: found shape torch.Size([1000]) in the checkpoint and torch.Size([10]) in the model instantiated\n",
      "- head.fc.weight: found shape torch.Size([1000, 320]) in the checkpoint and torch.Size([10, 320]) in the model instantiated\n",
      "You should probably TRAIN this model on a down-stream task to be able to use it for predictions and inference.\n"
     ]
    },
    {
     "data": {
      "text/html": [
       "\n",
       "    <div>\n",
       "      \n",
       "      <progress value='2191' max='2191' style='width:300px; height:20px; vertical-align: middle;'></progress>\n",
       "      [2191/2191 09:46, Epoch 7/7]\n",
       "    </div>\n",
       "    <table border=\"1\" class=\"dataframe\">\n",
       "  <thead>\n",
       " <tr style=\"text-align: left;\">\n",
       "      <th>Epoch</th>\n",
       "      <th>Training Loss</th>\n",
       "      <th>Validation Loss</th>\n",
       "      <th>Accuracy</th>\n",
       "      <th>Precision</th>\n",
       "      <th>Recall</th>\n",
       "      <th>F1</th>\n",
       "    </tr>\n",
       "  </thead>\n",
       "  <tbody>\n",
       "    <tr>\n",
       "      <td>1</td>\n",
       "      <td>0.497100</td>\n",
       "      <td>0.164796</td>\n",
       "      <td>0.948800</td>\n",
       "      <td>0.950274</td>\n",
       "      <td>0.948963</td>\n",
       "      <td>0.949021</td>\n",
       "    </tr>\n",
       "    <tr>\n",
       "      <td>2</td>\n",
       "      <td>0.091900</td>\n",
       "      <td>0.139902</td>\n",
       "      <td>0.952000</td>\n",
       "      <td>0.952738</td>\n",
       "      <td>0.952196</td>\n",
       "      <td>0.952106</td>\n",
       "    </tr>\n",
       "    <tr>\n",
       "      <td>3</td>\n",
       "      <td>0.040100</td>\n",
       "      <td>0.123990</td>\n",
       "      <td>0.963400</td>\n",
       "      <td>0.963607</td>\n",
       "      <td>0.963576</td>\n",
       "      <td>0.963521</td>\n",
       "    </tr>\n",
       "    <tr>\n",
       "      <td>4</td>\n",
       "      <td>0.016300</td>\n",
       "      <td>0.123507</td>\n",
       "      <td>0.968900</td>\n",
       "      <td>0.969029</td>\n",
       "      <td>0.969037</td>\n",
       "      <td>0.969018</td>\n",
       "    </tr>\n",
       "    <tr>\n",
       "      <td>5</td>\n",
       "      <td>0.004400</td>\n",
       "      <td>0.135821</td>\n",
       "      <td>0.969100</td>\n",
       "      <td>0.969304</td>\n",
       "      <td>0.969253</td>\n",
       "      <td>0.969241</td>\n",
       "    </tr>\n",
       "    <tr>\n",
       "      <td>6</td>\n",
       "      <td>0.001500</td>\n",
       "      <td>0.132404</td>\n",
       "      <td>0.971000</td>\n",
       "      <td>0.971226</td>\n",
       "      <td>0.971109</td>\n",
       "      <td>0.971160</td>\n",
       "    </tr>\n",
       "    <tr>\n",
       "      <td>7</td>\n",
       "      <td>0.000500</td>\n",
       "      <td>0.132394</td>\n",
       "      <td>0.973000</td>\n",
       "      <td>0.973215</td>\n",
       "      <td>0.973103</td>\n",
       "      <td>0.973147</td>\n",
       "    </tr>\n",
       "  </tbody>\n",
       "</table><p>"
      ],
      "text/plain": [
       "<IPython.core.display.HTML object>"
      ]
     },
     "metadata": {},
     "output_type": "display_data"
    },
    {
     "name": "stderr",
     "output_type": "stream",
     "text": [
      "[I 2025-03-30 06:16:16,338] Trial 109 finished with value: 0.9731471393902427 and parameters: {'learning_rate': 8.967758113070001e-05, 'weight_decay': 0.007, 'warmup_steps': 25}. Best is trial 67 with value: 0.9746290627725797.\n"
     ]
    },
    {
     "name": "stdout",
     "output_type": "stream",
     "text": [
      "Trial 110 with params: {'learning_rate': 8.151680199857094e-05, 'weight_decay': 0.009000000000000001, 'warmup_steps': 18}\n"
     ]
    },
    {
     "name": "stderr",
     "output_type": "stream",
     "text": [
      "Some weights of TimmWrapperForImageClassification were not initialized from the model checkpoint at timm/tiny_vit_5m_224.in1k and are newly initialized because the shapes did not match:\n",
      "- head.fc.bias: found shape torch.Size([1000]) in the checkpoint and torch.Size([10]) in the model instantiated\n",
      "- head.fc.weight: found shape torch.Size([1000, 320]) in the checkpoint and torch.Size([10, 320]) in the model instantiated\n",
      "You should probably TRAIN this model on a down-stream task to be able to use it for predictions and inference.\n"
     ]
    },
    {
     "data": {
      "text/html": [
       "\n",
       "    <div>\n",
       "      \n",
       "      <progress value='1252' max='2191' style='width:300px; height:20px; vertical-align: middle;'></progress>\n",
       "      [1252/2191 05:34 < 04:11, 3.73 it/s, Epoch 4/7]\n",
       "    </div>\n",
       "    <table border=\"1\" class=\"dataframe\">\n",
       "  <thead>\n",
       " <tr style=\"text-align: left;\">\n",
       "      <th>Epoch</th>\n",
       "      <th>Training Loss</th>\n",
       "      <th>Validation Loss</th>\n",
       "      <th>Accuracy</th>\n",
       "      <th>Precision</th>\n",
       "      <th>Recall</th>\n",
       "      <th>F1</th>\n",
       "    </tr>\n",
       "  </thead>\n",
       "  <tbody>\n",
       "    <tr>\n",
       "      <td>1</td>\n",
       "      <td>0.499900</td>\n",
       "      <td>0.170178</td>\n",
       "      <td>0.943500</td>\n",
       "      <td>0.945741</td>\n",
       "      <td>0.943742</td>\n",
       "      <td>0.943889</td>\n",
       "    </tr>\n",
       "    <tr>\n",
       "      <td>2</td>\n",
       "      <td>0.094600</td>\n",
       "      <td>0.122508</td>\n",
       "      <td>0.960700</td>\n",
       "      <td>0.960957</td>\n",
       "      <td>0.960900</td>\n",
       "      <td>0.960810</td>\n",
       "    </tr>\n",
       "    <tr>\n",
       "      <td>3</td>\n",
       "      <td>0.038300</td>\n",
       "      <td>0.118920</td>\n",
       "      <td>0.966100</td>\n",
       "      <td>0.966055</td>\n",
       "      <td>0.966297</td>\n",
       "      <td>0.966145</td>\n",
       "    </tr>\n",
       "    <tr>\n",
       "      <td>4</td>\n",
       "      <td>0.015400</td>\n",
       "      <td>0.138279</td>\n",
       "      <td>0.964200</td>\n",
       "      <td>0.964755</td>\n",
       "      <td>0.964334</td>\n",
       "      <td>0.964320</td>\n",
       "    </tr>\n",
       "  </tbody>\n",
       "</table><p>"
      ],
      "text/plain": [
       "<IPython.core.display.HTML object>"
      ]
     },
     "metadata": {},
     "output_type": "display_data"
    },
    {
     "name": "stderr",
     "output_type": "stream",
     "text": [
      "[I 2025-03-30 06:21:53,230] Trial 110 pruned. \n"
     ]
    },
    {
     "name": "stdout",
     "output_type": "stream",
     "text": [
      "Trial 111 with params: {'learning_rate': 5.320320856550781e-05, 'weight_decay': 0.007, 'warmup_steps': 22}\n"
     ]
    },
    {
     "name": "stderr",
     "output_type": "stream",
     "text": [
      "Some weights of TimmWrapperForImageClassification were not initialized from the model checkpoint at timm/tiny_vit_5m_224.in1k and are newly initialized because the shapes did not match:\n",
      "- head.fc.bias: found shape torch.Size([1000]) in the checkpoint and torch.Size([10]) in the model instantiated\n",
      "- head.fc.weight: found shape torch.Size([1000, 320]) in the checkpoint and torch.Size([10, 320]) in the model instantiated\n",
      "You should probably TRAIN this model on a down-stream task to be able to use it for predictions and inference.\n"
     ]
    },
    {
     "data": {
      "text/html": [
       "\n",
       "    <div>\n",
       "      \n",
       "      <progress value='1252' max='2191' style='width:300px; height:20px; vertical-align: middle;'></progress>\n",
       "      [1252/2191 05:32 < 04:09, 3.76 it/s, Epoch 4/7]\n",
       "    </div>\n",
       "    <table border=\"1\" class=\"dataframe\">\n",
       "  <thead>\n",
       " <tr style=\"text-align: left;\">\n",
       "      <th>Epoch</th>\n",
       "      <th>Training Loss</th>\n",
       "      <th>Validation Loss</th>\n",
       "      <th>Accuracy</th>\n",
       "      <th>Precision</th>\n",
       "      <th>Recall</th>\n",
       "      <th>F1</th>\n",
       "    </tr>\n",
       "  </thead>\n",
       "  <tbody>\n",
       "    <tr>\n",
       "      <td>1</td>\n",
       "      <td>0.591900</td>\n",
       "      <td>0.167232</td>\n",
       "      <td>0.947700</td>\n",
       "      <td>0.949095</td>\n",
       "      <td>0.947801</td>\n",
       "      <td>0.948040</td>\n",
       "    </tr>\n",
       "    <tr>\n",
       "      <td>2</td>\n",
       "      <td>0.097600</td>\n",
       "      <td>0.132922</td>\n",
       "      <td>0.956900</td>\n",
       "      <td>0.957303</td>\n",
       "      <td>0.957018</td>\n",
       "      <td>0.957024</td>\n",
       "    </tr>\n",
       "    <tr>\n",
       "      <td>3</td>\n",
       "      <td>0.042200</td>\n",
       "      <td>0.126920</td>\n",
       "      <td>0.962500</td>\n",
       "      <td>0.962620</td>\n",
       "      <td>0.962637</td>\n",
       "      <td>0.962568</td>\n",
       "    </tr>\n",
       "    <tr>\n",
       "      <td>4</td>\n",
       "      <td>0.016000</td>\n",
       "      <td>0.136806</td>\n",
       "      <td>0.964800</td>\n",
       "      <td>0.964908</td>\n",
       "      <td>0.964941</td>\n",
       "      <td>0.964910</td>\n",
       "    </tr>\n",
       "  </tbody>\n",
       "</table><p>"
      ],
      "text/plain": [
       "<IPython.core.display.HTML object>"
      ]
     },
     "metadata": {},
     "output_type": "display_data"
    },
    {
     "name": "stderr",
     "output_type": "stream",
     "text": [
      "[I 2025-03-30 06:27:27,605] Trial 111 pruned. \n"
     ]
    },
    {
     "name": "stdout",
     "output_type": "stream",
     "text": [
      "Trial 112 with params: {'learning_rate': 9.712315393149582e-05, 'weight_decay': 0.007, 'warmup_steps': 27}\n"
     ]
    },
    {
     "name": "stderr",
     "output_type": "stream",
     "text": [
      "Some weights of TimmWrapperForImageClassification were not initialized from the model checkpoint at timm/tiny_vit_5m_224.in1k and are newly initialized because the shapes did not match:\n",
      "- head.fc.bias: found shape torch.Size([1000]) in the checkpoint and torch.Size([10]) in the model instantiated\n",
      "- head.fc.weight: found shape torch.Size([1000, 320]) in the checkpoint and torch.Size([10, 320]) in the model instantiated\n",
      "You should probably TRAIN this model on a down-stream task to be able to use it for predictions and inference.\n"
     ]
    },
    {
     "data": {
      "text/html": [
       "\n",
       "    <div>\n",
       "      \n",
       "      <progress value='2191' max='2191' style='width:300px; height:20px; vertical-align: middle;'></progress>\n",
       "      [2191/2191 09:43, Epoch 7/7]\n",
       "    </div>\n",
       "    <table border=\"1\" class=\"dataframe\">\n",
       "  <thead>\n",
       " <tr style=\"text-align: left;\">\n",
       "      <th>Epoch</th>\n",
       "      <th>Training Loss</th>\n",
       "      <th>Validation Loss</th>\n",
       "      <th>Accuracy</th>\n",
       "      <th>Precision</th>\n",
       "      <th>Recall</th>\n",
       "      <th>F1</th>\n",
       "    </tr>\n",
       "  </thead>\n",
       "  <tbody>\n",
       "    <tr>\n",
       "      <td>1</td>\n",
       "      <td>0.490100</td>\n",
       "      <td>0.167578</td>\n",
       "      <td>0.944200</td>\n",
       "      <td>0.946800</td>\n",
       "      <td>0.944355</td>\n",
       "      <td>0.944523</td>\n",
       "    </tr>\n",
       "    <tr>\n",
       "      <td>2</td>\n",
       "      <td>0.090100</td>\n",
       "      <td>0.116376</td>\n",
       "      <td>0.961700</td>\n",
       "      <td>0.961936</td>\n",
       "      <td>0.961906</td>\n",
       "      <td>0.961842</td>\n",
       "    </tr>\n",
       "    <tr>\n",
       "      <td>3</td>\n",
       "      <td>0.040300</td>\n",
       "      <td>0.126801</td>\n",
       "      <td>0.963600</td>\n",
       "      <td>0.964275</td>\n",
       "      <td>0.963725</td>\n",
       "      <td>0.963785</td>\n",
       "    </tr>\n",
       "    <tr>\n",
       "      <td>4</td>\n",
       "      <td>0.018400</td>\n",
       "      <td>0.131314</td>\n",
       "      <td>0.967900</td>\n",
       "      <td>0.968178</td>\n",
       "      <td>0.968073</td>\n",
       "      <td>0.968014</td>\n",
       "    </tr>\n",
       "    <tr>\n",
       "      <td>5</td>\n",
       "      <td>0.006000</td>\n",
       "      <td>0.130232</td>\n",
       "      <td>0.971200</td>\n",
       "      <td>0.971257</td>\n",
       "      <td>0.971352</td>\n",
       "      <td>0.971280</td>\n",
       "    </tr>\n",
       "    <tr>\n",
       "      <td>6</td>\n",
       "      <td>0.001600</td>\n",
       "      <td>0.133706</td>\n",
       "      <td>0.972200</td>\n",
       "      <td>0.972338</td>\n",
       "      <td>0.972348</td>\n",
       "      <td>0.972333</td>\n",
       "    </tr>\n",
       "    <tr>\n",
       "      <td>7</td>\n",
       "      <td>0.000700</td>\n",
       "      <td>0.133325</td>\n",
       "      <td>0.972400</td>\n",
       "      <td>0.972443</td>\n",
       "      <td>0.972554</td>\n",
       "      <td>0.972489</td>\n",
       "    </tr>\n",
       "  </tbody>\n",
       "</table><p>"
      ],
      "text/plain": [
       "<IPython.core.display.HTML object>"
      ]
     },
     "metadata": {},
     "output_type": "display_data"
    },
    {
     "name": "stderr",
     "output_type": "stream",
     "text": [
      "[I 2025-03-30 06:37:14,385] Trial 112 finished with value: 0.9724886290579775 and parameters: {'learning_rate': 9.712315393149582e-05, 'weight_decay': 0.007, 'warmup_steps': 27}. Best is trial 67 with value: 0.9746290627725797.\n"
     ]
    },
    {
     "name": "stdout",
     "output_type": "stream",
     "text": [
      "Trial 113 with params: {'learning_rate': 9.531486307332714e-05, 'weight_decay': 0.007, 'warmup_steps': 27}\n"
     ]
    },
    {
     "name": "stderr",
     "output_type": "stream",
     "text": [
      "Some weights of TimmWrapperForImageClassification were not initialized from the model checkpoint at timm/tiny_vit_5m_224.in1k and are newly initialized because the shapes did not match:\n",
      "- head.fc.bias: found shape torch.Size([1000]) in the checkpoint and torch.Size([10]) in the model instantiated\n",
      "- head.fc.weight: found shape torch.Size([1000, 320]) in the checkpoint and torch.Size([10, 320]) in the model instantiated\n",
      "You should probably TRAIN this model on a down-stream task to be able to use it for predictions and inference.\n"
     ]
    },
    {
     "data": {
      "text/html": [
       "\n",
       "    <div>\n",
       "      \n",
       "      <progress value='2191' max='2191' style='width:300px; height:20px; vertical-align: middle;'></progress>\n",
       "      [2191/2191 09:41, Epoch 7/7]\n",
       "    </div>\n",
       "    <table border=\"1\" class=\"dataframe\">\n",
       "  <thead>\n",
       " <tr style=\"text-align: left;\">\n",
       "      <th>Epoch</th>\n",
       "      <th>Training Loss</th>\n",
       "      <th>Validation Loss</th>\n",
       "      <th>Accuracy</th>\n",
       "      <th>Precision</th>\n",
       "      <th>Recall</th>\n",
       "      <th>F1</th>\n",
       "    </tr>\n",
       "  </thead>\n",
       "  <tbody>\n",
       "    <tr>\n",
       "      <td>1</td>\n",
       "      <td>0.495100</td>\n",
       "      <td>0.175469</td>\n",
       "      <td>0.942600</td>\n",
       "      <td>0.946678</td>\n",
       "      <td>0.942685</td>\n",
       "      <td>0.943326</td>\n",
       "    </tr>\n",
       "    <tr>\n",
       "      <td>2</td>\n",
       "      <td>0.091700</td>\n",
       "      <td>0.116126</td>\n",
       "      <td>0.961300</td>\n",
       "      <td>0.961878</td>\n",
       "      <td>0.961368</td>\n",
       "      <td>0.961519</td>\n",
       "    </tr>\n",
       "    <tr>\n",
       "      <td>3</td>\n",
       "      <td>0.038200</td>\n",
       "      <td>0.123098</td>\n",
       "      <td>0.964200</td>\n",
       "      <td>0.964553</td>\n",
       "      <td>0.964336</td>\n",
       "      <td>0.964319</td>\n",
       "    </tr>\n",
       "    <tr>\n",
       "      <td>4</td>\n",
       "      <td>0.016900</td>\n",
       "      <td>0.132723</td>\n",
       "      <td>0.968300</td>\n",
       "      <td>0.968395</td>\n",
       "      <td>0.968462</td>\n",
       "      <td>0.968397</td>\n",
       "    </tr>\n",
       "    <tr>\n",
       "      <td>5</td>\n",
       "      <td>0.005700</td>\n",
       "      <td>0.132848</td>\n",
       "      <td>0.970600</td>\n",
       "      <td>0.971017</td>\n",
       "      <td>0.970680</td>\n",
       "      <td>0.970751</td>\n",
       "    </tr>\n",
       "    <tr>\n",
       "      <td>6</td>\n",
       "      <td>0.001400</td>\n",
       "      <td>0.129039</td>\n",
       "      <td>0.972600</td>\n",
       "      <td>0.972825</td>\n",
       "      <td>0.972685</td>\n",
       "      <td>0.972728</td>\n",
       "    </tr>\n",
       "    <tr>\n",
       "      <td>7</td>\n",
       "      <td>0.000500</td>\n",
       "      <td>0.128906</td>\n",
       "      <td>0.973300</td>\n",
       "      <td>0.973419</td>\n",
       "      <td>0.973396</td>\n",
       "      <td>0.973392</td>\n",
       "    </tr>\n",
       "  </tbody>\n",
       "</table><p>"
      ],
      "text/plain": [
       "<IPython.core.display.HTML object>"
      ]
     },
     "metadata": {},
     "output_type": "display_data"
    },
    {
     "name": "stderr",
     "output_type": "stream",
     "text": [
      "[I 2025-03-30 06:46:59,315] Trial 113 finished with value: 0.9733916772087708 and parameters: {'learning_rate': 9.531486307332714e-05, 'weight_decay': 0.007, 'warmup_steps': 27}. Best is trial 67 with value: 0.9746290627725797.\n"
     ]
    },
    {
     "name": "stdout",
     "output_type": "stream",
     "text": [
      "Trial 114 with params: {'learning_rate': 0.00011092880575613935, 'weight_decay': 0.007, 'warmup_steps': 25}\n"
     ]
    },
    {
     "name": "stderr",
     "output_type": "stream",
     "text": [
      "Some weights of TimmWrapperForImageClassification were not initialized from the model checkpoint at timm/tiny_vit_5m_224.in1k and are newly initialized because the shapes did not match:\n",
      "- head.fc.bias: found shape torch.Size([1000]) in the checkpoint and torch.Size([10]) in the model instantiated\n",
      "- head.fc.weight: found shape torch.Size([1000, 320]) in the checkpoint and torch.Size([10, 320]) in the model instantiated\n",
      "You should probably TRAIN this model on a down-stream task to be able to use it for predictions and inference.\n"
     ]
    },
    {
     "data": {
      "text/html": [
       "\n",
       "    <div>\n",
       "      \n",
       "      <progress value='2191' max='2191' style='width:300px; height:20px; vertical-align: middle;'></progress>\n",
       "      [2191/2191 09:42, Epoch 7/7]\n",
       "    </div>\n",
       "    <table border=\"1\" class=\"dataframe\">\n",
       "  <thead>\n",
       " <tr style=\"text-align: left;\">\n",
       "      <th>Epoch</th>\n",
       "      <th>Training Loss</th>\n",
       "      <th>Validation Loss</th>\n",
       "      <th>Accuracy</th>\n",
       "      <th>Precision</th>\n",
       "      <th>Recall</th>\n",
       "      <th>F1</th>\n",
       "    </tr>\n",
       "  </thead>\n",
       "  <tbody>\n",
       "    <tr>\n",
       "      <td>1</td>\n",
       "      <td>0.481200</td>\n",
       "      <td>0.176779</td>\n",
       "      <td>0.941800</td>\n",
       "      <td>0.946343</td>\n",
       "      <td>0.941884</td>\n",
       "      <td>0.942691</td>\n",
       "    </tr>\n",
       "    <tr>\n",
       "      <td>2</td>\n",
       "      <td>0.091800</td>\n",
       "      <td>0.133048</td>\n",
       "      <td>0.955500</td>\n",
       "      <td>0.955985</td>\n",
       "      <td>0.955730</td>\n",
       "      <td>0.955618</td>\n",
       "    </tr>\n",
       "    <tr>\n",
       "      <td>3</td>\n",
       "      <td>0.040100</td>\n",
       "      <td>0.120944</td>\n",
       "      <td>0.965400</td>\n",
       "      <td>0.965693</td>\n",
       "      <td>0.965508</td>\n",
       "      <td>0.965544</td>\n",
       "    </tr>\n",
       "    <tr>\n",
       "      <td>4</td>\n",
       "      <td>0.019300</td>\n",
       "      <td>0.129736</td>\n",
       "      <td>0.965900</td>\n",
       "      <td>0.966233</td>\n",
       "      <td>0.966026</td>\n",
       "      <td>0.966089</td>\n",
       "    </tr>\n",
       "    <tr>\n",
       "      <td>5</td>\n",
       "      <td>0.006700</td>\n",
       "      <td>0.137211</td>\n",
       "      <td>0.970100</td>\n",
       "      <td>0.970667</td>\n",
       "      <td>0.970268</td>\n",
       "      <td>0.970270</td>\n",
       "    </tr>\n",
       "    <tr>\n",
       "      <td>6</td>\n",
       "      <td>0.001800</td>\n",
       "      <td>0.134849</td>\n",
       "      <td>0.971900</td>\n",
       "      <td>0.972030</td>\n",
       "      <td>0.971990</td>\n",
       "      <td>0.972003</td>\n",
       "    </tr>\n",
       "    <tr>\n",
       "      <td>7</td>\n",
       "      <td>0.000500</td>\n",
       "      <td>0.135013</td>\n",
       "      <td>0.971600</td>\n",
       "      <td>0.971683</td>\n",
       "      <td>0.971742</td>\n",
       "      <td>0.971706</td>\n",
       "    </tr>\n",
       "  </tbody>\n",
       "</table><p>"
      ],
      "text/plain": [
       "<IPython.core.display.HTML object>"
      ]
     },
     "metadata": {},
     "output_type": "display_data"
    },
    {
     "name": "stderr",
     "output_type": "stream",
     "text": [
      "[I 2025-03-30 06:56:44,490] Trial 114 finished with value: 0.9717064882341813 and parameters: {'learning_rate': 0.00011092880575613935, 'weight_decay': 0.007, 'warmup_steps': 25}. Best is trial 67 with value: 0.9746290627725797.\n"
     ]
    },
    {
     "name": "stdout",
     "output_type": "stream",
     "text": [
      "Trial 115 with params: {'learning_rate': 0.0001745698577191295, 'weight_decay': 0.005, 'warmup_steps': 24}\n"
     ]
    },
    {
     "name": "stderr",
     "output_type": "stream",
     "text": [
      "Some weights of TimmWrapperForImageClassification were not initialized from the model checkpoint at timm/tiny_vit_5m_224.in1k and are newly initialized because the shapes did not match:\n",
      "- head.fc.bias: found shape torch.Size([1000]) in the checkpoint and torch.Size([10]) in the model instantiated\n",
      "- head.fc.weight: found shape torch.Size([1000, 320]) in the checkpoint and torch.Size([10, 320]) in the model instantiated\n",
      "You should probably TRAIN this model on a down-stream task to be able to use it for predictions and inference.\n"
     ]
    },
    {
     "data": {
      "text/html": [
       "\n",
       "    <div>\n",
       "      \n",
       "      <progress value='626' max='2191' style='width:300px; height:20px; vertical-align: middle;'></progress>\n",
       "      [ 626/2191 02:44 < 06:51, 3.80 it/s, Epoch 2/7]\n",
       "    </div>\n",
       "    <table border=\"1\" class=\"dataframe\">\n",
       "  <thead>\n",
       " <tr style=\"text-align: left;\">\n",
       "      <th>Epoch</th>\n",
       "      <th>Training Loss</th>\n",
       "      <th>Validation Loss</th>\n",
       "      <th>Accuracy</th>\n",
       "      <th>Precision</th>\n",
       "      <th>Recall</th>\n",
       "      <th>F1</th>\n",
       "    </tr>\n",
       "  </thead>\n",
       "  <tbody>\n",
       "    <tr>\n",
       "      <td>1</td>\n",
       "      <td>0.449500</td>\n",
       "      <td>0.197540</td>\n",
       "      <td>0.935700</td>\n",
       "      <td>0.938077</td>\n",
       "      <td>0.935965</td>\n",
       "      <td>0.935656</td>\n",
       "    </tr>\n",
       "    <tr>\n",
       "      <td>2</td>\n",
       "      <td>0.106400</td>\n",
       "      <td>0.166857</td>\n",
       "      <td>0.945700</td>\n",
       "      <td>0.947160</td>\n",
       "      <td>0.945957</td>\n",
       "      <td>0.945719</td>\n",
       "    </tr>\n",
       "  </tbody>\n",
       "</table><p>"
      ],
      "text/plain": [
       "<IPython.core.display.HTML object>"
      ]
     },
     "metadata": {},
     "output_type": "display_data"
    },
    {
     "name": "stderr",
     "output_type": "stream",
     "text": [
      "[I 2025-03-30 06:59:30,539] Trial 115 pruned. \n"
     ]
    },
    {
     "name": "stdout",
     "output_type": "stream",
     "text": [
      "Trial 116 with params: {'learning_rate': 5.2717703637833475e-05, 'weight_decay': 0.006, 'warmup_steps': 30}\n"
     ]
    },
    {
     "name": "stderr",
     "output_type": "stream",
     "text": [
      "Some weights of TimmWrapperForImageClassification were not initialized from the model checkpoint at timm/tiny_vit_5m_224.in1k and are newly initialized because the shapes did not match:\n",
      "- head.fc.bias: found shape torch.Size([1000]) in the checkpoint and torch.Size([10]) in the model instantiated\n",
      "- head.fc.weight: found shape torch.Size([1000, 320]) in the checkpoint and torch.Size([10, 320]) in the model instantiated\n",
      "You should probably TRAIN this model on a down-stream task to be able to use it for predictions and inference.\n"
     ]
    },
    {
     "data": {
      "text/html": [
       "\n",
       "    <div>\n",
       "      \n",
       "      <progress value='2191' max='2191' style='width:300px; height:20px; vertical-align: middle;'></progress>\n",
       "      [2191/2191 10:31, Epoch 7/7]\n",
       "    </div>\n",
       "    <table border=\"1\" class=\"dataframe\">\n",
       "  <thead>\n",
       " <tr style=\"text-align: left;\">\n",
       "      <th>Epoch</th>\n",
       "      <th>Training Loss</th>\n",
       "      <th>Validation Loss</th>\n",
       "      <th>Accuracy</th>\n",
       "      <th>Precision</th>\n",
       "      <th>Recall</th>\n",
       "      <th>F1</th>\n",
       "    </tr>\n",
       "  </thead>\n",
       "  <tbody>\n",
       "    <tr>\n",
       "      <td>1</td>\n",
       "      <td>0.603500</td>\n",
       "      <td>0.163510</td>\n",
       "      <td>0.948400</td>\n",
       "      <td>0.950402</td>\n",
       "      <td>0.948422</td>\n",
       "      <td>0.948996</td>\n",
       "    </tr>\n",
       "    <tr>\n",
       "      <td>2</td>\n",
       "      <td>0.105500</td>\n",
       "      <td>0.123079</td>\n",
       "      <td>0.961600</td>\n",
       "      <td>0.962190</td>\n",
       "      <td>0.961754</td>\n",
       "      <td>0.961792</td>\n",
       "    </tr>\n",
       "    <tr>\n",
       "      <td>3</td>\n",
       "      <td>0.044600</td>\n",
       "      <td>0.125655</td>\n",
       "      <td>0.963800</td>\n",
       "      <td>0.964023</td>\n",
       "      <td>0.963881</td>\n",
       "      <td>0.963900</td>\n",
       "    </tr>\n",
       "    <tr>\n",
       "      <td>4</td>\n",
       "      <td>0.018200</td>\n",
       "      <td>0.133344</td>\n",
       "      <td>0.966800</td>\n",
       "      <td>0.966967</td>\n",
       "      <td>0.966911</td>\n",
       "      <td>0.966910</td>\n",
       "    </tr>\n",
       "    <tr>\n",
       "      <td>5</td>\n",
       "      <td>0.006500</td>\n",
       "      <td>0.145029</td>\n",
       "      <td>0.967600</td>\n",
       "      <td>0.967876</td>\n",
       "      <td>0.967676</td>\n",
       "      <td>0.967725</td>\n",
       "    </tr>\n",
       "    <tr>\n",
       "      <td>6</td>\n",
       "      <td>0.002500</td>\n",
       "      <td>0.152239</td>\n",
       "      <td>0.967100</td>\n",
       "      <td>0.967444</td>\n",
       "      <td>0.967159</td>\n",
       "      <td>0.967265</td>\n",
       "    </tr>\n",
       "    <tr>\n",
       "      <td>7</td>\n",
       "      <td>0.001200</td>\n",
       "      <td>0.154766</td>\n",
       "      <td>0.967700</td>\n",
       "      <td>0.967872</td>\n",
       "      <td>0.967802</td>\n",
       "      <td>0.967823</td>\n",
       "    </tr>\n",
       "  </tbody>\n",
       "</table><p>"
      ],
      "text/plain": [
       "<IPython.core.display.HTML object>"
      ]
     },
     "metadata": {},
     "output_type": "display_data"
    },
    {
     "name": "stderr",
     "output_type": "stream",
     "text": [
      "[I 2025-03-30 07:10:04,584] Trial 116 finished with value: 0.9678226720898128 and parameters: {'learning_rate': 5.2717703637833475e-05, 'weight_decay': 0.006, 'warmup_steps': 30}. Best is trial 67 with value: 0.9746290627725797.\n"
     ]
    },
    {
     "name": "stdout",
     "output_type": "stream",
     "text": [
      "Trial 117 with params: {'learning_rate': 0.0027121193476131807, 'weight_decay': 0.009000000000000001, 'warmup_steps': 18}\n"
     ]
    },
    {
     "name": "stderr",
     "output_type": "stream",
     "text": [
      "Some weights of TimmWrapperForImageClassification were not initialized from the model checkpoint at timm/tiny_vit_5m_224.in1k and are newly initialized because the shapes did not match:\n",
      "- head.fc.bias: found shape torch.Size([1000]) in the checkpoint and torch.Size([10]) in the model instantiated\n",
      "- head.fc.weight: found shape torch.Size([1000, 320]) in the checkpoint and torch.Size([10, 320]) in the model instantiated\n",
      "You should probably TRAIN this model on a down-stream task to be able to use it for predictions and inference.\n"
     ]
    },
    {
     "data": {
      "text/html": [
       "\n",
       "    <div>\n",
       "      \n",
       "      <progress value='626' max='2191' style='width:300px; height:20px; vertical-align: middle;'></progress>\n",
       "      [ 626/2191 02:45 < 06:53, 3.78 it/s, Epoch 2/7]\n",
       "    </div>\n",
       "    <table border=\"1\" class=\"dataframe\">\n",
       "  <thead>\n",
       " <tr style=\"text-align: left;\">\n",
       "      <th>Epoch</th>\n",
       "      <th>Training Loss</th>\n",
       "      <th>Validation Loss</th>\n",
       "      <th>Accuracy</th>\n",
       "      <th>Precision</th>\n",
       "      <th>Recall</th>\n",
       "      <th>F1</th>\n",
       "    </tr>\n",
       "  </thead>\n",
       "  <tbody>\n",
       "    <tr>\n",
       "      <td>1</td>\n",
       "      <td>1.499000</td>\n",
       "      <td>1.830881</td>\n",
       "      <td>0.385300</td>\n",
       "      <td>0.411548</td>\n",
       "      <td>0.386306</td>\n",
       "      <td>0.358818</td>\n",
       "    </tr>\n",
       "    <tr>\n",
       "      <td>2</td>\n",
       "      <td>1.320000</td>\n",
       "      <td>1.377711</td>\n",
       "      <td>0.503500</td>\n",
       "      <td>0.547051</td>\n",
       "      <td>0.504523</td>\n",
       "      <td>0.478944</td>\n",
       "    </tr>\n",
       "  </tbody>\n",
       "</table><p>"
      ],
      "text/plain": [
       "<IPython.core.display.HTML object>"
      ]
     },
     "metadata": {},
     "output_type": "display_data"
    },
    {
     "name": "stderr",
     "output_type": "stream",
     "text": [
      "[I 2025-03-30 07:12:51,402] Trial 117 pruned. \n"
     ]
    },
    {
     "name": "stdout",
     "output_type": "stream",
     "text": [
      "Trial 118 with params: {'learning_rate': 0.00010188457962913947, 'weight_decay': 0.008, 'warmup_steps': 26}\n"
     ]
    },
    {
     "name": "stderr",
     "output_type": "stream",
     "text": [
      "Some weights of TimmWrapperForImageClassification were not initialized from the model checkpoint at timm/tiny_vit_5m_224.in1k and are newly initialized because the shapes did not match:\n",
      "- head.fc.bias: found shape torch.Size([1000]) in the checkpoint and torch.Size([10]) in the model instantiated\n",
      "- head.fc.weight: found shape torch.Size([1000, 320]) in the checkpoint and torch.Size([10, 320]) in the model instantiated\n",
      "You should probably TRAIN this model on a down-stream task to be able to use it for predictions and inference.\n"
     ]
    },
    {
     "data": {
      "text/html": [
       "\n",
       "    <div>\n",
       "      \n",
       "      <progress value='1252' max='2191' style='width:300px; height:20px; vertical-align: middle;'></progress>\n",
       "      [1252/2191 05:34 < 04:11, 3.73 it/s, Epoch 4/7]\n",
       "    </div>\n",
       "    <table border=\"1\" class=\"dataframe\">\n",
       "  <thead>\n",
       " <tr style=\"text-align: left;\">\n",
       "      <th>Epoch</th>\n",
       "      <th>Training Loss</th>\n",
       "      <th>Validation Loss</th>\n",
       "      <th>Accuracy</th>\n",
       "      <th>Precision</th>\n",
       "      <th>Recall</th>\n",
       "      <th>F1</th>\n",
       "    </tr>\n",
       "  </thead>\n",
       "  <tbody>\n",
       "    <tr>\n",
       "      <td>1</td>\n",
       "      <td>0.495500</td>\n",
       "      <td>0.175822</td>\n",
       "      <td>0.940500</td>\n",
       "      <td>0.945125</td>\n",
       "      <td>0.940650</td>\n",
       "      <td>0.941479</td>\n",
       "    </tr>\n",
       "    <tr>\n",
       "      <td>2</td>\n",
       "      <td>0.093300</td>\n",
       "      <td>0.129425</td>\n",
       "      <td>0.958800</td>\n",
       "      <td>0.959420</td>\n",
       "      <td>0.958979</td>\n",
       "      <td>0.958954</td>\n",
       "    </tr>\n",
       "    <tr>\n",
       "      <td>3</td>\n",
       "      <td>0.042800</td>\n",
       "      <td>0.126026</td>\n",
       "      <td>0.964200</td>\n",
       "      <td>0.964344</td>\n",
       "      <td>0.964223</td>\n",
       "      <td>0.964208</td>\n",
       "    </tr>\n",
       "    <tr>\n",
       "      <td>4</td>\n",
       "      <td>0.018400</td>\n",
       "      <td>0.130308</td>\n",
       "      <td>0.965500</td>\n",
       "      <td>0.965890</td>\n",
       "      <td>0.965592</td>\n",
       "      <td>0.965662</td>\n",
       "    </tr>\n",
       "  </tbody>\n",
       "</table><p>"
      ],
      "text/plain": [
       "<IPython.core.display.HTML object>"
      ]
     },
     "metadata": {},
     "output_type": "display_data"
    },
    {
     "name": "stderr",
     "output_type": "stream",
     "text": [
      "[I 2025-03-30 07:18:28,106] Trial 118 pruned. \n"
     ]
    },
    {
     "name": "stdout",
     "output_type": "stream",
     "text": [
      "Trial 119 with params: {'learning_rate': 0.00019675195405497828, 'weight_decay': 0.007, 'warmup_steps': 28}\n"
     ]
    },
    {
     "name": "stderr",
     "output_type": "stream",
     "text": [
      "Some weights of TimmWrapperForImageClassification were not initialized from the model checkpoint at timm/tiny_vit_5m_224.in1k and are newly initialized because the shapes did not match:\n",
      "- head.fc.bias: found shape torch.Size([1000]) in the checkpoint and torch.Size([10]) in the model instantiated\n",
      "- head.fc.weight: found shape torch.Size([1000, 320]) in the checkpoint and torch.Size([10, 320]) in the model instantiated\n",
      "You should probably TRAIN this model on a down-stream task to be able to use it for predictions and inference.\n"
     ]
    },
    {
     "data": {
      "text/html": [
       "\n",
       "    <div>\n",
       "      \n",
       "      <progress value='1252' max='2191' style='width:300px; height:20px; vertical-align: middle;'></progress>\n",
       "      [1252/2191 05:31 < 04:08, 3.77 it/s, Epoch 4/7]\n",
       "    </div>\n",
       "    <table border=\"1\" class=\"dataframe\">\n",
       "  <thead>\n",
       " <tr style=\"text-align: left;\">\n",
       "      <th>Epoch</th>\n",
       "      <th>Training Loss</th>\n",
       "      <th>Validation Loss</th>\n",
       "      <th>Accuracy</th>\n",
       "      <th>Precision</th>\n",
       "      <th>Recall</th>\n",
       "      <th>F1</th>\n",
       "    </tr>\n",
       "  </thead>\n",
       "  <tbody>\n",
       "    <tr>\n",
       "      <td>1</td>\n",
       "      <td>0.440400</td>\n",
       "      <td>0.202859</td>\n",
       "      <td>0.933700</td>\n",
       "      <td>0.938311</td>\n",
       "      <td>0.933846</td>\n",
       "      <td>0.934515</td>\n",
       "    </tr>\n",
       "    <tr>\n",
       "      <td>2</td>\n",
       "      <td>0.106300</td>\n",
       "      <td>0.148895</td>\n",
       "      <td>0.952700</td>\n",
       "      <td>0.954249</td>\n",
       "      <td>0.952790</td>\n",
       "      <td>0.953048</td>\n",
       "    </tr>\n",
       "    <tr>\n",
       "      <td>3</td>\n",
       "      <td>0.060300</td>\n",
       "      <td>0.131246</td>\n",
       "      <td>0.960300</td>\n",
       "      <td>0.960850</td>\n",
       "      <td>0.960529</td>\n",
       "      <td>0.960520</td>\n",
       "    </tr>\n",
       "    <tr>\n",
       "      <td>4</td>\n",
       "      <td>0.029800</td>\n",
       "      <td>0.136256</td>\n",
       "      <td>0.963100</td>\n",
       "      <td>0.963482</td>\n",
       "      <td>0.963263</td>\n",
       "      <td>0.963306</td>\n",
       "    </tr>\n",
       "  </tbody>\n",
       "</table><p>"
      ],
      "text/plain": [
       "<IPython.core.display.HTML object>"
      ]
     },
     "metadata": {},
     "output_type": "display_data"
    },
    {
     "name": "stderr",
     "output_type": "stream",
     "text": [
      "[I 2025-03-30 07:24:01,369] Trial 119 pruned. \n"
     ]
    },
    {
     "name": "stdout",
     "output_type": "stream",
     "text": [
      "Trial 120 with params: {'learning_rate': 0.00013501072872136455, 'weight_decay': 0.006, 'warmup_steps': 17}\n"
     ]
    },
    {
     "name": "stderr",
     "output_type": "stream",
     "text": [
      "Some weights of TimmWrapperForImageClassification were not initialized from the model checkpoint at timm/tiny_vit_5m_224.in1k and are newly initialized because the shapes did not match:\n",
      "- head.fc.bias: found shape torch.Size([1000]) in the checkpoint and torch.Size([10]) in the model instantiated\n",
      "- head.fc.weight: found shape torch.Size([1000, 320]) in the checkpoint and torch.Size([10, 320]) in the model instantiated\n",
      "You should probably TRAIN this model on a down-stream task to be able to use it for predictions and inference.\n"
     ]
    },
    {
     "data": {
      "text/html": [
       "\n",
       "    <div>\n",
       "      \n",
       "      <progress value='626' max='2191' style='width:300px; height:20px; vertical-align: middle;'></progress>\n",
       "      [ 626/2191 02:44 < 06:52, 3.80 it/s, Epoch 2/7]\n",
       "    </div>\n",
       "    <table border=\"1\" class=\"dataframe\">\n",
       "  <thead>\n",
       " <tr style=\"text-align: left;\">\n",
       "      <th>Epoch</th>\n",
       "      <th>Training Loss</th>\n",
       "      <th>Validation Loss</th>\n",
       "      <th>Accuracy</th>\n",
       "      <th>Precision</th>\n",
       "      <th>Recall</th>\n",
       "      <th>F1</th>\n",
       "    </tr>\n",
       "  </thead>\n",
       "  <tbody>\n",
       "    <tr>\n",
       "      <td>1</td>\n",
       "      <td>0.441400</td>\n",
       "      <td>0.175811</td>\n",
       "      <td>0.943700</td>\n",
       "      <td>0.946499</td>\n",
       "      <td>0.943714</td>\n",
       "      <td>0.944056</td>\n",
       "    </tr>\n",
       "    <tr>\n",
       "      <td>2</td>\n",
       "      <td>0.096000</td>\n",
       "      <td>0.135413</td>\n",
       "      <td>0.954700</td>\n",
       "      <td>0.955932</td>\n",
       "      <td>0.954841</td>\n",
       "      <td>0.955050</td>\n",
       "    </tr>\n",
       "  </tbody>\n",
       "</table><p>"
      ],
      "text/plain": [
       "<IPython.core.display.HTML object>"
      ]
     },
     "metadata": {},
     "output_type": "display_data"
    },
    {
     "name": "stderr",
     "output_type": "stream",
     "text": [
      "[I 2025-03-30 07:26:47,918] Trial 120 pruned. \n"
     ]
    },
    {
     "name": "stdout",
     "output_type": "stream",
     "text": [
      "Trial 121 with params: {'learning_rate': 0.00013070972010450813, 'weight_decay': 0.008, 'warmup_steps': 30}\n"
     ]
    },
    {
     "name": "stderr",
     "output_type": "stream",
     "text": [
      "Some weights of TimmWrapperForImageClassification were not initialized from the model checkpoint at timm/tiny_vit_5m_224.in1k and are newly initialized because the shapes did not match:\n",
      "- head.fc.bias: found shape torch.Size([1000]) in the checkpoint and torch.Size([10]) in the model instantiated\n",
      "- head.fc.weight: found shape torch.Size([1000, 320]) in the checkpoint and torch.Size([10, 320]) in the model instantiated\n",
      "You should probably TRAIN this model on a down-stream task to be able to use it for predictions and inference.\n"
     ]
    },
    {
     "data": {
      "text/html": [
       "\n",
       "    <div>\n",
       "      \n",
       "      <progress value='1252' max='2191' style='width:300px; height:20px; vertical-align: middle;'></progress>\n",
       "      [1252/2191 05:40 < 04:15, 3.67 it/s, Epoch 4/7]\n",
       "    </div>\n",
       "    <table border=\"1\" class=\"dataframe\">\n",
       "  <thead>\n",
       " <tr style=\"text-align: left;\">\n",
       "      <th>Epoch</th>\n",
       "      <th>Training Loss</th>\n",
       "      <th>Validation Loss</th>\n",
       "      <th>Accuracy</th>\n",
       "      <th>Precision</th>\n",
       "      <th>Recall</th>\n",
       "      <th>F1</th>\n",
       "    </tr>\n",
       "  </thead>\n",
       "  <tbody>\n",
       "    <tr>\n",
       "      <td>1</td>\n",
       "      <td>0.471400</td>\n",
       "      <td>0.196855</td>\n",
       "      <td>0.934500</td>\n",
       "      <td>0.940368</td>\n",
       "      <td>0.934741</td>\n",
       "      <td>0.935331</td>\n",
       "    </tr>\n",
       "    <tr>\n",
       "      <td>2</td>\n",
       "      <td>0.098100</td>\n",
       "      <td>0.136377</td>\n",
       "      <td>0.955500</td>\n",
       "      <td>0.956317</td>\n",
       "      <td>0.955712</td>\n",
       "      <td>0.955815</td>\n",
       "    </tr>\n",
       "    <tr>\n",
       "      <td>3</td>\n",
       "      <td>0.048500</td>\n",
       "      <td>0.121169</td>\n",
       "      <td>0.963500</td>\n",
       "      <td>0.963964</td>\n",
       "      <td>0.963576</td>\n",
       "      <td>0.963664</td>\n",
       "    </tr>\n",
       "    <tr>\n",
       "      <td>4</td>\n",
       "      <td>0.020300</td>\n",
       "      <td>0.140132</td>\n",
       "      <td>0.964100</td>\n",
       "      <td>0.964639</td>\n",
       "      <td>0.964268</td>\n",
       "      <td>0.964275</td>\n",
       "    </tr>\n",
       "  </tbody>\n",
       "</table><p>"
      ],
      "text/plain": [
       "<IPython.core.display.HTML object>"
      ]
     },
     "metadata": {},
     "output_type": "display_data"
    },
    {
     "name": "stderr",
     "output_type": "stream",
     "text": [
      "[I 2025-03-30 07:32:30,659] Trial 121 pruned. \n"
     ]
    },
    {
     "name": "stdout",
     "output_type": "stream",
     "text": [
      "Trial 122 with params: {'learning_rate': 6.540779845278149e-05, 'weight_decay': 0.006, 'warmup_steps': 24}\n"
     ]
    },
    {
     "name": "stderr",
     "output_type": "stream",
     "text": [
      "Some weights of TimmWrapperForImageClassification were not initialized from the model checkpoint at timm/tiny_vit_5m_224.in1k and are newly initialized because the shapes did not match:\n",
      "- head.fc.bias: found shape torch.Size([1000]) in the checkpoint and torch.Size([10]) in the model instantiated\n",
      "- head.fc.weight: found shape torch.Size([1000, 320]) in the checkpoint and torch.Size([10, 320]) in the model instantiated\n",
      "You should probably TRAIN this model on a down-stream task to be able to use it for predictions and inference.\n"
     ]
    },
    {
     "data": {
      "text/html": [
       "\n",
       "    <div>\n",
       "      \n",
       "      <progress value='1252' max='2191' style='width:300px; height:20px; vertical-align: middle;'></progress>\n",
       "      [1252/2191 05:31 < 04:09, 3.77 it/s, Epoch 4/7]\n",
       "    </div>\n",
       "    <table border=\"1\" class=\"dataframe\">\n",
       "  <thead>\n",
       " <tr style=\"text-align: left;\">\n",
       "      <th>Epoch</th>\n",
       "      <th>Training Loss</th>\n",
       "      <th>Validation Loss</th>\n",
       "      <th>Accuracy</th>\n",
       "      <th>Precision</th>\n",
       "      <th>Recall</th>\n",
       "      <th>F1</th>\n",
       "    </tr>\n",
       "  </thead>\n",
       "  <tbody>\n",
       "    <tr>\n",
       "      <td>1</td>\n",
       "      <td>0.537400</td>\n",
       "      <td>0.161358</td>\n",
       "      <td>0.949000</td>\n",
       "      <td>0.951307</td>\n",
       "      <td>0.948992</td>\n",
       "      <td>0.949528</td>\n",
       "    </tr>\n",
       "    <tr>\n",
       "      <td>2</td>\n",
       "      <td>0.096500</td>\n",
       "      <td>0.135395</td>\n",
       "      <td>0.955600</td>\n",
       "      <td>0.956149</td>\n",
       "      <td>0.955745</td>\n",
       "      <td>0.955729</td>\n",
       "    </tr>\n",
       "    <tr>\n",
       "      <td>3</td>\n",
       "      <td>0.046300</td>\n",
       "      <td>0.127693</td>\n",
       "      <td>0.962600</td>\n",
       "      <td>0.963289</td>\n",
       "      <td>0.962672</td>\n",
       "      <td>0.962801</td>\n",
       "    </tr>\n",
       "    <tr>\n",
       "      <td>4</td>\n",
       "      <td>0.018200</td>\n",
       "      <td>0.135122</td>\n",
       "      <td>0.966000</td>\n",
       "      <td>0.966208</td>\n",
       "      <td>0.966113</td>\n",
       "      <td>0.966114</td>\n",
       "    </tr>\n",
       "  </tbody>\n",
       "</table><p>"
      ],
      "text/plain": [
       "<IPython.core.display.HTML object>"
      ]
     },
     "metadata": {},
     "output_type": "display_data"
    },
    {
     "name": "stderr",
     "output_type": "stream",
     "text": [
      "[I 2025-03-30 07:38:04,456] Trial 122 pruned. \n"
     ]
    },
    {
     "name": "stdout",
     "output_type": "stream",
     "text": [
      "Trial 123 with params: {'learning_rate': 0.00011008229952490226, 'weight_decay': 0.006, 'warmup_steps': 26}\n"
     ]
    },
    {
     "name": "stderr",
     "output_type": "stream",
     "text": [
      "Some weights of TimmWrapperForImageClassification were not initialized from the model checkpoint at timm/tiny_vit_5m_224.in1k and are newly initialized because the shapes did not match:\n",
      "- head.fc.bias: found shape torch.Size([1000]) in the checkpoint and torch.Size([10]) in the model instantiated\n",
      "- head.fc.weight: found shape torch.Size([1000, 320]) in the checkpoint and torch.Size([10, 320]) in the model instantiated\n",
      "You should probably TRAIN this model on a down-stream task to be able to use it for predictions and inference.\n"
     ]
    },
    {
     "data": {
      "text/html": [
       "\n",
       "    <div>\n",
       "      \n",
       "      <progress value='2191' max='2191' style='width:300px; height:20px; vertical-align: middle;'></progress>\n",
       "      [2191/2191 09:40, Epoch 7/7]\n",
       "    </div>\n",
       "    <table border=\"1\" class=\"dataframe\">\n",
       "  <thead>\n",
       " <tr style=\"text-align: left;\">\n",
       "      <th>Epoch</th>\n",
       "      <th>Training Loss</th>\n",
       "      <th>Validation Loss</th>\n",
       "      <th>Accuracy</th>\n",
       "      <th>Precision</th>\n",
       "      <th>Recall</th>\n",
       "      <th>F1</th>\n",
       "    </tr>\n",
       "  </thead>\n",
       "  <tbody>\n",
       "    <tr>\n",
       "      <td>1</td>\n",
       "      <td>0.468600</td>\n",
       "      <td>0.187100</td>\n",
       "      <td>0.938200</td>\n",
       "      <td>0.942538</td>\n",
       "      <td>0.938205</td>\n",
       "      <td>0.938872</td>\n",
       "    </tr>\n",
       "    <tr>\n",
       "      <td>2</td>\n",
       "      <td>0.091300</td>\n",
       "      <td>0.131699</td>\n",
       "      <td>0.957900</td>\n",
       "      <td>0.958776</td>\n",
       "      <td>0.958024</td>\n",
       "      <td>0.958040</td>\n",
       "    </tr>\n",
       "    <tr>\n",
       "      <td>3</td>\n",
       "      <td>0.041200</td>\n",
       "      <td>0.118333</td>\n",
       "      <td>0.965300</td>\n",
       "      <td>0.965705</td>\n",
       "      <td>0.965333</td>\n",
       "      <td>0.965453</td>\n",
       "    </tr>\n",
       "    <tr>\n",
       "      <td>4</td>\n",
       "      <td>0.016500</td>\n",
       "      <td>0.135455</td>\n",
       "      <td>0.966900</td>\n",
       "      <td>0.967065</td>\n",
       "      <td>0.967029</td>\n",
       "      <td>0.967000</td>\n",
       "    </tr>\n",
       "    <tr>\n",
       "      <td>5</td>\n",
       "      <td>0.006200</td>\n",
       "      <td>0.135735</td>\n",
       "      <td>0.969100</td>\n",
       "      <td>0.969256</td>\n",
       "      <td>0.969276</td>\n",
       "      <td>0.969221</td>\n",
       "    </tr>\n",
       "    <tr>\n",
       "      <td>6</td>\n",
       "      <td>0.001400</td>\n",
       "      <td>0.135739</td>\n",
       "      <td>0.972100</td>\n",
       "      <td>0.972386</td>\n",
       "      <td>0.972157</td>\n",
       "      <td>0.972247</td>\n",
       "    </tr>\n",
       "    <tr>\n",
       "      <td>7</td>\n",
       "      <td>0.000500</td>\n",
       "      <td>0.134396</td>\n",
       "      <td>0.971900</td>\n",
       "      <td>0.972056</td>\n",
       "      <td>0.972039</td>\n",
       "      <td>0.972026</td>\n",
       "    </tr>\n",
       "  </tbody>\n",
       "</table><p>"
      ],
      "text/plain": [
       "<IPython.core.display.HTML object>"
      ]
     },
     "metadata": {},
     "output_type": "display_data"
    },
    {
     "name": "stderr",
     "output_type": "stream",
     "text": [
      "[I 2025-03-30 07:47:47,783] Trial 123 finished with value: 0.9720258086672494 and parameters: {'learning_rate': 0.00011008229952490226, 'weight_decay': 0.006, 'warmup_steps': 26}. Best is trial 67 with value: 0.9746290627725797.\n"
     ]
    },
    {
     "name": "stdout",
     "output_type": "stream",
     "text": [
      "Trial 124 with params: {'learning_rate': 8.497260814999432e-05, 'weight_decay': 0.008, 'warmup_steps': 26}\n"
     ]
    },
    {
     "name": "stderr",
     "output_type": "stream",
     "text": [
      "Some weights of TimmWrapperForImageClassification were not initialized from the model checkpoint at timm/tiny_vit_5m_224.in1k and are newly initialized because the shapes did not match:\n",
      "- head.fc.bias: found shape torch.Size([1000]) in the checkpoint and torch.Size([10]) in the model instantiated\n",
      "- head.fc.weight: found shape torch.Size([1000, 320]) in the checkpoint and torch.Size([10, 320]) in the model instantiated\n",
      "You should probably TRAIN this model on a down-stream task to be able to use it for predictions and inference.\n"
     ]
    },
    {
     "data": {
      "text/html": [
       "\n",
       "    <div>\n",
       "      \n",
       "      <progress value='2191' max='2191' style='width:300px; height:20px; vertical-align: middle;'></progress>\n",
       "      [2191/2191 09:45, Epoch 7/7]\n",
       "    </div>\n",
       "    <table border=\"1\" class=\"dataframe\">\n",
       "  <thead>\n",
       " <tr style=\"text-align: left;\">\n",
       "      <th>Epoch</th>\n",
       "      <th>Training Loss</th>\n",
       "      <th>Validation Loss</th>\n",
       "      <th>Accuracy</th>\n",
       "      <th>Precision</th>\n",
       "      <th>Recall</th>\n",
       "      <th>F1</th>\n",
       "    </tr>\n",
       "  </thead>\n",
       "  <tbody>\n",
       "    <tr>\n",
       "      <td>1</td>\n",
       "      <td>0.508500</td>\n",
       "      <td>0.147665</td>\n",
       "      <td>0.953100</td>\n",
       "      <td>0.954428</td>\n",
       "      <td>0.953174</td>\n",
       "      <td>0.953400</td>\n",
       "    </tr>\n",
       "    <tr>\n",
       "      <td>2</td>\n",
       "      <td>0.090800</td>\n",
       "      <td>0.129249</td>\n",
       "      <td>0.959600</td>\n",
       "      <td>0.960254</td>\n",
       "      <td>0.959781</td>\n",
       "      <td>0.959748</td>\n",
       "    </tr>\n",
       "    <tr>\n",
       "      <td>3</td>\n",
       "      <td>0.041400</td>\n",
       "      <td>0.122767</td>\n",
       "      <td>0.965300</td>\n",
       "      <td>0.965769</td>\n",
       "      <td>0.965378</td>\n",
       "      <td>0.965474</td>\n",
       "    </tr>\n",
       "    <tr>\n",
       "      <td>4</td>\n",
       "      <td>0.016400</td>\n",
       "      <td>0.130805</td>\n",
       "      <td>0.967600</td>\n",
       "      <td>0.967976</td>\n",
       "      <td>0.967638</td>\n",
       "      <td>0.967762</td>\n",
       "    </tr>\n",
       "    <tr>\n",
       "      <td>5</td>\n",
       "      <td>0.004900</td>\n",
       "      <td>0.141563</td>\n",
       "      <td>0.969400</td>\n",
       "      <td>0.969615</td>\n",
       "      <td>0.969525</td>\n",
       "      <td>0.969552</td>\n",
       "    </tr>\n",
       "    <tr>\n",
       "      <td>6</td>\n",
       "      <td>0.001600</td>\n",
       "      <td>0.142032</td>\n",
       "      <td>0.970300</td>\n",
       "      <td>0.970556</td>\n",
       "      <td>0.970358</td>\n",
       "      <td>0.970429</td>\n",
       "    </tr>\n",
       "    <tr>\n",
       "      <td>7</td>\n",
       "      <td>0.000600</td>\n",
       "      <td>0.141238</td>\n",
       "      <td>0.972000</td>\n",
       "      <td>0.972178</td>\n",
       "      <td>0.972097</td>\n",
       "      <td>0.972123</td>\n",
       "    </tr>\n",
       "  </tbody>\n",
       "</table><p>"
      ],
      "text/plain": [
       "<IPython.core.display.HTML object>"
      ]
     },
     "metadata": {},
     "output_type": "display_data"
    },
    {
     "name": "stderr",
     "output_type": "stream",
     "text": [
      "[I 2025-03-30 07:57:35,876] Trial 124 finished with value: 0.9721228189106135 and parameters: {'learning_rate': 8.497260814999432e-05, 'weight_decay': 0.008, 'warmup_steps': 26}. Best is trial 67 with value: 0.9746290627725797.\n"
     ]
    },
    {
     "name": "stdout",
     "output_type": "stream",
     "text": [
      "Trial 125 with params: {'learning_rate': 0.00010705347971676416, 'weight_decay': 0.007, 'warmup_steps': 29}\n"
     ]
    },
    {
     "name": "stderr",
     "output_type": "stream",
     "text": [
      "Some weights of TimmWrapperForImageClassification were not initialized from the model checkpoint at timm/tiny_vit_5m_224.in1k and are newly initialized because the shapes did not match:\n",
      "- head.fc.bias: found shape torch.Size([1000]) in the checkpoint and torch.Size([10]) in the model instantiated\n",
      "- head.fc.weight: found shape torch.Size([1000, 320]) in the checkpoint and torch.Size([10, 320]) in the model instantiated\n",
      "You should probably TRAIN this model on a down-stream task to be able to use it for predictions and inference.\n"
     ]
    },
    {
     "data": {
      "text/html": [
       "\n",
       "    <div>\n",
       "      \n",
       "      <progress value='2191' max='2191' style='width:300px; height:20px; vertical-align: middle;'></progress>\n",
       "      [2191/2191 10:00, Epoch 7/7]\n",
       "    </div>\n",
       "    <table border=\"1\" class=\"dataframe\">\n",
       "  <thead>\n",
       " <tr style=\"text-align: left;\">\n",
       "      <th>Epoch</th>\n",
       "      <th>Training Loss</th>\n",
       "      <th>Validation Loss</th>\n",
       "      <th>Accuracy</th>\n",
       "      <th>Precision</th>\n",
       "      <th>Recall</th>\n",
       "      <th>F1</th>\n",
       "    </tr>\n",
       "  </thead>\n",
       "  <tbody>\n",
       "    <tr>\n",
       "      <td>1</td>\n",
       "      <td>0.493100</td>\n",
       "      <td>0.195239</td>\n",
       "      <td>0.933100</td>\n",
       "      <td>0.937072</td>\n",
       "      <td>0.933398</td>\n",
       "      <td>0.933320</td>\n",
       "    </tr>\n",
       "    <tr>\n",
       "      <td>2</td>\n",
       "      <td>0.091500</td>\n",
       "      <td>0.120881</td>\n",
       "      <td>0.960300</td>\n",
       "      <td>0.960761</td>\n",
       "      <td>0.960493</td>\n",
       "      <td>0.960503</td>\n",
       "    </tr>\n",
       "    <tr>\n",
       "      <td>3</td>\n",
       "      <td>0.043100</td>\n",
       "      <td>0.122319</td>\n",
       "      <td>0.964700</td>\n",
       "      <td>0.965341</td>\n",
       "      <td>0.964764</td>\n",
       "      <td>0.964925</td>\n",
       "    </tr>\n",
       "    <tr>\n",
       "      <td>4</td>\n",
       "      <td>0.018400</td>\n",
       "      <td>0.135559</td>\n",
       "      <td>0.965600</td>\n",
       "      <td>0.966025</td>\n",
       "      <td>0.965672</td>\n",
       "      <td>0.965702</td>\n",
       "    </tr>\n",
       "    <tr>\n",
       "      <td>5</td>\n",
       "      <td>0.007900</td>\n",
       "      <td>0.129502</td>\n",
       "      <td>0.971100</td>\n",
       "      <td>0.971342</td>\n",
       "      <td>0.971268</td>\n",
       "      <td>0.971249</td>\n",
       "    </tr>\n",
       "    <tr>\n",
       "      <td>6</td>\n",
       "      <td>0.001700</td>\n",
       "      <td>0.130699</td>\n",
       "      <td>0.970700</td>\n",
       "      <td>0.970995</td>\n",
       "      <td>0.970808</td>\n",
       "      <td>0.970879</td>\n",
       "    </tr>\n",
       "    <tr>\n",
       "      <td>7</td>\n",
       "      <td>0.000600</td>\n",
       "      <td>0.129199</td>\n",
       "      <td>0.971900</td>\n",
       "      <td>0.972165</td>\n",
       "      <td>0.972024</td>\n",
       "      <td>0.972061</td>\n",
       "    </tr>\n",
       "  </tbody>\n",
       "</table><p>"
      ],
      "text/plain": [
       "<IPython.core.display.HTML object>"
      ]
     },
     "metadata": {},
     "output_type": "display_data"
    },
    {
     "name": "stderr",
     "output_type": "stream",
     "text": [
      "[I 2025-03-30 08:07:38,835] Trial 125 finished with value: 0.9720614753577481 and parameters: {'learning_rate': 0.00010705347971676416, 'weight_decay': 0.007, 'warmup_steps': 29}. Best is trial 67 with value: 0.9746290627725797.\n"
     ]
    },
    {
     "name": "stdout",
     "output_type": "stream",
     "text": [
      "Trial 126 with params: {'learning_rate': 0.00015536347405307435, 'weight_decay': 0.007, 'warmup_steps': 20}\n"
     ]
    },
    {
     "name": "stderr",
     "output_type": "stream",
     "text": [
      "Some weights of TimmWrapperForImageClassification were not initialized from the model checkpoint at timm/tiny_vit_5m_224.in1k and are newly initialized because the shapes did not match:\n",
      "- head.fc.bias: found shape torch.Size([1000]) in the checkpoint and torch.Size([10]) in the model instantiated\n",
      "- head.fc.weight: found shape torch.Size([1000, 320]) in the checkpoint and torch.Size([10, 320]) in the model instantiated\n",
      "You should probably TRAIN this model on a down-stream task to be able to use it for predictions and inference.\n"
     ]
    },
    {
     "data": {
      "text/html": [
       "\n",
       "    <div>\n",
       "      \n",
       "      <progress value='626' max='2191' style='width:300px; height:20px; vertical-align: middle;'></progress>\n",
       "      [ 626/2191 02:44 < 06:51, 3.80 it/s, Epoch 2/7]\n",
       "    </div>\n",
       "    <table border=\"1\" class=\"dataframe\">\n",
       "  <thead>\n",
       " <tr style=\"text-align: left;\">\n",
       "      <th>Epoch</th>\n",
       "      <th>Training Loss</th>\n",
       "      <th>Validation Loss</th>\n",
       "      <th>Accuracy</th>\n",
       "      <th>Precision</th>\n",
       "      <th>Recall</th>\n",
       "      <th>F1</th>\n",
       "    </tr>\n",
       "  </thead>\n",
       "  <tbody>\n",
       "    <tr>\n",
       "      <td>1</td>\n",
       "      <td>0.445000</td>\n",
       "      <td>0.204069</td>\n",
       "      <td>0.933900</td>\n",
       "      <td>0.937964</td>\n",
       "      <td>0.933977</td>\n",
       "      <td>0.934634</td>\n",
       "    </tr>\n",
       "    <tr>\n",
       "      <td>2</td>\n",
       "      <td>0.100800</td>\n",
       "      <td>0.137909</td>\n",
       "      <td>0.953800</td>\n",
       "      <td>0.954446</td>\n",
       "      <td>0.954010</td>\n",
       "      <td>0.953844</td>\n",
       "    </tr>\n",
       "  </tbody>\n",
       "</table><p>"
      ],
      "text/plain": [
       "<IPython.core.display.HTML object>"
      ]
     },
     "metadata": {},
     "output_type": "display_data"
    },
    {
     "name": "stderr",
     "output_type": "stream",
     "text": [
      "[I 2025-03-30 08:10:25,062] Trial 126 pruned. \n"
     ]
    },
    {
     "name": "stdout",
     "output_type": "stream",
     "text": [
      "Trial 127 with params: {'learning_rate': 0.0016071794381718252, 'weight_decay': 0.001, 'warmup_steps': 4}\n"
     ]
    },
    {
     "name": "stderr",
     "output_type": "stream",
     "text": [
      "Some weights of TimmWrapperForImageClassification were not initialized from the model checkpoint at timm/tiny_vit_5m_224.in1k and are newly initialized because the shapes did not match:\n",
      "- head.fc.bias: found shape torch.Size([1000]) in the checkpoint and torch.Size([10]) in the model instantiated\n",
      "- head.fc.weight: found shape torch.Size([1000, 320]) in the checkpoint and torch.Size([10, 320]) in the model instantiated\n",
      "You should probably TRAIN this model on a down-stream task to be able to use it for predictions and inference.\n"
     ]
    },
    {
     "data": {
      "text/html": [
       "\n",
       "    <div>\n",
       "      \n",
       "      <progress value='1252' max='2191' style='width:300px; height:20px; vertical-align: middle;'></progress>\n",
       "      [1252/2191 05:30 < 04:08, 3.78 it/s, Epoch 4/7]\n",
       "    </div>\n",
       "    <table border=\"1\" class=\"dataframe\">\n",
       "  <thead>\n",
       " <tr style=\"text-align: left;\">\n",
       "      <th>Epoch</th>\n",
       "      <th>Training Loss</th>\n",
       "      <th>Validation Loss</th>\n",
       "      <th>Accuracy</th>\n",
       "      <th>Precision</th>\n",
       "      <th>Recall</th>\n",
       "      <th>F1</th>\n",
       "    </tr>\n",
       "  </thead>\n",
       "  <tbody>\n",
       "    <tr>\n",
       "      <td>1</td>\n",
       "      <td>0.939400</td>\n",
       "      <td>0.828077</td>\n",
       "      <td>0.723300</td>\n",
       "      <td>0.766336</td>\n",
       "      <td>0.723320</td>\n",
       "      <td>0.725879</td>\n",
       "    </tr>\n",
       "    <tr>\n",
       "      <td>2</td>\n",
       "      <td>0.562100</td>\n",
       "      <td>0.523616</td>\n",
       "      <td>0.826600</td>\n",
       "      <td>0.842590</td>\n",
       "      <td>0.827186</td>\n",
       "      <td>0.821433</td>\n",
       "    </tr>\n",
       "    <tr>\n",
       "      <td>3</td>\n",
       "      <td>0.393400</td>\n",
       "      <td>0.436955</td>\n",
       "      <td>0.854200</td>\n",
       "      <td>0.860253</td>\n",
       "      <td>0.854677</td>\n",
       "      <td>0.852696</td>\n",
       "    </tr>\n",
       "    <tr>\n",
       "      <td>4</td>\n",
       "      <td>0.277100</td>\n",
       "      <td>0.303247</td>\n",
       "      <td>0.902900</td>\n",
       "      <td>0.907215</td>\n",
       "      <td>0.902895</td>\n",
       "      <td>0.904158</td>\n",
       "    </tr>\n",
       "  </tbody>\n",
       "</table><p>"
      ],
      "text/plain": [
       "<IPython.core.display.HTML object>"
      ]
     },
     "metadata": {},
     "output_type": "display_data"
    },
    {
     "name": "stderr",
     "output_type": "stream",
     "text": [
      "[I 2025-03-30 08:15:57,771] Trial 127 pruned. \n"
     ]
    },
    {
     "name": "stdout",
     "output_type": "stream",
     "text": [
      "Trial 128 with params: {'learning_rate': 0.0003399928889305973, 'weight_decay': 0.007, 'warmup_steps': 28}\n"
     ]
    },
    {
     "name": "stderr",
     "output_type": "stream",
     "text": [
      "Some weights of TimmWrapperForImageClassification were not initialized from the model checkpoint at timm/tiny_vit_5m_224.in1k and are newly initialized because the shapes did not match:\n",
      "- head.fc.bias: found shape torch.Size([1000]) in the checkpoint and torch.Size([10]) in the model instantiated\n",
      "- head.fc.weight: found shape torch.Size([1000, 320]) in the checkpoint and torch.Size([10, 320]) in the model instantiated\n",
      "You should probably TRAIN this model on a down-stream task to be able to use it for predictions and inference.\n"
     ]
    },
    {
     "data": {
      "text/html": [
       "\n",
       "    <div>\n",
       "      \n",
       "      <progress value='1252' max='2191' style='width:300px; height:20px; vertical-align: middle;'></progress>\n",
       "      [1252/2191 05:52 < 04:25, 3.54 it/s, Epoch 4/7]\n",
       "    </div>\n",
       "    <table border=\"1\" class=\"dataframe\">\n",
       "  <thead>\n",
       " <tr style=\"text-align: left;\">\n",
       "      <th>Epoch</th>\n",
       "      <th>Training Loss</th>\n",
       "      <th>Validation Loss</th>\n",
       "      <th>Accuracy</th>\n",
       "      <th>Precision</th>\n",
       "      <th>Recall</th>\n",
       "      <th>F1</th>\n",
       "    </tr>\n",
       "  </thead>\n",
       "  <tbody>\n",
       "    <tr>\n",
       "      <td>1</td>\n",
       "      <td>0.465600</td>\n",
       "      <td>0.332113</td>\n",
       "      <td>0.889200</td>\n",
       "      <td>0.902108</td>\n",
       "      <td>0.889466</td>\n",
       "      <td>0.889477</td>\n",
       "    </tr>\n",
       "    <tr>\n",
       "      <td>2</td>\n",
       "      <td>0.152300</td>\n",
       "      <td>0.184879</td>\n",
       "      <td>0.939800</td>\n",
       "      <td>0.940712</td>\n",
       "      <td>0.940291</td>\n",
       "      <td>0.939544</td>\n",
       "    </tr>\n",
       "    <tr>\n",
       "      <td>3</td>\n",
       "      <td>0.089000</td>\n",
       "      <td>0.143696</td>\n",
       "      <td>0.956000</td>\n",
       "      <td>0.956190</td>\n",
       "      <td>0.956114</td>\n",
       "      <td>0.956100</td>\n",
       "    </tr>\n",
       "    <tr>\n",
       "      <td>4</td>\n",
       "      <td>0.049100</td>\n",
       "      <td>0.137035</td>\n",
       "      <td>0.960800</td>\n",
       "      <td>0.961054</td>\n",
       "      <td>0.960918</td>\n",
       "      <td>0.960896</td>\n",
       "    </tr>\n",
       "  </tbody>\n",
       "</table><p>"
      ],
      "text/plain": [
       "<IPython.core.display.HTML object>"
      ]
     },
     "metadata": {},
     "output_type": "display_data"
    },
    {
     "name": "stderr",
     "output_type": "stream",
     "text": [
      "[I 2025-03-30 08:21:52,688] Trial 128 pruned. \n"
     ]
    },
    {
     "name": "stdout",
     "output_type": "stream",
     "text": [
      "Trial 129 with params: {'learning_rate': 8.439056309864063e-05, 'weight_decay': 0.008, 'warmup_steps': 23}\n"
     ]
    },
    {
     "name": "stderr",
     "output_type": "stream",
     "text": [
      "Some weights of TimmWrapperForImageClassification were not initialized from the model checkpoint at timm/tiny_vit_5m_224.in1k and are newly initialized because the shapes did not match:\n",
      "- head.fc.bias: found shape torch.Size([1000]) in the checkpoint and torch.Size([10]) in the model instantiated\n",
      "- head.fc.weight: found shape torch.Size([1000, 320]) in the checkpoint and torch.Size([10, 320]) in the model instantiated\n",
      "You should probably TRAIN this model on a down-stream task to be able to use it for predictions and inference.\n"
     ]
    },
    {
     "data": {
      "text/html": [
       "\n",
       "    <div>\n",
       "      \n",
       "      <progress value='2191' max='2191' style='width:300px; height:20px; vertical-align: middle;'></progress>\n",
       "      [2191/2191 09:46, Epoch 7/7]\n",
       "    </div>\n",
       "    <table border=\"1\" class=\"dataframe\">\n",
       "  <thead>\n",
       " <tr style=\"text-align: left;\">\n",
       "      <th>Epoch</th>\n",
       "      <th>Training Loss</th>\n",
       "      <th>Validation Loss</th>\n",
       "      <th>Accuracy</th>\n",
       "      <th>Precision</th>\n",
       "      <th>Recall</th>\n",
       "      <th>F1</th>\n",
       "    </tr>\n",
       "  </thead>\n",
       "  <tbody>\n",
       "    <tr>\n",
       "      <td>1</td>\n",
       "      <td>0.519800</td>\n",
       "      <td>0.168952</td>\n",
       "      <td>0.944300</td>\n",
       "      <td>0.947392</td>\n",
       "      <td>0.944472</td>\n",
       "      <td>0.944931</td>\n",
       "    </tr>\n",
       "    <tr>\n",
       "      <td>2</td>\n",
       "      <td>0.094900</td>\n",
       "      <td>0.130793</td>\n",
       "      <td>0.957000</td>\n",
       "      <td>0.957639</td>\n",
       "      <td>0.957154</td>\n",
       "      <td>0.957066</td>\n",
       "    </tr>\n",
       "    <tr>\n",
       "      <td>3</td>\n",
       "      <td>0.040600</td>\n",
       "      <td>0.119988</td>\n",
       "      <td>0.964000</td>\n",
       "      <td>0.964499</td>\n",
       "      <td>0.964052</td>\n",
       "      <td>0.964174</td>\n",
       "    </tr>\n",
       "    <tr>\n",
       "      <td>4</td>\n",
       "      <td>0.017600</td>\n",
       "      <td>0.129575</td>\n",
       "      <td>0.968000</td>\n",
       "      <td>0.968493</td>\n",
       "      <td>0.968113</td>\n",
       "      <td>0.968080</td>\n",
       "    </tr>\n",
       "    <tr>\n",
       "      <td>5</td>\n",
       "      <td>0.005900</td>\n",
       "      <td>0.128367</td>\n",
       "      <td>0.968800</td>\n",
       "      <td>0.968991</td>\n",
       "      <td>0.968921</td>\n",
       "      <td>0.968911</td>\n",
       "    </tr>\n",
       "    <tr>\n",
       "      <td>6</td>\n",
       "      <td>0.001900</td>\n",
       "      <td>0.133195</td>\n",
       "      <td>0.970800</td>\n",
       "      <td>0.971114</td>\n",
       "      <td>0.970908</td>\n",
       "      <td>0.970974</td>\n",
       "    </tr>\n",
       "    <tr>\n",
       "      <td>7</td>\n",
       "      <td>0.000700</td>\n",
       "      <td>0.130736</td>\n",
       "      <td>0.972600</td>\n",
       "      <td>0.972769</td>\n",
       "      <td>0.972712</td>\n",
       "      <td>0.972736</td>\n",
       "    </tr>\n",
       "  </tbody>\n",
       "</table><p>"
      ],
      "text/plain": [
       "<IPython.core.display.HTML object>"
      ]
     },
     "metadata": {},
     "output_type": "display_data"
    },
    {
     "name": "stderr",
     "output_type": "stream",
     "text": [
      "[I 2025-03-30 08:31:43,052] Trial 129 finished with value: 0.9727355858752323 and parameters: {'learning_rate': 8.439056309864063e-05, 'weight_decay': 0.008, 'warmup_steps': 23}. Best is trial 67 with value: 0.9746290627725797.\n"
     ]
    },
    {
     "name": "stdout",
     "output_type": "stream",
     "text": [
      "Trial 130 with params: {'learning_rate': 5.039116231539376e-05, 'weight_decay': 0.004, 'warmup_steps': 24}\n"
     ]
    },
    {
     "name": "stderr",
     "output_type": "stream",
     "text": [
      "Some weights of TimmWrapperForImageClassification were not initialized from the model checkpoint at timm/tiny_vit_5m_224.in1k and are newly initialized because the shapes did not match:\n",
      "- head.fc.bias: found shape torch.Size([1000]) in the checkpoint and torch.Size([10]) in the model instantiated\n",
      "- head.fc.weight: found shape torch.Size([1000, 320]) in the checkpoint and torch.Size([10, 320]) in the model instantiated\n",
      "You should probably TRAIN this model on a down-stream task to be able to use it for predictions and inference.\n"
     ]
    },
    {
     "data": {
      "text/html": [
       "\n",
       "    <div>\n",
       "      \n",
       "      <progress value='1252' max='2191' style='width:300px; height:20px; vertical-align: middle;'></progress>\n",
       "      [1252/2191 05:32 < 04:09, 3.76 it/s, Epoch 4/7]\n",
       "    </div>\n",
       "    <table border=\"1\" class=\"dataframe\">\n",
       "  <thead>\n",
       " <tr style=\"text-align: left;\">\n",
       "      <th>Epoch</th>\n",
       "      <th>Training Loss</th>\n",
       "      <th>Validation Loss</th>\n",
       "      <th>Accuracy</th>\n",
       "      <th>Precision</th>\n",
       "      <th>Recall</th>\n",
       "      <th>F1</th>\n",
       "    </tr>\n",
       "  </thead>\n",
       "  <tbody>\n",
       "    <tr>\n",
       "      <td>1</td>\n",
       "      <td>0.605100</td>\n",
       "      <td>0.170574</td>\n",
       "      <td>0.946300</td>\n",
       "      <td>0.948633</td>\n",
       "      <td>0.946257</td>\n",
       "      <td>0.946861</td>\n",
       "    </tr>\n",
       "    <tr>\n",
       "      <td>2</td>\n",
       "      <td>0.104700</td>\n",
       "      <td>0.131284</td>\n",
       "      <td>0.958600</td>\n",
       "      <td>0.959057</td>\n",
       "      <td>0.958788</td>\n",
       "      <td>0.958741</td>\n",
       "    </tr>\n",
       "    <tr>\n",
       "      <td>3</td>\n",
       "      <td>0.044500</td>\n",
       "      <td>0.122122</td>\n",
       "      <td>0.964400</td>\n",
       "      <td>0.964512</td>\n",
       "      <td>0.964515</td>\n",
       "      <td>0.964473</td>\n",
       "    </tr>\n",
       "    <tr>\n",
       "      <td>4</td>\n",
       "      <td>0.016400</td>\n",
       "      <td>0.134896</td>\n",
       "      <td>0.965900</td>\n",
       "      <td>0.966116</td>\n",
       "      <td>0.966005</td>\n",
       "      <td>0.966044</td>\n",
       "    </tr>\n",
       "  </tbody>\n",
       "</table><p>"
      ],
      "text/plain": [
       "<IPython.core.display.HTML object>"
      ]
     },
     "metadata": {},
     "output_type": "display_data"
    },
    {
     "name": "stderr",
     "output_type": "stream",
     "text": [
      "[I 2025-03-30 08:37:17,959] Trial 130 pruned. \n"
     ]
    },
    {
     "name": "stdout",
     "output_type": "stream",
     "text": [
      "Trial 131 with params: {'learning_rate': 9.865676035790842e-05, 'weight_decay': 0.006, 'warmup_steps': 27}\n"
     ]
    },
    {
     "name": "stderr",
     "output_type": "stream",
     "text": [
      "Some weights of TimmWrapperForImageClassification were not initialized from the model checkpoint at timm/tiny_vit_5m_224.in1k and are newly initialized because the shapes did not match:\n",
      "- head.fc.bias: found shape torch.Size([1000]) in the checkpoint and torch.Size([10]) in the model instantiated\n",
      "- head.fc.weight: found shape torch.Size([1000, 320]) in the checkpoint and torch.Size([10, 320]) in the model instantiated\n",
      "You should probably TRAIN this model on a down-stream task to be able to use it for predictions and inference.\n"
     ]
    },
    {
     "data": {
      "text/html": [
       "\n",
       "    <div>\n",
       "      \n",
       "      <progress value='2191' max='2191' style='width:300px; height:20px; vertical-align: middle;'></progress>\n",
       "      [2191/2191 09:42, Epoch 7/7]\n",
       "    </div>\n",
       "    <table border=\"1\" class=\"dataframe\">\n",
       "  <thead>\n",
       " <tr style=\"text-align: left;\">\n",
       "      <th>Epoch</th>\n",
       "      <th>Training Loss</th>\n",
       "      <th>Validation Loss</th>\n",
       "      <th>Accuracy</th>\n",
       "      <th>Precision</th>\n",
       "      <th>Recall</th>\n",
       "      <th>F1</th>\n",
       "    </tr>\n",
       "  </thead>\n",
       "  <tbody>\n",
       "    <tr>\n",
       "      <td>1</td>\n",
       "      <td>0.499700</td>\n",
       "      <td>0.176426</td>\n",
       "      <td>0.942000</td>\n",
       "      <td>0.946689</td>\n",
       "      <td>0.942040</td>\n",
       "      <td>0.942873</td>\n",
       "    </tr>\n",
       "    <tr>\n",
       "      <td>2</td>\n",
       "      <td>0.093600</td>\n",
       "      <td>0.129945</td>\n",
       "      <td>0.958000</td>\n",
       "      <td>0.959010</td>\n",
       "      <td>0.957989</td>\n",
       "      <td>0.958273</td>\n",
       "    </tr>\n",
       "    <tr>\n",
       "      <td>3</td>\n",
       "      <td>0.043300</td>\n",
       "      <td>0.111188</td>\n",
       "      <td>0.966900</td>\n",
       "      <td>0.967132</td>\n",
       "      <td>0.967039</td>\n",
       "      <td>0.967060</td>\n",
       "    </tr>\n",
       "    <tr>\n",
       "      <td>4</td>\n",
       "      <td>0.017300</td>\n",
       "      <td>0.125201</td>\n",
       "      <td>0.967000</td>\n",
       "      <td>0.967184</td>\n",
       "      <td>0.967165</td>\n",
       "      <td>0.967119</td>\n",
       "    </tr>\n",
       "    <tr>\n",
       "      <td>5</td>\n",
       "      <td>0.006900</td>\n",
       "      <td>0.125166</td>\n",
       "      <td>0.971400</td>\n",
       "      <td>0.971555</td>\n",
       "      <td>0.971514</td>\n",
       "      <td>0.971500</td>\n",
       "    </tr>\n",
       "    <tr>\n",
       "      <td>6</td>\n",
       "      <td>0.001800</td>\n",
       "      <td>0.128501</td>\n",
       "      <td>0.971000</td>\n",
       "      <td>0.971184</td>\n",
       "      <td>0.971130</td>\n",
       "      <td>0.971136</td>\n",
       "    </tr>\n",
       "    <tr>\n",
       "      <td>7</td>\n",
       "      <td>0.000600</td>\n",
       "      <td>0.128971</td>\n",
       "      <td>0.972400</td>\n",
       "      <td>0.972513</td>\n",
       "      <td>0.972526</td>\n",
       "      <td>0.972509</td>\n",
       "    </tr>\n",
       "  </tbody>\n",
       "</table><p>"
      ],
      "text/plain": [
       "<IPython.core.display.HTML object>"
      ]
     },
     "metadata": {},
     "output_type": "display_data"
    },
    {
     "name": "stderr",
     "output_type": "stream",
     "text": [
      "[I 2025-03-30 08:47:02,789] Trial 131 finished with value: 0.9725088269779644 and parameters: {'learning_rate': 9.865676035790842e-05, 'weight_decay': 0.006, 'warmup_steps': 27}. Best is trial 67 with value: 0.9746290627725797.\n"
     ]
    },
    {
     "name": "stdout",
     "output_type": "stream",
     "text": [
      "Trial 132 with params: {'learning_rate': 0.0001031135430792371, 'weight_decay': 0.007, 'warmup_steps': 27}\n"
     ]
    },
    {
     "name": "stderr",
     "output_type": "stream",
     "text": [
      "Some weights of TimmWrapperForImageClassification were not initialized from the model checkpoint at timm/tiny_vit_5m_224.in1k and are newly initialized because the shapes did not match:\n",
      "- head.fc.bias: found shape torch.Size([1000]) in the checkpoint and torch.Size([10]) in the model instantiated\n",
      "- head.fc.weight: found shape torch.Size([1000, 320]) in the checkpoint and torch.Size([10, 320]) in the model instantiated\n",
      "You should probably TRAIN this model on a down-stream task to be able to use it for predictions and inference.\n"
     ]
    },
    {
     "data": {
      "text/html": [
       "\n",
       "    <div>\n",
       "      \n",
       "      <progress value='2191' max='2191' style='width:300px; height:20px; vertical-align: middle;'></progress>\n",
       "      [2191/2191 09:40, Epoch 7/7]\n",
       "    </div>\n",
       "    <table border=\"1\" class=\"dataframe\">\n",
       "  <thead>\n",
       " <tr style=\"text-align: left;\">\n",
       "      <th>Epoch</th>\n",
       "      <th>Training Loss</th>\n",
       "      <th>Validation Loss</th>\n",
       "      <th>Accuracy</th>\n",
       "      <th>Precision</th>\n",
       "      <th>Recall</th>\n",
       "      <th>F1</th>\n",
       "    </tr>\n",
       "  </thead>\n",
       "  <tbody>\n",
       "    <tr>\n",
       "      <td>1</td>\n",
       "      <td>0.477000</td>\n",
       "      <td>0.174832</td>\n",
       "      <td>0.941000</td>\n",
       "      <td>0.945864</td>\n",
       "      <td>0.941355</td>\n",
       "      <td>0.941561</td>\n",
       "    </tr>\n",
       "    <tr>\n",
       "      <td>2</td>\n",
       "      <td>0.088600</td>\n",
       "      <td>0.121270</td>\n",
       "      <td>0.957500</td>\n",
       "      <td>0.958093</td>\n",
       "      <td>0.957661</td>\n",
       "      <td>0.957642</td>\n",
       "    </tr>\n",
       "    <tr>\n",
       "      <td>3</td>\n",
       "      <td>0.039100</td>\n",
       "      <td>0.125873</td>\n",
       "      <td>0.964000</td>\n",
       "      <td>0.964698</td>\n",
       "      <td>0.963992</td>\n",
       "      <td>0.964121</td>\n",
       "    </tr>\n",
       "    <tr>\n",
       "      <td>4</td>\n",
       "      <td>0.017400</td>\n",
       "      <td>0.130478</td>\n",
       "      <td>0.967500</td>\n",
       "      <td>0.967788</td>\n",
       "      <td>0.967628</td>\n",
       "      <td>0.967621</td>\n",
       "    </tr>\n",
       "    <tr>\n",
       "      <td>5</td>\n",
       "      <td>0.006200</td>\n",
       "      <td>0.133686</td>\n",
       "      <td>0.969600</td>\n",
       "      <td>0.969630</td>\n",
       "      <td>0.969751</td>\n",
       "      <td>0.969655</td>\n",
       "    </tr>\n",
       "    <tr>\n",
       "      <td>6</td>\n",
       "      <td>0.001800</td>\n",
       "      <td>0.131681</td>\n",
       "      <td>0.971000</td>\n",
       "      <td>0.971135</td>\n",
       "      <td>0.971104</td>\n",
       "      <td>0.971113</td>\n",
       "    </tr>\n",
       "    <tr>\n",
       "      <td>7</td>\n",
       "      <td>0.000500</td>\n",
       "      <td>0.132101</td>\n",
       "      <td>0.972400</td>\n",
       "      <td>0.972531</td>\n",
       "      <td>0.972488</td>\n",
       "      <td>0.972494</td>\n",
       "    </tr>\n",
       "  </tbody>\n",
       "</table><p>"
      ],
      "text/plain": [
       "<IPython.core.display.HTML object>"
      ]
     },
     "metadata": {},
     "output_type": "display_data"
    },
    {
     "name": "stderr",
     "output_type": "stream",
     "text": [
      "[I 2025-03-30 08:56:45,708] Trial 132 finished with value: 0.9724943263816586 and parameters: {'learning_rate': 0.0001031135430792371, 'weight_decay': 0.007, 'warmup_steps': 27}. Best is trial 67 with value: 0.9746290627725797.\n"
     ]
    },
    {
     "name": "stdout",
     "output_type": "stream",
     "text": [
      "Trial 133 with params: {'learning_rate': 0.00024272350993485774, 'weight_decay': 0.006, 'warmup_steps': 24}\n"
     ]
    },
    {
     "name": "stderr",
     "output_type": "stream",
     "text": [
      "Some weights of TimmWrapperForImageClassification were not initialized from the model checkpoint at timm/tiny_vit_5m_224.in1k and are newly initialized because the shapes did not match:\n",
      "- head.fc.bias: found shape torch.Size([1000]) in the checkpoint and torch.Size([10]) in the model instantiated\n",
      "- head.fc.weight: found shape torch.Size([1000, 320]) in the checkpoint and torch.Size([10, 320]) in the model instantiated\n",
      "You should probably TRAIN this model on a down-stream task to be able to use it for predictions and inference.\n"
     ]
    },
    {
     "data": {
      "text/html": [
       "\n",
       "    <div>\n",
       "      \n",
       "      <progress value='2191' max='2191' style='width:300px; height:20px; vertical-align: middle;'></progress>\n",
       "      [2191/2191 10:23, Epoch 7/7]\n",
       "    </div>\n",
       "    <table border=\"1\" class=\"dataframe\">\n",
       "  <thead>\n",
       " <tr style=\"text-align: left;\">\n",
       "      <th>Epoch</th>\n",
       "      <th>Training Loss</th>\n",
       "      <th>Validation Loss</th>\n",
       "      <th>Accuracy</th>\n",
       "      <th>Precision</th>\n",
       "      <th>Recall</th>\n",
       "      <th>F1</th>\n",
       "    </tr>\n",
       "  </thead>\n",
       "  <tbody>\n",
       "    <tr>\n",
       "      <td>1</td>\n",
       "      <td>0.441600</td>\n",
       "      <td>0.240931</td>\n",
       "      <td>0.917900</td>\n",
       "      <td>0.926741</td>\n",
       "      <td>0.918190</td>\n",
       "      <td>0.918118</td>\n",
       "    </tr>\n",
       "    <tr>\n",
       "      <td>2</td>\n",
       "      <td>0.124900</td>\n",
       "      <td>0.196565</td>\n",
       "      <td>0.935500</td>\n",
       "      <td>0.939339</td>\n",
       "      <td>0.935664</td>\n",
       "      <td>0.935763</td>\n",
       "    </tr>\n",
       "    <tr>\n",
       "      <td>3</td>\n",
       "      <td>0.065400</td>\n",
       "      <td>0.135111</td>\n",
       "      <td>0.960300</td>\n",
       "      <td>0.960635</td>\n",
       "      <td>0.960378</td>\n",
       "      <td>0.960467</td>\n",
       "    </tr>\n",
       "    <tr>\n",
       "      <td>4</td>\n",
       "      <td>0.038900</td>\n",
       "      <td>0.118608</td>\n",
       "      <td>0.965800</td>\n",
       "      <td>0.966313</td>\n",
       "      <td>0.965902</td>\n",
       "      <td>0.966037</td>\n",
       "    </tr>\n",
       "    <tr>\n",
       "      <td>5</td>\n",
       "      <td>0.014500</td>\n",
       "      <td>0.133749</td>\n",
       "      <td>0.967900</td>\n",
       "      <td>0.968311</td>\n",
       "      <td>0.968078</td>\n",
       "      <td>0.968119</td>\n",
       "    </tr>\n",
       "    <tr>\n",
       "      <td>6</td>\n",
       "      <td>0.004100</td>\n",
       "      <td>0.123594</td>\n",
       "      <td>0.971800</td>\n",
       "      <td>0.972237</td>\n",
       "      <td>0.971876</td>\n",
       "      <td>0.972002</td>\n",
       "    </tr>\n",
       "    <tr>\n",
       "      <td>7</td>\n",
       "      <td>0.000700</td>\n",
       "      <td>0.119107</td>\n",
       "      <td>0.972300</td>\n",
       "      <td>0.972370</td>\n",
       "      <td>0.972453</td>\n",
       "      <td>0.972402</td>\n",
       "    </tr>\n",
       "  </tbody>\n",
       "</table><p>"
      ],
      "text/plain": [
       "<IPython.core.display.HTML object>"
      ]
     },
     "metadata": {},
     "output_type": "display_data"
    },
    {
     "name": "stderr",
     "output_type": "stream",
     "text": [
      "[I 2025-03-30 09:07:12,082] Trial 133 finished with value: 0.9724015868347069 and parameters: {'learning_rate': 0.00024272350993485774, 'weight_decay': 0.006, 'warmup_steps': 24}. Best is trial 67 with value: 0.9746290627725797.\n"
     ]
    },
    {
     "name": "stdout",
     "output_type": "stream",
     "text": [
      "Trial 134 with params: {'learning_rate': 0.00011822094169472689, 'weight_decay': 0.006, 'warmup_steps': 28}\n"
     ]
    },
    {
     "name": "stderr",
     "output_type": "stream",
     "text": [
      "Some weights of TimmWrapperForImageClassification were not initialized from the model checkpoint at timm/tiny_vit_5m_224.in1k and are newly initialized because the shapes did not match:\n",
      "- head.fc.bias: found shape torch.Size([1000]) in the checkpoint and torch.Size([10]) in the model instantiated\n",
      "- head.fc.weight: found shape torch.Size([1000, 320]) in the checkpoint and torch.Size([10, 320]) in the model instantiated\n",
      "You should probably TRAIN this model on a down-stream task to be able to use it for predictions and inference.\n"
     ]
    },
    {
     "data": {
      "text/html": [
       "\n",
       "    <div>\n",
       "      \n",
       "      <progress value='1252' max='2191' style='width:300px; height:20px; vertical-align: middle;'></progress>\n",
       "      [1252/2191 05:31 < 04:08, 3.77 it/s, Epoch 4/7]\n",
       "    </div>\n",
       "    <table border=\"1\" class=\"dataframe\">\n",
       "  <thead>\n",
       " <tr style=\"text-align: left;\">\n",
       "      <th>Epoch</th>\n",
       "      <th>Training Loss</th>\n",
       "      <th>Validation Loss</th>\n",
       "      <th>Accuracy</th>\n",
       "      <th>Precision</th>\n",
       "      <th>Recall</th>\n",
       "      <th>F1</th>\n",
       "    </tr>\n",
       "  </thead>\n",
       "  <tbody>\n",
       "    <tr>\n",
       "      <td>1</td>\n",
       "      <td>0.475600</td>\n",
       "      <td>0.214333</td>\n",
       "      <td>0.930900</td>\n",
       "      <td>0.936297</td>\n",
       "      <td>0.931096</td>\n",
       "      <td>0.931417</td>\n",
       "    </tr>\n",
       "    <tr>\n",
       "      <td>2</td>\n",
       "      <td>0.095600</td>\n",
       "      <td>0.123982</td>\n",
       "      <td>0.959800</td>\n",
       "      <td>0.959998</td>\n",
       "      <td>0.960041</td>\n",
       "      <td>0.959900</td>\n",
       "    </tr>\n",
       "    <tr>\n",
       "      <td>3</td>\n",
       "      <td>0.043600</td>\n",
       "      <td>0.130867</td>\n",
       "      <td>0.962300</td>\n",
       "      <td>0.962942</td>\n",
       "      <td>0.962474</td>\n",
       "      <td>0.962571</td>\n",
       "    </tr>\n",
       "    <tr>\n",
       "      <td>4</td>\n",
       "      <td>0.018700</td>\n",
       "      <td>0.137892</td>\n",
       "      <td>0.964100</td>\n",
       "      <td>0.964398</td>\n",
       "      <td>0.964288</td>\n",
       "      <td>0.964261</td>\n",
       "    </tr>\n",
       "  </tbody>\n",
       "</table><p>"
      ],
      "text/plain": [
       "<IPython.core.display.HTML object>"
      ]
     },
     "metadata": {},
     "output_type": "display_data"
    },
    {
     "name": "stderr",
     "output_type": "stream",
     "text": [
      "[I 2025-03-30 09:12:45,121] Trial 134 pruned. \n"
     ]
    },
    {
     "name": "stdout",
     "output_type": "stream",
     "text": [
      "Trial 135 with params: {'learning_rate': 0.0001554632484654868, 'weight_decay': 0.009000000000000001, 'warmup_steps': 23}\n"
     ]
    },
    {
     "name": "stderr",
     "output_type": "stream",
     "text": [
      "Some weights of TimmWrapperForImageClassification were not initialized from the model checkpoint at timm/tiny_vit_5m_224.in1k and are newly initialized because the shapes did not match:\n",
      "- head.fc.bias: found shape torch.Size([1000]) in the checkpoint and torch.Size([10]) in the model instantiated\n",
      "- head.fc.weight: found shape torch.Size([1000, 320]) in the checkpoint and torch.Size([10, 320]) in the model instantiated\n",
      "You should probably TRAIN this model on a down-stream task to be able to use it for predictions and inference.\n"
     ]
    },
    {
     "data": {
      "text/html": [
       "\n",
       "    <div>\n",
       "      \n",
       "      <progress value='2191' max='2191' style='width:300px; height:20px; vertical-align: middle;'></progress>\n",
       "      [2191/2191 09:41, Epoch 7/7]\n",
       "    </div>\n",
       "    <table border=\"1\" class=\"dataframe\">\n",
       "  <thead>\n",
       " <tr style=\"text-align: left;\">\n",
       "      <th>Epoch</th>\n",
       "      <th>Training Loss</th>\n",
       "      <th>Validation Loss</th>\n",
       "      <th>Accuracy</th>\n",
       "      <th>Precision</th>\n",
       "      <th>Recall</th>\n",
       "      <th>F1</th>\n",
       "    </tr>\n",
       "  </thead>\n",
       "  <tbody>\n",
       "    <tr>\n",
       "      <td>1</td>\n",
       "      <td>0.436700</td>\n",
       "      <td>0.190347</td>\n",
       "      <td>0.936300</td>\n",
       "      <td>0.942769</td>\n",
       "      <td>0.936471</td>\n",
       "      <td>0.937506</td>\n",
       "    </tr>\n",
       "    <tr>\n",
       "      <td>2</td>\n",
       "      <td>0.098000</td>\n",
       "      <td>0.135401</td>\n",
       "      <td>0.956500</td>\n",
       "      <td>0.956915</td>\n",
       "      <td>0.956738</td>\n",
       "      <td>0.956654</td>\n",
       "    </tr>\n",
       "    <tr>\n",
       "      <td>3</td>\n",
       "      <td>0.048300</td>\n",
       "      <td>0.134247</td>\n",
       "      <td>0.961600</td>\n",
       "      <td>0.962221</td>\n",
       "      <td>0.961697</td>\n",
       "      <td>0.961786</td>\n",
       "    </tr>\n",
       "    <tr>\n",
       "      <td>4</td>\n",
       "      <td>0.024400</td>\n",
       "      <td>0.125289</td>\n",
       "      <td>0.966400</td>\n",
       "      <td>0.966427</td>\n",
       "      <td>0.966617</td>\n",
       "      <td>0.966414</td>\n",
       "    </tr>\n",
       "    <tr>\n",
       "      <td>5</td>\n",
       "      <td>0.008200</td>\n",
       "      <td>0.123202</td>\n",
       "      <td>0.971200</td>\n",
       "      <td>0.971458</td>\n",
       "      <td>0.971344</td>\n",
       "      <td>0.971347</td>\n",
       "    </tr>\n",
       "    <tr>\n",
       "      <td>6</td>\n",
       "      <td>0.002100</td>\n",
       "      <td>0.125235</td>\n",
       "      <td>0.971100</td>\n",
       "      <td>0.971504</td>\n",
       "      <td>0.971220</td>\n",
       "      <td>0.971290</td>\n",
       "    </tr>\n",
       "    <tr>\n",
       "      <td>7</td>\n",
       "      <td>0.000600</td>\n",
       "      <td>0.120516</td>\n",
       "      <td>0.973600</td>\n",
       "      <td>0.973783</td>\n",
       "      <td>0.973711</td>\n",
       "      <td>0.973724</td>\n",
       "    </tr>\n",
       "  </tbody>\n",
       "</table><p>"
      ],
      "text/plain": [
       "<IPython.core.display.HTML object>"
      ]
     },
     "metadata": {},
     "output_type": "display_data"
    },
    {
     "name": "stderr",
     "output_type": "stream",
     "text": [
      "[I 2025-03-30 09:22:29,854] Trial 135 finished with value: 0.9737240545587218 and parameters: {'learning_rate': 0.0001554632484654868, 'weight_decay': 0.009000000000000001, 'warmup_steps': 23}. Best is trial 67 with value: 0.9746290627725797.\n"
     ]
    },
    {
     "name": "stdout",
     "output_type": "stream",
     "text": [
      "Trial 136 with params: {'learning_rate': 0.0001491088894733688, 'weight_decay': 0.008, 'warmup_steps': 25}\n"
     ]
    },
    {
     "name": "stderr",
     "output_type": "stream",
     "text": [
      "Some weights of TimmWrapperForImageClassification were not initialized from the model checkpoint at timm/tiny_vit_5m_224.in1k and are newly initialized because the shapes did not match:\n",
      "- head.fc.bias: found shape torch.Size([1000]) in the checkpoint and torch.Size([10]) in the model instantiated\n",
      "- head.fc.weight: found shape torch.Size([1000, 320]) in the checkpoint and torch.Size([10, 320]) in the model instantiated\n",
      "You should probably TRAIN this model on a down-stream task to be able to use it for predictions and inference.\n"
     ]
    },
    {
     "data": {
      "text/html": [
       "\n",
       "    <div>\n",
       "      \n",
       "      <progress value='1252' max='2191' style='width:300px; height:20px; vertical-align: middle;'></progress>\n",
       "      [1252/2191 05:58 < 04:29, 3.48 it/s, Epoch 4/7]\n",
       "    </div>\n",
       "    <table border=\"1\" class=\"dataframe\">\n",
       "  <thead>\n",
       " <tr style=\"text-align: left;\">\n",
       "      <th>Epoch</th>\n",
       "      <th>Training Loss</th>\n",
       "      <th>Validation Loss</th>\n",
       "      <th>Accuracy</th>\n",
       "      <th>Precision</th>\n",
       "      <th>Recall</th>\n",
       "      <th>F1</th>\n",
       "    </tr>\n",
       "  </thead>\n",
       "  <tbody>\n",
       "    <tr>\n",
       "      <td>1</td>\n",
       "      <td>0.443700</td>\n",
       "      <td>0.193755</td>\n",
       "      <td>0.934200</td>\n",
       "      <td>0.938147</td>\n",
       "      <td>0.934399</td>\n",
       "      <td>0.934664</td>\n",
       "    </tr>\n",
       "    <tr>\n",
       "      <td>2</td>\n",
       "      <td>0.095900</td>\n",
       "      <td>0.135124</td>\n",
       "      <td>0.956600</td>\n",
       "      <td>0.956872</td>\n",
       "      <td>0.956778</td>\n",
       "      <td>0.956610</td>\n",
       "    </tr>\n",
       "    <tr>\n",
       "      <td>3</td>\n",
       "      <td>0.050000</td>\n",
       "      <td>0.115838</td>\n",
       "      <td>0.965400</td>\n",
       "      <td>0.965467</td>\n",
       "      <td>0.965570</td>\n",
       "      <td>0.965484</td>\n",
       "    </tr>\n",
       "    <tr>\n",
       "      <td>4</td>\n",
       "      <td>0.021700</td>\n",
       "      <td>0.142573</td>\n",
       "      <td>0.963100</td>\n",
       "      <td>0.963248</td>\n",
       "      <td>0.963335</td>\n",
       "      <td>0.963130</td>\n",
       "    </tr>\n",
       "  </tbody>\n",
       "</table><p>"
      ],
      "text/plain": [
       "<IPython.core.display.HTML object>"
      ]
     },
     "metadata": {},
     "output_type": "display_data"
    },
    {
     "name": "stderr",
     "output_type": "stream",
     "text": [
      "[I 2025-03-30 09:28:30,756] Trial 136 pruned. \n"
     ]
    },
    {
     "name": "stdout",
     "output_type": "stream",
     "text": [
      "Trial 137 with params: {'learning_rate': 0.00020373553713241103, 'weight_decay': 0.01, 'warmup_steps': 21}\n"
     ]
    },
    {
     "name": "stderr",
     "output_type": "stream",
     "text": [
      "Some weights of TimmWrapperForImageClassification were not initialized from the model checkpoint at timm/tiny_vit_5m_224.in1k and are newly initialized because the shapes did not match:\n",
      "- head.fc.bias: found shape torch.Size([1000]) in the checkpoint and torch.Size([10]) in the model instantiated\n",
      "- head.fc.weight: found shape torch.Size([1000, 320]) in the checkpoint and torch.Size([10, 320]) in the model instantiated\n",
      "You should probably TRAIN this model on a down-stream task to be able to use it for predictions and inference.\n"
     ]
    },
    {
     "data": {
      "text/html": [
       "\n",
       "    <div>\n",
       "      \n",
       "      <progress value='2191' max='2191' style='width:300px; height:20px; vertical-align: middle;'></progress>\n",
       "      [2191/2191 09:48, Epoch 7/7]\n",
       "    </div>\n",
       "    <table border=\"1\" class=\"dataframe\">\n",
       "  <thead>\n",
       " <tr style=\"text-align: left;\">\n",
       "      <th>Epoch</th>\n",
       "      <th>Training Loss</th>\n",
       "      <th>Validation Loss</th>\n",
       "      <th>Accuracy</th>\n",
       "      <th>Precision</th>\n",
       "      <th>Recall</th>\n",
       "      <th>F1</th>\n",
       "    </tr>\n",
       "  </thead>\n",
       "  <tbody>\n",
       "    <tr>\n",
       "      <td>1</td>\n",
       "      <td>0.430700</td>\n",
       "      <td>0.204079</td>\n",
       "      <td>0.930500</td>\n",
       "      <td>0.936795</td>\n",
       "      <td>0.930902</td>\n",
       "      <td>0.931040</td>\n",
       "    </tr>\n",
       "    <tr>\n",
       "      <td>2</td>\n",
       "      <td>0.112500</td>\n",
       "      <td>0.156992</td>\n",
       "      <td>0.951000</td>\n",
       "      <td>0.951342</td>\n",
       "      <td>0.951205</td>\n",
       "      <td>0.950917</td>\n",
       "    </tr>\n",
       "    <tr>\n",
       "      <td>3</td>\n",
       "      <td>0.061300</td>\n",
       "      <td>0.132714</td>\n",
       "      <td>0.958600</td>\n",
       "      <td>0.958946</td>\n",
       "      <td>0.958776</td>\n",
       "      <td>0.958741</td>\n",
       "    </tr>\n",
       "    <tr>\n",
       "      <td>4</td>\n",
       "      <td>0.029600</td>\n",
       "      <td>0.126875</td>\n",
       "      <td>0.965600</td>\n",
       "      <td>0.966118</td>\n",
       "      <td>0.965588</td>\n",
       "      <td>0.965739</td>\n",
       "    </tr>\n",
       "    <tr>\n",
       "      <td>5</td>\n",
       "      <td>0.012400</td>\n",
       "      <td>0.136907</td>\n",
       "      <td>0.968000</td>\n",
       "      <td>0.968456</td>\n",
       "      <td>0.968095</td>\n",
       "      <td>0.968057</td>\n",
       "    </tr>\n",
       "    <tr>\n",
       "      <td>6</td>\n",
       "      <td>0.003000</td>\n",
       "      <td>0.120398</td>\n",
       "      <td>0.971100</td>\n",
       "      <td>0.971344</td>\n",
       "      <td>0.971209</td>\n",
       "      <td>0.971254</td>\n",
       "    </tr>\n",
       "    <tr>\n",
       "      <td>7</td>\n",
       "      <td>0.000700</td>\n",
       "      <td>0.116750</td>\n",
       "      <td>0.972600</td>\n",
       "      <td>0.972669</td>\n",
       "      <td>0.972761</td>\n",
       "      <td>0.972696</td>\n",
       "    </tr>\n",
       "  </tbody>\n",
       "</table><p>"
      ],
      "text/plain": [
       "<IPython.core.display.HTML object>"
      ]
     },
     "metadata": {},
     "output_type": "display_data"
    },
    {
     "name": "stderr",
     "output_type": "stream",
     "text": [
      "[I 2025-03-30 09:38:21,843] Trial 137 finished with value: 0.9726962609113586 and parameters: {'learning_rate': 0.00020373553713241103, 'weight_decay': 0.01, 'warmup_steps': 21}. Best is trial 67 with value: 0.9746290627725797.\n"
     ]
    },
    {
     "name": "stdout",
     "output_type": "stream",
     "text": [
      "Trial 138 with params: {'learning_rate': 0.00021360881101219152, 'weight_decay': 0.009000000000000001, 'warmup_steps': 25}\n"
     ]
    },
    {
     "name": "stderr",
     "output_type": "stream",
     "text": [
      "Some weights of TimmWrapperForImageClassification were not initialized from the model checkpoint at timm/tiny_vit_5m_224.in1k and are newly initialized because the shapes did not match:\n",
      "- head.fc.bias: found shape torch.Size([1000]) in the checkpoint and torch.Size([10]) in the model instantiated\n",
      "- head.fc.weight: found shape torch.Size([1000, 320]) in the checkpoint and torch.Size([10, 320]) in the model instantiated\n",
      "You should probably TRAIN this model on a down-stream task to be able to use it for predictions and inference.\n"
     ]
    },
    {
     "data": {
      "text/html": [
       "\n",
       "    <div>\n",
       "      \n",
       "      <progress value='1252' max='2191' style='width:300px; height:20px; vertical-align: middle;'></progress>\n",
       "      [1252/2191 05:31 < 04:08, 3.77 it/s, Epoch 4/7]\n",
       "    </div>\n",
       "    <table border=\"1\" class=\"dataframe\">\n",
       "  <thead>\n",
       " <tr style=\"text-align: left;\">\n",
       "      <th>Epoch</th>\n",
       "      <th>Training Loss</th>\n",
       "      <th>Validation Loss</th>\n",
       "      <th>Accuracy</th>\n",
       "      <th>Precision</th>\n",
       "      <th>Recall</th>\n",
       "      <th>F1</th>\n",
       "    </tr>\n",
       "  </thead>\n",
       "  <tbody>\n",
       "    <tr>\n",
       "      <td>1</td>\n",
       "      <td>0.450500</td>\n",
       "      <td>0.211936</td>\n",
       "      <td>0.931900</td>\n",
       "      <td>0.936072</td>\n",
       "      <td>0.932058</td>\n",
       "      <td>0.932434</td>\n",
       "    </tr>\n",
       "    <tr>\n",
       "      <td>2</td>\n",
       "      <td>0.118400</td>\n",
       "      <td>0.145459</td>\n",
       "      <td>0.951100</td>\n",
       "      <td>0.951376</td>\n",
       "      <td>0.951423</td>\n",
       "      <td>0.951061</td>\n",
       "    </tr>\n",
       "    <tr>\n",
       "      <td>3</td>\n",
       "      <td>0.059400</td>\n",
       "      <td>0.121639</td>\n",
       "      <td>0.962800</td>\n",
       "      <td>0.963214</td>\n",
       "      <td>0.962852</td>\n",
       "      <td>0.962987</td>\n",
       "    </tr>\n",
       "    <tr>\n",
       "      <td>4</td>\n",
       "      <td>0.028400</td>\n",
       "      <td>0.131662</td>\n",
       "      <td>0.964700</td>\n",
       "      <td>0.965043</td>\n",
       "      <td>0.964897</td>\n",
       "      <td>0.964905</td>\n",
       "    </tr>\n",
       "  </tbody>\n",
       "</table><p>"
      ],
      "text/plain": [
       "<IPython.core.display.HTML object>"
      ]
     },
     "metadata": {},
     "output_type": "display_data"
    },
    {
     "name": "stderr",
     "output_type": "stream",
     "text": [
      "[I 2025-03-30 09:43:55,121] Trial 138 pruned. \n"
     ]
    },
    {
     "name": "stdout",
     "output_type": "stream",
     "text": [
      "Trial 139 with params: {'learning_rate': 7.779035601268777e-05, 'weight_decay': 0.01, 'warmup_steps': 21}\n"
     ]
    },
    {
     "name": "stderr",
     "output_type": "stream",
     "text": [
      "Some weights of TimmWrapperForImageClassification were not initialized from the model checkpoint at timm/tiny_vit_5m_224.in1k and are newly initialized because the shapes did not match:\n",
      "- head.fc.bias: found shape torch.Size([1000]) in the checkpoint and torch.Size([10]) in the model instantiated\n",
      "- head.fc.weight: found shape torch.Size([1000, 320]) in the checkpoint and torch.Size([10, 320]) in the model instantiated\n",
      "You should probably TRAIN this model on a down-stream task to be able to use it for predictions and inference.\n"
     ]
    },
    {
     "data": {
      "text/html": [
       "\n",
       "    <div>\n",
       "      \n",
       "      <progress value='1252' max='2191' style='width:300px; height:20px; vertical-align: middle;'></progress>\n",
       "      [1252/2191 05:31 < 04:08, 3.77 it/s, Epoch 4/7]\n",
       "    </div>\n",
       "    <table border=\"1\" class=\"dataframe\">\n",
       "  <thead>\n",
       " <tr style=\"text-align: left;\">\n",
       "      <th>Epoch</th>\n",
       "      <th>Training Loss</th>\n",
       "      <th>Validation Loss</th>\n",
       "      <th>Accuracy</th>\n",
       "      <th>Precision</th>\n",
       "      <th>Recall</th>\n",
       "      <th>F1</th>\n",
       "    </tr>\n",
       "  </thead>\n",
       "  <tbody>\n",
       "    <tr>\n",
       "      <td>1</td>\n",
       "      <td>0.502400</td>\n",
       "      <td>0.165126</td>\n",
       "      <td>0.945200</td>\n",
       "      <td>0.948349</td>\n",
       "      <td>0.945357</td>\n",
       "      <td>0.945766</td>\n",
       "    </tr>\n",
       "    <tr>\n",
       "      <td>2</td>\n",
       "      <td>0.088900</td>\n",
       "      <td>0.120134</td>\n",
       "      <td>0.961800</td>\n",
       "      <td>0.962133</td>\n",
       "      <td>0.961940</td>\n",
       "      <td>0.961959</td>\n",
       "    </tr>\n",
       "    <tr>\n",
       "      <td>3</td>\n",
       "      <td>0.038500</td>\n",
       "      <td>0.124889</td>\n",
       "      <td>0.962500</td>\n",
       "      <td>0.962643</td>\n",
       "      <td>0.962648</td>\n",
       "      <td>0.962596</td>\n",
       "    </tr>\n",
       "    <tr>\n",
       "      <td>4</td>\n",
       "      <td>0.014700</td>\n",
       "      <td>0.134513</td>\n",
       "      <td>0.966000</td>\n",
       "      <td>0.966071</td>\n",
       "      <td>0.966156</td>\n",
       "      <td>0.966097</td>\n",
       "    </tr>\n",
       "  </tbody>\n",
       "</table><p>"
      ],
      "text/plain": [
       "<IPython.core.display.HTML object>"
      ]
     },
     "metadata": {},
     "output_type": "display_data"
    },
    {
     "name": "stderr",
     "output_type": "stream",
     "text": [
      "[I 2025-03-30 09:49:28,610] Trial 139 pruned. \n"
     ]
    },
    {
     "name": "stdout",
     "output_type": "stream",
     "text": [
      "Trial 140 with params: {'learning_rate': 0.0001273571460488291, 'weight_decay': 0.01, 'warmup_steps': 26}\n"
     ]
    },
    {
     "name": "stderr",
     "output_type": "stream",
     "text": [
      "Some weights of TimmWrapperForImageClassification were not initialized from the model checkpoint at timm/tiny_vit_5m_224.in1k and are newly initialized because the shapes did not match:\n",
      "- head.fc.bias: found shape torch.Size([1000]) in the checkpoint and torch.Size([10]) in the model instantiated\n",
      "- head.fc.weight: found shape torch.Size([1000, 320]) in the checkpoint and torch.Size([10, 320]) in the model instantiated\n",
      "You should probably TRAIN this model on a down-stream task to be able to use it for predictions and inference.\n"
     ]
    },
    {
     "data": {
      "text/html": [
       "\n",
       "    <div>\n",
       "      \n",
       "      <progress value='1252' max='2191' style='width:300px; height:20px; vertical-align: middle;'></progress>\n",
       "      [1252/2191 05:47 < 04:21, 3.59 it/s, Epoch 4/7]\n",
       "    </div>\n",
       "    <table border=\"1\" class=\"dataframe\">\n",
       "  <thead>\n",
       " <tr style=\"text-align: left;\">\n",
       "      <th>Epoch</th>\n",
       "      <th>Training Loss</th>\n",
       "      <th>Validation Loss</th>\n",
       "      <th>Accuracy</th>\n",
       "      <th>Precision</th>\n",
       "      <th>Recall</th>\n",
       "      <th>F1</th>\n",
       "    </tr>\n",
       "  </thead>\n",
       "  <tbody>\n",
       "    <tr>\n",
       "      <td>1</td>\n",
       "      <td>0.463000</td>\n",
       "      <td>0.197419</td>\n",
       "      <td>0.933800</td>\n",
       "      <td>0.938253</td>\n",
       "      <td>0.933963</td>\n",
       "      <td>0.934330</td>\n",
       "    </tr>\n",
       "    <tr>\n",
       "      <td>2</td>\n",
       "      <td>0.096800</td>\n",
       "      <td>0.150764</td>\n",
       "      <td>0.949900</td>\n",
       "      <td>0.951056</td>\n",
       "      <td>0.950199</td>\n",
       "      <td>0.949997</td>\n",
       "    </tr>\n",
       "    <tr>\n",
       "      <td>3</td>\n",
       "      <td>0.043900</td>\n",
       "      <td>0.126970</td>\n",
       "      <td>0.961400</td>\n",
       "      <td>0.961796</td>\n",
       "      <td>0.961594</td>\n",
       "      <td>0.961592</td>\n",
       "    </tr>\n",
       "    <tr>\n",
       "      <td>4</td>\n",
       "      <td>0.020900</td>\n",
       "      <td>0.143053</td>\n",
       "      <td>0.964500</td>\n",
       "      <td>0.964784</td>\n",
       "      <td>0.964609</td>\n",
       "      <td>0.964623</td>\n",
       "    </tr>\n",
       "  </tbody>\n",
       "</table><p>"
      ],
      "text/plain": [
       "<IPython.core.display.HTML object>"
      ]
     },
     "metadata": {},
     "output_type": "display_data"
    },
    {
     "name": "stderr",
     "output_type": "stream",
     "text": [
      "[I 2025-03-30 09:55:18,624] Trial 140 pruned. \n"
     ]
    },
    {
     "name": "stdout",
     "output_type": "stream",
     "text": [
      "Trial 141 with params: {'learning_rate': 0.00011871615512500498, 'weight_decay': 0.006, 'warmup_steps': 25}\n"
     ]
    },
    {
     "name": "stderr",
     "output_type": "stream",
     "text": [
      "Some weights of TimmWrapperForImageClassification were not initialized from the model checkpoint at timm/tiny_vit_5m_224.in1k and are newly initialized because the shapes did not match:\n",
      "- head.fc.bias: found shape torch.Size([1000]) in the checkpoint and torch.Size([10]) in the model instantiated\n",
      "- head.fc.weight: found shape torch.Size([1000, 320]) in the checkpoint and torch.Size([10, 320]) in the model instantiated\n",
      "You should probably TRAIN this model on a down-stream task to be able to use it for predictions and inference.\n"
     ]
    },
    {
     "data": {
      "text/html": [
       "\n",
       "    <div>\n",
       "      \n",
       "      <progress value='2191' max='2191' style='width:300px; height:20px; vertical-align: middle;'></progress>\n",
       "      [2191/2191 10:14, Epoch 7/7]\n",
       "    </div>\n",
       "    <table border=\"1\" class=\"dataframe\">\n",
       "  <thead>\n",
       " <tr style=\"text-align: left;\">\n",
       "      <th>Epoch</th>\n",
       "      <th>Training Loss</th>\n",
       "      <th>Validation Loss</th>\n",
       "      <th>Accuracy</th>\n",
       "      <th>Precision</th>\n",
       "      <th>Recall</th>\n",
       "      <th>F1</th>\n",
       "    </tr>\n",
       "  </thead>\n",
       "  <tbody>\n",
       "    <tr>\n",
       "      <td>1</td>\n",
       "      <td>0.463300</td>\n",
       "      <td>0.174251</td>\n",
       "      <td>0.942300</td>\n",
       "      <td>0.946695</td>\n",
       "      <td>0.942337</td>\n",
       "      <td>0.943179</td>\n",
       "    </tr>\n",
       "    <tr>\n",
       "      <td>2</td>\n",
       "      <td>0.093500</td>\n",
       "      <td>0.122295</td>\n",
       "      <td>0.961000</td>\n",
       "      <td>0.961437</td>\n",
       "      <td>0.961077</td>\n",
       "      <td>0.961088</td>\n",
       "    </tr>\n",
       "    <tr>\n",
       "      <td>3</td>\n",
       "      <td>0.044000</td>\n",
       "      <td>0.118730</td>\n",
       "      <td>0.964200</td>\n",
       "      <td>0.964963</td>\n",
       "      <td>0.964433</td>\n",
       "      <td>0.964385</td>\n",
       "    </tr>\n",
       "    <tr>\n",
       "      <td>4</td>\n",
       "      <td>0.018200</td>\n",
       "      <td>0.124497</td>\n",
       "      <td>0.968900</td>\n",
       "      <td>0.968980</td>\n",
       "      <td>0.969060</td>\n",
       "      <td>0.969000</td>\n",
       "    </tr>\n",
       "    <tr>\n",
       "      <td>5</td>\n",
       "      <td>0.005600</td>\n",
       "      <td>0.130972</td>\n",
       "      <td>0.968400</td>\n",
       "      <td>0.968876</td>\n",
       "      <td>0.968548</td>\n",
       "      <td>0.968604</td>\n",
       "    </tr>\n",
       "    <tr>\n",
       "      <td>6</td>\n",
       "      <td>0.001700</td>\n",
       "      <td>0.129670</td>\n",
       "      <td>0.970800</td>\n",
       "      <td>0.970972</td>\n",
       "      <td>0.970933</td>\n",
       "      <td>0.970940</td>\n",
       "    </tr>\n",
       "    <tr>\n",
       "      <td>7</td>\n",
       "      <td>0.000400</td>\n",
       "      <td>0.128852</td>\n",
       "      <td>0.971900</td>\n",
       "      <td>0.972016</td>\n",
       "      <td>0.972049</td>\n",
       "      <td>0.972020</td>\n",
       "    </tr>\n",
       "  </tbody>\n",
       "</table><p>"
      ],
      "text/plain": [
       "<IPython.core.display.HTML object>"
      ]
     },
     "metadata": {},
     "output_type": "display_data"
    },
    {
     "name": "stderr",
     "output_type": "stream",
     "text": [
      "[I 2025-03-30 10:05:35,594] Trial 141 finished with value: 0.9720196300173409 and parameters: {'learning_rate': 0.00011871615512500498, 'weight_decay': 0.006, 'warmup_steps': 25}. Best is trial 67 with value: 0.9746290627725797.\n"
     ]
    },
    {
     "name": "stdout",
     "output_type": "stream",
     "text": [
      "Trial 142 with params: {'learning_rate': 6.322290328638982e-05, 'weight_decay': 0.008, 'warmup_steps': 30}\n"
     ]
    },
    {
     "name": "stderr",
     "output_type": "stream",
     "text": [
      "Some weights of TimmWrapperForImageClassification were not initialized from the model checkpoint at timm/tiny_vit_5m_224.in1k and are newly initialized because the shapes did not match:\n",
      "- head.fc.bias: found shape torch.Size([1000]) in the checkpoint and torch.Size([10]) in the model instantiated\n",
      "- head.fc.weight: found shape torch.Size([1000, 320]) in the checkpoint and torch.Size([10, 320]) in the model instantiated\n",
      "You should probably TRAIN this model on a down-stream task to be able to use it for predictions and inference.\n"
     ]
    },
    {
     "data": {
      "text/html": [
       "\n",
       "    <div>\n",
       "      \n",
       "      <progress value='2191' max='2191' style='width:300px; height:20px; vertical-align: middle;'></progress>\n",
       "      [2191/2191 09:42, Epoch 7/7]\n",
       "    </div>\n",
       "    <table border=\"1\" class=\"dataframe\">\n",
       "  <thead>\n",
       " <tr style=\"text-align: left;\">\n",
       "      <th>Epoch</th>\n",
       "      <th>Training Loss</th>\n",
       "      <th>Validation Loss</th>\n",
       "      <th>Accuracy</th>\n",
       "      <th>Precision</th>\n",
       "      <th>Recall</th>\n",
       "      <th>F1</th>\n",
       "    </tr>\n",
       "  </thead>\n",
       "  <tbody>\n",
       "    <tr>\n",
       "      <td>1</td>\n",
       "      <td>0.593200</td>\n",
       "      <td>0.168159</td>\n",
       "      <td>0.946200</td>\n",
       "      <td>0.947418</td>\n",
       "      <td>0.946289</td>\n",
       "      <td>0.946424</td>\n",
       "    </tr>\n",
       "    <tr>\n",
       "      <td>2</td>\n",
       "      <td>0.094500</td>\n",
       "      <td>0.116851</td>\n",
       "      <td>0.961600</td>\n",
       "      <td>0.961874</td>\n",
       "      <td>0.961670</td>\n",
       "      <td>0.961716</td>\n",
       "    </tr>\n",
       "    <tr>\n",
       "      <td>3</td>\n",
       "      <td>0.038200</td>\n",
       "      <td>0.115456</td>\n",
       "      <td>0.966000</td>\n",
       "      <td>0.966086</td>\n",
       "      <td>0.966153</td>\n",
       "      <td>0.966082</td>\n",
       "    </tr>\n",
       "    <tr>\n",
       "      <td>4</td>\n",
       "      <td>0.014400</td>\n",
       "      <td>0.132907</td>\n",
       "      <td>0.966700</td>\n",
       "      <td>0.966842</td>\n",
       "      <td>0.966826</td>\n",
       "      <td>0.966821</td>\n",
       "    </tr>\n",
       "    <tr>\n",
       "      <td>5</td>\n",
       "      <td>0.005000</td>\n",
       "      <td>0.145341</td>\n",
       "      <td>0.966500</td>\n",
       "      <td>0.966601</td>\n",
       "      <td>0.966665</td>\n",
       "      <td>0.966585</td>\n",
       "    </tr>\n",
       "    <tr>\n",
       "      <td>6</td>\n",
       "      <td>0.001800</td>\n",
       "      <td>0.147510</td>\n",
       "      <td>0.967900</td>\n",
       "      <td>0.968132</td>\n",
       "      <td>0.968022</td>\n",
       "      <td>0.968057</td>\n",
       "    </tr>\n",
       "    <tr>\n",
       "      <td>7</td>\n",
       "      <td>0.000800</td>\n",
       "      <td>0.147040</td>\n",
       "      <td>0.968300</td>\n",
       "      <td>0.968380</td>\n",
       "      <td>0.968435</td>\n",
       "      <td>0.968397</td>\n",
       "    </tr>\n",
       "  </tbody>\n",
       "</table><p>"
      ],
      "text/plain": [
       "<IPython.core.display.HTML object>"
      ]
     },
     "metadata": {},
     "output_type": "display_data"
    },
    {
     "name": "stderr",
     "output_type": "stream",
     "text": [
      "[I 2025-03-30 10:15:20,642] Trial 142 finished with value: 0.9683973996710821 and parameters: {'learning_rate': 6.322290328638982e-05, 'weight_decay': 0.008, 'warmup_steps': 30}. Best is trial 67 with value: 0.9746290627725797.\n"
     ]
    },
    {
     "name": "stdout",
     "output_type": "stream",
     "text": [
      "Trial 143 with params: {'learning_rate': 9.817682263120722e-05, 'weight_decay': 0.007, 'warmup_steps': 21}\n"
     ]
    },
    {
     "name": "stderr",
     "output_type": "stream",
     "text": [
      "Some weights of TimmWrapperForImageClassification were not initialized from the model checkpoint at timm/tiny_vit_5m_224.in1k and are newly initialized because the shapes did not match:\n",
      "- head.fc.bias: found shape torch.Size([1000]) in the checkpoint and torch.Size([10]) in the model instantiated\n",
      "- head.fc.weight: found shape torch.Size([1000, 320]) in the checkpoint and torch.Size([10, 320]) in the model instantiated\n",
      "You should probably TRAIN this model on a down-stream task to be able to use it for predictions and inference.\n"
     ]
    },
    {
     "data": {
      "text/html": [
       "\n",
       "    <div>\n",
       "      \n",
       "      <progress value='626' max='2191' style='width:300px; height:20px; vertical-align: middle;'></progress>\n",
       "      [ 626/2191 02:43 < 06:51, 3.81 it/s, Epoch 2/7]\n",
       "    </div>\n",
       "    <table border=\"1\" class=\"dataframe\">\n",
       "  <thead>\n",
       " <tr style=\"text-align: left;\">\n",
       "      <th>Epoch</th>\n",
       "      <th>Training Loss</th>\n",
       "      <th>Validation Loss</th>\n",
       "      <th>Accuracy</th>\n",
       "      <th>Precision</th>\n",
       "      <th>Recall</th>\n",
       "      <th>F1</th>\n",
       "    </tr>\n",
       "  </thead>\n",
       "  <tbody>\n",
       "    <tr>\n",
       "      <td>1</td>\n",
       "      <td>0.470000</td>\n",
       "      <td>0.166883</td>\n",
       "      <td>0.945800</td>\n",
       "      <td>0.948582</td>\n",
       "      <td>0.945946</td>\n",
       "      <td>0.946128</td>\n",
       "    </tr>\n",
       "    <tr>\n",
       "      <td>2</td>\n",
       "      <td>0.088300</td>\n",
       "      <td>0.139596</td>\n",
       "      <td>0.955100</td>\n",
       "      <td>0.955908</td>\n",
       "      <td>0.955327</td>\n",
       "      <td>0.955096</td>\n",
       "    </tr>\n",
       "  </tbody>\n",
       "</table><p>"
      ],
      "text/plain": [
       "<IPython.core.display.HTML object>"
      ]
     },
     "metadata": {},
     "output_type": "display_data"
    },
    {
     "name": "stderr",
     "output_type": "stream",
     "text": [
      "[I 2025-03-30 10:18:06,309] Trial 143 pruned. \n"
     ]
    },
    {
     "name": "stdout",
     "output_type": "stream",
     "text": [
      "Trial 144 with params: {'learning_rate': 0.00012998111661535324, 'weight_decay': 0.005, 'warmup_steps': 26}\n"
     ]
    },
    {
     "name": "stderr",
     "output_type": "stream",
     "text": [
      "Some weights of TimmWrapperForImageClassification were not initialized from the model checkpoint at timm/tiny_vit_5m_224.in1k and are newly initialized because the shapes did not match:\n",
      "- head.fc.bias: found shape torch.Size([1000]) in the checkpoint and torch.Size([10]) in the model instantiated\n",
      "- head.fc.weight: found shape torch.Size([1000, 320]) in the checkpoint and torch.Size([10, 320]) in the model instantiated\n",
      "You should probably TRAIN this model on a down-stream task to be able to use it for predictions and inference.\n"
     ]
    },
    {
     "data": {
      "text/html": [
       "\n",
       "    <div>\n",
       "      \n",
       "      <progress value='2191' max='2191' style='width:300px; height:20px; vertical-align: middle;'></progress>\n",
       "      [2191/2191 09:43, Epoch 7/7]\n",
       "    </div>\n",
       "    <table border=\"1\" class=\"dataframe\">\n",
       "  <thead>\n",
       " <tr style=\"text-align: left;\">\n",
       "      <th>Epoch</th>\n",
       "      <th>Training Loss</th>\n",
       "      <th>Validation Loss</th>\n",
       "      <th>Accuracy</th>\n",
       "      <th>Precision</th>\n",
       "      <th>Recall</th>\n",
       "      <th>F1</th>\n",
       "    </tr>\n",
       "  </thead>\n",
       "  <tbody>\n",
       "    <tr>\n",
       "      <td>1</td>\n",
       "      <td>0.452400</td>\n",
       "      <td>0.189832</td>\n",
       "      <td>0.936600</td>\n",
       "      <td>0.939831</td>\n",
       "      <td>0.936816</td>\n",
       "      <td>0.936797</td>\n",
       "    </tr>\n",
       "    <tr>\n",
       "      <td>2</td>\n",
       "      <td>0.092900</td>\n",
       "      <td>0.131191</td>\n",
       "      <td>0.956000</td>\n",
       "      <td>0.956420</td>\n",
       "      <td>0.956239</td>\n",
       "      <td>0.956027</td>\n",
       "    </tr>\n",
       "    <tr>\n",
       "      <td>3</td>\n",
       "      <td>0.045600</td>\n",
       "      <td>0.120929</td>\n",
       "      <td>0.962800</td>\n",
       "      <td>0.963373</td>\n",
       "      <td>0.962981</td>\n",
       "      <td>0.962971</td>\n",
       "    </tr>\n",
       "    <tr>\n",
       "      <td>4</td>\n",
       "      <td>0.022000</td>\n",
       "      <td>0.132565</td>\n",
       "      <td>0.966200</td>\n",
       "      <td>0.966453</td>\n",
       "      <td>0.966349</td>\n",
       "      <td>0.966343</td>\n",
       "    </tr>\n",
       "    <tr>\n",
       "      <td>5</td>\n",
       "      <td>0.007200</td>\n",
       "      <td>0.133132</td>\n",
       "      <td>0.970200</td>\n",
       "      <td>0.970478</td>\n",
       "      <td>0.970286</td>\n",
       "      <td>0.970335</td>\n",
       "    </tr>\n",
       "    <tr>\n",
       "      <td>6</td>\n",
       "      <td>0.002300</td>\n",
       "      <td>0.132746</td>\n",
       "      <td>0.971500</td>\n",
       "      <td>0.971826</td>\n",
       "      <td>0.971625</td>\n",
       "      <td>0.971686</td>\n",
       "    </tr>\n",
       "    <tr>\n",
       "      <td>7</td>\n",
       "      <td>0.000500</td>\n",
       "      <td>0.133915</td>\n",
       "      <td>0.972300</td>\n",
       "      <td>0.972465</td>\n",
       "      <td>0.972457</td>\n",
       "      <td>0.972449</td>\n",
       "    </tr>\n",
       "  </tbody>\n",
       "</table><p>"
      ],
      "text/plain": [
       "<IPython.core.display.HTML object>"
      ]
     },
     "metadata": {},
     "output_type": "display_data"
    },
    {
     "name": "stderr",
     "output_type": "stream",
     "text": [
      "[I 2025-03-30 10:27:53,000] Trial 144 finished with value: 0.9724491874340389 and parameters: {'learning_rate': 0.00012998111661535324, 'weight_decay': 0.005, 'warmup_steps': 26}. Best is trial 67 with value: 0.9746290627725797.\n"
     ]
    },
    {
     "name": "stdout",
     "output_type": "stream",
     "text": [
      "Trial 145 with params: {'learning_rate': 0.00033617132254965394, 'weight_decay': 0.008, 'warmup_steps': 19}\n"
     ]
    },
    {
     "name": "stderr",
     "output_type": "stream",
     "text": [
      "Some weights of TimmWrapperForImageClassification were not initialized from the model checkpoint at timm/tiny_vit_5m_224.in1k and are newly initialized because the shapes did not match:\n",
      "- head.fc.bias: found shape torch.Size([1000]) in the checkpoint and torch.Size([10]) in the model instantiated\n",
      "- head.fc.weight: found shape torch.Size([1000, 320]) in the checkpoint and torch.Size([10, 320]) in the model instantiated\n",
      "You should probably TRAIN this model on a down-stream task to be able to use it for predictions and inference.\n"
     ]
    },
    {
     "data": {
      "text/html": [
       "\n",
       "    <div>\n",
       "      \n",
       "      <progress value='626' max='2191' style='width:300px; height:20px; vertical-align: middle;'></progress>\n",
       "      [ 626/2191 02:45 < 06:55, 3.77 it/s, Epoch 2/7]\n",
       "    </div>\n",
       "    <table border=\"1\" class=\"dataframe\">\n",
       "  <thead>\n",
       " <tr style=\"text-align: left;\">\n",
       "      <th>Epoch</th>\n",
       "      <th>Training Loss</th>\n",
       "      <th>Validation Loss</th>\n",
       "      <th>Accuracy</th>\n",
       "      <th>Precision</th>\n",
       "      <th>Recall</th>\n",
       "      <th>F1</th>\n",
       "    </tr>\n",
       "  </thead>\n",
       "  <tbody>\n",
       "    <tr>\n",
       "      <td>1</td>\n",
       "      <td>0.443300</td>\n",
       "      <td>0.249100</td>\n",
       "      <td>0.919400</td>\n",
       "      <td>0.924907</td>\n",
       "      <td>0.919641</td>\n",
       "      <td>0.919943</td>\n",
       "    </tr>\n",
       "    <tr>\n",
       "      <td>2</td>\n",
       "      <td>0.154300</td>\n",
       "      <td>0.184701</td>\n",
       "      <td>0.936600</td>\n",
       "      <td>0.938142</td>\n",
       "      <td>0.936901</td>\n",
       "      <td>0.936862</td>\n",
       "    </tr>\n",
       "  </tbody>\n",
       "</table><p>"
      ],
      "text/plain": [
       "<IPython.core.display.HTML object>"
      ]
     },
     "metadata": {},
     "output_type": "display_data"
    },
    {
     "name": "stderr",
     "output_type": "stream",
     "text": [
      "[I 2025-03-30 10:30:40,478] Trial 145 pruned. \n"
     ]
    },
    {
     "name": "stdout",
     "output_type": "stream",
     "text": [
      "Trial 146 with params: {'learning_rate': 0.0001420927094320487, 'weight_decay': 0.008, 'warmup_steps': 20}\n"
     ]
    },
    {
     "name": "stderr",
     "output_type": "stream",
     "text": [
      "Some weights of TimmWrapperForImageClassification were not initialized from the model checkpoint at timm/tiny_vit_5m_224.in1k and are newly initialized because the shapes did not match:\n",
      "- head.fc.bias: found shape torch.Size([1000]) in the checkpoint and torch.Size([10]) in the model instantiated\n",
      "- head.fc.weight: found shape torch.Size([1000, 320]) in the checkpoint and torch.Size([10, 320]) in the model instantiated\n",
      "You should probably TRAIN this model on a down-stream task to be able to use it for predictions and inference.\n"
     ]
    },
    {
     "data": {
      "text/html": [
       "\n",
       "    <div>\n",
       "      \n",
       "      <progress value='2191' max='2191' style='width:300px; height:20px; vertical-align: middle;'></progress>\n",
       "      [2191/2191 09:45, Epoch 7/7]\n",
       "    </div>\n",
       "    <table border=\"1\" class=\"dataframe\">\n",
       "  <thead>\n",
       " <tr style=\"text-align: left;\">\n",
       "      <th>Epoch</th>\n",
       "      <th>Training Loss</th>\n",
       "      <th>Validation Loss</th>\n",
       "      <th>Accuracy</th>\n",
       "      <th>Precision</th>\n",
       "      <th>Recall</th>\n",
       "      <th>F1</th>\n",
       "    </tr>\n",
       "  </thead>\n",
       "  <tbody>\n",
       "    <tr>\n",
       "      <td>1</td>\n",
       "      <td>0.433200</td>\n",
       "      <td>0.177322</td>\n",
       "      <td>0.941700</td>\n",
       "      <td>0.944145</td>\n",
       "      <td>0.941765</td>\n",
       "      <td>0.941982</td>\n",
       "    </tr>\n",
       "    <tr>\n",
       "      <td>2</td>\n",
       "      <td>0.098700</td>\n",
       "      <td>0.147004</td>\n",
       "      <td>0.951300</td>\n",
       "      <td>0.952629</td>\n",
       "      <td>0.951510</td>\n",
       "      <td>0.951653</td>\n",
       "    </tr>\n",
       "    <tr>\n",
       "      <td>3</td>\n",
       "      <td>0.049100</td>\n",
       "      <td>0.139490</td>\n",
       "      <td>0.959500</td>\n",
       "      <td>0.959934</td>\n",
       "      <td>0.959731</td>\n",
       "      <td>0.959562</td>\n",
       "    </tr>\n",
       "    <tr>\n",
       "      <td>4</td>\n",
       "      <td>0.022300</td>\n",
       "      <td>0.126913</td>\n",
       "      <td>0.968500</td>\n",
       "      <td>0.968732</td>\n",
       "      <td>0.968658</td>\n",
       "      <td>0.968659</td>\n",
       "    </tr>\n",
       "    <tr>\n",
       "      <td>5</td>\n",
       "      <td>0.008400</td>\n",
       "      <td>0.134333</td>\n",
       "      <td>0.970100</td>\n",
       "      <td>0.970390</td>\n",
       "      <td>0.970262</td>\n",
       "      <td>0.970246</td>\n",
       "    </tr>\n",
       "    <tr>\n",
       "      <td>6</td>\n",
       "      <td>0.002600</td>\n",
       "      <td>0.134138</td>\n",
       "      <td>0.971300</td>\n",
       "      <td>0.971466</td>\n",
       "      <td>0.971443</td>\n",
       "      <td>0.971443</td>\n",
       "    </tr>\n",
       "    <tr>\n",
       "      <td>7</td>\n",
       "      <td>0.000500</td>\n",
       "      <td>0.133518</td>\n",
       "      <td>0.971700</td>\n",
       "      <td>0.971862</td>\n",
       "      <td>0.971848</td>\n",
       "      <td>0.971846</td>\n",
       "    </tr>\n",
       "  </tbody>\n",
       "</table><p>"
      ],
      "text/plain": [
       "<IPython.core.display.HTML object>"
      ]
     },
     "metadata": {},
     "output_type": "display_data"
    },
    {
     "name": "stderr",
     "output_type": "stream",
     "text": [
      "[I 2025-03-30 10:40:29,461] Trial 146 finished with value: 0.9718459221200899 and parameters: {'learning_rate': 0.0001420927094320487, 'weight_decay': 0.008, 'warmup_steps': 20}. Best is trial 67 with value: 0.9746290627725797.\n"
     ]
    },
    {
     "name": "stdout",
     "output_type": "stream",
     "text": [
      "Trial 147 with params: {'learning_rate': 0.0003079538495067879, 'weight_decay': 0.008, 'warmup_steps': 31}\n"
     ]
    },
    {
     "name": "stderr",
     "output_type": "stream",
     "text": [
      "Some weights of TimmWrapperForImageClassification were not initialized from the model checkpoint at timm/tiny_vit_5m_224.in1k and are newly initialized because the shapes did not match:\n",
      "- head.fc.bias: found shape torch.Size([1000]) in the checkpoint and torch.Size([10]) in the model instantiated\n",
      "- head.fc.weight: found shape torch.Size([1000, 320]) in the checkpoint and torch.Size([10, 320]) in the model instantiated\n",
      "You should probably TRAIN this model on a down-stream task to be able to use it for predictions and inference.\n"
     ]
    },
    {
     "data": {
      "text/html": [
       "\n",
       "    <div>\n",
       "      \n",
       "      <progress value='626' max='2191' style='width:300px; height:20px; vertical-align: middle;'></progress>\n",
       "      [ 626/2191 02:45 < 06:55, 3.77 it/s, Epoch 2/7]\n",
       "    </div>\n",
       "    <table border=\"1\" class=\"dataframe\">\n",
       "  <thead>\n",
       " <tr style=\"text-align: left;\">\n",
       "      <th>Epoch</th>\n",
       "      <th>Training Loss</th>\n",
       "      <th>Validation Loss</th>\n",
       "      <th>Accuracy</th>\n",
       "      <th>Precision</th>\n",
       "      <th>Recall</th>\n",
       "      <th>F1</th>\n",
       "    </tr>\n",
       "  </thead>\n",
       "  <tbody>\n",
       "    <tr>\n",
       "      <td>1</td>\n",
       "      <td>0.461700</td>\n",
       "      <td>0.253198</td>\n",
       "      <td>0.916500</td>\n",
       "      <td>0.918857</td>\n",
       "      <td>0.916963</td>\n",
       "      <td>0.916414</td>\n",
       "    </tr>\n",
       "    <tr>\n",
       "      <td>2</td>\n",
       "      <td>0.141700</td>\n",
       "      <td>0.230481</td>\n",
       "      <td>0.927600</td>\n",
       "      <td>0.932726</td>\n",
       "      <td>0.927990</td>\n",
       "      <td>0.927010</td>\n",
       "    </tr>\n",
       "  </tbody>\n",
       "</table><p>"
      ],
      "text/plain": [
       "<IPython.core.display.HTML object>"
      ]
     },
     "metadata": {},
     "output_type": "display_data"
    },
    {
     "name": "stderr",
     "output_type": "stream",
     "text": [
      "[I 2025-03-30 10:43:17,116] Trial 147 pruned. \n"
     ]
    },
    {
     "name": "stdout",
     "output_type": "stream",
     "text": [
      "Trial 148 with params: {'learning_rate': 9.806964711146234e-05, 'weight_decay': 0.005, 'warmup_steps': 31}\n"
     ]
    },
    {
     "name": "stderr",
     "output_type": "stream",
     "text": [
      "Some weights of TimmWrapperForImageClassification were not initialized from the model checkpoint at timm/tiny_vit_5m_224.in1k and are newly initialized because the shapes did not match:\n",
      "- head.fc.bias: found shape torch.Size([1000]) in the checkpoint and torch.Size([10]) in the model instantiated\n",
      "- head.fc.weight: found shape torch.Size([1000, 320]) in the checkpoint and torch.Size([10, 320]) in the model instantiated\n",
      "You should probably TRAIN this model on a down-stream task to be able to use it for predictions and inference.\n"
     ]
    },
    {
     "data": {
      "text/html": [
       "\n",
       "    <div>\n",
       "      \n",
       "      <progress value='2191' max='2191' style='width:300px; height:20px; vertical-align: middle;'></progress>\n",
       "      [2191/2191 10:08, Epoch 7/7]\n",
       "    </div>\n",
       "    <table border=\"1\" class=\"dataframe\">\n",
       "  <thead>\n",
       " <tr style=\"text-align: left;\">\n",
       "      <th>Epoch</th>\n",
       "      <th>Training Loss</th>\n",
       "      <th>Validation Loss</th>\n",
       "      <th>Accuracy</th>\n",
       "      <th>Precision</th>\n",
       "      <th>Recall</th>\n",
       "      <th>F1</th>\n",
       "    </tr>\n",
       "  </thead>\n",
       "  <tbody>\n",
       "    <tr>\n",
       "      <td>1</td>\n",
       "      <td>0.510700</td>\n",
       "      <td>0.200660</td>\n",
       "      <td>0.933000</td>\n",
       "      <td>0.941627</td>\n",
       "      <td>0.933199</td>\n",
       "      <td>0.934555</td>\n",
       "    </tr>\n",
       "    <tr>\n",
       "      <td>2</td>\n",
       "      <td>0.092300</td>\n",
       "      <td>0.119668</td>\n",
       "      <td>0.959800</td>\n",
       "      <td>0.960450</td>\n",
       "      <td>0.959939</td>\n",
       "      <td>0.959969</td>\n",
       "    </tr>\n",
       "    <tr>\n",
       "      <td>3</td>\n",
       "      <td>0.040900</td>\n",
       "      <td>0.121229</td>\n",
       "      <td>0.965000</td>\n",
       "      <td>0.965443</td>\n",
       "      <td>0.965102</td>\n",
       "      <td>0.965193</td>\n",
       "    </tr>\n",
       "    <tr>\n",
       "      <td>4</td>\n",
       "      <td>0.015800</td>\n",
       "      <td>0.132176</td>\n",
       "      <td>0.967000</td>\n",
       "      <td>0.967488</td>\n",
       "      <td>0.967103</td>\n",
       "      <td>0.967153</td>\n",
       "    </tr>\n",
       "    <tr>\n",
       "      <td>5</td>\n",
       "      <td>0.006700</td>\n",
       "      <td>0.124224</td>\n",
       "      <td>0.971200</td>\n",
       "      <td>0.971412</td>\n",
       "      <td>0.971332</td>\n",
       "      <td>0.971347</td>\n",
       "    </tr>\n",
       "    <tr>\n",
       "      <td>6</td>\n",
       "      <td>0.001500</td>\n",
       "      <td>0.125096</td>\n",
       "      <td>0.972400</td>\n",
       "      <td>0.972615</td>\n",
       "      <td>0.972512</td>\n",
       "      <td>0.972556</td>\n",
       "    </tr>\n",
       "    <tr>\n",
       "      <td>7</td>\n",
       "      <td>0.000600</td>\n",
       "      <td>0.124561</td>\n",
       "      <td>0.974000</td>\n",
       "      <td>0.974159</td>\n",
       "      <td>0.974137</td>\n",
       "      <td>0.974144</td>\n",
       "    </tr>\n",
       "  </tbody>\n",
       "</table><p>"
      ],
      "text/plain": [
       "<IPython.core.display.HTML object>"
      ]
     },
     "metadata": {},
     "output_type": "display_data"
    },
    {
     "name": "stderr",
     "output_type": "stream",
     "text": [
      "[I 2025-03-30 10:53:28,623] Trial 148 finished with value: 0.9741444675782933 and parameters: {'learning_rate': 9.806964711146234e-05, 'weight_decay': 0.005, 'warmup_steps': 31}. Best is trial 67 with value: 0.9746290627725797.\n"
     ]
    },
    {
     "name": "stdout",
     "output_type": "stream",
     "text": [
      "Trial 149 with params: {'learning_rate': 0.00015367446969151156, 'weight_decay': 0.008, 'warmup_steps': 24}\n"
     ]
    },
    {
     "name": "stderr",
     "output_type": "stream",
     "text": [
      "Some weights of TimmWrapperForImageClassification were not initialized from the model checkpoint at timm/tiny_vit_5m_224.in1k and are newly initialized because the shapes did not match:\n",
      "- head.fc.bias: found shape torch.Size([1000]) in the checkpoint and torch.Size([10]) in the model instantiated\n",
      "- head.fc.weight: found shape torch.Size([1000, 320]) in the checkpoint and torch.Size([10, 320]) in the model instantiated\n",
      "You should probably TRAIN this model on a down-stream task to be able to use it for predictions and inference.\n"
     ]
    },
    {
     "data": {
      "text/html": [
       "\n",
       "    <div>\n",
       "      \n",
       "      <progress value='1252' max='2191' style='width:300px; height:20px; vertical-align: middle;'></progress>\n",
       "      [1252/2191 05:32 < 04:09, 3.76 it/s, Epoch 4/7]\n",
       "    </div>\n",
       "    <table border=\"1\" class=\"dataframe\">\n",
       "  <thead>\n",
       " <tr style=\"text-align: left;\">\n",
       "      <th>Epoch</th>\n",
       "      <th>Training Loss</th>\n",
       "      <th>Validation Loss</th>\n",
       "      <th>Accuracy</th>\n",
       "      <th>Precision</th>\n",
       "      <th>Recall</th>\n",
       "      <th>F1</th>\n",
       "    </tr>\n",
       "  </thead>\n",
       "  <tbody>\n",
       "    <tr>\n",
       "      <td>1</td>\n",
       "      <td>0.440300</td>\n",
       "      <td>0.202930</td>\n",
       "      <td>0.933300</td>\n",
       "      <td>0.938917</td>\n",
       "      <td>0.933727</td>\n",
       "      <td>0.933899</td>\n",
       "    </tr>\n",
       "    <tr>\n",
       "      <td>2</td>\n",
       "      <td>0.097600</td>\n",
       "      <td>0.138907</td>\n",
       "      <td>0.952700</td>\n",
       "      <td>0.954045</td>\n",
       "      <td>0.953010</td>\n",
       "      <td>0.952865</td>\n",
       "    </tr>\n",
       "    <tr>\n",
       "      <td>3</td>\n",
       "      <td>0.046900</td>\n",
       "      <td>0.120470</td>\n",
       "      <td>0.964000</td>\n",
       "      <td>0.964423</td>\n",
       "      <td>0.964160</td>\n",
       "      <td>0.964183</td>\n",
       "    </tr>\n",
       "    <tr>\n",
       "      <td>4</td>\n",
       "      <td>0.022700</td>\n",
       "      <td>0.143753</td>\n",
       "      <td>0.962200</td>\n",
       "      <td>0.962246</td>\n",
       "      <td>0.962467</td>\n",
       "      <td>0.962233</td>\n",
       "    </tr>\n",
       "  </tbody>\n",
       "</table><p>"
      ],
      "text/plain": [
       "<IPython.core.display.HTML object>"
      ]
     },
     "metadata": {},
     "output_type": "display_data"
    },
    {
     "name": "stderr",
     "output_type": "stream",
     "text": [
      "[I 2025-03-30 10:59:03,079] Trial 149 pruned. \n"
     ]
    }
   ],
   "source": [
    "best_base = trainer.hyperparameter_search(\n",
    "    direction=\"maximize\",\n",
    "    backend=\"optuna\",\n",
    "    hp_space=hp_space,\n",
    "    compute_objective=lambda metrics: metrics[\"eval_f1\"],\n",
    "    pruner=pruner,\n",
    "    sampler=sampler,\n",
    "    study_name=\"Base\",\n",
    "    n_trials=150\n",
    ")"
   ]
  },
  {
   "cell_type": "code",
   "execution_count": 19,
   "id": "f50f7744",
   "metadata": {},
   "outputs": [
    {
     "name": "stdout",
     "output_type": "stream",
     "text": [
      "BestRun(run_id='67', objective=0.9746290627725797, hyperparameters={'learning_rate': 9.777098843358782e-05, 'weight_decay': 0.007, 'warmup_steps': 24}, run_summary=None)\n"
     ]
    }
   ],
   "source": [
    "print(best_base)"
   ]
  },
  {
   "cell_type": "code",
   "execution_count": 20,
   "id": "24f990e8-d259-44c7-b85b-cca2f4f97a8e",
   "metadata": {},
   "outputs": [],
   "source": [
    "base.reset_seed()"
   ]
  },
  {
   "cell_type": "code",
   "execution_count": 21,
   "id": "aad7fa0f-f432-4e99-bb07-31951b7858f1",
   "metadata": {},
   "outputs": [],
   "source": [
    "training_args = base.get_training_args(output_dir=f\"~/results/{DATASET}/-KD_hp-search\", logging_dir=f\"~/logs/{DATASET}/-KD_hp-search\",  remove_unused_columns=False, epochs=num_epochs, batch_size=batch_size)"
   ]
  },
  {
   "cell_type": "code",
   "execution_count": 22,
   "id": "a7285525",
   "metadata": {},
   "outputs": [],
   "source": [
    "def hp_space(trial):\n",
    "    params =  {\n",
    "        \"learning_rate\": trial.suggest_float(\"learning_rate\", 5e-5, 5e-3, log=True),\n",
    "        \"weight_decay\": trial.suggest_float(\"weight_decay\", 0, 1e-2, step=1e-3),\n",
    "        \"warmup_steps\" : trial.suggest_int(\"warmup_steps\", 0, warm_up),\n",
    "        \"lambda_param\": trial.suggest_float(\"lambda_param\",0,1,step=.1),\n",
    "        \"temperature\": trial.suggest_float(\"temperature\", 2,7, step=.5)\n",
    "    }\n",
    "    print(f\"Trial {trial.number} with params: {params}\")\n",
    "    return params"
   ]
  },
  {
   "cell_type": "code",
   "execution_count": 23,
   "id": "167bf222",
   "metadata": {},
   "outputs": [
    {
     "name": "stderr",
     "output_type": "stream",
     "text": [
      "/usr/local/lib/python3.10/dist-packages/optuna/_experimental.py:31: ExperimentalWarning: Argument ``multivariate`` is an experimental feature. The interface can change in the future.\n",
      "  warnings.warn(\n"
     ]
    }
   ],
   "source": [
    "pruner = optuna.pruners.HyperbandPruner(min_resource=min_r, max_resource=max_r, reduction_factor=2, bootstrap_count=2)\n",
    "sampler = optuna.samplers.TPESampler(seed=42, multivariate=True)"
   ]
  },
  {
   "cell_type": "code",
   "execution_count": 24,
   "id": "9239ca29",
   "metadata": {},
   "outputs": [
    {
     "name": "stderr",
     "output_type": "stream",
     "text": [
      "Some weights of TimmWrapperForImageClassification were not initialized from the model checkpoint at timm/tiny_vit_5m_224.in1k and are newly initialized because the shapes did not match:\n",
      "- head.fc.bias: found shape torch.Size([1000]) in the checkpoint and torch.Size([10]) in the model instantiated\n",
      "- head.fc.weight: found shape torch.Size([1000, 320]) in the checkpoint and torch.Size([10, 320]) in the model instantiated\n",
      "You should probably TRAIN this model on a down-stream task to be able to use it for predictions and inference.\n"
     ]
    }
   ],
   "source": [
    "trainer = base.DistilTrainer(\n",
    "    args=training_args,\n",
    "    train_dataset=train,\n",
    "    eval_dataset=eval,\n",
    "    compute_metrics=base.compute_metrics,\n",
    "    model_init = lambda: get_model()\n",
    ")"
   ]
  },
  {
   "cell_type": "code",
   "execution_count": null,
   "id": "2287f2c7",
   "metadata": {},
   "outputs": [
    {
     "name": "stderr",
     "output_type": "stream",
     "text": [
      "[I 2025-03-30 10:59:03,800] A new study created in memory with name: Distill\n"
     ]
    },
    {
     "name": "stdout",
     "output_type": "stream",
     "text": [
      "Trial 0 with params: {'learning_rate': 0.0002805758207667253, 'weight_decay': 0.01, 'warmup_steps': 24, 'lambda_param': 0.6000000000000001, 'temperature': 2.5}\n"
     ]
    },
    {
     "name": "stderr",
     "output_type": "stream",
     "text": [
      "Some weights of TimmWrapperForImageClassification were not initialized from the model checkpoint at timm/tiny_vit_5m_224.in1k and are newly initialized because the shapes did not match:\n",
      "- head.fc.bias: found shape torch.Size([1000]) in the checkpoint and torch.Size([10]) in the model instantiated\n",
      "- head.fc.weight: found shape torch.Size([1000, 320]) in the checkpoint and torch.Size([10, 320]) in the model instantiated\n",
      "You should probably TRAIN this model on a down-stream task to be able to use it for predictions and inference.\n"
     ]
    },
    {
     "data": {
      "text/html": [
       "\n",
       "    <div>\n",
       "      \n",
       "      <progress value='626' max='2191' style='width:300px; height:20px; vertical-align: middle;'></progress>\n",
       "      [ 626/2191 02:46 < 06:58, 3.74 it/s, Epoch 2/7]\n",
       "    </div>\n",
       "    <table border=\"1\" class=\"dataframe\">\n",
       "  <thead>\n",
       " <tr style=\"text-align: left;\">\n",
       "      <th>Epoch</th>\n",
       "      <th>Training Loss</th>\n",
       "      <th>Validation Loss</th>\n",
       "      <th>Accuracy</th>\n",
       "      <th>Precision</th>\n",
       "      <th>Recall</th>\n",
       "      <th>F1</th>\n",
       "    </tr>\n",
       "  </thead>\n",
       "  <tbody>\n",
       "    <tr>\n",
       "      <td>1</td>\n",
       "      <td>0.355700</td>\n",
       "      <td>0.212412</td>\n",
       "      <td>0.930600</td>\n",
       "      <td>0.935032</td>\n",
       "      <td>0.930799</td>\n",
       "      <td>0.931365</td>\n",
       "    </tr>\n",
       "    <tr>\n",
       "      <td>2</td>\n",
       "      <td>0.175400</td>\n",
       "      <td>0.188130</td>\n",
       "      <td>0.948100</td>\n",
       "      <td>0.949182</td>\n",
       "      <td>0.948338</td>\n",
       "      <td>0.948282</td>\n",
       "    </tr>\n",
       "  </tbody>\n",
       "</table><p>"
      ],
      "text/plain": [
       "<IPython.core.display.HTML object>"
      ]
     },
     "metadata": {},
     "output_type": "display_data"
    },
    {
     "name": "stderr",
     "output_type": "stream",
     "text": [
      "[I 2025-03-30 11:01:53,132] Trial 0 pruned. \n"
     ]
    },
    {
     "name": "stdout",
     "output_type": "stream",
     "text": [
      "Trial 1 with params: {'learning_rate': 0.00010255552094216992, 'weight_decay': 0.0, 'warmup_steps': 28, 'lambda_param': 0.6000000000000001, 'temperature': 5.5}\n"
     ]
    },
    {
     "name": "stderr",
     "output_type": "stream",
     "text": [
      "Some weights of TimmWrapperForImageClassification were not initialized from the model checkpoint at timm/tiny_vit_5m_224.in1k and are newly initialized because the shapes did not match:\n",
      "- head.fc.bias: found shape torch.Size([1000]) in the checkpoint and torch.Size([10]) in the model instantiated\n",
      "- head.fc.weight: found shape torch.Size([1000, 320]) in the checkpoint and torch.Size([10, 320]) in the model instantiated\n",
      "You should probably TRAIN this model on a down-stream task to be able to use it for predictions and inference.\n"
     ]
    },
    {
     "data": {
      "text/html": [
       "\n",
       "    <div>\n",
       "      \n",
       "      <progress value='1252' max='2191' style='width:300px; height:20px; vertical-align: middle;'></progress>\n",
       "      [1252/2191 05:32 < 04:10, 3.75 it/s, Epoch 4/7]\n",
       "    </div>\n",
       "    <table border=\"1\" class=\"dataframe\">\n",
       "  <thead>\n",
       " <tr style=\"text-align: left;\">\n",
       "      <th>Epoch</th>\n",
       "      <th>Training Loss</th>\n",
       "      <th>Validation Loss</th>\n",
       "      <th>Accuracy</th>\n",
       "      <th>Precision</th>\n",
       "      <th>Recall</th>\n",
       "      <th>F1</th>\n",
       "    </tr>\n",
       "  </thead>\n",
       "  <tbody>\n",
       "    <tr>\n",
       "      <td>1</td>\n",
       "      <td>0.381800</td>\n",
       "      <td>0.182053</td>\n",
       "      <td>0.950800</td>\n",
       "      <td>0.952567</td>\n",
       "      <td>0.950948</td>\n",
       "      <td>0.951066</td>\n",
       "    </tr>\n",
       "    <tr>\n",
       "      <td>2</td>\n",
       "      <td>0.151500</td>\n",
       "      <td>0.160317</td>\n",
       "      <td>0.963400</td>\n",
       "      <td>0.963918</td>\n",
       "      <td>0.963531</td>\n",
       "      <td>0.963576</td>\n",
       "    </tr>\n",
       "    <tr>\n",
       "      <td>3</td>\n",
       "      <td>0.128900</td>\n",
       "      <td>0.152544</td>\n",
       "      <td>0.966300</td>\n",
       "      <td>0.966602</td>\n",
       "      <td>0.966435</td>\n",
       "      <td>0.966452</td>\n",
       "    </tr>\n",
       "    <tr>\n",
       "      <td>4</td>\n",
       "      <td>0.118500</td>\n",
       "      <td>0.146904</td>\n",
       "      <td>0.971200</td>\n",
       "      <td>0.971227</td>\n",
       "      <td>0.971397</td>\n",
       "      <td>0.971270</td>\n",
       "    </tr>\n",
       "  </tbody>\n",
       "</table><p>"
      ],
      "text/plain": [
       "<IPython.core.display.HTML object>"
      ]
     },
     "metadata": {},
     "output_type": "display_data"
    },
    {
     "name": "stderr",
     "output_type": "stream",
     "text": [
      "[I 2025-03-30 11:07:28,309] Trial 1 pruned. \n"
     ]
    },
    {
     "name": "stdout",
     "output_type": "stream",
     "text": [
      "Trial 2 with params: {'learning_rate': 5.497167787383099e-05, 'weight_decay': 0.01, 'warmup_steps': 27, 'lambda_param': 0.2, 'temperature': 3.0}\n"
     ]
    },
    {
     "name": "stderr",
     "output_type": "stream",
     "text": [
      "Some weights of TimmWrapperForImageClassification were not initialized from the model checkpoint at timm/tiny_vit_5m_224.in1k and are newly initialized because the shapes did not match:\n",
      "- head.fc.bias: found shape torch.Size([1000]) in the checkpoint and torch.Size([10]) in the model instantiated\n",
      "- head.fc.weight: found shape torch.Size([1000, 320]) in the checkpoint and torch.Size([10, 320]) in the model instantiated\n",
      "You should probably TRAIN this model on a down-stream task to be able to use it for predictions and inference.\n"
     ]
    },
    {
     "data": {
      "text/html": [
       "\n",
       "    <div>\n",
       "      \n",
       "      <progress value='626' max='2191' style='width:300px; height:20px; vertical-align: middle;'></progress>\n",
       "      [ 626/2191 02:43 < 06:51, 3.80 it/s, Epoch 2/7]\n",
       "    </div>\n",
       "    <table border=\"1\" class=\"dataframe\">\n",
       "  <thead>\n",
       " <tr style=\"text-align: left;\">\n",
       "      <th>Epoch</th>\n",
       "      <th>Training Loss</th>\n",
       "      <th>Validation Loss</th>\n",
       "      <th>Accuracy</th>\n",
       "      <th>Precision</th>\n",
       "      <th>Recall</th>\n",
       "      <th>F1</th>\n",
       "    </tr>\n",
       "  </thead>\n",
       "  <tbody>\n",
       "    <tr>\n",
       "      <td>1</td>\n",
       "      <td>0.432900</td>\n",
       "      <td>0.185381</td>\n",
       "      <td>0.949400</td>\n",
       "      <td>0.950536</td>\n",
       "      <td>0.949473</td>\n",
       "      <td>0.949682</td>\n",
       "    </tr>\n",
       "    <tr>\n",
       "      <td>2</td>\n",
       "      <td>0.155300</td>\n",
       "      <td>0.160801</td>\n",
       "      <td>0.960900</td>\n",
       "      <td>0.961298</td>\n",
       "      <td>0.961113</td>\n",
       "      <td>0.961059</td>\n",
       "    </tr>\n",
       "  </tbody>\n",
       "</table><p>"
      ],
      "text/plain": [
       "<IPython.core.display.HTML object>"
      ]
     },
     "metadata": {},
     "output_type": "display_data"
    },
    {
     "name": "stderr",
     "output_type": "stream",
     "text": [
      "[I 2025-03-30 11:10:14,755] Trial 2 pruned. \n"
     ]
    },
    {
     "name": "stdout",
     "output_type": "stream",
     "text": [
      "Trial 3 with params: {'learning_rate': 0.00011635338541918901, 'weight_decay': 0.003, 'warmup_steps': 17, 'lambda_param': 0.4, 'temperature': 3.5}\n"
     ]
    },
    {
     "name": "stderr",
     "output_type": "stream",
     "text": [
      "Some weights of TimmWrapperForImageClassification were not initialized from the model checkpoint at timm/tiny_vit_5m_224.in1k and are newly initialized because the shapes did not match:\n",
      "- head.fc.bias: found shape torch.Size([1000]) in the checkpoint and torch.Size([10]) in the model instantiated\n",
      "- head.fc.weight: found shape torch.Size([1000, 320]) in the checkpoint and torch.Size([10, 320]) in the model instantiated\n",
      "You should probably TRAIN this model on a down-stream task to be able to use it for predictions and inference.\n"
     ]
    },
    {
     "data": {
      "text/html": [
       "\n",
       "    <div>\n",
       "      \n",
       "      <progress value='1252' max='2191' style='width:300px; height:20px; vertical-align: middle;'></progress>\n",
       "      [1252/2191 05:48 < 04:22, 3.58 it/s, Epoch 4/7]\n",
       "    </div>\n",
       "    <table border=\"1\" class=\"dataframe\">\n",
       "  <thead>\n",
       " <tr style=\"text-align: left;\">\n",
       "      <th>Epoch</th>\n",
       "      <th>Training Loss</th>\n",
       "      <th>Validation Loss</th>\n",
       "      <th>Accuracy</th>\n",
       "      <th>Precision</th>\n",
       "      <th>Recall</th>\n",
       "      <th>F1</th>\n",
       "    </tr>\n",
       "  </thead>\n",
       "  <tbody>\n",
       "    <tr>\n",
       "      <td>1</td>\n",
       "      <td>0.348700</td>\n",
       "      <td>0.185177</td>\n",
       "      <td>0.948000</td>\n",
       "      <td>0.950778</td>\n",
       "      <td>0.948282</td>\n",
       "      <td>0.948494</td>\n",
       "    </tr>\n",
       "    <tr>\n",
       "      <td>2</td>\n",
       "      <td>0.148800</td>\n",
       "      <td>0.165327</td>\n",
       "      <td>0.960200</td>\n",
       "      <td>0.960533</td>\n",
       "      <td>0.960442</td>\n",
       "      <td>0.960264</td>\n",
       "    </tr>\n",
       "    <tr>\n",
       "      <td>3</td>\n",
       "      <td>0.128800</td>\n",
       "      <td>0.158627</td>\n",
       "      <td>0.962800</td>\n",
       "      <td>0.963369</td>\n",
       "      <td>0.963121</td>\n",
       "      <td>0.962927</td>\n",
       "    </tr>\n",
       "    <tr>\n",
       "      <td>4</td>\n",
       "      <td>0.119600</td>\n",
       "      <td>0.148593</td>\n",
       "      <td>0.967500</td>\n",
       "      <td>0.968181</td>\n",
       "      <td>0.967725</td>\n",
       "      <td>0.967667</td>\n",
       "    </tr>\n",
       "  </tbody>\n",
       "</table><p>"
      ],
      "text/plain": [
       "<IPython.core.display.HTML object>"
      ]
     },
     "metadata": {},
     "output_type": "display_data"
    },
    {
     "name": "stderr",
     "output_type": "stream",
     "text": [
      "[I 2025-03-30 11:16:05,982] Trial 3 pruned. \n"
     ]
    },
    {
     "name": "stdout",
     "output_type": "stream",
     "text": [
      "Trial 4 with params: {'learning_rate': 0.0008369042894376068, 'weight_decay': 0.001, 'warmup_steps': 9, 'lambda_param': 0.4, 'temperature': 4.5}\n"
     ]
    },
    {
     "name": "stderr",
     "output_type": "stream",
     "text": [
      "Some weights of TimmWrapperForImageClassification were not initialized from the model checkpoint at timm/tiny_vit_5m_224.in1k and are newly initialized because the shapes did not match:\n",
      "- head.fc.bias: found shape torch.Size([1000]) in the checkpoint and torch.Size([10]) in the model instantiated\n",
      "- head.fc.weight: found shape torch.Size([1000, 320]) in the checkpoint and torch.Size([10, 320]) in the model instantiated\n",
      "You should probably TRAIN this model on a down-stream task to be able to use it for predictions and inference.\n"
     ]
    },
    {
     "data": {
      "text/html": [
       "\n",
       "    <div>\n",
       "      \n",
       "      <progress value='626' max='2191' style='width:300px; height:20px; vertical-align: middle;'></progress>\n",
       "      [ 626/2191 02:45 < 06:54, 3.78 it/s, Epoch 2/7]\n",
       "    </div>\n",
       "    <table border=\"1\" class=\"dataframe\">\n",
       "  <thead>\n",
       " <tr style=\"text-align: left;\">\n",
       "      <th>Epoch</th>\n",
       "      <th>Training Loss</th>\n",
       "      <th>Validation Loss</th>\n",
       "      <th>Accuracy</th>\n",
       "      <th>Precision</th>\n",
       "      <th>Recall</th>\n",
       "      <th>F1</th>\n",
       "    </tr>\n",
       "  </thead>\n",
       "  <tbody>\n",
       "    <tr>\n",
       "      <td>1</td>\n",
       "      <td>0.439600</td>\n",
       "      <td>0.365510</td>\n",
       "      <td>0.854500</td>\n",
       "      <td>0.861139</td>\n",
       "      <td>0.855280</td>\n",
       "      <td>0.854383</td>\n",
       "    </tr>\n",
       "    <tr>\n",
       "      <td>2</td>\n",
       "      <td>0.267000</td>\n",
       "      <td>0.301993</td>\n",
       "      <td>0.883800</td>\n",
       "      <td>0.892392</td>\n",
       "      <td>0.884524</td>\n",
       "      <td>0.883830</td>\n",
       "    </tr>\n",
       "  </tbody>\n",
       "</table><p>"
      ],
      "text/plain": [
       "<IPython.core.display.HTML object>"
      ]
     },
     "metadata": {},
     "output_type": "display_data"
    },
    {
     "name": "stderr",
     "output_type": "stream",
     "text": [
      "[I 2025-03-30 11:18:53,396] Trial 4 pruned. \n"
     ]
    },
    {
     "name": "stdout",
     "output_type": "stream",
     "text": [
      "Trial 5 with params: {'learning_rate': 0.0018591820902866042, 'weight_decay': 0.002, 'warmup_steps': 16, 'lambda_param': 0.6000000000000001, 'temperature': 2.0}\n"
     ]
    },
    {
     "name": "stderr",
     "output_type": "stream",
     "text": [
      "Some weights of TimmWrapperForImageClassification were not initialized from the model checkpoint at timm/tiny_vit_5m_224.in1k and are newly initialized because the shapes did not match:\n",
      "- head.fc.bias: found shape torch.Size([1000]) in the checkpoint and torch.Size([10]) in the model instantiated\n",
      "- head.fc.weight: found shape torch.Size([1000, 320]) in the checkpoint and torch.Size([10, 320]) in the model instantiated\n",
      "You should probably TRAIN this model on a down-stream task to be able to use it for predictions and inference.\n"
     ]
    },
    {
     "data": {
      "text/html": [
       "\n",
       "    <div>\n",
       "      \n",
       "      <progress value='1252' max='2191' style='width:300px; height:20px; vertical-align: middle;'></progress>\n",
       "      [1252/2191 05:35 < 04:11, 3.73 it/s, Epoch 4/7]\n",
       "    </div>\n",
       "    <table border=\"1\" class=\"dataframe\">\n",
       "  <thead>\n",
       " <tr style=\"text-align: left;\">\n",
       "      <th>Epoch</th>\n",
       "      <th>Training Loss</th>\n",
       "      <th>Validation Loss</th>\n",
       "      <th>Accuracy</th>\n",
       "      <th>Precision</th>\n",
       "      <th>Recall</th>\n",
       "      <th>F1</th>\n",
       "    </tr>\n",
       "  </thead>\n",
       "  <tbody>\n",
       "    <tr>\n",
       "      <td>1</td>\n",
       "      <td>0.734300</td>\n",
       "      <td>0.696554</td>\n",
       "      <td>0.665700</td>\n",
       "      <td>0.712928</td>\n",
       "      <td>0.667039</td>\n",
       "      <td>0.652811</td>\n",
       "    </tr>\n",
       "    <tr>\n",
       "      <td>2</td>\n",
       "      <td>0.486600</td>\n",
       "      <td>0.434172</td>\n",
       "      <td>0.819700</td>\n",
       "      <td>0.829463</td>\n",
       "      <td>0.819996</td>\n",
       "      <td>0.816106</td>\n",
       "    </tr>\n",
       "    <tr>\n",
       "      <td>3</td>\n",
       "      <td>0.365500</td>\n",
       "      <td>0.367814</td>\n",
       "      <td>0.852800</td>\n",
       "      <td>0.855263</td>\n",
       "      <td>0.852756</td>\n",
       "      <td>0.851811</td>\n",
       "    </tr>\n",
       "    <tr>\n",
       "      <td>4</td>\n",
       "      <td>0.282500</td>\n",
       "      <td>0.308410</td>\n",
       "      <td>0.881000</td>\n",
       "      <td>0.892329</td>\n",
       "      <td>0.881014</td>\n",
       "      <td>0.882290</td>\n",
       "    </tr>\n",
       "  </tbody>\n",
       "</table><p>"
      ],
      "text/plain": [
       "<IPython.core.display.HTML object>"
      ]
     },
     "metadata": {},
     "output_type": "display_data"
    },
    {
     "name": "stderr",
     "output_type": "stream",
     "text": [
      "[I 2025-03-30 11:24:30,517] Trial 5 pruned. \n"
     ]
    },
    {
     "name": "stdout",
     "output_type": "stream",
     "text": [
      "Trial 6 with params: {'learning_rate': 0.0008204643365323959, 'weight_decay': 0.001, 'warmup_steps': 2, 'lambda_param': 1.0, 'temperature': 7.0}\n"
     ]
    },
    {
     "name": "stderr",
     "output_type": "stream",
     "text": [
      "Some weights of TimmWrapperForImageClassification were not initialized from the model checkpoint at timm/tiny_vit_5m_224.in1k and are newly initialized because the shapes did not match:\n",
      "- head.fc.bias: found shape torch.Size([1000]) in the checkpoint and torch.Size([10]) in the model instantiated\n",
      "- head.fc.weight: found shape torch.Size([1000, 320]) in the checkpoint and torch.Size([10, 320]) in the model instantiated\n",
      "You should probably TRAIN this model on a down-stream task to be able to use it for predictions and inference.\n"
     ]
    },
    {
     "data": {
      "text/html": [
       "\n",
       "    <div>\n",
       "      \n",
       "      <progress value='626' max='2191' style='width:300px; height:20px; vertical-align: middle;'></progress>\n",
       "      [ 626/2191 02:45 < 06:55, 3.77 it/s, Epoch 2/7]\n",
       "    </div>\n",
       "    <table border=\"1\" class=\"dataframe\">\n",
       "  <thead>\n",
       " <tr style=\"text-align: left;\">\n",
       "      <th>Epoch</th>\n",
       "      <th>Training Loss</th>\n",
       "      <th>Validation Loss</th>\n",
       "      <th>Accuracy</th>\n",
       "      <th>Precision</th>\n",
       "      <th>Recall</th>\n",
       "      <th>F1</th>\n",
       "    </tr>\n",
       "  </thead>\n",
       "  <tbody>\n",
       "    <tr>\n",
       "      <td>1</td>\n",
       "      <td>0.423400</td>\n",
       "      <td>0.404450</td>\n",
       "      <td>0.837100</td>\n",
       "      <td>0.842390</td>\n",
       "      <td>0.837095</td>\n",
       "      <td>0.835689</td>\n",
       "    </tr>\n",
       "    <tr>\n",
       "      <td>2</td>\n",
       "      <td>0.265200</td>\n",
       "      <td>0.269981</td>\n",
       "      <td>0.902300</td>\n",
       "      <td>0.904466</td>\n",
       "      <td>0.902606</td>\n",
       "      <td>0.902513</td>\n",
       "    </tr>\n",
       "  </tbody>\n",
       "</table><p>"
      ],
      "text/plain": [
       "<IPython.core.display.HTML object>"
      ]
     },
     "metadata": {},
     "output_type": "display_data"
    },
    {
     "name": "stderr",
     "output_type": "stream",
     "text": [
      "[I 2025-03-30 11:27:18,198] Trial 6 pruned. \n"
     ]
    },
    {
     "name": "stdout",
     "output_type": "stream",
     "text": [
      "Trial 7 with params: {'learning_rate': 0.0020690200562805084, 'weight_decay': 0.003, 'warmup_steps': 3, 'lambda_param': 0.7000000000000001, 'temperature': 4.0}\n"
     ]
    },
    {
     "name": "stderr",
     "output_type": "stream",
     "text": [
      "Some weights of TimmWrapperForImageClassification were not initialized from the model checkpoint at timm/tiny_vit_5m_224.in1k and are newly initialized because the shapes did not match:\n",
      "- head.fc.bias: found shape torch.Size([1000]) in the checkpoint and torch.Size([10]) in the model instantiated\n",
      "- head.fc.weight: found shape torch.Size([1000, 320]) in the checkpoint and torch.Size([10, 320]) in the model instantiated\n",
      "You should probably TRAIN this model on a down-stream task to be able to use it for predictions and inference.\n"
     ]
    },
    {
     "data": {
      "text/html": [
       "\n",
       "    <div>\n",
       "      \n",
       "      <progress value='1252' max='2191' style='width:300px; height:20px; vertical-align: middle;'></progress>\n",
       "      [1252/2191 05:32 < 04:09, 3.76 it/s, Epoch 4/7]\n",
       "    </div>\n",
       "    <table border=\"1\" class=\"dataframe\">\n",
       "  <thead>\n",
       " <tr style=\"text-align: left;\">\n",
       "      <th>Epoch</th>\n",
       "      <th>Training Loss</th>\n",
       "      <th>Validation Loss</th>\n",
       "      <th>Accuracy</th>\n",
       "      <th>Precision</th>\n",
       "      <th>Recall</th>\n",
       "      <th>F1</th>\n",
       "    </tr>\n",
       "  </thead>\n",
       "  <tbody>\n",
       "    <tr>\n",
       "      <td>1</td>\n",
       "      <td>0.821800</td>\n",
       "      <td>0.699356</td>\n",
       "      <td>0.669400</td>\n",
       "      <td>0.688589</td>\n",
       "      <td>0.669481</td>\n",
       "      <td>0.664684</td>\n",
       "    </tr>\n",
       "    <tr>\n",
       "      <td>2</td>\n",
       "      <td>0.554300</td>\n",
       "      <td>0.539932</td>\n",
       "      <td>0.760400</td>\n",
       "      <td>0.790052</td>\n",
       "      <td>0.760039</td>\n",
       "      <td>0.765404</td>\n",
       "    </tr>\n",
       "    <tr>\n",
       "      <td>3</td>\n",
       "      <td>0.420900</td>\n",
       "      <td>0.421100</td>\n",
       "      <td>0.822600</td>\n",
       "      <td>0.829499</td>\n",
       "      <td>0.822219</td>\n",
       "      <td>0.821837</td>\n",
       "    </tr>\n",
       "    <tr>\n",
       "      <td>4</td>\n",
       "      <td>0.331200</td>\n",
       "      <td>0.335050</td>\n",
       "      <td>0.871400</td>\n",
       "      <td>0.880605</td>\n",
       "      <td>0.871141</td>\n",
       "      <td>0.873199</td>\n",
       "    </tr>\n",
       "  </tbody>\n",
       "</table><p>"
      ],
      "text/plain": [
       "<IPython.core.display.HTML object>"
      ]
     },
     "metadata": {},
     "output_type": "display_data"
    },
    {
     "name": "stderr",
     "output_type": "stream",
     "text": [
      "[I 2025-03-30 11:32:52,978] Trial 7 pruned. \n"
     ]
    },
    {
     "name": "stdout",
     "output_type": "stream",
     "text": [
      "Trial 8 with params: {'learning_rate': 8.770946743725407e-05, 'weight_decay': 0.005, 'warmup_steps': 1, 'lambda_param': 1.0, 'temperature': 3.0}\n"
     ]
    },
    {
     "name": "stderr",
     "output_type": "stream",
     "text": [
      "Some weights of TimmWrapperForImageClassification were not initialized from the model checkpoint at timm/tiny_vit_5m_224.in1k and are newly initialized because the shapes did not match:\n",
      "- head.fc.bias: found shape torch.Size([1000]) in the checkpoint and torch.Size([10]) in the model instantiated\n",
      "- head.fc.weight: found shape torch.Size([1000, 320]) in the checkpoint and torch.Size([10, 320]) in the model instantiated\n",
      "You should probably TRAIN this model on a down-stream task to be able to use it for predictions and inference.\n"
     ]
    },
    {
     "data": {
      "text/html": [
       "\n",
       "    <div>\n",
       "      \n",
       "      <progress value='2191' max='2191' style='width:300px; height:20px; vertical-align: middle;'></progress>\n",
       "      [2191/2191 10:09, Epoch 7/7]\n",
       "    </div>\n",
       "    <table border=\"1\" class=\"dataframe\">\n",
       "  <thead>\n",
       " <tr style=\"text-align: left;\">\n",
       "      <th>Epoch</th>\n",
       "      <th>Training Loss</th>\n",
       "      <th>Validation Loss</th>\n",
       "      <th>Accuracy</th>\n",
       "      <th>Precision</th>\n",
       "      <th>Recall</th>\n",
       "      <th>F1</th>\n",
       "    </tr>\n",
       "  </thead>\n",
       "  <tbody>\n",
       "    <tr>\n",
       "      <td>1</td>\n",
       "      <td>0.336400</td>\n",
       "      <td>0.186132</td>\n",
       "      <td>0.948300</td>\n",
       "      <td>0.951483</td>\n",
       "      <td>0.948471</td>\n",
       "      <td>0.948956</td>\n",
       "    </tr>\n",
       "    <tr>\n",
       "      <td>2</td>\n",
       "      <td>0.147700</td>\n",
       "      <td>0.167558</td>\n",
       "      <td>0.960500</td>\n",
       "      <td>0.961283</td>\n",
       "      <td>0.960719</td>\n",
       "      <td>0.960673</td>\n",
       "    </tr>\n",
       "    <tr>\n",
       "      <td>3</td>\n",
       "      <td>0.127500</td>\n",
       "      <td>0.153626</td>\n",
       "      <td>0.966100</td>\n",
       "      <td>0.966731</td>\n",
       "      <td>0.966252</td>\n",
       "      <td>0.966318</td>\n",
       "    </tr>\n",
       "    <tr>\n",
       "      <td>4</td>\n",
       "      <td>0.119100</td>\n",
       "      <td>0.149911</td>\n",
       "      <td>0.967900</td>\n",
       "      <td>0.967981</td>\n",
       "      <td>0.968054</td>\n",
       "      <td>0.968007</td>\n",
       "    </tr>\n",
       "    <tr>\n",
       "      <td>5</td>\n",
       "      <td>0.113900</td>\n",
       "      <td>0.144899</td>\n",
       "      <td>0.970900</td>\n",
       "      <td>0.971303</td>\n",
       "      <td>0.971029</td>\n",
       "      <td>0.971056</td>\n",
       "    </tr>\n",
       "    <tr>\n",
       "      <td>6</td>\n",
       "      <td>0.111400</td>\n",
       "      <td>0.143224</td>\n",
       "      <td>0.971200</td>\n",
       "      <td>0.971625</td>\n",
       "      <td>0.971328</td>\n",
       "      <td>0.971353</td>\n",
       "    </tr>\n",
       "    <tr>\n",
       "      <td>7</td>\n",
       "      <td>0.110100</td>\n",
       "      <td>0.141783</td>\n",
       "      <td>0.972000</td>\n",
       "      <td>0.972181</td>\n",
       "      <td>0.972151</td>\n",
       "      <td>0.972117</td>\n",
       "    </tr>\n",
       "  </tbody>\n",
       "</table><p>"
      ],
      "text/plain": [
       "<IPython.core.display.HTML object>"
      ]
     },
     "metadata": {},
     "output_type": "display_data"
    },
    {
     "name": "stderr",
     "output_type": "stream",
     "text": [
      "[I 2025-03-30 11:43:05,426] Trial 8 finished with value: 0.9721166180268345 and parameters: {'learning_rate': 8.770946743725407e-05, 'weight_decay': 0.005, 'warmup_steps': 1, 'lambda_param': 1.0, 'temperature': 3.0}. Best is trial 8 with value: 0.9721166180268345.\n"
     ]
    },
    {
     "name": "stdout",
     "output_type": "stream",
     "text": [
      "Trial 9 with params: {'learning_rate': 0.0010568529720322872, 'weight_decay': 0.003, 'warmup_steps': 17, 'lambda_param': 0.6000000000000001, 'temperature': 3.0}\n"
     ]
    },
    {
     "name": "stderr",
     "output_type": "stream",
     "text": [
      "Some weights of TimmWrapperForImageClassification were not initialized from the model checkpoint at timm/tiny_vit_5m_224.in1k and are newly initialized because the shapes did not match:\n",
      "- head.fc.bias: found shape torch.Size([1000]) in the checkpoint and torch.Size([10]) in the model instantiated\n",
      "- head.fc.weight: found shape torch.Size([1000, 320]) in the checkpoint and torch.Size([10, 320]) in the model instantiated\n",
      "You should probably TRAIN this model on a down-stream task to be able to use it for predictions and inference.\n"
     ]
    },
    {
     "data": {
      "text/html": [
       "\n",
       "    <div>\n",
       "      \n",
       "      <progress value='626' max='2191' style='width:300px; height:20px; vertical-align: middle;'></progress>\n",
       "      [ 626/2191 02:45 < 06:54, 3.77 it/s, Epoch 2/7]\n",
       "    </div>\n",
       "    <table border=\"1\" class=\"dataframe\">\n",
       "  <thead>\n",
       " <tr style=\"text-align: left;\">\n",
       "      <th>Epoch</th>\n",
       "      <th>Training Loss</th>\n",
       "      <th>Validation Loss</th>\n",
       "      <th>Accuracy</th>\n",
       "      <th>Precision</th>\n",
       "      <th>Recall</th>\n",
       "      <th>F1</th>\n",
       "    </tr>\n",
       "  </thead>\n",
       "  <tbody>\n",
       "    <tr>\n",
       "      <td>1</td>\n",
       "      <td>0.507900</td>\n",
       "      <td>0.444718</td>\n",
       "      <td>0.808500</td>\n",
       "      <td>0.826369</td>\n",
       "      <td>0.809057</td>\n",
       "      <td>0.807433</td>\n",
       "    </tr>\n",
       "    <tr>\n",
       "      <td>2</td>\n",
       "      <td>0.303800</td>\n",
       "      <td>0.333859</td>\n",
       "      <td>0.873400</td>\n",
       "      <td>0.888738</td>\n",
       "      <td>0.873605</td>\n",
       "      <td>0.874092</td>\n",
       "    </tr>\n",
       "  </tbody>\n",
       "</table><p>"
      ],
      "text/plain": [
       "<IPython.core.display.HTML object>"
      ]
     },
     "metadata": {},
     "output_type": "display_data"
    },
    {
     "name": "stderr",
     "output_type": "stream",
     "text": [
      "[I 2025-03-30 11:45:52,643] Trial 9 pruned. \n"
     ]
    },
    {
     "name": "stdout",
     "output_type": "stream",
     "text": [
      "Trial 10 with params: {'learning_rate': 5.622306732978549e-05, 'weight_decay': 0.004, 'warmup_steps': 6, 'lambda_param': 1.0, 'temperature': 3.0}\n"
     ]
    },
    {
     "name": "stderr",
     "output_type": "stream",
     "text": [
      "Some weights of TimmWrapperForImageClassification were not initialized from the model checkpoint at timm/tiny_vit_5m_224.in1k and are newly initialized because the shapes did not match:\n",
      "- head.fc.bias: found shape torch.Size([1000]) in the checkpoint and torch.Size([10]) in the model instantiated\n",
      "- head.fc.weight: found shape torch.Size([1000, 320]) in the checkpoint and torch.Size([10, 320]) in the model instantiated\n",
      "You should probably TRAIN this model on a down-stream task to be able to use it for predictions and inference.\n"
     ]
    },
    {
     "data": {
      "text/html": [
       "\n",
       "    <div>\n",
       "      \n",
       "      <progress value='1252' max='2191' style='width:300px; height:20px; vertical-align: middle;'></progress>\n",
       "      [1252/2191 05:33 < 04:10, 3.75 it/s, Epoch 4/7]\n",
       "    </div>\n",
       "    <table border=\"1\" class=\"dataframe\">\n",
       "  <thead>\n",
       " <tr style=\"text-align: left;\">\n",
       "      <th>Epoch</th>\n",
       "      <th>Training Loss</th>\n",
       "      <th>Validation Loss</th>\n",
       "      <th>Accuracy</th>\n",
       "      <th>Precision</th>\n",
       "      <th>Recall</th>\n",
       "      <th>F1</th>\n",
       "    </tr>\n",
       "  </thead>\n",
       "  <tbody>\n",
       "    <tr>\n",
       "      <td>1</td>\n",
       "      <td>0.392100</td>\n",
       "      <td>0.178731</td>\n",
       "      <td>0.953000</td>\n",
       "      <td>0.954320</td>\n",
       "      <td>0.953251</td>\n",
       "      <td>0.953311</td>\n",
       "    </tr>\n",
       "    <tr>\n",
       "      <td>2</td>\n",
       "      <td>0.153500</td>\n",
       "      <td>0.165265</td>\n",
       "      <td>0.961800</td>\n",
       "      <td>0.962035</td>\n",
       "      <td>0.961956</td>\n",
       "      <td>0.961907</td>\n",
       "    </tr>\n",
       "    <tr>\n",
       "      <td>3</td>\n",
       "      <td>0.128700</td>\n",
       "      <td>0.155834</td>\n",
       "      <td>0.964800</td>\n",
       "      <td>0.965164</td>\n",
       "      <td>0.964951</td>\n",
       "      <td>0.964924</td>\n",
       "    </tr>\n",
       "    <tr>\n",
       "      <td>4</td>\n",
       "      <td>0.118600</td>\n",
       "      <td>0.151742</td>\n",
       "      <td>0.966700</td>\n",
       "      <td>0.966901</td>\n",
       "      <td>0.966870</td>\n",
       "      <td>0.966850</td>\n",
       "    </tr>\n",
       "  </tbody>\n",
       "</table><p>"
      ],
      "text/plain": [
       "<IPython.core.display.HTML object>"
      ]
     },
     "metadata": {},
     "output_type": "display_data"
    },
    {
     "name": "stderr",
     "output_type": "stream",
     "text": [
      "[I 2025-03-30 11:51:28,426] Trial 10 pruned. \n"
     ]
    },
    {
     "name": "stdout",
     "output_type": "stream",
     "text": [
      "Trial 11 with params: {'learning_rate': 0.00020808715310578245, 'weight_decay': 0.003, 'warmup_steps': 32, 'lambda_param': 0.6000000000000001, 'temperature': 6.0}\n"
     ]
    },
    {
     "name": "stderr",
     "output_type": "stream",
     "text": [
      "Some weights of TimmWrapperForImageClassification were not initialized from the model checkpoint at timm/tiny_vit_5m_224.in1k and are newly initialized because the shapes did not match:\n",
      "- head.fc.bias: found shape torch.Size([1000]) in the checkpoint and torch.Size([10]) in the model instantiated\n",
      "- head.fc.weight: found shape torch.Size([1000, 320]) in the checkpoint and torch.Size([10, 320]) in the model instantiated\n",
      "You should probably TRAIN this model on a down-stream task to be able to use it for predictions and inference.\n"
     ]
    },
    {
     "data": {
      "text/html": [
       "\n",
       "    <div>\n",
       "      \n",
       "      <progress value='1252' max='2191' style='width:300px; height:20px; vertical-align: middle;'></progress>\n",
       "      [1252/2191 05:35 < 04:11, 3.73 it/s, Epoch 4/7]\n",
       "    </div>\n",
       "    <table border=\"1\" class=\"dataframe\">\n",
       "  <thead>\n",
       " <tr style=\"text-align: left;\">\n",
       "      <th>Epoch</th>\n",
       "      <th>Training Loss</th>\n",
       "      <th>Validation Loss</th>\n",
       "      <th>Accuracy</th>\n",
       "      <th>Precision</th>\n",
       "      <th>Recall</th>\n",
       "      <th>F1</th>\n",
       "    </tr>\n",
       "  </thead>\n",
       "  <tbody>\n",
       "    <tr>\n",
       "      <td>1</td>\n",
       "      <td>0.360400</td>\n",
       "      <td>0.198915</td>\n",
       "      <td>0.941600</td>\n",
       "      <td>0.943461</td>\n",
       "      <td>0.941996</td>\n",
       "      <td>0.941815</td>\n",
       "    </tr>\n",
       "    <tr>\n",
       "      <td>2</td>\n",
       "      <td>0.161900</td>\n",
       "      <td>0.175332</td>\n",
       "      <td>0.954100</td>\n",
       "      <td>0.954815</td>\n",
       "      <td>0.954274</td>\n",
       "      <td>0.954336</td>\n",
       "    </tr>\n",
       "    <tr>\n",
       "      <td>3</td>\n",
       "      <td>0.138400</td>\n",
       "      <td>0.162317</td>\n",
       "      <td>0.961000</td>\n",
       "      <td>0.961478</td>\n",
       "      <td>0.961092</td>\n",
       "      <td>0.961174</td>\n",
       "    </tr>\n",
       "    <tr>\n",
       "      <td>4</td>\n",
       "      <td>0.124400</td>\n",
       "      <td>0.153341</td>\n",
       "      <td>0.966900</td>\n",
       "      <td>0.967243</td>\n",
       "      <td>0.967045</td>\n",
       "      <td>0.966979</td>\n",
       "    </tr>\n",
       "  </tbody>\n",
       "</table><p>"
      ],
      "text/plain": [
       "<IPython.core.display.HTML object>"
      ]
     },
     "metadata": {},
     "output_type": "display_data"
    },
    {
     "name": "stderr",
     "output_type": "stream",
     "text": [
      "[I 2025-03-30 11:57:06,022] Trial 11 pruned. \n"
     ]
    },
    {
     "name": "stdout",
     "output_type": "stream",
     "text": [
      "Trial 12 with params: {'learning_rate': 0.00014318207047557446, 'weight_decay': 0.001, 'warmup_steps': 21, 'lambda_param': 0.8, 'temperature': 5.0}\n"
     ]
    },
    {
     "name": "stderr",
     "output_type": "stream",
     "text": [
      "Some weights of TimmWrapperForImageClassification were not initialized from the model checkpoint at timm/tiny_vit_5m_224.in1k and are newly initialized because the shapes did not match:\n",
      "- head.fc.bias: found shape torch.Size([1000]) in the checkpoint and torch.Size([10]) in the model instantiated\n",
      "- head.fc.weight: found shape torch.Size([1000, 320]) in the checkpoint and torch.Size([10, 320]) in the model instantiated\n",
      "You should probably TRAIN this model on a down-stream task to be able to use it for predictions and inference.\n"
     ]
    },
    {
     "data": {
      "text/html": [
       "\n",
       "    <div>\n",
       "      \n",
       "      <progress value='1252' max='2191' style='width:300px; height:20px; vertical-align: middle;'></progress>\n",
       "      [1252/2191 05:32 < 04:09, 3.76 it/s, Epoch 4/7]\n",
       "    </div>\n",
       "    <table border=\"1\" class=\"dataframe\">\n",
       "  <thead>\n",
       " <tr style=\"text-align: left;\">\n",
       "      <th>Epoch</th>\n",
       "      <th>Training Loss</th>\n",
       "      <th>Validation Loss</th>\n",
       "      <th>Accuracy</th>\n",
       "      <th>Precision</th>\n",
       "      <th>Recall</th>\n",
       "      <th>F1</th>\n",
       "    </tr>\n",
       "  </thead>\n",
       "  <tbody>\n",
       "    <tr>\n",
       "      <td>1</td>\n",
       "      <td>0.348700</td>\n",
       "      <td>0.189529</td>\n",
       "      <td>0.945700</td>\n",
       "      <td>0.948857</td>\n",
       "      <td>0.946004</td>\n",
       "      <td>0.946151</td>\n",
       "    </tr>\n",
       "    <tr>\n",
       "      <td>2</td>\n",
       "      <td>0.153800</td>\n",
       "      <td>0.166781</td>\n",
       "      <td>0.960200</td>\n",
       "      <td>0.961066</td>\n",
       "      <td>0.960386</td>\n",
       "      <td>0.960273</td>\n",
       "    </tr>\n",
       "    <tr>\n",
       "      <td>3</td>\n",
       "      <td>0.131200</td>\n",
       "      <td>0.160574</td>\n",
       "      <td>0.962900</td>\n",
       "      <td>0.962981</td>\n",
       "      <td>0.963057</td>\n",
       "      <td>0.962901</td>\n",
       "    </tr>\n",
       "    <tr>\n",
       "      <td>4</td>\n",
       "      <td>0.121000</td>\n",
       "      <td>0.151962</td>\n",
       "      <td>0.967400</td>\n",
       "      <td>0.967371</td>\n",
       "      <td>0.967575</td>\n",
       "      <td>0.967394</td>\n",
       "    </tr>\n",
       "  </tbody>\n",
       "</table><p>"
      ],
      "text/plain": [
       "<IPython.core.display.HTML object>"
      ]
     },
     "metadata": {},
     "output_type": "display_data"
    },
    {
     "name": "stderr",
     "output_type": "stream",
     "text": [
      "[I 2025-03-30 12:02:40,396] Trial 12 pruned. \n"
     ]
    },
    {
     "name": "stdout",
     "output_type": "stream",
     "text": [
      "Trial 13 with params: {'learning_rate': 0.0001679567168095784, 'weight_decay': 0.008, 'warmup_steps': 7, 'lambda_param': 0.5, 'temperature': 3.5}\n"
     ]
    },
    {
     "name": "stderr",
     "output_type": "stream",
     "text": [
      "Some weights of TimmWrapperForImageClassification were not initialized from the model checkpoint at timm/tiny_vit_5m_224.in1k and are newly initialized because the shapes did not match:\n",
      "- head.fc.bias: found shape torch.Size([1000]) in the checkpoint and torch.Size([10]) in the model instantiated\n",
      "- head.fc.weight: found shape torch.Size([1000, 320]) in the checkpoint and torch.Size([10, 320]) in the model instantiated\n",
      "You should probably TRAIN this model on a down-stream task to be able to use it for predictions and inference.\n"
     ]
    },
    {
     "data": {
      "text/html": [
       "\n",
       "    <div>\n",
       "      \n",
       "      <progress value='1252' max='2191' style='width:300px; height:20px; vertical-align: middle;'></progress>\n",
       "      [1252/2191 05:34 < 04:10, 3.74 it/s, Epoch 4/7]\n",
       "    </div>\n",
       "    <table border=\"1\" class=\"dataframe\">\n",
       "  <thead>\n",
       " <tr style=\"text-align: left;\">\n",
       "      <th>Epoch</th>\n",
       "      <th>Training Loss</th>\n",
       "      <th>Validation Loss</th>\n",
       "      <th>Accuracy</th>\n",
       "      <th>Precision</th>\n",
       "      <th>Recall</th>\n",
       "      <th>F1</th>\n",
       "    </tr>\n",
       "  </thead>\n",
       "  <tbody>\n",
       "    <tr>\n",
       "      <td>1</td>\n",
       "      <td>0.320700</td>\n",
       "      <td>0.187072</td>\n",
       "      <td>0.949400</td>\n",
       "      <td>0.951799</td>\n",
       "      <td>0.949455</td>\n",
       "      <td>0.949780</td>\n",
       "    </tr>\n",
       "    <tr>\n",
       "      <td>2</td>\n",
       "      <td>0.155000</td>\n",
       "      <td>0.172692</td>\n",
       "      <td>0.955700</td>\n",
       "      <td>0.956504</td>\n",
       "      <td>0.955954</td>\n",
       "      <td>0.955779</td>\n",
       "    </tr>\n",
       "    <tr>\n",
       "      <td>3</td>\n",
       "      <td>0.133900</td>\n",
       "      <td>0.150654</td>\n",
       "      <td>0.971600</td>\n",
       "      <td>0.971897</td>\n",
       "      <td>0.971743</td>\n",
       "      <td>0.971745</td>\n",
       "    </tr>\n",
       "    <tr>\n",
       "      <td>4</td>\n",
       "      <td>0.121300</td>\n",
       "      <td>0.148089</td>\n",
       "      <td>0.970300</td>\n",
       "      <td>0.970448</td>\n",
       "      <td>0.970469</td>\n",
       "      <td>0.970403</td>\n",
       "    </tr>\n",
       "  </tbody>\n",
       "</table><p>"
      ],
      "text/plain": [
       "<IPython.core.display.HTML object>"
      ]
     },
     "metadata": {},
     "output_type": "display_data"
    },
    {
     "name": "stderr",
     "output_type": "stream",
     "text": [
      "[I 2025-03-30 12:08:16,793] Trial 13 pruned. \n"
     ]
    },
    {
     "name": "stdout",
     "output_type": "stream",
     "text": [
      "Trial 14 with params: {'learning_rate': 9.781484202771949e-05, 'weight_decay': 0.009000000000000001, 'warmup_steps': 5, 'lambda_param': 1.0, 'temperature': 2.5}\n"
     ]
    },
    {
     "name": "stderr",
     "output_type": "stream",
     "text": [
      "Some weights of TimmWrapperForImageClassification were not initialized from the model checkpoint at timm/tiny_vit_5m_224.in1k and are newly initialized because the shapes did not match:\n",
      "- head.fc.bias: found shape torch.Size([1000]) in the checkpoint and torch.Size([10]) in the model instantiated\n",
      "- head.fc.weight: found shape torch.Size([1000, 320]) in the checkpoint and torch.Size([10, 320]) in the model instantiated\n",
      "You should probably TRAIN this model on a down-stream task to be able to use it for predictions and inference.\n"
     ]
    },
    {
     "data": {
      "text/html": [
       "\n",
       "    <div>\n",
       "      \n",
       "      <progress value='2191' max='2191' style='width:300px; height:20px; vertical-align: middle;'></progress>\n",
       "      [2191/2191 09:44, Epoch 7/7]\n",
       "    </div>\n",
       "    <table border=\"1\" class=\"dataframe\">\n",
       "  <thead>\n",
       " <tr style=\"text-align: left;\">\n",
       "      <th>Epoch</th>\n",
       "      <th>Training Loss</th>\n",
       "      <th>Validation Loss</th>\n",
       "      <th>Accuracy</th>\n",
       "      <th>Precision</th>\n",
       "      <th>Recall</th>\n",
       "      <th>F1</th>\n",
       "    </tr>\n",
       "  </thead>\n",
       "  <tbody>\n",
       "    <tr>\n",
       "      <td>1</td>\n",
       "      <td>0.345900</td>\n",
       "      <td>0.176221</td>\n",
       "      <td>0.956400</td>\n",
       "      <td>0.957230</td>\n",
       "      <td>0.956616</td>\n",
       "      <td>0.956565</td>\n",
       "    </tr>\n",
       "    <tr>\n",
       "      <td>2</td>\n",
       "      <td>0.148800</td>\n",
       "      <td>0.158917</td>\n",
       "      <td>0.964600</td>\n",
       "      <td>0.964786</td>\n",
       "      <td>0.964810</td>\n",
       "      <td>0.964717</td>\n",
       "    </tr>\n",
       "    <tr>\n",
       "      <td>3</td>\n",
       "      <td>0.128600</td>\n",
       "      <td>0.152697</td>\n",
       "      <td>0.966100</td>\n",
       "      <td>0.966667</td>\n",
       "      <td>0.966283</td>\n",
       "      <td>0.966268</td>\n",
       "    </tr>\n",
       "    <tr>\n",
       "      <td>4</td>\n",
       "      <td>0.119200</td>\n",
       "      <td>0.149028</td>\n",
       "      <td>0.969300</td>\n",
       "      <td>0.969748</td>\n",
       "      <td>0.969513</td>\n",
       "      <td>0.969453</td>\n",
       "    </tr>\n",
       "    <tr>\n",
       "      <td>5</td>\n",
       "      <td>0.113600</td>\n",
       "      <td>0.143631</td>\n",
       "      <td>0.971200</td>\n",
       "      <td>0.971804</td>\n",
       "      <td>0.971349</td>\n",
       "      <td>0.971395</td>\n",
       "    </tr>\n",
       "    <tr>\n",
       "      <td>6</td>\n",
       "      <td>0.111700</td>\n",
       "      <td>0.140586</td>\n",
       "      <td>0.974300</td>\n",
       "      <td>0.974509</td>\n",
       "      <td>0.974409</td>\n",
       "      <td>0.974422</td>\n",
       "    </tr>\n",
       "    <tr>\n",
       "      <td>7</td>\n",
       "      <td>0.110000</td>\n",
       "      <td>0.139735</td>\n",
       "      <td>0.973300</td>\n",
       "      <td>0.973505</td>\n",
       "      <td>0.973440</td>\n",
       "      <td>0.973423</td>\n",
       "    </tr>\n",
       "  </tbody>\n",
       "</table><p>"
      ],
      "text/plain": [
       "<IPython.core.display.HTML object>"
      ]
     },
     "metadata": {},
     "output_type": "display_data"
    },
    {
     "name": "stderr",
     "output_type": "stream",
     "text": [
      "[I 2025-03-30 12:18:04,458] Trial 14 finished with value: 0.9734230267943806 and parameters: {'learning_rate': 9.781484202771949e-05, 'weight_decay': 0.009000000000000001, 'warmup_steps': 5, 'lambda_param': 1.0, 'temperature': 2.5}. Best is trial 14 with value: 0.9734230267943806.\n"
     ]
    },
    {
     "name": "stdout",
     "output_type": "stream",
     "text": [
      "Trial 15 with params: {'learning_rate': 0.00018002615153235487, 'weight_decay': 0.008, 'warmup_steps': 10, 'lambda_param': 1.0, 'temperature': 3.0}\n"
     ]
    },
    {
     "name": "stderr",
     "output_type": "stream",
     "text": [
      "Some weights of TimmWrapperForImageClassification were not initialized from the model checkpoint at timm/tiny_vit_5m_224.in1k and are newly initialized because the shapes did not match:\n",
      "- head.fc.bias: found shape torch.Size([1000]) in the checkpoint and torch.Size([10]) in the model instantiated\n",
      "- head.fc.weight: found shape torch.Size([1000, 320]) in the checkpoint and torch.Size([10, 320]) in the model instantiated\n",
      "You should probably TRAIN this model on a down-stream task to be able to use it for predictions and inference.\n"
     ]
    },
    {
     "data": {
      "text/html": [
       "\n",
       "    <div>\n",
       "      \n",
       "      <progress value='1252' max='2191' style='width:300px; height:20px; vertical-align: middle;'></progress>\n",
       "      [1252/2191 05:33 < 04:10, 3.75 it/s, Epoch 4/7]\n",
       "    </div>\n",
       "    <table border=\"1\" class=\"dataframe\">\n",
       "  <thead>\n",
       " <tr style=\"text-align: left;\">\n",
       "      <th>Epoch</th>\n",
       "      <th>Training Loss</th>\n",
       "      <th>Validation Loss</th>\n",
       "      <th>Accuracy</th>\n",
       "      <th>Precision</th>\n",
       "      <th>Recall</th>\n",
       "      <th>F1</th>\n",
       "    </tr>\n",
       "  </thead>\n",
       "  <tbody>\n",
       "    <tr>\n",
       "      <td>1</td>\n",
       "      <td>0.326600</td>\n",
       "      <td>0.209343</td>\n",
       "      <td>0.936800</td>\n",
       "      <td>0.940688</td>\n",
       "      <td>0.937078</td>\n",
       "      <td>0.936974</td>\n",
       "    </tr>\n",
       "    <tr>\n",
       "      <td>2</td>\n",
       "      <td>0.158900</td>\n",
       "      <td>0.174025</td>\n",
       "      <td>0.954800</td>\n",
       "      <td>0.956361</td>\n",
       "      <td>0.954929</td>\n",
       "      <td>0.955084</td>\n",
       "    </tr>\n",
       "    <tr>\n",
       "      <td>3</td>\n",
       "      <td>0.134500</td>\n",
       "      <td>0.159286</td>\n",
       "      <td>0.964700</td>\n",
       "      <td>0.965132</td>\n",
       "      <td>0.964815</td>\n",
       "      <td>0.964853</td>\n",
       "    </tr>\n",
       "    <tr>\n",
       "      <td>4</td>\n",
       "      <td>0.123200</td>\n",
       "      <td>0.151518</td>\n",
       "      <td>0.967100</td>\n",
       "      <td>0.967592</td>\n",
       "      <td>0.967137</td>\n",
       "      <td>0.967288</td>\n",
       "    </tr>\n",
       "  </tbody>\n",
       "</table><p>"
      ],
      "text/plain": [
       "<IPython.core.display.HTML object>"
      ]
     },
     "metadata": {},
     "output_type": "display_data"
    },
    {
     "name": "stderr",
     "output_type": "stream",
     "text": [
      "[I 2025-03-30 12:23:40,138] Trial 15 pruned. \n"
     ]
    },
    {
     "name": "stdout",
     "output_type": "stream",
     "text": [
      "Trial 16 with params: {'learning_rate': 7.384419630274902e-05, 'weight_decay': 0.009000000000000001, 'warmup_steps': 1, 'lambda_param': 0.9, 'temperature': 2.0}\n"
     ]
    },
    {
     "name": "stderr",
     "output_type": "stream",
     "text": [
      "Some weights of TimmWrapperForImageClassification were not initialized from the model checkpoint at timm/tiny_vit_5m_224.in1k and are newly initialized because the shapes did not match:\n",
      "- head.fc.bias: found shape torch.Size([1000]) in the checkpoint and torch.Size([10]) in the model instantiated\n",
      "- head.fc.weight: found shape torch.Size([1000, 320]) in the checkpoint and torch.Size([10, 320]) in the model instantiated\n",
      "You should probably TRAIN this model on a down-stream task to be able to use it for predictions and inference.\n"
     ]
    },
    {
     "data": {
      "text/html": [
       "\n",
       "    <div>\n",
       "      \n",
       "      <progress value='2191' max='2191' style='width:300px; height:20px; vertical-align: middle;'></progress>\n",
       "      [2191/2191 09:45, Epoch 7/7]\n",
       "    </div>\n",
       "    <table border=\"1\" class=\"dataframe\">\n",
       "  <thead>\n",
       " <tr style=\"text-align: left;\">\n",
       "      <th>Epoch</th>\n",
       "      <th>Training Loss</th>\n",
       "      <th>Validation Loss</th>\n",
       "      <th>Accuracy</th>\n",
       "      <th>Precision</th>\n",
       "      <th>Recall</th>\n",
       "      <th>F1</th>\n",
       "    </tr>\n",
       "  </thead>\n",
       "  <tbody>\n",
       "    <tr>\n",
       "      <td>1</td>\n",
       "      <td>0.354100</td>\n",
       "      <td>0.184959</td>\n",
       "      <td>0.950700</td>\n",
       "      <td>0.952677</td>\n",
       "      <td>0.950962</td>\n",
       "      <td>0.950929</td>\n",
       "    </tr>\n",
       "    <tr>\n",
       "      <td>2</td>\n",
       "      <td>0.149300</td>\n",
       "      <td>0.164179</td>\n",
       "      <td>0.961000</td>\n",
       "      <td>0.961764</td>\n",
       "      <td>0.961117</td>\n",
       "      <td>0.961262</td>\n",
       "    </tr>\n",
       "    <tr>\n",
       "      <td>3</td>\n",
       "      <td>0.128500</td>\n",
       "      <td>0.153277</td>\n",
       "      <td>0.967300</td>\n",
       "      <td>0.967406</td>\n",
       "      <td>0.967431</td>\n",
       "      <td>0.967384</td>\n",
       "    </tr>\n",
       "    <tr>\n",
       "      <td>4</td>\n",
       "      <td>0.118800</td>\n",
       "      <td>0.147851</td>\n",
       "      <td>0.969600</td>\n",
       "      <td>0.969767</td>\n",
       "      <td>0.969697</td>\n",
       "      <td>0.969713</td>\n",
       "    </tr>\n",
       "    <tr>\n",
       "      <td>5</td>\n",
       "      <td>0.114100</td>\n",
       "      <td>0.144161</td>\n",
       "      <td>0.970900</td>\n",
       "      <td>0.971293</td>\n",
       "      <td>0.971042</td>\n",
       "      <td>0.971039</td>\n",
       "    </tr>\n",
       "    <tr>\n",
       "      <td>6</td>\n",
       "      <td>0.111400</td>\n",
       "      <td>0.142653</td>\n",
       "      <td>0.971300</td>\n",
       "      <td>0.971468</td>\n",
       "      <td>0.971437</td>\n",
       "      <td>0.971433</td>\n",
       "    </tr>\n",
       "    <tr>\n",
       "      <td>7</td>\n",
       "      <td>0.110100</td>\n",
       "      <td>0.141910</td>\n",
       "      <td>0.972400</td>\n",
       "      <td>0.972476</td>\n",
       "      <td>0.972548</td>\n",
       "      <td>0.972501</td>\n",
       "    </tr>\n",
       "  </tbody>\n",
       "</table><p>"
      ],
      "text/plain": [
       "<IPython.core.display.HTML object>"
      ]
     },
     "metadata": {},
     "output_type": "display_data"
    },
    {
     "name": "stderr",
     "output_type": "stream",
     "text": [
      "[I 2025-03-30 12:33:28,702] Trial 16 finished with value: 0.9725011462973223 and parameters: {'learning_rate': 7.384419630274902e-05, 'weight_decay': 0.009000000000000001, 'warmup_steps': 1, 'lambda_param': 0.9, 'temperature': 2.0}. Best is trial 14 with value: 0.9734230267943806.\n"
     ]
    },
    {
     "name": "stdout",
     "output_type": "stream",
     "text": [
      "Trial 17 with params: {'learning_rate': 0.000124594001444187, 'weight_decay': 0.01, 'warmup_steps': 3, 'lambda_param': 0.9, 'temperature': 6.0}\n"
     ]
    },
    {
     "name": "stderr",
     "output_type": "stream",
     "text": [
      "Some weights of TimmWrapperForImageClassification were not initialized from the model checkpoint at timm/tiny_vit_5m_224.in1k and are newly initialized because the shapes did not match:\n",
      "- head.fc.bias: found shape torch.Size([1000]) in the checkpoint and torch.Size([10]) in the model instantiated\n",
      "- head.fc.weight: found shape torch.Size([1000, 320]) in the checkpoint and torch.Size([10, 320]) in the model instantiated\n",
      "You should probably TRAIN this model on a down-stream task to be able to use it for predictions and inference.\n"
     ]
    },
    {
     "data": {
      "text/html": [
       "\n",
       "    <div>\n",
       "      \n",
       "      <progress value='2191' max='2191' style='width:300px; height:20px; vertical-align: middle;'></progress>\n",
       "      [2191/2191 09:52, Epoch 7/7]\n",
       "    </div>\n",
       "    <table border=\"1\" class=\"dataframe\">\n",
       "  <thead>\n",
       " <tr style=\"text-align: left;\">\n",
       "      <th>Epoch</th>\n",
       "      <th>Training Loss</th>\n",
       "      <th>Validation Loss</th>\n",
       "      <th>Accuracy</th>\n",
       "      <th>Precision</th>\n",
       "      <th>Recall</th>\n",
       "      <th>F1</th>\n",
       "    </tr>\n",
       "  </thead>\n",
       "  <tbody>\n",
       "    <tr>\n",
       "      <td>1</td>\n",
       "      <td>0.314500</td>\n",
       "      <td>0.201343</td>\n",
       "      <td>0.937500</td>\n",
       "      <td>0.942745</td>\n",
       "      <td>0.937894</td>\n",
       "      <td>0.938180</td>\n",
       "    </tr>\n",
       "    <tr>\n",
       "      <td>2</td>\n",
       "      <td>0.152700</td>\n",
       "      <td>0.176041</td>\n",
       "      <td>0.955100</td>\n",
       "      <td>0.956645</td>\n",
       "      <td>0.955340</td>\n",
       "      <td>0.955292</td>\n",
       "    </tr>\n",
       "    <tr>\n",
       "      <td>3</td>\n",
       "      <td>0.131300</td>\n",
       "      <td>0.157594</td>\n",
       "      <td>0.964100</td>\n",
       "      <td>0.964995</td>\n",
       "      <td>0.964250</td>\n",
       "      <td>0.964289</td>\n",
       "    </tr>\n",
       "    <tr>\n",
       "      <td>4</td>\n",
       "      <td>0.120000</td>\n",
       "      <td>0.149439</td>\n",
       "      <td>0.967500</td>\n",
       "      <td>0.968093</td>\n",
       "      <td>0.967692</td>\n",
       "      <td>0.967659</td>\n",
       "    </tr>\n",
       "    <tr>\n",
       "      <td>5</td>\n",
       "      <td>0.114400</td>\n",
       "      <td>0.144078</td>\n",
       "      <td>0.970600</td>\n",
       "      <td>0.971143</td>\n",
       "      <td>0.970823</td>\n",
       "      <td>0.970777</td>\n",
       "    </tr>\n",
       "    <tr>\n",
       "      <td>6</td>\n",
       "      <td>0.111500</td>\n",
       "      <td>0.140014</td>\n",
       "      <td>0.972100</td>\n",
       "      <td>0.972350</td>\n",
       "      <td>0.972217</td>\n",
       "      <td>0.972249</td>\n",
       "    </tr>\n",
       "    <tr>\n",
       "      <td>7</td>\n",
       "      <td>0.110000</td>\n",
       "      <td>0.138475</td>\n",
       "      <td>0.973300</td>\n",
       "      <td>0.973527</td>\n",
       "      <td>0.973429</td>\n",
       "      <td>0.973448</td>\n",
       "    </tr>\n",
       "  </tbody>\n",
       "</table><p>"
      ],
      "text/plain": [
       "<IPython.core.display.HTML object>"
      ]
     },
     "metadata": {},
     "output_type": "display_data"
    },
    {
     "name": "stderr",
     "output_type": "stream",
     "text": [
      "[I 2025-03-30 12:43:23,966] Trial 17 finished with value: 0.9734480866106539 and parameters: {'learning_rate': 0.000124594001444187, 'weight_decay': 0.01, 'warmup_steps': 3, 'lambda_param': 0.9, 'temperature': 6.0}. Best is trial 17 with value: 0.9734480866106539.\n"
     ]
    },
    {
     "name": "stdout",
     "output_type": "stream",
     "text": [
      "Trial 18 with params: {'learning_rate': 0.00014341173135625626, 'weight_decay': 0.009000000000000001, 'warmup_steps': 0, 'lambda_param': 0.9, 'temperature': 6.0}\n"
     ]
    },
    {
     "name": "stderr",
     "output_type": "stream",
     "text": [
      "Some weights of TimmWrapperForImageClassification were not initialized from the model checkpoint at timm/tiny_vit_5m_224.in1k and are newly initialized because the shapes did not match:\n",
      "- head.fc.bias: found shape torch.Size([1000]) in the checkpoint and torch.Size([10]) in the model instantiated\n",
      "- head.fc.weight: found shape torch.Size([1000, 320]) in the checkpoint and torch.Size([10, 320]) in the model instantiated\n",
      "You should probably TRAIN this model on a down-stream task to be able to use it for predictions and inference.\n"
     ]
    },
    {
     "data": {
      "text/html": [
       "\n",
       "    <div>\n",
       "      \n",
       "      <progress value='2191' max='2191' style='width:300px; height:20px; vertical-align: middle;'></progress>\n",
       "      [2191/2191 09:44, Epoch 7/7]\n",
       "    </div>\n",
       "    <table border=\"1\" class=\"dataframe\">\n",
       "  <thead>\n",
       " <tr style=\"text-align: left;\">\n",
       "      <th>Epoch</th>\n",
       "      <th>Training Loss</th>\n",
       "      <th>Validation Loss</th>\n",
       "      <th>Accuracy</th>\n",
       "      <th>Precision</th>\n",
       "      <th>Recall</th>\n",
       "      <th>F1</th>\n",
       "    </tr>\n",
       "  </thead>\n",
       "  <tbody>\n",
       "    <tr>\n",
       "      <td>1</td>\n",
       "      <td>0.301800</td>\n",
       "      <td>0.197755</td>\n",
       "      <td>0.942000</td>\n",
       "      <td>0.945034</td>\n",
       "      <td>0.942297</td>\n",
       "      <td>0.942168</td>\n",
       "    </tr>\n",
       "    <tr>\n",
       "      <td>2</td>\n",
       "      <td>0.152500</td>\n",
       "      <td>0.162885</td>\n",
       "      <td>0.961700</td>\n",
       "      <td>0.961891</td>\n",
       "      <td>0.961867</td>\n",
       "      <td>0.961785</td>\n",
       "    </tr>\n",
       "    <tr>\n",
       "      <td>3</td>\n",
       "      <td>0.131800</td>\n",
       "      <td>0.158134</td>\n",
       "      <td>0.963800</td>\n",
       "      <td>0.964261</td>\n",
       "      <td>0.964041</td>\n",
       "      <td>0.963849</td>\n",
       "    </tr>\n",
       "    <tr>\n",
       "      <td>4</td>\n",
       "      <td>0.119700</td>\n",
       "      <td>0.150287</td>\n",
       "      <td>0.968800</td>\n",
       "      <td>0.968895</td>\n",
       "      <td>0.969032</td>\n",
       "      <td>0.968919</td>\n",
       "    </tr>\n",
       "    <tr>\n",
       "      <td>5</td>\n",
       "      <td>0.115100</td>\n",
       "      <td>0.142874</td>\n",
       "      <td>0.971100</td>\n",
       "      <td>0.971512</td>\n",
       "      <td>0.971302</td>\n",
       "      <td>0.971266</td>\n",
       "    </tr>\n",
       "    <tr>\n",
       "      <td>6</td>\n",
       "      <td>0.111500</td>\n",
       "      <td>0.138603</td>\n",
       "      <td>0.976400</td>\n",
       "      <td>0.976484</td>\n",
       "      <td>0.976566</td>\n",
       "      <td>0.976498</td>\n",
       "    </tr>\n",
       "    <tr>\n",
       "      <td>7</td>\n",
       "      <td>0.110200</td>\n",
       "      <td>0.138232</td>\n",
       "      <td>0.975200</td>\n",
       "      <td>0.975305</td>\n",
       "      <td>0.975382</td>\n",
       "      <td>0.975326</td>\n",
       "    </tr>\n",
       "  </tbody>\n",
       "</table><p>"
      ],
      "text/plain": [
       "<IPython.core.display.HTML object>"
      ]
     },
     "metadata": {},
     "output_type": "display_data"
    },
    {
     "name": "stderr",
     "output_type": "stream",
     "text": [
      "[I 2025-03-30 12:53:11,011] Trial 18 finished with value: 0.9753260189154085 and parameters: {'learning_rate': 0.00014341173135625626, 'weight_decay': 0.009000000000000001, 'warmup_steps': 0, 'lambda_param': 0.9, 'temperature': 6.0}. Best is trial 18 with value: 0.9753260189154085.\n"
     ]
    },
    {
     "name": "stdout",
     "output_type": "stream",
     "text": [
      "Trial 19 with params: {'learning_rate': 0.00012899425163390336, 'weight_decay': 0.008, 'warmup_steps': 3, 'lambda_param': 1.0, 'temperature': 7.0}\n"
     ]
    },
    {
     "name": "stderr",
     "output_type": "stream",
     "text": [
      "Some weights of TimmWrapperForImageClassification were not initialized from the model checkpoint at timm/tiny_vit_5m_224.in1k and are newly initialized because the shapes did not match:\n",
      "- head.fc.bias: found shape torch.Size([1000]) in the checkpoint and torch.Size([10]) in the model instantiated\n",
      "- head.fc.weight: found shape torch.Size([1000, 320]) in the checkpoint and torch.Size([10, 320]) in the model instantiated\n",
      "You should probably TRAIN this model on a down-stream task to be able to use it for predictions and inference.\n"
     ]
    },
    {
     "data": {
      "text/html": [
       "\n",
       "    <div>\n",
       "      \n",
       "      <progress value='2191' max='2191' style='width:300px; height:20px; vertical-align: middle;'></progress>\n",
       "      [2191/2191 09:43, Epoch 7/7]\n",
       "    </div>\n",
       "    <table border=\"1\" class=\"dataframe\">\n",
       "  <thead>\n",
       " <tr style=\"text-align: left;\">\n",
       "      <th>Epoch</th>\n",
       "      <th>Training Loss</th>\n",
       "      <th>Validation Loss</th>\n",
       "      <th>Accuracy</th>\n",
       "      <th>Precision</th>\n",
       "      <th>Recall</th>\n",
       "      <th>F1</th>\n",
       "    </tr>\n",
       "  </thead>\n",
       "  <tbody>\n",
       "    <tr>\n",
       "      <td>1</td>\n",
       "      <td>0.317400</td>\n",
       "      <td>0.192056</td>\n",
       "      <td>0.947200</td>\n",
       "      <td>0.949387</td>\n",
       "      <td>0.947434</td>\n",
       "      <td>0.947494</td>\n",
       "    </tr>\n",
       "    <tr>\n",
       "      <td>2</td>\n",
       "      <td>0.149700</td>\n",
       "      <td>0.165637</td>\n",
       "      <td>0.961600</td>\n",
       "      <td>0.961908</td>\n",
       "      <td>0.961822</td>\n",
       "      <td>0.961627</td>\n",
       "    </tr>\n",
       "    <tr>\n",
       "      <td>3</td>\n",
       "      <td>0.128900</td>\n",
       "      <td>0.159055</td>\n",
       "      <td>0.961800</td>\n",
       "      <td>0.963253</td>\n",
       "      <td>0.961916</td>\n",
       "      <td>0.962183</td>\n",
       "    </tr>\n",
       "    <tr>\n",
       "      <td>4</td>\n",
       "      <td>0.120300</td>\n",
       "      <td>0.146536</td>\n",
       "      <td>0.971800</td>\n",
       "      <td>0.971902</td>\n",
       "      <td>0.971908</td>\n",
       "      <td>0.971878</td>\n",
       "    </tr>\n",
       "    <tr>\n",
       "      <td>5</td>\n",
       "      <td>0.114300</td>\n",
       "      <td>0.144155</td>\n",
       "      <td>0.972200</td>\n",
       "      <td>0.972596</td>\n",
       "      <td>0.972356</td>\n",
       "      <td>0.972366</td>\n",
       "    </tr>\n",
       "    <tr>\n",
       "      <td>6</td>\n",
       "      <td>0.111500</td>\n",
       "      <td>0.140706</td>\n",
       "      <td>0.972500</td>\n",
       "      <td>0.972841</td>\n",
       "      <td>0.972628</td>\n",
       "      <td>0.972672</td>\n",
       "    </tr>\n",
       "    <tr>\n",
       "      <td>7</td>\n",
       "      <td>0.110000</td>\n",
       "      <td>0.140125</td>\n",
       "      <td>0.972800</td>\n",
       "      <td>0.973019</td>\n",
       "      <td>0.972951</td>\n",
       "      <td>0.972959</td>\n",
       "    </tr>\n",
       "  </tbody>\n",
       "</table><p>"
      ],
      "text/plain": [
       "<IPython.core.display.HTML object>"
      ]
     },
     "metadata": {},
     "output_type": "display_data"
    },
    {
     "name": "stderr",
     "output_type": "stream",
     "text": [
      "[I 2025-03-30 13:02:56,970] Trial 19 finished with value: 0.9729594402061267 and parameters: {'learning_rate': 0.00012899425163390336, 'weight_decay': 0.008, 'warmup_steps': 3, 'lambda_param': 1.0, 'temperature': 7.0}. Best is trial 18 with value: 0.9753260189154085.\n"
     ]
    },
    {
     "name": "stdout",
     "output_type": "stream",
     "text": [
      "Trial 20 with params: {'learning_rate': 0.00041588197261701134, 'weight_decay': 0.009000000000000001, 'warmup_steps': 13, 'lambda_param': 0.7000000000000001, 'temperature': 5.5}\n"
     ]
    },
    {
     "name": "stderr",
     "output_type": "stream",
     "text": [
      "Some weights of TimmWrapperForImageClassification were not initialized from the model checkpoint at timm/tiny_vit_5m_224.in1k and are newly initialized because the shapes did not match:\n",
      "- head.fc.bias: found shape torch.Size([1000]) in the checkpoint and torch.Size([10]) in the model instantiated\n",
      "- head.fc.weight: found shape torch.Size([1000, 320]) in the checkpoint and torch.Size([10, 320]) in the model instantiated\n",
      "You should probably TRAIN this model on a down-stream task to be able to use it for predictions and inference.\n"
     ]
    },
    {
     "data": {
      "text/html": [
       "\n",
       "    <div>\n",
       "      \n",
       "      <progress value='626' max='2191' style='width:300px; height:20px; vertical-align: middle;'></progress>\n",
       "      [ 626/2191 02:45 < 06:55, 3.76 it/s, Epoch 2/7]\n",
       "    </div>\n",
       "    <table border=\"1\" class=\"dataframe\">\n",
       "  <thead>\n",
       " <tr style=\"text-align: left;\">\n",
       "      <th>Epoch</th>\n",
       "      <th>Training Loss</th>\n",
       "      <th>Validation Loss</th>\n",
       "      <th>Accuracy</th>\n",
       "      <th>Precision</th>\n",
       "      <th>Recall</th>\n",
       "      <th>F1</th>\n",
       "    </tr>\n",
       "  </thead>\n",
       "  <tbody>\n",
       "    <tr>\n",
       "      <td>1</td>\n",
       "      <td>0.347700</td>\n",
       "      <td>0.244635</td>\n",
       "      <td>0.916500</td>\n",
       "      <td>0.920994</td>\n",
       "      <td>0.916883</td>\n",
       "      <td>0.916772</td>\n",
       "    </tr>\n",
       "    <tr>\n",
       "      <td>2</td>\n",
       "      <td>0.193700</td>\n",
       "      <td>0.212577</td>\n",
       "      <td>0.934100</td>\n",
       "      <td>0.937127</td>\n",
       "      <td>0.934396</td>\n",
       "      <td>0.934604</td>\n",
       "    </tr>\n",
       "  </tbody>\n",
       "</table><p>"
      ],
      "text/plain": [
       "<IPython.core.display.HTML object>"
      ]
     },
     "metadata": {},
     "output_type": "display_data"
    },
    {
     "name": "stderr",
     "output_type": "stream",
     "text": [
      "[I 2025-03-30 13:05:44,632] Trial 20 pruned. \n"
     ]
    },
    {
     "name": "stdout",
     "output_type": "stream",
     "text": [
      "Trial 21 with params: {'learning_rate': 7.917372034759902e-05, 'weight_decay': 0.009000000000000001, 'warmup_steps': 10, 'lambda_param': 0.7000000000000001, 'temperature': 6.0}\n"
     ]
    },
    {
     "name": "stderr",
     "output_type": "stream",
     "text": [
      "Some weights of TimmWrapperForImageClassification were not initialized from the model checkpoint at timm/tiny_vit_5m_224.in1k and are newly initialized because the shapes did not match:\n",
      "- head.fc.bias: found shape torch.Size([1000]) in the checkpoint and torch.Size([10]) in the model instantiated\n",
      "- head.fc.weight: found shape torch.Size([1000, 320]) in the checkpoint and torch.Size([10, 320]) in the model instantiated\n",
      "You should probably TRAIN this model on a down-stream task to be able to use it for predictions and inference.\n"
     ]
    },
    {
     "data": {
      "text/html": [
       "\n",
       "    <div>\n",
       "      \n",
       "      <progress value='1252' max='2191' style='width:300px; height:20px; vertical-align: middle;'></progress>\n",
       "      [1252/2191 05:36 < 04:12, 3.72 it/s, Epoch 4/7]\n",
       "    </div>\n",
       "    <table border=\"1\" class=\"dataframe\">\n",
       "  <thead>\n",
       " <tr style=\"text-align: left;\">\n",
       "      <th>Epoch</th>\n",
       "      <th>Training Loss</th>\n",
       "      <th>Validation Loss</th>\n",
       "      <th>Accuracy</th>\n",
       "      <th>Precision</th>\n",
       "      <th>Recall</th>\n",
       "      <th>F1</th>\n",
       "    </tr>\n",
       "  </thead>\n",
       "  <tbody>\n",
       "    <tr>\n",
       "      <td>1</td>\n",
       "      <td>0.364500</td>\n",
       "      <td>0.176224</td>\n",
       "      <td>0.954000</td>\n",
       "      <td>0.955064</td>\n",
       "      <td>0.954162</td>\n",
       "      <td>0.954233</td>\n",
       "    </tr>\n",
       "    <tr>\n",
       "      <td>2</td>\n",
       "      <td>0.148900</td>\n",
       "      <td>0.162520</td>\n",
       "      <td>0.963100</td>\n",
       "      <td>0.963297</td>\n",
       "      <td>0.963262</td>\n",
       "      <td>0.963171</td>\n",
       "    </tr>\n",
       "    <tr>\n",
       "      <td>3</td>\n",
       "      <td>0.127700</td>\n",
       "      <td>0.154292</td>\n",
       "      <td>0.966800</td>\n",
       "      <td>0.967186</td>\n",
       "      <td>0.966979</td>\n",
       "      <td>0.966889</td>\n",
       "    </tr>\n",
       "    <tr>\n",
       "      <td>4</td>\n",
       "      <td>0.118500</td>\n",
       "      <td>0.149912</td>\n",
       "      <td>0.967300</td>\n",
       "      <td>0.967474</td>\n",
       "      <td>0.967443</td>\n",
       "      <td>0.967439</td>\n",
       "    </tr>\n",
       "  </tbody>\n",
       "</table><p>"
      ],
      "text/plain": [
       "<IPython.core.display.HTML object>"
      ]
     },
     "metadata": {},
     "output_type": "display_data"
    },
    {
     "name": "stderr",
     "output_type": "stream",
     "text": [
      "[I 2025-03-30 13:11:22,817] Trial 21 pruned. \n"
     ]
    },
    {
     "name": "stdout",
     "output_type": "stream",
     "text": [
      "Trial 22 with params: {'learning_rate': 0.000447661846734586, 'weight_decay': 0.01, 'warmup_steps': 3, 'lambda_param': 0.8, 'temperature': 6.5}\n"
     ]
    },
    {
     "name": "stderr",
     "output_type": "stream",
     "text": [
      "Some weights of TimmWrapperForImageClassification were not initialized from the model checkpoint at timm/tiny_vit_5m_224.in1k and are newly initialized because the shapes did not match:\n",
      "- head.fc.bias: found shape torch.Size([1000]) in the checkpoint and torch.Size([10]) in the model instantiated\n",
      "- head.fc.weight: found shape torch.Size([1000, 320]) in the checkpoint and torch.Size([10, 320]) in the model instantiated\n",
      "You should probably TRAIN this model on a down-stream task to be able to use it for predictions and inference.\n"
     ]
    },
    {
     "data": {
      "text/html": [
       "\n",
       "    <div>\n",
       "      \n",
       "      <progress value='626' max='2191' style='width:300px; height:20px; vertical-align: middle;'></progress>\n",
       "      [ 626/2191 02:45 < 06:54, 3.77 it/s, Epoch 2/7]\n",
       "    </div>\n",
       "    <table border=\"1\" class=\"dataframe\">\n",
       "  <thead>\n",
       " <tr style=\"text-align: left;\">\n",
       "      <th>Epoch</th>\n",
       "      <th>Training Loss</th>\n",
       "      <th>Validation Loss</th>\n",
       "      <th>Accuracy</th>\n",
       "      <th>Precision</th>\n",
       "      <th>Recall</th>\n",
       "      <th>F1</th>\n",
       "    </tr>\n",
       "  </thead>\n",
       "  <tbody>\n",
       "    <tr>\n",
       "      <td>1</td>\n",
       "      <td>0.331800</td>\n",
       "      <td>0.263688</td>\n",
       "      <td>0.904800</td>\n",
       "      <td>0.911067</td>\n",
       "      <td>0.905185</td>\n",
       "      <td>0.905347</td>\n",
       "    </tr>\n",
       "    <tr>\n",
       "      <td>2</td>\n",
       "      <td>0.198200</td>\n",
       "      <td>0.206848</td>\n",
       "      <td>0.937600</td>\n",
       "      <td>0.938907</td>\n",
       "      <td>0.937881</td>\n",
       "      <td>0.937373</td>\n",
       "    </tr>\n",
       "  </tbody>\n",
       "</table><p>"
      ],
      "text/plain": [
       "<IPython.core.display.HTML object>"
      ]
     },
     "metadata": {},
     "output_type": "display_data"
    },
    {
     "name": "stderr",
     "output_type": "stream",
     "text": [
      "[I 2025-03-30 13:14:10,330] Trial 22 pruned. \n"
     ]
    },
    {
     "name": "stdout",
     "output_type": "stream",
     "text": [
      "Trial 23 with params: {'learning_rate': 0.00021374902549225927, 'weight_decay': 0.009000000000000001, 'warmup_steps': 0, 'lambda_param': 0.8, 'temperature': 5.5}\n"
     ]
    },
    {
     "name": "stderr",
     "output_type": "stream",
     "text": [
      "Some weights of TimmWrapperForImageClassification were not initialized from the model checkpoint at timm/tiny_vit_5m_224.in1k and are newly initialized because the shapes did not match:\n",
      "- head.fc.bias: found shape torch.Size([1000]) in the checkpoint and torch.Size([10]) in the model instantiated\n",
      "- head.fc.weight: found shape torch.Size([1000, 320]) in the checkpoint and torch.Size([10, 320]) in the model instantiated\n",
      "You should probably TRAIN this model on a down-stream task to be able to use it for predictions and inference.\n"
     ]
    },
    {
     "data": {
      "text/html": [
       "\n",
       "    <div>\n",
       "      \n",
       "      <progress value='1252' max='2191' style='width:300px; height:20px; vertical-align: middle;'></progress>\n",
       "      [1252/2191 05:31 < 04:08, 3.77 it/s, Epoch 4/7]\n",
       "    </div>\n",
       "    <table border=\"1\" class=\"dataframe\">\n",
       "  <thead>\n",
       " <tr style=\"text-align: left;\">\n",
       "      <th>Epoch</th>\n",
       "      <th>Training Loss</th>\n",
       "      <th>Validation Loss</th>\n",
       "      <th>Accuracy</th>\n",
       "      <th>Precision</th>\n",
       "      <th>Recall</th>\n",
       "      <th>F1</th>\n",
       "    </tr>\n",
       "  </thead>\n",
       "  <tbody>\n",
       "    <tr>\n",
       "      <td>1</td>\n",
       "      <td>0.294700</td>\n",
       "      <td>0.201968</td>\n",
       "      <td>0.939800</td>\n",
       "      <td>0.940956</td>\n",
       "      <td>0.940067</td>\n",
       "      <td>0.939830</td>\n",
       "    </tr>\n",
       "    <tr>\n",
       "      <td>2</td>\n",
       "      <td>0.163300</td>\n",
       "      <td>0.199826</td>\n",
       "      <td>0.942300</td>\n",
       "      <td>0.944919</td>\n",
       "      <td>0.942361</td>\n",
       "      <td>0.942396</td>\n",
       "    </tr>\n",
       "    <tr>\n",
       "      <td>3</td>\n",
       "      <td>0.138900</td>\n",
       "      <td>0.164633</td>\n",
       "      <td>0.959800</td>\n",
       "      <td>0.960032</td>\n",
       "      <td>0.959995</td>\n",
       "      <td>0.959907</td>\n",
       "    </tr>\n",
       "    <tr>\n",
       "      <td>4</td>\n",
       "      <td>0.124800</td>\n",
       "      <td>0.154837</td>\n",
       "      <td>0.965500</td>\n",
       "      <td>0.965790</td>\n",
       "      <td>0.965615</td>\n",
       "      <td>0.965645</td>\n",
       "    </tr>\n",
       "  </tbody>\n",
       "</table><p>"
      ],
      "text/plain": [
       "<IPython.core.display.HTML object>"
      ]
     },
     "metadata": {},
     "output_type": "display_data"
    },
    {
     "name": "stderr",
     "output_type": "stream",
     "text": [
      "[I 2025-03-30 13:19:43,668] Trial 23 pruned. \n"
     ]
    },
    {
     "name": "stdout",
     "output_type": "stream",
     "text": [
      "Trial 24 with params: {'learning_rate': 0.00010112961434437739, 'weight_decay': 0.01, 'warmup_steps': 1, 'lambda_param': 0.6000000000000001, 'temperature': 7.0}\n"
     ]
    },
    {
     "name": "stderr",
     "output_type": "stream",
     "text": [
      "Some weights of TimmWrapperForImageClassification were not initialized from the model checkpoint at timm/tiny_vit_5m_224.in1k and are newly initialized because the shapes did not match:\n",
      "- head.fc.bias: found shape torch.Size([1000]) in the checkpoint and torch.Size([10]) in the model instantiated\n",
      "- head.fc.weight: found shape torch.Size([1000, 320]) in the checkpoint and torch.Size([10, 320]) in the model instantiated\n",
      "You should probably TRAIN this model on a down-stream task to be able to use it for predictions and inference.\n"
     ]
    },
    {
     "data": {
      "text/html": [
       "\n",
       "    <div>\n",
       "      \n",
       "      <progress value='2191' max='2191' style='width:300px; height:20px; vertical-align: middle;'></progress>\n",
       "      [2191/2191 09:44, Epoch 7/7]\n",
       "    </div>\n",
       "    <table border=\"1\" class=\"dataframe\">\n",
       "  <thead>\n",
       " <tr style=\"text-align: left;\">\n",
       "      <th>Epoch</th>\n",
       "      <th>Training Loss</th>\n",
       "      <th>Validation Loss</th>\n",
       "      <th>Accuracy</th>\n",
       "      <th>Precision</th>\n",
       "      <th>Recall</th>\n",
       "      <th>F1</th>\n",
       "    </tr>\n",
       "  </thead>\n",
       "  <tbody>\n",
       "    <tr>\n",
       "      <td>1</td>\n",
       "      <td>0.329000</td>\n",
       "      <td>0.191202</td>\n",
       "      <td>0.943500</td>\n",
       "      <td>0.947631</td>\n",
       "      <td>0.943739</td>\n",
       "      <td>0.944010</td>\n",
       "    </tr>\n",
       "    <tr>\n",
       "      <td>2</td>\n",
       "      <td>0.148800</td>\n",
       "      <td>0.161645</td>\n",
       "      <td>0.962100</td>\n",
       "      <td>0.962700</td>\n",
       "      <td>0.962152</td>\n",
       "      <td>0.962303</td>\n",
       "    </tr>\n",
       "    <tr>\n",
       "      <td>3</td>\n",
       "      <td>0.128000</td>\n",
       "      <td>0.151421</td>\n",
       "      <td>0.967900</td>\n",
       "      <td>0.968116</td>\n",
       "      <td>0.968094</td>\n",
       "      <td>0.968043</td>\n",
       "    </tr>\n",
       "    <tr>\n",
       "      <td>4</td>\n",
       "      <td>0.119000</td>\n",
       "      <td>0.146577</td>\n",
       "      <td>0.969400</td>\n",
       "      <td>0.969643</td>\n",
       "      <td>0.969561</td>\n",
       "      <td>0.969585</td>\n",
       "    </tr>\n",
       "    <tr>\n",
       "      <td>5</td>\n",
       "      <td>0.113700</td>\n",
       "      <td>0.143095</td>\n",
       "      <td>0.971400</td>\n",
       "      <td>0.971875</td>\n",
       "      <td>0.971561</td>\n",
       "      <td>0.971589</td>\n",
       "    </tr>\n",
       "    <tr>\n",
       "      <td>6</td>\n",
       "      <td>0.111300</td>\n",
       "      <td>0.140731</td>\n",
       "      <td>0.972200</td>\n",
       "      <td>0.972464</td>\n",
       "      <td>0.972380</td>\n",
       "      <td>0.972352</td>\n",
       "    </tr>\n",
       "    <tr>\n",
       "      <td>7</td>\n",
       "      <td>0.110000</td>\n",
       "      <td>0.139209</td>\n",
       "      <td>0.972900</td>\n",
       "      <td>0.973160</td>\n",
       "      <td>0.973053</td>\n",
       "      <td>0.973055</td>\n",
       "    </tr>\n",
       "  </tbody>\n",
       "</table><p>"
      ],
      "text/plain": [
       "<IPython.core.display.HTML object>"
      ]
     },
     "metadata": {},
     "output_type": "display_data"
    },
    {
     "name": "stderr",
     "output_type": "stream",
     "text": [
      "[I 2025-03-30 13:29:31,227] Trial 24 finished with value: 0.9730549110777786 and parameters: {'learning_rate': 0.00010112961434437739, 'weight_decay': 0.01, 'warmup_steps': 1, 'lambda_param': 0.6000000000000001, 'temperature': 7.0}. Best is trial 18 with value: 0.9753260189154085.\n"
     ]
    },
    {
     "name": "stdout",
     "output_type": "stream",
     "text": [
      "Trial 25 with params: {'learning_rate': 5.761199644855385e-05, 'weight_decay': 0.008, 'warmup_steps': 0, 'lambda_param': 1.0, 'temperature': 6.0}\n"
     ]
    },
    {
     "name": "stderr",
     "output_type": "stream",
     "text": [
      "Some weights of TimmWrapperForImageClassification were not initialized from the model checkpoint at timm/tiny_vit_5m_224.in1k and are newly initialized because the shapes did not match:\n",
      "- head.fc.bias: found shape torch.Size([1000]) in the checkpoint and torch.Size([10]) in the model instantiated\n",
      "- head.fc.weight: found shape torch.Size([1000, 320]) in the checkpoint and torch.Size([10, 320]) in the model instantiated\n",
      "You should probably TRAIN this model on a down-stream task to be able to use it for predictions and inference.\n"
     ]
    },
    {
     "data": {
      "text/html": [
       "\n",
       "    <div>\n",
       "      \n",
       "      <progress value='2191' max='2191' style='width:300px; height:20px; vertical-align: middle;'></progress>\n",
       "      [2191/2191 10:56, Epoch 7/7]\n",
       "    </div>\n",
       "    <table border=\"1\" class=\"dataframe\">\n",
       "  <thead>\n",
       " <tr style=\"text-align: left;\">\n",
       "      <th>Epoch</th>\n",
       "      <th>Training Loss</th>\n",
       "      <th>Validation Loss</th>\n",
       "      <th>Accuracy</th>\n",
       "      <th>Precision</th>\n",
       "      <th>Recall</th>\n",
       "      <th>F1</th>\n",
       "    </tr>\n",
       "  </thead>\n",
       "  <tbody>\n",
       "    <tr>\n",
       "      <td>1</td>\n",
       "      <td>0.375800</td>\n",
       "      <td>0.187012</td>\n",
       "      <td>0.950300</td>\n",
       "      <td>0.952849</td>\n",
       "      <td>0.950466</td>\n",
       "      <td>0.950698</td>\n",
       "    </tr>\n",
       "    <tr>\n",
       "      <td>2</td>\n",
       "      <td>0.150800</td>\n",
       "      <td>0.165607</td>\n",
       "      <td>0.961200</td>\n",
       "      <td>0.961632</td>\n",
       "      <td>0.961375</td>\n",
       "      <td>0.961348</td>\n",
       "    </tr>\n",
       "    <tr>\n",
       "      <td>3</td>\n",
       "      <td>0.128700</td>\n",
       "      <td>0.153790</td>\n",
       "      <td>0.966500</td>\n",
       "      <td>0.966663</td>\n",
       "      <td>0.966723</td>\n",
       "      <td>0.966619</td>\n",
       "    </tr>\n",
       "    <tr>\n",
       "      <td>4</td>\n",
       "      <td>0.118200</td>\n",
       "      <td>0.149640</td>\n",
       "      <td>0.968900</td>\n",
       "      <td>0.969185</td>\n",
       "      <td>0.969021</td>\n",
       "      <td>0.969076</td>\n",
       "    </tr>\n",
       "    <tr>\n",
       "      <td>5</td>\n",
       "      <td>0.114100</td>\n",
       "      <td>0.146575</td>\n",
       "      <td>0.970300</td>\n",
       "      <td>0.970540</td>\n",
       "      <td>0.970471</td>\n",
       "      <td>0.970446</td>\n",
       "    </tr>\n",
       "    <tr>\n",
       "      <td>6</td>\n",
       "      <td>0.111700</td>\n",
       "      <td>0.145736</td>\n",
       "      <td>0.969900</td>\n",
       "      <td>0.970295</td>\n",
       "      <td>0.970051</td>\n",
       "      <td>0.970093</td>\n",
       "    </tr>\n",
       "    <tr>\n",
       "      <td>7</td>\n",
       "      <td>0.110100</td>\n",
       "      <td>0.145006</td>\n",
       "      <td>0.969600</td>\n",
       "      <td>0.969843</td>\n",
       "      <td>0.969783</td>\n",
       "      <td>0.969744</td>\n",
       "    </tr>\n",
       "  </tbody>\n",
       "</table><p>"
      ],
      "text/plain": [
       "<IPython.core.display.HTML object>"
      ]
     },
     "metadata": {},
     "output_type": "display_data"
    },
    {
     "name": "stderr",
     "output_type": "stream",
     "text": [
      "[I 2025-03-30 13:40:30,487] Trial 25 finished with value: 0.9697437502776565 and parameters: {'learning_rate': 5.761199644855385e-05, 'weight_decay': 0.008, 'warmup_steps': 0, 'lambda_param': 1.0, 'temperature': 6.0}. Best is trial 18 with value: 0.9753260189154085.\n"
     ]
    },
    {
     "name": "stdout",
     "output_type": "stream",
     "text": [
      "Trial 26 with params: {'learning_rate': 0.00036673897334545683, 'weight_decay': 0.003, 'warmup_steps': 0, 'lambda_param': 0.0, 'temperature': 2.0}\n"
     ]
    },
    {
     "name": "stderr",
     "output_type": "stream",
     "text": [
      "Some weights of TimmWrapperForImageClassification were not initialized from the model checkpoint at timm/tiny_vit_5m_224.in1k and are newly initialized because the shapes did not match:\n",
      "- head.fc.bias: found shape torch.Size([1000]) in the checkpoint and torch.Size([10]) in the model instantiated\n",
      "- head.fc.weight: found shape torch.Size([1000, 320]) in the checkpoint and torch.Size([10, 320]) in the model instantiated\n",
      "You should probably TRAIN this model on a down-stream task to be able to use it for predictions and inference.\n"
     ]
    },
    {
     "data": {
      "text/html": [
       "\n",
       "    <div>\n",
       "      \n",
       "      <progress value='626' max='2191' style='width:300px; height:20px; vertical-align: middle;'></progress>\n",
       "      [ 626/2191 02:53 < 07:15, 3.60 it/s, Epoch 2/7]\n",
       "    </div>\n",
       "    <table border=\"1\" class=\"dataframe\">\n",
       "  <thead>\n",
       " <tr style=\"text-align: left;\">\n",
       "      <th>Epoch</th>\n",
       "      <th>Training Loss</th>\n",
       "      <th>Validation Loss</th>\n",
       "      <th>Accuracy</th>\n",
       "      <th>Precision</th>\n",
       "      <th>Recall</th>\n",
       "      <th>F1</th>\n",
       "    </tr>\n",
       "  </thead>\n",
       "  <tbody>\n",
       "    <tr>\n",
       "      <td>1</td>\n",
       "      <td>0.317900</td>\n",
       "      <td>0.240005</td>\n",
       "      <td>0.917800</td>\n",
       "      <td>0.921600</td>\n",
       "      <td>0.918230</td>\n",
       "      <td>0.918004</td>\n",
       "    </tr>\n",
       "    <tr>\n",
       "      <td>2</td>\n",
       "      <td>0.185700</td>\n",
       "      <td>0.214993</td>\n",
       "      <td>0.934700</td>\n",
       "      <td>0.938431</td>\n",
       "      <td>0.934802</td>\n",
       "      <td>0.935628</td>\n",
       "    </tr>\n",
       "  </tbody>\n",
       "</table><p>"
      ],
      "text/plain": [
       "<IPython.core.display.HTML object>"
      ]
     },
     "metadata": {},
     "output_type": "display_data"
    },
    {
     "name": "stderr",
     "output_type": "stream",
     "text": [
      "[I 2025-03-30 13:43:25,861] Trial 26 pruned. \n"
     ]
    },
    {
     "name": "stdout",
     "output_type": "stream",
     "text": [
      "Trial 27 with params: {'learning_rate': 0.00018775431018063502, 'weight_decay': 0.01, 'warmup_steps': 3, 'lambda_param': 0.9, 'temperature': 4.0}\n"
     ]
    },
    {
     "name": "stderr",
     "output_type": "stream",
     "text": [
      "Some weights of TimmWrapperForImageClassification were not initialized from the model checkpoint at timm/tiny_vit_5m_224.in1k and are newly initialized because the shapes did not match:\n",
      "- head.fc.bias: found shape torch.Size([1000]) in the checkpoint and torch.Size([10]) in the model instantiated\n",
      "- head.fc.weight: found shape torch.Size([1000, 320]) in the checkpoint and torch.Size([10, 320]) in the model instantiated\n",
      "You should probably TRAIN this model on a down-stream task to be able to use it for predictions and inference.\n"
     ]
    },
    {
     "data": {
      "text/html": [
       "\n",
       "    <div>\n",
       "      \n",
       "      <progress value='1252' max='2191' style='width:300px; height:20px; vertical-align: middle;'></progress>\n",
       "      [1252/2191 05:32 < 04:09, 3.76 it/s, Epoch 4/7]\n",
       "    </div>\n",
       "    <table border=\"1\" class=\"dataframe\">\n",
       "  <thead>\n",
       " <tr style=\"text-align: left;\">\n",
       "      <th>Epoch</th>\n",
       "      <th>Training Loss</th>\n",
       "      <th>Validation Loss</th>\n",
       "      <th>Accuracy</th>\n",
       "      <th>Precision</th>\n",
       "      <th>Recall</th>\n",
       "      <th>F1</th>\n",
       "    </tr>\n",
       "  </thead>\n",
       "  <tbody>\n",
       "    <tr>\n",
       "      <td>1</td>\n",
       "      <td>0.305800</td>\n",
       "      <td>0.195814</td>\n",
       "      <td>0.940900</td>\n",
       "      <td>0.942722</td>\n",
       "      <td>0.941248</td>\n",
       "      <td>0.941142</td>\n",
       "    </tr>\n",
       "    <tr>\n",
       "      <td>2</td>\n",
       "      <td>0.159000</td>\n",
       "      <td>0.174802</td>\n",
       "      <td>0.955100</td>\n",
       "      <td>0.956941</td>\n",
       "      <td>0.955129</td>\n",
       "      <td>0.955450</td>\n",
       "    </tr>\n",
       "    <tr>\n",
       "      <td>3</td>\n",
       "      <td>0.134600</td>\n",
       "      <td>0.155827</td>\n",
       "      <td>0.967400</td>\n",
       "      <td>0.968050</td>\n",
       "      <td>0.967475</td>\n",
       "      <td>0.967624</td>\n",
       "    </tr>\n",
       "    <tr>\n",
       "      <td>4</td>\n",
       "      <td>0.123300</td>\n",
       "      <td>0.154901</td>\n",
       "      <td>0.966600</td>\n",
       "      <td>0.967310</td>\n",
       "      <td>0.966704</td>\n",
       "      <td>0.966801</td>\n",
       "    </tr>\n",
       "  </tbody>\n",
       "</table><p>"
      ],
      "text/plain": [
       "<IPython.core.display.HTML object>"
      ]
     },
     "metadata": {},
     "output_type": "display_data"
    },
    {
     "name": "stderr",
     "output_type": "stream",
     "text": [
      "[I 2025-03-30 13:49:00,336] Trial 27 pruned. \n"
     ]
    },
    {
     "name": "stdout",
     "output_type": "stream",
     "text": [
      "Trial 28 with params: {'learning_rate': 8.56035984463901e-05, 'weight_decay': 0.01, 'warmup_steps': 10, 'lambda_param': 1.0, 'temperature': 4.5}\n"
     ]
    },
    {
     "name": "stderr",
     "output_type": "stream",
     "text": [
      "Some weights of TimmWrapperForImageClassification were not initialized from the model checkpoint at timm/tiny_vit_5m_224.in1k and are newly initialized because the shapes did not match:\n",
      "- head.fc.bias: found shape torch.Size([1000]) in the checkpoint and torch.Size([10]) in the model instantiated\n",
      "- head.fc.weight: found shape torch.Size([1000, 320]) in the checkpoint and torch.Size([10, 320]) in the model instantiated\n",
      "You should probably TRAIN this model on a down-stream task to be able to use it for predictions and inference.\n"
     ]
    },
    {
     "data": {
      "text/html": [
       "\n",
       "    <div>\n",
       "      \n",
       "      <progress value='2191' max='2191' style='width:300px; height:20px; vertical-align: middle;'></progress>\n",
       "      [2191/2191 09:55, Epoch 7/7]\n",
       "    </div>\n",
       "    <table border=\"1\" class=\"dataframe\">\n",
       "  <thead>\n",
       " <tr style=\"text-align: left;\">\n",
       "      <th>Epoch</th>\n",
       "      <th>Training Loss</th>\n",
       "      <th>Validation Loss</th>\n",
       "      <th>Accuracy</th>\n",
       "      <th>Precision</th>\n",
       "      <th>Recall</th>\n",
       "      <th>F1</th>\n",
       "    </tr>\n",
       "  </thead>\n",
       "  <tbody>\n",
       "    <tr>\n",
       "      <td>1</td>\n",
       "      <td>0.358400</td>\n",
       "      <td>0.180193</td>\n",
       "      <td>0.952400</td>\n",
       "      <td>0.954260</td>\n",
       "      <td>0.952565</td>\n",
       "      <td>0.952763</td>\n",
       "    </tr>\n",
       "    <tr>\n",
       "      <td>2</td>\n",
       "      <td>0.149000</td>\n",
       "      <td>0.165996</td>\n",
       "      <td>0.961600</td>\n",
       "      <td>0.962190</td>\n",
       "      <td>0.961725</td>\n",
       "      <td>0.961786</td>\n",
       "    </tr>\n",
       "    <tr>\n",
       "      <td>3</td>\n",
       "      <td>0.128100</td>\n",
       "      <td>0.153238</td>\n",
       "      <td>0.965900</td>\n",
       "      <td>0.966555</td>\n",
       "      <td>0.966046</td>\n",
       "      <td>0.966109</td>\n",
       "    </tr>\n",
       "    <tr>\n",
       "      <td>4</td>\n",
       "      <td>0.118100</td>\n",
       "      <td>0.148077</td>\n",
       "      <td>0.969200</td>\n",
       "      <td>0.969227</td>\n",
       "      <td>0.969410</td>\n",
       "      <td>0.969295</td>\n",
       "    </tr>\n",
       "    <tr>\n",
       "      <td>5</td>\n",
       "      <td>0.113800</td>\n",
       "      <td>0.144236</td>\n",
       "      <td>0.972200</td>\n",
       "      <td>0.972728</td>\n",
       "      <td>0.972341</td>\n",
       "      <td>0.972393</td>\n",
       "    </tr>\n",
       "    <tr>\n",
       "      <td>6</td>\n",
       "      <td>0.111500</td>\n",
       "      <td>0.142334</td>\n",
       "      <td>0.972200</td>\n",
       "      <td>0.972410</td>\n",
       "      <td>0.972326</td>\n",
       "      <td>0.972336</td>\n",
       "    </tr>\n",
       "    <tr>\n",
       "      <td>7</td>\n",
       "      <td>0.110000</td>\n",
       "      <td>0.141330</td>\n",
       "      <td>0.973100</td>\n",
       "      <td>0.973294</td>\n",
       "      <td>0.973241</td>\n",
       "      <td>0.973229</td>\n",
       "    </tr>\n",
       "  </tbody>\n",
       "</table><p>"
      ],
      "text/plain": [
       "<IPython.core.display.HTML object>"
      ]
     },
     "metadata": {},
     "output_type": "display_data"
    },
    {
     "name": "stderr",
     "output_type": "stream",
     "text": [
      "[I 2025-03-30 13:58:58,507] Trial 28 finished with value: 0.973229236328114 and parameters: {'learning_rate': 8.56035984463901e-05, 'weight_decay': 0.01, 'warmup_steps': 10, 'lambda_param': 1.0, 'temperature': 4.5}. Best is trial 18 with value: 0.9753260189154085.\n"
     ]
    },
    {
     "name": "stdout",
     "output_type": "stream",
     "text": [
      "Trial 29 with params: {'learning_rate': 0.0011267334199977662, 'weight_decay': 0.007, 'warmup_steps': 0, 'lambda_param': 1.0, 'temperature': 2.0}\n"
     ]
    },
    {
     "name": "stderr",
     "output_type": "stream",
     "text": [
      "Some weights of TimmWrapperForImageClassification were not initialized from the model checkpoint at timm/tiny_vit_5m_224.in1k and are newly initialized because the shapes did not match:\n",
      "- head.fc.bias: found shape torch.Size([1000]) in the checkpoint and torch.Size([10]) in the model instantiated\n",
      "- head.fc.weight: found shape torch.Size([1000, 320]) in the checkpoint and torch.Size([10, 320]) in the model instantiated\n",
      "You should probably TRAIN this model on a down-stream task to be able to use it for predictions and inference.\n"
     ]
    },
    {
     "data": {
      "text/html": [
       "\n",
       "    <div>\n",
       "      \n",
       "      <progress value='626' max='2191' style='width:300px; height:20px; vertical-align: middle;'></progress>\n",
       "      [ 626/2191 02:47 < 06:59, 3.73 it/s, Epoch 2/7]\n",
       "    </div>\n",
       "    <table border=\"1\" class=\"dataframe\">\n",
       "  <thead>\n",
       " <tr style=\"text-align: left;\">\n",
       "      <th>Epoch</th>\n",
       "      <th>Training Loss</th>\n",
       "      <th>Validation Loss</th>\n",
       "      <th>Accuracy</th>\n",
       "      <th>Precision</th>\n",
       "      <th>Recall</th>\n",
       "      <th>F1</th>\n",
       "    </tr>\n",
       "  </thead>\n",
       "  <tbody>\n",
       "    <tr>\n",
       "      <td>1</td>\n",
       "      <td>0.507900</td>\n",
       "      <td>0.514883</td>\n",
       "      <td>0.784300</td>\n",
       "      <td>0.811899</td>\n",
       "      <td>0.785394</td>\n",
       "      <td>0.777068</td>\n",
       "    </tr>\n",
       "    <tr>\n",
       "      <td>2</td>\n",
       "      <td>0.327300</td>\n",
       "      <td>0.323090</td>\n",
       "      <td>0.876200</td>\n",
       "      <td>0.882995</td>\n",
       "      <td>0.876168</td>\n",
       "      <td>0.875305</td>\n",
       "    </tr>\n",
       "  </tbody>\n",
       "</table><p>"
      ],
      "text/plain": [
       "<IPython.core.display.HTML object>"
      ]
     },
     "metadata": {},
     "output_type": "display_data"
    },
    {
     "name": "stderr",
     "output_type": "stream",
     "text": [
      "[I 2025-03-30 14:01:47,885] Trial 29 pruned. \n"
     ]
    },
    {
     "name": "stdout",
     "output_type": "stream",
     "text": [
      "Trial 30 with params: {'learning_rate': 7.710729969126271e-05, 'weight_decay': 0.005, 'warmup_steps': 10, 'lambda_param': 0.2, 'temperature': 6.5}\n"
     ]
    },
    {
     "name": "stderr",
     "output_type": "stream",
     "text": [
      "Some weights of TimmWrapperForImageClassification were not initialized from the model checkpoint at timm/tiny_vit_5m_224.in1k and are newly initialized because the shapes did not match:\n",
      "- head.fc.bias: found shape torch.Size([1000]) in the checkpoint and torch.Size([10]) in the model instantiated\n",
      "- head.fc.weight: found shape torch.Size([1000, 320]) in the checkpoint and torch.Size([10, 320]) in the model instantiated\n",
      "You should probably TRAIN this model on a down-stream task to be able to use it for predictions and inference.\n"
     ]
    },
    {
     "data": {
      "text/html": [
       "\n",
       "    <div>\n",
       "      \n",
       "      <progress value='1252' max='2191' style='width:300px; height:20px; vertical-align: middle;'></progress>\n",
       "      [1252/2191 05:33 < 04:10, 3.75 it/s, Epoch 4/7]\n",
       "    </div>\n",
       "    <table border=\"1\" class=\"dataframe\">\n",
       "  <thead>\n",
       " <tr style=\"text-align: left;\">\n",
       "      <th>Epoch</th>\n",
       "      <th>Training Loss</th>\n",
       "      <th>Validation Loss</th>\n",
       "      <th>Accuracy</th>\n",
       "      <th>Precision</th>\n",
       "      <th>Recall</th>\n",
       "      <th>F1</th>\n",
       "    </tr>\n",
       "  </thead>\n",
       "  <tbody>\n",
       "    <tr>\n",
       "      <td>1</td>\n",
       "      <td>0.365800</td>\n",
       "      <td>0.180483</td>\n",
       "      <td>0.951700</td>\n",
       "      <td>0.953385</td>\n",
       "      <td>0.951963</td>\n",
       "      <td>0.952003</td>\n",
       "    </tr>\n",
       "    <tr>\n",
       "      <td>2</td>\n",
       "      <td>0.149100</td>\n",
       "      <td>0.165527</td>\n",
       "      <td>0.959400</td>\n",
       "      <td>0.959920</td>\n",
       "      <td>0.959553</td>\n",
       "      <td>0.959600</td>\n",
       "    </tr>\n",
       "    <tr>\n",
       "      <td>3</td>\n",
       "      <td>0.128500</td>\n",
       "      <td>0.154159</td>\n",
       "      <td>0.966700</td>\n",
       "      <td>0.967205</td>\n",
       "      <td>0.966882</td>\n",
       "      <td>0.966880</td>\n",
       "    </tr>\n",
       "    <tr>\n",
       "      <td>4</td>\n",
       "      <td>0.118500</td>\n",
       "      <td>0.149366</td>\n",
       "      <td>0.967800</td>\n",
       "      <td>0.967978</td>\n",
       "      <td>0.968021</td>\n",
       "      <td>0.967925</td>\n",
       "    </tr>\n",
       "  </tbody>\n",
       "</table><p>"
      ],
      "text/plain": [
       "<IPython.core.display.HTML object>"
      ]
     },
     "metadata": {},
     "output_type": "display_data"
    },
    {
     "name": "stderr",
     "output_type": "stream",
     "text": [
      "[I 2025-03-30 14:07:23,336] Trial 30 pruned. \n"
     ]
    },
    {
     "name": "stdout",
     "output_type": "stream",
     "text": [
      "Trial 31 with params: {'learning_rate': 0.00016724791613560432, 'weight_decay': 0.01, 'warmup_steps': 19, 'lambda_param': 0.9, 'temperature': 4.0}\n"
     ]
    },
    {
     "name": "stderr",
     "output_type": "stream",
     "text": [
      "Some weights of TimmWrapperForImageClassification were not initialized from the model checkpoint at timm/tiny_vit_5m_224.in1k and are newly initialized because the shapes did not match:\n",
      "- head.fc.bias: found shape torch.Size([1000]) in the checkpoint and torch.Size([10]) in the model instantiated\n",
      "- head.fc.weight: found shape torch.Size([1000, 320]) in the checkpoint and torch.Size([10, 320]) in the model instantiated\n",
      "You should probably TRAIN this model on a down-stream task to be able to use it for predictions and inference.\n"
     ]
    },
    {
     "data": {
      "text/html": [
       "\n",
       "    <div>\n",
       "      \n",
       "      <progress value='2191' max='2191' style='width:300px; height:20px; vertical-align: middle;'></progress>\n",
       "      [2191/2191 09:45, Epoch 7/7]\n",
       "    </div>\n",
       "    <table border=\"1\" class=\"dataframe\">\n",
       "  <thead>\n",
       " <tr style=\"text-align: left;\">\n",
       "      <th>Epoch</th>\n",
       "      <th>Training Loss</th>\n",
       "      <th>Validation Loss</th>\n",
       "      <th>Accuracy</th>\n",
       "      <th>Precision</th>\n",
       "      <th>Recall</th>\n",
       "      <th>F1</th>\n",
       "    </tr>\n",
       "  </thead>\n",
       "  <tbody>\n",
       "    <tr>\n",
       "      <td>1</td>\n",
       "      <td>0.346000</td>\n",
       "      <td>0.222287</td>\n",
       "      <td>0.927300</td>\n",
       "      <td>0.932231</td>\n",
       "      <td>0.927743</td>\n",
       "      <td>0.927487</td>\n",
       "    </tr>\n",
       "    <tr>\n",
       "      <td>2</td>\n",
       "      <td>0.157700</td>\n",
       "      <td>0.169437</td>\n",
       "      <td>0.956800</td>\n",
       "      <td>0.957385</td>\n",
       "      <td>0.957051</td>\n",
       "      <td>0.956957</td>\n",
       "    </tr>\n",
       "    <tr>\n",
       "      <td>3</td>\n",
       "      <td>0.134800</td>\n",
       "      <td>0.157775</td>\n",
       "      <td>0.966000</td>\n",
       "      <td>0.966836</td>\n",
       "      <td>0.966162</td>\n",
       "      <td>0.966215</td>\n",
       "    </tr>\n",
       "    <tr>\n",
       "      <td>4</td>\n",
       "      <td>0.122200</td>\n",
       "      <td>0.149021</td>\n",
       "      <td>0.968400</td>\n",
       "      <td>0.968565</td>\n",
       "      <td>0.968569</td>\n",
       "      <td>0.968536</td>\n",
       "    </tr>\n",
       "    <tr>\n",
       "      <td>5</td>\n",
       "      <td>0.115700</td>\n",
       "      <td>0.142947</td>\n",
       "      <td>0.973000</td>\n",
       "      <td>0.973158</td>\n",
       "      <td>0.973080</td>\n",
       "      <td>0.973097</td>\n",
       "    </tr>\n",
       "    <tr>\n",
       "      <td>6</td>\n",
       "      <td>0.112300</td>\n",
       "      <td>0.139199</td>\n",
       "      <td>0.974500</td>\n",
       "      <td>0.974715</td>\n",
       "      <td>0.974596</td>\n",
       "      <td>0.974620</td>\n",
       "    </tr>\n",
       "    <tr>\n",
       "      <td>7</td>\n",
       "      <td>0.110600</td>\n",
       "      <td>0.137768</td>\n",
       "      <td>0.974900</td>\n",
       "      <td>0.975069</td>\n",
       "      <td>0.975014</td>\n",
       "      <td>0.975020</td>\n",
       "    </tr>\n",
       "  </tbody>\n",
       "</table><p>"
      ],
      "text/plain": [
       "<IPython.core.display.HTML object>"
      ]
     },
     "metadata": {},
     "output_type": "display_data"
    },
    {
     "name": "stderr",
     "output_type": "stream",
     "text": [
      "[I 2025-03-30 14:17:11,728] Trial 31 finished with value: 0.9750200670357133 and parameters: {'learning_rate': 0.00016724791613560432, 'weight_decay': 0.01, 'warmup_steps': 19, 'lambda_param': 0.9, 'temperature': 4.0}. Best is trial 18 with value: 0.9753260189154085.\n"
     ]
    },
    {
     "name": "stdout",
     "output_type": "stream",
     "text": [
      "Trial 32 with params: {'learning_rate': 0.00013553561983282748, 'weight_decay': 0.01, 'warmup_steps': 24, 'lambda_param': 1.0, 'temperature': 3.0}\n"
     ]
    },
    {
     "name": "stderr",
     "output_type": "stream",
     "text": [
      "Some weights of TimmWrapperForImageClassification were not initialized from the model checkpoint at timm/tiny_vit_5m_224.in1k and are newly initialized because the shapes did not match:\n",
      "- head.fc.bias: found shape torch.Size([1000]) in the checkpoint and torch.Size([10]) in the model instantiated\n",
      "- head.fc.weight: found shape torch.Size([1000, 320]) in the checkpoint and torch.Size([10, 320]) in the model instantiated\n",
      "You should probably TRAIN this model on a down-stream task to be able to use it for predictions and inference.\n"
     ]
    },
    {
     "data": {
      "text/html": [
       "\n",
       "    <div>\n",
       "      \n",
       "      <progress value='2191' max='2191' style='width:300px; height:20px; vertical-align: middle;'></progress>\n",
       "      [2191/2191 09:51, Epoch 7/7]\n",
       "    </div>\n",
       "    <table border=\"1\" class=\"dataframe\">\n",
       "  <thead>\n",
       " <tr style=\"text-align: left;\">\n",
       "      <th>Epoch</th>\n",
       "      <th>Training Loss</th>\n",
       "      <th>Validation Loss</th>\n",
       "      <th>Accuracy</th>\n",
       "      <th>Precision</th>\n",
       "      <th>Recall</th>\n",
       "      <th>F1</th>\n",
       "    </tr>\n",
       "  </thead>\n",
       "  <tbody>\n",
       "    <tr>\n",
       "      <td>1</td>\n",
       "      <td>0.357200</td>\n",
       "      <td>0.190811</td>\n",
       "      <td>0.942800</td>\n",
       "      <td>0.947579</td>\n",
       "      <td>0.942932</td>\n",
       "      <td>0.943662</td>\n",
       "    </tr>\n",
       "    <tr>\n",
       "      <td>2</td>\n",
       "      <td>0.153800</td>\n",
       "      <td>0.175379</td>\n",
       "      <td>0.955200</td>\n",
       "      <td>0.956275</td>\n",
       "      <td>0.955348</td>\n",
       "      <td>0.955361</td>\n",
       "    </tr>\n",
       "    <tr>\n",
       "      <td>3</td>\n",
       "      <td>0.132900</td>\n",
       "      <td>0.154949</td>\n",
       "      <td>0.964400</td>\n",
       "      <td>0.966042</td>\n",
       "      <td>0.964504</td>\n",
       "      <td>0.964658</td>\n",
       "    </tr>\n",
       "    <tr>\n",
       "      <td>4</td>\n",
       "      <td>0.121000</td>\n",
       "      <td>0.149860</td>\n",
       "      <td>0.968100</td>\n",
       "      <td>0.968513</td>\n",
       "      <td>0.968241</td>\n",
       "      <td>0.968267</td>\n",
       "    </tr>\n",
       "    <tr>\n",
       "      <td>5</td>\n",
       "      <td>0.114800</td>\n",
       "      <td>0.141530</td>\n",
       "      <td>0.972800</td>\n",
       "      <td>0.973431</td>\n",
       "      <td>0.972914</td>\n",
       "      <td>0.972980</td>\n",
       "    </tr>\n",
       "    <tr>\n",
       "      <td>6</td>\n",
       "      <td>0.111800</td>\n",
       "      <td>0.137841</td>\n",
       "      <td>0.976300</td>\n",
       "      <td>0.976481</td>\n",
       "      <td>0.976422</td>\n",
       "      <td>0.976408</td>\n",
       "    </tr>\n",
       "    <tr>\n",
       "      <td>7</td>\n",
       "      <td>0.110200</td>\n",
       "      <td>0.136758</td>\n",
       "      <td>0.976300</td>\n",
       "      <td>0.976497</td>\n",
       "      <td>0.976441</td>\n",
       "      <td>0.976412</td>\n",
       "    </tr>\n",
       "  </tbody>\n",
       "</table><p>"
      ],
      "text/plain": [
       "<IPython.core.display.HTML object>"
      ]
     },
     "metadata": {},
     "output_type": "display_data"
    },
    {
     "name": "stderr",
     "output_type": "stream",
     "text": [
      "[I 2025-03-30 14:27:05,829] Trial 32 finished with value: 0.9764120594095738 and parameters: {'learning_rate': 0.00013553561983282748, 'weight_decay': 0.01, 'warmup_steps': 24, 'lambda_param': 1.0, 'temperature': 3.0}. Best is trial 32 with value: 0.9764120594095738.\n"
     ]
    },
    {
     "name": "stdout",
     "output_type": "stream",
     "text": [
      "Trial 33 with params: {'learning_rate': 9.798842916219257e-05, 'weight_decay': 0.01, 'warmup_steps': 27, 'lambda_param': 0.8, 'temperature': 4.0}\n"
     ]
    },
    {
     "name": "stderr",
     "output_type": "stream",
     "text": [
      "Some weights of TimmWrapperForImageClassification were not initialized from the model checkpoint at timm/tiny_vit_5m_224.in1k and are newly initialized because the shapes did not match:\n",
      "- head.fc.bias: found shape torch.Size([1000]) in the checkpoint and torch.Size([10]) in the model instantiated\n",
      "- head.fc.weight: found shape torch.Size([1000, 320]) in the checkpoint and torch.Size([10, 320]) in the model instantiated\n",
      "You should probably TRAIN this model on a down-stream task to be able to use it for predictions and inference.\n"
     ]
    },
    {
     "data": {
      "text/html": [
       "\n",
       "    <div>\n",
       "      \n",
       "      <progress value='2191' max='2191' style='width:300px; height:20px; vertical-align: middle;'></progress>\n",
       "      [2191/2191 09:55, Epoch 7/7]\n",
       "    </div>\n",
       "    <table border=\"1\" class=\"dataframe\">\n",
       "  <thead>\n",
       " <tr style=\"text-align: left;\">\n",
       "      <th>Epoch</th>\n",
       "      <th>Training Loss</th>\n",
       "      <th>Validation Loss</th>\n",
       "      <th>Accuracy</th>\n",
       "      <th>Precision</th>\n",
       "      <th>Recall</th>\n",
       "      <th>F1</th>\n",
       "    </tr>\n",
       "  </thead>\n",
       "  <tbody>\n",
       "    <tr>\n",
       "      <td>1</td>\n",
       "      <td>0.386400</td>\n",
       "      <td>0.172762</td>\n",
       "      <td>0.957700</td>\n",
       "      <td>0.958400</td>\n",
       "      <td>0.957864</td>\n",
       "      <td>0.957895</td>\n",
       "    </tr>\n",
       "    <tr>\n",
       "      <td>2</td>\n",
       "      <td>0.147900</td>\n",
       "      <td>0.163882</td>\n",
       "      <td>0.960500</td>\n",
       "      <td>0.960941</td>\n",
       "      <td>0.960618</td>\n",
       "      <td>0.960679</td>\n",
       "    </tr>\n",
       "    <tr>\n",
       "      <td>3</td>\n",
       "      <td>0.128700</td>\n",
       "      <td>0.152813</td>\n",
       "      <td>0.967700</td>\n",
       "      <td>0.968224</td>\n",
       "      <td>0.967896</td>\n",
       "      <td>0.967814</td>\n",
       "    </tr>\n",
       "    <tr>\n",
       "      <td>4</td>\n",
       "      <td>0.118600</td>\n",
       "      <td>0.148163</td>\n",
       "      <td>0.969700</td>\n",
       "      <td>0.969905</td>\n",
       "      <td>0.969905</td>\n",
       "      <td>0.969835</td>\n",
       "    </tr>\n",
       "    <tr>\n",
       "      <td>5</td>\n",
       "      <td>0.113800</td>\n",
       "      <td>0.143475</td>\n",
       "      <td>0.972000</td>\n",
       "      <td>0.972314</td>\n",
       "      <td>0.972107</td>\n",
       "      <td>0.972130</td>\n",
       "    </tr>\n",
       "    <tr>\n",
       "      <td>6</td>\n",
       "      <td>0.111200</td>\n",
       "      <td>0.141525</td>\n",
       "      <td>0.972900</td>\n",
       "      <td>0.973150</td>\n",
       "      <td>0.973055</td>\n",
       "      <td>0.973030</td>\n",
       "    </tr>\n",
       "    <tr>\n",
       "      <td>7</td>\n",
       "      <td>0.109900</td>\n",
       "      <td>0.140777</td>\n",
       "      <td>0.972900</td>\n",
       "      <td>0.972983</td>\n",
       "      <td>0.973043</td>\n",
       "      <td>0.972984</td>\n",
       "    </tr>\n",
       "  </tbody>\n",
       "</table><p>"
      ],
      "text/plain": [
       "<IPython.core.display.HTML object>"
      ]
     },
     "metadata": {},
     "output_type": "display_data"
    },
    {
     "name": "stderr",
     "output_type": "stream",
     "text": [
      "[I 2025-03-30 14:37:03,502] Trial 33 finished with value: 0.9729843818379591 and parameters: {'learning_rate': 9.798842916219257e-05, 'weight_decay': 0.01, 'warmup_steps': 27, 'lambda_param': 0.8, 'temperature': 4.0}. Best is trial 32 with value: 0.9764120594095738.\n"
     ]
    },
    {
     "name": "stdout",
     "output_type": "stream",
     "text": [
      "Trial 34 with params: {'learning_rate': 0.0004765833477578671, 'weight_decay': 0.01, 'warmup_steps': 22, 'lambda_param': 0.9, 'temperature': 2.0}\n"
     ]
    },
    {
     "name": "stderr",
     "output_type": "stream",
     "text": [
      "Some weights of TimmWrapperForImageClassification were not initialized from the model checkpoint at timm/tiny_vit_5m_224.in1k and are newly initialized because the shapes did not match:\n",
      "- head.fc.bias: found shape torch.Size([1000]) in the checkpoint and torch.Size([10]) in the model instantiated\n",
      "- head.fc.weight: found shape torch.Size([1000, 320]) in the checkpoint and torch.Size([10, 320]) in the model instantiated\n",
      "You should probably TRAIN this model on a down-stream task to be able to use it for predictions and inference.\n"
     ]
    },
    {
     "data": {
      "text/html": [
       "\n",
       "    <div>\n",
       "      \n",
       "      <progress value='626' max='2191' style='width:300px; height:20px; vertical-align: middle;'></progress>\n",
       "      [ 626/2191 02:47 < 06:59, 3.73 it/s, Epoch 2/7]\n",
       "    </div>\n",
       "    <table border=\"1\" class=\"dataframe\">\n",
       "  <thead>\n",
       " <tr style=\"text-align: left;\">\n",
       "      <th>Epoch</th>\n",
       "      <th>Training Loss</th>\n",
       "      <th>Validation Loss</th>\n",
       "      <th>Accuracy</th>\n",
       "      <th>Precision</th>\n",
       "      <th>Recall</th>\n",
       "      <th>F1</th>\n",
       "    </tr>\n",
       "  </thead>\n",
       "  <tbody>\n",
       "    <tr>\n",
       "      <td>1</td>\n",
       "      <td>0.371200</td>\n",
       "      <td>0.283862</td>\n",
       "      <td>0.897000</td>\n",
       "      <td>0.906492</td>\n",
       "      <td>0.897288</td>\n",
       "      <td>0.898169</td>\n",
       "    </tr>\n",
       "    <tr>\n",
       "      <td>2</td>\n",
       "      <td>0.202800</td>\n",
       "      <td>0.227252</td>\n",
       "      <td>0.926800</td>\n",
       "      <td>0.929384</td>\n",
       "      <td>0.926981</td>\n",
       "      <td>0.926536</td>\n",
       "    </tr>\n",
       "  </tbody>\n",
       "</table><p>"
      ],
      "text/plain": [
       "<IPython.core.display.HTML object>"
      ]
     },
     "metadata": {},
     "output_type": "display_data"
    },
    {
     "name": "stderr",
     "output_type": "stream",
     "text": [
      "[I 2025-03-30 14:39:52,818] Trial 34 pruned. \n"
     ]
    },
    {
     "name": "stdout",
     "output_type": "stream",
     "text": [
      "Trial 35 with params: {'learning_rate': 5.479487851074696e-05, 'weight_decay': 0.01, 'warmup_steps': 21, 'lambda_param': 1.0, 'temperature': 4.0}\n"
     ]
    },
    {
     "name": "stderr",
     "output_type": "stream",
     "text": [
      "Some weights of TimmWrapperForImageClassification were not initialized from the model checkpoint at timm/tiny_vit_5m_224.in1k and are newly initialized because the shapes did not match:\n",
      "- head.fc.bias: found shape torch.Size([1000]) in the checkpoint and torch.Size([10]) in the model instantiated\n",
      "- head.fc.weight: found shape torch.Size([1000, 320]) in the checkpoint and torch.Size([10, 320]) in the model instantiated\n",
      "You should probably TRAIN this model on a down-stream task to be able to use it for predictions and inference.\n"
     ]
    },
    {
     "data": {
      "text/html": [
       "\n",
       "    <div>\n",
       "      \n",
       "      <progress value='2191' max='2191' style='width:300px; height:20px; vertical-align: middle;'></progress>\n",
       "      [2191/2191 09:45, Epoch 7/7]\n",
       "    </div>\n",
       "    <table border=\"1\" class=\"dataframe\">\n",
       "  <thead>\n",
       " <tr style=\"text-align: left;\">\n",
       "      <th>Epoch</th>\n",
       "      <th>Training Loss</th>\n",
       "      <th>Validation Loss</th>\n",
       "      <th>Accuracy</th>\n",
       "      <th>Precision</th>\n",
       "      <th>Recall</th>\n",
       "      <th>F1</th>\n",
       "    </tr>\n",
       "  </thead>\n",
       "  <tbody>\n",
       "    <tr>\n",
       "      <td>1</td>\n",
       "      <td>0.423700</td>\n",
       "      <td>0.181257</td>\n",
       "      <td>0.954200</td>\n",
       "      <td>0.955529</td>\n",
       "      <td>0.954367</td>\n",
       "      <td>0.954473</td>\n",
       "    </tr>\n",
       "    <tr>\n",
       "      <td>2</td>\n",
       "      <td>0.153300</td>\n",
       "      <td>0.163609</td>\n",
       "      <td>0.963700</td>\n",
       "      <td>0.964157</td>\n",
       "      <td>0.963849</td>\n",
       "      <td>0.963876</td>\n",
       "    </tr>\n",
       "    <tr>\n",
       "      <td>3</td>\n",
       "      <td>0.129600</td>\n",
       "      <td>0.154649</td>\n",
       "      <td>0.964100</td>\n",
       "      <td>0.964291</td>\n",
       "      <td>0.964266</td>\n",
       "      <td>0.964192</td>\n",
       "    </tr>\n",
       "    <tr>\n",
       "      <td>4</td>\n",
       "      <td>0.119100</td>\n",
       "      <td>0.148328</td>\n",
       "      <td>0.969100</td>\n",
       "      <td>0.969270</td>\n",
       "      <td>0.969281</td>\n",
       "      <td>0.969230</td>\n",
       "    </tr>\n",
       "    <tr>\n",
       "      <td>5</td>\n",
       "      <td>0.114600</td>\n",
       "      <td>0.147145</td>\n",
       "      <td>0.970200</td>\n",
       "      <td>0.970597</td>\n",
       "      <td>0.970350</td>\n",
       "      <td>0.970344</td>\n",
       "    </tr>\n",
       "    <tr>\n",
       "      <td>6</td>\n",
       "      <td>0.112000</td>\n",
       "      <td>0.145104</td>\n",
       "      <td>0.971100</td>\n",
       "      <td>0.971382</td>\n",
       "      <td>0.971246</td>\n",
       "      <td>0.971247</td>\n",
       "    </tr>\n",
       "    <tr>\n",
       "      <td>7</td>\n",
       "      <td>0.110500</td>\n",
       "      <td>0.144626</td>\n",
       "      <td>0.970700</td>\n",
       "      <td>0.970947</td>\n",
       "      <td>0.970845</td>\n",
       "      <td>0.970829</td>\n",
       "    </tr>\n",
       "  </tbody>\n",
       "</table><p>"
      ],
      "text/plain": [
       "<IPython.core.display.HTML object>"
      ]
     },
     "metadata": {},
     "output_type": "display_data"
    },
    {
     "name": "stderr",
     "output_type": "stream",
     "text": [
      "[I 2025-03-30 14:49:40,812] Trial 35 finished with value: 0.9708288001325898 and parameters: {'learning_rate': 5.479487851074696e-05, 'weight_decay': 0.01, 'warmup_steps': 21, 'lambda_param': 1.0, 'temperature': 4.0}. Best is trial 32 with value: 0.9764120594095738.\n"
     ]
    },
    {
     "name": "stdout",
     "output_type": "stream",
     "text": [
      "Trial 36 with params: {'learning_rate': 0.00025975114163242537, 'weight_decay': 0.01, 'warmup_steps': 18, 'lambda_param': 0.9, 'temperature': 4.0}\n"
     ]
    },
    {
     "name": "stderr",
     "output_type": "stream",
     "text": [
      "Some weights of TimmWrapperForImageClassification were not initialized from the model checkpoint at timm/tiny_vit_5m_224.in1k and are newly initialized because the shapes did not match:\n",
      "- head.fc.bias: found shape torch.Size([1000]) in the checkpoint and torch.Size([10]) in the model instantiated\n",
      "- head.fc.weight: found shape torch.Size([1000, 320]) in the checkpoint and torch.Size([10, 320]) in the model instantiated\n",
      "You should probably TRAIN this model on a down-stream task to be able to use it for predictions and inference.\n"
     ]
    },
    {
     "data": {
      "text/html": [
       "\n",
       "    <div>\n",
       "      \n",
       "      <progress value='626' max='2191' style='width:300px; height:20px; vertical-align: middle;'></progress>\n",
       "      [ 626/2191 02:45 < 06:55, 3.77 it/s, Epoch 2/7]\n",
       "    </div>\n",
       "    <table border=\"1\" class=\"dataframe\">\n",
       "  <thead>\n",
       " <tr style=\"text-align: left;\">\n",
       "      <th>Epoch</th>\n",
       "      <th>Training Loss</th>\n",
       "      <th>Validation Loss</th>\n",
       "      <th>Accuracy</th>\n",
       "      <th>Precision</th>\n",
       "      <th>Recall</th>\n",
       "      <th>F1</th>\n",
       "    </tr>\n",
       "  </thead>\n",
       "  <tbody>\n",
       "    <tr>\n",
       "      <td>1</td>\n",
       "      <td>0.340700</td>\n",
       "      <td>0.218588</td>\n",
       "      <td>0.926500</td>\n",
       "      <td>0.933388</td>\n",
       "      <td>0.926920</td>\n",
       "      <td>0.927375</td>\n",
       "    </tr>\n",
       "    <tr>\n",
       "      <td>2</td>\n",
       "      <td>0.170500</td>\n",
       "      <td>0.194564</td>\n",
       "      <td>0.942500</td>\n",
       "      <td>0.944456</td>\n",
       "      <td>0.942634</td>\n",
       "      <td>0.942806</td>\n",
       "    </tr>\n",
       "  </tbody>\n",
       "</table><p>"
      ],
      "text/plain": [
       "<IPython.core.display.HTML object>"
      ]
     },
     "metadata": {},
     "output_type": "display_data"
    },
    {
     "name": "stderr",
     "output_type": "stream",
     "text": [
      "[I 2025-03-30 14:52:28,428] Trial 36 pruned. \n"
     ]
    },
    {
     "name": "stdout",
     "output_type": "stream",
     "text": [
      "Trial 37 with params: {'learning_rate': 0.0001055526602227995, 'weight_decay': 0.009000000000000001, 'warmup_steps': 23, 'lambda_param': 1.0, 'temperature': 2.5}\n"
     ]
    },
    {
     "name": "stderr",
     "output_type": "stream",
     "text": [
      "Some weights of TimmWrapperForImageClassification were not initialized from the model checkpoint at timm/tiny_vit_5m_224.in1k and are newly initialized because the shapes did not match:\n",
      "- head.fc.bias: found shape torch.Size([1000]) in the checkpoint and torch.Size([10]) in the model instantiated\n",
      "- head.fc.weight: found shape torch.Size([1000, 320]) in the checkpoint and torch.Size([10, 320]) in the model instantiated\n",
      "You should probably TRAIN this model on a down-stream task to be able to use it for predictions and inference.\n"
     ]
    },
    {
     "data": {
      "text/html": [
       "\n",
       "    <div>\n",
       "      \n",
       "      <progress value='2191' max='2191' style='width:300px; height:20px; vertical-align: middle;'></progress>\n",
       "      [2191/2191 09:46, Epoch 7/7]\n",
       "    </div>\n",
       "    <table border=\"1\" class=\"dataframe\">\n",
       "  <thead>\n",
       " <tr style=\"text-align: left;\">\n",
       "      <th>Epoch</th>\n",
       "      <th>Training Loss</th>\n",
       "      <th>Validation Loss</th>\n",
       "      <th>Accuracy</th>\n",
       "      <th>Precision</th>\n",
       "      <th>Recall</th>\n",
       "      <th>F1</th>\n",
       "    </tr>\n",
       "  </thead>\n",
       "  <tbody>\n",
       "    <tr>\n",
       "      <td>1</td>\n",
       "      <td>0.363000</td>\n",
       "      <td>0.181890</td>\n",
       "      <td>0.950200</td>\n",
       "      <td>0.952920</td>\n",
       "      <td>0.950421</td>\n",
       "      <td>0.950672</td>\n",
       "    </tr>\n",
       "    <tr>\n",
       "      <td>2</td>\n",
       "      <td>0.151000</td>\n",
       "      <td>0.163114</td>\n",
       "      <td>0.961600</td>\n",
       "      <td>0.961745</td>\n",
       "      <td>0.961824</td>\n",
       "      <td>0.961689</td>\n",
       "    </tr>\n",
       "    <tr>\n",
       "      <td>3</td>\n",
       "      <td>0.128500</td>\n",
       "      <td>0.155386</td>\n",
       "      <td>0.964300</td>\n",
       "      <td>0.965343</td>\n",
       "      <td>0.964499</td>\n",
       "      <td>0.964577</td>\n",
       "    </tr>\n",
       "    <tr>\n",
       "      <td>4</td>\n",
       "      <td>0.118500</td>\n",
       "      <td>0.146137</td>\n",
       "      <td>0.969700</td>\n",
       "      <td>0.969894</td>\n",
       "      <td>0.969865</td>\n",
       "      <td>0.969815</td>\n",
       "    </tr>\n",
       "    <tr>\n",
       "      <td>5</td>\n",
       "      <td>0.113800</td>\n",
       "      <td>0.143183</td>\n",
       "      <td>0.971900</td>\n",
       "      <td>0.972315</td>\n",
       "      <td>0.972025</td>\n",
       "      <td>0.972068</td>\n",
       "    </tr>\n",
       "    <tr>\n",
       "      <td>6</td>\n",
       "      <td>0.111200</td>\n",
       "      <td>0.140210</td>\n",
       "      <td>0.973500</td>\n",
       "      <td>0.973814</td>\n",
       "      <td>0.973614</td>\n",
       "      <td>0.973661</td>\n",
       "    </tr>\n",
       "    <tr>\n",
       "      <td>7</td>\n",
       "      <td>0.109900</td>\n",
       "      <td>0.138863</td>\n",
       "      <td>0.974500</td>\n",
       "      <td>0.974617</td>\n",
       "      <td>0.974659</td>\n",
       "      <td>0.974612</td>\n",
       "    </tr>\n",
       "  </tbody>\n",
       "</table><p>"
      ],
      "text/plain": [
       "<IPython.core.display.HTML object>"
      ]
     },
     "metadata": {},
     "output_type": "display_data"
    },
    {
     "name": "stderr",
     "output_type": "stream",
     "text": [
      "[I 2025-03-30 15:02:17,589] Trial 37 finished with value: 0.9746118380275559 and parameters: {'learning_rate': 0.0001055526602227995, 'weight_decay': 0.009000000000000001, 'warmup_steps': 23, 'lambda_param': 1.0, 'temperature': 2.5}. Best is trial 32 with value: 0.9764120594095738.\n"
     ]
    },
    {
     "name": "stdout",
     "output_type": "stream",
     "text": [
      "Trial 38 with params: {'learning_rate': 9.646392086313548e-05, 'weight_decay': 0.008, 'warmup_steps': 23, 'lambda_param': 1.0, 'temperature': 2.5}\n"
     ]
    },
    {
     "name": "stderr",
     "output_type": "stream",
     "text": [
      "Some weights of TimmWrapperForImageClassification were not initialized from the model checkpoint at timm/tiny_vit_5m_224.in1k and are newly initialized because the shapes did not match:\n",
      "- head.fc.bias: found shape torch.Size([1000]) in the checkpoint and torch.Size([10]) in the model instantiated\n",
      "- head.fc.weight: found shape torch.Size([1000, 320]) in the checkpoint and torch.Size([10, 320]) in the model instantiated\n",
      "You should probably TRAIN this model on a down-stream task to be able to use it for predictions and inference.\n"
     ]
    },
    {
     "data": {
      "text/html": [
       "\n",
       "    <div>\n",
       "      \n",
       "      <progress value='1252' max='2191' style='width:300px; height:20px; vertical-align: middle;'></progress>\n",
       "      [1252/2191 05:39 < 04:15, 3.68 it/s, Epoch 4/7]\n",
       "    </div>\n",
       "    <table border=\"1\" class=\"dataframe\">\n",
       "  <thead>\n",
       " <tr style=\"text-align: left;\">\n",
       "      <th>Epoch</th>\n",
       "      <th>Training Loss</th>\n",
       "      <th>Validation Loss</th>\n",
       "      <th>Accuracy</th>\n",
       "      <th>Precision</th>\n",
       "      <th>Recall</th>\n",
       "      <th>F1</th>\n",
       "    </tr>\n",
       "  </thead>\n",
       "  <tbody>\n",
       "    <tr>\n",
       "      <td>1</td>\n",
       "      <td>0.370900</td>\n",
       "      <td>0.188322</td>\n",
       "      <td>0.946200</td>\n",
       "      <td>0.948330</td>\n",
       "      <td>0.946603</td>\n",
       "      <td>0.946387</td>\n",
       "    </tr>\n",
       "    <tr>\n",
       "      <td>2</td>\n",
       "      <td>0.148500</td>\n",
       "      <td>0.158581</td>\n",
       "      <td>0.964300</td>\n",
       "      <td>0.964981</td>\n",
       "      <td>0.964414</td>\n",
       "      <td>0.964484</td>\n",
       "    </tr>\n",
       "    <tr>\n",
       "      <td>3</td>\n",
       "      <td>0.127500</td>\n",
       "      <td>0.152040</td>\n",
       "      <td>0.968100</td>\n",
       "      <td>0.968618</td>\n",
       "      <td>0.968199</td>\n",
       "      <td>0.968315</td>\n",
       "    </tr>\n",
       "    <tr>\n",
       "      <td>4</td>\n",
       "      <td>0.118600</td>\n",
       "      <td>0.149426</td>\n",
       "      <td>0.967900</td>\n",
       "      <td>0.968065</td>\n",
       "      <td>0.968089</td>\n",
       "      <td>0.968035</td>\n",
       "    </tr>\n",
       "  </tbody>\n",
       "</table><p>"
      ],
      "text/plain": [
       "<IPython.core.display.HTML object>"
      ]
     },
     "metadata": {},
     "output_type": "display_data"
    },
    {
     "name": "stderr",
     "output_type": "stream",
     "text": [
      "[I 2025-03-30 15:07:59,302] Trial 38 pruned. \n"
     ]
    },
    {
     "name": "stdout",
     "output_type": "stream",
     "text": [
      "Trial 39 with params: {'learning_rate': 5.7230182765429275e-05, 'weight_decay': 0.01, 'warmup_steps': 23, 'lambda_param': 0.9, 'temperature': 2.0}\n"
     ]
    },
    {
     "name": "stderr",
     "output_type": "stream",
     "text": [
      "Some weights of TimmWrapperForImageClassification were not initialized from the model checkpoint at timm/tiny_vit_5m_224.in1k and are newly initialized because the shapes did not match:\n",
      "- head.fc.bias: found shape torch.Size([1000]) in the checkpoint and torch.Size([10]) in the model instantiated\n",
      "- head.fc.weight: found shape torch.Size([1000, 320]) in the checkpoint and torch.Size([10, 320]) in the model instantiated\n",
      "You should probably TRAIN this model on a down-stream task to be able to use it for predictions and inference.\n"
     ]
    },
    {
     "data": {
      "text/html": [
       "\n",
       "    <div>\n",
       "      \n",
       "      <progress value='1252' max='2191' style='width:300px; height:20px; vertical-align: middle;'></progress>\n",
       "      [1252/2191 05:33 < 04:10, 3.75 it/s, Epoch 4/7]\n",
       "    </div>\n",
       "    <table border=\"1\" class=\"dataframe\">\n",
       "  <thead>\n",
       " <tr style=\"text-align: left;\">\n",
       "      <th>Epoch</th>\n",
       "      <th>Training Loss</th>\n",
       "      <th>Validation Loss</th>\n",
       "      <th>Accuracy</th>\n",
       "      <th>Precision</th>\n",
       "      <th>Recall</th>\n",
       "      <th>F1</th>\n",
       "    </tr>\n",
       "  </thead>\n",
       "  <tbody>\n",
       "    <tr>\n",
       "      <td>1</td>\n",
       "      <td>0.426500</td>\n",
       "      <td>0.180569</td>\n",
       "      <td>0.951400</td>\n",
       "      <td>0.952157</td>\n",
       "      <td>0.951590</td>\n",
       "      <td>0.951609</td>\n",
       "    </tr>\n",
       "    <tr>\n",
       "      <td>2</td>\n",
       "      <td>0.152300</td>\n",
       "      <td>0.161044</td>\n",
       "      <td>0.961100</td>\n",
       "      <td>0.961569</td>\n",
       "      <td>0.961233</td>\n",
       "      <td>0.961258</td>\n",
       "    </tr>\n",
       "    <tr>\n",
       "      <td>3</td>\n",
       "      <td>0.129300</td>\n",
       "      <td>0.154021</td>\n",
       "      <td>0.966300</td>\n",
       "      <td>0.966823</td>\n",
       "      <td>0.966436</td>\n",
       "      <td>0.966464</td>\n",
       "    </tr>\n",
       "    <tr>\n",
       "      <td>4</td>\n",
       "      <td>0.119400</td>\n",
       "      <td>0.151002</td>\n",
       "      <td>0.967200</td>\n",
       "      <td>0.967283</td>\n",
       "      <td>0.967393</td>\n",
       "      <td>0.967305</td>\n",
       "    </tr>\n",
       "  </tbody>\n",
       "</table><p>"
      ],
      "text/plain": [
       "<IPython.core.display.HTML object>"
      ]
     },
     "metadata": {},
     "output_type": "display_data"
    },
    {
     "name": "stderr",
     "output_type": "stream",
     "text": [
      "[I 2025-03-30 15:13:35,139] Trial 39 pruned. \n"
     ]
    },
    {
     "name": "stdout",
     "output_type": "stream",
     "text": [
      "Trial 40 with params: {'learning_rate': 0.002301313995834585, 'weight_decay': 0.007, 'warmup_steps': 13, 'lambda_param': 1.0, 'temperature': 4.5}\n"
     ]
    },
    {
     "name": "stderr",
     "output_type": "stream",
     "text": [
      "Some weights of TimmWrapperForImageClassification were not initialized from the model checkpoint at timm/tiny_vit_5m_224.in1k and are newly initialized because the shapes did not match:\n",
      "- head.fc.bias: found shape torch.Size([1000]) in the checkpoint and torch.Size([10]) in the model instantiated\n",
      "- head.fc.weight: found shape torch.Size([1000, 320]) in the checkpoint and torch.Size([10, 320]) in the model instantiated\n",
      "You should probably TRAIN this model on a down-stream task to be able to use it for predictions and inference.\n"
     ]
    },
    {
     "data": {
      "text/html": [
       "\n",
       "    <div>\n",
       "      \n",
       "      <progress value='1252' max='2191' style='width:300px; height:20px; vertical-align: middle;'></progress>\n",
       "      [1252/2191 05:33 < 04:10, 3.75 it/s, Epoch 4/7]\n",
       "    </div>\n",
       "    <table border=\"1\" class=\"dataframe\">\n",
       "  <thead>\n",
       " <tr style=\"text-align: left;\">\n",
       "      <th>Epoch</th>\n",
       "      <th>Training Loss</th>\n",
       "      <th>Validation Loss</th>\n",
       "      <th>Accuracy</th>\n",
       "      <th>Precision</th>\n",
       "      <th>Recall</th>\n",
       "      <th>F1</th>\n",
       "    </tr>\n",
       "  </thead>\n",
       "  <tbody>\n",
       "    <tr>\n",
       "      <td>1</td>\n",
       "      <td>0.898100</td>\n",
       "      <td>0.980763</td>\n",
       "      <td>0.532400</td>\n",
       "      <td>0.639532</td>\n",
       "      <td>0.532476</td>\n",
       "      <td>0.519171</td>\n",
       "    </tr>\n",
       "    <tr>\n",
       "      <td>2</td>\n",
       "      <td>0.649500</td>\n",
       "      <td>0.666543</td>\n",
       "      <td>0.705700</td>\n",
       "      <td>0.725882</td>\n",
       "      <td>0.706240</td>\n",
       "      <td>0.699218</td>\n",
       "    </tr>\n",
       "    <tr>\n",
       "      <td>3</td>\n",
       "      <td>0.499400</td>\n",
       "      <td>0.570375</td>\n",
       "      <td>0.746500</td>\n",
       "      <td>0.800770</td>\n",
       "      <td>0.746346</td>\n",
       "      <td>0.751928</td>\n",
       "    </tr>\n",
       "    <tr>\n",
       "      <td>4</td>\n",
       "      <td>0.395300</td>\n",
       "      <td>0.442498</td>\n",
       "      <td>0.808400</td>\n",
       "      <td>0.838704</td>\n",
       "      <td>0.808332</td>\n",
       "      <td>0.812727</td>\n",
       "    </tr>\n",
       "  </tbody>\n",
       "</table><p>"
      ],
      "text/plain": [
       "<IPython.core.display.HTML object>"
      ]
     },
     "metadata": {},
     "output_type": "display_data"
    },
    {
     "name": "stderr",
     "output_type": "stream",
     "text": [
      "[I 2025-03-30 15:19:10,461] Trial 40 pruned. \n"
     ]
    },
    {
     "name": "stdout",
     "output_type": "stream",
     "text": [
      "Trial 41 with params: {'learning_rate': 9.869734112270565e-05, 'weight_decay': 0.01, 'warmup_steps': 32, 'lambda_param': 1.0, 'temperature': 3.0}\n"
     ]
    },
    {
     "name": "stderr",
     "output_type": "stream",
     "text": [
      "Some weights of TimmWrapperForImageClassification were not initialized from the model checkpoint at timm/tiny_vit_5m_224.in1k and are newly initialized because the shapes did not match:\n",
      "- head.fc.bias: found shape torch.Size([1000]) in the checkpoint and torch.Size([10]) in the model instantiated\n",
      "- head.fc.weight: found shape torch.Size([1000, 320]) in the checkpoint and torch.Size([10, 320]) in the model instantiated\n",
      "You should probably TRAIN this model on a down-stream task to be able to use it for predictions and inference.\n"
     ]
    },
    {
     "data": {
      "text/html": [
       "\n",
       "    <div>\n",
       "      \n",
       "      <progress value='2191' max='2191' style='width:300px; height:20px; vertical-align: middle;'></progress>\n",
       "      [2191/2191 09:44, Epoch 7/7]\n",
       "    </div>\n",
       "    <table border=\"1\" class=\"dataframe\">\n",
       "  <thead>\n",
       " <tr style=\"text-align: left;\">\n",
       "      <th>Epoch</th>\n",
       "      <th>Training Loss</th>\n",
       "      <th>Validation Loss</th>\n",
       "      <th>Accuracy</th>\n",
       "      <th>Precision</th>\n",
       "      <th>Recall</th>\n",
       "      <th>F1</th>\n",
       "    </tr>\n",
       "  </thead>\n",
       "  <tbody>\n",
       "    <tr>\n",
       "      <td>1</td>\n",
       "      <td>0.387300</td>\n",
       "      <td>0.181805</td>\n",
       "      <td>0.950700</td>\n",
       "      <td>0.952847</td>\n",
       "      <td>0.950869</td>\n",
       "      <td>0.951165</td>\n",
       "    </tr>\n",
       "    <tr>\n",
       "      <td>2</td>\n",
       "      <td>0.148600</td>\n",
       "      <td>0.164960</td>\n",
       "      <td>0.959900</td>\n",
       "      <td>0.960436</td>\n",
       "      <td>0.960083</td>\n",
       "      <td>0.959999</td>\n",
       "    </tr>\n",
       "    <tr>\n",
       "      <td>3</td>\n",
       "      <td>0.127700</td>\n",
       "      <td>0.152050</td>\n",
       "      <td>0.968200</td>\n",
       "      <td>0.968450</td>\n",
       "      <td>0.968428</td>\n",
       "      <td>0.968377</td>\n",
       "    </tr>\n",
       "    <tr>\n",
       "      <td>4</td>\n",
       "      <td>0.118600</td>\n",
       "      <td>0.145379</td>\n",
       "      <td>0.971000</td>\n",
       "      <td>0.971293</td>\n",
       "      <td>0.971127</td>\n",
       "      <td>0.971184</td>\n",
       "    </tr>\n",
       "    <tr>\n",
       "      <td>5</td>\n",
       "      <td>0.113400</td>\n",
       "      <td>0.143030</td>\n",
       "      <td>0.972100</td>\n",
       "      <td>0.972535</td>\n",
       "      <td>0.972186</td>\n",
       "      <td>0.972279</td>\n",
       "    </tr>\n",
       "    <tr>\n",
       "      <td>6</td>\n",
       "      <td>0.111200</td>\n",
       "      <td>0.141171</td>\n",
       "      <td>0.972600</td>\n",
       "      <td>0.972856</td>\n",
       "      <td>0.972749</td>\n",
       "      <td>0.972748</td>\n",
       "    </tr>\n",
       "    <tr>\n",
       "      <td>7</td>\n",
       "      <td>0.110000</td>\n",
       "      <td>0.139688</td>\n",
       "      <td>0.972700</td>\n",
       "      <td>0.972858</td>\n",
       "      <td>0.972882</td>\n",
       "      <td>0.972829</td>\n",
       "    </tr>\n",
       "  </tbody>\n",
       "</table><p>"
      ],
      "text/plain": [
       "<IPython.core.display.HTML object>"
      ]
     },
     "metadata": {},
     "output_type": "display_data"
    },
    {
     "name": "stderr",
     "output_type": "stream",
     "text": [
      "[I 2025-03-30 15:28:57,987] Trial 41 finished with value: 0.9728293194330183 and parameters: {'learning_rate': 9.869734112270565e-05, 'weight_decay': 0.01, 'warmup_steps': 32, 'lambda_param': 1.0, 'temperature': 3.0}. Best is trial 32 with value: 0.9764120594095738.\n"
     ]
    },
    {
     "name": "stdout",
     "output_type": "stream",
     "text": [
      "Trial 42 with params: {'learning_rate': 0.0003597284442432274, 'weight_decay': 0.006, 'warmup_steps': 22, 'lambda_param': 1.0, 'temperature': 5.0}\n"
     ]
    },
    {
     "name": "stderr",
     "output_type": "stream",
     "text": [
      "Some weights of TimmWrapperForImageClassification were not initialized from the model checkpoint at timm/tiny_vit_5m_224.in1k and are newly initialized because the shapes did not match:\n",
      "- head.fc.bias: found shape torch.Size([1000]) in the checkpoint and torch.Size([10]) in the model instantiated\n",
      "- head.fc.weight: found shape torch.Size([1000, 320]) in the checkpoint and torch.Size([10, 320]) in the model instantiated\n",
      "You should probably TRAIN this model on a down-stream task to be able to use it for predictions and inference.\n"
     ]
    },
    {
     "data": {
      "text/html": [
       "\n",
       "    <div>\n",
       "      \n",
       "      <progress value='1252' max='2191' style='width:300px; height:20px; vertical-align: middle;'></progress>\n",
       "      [1252/2191 05:33 < 04:10, 3.75 it/s, Epoch 4/7]\n",
       "    </div>\n",
       "    <table border=\"1\" class=\"dataframe\">\n",
       "  <thead>\n",
       " <tr style=\"text-align: left;\">\n",
       "      <th>Epoch</th>\n",
       "      <th>Training Loss</th>\n",
       "      <th>Validation Loss</th>\n",
       "      <th>Accuracy</th>\n",
       "      <th>Precision</th>\n",
       "      <th>Recall</th>\n",
       "      <th>F1</th>\n",
       "    </tr>\n",
       "  </thead>\n",
       "  <tbody>\n",
       "    <tr>\n",
       "      <td>1</td>\n",
       "      <td>0.355100</td>\n",
       "      <td>0.250065</td>\n",
       "      <td>0.915700</td>\n",
       "      <td>0.919228</td>\n",
       "      <td>0.915965</td>\n",
       "      <td>0.916016</td>\n",
       "    </tr>\n",
       "    <tr>\n",
       "      <td>2</td>\n",
       "      <td>0.188100</td>\n",
       "      <td>0.210241</td>\n",
       "      <td>0.934500</td>\n",
       "      <td>0.936550</td>\n",
       "      <td>0.934823</td>\n",
       "      <td>0.934764</td>\n",
       "    </tr>\n",
       "    <tr>\n",
       "      <td>3</td>\n",
       "      <td>0.154800</td>\n",
       "      <td>0.174082</td>\n",
       "      <td>0.954400</td>\n",
       "      <td>0.954591</td>\n",
       "      <td>0.954607</td>\n",
       "      <td>0.954524</td>\n",
       "    </tr>\n",
       "    <tr>\n",
       "      <td>4</td>\n",
       "      <td>0.135300</td>\n",
       "      <td>0.160222</td>\n",
       "      <td>0.964000</td>\n",
       "      <td>0.964181</td>\n",
       "      <td>0.964143</td>\n",
       "      <td>0.964126</td>\n",
       "    </tr>\n",
       "  </tbody>\n",
       "</table><p>"
      ],
      "text/plain": [
       "<IPython.core.display.HTML object>"
      ]
     },
     "metadata": {},
     "output_type": "display_data"
    },
    {
     "name": "stderr",
     "output_type": "stream",
     "text": [
      "[I 2025-03-30 15:34:33,127] Trial 42 pruned. \n"
     ]
    },
    {
     "name": "stdout",
     "output_type": "stream",
     "text": [
      "Trial 43 with params: {'learning_rate': 0.0032088988731785663, 'weight_decay': 0.003, 'warmup_steps': 32, 'lambda_param': 0.2, 'temperature': 5.5}\n"
     ]
    },
    {
     "name": "stderr",
     "output_type": "stream",
     "text": [
      "Some weights of TimmWrapperForImageClassification were not initialized from the model checkpoint at timm/tiny_vit_5m_224.in1k and are newly initialized because the shapes did not match:\n",
      "- head.fc.bias: found shape torch.Size([1000]) in the checkpoint and torch.Size([10]) in the model instantiated\n",
      "- head.fc.weight: found shape torch.Size([1000, 320]) in the checkpoint and torch.Size([10, 320]) in the model instantiated\n",
      "You should probably TRAIN this model on a down-stream task to be able to use it for predictions and inference.\n"
     ]
    },
    {
     "data": {
      "text/html": [
       "\n",
       "    <div>\n",
       "      \n",
       "      <progress value='626' max='2191' style='width:300px; height:20px; vertical-align: middle;'></progress>\n",
       "      [ 626/2191 02:45 < 06:54, 3.77 it/s, Epoch 2/7]\n",
       "    </div>\n",
       "    <table border=\"1\" class=\"dataframe\">\n",
       "  <thead>\n",
       " <tr style=\"text-align: left;\">\n",
       "      <th>Epoch</th>\n",
       "      <th>Training Loss</th>\n",
       "      <th>Validation Loss</th>\n",
       "      <th>Accuracy</th>\n",
       "      <th>Precision</th>\n",
       "      <th>Recall</th>\n",
       "      <th>F1</th>\n",
       "    </tr>\n",
       "  </thead>\n",
       "  <tbody>\n",
       "    <tr>\n",
       "      <td>1</td>\n",
       "      <td>1.370400</td>\n",
       "      <td>1.657869</td>\n",
       "      <td>0.103400</td>\n",
       "      <td>0.075995</td>\n",
       "      <td>0.102519</td>\n",
       "      <td>0.047257</td>\n",
       "    </tr>\n",
       "    <tr>\n",
       "      <td>2</td>\n",
       "      <td>1.516100</td>\n",
       "      <td>1.517255</td>\n",
       "      <td>0.137300</td>\n",
       "      <td>0.094602</td>\n",
       "      <td>0.136857</td>\n",
       "      <td>0.075044</td>\n",
       "    </tr>\n",
       "  </tbody>\n",
       "</table><p>"
      ],
      "text/plain": [
       "<IPython.core.display.HTML object>"
      ]
     },
     "metadata": {},
     "output_type": "display_data"
    },
    {
     "name": "stderr",
     "output_type": "stream",
     "text": [
      "[I 2025-03-30 15:37:20,476] Trial 43 pruned. \n"
     ]
    },
    {
     "name": "stdout",
     "output_type": "stream",
     "text": [
      "Trial 44 with params: {'learning_rate': 0.0014691315499909523, 'weight_decay': 0.009000000000000001, 'warmup_steps': 29, 'lambda_param': 0.9, 'temperature': 6.5}\n"
     ]
    },
    {
     "name": "stderr",
     "output_type": "stream",
     "text": [
      "Some weights of TimmWrapperForImageClassification were not initialized from the model checkpoint at timm/tiny_vit_5m_224.in1k and are newly initialized because the shapes did not match:\n",
      "- head.fc.bias: found shape torch.Size([1000]) in the checkpoint and torch.Size([10]) in the model instantiated\n",
      "- head.fc.weight: found shape torch.Size([1000, 320]) in the checkpoint and torch.Size([10, 320]) in the model instantiated\n",
      "You should probably TRAIN this model on a down-stream task to be able to use it for predictions and inference.\n"
     ]
    },
    {
     "data": {
      "text/html": [
       "\n",
       "    <div>\n",
       "      \n",
       "      <progress value='1252' max='2191' style='width:300px; height:20px; vertical-align: middle;'></progress>\n",
       "      [1252/2191 06:06 < 04:35, 3.41 it/s, Epoch 4/7]\n",
       "    </div>\n",
       "    <table border=\"1\" class=\"dataframe\">\n",
       "  <thead>\n",
       " <tr style=\"text-align: left;\">\n",
       "      <th>Epoch</th>\n",
       "      <th>Training Loss</th>\n",
       "      <th>Validation Loss</th>\n",
       "      <th>Accuracy</th>\n",
       "      <th>Precision</th>\n",
       "      <th>Recall</th>\n",
       "      <th>F1</th>\n",
       "    </tr>\n",
       "  </thead>\n",
       "  <tbody>\n",
       "    <tr>\n",
       "      <td>1</td>\n",
       "      <td>0.627200</td>\n",
       "      <td>0.562682</td>\n",
       "      <td>0.752100</td>\n",
       "      <td>0.772850</td>\n",
       "      <td>0.751865</td>\n",
       "      <td>0.749841</td>\n",
       "    </tr>\n",
       "    <tr>\n",
       "      <td>2</td>\n",
       "      <td>0.404600</td>\n",
       "      <td>0.389463</td>\n",
       "      <td>0.841900</td>\n",
       "      <td>0.847449</td>\n",
       "      <td>0.842599</td>\n",
       "      <td>0.839540</td>\n",
       "    </tr>\n",
       "    <tr>\n",
       "      <td>3</td>\n",
       "      <td>0.305000</td>\n",
       "      <td>0.340875</td>\n",
       "      <td>0.867600</td>\n",
       "      <td>0.876097</td>\n",
       "      <td>0.867535</td>\n",
       "      <td>0.867179</td>\n",
       "    </tr>\n",
       "    <tr>\n",
       "      <td>4</td>\n",
       "      <td>0.239900</td>\n",
       "      <td>0.252262</td>\n",
       "      <td>0.911600</td>\n",
       "      <td>0.912983</td>\n",
       "      <td>0.911548</td>\n",
       "      <td>0.911825</td>\n",
       "    </tr>\n",
       "  </tbody>\n",
       "</table><p>"
      ],
      "text/plain": [
       "<IPython.core.display.HTML object>"
      ]
     },
     "metadata": {},
     "output_type": "display_data"
    },
    {
     "name": "stderr",
     "output_type": "stream",
     "text": [
      "[I 2025-03-30 15:43:29,246] Trial 44 pruned. \n"
     ]
    },
    {
     "name": "stdout",
     "output_type": "stream",
     "text": [
      "Trial 45 with params: {'learning_rate': 0.004229168606699789, 'weight_decay': 0.009000000000000001, 'warmup_steps': 24, 'lambda_param': 0.5, 'temperature': 2.0}\n"
     ]
    },
    {
     "name": "stderr",
     "output_type": "stream",
     "text": [
      "Some weights of TimmWrapperForImageClassification were not initialized from the model checkpoint at timm/tiny_vit_5m_224.in1k and are newly initialized because the shapes did not match:\n",
      "- head.fc.bias: found shape torch.Size([1000]) in the checkpoint and torch.Size([10]) in the model instantiated\n",
      "- head.fc.weight: found shape torch.Size([1000, 320]) in the checkpoint and torch.Size([10, 320]) in the model instantiated\n",
      "You should probably TRAIN this model on a down-stream task to be able to use it for predictions and inference.\n"
     ]
    },
    {
     "data": {
      "text/html": [
       "\n",
       "    <div>\n",
       "      \n",
       "      <progress value='626' max='2191' style='width:300px; height:20px; vertical-align: middle;'></progress>\n",
       "      [ 626/2191 02:45 < 06:55, 3.77 it/s, Epoch 2/7]\n",
       "    </div>\n",
       "    <table border=\"1\" class=\"dataframe\">\n",
       "  <thead>\n",
       " <tr style=\"text-align: left;\">\n",
       "      <th>Epoch</th>\n",
       "      <th>Training Loss</th>\n",
       "      <th>Validation Loss</th>\n",
       "      <th>Accuracy</th>\n",
       "      <th>Precision</th>\n",
       "      <th>Recall</th>\n",
       "      <th>F1</th>\n",
       "    </tr>\n",
       "  </thead>\n",
       "  <tbody>\n",
       "    <tr>\n",
       "      <td>1</td>\n",
       "      <td>1.450800</td>\n",
       "      <td>1.524680</td>\n",
       "      <td>0.144900</td>\n",
       "      <td>0.093415</td>\n",
       "      <td>0.145276</td>\n",
       "      <td>0.088245</td>\n",
       "    </tr>\n",
       "    <tr>\n",
       "      <td>2</td>\n",
       "      <td>1.508200</td>\n",
       "      <td>1.505709</td>\n",
       "      <td>0.148700</td>\n",
       "      <td>0.057201</td>\n",
       "      <td>0.148372</td>\n",
       "      <td>0.070046</td>\n",
       "    </tr>\n",
       "  </tbody>\n",
       "</table><p>"
      ],
      "text/plain": [
       "<IPython.core.display.HTML object>"
      ]
     },
     "metadata": {},
     "output_type": "display_data"
    },
    {
     "name": "stderr",
     "output_type": "stream",
     "text": [
      "[I 2025-03-30 15:46:16,892] Trial 45 pruned. \n"
     ]
    },
    {
     "name": "stdout",
     "output_type": "stream",
     "text": [
      "Trial 46 with params: {'learning_rate': 0.00032851466793796933, 'weight_decay': 0.007, 'warmup_steps': 23, 'lambda_param': 0.7000000000000001, 'temperature': 3.0}\n"
     ]
    },
    {
     "name": "stderr",
     "output_type": "stream",
     "text": [
      "Some weights of TimmWrapperForImageClassification were not initialized from the model checkpoint at timm/tiny_vit_5m_224.in1k and are newly initialized because the shapes did not match:\n",
      "- head.fc.bias: found shape torch.Size([1000]) in the checkpoint and torch.Size([10]) in the model instantiated\n",
      "- head.fc.weight: found shape torch.Size([1000, 320]) in the checkpoint and torch.Size([10, 320]) in the model instantiated\n",
      "You should probably TRAIN this model on a down-stream task to be able to use it for predictions and inference.\n"
     ]
    },
    {
     "data": {
      "text/html": [
       "\n",
       "    <div>\n",
       "      \n",
       "      <progress value='1252' max='2191' style='width:300px; height:20px; vertical-align: middle;'></progress>\n",
       "      [1252/2191 05:32 < 04:09, 3.76 it/s, Epoch 4/7]\n",
       "    </div>\n",
       "    <table border=\"1\" class=\"dataframe\">\n",
       "  <thead>\n",
       " <tr style=\"text-align: left;\">\n",
       "      <th>Epoch</th>\n",
       "      <th>Training Loss</th>\n",
       "      <th>Validation Loss</th>\n",
       "      <th>Accuracy</th>\n",
       "      <th>Precision</th>\n",
       "      <th>Recall</th>\n",
       "      <th>F1</th>\n",
       "    </tr>\n",
       "  </thead>\n",
       "  <tbody>\n",
       "    <tr>\n",
       "      <td>1</td>\n",
       "      <td>0.355900</td>\n",
       "      <td>0.223177</td>\n",
       "      <td>0.926700</td>\n",
       "      <td>0.932606</td>\n",
       "      <td>0.926913</td>\n",
       "      <td>0.927708</td>\n",
       "    </tr>\n",
       "    <tr>\n",
       "      <td>2</td>\n",
       "      <td>0.183000</td>\n",
       "      <td>0.203725</td>\n",
       "      <td>0.938500</td>\n",
       "      <td>0.940901</td>\n",
       "      <td>0.938672</td>\n",
       "      <td>0.938529</td>\n",
       "    </tr>\n",
       "    <tr>\n",
       "      <td>3</td>\n",
       "      <td>0.153000</td>\n",
       "      <td>0.184675</td>\n",
       "      <td>0.950000</td>\n",
       "      <td>0.952304</td>\n",
       "      <td>0.950025</td>\n",
       "      <td>0.950602</td>\n",
       "    </tr>\n",
       "    <tr>\n",
       "      <td>4</td>\n",
       "      <td>0.133800</td>\n",
       "      <td>0.160041</td>\n",
       "      <td>0.962800</td>\n",
       "      <td>0.963283</td>\n",
       "      <td>0.962985</td>\n",
       "      <td>0.962984</td>\n",
       "    </tr>\n",
       "  </tbody>\n",
       "</table><p>"
      ],
      "text/plain": [
       "<IPython.core.display.HTML object>"
      ]
     },
     "metadata": {},
     "output_type": "display_data"
    },
    {
     "name": "stderr",
     "output_type": "stream",
     "text": [
      "[I 2025-03-30 15:51:51,186] Trial 46 pruned. \n"
     ]
    },
    {
     "name": "stdout",
     "output_type": "stream",
     "text": [
      "Trial 47 with params: {'learning_rate': 0.0025789104733638904, 'weight_decay': 0.002, 'warmup_steps': 27, 'lambda_param': 1.0, 'temperature': 2.0}\n"
     ]
    },
    {
     "name": "stderr",
     "output_type": "stream",
     "text": [
      "Some weights of TimmWrapperForImageClassification were not initialized from the model checkpoint at timm/tiny_vit_5m_224.in1k and are newly initialized because the shapes did not match:\n",
      "- head.fc.bias: found shape torch.Size([1000]) in the checkpoint and torch.Size([10]) in the model instantiated\n",
      "- head.fc.weight: found shape torch.Size([1000, 320]) in the checkpoint and torch.Size([10, 320]) in the model instantiated\n",
      "You should probably TRAIN this model on a down-stream task to be able to use it for predictions and inference.\n"
     ]
    },
    {
     "data": {
      "text/html": [
       "\n",
       "    <div>\n",
       "      \n",
       "      <progress value='626' max='2191' style='width:300px; height:20px; vertical-align: middle;'></progress>\n",
       "      [ 626/2191 02:45 < 06:54, 3.78 it/s, Epoch 2/7]\n",
       "    </div>\n",
       "    <table border=\"1\" class=\"dataframe\">\n",
       "  <thead>\n",
       " <tr style=\"text-align: left;\">\n",
       "      <th>Epoch</th>\n",
       "      <th>Training Loss</th>\n",
       "      <th>Validation Loss</th>\n",
       "      <th>Accuracy</th>\n",
       "      <th>Precision</th>\n",
       "      <th>Recall</th>\n",
       "      <th>F1</th>\n",
       "    </tr>\n",
       "  </thead>\n",
       "  <tbody>\n",
       "    <tr>\n",
       "      <td>1</td>\n",
       "      <td>1.070100</td>\n",
       "      <td>1.567796</td>\n",
       "      <td>0.346300</td>\n",
       "      <td>0.483715</td>\n",
       "      <td>0.345982</td>\n",
       "      <td>0.320358</td>\n",
       "    </tr>\n",
       "    <tr>\n",
       "      <td>2</td>\n",
       "      <td>0.935100</td>\n",
       "      <td>0.974829</td>\n",
       "      <td>0.518100</td>\n",
       "      <td>0.552043</td>\n",
       "      <td>0.518281</td>\n",
       "      <td>0.508579</td>\n",
       "    </tr>\n",
       "  </tbody>\n",
       "</table><p>"
      ],
      "text/plain": [
       "<IPython.core.display.HTML object>"
      ]
     },
     "metadata": {},
     "output_type": "display_data"
    },
    {
     "name": "stderr",
     "output_type": "stream",
     "text": [
      "[I 2025-03-30 15:54:38,694] Trial 47 pruned. \n"
     ]
    },
    {
     "name": "stdout",
     "output_type": "stream",
     "text": [
      "Trial 48 with params: {'learning_rate': 0.0027511979602444763, 'weight_decay': 0.005, 'warmup_steps': 1, 'lambda_param': 0.7000000000000001, 'temperature': 7.0}\n"
     ]
    },
    {
     "name": "stderr",
     "output_type": "stream",
     "text": [
      "Some weights of TimmWrapperForImageClassification were not initialized from the model checkpoint at timm/tiny_vit_5m_224.in1k and are newly initialized because the shapes did not match:\n",
      "- head.fc.bias: found shape torch.Size([1000]) in the checkpoint and torch.Size([10]) in the model instantiated\n",
      "- head.fc.weight: found shape torch.Size([1000, 320]) in the checkpoint and torch.Size([10, 320]) in the model instantiated\n",
      "You should probably TRAIN this model on a down-stream task to be able to use it for predictions and inference.\n"
     ]
    },
    {
     "data": {
      "text/html": [
       "\n",
       "    <div>\n",
       "      \n",
       "      <progress value='626' max='2191' style='width:300px; height:20px; vertical-align: middle;'></progress>\n",
       "      [ 626/2191 02:45 < 06:54, 3.78 it/s, Epoch 2/7]\n",
       "    </div>\n",
       "    <table border=\"1\" class=\"dataframe\">\n",
       "  <thead>\n",
       " <tr style=\"text-align: left;\">\n",
       "      <th>Epoch</th>\n",
       "      <th>Training Loss</th>\n",
       "      <th>Validation Loss</th>\n",
       "      <th>Accuracy</th>\n",
       "      <th>Precision</th>\n",
       "      <th>Recall</th>\n",
       "      <th>F1</th>\n",
       "    </tr>\n",
       "  </thead>\n",
       "  <tbody>\n",
       "    <tr>\n",
       "      <td>1</td>\n",
       "      <td>1.549600</td>\n",
       "      <td>1.572123</td>\n",
       "      <td>0.085300</td>\n",
       "      <td>0.063885</td>\n",
       "      <td>0.087715</td>\n",
       "      <td>0.044881</td>\n",
       "    </tr>\n",
       "    <tr>\n",
       "      <td>2</td>\n",
       "      <td>1.520500</td>\n",
       "      <td>1.528469</td>\n",
       "      <td>0.141300</td>\n",
       "      <td>0.131581</td>\n",
       "      <td>0.140620</td>\n",
       "      <td>0.107607</td>\n",
       "    </tr>\n",
       "  </tbody>\n",
       "</table><p>"
      ],
      "text/plain": [
       "<IPython.core.display.HTML object>"
      ]
     },
     "metadata": {},
     "output_type": "display_data"
    },
    {
     "name": "stderr",
     "output_type": "stream",
     "text": [
      "[I 2025-03-30 15:57:25,858] Trial 48 pruned. \n"
     ]
    },
    {
     "name": "stdout",
     "output_type": "stream",
     "text": [
      "Trial 49 with params: {'learning_rate': 0.0015898708923464957, 'weight_decay': 0.004, 'warmup_steps': 17, 'lambda_param': 0.1, 'temperature': 6.5}\n"
     ]
    },
    {
     "name": "stderr",
     "output_type": "stream",
     "text": [
      "Some weights of TimmWrapperForImageClassification were not initialized from the model checkpoint at timm/tiny_vit_5m_224.in1k and are newly initialized because the shapes did not match:\n",
      "- head.fc.bias: found shape torch.Size([1000]) in the checkpoint and torch.Size([10]) in the model instantiated\n",
      "- head.fc.weight: found shape torch.Size([1000, 320]) in the checkpoint and torch.Size([10, 320]) in the model instantiated\n",
      "You should probably TRAIN this model on a down-stream task to be able to use it for predictions and inference.\n"
     ]
    },
    {
     "data": {
      "text/html": [
       "\n",
       "    <div>\n",
       "      \n",
       "      <progress value='1252' max='2191' style='width:300px; height:20px; vertical-align: middle;'></progress>\n",
       "      [1252/2191 05:31 < 04:09, 3.77 it/s, Epoch 4/7]\n",
       "    </div>\n",
       "    <table border=\"1\" class=\"dataframe\">\n",
       "  <thead>\n",
       " <tr style=\"text-align: left;\">\n",
       "      <th>Epoch</th>\n",
       "      <th>Training Loss</th>\n",
       "      <th>Validation Loss</th>\n",
       "      <th>Accuracy</th>\n",
       "      <th>Precision</th>\n",
       "      <th>Recall</th>\n",
       "      <th>F1</th>\n",
       "    </tr>\n",
       "  </thead>\n",
       "  <tbody>\n",
       "    <tr>\n",
       "      <td>1</td>\n",
       "      <td>0.641200</td>\n",
       "      <td>0.574255</td>\n",
       "      <td>0.747600</td>\n",
       "      <td>0.765795</td>\n",
       "      <td>0.749107</td>\n",
       "      <td>0.747548</td>\n",
       "    </tr>\n",
       "    <tr>\n",
       "      <td>2</td>\n",
       "      <td>0.423200</td>\n",
       "      <td>0.375255</td>\n",
       "      <td>0.850700</td>\n",
       "      <td>0.862475</td>\n",
       "      <td>0.850888</td>\n",
       "      <td>0.850751</td>\n",
       "    </tr>\n",
       "    <tr>\n",
       "      <td>3</td>\n",
       "      <td>0.318500</td>\n",
       "      <td>0.325590</td>\n",
       "      <td>0.874400</td>\n",
       "      <td>0.880044</td>\n",
       "      <td>0.874527</td>\n",
       "      <td>0.875043</td>\n",
       "    </tr>\n",
       "    <tr>\n",
       "      <td>4</td>\n",
       "      <td>0.248600</td>\n",
       "      <td>0.262850</td>\n",
       "      <td>0.904700</td>\n",
       "      <td>0.907956</td>\n",
       "      <td>0.904687</td>\n",
       "      <td>0.905506</td>\n",
       "    </tr>\n",
       "  </tbody>\n",
       "</table><p>"
      ],
      "text/plain": [
       "<IPython.core.display.HTML object>"
      ]
     },
     "metadata": {},
     "output_type": "display_data"
    },
    {
     "name": "stderr",
     "output_type": "stream",
     "text": [
      "[I 2025-03-30 16:02:59,764] Trial 49 pruned. \n"
     ]
    },
    {
     "name": "stdout",
     "output_type": "stream",
     "text": [
      "Trial 50 with params: {'learning_rate': 5.9361329005039714e-05, 'weight_decay': 0.01, 'warmup_steps': 4, 'lambda_param': 0.9, 'temperature': 6.0}\n"
     ]
    },
    {
     "name": "stderr",
     "output_type": "stream",
     "text": [
      "Some weights of TimmWrapperForImageClassification were not initialized from the model checkpoint at timm/tiny_vit_5m_224.in1k and are newly initialized because the shapes did not match:\n",
      "- head.fc.bias: found shape torch.Size([1000]) in the checkpoint and torch.Size([10]) in the model instantiated\n",
      "- head.fc.weight: found shape torch.Size([1000, 320]) in the checkpoint and torch.Size([10, 320]) in the model instantiated\n",
      "You should probably TRAIN this model on a down-stream task to be able to use it for predictions and inference.\n"
     ]
    },
    {
     "data": {
      "text/html": [
       "\n",
       "    <div>\n",
       "      \n",
       "      <progress value='2191' max='2191' style='width:300px; height:20px; vertical-align: middle;'></progress>\n",
       "      [2191/2191 09:43, Epoch 7/7]\n",
       "    </div>\n",
       "    <table border=\"1\" class=\"dataframe\">\n",
       "  <thead>\n",
       " <tr style=\"text-align: left;\">\n",
       "      <th>Epoch</th>\n",
       "      <th>Training Loss</th>\n",
       "      <th>Validation Loss</th>\n",
       "      <th>Accuracy</th>\n",
       "      <th>Precision</th>\n",
       "      <th>Recall</th>\n",
       "      <th>F1</th>\n",
       "    </tr>\n",
       "  </thead>\n",
       "  <tbody>\n",
       "    <tr>\n",
       "      <td>1</td>\n",
       "      <td>0.387100</td>\n",
       "      <td>0.187124</td>\n",
       "      <td>0.947800</td>\n",
       "      <td>0.950539</td>\n",
       "      <td>0.947966</td>\n",
       "      <td>0.948114</td>\n",
       "    </tr>\n",
       "    <tr>\n",
       "      <td>2</td>\n",
       "      <td>0.153400</td>\n",
       "      <td>0.160328</td>\n",
       "      <td>0.963100</td>\n",
       "      <td>0.963759</td>\n",
       "      <td>0.963231</td>\n",
       "      <td>0.963328</td>\n",
       "    </tr>\n",
       "    <tr>\n",
       "      <td>3</td>\n",
       "      <td>0.128400</td>\n",
       "      <td>0.153439</td>\n",
       "      <td>0.965500</td>\n",
       "      <td>0.965712</td>\n",
       "      <td>0.965635</td>\n",
       "      <td>0.965660</td>\n",
       "    </tr>\n",
       "    <tr>\n",
       "      <td>4</td>\n",
       "      <td>0.118600</td>\n",
       "      <td>0.148924</td>\n",
       "      <td>0.968300</td>\n",
       "      <td>0.968385</td>\n",
       "      <td>0.968543</td>\n",
       "      <td>0.968418</td>\n",
       "    </tr>\n",
       "    <tr>\n",
       "      <td>5</td>\n",
       "      <td>0.113700</td>\n",
       "      <td>0.147572</td>\n",
       "      <td>0.969000</td>\n",
       "      <td>0.969411</td>\n",
       "      <td>0.969164</td>\n",
       "      <td>0.969153</td>\n",
       "    </tr>\n",
       "    <tr>\n",
       "      <td>6</td>\n",
       "      <td>0.111600</td>\n",
       "      <td>0.144659</td>\n",
       "      <td>0.969800</td>\n",
       "      <td>0.970114</td>\n",
       "      <td>0.969974</td>\n",
       "      <td>0.969979</td>\n",
       "    </tr>\n",
       "    <tr>\n",
       "      <td>7</td>\n",
       "      <td>0.110100</td>\n",
       "      <td>0.144138</td>\n",
       "      <td>0.970900</td>\n",
       "      <td>0.971048</td>\n",
       "      <td>0.971058</td>\n",
       "      <td>0.971029</td>\n",
       "    </tr>\n",
       "  </tbody>\n",
       "</table><p>"
      ],
      "text/plain": [
       "<IPython.core.display.HTML object>"
      ]
     },
     "metadata": {},
     "output_type": "display_data"
    },
    {
     "name": "stderr",
     "output_type": "stream",
     "text": [
      "[I 2025-03-30 16:12:46,652] Trial 50 finished with value: 0.9710285170360388 and parameters: {'learning_rate': 5.9361329005039714e-05, 'weight_decay': 0.01, 'warmup_steps': 4, 'lambda_param': 0.9, 'temperature': 6.0}. Best is trial 32 with value: 0.9764120594095738.\n"
     ]
    },
    {
     "name": "stdout",
     "output_type": "stream",
     "text": [
      "Trial 51 with params: {'learning_rate': 0.00018204615991542676, 'weight_decay': 0.008, 'warmup_steps': 19, 'lambda_param': 1.0, 'temperature': 2.5}\n"
     ]
    },
    {
     "name": "stderr",
     "output_type": "stream",
     "text": [
      "Some weights of TimmWrapperForImageClassification were not initialized from the model checkpoint at timm/tiny_vit_5m_224.in1k and are newly initialized because the shapes did not match:\n",
      "- head.fc.bias: found shape torch.Size([1000]) in the checkpoint and torch.Size([10]) in the model instantiated\n",
      "- head.fc.weight: found shape torch.Size([1000, 320]) in the checkpoint and torch.Size([10, 320]) in the model instantiated\n",
      "You should probably TRAIN this model on a down-stream task to be able to use it for predictions and inference.\n"
     ]
    },
    {
     "data": {
      "text/html": [
       "\n",
       "    <div>\n",
       "      \n",
       "      <progress value='2191' max='2191' style='width:300px; height:20px; vertical-align: middle;'></progress>\n",
       "      [2191/2191 09:44, Epoch 7/7]\n",
       "    </div>\n",
       "    <table border=\"1\" class=\"dataframe\">\n",
       "  <thead>\n",
       " <tr style=\"text-align: left;\">\n",
       "      <th>Epoch</th>\n",
       "      <th>Training Loss</th>\n",
       "      <th>Validation Loss</th>\n",
       "      <th>Accuracy</th>\n",
       "      <th>Precision</th>\n",
       "      <th>Recall</th>\n",
       "      <th>F1</th>\n",
       "    </tr>\n",
       "  </thead>\n",
       "  <tbody>\n",
       "    <tr>\n",
       "      <td>1</td>\n",
       "      <td>0.340200</td>\n",
       "      <td>0.206386</td>\n",
       "      <td>0.936900</td>\n",
       "      <td>0.941645</td>\n",
       "      <td>0.936957</td>\n",
       "      <td>0.937803</td>\n",
       "    </tr>\n",
       "    <tr>\n",
       "      <td>2</td>\n",
       "      <td>0.159400</td>\n",
       "      <td>0.173622</td>\n",
       "      <td>0.956200</td>\n",
       "      <td>0.957019</td>\n",
       "      <td>0.956255</td>\n",
       "      <td>0.956474</td>\n",
       "    </tr>\n",
       "    <tr>\n",
       "      <td>3</td>\n",
       "      <td>0.134500</td>\n",
       "      <td>0.154647</td>\n",
       "      <td>0.966100</td>\n",
       "      <td>0.966978</td>\n",
       "      <td>0.966219</td>\n",
       "      <td>0.966400</td>\n",
       "    </tr>\n",
       "    <tr>\n",
       "      <td>4</td>\n",
       "      <td>0.122700</td>\n",
       "      <td>0.151076</td>\n",
       "      <td>0.969300</td>\n",
       "      <td>0.969805</td>\n",
       "      <td>0.969461</td>\n",
       "      <td>0.969508</td>\n",
       "    </tr>\n",
       "    <tr>\n",
       "      <td>5</td>\n",
       "      <td>0.115700</td>\n",
       "      <td>0.144026</td>\n",
       "      <td>0.973300</td>\n",
       "      <td>0.973492</td>\n",
       "      <td>0.973399</td>\n",
       "      <td>0.973409</td>\n",
       "    </tr>\n",
       "    <tr>\n",
       "      <td>6</td>\n",
       "      <td>0.112200</td>\n",
       "      <td>0.140447</td>\n",
       "      <td>0.974700</td>\n",
       "      <td>0.974885</td>\n",
       "      <td>0.974808</td>\n",
       "      <td>0.974822</td>\n",
       "    </tr>\n",
       "    <tr>\n",
       "      <td>7</td>\n",
       "      <td>0.110400</td>\n",
       "      <td>0.139311</td>\n",
       "      <td>0.975100</td>\n",
       "      <td>0.975294</td>\n",
       "      <td>0.975235</td>\n",
       "      <td>0.975237</td>\n",
       "    </tr>\n",
       "  </tbody>\n",
       "</table><p>"
      ],
      "text/plain": [
       "<IPython.core.display.HTML object>"
      ]
     },
     "metadata": {},
     "output_type": "display_data"
    },
    {
     "name": "stderr",
     "output_type": "stream",
     "text": [
      "[I 2025-03-30 16:22:34,243] Trial 51 finished with value: 0.9752365662843173 and parameters: {'learning_rate': 0.00018204615991542676, 'weight_decay': 0.008, 'warmup_steps': 19, 'lambda_param': 1.0, 'temperature': 2.5}. Best is trial 32 with value: 0.9764120594095738.\n"
     ]
    },
    {
     "name": "stdout",
     "output_type": "stream",
     "text": [
      "Trial 52 with params: {'learning_rate': 0.00043569463522663814, 'weight_decay': 0.005, 'warmup_steps': 1, 'lambda_param': 0.9, 'temperature': 5.5}\n"
     ]
    },
    {
     "name": "stderr",
     "output_type": "stream",
     "text": [
      "Some weights of TimmWrapperForImageClassification were not initialized from the model checkpoint at timm/tiny_vit_5m_224.in1k and are newly initialized because the shapes did not match:\n",
      "- head.fc.bias: found shape torch.Size([1000]) in the checkpoint and torch.Size([10]) in the model instantiated\n",
      "- head.fc.weight: found shape torch.Size([1000, 320]) in the checkpoint and torch.Size([10, 320]) in the model instantiated\n",
      "You should probably TRAIN this model on a down-stream task to be able to use it for predictions and inference.\n"
     ]
    },
    {
     "data": {
      "text/html": [
       "\n",
       "    <div>\n",
       "      \n",
       "      <progress value='1252' max='2191' style='width:300px; height:20px; vertical-align: middle;'></progress>\n",
       "      [1252/2191 05:33 < 04:10, 3.75 it/s, Epoch 4/7]\n",
       "    </div>\n",
       "    <table border=\"1\" class=\"dataframe\">\n",
       "  <thead>\n",
       " <tr style=\"text-align: left;\">\n",
       "      <th>Epoch</th>\n",
       "      <th>Training Loss</th>\n",
       "      <th>Validation Loss</th>\n",
       "      <th>Accuracy</th>\n",
       "      <th>Precision</th>\n",
       "      <th>Recall</th>\n",
       "      <th>F1</th>\n",
       "    </tr>\n",
       "  </thead>\n",
       "  <tbody>\n",
       "    <tr>\n",
       "      <td>1</td>\n",
       "      <td>0.323000</td>\n",
       "      <td>0.265347</td>\n",
       "      <td>0.908900</td>\n",
       "      <td>0.910352</td>\n",
       "      <td>0.909367</td>\n",
       "      <td>0.908272</td>\n",
       "    </tr>\n",
       "    <tr>\n",
       "      <td>2</td>\n",
       "      <td>0.197800</td>\n",
       "      <td>0.211717</td>\n",
       "      <td>0.935300</td>\n",
       "      <td>0.937959</td>\n",
       "      <td>0.935669</td>\n",
       "      <td>0.935422</td>\n",
       "    </tr>\n",
       "    <tr>\n",
       "      <td>3</td>\n",
       "      <td>0.161600</td>\n",
       "      <td>0.193247</td>\n",
       "      <td>0.945000</td>\n",
       "      <td>0.945979</td>\n",
       "      <td>0.944986</td>\n",
       "      <td>0.945115</td>\n",
       "    </tr>\n",
       "    <tr>\n",
       "      <td>4</td>\n",
       "      <td>0.140900</td>\n",
       "      <td>0.171935</td>\n",
       "      <td>0.956900</td>\n",
       "      <td>0.958221</td>\n",
       "      <td>0.956983</td>\n",
       "      <td>0.957242</td>\n",
       "    </tr>\n",
       "  </tbody>\n",
       "</table><p>"
      ],
      "text/plain": [
       "<IPython.core.display.HTML object>"
      ]
     },
     "metadata": {},
     "output_type": "display_data"
    },
    {
     "name": "stderr",
     "output_type": "stream",
     "text": [
      "[I 2025-03-30 16:28:09,842] Trial 52 pruned. \n"
     ]
    },
    {
     "name": "stdout",
     "output_type": "stream",
     "text": [
      "Trial 53 with params: {'learning_rate': 0.00019274299123550742, 'weight_decay': 0.009000000000000001, 'warmup_steps': 23, 'lambda_param': 1.0, 'temperature': 3.0}\n"
     ]
    },
    {
     "name": "stderr",
     "output_type": "stream",
     "text": [
      "Some weights of TimmWrapperForImageClassification were not initialized from the model checkpoint at timm/tiny_vit_5m_224.in1k and are newly initialized because the shapes did not match:\n",
      "- head.fc.bias: found shape torch.Size([1000]) in the checkpoint and torch.Size([10]) in the model instantiated\n",
      "- head.fc.weight: found shape torch.Size([1000, 320]) in the checkpoint and torch.Size([10, 320]) in the model instantiated\n",
      "You should probably TRAIN this model on a down-stream task to be able to use it for predictions and inference.\n"
     ]
    },
    {
     "data": {
      "text/html": [
       "\n",
       "    <div>\n",
       "      \n",
       "      <progress value='1252' max='2191' style='width:300px; height:20px; vertical-align: middle;'></progress>\n",
       "      [1252/2191 05:31 < 04:09, 3.77 it/s, Epoch 4/7]\n",
       "    </div>\n",
       "    <table border=\"1\" class=\"dataframe\">\n",
       "  <thead>\n",
       " <tr style=\"text-align: left;\">\n",
       "      <th>Epoch</th>\n",
       "      <th>Training Loss</th>\n",
       "      <th>Validation Loss</th>\n",
       "      <th>Accuracy</th>\n",
       "      <th>Precision</th>\n",
       "      <th>Recall</th>\n",
       "      <th>F1</th>\n",
       "    </tr>\n",
       "  </thead>\n",
       "  <tbody>\n",
       "    <tr>\n",
       "      <td>1</td>\n",
       "      <td>0.353500</td>\n",
       "      <td>0.199232</td>\n",
       "      <td>0.943700</td>\n",
       "      <td>0.945001</td>\n",
       "      <td>0.943839</td>\n",
       "      <td>0.943987</td>\n",
       "    </tr>\n",
       "    <tr>\n",
       "      <td>2</td>\n",
       "      <td>0.161700</td>\n",
       "      <td>0.172106</td>\n",
       "      <td>0.955900</td>\n",
       "      <td>0.956328</td>\n",
       "      <td>0.956242</td>\n",
       "      <td>0.956035</td>\n",
       "    </tr>\n",
       "    <tr>\n",
       "      <td>3</td>\n",
       "      <td>0.137900</td>\n",
       "      <td>0.156376</td>\n",
       "      <td>0.967300</td>\n",
       "      <td>0.967777</td>\n",
       "      <td>0.967369</td>\n",
       "      <td>0.967428</td>\n",
       "    </tr>\n",
       "    <tr>\n",
       "      <td>4</td>\n",
       "      <td>0.125000</td>\n",
       "      <td>0.153188</td>\n",
       "      <td>0.966900</td>\n",
       "      <td>0.967447</td>\n",
       "      <td>0.967088</td>\n",
       "      <td>0.967088</td>\n",
       "    </tr>\n",
       "  </tbody>\n",
       "</table><p>"
      ],
      "text/plain": [
       "<IPython.core.display.HTML object>"
      ]
     },
     "metadata": {},
     "output_type": "display_data"
    },
    {
     "name": "stderr",
     "output_type": "stream",
     "text": [
      "[I 2025-03-30 16:33:43,991] Trial 53 pruned. \n"
     ]
    },
    {
     "name": "stdout",
     "output_type": "stream",
     "text": [
      "Trial 54 with params: {'learning_rate': 0.0002340759161127536, 'weight_decay': 0.005, 'warmup_steps': 29, 'lambda_param': 0.0, 'temperature': 5.5}\n"
     ]
    },
    {
     "name": "stderr",
     "output_type": "stream",
     "text": [
      "Some weights of TimmWrapperForImageClassification were not initialized from the model checkpoint at timm/tiny_vit_5m_224.in1k and are newly initialized because the shapes did not match:\n",
      "- head.fc.bias: found shape torch.Size([1000]) in the checkpoint and torch.Size([10]) in the model instantiated\n",
      "- head.fc.weight: found shape torch.Size([1000, 320]) in the checkpoint and torch.Size([10, 320]) in the model instantiated\n",
      "You should probably TRAIN this model on a down-stream task to be able to use it for predictions and inference.\n"
     ]
    },
    {
     "data": {
      "text/html": [
       "\n",
       "    <div>\n",
       "      \n",
       "      <progress value='1252' max='2191' style='width:300px; height:20px; vertical-align: middle;'></progress>\n",
       "      [1252/2191 05:32 < 04:09, 3.76 it/s, Epoch 4/7]\n",
       "    </div>\n",
       "    <table border=\"1\" class=\"dataframe\">\n",
       "  <thead>\n",
       " <tr style=\"text-align: left;\">\n",
       "      <th>Epoch</th>\n",
       "      <th>Training Loss</th>\n",
       "      <th>Validation Loss</th>\n",
       "      <th>Accuracy</th>\n",
       "      <th>Precision</th>\n",
       "      <th>Recall</th>\n",
       "      <th>F1</th>\n",
       "    </tr>\n",
       "  </thead>\n",
       "  <tbody>\n",
       "    <tr>\n",
       "      <td>1</td>\n",
       "      <td>0.358600</td>\n",
       "      <td>0.230000</td>\n",
       "      <td>0.921300</td>\n",
       "      <td>0.928206</td>\n",
       "      <td>0.921453</td>\n",
       "      <td>0.921959</td>\n",
       "    </tr>\n",
       "    <tr>\n",
       "      <td>2</td>\n",
       "      <td>0.169100</td>\n",
       "      <td>0.192369</td>\n",
       "      <td>0.944700</td>\n",
       "      <td>0.946820</td>\n",
       "      <td>0.944852</td>\n",
       "      <td>0.945243</td>\n",
       "    </tr>\n",
       "    <tr>\n",
       "      <td>3</td>\n",
       "      <td>0.142100</td>\n",
       "      <td>0.162305</td>\n",
       "      <td>0.961600</td>\n",
       "      <td>0.962197</td>\n",
       "      <td>0.961697</td>\n",
       "      <td>0.961821</td>\n",
       "    </tr>\n",
       "    <tr>\n",
       "      <td>4</td>\n",
       "      <td>0.127200</td>\n",
       "      <td>0.154978</td>\n",
       "      <td>0.966300</td>\n",
       "      <td>0.966595</td>\n",
       "      <td>0.966334</td>\n",
       "      <td>0.966385</td>\n",
       "    </tr>\n",
       "  </tbody>\n",
       "</table><p>"
      ],
      "text/plain": [
       "<IPython.core.display.HTML object>"
      ]
     },
     "metadata": {},
     "output_type": "display_data"
    },
    {
     "name": "stderr",
     "output_type": "stream",
     "text": [
      "[I 2025-03-30 16:39:18,998] Trial 54 pruned. \n"
     ]
    },
    {
     "name": "stdout",
     "output_type": "stream",
     "text": [
      "Trial 55 with params: {'learning_rate': 0.00046529059578259626, 'weight_decay': 0.007, 'warmup_steps': 18, 'lambda_param': 1.0, 'temperature': 2.5}\n"
     ]
    },
    {
     "name": "stderr",
     "output_type": "stream",
     "text": [
      "Some weights of TimmWrapperForImageClassification were not initialized from the model checkpoint at timm/tiny_vit_5m_224.in1k and are newly initialized because the shapes did not match:\n",
      "- head.fc.bias: found shape torch.Size([1000]) in the checkpoint and torch.Size([10]) in the model instantiated\n",
      "- head.fc.weight: found shape torch.Size([1000, 320]) in the checkpoint and torch.Size([10, 320]) in the model instantiated\n",
      "You should probably TRAIN this model on a down-stream task to be able to use it for predictions and inference.\n"
     ]
    },
    {
     "data": {
      "text/html": [
       "\n",
       "    <div>\n",
       "      \n",
       "      <progress value='626' max='2191' style='width:300px; height:20px; vertical-align: middle;'></progress>\n",
       "      [ 626/2191 02:45 < 06:53, 3.78 it/s, Epoch 2/7]\n",
       "    </div>\n",
       "    <table border=\"1\" class=\"dataframe\">\n",
       "  <thead>\n",
       " <tr style=\"text-align: left;\">\n",
       "      <th>Epoch</th>\n",
       "      <th>Training Loss</th>\n",
       "      <th>Validation Loss</th>\n",
       "      <th>Accuracy</th>\n",
       "      <th>Precision</th>\n",
       "      <th>Recall</th>\n",
       "      <th>F1</th>\n",
       "    </tr>\n",
       "  </thead>\n",
       "  <tbody>\n",
       "    <tr>\n",
       "      <td>1</td>\n",
       "      <td>0.362100</td>\n",
       "      <td>0.254579</td>\n",
       "      <td>0.910200</td>\n",
       "      <td>0.918926</td>\n",
       "      <td>0.910549</td>\n",
       "      <td>0.911307</td>\n",
       "    </tr>\n",
       "    <tr>\n",
       "      <td>2</td>\n",
       "      <td>0.203400</td>\n",
       "      <td>0.210571</td>\n",
       "      <td>0.934500</td>\n",
       "      <td>0.936562</td>\n",
       "      <td>0.934670</td>\n",
       "      <td>0.934734</td>\n",
       "    </tr>\n",
       "  </tbody>\n",
       "</table><p>"
      ],
      "text/plain": [
       "<IPython.core.display.HTML object>"
      ]
     },
     "metadata": {},
     "output_type": "display_data"
    },
    {
     "name": "stderr",
     "output_type": "stream",
     "text": [
      "[I 2025-03-30 16:42:06,166] Trial 55 pruned. \n"
     ]
    },
    {
     "name": "stdout",
     "output_type": "stream",
     "text": [
      "Trial 56 with params: {'learning_rate': 8.274316768557815e-05, 'weight_decay': 0.008, 'warmup_steps': 16, 'lambda_param': 0.8, 'temperature': 3.0}\n"
     ]
    },
    {
     "name": "stderr",
     "output_type": "stream",
     "text": [
      "Some weights of TimmWrapperForImageClassification were not initialized from the model checkpoint at timm/tiny_vit_5m_224.in1k and are newly initialized because the shapes did not match:\n",
      "- head.fc.bias: found shape torch.Size([1000]) in the checkpoint and torch.Size([10]) in the model instantiated\n",
      "- head.fc.weight: found shape torch.Size([1000, 320]) in the checkpoint and torch.Size([10, 320]) in the model instantiated\n",
      "You should probably TRAIN this model on a down-stream task to be able to use it for predictions and inference.\n"
     ]
    },
    {
     "data": {
      "text/html": [
       "\n",
       "    <div>\n",
       "      \n",
       "      <progress value='2191' max='2191' style='width:300px; height:20px; vertical-align: middle;'></progress>\n",
       "      [2191/2191 09:44, Epoch 7/7]\n",
       "    </div>\n",
       "    <table border=\"1\" class=\"dataframe\">\n",
       "  <thead>\n",
       " <tr style=\"text-align: left;\">\n",
       "      <th>Epoch</th>\n",
       "      <th>Training Loss</th>\n",
       "      <th>Validation Loss</th>\n",
       "      <th>Accuracy</th>\n",
       "      <th>Precision</th>\n",
       "      <th>Recall</th>\n",
       "      <th>F1</th>\n",
       "    </tr>\n",
       "  </thead>\n",
       "  <tbody>\n",
       "    <tr>\n",
       "      <td>1</td>\n",
       "      <td>0.377800</td>\n",
       "      <td>0.180278</td>\n",
       "      <td>0.951300</td>\n",
       "      <td>0.953356</td>\n",
       "      <td>0.951491</td>\n",
       "      <td>0.951540</td>\n",
       "    </tr>\n",
       "    <tr>\n",
       "      <td>2</td>\n",
       "      <td>0.149300</td>\n",
       "      <td>0.159726</td>\n",
       "      <td>0.960700</td>\n",
       "      <td>0.961644</td>\n",
       "      <td>0.960900</td>\n",
       "      <td>0.960984</td>\n",
       "    </tr>\n",
       "    <tr>\n",
       "      <td>3</td>\n",
       "      <td>0.128400</td>\n",
       "      <td>0.151752</td>\n",
       "      <td>0.967300</td>\n",
       "      <td>0.967371</td>\n",
       "      <td>0.967556</td>\n",
       "      <td>0.967373</td>\n",
       "    </tr>\n",
       "    <tr>\n",
       "      <td>4</td>\n",
       "      <td>0.118000</td>\n",
       "      <td>0.144469</td>\n",
       "      <td>0.971700</td>\n",
       "      <td>0.971805</td>\n",
       "      <td>0.971867</td>\n",
       "      <td>0.971808</td>\n",
       "    </tr>\n",
       "    <tr>\n",
       "      <td>5</td>\n",
       "      <td>0.113700</td>\n",
       "      <td>0.141827</td>\n",
       "      <td>0.973300</td>\n",
       "      <td>0.973664</td>\n",
       "      <td>0.973477</td>\n",
       "      <td>0.973435</td>\n",
       "    </tr>\n",
       "    <tr>\n",
       "      <td>6</td>\n",
       "      <td>0.111300</td>\n",
       "      <td>0.140873</td>\n",
       "      <td>0.973600</td>\n",
       "      <td>0.973815</td>\n",
       "      <td>0.973722</td>\n",
       "      <td>0.973722</td>\n",
       "    </tr>\n",
       "    <tr>\n",
       "      <td>7</td>\n",
       "      <td>0.109900</td>\n",
       "      <td>0.140074</td>\n",
       "      <td>0.974000</td>\n",
       "      <td>0.974101</td>\n",
       "      <td>0.974157</td>\n",
       "      <td>0.974104</td>\n",
       "    </tr>\n",
       "  </tbody>\n",
       "</table><p>"
      ],
      "text/plain": [
       "<IPython.core.display.HTML object>"
      ]
     },
     "metadata": {},
     "output_type": "display_data"
    },
    {
     "name": "stderr",
     "output_type": "stream",
     "text": [
      "[I 2025-03-30 16:51:54,171] Trial 56 finished with value: 0.974103624688017 and parameters: {'learning_rate': 8.274316768557815e-05, 'weight_decay': 0.008, 'warmup_steps': 16, 'lambda_param': 0.8, 'temperature': 3.0}. Best is trial 32 with value: 0.9764120594095738.\n"
     ]
    },
    {
     "name": "stdout",
     "output_type": "stream",
     "text": [
      "Trial 57 with params: {'learning_rate': 6.432079156127297e-05, 'weight_decay': 0.009000000000000001, 'warmup_steps': 16, 'lambda_param': 0.5, 'temperature': 3.5}\n"
     ]
    },
    {
     "name": "stderr",
     "output_type": "stream",
     "text": [
      "Some weights of TimmWrapperForImageClassification were not initialized from the model checkpoint at timm/tiny_vit_5m_224.in1k and are newly initialized because the shapes did not match:\n",
      "- head.fc.bias: found shape torch.Size([1000]) in the checkpoint and torch.Size([10]) in the model instantiated\n",
      "- head.fc.weight: found shape torch.Size([1000, 320]) in the checkpoint and torch.Size([10, 320]) in the model instantiated\n",
      "You should probably TRAIN this model on a down-stream task to be able to use it for predictions and inference.\n"
     ]
    },
    {
     "data": {
      "text/html": [
       "\n",
       "    <div>\n",
       "      \n",
       "      <progress value='2191' max='2191' style='width:300px; height:20px; vertical-align: middle;'></progress>\n",
       "      [2191/2191 10:14, Epoch 7/7]\n",
       "    </div>\n",
       "    <table border=\"1\" class=\"dataframe\">\n",
       "  <thead>\n",
       " <tr style=\"text-align: left;\">\n",
       "      <th>Epoch</th>\n",
       "      <th>Training Loss</th>\n",
       "      <th>Validation Loss</th>\n",
       "      <th>Accuracy</th>\n",
       "      <th>Precision</th>\n",
       "      <th>Recall</th>\n",
       "      <th>F1</th>\n",
       "    </tr>\n",
       "  </thead>\n",
       "  <tbody>\n",
       "    <tr>\n",
       "      <td>1</td>\n",
       "      <td>0.396100</td>\n",
       "      <td>0.188329</td>\n",
       "      <td>0.945800</td>\n",
       "      <td>0.948334</td>\n",
       "      <td>0.946053</td>\n",
       "      <td>0.946218</td>\n",
       "    </tr>\n",
       "    <tr>\n",
       "      <td>2</td>\n",
       "      <td>0.151200</td>\n",
       "      <td>0.160956</td>\n",
       "      <td>0.964600</td>\n",
       "      <td>0.965254</td>\n",
       "      <td>0.964755</td>\n",
       "      <td>0.964810</td>\n",
       "    </tr>\n",
       "    <tr>\n",
       "      <td>3</td>\n",
       "      <td>0.128700</td>\n",
       "      <td>0.155237</td>\n",
       "      <td>0.965300</td>\n",
       "      <td>0.965662</td>\n",
       "      <td>0.965473</td>\n",
       "      <td>0.965437</td>\n",
       "    </tr>\n",
       "    <tr>\n",
       "      <td>4</td>\n",
       "      <td>0.119100</td>\n",
       "      <td>0.148097</td>\n",
       "      <td>0.970100</td>\n",
       "      <td>0.970286</td>\n",
       "      <td>0.970252</td>\n",
       "      <td>0.970214</td>\n",
       "    </tr>\n",
       "    <tr>\n",
       "      <td>5</td>\n",
       "      <td>0.113800</td>\n",
       "      <td>0.144430</td>\n",
       "      <td>0.972600</td>\n",
       "      <td>0.972971</td>\n",
       "      <td>0.972693</td>\n",
       "      <td>0.972718</td>\n",
       "    </tr>\n",
       "    <tr>\n",
       "      <td>6</td>\n",
       "      <td>0.111500</td>\n",
       "      <td>0.142386</td>\n",
       "      <td>0.973200</td>\n",
       "      <td>0.973311</td>\n",
       "      <td>0.973354</td>\n",
       "      <td>0.973319</td>\n",
       "    </tr>\n",
       "    <tr>\n",
       "      <td>7</td>\n",
       "      <td>0.110000</td>\n",
       "      <td>0.141847</td>\n",
       "      <td>0.972100</td>\n",
       "      <td>0.972230</td>\n",
       "      <td>0.972264</td>\n",
       "      <td>0.972209</td>\n",
       "    </tr>\n",
       "  </tbody>\n",
       "</table><p>"
      ],
      "text/plain": [
       "<IPython.core.display.HTML object>"
      ]
     },
     "metadata": {},
     "output_type": "display_data"
    },
    {
     "name": "stderr",
     "output_type": "stream",
     "text": [
      "[I 2025-03-30 17:02:11,841] Trial 57 finished with value: 0.9722091702278648 and parameters: {'learning_rate': 6.432079156127297e-05, 'weight_decay': 0.009000000000000001, 'warmup_steps': 16, 'lambda_param': 0.5, 'temperature': 3.5}. Best is trial 32 with value: 0.9764120594095738.\n"
     ]
    },
    {
     "name": "stdout",
     "output_type": "stream",
     "text": [
      "Trial 58 with params: {'learning_rate': 0.00016893047242669506, 'weight_decay': 0.004, 'warmup_steps': 23, 'lambda_param': 0.9, 'temperature': 3.0}\n"
     ]
    },
    {
     "name": "stderr",
     "output_type": "stream",
     "text": [
      "Some weights of TimmWrapperForImageClassification were not initialized from the model checkpoint at timm/tiny_vit_5m_224.in1k and are newly initialized because the shapes did not match:\n",
      "- head.fc.bias: found shape torch.Size([1000]) in the checkpoint and torch.Size([10]) in the model instantiated\n",
      "- head.fc.weight: found shape torch.Size([1000, 320]) in the checkpoint and torch.Size([10, 320]) in the model instantiated\n",
      "You should probably TRAIN this model on a down-stream task to be able to use it for predictions and inference.\n"
     ]
    },
    {
     "data": {
      "text/html": [
       "\n",
       "    <div>\n",
       "      \n",
       "      <progress value='1252' max='2191' style='width:300px; height:20px; vertical-align: middle;'></progress>\n",
       "      [1252/2191 05:33 < 04:10, 3.75 it/s, Epoch 4/7]\n",
       "    </div>\n",
       "    <table border=\"1\" class=\"dataframe\">\n",
       "  <thead>\n",
       " <tr style=\"text-align: left;\">\n",
       "      <th>Epoch</th>\n",
       "      <th>Training Loss</th>\n",
       "      <th>Validation Loss</th>\n",
       "      <th>Accuracy</th>\n",
       "      <th>Precision</th>\n",
       "      <th>Recall</th>\n",
       "      <th>F1</th>\n",
       "    </tr>\n",
       "  </thead>\n",
       "  <tbody>\n",
       "    <tr>\n",
       "      <td>1</td>\n",
       "      <td>0.347500</td>\n",
       "      <td>0.222510</td>\n",
       "      <td>0.924000</td>\n",
       "      <td>0.933395</td>\n",
       "      <td>0.924394</td>\n",
       "      <td>0.925195</td>\n",
       "    </tr>\n",
       "    <tr>\n",
       "      <td>2</td>\n",
       "      <td>0.157100</td>\n",
       "      <td>0.168189</td>\n",
       "      <td>0.958900</td>\n",
       "      <td>0.959265</td>\n",
       "      <td>0.959031</td>\n",
       "      <td>0.959018</td>\n",
       "    </tr>\n",
       "    <tr>\n",
       "      <td>3</td>\n",
       "      <td>0.136000</td>\n",
       "      <td>0.159036</td>\n",
       "      <td>0.963200</td>\n",
       "      <td>0.963336</td>\n",
       "      <td>0.963408</td>\n",
       "      <td>0.963295</td>\n",
       "    </tr>\n",
       "    <tr>\n",
       "      <td>4</td>\n",
       "      <td>0.122900</td>\n",
       "      <td>0.153184</td>\n",
       "      <td>0.966500</td>\n",
       "      <td>0.967639</td>\n",
       "      <td>0.966732</td>\n",
       "      <td>0.966723</td>\n",
       "    </tr>\n",
       "  </tbody>\n",
       "</table><p>"
      ],
      "text/plain": [
       "<IPython.core.display.HTML object>"
      ]
     },
     "metadata": {},
     "output_type": "display_data"
    },
    {
     "name": "stderr",
     "output_type": "stream",
     "text": [
      "[I 2025-03-30 17:07:46,876] Trial 58 pruned. \n"
     ]
    },
    {
     "name": "stdout",
     "output_type": "stream",
     "text": [
      "Trial 59 with params: {'learning_rate': 0.0028085976163393445, 'weight_decay': 0.002, 'warmup_steps': 17, 'lambda_param': 0.7000000000000001, 'temperature': 5.5}\n"
     ]
    },
    {
     "name": "stderr",
     "output_type": "stream",
     "text": [
      "Some weights of TimmWrapperForImageClassification were not initialized from the model checkpoint at timm/tiny_vit_5m_224.in1k and are newly initialized because the shapes did not match:\n",
      "- head.fc.bias: found shape torch.Size([1000]) in the checkpoint and torch.Size([10]) in the model instantiated\n",
      "- head.fc.weight: found shape torch.Size([1000, 320]) in the checkpoint and torch.Size([10, 320]) in the model instantiated\n",
      "You should probably TRAIN this model on a down-stream task to be able to use it for predictions and inference.\n"
     ]
    },
    {
     "data": {
      "text/html": [
       "\n",
       "    <div>\n",
       "      \n",
       "      <progress value='1252' max='2191' style='width:300px; height:20px; vertical-align: middle;'></progress>\n",
       "      [1252/2191 05:33 < 04:10, 3.75 it/s, Epoch 4/7]\n",
       "    </div>\n",
       "    <table border=\"1\" class=\"dataframe\">\n",
       "  <thead>\n",
       " <tr style=\"text-align: left;\">\n",
       "      <th>Epoch</th>\n",
       "      <th>Training Loss</th>\n",
       "      <th>Validation Loss</th>\n",
       "      <th>Accuracy</th>\n",
       "      <th>Precision</th>\n",
       "      <th>Recall</th>\n",
       "      <th>F1</th>\n",
       "    </tr>\n",
       "  </thead>\n",
       "  <tbody>\n",
       "    <tr>\n",
       "      <td>1</td>\n",
       "      <td>1.124300</td>\n",
       "      <td>1.457994</td>\n",
       "      <td>0.286100</td>\n",
       "      <td>0.380311</td>\n",
       "      <td>0.286232</td>\n",
       "      <td>0.235398</td>\n",
       "    </tr>\n",
       "    <tr>\n",
       "      <td>2</td>\n",
       "      <td>1.045300</td>\n",
       "      <td>1.216419</td>\n",
       "      <td>0.383600</td>\n",
       "      <td>0.487607</td>\n",
       "      <td>0.383443</td>\n",
       "      <td>0.339553</td>\n",
       "    </tr>\n",
       "    <tr>\n",
       "      <td>3</td>\n",
       "      <td>0.914300</td>\n",
       "      <td>0.978370</td>\n",
       "      <td>0.498400</td>\n",
       "      <td>0.591465</td>\n",
       "      <td>0.498591</td>\n",
       "      <td>0.496340</td>\n",
       "    </tr>\n",
       "    <tr>\n",
       "      <td>4</td>\n",
       "      <td>0.827900</td>\n",
       "      <td>0.869814</td>\n",
       "      <td>0.568000</td>\n",
       "      <td>0.607850</td>\n",
       "      <td>0.568162</td>\n",
       "      <td>0.568652</td>\n",
       "    </tr>\n",
       "  </tbody>\n",
       "</table><p>"
      ],
      "text/plain": [
       "<IPython.core.display.HTML object>"
      ]
     },
     "metadata": {},
     "output_type": "display_data"
    },
    {
     "name": "stderr",
     "output_type": "stream",
     "text": [
      "[I 2025-03-30 17:13:22,068] Trial 59 pruned. \n"
     ]
    },
    {
     "name": "stdout",
     "output_type": "stream",
     "text": [
      "Trial 60 with params: {'learning_rate': 5.976931804392223e-05, 'weight_decay': 0.008, 'warmup_steps': 14, 'lambda_param': 0.7000000000000001, 'temperature': 3.0}\n"
     ]
    },
    {
     "name": "stderr",
     "output_type": "stream",
     "text": [
      "Some weights of TimmWrapperForImageClassification were not initialized from the model checkpoint at timm/tiny_vit_5m_224.in1k and are newly initialized because the shapes did not match:\n",
      "- head.fc.bias: found shape torch.Size([1000]) in the checkpoint and torch.Size([10]) in the model instantiated\n",
      "- head.fc.weight: found shape torch.Size([1000, 320]) in the checkpoint and torch.Size([10, 320]) in the model instantiated\n",
      "You should probably TRAIN this model on a down-stream task to be able to use it for predictions and inference.\n"
     ]
    },
    {
     "data": {
      "text/html": [
       "\n",
       "    <div>\n",
       "      \n",
       "      <progress value='1252' max='2191' style='width:300px; height:20px; vertical-align: middle;'></progress>\n",
       "      [1252/2191 05:32 < 04:09, 3.76 it/s, Epoch 4/7]\n",
       "    </div>\n",
       "    <table border=\"1\" class=\"dataframe\">\n",
       "  <thead>\n",
       " <tr style=\"text-align: left;\">\n",
       "      <th>Epoch</th>\n",
       "      <th>Training Loss</th>\n",
       "      <th>Validation Loss</th>\n",
       "      <th>Accuracy</th>\n",
       "      <th>Precision</th>\n",
       "      <th>Recall</th>\n",
       "      <th>F1</th>\n",
       "    </tr>\n",
       "  </thead>\n",
       "  <tbody>\n",
       "    <tr>\n",
       "      <td>1</td>\n",
       "      <td>0.404900</td>\n",
       "      <td>0.185022</td>\n",
       "      <td>0.950500</td>\n",
       "      <td>0.952126</td>\n",
       "      <td>0.950679</td>\n",
       "      <td>0.950767</td>\n",
       "    </tr>\n",
       "    <tr>\n",
       "      <td>2</td>\n",
       "      <td>0.150100</td>\n",
       "      <td>0.157181</td>\n",
       "      <td>0.964500</td>\n",
       "      <td>0.964984</td>\n",
       "      <td>0.964656</td>\n",
       "      <td>0.964744</td>\n",
       "    </tr>\n",
       "    <tr>\n",
       "      <td>3</td>\n",
       "      <td>0.127800</td>\n",
       "      <td>0.152666</td>\n",
       "      <td>0.966200</td>\n",
       "      <td>0.966551</td>\n",
       "      <td>0.966332</td>\n",
       "      <td>0.966350</td>\n",
       "    </tr>\n",
       "    <tr>\n",
       "      <td>4</td>\n",
       "      <td>0.117800</td>\n",
       "      <td>0.149727</td>\n",
       "      <td>0.967700</td>\n",
       "      <td>0.967776</td>\n",
       "      <td>0.967899</td>\n",
       "      <td>0.967811</td>\n",
       "    </tr>\n",
       "  </tbody>\n",
       "</table><p>"
      ],
      "text/plain": [
       "<IPython.core.display.HTML object>"
      ]
     },
     "metadata": {},
     "output_type": "display_data"
    },
    {
     "name": "stderr",
     "output_type": "stream",
     "text": [
      "[I 2025-03-30 17:18:56,326] Trial 60 pruned. \n"
     ]
    },
    {
     "name": "stdout",
     "output_type": "stream",
     "text": [
      "Trial 61 with params: {'learning_rate': 0.00016980566072716556, 'weight_decay': 0.009000000000000001, 'warmup_steps': 17, 'lambda_param': 0.9, 'temperature': 2.5}\n"
     ]
    },
    {
     "name": "stderr",
     "output_type": "stream",
     "text": [
      "Some weights of TimmWrapperForImageClassification were not initialized from the model checkpoint at timm/tiny_vit_5m_224.in1k and are newly initialized because the shapes did not match:\n",
      "- head.fc.bias: found shape torch.Size([1000]) in the checkpoint and torch.Size([10]) in the model instantiated\n",
      "- head.fc.weight: found shape torch.Size([1000, 320]) in the checkpoint and torch.Size([10, 320]) in the model instantiated\n",
      "You should probably TRAIN this model on a down-stream task to be able to use it for predictions and inference.\n"
     ]
    },
    {
     "data": {
      "text/html": [
       "\n",
       "    <div>\n",
       "      \n",
       "      <progress value='2191' max='2191' style='width:300px; height:20px; vertical-align: middle;'></progress>\n",
       "      [2191/2191 09:42, Epoch 7/7]\n",
       "    </div>\n",
       "    <table border=\"1\" class=\"dataframe\">\n",
       "  <thead>\n",
       " <tr style=\"text-align: left;\">\n",
       "      <th>Epoch</th>\n",
       "      <th>Training Loss</th>\n",
       "      <th>Validation Loss</th>\n",
       "      <th>Accuracy</th>\n",
       "      <th>Precision</th>\n",
       "      <th>Recall</th>\n",
       "      <th>F1</th>\n",
       "    </tr>\n",
       "  </thead>\n",
       "  <tbody>\n",
       "    <tr>\n",
       "      <td>1</td>\n",
       "      <td>0.339500</td>\n",
       "      <td>0.200779</td>\n",
       "      <td>0.939200</td>\n",
       "      <td>0.944286</td>\n",
       "      <td>0.939394</td>\n",
       "      <td>0.939963</td>\n",
       "    </tr>\n",
       "    <tr>\n",
       "      <td>2</td>\n",
       "      <td>0.157600</td>\n",
       "      <td>0.165803</td>\n",
       "      <td>0.961200</td>\n",
       "      <td>0.961797</td>\n",
       "      <td>0.961390</td>\n",
       "      <td>0.961421</td>\n",
       "    </tr>\n",
       "    <tr>\n",
       "      <td>3</td>\n",
       "      <td>0.134600</td>\n",
       "      <td>0.156845</td>\n",
       "      <td>0.965100</td>\n",
       "      <td>0.965440</td>\n",
       "      <td>0.965178</td>\n",
       "      <td>0.965239</td>\n",
       "    </tr>\n",
       "    <tr>\n",
       "      <td>4</td>\n",
       "      <td>0.121800</td>\n",
       "      <td>0.148291</td>\n",
       "      <td>0.968300</td>\n",
       "      <td>0.968578</td>\n",
       "      <td>0.968468</td>\n",
       "      <td>0.968478</td>\n",
       "    </tr>\n",
       "    <tr>\n",
       "      <td>5</td>\n",
       "      <td>0.115500</td>\n",
       "      <td>0.144012</td>\n",
       "      <td>0.972300</td>\n",
       "      <td>0.972591</td>\n",
       "      <td>0.972441</td>\n",
       "      <td>0.972393</td>\n",
       "    </tr>\n",
       "    <tr>\n",
       "      <td>6</td>\n",
       "      <td>0.111800</td>\n",
       "      <td>0.138811</td>\n",
       "      <td>0.974100</td>\n",
       "      <td>0.974252</td>\n",
       "      <td>0.974210</td>\n",
       "      <td>0.974215</td>\n",
       "    </tr>\n",
       "    <tr>\n",
       "      <td>7</td>\n",
       "      <td>0.110400</td>\n",
       "      <td>0.137963</td>\n",
       "      <td>0.973700</td>\n",
       "      <td>0.973895</td>\n",
       "      <td>0.973835</td>\n",
       "      <td>0.973832</td>\n",
       "    </tr>\n",
       "  </tbody>\n",
       "</table><p>"
      ],
      "text/plain": [
       "<IPython.core.display.HTML object>"
      ]
     },
     "metadata": {},
     "output_type": "display_data"
    },
    {
     "name": "stderr",
     "output_type": "stream",
     "text": [
      "[I 2025-03-30 17:28:41,477] Trial 61 finished with value: 0.973832399586948 and parameters: {'learning_rate': 0.00016980566072716556, 'weight_decay': 0.009000000000000001, 'warmup_steps': 17, 'lambda_param': 0.9, 'temperature': 2.5}. Best is trial 32 with value: 0.9764120594095738.\n"
     ]
    },
    {
     "name": "stdout",
     "output_type": "stream",
     "text": [
      "Trial 62 with params: {'learning_rate': 0.00018710210526752272, 'weight_decay': 0.009000000000000001, 'warmup_steps': 12, 'lambda_param': 1.0, 'temperature': 2.0}\n"
     ]
    },
    {
     "name": "stderr",
     "output_type": "stream",
     "text": [
      "Some weights of TimmWrapperForImageClassification were not initialized from the model checkpoint at timm/tiny_vit_5m_224.in1k and are newly initialized because the shapes did not match:\n",
      "- head.fc.bias: found shape torch.Size([1000]) in the checkpoint and torch.Size([10]) in the model instantiated\n",
      "- head.fc.weight: found shape torch.Size([1000, 320]) in the checkpoint and torch.Size([10, 320]) in the model instantiated\n",
      "You should probably TRAIN this model on a down-stream task to be able to use it for predictions and inference.\n"
     ]
    },
    {
     "data": {
      "text/html": [
       "\n",
       "    <div>\n",
       "      \n",
       "      <progress value='626' max='2191' style='width:300px; height:20px; vertical-align: middle;'></progress>\n",
       "      [ 626/2191 02:44 < 06:52, 3.79 it/s, Epoch 2/7]\n",
       "    </div>\n",
       "    <table border=\"1\" class=\"dataframe\">\n",
       "  <thead>\n",
       " <tr style=\"text-align: left;\">\n",
       "      <th>Epoch</th>\n",
       "      <th>Training Loss</th>\n",
       "      <th>Validation Loss</th>\n",
       "      <th>Accuracy</th>\n",
       "      <th>Precision</th>\n",
       "      <th>Recall</th>\n",
       "      <th>F1</th>\n",
       "    </tr>\n",
       "  </thead>\n",
       "  <tbody>\n",
       "    <tr>\n",
       "      <td>1</td>\n",
       "      <td>0.327000</td>\n",
       "      <td>0.216795</td>\n",
       "      <td>0.929600</td>\n",
       "      <td>0.934208</td>\n",
       "      <td>0.930024</td>\n",
       "      <td>0.929951</td>\n",
       "    </tr>\n",
       "    <tr>\n",
       "      <td>2</td>\n",
       "      <td>0.157600</td>\n",
       "      <td>0.179418</td>\n",
       "      <td>0.951500</td>\n",
       "      <td>0.952489</td>\n",
       "      <td>0.951712</td>\n",
       "      <td>0.951585</td>\n",
       "    </tr>\n",
       "  </tbody>\n",
       "</table><p>"
      ],
      "text/plain": [
       "<IPython.core.display.HTML object>"
      ]
     },
     "metadata": {},
     "output_type": "display_data"
    },
    {
     "name": "stderr",
     "output_type": "stream",
     "text": [
      "[I 2025-03-30 17:31:27,973] Trial 62 pruned. \n"
     ]
    },
    {
     "name": "stdout",
     "output_type": "stream",
     "text": [
      "Trial 63 with params: {'learning_rate': 0.00023171151664329458, 'weight_decay': 0.008, 'warmup_steps': 12, 'lambda_param': 0.6000000000000001, 'temperature': 2.0}\n"
     ]
    },
    {
     "name": "stderr",
     "output_type": "stream",
     "text": [
      "Some weights of TimmWrapperForImageClassification were not initialized from the model checkpoint at timm/tiny_vit_5m_224.in1k and are newly initialized because the shapes did not match:\n",
      "- head.fc.bias: found shape torch.Size([1000]) in the checkpoint and torch.Size([10]) in the model instantiated\n",
      "- head.fc.weight: found shape torch.Size([1000, 320]) in the checkpoint and torch.Size([10, 320]) in the model instantiated\n",
      "You should probably TRAIN this model on a down-stream task to be able to use it for predictions and inference.\n"
     ]
    },
    {
     "data": {
      "text/html": [
       "\n",
       "    <div>\n",
       "      \n",
       "      <progress value='1252' max='2191' style='width:300px; height:20px; vertical-align: middle;'></progress>\n",
       "      [1252/2191 05:32 < 04:10, 3.75 it/s, Epoch 4/7]\n",
       "    </div>\n",
       "    <table border=\"1\" class=\"dataframe\">\n",
       "  <thead>\n",
       " <tr style=\"text-align: left;\">\n",
       "      <th>Epoch</th>\n",
       "      <th>Training Loss</th>\n",
       "      <th>Validation Loss</th>\n",
       "      <th>Accuracy</th>\n",
       "      <th>Precision</th>\n",
       "      <th>Recall</th>\n",
       "      <th>F1</th>\n",
       "    </tr>\n",
       "  </thead>\n",
       "  <tbody>\n",
       "    <tr>\n",
       "      <td>1</td>\n",
       "      <td>0.320100</td>\n",
       "      <td>0.212095</td>\n",
       "      <td>0.931800</td>\n",
       "      <td>0.938166</td>\n",
       "      <td>0.931946</td>\n",
       "      <td>0.932893</td>\n",
       "    </tr>\n",
       "    <tr>\n",
       "      <td>2</td>\n",
       "      <td>0.165500</td>\n",
       "      <td>0.181174</td>\n",
       "      <td>0.951600</td>\n",
       "      <td>0.952671</td>\n",
       "      <td>0.951742</td>\n",
       "      <td>0.951788</td>\n",
       "    </tr>\n",
       "    <tr>\n",
       "      <td>3</td>\n",
       "      <td>0.139300</td>\n",
       "      <td>0.166486</td>\n",
       "      <td>0.959400</td>\n",
       "      <td>0.959751</td>\n",
       "      <td>0.959610</td>\n",
       "      <td>0.959512</td>\n",
       "    </tr>\n",
       "    <tr>\n",
       "      <td>4</td>\n",
       "      <td>0.126400</td>\n",
       "      <td>0.154456</td>\n",
       "      <td>0.966200</td>\n",
       "      <td>0.966338</td>\n",
       "      <td>0.966381</td>\n",
       "      <td>0.966289</td>\n",
       "    </tr>\n",
       "  </tbody>\n",
       "</table><p>"
      ],
      "text/plain": [
       "<IPython.core.display.HTML object>"
      ]
     },
     "metadata": {},
     "output_type": "display_data"
    },
    {
     "name": "stderr",
     "output_type": "stream",
     "text": [
      "[I 2025-03-30 17:37:03,248] Trial 63 pruned. \n"
     ]
    },
    {
     "name": "stdout",
     "output_type": "stream",
     "text": [
      "Trial 64 with params: {'learning_rate': 0.00014037189452890584, 'weight_decay': 0.01, 'warmup_steps': 20, 'lambda_param': 0.8, 'temperature': 3.0}\n"
     ]
    },
    {
     "name": "stderr",
     "output_type": "stream",
     "text": [
      "Some weights of TimmWrapperForImageClassification were not initialized from the model checkpoint at timm/tiny_vit_5m_224.in1k and are newly initialized because the shapes did not match:\n",
      "- head.fc.bias: found shape torch.Size([1000]) in the checkpoint and torch.Size([10]) in the model instantiated\n",
      "- head.fc.weight: found shape torch.Size([1000, 320]) in the checkpoint and torch.Size([10, 320]) in the model instantiated\n",
      "You should probably TRAIN this model on a down-stream task to be able to use it for predictions and inference.\n"
     ]
    },
    {
     "data": {
      "text/html": [
       "\n",
       "    <div>\n",
       "      \n",
       "      <progress value='2191' max='2191' style='width:300px; height:20px; vertical-align: middle;'></progress>\n",
       "      [2191/2191 09:44, Epoch 7/7]\n",
       "    </div>\n",
       "    <table border=\"1\" class=\"dataframe\">\n",
       "  <thead>\n",
       " <tr style=\"text-align: left;\">\n",
       "      <th>Epoch</th>\n",
       "      <th>Training Loss</th>\n",
       "      <th>Validation Loss</th>\n",
       "      <th>Accuracy</th>\n",
       "      <th>Precision</th>\n",
       "      <th>Recall</th>\n",
       "      <th>F1</th>\n",
       "    </tr>\n",
       "  </thead>\n",
       "  <tbody>\n",
       "    <tr>\n",
       "      <td>1</td>\n",
       "      <td>0.349700</td>\n",
       "      <td>0.185452</td>\n",
       "      <td>0.949300</td>\n",
       "      <td>0.951008</td>\n",
       "      <td>0.949532</td>\n",
       "      <td>0.949601</td>\n",
       "    </tr>\n",
       "    <tr>\n",
       "      <td>2</td>\n",
       "      <td>0.154700</td>\n",
       "      <td>0.165478</td>\n",
       "      <td>0.959600</td>\n",
       "      <td>0.960151</td>\n",
       "      <td>0.959713</td>\n",
       "      <td>0.959684</td>\n",
       "    </tr>\n",
       "    <tr>\n",
       "      <td>3</td>\n",
       "      <td>0.131900</td>\n",
       "      <td>0.156361</td>\n",
       "      <td>0.964400</td>\n",
       "      <td>0.964630</td>\n",
       "      <td>0.964633</td>\n",
       "      <td>0.964540</td>\n",
       "    </tr>\n",
       "    <tr>\n",
       "      <td>4</td>\n",
       "      <td>0.120500</td>\n",
       "      <td>0.146713</td>\n",
       "      <td>0.970200</td>\n",
       "      <td>0.970408</td>\n",
       "      <td>0.970432</td>\n",
       "      <td>0.970338</td>\n",
       "    </tr>\n",
       "    <tr>\n",
       "      <td>5</td>\n",
       "      <td>0.114500</td>\n",
       "      <td>0.142211</td>\n",
       "      <td>0.973200</td>\n",
       "      <td>0.973361</td>\n",
       "      <td>0.973351</td>\n",
       "      <td>0.973315</td>\n",
       "    </tr>\n",
       "    <tr>\n",
       "      <td>6</td>\n",
       "      <td>0.111600</td>\n",
       "      <td>0.139662</td>\n",
       "      <td>0.974500</td>\n",
       "      <td>0.974738</td>\n",
       "      <td>0.974642</td>\n",
       "      <td>0.974627</td>\n",
       "    </tr>\n",
       "    <tr>\n",
       "      <td>7</td>\n",
       "      <td>0.110100</td>\n",
       "      <td>0.138816</td>\n",
       "      <td>0.974400</td>\n",
       "      <td>0.974502</td>\n",
       "      <td>0.974581</td>\n",
       "      <td>0.974492</td>\n",
       "    </tr>\n",
       "  </tbody>\n",
       "</table><p>"
      ],
      "text/plain": [
       "<IPython.core.display.HTML object>"
      ]
     },
     "metadata": {},
     "output_type": "display_data"
    },
    {
     "name": "stderr",
     "output_type": "stream",
     "text": [
      "[I 2025-03-30 17:46:50,775] Trial 64 finished with value: 0.974492136838864 and parameters: {'learning_rate': 0.00014037189452890584, 'weight_decay': 0.01, 'warmup_steps': 20, 'lambda_param': 0.8, 'temperature': 3.0}. Best is trial 32 with value: 0.9764120594095738.\n"
     ]
    },
    {
     "name": "stdout",
     "output_type": "stream",
     "text": [
      "Trial 65 with params: {'learning_rate': 0.0002071169980195919, 'weight_decay': 0.01, 'warmup_steps': 22, 'lambda_param': 0.8, 'temperature': 3.5}\n"
     ]
    },
    {
     "name": "stderr",
     "output_type": "stream",
     "text": [
      "Some weights of TimmWrapperForImageClassification were not initialized from the model checkpoint at timm/tiny_vit_5m_224.in1k and are newly initialized because the shapes did not match:\n",
      "- head.fc.bias: found shape torch.Size([1000]) in the checkpoint and torch.Size([10]) in the model instantiated\n",
      "- head.fc.weight: found shape torch.Size([1000, 320]) in the checkpoint and torch.Size([10, 320]) in the model instantiated\n",
      "You should probably TRAIN this model on a down-stream task to be able to use it for predictions and inference.\n"
     ]
    },
    {
     "data": {
      "text/html": [
       "\n",
       "    <div>\n",
       "      \n",
       "      <progress value='1252' max='2191' style='width:300px; height:20px; vertical-align: middle;'></progress>\n",
       "      [1252/2191 05:33 < 04:10, 3.74 it/s, Epoch 4/7]\n",
       "    </div>\n",
       "    <table border=\"1\" class=\"dataframe\">\n",
       "  <thead>\n",
       " <tr style=\"text-align: left;\">\n",
       "      <th>Epoch</th>\n",
       "      <th>Training Loss</th>\n",
       "      <th>Validation Loss</th>\n",
       "      <th>Accuracy</th>\n",
       "      <th>Precision</th>\n",
       "      <th>Recall</th>\n",
       "      <th>F1</th>\n",
       "    </tr>\n",
       "  </thead>\n",
       "  <tbody>\n",
       "    <tr>\n",
       "      <td>1</td>\n",
       "      <td>0.342400</td>\n",
       "      <td>0.212899</td>\n",
       "      <td>0.931600</td>\n",
       "      <td>0.935337</td>\n",
       "      <td>0.931838</td>\n",
       "      <td>0.932093</td>\n",
       "    </tr>\n",
       "    <tr>\n",
       "      <td>2</td>\n",
       "      <td>0.162100</td>\n",
       "      <td>0.179913</td>\n",
       "      <td>0.954600</td>\n",
       "      <td>0.955551</td>\n",
       "      <td>0.954857</td>\n",
       "      <td>0.954646</td>\n",
       "    </tr>\n",
       "    <tr>\n",
       "      <td>3</td>\n",
       "      <td>0.139100</td>\n",
       "      <td>0.160608</td>\n",
       "      <td>0.962400</td>\n",
       "      <td>0.962863</td>\n",
       "      <td>0.962631</td>\n",
       "      <td>0.962535</td>\n",
       "    </tr>\n",
       "    <tr>\n",
       "      <td>4</td>\n",
       "      <td>0.125100</td>\n",
       "      <td>0.153168</td>\n",
       "      <td>0.966000</td>\n",
       "      <td>0.966404</td>\n",
       "      <td>0.966229</td>\n",
       "      <td>0.966162</td>\n",
       "    </tr>\n",
       "  </tbody>\n",
       "</table><p>"
      ],
      "text/plain": [
       "<IPython.core.display.HTML object>"
      ]
     },
     "metadata": {},
     "output_type": "display_data"
    },
    {
     "name": "stderr",
     "output_type": "stream",
     "text": [
      "[I 2025-03-30 17:52:26,588] Trial 65 pruned. \n"
     ]
    },
    {
     "name": "stdout",
     "output_type": "stream",
     "text": [
      "Trial 66 with params: {'learning_rate': 5.0098619486030555e-05, 'weight_decay': 0.007, 'warmup_steps': 16, 'lambda_param': 1.0, 'temperature': 2.5}\n"
     ]
    },
    {
     "name": "stderr",
     "output_type": "stream",
     "text": [
      "Some weights of TimmWrapperForImageClassification were not initialized from the model checkpoint at timm/tiny_vit_5m_224.in1k and are newly initialized because the shapes did not match:\n",
      "- head.fc.bias: found shape torch.Size([1000]) in the checkpoint and torch.Size([10]) in the model instantiated\n",
      "- head.fc.weight: found shape torch.Size([1000, 320]) in the checkpoint and torch.Size([10, 320]) in the model instantiated\n",
      "You should probably TRAIN this model on a down-stream task to be able to use it for predictions and inference.\n"
     ]
    },
    {
     "data": {
      "text/html": [
       "\n",
       "    <div>\n",
       "      \n",
       "      <progress value='2191' max='2191' style='width:300px; height:20px; vertical-align: middle;'></progress>\n",
       "      [2191/2191 09:43, Epoch 7/7]\n",
       "    </div>\n",
       "    <table border=\"1\" class=\"dataframe\">\n",
       "  <thead>\n",
       " <tr style=\"text-align: left;\">\n",
       "      <th>Epoch</th>\n",
       "      <th>Training Loss</th>\n",
       "      <th>Validation Loss</th>\n",
       "      <th>Accuracy</th>\n",
       "      <th>Precision</th>\n",
       "      <th>Recall</th>\n",
       "      <th>F1</th>\n",
       "    </tr>\n",
       "  </thead>\n",
       "  <tbody>\n",
       "    <tr>\n",
       "      <td>1</td>\n",
       "      <td>0.428700</td>\n",
       "      <td>0.183122</td>\n",
       "      <td>0.950000</td>\n",
       "      <td>0.950904</td>\n",
       "      <td>0.950162</td>\n",
       "      <td>0.950178</td>\n",
       "    </tr>\n",
       "    <tr>\n",
       "      <td>2</td>\n",
       "      <td>0.152400</td>\n",
       "      <td>0.165513</td>\n",
       "      <td>0.961500</td>\n",
       "      <td>0.961837</td>\n",
       "      <td>0.961681</td>\n",
       "      <td>0.961637</td>\n",
       "    </tr>\n",
       "    <tr>\n",
       "      <td>3</td>\n",
       "      <td>0.128200</td>\n",
       "      <td>0.153858</td>\n",
       "      <td>0.965700</td>\n",
       "      <td>0.966263</td>\n",
       "      <td>0.965814</td>\n",
       "      <td>0.965901</td>\n",
       "    </tr>\n",
       "    <tr>\n",
       "      <td>4</td>\n",
       "      <td>0.118800</td>\n",
       "      <td>0.150746</td>\n",
       "      <td>0.968300</td>\n",
       "      <td>0.968597</td>\n",
       "      <td>0.968471</td>\n",
       "      <td>0.968417</td>\n",
       "    </tr>\n",
       "    <tr>\n",
       "      <td>5</td>\n",
       "      <td>0.114100</td>\n",
       "      <td>0.148432</td>\n",
       "      <td>0.969200</td>\n",
       "      <td>0.969630</td>\n",
       "      <td>0.969352</td>\n",
       "      <td>0.969368</td>\n",
       "    </tr>\n",
       "    <tr>\n",
       "      <td>6</td>\n",
       "      <td>0.111800</td>\n",
       "      <td>0.146714</td>\n",
       "      <td>0.969800</td>\n",
       "      <td>0.970010</td>\n",
       "      <td>0.969958</td>\n",
       "      <td>0.969948</td>\n",
       "    </tr>\n",
       "    <tr>\n",
       "      <td>7</td>\n",
       "      <td>0.110500</td>\n",
       "      <td>0.145982</td>\n",
       "      <td>0.970100</td>\n",
       "      <td>0.970308</td>\n",
       "      <td>0.970252</td>\n",
       "      <td>0.970233</td>\n",
       "    </tr>\n",
       "  </tbody>\n",
       "</table><p>"
      ],
      "text/plain": [
       "<IPython.core.display.HTML object>"
      ]
     },
     "metadata": {},
     "output_type": "display_data"
    },
    {
     "name": "stderr",
     "output_type": "stream",
     "text": [
      "[I 2025-03-30 18:02:13,594] Trial 66 finished with value: 0.9702332808336276 and parameters: {'learning_rate': 5.0098619486030555e-05, 'weight_decay': 0.007, 'warmup_steps': 16, 'lambda_param': 1.0, 'temperature': 2.5}. Best is trial 32 with value: 0.9764120594095738.\n"
     ]
    },
    {
     "name": "stdout",
     "output_type": "stream",
     "text": [
      "Trial 67 with params: {'learning_rate': 0.00018437386835220431, 'weight_decay': 0.01, 'warmup_steps': 26, 'lambda_param': 0.7000000000000001, 'temperature': 2.0}\n"
     ]
    },
    {
     "name": "stderr",
     "output_type": "stream",
     "text": [
      "Some weights of TimmWrapperForImageClassification were not initialized from the model checkpoint at timm/tiny_vit_5m_224.in1k and are newly initialized because the shapes did not match:\n",
      "- head.fc.bias: found shape torch.Size([1000]) in the checkpoint and torch.Size([10]) in the model instantiated\n",
      "- head.fc.weight: found shape torch.Size([1000, 320]) in the checkpoint and torch.Size([10, 320]) in the model instantiated\n",
      "You should probably TRAIN this model on a down-stream task to be able to use it for predictions and inference.\n"
     ]
    },
    {
     "data": {
      "text/html": [
       "\n",
       "    <div>\n",
       "      \n",
       "      <progress value='2191' max='2191' style='width:300px; height:20px; vertical-align: middle;'></progress>\n",
       "      [2191/2191 09:44, Epoch 7/7]\n",
       "    </div>\n",
       "    <table border=\"1\" class=\"dataframe\">\n",
       "  <thead>\n",
       " <tr style=\"text-align: left;\">\n",
       "      <th>Epoch</th>\n",
       "      <th>Training Loss</th>\n",
       "      <th>Validation Loss</th>\n",
       "      <th>Accuracy</th>\n",
       "      <th>Precision</th>\n",
       "      <th>Recall</th>\n",
       "      <th>F1</th>\n",
       "    </tr>\n",
       "  </thead>\n",
       "  <tbody>\n",
       "    <tr>\n",
       "      <td>1</td>\n",
       "      <td>0.352500</td>\n",
       "      <td>0.223034</td>\n",
       "      <td>0.924700</td>\n",
       "      <td>0.933881</td>\n",
       "      <td>0.925196</td>\n",
       "      <td>0.925496</td>\n",
       "    </tr>\n",
       "    <tr>\n",
       "      <td>2</td>\n",
       "      <td>0.157700</td>\n",
       "      <td>0.166898</td>\n",
       "      <td>0.960200</td>\n",
       "      <td>0.960715</td>\n",
       "      <td>0.960357</td>\n",
       "      <td>0.960363</td>\n",
       "    </tr>\n",
       "    <tr>\n",
       "      <td>3</td>\n",
       "      <td>0.134400</td>\n",
       "      <td>0.156950</td>\n",
       "      <td>0.963700</td>\n",
       "      <td>0.964087</td>\n",
       "      <td>0.963829</td>\n",
       "      <td>0.963913</td>\n",
       "    </tr>\n",
       "    <tr>\n",
       "      <td>4</td>\n",
       "      <td>0.123000</td>\n",
       "      <td>0.148577</td>\n",
       "      <td>0.971400</td>\n",
       "      <td>0.971616</td>\n",
       "      <td>0.971529</td>\n",
       "      <td>0.971515</td>\n",
       "    </tr>\n",
       "    <tr>\n",
       "      <td>5</td>\n",
       "      <td>0.115900</td>\n",
       "      <td>0.141565</td>\n",
       "      <td>0.974000</td>\n",
       "      <td>0.974346</td>\n",
       "      <td>0.974128</td>\n",
       "      <td>0.974127</td>\n",
       "    </tr>\n",
       "    <tr>\n",
       "      <td>6</td>\n",
       "      <td>0.112200</td>\n",
       "      <td>0.138625</td>\n",
       "      <td>0.974400</td>\n",
       "      <td>0.974691</td>\n",
       "      <td>0.974475</td>\n",
       "      <td>0.974517</td>\n",
       "    </tr>\n",
       "    <tr>\n",
       "      <td>7</td>\n",
       "      <td>0.110500</td>\n",
       "      <td>0.137614</td>\n",
       "      <td>0.975500</td>\n",
       "      <td>0.975628</td>\n",
       "      <td>0.975627</td>\n",
       "      <td>0.975603</td>\n",
       "    </tr>\n",
       "  </tbody>\n",
       "</table><p>"
      ],
      "text/plain": [
       "<IPython.core.display.HTML object>"
      ]
     },
     "metadata": {},
     "output_type": "display_data"
    },
    {
     "name": "stderr",
     "output_type": "stream",
     "text": [
      "[I 2025-03-30 18:12:00,868] Trial 67 finished with value: 0.9756034131850368 and parameters: {'learning_rate': 0.00018437386835220431, 'weight_decay': 0.01, 'warmup_steps': 26, 'lambda_param': 0.7000000000000001, 'temperature': 2.0}. Best is trial 32 with value: 0.9764120594095738.\n"
     ]
    },
    {
     "name": "stdout",
     "output_type": "stream",
     "text": [
      "Trial 68 with params: {'learning_rate': 0.00017557083916535206, 'weight_decay': 0.01, 'warmup_steps': 31, 'lambda_param': 0.5, 'temperature': 2.0}\n"
     ]
    },
    {
     "name": "stderr",
     "output_type": "stream",
     "text": [
      "Some weights of TimmWrapperForImageClassification were not initialized from the model checkpoint at timm/tiny_vit_5m_224.in1k and are newly initialized because the shapes did not match:\n",
      "- head.fc.bias: found shape torch.Size([1000]) in the checkpoint and torch.Size([10]) in the model instantiated\n",
      "- head.fc.weight: found shape torch.Size([1000, 320]) in the checkpoint and torch.Size([10, 320]) in the model instantiated\n",
      "You should probably TRAIN this model on a down-stream task to be able to use it for predictions and inference.\n"
     ]
    },
    {
     "data": {
      "text/html": [
       "\n",
       "    <div>\n",
       "      \n",
       "      <progress value='2191' max='2191' style='width:300px; height:20px; vertical-align: middle;'></progress>\n",
       "      [2191/2191 09:44, Epoch 7/7]\n",
       "    </div>\n",
       "    <table border=\"1\" class=\"dataframe\">\n",
       "  <thead>\n",
       " <tr style=\"text-align: left;\">\n",
       "      <th>Epoch</th>\n",
       "      <th>Training Loss</th>\n",
       "      <th>Validation Loss</th>\n",
       "      <th>Accuracy</th>\n",
       "      <th>Precision</th>\n",
       "      <th>Recall</th>\n",
       "      <th>F1</th>\n",
       "    </tr>\n",
       "  </thead>\n",
       "  <tbody>\n",
       "    <tr>\n",
       "      <td>1</td>\n",
       "      <td>0.355500</td>\n",
       "      <td>0.192884</td>\n",
       "      <td>0.946100</td>\n",
       "      <td>0.948304</td>\n",
       "      <td>0.946089</td>\n",
       "      <td>0.946632</td>\n",
       "    </tr>\n",
       "    <tr>\n",
       "      <td>2</td>\n",
       "      <td>0.157300</td>\n",
       "      <td>0.170393</td>\n",
       "      <td>0.956600</td>\n",
       "      <td>0.957141</td>\n",
       "      <td>0.956845</td>\n",
       "      <td>0.956665</td>\n",
       "    </tr>\n",
       "    <tr>\n",
       "      <td>3</td>\n",
       "      <td>0.137100</td>\n",
       "      <td>0.156116</td>\n",
       "      <td>0.965700</td>\n",
       "      <td>0.965863</td>\n",
       "      <td>0.965930</td>\n",
       "      <td>0.965767</td>\n",
       "    </tr>\n",
       "    <tr>\n",
       "      <td>4</td>\n",
       "      <td>0.123100</td>\n",
       "      <td>0.148301</td>\n",
       "      <td>0.968700</td>\n",
       "      <td>0.968893</td>\n",
       "      <td>0.968827</td>\n",
       "      <td>0.968791</td>\n",
       "    </tr>\n",
       "    <tr>\n",
       "      <td>5</td>\n",
       "      <td>0.115900</td>\n",
       "      <td>0.143751</td>\n",
       "      <td>0.972000</td>\n",
       "      <td>0.972237</td>\n",
       "      <td>0.972167</td>\n",
       "      <td>0.972163</td>\n",
       "    </tr>\n",
       "    <tr>\n",
       "      <td>6</td>\n",
       "      <td>0.112300</td>\n",
       "      <td>0.139354</td>\n",
       "      <td>0.972500</td>\n",
       "      <td>0.972763</td>\n",
       "      <td>0.972604</td>\n",
       "      <td>0.972634</td>\n",
       "    </tr>\n",
       "    <tr>\n",
       "      <td>7</td>\n",
       "      <td>0.110400</td>\n",
       "      <td>0.137398</td>\n",
       "      <td>0.974300</td>\n",
       "      <td>0.974444</td>\n",
       "      <td>0.974436</td>\n",
       "      <td>0.974412</td>\n",
       "    </tr>\n",
       "  </tbody>\n",
       "</table><p>"
      ],
      "text/plain": [
       "<IPython.core.display.HTML object>"
      ]
     },
     "metadata": {},
     "output_type": "display_data"
    },
    {
     "name": "stderr",
     "output_type": "stream",
     "text": [
      "[I 2025-03-30 18:21:49,383] Trial 68 finished with value: 0.9744115924935196 and parameters: {'learning_rate': 0.00017557083916535206, 'weight_decay': 0.01, 'warmup_steps': 31, 'lambda_param': 0.5, 'temperature': 2.0}. Best is trial 32 with value: 0.9764120594095738.\n"
     ]
    },
    {
     "name": "stdout",
     "output_type": "stream",
     "text": [
      "Trial 69 with params: {'learning_rate': 0.0004850647223008225, 'weight_decay': 0.009000000000000001, 'warmup_steps': 31, 'lambda_param': 0.8, 'temperature': 2.0}\n"
     ]
    },
    {
     "name": "stderr",
     "output_type": "stream",
     "text": [
      "Some weights of TimmWrapperForImageClassification were not initialized from the model checkpoint at timm/tiny_vit_5m_224.in1k and are newly initialized because the shapes did not match:\n",
      "- head.fc.bias: found shape torch.Size([1000]) in the checkpoint and torch.Size([10]) in the model instantiated\n",
      "- head.fc.weight: found shape torch.Size([1000, 320]) in the checkpoint and torch.Size([10, 320]) in the model instantiated\n",
      "You should probably TRAIN this model on a down-stream task to be able to use it for predictions and inference.\n"
     ]
    },
    {
     "data": {
      "text/html": [
       "\n",
       "    <div>\n",
       "      \n",
       "      <progress value='626' max='2191' style='width:300px; height:20px; vertical-align: middle;'></progress>\n",
       "      [ 626/2191 02:45 < 06:54, 3.78 it/s, Epoch 2/7]\n",
       "    </div>\n",
       "    <table border=\"1\" class=\"dataframe\">\n",
       "  <thead>\n",
       " <tr style=\"text-align: left;\">\n",
       "      <th>Epoch</th>\n",
       "      <th>Training Loss</th>\n",
       "      <th>Validation Loss</th>\n",
       "      <th>Accuracy</th>\n",
       "      <th>Precision</th>\n",
       "      <th>Recall</th>\n",
       "      <th>F1</th>\n",
       "    </tr>\n",
       "  </thead>\n",
       "  <tbody>\n",
       "    <tr>\n",
       "      <td>1</td>\n",
       "      <td>0.394100</td>\n",
       "      <td>0.254605</td>\n",
       "      <td>0.908900</td>\n",
       "      <td>0.915069</td>\n",
       "      <td>0.908880</td>\n",
       "      <td>0.909468</td>\n",
       "    </tr>\n",
       "    <tr>\n",
       "      <td>2</td>\n",
       "      <td>0.210600</td>\n",
       "      <td>0.230480</td>\n",
       "      <td>0.922500</td>\n",
       "      <td>0.929752</td>\n",
       "      <td>0.922957</td>\n",
       "      <td>0.922853</td>\n",
       "    </tr>\n",
       "  </tbody>\n",
       "</table><p>"
      ],
      "text/plain": [
       "<IPython.core.display.HTML object>"
      ]
     },
     "metadata": {},
     "output_type": "display_data"
    },
    {
     "name": "stderr",
     "output_type": "stream",
     "text": [
      "[I 2025-03-30 18:24:36,521] Trial 69 pruned. \n"
     ]
    },
    {
     "name": "stdout",
     "output_type": "stream",
     "text": [
      "Trial 70 with params: {'learning_rate': 0.0001812744264729855, 'weight_decay': 0.01, 'warmup_steps': 20, 'lambda_param': 0.9, 'temperature': 2.5}\n"
     ]
    },
    {
     "name": "stderr",
     "output_type": "stream",
     "text": [
      "Some weights of TimmWrapperForImageClassification were not initialized from the model checkpoint at timm/tiny_vit_5m_224.in1k and are newly initialized because the shapes did not match:\n",
      "- head.fc.bias: found shape torch.Size([1000]) in the checkpoint and torch.Size([10]) in the model instantiated\n",
      "- head.fc.weight: found shape torch.Size([1000, 320]) in the checkpoint and torch.Size([10, 320]) in the model instantiated\n",
      "You should probably TRAIN this model on a down-stream task to be able to use it for predictions and inference.\n"
     ]
    },
    {
     "data": {
      "text/html": [
       "\n",
       "    <div>\n",
       "      \n",
       "      <progress value='1252' max='2191' style='width:300px; height:20px; vertical-align: middle;'></progress>\n",
       "      [1252/2191 05:31 < 04:09, 3.77 it/s, Epoch 4/7]\n",
       "    </div>\n",
       "    <table border=\"1\" class=\"dataframe\">\n",
       "  <thead>\n",
       " <tr style=\"text-align: left;\">\n",
       "      <th>Epoch</th>\n",
       "      <th>Training Loss</th>\n",
       "      <th>Validation Loss</th>\n",
       "      <th>Accuracy</th>\n",
       "      <th>Precision</th>\n",
       "      <th>Recall</th>\n",
       "      <th>F1</th>\n",
       "    </tr>\n",
       "  </thead>\n",
       "  <tbody>\n",
       "    <tr>\n",
       "      <td>1</td>\n",
       "      <td>0.346100</td>\n",
       "      <td>0.182199</td>\n",
       "      <td>0.949900</td>\n",
       "      <td>0.951387</td>\n",
       "      <td>0.950066</td>\n",
       "      <td>0.950171</td>\n",
       "    </tr>\n",
       "    <tr>\n",
       "      <td>2</td>\n",
       "      <td>0.158900</td>\n",
       "      <td>0.164744</td>\n",
       "      <td>0.959900</td>\n",
       "      <td>0.960428</td>\n",
       "      <td>0.960092</td>\n",
       "      <td>0.960064</td>\n",
       "    </tr>\n",
       "    <tr>\n",
       "      <td>3</td>\n",
       "      <td>0.135300</td>\n",
       "      <td>0.155177</td>\n",
       "      <td>0.965600</td>\n",
       "      <td>0.966197</td>\n",
       "      <td>0.965706</td>\n",
       "      <td>0.965847</td>\n",
       "    </tr>\n",
       "    <tr>\n",
       "      <td>4</td>\n",
       "      <td>0.123500</td>\n",
       "      <td>0.155020</td>\n",
       "      <td>0.967000</td>\n",
       "      <td>0.967152</td>\n",
       "      <td>0.967157</td>\n",
       "      <td>0.967101</td>\n",
       "    </tr>\n",
       "  </tbody>\n",
       "</table><p>"
      ],
      "text/plain": [
       "<IPython.core.display.HTML object>"
      ]
     },
     "metadata": {},
     "output_type": "display_data"
    },
    {
     "name": "stderr",
     "output_type": "stream",
     "text": [
      "[I 2025-03-30 18:30:10,756] Trial 70 pruned. \n"
     ]
    },
    {
     "name": "stdout",
     "output_type": "stream",
     "text": [
      "Trial 71 with params: {'learning_rate': 0.0004384700251936054, 'weight_decay': 0.009000000000000001, 'warmup_steps': 30, 'lambda_param': 0.30000000000000004, 'temperature': 2.5}\n"
     ]
    },
    {
     "name": "stderr",
     "output_type": "stream",
     "text": [
      "Some weights of TimmWrapperForImageClassification were not initialized from the model checkpoint at timm/tiny_vit_5m_224.in1k and are newly initialized because the shapes did not match:\n",
      "- head.fc.bias: found shape torch.Size([1000]) in the checkpoint and torch.Size([10]) in the model instantiated\n",
      "- head.fc.weight: found shape torch.Size([1000, 320]) in the checkpoint and torch.Size([10, 320]) in the model instantiated\n",
      "You should probably TRAIN this model on a down-stream task to be able to use it for predictions and inference.\n"
     ]
    },
    {
     "data": {
      "text/html": [
       "\n",
       "    <div>\n",
       "      \n",
       "      <progress value='1252' max='2191' style='width:300px; height:20px; vertical-align: middle;'></progress>\n",
       "      [1252/2191 05:31 < 04:09, 3.77 it/s, Epoch 4/7]\n",
       "    </div>\n",
       "    <table border=\"1\" class=\"dataframe\">\n",
       "  <thead>\n",
       " <tr style=\"text-align: left;\">\n",
       "      <th>Epoch</th>\n",
       "      <th>Training Loss</th>\n",
       "      <th>Validation Loss</th>\n",
       "      <th>Accuracy</th>\n",
       "      <th>Precision</th>\n",
       "      <th>Recall</th>\n",
       "      <th>F1</th>\n",
       "    </tr>\n",
       "  </thead>\n",
       "  <tbody>\n",
       "    <tr>\n",
       "      <td>1</td>\n",
       "      <td>0.380400</td>\n",
       "      <td>0.254584</td>\n",
       "      <td>0.912300</td>\n",
       "      <td>0.915484</td>\n",
       "      <td>0.912913</td>\n",
       "      <td>0.911979</td>\n",
       "    </tr>\n",
       "    <tr>\n",
       "      <td>2</td>\n",
       "      <td>0.202400</td>\n",
       "      <td>0.221374</td>\n",
       "      <td>0.929400</td>\n",
       "      <td>0.932067</td>\n",
       "      <td>0.929641</td>\n",
       "      <td>0.929173</td>\n",
       "    </tr>\n",
       "    <tr>\n",
       "      <td>3</td>\n",
       "      <td>0.164700</td>\n",
       "      <td>0.186272</td>\n",
       "      <td>0.948700</td>\n",
       "      <td>0.949899</td>\n",
       "      <td>0.948775</td>\n",
       "      <td>0.949026</td>\n",
       "    </tr>\n",
       "    <tr>\n",
       "      <td>4</td>\n",
       "      <td>0.141700</td>\n",
       "      <td>0.166289</td>\n",
       "      <td>0.961100</td>\n",
       "      <td>0.961444</td>\n",
       "      <td>0.961198</td>\n",
       "      <td>0.961233</td>\n",
       "    </tr>\n",
       "  </tbody>\n",
       "</table><p>"
      ],
      "text/plain": [
       "<IPython.core.display.HTML object>"
      ]
     },
     "metadata": {},
     "output_type": "display_data"
    },
    {
     "name": "stderr",
     "output_type": "stream",
     "text": [
      "[I 2025-03-30 18:35:45,000] Trial 71 pruned. \n"
     ]
    },
    {
     "name": "stdout",
     "output_type": "stream",
     "text": [
      "Trial 72 with params: {'learning_rate': 0.0001157193379607402, 'weight_decay': 0.01, 'warmup_steps': 30, 'lambda_param': 0.5, 'temperature': 2.0}\n"
     ]
    },
    {
     "name": "stderr",
     "output_type": "stream",
     "text": [
      "Some weights of TimmWrapperForImageClassification were not initialized from the model checkpoint at timm/tiny_vit_5m_224.in1k and are newly initialized because the shapes did not match:\n",
      "- head.fc.bias: found shape torch.Size([1000]) in the checkpoint and torch.Size([10]) in the model instantiated\n",
      "- head.fc.weight: found shape torch.Size([1000, 320]) in the checkpoint and torch.Size([10, 320]) in the model instantiated\n",
      "You should probably TRAIN this model on a down-stream task to be able to use it for predictions and inference.\n"
     ]
    },
    {
     "data": {
      "text/html": [
       "\n",
       "    <div>\n",
       "      \n",
       "      <progress value='2191' max='2191' style='width:300px; height:20px; vertical-align: middle;'></progress>\n",
       "      [2191/2191 10:14, Epoch 7/7]\n",
       "    </div>\n",
       "    <table border=\"1\" class=\"dataframe\">\n",
       "  <thead>\n",
       " <tr style=\"text-align: left;\">\n",
       "      <th>Epoch</th>\n",
       "      <th>Training Loss</th>\n",
       "      <th>Validation Loss</th>\n",
       "      <th>Accuracy</th>\n",
       "      <th>Precision</th>\n",
       "      <th>Recall</th>\n",
       "      <th>F1</th>\n",
       "    </tr>\n",
       "  </thead>\n",
       "  <tbody>\n",
       "    <tr>\n",
       "      <td>1</td>\n",
       "      <td>0.373200</td>\n",
       "      <td>0.187135</td>\n",
       "      <td>0.947300</td>\n",
       "      <td>0.949753</td>\n",
       "      <td>0.947616</td>\n",
       "      <td>0.947516</td>\n",
       "    </tr>\n",
       "    <tr>\n",
       "      <td>2</td>\n",
       "      <td>0.150300</td>\n",
       "      <td>0.172185</td>\n",
       "      <td>0.955700</td>\n",
       "      <td>0.956735</td>\n",
       "      <td>0.955959</td>\n",
       "      <td>0.955932</td>\n",
       "    </tr>\n",
       "    <tr>\n",
       "      <td>3</td>\n",
       "      <td>0.129500</td>\n",
       "      <td>0.151521</td>\n",
       "      <td>0.967800</td>\n",
       "      <td>0.968054</td>\n",
       "      <td>0.967958</td>\n",
       "      <td>0.967961</td>\n",
       "    </tr>\n",
       "    <tr>\n",
       "      <td>4</td>\n",
       "      <td>0.119700</td>\n",
       "      <td>0.146844</td>\n",
       "      <td>0.971200</td>\n",
       "      <td>0.971361</td>\n",
       "      <td>0.971376</td>\n",
       "      <td>0.971334</td>\n",
       "    </tr>\n",
       "    <tr>\n",
       "      <td>5</td>\n",
       "      <td>0.114300</td>\n",
       "      <td>0.143321</td>\n",
       "      <td>0.970800</td>\n",
       "      <td>0.971576</td>\n",
       "      <td>0.970961</td>\n",
       "      <td>0.971023</td>\n",
       "    </tr>\n",
       "    <tr>\n",
       "      <td>6</td>\n",
       "      <td>0.111700</td>\n",
       "      <td>0.139744</td>\n",
       "      <td>0.973200</td>\n",
       "      <td>0.973423</td>\n",
       "      <td>0.973326</td>\n",
       "      <td>0.973335</td>\n",
       "    </tr>\n",
       "    <tr>\n",
       "      <td>7</td>\n",
       "      <td>0.110300</td>\n",
       "      <td>0.138604</td>\n",
       "      <td>0.974900</td>\n",
       "      <td>0.975045</td>\n",
       "      <td>0.975072</td>\n",
       "      <td>0.975019</td>\n",
       "    </tr>\n",
       "  </tbody>\n",
       "</table><p>"
      ],
      "text/plain": [
       "<IPython.core.display.HTML object>"
      ]
     },
     "metadata": {},
     "output_type": "display_data"
    },
    {
     "name": "stderr",
     "output_type": "stream",
     "text": [
      "[I 2025-03-30 18:46:02,690] Trial 72 finished with value: 0.9750186842896913 and parameters: {'learning_rate': 0.0001157193379607402, 'weight_decay': 0.01, 'warmup_steps': 30, 'lambda_param': 0.5, 'temperature': 2.0}. Best is trial 32 with value: 0.9764120594095738.\n"
     ]
    },
    {
     "name": "stdout",
     "output_type": "stream",
     "text": [
      "Trial 73 with params: {'learning_rate': 0.00016433668825404572, 'weight_decay': 0.01, 'warmup_steps': 22, 'lambda_param': 0.6000000000000001, 'temperature': 2.5}\n"
     ]
    },
    {
     "name": "stderr",
     "output_type": "stream",
     "text": [
      "Some weights of TimmWrapperForImageClassification were not initialized from the model checkpoint at timm/tiny_vit_5m_224.in1k and are newly initialized because the shapes did not match:\n",
      "- head.fc.bias: found shape torch.Size([1000]) in the checkpoint and torch.Size([10]) in the model instantiated\n",
      "- head.fc.weight: found shape torch.Size([1000, 320]) in the checkpoint and torch.Size([10, 320]) in the model instantiated\n",
      "You should probably TRAIN this model on a down-stream task to be able to use it for predictions and inference.\n"
     ]
    },
    {
     "data": {
      "text/html": [
       "\n",
       "    <div>\n",
       "      \n",
       "      <progress value='2191' max='2191' style='width:300px; height:20px; vertical-align: middle;'></progress>\n",
       "      [2191/2191 10:18, Epoch 7/7]\n",
       "    </div>\n",
       "    <table border=\"1\" class=\"dataframe\">\n",
       "  <thead>\n",
       " <tr style=\"text-align: left;\">\n",
       "      <th>Epoch</th>\n",
       "      <th>Training Loss</th>\n",
       "      <th>Validation Loss</th>\n",
       "      <th>Accuracy</th>\n",
       "      <th>Precision</th>\n",
       "      <th>Recall</th>\n",
       "      <th>F1</th>\n",
       "    </tr>\n",
       "  </thead>\n",
       "  <tbody>\n",
       "    <tr>\n",
       "      <td>1</td>\n",
       "      <td>0.344700</td>\n",
       "      <td>0.191760</td>\n",
       "      <td>0.946200</td>\n",
       "      <td>0.948953</td>\n",
       "      <td>0.946248</td>\n",
       "      <td>0.946636</td>\n",
       "    </tr>\n",
       "    <tr>\n",
       "      <td>2</td>\n",
       "      <td>0.156900</td>\n",
       "      <td>0.162277</td>\n",
       "      <td>0.962300</td>\n",
       "      <td>0.962926</td>\n",
       "      <td>0.962490</td>\n",
       "      <td>0.962574</td>\n",
       "    </tr>\n",
       "    <tr>\n",
       "      <td>3</td>\n",
       "      <td>0.134100</td>\n",
       "      <td>0.156675</td>\n",
       "      <td>0.965600</td>\n",
       "      <td>0.965970</td>\n",
       "      <td>0.965764</td>\n",
       "      <td>0.965817</td>\n",
       "    </tr>\n",
       "    <tr>\n",
       "      <td>4</td>\n",
       "      <td>0.121400</td>\n",
       "      <td>0.150660</td>\n",
       "      <td>0.969200</td>\n",
       "      <td>0.969560</td>\n",
       "      <td>0.969441</td>\n",
       "      <td>0.969348</td>\n",
       "    </tr>\n",
       "    <tr>\n",
       "      <td>5</td>\n",
       "      <td>0.115400</td>\n",
       "      <td>0.145824</td>\n",
       "      <td>0.970900</td>\n",
       "      <td>0.971678</td>\n",
       "      <td>0.971095</td>\n",
       "      <td>0.971093</td>\n",
       "    </tr>\n",
       "    <tr>\n",
       "      <td>6</td>\n",
       "      <td>0.112000</td>\n",
       "      <td>0.140080</td>\n",
       "      <td>0.973800</td>\n",
       "      <td>0.973916</td>\n",
       "      <td>0.973952</td>\n",
       "      <td>0.973910</td>\n",
       "    </tr>\n",
       "    <tr>\n",
       "      <td>7</td>\n",
       "      <td>0.110300</td>\n",
       "      <td>0.138404</td>\n",
       "      <td>0.975700</td>\n",
       "      <td>0.975743</td>\n",
       "      <td>0.975859</td>\n",
       "      <td>0.975779</td>\n",
       "    </tr>\n",
       "  </tbody>\n",
       "</table><p>"
      ],
      "text/plain": [
       "<IPython.core.display.HTML object>"
      ]
     },
     "metadata": {},
     "output_type": "display_data"
    },
    {
     "name": "stderr",
     "output_type": "stream",
     "text": [
      "[I 2025-03-30 18:56:23,631] Trial 73 finished with value: 0.9757787767116017 and parameters: {'learning_rate': 0.00016433668825404572, 'weight_decay': 0.01, 'warmup_steps': 22, 'lambda_param': 0.6000000000000001, 'temperature': 2.5}. Best is trial 32 with value: 0.9764120594095738.\n"
     ]
    },
    {
     "name": "stdout",
     "output_type": "stream",
     "text": [
      "Trial 74 with params: {'learning_rate': 0.00024147004208896432, 'weight_decay': 0.01, 'warmup_steps': 24, 'lambda_param': 0.6000000000000001, 'temperature': 2.0}\n"
     ]
    },
    {
     "name": "stderr",
     "output_type": "stream",
     "text": [
      "Some weights of TimmWrapperForImageClassification were not initialized from the model checkpoint at timm/tiny_vit_5m_224.in1k and are newly initialized because the shapes did not match:\n",
      "- head.fc.bias: found shape torch.Size([1000]) in the checkpoint and torch.Size([10]) in the model instantiated\n",
      "- head.fc.weight: found shape torch.Size([1000, 320]) in the checkpoint and torch.Size([10, 320]) in the model instantiated\n",
      "You should probably TRAIN this model on a down-stream task to be able to use it for predictions and inference.\n"
     ]
    },
    {
     "data": {
      "text/html": [
       "\n",
       "    <div>\n",
       "      \n",
       "      <progress value='626' max='2191' style='width:300px; height:20px; vertical-align: middle;'></progress>\n",
       "      [ 626/2191 02:46 < 06:56, 3.75 it/s, Epoch 2/7]\n",
       "    </div>\n",
       "    <table border=\"1\" class=\"dataframe\">\n",
       "  <thead>\n",
       " <tr style=\"text-align: left;\">\n",
       "      <th>Epoch</th>\n",
       "      <th>Training Loss</th>\n",
       "      <th>Validation Loss</th>\n",
       "      <th>Accuracy</th>\n",
       "      <th>Precision</th>\n",
       "      <th>Recall</th>\n",
       "      <th>F1</th>\n",
       "    </tr>\n",
       "  </thead>\n",
       "  <tbody>\n",
       "    <tr>\n",
       "      <td>1</td>\n",
       "      <td>0.345400</td>\n",
       "      <td>0.211408</td>\n",
       "      <td>0.933000</td>\n",
       "      <td>0.938416</td>\n",
       "      <td>0.933404</td>\n",
       "      <td>0.933459</td>\n",
       "    </tr>\n",
       "    <tr>\n",
       "      <td>2</td>\n",
       "      <td>0.168600</td>\n",
       "      <td>0.178357</td>\n",
       "      <td>0.952600</td>\n",
       "      <td>0.953069</td>\n",
       "      <td>0.952839</td>\n",
       "      <td>0.952669</td>\n",
       "    </tr>\n",
       "  </tbody>\n",
       "</table><p>"
      ],
      "text/plain": [
       "<IPython.core.display.HTML object>"
      ]
     },
     "metadata": {},
     "output_type": "display_data"
    },
    {
     "name": "stderr",
     "output_type": "stream",
     "text": [
      "[I 2025-03-30 18:59:11,772] Trial 74 pruned. \n"
     ]
    },
    {
     "name": "stdout",
     "output_type": "stream",
     "text": [
      "Trial 75 with params: {'learning_rate': 0.00011732516921287371, 'weight_decay': 0.01, 'warmup_steps': 29, 'lambda_param': 0.6000000000000001, 'temperature': 2.5}\n"
     ]
    },
    {
     "name": "stderr",
     "output_type": "stream",
     "text": [
      "Some weights of TimmWrapperForImageClassification were not initialized from the model checkpoint at timm/tiny_vit_5m_224.in1k and are newly initialized because the shapes did not match:\n",
      "- head.fc.bias: found shape torch.Size([1000]) in the checkpoint and torch.Size([10]) in the model instantiated\n",
      "- head.fc.weight: found shape torch.Size([1000, 320]) in the checkpoint and torch.Size([10, 320]) in the model instantiated\n",
      "You should probably TRAIN this model on a down-stream task to be able to use it for predictions and inference.\n"
     ]
    },
    {
     "data": {
      "text/html": [
       "\n",
       "    <div>\n",
       "      \n",
       "      <progress value='2191' max='2191' style='width:300px; height:20px; vertical-align: middle;'></progress>\n",
       "      [2191/2191 09:44, Epoch 7/7]\n",
       "    </div>\n",
       "    <table border=\"1\" class=\"dataframe\">\n",
       "  <thead>\n",
       " <tr style=\"text-align: left;\">\n",
       "      <th>Epoch</th>\n",
       "      <th>Training Loss</th>\n",
       "      <th>Validation Loss</th>\n",
       "      <th>Accuracy</th>\n",
       "      <th>Precision</th>\n",
       "      <th>Recall</th>\n",
       "      <th>F1</th>\n",
       "    </tr>\n",
       "  </thead>\n",
       "  <tbody>\n",
       "    <tr>\n",
       "      <td>1</td>\n",
       "      <td>0.365800</td>\n",
       "      <td>0.186510</td>\n",
       "      <td>0.946700</td>\n",
       "      <td>0.949909</td>\n",
       "      <td>0.946781</td>\n",
       "      <td>0.947177</td>\n",
       "    </tr>\n",
       "    <tr>\n",
       "      <td>2</td>\n",
       "      <td>0.152200</td>\n",
       "      <td>0.163599</td>\n",
       "      <td>0.959700</td>\n",
       "      <td>0.960712</td>\n",
       "      <td>0.959727</td>\n",
       "      <td>0.959995</td>\n",
       "    </tr>\n",
       "    <tr>\n",
       "      <td>3</td>\n",
       "      <td>0.130200</td>\n",
       "      <td>0.157304</td>\n",
       "      <td>0.963800</td>\n",
       "      <td>0.964518</td>\n",
       "      <td>0.964046</td>\n",
       "      <td>0.964034</td>\n",
       "    </tr>\n",
       "    <tr>\n",
       "      <td>4</td>\n",
       "      <td>0.118900</td>\n",
       "      <td>0.150052</td>\n",
       "      <td>0.968800</td>\n",
       "      <td>0.968828</td>\n",
       "      <td>0.969016</td>\n",
       "      <td>0.968893</td>\n",
       "    </tr>\n",
       "    <tr>\n",
       "      <td>5</td>\n",
       "      <td>0.113900</td>\n",
       "      <td>0.143664</td>\n",
       "      <td>0.971000</td>\n",
       "      <td>0.971478</td>\n",
       "      <td>0.971129</td>\n",
       "      <td>0.971197</td>\n",
       "    </tr>\n",
       "    <tr>\n",
       "      <td>6</td>\n",
       "      <td>0.111500</td>\n",
       "      <td>0.141027</td>\n",
       "      <td>0.973200</td>\n",
       "      <td>0.973500</td>\n",
       "      <td>0.973308</td>\n",
       "      <td>0.973370</td>\n",
       "    </tr>\n",
       "    <tr>\n",
       "      <td>7</td>\n",
       "      <td>0.110100</td>\n",
       "      <td>0.139608</td>\n",
       "      <td>0.973600</td>\n",
       "      <td>0.973831</td>\n",
       "      <td>0.973739</td>\n",
       "      <td>0.973757</td>\n",
       "    </tr>\n",
       "  </tbody>\n",
       "</table><p>"
      ],
      "text/plain": [
       "<IPython.core.display.HTML object>"
      ]
     },
     "metadata": {},
     "output_type": "display_data"
    },
    {
     "name": "stderr",
     "output_type": "stream",
     "text": [
      "[I 2025-03-30 19:08:59,478] Trial 75 finished with value: 0.9737566722834966 and parameters: {'learning_rate': 0.00011732516921287371, 'weight_decay': 0.01, 'warmup_steps': 29, 'lambda_param': 0.6000000000000001, 'temperature': 2.5}. Best is trial 32 with value: 0.9764120594095738.\n"
     ]
    },
    {
     "name": "stdout",
     "output_type": "stream",
     "text": [
      "Trial 76 with params: {'learning_rate': 6.499882416252976e-05, 'weight_decay': 0.008, 'warmup_steps': 24, 'lambda_param': 0.2, 'temperature': 2.5}\n"
     ]
    },
    {
     "name": "stderr",
     "output_type": "stream",
     "text": [
      "Some weights of TimmWrapperForImageClassification were not initialized from the model checkpoint at timm/tiny_vit_5m_224.in1k and are newly initialized because the shapes did not match:\n",
      "- head.fc.bias: found shape torch.Size([1000]) in the checkpoint and torch.Size([10]) in the model instantiated\n",
      "- head.fc.weight: found shape torch.Size([1000, 320]) in the checkpoint and torch.Size([10, 320]) in the model instantiated\n",
      "You should probably TRAIN this model on a down-stream task to be able to use it for predictions and inference.\n"
     ]
    },
    {
     "data": {
      "text/html": [
       "\n",
       "    <div>\n",
       "      \n",
       "      <progress value='2191' max='2191' style='width:300px; height:20px; vertical-align: middle;'></progress>\n",
       "      [2191/2191 09:45, Epoch 7/7]\n",
       "    </div>\n",
       "    <table border=\"1\" class=\"dataframe\">\n",
       "  <thead>\n",
       " <tr style=\"text-align: left;\">\n",
       "      <th>Epoch</th>\n",
       "      <th>Training Loss</th>\n",
       "      <th>Validation Loss</th>\n",
       "      <th>Accuracy</th>\n",
       "      <th>Precision</th>\n",
       "      <th>Recall</th>\n",
       "      <th>F1</th>\n",
       "    </tr>\n",
       "  </thead>\n",
       "  <tbody>\n",
       "    <tr>\n",
       "      <td>1</td>\n",
       "      <td>0.409000</td>\n",
       "      <td>0.178598</td>\n",
       "      <td>0.953900</td>\n",
       "      <td>0.954815</td>\n",
       "      <td>0.954053</td>\n",
       "      <td>0.954103</td>\n",
       "    </tr>\n",
       "    <tr>\n",
       "      <td>2</td>\n",
       "      <td>0.152400</td>\n",
       "      <td>0.164578</td>\n",
       "      <td>0.961300</td>\n",
       "      <td>0.961614</td>\n",
       "      <td>0.961463</td>\n",
       "      <td>0.961414</td>\n",
       "    </tr>\n",
       "    <tr>\n",
       "      <td>3</td>\n",
       "      <td>0.129000</td>\n",
       "      <td>0.154315</td>\n",
       "      <td>0.967000</td>\n",
       "      <td>0.967099</td>\n",
       "      <td>0.967171</td>\n",
       "      <td>0.967060</td>\n",
       "    </tr>\n",
       "    <tr>\n",
       "      <td>4</td>\n",
       "      <td>0.118300</td>\n",
       "      <td>0.150236</td>\n",
       "      <td>0.968300</td>\n",
       "      <td>0.968421</td>\n",
       "      <td>0.968428</td>\n",
       "      <td>0.968400</td>\n",
       "    </tr>\n",
       "    <tr>\n",
       "      <td>5</td>\n",
       "      <td>0.113900</td>\n",
       "      <td>0.147812</td>\n",
       "      <td>0.968300</td>\n",
       "      <td>0.968845</td>\n",
       "      <td>0.968445</td>\n",
       "      <td>0.968466</td>\n",
       "    </tr>\n",
       "    <tr>\n",
       "      <td>6</td>\n",
       "      <td>0.111800</td>\n",
       "      <td>0.144484</td>\n",
       "      <td>0.970300</td>\n",
       "      <td>0.970612</td>\n",
       "      <td>0.970397</td>\n",
       "      <td>0.970427</td>\n",
       "    </tr>\n",
       "    <tr>\n",
       "      <td>7</td>\n",
       "      <td>0.110300</td>\n",
       "      <td>0.143547</td>\n",
       "      <td>0.970800</td>\n",
       "      <td>0.970922</td>\n",
       "      <td>0.970948</td>\n",
       "      <td>0.970883</td>\n",
       "    </tr>\n",
       "  </tbody>\n",
       "</table><p>"
      ],
      "text/plain": [
       "<IPython.core.display.HTML object>"
      ]
     },
     "metadata": {},
     "output_type": "display_data"
    },
    {
     "name": "stderr",
     "output_type": "stream",
     "text": [
      "[I 2025-03-30 19:18:47,739] Trial 76 finished with value: 0.970882645809992 and parameters: {'learning_rate': 6.499882416252976e-05, 'weight_decay': 0.008, 'warmup_steps': 24, 'lambda_param': 0.2, 'temperature': 2.5}. Best is trial 32 with value: 0.9764120594095738.\n"
     ]
    },
    {
     "name": "stdout",
     "output_type": "stream",
     "text": [
      "Trial 77 with params: {'learning_rate': 5.112429509287801e-05, 'weight_decay': 0.009000000000000001, 'warmup_steps': 22, 'lambda_param': 0.6000000000000001, 'temperature': 2.0}\n"
     ]
    },
    {
     "name": "stderr",
     "output_type": "stream",
     "text": [
      "Some weights of TimmWrapperForImageClassification were not initialized from the model checkpoint at timm/tiny_vit_5m_224.in1k and are newly initialized because the shapes did not match:\n",
      "- head.fc.bias: found shape torch.Size([1000]) in the checkpoint and torch.Size([10]) in the model instantiated\n",
      "- head.fc.weight: found shape torch.Size([1000, 320]) in the checkpoint and torch.Size([10, 320]) in the model instantiated\n",
      "You should probably TRAIN this model on a down-stream task to be able to use it for predictions and inference.\n"
     ]
    },
    {
     "data": {
      "text/html": [
       "\n",
       "    <div>\n",
       "      \n",
       "      <progress value='1252' max='2191' style='width:300px; height:20px; vertical-align: middle;'></progress>\n",
       "      [1252/2191 05:33 < 04:10, 3.75 it/s, Epoch 4/7]\n",
       "    </div>\n",
       "    <table border=\"1\" class=\"dataframe\">\n",
       "  <thead>\n",
       " <tr style=\"text-align: left;\">\n",
       "      <th>Epoch</th>\n",
       "      <th>Training Loss</th>\n",
       "      <th>Validation Loss</th>\n",
       "      <th>Accuracy</th>\n",
       "      <th>Precision</th>\n",
       "      <th>Recall</th>\n",
       "      <th>F1</th>\n",
       "    </tr>\n",
       "  </thead>\n",
       "  <tbody>\n",
       "    <tr>\n",
       "      <td>1</td>\n",
       "      <td>0.444500</td>\n",
       "      <td>0.181496</td>\n",
       "      <td>0.950100</td>\n",
       "      <td>0.952788</td>\n",
       "      <td>0.950338</td>\n",
       "      <td>0.950538</td>\n",
       "    </tr>\n",
       "    <tr>\n",
       "      <td>2</td>\n",
       "      <td>0.151800</td>\n",
       "      <td>0.162980</td>\n",
       "      <td>0.961000</td>\n",
       "      <td>0.961463</td>\n",
       "      <td>0.961128</td>\n",
       "      <td>0.961169</td>\n",
       "    </tr>\n",
       "    <tr>\n",
       "      <td>3</td>\n",
       "      <td>0.128900</td>\n",
       "      <td>0.154632</td>\n",
       "      <td>0.964200</td>\n",
       "      <td>0.964398</td>\n",
       "      <td>0.964328</td>\n",
       "      <td>0.964319</td>\n",
       "    </tr>\n",
       "    <tr>\n",
       "      <td>4</td>\n",
       "      <td>0.118300</td>\n",
       "      <td>0.151474</td>\n",
       "      <td>0.966600</td>\n",
       "      <td>0.966756</td>\n",
       "      <td>0.966773</td>\n",
       "      <td>0.966736</td>\n",
       "    </tr>\n",
       "  </tbody>\n",
       "</table><p>"
      ],
      "text/plain": [
       "<IPython.core.display.HTML object>"
      ]
     },
     "metadata": {},
     "output_type": "display_data"
    },
    {
     "name": "stderr",
     "output_type": "stream",
     "text": [
      "[I 2025-03-30 19:24:22,853] Trial 77 pruned. \n"
     ]
    },
    {
     "name": "stdout",
     "output_type": "stream",
     "text": [
      "Trial 78 with params: {'learning_rate': 0.00027811595208962893, 'weight_decay': 0.004, 'warmup_steps': 3, 'lambda_param': 0.2, 'temperature': 4.5}\n"
     ]
    },
    {
     "name": "stderr",
     "output_type": "stream",
     "text": [
      "Some weights of TimmWrapperForImageClassification were not initialized from the model checkpoint at timm/tiny_vit_5m_224.in1k and are newly initialized because the shapes did not match:\n",
      "- head.fc.bias: found shape torch.Size([1000]) in the checkpoint and torch.Size([10]) in the model instantiated\n",
      "- head.fc.weight: found shape torch.Size([1000, 320]) in the checkpoint and torch.Size([10, 320]) in the model instantiated\n",
      "You should probably TRAIN this model on a down-stream task to be able to use it for predictions and inference.\n"
     ]
    },
    {
     "data": {
      "text/html": [
       "\n",
       "    <div>\n",
       "      \n",
       "      <progress value='1252' max='2191' style='width:300px; height:20px; vertical-align: middle;'></progress>\n",
       "      [1252/2191 05:33 < 04:10, 3.75 it/s, Epoch 4/7]\n",
       "    </div>\n",
       "    <table border=\"1\" class=\"dataframe\">\n",
       "  <thead>\n",
       " <tr style=\"text-align: left;\">\n",
       "      <th>Epoch</th>\n",
       "      <th>Training Loss</th>\n",
       "      <th>Validation Loss</th>\n",
       "      <th>Accuracy</th>\n",
       "      <th>Precision</th>\n",
       "      <th>Recall</th>\n",
       "      <th>F1</th>\n",
       "    </tr>\n",
       "  </thead>\n",
       "  <tbody>\n",
       "    <tr>\n",
       "      <td>1</td>\n",
       "      <td>0.309900</td>\n",
       "      <td>0.213037</td>\n",
       "      <td>0.935200</td>\n",
       "      <td>0.938137</td>\n",
       "      <td>0.935488</td>\n",
       "      <td>0.935351</td>\n",
       "    </tr>\n",
       "    <tr>\n",
       "      <td>2</td>\n",
       "      <td>0.172400</td>\n",
       "      <td>0.185315</td>\n",
       "      <td>0.950700</td>\n",
       "      <td>0.952196</td>\n",
       "      <td>0.951004</td>\n",
       "      <td>0.950766</td>\n",
       "    </tr>\n",
       "    <tr>\n",
       "      <td>3</td>\n",
       "      <td>0.145900</td>\n",
       "      <td>0.165353</td>\n",
       "      <td>0.960800</td>\n",
       "      <td>0.960995</td>\n",
       "      <td>0.960971</td>\n",
       "      <td>0.960928</td>\n",
       "    </tr>\n",
       "    <tr>\n",
       "      <td>4</td>\n",
       "      <td>0.129800</td>\n",
       "      <td>0.156759</td>\n",
       "      <td>0.964800</td>\n",
       "      <td>0.965641</td>\n",
       "      <td>0.964936</td>\n",
       "      <td>0.965078</td>\n",
       "    </tr>\n",
       "  </tbody>\n",
       "</table><p>"
      ],
      "text/plain": [
       "<IPython.core.display.HTML object>"
      ]
     },
     "metadata": {},
     "output_type": "display_data"
    },
    {
     "name": "stderr",
     "output_type": "stream",
     "text": [
      "[I 2025-03-30 19:29:58,093] Trial 78 pruned. \n"
     ]
    },
    {
     "name": "stdout",
     "output_type": "stream",
     "text": [
      "Trial 79 with params: {'learning_rate': 0.0001886911249849553, 'weight_decay': 0.01, 'warmup_steps': 23, 'lambda_param': 1.0, 'temperature': 5.0}\n"
     ]
    },
    {
     "name": "stderr",
     "output_type": "stream",
     "text": [
      "Some weights of TimmWrapperForImageClassification were not initialized from the model checkpoint at timm/tiny_vit_5m_224.in1k and are newly initialized because the shapes did not match:\n",
      "- head.fc.bias: found shape torch.Size([1000]) in the checkpoint and torch.Size([10]) in the model instantiated\n",
      "- head.fc.weight: found shape torch.Size([1000, 320]) in the checkpoint and torch.Size([10, 320]) in the model instantiated\n",
      "You should probably TRAIN this model on a down-stream task to be able to use it for predictions and inference.\n"
     ]
    },
    {
     "data": {
      "text/html": [
       "\n",
       "    <div>\n",
       "      \n",
       "      <progress value='1252' max='2191' style='width:300px; height:20px; vertical-align: middle;'></progress>\n",
       "      [1252/2191 05:31 < 04:09, 3.77 it/s, Epoch 4/7]\n",
       "    </div>\n",
       "    <table border=\"1\" class=\"dataframe\">\n",
       "  <thead>\n",
       " <tr style=\"text-align: left;\">\n",
       "      <th>Epoch</th>\n",
       "      <th>Training Loss</th>\n",
       "      <th>Validation Loss</th>\n",
       "      <th>Accuracy</th>\n",
       "      <th>Precision</th>\n",
       "      <th>Recall</th>\n",
       "      <th>F1</th>\n",
       "    </tr>\n",
       "  </thead>\n",
       "  <tbody>\n",
       "    <tr>\n",
       "      <td>1</td>\n",
       "      <td>0.342200</td>\n",
       "      <td>0.213555</td>\n",
       "      <td>0.929900</td>\n",
       "      <td>0.938377</td>\n",
       "      <td>0.930249</td>\n",
       "      <td>0.931171</td>\n",
       "    </tr>\n",
       "    <tr>\n",
       "      <td>2</td>\n",
       "      <td>0.160300</td>\n",
       "      <td>0.169651</td>\n",
       "      <td>0.959700</td>\n",
       "      <td>0.960071</td>\n",
       "      <td>0.959870</td>\n",
       "      <td>0.959738</td>\n",
       "    </tr>\n",
       "    <tr>\n",
       "      <td>3</td>\n",
       "      <td>0.137000</td>\n",
       "      <td>0.165168</td>\n",
       "      <td>0.958600</td>\n",
       "      <td>0.959365</td>\n",
       "      <td>0.958796</td>\n",
       "      <td>0.958879</td>\n",
       "    </tr>\n",
       "    <tr>\n",
       "      <td>4</td>\n",
       "      <td>0.123600</td>\n",
       "      <td>0.156781</td>\n",
       "      <td>0.963800</td>\n",
       "      <td>0.964327</td>\n",
       "      <td>0.963925</td>\n",
       "      <td>0.964046</td>\n",
       "    </tr>\n",
       "  </tbody>\n",
       "</table><p>"
      ],
      "text/plain": [
       "<IPython.core.display.HTML object>"
      ]
     },
     "metadata": {},
     "output_type": "display_data"
    },
    {
     "name": "stderr",
     "output_type": "stream",
     "text": [
      "[I 2025-03-30 19:35:32,247] Trial 79 pruned. \n"
     ]
    },
    {
     "name": "stdout",
     "output_type": "stream",
     "text": [
      "Trial 80 with params: {'learning_rate': 0.0029063834285411286, 'weight_decay': 0.01, 'warmup_steps': 6, 'lambda_param': 0.5, 'temperature': 3.0}\n"
     ]
    },
    {
     "name": "stderr",
     "output_type": "stream",
     "text": [
      "Some weights of TimmWrapperForImageClassification were not initialized from the model checkpoint at timm/tiny_vit_5m_224.in1k and are newly initialized because the shapes did not match:\n",
      "- head.fc.bias: found shape torch.Size([1000]) in the checkpoint and torch.Size([10]) in the model instantiated\n",
      "- head.fc.weight: found shape torch.Size([1000, 320]) in the checkpoint and torch.Size([10, 320]) in the model instantiated\n",
      "You should probably TRAIN this model on a down-stream task to be able to use it for predictions and inference.\n"
     ]
    },
    {
     "data": {
      "text/html": [
       "\n",
       "    <div>\n",
       "      \n",
       "      <progress value='1252' max='2191' style='width:300px; height:20px; vertical-align: middle;'></progress>\n",
       "      [1252/2191 05:32 < 04:09, 3.76 it/s, Epoch 4/7]\n",
       "    </div>\n",
       "    <table border=\"1\" class=\"dataframe\">\n",
       "  <thead>\n",
       " <tr style=\"text-align: left;\">\n",
       "      <th>Epoch</th>\n",
       "      <th>Training Loss</th>\n",
       "      <th>Validation Loss</th>\n",
       "      <th>Accuracy</th>\n",
       "      <th>Precision</th>\n",
       "      <th>Recall</th>\n",
       "      <th>F1</th>\n",
       "    </tr>\n",
       "  </thead>\n",
       "  <tbody>\n",
       "    <tr>\n",
       "      <td>1</td>\n",
       "      <td>1.504400</td>\n",
       "      <td>1.540771</td>\n",
       "      <td>0.109200</td>\n",
       "      <td>0.089861</td>\n",
       "      <td>0.112691</td>\n",
       "      <td>0.058030</td>\n",
       "    </tr>\n",
       "    <tr>\n",
       "      <td>2</td>\n",
       "      <td>1.530300</td>\n",
       "      <td>1.554460</td>\n",
       "      <td>0.107300</td>\n",
       "      <td>0.038104</td>\n",
       "      <td>0.105974</td>\n",
       "      <td>0.041242</td>\n",
       "    </tr>\n",
       "    <tr>\n",
       "      <td>3</td>\n",
       "      <td>1.553900</td>\n",
       "      <td>1.546471</td>\n",
       "      <td>0.125900</td>\n",
       "      <td>0.066471</td>\n",
       "      <td>0.124758</td>\n",
       "      <td>0.050592</td>\n",
       "    </tr>\n",
       "    <tr>\n",
       "      <td>4</td>\n",
       "      <td>1.540300</td>\n",
       "      <td>1.542118</td>\n",
       "      <td>0.119500</td>\n",
       "      <td>0.108646</td>\n",
       "      <td>0.118952</td>\n",
       "      <td>0.064561</td>\n",
       "    </tr>\n",
       "  </tbody>\n",
       "</table><p>"
      ],
      "text/plain": [
       "<IPython.core.display.HTML object>"
      ]
     },
     "metadata": {},
     "output_type": "display_data"
    },
    {
     "name": "stderr",
     "output_type": "stream",
     "text": [
      "[I 2025-03-30 19:41:07,192] Trial 80 pruned. \n"
     ]
    },
    {
     "name": "stdout",
     "output_type": "stream",
     "text": [
      "Trial 81 with params: {'learning_rate': 0.00012529294005663154, 'weight_decay': 0.01, 'warmup_steps': 19, 'lambda_param': 0.4, 'temperature': 3.0}\n"
     ]
    },
    {
     "name": "stderr",
     "output_type": "stream",
     "text": [
      "Some weights of TimmWrapperForImageClassification were not initialized from the model checkpoint at timm/tiny_vit_5m_224.in1k and are newly initialized because the shapes did not match:\n",
      "- head.fc.bias: found shape torch.Size([1000]) in the checkpoint and torch.Size([10]) in the model instantiated\n",
      "- head.fc.weight: found shape torch.Size([1000, 320]) in the checkpoint and torch.Size([10, 320]) in the model instantiated\n",
      "You should probably TRAIN this model on a down-stream task to be able to use it for predictions and inference.\n"
     ]
    },
    {
     "data": {
      "text/html": [
       "\n",
       "    <div>\n",
       "      \n",
       "      <progress value='2191' max='2191' style='width:300px; height:20px; vertical-align: middle;'></progress>\n",
       "      [2191/2191 10:11, Epoch 7/7]\n",
       "    </div>\n",
       "    <table border=\"1\" class=\"dataframe\">\n",
       "  <thead>\n",
       " <tr style=\"text-align: left;\">\n",
       "      <th>Epoch</th>\n",
       "      <th>Training Loss</th>\n",
       "      <th>Validation Loss</th>\n",
       "      <th>Accuracy</th>\n",
       "      <th>Precision</th>\n",
       "      <th>Recall</th>\n",
       "      <th>F1</th>\n",
       "    </tr>\n",
       "  </thead>\n",
       "  <tbody>\n",
       "    <tr>\n",
       "      <td>1</td>\n",
       "      <td>0.355300</td>\n",
       "      <td>0.180832</td>\n",
       "      <td>0.949800</td>\n",
       "      <td>0.953294</td>\n",
       "      <td>0.949933</td>\n",
       "      <td>0.950404</td>\n",
       "    </tr>\n",
       "    <tr>\n",
       "      <td>2</td>\n",
       "      <td>0.150200</td>\n",
       "      <td>0.162118</td>\n",
       "      <td>0.962300</td>\n",
       "      <td>0.962488</td>\n",
       "      <td>0.962497</td>\n",
       "      <td>0.962395</td>\n",
       "    </tr>\n",
       "    <tr>\n",
       "      <td>3</td>\n",
       "      <td>0.130400</td>\n",
       "      <td>0.153666</td>\n",
       "      <td>0.965400</td>\n",
       "      <td>0.966526</td>\n",
       "      <td>0.965531</td>\n",
       "      <td>0.965638</td>\n",
       "    </tr>\n",
       "    <tr>\n",
       "      <td>4</td>\n",
       "      <td>0.119900</td>\n",
       "      <td>0.146885</td>\n",
       "      <td>0.972900</td>\n",
       "      <td>0.973086</td>\n",
       "      <td>0.973043</td>\n",
       "      <td>0.973001</td>\n",
       "    </tr>\n",
       "    <tr>\n",
       "      <td>5</td>\n",
       "      <td>0.114100</td>\n",
       "      <td>0.141135</td>\n",
       "      <td>0.974100</td>\n",
       "      <td>0.974379</td>\n",
       "      <td>0.974241</td>\n",
       "      <td>0.974242</td>\n",
       "    </tr>\n",
       "    <tr>\n",
       "      <td>6</td>\n",
       "      <td>0.111500</td>\n",
       "      <td>0.139685</td>\n",
       "      <td>0.973800</td>\n",
       "      <td>0.974096</td>\n",
       "      <td>0.973943</td>\n",
       "      <td>0.973963</td>\n",
       "    </tr>\n",
       "    <tr>\n",
       "      <td>7</td>\n",
       "      <td>0.110000</td>\n",
       "      <td>0.137842</td>\n",
       "      <td>0.974600</td>\n",
       "      <td>0.974804</td>\n",
       "      <td>0.974759</td>\n",
       "      <td>0.974716</td>\n",
       "    </tr>\n",
       "  </tbody>\n",
       "</table><p>"
      ],
      "text/plain": [
       "<IPython.core.display.HTML object>"
      ]
     },
     "metadata": {},
     "output_type": "display_data"
    },
    {
     "name": "stderr",
     "output_type": "stream",
     "text": [
      "[I 2025-03-30 19:51:21,176] Trial 81 finished with value: 0.9747164107173752 and parameters: {'learning_rate': 0.00012529294005663154, 'weight_decay': 0.01, 'warmup_steps': 19, 'lambda_param': 0.4, 'temperature': 3.0}. Best is trial 32 with value: 0.9764120594095738.\n"
     ]
    },
    {
     "name": "stdout",
     "output_type": "stream",
     "text": [
      "Trial 82 with params: {'learning_rate': 0.0001749207784979569, 'weight_decay': 0.01, 'warmup_steps': 16, 'lambda_param': 0.4, 'temperature': 2.5}\n"
     ]
    },
    {
     "name": "stderr",
     "output_type": "stream",
     "text": [
      "Some weights of TimmWrapperForImageClassification were not initialized from the model checkpoint at timm/tiny_vit_5m_224.in1k and are newly initialized because the shapes did not match:\n",
      "- head.fc.bias: found shape torch.Size([1000]) in the checkpoint and torch.Size([10]) in the model instantiated\n",
      "- head.fc.weight: found shape torch.Size([1000, 320]) in the checkpoint and torch.Size([10, 320]) in the model instantiated\n",
      "You should probably TRAIN this model on a down-stream task to be able to use it for predictions and inference.\n"
     ]
    },
    {
     "data": {
      "text/html": [
       "\n",
       "    <div>\n",
       "      \n",
       "      <progress value='2191' max='2191' style='width:300px; height:20px; vertical-align: middle;'></progress>\n",
       "      [2191/2191 09:46, Epoch 7/7]\n",
       "    </div>\n",
       "    <table border=\"1\" class=\"dataframe\">\n",
       "  <thead>\n",
       " <tr style=\"text-align: left;\">\n",
       "      <th>Epoch</th>\n",
       "      <th>Training Loss</th>\n",
       "      <th>Validation Loss</th>\n",
       "      <th>Accuracy</th>\n",
       "      <th>Precision</th>\n",
       "      <th>Recall</th>\n",
       "      <th>F1</th>\n",
       "    </tr>\n",
       "  </thead>\n",
       "  <tbody>\n",
       "    <tr>\n",
       "      <td>1</td>\n",
       "      <td>0.335300</td>\n",
       "      <td>0.206263</td>\n",
       "      <td>0.934900</td>\n",
       "      <td>0.938002</td>\n",
       "      <td>0.935396</td>\n",
       "      <td>0.935076</td>\n",
       "    </tr>\n",
       "    <tr>\n",
       "      <td>2</td>\n",
       "      <td>0.159000</td>\n",
       "      <td>0.166496</td>\n",
       "      <td>0.960900</td>\n",
       "      <td>0.961526</td>\n",
       "      <td>0.961027</td>\n",
       "      <td>0.961055</td>\n",
       "    </tr>\n",
       "    <tr>\n",
       "      <td>3</td>\n",
       "      <td>0.135000</td>\n",
       "      <td>0.155126</td>\n",
       "      <td>0.967100</td>\n",
       "      <td>0.967236</td>\n",
       "      <td>0.967317</td>\n",
       "      <td>0.967233</td>\n",
       "    </tr>\n",
       "    <tr>\n",
       "      <td>4</td>\n",
       "      <td>0.122600</td>\n",
       "      <td>0.149320</td>\n",
       "      <td>0.968900</td>\n",
       "      <td>0.969049</td>\n",
       "      <td>0.969046</td>\n",
       "      <td>0.968993</td>\n",
       "    </tr>\n",
       "    <tr>\n",
       "      <td>5</td>\n",
       "      <td>0.115800</td>\n",
       "      <td>0.142377</td>\n",
       "      <td>0.971200</td>\n",
       "      <td>0.971365</td>\n",
       "      <td>0.971282</td>\n",
       "      <td>0.971305</td>\n",
       "    </tr>\n",
       "    <tr>\n",
       "      <td>6</td>\n",
       "      <td>0.112300</td>\n",
       "      <td>0.139334</td>\n",
       "      <td>0.974900</td>\n",
       "      <td>0.975028</td>\n",
       "      <td>0.975040</td>\n",
       "      <td>0.974992</td>\n",
       "    </tr>\n",
       "    <tr>\n",
       "      <td>7</td>\n",
       "      <td>0.110500</td>\n",
       "      <td>0.137911</td>\n",
       "      <td>0.975500</td>\n",
       "      <td>0.975587</td>\n",
       "      <td>0.975656</td>\n",
       "      <td>0.975601</td>\n",
       "    </tr>\n",
       "  </tbody>\n",
       "</table><p>"
      ],
      "text/plain": [
       "<IPython.core.display.HTML object>"
      ]
     },
     "metadata": {},
     "output_type": "display_data"
    },
    {
     "name": "stderr",
     "output_type": "stream",
     "text": [
      "[I 2025-03-30 20:01:10,356] Trial 82 finished with value: 0.9756009071838184 and parameters: {'learning_rate': 0.0001749207784979569, 'weight_decay': 0.01, 'warmup_steps': 16, 'lambda_param': 0.4, 'temperature': 2.5}. Best is trial 32 with value: 0.9764120594095738.\n"
     ]
    },
    {
     "name": "stdout",
     "output_type": "stream",
     "text": [
      "Trial 83 with params: {'learning_rate': 0.0002580032025713817, 'weight_decay': 0.01, 'warmup_steps': 19, 'lambda_param': 0.4, 'temperature': 4.0}\n"
     ]
    },
    {
     "name": "stderr",
     "output_type": "stream",
     "text": [
      "Some weights of TimmWrapperForImageClassification were not initialized from the model checkpoint at timm/tiny_vit_5m_224.in1k and are newly initialized because the shapes did not match:\n",
      "- head.fc.bias: found shape torch.Size([1000]) in the checkpoint and torch.Size([10]) in the model instantiated\n",
      "- head.fc.weight: found shape torch.Size([1000, 320]) in the checkpoint and torch.Size([10, 320]) in the model instantiated\n",
      "You should probably TRAIN this model on a down-stream task to be able to use it for predictions and inference.\n"
     ]
    },
    {
     "data": {
      "text/html": [
       "\n",
       "    <div>\n",
       "      \n",
       "      <progress value='626' max='2191' style='width:300px; height:20px; vertical-align: middle;'></progress>\n",
       "      [ 626/2191 02:59 < 07:30, 3.47 it/s, Epoch 2/7]\n",
       "    </div>\n",
       "    <table border=\"1\" class=\"dataframe\">\n",
       "  <thead>\n",
       " <tr style=\"text-align: left;\">\n",
       "      <th>Epoch</th>\n",
       "      <th>Training Loss</th>\n",
       "      <th>Validation Loss</th>\n",
       "      <th>Accuracy</th>\n",
       "      <th>Precision</th>\n",
       "      <th>Recall</th>\n",
       "      <th>F1</th>\n",
       "    </tr>\n",
       "  </thead>\n",
       "  <tbody>\n",
       "    <tr>\n",
       "      <td>1</td>\n",
       "      <td>0.343100</td>\n",
       "      <td>0.216035</td>\n",
       "      <td>0.933600</td>\n",
       "      <td>0.937974</td>\n",
       "      <td>0.933845</td>\n",
       "      <td>0.934399</td>\n",
       "    </tr>\n",
       "    <tr>\n",
       "      <td>2</td>\n",
       "      <td>0.171700</td>\n",
       "      <td>0.196299</td>\n",
       "      <td>0.944000</td>\n",
       "      <td>0.944625</td>\n",
       "      <td>0.944206</td>\n",
       "      <td>0.943832</td>\n",
       "    </tr>\n",
       "  </tbody>\n",
       "</table><p>"
      ],
      "text/plain": [
       "<IPython.core.display.HTML object>"
      ]
     },
     "metadata": {},
     "output_type": "display_data"
    },
    {
     "name": "stderr",
     "output_type": "stream",
     "text": [
      "[I 2025-03-30 20:04:12,267] Trial 83 pruned. \n"
     ]
    },
    {
     "name": "stdout",
     "output_type": "stream",
     "text": [
      "Trial 84 with params: {'learning_rate': 0.0002588018899047277, 'weight_decay': 0.009000000000000001, 'warmup_steps': 15, 'lambda_param': 0.2, 'temperature': 2.5}\n"
     ]
    },
    {
     "name": "stderr",
     "output_type": "stream",
     "text": [
      "Some weights of TimmWrapperForImageClassification were not initialized from the model checkpoint at timm/tiny_vit_5m_224.in1k and are newly initialized because the shapes did not match:\n",
      "- head.fc.bias: found shape torch.Size([1000]) in the checkpoint and torch.Size([10]) in the model instantiated\n",
      "- head.fc.weight: found shape torch.Size([1000, 320]) in the checkpoint and torch.Size([10, 320]) in the model instantiated\n",
      "You should probably TRAIN this model on a down-stream task to be able to use it for predictions and inference.\n"
     ]
    },
    {
     "data": {
      "text/html": [
       "\n",
       "    <div>\n",
       "      \n",
       "      <progress value='1252' max='2191' style='width:300px; height:20px; vertical-align: middle;'></progress>\n",
       "      [1252/2191 05:35 < 04:12, 3.72 it/s, Epoch 4/7]\n",
       "    </div>\n",
       "    <table border=\"1\" class=\"dataframe\">\n",
       "  <thead>\n",
       " <tr style=\"text-align: left;\">\n",
       "      <th>Epoch</th>\n",
       "      <th>Training Loss</th>\n",
       "      <th>Validation Loss</th>\n",
       "      <th>Accuracy</th>\n",
       "      <th>Precision</th>\n",
       "      <th>Recall</th>\n",
       "      <th>F1</th>\n",
       "    </tr>\n",
       "  </thead>\n",
       "  <tbody>\n",
       "    <tr>\n",
       "      <td>1</td>\n",
       "      <td>0.334500</td>\n",
       "      <td>0.208692</td>\n",
       "      <td>0.934000</td>\n",
       "      <td>0.938839</td>\n",
       "      <td>0.934418</td>\n",
       "      <td>0.934423</td>\n",
       "    </tr>\n",
       "    <tr>\n",
       "      <td>2</td>\n",
       "      <td>0.169800</td>\n",
       "      <td>0.175797</td>\n",
       "      <td>0.954800</td>\n",
       "      <td>0.954927</td>\n",
       "      <td>0.955001</td>\n",
       "      <td>0.954798</td>\n",
       "    </tr>\n",
       "    <tr>\n",
       "      <td>3</td>\n",
       "      <td>0.142500</td>\n",
       "      <td>0.173455</td>\n",
       "      <td>0.957600</td>\n",
       "      <td>0.958385</td>\n",
       "      <td>0.957829</td>\n",
       "      <td>0.957728</td>\n",
       "    </tr>\n",
       "    <tr>\n",
       "      <td>4</td>\n",
       "      <td>0.127100</td>\n",
       "      <td>0.156149</td>\n",
       "      <td>0.966100</td>\n",
       "      <td>0.966251</td>\n",
       "      <td>0.966349</td>\n",
       "      <td>0.966187</td>\n",
       "    </tr>\n",
       "  </tbody>\n",
       "</table><p>"
      ],
      "text/plain": [
       "<IPython.core.display.HTML object>"
      ]
     },
     "metadata": {},
     "output_type": "display_data"
    },
    {
     "name": "stderr",
     "output_type": "stream",
     "text": [
      "[I 2025-03-30 20:09:50,178] Trial 84 pruned. \n"
     ]
    },
    {
     "name": "stdout",
     "output_type": "stream",
     "text": [
      "Trial 85 with params: {'learning_rate': 0.00019889637834019354, 'weight_decay': 0.009000000000000001, 'warmup_steps': 19, 'lambda_param': 0.5, 'temperature': 3.0}\n"
     ]
    },
    {
     "name": "stderr",
     "output_type": "stream",
     "text": [
      "Some weights of TimmWrapperForImageClassification were not initialized from the model checkpoint at timm/tiny_vit_5m_224.in1k and are newly initialized because the shapes did not match:\n",
      "- head.fc.bias: found shape torch.Size([1000]) in the checkpoint and torch.Size([10]) in the model instantiated\n",
      "- head.fc.weight: found shape torch.Size([1000, 320]) in the checkpoint and torch.Size([10, 320]) in the model instantiated\n",
      "You should probably TRAIN this model on a down-stream task to be able to use it for predictions and inference.\n"
     ]
    },
    {
     "data": {
      "text/html": [
       "\n",
       "    <div>\n",
       "      \n",
       "      <progress value='1252' max='2191' style='width:300px; height:20px; vertical-align: middle;'></progress>\n",
       "      [1252/2191 05:34 < 04:11, 3.73 it/s, Epoch 4/7]\n",
       "    </div>\n",
       "    <table border=\"1\" class=\"dataframe\">\n",
       "  <thead>\n",
       " <tr style=\"text-align: left;\">\n",
       "      <th>Epoch</th>\n",
       "      <th>Training Loss</th>\n",
       "      <th>Validation Loss</th>\n",
       "      <th>Accuracy</th>\n",
       "      <th>Precision</th>\n",
       "      <th>Recall</th>\n",
       "      <th>F1</th>\n",
       "    </tr>\n",
       "  </thead>\n",
       "  <tbody>\n",
       "    <tr>\n",
       "      <td>1</td>\n",
       "      <td>0.337400</td>\n",
       "      <td>0.189616</td>\n",
       "      <td>0.945800</td>\n",
       "      <td>0.946926</td>\n",
       "      <td>0.945947</td>\n",
       "      <td>0.946172</td>\n",
       "    </tr>\n",
       "    <tr>\n",
       "      <td>2</td>\n",
       "      <td>0.161400</td>\n",
       "      <td>0.175965</td>\n",
       "      <td>0.956700</td>\n",
       "      <td>0.957360</td>\n",
       "      <td>0.956886</td>\n",
       "      <td>0.956820</td>\n",
       "    </tr>\n",
       "    <tr>\n",
       "      <td>3</td>\n",
       "      <td>0.136600</td>\n",
       "      <td>0.163107</td>\n",
       "      <td>0.960400</td>\n",
       "      <td>0.961064</td>\n",
       "      <td>0.960566</td>\n",
       "      <td>0.960591</td>\n",
       "    </tr>\n",
       "    <tr>\n",
       "      <td>4</td>\n",
       "      <td>0.124700</td>\n",
       "      <td>0.152604</td>\n",
       "      <td>0.968100</td>\n",
       "      <td>0.968327</td>\n",
       "      <td>0.968192</td>\n",
       "      <td>0.968199</td>\n",
       "    </tr>\n",
       "  </tbody>\n",
       "</table><p>"
      ],
      "text/plain": [
       "<IPython.core.display.HTML object>"
      ]
     },
     "metadata": {},
     "output_type": "display_data"
    },
    {
     "name": "stderr",
     "output_type": "stream",
     "text": [
      "[I 2025-03-30 20:15:27,369] Trial 85 pruned. \n"
     ]
    },
    {
     "name": "stdout",
     "output_type": "stream",
     "text": [
      "Trial 86 with params: {'learning_rate': 0.00015278486360010863, 'weight_decay': 0.01, 'warmup_steps': 17, 'lambda_param': 0.4, 'temperature': 3.0}\n"
     ]
    },
    {
     "name": "stderr",
     "output_type": "stream",
     "text": [
      "Some weights of TimmWrapperForImageClassification were not initialized from the model checkpoint at timm/tiny_vit_5m_224.in1k and are newly initialized because the shapes did not match:\n",
      "- head.fc.bias: found shape torch.Size([1000]) in the checkpoint and torch.Size([10]) in the model instantiated\n",
      "- head.fc.weight: found shape torch.Size([1000, 320]) in the checkpoint and torch.Size([10, 320]) in the model instantiated\n",
      "You should probably TRAIN this model on a down-stream task to be able to use it for predictions and inference.\n"
     ]
    },
    {
     "data": {
      "text/html": [
       "\n",
       "    <div>\n",
       "      \n",
       "      <progress value='2191' max='2191' style='width:300px; height:20px; vertical-align: middle;'></progress>\n",
       "      [2191/2191 09:52, Epoch 7/7]\n",
       "    </div>\n",
       "    <table border=\"1\" class=\"dataframe\">\n",
       "  <thead>\n",
       " <tr style=\"text-align: left;\">\n",
       "      <th>Epoch</th>\n",
       "      <th>Training Loss</th>\n",
       "      <th>Validation Loss</th>\n",
       "      <th>Accuracy</th>\n",
       "      <th>Precision</th>\n",
       "      <th>Recall</th>\n",
       "      <th>F1</th>\n",
       "    </tr>\n",
       "  </thead>\n",
       "  <tbody>\n",
       "    <tr>\n",
       "      <td>1</td>\n",
       "      <td>0.338100</td>\n",
       "      <td>0.185679</td>\n",
       "      <td>0.948100</td>\n",
       "      <td>0.951137</td>\n",
       "      <td>0.948312</td>\n",
       "      <td>0.948558</td>\n",
       "    </tr>\n",
       "    <tr>\n",
       "      <td>2</td>\n",
       "      <td>0.155700</td>\n",
       "      <td>0.165597</td>\n",
       "      <td>0.959400</td>\n",
       "      <td>0.959352</td>\n",
       "      <td>0.959712</td>\n",
       "      <td>0.959398</td>\n",
       "    </tr>\n",
       "    <tr>\n",
       "      <td>3</td>\n",
       "      <td>0.133400</td>\n",
       "      <td>0.155223</td>\n",
       "      <td>0.965700</td>\n",
       "      <td>0.965950</td>\n",
       "      <td>0.965833</td>\n",
       "      <td>0.965860</td>\n",
       "    </tr>\n",
       "    <tr>\n",
       "      <td>4</td>\n",
       "      <td>0.122700</td>\n",
       "      <td>0.148632</td>\n",
       "      <td>0.970200</td>\n",
       "      <td>0.970466</td>\n",
       "      <td>0.970370</td>\n",
       "      <td>0.970279</td>\n",
       "    </tr>\n",
       "    <tr>\n",
       "      <td>5</td>\n",
       "      <td>0.115500</td>\n",
       "      <td>0.141972</td>\n",
       "      <td>0.972900</td>\n",
       "      <td>0.973468</td>\n",
       "      <td>0.973086</td>\n",
       "      <td>0.973040</td>\n",
       "    </tr>\n",
       "    <tr>\n",
       "      <td>6</td>\n",
       "      <td>0.112200</td>\n",
       "      <td>0.140205</td>\n",
       "      <td>0.973000</td>\n",
       "      <td>0.973499</td>\n",
       "      <td>0.973132</td>\n",
       "      <td>0.973194</td>\n",
       "    </tr>\n",
       "    <tr>\n",
       "      <td>7</td>\n",
       "      <td>0.110400</td>\n",
       "      <td>0.138208</td>\n",
       "      <td>0.973700</td>\n",
       "      <td>0.973933</td>\n",
       "      <td>0.973829</td>\n",
       "      <td>0.973816</td>\n",
       "    </tr>\n",
       "  </tbody>\n",
       "</table><p>"
      ],
      "text/plain": [
       "<IPython.core.display.HTML object>"
      ]
     },
     "metadata": {},
     "output_type": "display_data"
    },
    {
     "name": "stderr",
     "output_type": "stream",
     "text": [
      "[I 2025-03-30 20:25:23,418] Trial 86 finished with value: 0.9738163054614686 and parameters: {'learning_rate': 0.00015278486360010863, 'weight_decay': 0.01, 'warmup_steps': 17, 'lambda_param': 0.4, 'temperature': 3.0}. Best is trial 32 with value: 0.9764120594095738.\n"
     ]
    },
    {
     "name": "stdout",
     "output_type": "stream",
     "text": [
      "Trial 87 with params: {'learning_rate': 0.00013537140485040273, 'weight_decay': 0.006, 'warmup_steps': 27, 'lambda_param': 0.4, 'temperature': 2.0}\n"
     ]
    },
    {
     "name": "stderr",
     "output_type": "stream",
     "text": [
      "Some weights of TimmWrapperForImageClassification were not initialized from the model checkpoint at timm/tiny_vit_5m_224.in1k and are newly initialized because the shapes did not match:\n",
      "- head.fc.bias: found shape torch.Size([1000]) in the checkpoint and torch.Size([10]) in the model instantiated\n",
      "- head.fc.weight: found shape torch.Size([1000, 320]) in the checkpoint and torch.Size([10, 320]) in the model instantiated\n",
      "You should probably TRAIN this model on a down-stream task to be able to use it for predictions and inference.\n"
     ]
    },
    {
     "data": {
      "text/html": [
       "\n",
       "    <div>\n",
       "      \n",
       "      <progress value='1252' max='2191' style='width:300px; height:20px; vertical-align: middle;'></progress>\n",
       "      [1252/2191 05:46 < 04:20, 3.61 it/s, Epoch 4/7]\n",
       "    </div>\n",
       "    <table border=\"1\" class=\"dataframe\">\n",
       "  <thead>\n",
       " <tr style=\"text-align: left;\">\n",
       "      <th>Epoch</th>\n",
       "      <th>Training Loss</th>\n",
       "      <th>Validation Loss</th>\n",
       "      <th>Accuracy</th>\n",
       "      <th>Precision</th>\n",
       "      <th>Recall</th>\n",
       "      <th>F1</th>\n",
       "    </tr>\n",
       "  </thead>\n",
       "  <tbody>\n",
       "    <tr>\n",
       "      <td>1</td>\n",
       "      <td>0.366800</td>\n",
       "      <td>0.192170</td>\n",
       "      <td>0.941600</td>\n",
       "      <td>0.945538</td>\n",
       "      <td>0.941974</td>\n",
       "      <td>0.941968</td>\n",
       "    </tr>\n",
       "    <tr>\n",
       "      <td>2</td>\n",
       "      <td>0.153800</td>\n",
       "      <td>0.161411</td>\n",
       "      <td>0.961700</td>\n",
       "      <td>0.961995</td>\n",
       "      <td>0.961847</td>\n",
       "      <td>0.961866</td>\n",
       "    </tr>\n",
       "    <tr>\n",
       "      <td>3</td>\n",
       "      <td>0.130500</td>\n",
       "      <td>0.153300</td>\n",
       "      <td>0.967000</td>\n",
       "      <td>0.967381</td>\n",
       "      <td>0.967188</td>\n",
       "      <td>0.967090</td>\n",
       "    </tr>\n",
       "    <tr>\n",
       "      <td>4</td>\n",
       "      <td>0.119900</td>\n",
       "      <td>0.150880</td>\n",
       "      <td>0.965400</td>\n",
       "      <td>0.966007</td>\n",
       "      <td>0.965580</td>\n",
       "      <td>0.965573</td>\n",
       "    </tr>\n",
       "  </tbody>\n",
       "</table><p>"
      ],
      "text/plain": [
       "<IPython.core.display.HTML object>"
      ]
     },
     "metadata": {},
     "output_type": "display_data"
    },
    {
     "name": "stderr",
     "output_type": "stream",
     "text": [
      "[I 2025-03-30 20:31:11,901] Trial 87 pruned. \n"
     ]
    },
    {
     "name": "stdout",
     "output_type": "stream",
     "text": [
      "Trial 88 with params: {'learning_rate': 0.0001033215290468983, 'weight_decay': 0.01, 'warmup_steps': 19, 'lambda_param': 0.30000000000000004, 'temperature': 2.0}\n"
     ]
    },
    {
     "name": "stderr",
     "output_type": "stream",
     "text": [
      "Some weights of TimmWrapperForImageClassification were not initialized from the model checkpoint at timm/tiny_vit_5m_224.in1k and are newly initialized because the shapes did not match:\n",
      "- head.fc.bias: found shape torch.Size([1000]) in the checkpoint and torch.Size([10]) in the model instantiated\n",
      "- head.fc.weight: found shape torch.Size([1000, 320]) in the checkpoint and torch.Size([10, 320]) in the model instantiated\n",
      "You should probably TRAIN this model on a down-stream task to be able to use it for predictions and inference.\n"
     ]
    },
    {
     "data": {
      "text/html": [
       "\n",
       "    <div>\n",
       "      \n",
       "      <progress value='2191' max='2191' style='width:300px; height:20px; vertical-align: middle;'></progress>\n",
       "      [2191/2191 09:53, Epoch 7/7]\n",
       "    </div>\n",
       "    <table border=\"1\" class=\"dataframe\">\n",
       "  <thead>\n",
       " <tr style=\"text-align: left;\">\n",
       "      <th>Epoch</th>\n",
       "      <th>Training Loss</th>\n",
       "      <th>Validation Loss</th>\n",
       "      <th>Accuracy</th>\n",
       "      <th>Precision</th>\n",
       "      <th>Recall</th>\n",
       "      <th>F1</th>\n",
       "    </tr>\n",
       "  </thead>\n",
       "  <tbody>\n",
       "    <tr>\n",
       "      <td>1</td>\n",
       "      <td>0.358800</td>\n",
       "      <td>0.171795</td>\n",
       "      <td>0.957500</td>\n",
       "      <td>0.958062</td>\n",
       "      <td>0.957589</td>\n",
       "      <td>0.957714</td>\n",
       "    </tr>\n",
       "    <tr>\n",
       "      <td>2</td>\n",
       "      <td>0.151100</td>\n",
       "      <td>0.158637</td>\n",
       "      <td>0.964100</td>\n",
       "      <td>0.964435</td>\n",
       "      <td>0.964279</td>\n",
       "      <td>0.964275</td>\n",
       "    </tr>\n",
       "    <tr>\n",
       "      <td>3</td>\n",
       "      <td>0.128600</td>\n",
       "      <td>0.155178</td>\n",
       "      <td>0.964600</td>\n",
       "      <td>0.965101</td>\n",
       "      <td>0.964806</td>\n",
       "      <td>0.964766</td>\n",
       "    </tr>\n",
       "    <tr>\n",
       "      <td>4</td>\n",
       "      <td>0.119100</td>\n",
       "      <td>0.148693</td>\n",
       "      <td>0.968600</td>\n",
       "      <td>0.968806</td>\n",
       "      <td>0.968775</td>\n",
       "      <td>0.968741</td>\n",
       "    </tr>\n",
       "    <tr>\n",
       "      <td>5</td>\n",
       "      <td>0.114200</td>\n",
       "      <td>0.143048</td>\n",
       "      <td>0.972200</td>\n",
       "      <td>0.972413</td>\n",
       "      <td>0.972370</td>\n",
       "      <td>0.972304</td>\n",
       "    </tr>\n",
       "    <tr>\n",
       "      <td>6</td>\n",
       "      <td>0.111600</td>\n",
       "      <td>0.141215</td>\n",
       "      <td>0.972500</td>\n",
       "      <td>0.972744</td>\n",
       "      <td>0.972626</td>\n",
       "      <td>0.972649</td>\n",
       "    </tr>\n",
       "    <tr>\n",
       "      <td>7</td>\n",
       "      <td>0.110100</td>\n",
       "      <td>0.140317</td>\n",
       "      <td>0.973200</td>\n",
       "      <td>0.973330</td>\n",
       "      <td>0.973377</td>\n",
       "      <td>0.973322</td>\n",
       "    </tr>\n",
       "  </tbody>\n",
       "</table><p>"
      ],
      "text/plain": [
       "<IPython.core.display.HTML object>"
      ]
     },
     "metadata": {},
     "output_type": "display_data"
    },
    {
     "name": "stderr",
     "output_type": "stream",
     "text": [
      "[I 2025-03-30 20:41:11,891] Trial 88 finished with value: 0.9733221379420354 and parameters: {'learning_rate': 0.0001033215290468983, 'weight_decay': 0.01, 'warmup_steps': 19, 'lambda_param': 0.30000000000000004, 'temperature': 2.0}. Best is trial 32 with value: 0.9764120594095738.\n"
     ]
    },
    {
     "name": "stdout",
     "output_type": "stream",
     "text": [
      "Trial 89 with params: {'learning_rate': 0.00013193531441646044, 'weight_decay': 0.01, 'warmup_steps': 22, 'lambda_param': 0.4, 'temperature': 3.0}\n"
     ]
    },
    {
     "name": "stderr",
     "output_type": "stream",
     "text": [
      "Some weights of TimmWrapperForImageClassification were not initialized from the model checkpoint at timm/tiny_vit_5m_224.in1k and are newly initialized because the shapes did not match:\n",
      "- head.fc.bias: found shape torch.Size([1000]) in the checkpoint and torch.Size([10]) in the model instantiated\n",
      "- head.fc.weight: found shape torch.Size([1000, 320]) in the checkpoint and torch.Size([10, 320]) in the model instantiated\n",
      "You should probably TRAIN this model on a down-stream task to be able to use it for predictions and inference.\n"
     ]
    },
    {
     "data": {
      "text/html": [
       "\n",
       "    <div>\n",
       "      \n",
       "      <progress value='2191' max='2191' style='width:300px; height:20px; vertical-align: middle;'></progress>\n",
       "      [2191/2191 09:51, Epoch 7/7]\n",
       "    </div>\n",
       "    <table border=\"1\" class=\"dataframe\">\n",
       "  <thead>\n",
       " <tr style=\"text-align: left;\">\n",
       "      <th>Epoch</th>\n",
       "      <th>Training Loss</th>\n",
       "      <th>Validation Loss</th>\n",
       "      <th>Accuracy</th>\n",
       "      <th>Precision</th>\n",
       "      <th>Recall</th>\n",
       "      <th>F1</th>\n",
       "    </tr>\n",
       "  </thead>\n",
       "  <tbody>\n",
       "    <tr>\n",
       "      <td>1</td>\n",
       "      <td>0.352500</td>\n",
       "      <td>0.199868</td>\n",
       "      <td>0.941600</td>\n",
       "      <td>0.945038</td>\n",
       "      <td>0.941795</td>\n",
       "      <td>0.942145</td>\n",
       "    </tr>\n",
       "    <tr>\n",
       "      <td>2</td>\n",
       "      <td>0.152800</td>\n",
       "      <td>0.164561</td>\n",
       "      <td>0.958700</td>\n",
       "      <td>0.959017</td>\n",
       "      <td>0.958966</td>\n",
       "      <td>0.958773</td>\n",
       "    </tr>\n",
       "    <tr>\n",
       "      <td>3</td>\n",
       "      <td>0.130600</td>\n",
       "      <td>0.151762</td>\n",
       "      <td>0.966900</td>\n",
       "      <td>0.967158</td>\n",
       "      <td>0.967131</td>\n",
       "      <td>0.967032</td>\n",
       "    </tr>\n",
       "    <tr>\n",
       "      <td>4</td>\n",
       "      <td>0.119700</td>\n",
       "      <td>0.144765</td>\n",
       "      <td>0.973400</td>\n",
       "      <td>0.973589</td>\n",
       "      <td>0.973496</td>\n",
       "      <td>0.973526</td>\n",
       "    </tr>\n",
       "    <tr>\n",
       "      <td>5</td>\n",
       "      <td>0.115100</td>\n",
       "      <td>0.144946</td>\n",
       "      <td>0.971000</td>\n",
       "      <td>0.971806</td>\n",
       "      <td>0.971158</td>\n",
       "      <td>0.971215</td>\n",
       "    </tr>\n",
       "    <tr>\n",
       "      <td>6</td>\n",
       "      <td>0.111900</td>\n",
       "      <td>0.139577</td>\n",
       "      <td>0.973400</td>\n",
       "      <td>0.973674</td>\n",
       "      <td>0.973527</td>\n",
       "      <td>0.973565</td>\n",
       "    </tr>\n",
       "    <tr>\n",
       "      <td>7</td>\n",
       "      <td>0.110300</td>\n",
       "      <td>0.137958</td>\n",
       "      <td>0.973900</td>\n",
       "      <td>0.974037</td>\n",
       "      <td>0.974051</td>\n",
       "      <td>0.974031</td>\n",
       "    </tr>\n",
       "  </tbody>\n",
       "</table><p>"
      ],
      "text/plain": [
       "<IPython.core.display.HTML object>"
      ]
     },
     "metadata": {},
     "output_type": "display_data"
    },
    {
     "name": "stderr",
     "output_type": "stream",
     "text": [
      "[I 2025-03-30 20:51:06,501] Trial 89 finished with value: 0.9740306476430345 and parameters: {'learning_rate': 0.00013193531441646044, 'weight_decay': 0.01, 'warmup_steps': 22, 'lambda_param': 0.4, 'temperature': 3.0}. Best is trial 32 with value: 0.9764120594095738.\n"
     ]
    },
    {
     "name": "stdout",
     "output_type": "stream",
     "text": [
      "Trial 90 with params: {'learning_rate': 0.0011115662517499805, 'weight_decay': 0.004, 'warmup_steps': 24, 'lambda_param': 0.6000000000000001, 'temperature': 7.0}\n"
     ]
    },
    {
     "name": "stderr",
     "output_type": "stream",
     "text": [
      "Some weights of TimmWrapperForImageClassification were not initialized from the model checkpoint at timm/tiny_vit_5m_224.in1k and are newly initialized because the shapes did not match:\n",
      "- head.fc.bias: found shape torch.Size([1000]) in the checkpoint and torch.Size([10]) in the model instantiated\n",
      "- head.fc.weight: found shape torch.Size([1000, 320]) in the checkpoint and torch.Size([10, 320]) in the model instantiated\n",
      "You should probably TRAIN this model on a down-stream task to be able to use it for predictions and inference.\n"
     ]
    },
    {
     "data": {
      "text/html": [
       "\n",
       "    <div>\n",
       "      \n",
       "      <progress value='1252' max='2191' style='width:300px; height:20px; vertical-align: middle;'></progress>\n",
       "      [1252/2191 05:39 < 04:15, 3.68 it/s, Epoch 4/7]\n",
       "    </div>\n",
       "    <table border=\"1\" class=\"dataframe\">\n",
       "  <thead>\n",
       " <tr style=\"text-align: left;\">\n",
       "      <th>Epoch</th>\n",
       "      <th>Training Loss</th>\n",
       "      <th>Validation Loss</th>\n",
       "      <th>Accuracy</th>\n",
       "      <th>Precision</th>\n",
       "      <th>Recall</th>\n",
       "      <th>F1</th>\n",
       "    </tr>\n",
       "  </thead>\n",
       "  <tbody>\n",
       "    <tr>\n",
       "      <td>1</td>\n",
       "      <td>0.521200</td>\n",
       "      <td>0.410641</td>\n",
       "      <td>0.833700</td>\n",
       "      <td>0.844341</td>\n",
       "      <td>0.834078</td>\n",
       "      <td>0.833282</td>\n",
       "    </tr>\n",
       "    <tr>\n",
       "      <td>2</td>\n",
       "      <td>0.327200</td>\n",
       "      <td>0.328325</td>\n",
       "      <td>0.869500</td>\n",
       "      <td>0.877821</td>\n",
       "      <td>0.869563</td>\n",
       "      <td>0.869612</td>\n",
       "    </tr>\n",
       "    <tr>\n",
       "      <td>3</td>\n",
       "      <td>0.252900</td>\n",
       "      <td>0.300791</td>\n",
       "      <td>0.885700</td>\n",
       "      <td>0.892588</td>\n",
       "      <td>0.885482</td>\n",
       "      <td>0.885378</td>\n",
       "    </tr>\n",
       "    <tr>\n",
       "      <td>4</td>\n",
       "      <td>0.201300</td>\n",
       "      <td>0.218692</td>\n",
       "      <td>0.930400</td>\n",
       "      <td>0.932336</td>\n",
       "      <td>0.930563</td>\n",
       "      <td>0.930764</td>\n",
       "    </tr>\n",
       "  </tbody>\n",
       "</table><p>"
      ],
      "text/plain": [
       "<IPython.core.display.HTML object>"
      ]
     },
     "metadata": {},
     "output_type": "display_data"
    },
    {
     "name": "stderr",
     "output_type": "stream",
     "text": [
      "[I 2025-03-30 20:56:49,263] Trial 90 pruned. \n"
     ]
    },
    {
     "name": "stdout",
     "output_type": "stream",
     "text": [
      "Trial 91 with params: {'learning_rate': 0.0002157871176617988, 'weight_decay': 0.009000000000000001, 'warmup_steps': 4, 'lambda_param': 1.0, 'temperature': 6.0}\n"
     ]
    },
    {
     "name": "stderr",
     "output_type": "stream",
     "text": [
      "Some weights of TimmWrapperForImageClassification were not initialized from the model checkpoint at timm/tiny_vit_5m_224.in1k and are newly initialized because the shapes did not match:\n",
      "- head.fc.bias: found shape torch.Size([1000]) in the checkpoint and torch.Size([10]) in the model instantiated\n",
      "- head.fc.weight: found shape torch.Size([1000, 320]) in the checkpoint and torch.Size([10, 320]) in the model instantiated\n",
      "You should probably TRAIN this model on a down-stream task to be able to use it for predictions and inference.\n"
     ]
    },
    {
     "data": {
      "text/html": [
       "\n",
       "    <div>\n",
       "      \n",
       "      <progress value='626' max='2191' style='width:300px; height:20px; vertical-align: middle;'></progress>\n",
       "      [ 626/2191 02:50 < 07:07, 3.66 it/s, Epoch 2/7]\n",
       "    </div>\n",
       "    <table border=\"1\" class=\"dataframe\">\n",
       "  <thead>\n",
       " <tr style=\"text-align: left;\">\n",
       "      <th>Epoch</th>\n",
       "      <th>Training Loss</th>\n",
       "      <th>Validation Loss</th>\n",
       "      <th>Accuracy</th>\n",
       "      <th>Precision</th>\n",
       "      <th>Recall</th>\n",
       "      <th>F1</th>\n",
       "    </tr>\n",
       "  </thead>\n",
       "  <tbody>\n",
       "    <tr>\n",
       "      <td>1</td>\n",
       "      <td>0.310100</td>\n",
       "      <td>0.229145</td>\n",
       "      <td>0.925200</td>\n",
       "      <td>0.928173</td>\n",
       "      <td>0.925700</td>\n",
       "      <td>0.925362</td>\n",
       "    </tr>\n",
       "    <tr>\n",
       "      <td>2</td>\n",
       "      <td>0.165600</td>\n",
       "      <td>0.186202</td>\n",
       "      <td>0.950900</td>\n",
       "      <td>0.952606</td>\n",
       "      <td>0.951106</td>\n",
       "      <td>0.951179</td>\n",
       "    </tr>\n",
       "  </tbody>\n",
       "</table><p>"
      ],
      "text/plain": [
       "<IPython.core.display.HTML object>"
      ]
     },
     "metadata": {},
     "output_type": "display_data"
    },
    {
     "name": "stderr",
     "output_type": "stream",
     "text": [
      "[I 2025-03-30 20:59:43,674] Trial 91 pruned. \n"
     ]
    },
    {
     "name": "stdout",
     "output_type": "stream",
     "text": [
      "Trial 92 with params: {'learning_rate': 0.0015837356481811218, 'weight_decay': 0.006, 'warmup_steps': 15, 'lambda_param': 0.1, 'temperature': 2.0}\n"
     ]
    },
    {
     "name": "stderr",
     "output_type": "stream",
     "text": [
      "Some weights of TimmWrapperForImageClassification were not initialized from the model checkpoint at timm/tiny_vit_5m_224.in1k and are newly initialized because the shapes did not match:\n",
      "- head.fc.bias: found shape torch.Size([1000]) in the checkpoint and torch.Size([10]) in the model instantiated\n",
      "- head.fc.weight: found shape torch.Size([1000, 320]) in the checkpoint and torch.Size([10, 320]) in the model instantiated\n",
      "You should probably TRAIN this model on a down-stream task to be able to use it for predictions and inference.\n"
     ]
    },
    {
     "data": {
      "text/html": [
       "\n",
       "    <div>\n",
       "      \n",
       "      <progress value='1252' max='2191' style='width:300px; height:20px; vertical-align: middle;'></progress>\n",
       "      [1252/2191 06:08 < 04:36, 3.40 it/s, Epoch 4/7]\n",
       "    </div>\n",
       "    <table border=\"1\" class=\"dataframe\">\n",
       "  <thead>\n",
       " <tr style=\"text-align: left;\">\n",
       "      <th>Epoch</th>\n",
       "      <th>Training Loss</th>\n",
       "      <th>Validation Loss</th>\n",
       "      <th>Accuracy</th>\n",
       "      <th>Precision</th>\n",
       "      <th>Recall</th>\n",
       "      <th>F1</th>\n",
       "    </tr>\n",
       "  </thead>\n",
       "  <tbody>\n",
       "    <tr>\n",
       "      <td>1</td>\n",
       "      <td>0.641600</td>\n",
       "      <td>0.553646</td>\n",
       "      <td>0.755100</td>\n",
       "      <td>0.775525</td>\n",
       "      <td>0.756181</td>\n",
       "      <td>0.752897</td>\n",
       "    </tr>\n",
       "    <tr>\n",
       "      <td>2</td>\n",
       "      <td>0.409900</td>\n",
       "      <td>0.415454</td>\n",
       "      <td>0.826800</td>\n",
       "      <td>0.837709</td>\n",
       "      <td>0.827922</td>\n",
       "      <td>0.821098</td>\n",
       "    </tr>\n",
       "    <tr>\n",
       "      <td>3</td>\n",
       "      <td>0.317400</td>\n",
       "      <td>0.358940</td>\n",
       "      <td>0.858100</td>\n",
       "      <td>0.867919</td>\n",
       "      <td>0.858045</td>\n",
       "      <td>0.858572</td>\n",
       "    </tr>\n",
       "    <tr>\n",
       "      <td>4</td>\n",
       "      <td>0.252400</td>\n",
       "      <td>0.273181</td>\n",
       "      <td>0.904400</td>\n",
       "      <td>0.905919</td>\n",
       "      <td>0.904349</td>\n",
       "      <td>0.903942</td>\n",
       "    </tr>\n",
       "  </tbody>\n",
       "</table><p>"
      ],
      "text/plain": [
       "<IPython.core.display.HTML object>"
      ]
     },
     "metadata": {},
     "output_type": "display_data"
    },
    {
     "name": "stderr",
     "output_type": "stream",
     "text": [
      "[I 2025-03-30 21:05:53,902] Trial 92 pruned. \n"
     ]
    },
    {
     "name": "stdout",
     "output_type": "stream",
     "text": [
      "Trial 93 with params: {'learning_rate': 5.9059829250360414e-05, 'weight_decay': 0.008, 'warmup_steps': 31, 'lambda_param': 0.5, 'temperature': 2.5}\n"
     ]
    },
    {
     "name": "stderr",
     "output_type": "stream",
     "text": [
      "Some weights of TimmWrapperForImageClassification were not initialized from the model checkpoint at timm/tiny_vit_5m_224.in1k and are newly initialized because the shapes did not match:\n",
      "- head.fc.bias: found shape torch.Size([1000]) in the checkpoint and torch.Size([10]) in the model instantiated\n",
      "- head.fc.weight: found shape torch.Size([1000, 320]) in the checkpoint and torch.Size([10, 320]) in the model instantiated\n",
      "You should probably TRAIN this model on a down-stream task to be able to use it for predictions and inference.\n"
     ]
    },
    {
     "data": {
      "text/html": [
       "\n",
       "    <div>\n",
       "      \n",
       "      <progress value='2191' max='2191' style='width:300px; height:20px; vertical-align: middle;'></progress>\n",
       "      [2191/2191 09:51, Epoch 7/7]\n",
       "    </div>\n",
       "    <table border=\"1\" class=\"dataframe\">\n",
       "  <thead>\n",
       " <tr style=\"text-align: left;\">\n",
       "      <th>Epoch</th>\n",
       "      <th>Training Loss</th>\n",
       "      <th>Validation Loss</th>\n",
       "      <th>Accuracy</th>\n",
       "      <th>Precision</th>\n",
       "      <th>Recall</th>\n",
       "      <th>F1</th>\n",
       "    </tr>\n",
       "  </thead>\n",
       "  <tbody>\n",
       "    <tr>\n",
       "      <td>1</td>\n",
       "      <td>0.446600</td>\n",
       "      <td>0.191074</td>\n",
       "      <td>0.946400</td>\n",
       "      <td>0.947795</td>\n",
       "      <td>0.946538</td>\n",
       "      <td>0.946521</td>\n",
       "    </tr>\n",
       "    <tr>\n",
       "      <td>2</td>\n",
       "      <td>0.154000</td>\n",
       "      <td>0.167823</td>\n",
       "      <td>0.960000</td>\n",
       "      <td>0.960328</td>\n",
       "      <td>0.960146</td>\n",
       "      <td>0.960085</td>\n",
       "    </tr>\n",
       "    <tr>\n",
       "      <td>3</td>\n",
       "      <td>0.128900</td>\n",
       "      <td>0.155333</td>\n",
       "      <td>0.965800</td>\n",
       "      <td>0.966287</td>\n",
       "      <td>0.966015</td>\n",
       "      <td>0.965925</td>\n",
       "    </tr>\n",
       "    <tr>\n",
       "      <td>4</td>\n",
       "      <td>0.119300</td>\n",
       "      <td>0.150021</td>\n",
       "      <td>0.968200</td>\n",
       "      <td>0.968307</td>\n",
       "      <td>0.968371</td>\n",
       "      <td>0.968280</td>\n",
       "    </tr>\n",
       "    <tr>\n",
       "      <td>5</td>\n",
       "      <td>0.114300</td>\n",
       "      <td>0.147801</td>\n",
       "      <td>0.969300</td>\n",
       "      <td>0.969788</td>\n",
       "      <td>0.969456</td>\n",
       "      <td>0.969460</td>\n",
       "    </tr>\n",
       "    <tr>\n",
       "      <td>6</td>\n",
       "      <td>0.111900</td>\n",
       "      <td>0.145963</td>\n",
       "      <td>0.970600</td>\n",
       "      <td>0.970919</td>\n",
       "      <td>0.970763</td>\n",
       "      <td>0.970741</td>\n",
       "    </tr>\n",
       "    <tr>\n",
       "      <td>7</td>\n",
       "      <td>0.110300</td>\n",
       "      <td>0.144940</td>\n",
       "      <td>0.970900</td>\n",
       "      <td>0.971064</td>\n",
       "      <td>0.971056</td>\n",
       "      <td>0.971019</td>\n",
       "    </tr>\n",
       "  </tbody>\n",
       "</table><p>"
      ],
      "text/plain": [
       "<IPython.core.display.HTML object>"
      ]
     },
     "metadata": {},
     "output_type": "display_data"
    },
    {
     "name": "stderr",
     "output_type": "stream",
     "text": [
      "[I 2025-03-30 21:15:48,436] Trial 93 finished with value: 0.9710189663247982 and parameters: {'learning_rate': 5.9059829250360414e-05, 'weight_decay': 0.008, 'warmup_steps': 31, 'lambda_param': 0.5, 'temperature': 2.5}. Best is trial 32 with value: 0.9764120594095738.\n"
     ]
    },
    {
     "name": "stdout",
     "output_type": "stream",
     "text": [
      "Trial 94 with params: {'learning_rate': 8.785284362480978e-05, 'weight_decay': 0.006, 'warmup_steps': 26, 'lambda_param': 0.8, 'temperature': 2.0}\n"
     ]
    },
    {
     "name": "stderr",
     "output_type": "stream",
     "text": [
      "Some weights of TimmWrapperForImageClassification were not initialized from the model checkpoint at timm/tiny_vit_5m_224.in1k and are newly initialized because the shapes did not match:\n",
      "- head.fc.bias: found shape torch.Size([1000]) in the checkpoint and torch.Size([10]) in the model instantiated\n",
      "- head.fc.weight: found shape torch.Size([1000, 320]) in the checkpoint and torch.Size([10, 320]) in the model instantiated\n",
      "You should probably TRAIN this model on a down-stream task to be able to use it for predictions and inference.\n"
     ]
    },
    {
     "data": {
      "text/html": [
       "\n",
       "    <div>\n",
       "      \n",
       "      <progress value='2191' max='2191' style='width:300px; height:20px; vertical-align: middle;'></progress>\n",
       "      [2191/2191 10:28, Epoch 7/7]\n",
       "    </div>\n",
       "    <table border=\"1\" class=\"dataframe\">\n",
       "  <thead>\n",
       " <tr style=\"text-align: left;\">\n",
       "      <th>Epoch</th>\n",
       "      <th>Training Loss</th>\n",
       "      <th>Validation Loss</th>\n",
       "      <th>Accuracy</th>\n",
       "      <th>Precision</th>\n",
       "      <th>Recall</th>\n",
       "      <th>F1</th>\n",
       "    </tr>\n",
       "  </thead>\n",
       "  <tbody>\n",
       "    <tr>\n",
       "      <td>1</td>\n",
       "      <td>0.391600</td>\n",
       "      <td>0.175030</td>\n",
       "      <td>0.953600</td>\n",
       "      <td>0.954733</td>\n",
       "      <td>0.953812</td>\n",
       "      <td>0.953885</td>\n",
       "    </tr>\n",
       "    <tr>\n",
       "      <td>2</td>\n",
       "      <td>0.149000</td>\n",
       "      <td>0.157145</td>\n",
       "      <td>0.965000</td>\n",
       "      <td>0.965488</td>\n",
       "      <td>0.965028</td>\n",
       "      <td>0.965164</td>\n",
       "    </tr>\n",
       "    <tr>\n",
       "      <td>3</td>\n",
       "      <td>0.128300</td>\n",
       "      <td>0.155567</td>\n",
       "      <td>0.966400</td>\n",
       "      <td>0.966837</td>\n",
       "      <td>0.966587</td>\n",
       "      <td>0.966514</td>\n",
       "    </tr>\n",
       "    <tr>\n",
       "      <td>4</td>\n",
       "      <td>0.118100</td>\n",
       "      <td>0.147408</td>\n",
       "      <td>0.969900</td>\n",
       "      <td>0.970041</td>\n",
       "      <td>0.970054</td>\n",
       "      <td>0.970015</td>\n",
       "    </tr>\n",
       "    <tr>\n",
       "      <td>5</td>\n",
       "      <td>0.113700</td>\n",
       "      <td>0.142978</td>\n",
       "      <td>0.972600</td>\n",
       "      <td>0.972812</td>\n",
       "      <td>0.972716</td>\n",
       "      <td>0.972729</td>\n",
       "    </tr>\n",
       "    <tr>\n",
       "      <td>6</td>\n",
       "      <td>0.111100</td>\n",
       "      <td>0.141445</td>\n",
       "      <td>0.972500</td>\n",
       "      <td>0.972809</td>\n",
       "      <td>0.972608</td>\n",
       "      <td>0.972677</td>\n",
       "    </tr>\n",
       "    <tr>\n",
       "      <td>7</td>\n",
       "      <td>0.109800</td>\n",
       "      <td>0.140168</td>\n",
       "      <td>0.972500</td>\n",
       "      <td>0.972588</td>\n",
       "      <td>0.972649</td>\n",
       "      <td>0.972599</td>\n",
       "    </tr>\n",
       "  </tbody>\n",
       "</table><p>"
      ],
      "text/plain": [
       "<IPython.core.display.HTML object>"
      ]
     },
     "metadata": {},
     "output_type": "display_data"
    },
    {
     "name": "stderr",
     "output_type": "stream",
     "text": [
      "Using the latest cached version of the module from /home/jovyan/.cache/huggingface/modules/evaluate_modules/metrics/evaluate-metric--f1/34c46321f42186df33a6260966e34a368f14868d9cc2ba47d142112e2800d233 (last modified on Tue Mar 25 13:21:31 2025) since it couldn't be found locally at evaluate-metric--f1, or remotely on the Hugging Face Hub.\n",
      "[I 2025-03-30 21:26:19,208] Trial 94 finished with value: 0.9725990447347085 and parameters: {'learning_rate': 8.785284362480978e-05, 'weight_decay': 0.006, 'warmup_steps': 26, 'lambda_param': 0.8, 'temperature': 2.0}. Best is trial 32 with value: 0.9764120594095738.\n"
     ]
    },
    {
     "name": "stdout",
     "output_type": "stream",
     "text": [
      "Trial 95 with params: {'learning_rate': 0.00033622652480271855, 'weight_decay': 0.0, 'warmup_steps': 5, 'lambda_param': 0.4, 'temperature': 3.0}\n"
     ]
    },
    {
     "name": "stderr",
     "output_type": "stream",
     "text": [
      "Some weights of TimmWrapperForImageClassification were not initialized from the model checkpoint at timm/tiny_vit_5m_224.in1k and are newly initialized because the shapes did not match:\n",
      "- head.fc.bias: found shape torch.Size([1000]) in the checkpoint and torch.Size([10]) in the model instantiated\n",
      "- head.fc.weight: found shape torch.Size([1000, 320]) in the checkpoint and torch.Size([10, 320]) in the model instantiated\n",
      "You should probably TRAIN this model on a down-stream task to be able to use it for predictions and inference.\n"
     ]
    },
    {
     "data": {
      "text/html": [
       "\n",
       "    <div>\n",
       "      \n",
       "      <progress value='626' max='2191' style='width:300px; height:20px; vertical-align: middle;'></progress>\n",
       "      [ 626/2191 02:49 < 07:06, 3.67 it/s, Epoch 2/7]\n",
       "    </div>\n",
       "    <table border=\"1\" class=\"dataframe\">\n",
       "  <thead>\n",
       " <tr style=\"text-align: left;\">\n",
       "      <th>Epoch</th>\n",
       "      <th>Training Loss</th>\n",
       "      <th>Validation Loss</th>\n",
       "      <th>Accuracy</th>\n",
       "      <th>Precision</th>\n",
       "      <th>Recall</th>\n",
       "      <th>F1</th>\n",
       "    </tr>\n",
       "  </thead>\n",
       "  <tbody>\n",
       "    <tr>\n",
       "      <td>1</td>\n",
       "      <td>0.319400</td>\n",
       "      <td>0.228670</td>\n",
       "      <td>0.925200</td>\n",
       "      <td>0.928747</td>\n",
       "      <td>0.925529</td>\n",
       "      <td>0.925590</td>\n",
       "    </tr>\n",
       "    <tr>\n",
       "      <td>2</td>\n",
       "      <td>0.180900</td>\n",
       "      <td>0.178087</td>\n",
       "      <td>0.954600</td>\n",
       "      <td>0.955043</td>\n",
       "      <td>0.954878</td>\n",
       "      <td>0.954772</td>\n",
       "    </tr>\n",
       "  </tbody>\n",
       "</table><p>"
      ],
      "text/plain": [
       "<IPython.core.display.HTML object>"
      ]
     },
     "metadata": {},
     "output_type": "display_data"
    },
    {
     "name": "stderr",
     "output_type": "stream",
     "text": [
      "[I 2025-03-30 21:29:11,013] Trial 95 pruned. \n"
     ]
    },
    {
     "name": "stdout",
     "output_type": "stream",
     "text": [
      "Trial 96 with params: {'learning_rate': 5.399635979922363e-05, 'weight_decay': 0.0, 'warmup_steps': 26, 'lambda_param': 0.30000000000000004, 'temperature': 3.0}\n"
     ]
    },
    {
     "name": "stderr",
     "output_type": "stream",
     "text": [
      "Some weights of TimmWrapperForImageClassification were not initialized from the model checkpoint at timm/tiny_vit_5m_224.in1k and are newly initialized because the shapes did not match:\n",
      "- head.fc.bias: found shape torch.Size([1000]) in the checkpoint and torch.Size([10]) in the model instantiated\n",
      "- head.fc.weight: found shape torch.Size([1000, 320]) in the checkpoint and torch.Size([10, 320]) in the model instantiated\n",
      "You should probably TRAIN this model on a down-stream task to be able to use it for predictions and inference.\n"
     ]
    },
    {
     "data": {
      "text/html": [
       "\n",
       "    <div>\n",
       "      \n",
       "      <progress value='2191' max='2191' style='width:300px; height:20px; vertical-align: middle;'></progress>\n",
       "      [2191/2191 10:10, Epoch 7/7]\n",
       "    </div>\n",
       "    <table border=\"1\" class=\"dataframe\">\n",
       "  <thead>\n",
       " <tr style=\"text-align: left;\">\n",
       "      <th>Epoch</th>\n",
       "      <th>Training Loss</th>\n",
       "      <th>Validation Loss</th>\n",
       "      <th>Accuracy</th>\n",
       "      <th>Precision</th>\n",
       "      <th>Recall</th>\n",
       "      <th>F1</th>\n",
       "    </tr>\n",
       "  </thead>\n",
       "  <tbody>\n",
       "    <tr>\n",
       "      <td>1</td>\n",
       "      <td>0.440600</td>\n",
       "      <td>0.183983</td>\n",
       "      <td>0.950700</td>\n",
       "      <td>0.951909</td>\n",
       "      <td>0.950874</td>\n",
       "      <td>0.950932</td>\n",
       "    </tr>\n",
       "    <tr>\n",
       "      <td>2</td>\n",
       "      <td>0.154400</td>\n",
       "      <td>0.162470</td>\n",
       "      <td>0.961300</td>\n",
       "      <td>0.961669</td>\n",
       "      <td>0.961419</td>\n",
       "      <td>0.961481</td>\n",
       "    </tr>\n",
       "    <tr>\n",
       "      <td>3</td>\n",
       "      <td>0.129300</td>\n",
       "      <td>0.153116</td>\n",
       "      <td>0.966900</td>\n",
       "      <td>0.967098</td>\n",
       "      <td>0.967110</td>\n",
       "      <td>0.966996</td>\n",
       "    </tr>\n",
       "    <tr>\n",
       "      <td>4</td>\n",
       "      <td>0.118800</td>\n",
       "      <td>0.149185</td>\n",
       "      <td>0.967900</td>\n",
       "      <td>0.968085</td>\n",
       "      <td>0.968078</td>\n",
       "      <td>0.968017</td>\n",
       "    </tr>\n",
       "    <tr>\n",
       "      <td>5</td>\n",
       "      <td>0.114100</td>\n",
       "      <td>0.146138</td>\n",
       "      <td>0.970300</td>\n",
       "      <td>0.970538</td>\n",
       "      <td>0.970494</td>\n",
       "      <td>0.970427</td>\n",
       "    </tr>\n",
       "    <tr>\n",
       "      <td>6</td>\n",
       "      <td>0.111700</td>\n",
       "      <td>0.145281</td>\n",
       "      <td>0.970500</td>\n",
       "      <td>0.970724</td>\n",
       "      <td>0.970618</td>\n",
       "      <td>0.970644</td>\n",
       "    </tr>\n",
       "    <tr>\n",
       "      <td>7</td>\n",
       "      <td>0.110400</td>\n",
       "      <td>0.143986</td>\n",
       "      <td>0.969700</td>\n",
       "      <td>0.969857</td>\n",
       "      <td>0.969851</td>\n",
       "      <td>0.969816</td>\n",
       "    </tr>\n",
       "  </tbody>\n",
       "</table><p>"
      ],
      "text/plain": [
       "<IPython.core.display.HTML object>"
      ]
     },
     "metadata": {},
     "output_type": "display_data"
    },
    {
     "name": "stderr",
     "output_type": "stream",
     "text": [
      "[I 2025-03-30 21:39:24,925] Trial 96 finished with value: 0.969816101362144 and parameters: {'learning_rate': 5.399635979922363e-05, 'weight_decay': 0.0, 'warmup_steps': 26, 'lambda_param': 0.30000000000000004, 'temperature': 3.0}. Best is trial 32 with value: 0.9764120594095738.\n"
     ]
    },
    {
     "name": "stdout",
     "output_type": "stream",
     "text": [
      "Trial 97 with params: {'learning_rate': 0.0002985710024151608, 'weight_decay': 0.008, 'warmup_steps': 26, 'lambda_param': 1.0, 'temperature': 2.5}\n"
     ]
    },
    {
     "name": "stderr",
     "output_type": "stream",
     "text": [
      "Some weights of TimmWrapperForImageClassification were not initialized from the model checkpoint at timm/tiny_vit_5m_224.in1k and are newly initialized because the shapes did not match:\n",
      "- head.fc.bias: found shape torch.Size([1000]) in the checkpoint and torch.Size([10]) in the model instantiated\n",
      "- head.fc.weight: found shape torch.Size([1000, 320]) in the checkpoint and torch.Size([10, 320]) in the model instantiated\n",
      "You should probably TRAIN this model on a down-stream task to be able to use it for predictions and inference.\n"
     ]
    },
    {
     "data": {
      "text/html": [
       "\n",
       "    <div>\n",
       "      \n",
       "      <progress value='626' max='2191' style='width:300px; height:20px; vertical-align: middle;'></progress>\n",
       "      [ 626/2191 02:51 < 07:09, 3.65 it/s, Epoch 2/7]\n",
       "    </div>\n",
       "    <table border=\"1\" class=\"dataframe\">\n",
       "  <thead>\n",
       " <tr style=\"text-align: left;\">\n",
       "      <th>Epoch</th>\n",
       "      <th>Training Loss</th>\n",
       "      <th>Validation Loss</th>\n",
       "      <th>Accuracy</th>\n",
       "      <th>Precision</th>\n",
       "      <th>Recall</th>\n",
       "      <th>F1</th>\n",
       "    </tr>\n",
       "  </thead>\n",
       "  <tbody>\n",
       "    <tr>\n",
       "      <td>1</td>\n",
       "      <td>0.354400</td>\n",
       "      <td>0.208520</td>\n",
       "      <td>0.932800</td>\n",
       "      <td>0.935365</td>\n",
       "      <td>0.933206</td>\n",
       "      <td>0.933129</td>\n",
       "    </tr>\n",
       "    <tr>\n",
       "      <td>2</td>\n",
       "      <td>0.176200</td>\n",
       "      <td>0.204137</td>\n",
       "      <td>0.940800</td>\n",
       "      <td>0.943600</td>\n",
       "      <td>0.940765</td>\n",
       "      <td>0.941190</td>\n",
       "    </tr>\n",
       "  </tbody>\n",
       "</table><p>"
      ],
      "text/plain": [
       "<IPython.core.display.HTML object>"
      ]
     },
     "metadata": {},
     "output_type": "display_data"
    },
    {
     "name": "stderr",
     "output_type": "stream",
     "text": [
      "[I 2025-03-30 21:42:17,866] Trial 97 pruned. \n"
     ]
    },
    {
     "name": "stdout",
     "output_type": "stream",
     "text": [
      "Trial 98 with params: {'learning_rate': 0.00010935130174798839, 'weight_decay': 0.007, 'warmup_steps': 23, 'lambda_param': 1.0, 'temperature': 4.0}\n"
     ]
    },
    {
     "name": "stderr",
     "output_type": "stream",
     "text": [
      "Some weights of TimmWrapperForImageClassification were not initialized from the model checkpoint at timm/tiny_vit_5m_224.in1k and are newly initialized because the shapes did not match:\n",
      "- head.fc.bias: found shape torch.Size([1000]) in the checkpoint and torch.Size([10]) in the model instantiated\n",
      "- head.fc.weight: found shape torch.Size([1000, 320]) in the checkpoint and torch.Size([10, 320]) in the model instantiated\n",
      "You should probably TRAIN this model on a down-stream task to be able to use it for predictions and inference.\n"
     ]
    },
    {
     "data": {
      "text/html": [
       "\n",
       "    <div>\n",
       "      \n",
       "      <progress value='2191' max='2191' style='width:300px; height:20px; vertical-align: middle;'></progress>\n",
       "      [2191/2191 09:55, Epoch 7/7]\n",
       "    </div>\n",
       "    <table border=\"1\" class=\"dataframe\">\n",
       "  <thead>\n",
       " <tr style=\"text-align: left;\">\n",
       "      <th>Epoch</th>\n",
       "      <th>Training Loss</th>\n",
       "      <th>Validation Loss</th>\n",
       "      <th>Accuracy</th>\n",
       "      <th>Precision</th>\n",
       "      <th>Recall</th>\n",
       "      <th>F1</th>\n",
       "    </tr>\n",
       "  </thead>\n",
       "  <tbody>\n",
       "    <tr>\n",
       "      <td>1</td>\n",
       "      <td>0.365300</td>\n",
       "      <td>0.183729</td>\n",
       "      <td>0.948100</td>\n",
       "      <td>0.950917</td>\n",
       "      <td>0.948132</td>\n",
       "      <td>0.948606</td>\n",
       "    </tr>\n",
       "    <tr>\n",
       "      <td>2</td>\n",
       "      <td>0.150800</td>\n",
       "      <td>0.164699</td>\n",
       "      <td>0.962300</td>\n",
       "      <td>0.962874</td>\n",
       "      <td>0.962483</td>\n",
       "      <td>0.962471</td>\n",
       "    </tr>\n",
       "    <tr>\n",
       "      <td>3</td>\n",
       "      <td>0.129100</td>\n",
       "      <td>0.154522</td>\n",
       "      <td>0.966000</td>\n",
       "      <td>0.966215</td>\n",
       "      <td>0.966142</td>\n",
       "      <td>0.966111</td>\n",
       "    </tr>\n",
       "    <tr>\n",
       "      <td>4</td>\n",
       "      <td>0.119000</td>\n",
       "      <td>0.146897</td>\n",
       "      <td>0.969100</td>\n",
       "      <td>0.969352</td>\n",
       "      <td>0.969292</td>\n",
       "      <td>0.969224</td>\n",
       "    </tr>\n",
       "    <tr>\n",
       "      <td>5</td>\n",
       "      <td>0.114200</td>\n",
       "      <td>0.144389</td>\n",
       "      <td>0.971200</td>\n",
       "      <td>0.971837</td>\n",
       "      <td>0.971304</td>\n",
       "      <td>0.971415</td>\n",
       "    </tr>\n",
       "    <tr>\n",
       "      <td>6</td>\n",
       "      <td>0.111600</td>\n",
       "      <td>0.140245</td>\n",
       "      <td>0.973700</td>\n",
       "      <td>0.973947</td>\n",
       "      <td>0.973828</td>\n",
       "      <td>0.973848</td>\n",
       "    </tr>\n",
       "    <tr>\n",
       "      <td>7</td>\n",
       "      <td>0.110100</td>\n",
       "      <td>0.139126</td>\n",
       "      <td>0.973300</td>\n",
       "      <td>0.973497</td>\n",
       "      <td>0.973440</td>\n",
       "      <td>0.973440</td>\n",
       "    </tr>\n",
       "  </tbody>\n",
       "</table><p>"
      ],
      "text/plain": [
       "<IPython.core.display.HTML object>"
      ]
     },
     "metadata": {},
     "output_type": "display_data"
    },
    {
     "name": "stderr",
     "output_type": "stream",
     "text": [
      "[I 2025-03-30 21:52:16,624] Trial 98 finished with value: 0.9734400880373913 and parameters: {'learning_rate': 0.00010935130174798839, 'weight_decay': 0.007, 'warmup_steps': 23, 'lambda_param': 1.0, 'temperature': 4.0}. Best is trial 32 with value: 0.9764120594095738.\n"
     ]
    },
    {
     "name": "stdout",
     "output_type": "stream",
     "text": [
      "Trial 99 with params: {'learning_rate': 8.710007471084877e-05, 'weight_decay': 0.01, 'warmup_steps': 17, 'lambda_param': 0.30000000000000004, 'temperature': 6.0}\n"
     ]
    },
    {
     "name": "stderr",
     "output_type": "stream",
     "text": [
      "Some weights of TimmWrapperForImageClassification were not initialized from the model checkpoint at timm/tiny_vit_5m_224.in1k and are newly initialized because the shapes did not match:\n",
      "- head.fc.bias: found shape torch.Size([1000]) in the checkpoint and torch.Size([10]) in the model instantiated\n",
      "- head.fc.weight: found shape torch.Size([1000, 320]) in the checkpoint and torch.Size([10, 320]) in the model instantiated\n",
      "You should probably TRAIN this model on a down-stream task to be able to use it for predictions and inference.\n"
     ]
    },
    {
     "data": {
      "text/html": [
       "\n",
       "    <div>\n",
       "      \n",
       "      <progress value='2191' max='2191' style='width:300px; height:20px; vertical-align: middle;'></progress>\n",
       "      [2191/2191 10:31, Epoch 7/7]\n",
       "    </div>\n",
       "    <table border=\"1\" class=\"dataframe\">\n",
       "  <thead>\n",
       " <tr style=\"text-align: left;\">\n",
       "      <th>Epoch</th>\n",
       "      <th>Training Loss</th>\n",
       "      <th>Validation Loss</th>\n",
       "      <th>Accuracy</th>\n",
       "      <th>Precision</th>\n",
       "      <th>Recall</th>\n",
       "      <th>F1</th>\n",
       "    </tr>\n",
       "  </thead>\n",
       "  <tbody>\n",
       "    <tr>\n",
       "      <td>1</td>\n",
       "      <td>0.371000</td>\n",
       "      <td>0.177187</td>\n",
       "      <td>0.954900</td>\n",
       "      <td>0.956002</td>\n",
       "      <td>0.954946</td>\n",
       "      <td>0.955212</td>\n",
       "    </tr>\n",
       "    <tr>\n",
       "      <td>2</td>\n",
       "      <td>0.150200</td>\n",
       "      <td>0.158277</td>\n",
       "      <td>0.964200</td>\n",
       "      <td>0.964298</td>\n",
       "      <td>0.964379</td>\n",
       "      <td>0.964284</td>\n",
       "    </tr>\n",
       "    <tr>\n",
       "      <td>3</td>\n",
       "      <td>0.128700</td>\n",
       "      <td>0.155291</td>\n",
       "      <td>0.963700</td>\n",
       "      <td>0.965129</td>\n",
       "      <td>0.963854</td>\n",
       "      <td>0.963993</td>\n",
       "    </tr>\n",
       "    <tr>\n",
       "      <td>4</td>\n",
       "      <td>0.119100</td>\n",
       "      <td>0.148223</td>\n",
       "      <td>0.969500</td>\n",
       "      <td>0.969717</td>\n",
       "      <td>0.969641</td>\n",
       "      <td>0.969665</td>\n",
       "    </tr>\n",
       "    <tr>\n",
       "      <td>5</td>\n",
       "      <td>0.113900</td>\n",
       "      <td>0.145838</td>\n",
       "      <td>0.969400</td>\n",
       "      <td>0.970057</td>\n",
       "      <td>0.969551</td>\n",
       "      <td>0.969609</td>\n",
       "    </tr>\n",
       "    <tr>\n",
       "      <td>6</td>\n",
       "      <td>0.111600</td>\n",
       "      <td>0.141530</td>\n",
       "      <td>0.972100</td>\n",
       "      <td>0.972489</td>\n",
       "      <td>0.972203</td>\n",
       "      <td>0.972288</td>\n",
       "    </tr>\n",
       "    <tr>\n",
       "      <td>7</td>\n",
       "      <td>0.110200</td>\n",
       "      <td>0.140745</td>\n",
       "      <td>0.972500</td>\n",
       "      <td>0.972732</td>\n",
       "      <td>0.972635</td>\n",
       "      <td>0.972658</td>\n",
       "    </tr>\n",
       "  </tbody>\n",
       "</table><p>"
      ],
      "text/plain": [
       "<IPython.core.display.HTML object>"
      ]
     },
     "metadata": {},
     "output_type": "display_data"
    },
    {
     "name": "stderr",
     "output_type": "stream",
     "text": [
      "[I 2025-03-30 22:02:50,484] Trial 99 finished with value: 0.9726580815624283 and parameters: {'learning_rate': 8.710007471084877e-05, 'weight_decay': 0.01, 'warmup_steps': 17, 'lambda_param': 0.30000000000000004, 'temperature': 6.0}. Best is trial 32 with value: 0.9764120594095738.\n"
     ]
    },
    {
     "name": "stdout",
     "output_type": "stream",
     "text": [
      "Trial 100 with params: {'learning_rate': 0.00012162617401836313, 'weight_decay': 0.008, 'warmup_steps': 27, 'lambda_param': 0.8, 'temperature': 2.5}\n"
     ]
    },
    {
     "name": "stderr",
     "output_type": "stream",
     "text": [
      "Some weights of TimmWrapperForImageClassification were not initialized from the model checkpoint at timm/tiny_vit_5m_224.in1k and are newly initialized because the shapes did not match:\n",
      "- head.fc.bias: found shape torch.Size([1000]) in the checkpoint and torch.Size([10]) in the model instantiated\n",
      "- head.fc.weight: found shape torch.Size([1000, 320]) in the checkpoint and torch.Size([10, 320]) in the model instantiated\n",
      "You should probably TRAIN this model on a down-stream task to be able to use it for predictions and inference.\n"
     ]
    },
    {
     "data": {
      "text/html": [
       "\n",
       "    <div>\n",
       "      \n",
       "      <progress value='2191' max='2191' style='width:300px; height:20px; vertical-align: middle;'></progress>\n",
       "      [2191/2191 10:11, Epoch 7/7]\n",
       "    </div>\n",
       "    <table border=\"1\" class=\"dataframe\">\n",
       "  <thead>\n",
       " <tr style=\"text-align: left;\">\n",
       "      <th>Epoch</th>\n",
       "      <th>Training Loss</th>\n",
       "      <th>Validation Loss</th>\n",
       "      <th>Accuracy</th>\n",
       "      <th>Precision</th>\n",
       "      <th>Recall</th>\n",
       "      <th>F1</th>\n",
       "    </tr>\n",
       "  </thead>\n",
       "  <tbody>\n",
       "    <tr>\n",
       "      <td>1</td>\n",
       "      <td>0.368100</td>\n",
       "      <td>0.186652</td>\n",
       "      <td>0.947800</td>\n",
       "      <td>0.950634</td>\n",
       "      <td>0.948114</td>\n",
       "      <td>0.948186</td>\n",
       "    </tr>\n",
       "    <tr>\n",
       "      <td>2</td>\n",
       "      <td>0.151900</td>\n",
       "      <td>0.170290</td>\n",
       "      <td>0.957400</td>\n",
       "      <td>0.958173</td>\n",
       "      <td>0.957605</td>\n",
       "      <td>0.957430</td>\n",
       "    </tr>\n",
       "    <tr>\n",
       "      <td>3</td>\n",
       "      <td>0.131000</td>\n",
       "      <td>0.152698</td>\n",
       "      <td>0.967800</td>\n",
       "      <td>0.968138</td>\n",
       "      <td>0.967977</td>\n",
       "      <td>0.968005</td>\n",
       "    </tr>\n",
       "    <tr>\n",
       "      <td>4</td>\n",
       "      <td>0.119400</td>\n",
       "      <td>0.149427</td>\n",
       "      <td>0.969300</td>\n",
       "      <td>0.969740</td>\n",
       "      <td>0.969459</td>\n",
       "      <td>0.969499</td>\n",
       "    </tr>\n",
       "    <tr>\n",
       "      <td>5</td>\n",
       "      <td>0.114500</td>\n",
       "      <td>0.142968</td>\n",
       "      <td>0.973300</td>\n",
       "      <td>0.973480</td>\n",
       "      <td>0.973484</td>\n",
       "      <td>0.973418</td>\n",
       "    </tr>\n",
       "    <tr>\n",
       "      <td>6</td>\n",
       "      <td>0.111600</td>\n",
       "      <td>0.140488</td>\n",
       "      <td>0.972500</td>\n",
       "      <td>0.972728</td>\n",
       "      <td>0.972636</td>\n",
       "      <td>0.972651</td>\n",
       "    </tr>\n",
       "    <tr>\n",
       "      <td>7</td>\n",
       "      <td>0.110000</td>\n",
       "      <td>0.139907</td>\n",
       "      <td>0.972100</td>\n",
       "      <td>0.972163</td>\n",
       "      <td>0.972268</td>\n",
       "      <td>0.972196</td>\n",
       "    </tr>\n",
       "  </tbody>\n",
       "</table><p>"
      ],
      "text/plain": [
       "<IPython.core.display.HTML object>"
      ]
     },
     "metadata": {},
     "output_type": "display_data"
    },
    {
     "name": "stderr",
     "output_type": "stream",
     "text": [
      "[I 2025-03-30 22:13:04,239] Trial 100 finished with value: 0.9721960489643802 and parameters: {'learning_rate': 0.00012162617401836313, 'weight_decay': 0.008, 'warmup_steps': 27, 'lambda_param': 0.8, 'temperature': 2.5}. Best is trial 32 with value: 0.9764120594095738.\n"
     ]
    },
    {
     "name": "stdout",
     "output_type": "stream",
     "text": [
      "Trial 101 with params: {'learning_rate': 8.468238290855145e-05, 'weight_decay': 0.01, 'warmup_steps': 23, 'lambda_param': 0.7000000000000001, 'temperature': 3.0}\n"
     ]
    },
    {
     "name": "stderr",
     "output_type": "stream",
     "text": [
      "Some weights of TimmWrapperForImageClassification were not initialized from the model checkpoint at timm/tiny_vit_5m_224.in1k and are newly initialized because the shapes did not match:\n",
      "- head.fc.bias: found shape torch.Size([1000]) in the checkpoint and torch.Size([10]) in the model instantiated\n",
      "- head.fc.weight: found shape torch.Size([1000, 320]) in the checkpoint and torch.Size([10, 320]) in the model instantiated\n",
      "You should probably TRAIN this model on a down-stream task to be able to use it for predictions and inference.\n"
     ]
    },
    {
     "data": {
      "text/html": [
       "\n",
       "    <div>\n",
       "      \n",
       "      <progress value='2191' max='2191' style='width:300px; height:20px; vertical-align: middle;'></progress>\n",
       "      [2191/2191 09:58, Epoch 7/7]\n",
       "    </div>\n",
       "    <table border=\"1\" class=\"dataframe\">\n",
       "  <thead>\n",
       " <tr style=\"text-align: left;\">\n",
       "      <th>Epoch</th>\n",
       "      <th>Training Loss</th>\n",
       "      <th>Validation Loss</th>\n",
       "      <th>Accuracy</th>\n",
       "      <th>Precision</th>\n",
       "      <th>Recall</th>\n",
       "      <th>F1</th>\n",
       "    </tr>\n",
       "  </thead>\n",
       "  <tbody>\n",
       "    <tr>\n",
       "      <td>1</td>\n",
       "      <td>0.385400</td>\n",
       "      <td>0.179661</td>\n",
       "      <td>0.952900</td>\n",
       "      <td>0.955173</td>\n",
       "      <td>0.953059</td>\n",
       "      <td>0.953278</td>\n",
       "    </tr>\n",
       "    <tr>\n",
       "      <td>2</td>\n",
       "      <td>0.149200</td>\n",
       "      <td>0.159693</td>\n",
       "      <td>0.964800</td>\n",
       "      <td>0.965009</td>\n",
       "      <td>0.964953</td>\n",
       "      <td>0.964903</td>\n",
       "    </tr>\n",
       "    <tr>\n",
       "      <td>3</td>\n",
       "      <td>0.128300</td>\n",
       "      <td>0.151848</td>\n",
       "      <td>0.968900</td>\n",
       "      <td>0.969195</td>\n",
       "      <td>0.969082</td>\n",
       "      <td>0.968981</td>\n",
       "    </tr>\n",
       "    <tr>\n",
       "      <td>4</td>\n",
       "      <td>0.118700</td>\n",
       "      <td>0.146258</td>\n",
       "      <td>0.972400</td>\n",
       "      <td>0.972666</td>\n",
       "      <td>0.972434</td>\n",
       "      <td>0.972530</td>\n",
       "    </tr>\n",
       "    <tr>\n",
       "      <td>5</td>\n",
       "      <td>0.113900</td>\n",
       "      <td>0.141220</td>\n",
       "      <td>0.974100</td>\n",
       "      <td>0.974480</td>\n",
       "      <td>0.974181</td>\n",
       "      <td>0.974249</td>\n",
       "    </tr>\n",
       "    <tr>\n",
       "      <td>6</td>\n",
       "      <td>0.111200</td>\n",
       "      <td>0.139623</td>\n",
       "      <td>0.973200</td>\n",
       "      <td>0.973523</td>\n",
       "      <td>0.973298</td>\n",
       "      <td>0.973352</td>\n",
       "    </tr>\n",
       "    <tr>\n",
       "      <td>7</td>\n",
       "      <td>0.109900</td>\n",
       "      <td>0.138841</td>\n",
       "      <td>0.973600</td>\n",
       "      <td>0.973810</td>\n",
       "      <td>0.973706</td>\n",
       "      <td>0.973717</td>\n",
       "    </tr>\n",
       "  </tbody>\n",
       "</table><p>"
      ],
      "text/plain": [
       "<IPython.core.display.HTML object>"
      ]
     },
     "metadata": {},
     "output_type": "display_data"
    },
    {
     "name": "stderr",
     "output_type": "stream",
     "text": [
      "[I 2025-03-30 22:23:05,224] Trial 101 finished with value: 0.9737171745496273 and parameters: {'learning_rate': 8.468238290855145e-05, 'weight_decay': 0.01, 'warmup_steps': 23, 'lambda_param': 0.7000000000000001, 'temperature': 3.0}. Best is trial 32 with value: 0.9764120594095738.\n"
     ]
    },
    {
     "name": "stdout",
     "output_type": "stream",
     "text": [
      "Trial 102 with params: {'learning_rate': 0.00021237173133186566, 'weight_decay': 0.01, 'warmup_steps': 25, 'lambda_param': 1.0, 'temperature': 3.5}\n"
     ]
    },
    {
     "name": "stderr",
     "output_type": "stream",
     "text": [
      "Some weights of TimmWrapperForImageClassification were not initialized from the model checkpoint at timm/tiny_vit_5m_224.in1k and are newly initialized because the shapes did not match:\n",
      "- head.fc.bias: found shape torch.Size([1000]) in the checkpoint and torch.Size([10]) in the model instantiated\n",
      "- head.fc.weight: found shape torch.Size([1000, 320]) in the checkpoint and torch.Size([10, 320]) in the model instantiated\n",
      "You should probably TRAIN this model on a down-stream task to be able to use it for predictions and inference.\n"
     ]
    },
    {
     "data": {
      "text/html": [
       "\n",
       "    <div>\n",
       "      \n",
       "      <progress value='2191' max='2191' style='width:300px; height:20px; vertical-align: middle;'></progress>\n",
       "      [2191/2191 10:17, Epoch 7/7]\n",
       "    </div>\n",
       "    <table border=\"1\" class=\"dataframe\">\n",
       "  <thead>\n",
       " <tr style=\"text-align: left;\">\n",
       "      <th>Epoch</th>\n",
       "      <th>Training Loss</th>\n",
       "      <th>Validation Loss</th>\n",
       "      <th>Accuracy</th>\n",
       "      <th>Precision</th>\n",
       "      <th>Recall</th>\n",
       "      <th>F1</th>\n",
       "    </tr>\n",
       "  </thead>\n",
       "  <tbody>\n",
       "    <tr>\n",
       "      <td>1</td>\n",
       "      <td>0.352500</td>\n",
       "      <td>0.203906</td>\n",
       "      <td>0.939000</td>\n",
       "      <td>0.941147</td>\n",
       "      <td>0.939122</td>\n",
       "      <td>0.939338</td>\n",
       "    </tr>\n",
       "    <tr>\n",
       "      <td>2</td>\n",
       "      <td>0.162400</td>\n",
       "      <td>0.182137</td>\n",
       "      <td>0.952600</td>\n",
       "      <td>0.953741</td>\n",
       "      <td>0.952940</td>\n",
       "      <td>0.952592</td>\n",
       "    </tr>\n",
       "    <tr>\n",
       "      <td>3</td>\n",
       "      <td>0.138400</td>\n",
       "      <td>0.163992</td>\n",
       "      <td>0.960800</td>\n",
       "      <td>0.961522</td>\n",
       "      <td>0.960925</td>\n",
       "      <td>0.961047</td>\n",
       "    </tr>\n",
       "    <tr>\n",
       "      <td>4</td>\n",
       "      <td>0.124900</td>\n",
       "      <td>0.149932</td>\n",
       "      <td>0.970000</td>\n",
       "      <td>0.970150</td>\n",
       "      <td>0.970133</td>\n",
       "      <td>0.970103</td>\n",
       "    </tr>\n",
       "    <tr>\n",
       "      <td>5</td>\n",
       "      <td>0.116200</td>\n",
       "      <td>0.146134</td>\n",
       "      <td>0.969900</td>\n",
       "      <td>0.970436</td>\n",
       "      <td>0.970045</td>\n",
       "      <td>0.970100</td>\n",
       "    </tr>\n",
       "    <tr>\n",
       "      <td>6</td>\n",
       "      <td>0.112600</td>\n",
       "      <td>0.140681</td>\n",
       "      <td>0.974100</td>\n",
       "      <td>0.974361</td>\n",
       "      <td>0.974207</td>\n",
       "      <td>0.974242</td>\n",
       "    </tr>\n",
       "    <tr>\n",
       "      <td>7</td>\n",
       "      <td>0.110600</td>\n",
       "      <td>0.139535</td>\n",
       "      <td>0.974400</td>\n",
       "      <td>0.974558</td>\n",
       "      <td>0.974550</td>\n",
       "      <td>0.974523</td>\n",
       "    </tr>\n",
       "  </tbody>\n",
       "</table><p>"
      ],
      "text/plain": [
       "<IPython.core.display.HTML object>"
      ]
     },
     "metadata": {},
     "output_type": "display_data"
    },
    {
     "name": "stderr",
     "output_type": "stream",
     "text": [
      "[I 2025-03-30 22:33:25,513] Trial 102 finished with value: 0.9745229570554542 and parameters: {'learning_rate': 0.00021237173133186566, 'weight_decay': 0.01, 'warmup_steps': 25, 'lambda_param': 1.0, 'temperature': 3.5}. Best is trial 32 with value: 0.9764120594095738.\n"
     ]
    },
    {
     "name": "stdout",
     "output_type": "stream",
     "text": [
      "Trial 103 with params: {'learning_rate': 0.0003439804710936911, 'weight_decay': 0.01, 'warmup_steps': 24, 'lambda_param': 1.0, 'temperature': 3.5}\n"
     ]
    },
    {
     "name": "stderr",
     "output_type": "stream",
     "text": [
      "Some weights of TimmWrapperForImageClassification were not initialized from the model checkpoint at timm/tiny_vit_5m_224.in1k and are newly initialized because the shapes did not match:\n",
      "- head.fc.bias: found shape torch.Size([1000]) in the checkpoint and torch.Size([10]) in the model instantiated\n",
      "- head.fc.weight: found shape torch.Size([1000, 320]) in the checkpoint and torch.Size([10, 320]) in the model instantiated\n",
      "You should probably TRAIN this model on a down-stream task to be able to use it for predictions and inference.\n"
     ]
    },
    {
     "data": {
      "text/html": [
       "\n",
       "    <div>\n",
       "      \n",
       "      <progress value='626' max='2191' style='width:300px; height:20px; vertical-align: middle;'></progress>\n",
       "      [ 626/2191 02:45 < 06:54, 3.78 it/s, Epoch 2/7]\n",
       "    </div>\n",
       "    <table border=\"1\" class=\"dataframe\">\n",
       "  <thead>\n",
       " <tr style=\"text-align: left;\">\n",
       "      <th>Epoch</th>\n",
       "      <th>Training Loss</th>\n",
       "      <th>Validation Loss</th>\n",
       "      <th>Accuracy</th>\n",
       "      <th>Precision</th>\n",
       "      <th>Recall</th>\n",
       "      <th>F1</th>\n",
       "    </tr>\n",
       "  </thead>\n",
       "  <tbody>\n",
       "    <tr>\n",
       "      <td>1</td>\n",
       "      <td>0.361600</td>\n",
       "      <td>0.253643</td>\n",
       "      <td>0.909900</td>\n",
       "      <td>0.915584</td>\n",
       "      <td>0.910371</td>\n",
       "      <td>0.909996</td>\n",
       "    </tr>\n",
       "    <tr>\n",
       "      <td>2</td>\n",
       "      <td>0.183300</td>\n",
       "      <td>0.210072</td>\n",
       "      <td>0.938700</td>\n",
       "      <td>0.941549</td>\n",
       "      <td>0.938751</td>\n",
       "      <td>0.939000</td>\n",
       "    </tr>\n",
       "  </tbody>\n",
       "</table><p>"
      ],
      "text/plain": [
       "<IPython.core.display.HTML object>"
      ]
     },
     "metadata": {},
     "output_type": "display_data"
    },
    {
     "name": "stderr",
     "output_type": "stream",
     "text": [
      "[I 2025-03-30 22:36:12,668] Trial 103 pruned. \n"
     ]
    },
    {
     "name": "stdout",
     "output_type": "stream",
     "text": [
      "Trial 104 with params: {'learning_rate': 0.00023793889138512282, 'weight_decay': 0.01, 'warmup_steps': 26, 'lambda_param': 1.0, 'temperature': 3.5}\n"
     ]
    },
    {
     "name": "stderr",
     "output_type": "stream",
     "text": [
      "Some weights of TimmWrapperForImageClassification were not initialized from the model checkpoint at timm/tiny_vit_5m_224.in1k and are newly initialized because the shapes did not match:\n",
      "- head.fc.bias: found shape torch.Size([1000]) in the checkpoint and torch.Size([10]) in the model instantiated\n",
      "- head.fc.weight: found shape torch.Size([1000, 320]) in the checkpoint and torch.Size([10, 320]) in the model instantiated\n",
      "You should probably TRAIN this model on a down-stream task to be able to use it for predictions and inference.\n"
     ]
    },
    {
     "data": {
      "text/html": [
       "\n",
       "    <div>\n",
       "      \n",
       "      <progress value='1252' max='2191' style='width:300px; height:20px; vertical-align: middle;'></progress>\n",
       "      [1252/2191 05:52 < 04:24, 3.55 it/s, Epoch 4/7]\n",
       "    </div>\n",
       "    <table border=\"1\" class=\"dataframe\">\n",
       "  <thead>\n",
       " <tr style=\"text-align: left;\">\n",
       "      <th>Epoch</th>\n",
       "      <th>Training Loss</th>\n",
       "      <th>Validation Loss</th>\n",
       "      <th>Accuracy</th>\n",
       "      <th>Precision</th>\n",
       "      <th>Recall</th>\n",
       "      <th>F1</th>\n",
       "    </tr>\n",
       "  </thead>\n",
       "  <tbody>\n",
       "    <tr>\n",
       "      <td>1</td>\n",
       "      <td>0.349300</td>\n",
       "      <td>0.240710</td>\n",
       "      <td>0.916700</td>\n",
       "      <td>0.925365</td>\n",
       "      <td>0.917240</td>\n",
       "      <td>0.917880</td>\n",
       "    </tr>\n",
       "    <tr>\n",
       "      <td>2</td>\n",
       "      <td>0.166500</td>\n",
       "      <td>0.172419</td>\n",
       "      <td>0.957800</td>\n",
       "      <td>0.958254</td>\n",
       "      <td>0.958069</td>\n",
       "      <td>0.957889</td>\n",
       "    </tr>\n",
       "    <tr>\n",
       "      <td>3</td>\n",
       "      <td>0.140500</td>\n",
       "      <td>0.163229</td>\n",
       "      <td>0.962900</td>\n",
       "      <td>0.963249</td>\n",
       "      <td>0.963158</td>\n",
       "      <td>0.963091</td>\n",
       "    </tr>\n",
       "    <tr>\n",
       "      <td>4</td>\n",
       "      <td>0.127600</td>\n",
       "      <td>0.154535</td>\n",
       "      <td>0.966400</td>\n",
       "      <td>0.966471</td>\n",
       "      <td>0.966631</td>\n",
       "      <td>0.966493</td>\n",
       "    </tr>\n",
       "  </tbody>\n",
       "</table><p>"
      ],
      "text/plain": [
       "<IPython.core.display.HTML object>"
      ]
     },
     "metadata": {},
     "output_type": "display_data"
    },
    {
     "name": "stderr",
     "output_type": "stream",
     "text": [
      "[I 2025-03-30 22:42:07,362] Trial 104 pruned. \n"
     ]
    },
    {
     "name": "stdout",
     "output_type": "stream",
     "text": [
      "Trial 105 with params: {'learning_rate': 0.001394113520827695, 'weight_decay': 0.002, 'warmup_steps': 31, 'lambda_param': 1.0, 'temperature': 6.0}\n"
     ]
    },
    {
     "name": "stderr",
     "output_type": "stream",
     "text": [
      "Some weights of TimmWrapperForImageClassification were not initialized from the model checkpoint at timm/tiny_vit_5m_224.in1k and are newly initialized because the shapes did not match:\n",
      "- head.fc.bias: found shape torch.Size([1000]) in the checkpoint and torch.Size([10]) in the model instantiated\n",
      "- head.fc.weight: found shape torch.Size([1000, 320]) in the checkpoint and torch.Size([10, 320]) in the model instantiated\n",
      "You should probably TRAIN this model on a down-stream task to be able to use it for predictions and inference.\n"
     ]
    },
    {
     "data": {
      "text/html": [
       "\n",
       "    <div>\n",
       "      \n",
       "      <progress value='626' max='2191' style='width:300px; height:20px; vertical-align: middle;'></progress>\n",
       "      [ 626/2191 02:47 < 06:59, 3.73 it/s, Epoch 2/7]\n",
       "    </div>\n",
       "    <table border=\"1\" class=\"dataframe\">\n",
       "  <thead>\n",
       " <tr style=\"text-align: left;\">\n",
       "      <th>Epoch</th>\n",
       "      <th>Training Loss</th>\n",
       "      <th>Validation Loss</th>\n",
       "      <th>Accuracy</th>\n",
       "      <th>Precision</th>\n",
       "      <th>Recall</th>\n",
       "      <th>F1</th>\n",
       "    </tr>\n",
       "  </thead>\n",
       "  <tbody>\n",
       "    <tr>\n",
       "      <td>1</td>\n",
       "      <td>0.609400</td>\n",
       "      <td>0.542065</td>\n",
       "      <td>0.760500</td>\n",
       "      <td>0.805146</td>\n",
       "      <td>0.760081</td>\n",
       "      <td>0.766905</td>\n",
       "    </tr>\n",
       "    <tr>\n",
       "      <td>2</td>\n",
       "      <td>0.378600</td>\n",
       "      <td>0.394766</td>\n",
       "      <td>0.840700</td>\n",
       "      <td>0.847074</td>\n",
       "      <td>0.841383</td>\n",
       "      <td>0.840135</td>\n",
       "    </tr>\n",
       "  </tbody>\n",
       "</table><p>"
      ],
      "text/plain": [
       "<IPython.core.display.HTML object>"
      ]
     },
     "metadata": {},
     "output_type": "display_data"
    },
    {
     "name": "stderr",
     "output_type": "stream",
     "text": [
      "[I 2025-03-30 22:44:59,148] Trial 105 pruned. \n"
     ]
    },
    {
     "name": "stdout",
     "output_type": "stream",
     "text": [
      "Trial 106 with params: {'learning_rate': 0.00016644555832767357, 'weight_decay': 0.0, 'warmup_steps': 2, 'lambda_param': 0.30000000000000004, 'temperature': 6.5}\n"
     ]
    },
    {
     "name": "stderr",
     "output_type": "stream",
     "text": [
      "Some weights of TimmWrapperForImageClassification were not initialized from the model checkpoint at timm/tiny_vit_5m_224.in1k and are newly initialized because the shapes did not match:\n",
      "- head.fc.bias: found shape torch.Size([1000]) in the checkpoint and torch.Size([10]) in the model instantiated\n",
      "- head.fc.weight: found shape torch.Size([1000, 320]) in the checkpoint and torch.Size([10, 320]) in the model instantiated\n",
      "You should probably TRAIN this model on a down-stream task to be able to use it for predictions and inference.\n"
     ]
    },
    {
     "data": {
      "text/html": [
       "\n",
       "    <div>\n",
       "      \n",
       "      <progress value='1252' max='2191' style='width:300px; height:20px; vertical-align: middle;'></progress>\n",
       "      [1252/2191 05:36 < 04:12, 3.71 it/s, Epoch 4/7]\n",
       "    </div>\n",
       "    <table border=\"1\" class=\"dataframe\">\n",
       "  <thead>\n",
       " <tr style=\"text-align: left;\">\n",
       "      <th>Epoch</th>\n",
       "      <th>Training Loss</th>\n",
       "      <th>Validation Loss</th>\n",
       "      <th>Accuracy</th>\n",
       "      <th>Precision</th>\n",
       "      <th>Recall</th>\n",
       "      <th>F1</th>\n",
       "    </tr>\n",
       "  </thead>\n",
       "  <tbody>\n",
       "    <tr>\n",
       "      <td>1</td>\n",
       "      <td>0.311800</td>\n",
       "      <td>0.196814</td>\n",
       "      <td>0.943500</td>\n",
       "      <td>0.947005</td>\n",
       "      <td>0.943655</td>\n",
       "      <td>0.943985</td>\n",
       "    </tr>\n",
       "    <tr>\n",
       "      <td>2</td>\n",
       "      <td>0.156900</td>\n",
       "      <td>0.183912</td>\n",
       "      <td>0.949800</td>\n",
       "      <td>0.951104</td>\n",
       "      <td>0.950078</td>\n",
       "      <td>0.949986</td>\n",
       "    </tr>\n",
       "    <tr>\n",
       "      <td>3</td>\n",
       "      <td>0.135600</td>\n",
       "      <td>0.159749</td>\n",
       "      <td>0.963800</td>\n",
       "      <td>0.963886</td>\n",
       "      <td>0.964032</td>\n",
       "      <td>0.963875</td>\n",
       "    </tr>\n",
       "    <tr>\n",
       "      <td>4</td>\n",
       "      <td>0.122100</td>\n",
       "      <td>0.150775</td>\n",
       "      <td>0.967300</td>\n",
       "      <td>0.967338</td>\n",
       "      <td>0.967495</td>\n",
       "      <td>0.967372</td>\n",
       "    </tr>\n",
       "  </tbody>\n",
       "</table><p>"
      ],
      "text/plain": [
       "<IPython.core.display.HTML object>"
      ]
     },
     "metadata": {},
     "output_type": "display_data"
    },
    {
     "name": "stderr",
     "output_type": "stream",
     "text": [
      "[I 2025-03-30 22:50:37,926] Trial 106 pruned. \n"
     ]
    },
    {
     "name": "stdout",
     "output_type": "stream",
     "text": [
      "Trial 107 with params: {'learning_rate': 0.00012018461491622113, 'weight_decay': 0.01, 'warmup_steps': 14, 'lambda_param': 0.8, 'temperature': 4.5}\n"
     ]
    },
    {
     "name": "stderr",
     "output_type": "stream",
     "text": [
      "Some weights of TimmWrapperForImageClassification were not initialized from the model checkpoint at timm/tiny_vit_5m_224.in1k and are newly initialized because the shapes did not match:\n",
      "- head.fc.bias: found shape torch.Size([1000]) in the checkpoint and torch.Size([10]) in the model instantiated\n",
      "- head.fc.weight: found shape torch.Size([1000, 320]) in the checkpoint and torch.Size([10, 320]) in the model instantiated\n",
      "You should probably TRAIN this model on a down-stream task to be able to use it for predictions and inference.\n"
     ]
    },
    {
     "data": {
      "text/html": [
       "\n",
       "    <div>\n",
       "      \n",
       "      <progress value='2191' max='2191' style='width:300px; height:20px; vertical-align: middle;'></progress>\n",
       "      [2191/2191 10:08, Epoch 7/7]\n",
       "    </div>\n",
       "    <table border=\"1\" class=\"dataframe\">\n",
       "  <thead>\n",
       " <tr style=\"text-align: left;\">\n",
       "      <th>Epoch</th>\n",
       "      <th>Training Loss</th>\n",
       "      <th>Validation Loss</th>\n",
       "      <th>Accuracy</th>\n",
       "      <th>Precision</th>\n",
       "      <th>Recall</th>\n",
       "      <th>F1</th>\n",
       "    </tr>\n",
       "  </thead>\n",
       "  <tbody>\n",
       "    <tr>\n",
       "      <td>1</td>\n",
       "      <td>0.341700</td>\n",
       "      <td>0.195284</td>\n",
       "      <td>0.941100</td>\n",
       "      <td>0.945250</td>\n",
       "      <td>0.941308</td>\n",
       "      <td>0.941530</td>\n",
       "    </tr>\n",
       "    <tr>\n",
       "      <td>2</td>\n",
       "      <td>0.150500</td>\n",
       "      <td>0.166771</td>\n",
       "      <td>0.961100</td>\n",
       "      <td>0.962002</td>\n",
       "      <td>0.961257</td>\n",
       "      <td>0.961313</td>\n",
       "    </tr>\n",
       "    <tr>\n",
       "      <td>3</td>\n",
       "      <td>0.129300</td>\n",
       "      <td>0.157388</td>\n",
       "      <td>0.965300</td>\n",
       "      <td>0.965804</td>\n",
       "      <td>0.965457</td>\n",
       "      <td>0.965452</td>\n",
       "    </tr>\n",
       "    <tr>\n",
       "      <td>4</td>\n",
       "      <td>0.119900</td>\n",
       "      <td>0.146623</td>\n",
       "      <td>0.971500</td>\n",
       "      <td>0.971813</td>\n",
       "      <td>0.971678</td>\n",
       "      <td>0.971632</td>\n",
       "    </tr>\n",
       "    <tr>\n",
       "      <td>5</td>\n",
       "      <td>0.114400</td>\n",
       "      <td>0.142890</td>\n",
       "      <td>0.972700</td>\n",
       "      <td>0.973180</td>\n",
       "      <td>0.972834</td>\n",
       "      <td>0.972895</td>\n",
       "    </tr>\n",
       "    <tr>\n",
       "      <td>6</td>\n",
       "      <td>0.111800</td>\n",
       "      <td>0.139618</td>\n",
       "      <td>0.974500</td>\n",
       "      <td>0.974637</td>\n",
       "      <td>0.974659</td>\n",
       "      <td>0.974633</td>\n",
       "    </tr>\n",
       "    <tr>\n",
       "      <td>7</td>\n",
       "      <td>0.110000</td>\n",
       "      <td>0.138602</td>\n",
       "      <td>0.975200</td>\n",
       "      <td>0.975362</td>\n",
       "      <td>0.975351</td>\n",
       "      <td>0.975335</td>\n",
       "    </tr>\n",
       "  </tbody>\n",
       "</table><p>"
      ],
      "text/plain": [
       "<IPython.core.display.HTML object>"
      ]
     },
     "metadata": {},
     "output_type": "display_data"
    },
    {
     "name": "stderr",
     "output_type": "stream",
     "text": [
      "[I 2025-03-30 23:00:49,703] Trial 107 finished with value: 0.9753346264809897 and parameters: {'learning_rate': 0.00012018461491622113, 'weight_decay': 0.01, 'warmup_steps': 14, 'lambda_param': 0.8, 'temperature': 4.5}. Best is trial 32 with value: 0.9764120594095738.\n"
     ]
    },
    {
     "name": "stdout",
     "output_type": "stream",
     "text": [
      "Trial 108 with params: {'learning_rate': 0.00014516609330979537, 'weight_decay': 0.01, 'warmup_steps': 14, 'lambda_param': 1.0, 'temperature': 3.5}\n"
     ]
    },
    {
     "name": "stderr",
     "output_type": "stream",
     "text": [
      "Some weights of TimmWrapperForImageClassification were not initialized from the model checkpoint at timm/tiny_vit_5m_224.in1k and are newly initialized because the shapes did not match:\n",
      "- head.fc.bias: found shape torch.Size([1000]) in the checkpoint and torch.Size([10]) in the model instantiated\n",
      "- head.fc.weight: found shape torch.Size([1000, 320]) in the checkpoint and torch.Size([10, 320]) in the model instantiated\n",
      "You should probably TRAIN this model on a down-stream task to be able to use it for predictions and inference.\n"
     ]
    },
    {
     "data": {
      "text/html": [
       "\n",
       "    <div>\n",
       "      \n",
       "      <progress value='2191' max='2191' style='width:300px; height:20px; vertical-align: middle;'></progress>\n",
       "      [2191/2191 09:58, Epoch 7/7]\n",
       "    </div>\n",
       "    <table border=\"1\" class=\"dataframe\">\n",
       "  <thead>\n",
       " <tr style=\"text-align: left;\">\n",
       "      <th>Epoch</th>\n",
       "      <th>Training Loss</th>\n",
       "      <th>Validation Loss</th>\n",
       "      <th>Accuracy</th>\n",
       "      <th>Precision</th>\n",
       "      <th>Recall</th>\n",
       "      <th>F1</th>\n",
       "    </tr>\n",
       "  </thead>\n",
       "  <tbody>\n",
       "    <tr>\n",
       "      <td>1</td>\n",
       "      <td>0.331500</td>\n",
       "      <td>0.192378</td>\n",
       "      <td>0.944500</td>\n",
       "      <td>0.947608</td>\n",
       "      <td>0.944885</td>\n",
       "      <td>0.944770</td>\n",
       "    </tr>\n",
       "    <tr>\n",
       "      <td>2</td>\n",
       "      <td>0.152300</td>\n",
       "      <td>0.169534</td>\n",
       "      <td>0.958000</td>\n",
       "      <td>0.958637</td>\n",
       "      <td>0.958133</td>\n",
       "      <td>0.958259</td>\n",
       "    </tr>\n",
       "    <tr>\n",
       "      <td>3</td>\n",
       "      <td>0.130200</td>\n",
       "      <td>0.151798</td>\n",
       "      <td>0.968200</td>\n",
       "      <td>0.968529</td>\n",
       "      <td>0.968275</td>\n",
       "      <td>0.968291</td>\n",
       "    </tr>\n",
       "    <tr>\n",
       "      <td>4</td>\n",
       "      <td>0.120700</td>\n",
       "      <td>0.148449</td>\n",
       "      <td>0.969100</td>\n",
       "      <td>0.969370</td>\n",
       "      <td>0.969215</td>\n",
       "      <td>0.969235</td>\n",
       "    </tr>\n",
       "    <tr>\n",
       "      <td>5</td>\n",
       "      <td>0.115200</td>\n",
       "      <td>0.141565</td>\n",
       "      <td>0.973500</td>\n",
       "      <td>0.973721</td>\n",
       "      <td>0.973609</td>\n",
       "      <td>0.973607</td>\n",
       "    </tr>\n",
       "    <tr>\n",
       "      <td>6</td>\n",
       "      <td>0.111700</td>\n",
       "      <td>0.139290</td>\n",
       "      <td>0.974200</td>\n",
       "      <td>0.974492</td>\n",
       "      <td>0.974333</td>\n",
       "      <td>0.974343</td>\n",
       "    </tr>\n",
       "    <tr>\n",
       "      <td>7</td>\n",
       "      <td>0.110400</td>\n",
       "      <td>0.138052</td>\n",
       "      <td>0.975400</td>\n",
       "      <td>0.975529</td>\n",
       "      <td>0.975543</td>\n",
       "      <td>0.975494</td>\n",
       "    </tr>\n",
       "  </tbody>\n",
       "</table><p>"
      ],
      "text/plain": [
       "<IPython.core.display.HTML object>"
      ]
     },
     "metadata": {},
     "output_type": "display_data"
    },
    {
     "name": "stderr",
     "output_type": "stream",
     "text": [
      "[I 2025-03-30 23:10:51,000] Trial 108 finished with value: 0.9754935135193004 and parameters: {'learning_rate': 0.00014516609330979537, 'weight_decay': 0.01, 'warmup_steps': 14, 'lambda_param': 1.0, 'temperature': 3.5}. Best is trial 32 with value: 0.9764120594095738.\n"
     ]
    },
    {
     "name": "stdout",
     "output_type": "stream",
     "text": [
      "Trial 109 with params: {'learning_rate': 8.642340091115601e-05, 'weight_decay': 0.009000000000000001, 'warmup_steps': 12, 'lambda_param': 0.9, 'temperature': 4.0}\n"
     ]
    },
    {
     "name": "stderr",
     "output_type": "stream",
     "text": [
      "Some weights of TimmWrapperForImageClassification were not initialized from the model checkpoint at timm/tiny_vit_5m_224.in1k and are newly initialized because the shapes did not match:\n",
      "- head.fc.bias: found shape torch.Size([1000]) in the checkpoint and torch.Size([10]) in the model instantiated\n",
      "- head.fc.weight: found shape torch.Size([1000, 320]) in the checkpoint and torch.Size([10, 320]) in the model instantiated\n",
      "You should probably TRAIN this model on a down-stream task to be able to use it for predictions and inference.\n"
     ]
    },
    {
     "data": {
      "text/html": [
       "\n",
       "    <div>\n",
       "      \n",
       "      <progress value='2191' max='2191' style='width:300px; height:20px; vertical-align: middle;'></progress>\n",
       "      [2191/2191 10:03, Epoch 7/7]\n",
       "    </div>\n",
       "    <table border=\"1\" class=\"dataframe\">\n",
       "  <thead>\n",
       " <tr style=\"text-align: left;\">\n",
       "      <th>Epoch</th>\n",
       "      <th>Training Loss</th>\n",
       "      <th>Validation Loss</th>\n",
       "      <th>Accuracy</th>\n",
       "      <th>Precision</th>\n",
       "      <th>Recall</th>\n",
       "      <th>F1</th>\n",
       "    </tr>\n",
       "  </thead>\n",
       "  <tbody>\n",
       "    <tr>\n",
       "      <td>1</td>\n",
       "      <td>0.361800</td>\n",
       "      <td>0.191682</td>\n",
       "      <td>0.946200</td>\n",
       "      <td>0.949399</td>\n",
       "      <td>0.946402</td>\n",
       "      <td>0.946526</td>\n",
       "    </tr>\n",
       "    <tr>\n",
       "      <td>2</td>\n",
       "      <td>0.149500</td>\n",
       "      <td>0.159697</td>\n",
       "      <td>0.964600</td>\n",
       "      <td>0.965139</td>\n",
       "      <td>0.964698</td>\n",
       "      <td>0.964797</td>\n",
       "    </tr>\n",
       "    <tr>\n",
       "      <td>3</td>\n",
       "      <td>0.128600</td>\n",
       "      <td>0.152519</td>\n",
       "      <td>0.966000</td>\n",
       "      <td>0.966610</td>\n",
       "      <td>0.966215</td>\n",
       "      <td>0.966162</td>\n",
       "    </tr>\n",
       "    <tr>\n",
       "      <td>4</td>\n",
       "      <td>0.118600</td>\n",
       "      <td>0.147290</td>\n",
       "      <td>0.970400</td>\n",
       "      <td>0.970500</td>\n",
       "      <td>0.970572</td>\n",
       "      <td>0.970510</td>\n",
       "    </tr>\n",
       "    <tr>\n",
       "      <td>5</td>\n",
       "      <td>0.113700</td>\n",
       "      <td>0.141227</td>\n",
       "      <td>0.972300</td>\n",
       "      <td>0.972674</td>\n",
       "      <td>0.972452</td>\n",
       "      <td>0.972471</td>\n",
       "    </tr>\n",
       "    <tr>\n",
       "      <td>6</td>\n",
       "      <td>0.111200</td>\n",
       "      <td>0.140252</td>\n",
       "      <td>0.973000</td>\n",
       "      <td>0.973372</td>\n",
       "      <td>0.973136</td>\n",
       "      <td>0.973153</td>\n",
       "    </tr>\n",
       "    <tr>\n",
       "      <td>7</td>\n",
       "      <td>0.109800</td>\n",
       "      <td>0.139498</td>\n",
       "      <td>0.973000</td>\n",
       "      <td>0.973204</td>\n",
       "      <td>0.973165</td>\n",
       "      <td>0.973137</td>\n",
       "    </tr>\n",
       "  </tbody>\n",
       "</table><p>"
      ],
      "text/plain": [
       "<IPython.core.display.HTML object>"
      ]
     },
     "metadata": {},
     "output_type": "display_data"
    },
    {
     "name": "stderr",
     "output_type": "stream",
     "text": [
      "[I 2025-03-30 23:20:57,368] Trial 109 finished with value: 0.9731369341767359 and parameters: {'learning_rate': 8.642340091115601e-05, 'weight_decay': 0.009000000000000001, 'warmup_steps': 12, 'lambda_param': 0.9, 'temperature': 4.0}. Best is trial 32 with value: 0.9764120594095738.\n"
     ]
    },
    {
     "name": "stdout",
     "output_type": "stream",
     "text": [
      "Trial 110 with params: {'learning_rate': 0.00021474458984009075, 'weight_decay': 0.01, 'warmup_steps': 12, 'lambda_param': 0.7000000000000001, 'temperature': 4.5}\n"
     ]
    },
    {
     "name": "stderr",
     "output_type": "stream",
     "text": [
      "Some weights of TimmWrapperForImageClassification were not initialized from the model checkpoint at timm/tiny_vit_5m_224.in1k and are newly initialized because the shapes did not match:\n",
      "- head.fc.bias: found shape torch.Size([1000]) in the checkpoint and torch.Size([10]) in the model instantiated\n",
      "- head.fc.weight: found shape torch.Size([1000, 320]) in the checkpoint and torch.Size([10, 320]) in the model instantiated\n",
      "You should probably TRAIN this model on a down-stream task to be able to use it for predictions and inference.\n"
     ]
    },
    {
     "data": {
      "text/html": [
       "\n",
       "    <div>\n",
       "      \n",
       "      <progress value='1252' max='2191' style='width:300px; height:20px; vertical-align: middle;'></progress>\n",
       "      [1252/2191 05:44 < 04:18, 3.63 it/s, Epoch 4/7]\n",
       "    </div>\n",
       "    <table border=\"1\" class=\"dataframe\">\n",
       "  <thead>\n",
       " <tr style=\"text-align: left;\">\n",
       "      <th>Epoch</th>\n",
       "      <th>Training Loss</th>\n",
       "      <th>Validation Loss</th>\n",
       "      <th>Accuracy</th>\n",
       "      <th>Precision</th>\n",
       "      <th>Recall</th>\n",
       "      <th>F1</th>\n",
       "    </tr>\n",
       "  </thead>\n",
       "  <tbody>\n",
       "    <tr>\n",
       "      <td>1</td>\n",
       "      <td>0.327400</td>\n",
       "      <td>0.214375</td>\n",
       "      <td>0.934800</td>\n",
       "      <td>0.939259</td>\n",
       "      <td>0.934819</td>\n",
       "      <td>0.935019</td>\n",
       "    </tr>\n",
       "    <tr>\n",
       "      <td>2</td>\n",
       "      <td>0.163400</td>\n",
       "      <td>0.176028</td>\n",
       "      <td>0.953700</td>\n",
       "      <td>0.955206</td>\n",
       "      <td>0.953886</td>\n",
       "      <td>0.954019</td>\n",
       "    </tr>\n",
       "    <tr>\n",
       "      <td>3</td>\n",
       "      <td>0.138300</td>\n",
       "      <td>0.164537</td>\n",
       "      <td>0.960800</td>\n",
       "      <td>0.962426</td>\n",
       "      <td>0.961035</td>\n",
       "      <td>0.961095</td>\n",
       "    </tr>\n",
       "    <tr>\n",
       "      <td>4</td>\n",
       "      <td>0.124400</td>\n",
       "      <td>0.155969</td>\n",
       "      <td>0.966100</td>\n",
       "      <td>0.966883</td>\n",
       "      <td>0.966366</td>\n",
       "      <td>0.966236</td>\n",
       "    </tr>\n",
       "  </tbody>\n",
       "</table><p>"
      ],
      "text/plain": [
       "<IPython.core.display.HTML object>"
      ]
     },
     "metadata": {},
     "output_type": "display_data"
    },
    {
     "name": "stderr",
     "output_type": "stream",
     "text": [
      "[I 2025-03-30 23:26:47,552] Trial 110 pruned. \n"
     ]
    },
    {
     "name": "stdout",
     "output_type": "stream",
     "text": [
      "Trial 111 with params: {'learning_rate': 0.00034532268462300755, 'weight_decay': 0.01, 'warmup_steps': 14, 'lambda_param': 1.0, 'temperature': 4.0}\n"
     ]
    },
    {
     "name": "stderr",
     "output_type": "stream",
     "text": [
      "Some weights of TimmWrapperForImageClassification were not initialized from the model checkpoint at timm/tiny_vit_5m_224.in1k and are newly initialized because the shapes did not match:\n",
      "- head.fc.bias: found shape torch.Size([1000]) in the checkpoint and torch.Size([10]) in the model instantiated\n",
      "- head.fc.weight: found shape torch.Size([1000, 320]) in the checkpoint and torch.Size([10, 320]) in the model instantiated\n",
      "You should probably TRAIN this model on a down-stream task to be able to use it for predictions and inference.\n"
     ]
    },
    {
     "data": {
      "text/html": [
       "\n",
       "    <div>\n",
       "      \n",
       "      <progress value='626' max='2191' style='width:300px; height:20px; vertical-align: middle;'></progress>\n",
       "      [ 626/2191 02:50 < 07:06, 3.67 it/s, Epoch 2/7]\n",
       "    </div>\n",
       "    <table border=\"1\" class=\"dataframe\">\n",
       "  <thead>\n",
       " <tr style=\"text-align: left;\">\n",
       "      <th>Epoch</th>\n",
       "      <th>Training Loss</th>\n",
       "      <th>Validation Loss</th>\n",
       "      <th>Accuracy</th>\n",
       "      <th>Precision</th>\n",
       "      <th>Recall</th>\n",
       "      <th>F1</th>\n",
       "    </tr>\n",
       "  </thead>\n",
       "  <tbody>\n",
       "    <tr>\n",
       "      <td>1</td>\n",
       "      <td>0.335100</td>\n",
       "      <td>0.224306</td>\n",
       "      <td>0.928200</td>\n",
       "      <td>0.931075</td>\n",
       "      <td>0.928273</td>\n",
       "      <td>0.928871</td>\n",
       "    </tr>\n",
       "    <tr>\n",
       "      <td>2</td>\n",
       "      <td>0.181000</td>\n",
       "      <td>0.208908</td>\n",
       "      <td>0.935600</td>\n",
       "      <td>0.938831</td>\n",
       "      <td>0.935757</td>\n",
       "      <td>0.935887</td>\n",
       "    </tr>\n",
       "  </tbody>\n",
       "</table><p>"
      ],
      "text/plain": [
       "<IPython.core.display.HTML object>"
      ]
     },
     "metadata": {},
     "output_type": "display_data"
    },
    {
     "name": "stderr",
     "output_type": "stream",
     "text": [
      "[I 2025-03-30 23:29:39,843] Trial 111 pruned. \n"
     ]
    },
    {
     "name": "stdout",
     "output_type": "stream",
     "text": [
      "Trial 112 with params: {'learning_rate': 6.786706512825958e-05, 'weight_decay': 0.007, 'warmup_steps': 14, 'lambda_param': 0.6000000000000001, 'temperature': 5.0}\n"
     ]
    },
    {
     "name": "stderr",
     "output_type": "stream",
     "text": [
      "Some weights of TimmWrapperForImageClassification were not initialized from the model checkpoint at timm/tiny_vit_5m_224.in1k and are newly initialized because the shapes did not match:\n",
      "- head.fc.bias: found shape torch.Size([1000]) in the checkpoint and torch.Size([10]) in the model instantiated\n",
      "- head.fc.weight: found shape torch.Size([1000, 320]) in the checkpoint and torch.Size([10, 320]) in the model instantiated\n",
      "You should probably TRAIN this model on a down-stream task to be able to use it for predictions and inference.\n"
     ]
    },
    {
     "data": {
      "text/html": [
       "\n",
       "    <div>\n",
       "      \n",
       "      <progress value='627' max='2191' style='width:300px; height:20px; vertical-align: middle;'></progress>\n",
       "      [ 627/2191 02:36 < 06:32, 3.99 it/s, Epoch 2/7]\n",
       "    </div>\n",
       "    <table border=\"1\" class=\"dataframe\">\n",
       "  <thead>\n",
       " <tr style=\"text-align: left;\">\n",
       "      <th>Epoch</th>\n",
       "      <th>Training Loss</th>\n",
       "      <th>Validation Loss</th>\n",
       "      <th>Accuracy</th>\n",
       "      <th>Precision</th>\n",
       "      <th>Recall</th>\n",
       "      <th>F1</th>\n",
       "    </tr>\n",
       "  </thead>\n",
       "  <tbody>\n",
       "    <tr>\n",
       "      <td>1</td>\n",
       "      <td>0.391400</td>\n",
       "      <td>0.181625</td>\n",
       "      <td>0.952500</td>\n",
       "      <td>0.953315</td>\n",
       "      <td>0.952575</td>\n",
       "      <td>0.952641</td>\n",
       "    </tr>\n",
       "    <tr>\n",
       "      <td>2</td>\n",
       "      <td>0.152600</td>\n",
       "      <td>0.161306</td>\n",
       "      <td>0.963800</td>\n",
       "      <td>0.964233</td>\n",
       "      <td>0.963904</td>\n",
       "      <td>0.963943</td>\n",
       "    </tr>\n",
       "  </tbody>\n",
       "</table><p>"
      ],
      "text/plain": [
       "<IPython.core.display.HTML object>"
      ]
     },
     "metadata": {},
     "output_type": "display_data"
    }
   ],
   "source": [
    "best_distill = trainer.hyperparameter_search(\n",
    "    direction=\"maximize\",\n",
    "    backend=\"optuna\",\n",
    "    hp_space=hp_space,\n",
    "    compute_objective=lambda metrics: metrics[\"eval_f1\"],\n",
    "    pruner=pruner,\n",
    "    sampler=sampler,\n",
    "    study_name=\"Distill\",\n",
    "    n_trials=150\n",
    ")"
   ]
  },
  {
   "cell_type": "code",
   "execution_count": null,
   "id": "8e740f80",
   "metadata": {},
   "outputs": [
    {
     "name": "stdout",
     "output_type": "stream",
     "text": [
      "BestRun(run_id='35', objective=0.8607044045531035, hyperparameters={'learning_rate': 0.0006139968240256416, 'weight_decay': 0.007, 'warmup_steps': 4, 'lambda_param': 0.30000000000000004, 'temperature': 6.0}, run_summary=None)\n"
     ]
    }
   ],
   "source": [
    "print(best_distill)"
   ]
  },
  {
   "cell_type": "code",
   "execution_count": null,
   "id": "c0b010c5-c092-4b29-b948-4b2497639caf",
   "metadata": {},
   "outputs": [],
   "source": [
    "base.reset_seed()"
   ]
  },
  {
   "cell_type": "code",
   "execution_count": null,
   "id": "f087c232",
   "metadata": {},
   "outputs": [],
   "source": [
    "training_args = base.get_training_args(output_dir=f\"~/results/{DATASET}/-aug_hp-search\", logging_dir=f\"~/logs/{DATASET}/-aug_hp-search\", epochs=num_epochs, batch_size=batch_size)"
   ]
  },
  {
   "cell_type": "code",
   "execution_count": null,
   "id": "bd6c88aa",
   "metadata": {},
   "outputs": [],
   "source": [
    "def hp_space(trial):\n",
    "    params =  {\n",
    "        \"learning_rate\": trial.suggest_float(\"learning_rate\", 5e-5, 5e-3, log=True),\n",
    "        \"weight_decay\": trial.suggest_float(\"weight_decay\", 0, 1e-2, step=1e-3),\n",
    "        \"warmup_steps\" : trial.suggest_int(\"warmup_steps\", 0, warm_up)\n",
    "    }   \n",
    "    print(f\"Trial {trial.number} with params: {params}\")\n",
    "    return params"
   ]
  },
  {
   "cell_type": "code",
   "execution_count": null,
   "id": "c125351c",
   "metadata": {},
   "outputs": [
    {
     "name": "stderr",
     "output_type": "stream",
     "text": [
      "/usr/local/lib/python3.10/dist-packages/optuna/_experimental.py:31: ExperimentalWarning: Argument ``multivariate`` is an experimental feature. The interface can change in the future.\n",
      "  warnings.warn(\n"
     ]
    }
   ],
   "source": [
    "pruner = optuna.pruners.HyperbandPruner(min_resource=min_r, max_resource=max_r, reduction_factor=2, bootstrap_count=2)\n",
    "sampler = optuna.samplers.TPESampler(seed=42, multivariate=True)"
   ]
  },
  {
   "cell_type": "code",
   "execution_count": null,
   "id": "7d1bb8ce",
   "metadata": {},
   "outputs": [
    {
     "data": {
      "application/vnd.jupyter.widget-view+json": {
       "model_id": "4021edd7d4a5404a8ab8d2b9331af961",
       "version_major": 2,
       "version_minor": 0
      },
      "text/plain": [
       "config.json:   0%|          | 0.00/69.8k [00:00<?, ?B/s]"
      ]
     },
     "metadata": {},
     "output_type": "display_data"
    },
    {
     "data": {
      "application/vnd.jupyter.widget-view+json": {
       "model_id": "dc958f9818e34d1b98cc48f27c4a9158",
       "version_major": 2,
       "version_minor": 0
      },
      "text/plain": [
       "model.safetensors:   0%|          | 0.00/14.2M [00:00<?, ?B/s]"
      ]
     },
     "metadata": {},
     "output_type": "display_data"
    }
   ],
   "source": [
    "trainer = Trainer(\n",
    "    args=training_args,\n",
    "    train_dataset=train_combo,\n",
    "    eval_dataset=eval,\n",
    "    compute_metrics=base.compute_metrics,\n",
    "    model_init = lambda: get_model()\n",
    ")"
   ]
  },
  {
   "cell_type": "code",
   "execution_count": null,
   "id": "e5717abe",
   "metadata": {},
   "outputs": [],
   "source": [
    "best_base_aug = trainer.hyperparameter_search(\n",
    "    direction=\"maximize\",\n",
    "    backend=\"optuna\",\n",
    "    hp_space=hp_space,\n",
    "    compute_objective=lambda metrics: metrics[\"eval_f1\"],\n",
    "    pruner=pruner,\n",
    "    sampler=sampler,\n",
    "    study_name=\"Base-head\",\n",
    "    n_trials=150\n",
    ")"
   ]
  },
  {
   "cell_type": "code",
   "execution_count": null,
   "id": "22ab8463",
   "metadata": {},
   "outputs": [
    {
     "name": "stdout",
     "output_type": "stream",
     "text": [
      "BestRun(run_id='35', objective=0.7718702742260117, hyperparameters={'learning_rate': 0.0024870786738035154, 'weight_decay': 0.009000000000000001, 'warmup_steps': 20}, run_summary=None)\n"
     ]
    }
   ],
   "source": [
    "print(best_base_aug)"
   ]
  },
  {
   "cell_type": "code",
   "execution_count": null,
   "id": "029dc1fa",
   "metadata": {},
   "outputs": [],
   "source": [
    "base.reset_seed()"
   ]
  },
  {
   "cell_type": "code",
   "execution_count": null,
   "id": "be5964b9",
   "metadata": {},
   "outputs": [],
   "source": [
    "training_args = base.get_training_args(output_dir=f\"~/results/{DATASET}/-aug-KD_hp-search\", logging_dir=f\"~/logs/{DATASET}/-aug-KD_hp-search\", remove_unused_columns=False, epochs=num_epochs, batch_size=batch_size)"
   ]
  },
  {
   "cell_type": "code",
   "execution_count": null,
   "id": "e46a6f56",
   "metadata": {},
   "outputs": [],
   "source": [
    "def hp_space(trial):\n",
    "    params =  {\n",
    "        \"learning_rate\": trial.suggest_float(\"learning_rate\", 5e-5, 5e-3, log=True),\n",
    "        \"weight_decay\": trial.suggest_float(\"weight_decay\", 0, 1e-2, step=1e-3),\n",
    "        \"warmup_steps\" : trial.suggest_int(\"warmup_steps\", 0, warm_up),\n",
    "        \"lambda_param\": trial.suggest_float(\"lambda_param\",0,1,step=.1),\n",
    "        \"temperature\": trial.suggest_float(\"temperature\", 2,7, step=.5)\n",
    "    }\n",
    "    print(f\"Trial {trial.number} with params: {params}\")\n",
    "    return params"
   ]
  },
  {
   "cell_type": "code",
   "execution_count": null,
   "id": "8c281d74",
   "metadata": {},
   "outputs": [
    {
     "name": "stderr",
     "output_type": "stream",
     "text": [
      "/usr/local/lib/python3.10/dist-packages/optuna/_experimental.py:31: ExperimentalWarning: Argument ``multivariate`` is an experimental feature. The interface can change in the future.\n",
      "  warnings.warn(\n"
     ]
    }
   ],
   "source": [
    "pruner = optuna.pruners.HyperbandPruner(min_resource=min_r, max_resource=max_r, reduction_factor=2, bootstrap_count=2)\n",
    "sampler = optuna.samplers.TPESampler(seed=42, multivariate=True)"
   ]
  },
  {
   "cell_type": "code",
   "execution_count": null,
   "id": "08588175",
   "metadata": {},
   "outputs": [],
   "source": [
    "trainer = base.DistilTrainer(\n",
    "    args=training_args,\n",
    "    train_dataset=train_combo,\n",
    "    eval_dataset=eval,\n",
    "    compute_metrics=base.compute_metrics,\n",
    "    model_init = lambda: get_model()\n",
    ")"
   ]
  },
  {
   "cell_type": "code",
   "execution_count": null,
   "id": "2c2b7d37",
   "metadata": {},
   "outputs": [],
   "source": [
    "best_distill_aug = trainer.hyperparameter_search(\n",
    "    direction=\"maximize\",\n",
    "    backend=\"optuna\",\n",
    "    hp_space=hp_space,\n",
    "    compute_objective=lambda metrics: metrics[\"eval_f1\"],\n",
    "    pruner=pruner,\n",
    "    sampler=sampler,\n",
    "    study_name=\"Distill\",\n",
    "    n_trials=150\n",
    ")"
   ]
  },
  {
   "cell_type": "code",
   "execution_count": null,
   "id": "9e7cbbe2",
   "metadata": {},
   "outputs": [
    {
     "name": "stdout",
     "output_type": "stream",
     "text": [
      "BestRun(run_id='44', objective=0.7611287079618219, hyperparameters={'learning_rate': 0.00063155918393816, 'weight_decay': 0.009000000000000001, 'warmup_steps': 5, 'lambda_param': 0.6000000000000001, 'temperature': 4.0}, run_summary=None)\n"
     ]
    }
   ],
   "source": [
    "print(best_distill_aug)"
   ]
  },
  {
   "cell_type": "code",
   "execution_count": null,
   "id": "aace0a8e",
   "metadata": {},
   "outputs": [
    {
     "ename": "NameError",
     "evalue": "name 'best_base_random' is not defined",
     "output_type": "error",
     "traceback": [
      "\u001b[0;31m---------------------------------------------------------------------------\u001b[0m",
      "\u001b[0;31mNameError\u001b[0m                                 Traceback (most recent call last)",
      "Cell \u001b[0;32mIn[51], line 1\u001b[0m\n\u001b[0;32m----> 1\u001b[0m \u001b[38;5;28mprint\u001b[39m(\u001b[38;5;124m\"\u001b[39m\u001b[38;5;124mBest random init training score: \u001b[39m\u001b[38;5;124m\"\u001b[39m, \u001b[43mbest_base_random\u001b[49m)\n\u001b[1;32m      2\u001b[0m \u001b[38;5;28mprint\u001b[39m(\u001b[38;5;124m\"\u001b[39m\u001b[38;5;124mBest random init distilation trianing score: \u001b[39m\u001b[38;5;124m\"\u001b[39m, best_distill_random)\n\u001b[1;32m      3\u001b[0m \u001b[38;5;28mprint\u001b[39m(\u001b[38;5;124m\"\u001b[39m\u001b[38;5;124mBest pretrained (head only) training score: \u001b[39m\u001b[38;5;124m\"\u001b[39m, best_base_head)\n",
      "\u001b[0;31mNameError\u001b[0m: name 'best_base_random' is not defined"
     ]
    }
   ],
   "source": [
    "print(\"Best random init training score: \", best_base)\n",
    "print(\"Best random init distilation trianing score: \", best_distill)\n",
    "print(\"Best pretrained (head only) training score: \", best_base_aug)\n",
    "print(\"Best pretrained distilation (head only) training score: \",best_distill_aug)"
   ]
  },
  {
   "cell_type": "code",
   "execution_count": null,
   "id": "a8ebe2ec",
   "metadata": {},
   "outputs": [],
   "source": []
  }
 ],
 "metadata": {
  "kernelspec": {
   "display_name": "Python 3 (ipykernel)",
   "language": "python",
   "name": "python3"
  },
  "language_info": {
   "codemirror_mode": {
    "name": "ipython",
    "version": 3
   },
   "file_extension": ".py",
   "mimetype": "text/x-python",
   "name": "python",
   "nbconvert_exporter": "python",
   "pygments_lexer": "ipython3",
   "version": "3.10.12"
  }
 },
 "nbformat": 4,
 "nbformat_minor": 5
}
