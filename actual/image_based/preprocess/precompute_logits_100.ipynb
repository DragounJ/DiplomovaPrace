{
 "cells": [
  {
   "cell_type": "markdown",
   "metadata": {},
   "source": [
    "# Předzpracování datasetu CIFAR100\n",
    "\n",
    "Tento notebook slouží k předzpracování datasetu CIFAR100. Pro dataset jsou vytvořeny augmentované záznamy a předpočítány logity. Nejprve jsou načteny všechny potřebné knihovny včetně vlastní sbírky objektů a funkcí."
   ]
  },
  {
   "cell_type": "code",
   "execution_count": 1,
   "metadata": {},
   "outputs": [
    {
     "name": "stderr",
     "output_type": "stream",
     "text": [
      "[nltk_data] Downloading package averaged_perceptron_tagger to\n",
      "[nltk_data]     /home/jovyan/nltk_data...\n",
      "[nltk_data]   Package averaged_perceptron_tagger is already up-to-\n",
      "[nltk_data]       date!\n",
      "[nltk_data] Downloading package punkt to /home/jovyan/nltk_data...\n",
      "[nltk_data]   Package punkt is already up-to-date!\n",
      "[nltk_data] Downloading package punkt_tab to /home/jovyan/nltk_data...\n",
      "[nltk_data]   Package punkt_tab is already up-to-date!\n",
      "[nltk_data] Downloading package averaged_perceptron_tagger_eng to\n",
      "[nltk_data]     /home/jovyan/nltk_data...\n",
      "[nltk_data]   Package averaged_perceptron_tagger_eng is already up-to-\n",
      "[nltk_data]       date!\n"
     ]
    }
   ],
   "source": [
    "from sklearn.metrics import f1_score, accuracy_score, precision_score, recall_score\n",
    "from torch.utils.data import DataLoader, Subset, ConcatDataset\n",
    "from transformers import AutoModelForImageClassification\n",
    "from sklearn.model_selection import train_test_split\n",
    "import numpy as np\n",
    "import torch\n",
    "import os \n",
    "\n",
    "import base"
   ]
  },
  {
   "cell_type": "markdown",
   "metadata": {},
   "source": [
    "Ověření, že GPU je k dispozici a balíček torch je správně nakonfigurován."
   ]
  },
  {
   "cell_type": "code",
   "execution_count": null,
   "metadata": {},
   "outputs": [
    {
     "name": "stdout",
     "output_type": "stream",
     "text": [
      "GPU is available and will be used: NVIDIA A100 80GB PCIe MIG 2g.20gb\n"
     ]
    }
   ],
   "source": [
    "if torch.cuda.is_available():\n",
    "    device = torch.device(\"cuda\")\n",
    "    print(\"GPU is available and will be used:\", torch.cuda.get_device_name(0))\n",
    "else:\n",
    "    device = torch.device(\"cpu\")\n",
    "    print(\"GPU is not available, using CPU.\")"
   ]
  },
  {
   "cell_type": "code",
   "execution_count": 3,
   "metadata": {},
   "outputs": [],
   "source": [
    "base.reset_seed(42)"
   ]
  },
  {
   "cell_type": "markdown",
   "metadata": {},
   "source": [
    "Získání základních transformací pro spuštění inference nad učitelským modelem. Základní transformace primárně obrázky zvětšují na rozměr 224x224 a normalizují barevné kanály. \n",
    "\n",
    "Transformace sloužící k augmentaci poté tyto kroky rozšiřují o rotaci a převracení os, vždy s určitou pravděpodobností. \n",
    "\n",
    "Transformace pochází z balíčku torchvision.\n",
    "\n",
    "Následně dochází k načtení datasetu."
   ]
  },
  {
   "cell_type": "code",
   "execution_count": 4,
   "metadata": {},
   "outputs": [],
   "source": [
    "transform = base.base_transforms()\n",
    "augment_transform = base.aug_transforms()\n",
    "\n",
    "train = base.CustomCIFAR100(root=f\"{os.path.expanduser('~')}/data/100\", train=True, transform=transform, device=device)\n",
    "train_aug = base.CustomCIFAR100(root=f\"{os.path.expanduser('~')}/data/100\", train=True, transform=augment_transform, device=device)\n",
    "\n",
    "\n",
    "test = base.CustomCIFAR100(root=f\"{os.path.expanduser('~')}/data/100\", train=False, transform=transform, device=device)\n",
    "eval = base.CustomCIFAR100(root=f\"{os.path.expanduser('~')}/data/100\", train=True, transform=transform, device=device)"
   ]
  },
  {
   "cell_type": "markdown",
   "metadata": {},
   "source": [
    "Provedení stratifikovaného rozdělení pro získání validační části datasetu."
   ]
  },
  {
   "cell_type": "code",
   "execution_count": 5,
   "metadata": {},
   "outputs": [],
   "source": [
    "train_idx, validation_idx = train_test_split(np.arange(len(train)),\n",
    "                                             test_size=0.2,\n",
    "                                             random_state=42,\n",
    "                                             shuffle=True,\n",
    "                                             stratify=train.labels)"
   ]
  },
  {
   "cell_type": "code",
   "execution_count": 6,
   "metadata": {},
   "outputs": [],
   "source": [
    "train = Subset(train, train_idx)\n",
    "train_aug = Subset(train_aug, train_idx)\n",
    "eval = Subset(eval, validation_idx)"
   ]
  },
  {
   "cell_type": "markdown",
   "metadata": {},
   "source": [
    "Vytvoření dataloaderů a získání předtrénovaného učitele z HuggingFace."
   ]
  },
  {
   "cell_type": "code",
   "execution_count": 7,
   "metadata": {},
   "outputs": [],
   "source": [
    "train_dataloader = DataLoader(train, batch_size=128, shuffle=False)\n",
    "train_dataloader_aug = DataLoader(train_aug, batch_size=128, shuffle=False)"
   ]
  },
  {
   "cell_type": "code",
   "execution_count": 8,
   "metadata": {},
   "outputs": [],
   "source": [
    "eval_dataloder = DataLoader(eval, batch_size=128, shuffle=False)\n",
    "test_dataloader = DataLoader(test, batch_size=128, shuffle=False)"
   ]
  },
  {
   "cell_type": "code",
   "execution_count": 9,
   "metadata": {},
   "outputs": [],
   "source": [
    "model = AutoModelForImageClassification.from_pretrained(\n",
    "    \"Ahmed9275/Vit-Cifar100\",\n",
    "    num_labels=100,\n",
    ")\n",
    "\n",
    "model.to(device)\n",
    "torch.save(model.state_dict(), f\"{os.path.expanduser('~')}/models/cifar100/teacher.pth\")"
   ]
  },
  {
   "cell_type": "code",
   "execution_count": 10,
   "metadata": {},
   "outputs": [
    {
     "data": {
      "text/plain": [
       "ViTForImageClassification(\n",
       "  (vit): ViTModel(\n",
       "    (embeddings): ViTEmbeddings(\n",
       "      (patch_embeddings): ViTPatchEmbeddings(\n",
       "        (projection): Conv2d(3, 768, kernel_size=(16, 16), stride=(16, 16))\n",
       "      )\n",
       "      (dropout): Dropout(p=0.0, inplace=False)\n",
       "    )\n",
       "    (encoder): ViTEncoder(\n",
       "      (layer): ModuleList(\n",
       "        (0-11): 12 x ViTLayer(\n",
       "          (attention): ViTSdpaAttention(\n",
       "            (attention): ViTSdpaSelfAttention(\n",
       "              (query): Linear(in_features=768, out_features=768, bias=True)\n",
       "              (key): Linear(in_features=768, out_features=768, bias=True)\n",
       "              (value): Linear(in_features=768, out_features=768, bias=True)\n",
       "              (dropout): Dropout(p=0.0, inplace=False)\n",
       "            )\n",
       "            (output): ViTSelfOutput(\n",
       "              (dense): Linear(in_features=768, out_features=768, bias=True)\n",
       "              (dropout): Dropout(p=0.0, inplace=False)\n",
       "            )\n",
       "          )\n",
       "          (intermediate): ViTIntermediate(\n",
       "            (dense): Linear(in_features=768, out_features=3072, bias=True)\n",
       "            (intermediate_act_fn): GELUActivation()\n",
       "          )\n",
       "          (output): ViTOutput(\n",
       "            (dense): Linear(in_features=3072, out_features=768, bias=True)\n",
       "            (dropout): Dropout(p=0.0, inplace=False)\n",
       "          )\n",
       "          (layernorm_before): LayerNorm((768,), eps=1e-12, elementwise_affine=True)\n",
       "          (layernorm_after): LayerNorm((768,), eps=1e-12, elementwise_affine=True)\n",
       "        )\n",
       "      )\n",
       "    )\n",
       "    (layernorm): LayerNorm((768,), eps=1e-12, elementwise_affine=True)\n",
       "  )\n",
       "  (classifier): Linear(in_features=768, out_features=100, bias=True)\n",
       ")"
      ]
     },
     "execution_count": 10,
     "metadata": {},
     "output_type": "execute_result"
    }
   ],
   "source": [
    "model.eval()"
   ]
  },
  {
   "cell_type": "markdown",
   "metadata": {},
   "source": [
    "Vypočtení logitů nad dílčími částmi datasetu. CIFAR100 nemá trénovací část rozdělenou do více souborů, všechna data jsou v rámci jednoho, není tedy třeba cyklu."
   ]
  },
  {
   "cell_type": "code",
   "execution_count": 11,
   "metadata": {},
   "outputs": [
    {
     "data": {
      "application/vnd.jupyter.widget-view+json": {
       "model_id": "7228d238990c423992745e219c3a1322",
       "version_major": 2,
       "version_minor": 0
      },
      "text/plain": [
       "Generating logits for given dataset:   0%|          | 0/313 [00:00<?, ?it/s]"
      ]
     },
     "metadata": {},
     "output_type": "display_data"
    },
    {
     "data": {
      "application/vnd.jupyter.widget-view+json": {
       "model_id": "999c1f08190443218a09dfc821ee09c6",
       "version_major": 2,
       "version_minor": 0
      },
      "text/plain": [
       "Generating logits for given dataset:   0%|          | 0/313 [00:00<?, ?it/s]"
      ]
     },
     "metadata": {},
     "output_type": "display_data"
    },
    {
     "data": {
      "application/vnd.jupyter.widget-view+json": {
       "model_id": "c1fee3af949e4c39936a7cdcf27da50b",
       "version_major": 2,
       "version_minor": 0
      },
      "text/plain": [
       "Generating logits for given dataset:   0%|          | 0/79 [00:00<?, ?it/s]"
      ]
     },
     "metadata": {},
     "output_type": "display_data"
    },
    {
     "data": {
      "application/vnd.jupyter.widget-view+json": {
       "model_id": "284265f00dc34a0ca9a0b3bfc4139f75",
       "version_major": 2,
       "version_minor": 0
      },
      "text/plain": [
       "Generating logits for given dataset:   0%|          | 0/79 [00:00<?, ?it/s]"
      ]
     },
     "metadata": {},
     "output_type": "display_data"
    }
   ],
   "source": [
    "logits = base.generate_logits(train_dataloader, model)\n",
    "logits_aug = base.generate_logits(train_dataloader_aug, model)\n",
    "\n",
    "logits_eval = base.generate_logits(eval_dataloder, model)\n",
    "logits_test = base.generate_logits(test_dataloader, model)"
   ]
  },
  {
   "cell_type": "markdown",
   "metadata": {},
   "source": [
    "Načtení podkladových souborů a oddělení validační části od trénovací. Odděleny jsou stejné záznamy jako v případě stratifikovaného rozdělení přímo nad datasetem objektu. Soubory tedy odpovídají jednotlivým objektům.\n",
    "\n",
    "Následně jsou do jednotlivých souborů uloženy spočtené logity a soubory jsu uloženy."
   ]
  },
  {
   "cell_type": "code",
   "execution_count": 12,
   "metadata": {},
   "outputs": [],
   "source": [
    "data_file = base.unpickle(f\"{os.path.expanduser('~')}/data/100/cifar-100-python/train\")\n",
    "testing = base.unpickle(f\"{os.path.expanduser('~')}/data/100/cifar-100-python/test\")"
   ]
  },
  {
   "cell_type": "code",
   "execution_count": 13,
   "metadata": {},
   "outputs": [],
   "source": [
    "data = {key: [value[i] for i in train_idx] for key, value in data_file.items() if key != b\"batch_label\"}    \n",
    "eval_data = {key: [value[i] for i in validation_idx] for key, value in data_file.items() if key != b\"batch_label\"}    "
   ]
  },
  {
   "cell_type": "code",
   "execution_count": 14,
   "metadata": {},
   "outputs": [],
   "source": [
    "data[b\"logits\"] = logits\n",
    "data[b\"logits_aug\"] = logits_aug\n",
    "\n",
    "eval_data[b\"logits\"] = logits_eval\n",
    "testing[b\"logits\"] = logits_test"
   ]
  },
  {
   "cell_type": "code",
   "execution_count": 15,
   "metadata": {},
   "outputs": [],
   "source": [
    "base.pickle_up(f\"{os.path.expanduser('~')}/data/100-logits/cifar-100-python/test\", testing)\n",
    "base.pickle_up(f\"{os.path.expanduser('~')}/data/100-logits/cifar-100-python/train\", data)\n",
    "base.pickle_up(f\"{os.path.expanduser('~')}/data/100-logits/cifar-100-python/eval\", eval_data)"
   ]
  },
  {
   "cell_type": "code",
   "execution_count": 13,
   "metadata": {},
   "outputs": [],
   "source": [
    "dataset_part = base.get_dataset_part()"
   ]
  },
  {
   "cell_type": "markdown",
   "metadata": {},
   "source": [
    "Pro kontrolu jsou soubory načteny a je spočtena správnost predikcí učitele."
   ]
  },
  {
   "cell_type": "code",
   "execution_count": 17,
   "metadata": {},
   "outputs": [
    {
     "data": {
      "application/vnd.jupyter.widget-view+json": {
       "model_id": "10deec892f4e4e2e82d4ce470d0e5ece",
       "version_major": 2,
       "version_minor": 0
      },
      "text/plain": [
       "Calculating accuracy based on the saved logits:   0%|          | 0/10000 [00:00<?, ?it/s]"
      ]
     },
     "metadata": {},
     "output_type": "display_data"
    },
    {
     "name": "stdout",
     "output_type": "stream",
     "text": [
      "Accuracy for test dataset is: 0.8182\n"
     ]
    },
    {
     "data": {
      "application/vnd.jupyter.widget-view+json": {
       "model_id": "77f3af3dfd184239b4d255adc49256ce",
       "version_major": 2,
       "version_minor": 0
      },
      "text/plain": [
       "Calculating accuracy based on the saved logits:   0%|          | 0/10000 [00:00<?, ?it/s]"
      ]
     },
     "metadata": {},
     "output_type": "display_data"
    },
    {
     "name": "stdout",
     "output_type": "stream",
     "text": [
      "Accuracy for eval dataset is: 0.9445\n"
     ]
    }
   ],
   "source": [
    "test = base.CustomCIFAR100L(root=f\"{os.path.expanduser('~')}/data/100-logits\", dataset_part=dataset_part.TEST, transform=transform)\n",
    "eval = base.CustomCIFAR100L(root=f\"{os.path.expanduser('~')}/data/100-logits\", dataset_part=dataset_part.EVAL, transform=transform)\n",
    "\n",
    "print(base.check_acc(test, \"Accuracy for test dataset is:\"))\n",
    "print(base.check_acc(eval, \"Accuracy for eval dataset is:\"))"
   ]
  },
  {
   "cell_type": "markdown",
   "metadata": {},
   "source": [
    "V případě augmentované trénovací části opět narážíme na nízkou správnost."
   ]
  },
  {
   "cell_type": "code",
   "execution_count": 18,
   "metadata": {},
   "outputs": [],
   "source": [
    "train_aug = base.CustomCIFAR100L(f\"{os.path.expanduser('~')}/data/100-logits\", dataset_part=dataset_part.TRAIN, transform=augment_transform)\n",
    "train = base.CustomCIFAR100L(f\"{os.path.expanduser('~')}/data/100-logits\", dataset_part=dataset_part.TRAIN, transform=transform)\n",
    "train_combo = ConcatDataset([train, train_aug])"
   ]
  },
  {
   "cell_type": "code",
   "execution_count": 19,
   "metadata": {},
   "outputs": [
    {
     "data": {
      "application/vnd.jupyter.widget-view+json": {
       "model_id": "ba43fa2a17854330b0e3d8d3be4860db",
       "version_major": 2,
       "version_minor": 0
      },
      "text/plain": [
       "Calculating accuracy based on the saved logits:   0%|          | 0/40000 [00:00<?, ?it/s]"
      ]
     },
     "metadata": {},
     "output_type": "display_data"
    },
    {
     "name": "stdout",
     "output_type": "stream",
     "text": [
      "Accuracy for train dataset is: 0.94035\n"
     ]
    },
    {
     "data": {
      "application/vnd.jupyter.widget-view+json": {
       "model_id": "aaaecc2f8a2a486ca9a25943b5208cd1",
       "version_major": 2,
       "version_minor": 0
      },
      "text/plain": [
       "Calculating accuracy based on the saved logits:   0%|          | 0/40000 [00:00<?, ?it/s]"
      ]
     },
     "metadata": {},
     "output_type": "display_data"
    },
    {
     "name": "stdout",
     "output_type": "stream",
     "text": [
      "Accuracy for augmeted train dataset is: 0.6315\n"
     ]
    },
    {
     "data": {
      "application/vnd.jupyter.widget-view+json": {
       "model_id": "dd8f0e80e4624f138f668b586424d1dd",
       "version_major": 2,
       "version_minor": 0
      },
      "text/plain": [
       "Calculating accuracy based on the saved logits:   0%|          | 0/80000 [00:00<?, ?it/s]"
      ]
     },
     "metadata": {},
     "output_type": "display_data"
    },
    {
     "name": "stdout",
     "output_type": "stream",
     "text": [
      "Accuracy for combined dataset is: 0.785925\n"
     ]
    }
   ],
   "source": [
    "print(base.check_acc(train, \"Accuracy for train dataset is:\"))\n",
    "print(base.check_acc(train_aug, \"Accuracy for augmeted train dataset is:\"))\n",
    "print(base.check_acc(train_combo, \"Accuracy for combined dataset is:\"))"
   ]
  },
  {
   "cell_type": "markdown",
   "metadata": {},
   "source": [
    "Provedení filtrace augmentovaného datasetu dle popsaného mechanismu."
   ]
  },
  {
   "cell_type": "code",
   "execution_count": 20,
   "metadata": {},
   "outputs": [
    {
     "data": {
      "application/vnd.jupyter.widget-view+json": {
       "model_id": "6ae9adbe7d384097bf3852dedb5e6395",
       "version_major": 2,
       "version_minor": 0
      },
      "text/plain": [
       "Removing entries from augmented dataset that are different from the base one - based on saved logits:   0%|   …"
      ]
     },
     "metadata": {},
     "output_type": "display_data"
    }
   ],
   "source": [
    "train_aug = base.remove_diff_pred_class(train, train_aug, pytorch_dataset=True)\n",
    "train_combo = ConcatDataset([train, train_aug])"
   ]
  },
  {
   "cell_type": "code",
   "execution_count": null,
   "metadata": {},
   "outputs": [
    {
     "name": "stdout",
     "output_type": "stream",
     "text": [
      "25912\n"
     ]
    }
   ],
   "source": [
    "print(len(train_aug))"
   ]
  },
  {
   "cell_type": "code",
   "execution_count": 22,
   "metadata": {},
   "outputs": [
    {
     "data": {
      "application/vnd.jupyter.widget-view+json": {
       "model_id": "29476c5991184f8dbb56babe3d26a4cf",
       "version_major": 2,
       "version_minor": 0
      },
      "text/plain": [
       "Calculating accuracy based on the saved logits:   0%|          | 0/25912 [00:00<?, ?it/s]"
      ]
     },
     "metadata": {},
     "output_type": "display_data"
    },
    {
     "name": "stdout",
     "output_type": "stream",
     "text": [
      "Accuracy for filtered augmented dataset is: 0.9609833281877123\n"
     ]
    },
    {
     "data": {
      "application/vnd.jupyter.widget-view+json": {
       "model_id": "f3664d81ec26489da351c5f0b3fc46de",
       "version_major": 2,
       "version_minor": 0
      },
      "text/plain": [
       "Calculating accuracy based on the saved logits:   0%|          | 0/65912 [00:00<?, ?it/s]"
      ]
     },
     "metadata": {},
     "output_type": "display_data"
    },
    {
     "name": "stdout",
     "output_type": "stream",
     "text": [
      "Accuracy for combined dataset is: 0.9484615851438282\n"
     ]
    }
   ],
   "source": [
    "print(base.check_acc(train_aug, \"Accuracy for filtered augmented dataset is:\"))\n",
    "print(base.check_acc(train_combo, \"Accuracy for combined dataset is:\"))"
   ]
  },
  {
   "cell_type": "markdown",
   "metadata": {},
   "source": [
    "Výsledné statistiky učitele."
   ]
  },
  {
   "cell_type": "code",
   "execution_count": 23,
   "metadata": {},
   "outputs": [
    {
     "name": "stdout",
     "output_type": "stream",
     "text": [
      "model size: 327.589MB.\n",
      "Total Trainable Params: 85875556.\n"
     ]
    },
    {
     "data": {
      "text/html": [
       "<div>\n",
       "<style scoped>\n",
       "    .dataframe tbody tr th:only-of-type {\n",
       "        vertical-align: middle;\n",
       "    }\n",
       "\n",
       "    .dataframe tbody tr th {\n",
       "        vertical-align: top;\n",
       "    }\n",
       "\n",
       "    .dataframe thead tr th {\n",
       "        text-align: left;\n",
       "    }\n",
       "</style>\n",
       "<table border=\"1\" class=\"dataframe\">\n",
       "  <thead>\n",
       "    <tr>\n",
       "      <th></th>\n",
       "      <th>Modules</th>\n",
       "      <th>Parameters</th>\n",
       "    </tr>\n",
       "  </thead>\n",
       "  <tbody>\n",
       "    <tr>\n",
       "      <th>0</th>\n",
       "      <td>vit.embeddings.cls_token</td>\n",
       "      <td>768</td>\n",
       "    </tr>\n",
       "    <tr>\n",
       "      <th>1</th>\n",
       "      <td>vit.embeddings.position_embeddings</td>\n",
       "      <td>151296</td>\n",
       "    </tr>\n",
       "    <tr>\n",
       "      <th>2</th>\n",
       "      <td>vit.embeddings.patch_embeddings.projection.weight</td>\n",
       "      <td>589824</td>\n",
       "    </tr>\n",
       "    <tr>\n",
       "      <th>3</th>\n",
       "      <td>vit.embeddings.patch_embeddings.projection.bias</td>\n",
       "      <td>768</td>\n",
       "    </tr>\n",
       "    <tr>\n",
       "      <th>4</th>\n",
       "      <td>vit.encoder.layer.0.attention.attention.query....</td>\n",
       "      <td>589824</td>\n",
       "    </tr>\n",
       "    <tr>\n",
       "      <th>...</th>\n",
       "      <td>...</td>\n",
       "      <td>...</td>\n",
       "    </tr>\n",
       "    <tr>\n",
       "      <th>195</th>\n",
       "      <td>vit.encoder.layer.11.layernorm_after.bias</td>\n",
       "      <td>768</td>\n",
       "    </tr>\n",
       "    <tr>\n",
       "      <th>196</th>\n",
       "      <td>vit.layernorm.weight</td>\n",
       "      <td>768</td>\n",
       "    </tr>\n",
       "    <tr>\n",
       "      <th>197</th>\n",
       "      <td>vit.layernorm.bias</td>\n",
       "      <td>768</td>\n",
       "    </tr>\n",
       "    <tr>\n",
       "      <th>198</th>\n",
       "      <td>classifier.weight</td>\n",
       "      <td>76800</td>\n",
       "    </tr>\n",
       "    <tr>\n",
       "      <th>199</th>\n",
       "      <td>classifier.bias</td>\n",
       "      <td>100</td>\n",
       "    </tr>\n",
       "  </tbody>\n",
       "</table>\n",
       "<p>200 rows × 2 columns</p>\n",
       "</div>"
      ],
      "text/plain": [
       "                                               Modules Parameters\n",
       "0                             vit.embeddings.cls_token        768\n",
       "1                   vit.embeddings.position_embeddings     151296\n",
       "2    vit.embeddings.patch_embeddings.projection.weight     589824\n",
       "3      vit.embeddings.patch_embeddings.projection.bias        768\n",
       "4    vit.encoder.layer.0.attention.attention.query....     589824\n",
       "..                                                 ...        ...\n",
       "195          vit.encoder.layer.11.layernorm_after.bias        768\n",
       "196                               vit.layernorm.weight        768\n",
       "197                                 vit.layernorm.bias        768\n",
       "198                                  classifier.weight      76800\n",
       "199                                    classifier.bias        100\n",
       "\n",
       "[200 rows x 2 columns]"
      ]
     },
     "execution_count": 23,
     "metadata": {},
     "output_type": "execute_result"
    }
   ],
   "source": [
    "base.count_parameters(model)"
   ]
  },
  {
   "cell_type": "code",
   "execution_count": 24,
   "metadata": {},
   "outputs": [
    {
     "name": "stdout",
     "output_type": "stream",
     "text": [
      "<torch.utils.benchmark.utils.common.Measurement object at 0x70f9307fb100>\n",
      "self.infer_speed_comp()\n",
      "  164.83 ms\n",
      "  1 measurement, 1000 runs , 4 threads\n"
     ]
    }
   ],
   "source": [
    "train_part_cpu = base.CustomCIFAR100(root=f\"{os.path.expanduser('~')}/data/100\", train=True, transform=transform, device=\"cpu\")\n",
    "cpu_data_loader = DataLoader(train_part_cpu, batch_size=1, shuffle=False)\n",
    "cpu_benchmark = base.BenchMarkRunner(model, cpu_data_loader, \"cpu\", 1000)\n",
    "\n",
    "print(cpu_benchmark.run_benchmark())"
   ]
  },
  {
   "cell_type": "code",
   "execution_count": 25,
   "metadata": {},
   "outputs": [
    {
     "name": "stdout",
     "output_type": "stream",
     "text": [
      "<torch.utils.benchmark.utils.common.Measurement object at 0x70f7b2f55300>\n",
      "self.infer_speed_comp()\n",
      "  7.33 ms\n",
      "  1 measurement, 1000 runs , 4 threads\n"
     ]
    }
   ],
   "source": [
    "train_part_gpu = base.CustomCIFAR100(root=f\"{os.path.expanduser('~')}/data/100\", train=True, transform=transform, device=\"cuda\")\n",
    "gpu_data_loader = DataLoader(train_part_gpu, batch_size=1, shuffle=False)\n",
    "gpu_benchmark = base.BenchMarkRunner(model, gpu_data_loader, \"cuda\", 1000)\n",
    "\n",
    "\n",
    "print(gpu_benchmark.run_benchmark())"
   ]
  },
  {
   "cell_type": "code",
   "execution_count": 15,
   "metadata": {},
   "outputs": [],
   "source": [
    "test_data_preds = []\n",
    "test_data_labels = []\n",
    "\n",
    "for index, val in enumerate(test):\n",
    "    test_data_preds.append(torch.topk(val[\"logits\"], k=1).indices.numpy()[0])\n",
    "    test_data_labels.append(val[\"labels\"])"
   ]
  },
  {
   "cell_type": "code",
   "execution_count": 17,
   "metadata": {},
   "outputs": [
    {
     "name": "stdout",
     "output_type": "stream",
     "text": [
      "F1 score: 0.820402306187161\n",
      "Accuracy: 0.8182\n",
      "Precision: 0.8323971511869911\n",
      "Recall: 0.8182\n"
     ]
    }
   ],
   "source": [
    "f1 = f1_score(test_data_labels, test_data_preds, average=\"macro\")\n",
    "acc = accuracy_score(test_data_labels, test_data_preds)\n",
    "precision = precision_score(test_data_labels, test_data_preds, average=\"macro\")\n",
    "recall = recall_score(test_data_labels, test_data_preds, average=\"macro\")\n",
    "\n",
    "print(f\"F1 score: {f1}\")\n",
    "print(f\"Accuracy: {acc}\")\n",
    "print(f\"Precision: {precision}\")\n",
    "print(f\"Recall: {recall}\")"
   ]
  }
 ],
 "metadata": {
  "kernelspec": {
   "display_name": "Python 3 (ipykernel)",
   "language": "python",
   "name": "python3"
  }
 },
 "nbformat": 4,
 "nbformat_minor": 2
}
