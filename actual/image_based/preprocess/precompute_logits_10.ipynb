{
 "cells": [
  {
   "cell_type": "markdown",
   "metadata": {},
   "source": [
    "# Předzpracování datasetu CIFAR10\n",
    "\n",
    "Tento notebook slouží k předzpracování datasetu CIFAR10. Pro dataset jsou vytvořeny augmentované záznamy a předpočítány logity.\n",
    "Nejprve jsou načteny všechny potřebné knihovny včetně vlastní sbírky objektů a funkcí."
   ]
  },
  {
   "cell_type": "code",
   "execution_count": 1,
   "metadata": {},
   "outputs": [
    {
     "name": "stderr",
     "output_type": "stream",
     "text": [
      "[nltk_data] Downloading package averaged_perceptron_tagger to\n",
      "[nltk_data]     /home/jovyan/nltk_data...\n",
      "[nltk_data]   Package averaged_perceptron_tagger is already up-to-\n",
      "[nltk_data]       date!\n",
      "[nltk_data] Downloading package punkt to /home/jovyan/nltk_data...\n",
      "[nltk_data]   Package punkt is already up-to-date!\n",
      "[nltk_data] Downloading package punkt_tab to /home/jovyan/nltk_data...\n",
      "[nltk_data]   Package punkt_tab is already up-to-date!\n",
      "[nltk_data] Downloading package averaged_perceptron_tagger_eng to\n",
      "[nltk_data]     /home/jovyan/nltk_data...\n",
      "[nltk_data]   Package averaged_perceptron_tagger_eng is already up-to-\n",
      "[nltk_data]       date!\n"
     ]
    }
   ],
   "source": [
    "from sklearn.metrics import f1_score, accuracy_score, precision_score, recall_score\n",
    "from transformers import AutoModelForImageClassification\n",
    "from torch.utils.data import ConcatDataset, DataLoader\n",
    "import torch\n",
    "import os\n",
    "\n",
    "import base"
   ]
  },
  {
   "cell_type": "markdown",
   "metadata": {},
   "source": [
    "Ověření, že GPU je k dispozici a balíček torch je správně nakonfigurován."
   ]
  },
  {
   "cell_type": "code",
   "execution_count": 2,
   "metadata": {},
   "outputs": [
    {
     "name": "stdout",
     "output_type": "stream",
     "text": [
      "GPU is available and will be used: NVIDIA A100 80GB PCIe MIG 2g.20gb\n"
     ]
    }
   ],
   "source": [
    "if torch.cuda.is_available():\n",
    "    device = torch.device(\"cuda\")\n",
    "    print(\"GPU is available and will be used:\", torch.cuda.get_device_name(0))\n",
    "else:\n",
    "    device = torch.device(\"cpu\")\n",
    "    print(\"GPU is not available, using CPU.\")"
   ]
  },
  {
   "cell_type": "code",
   "execution_count": null,
   "metadata": {},
   "outputs": [],
   "source": [
    "base.reset_seed(42)"
   ]
  },
  {
   "cell_type": "markdown",
   "metadata": {},
   "source": [
    "Získání základních transformací pro spuštění inference nad učitelským modelem. Základní transformace primárně obrázky zvětšují na rozměr 224x224 a normalizují barevné kanály. \n",
    "\n",
    "Transformace sloužící k augmentaci poté tyto kroky rozšiřují o rotaci a převracení os, vždy s určitou pravděpodobností. \n",
    "\n",
    "Transformace pochází z balíčku torchvision."
   ]
  },
  {
   "cell_type": "code",
   "execution_count": null,
   "metadata": {},
   "outputs": [],
   "source": [
    "transform = base.base_transforms()\n",
    "augment_transform = base.aug_transforms()"
   ]
  },
  {
   "cell_type": "markdown",
   "metadata": {},
   "source": [
    "Získání již natrénovaného učitele z HuggingFace."
   ]
  },
  {
   "cell_type": "code",
   "execution_count": 6,
   "metadata": {},
   "outputs": [
    {
     "data": {
      "application/vnd.jupyter.widget-view+json": {
       "model_id": "c699d4acebf64e08bc8adc70277d4eec",
       "version_major": 2,
       "version_minor": 0
      },
      "text/plain": [
       "config.json:   0%|          | 0.00/1.01k [00:00<?, ?B/s]"
      ]
     },
     "metadata": {},
     "output_type": "display_data"
    },
    {
     "data": {
      "application/vnd.jupyter.widget-view+json": {
       "model_id": "e7d29df6f6c440a39f42d32802aa142e",
       "version_major": 2,
       "version_minor": 0
      },
      "text/plain": [
       "pytorch_model.bin:   0%|          | 0.00/343M [00:00<?, ?B/s]"
      ]
     },
     "metadata": {},
     "output_type": "display_data"
    },
    {
     "data": {
      "application/vnd.jupyter.widget-view+json": {
       "model_id": "55001447f6bb46f0a137edaaff93d1c7",
       "version_major": 2,
       "version_minor": 0
      },
      "text/plain": [
       "model.safetensors:   0%|          | 0.00/343M [00:00<?, ?B/s]"
      ]
     },
     "metadata": {},
     "output_type": "display_data"
    }
   ],
   "source": [
    "model = AutoModelForImageClassification.from_pretrained(\n",
    "    \"aaraki/vit-base-patch16-224-in21k-finetuned-cifar10\",\n",
    "    num_labels=10,\n",
    ")\n",
    "\n",
    "model.to(device)\n",
    "torch.save(model.state_dict(), f\"{os.path.expanduser('~')}/models/cifar10/teacher.pth\")"
   ]
  },
  {
   "cell_type": "code",
   "execution_count": 7,
   "metadata": {},
   "outputs": [
    {
     "data": {
      "text/plain": [
       "ViTForImageClassification(\n",
       "  (vit): ViTModel(\n",
       "    (embeddings): ViTEmbeddings(\n",
       "      (patch_embeddings): ViTPatchEmbeddings(\n",
       "        (projection): Conv2d(3, 768, kernel_size=(16, 16), stride=(16, 16))\n",
       "      )\n",
       "      (dropout): Dropout(p=0.0, inplace=False)\n",
       "    )\n",
       "    (encoder): ViTEncoder(\n",
       "      (layer): ModuleList(\n",
       "        (0-11): 12 x ViTLayer(\n",
       "          (attention): ViTSdpaAttention(\n",
       "            (attention): ViTSdpaSelfAttention(\n",
       "              (query): Linear(in_features=768, out_features=768, bias=True)\n",
       "              (key): Linear(in_features=768, out_features=768, bias=True)\n",
       "              (value): Linear(in_features=768, out_features=768, bias=True)\n",
       "              (dropout): Dropout(p=0.0, inplace=False)\n",
       "            )\n",
       "            (output): ViTSelfOutput(\n",
       "              (dense): Linear(in_features=768, out_features=768, bias=True)\n",
       "              (dropout): Dropout(p=0.0, inplace=False)\n",
       "            )\n",
       "          )\n",
       "          (intermediate): ViTIntermediate(\n",
       "            (dense): Linear(in_features=768, out_features=3072, bias=True)\n",
       "            (intermediate_act_fn): GELUActivation()\n",
       "          )\n",
       "          (output): ViTOutput(\n",
       "            (dense): Linear(in_features=3072, out_features=768, bias=True)\n",
       "            (dropout): Dropout(p=0.0, inplace=False)\n",
       "          )\n",
       "          (layernorm_before): LayerNorm((768,), eps=1e-12, elementwise_affine=True)\n",
       "          (layernorm_after): LayerNorm((768,), eps=1e-12, elementwise_affine=True)\n",
       "        )\n",
       "      )\n",
       "    )\n",
       "    (layernorm): LayerNorm((768,), eps=1e-12, elementwise_affine=True)\n",
       "  )\n",
       "  (classifier): Linear(in_features=768, out_features=10, bias=True)\n",
       ")"
      ]
     },
     "execution_count": 7,
     "metadata": {},
     "output_type": "execute_result"
    }
   ],
   "source": [
    "model.eval()"
   ]
  },
  {
   "cell_type": "code",
   "execution_count": null,
   "metadata": {},
   "outputs": [],
   "source": [
    "dataset_part = base.get_dataset_part()"
   ]
  },
  {
   "cell_type": "markdown",
   "metadata": {},
   "source": [
    "Načtení již staženého datasetu CIFAR10. Nejprve se otevírá přímo stažený soubor pro přímý přístup k datům. Následně se obsah souboru načte taktéž do objektu, který dataset představuje a umožňuje s ním pohodlně pracovat. Objekt představující dataset aplikuje požadované transformace a přesouvá dataset na GPU (pokud je k dispozici).\n",
    "\n",
    "Následně se skrze dataloader dataset předává učitelskému modelu pro provedení inference a získání predikcí, které jsou k původnímu datasetu uloženy. V tomto případě jsou tyto kroky provedeny pro testovací a validační část datasetu. Validační část datasetu je v tomto případě tvořena 10 000 záznamů z trénovací částí (trénovací část je rozdělena do 5 souborů po 10 000 záznamech, pracujeme s posledním), jelikož dataset tuto část ve výchozím stavu neobsahuje.   "
   ]
  },
  {
   "cell_type": "code",
   "execution_count": 9,
   "metadata": {},
   "outputs": [
    {
     "data": {
      "application/vnd.jupyter.widget-view+json": {
       "model_id": "396a7402538e4accb9b91e80949c700d",
       "version_major": 2,
       "version_minor": 0
      },
      "text/plain": [
       "Generating logits for given dataset:   0%|          | 0/79 [00:00<?, ?it/s]"
      ]
     },
     "metadata": {},
     "output_type": "display_data"
    },
    {
     "data": {
      "application/vnd.jupyter.widget-view+json": {
       "model_id": "2a83ba59edca47a78e9b91926431e26a",
       "version_major": 2,
       "version_minor": 0
      },
      "text/plain": [
       "Generating logits for given dataset:   0%|          | 0/79 [00:00<?, ?it/s]"
      ]
     },
     "metadata": {},
     "output_type": "display_data"
    }
   ],
   "source": [
    "testing = base.unpickle(f\"{os.path.expanduser('~')}/data/10/cifar-10-batches-py/test_batch\")\n",
    "test_data = base.CustomCIFAR10(root=f\"{os.path.expanduser('~')}/data/10\", train=False, transform=transform, device=device)\n",
    "test_dataloader = DataLoader(test_data, batch_size=128, shuffle=False)\n",
    "\n",
    "logits_test = base.generate_logits(test_dataloader, model)\n",
    "testing[b\"logits\"] = logits_test\n",
    "base.pickle_up(f\"{os.path.expanduser('~')}/data/10-logits/cifar-10-batches-py/test\", testing)\n",
    "\n",
    "\n",
    "\n",
    "\n",
    "evaluating = base.unpickle(f\"{os.path.expanduser('~')}/data/10/cifar-10-batches-py/data_batch_5\")\n",
    "eval_data = base.CustomCIFAR10(root=f\"{os.path.expanduser('~')}/data/10\", train=True, batch=5, transform=transform, device=device)\n",
    "eval_dataloader = DataLoader(eval_data, batch_size=128, shuffle=False)\n",
    "\n",
    "logits_eval = base.generate_logits(eval_dataloader, model)\n",
    "evaluating[b\"logits\"] = logits_eval\n",
    "base.pickle_up(f\"{os.path.expanduser('~')}/data/10-logits/cifar-10-batches-py/eval\", evaluating)"
   ]
  },
  {
   "cell_type": "markdown",
   "metadata": {},
   "source": [
    "Vytvořené upravené podkladové soubory jsou načteny a je nad nimi spočtena správnost. Tedy do jaké míry jsou učitelské predikce spolehlivé."
   ]
  },
  {
   "cell_type": "code",
   "execution_count": 10,
   "metadata": {},
   "outputs": [
    {
     "data": {
      "application/vnd.jupyter.widget-view+json": {
       "model_id": "a043fe8285e646509eb24a034b4d4c9f",
       "version_major": 2,
       "version_minor": 0
      },
      "text/plain": [
       "Calculating accuracy based on the saved logits:   0%|          | 0/10000 [00:00<?, ?it/s]"
      ]
     },
     "metadata": {},
     "output_type": "display_data"
    },
    {
     "name": "stdout",
     "output_type": "stream",
     "text": [
      "Accuracy for test dataset is: 0.9508\n"
     ]
    },
    {
     "data": {
      "application/vnd.jupyter.widget-view+json": {
       "model_id": "281720d2c452493aa2f6d91e636e280b",
       "version_major": 2,
       "version_minor": 0
      },
      "text/plain": [
       "Calculating accuracy based on the saved logits:   0%|          | 0/10000 [00:00<?, ?it/s]"
      ]
     },
     "metadata": {},
     "output_type": "display_data"
    },
    {
     "name": "stdout",
     "output_type": "stream",
     "text": [
      "Accuracy for eval dataset is: 0.9583\n"
     ]
    }
   ],
   "source": [
    "test = base.CustomCIFAR10L(root=f\"{os.path.expanduser('~')}/data/10-logits\", dataset_part=dataset_part.TEST, transform=transform)\n",
    "eval = base.CustomCIFAR10L(root=f\"{os.path.expanduser('~')}/data/10-logits\", dataset_part=dataset_part.EVAL, transform=transform)\n",
    "\n",
    "print(base.check_acc(test, \"Accuracy for test dataset is:\"))\n",
    "print(base.check_acc(eval, \"Accuracy for eval dataset is:\"))"
   ]
  },
  {
   "cell_type": "markdown",
   "metadata": {},
   "source": [
    "Předpočítání logitů pro trénovací část probíhá stejným způsobem jako v předchozím případě. Postupně jsou načítány jednotlivé soubory obsahující trénovací data. Na data jsou aplikovány normální i augmentační transformace, přičemž pro obě varianty jsou získány predikce učitele, které jsou ukládány do výchozího souboru. "
   ]
  },
  {
   "cell_type": "code",
   "execution_count": 11,
   "metadata": {},
   "outputs": [],
   "source": [
    "base.reset_seed(42)\n",
    "for index in range(1,5):\n",
    "    data = base.unpickle(f\"{os.path.expanduser('~')}/data/10/cifar-10-batches-py/data_batch_{index}\")\n",
    "\n",
    "    train = base.CustomCIFAR10(root=f\"{os.path.expanduser('~')}/data/10\", batch=index, train=True, transform=transform, device=device)\n",
    "    train_augmented = base.CustomCIFAR10(root=f\"{os.path.expanduser('~')}/data/10\", batch=index, train=True, transform=augment_transform, device=device)\n",
    "    \n",
    "    train_dataloader = DataLoader(train, batch_size=64, shuffle=False)\n",
    "    train_dataloader_augmented = DataLoader(train_augmented, batch_size=64, shuffle=False)\n",
    "\n",
    "    logits_arr = base.generate_logits(train_dataloader, model)\n",
    "    logits_arr_aug = base.generate_logits(train_dataloader_augmented, model) \n",
    "\n",
    "    data[b\"logits\"] = logits_arr\n",
    "    data[b\"logits_aug\"] = logits_arr_aug\n",
    "    base.pickle_up(f\"{os.path.expanduser('~')}/data/10-logits/cifar-10-batches-py/train_batch_{index}\",data)"
   ]
  },
  {
   "cell_type": "markdown",
   "metadata": {},
   "source": [
    "Upravené datasety jsou opět pro ověření načteny a je nad nimi spočítáná správnost učitelských predikcí. \n",
    "\n",
    "Nejprve je ověřena správnost nad trénovací částí se základními transformacemi, následovaná částí pouze s augmentacemi. Jako poslední je ověřena kombinace obou částí."
   ]
  },
  {
   "cell_type": "code",
   "execution_count": 12,
   "metadata": {},
   "outputs": [],
   "source": [
    "train_aug = base.CustomCIFAR10L(root=f\"{os.path.expanduser('~')}/data/10-logits\", dataset_part=dataset_part.TRAIN, transform=augment_transform)\n",
    "train = base.CustomCIFAR10L(root=f\"{os.path.expanduser('~')}/data/10-logits\", dataset_part=dataset_part.TRAIN, transform=transform)\n",
    "train_combo = ConcatDataset([train, train_aug])"
   ]
  },
  {
   "cell_type": "markdown",
   "metadata": {},
   "source": [
    "Vzhledem k velmi slabé správnosti nad augmentovanou částí datasetu (kombinace zvětšení a následného otáčení a přetáčení) bylo přistoupeno k filtraci záznamů. V případě destilace je klíčové, aby se na učitele bylo možné spolehnout, což ani kombinace augmentovaného a výchozího datasetu neumožňuje. "
   ]
  },
  {
   "cell_type": "code",
   "execution_count": 13,
   "metadata": {},
   "outputs": [
    {
     "data": {
      "application/vnd.jupyter.widget-view+json": {
       "model_id": "8d4a4a881eeb476499629292d6556d00",
       "version_major": 2,
       "version_minor": 0
      },
      "text/plain": [
       "Calculating accuracy based on the saved logits:   0%|          | 0/40000 [00:00<?, ?it/s]"
      ]
     },
     "metadata": {},
     "output_type": "display_data"
    },
    {
     "name": "stdout",
     "output_type": "stream",
     "text": [
      "Accuracy for train dataset is: 0.954925\n"
     ]
    },
    {
     "data": {
      "application/vnd.jupyter.widget-view+json": {
       "model_id": "d3b8dcbdf6704ad79d5e527754768d11",
       "version_major": 2,
       "version_minor": 0
      },
      "text/plain": [
       "Calculating accuracy based on the saved logits:   0%|          | 0/40000 [00:00<?, ?it/s]"
      ]
     },
     "metadata": {},
     "output_type": "display_data"
    },
    {
     "name": "stdout",
     "output_type": "stream",
     "text": [
      "Accuracy for augmeted train dataset is: 0.686\n"
     ]
    },
    {
     "data": {
      "application/vnd.jupyter.widget-view+json": {
       "model_id": "bc7c98fc11ed4304870b026a91005dea",
       "version_major": 2,
       "version_minor": 0
      },
      "text/plain": [
       "Calculating accuracy based on the saved logits:   0%|          | 0/80000 [00:00<?, ?it/s]"
      ]
     },
     "metadata": {},
     "output_type": "display_data"
    },
    {
     "name": "stdout",
     "output_type": "stream",
     "text": [
      "Accuracy for combined dataset is: 0.8204625\n"
     ]
    }
   ],
   "source": [
    "print(base.check_acc(train, \"Accuracy for train dataset is:\"))\n",
    "print(base.check_acc(train_aug, \"Accuracy for augmeted train dataset is:\"))\n",
    "print(base.check_acc(train_combo, \"Accuracy for combined dataset is:\"))"
   ]
  },
  {
   "cell_type": "markdown",
   "metadata": {},
   "source": [
    "Filtrace záznamů probíhá na základě rozdílných predikcí učitele nad výchozím a augmentovaném datasetu. \n",
    "- Data jsou seřazena stejně.\n",
    "- Na základě spočtených logitů se určí predikce učitele pro výchozí dataset.\n",
    "- Na základě spočtených logitů se určí predikce učitele pro augmentovaný dataset.\n",
    "- Pokud se predikce liší, záznam je vymazán.\n",
    "\n",
    "Tímto způsobem nedochází k umělému navýšení výkonu učitele, vyfiltrovány totiž nejsou všechny chybné predikce. "
   ]
  },
  {
   "cell_type": "code",
   "execution_count": 14,
   "metadata": {},
   "outputs": [
    {
     "data": {
      "application/vnd.jupyter.widget-view+json": {
       "model_id": "15d33479b95e432ab461b1178920abcc",
       "version_major": 2,
       "version_minor": 0
      },
      "text/plain": [
       "Removing entries from augmented dataset that are different from the base one - based on saved logits:   0%|   …"
      ]
     },
     "metadata": {},
     "output_type": "display_data"
    }
   ],
   "source": [
    "train_aug = base.remove_diff_pred_class(train, train_aug, pytorch_dataset=True)\n",
    "train_combo = ConcatDataset([train, train_aug])"
   ]
  },
  {
   "cell_type": "markdown",
   "metadata": {},
   "source": [
    "Tímto přístupem přijdeme o relativně velkou část záznamů, nicméně správnost nad augmentovaným datasetem je nyní porovnatelná s výchozím. Student se tedy na predikce může více spoléhat. "
   ]
  },
  {
   "cell_type": "code",
   "execution_count": 15,
   "metadata": {},
   "outputs": [
    {
     "name": "stdout",
     "output_type": "stream",
     "text": [
      "28176\n"
     ]
    }
   ],
   "source": [
    "print(len(train_aug))"
   ]
  },
  {
   "cell_type": "code",
   "execution_count": 16,
   "metadata": {},
   "outputs": [
    {
     "data": {
      "application/vnd.jupyter.widget-view+json": {
       "model_id": "54cf00edbda549fdb890f7221e88c0c8",
       "version_major": 2,
       "version_minor": 0
      },
      "text/plain": [
       "Calculating accuracy based on the saved logits:   0%|          | 0/28176 [00:00<?, ?it/s]"
      ]
     },
     "metadata": {},
     "output_type": "display_data"
    },
    {
     "name": "stdout",
     "output_type": "stream",
     "text": [
      "Accuracy for filtered augmented dataset is: 0.9614565587734242\n"
     ]
    },
    {
     "data": {
      "application/vnd.jupyter.widget-view+json": {
       "model_id": "354cbcb06868423aa5a8ff20f41cc02b",
       "version_major": 2,
       "version_minor": 0
      },
      "text/plain": [
       "Calculating accuracy based on the saved logits:   0%|          | 0/68176 [00:00<?, ?it/s]"
      ]
     },
     "metadata": {},
     "output_type": "display_data"
    },
    {
     "name": "stdout",
     "output_type": "stream",
     "text": [
      "Accuracy for combined dataset is: 0.9576243839474302\n"
     ]
    }
   ],
   "source": [
    "print(base.check_acc(train_aug, \"Accuracy for filtered augmented dataset is:\"))\n",
    "print(base.check_acc(train_combo, \"Accuracy for combined dataset is:\"))"
   ]
  },
  {
   "cell_type": "markdown",
   "metadata": {},
   "source": [
    "Následně jsou již pouze získány informace o učitelském modelu (velikost, rychlost inference a další výkonnostní metriky nad datasetem)."
   ]
  },
  {
   "cell_type": "code",
   "execution_count": 17,
   "metadata": {},
   "outputs": [
    {
     "name": "stdout",
     "output_type": "stream",
     "text": [
      "model size: 327.325MB.\n",
      "Total Trainable Params: 85806346.\n"
     ]
    },
    {
     "data": {
      "text/html": [
       "<div>\n",
       "<style scoped>\n",
       "    .dataframe tbody tr th:only-of-type {\n",
       "        vertical-align: middle;\n",
       "    }\n",
       "\n",
       "    .dataframe tbody tr th {\n",
       "        vertical-align: top;\n",
       "    }\n",
       "\n",
       "    .dataframe thead tr th {\n",
       "        text-align: left;\n",
       "    }\n",
       "</style>\n",
       "<table border=\"1\" class=\"dataframe\">\n",
       "  <thead>\n",
       "    <tr>\n",
       "      <th></th>\n",
       "      <th>Modules</th>\n",
       "      <th>Parameters</th>\n",
       "    </tr>\n",
       "  </thead>\n",
       "  <tbody>\n",
       "    <tr>\n",
       "      <th>0</th>\n",
       "      <td>vit.embeddings.cls_token</td>\n",
       "      <td>768</td>\n",
       "    </tr>\n",
       "    <tr>\n",
       "      <th>1</th>\n",
       "      <td>vit.embeddings.position_embeddings</td>\n",
       "      <td>151296</td>\n",
       "    </tr>\n",
       "    <tr>\n",
       "      <th>2</th>\n",
       "      <td>vit.embeddings.patch_embeddings.projection.weight</td>\n",
       "      <td>589824</td>\n",
       "    </tr>\n",
       "    <tr>\n",
       "      <th>3</th>\n",
       "      <td>vit.embeddings.patch_embeddings.projection.bias</td>\n",
       "      <td>768</td>\n",
       "    </tr>\n",
       "    <tr>\n",
       "      <th>4</th>\n",
       "      <td>vit.encoder.layer.0.attention.attention.query....</td>\n",
       "      <td>589824</td>\n",
       "    </tr>\n",
       "    <tr>\n",
       "      <th>...</th>\n",
       "      <td>...</td>\n",
       "      <td>...</td>\n",
       "    </tr>\n",
       "    <tr>\n",
       "      <th>195</th>\n",
       "      <td>vit.encoder.layer.11.layernorm_after.bias</td>\n",
       "      <td>768</td>\n",
       "    </tr>\n",
       "    <tr>\n",
       "      <th>196</th>\n",
       "      <td>vit.layernorm.weight</td>\n",
       "      <td>768</td>\n",
       "    </tr>\n",
       "    <tr>\n",
       "      <th>197</th>\n",
       "      <td>vit.layernorm.bias</td>\n",
       "      <td>768</td>\n",
       "    </tr>\n",
       "    <tr>\n",
       "      <th>198</th>\n",
       "      <td>classifier.weight</td>\n",
       "      <td>7680</td>\n",
       "    </tr>\n",
       "    <tr>\n",
       "      <th>199</th>\n",
       "      <td>classifier.bias</td>\n",
       "      <td>10</td>\n",
       "    </tr>\n",
       "  </tbody>\n",
       "</table>\n",
       "<p>200 rows × 2 columns</p>\n",
       "</div>"
      ],
      "text/plain": [
       "                                               Modules Parameters\n",
       "0                             vit.embeddings.cls_token        768\n",
       "1                   vit.embeddings.position_embeddings     151296\n",
       "2    vit.embeddings.patch_embeddings.projection.weight     589824\n",
       "3      vit.embeddings.patch_embeddings.projection.bias        768\n",
       "4    vit.encoder.layer.0.attention.attention.query....     589824\n",
       "..                                                 ...        ...\n",
       "195          vit.encoder.layer.11.layernorm_after.bias        768\n",
       "196                               vit.layernorm.weight        768\n",
       "197                                 vit.layernorm.bias        768\n",
       "198                                  classifier.weight       7680\n",
       "199                                    classifier.bias         10\n",
       "\n",
       "[200 rows x 2 columns]"
      ]
     },
     "execution_count": 17,
     "metadata": {},
     "output_type": "execute_result"
    }
   ],
   "source": [
    "base.count_parameters(model)"
   ]
  },
  {
   "cell_type": "code",
   "execution_count": 18,
   "metadata": {},
   "outputs": [
    {
     "name": "stdout",
     "output_type": "stream",
     "text": [
      "<torch.utils.benchmark.utils.common.Measurement object at 0x7790c1dafaf0>\n",
      "self.infer_speed_comp()\n",
      "  220.89 ms\n",
      "  1 measurement, 1000 runs , 4 threads\n"
     ]
    }
   ],
   "source": [
    "train_part_cpu = base.CustomCIFAR10(root=f\"{os.path.expanduser('~')}/data/10\", batch=1, train=True, transform=transform, device=\"cpu\")\n",
    "cpu_data_loader = DataLoader(train_part_cpu, batch_size=1, shuffle=False)\n",
    "cpu_benchmark = base.BenchMarkRunner(model, cpu_data_loader, \"cpu\", 1000)\n",
    "\n",
    "print(cpu_benchmark.run_benchmark())"
   ]
  },
  {
   "cell_type": "code",
   "execution_count": 19,
   "metadata": {},
   "outputs": [
    {
     "name": "stdout",
     "output_type": "stream",
     "text": [
      "<torch.utils.benchmark.utils.common.Measurement object at 0x778f1eb81960>\n",
      "self.infer_speed_comp()\n",
      "  12.05 ms\n",
      "  1 measurement, 1000 runs , 4 threads\n"
     ]
    }
   ],
   "source": [
    "train_part_gpu = base.CustomCIFAR10(root=f\"{os.path.expanduser('~')}/data/10\", batch=1, train=True, transform=transform, device=\"cuda\")\n",
    "gpu_data_loader = DataLoader(train_part_gpu, batch_size=1, shuffle=False)\n",
    "gpu_benchmark = base.BenchMarkRunner(model, gpu_data_loader, \"cuda\", 1000)\n",
    "\n",
    "\n",
    "print(gpu_benchmark.run_benchmark())"
   ]
  },
  {
   "cell_type": "code",
   "execution_count": 4,
   "metadata": {},
   "outputs": [],
   "source": [
    "transform = base.base_transforms()\n",
    "dataset_part = base.get_dataset_part()\n",
    "test = base.CustomCIFAR10L(root=f\"{os.path.expanduser('~')}/data/10-logits\", dataset_part=dataset_part.TEST, transform=transform)"
   ]
  },
  {
   "cell_type": "code",
   "execution_count": null,
   "metadata": {},
   "outputs": [],
   "source": [
    "test_data_preds = []\n",
    "test_data_labels = []\n",
    "\n",
    "for index, val in enumerate(test):\n",
    "    test_data_preds.append(torch.topk(val[\"logits\"], k=1).indices.numpy()[0])\n",
    "    test_data_labels.append(val[\"labels\"])"
   ]
  },
  {
   "cell_type": "code",
   "execution_count": 34,
   "metadata": {},
   "outputs": [
    {
     "name": "stdout",
     "output_type": "stream",
     "text": [
      "F1 score: 0.9508764449007329\n",
      "Accuracy: 0.9508\n",
      "Precision: 0.9529362112257411\n",
      "Recall: 0.9507999999999999\n"
     ]
    }
   ],
   "source": [
    "f1 = f1_score(test_data_labels, test_data_preds, average=\"macro\")\n",
    "acc = accuracy_score(test_data_labels, test_data_preds)\n",
    "precision = precision_score(test_data_labels, test_data_preds, average=\"macro\")\n",
    "recall = recall_score(test_data_labels, test_data_preds, average=\"macro\")\n",
    "\n",
    "print(f\"F1 score: {f1}\")\n",
    "print(f\"Accuracy: {acc}\")\n",
    "print(f\"Precision: {precision}\")\n",
    "print(f\"Recall: {recall}\")"
   ]
  }
 ],
 "metadata": {
  "kernelspec": {
   "display_name": "Python 3 (ipykernel)",
   "language": "python",
   "name": "python3"
  }
 },
 "nbformat": 4,
 "nbformat_minor": 2
}
