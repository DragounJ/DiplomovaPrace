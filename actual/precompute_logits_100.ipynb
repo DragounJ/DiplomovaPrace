{
 "cells": [
  {
   "cell_type": "code",
   "execution_count": 62,
   "metadata": {},
   "outputs": [],
   "source": [
    "from transformers import AutoModelForImageClassification\n",
    "from torchvision.transforms import v2 as transformsv2\n",
    "from torch.utils.data import Dataset, Subset\n",
    "from tqdm.notebook import tqdm\n",
    "from enum import Enum\n",
    "from PIL import Image\n",
    "import numpy as np\n",
    "import pickle\n",
    "import random\n",
    "import torch\n",
    "import os"
   ]
  },
  {
   "cell_type": "code",
   "execution_count": 63,
   "metadata": {},
   "outputs": [
    {
     "name": "stdout",
     "output_type": "stream",
     "text": [
      "GPU is available and will be used: NVIDIA A100 80GB PCIe MIG 2g.20gb\n"
     ]
    }
   ],
   "source": [
    "if torch.cuda.is_available():\n",
    "    device = torch.device(\"cuda\")\n",
    "    print(\"GPU is available and will be used:\", torch.cuda.get_device_name(0))\n",
    "else:\n",
    "    device = torch.device(\"cpu\")\n",
    "    print(\"GPU is not available, using CPU.\")"
   ]
  },
  {
   "cell_type": "code",
   "execution_count": 64,
   "metadata": {},
   "outputs": [],
   "source": [
    "def reset_seed(seed=42):\n",
    "    torch.manual_seed(seed)\n",
    "    random.seed(seed)\n",
    "    np.random.seed(seed)\n",
    "    torch.cuda.manual_seed(seed)\n",
    "    torch.cuda.manual_seed_all(seed) \n",
    "    torch.backends.cudnn.deterministic = True\n",
    "    torch.backends.cudnn.benchmark = False\n",
    "    os.environ['PYTHONHASHSEED'] = str(seed)"
   ]
  },
  {
   "cell_type": "code",
   "execution_count": 65,
   "metadata": {},
   "outputs": [],
   "source": [
    "reset_seed(42)"
   ]
  },
  {
   "cell_type": "code",
   "execution_count": 66,
   "metadata": {},
   "outputs": [],
   "source": [
    "class CustomCIFAR100(Dataset):\n",
    "    def __init__(self, root, train=True, transform=None):\n",
    "        self.root = root\n",
    "        self.train = train\n",
    "        self.transform = transform\n",
    "\n",
    "        if self.train:\n",
    "            self.data_file = os.path.join(self.root, 'cifar-100-python', 'train')\n",
    "        else:\n",
    "            self.data_file = os.path.join(self.root, 'cifar-100-python', 'test')\n",
    "\n",
    "        with open(self.data_file, 'rb') as fo:\n",
    "            dict = pickle.load(fo, encoding='bytes')\n",
    "            self.data = dict[b'data']\n",
    "            self.labels = dict[b'fine_labels']\n",
    "\n",
    "\n",
    "    def __len__(self):\n",
    "        return len(self.data)\n",
    "\n",
    "    def __getitem__(self, index):\n",
    "        image = self.data[index].reshape(3, 32, 32).transpose(1, 2, 0)\n",
    "        label = torch.as_tensor(self.labels[index])\n",
    "        image = Image.fromarray(image.astype('uint8'), 'RGB')\n",
    "        \n",
    "        if self.transform:            \n",
    "            torch.manual_seed(index)\n",
    "            image = self.transform(image)\n",
    "\n",
    "        return  image.to(device), label.to(device)\n",
    "        "
   ]
  },
  {
   "cell_type": "code",
   "execution_count": 67,
   "metadata": {},
   "outputs": [],
   "source": [
    "reset_seed(42)"
   ]
  },
  {
   "cell_type": "code",
   "execution_count": 68,
   "metadata": {},
   "outputs": [],
   "source": [
    "transform = transformsv2.Compose([\n",
    "    transformsv2.ToImage(),\n",
    "    transformsv2.ToDtype(torch.float32, scale=True),\n",
    "    transformsv2.Resize((224, 224), antialias=True),\n",
    "    transformsv2.Normalize(mean=[0.485, 0.456, 0.406], std=[0.229, 0.224, 0.225]),\n",
    "])\n",
    "\n",
    "augment_transform = transformsv2.Compose([ \n",
    "    transformsv2.ToImage(),\n",
    "    transformsv2.ToDtype(torch.float32, scale=True),\n",
    "    transformsv2.Resize(size=(224, 224), antialias=True),\n",
    "    transformsv2.RandomHorizontalFlip(),\n",
    "    transformsv2.RandomVerticalFlip(),\n",
    "    transformsv2.RandomRotation(15),\n",
    "    transformsv2.Normalize(mean=[0.485, 0.456, 0.406], std=[0.229, 0.224, 0.225]),\n",
    "])\n",
    "\n",
    "train = CustomCIFAR100(root='./data/100', train=True, transform=transform)\n",
    "train_aug = CustomCIFAR100(root='./data/100', train=True, transform=augment_transform)"
   ]
  },
  {
   "cell_type": "code",
   "execution_count": 70,
   "metadata": {},
   "outputs": [],
   "source": [
    "from sklearn.model_selection import train_test_split\n",
    "train_idx, validation_idx = train_test_split(np.arange(len(train)),\n",
    "                                             test_size=0.2,\n",
    "                                             random_state=42,\n",
    "                                             shuffle=True,\n",
    "                                             stratify=train.labels)"
   ]
  },
  {
   "cell_type": "code",
   "execution_count": 71,
   "metadata": {},
   "outputs": [],
   "source": [
    "train = Subset(train, train_idx)\n",
    "train_aug = Subset(train_aug, train_idx)\n",
    "\n"
   ]
  },
  {
   "cell_type": "code",
   "execution_count": 90,
   "metadata": {},
   "outputs": [],
   "source": [
    "test = CustomCIFAR100(root='./data/100', train=False, transform=transform)\n",
    "eval = CustomCIFAR100(root='./data/100', train=True, transform=transform)"
   ]
  },
  {
   "cell_type": "code",
   "execution_count": 74,
   "metadata": {},
   "outputs": [],
   "source": [
    "eval = Subset(eval, validation_idx)"
   ]
  },
  {
   "cell_type": "code",
   "execution_count": 76,
   "metadata": {},
   "outputs": [],
   "source": [
    "train_dataloader = torch.utils.data.DataLoader(train, batch_size=128, shuffle=False)\n",
    "train_dataloader_aug = torch.utils.data.DataLoader(train_aug, batch_size=128, shuffle=False)"
   ]
  },
  {
   "cell_type": "code",
   "execution_count": 91,
   "metadata": {},
   "outputs": [],
   "source": [
    "eval_dataloder = torch.utils.data.DataLoader(eval, batch_size=128, shuffle=False)\n",
    "test_dataloader = torch.utils.data.DataLoader(test, batch_size=128, shuffle=False)"
   ]
  },
  {
   "cell_type": "code",
   "execution_count": 78,
   "metadata": {},
   "outputs": [
    {
     "data": {
      "text/plain": [
       "ViTForImageClassification(\n",
       "  (vit): ViTModel(\n",
       "    (embeddings): ViTEmbeddings(\n",
       "      (patch_embeddings): ViTPatchEmbeddings(\n",
       "        (projection): Conv2d(3, 768, kernel_size=(16, 16), stride=(16, 16))\n",
       "      )\n",
       "      (dropout): Dropout(p=0.0, inplace=False)\n",
       "    )\n",
       "    (encoder): ViTEncoder(\n",
       "      (layer): ModuleList(\n",
       "        (0-11): 12 x ViTLayer(\n",
       "          (attention): ViTSdpaAttention(\n",
       "            (attention): ViTSdpaSelfAttention(\n",
       "              (query): Linear(in_features=768, out_features=768, bias=True)\n",
       "              (key): Linear(in_features=768, out_features=768, bias=True)\n",
       "              (value): Linear(in_features=768, out_features=768, bias=True)\n",
       "              (dropout): Dropout(p=0.0, inplace=False)\n",
       "            )\n",
       "            (output): ViTSelfOutput(\n",
       "              (dense): Linear(in_features=768, out_features=768, bias=True)\n",
       "              (dropout): Dropout(p=0.0, inplace=False)\n",
       "            )\n",
       "          )\n",
       "          (intermediate): ViTIntermediate(\n",
       "            (dense): Linear(in_features=768, out_features=3072, bias=True)\n",
       "            (intermediate_act_fn): GELUActivation()\n",
       "          )\n",
       "          (output): ViTOutput(\n",
       "            (dense): Linear(in_features=3072, out_features=768, bias=True)\n",
       "            (dropout): Dropout(p=0.0, inplace=False)\n",
       "          )\n",
       "          (layernorm_before): LayerNorm((768,), eps=1e-12, elementwise_affine=True)\n",
       "          (layernorm_after): LayerNorm((768,), eps=1e-12, elementwise_affine=True)\n",
       "        )\n",
       "      )\n",
       "    )\n",
       "    (layernorm): LayerNorm((768,), eps=1e-12, elementwise_affine=True)\n",
       "  )\n",
       "  (classifier): Linear(in_features=768, out_features=100, bias=True)\n",
       ")"
      ]
     },
     "execution_count": 78,
     "metadata": {},
     "output_type": "execute_result"
    }
   ],
   "source": [
    "model = AutoModelForImageClassification.from_pretrained(\n",
    "    \"Ahmed9275/Vit-Cifar100\",\n",
    "    num_labels=100,\n",
    ")\n",
    "\n",
    "model.to(device)"
   ]
  },
  {
   "cell_type": "code",
   "execution_count": 79,
   "metadata": {},
   "outputs": [
    {
     "data": {
      "text/plain": [
       "ViTForImageClassification(\n",
       "  (vit): ViTModel(\n",
       "    (embeddings): ViTEmbeddings(\n",
       "      (patch_embeddings): ViTPatchEmbeddings(\n",
       "        (projection): Conv2d(3, 768, kernel_size=(16, 16), stride=(16, 16))\n",
       "      )\n",
       "      (dropout): Dropout(p=0.0, inplace=False)\n",
       "    )\n",
       "    (encoder): ViTEncoder(\n",
       "      (layer): ModuleList(\n",
       "        (0-11): 12 x ViTLayer(\n",
       "          (attention): ViTSdpaAttention(\n",
       "            (attention): ViTSdpaSelfAttention(\n",
       "              (query): Linear(in_features=768, out_features=768, bias=True)\n",
       "              (key): Linear(in_features=768, out_features=768, bias=True)\n",
       "              (value): Linear(in_features=768, out_features=768, bias=True)\n",
       "              (dropout): Dropout(p=0.0, inplace=False)\n",
       "            )\n",
       "            (output): ViTSelfOutput(\n",
       "              (dense): Linear(in_features=768, out_features=768, bias=True)\n",
       "              (dropout): Dropout(p=0.0, inplace=False)\n",
       "            )\n",
       "          )\n",
       "          (intermediate): ViTIntermediate(\n",
       "            (dense): Linear(in_features=768, out_features=3072, bias=True)\n",
       "            (intermediate_act_fn): GELUActivation()\n",
       "          )\n",
       "          (output): ViTOutput(\n",
       "            (dense): Linear(in_features=3072, out_features=768, bias=True)\n",
       "            (dropout): Dropout(p=0.0, inplace=False)\n",
       "          )\n",
       "          (layernorm_before): LayerNorm((768,), eps=1e-12, elementwise_affine=True)\n",
       "          (layernorm_after): LayerNorm((768,), eps=1e-12, elementwise_affine=True)\n",
       "        )\n",
       "      )\n",
       "    )\n",
       "    (layernorm): LayerNorm((768,), eps=1e-12, elementwise_affine=True)\n",
       "  )\n",
       "  (classifier): Linear(in_features=768, out_features=100, bias=True)\n",
       ")"
      ]
     },
     "execution_count": 79,
     "metadata": {},
     "output_type": "execute_result"
    }
   ],
   "source": [
    "model.eval()"
   ]
  },
  {
   "cell_type": "code",
   "execution_count": 80,
   "metadata": {},
   "outputs": [],
   "source": [
    "def unpickle(file):\n",
    "    with open(file, 'rb') as fo:\n",
    "        dict = pickle.load(fo, encoding='bytes')\n",
    "    return dict\n",
    "\n",
    "def pickle_up(file, contents):\n",
    "    with open(file, 'wb') as fo:\n",
    "        pickle.dump(contents, fo, protocol=pickle.HIGHEST_PROTOCOL)"
   ]
  },
  {
   "cell_type": "code",
   "execution_count": 81,
   "metadata": {},
   "outputs": [],
   "source": [
    "logits = []\n",
    "logits_aug = []"
   ]
  },
  {
   "cell_type": "code",
   "execution_count": 82,
   "metadata": {},
   "outputs": [],
   "source": [
    "def generate_logits(dataloder):\n",
    "\n",
    "    logits_arr = []\n",
    "    for batch in tqdm(dataloder):\n",
    "        pixel_values, labels = batch\n",
    "        with torch.no_grad():\n",
    "            outputs = model(pixel_values)\n",
    "            logits = outputs.logits\n",
    "        logits_arr.append(logits.cpu().numpy())\n",
    "    return logits_arr"
   ]
  },
  {
   "cell_type": "code",
   "execution_count": 83,
   "metadata": {},
   "outputs": [],
   "source": [
    "def flatten_logits(logits_arr):\n",
    "    logits_arr_flat = []\n",
    "    for tensor in logits_arr:\n",
    "        logits_arr_flat.extend(tensor)\n",
    "    return logits_arr_flat"
   ]
  },
  {
   "cell_type": "code",
   "execution_count": 84,
   "metadata": {},
   "outputs": [
    {
     "data": {
      "application/vnd.jupyter.widget-view+json": {
       "model_id": "6741260c240645f98f700f531d05fc8c",
       "version_major": 2,
       "version_minor": 0
      },
      "text/plain": [
       "  0%|          | 0/313 [00:00<?, ?it/s]"
      ]
     },
     "metadata": {},
     "output_type": "display_data"
    },
    {
     "data": {
      "application/vnd.jupyter.widget-view+json": {
       "model_id": "f6986e05fae24ba39b5f04de54b5eac4",
       "version_major": 2,
       "version_minor": 0
      },
      "text/plain": [
       "  0%|          | 0/313 [00:00<?, ?it/s]"
      ]
     },
     "metadata": {},
     "output_type": "display_data"
    },
    {
     "data": {
      "application/vnd.jupyter.widget-view+json": {
       "model_id": "e227f7ef8274455dbc3d4e7caa908c18",
       "version_major": 2,
       "version_minor": 0
      },
      "text/plain": [
       "  0%|          | 0/79 [00:00<?, ?it/s]"
      ]
     },
     "metadata": {},
     "output_type": "display_data"
    }
   ],
   "source": [
    "logits = generate_logits(train_dataloader)\n",
    "logits_aug = generate_logits(train_dataloader_aug)\n",
    "\n",
    "logits_eval = generate_logits(eval_dataloder)"
   ]
  },
  {
   "cell_type": "code",
   "execution_count": 92,
   "metadata": {},
   "outputs": [
    {
     "data": {
      "application/vnd.jupyter.widget-view+json": {
       "model_id": "442e87d887884bc29e646c87c63dc7c5",
       "version_major": 2,
       "version_minor": 0
      },
      "text/plain": [
       "  0%|          | 0/79 [00:00<?, ?it/s]"
      ]
     },
     "metadata": {},
     "output_type": "display_data"
    }
   ],
   "source": [
    "logits_test = generate_logits(test_dataloader)"
   ]
  },
  {
   "cell_type": "code",
   "execution_count": 85,
   "metadata": {},
   "outputs": [],
   "source": [
    "logits_flat = flatten_logits(logits)\n",
    "logits_aug_flat = flatten_logits(logits_aug)\n",
    "\n",
    "logits_eval_flat = flatten_logits(logits_eval)"
   ]
  },
  {
   "cell_type": "code",
   "execution_count": 93,
   "metadata": {},
   "outputs": [],
   "source": [
    "logits_test_flat = flatten_logits(logits_test)"
   ]
  },
  {
   "cell_type": "code",
   "execution_count": 86,
   "metadata": {},
   "outputs": [],
   "source": [
    "data_file = unpickle(\"data/100/cifar-100-python/train\")"
   ]
  },
  {
   "cell_type": "code",
   "execution_count": 87,
   "metadata": {},
   "outputs": [],
   "source": [
    "data = {key: [value[i] for i in train_idx] for key, value in data_file.items() if key != b\"batch_label\"}    \n",
    "eval_data = {key: [value[i] for i in validation_idx] for key, value in data_file.items() if key != b\"batch_label\"}    "
   ]
  },
  {
   "cell_type": "code",
   "execution_count": 88,
   "metadata": {},
   "outputs": [],
   "source": [
    "data[b\"logits\"] = logits_flat\n",
    "data[b\"logits_aug\"] = logits_aug_flat\n",
    "\n",
    "eval_data[b\"logits\"] = logits_eval_flat"
   ]
  },
  {
   "cell_type": "code",
   "execution_count": 94,
   "metadata": {},
   "outputs": [],
   "source": [
    "testing = unpickle(\"data/100/cifar-100-python/test\")\n",
    "testing[b\"logits\"] = logits_test_flat\n",
    "pickle_up(\"data/100-logits/cifar-100-python/test\", testing)"
   ]
  },
  {
   "cell_type": "code",
   "execution_count": 89,
   "metadata": {},
   "outputs": [],
   "source": [
    "pickle_up(\"data/100-logits/cifar-100-python/train\", data)\n",
    "pickle_up(\"data/100-logits/cifar-100-python/eval\", eval_data)"
   ]
  },
  {
   "cell_type": "code",
   "execution_count": 23,
   "metadata": {},
   "outputs": [],
   "source": [
    "dataset_part = Enum('dataset_part', [('TRAIN', 1), ('TEST', 2), ('EVAL', 3)])"
   ]
  },
  {
   "cell_type": "code",
   "execution_count": 34,
   "metadata": {},
   "outputs": [],
   "source": [
    "class CustomCIFAR100(Dataset):\n",
    "    def __init__(self, root, dataset_part = dataset_part.TRAIN, transform=None):\n",
    "        self.root = root\n",
    "        self.dataset_part = dataset_part\n",
    "        self.transform = transform\n",
    "        \n",
    "\n",
    "        self.data = []\n",
    "        self.targets = []\n",
    "        self.logits = []\n",
    "        self.logits_aug = []\n",
    "\n",
    "\n",
    "        if self.dataset_part == dataset_part.TRAIN:\n",
    "            data_file = os.path.join(self.root, 'cifar-100-python', 'train')\n",
    "        elif self.dataset_part == dataset_part.TEST:\n",
    "            data_file = os.path.join(self.root, 'cifar-100-python', 'test')\n",
    "        else:\n",
    "            data_file = os.path.join(self.root, 'cifar-100-python', 'eval')\n",
    "\n",
    "        with open(data_file, 'rb') as fo:\n",
    "            dict = pickle.load(fo, encoding='bytes')\n",
    "            self.data.append(dict[b'data'])\n",
    "            self.targets.extend(dict[b'fine_labels'])\n",
    "            self.logits.extend(dict[b'logits'])  \n",
    "            self.logits_aug.extend(dict[b'logits_aug'])   \n",
    "            \n",
    "        self.data = np.concatenate(self.data, axis=0)\n",
    "\n",
    "    def __len__(self):\n",
    "        return len(self.data)\n",
    "\n",
    "    def __getitem__(self, index):\n",
    "        image = self.data[index].reshape(3, 32, 32).transpose(1, 2, 0)\n",
    "        label = self.targets[index]\n",
    "        #logit = self.logits[index]\n",
    "        \n",
    "        image = Image.fromarray(image.astype('uint8'), 'RGB')\n",
    "        \n",
    "        if self.transform:\n",
    "            logit = self.logits[index] if len(self.transform.extra_repr()) < 300 else self.logits_aug[index]\n",
    "            torch.manual_seed(index)\n",
    "            image = self.transform(image)\n",
    "\n",
    "        logit = torch.tensor(logit, dtype=torch.float)\n",
    "\n",
    "        return {\n",
    "            'pixel_values': image,\n",
    "            'labels': label,\n",
    "            'logits': logit\n",
    "        }\n",
    "    \n",
    "    def remove_entries(self, remove_list):\n",
    "        self.data = np.delete(self.data, remove_list, axis=0)\n",
    "        self.targets = np.delete(self.targets, remove_list, axis=0)\n",
    "        self.logits = np.delete(self.logits, remove_list, axis=0)\n",
    "        self.logits_aug = np.delete(self.logits_aug, remove_list, axis=0)\n",
    "        \n",
    "    @property\n",
    "    def labels(self):\n",
    "        return self.targets"
   ]
  },
  {
   "cell_type": "code",
   "execution_count": 35,
   "metadata": {},
   "outputs": [],
   "source": [
    "train_aug = CustomCIFAR100(root='./data/100-logits', dataset_part=dataset_part.TRAIN, transform=augment_transform)\n",
    "train = CustomCIFAR100(root='./data/100-logits', dataset_part=dataset_part.TRAIN, transform=transform)\n",
    "train_combo = torch.utils.data.ConcatDataset([train, train_aug])"
   ]
  },
  {
   "cell_type": "code",
   "execution_count": 36,
   "metadata": {},
   "outputs": [],
   "source": [
    "def check_acc(dataset):\n",
    "    corr = []\n",
    "    for val in tqdm(dataset, desc = \"Progress for base train set\"):\n",
    "        if torch.topk(val[\"logits\"], k=1).indices.numpy()[0] == val[\"labels\"]:  corr.append(True)\n",
    "    \n",
    "    return(f\"Accuracy for base train set: {len(corr)/len(dataset)}\")  "
   ]
  },
  {
   "cell_type": "code",
   "execution_count": 37,
   "metadata": {},
   "outputs": [
    {
     "data": {
      "application/vnd.jupyter.widget-view+json": {
       "model_id": "d367f8ff79e448a4ad8ebc351c7933ed",
       "version_major": 2,
       "version_minor": 0
      },
      "text/plain": [
       "Progress for base train set:   0%|          | 0/40000 [00:00<?, ?it/s]"
      ]
     },
     "metadata": {},
     "output_type": "display_data"
    },
    {
     "name": "stdout",
     "output_type": "stream",
     "text": [
      "Accuracy for base train set: 0.94035\n"
     ]
    },
    {
     "data": {
      "application/vnd.jupyter.widget-view+json": {
       "model_id": "c13ebde34c0a4664abf23407509d6881",
       "version_major": 2,
       "version_minor": 0
      },
      "text/plain": [
       "Progress for base train set:   0%|          | 0/40000 [00:00<?, ?it/s]"
      ]
     },
     "metadata": {},
     "output_type": "display_data"
    },
    {
     "name": "stdout",
     "output_type": "stream",
     "text": [
      "Accuracy for base train set: 0.6315\n"
     ]
    },
    {
     "data": {
      "application/vnd.jupyter.widget-view+json": {
       "model_id": "f5d4c923940f4382b5a429c4cdcaab8b",
       "version_major": 2,
       "version_minor": 0
      },
      "text/plain": [
       "Progress for base train set:   0%|          | 0/80000 [00:00<?, ?it/s]"
      ]
     },
     "metadata": {},
     "output_type": "display_data"
    },
    {
     "name": "stdout",
     "output_type": "stream",
     "text": [
      "Accuracy for base train set: 0.785925\n"
     ]
    }
   ],
   "source": [
    "print(check_acc(train))\n",
    "print(check_acc(train_aug))\n",
    "print(check_acc(train_combo))"
   ]
  },
  {
   "cell_type": "code",
   "execution_count": 38,
   "metadata": {},
   "outputs": [],
   "source": [
    "rem_ls = []\n",
    "\n",
    "for index, val in enumerate(train_aug):\n",
    "    target_alt = torch.topk(val[\"logits\"], k=1).indices.numpy()[0]\n",
    "    target_act = torch.topk(train[index][\"logits\"], k=1).indices.numpy()[0]\n",
    "    if target_alt != target_act:\n",
    "        rem_ls.append(index)"
   ]
  },
  {
   "cell_type": "code",
   "execution_count": 39,
   "metadata": {},
   "outputs": [],
   "source": [
    "train_aug.remove_entries(rem_ls)\n",
    "train_combo = torch.utils.data.ConcatDataset([train, train_aug])"
   ]
  },
  {
   "cell_type": "code",
   "execution_count": 40,
   "metadata": {},
   "outputs": [
    {
     "data": {
      "application/vnd.jupyter.widget-view+json": {
       "model_id": "f475898067b841858bca967fcceae602",
       "version_major": 2,
       "version_minor": 0
      },
      "text/plain": [
       "Progress for base train set:   0%|          | 0/25912 [00:00<?, ?it/s]"
      ]
     },
     "metadata": {},
     "output_type": "display_data"
    },
    {
     "name": "stdout",
     "output_type": "stream",
     "text": [
      "Accuracy for base train set: 0.9609833281877123\n"
     ]
    },
    {
     "data": {
      "application/vnd.jupyter.widget-view+json": {
       "model_id": "37abb98d444145b288519aafa9d27802",
       "version_major": 2,
       "version_minor": 0
      },
      "text/plain": [
       "Progress for base train set:   0%|          | 0/65912 [00:00<?, ?it/s]"
      ]
     },
     "metadata": {},
     "output_type": "display_data"
    },
    {
     "name": "stdout",
     "output_type": "stream",
     "text": [
      "Accuracy for base train set: 0.9484615851438282\n"
     ]
    }
   ],
   "source": [
    "print(check_acc(train_aug))\n",
    "print(check_acc(train_combo))"
   ]
  },
  {
   "cell_type": "code",
   "execution_count": null,
   "metadata": {},
   "outputs": [],
   "source": []
  }
 ],
 "metadata": {
  "kernelspec": {
   "display_name": "Python 3 (ipykernel)",
   "language": "python",
   "name": "python3"
  }
 },
 "nbformat": 4,
 "nbformat_minor": 2
}
